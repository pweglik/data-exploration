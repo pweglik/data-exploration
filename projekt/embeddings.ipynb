{
 "cells": [
  {
   "cell_type": "code",
   "execution_count": 1,
   "id": "310d7e78-ed0f-4687-bb1c-eab39d840056",
   "metadata": {},
   "outputs": [],
   "source": [
    "from skfp.fingerprints import AtomPairFingerprint\n",
    "\n",
    "from graph_utils import Graph\n",
    "from data_utils import read_compounds\n",
    "\n",
    "import pandas as pd\n",
    "import numpy as np"
   ]
  },
  {
   "cell_type": "code",
   "execution_count": 2,
   "id": "84b60038-9f49-4a3e-aa85-38e554e78ee9",
   "metadata": {
    "scrolled": true
   },
   "outputs": [
    {
     "name": "stdout",
     "output_type": "stream",
     "text": [
      "error CPD-25306\n"
     ]
    },
    {
     "name": "stderr",
     "output_type": "stream",
     "text": [
      "[09:28:55] Conflicting single bond directions around double bond at index 8.\n",
      "[09:28:55]   BondStereo set to STEREONONE and single bond directions set to NONE.\n",
      "[09:28:55] Conflicting single bond directions around double bond at index 18.\n",
      "[09:28:55]   BondStereo set to STEREONONE and single bond directions set to NONE.\n",
      "[09:28:55] Conflicting single bond directions around double bond at index 18.\n",
      "[09:28:55]   BondStereo set to STEREONONE and single bond directions set to NONE.\n",
      "[09:28:55] Conflicting single bond directions around double bond at index 18.\n",
      "[09:28:55]   BondStereo set to STEREONONE and single bond directions set to NONE.\n",
      "[09:28:55] Conflicting single bond directions around double bond at index 18.\n",
      "[09:28:55]   BondStereo set to STEREONONE and single bond directions set to NONE.\n",
      "[09:28:55] Conflicting single bond directions around double bond at index 18.\n",
      "[09:28:55]   BondStereo set to STEREONONE and single bond directions set to NONE.\n",
      "[09:28:55] Conflicting single bond directions around double bond at index 18.\n",
      "[09:28:55]   BondStereo set to STEREONONE and single bond directions set to NONE.\n",
      "[09:28:55] Conflicting single bond directions around double bond at index 18.\n",
      "[09:28:55]   BondStereo set to STEREONONE and single bond directions set to NONE.\n",
      "[09:28:55] Conflicting single bond directions around double bond at index 18.\n",
      "[09:28:55]   BondStereo set to STEREONONE and single bond directions set to NONE.\n",
      "[09:28:56] Conflicting single bond directions around double bond at index 18.\n",
      "[09:28:56]   BondStereo set to STEREONONE and single bond directions set to NONE.\n",
      "[09:28:56] SMILES Parse Error: syntax error while parsing: C[C@]15(C(=O)NC(=O)N([C@@H]4(O[C@H](COP(O[C@H]3(C[C@H](N2(\\C=C(C1)/C(=O)NC2=O))O[C@H](COP(=O)([O-])O[a\n",
      "[09:28:56] SMILES Parse Error: Failed parsing SMILES 'C[C@]15(C(=O)NC(=O)N([C@@H]4(O[C@H](COP(O[C@H]3(C[C@H](N2(\\C=C(C1)/C(=O)NC2=O))O[C@H](COP(=O)([O-])O[a' for input: 'C[C@]15(C(=O)NC(=O)N([C@@H]4(O[C@H](COP(O[C@H]3(C[C@H](N2(\\C=C(C1)/C(=O)NC2=O))O[C@H](COP(=O)([O-])O[a'\n",
      "[09:28:56] SMILES Parse Error: syntax error while parsing: C[C@]15(CN([C@@H]4(O[C@H](COP(=O)([O-])O[a\n",
      "[09:28:56] SMILES Parse Error: Failed parsing SMILES 'C[C@]15(CN([C@@H]4(O[C@H](COP(=O)([O-])O[a' for input: 'C[C@]15(CN([C@@H]4(O[C@H](COP(=O)([O-])O[a'\n",
      "[09:28:56] Conflicting single bond directions around double bond at index 24.\n",
      "[09:28:56]   BondStereo set to STEREONONE and single bond directions set to NONE.\n"
     ]
    },
    {
     "name": "stdout",
     "output_type": "stream",
     "text": [
      "error CPD-11654\n",
      "error CPD-11642\n",
      "error CPD-12060\n",
      "error CPD-12054\n",
      "error CPD-12051\n",
      "error CPD-12063\n",
      "error CPD-23319\n",
      "error CPD-12061\n",
      "error CPD0-2682\n"
     ]
    },
    {
     "name": "stderr",
     "output_type": "stream",
     "text": [
      "[09:28:57] SMILES Parse Error: syntax error while parsing: C1([R])([C@@H](CO)O[C@@H]([C@@H]([C@H]1O)O)O[C@@H]2([C@@H](CO)O[C@@H]([C@@H]([C@H]2O)O)O[C@@H]3([C@@H](CO)O[C@@H]([C@@H]([C@H]3O)O)O[R])))\n",
      "[09:28:57] SMILES Parse Error: Failed parsing SMILES 'C1([R])([C@@H](CO)O[C@@H]([C@@H]([C@H]1O)O)O[C@@H]2([C@@H](CO)O[C@@H]([C@@H]([C@H]2O)O)O[C@@H]3([C@@H](CO)O[C@@H]([C@@H]([C@H]3O)O)O[R])))' for input: 'C1([R])([C@@H](CO)O[C@@H]([C@@H]([C@H]1O)O)O[C@@H]2([C@@H](CO)O[C@@H]([C@@H]([C@H]2O)O)O[C@@H]3([C@@H](CO)O[C@@H]([C@@H]([C@H]3O)O)O[R])))'\n",
      "[09:28:57] SMILES Parse Error: syntax error while parsing: C(O)[C@H](O)COC(O)[R]\n",
      "[09:28:57] SMILES Parse Error: Failed parsing SMILES 'C(O)[C@H](O)COC(O)[R]' for input: 'C(O)[C@H](O)COC(O)[R]'\n"
     ]
    },
    {
     "name": "stdout",
     "output_type": "stream",
     "text": [
      "error CPD-8576\n",
      "error 1-HYDROXYALKYL-SN-GLYCEROL\n",
      "error AMINO-ETC-METHYLPYRIMIDINIUM\n",
      "error HYDROXY-ETC-METHYLPYRIMIDINIUM\n"
     ]
    },
    {
     "name": "stderr",
     "output_type": "stream",
     "text": [
      "[09:28:58] SMILES Parse Error: syntax error while parsing: CCCCC\\C=C/C\\C=C/C\\C=C/C\\C=C/CCCC(=O)O[C@@H](COP([O-])(=O)OCC[N+](C)(C)C)CO[R]\n",
      "[09:28:58] SMILES Parse Error: Failed parsing SMILES 'CCCCC\\C=C/C\\C=C/C\\C=C/C\\C=C/CCCC(=O)O[C@@H](COP([O-])(=O)OCC[N+](C)(C)C)CO[R]' for input: 'CCCCC\\C=C/C\\C=C/C\\C=C/C\\C=C/CCCC(=O)O[C@@H](COP([O-])(=O)OCC[N+](C)(C)C)CO[R]'\n",
      "[09:28:58] SMILES Parse Error: syntax error while parsing: CCCCC\\C=C/C\\C=C/C\\C=C/C\\C=C/CCCC(=O)O[C@@H](COP([O-])(=O)OCC[NH3+])CO[R]\n",
      "[09:28:58] SMILES Parse Error: Failed parsing SMILES 'CCCCC\\C=C/C\\C=C/C\\C=C/C\\C=C/CCCC(=O)O[C@@H](COP([O-])(=O)OCC[NH3+])CO[R]' for input: 'CCCCC\\C=C/C\\C=C/C\\C=C/C\\C=C/CCCC(=O)O[C@@H](COP([O-])(=O)OCC[NH3+])CO[R]'\n",
      "[09:28:58] Explicit valence for atom # 39 N, 4, is greater than permitted\n",
      "[09:28:58] Conflicting single bond directions around double bond at index 12.\n",
      "[09:28:58]   BondStereo set to STEREONONE and single bond directions set to NONE.\n",
      "[09:28:58] Conflicting single bond directions around double bond at index 17.\n",
      "[09:28:58]   BondStereo set to STEREONONE and single bond directions set to NONE.\n",
      "[09:28:58] SMILES Parse Error: syntax error while parsing: CC(=O)O[C@@H](CO)COC[R]\n",
      "[09:28:58] SMILES Parse Error: Failed parsing SMILES 'CC(=O)O[C@@H](CO)COC[R]' for input: 'CC(=O)O[C@@H](CO)COC[R]'\n",
      "[09:28:58] SMILES Parse Error: syntax error while parsing: C(O)[C@H](O)COC[R]\n",
      "[09:28:58] SMILES Parse Error: Failed parsing SMILES 'C(O)[C@H](O)COC[R]' for input: 'C(O)[C@H](O)COC[R]'\n",
      "[09:28:58] SMILES Parse Error: syntax error while parsing: CC(=O)O[C@H](CO[R1])COP(=O)([O-])O[R2]\n",
      "[09:28:58] SMILES Parse Error: Failed parsing SMILES 'CC(=O)O[C@H](CO[R1])COP(=O)([O-])O[R2]' for input: 'CC(=O)O[C@H](CO[R1])COP(=O)([O-])O[R2]'\n",
      "[09:28:58] Conflicting single bond directions around double bond at index 17.\n",
      "[09:28:58]   BondStereo set to STEREONONE and single bond directions set to NONE.\n",
      "[09:28:58] Conflicting single bond directions around double bond at index 17.\n",
      "[09:28:58]   BondStereo set to STEREONONE and single bond directions set to NONE.\n",
      "[09:28:58] Conflicting single bond directions around double bond at index 17.\n",
      "[09:28:58]   BondStereo set to STEREONONE and single bond directions set to NONE.\n"
     ]
    },
    {
     "name": "stdout",
     "output_type": "stream",
     "text": [
      "error 1-ALKYL-2-ARACHIDONYL-SN-GLYCERO-3-PCHOL\n",
      "error 1-ALKYL-2-ARACHIDONYL-SN-GLYCERO-3-PETH\n",
      "error CPD-21244\n",
      "error 1-O-ALKYL-2-ACETYL-SN-GLYCEROL\n",
      "error 1-ALKYL-SN-GLYCEROL\n",
      "error CPD0-2669\n",
      "error CPD0-2668\n",
      "error 1-RADYL-2-ACETYL-SN-GLYCERO-3-PHOSPHOLIP\n"
     ]
    },
    {
     "name": "stderr",
     "output_type": "stream",
     "text": [
      "[09:28:58] Conflicting single bond directions around double bond at index 17.\n",
      "[09:28:58]   BondStereo set to STEREONONE and single bond directions set to NONE.\n",
      "[09:28:58] Conflicting single bond directions around double bond at index 17.\n",
      "[09:28:58]   BondStereo set to STEREONONE and single bond directions set to NONE.\n",
      "[09:28:58] Conflicting single bond directions around double bond at index 17.\n",
      "[09:28:58]   BondStereo set to STEREONONE and single bond directions set to NONE.\n",
      "[09:28:58] Conflicting single bond directions around double bond at index 10.\n",
      "[09:28:58]   BondStereo set to STEREONONE and single bond directions set to NONE.\n",
      "[09:28:58] Conflicting single bond directions around double bond at index 17.\n",
      "[09:28:58]   BondStereo set to STEREONONE and single bond directions set to NONE.\n",
      "[09:28:58] Conflicting single bond directions around double bond at index 17.\n",
      "[09:28:58]   BondStereo set to STEREONONE and single bond directions set to NONE.\n",
      "[09:28:58] Conflicting single bond directions around double bond at index 28.\n",
      "[09:28:58]   BondStereo set to STEREONONE and single bond directions set to NONE.\n",
      "[09:28:58] Conflicting single bond directions around double bond at index 30.\n",
      "[09:28:58]   BondStereo set to STEREONONE and single bond directions set to NONE.\n"
     ]
    },
    {
     "name": "stdout",
     "output_type": "stream",
     "text": [
      "error CPD0-2684\n",
      "error CPD0-2698\n"
     ]
    },
    {
     "name": "stderr",
     "output_type": "stream",
     "text": [
      "[09:28:58] Conflicting single bond directions around double bond at index 17.\n",
      "[09:28:58]   BondStereo set to STEREONONE and single bond directions set to NONE.\n",
      "[09:28:59] Conflicting single bond directions around double bond at index 3.\n",
      "[09:28:59]   BondStereo set to STEREONONE and single bond directions set to NONE.\n",
      "[09:28:59] Conflicting single bond directions around double bond at index 8.\n",
      "[09:28:59]   BondStereo set to STEREONONE and single bond directions set to NONE.\n",
      "[09:28:59] SMILES Parse Error: syntax error while parsing: CC(C)(COP(=O)([O-])OC[C@H](N[a\n",
      "[09:28:59] SMILES Parse Error: Failed parsing SMILES 'CC(C)(COP(=O)([O-])OC[C@H](N[a' for input: 'CC(C)(COP(=O)([O-])OC[C@H](N[a'\n",
      "[09:28:59] SMILES Parse Error: syntax error while parsing: CC(C)=CCNC1(\\C2(\\N=C/N(C(/N=C(/N=1)/SC)=2)[C@@H]3(O[C@H](COP(=O)([O-])O[a\n",
      "[09:28:59] SMILES Parse Error: Failed parsing SMILES 'CC(C)=CCNC1(\\C2(\\N=C/N(C(/N=C(/N=1)/SC)=2)[C@@H]3(O[C@H](COP(=O)([O-])O[a' for input: 'CC(C)=CCNC1(\\C2(\\N=C/N(C(/N=C(/N=1)/SC)=2)[C@@H]3(O[C@H](COP(=O)([O-])O[a'\n"
     ]
    },
    {
     "name": "stdout",
     "output_type": "stream",
     "text": [
      "error CPD-25823\n",
      "error CPD-21794\n",
      "error CPD-23659\n",
      "error CPD-11592\n",
      "error 2-ARYL-2-METHYLMALONATE\n",
      "error 2-ARYLPROPIONATE\n",
      "error CPD0-2679\n",
      "error CPD-25551\n",
      "error CPD-19845\n",
      "error CPD-9968\n",
      "error CPD-9969\n",
      "error CPD-9970\n",
      "error CPD-9971\n",
      "error CPD-9732\n",
      "error CPD-9731\n",
      "error DEMETHYLMENAQUINONE\n",
      "error CPD-9733\n",
      "error CPD0-2676\n",
      "error CPD0-2699\n",
      "error CPD-15100\n"
     ]
    },
    {
     "name": "stderr",
     "output_type": "stream",
     "text": [
      "[09:28:59] SMILES Parse Error: syntax error while parsing: CC([R])(C(=O)[O-])C(=O)[O-]\n",
      "[09:28:59] SMILES Parse Error: Failed parsing SMILES 'CC([R])(C(=O)[O-])C(=O)[O-]' for input: 'CC([R])(C(=O)[O-])C(=O)[O-]'\n",
      "[09:28:59] SMILES Parse Error: syntax error while parsing: CC([R])C(=O)[O-]\n",
      "[09:28:59] SMILES Parse Error: Failed parsing SMILES 'CC([R])C(=O)[O-]' for input: 'CC([R])C(=O)[O-]'\n",
      "[09:28:59] Conflicting single bond directions around double bond at index 3.\n",
      "[09:28:59]   BondStereo set to STEREONONE and single bond directions set to NONE.\n",
      "[09:28:59] Conflicting single bond directions around double bond at index 2.\n",
      "[09:28:59]   BondStereo set to STEREONONE and single bond directions set to NONE.\n",
      "[09:28:59] SMILES Parse Error: syntax error while parsing: C1([R4])(=C([R3])C(=O)C(/[R3])=C([R1])/C(=O)1)\n",
      "[09:28:59] SMILES Parse Error: Failed parsing SMILES 'C1([R4])(=C([R3])C(=O)C(/[R3])=C([R1])/C(=O)1)' for input: 'C1([R4])(=C([R3])C(=O)C(/[R3])=C([R1])/C(=O)1)'\n",
      "[09:28:59] SMILES Parse Error: syntax error while parsing: C1([R4])(=C([R3])C(=O)C(/[R3])=C([R1])/C(=O)1)\n",
      "[09:28:59] SMILES Parse Error: Failed parsing SMILES 'C1([R4])(=C([R3])C(=O)C(/[R3])=C([R1])/C(=O)1)' for input: 'C1([R4])(=C([R3])C(=O)C(/[R3])=C([R1])/C(=O)1)'\n",
      "[09:28:59] SMILES Parse Error: syntax error while parsing: C1([R4])(=C([R3])C(=O)C(/[R3])=C([R1])/C(=O)1)\n",
      "[09:28:59] SMILES Parse Error: Failed parsing SMILES 'C1([R4])(=C([R3])C(=O)C(/[R3])=C([R1])/C(=O)1)' for input: 'C1([R4])(=C([R3])C(=O)C(/[R3])=C([R1])/C(=O)1)'\n",
      "[09:28:59] SMILES Parse Error: syntax error while parsing: C1([R4])(=C([R3])C(=O)C(/[R3])=C([R1])/C(=O)1)\n",
      "[09:28:59] SMILES Parse Error: Failed parsing SMILES 'C1([R4])(=C([R3])C(=O)C(/[R3])=C([R1])/C(=O)1)' for input: 'C1([R4])(=C([R3])C(=O)C(/[R3])=C([R1])/C(=O)1)'\n",
      "[09:28:59] SMILES Parse Error: syntax error while parsing: C1([R4])(=C([R3])C(=O)C(/[R3])=C([R1])/C(=O)1)\n",
      "[09:28:59] SMILES Parse Error: Failed parsing SMILES 'C1([R4])(=C([R3])C(=O)C(/[R3])=C([R1])/C(=O)1)' for input: 'C1([R4])(=C([R3])C(=O)C(/[R3])=C([R1])/C(=O)1)'\n",
      "[09:28:59] SMILES Parse Error: syntax error while parsing: C1([R4])(=C([R3])C(=O)C(/[R3])=C([R1])/C(=O)1)\n",
      "[09:28:59] SMILES Parse Error: Failed parsing SMILES 'C1([R4])(=C([R3])C(=O)C(/[R3])=C([R1])/C(=O)1)' for input: 'C1([R4])(=C([R3])C(=O)C(/[R3])=C([R1])/C(=O)1)'\n",
      "[09:28:59] SMILES Parse Error: syntax error while parsing: C1([R4])(=C([R3])C(=O)C(/[R3])=C([R1])/C(=O)1)\n",
      "[09:28:59] SMILES Parse Error: Failed parsing SMILES 'C1([R4])(=C([R3])C(=O)C(/[R3])=C([R1])/C(=O)1)' for input: 'C1([R4])(=C([R3])C(=O)C(/[R3])=C([R1])/C(=O)1)'\n",
      "[09:28:59] SMILES Parse Error: syntax error while parsing: C1([R4])(=C([R3])C(=O)C(/[R3])=C([R1])/C(=O)1)\n",
      "[09:28:59] SMILES Parse Error: Failed parsing SMILES 'C1([R4])(=C([R3])C(=O)C(/[R3])=C([R1])/C(=O)1)' for input: 'C1([R4])(=C([R3])C(=O)C(/[R3])=C([R1])/C(=O)1)'\n",
      "[09:28:59] SMILES Parse Error: syntax error while parsing: C1([R4])(=C([R3])C(=O)C(/[R3])=C([R1])/C(=O)1)\n",
      "[09:28:59] SMILES Parse Error: Failed parsing SMILES 'C1([R4])(=C([R3])C(=O)C(/[R3])=C([R1])/C(=O)1)' for input: 'C1([R4])(=C([R3])C(=O)C(/[R3])=C([R1])/C(=O)1)'\n",
      "[09:28:59] SMILES Parse Error: syntax error while parsing: C1([R4])(=C([R3])C(=O)C(/[R3])=C([R1])/C(=O)1)\n",
      "[09:28:59] SMILES Parse Error: Failed parsing SMILES 'C1([R4])(=C([R3])C(=O)C(/[R3])=C([R1])/C(=O)1)' for input: 'C1([R4])(=C([R3])C(=O)C(/[R3])=C([R1])/C(=O)1)'\n",
      "[09:28:59] SMILES Parse Error: syntax error while parsing: CC([R])C(O)C(=O)SCCNC(=O)CCNC(=O)[C@H](O)C(C)(C)COP(=O)(OP(=O)(OC[C@@H]1([C@@H](OP([O-])(=O)[O-])[C@@H](O)[C@@H](O1)N2(C3(\\N=C/N=C(C(\\N=C/2)=3)/N))))[O-])[O-]\n",
      "[09:28:59] SMILES Parse Error: Failed parsing SMILES 'CC([R])C(O)C(=O)SCCNC(=O)CCNC(=O)[C@H](O)C(C)(C)COP(=O)(OP(=O)(OC[C@@H]1([C@@H](OP([O-])(=O)[O-])[C@@H](O)[C@@H](O1)N2(C3(\\N=C/N=C(C(\\N=C/2)=3)/N))))[O-])[O-]' for input: 'CC([R])C(O)C(=O)SCCNC(=O)CCNC(=O)[C@H](O)C(C)(C)COP(=O)(OP(=O)(OC[C@@H]1([C@@H](OP([O-])(=O)[O-])[C@@H](O)[C@@H](O1)N2(C3(\\N=C/N=C(C(\\N=C/2)=3)/N))))[O-])[O-]'\n",
      "[09:28:59] SMILES Parse Error: syntax error while parsing: C1([R4])(=C([R3])C(=O)C(/[R3])=C([R1])/C(=O)1)\n",
      "[09:28:59] SMILES Parse Error: Failed parsing SMILES 'C1([R4])(=C([R3])C(=O)C(/[R3])=C([R1])/C(=O)1)' for input: 'C1([R4])(=C([R3])C(=O)C(/[R3])=C([R1])/C(=O)1)'\n"
     ]
    },
    {
     "name": "stdout",
     "output_type": "stream",
     "text": [
      "error CPD0-2703\n",
      "error CPD-21316\n",
      "error 2-OXOALDEHYDE\n"
     ]
    },
    {
     "name": "stderr",
     "output_type": "stream",
     "text": [
      "[09:28:59] SMILES Parse Error: syntax error while parsing: C(=O)C(=O)[R]\n",
      "[09:28:59] SMILES Parse Error: Failed parsing SMILES 'C(=O)C(=O)[R]' for input: 'C(=O)C(=O)[R]'\n",
      "[09:28:59] Conflicting single bond directions around double bond at index 8.\n",
      "[09:28:59]   BondStereo set to STEREONONE and single bond directions set to NONE.\n",
      "[09:28:59] Conflicting single bond directions around double bond at index 1.\n",
      "[09:28:59]   BondStereo set to STEREONONE and single bond directions set to NONE.\n",
      "[09:28:59] Conflicting single bond directions around double bond at index 1.\n",
      "[09:28:59]   BondStereo set to STEREONONE and single bond directions set to NONE.\n",
      "[09:28:59] Conflicting single bond directions around double bond at index 1.\n",
      "[09:28:59]   BondStereo set to STEREONONE and single bond directions set to NONE.\n",
      "[09:28:59] Conflicting single bond directions around double bond at index 1.\n",
      "[09:28:59]   BondStereo set to STEREONONE and single bond directions set to NONE.\n",
      "[09:28:59] Conflicting single bond directions around double bond at index 17.\n",
      "[09:28:59]   BondStereo set to STEREONONE and single bond directions set to NONE.\n",
      "[09:28:59] Conflicting single bond directions around double bond at index 17.\n",
      "[09:28:59]   BondStereo set to STEREONONE and single bond directions set to NONE.\n",
      "[09:28:59] Conflicting single bond directions around double bond at index 12.\n",
      "[09:28:59]   BondStereo set to STEREONONE and single bond directions set to NONE.\n",
      "[09:28:59] Conflicting single bond directions around double bond at index 17.\n",
      "[09:28:59]   BondStereo set to STEREONONE and single bond directions set to NONE.\n",
      "[09:28:59] SMILES Parse Error: syntax error while parsing: CCC(=O)CC(=O)CC(=O)CC(=O)CC(=O)CC(=O)CC(=O)CC(=O)CC(=O)CC(SCCNC(=O)CCNC([C@H](O)C(C)(C)COP(=O)([O-])OC[C@H](N[a\n",
      "[09:28:59] SMILES Parse Error: Failed parsing SMILES 'CCC(=O)CC(=O)CC(=O)CC(=O)CC(=O)CC(=O)CC(=O)CC(=O)CC(=O)CC(SCCNC(=O)CCNC([C@H](O)C(C)(C)COP(=O)([O-])OC[C@H](N[a' for input: 'CCC(=O)CC(=O)CC(=O)CC(=O)CC(=O)CC(=O)CC(=O)CC(=O)CC(=O)CC(SCCNC(=O)CCNC([C@H](O)C(C)(C)COP(=O)([O-])OC[C@H](N[a'\n"
     ]
    },
    {
     "name": "stdout",
     "output_type": "stream",
     "text": [
      "error CPD-15754\n"
     ]
    },
    {
     "name": "stderr",
     "output_type": "stream",
     "text": [
      "[09:29:00] Conflicting single bond directions around double bond at index 7.\n",
      "[09:29:00]   BondStereo set to STEREONONE and single bond directions set to NONE.\n",
      "[09:29:00] Conflicting single bond directions around double bond at index 12.\n",
      "[09:29:00]   BondStereo set to STEREONONE and single bond directions set to NONE.\n",
      "[09:29:00] Conflicting single bond directions around double bond at index 17.\n",
      "[09:29:00]   BondStereo set to STEREONONE and single bond directions set to NONE.\n",
      "[09:29:00] Conflicting single bond directions around double bond at index 12.\n",
      "[09:29:00]   BondStereo set to STEREONONE and single bond directions set to NONE.\n",
      "[09:29:00] Conflicting single bond directions around double bond at index 17.\n",
      "[09:29:00]   BondStereo set to STEREONONE and single bond directions set to NONE.\n",
      "[09:29:00] SMILES Parse Error: syntax error while parsing: C[C@@H](C(OC[C@@H](COP(=O)([O-])OC[C@@H](COC(=O)[R1])OC(=O)[R2])O)=O)[NH3+]\n",
      "[09:29:00] SMILES Parse Error: Failed parsing SMILES 'C[C@@H](C(OC[C@@H](COP(=O)([O-])OC[C@@H](COC(=O)[R1])OC(=O)[R2])O)=O)[NH3+]' for input: 'C[C@@H](C(OC[C@@H](COP(=O)([O-])OC[C@@H](COC(=O)[R1])OC(=O)[R2])O)=O)[NH3+]'\n",
      "[09:29:00] SMILES Parse Error: syntax error while parsing: CC(C)=CCCC(\\C)=C/CCC(\\C)=C/CCC(/C)=C/CCC(/C)=C/CCC(/C)=C/CCC(/C)=C/CCC(/C)=C/CCC(/C)=C/CCC(/C)=C/CCC(/C)=C/COP(=O)([O-])OP([O-])(=O)O[C@@H]1([C@@H]([C@H]([C@H](O)[C@H](O1)CO)O[C@H]%18(O[C@H](CO)[C@@H](O)[C@H](O[C@H]%17(O[C@H](CO)[C@@H](O)[C@H](O[C@H]%16(O[C@H](CO)[C@@H](O)[C@H](O)[C@H](O[C@H]%15(O[C@H](CO)[C@@H](O)[C@H](O)[C@H](O[C@H]%14(O[C@H](CO)[C@@H](O)[C@H](O[C@H]%13(O[C@H](CO)[C@@H](O)[C@H](O[C@H]%12(O[C@H](CO)[C@@H](O)[C@H](O)[C@H](O[C@H]%11(O[C@H](CO)[C@@H](O)[C@H](O)[C@H](O[C@H]%10(O[C@H](CO)[C@@H](O)[C@H](O[C@H]9(O[C@H](CO)[C@@H](O)[C@H](O[C@H]8(O[C@H](CO)[C@@H](O)[C@H](O)[C@H](O[C@H]7(O[C@H](CO)[C@@H](O)[C@H](O)[C@H](O[C@H]6(O[C@H](CO)[C@@H](O)[C@H](O[C@H]5(O[C@H](CO)[C@@H](O)[C@H](O[C@H]4(O[C@H](CO)[C@@H](O)[C@H](O)[C@H](O[R]O[C@H]3(O[C@H](CO)[C@@H](O)[C@H](O)[C@H](O[C@H]2(O[C@H](CO)[C@@H](O)[C@H](OP([O-])(=O)[O-])[C@H](O)2))3))4))[C@H](O)5))[C@H](O)6))7))8))[C@H](O)9))[C@H](O)%10))%11))%12))[C@H](O)%13))[C@H](O)%14... truncated[09:29:00] SMILES Parse Error: Failed parsing SMILES 'CC(C)=CCCC(\\C)=C/CCC(\\C)=C/CCC(/C)=C/CCC(/C)=C/CCC(/C)=C/CCC(/C)=C/CCC(/C)=C/CCC(/C)=C/CCC(/C)=C/CCC(/C)=C/COP(=O)([O-])OP([O-])(=O)O[C@@H]1([C@@H]([C@H]([C@H](O)[C@H](O1)CO)O[C@H]%18(O[C@H](CO)[C@@H](O)[C@H](O[C@H]%17(O[C@H](CO)[C@@H](O)[C@H](O[C@H]%16(O[C@H](CO)[C@@H](O)[C@H](O)[C@H](O[C@H]%15(O[C@H](CO)[C@@H](O)[C@H](O)[C@H](O[C@H]%14(O[C@H](CO)[C@@H](O)[C@H](O[C@H]%13(O[C@H](CO)[C@@H](O)[C@H](O[C@H]%12(O[C@H](CO)[C@@H](O)[C@H](O)[C@H](O[C@H]%11(O[C@H](CO)[C@@H](O)[C@H](O)[C@H](O[C@H]%10(O[C@H](CO)[C@@H](O)[C@H](O[C@H]9(O[C@H](CO)[C@@H](O)[C@H](O[C@H]8(O[C@H](CO)[C@@H](O)[C@H](O)[C@H](O[C@H]7(O[C@H](CO)[C@@H](O)[C@H](O)[C@H](O[C@H]6(O[C@H](CO)[C@@H](O)[C@H](O[C@H]5(O[C@H](CO)[C@@H](O)[C@H](O[C@H]4(O[C@H](CO)[C@@H](O)[C@H](O)[C@H](O[R]O[C@H]3(O[C@H](CO)[C@@H](O)[C@H](O)[C@H](O[C@H]2(O[C@H](CO)[C@@H](O)[C@H](OP([O-])(=O)[O-])[C@H](O)2))3))4))[C@H](O)5))[C@H](O)6))7))8))[C@H](O)9))[C@H](O)%10))%11))%12))[C@H](O)%13))[C@H](O)%14))%15... truncated[09:29:00] SMILES Parse Error: syntax error while parsing: CC(C)=CCCC(\\C)=C/CCC(\\C)=C/CCC(/C)=C/CCC(/C)=C/CCC(/C)=C/CCC(/C)=C/CCC(/C)=C/CCC(/C)=C/CCC(/C)=C/CCC(/C)=C/COP(=O)([O-])OP([O-])(=O)O[C@@H]1([C@@H]([C@H]([C@H](O)[C@H](O1)CO)O[C@H]%15(O[C@H](CO)[C@@H](O)[C@H](O[C@H]%14(O[C@H](CO)[C@@H](O)[C@H](O[C@H]%13(O[C@H](CO)[C@@H](O)[C@H](O[C@H]%12(O[C@H](CO)[C@@H](O)[C@H](O)[C@H](O[C@H]%11(O[C@H](CO)[C@@H](O)[C@H](O)[C@H](O[C@H]%10(O[C@H](CO)[C@@H](O)[C@H](O)[C@H](O[C@H]9(O[C@H](CO)[C@@H](O)[C@H](O[C@H]8(O[C@H](CO)[C@@H](O)[C@H](O[C@H]7(O[C@H](CO)[C@@H](O)[C@H](O)[C@H](O[C@H]6(O[C@H](CO)[C@@H](O)[C@H](O)[C@H](O[C@H]5(O[C@H](CO)[C@@H](O)[C@H](O)[C@H](O[C@H]4(O[C@H](CO)[C@@H](O)[C@H](O[C@H]3(O[C@H](CO)[C@@H](O)[C@H](O[R]O[C@H]2(O[C@H](CO)[C@@H](O)[C@H](OP([O-])(=O)[O-])[C@H](O)2))[C@H](O)3))[C@H](O)4))5))6))7))[C@H](O)8))[C@H](O)9))%10))%11))%12))[C@H](O)%13))[C@H](O)%14))[C@H](O)%15))NC(C)=O)\n",
      "[09:29:00] SMILES Parse Error: Failed parsing SMILES 'CC(C)=CCCC(\\C)=C/CCC(\\C)=C/CCC(/C)=C/CCC(/C)=C/CCC(/C)=C/CCC(/C)=C/CCC(/C)=C/CCC(/C)=C/CCC(/C)=C/CCC(/C)=C/COP(=O)([O-])OP([O-])(=O)O[C@@H]1([C@@H]([C@H]([C@H](O)[C@H](O1)CO)O[C@H]%15(O[C@H](CO)[C@@H](O)[C@H](O[C@H]%14(O[C@H](CO)[C@@H](O)[C@H](O[C@H]%13(O[C@H](CO)[C@@H](O)[C@H](O[C@H]%12(O[C@H](CO)[C@@H](O)[C@H](O)[C@H](O[C@H]%11(O[C@H](CO)[C@@H](O)[C@H](O)[C@H](O[C@H]%10(O[C@H](CO)[C@@H](O)[C@H](O)[C@H](O[C@H]9(O[C@H](CO)[C@@H](O)[C@H](O[C@H]8(O[C@H](CO)[C@@H](O)[C@H](O[C@H]7(O[C@H](CO)[C@@H](O)[C@H](O)[C@H](O[C@H]6(O[C@H](CO)[C@@H](O)[C@H](O)[C@H](O[C@H]5(O[C@H](CO)[C@@H](O)[C@H](O)[C@H](O[C@H]4(O[C@H](CO)[C@@H](O)[C@H](O[C@H]3(O[C@H](CO)[C@@H](O)[C@H](O[R]O[C@H]2(O[C@H](CO)[C@@H](O)[C@H](OP([O-])(=O)[O-])[C@H](O)2))[C@H](O)3))[C@H](O)4))5))6))7))[C@H](O)8))[C@H](O)9))%10))%11))%12))[C@H](O)%13))[C@H](O)%14))[C@H](O)%15))NC(C)=O)' for input: 'CC(C)=CCCC(\\C)=C/CCC(\\C)=C/CCC(/C)=C/CCC(/C)=C/CCC(/C)=C/CCC(/C)=C/CCC(/C)=C/CCC(/C)=C/CC... truncated"
     ]
    },
    {
     "name": "stdout",
     "output_type": "stream",
     "text": [
      "error 3-O-L-ALANYL-1-O-PHOSPHATIDYLGLYCEROL\n",
      "error CPD-15545\n",
      "error CPD-24282\n"
     ]
    },
    {
     "name": "stderr",
     "output_type": "stream",
     "text": [
      "[09:29:00] Conflicting single bond directions around double bond at index 7.\n",
      "[09:29:00]   BondStereo set to STEREONONE and single bond directions set to NONE.\n",
      "[09:29:00] Conflicting single bond directions around double bond at index 12.\n",
      "[09:29:00]   BondStereo set to STEREONONE and single bond directions set to NONE.\n",
      "[09:29:00] Conflicting single bond directions around double bond at index 7.\n",
      "[09:29:00]   BondStereo set to STEREONONE and single bond directions set to NONE.\n",
      "[09:29:00] Conflicting single bond directions around double bond at index 12.\n",
      "[09:29:00]   BondStereo set to STEREONONE and single bond directions set to NONE.\n",
      "[09:29:00] SMILES Parse Error: syntax error while parsing: CC(/C=C/C=C(C)/C=C/C=C(C)/C(O[R1])=O)=C\\C=C\\C=C(C)\\C=C\\C=C(C)\\C=C\\C=C(C)\\C(O[R2])=O\n",
      "[09:29:00] SMILES Parse Error: Failed parsing SMILES 'CC(/C=C/C=C(C)/C=C/C=C(C)/C(O[R1])=O)=C\\C=C\\C=C(C)\\C=C\\C=C(C)\\C=C\\C=C(C)\\C(O[R2])=O' for input: 'CC(/C=C/C=C(C)/C=C/C=C(C)/C(O[R1])=O)=C\\C=C\\C=C(C)\\C=C\\C=C(C)\\C=C\\C=C(C)\\C(O[R2])=O'\n",
      "[09:29:00] Conflicting single bond directions around double bond at index 12.\n",
      "[09:29:00]   BondStereo set to STEREONONE and single bond directions set to NONE.\n",
      "[09:29:00] Conflicting single bond directions around double bond at index 12.\n",
      "[09:29:00]   BondStereo set to STEREONONE and single bond directions set to NONE.\n",
      "[09:29:00] Conflicting single bond directions around double bond at index 12.\n",
      "[09:29:00]   BondStereo set to STEREONONE and single bond directions set to NONE.\n",
      "[09:29:00] Conflicting single bond directions around double bond at index 12.\n",
      "[09:29:00]   BondStereo set to STEREONONE and single bond directions set to NONE.\n",
      "[09:29:00] Conflicting single bond directions around double bond at index 7.\n",
      "[09:29:00]   BondStereo set to STEREONONE and single bond directions set to NONE.\n",
      "[09:29:00] Conflicting single bond directions around double bond at index 12.\n",
      "[09:29:00]   BondStereo set to STEREONONE and single bond directions set to NONE.\n",
      "[09:29:00] Explicit valence for atom # 21 O, 3, is greater than permitted\n",
      "[09:29:00] Conflicting single bond directions around double bond at index 12.\n",
      "[09:29:00]   BondStereo set to STEREONONE and single bond directions set to NONE.\n",
      "[09:29:00] Conflicting single bond directions around double bond at index 17.\n",
      "[09:29:00]   BondStereo set to STEREONONE and single bond directions set to NONE.\n"
     ]
    },
    {
     "name": "stdout",
     "output_type": "stream",
     "text": [
      "error CPD-13152\n",
      "error CPD-11696\n"
     ]
    },
    {
     "name": "stderr",
     "output_type": "stream",
     "text": [
      "[09:29:00] Conflicting single bond directions around double bond at index 3.\n",
      "[09:29:00]   BondStereo set to STEREONONE and single bond directions set to NONE.\n",
      "[09:29:01] Conflicting single bond directions around double bond at index 7.\n",
      "[09:29:01]   BondStereo set to STEREONONE and single bond directions set to NONE.\n",
      "[09:29:01] Conflicting single bond directions around double bond at index 12.\n",
      "[09:29:01]   BondStereo set to STEREONONE and single bond directions set to NONE.\n",
      "[09:29:01] Conflicting single bond directions around double bond at index 7.\n",
      "[09:29:01]   BondStereo set to STEREONONE and single bond directions set to NONE.\n",
      "[09:29:01] Conflicting single bond directions around double bond at index 12.\n",
      "[09:29:01]   BondStereo set to STEREONONE and single bond directions set to NONE.\n",
      "[09:29:01] Conflicting single bond directions around double bond at index 17.\n",
      "[09:29:01]   BondStereo set to STEREONONE and single bond directions set to NONE.\n"
     ]
    },
    {
     "name": "stdout",
     "output_type": "stream",
     "text": [
      "error PMS\n"
     ]
    },
    {
     "name": "stderr",
     "output_type": "stream",
     "text": [
      "[09:29:01] Conflicting single bond directions around double bond at index 11.\n",
      "[09:29:01]   BondStereo set to STEREONONE and single bond directions set to NONE.\n",
      "[09:29:01] Conflicting single bond directions around double bond at index 7.\n",
      "[09:29:01]   BondStereo set to STEREONONE and single bond directions set to NONE.\n",
      "[09:29:02] SMILES Parse Error: syntax error while parsing: CC1(\\C(/C)=C(C2(\\N=C3(C(/N(C[C@H](O)[C@H](O)[C@H](O)COP([O-])(=O)[O-])C(/C=1)=2)=N\\C(=O)[N-]C(=O)3)))\\S[a\n",
      "[09:29:02] SMILES Parse Error: Failed parsing SMILES 'CC1(\\C(/C)=C(C2(\\N=C3(C(/N(C[C@H](O)[C@H](O)[C@H](O)COP([O-])(=O)[O-])C(/C=1)=2)=N\\C(=O)[N-]C(=O)3)))\\S[a' for input: 'CC1(\\C(/C)=C(C2(\\N=C3(C(/N(C[C@H](O)[C@H](O)[C@H](O)COP([O-])(=O)[O-])C(/C=1)=2)=N\\C(=O)[N-]C(=O)3)))\\S[a'\n",
      "[09:29:02] Conflicting single bond directions around double bond at index 12.\n",
      "[09:29:02]   BondStereo set to STEREONONE and single bond directions set to NONE.\n",
      "[09:29:02] Conflicting single bond directions around double bond at index 17.\n",
      "[09:29:02]   BondStereo set to STEREONONE and single bond directions set to NONE.\n",
      "[09:29:02] SMILES Parse Error: syntax error while parsing: C1([R4])(=C([R3])C(=O)C(/[R3])=C([R1])/C(=O)1)\n",
      "[09:29:02] SMILES Parse Error: Failed parsing SMILES 'C1([R4])(=C([R3])C(=O)C(/[R3])=C([R1])/C(=O)1)' for input: 'C1([R4])(=C([R3])C(=O)C(/[R3])=C([R1])/C(=O)1)'\n",
      "[09:29:02] Conflicting single bond directions around double bond at index 12.\n",
      "[09:29:02]   BondStereo set to STEREONONE and single bond directions set to NONE.\n",
      "[09:29:02] Conflicting single bond directions around double bond at index 17.\n",
      "[09:29:02]   BondStereo set to STEREONONE and single bond directions set to NONE.\n",
      "[09:29:02] Conflicting single bond directions around double bond at index 12.\n",
      "[09:29:02]   BondStereo set to STEREONONE and single bond directions set to NONE.\n",
      "[09:29:02] Conflicting single bond directions around double bond at index 17.\n",
      "[09:29:02]   BondStereo set to STEREONONE and single bond directions set to NONE.\n"
     ]
    },
    {
     "name": "stdout",
     "output_type": "stream",
     "text": [
      "error CPD-14004\n",
      "error CPD-25548\n"
     ]
    },
    {
     "name": "stderr",
     "output_type": "stream",
     "text": [
      "[09:29:02] SMILES Parse Error: syntax error while parsing: C1([R4])(=C([R3])C(=O)C(/[R3])=C([R1])/C(=O)1)\n",
      "[09:29:02] SMILES Parse Error: Failed parsing SMILES 'C1([R4])(=C([R3])C(=O)C(/[R3])=C([R1])/C(=O)1)' for input: 'C1([R4])(=C([R3])C(=O)C(/[R3])=C([R1])/C(=O)1)'\n",
      "[09:29:02] SMILES Parse Error: syntax error while parsing: C1([R4])(=C([R3])C(=O)C(/[R3])=C([R1])/C(=O)1)\n",
      "[09:29:02] SMILES Parse Error: Failed parsing SMILES 'C1([R4])(=C([R3])C(=O)C(/[R3])=C([R1])/C(=O)1)' for input: 'C1([R4])(=C([R3])C(=O)C(/[R3])=C([R1])/C(=O)1)'\n"
     ]
    },
    {
     "name": "stdout",
     "output_type": "stream",
     "text": [
      "error CPD-25549\n",
      "error CPD-25550\n"
     ]
    },
    {
     "name": "stderr",
     "output_type": "stream",
     "text": [
      "[09:29:02] SMILES Parse Error: syntax error while parsing: C1([R4])(=C([R3])C(=O)C(/[R3])=C([R1])/C(=O)1)\n",
      "[09:29:02] SMILES Parse Error: Failed parsing SMILES 'C1([R4])(=C([R3])C(=O)C(/[R3])=C([R1])/C(=O)1)' for input: 'C1([R4])(=C([R3])C(=O)C(/[R3])=C([R1])/C(=O)1)'\n",
      "[09:29:02] SMILES Parse Error: syntax error while parsing: C1([R4])(=C([R3])C(=O)C(/[R3])=C([R1])/C(=O)1)\n",
      "[09:29:02] SMILES Parse Error: Failed parsing SMILES 'C1([R4])(=C([R3])C(=O)C(/[R3])=C([R1])/C(=O)1)' for input: 'C1([R4])(=C([R3])C(=O)C(/[R3])=C([R1])/C(=O)1)'\n",
      "[09:29:02] SMILES Parse Error: syntax error while parsing: C1([R4])(=C([R3])C(=O)C(/[R3])=C([R1])/C(=O)1)\n",
      "[09:29:02] SMILES Parse Error: Failed parsing SMILES 'C1([R4])(=C([R3])C(=O)C(/[R3])=C([R1])/C(=O)1)' for input: 'C1([R4])(=C([R3])C(=O)C(/[R3])=C([R1])/C(=O)1)'\n",
      "[09:29:02] Conflicting single bond directions around double bond at index 12.\n",
      "[09:29:02]   BondStereo set to STEREONONE and single bond directions set to NONE.\n",
      "[09:29:02] Conflicting single bond directions around double bond at index 17.\n",
      "[09:29:02]   BondStereo set to STEREONONE and single bond directions set to NONE.\n",
      "[09:29:02] Conflicting single bond directions around double bond at index 17.\n",
      "[09:29:02]   BondStereo set to STEREONONE and single bond directions set to NONE.\n",
      "[09:29:02] Conflicting single bond directions around double bond at index 17.\n",
      "[09:29:02]   BondStereo set to STEREONONE and single bond directions set to NONE.\n",
      "[09:29:02] Conflicting single bond directions around double bond at index 17.\n",
      "[09:29:02]   BondStereo set to STEREONONE and single bond directions set to NONE.\n",
      "[09:29:02] Conflicting single bond directions around double bond at index 17.\n",
      "[09:29:02]   BondStereo set to STEREONONE and single bond directions set to NONE.\n",
      "[09:29:02] Conflicting single bond directions around double bond at index 17.\n",
      "[09:29:02]   BondStereo set to STEREONONE and single bond directions set to NONE.\n",
      "[09:29:02] Conflicting single bond directions around double bond at index 17.\n",
      "[09:29:02]   BondStereo set to STEREONONE and single bond directions set to NONE.\n",
      "[09:29:02] SMILES Parse Error: syntax error while parsing: CCC(=O)CC(=O)CC(=O)CC(=O)CC(=O)CC(O)CC(=O)CC(=O)CC(=O)CC(SCCNC(=O)CCNC([C@H](O)C(C)(C)COP(=O)([O-])OC[C@H](N[a\n",
      "[09:29:02] SMILES Parse Error: Failed parsing SMILES 'CCC(=O)CC(=O)CC(=O)CC(=O)CC(=O)CC(O)CC(=O)CC(=O)CC(=O)CC(SCCNC(=O)CCNC([C@H](O)C(C)(C)COP(=O)([O-])OC[C@H](N[a' for input: 'CCC(=O)CC(=O)CC(=O)CC(=O)CC(=O)CC(O)CC(=O)CC(=O)CC(=O)CC(SCCNC(=O)CCNC([C@H](O)C(C)(C)COP(=O)([O-])OC[C@H](N[a'\n",
      "[09:29:02] SMILES Parse Error: syntax error while parsing: C([C@@H]1([C@H]([C@@H](C[C@H](O1)O[R])O)O))O\n",
      "[09:29:02] SMILES Parse Error: Failed parsing SMILES 'C([C@@H]1([C@H]([C@@H](C[C@H](O1)O[R])O)O))O' for input: 'C([C@@H]1([C@H]([C@@H](C[C@H](O1)O[R])O)O))O'\n",
      "[09:29:02] SMILES Parse Error: syntax error while parsing: C(OP(=O)([O-])[O-])[C@H]1(O[C@@H]([a\n",
      "[09:29:02] SMILES Parse Error: Failed parsing SMILES 'C(OP(=O)([O-])[O-])[C@H]1(O[C@@H]([a' for input: 'C(OP(=O)([O-])[O-])[C@H]1(O[C@@H]([a'\n",
      "[09:29:02] SMILES Parse Error: syntax error while parsing: C(O[C@@H]1(OC[C@@H](O)[C@H](O)[C@@H](O)1))[C@H]2(O[C@@H](O[R])[C@H](O)[C@@H](O)[C@H](O)2)\n",
      "[09:29:02] SMILES Parse Error: Failed parsing SMILES 'C(O[C@@H]1(OC[C@@H](O)[C@H](O)[C@@H](O)1))[C@H]2(O[C@@H](O[R])[C@H](O)[C@@H](O)[C@H](O)2)' for input: 'C(O[C@@H]1(OC[C@@H](O)[C@H](O)[C@@H](O)1))[C@H]2(O[C@@H](O[R])[C@H](O)[C@@H](O)[C@H](O)2)'\n",
      "[09:29:02] SMILES Parse Error: syntax error while parsing: C(=O)([R1])[R1]\n",
      "[09:29:02] SMILES Parse Error: Failed parsing SMILES 'C(=O)([R1])[R1]' for input: 'C(=O)([R1])[R1]'\n"
     ]
    },
    {
     "name": "stdout",
     "output_type": "stream",
     "text": [
      "error CPD-19843\n",
      "error CPD-15875\n",
      "error CPD-19844\n",
      "error CPD-15803\n",
      "error A-2-DEOXY-D-GLUCOSIDE\n",
      "error 5-PHOSPHONUCLEOSIDE-3-DIPHOSPHATE\n",
      "error ALPHA-6-O-BETA-D-XYLOPYRANOSYL-BETA-D-\n",
      "error CARBONYL-GROUP\n",
      "error CPD-23389\n"
     ]
    },
    {
     "name": "stderr",
     "output_type": "stream",
     "text": [
      "[09:29:02] SMILES Parse Error: syntax error while parsing: C1(N([a\n",
      "[09:29:02] SMILES Parse Error: Failed parsing SMILES 'C1(N([a' for input: 'C1(N([a'\n",
      "[09:29:02] SMILES Parse Error: syntax error while parsing: C2(\\N3([C@@H]5(O[C@H](COP(O[C@H]4(C[C@H](N1(C(C(N)C(/N)=N\\C1=O)C(\\C=2)=N/C(=O)3))O[C@H](COP(=O)([O-])O[a\n",
      "[09:29:02] SMILES Parse Error: Failed parsing SMILES 'C2(\\N3([C@@H]5(O[C@H](COP(O[C@H]4(C[C@H](N1(C(C(N)C(/N)=N\\C1=O)C(\\C=2)=N/C(=O)3))O[C@H](COP(=O)([O-])O[a' for input: 'C2(\\N3([C@@H]5(O[C@H](COP(O[C@H]4(C[C@H](N1(C(C(N)C(/N)=N\\C1=O)C(\\C=2)=N/C(=O)3))O[C@H](COP(=O)([O-])O[a'\n",
      "[09:29:02] SMILES Parse Error: syntax error while parsing: CC(C)=CCCC(\\C)=C/CCC(\\C)=C/CSC[C@@H](C(OC)=O)NC(=O)[C@H]([R1])N[an\n",
      "[09:29:02] SMILES Parse Error: Failed parsing SMILES 'CC(C)=CCCC(\\C)=C/CCC(\\C)=C/CSC[C@@H](C(OC)=O)NC(=O)[C@H]([R1])N[an' for input: 'CC(C)=CCCC(\\C)=C/CCC(\\C)=C/CSC[C@@H](C(OC)=O)NC(=O)[C@H]([R1])N[an'\n",
      "[09:29:02] SMILES Parse Error: syntax error while parsing: C(=O)[R]\n",
      "[09:29:02] SMILES Parse Error: Failed parsing SMILES 'C(=O)[R]' for input: 'C(=O)[R]'\n",
      "[09:29:02] SMILES Parse Error: syntax error while parsing: CC(C)(COP([O-])(=O)OP([O-])(=O)OC[C@@H]2([C@@H](O)[C@@H](O[C@@H]1([C@H](O)[C@H](O)[C@@H](COP(=O)([O-])OC[C@H](N[a\n",
      "[09:29:02] SMILES Parse Error: Failed parsing SMILES 'CC(C)(COP([O-])(=O)OP([O-])(=O)OC[C@@H]2([C@@H](O)[C@@H](O[C@@H]1([C@H](O)[C@H](O)[C@@H](COP(=O)([O-])OC[C@H](N[a' for input: 'CC(C)(COP([O-])(=O)OP([O-])(=O)OC[C@@H]2([C@@H](O)[C@@H](O[C@@H]1([C@H](O)[C@H](O)[C@@H](COP(=O)([O-])OC[C@H](N[a'\n",
      "[09:29:02] SMILES Parse Error: syntax error while parsing: CC(C)(COP([O-])(=O)OP([O-])(=O)OC[C@@H]2([C@@H](O)[C@@H](O[C@@H]1([C@H](O)[C@H](O)[C@@H](COP(=O)([O-])OC[C@H](N[[an\n",
      "[09:29:02] SMILES Parse Error: Failed parsing SMILES 'CC(C)(COP([O-])(=O)OP([O-])(=O)OC[C@@H]2([C@@H](O)[C@@H](O[C@@H]1([C@H](O)[C@H](O)[C@@H](COP(=O)([O-])OC[C@H](N[[an' for input: 'CC(C)(COP([O-])(=O)OP([O-])(=O)OC[C@@H]2([C@@H](O)[C@@H](O[C@@H]1([C@H](O)[C@H](O)[C@@H](COP(=O)([O-])OC[C@H](N[[an'\n",
      "[09:29:02] SMILES Parse Error: syntax error while parsing: C[C@H](NC([C@H](O[C@@H]2([C@@H](NC(=O)C)C3(OCC([C@@H](O[C@@H]1(O[C@H](CO)[C@@H](O[R])[C@H](O)[C@@H](NC(=O)C)1))2)O3)))C)=O)C(N[C@H](CCC(=O)N[C@@H](CCC[C@H](C(=O)[O-])[NH3+])C(N[C@H](C)C(=O)[O-])=O)C(=O)[O-])=O\n",
      "[09:29:02] SMILES Parse Error: Failed parsing SMILES 'C[C@H](NC([C@H](O[C@@H]2([C@@H](NC(=O)C)C3(OCC([C@@H](O[C@@H]1(O[C@H](CO)[C@@H](O[R])[C@H](O)[C@@H](NC(=O)C)1))2)O3)))C)=O)C(N[C@H](CCC(=O)N[C@@H](CCC[C@H](C(=O)[O-])[NH3+])C(N[C@H](C)C(=O)[O-])=O)C(=O)[O-])=O' for input: 'C[C@H](NC([C@H](O[C@@H]2([C@@H](NC(=O)C)C3(OCC([C@@H](O[C@@H]1(O[C@H](CO)[C@@H](O[R])[C@H](O)[C@@H](NC(=O)C)1))2)O3)))C)=O)C(N[C@H](CCC(=O)N[C@@H](CCC[C@H](C(=O)[O-])[NH3+])C(N[C@H](C)C(=O)[O-])=O)C(=O)[O-])=O'\n",
      "[09:29:02] SMILES Parse Error: syntax error while parsing: C[C@H](NC([C@H](O[C@@H]2([C@H]([C@@H](O[C@H](CO)[C@@H](O[C@@H]1(O[C@H](CO)[C@@H](O)[C@H](O)[C@@H](NC(=O)C)1))2)O[R])NC(=O)C))C)=O)C(N[C@H](CCC(=O)N[C@@H](CCC[C@H](C(=O)[O-])[NH3+])C(N[C@H](C)C(=O)[O-])=O)C(=O)[O-])=O\n",
      "[09:29:02] SMILES Parse Error: Failed parsing SMILES 'C[C@H](NC([C@H](O[C@@H]2([C@H]([C@@H](O[C@H](CO)[C@@H](O[C@@H]1(O[C@H](CO)[C@@H](O)[C@H](O)[C@@H](NC(=O)C)1))2)O[R])NC(=O)C))C)=O)C(N[C@H](CCC(=O)N[C@@H](CCC[C@H](C(=O)[O-])[NH3+])C(N[C@H](C)C(=O)[O-])=O)C(=O)[O-])=O' for input: 'C[C@H](NC([C@H](O[C@@H]2([C@H]([C@@H](O[C@H](CO)[C@@H](O[C@@H]1(O[C@H](CO)[C@@H](O)[C@H](O)[C@@H](NC(=O)C)1))2)O[R])NC(=O)C))C)=O)C(N[C@H](CCC(=O)N[C@@H](CCC[C@H](C(=O)[O-])[NH3+])C(N[C@H](C)C(=O)[O-])=O)C(=O)[O-])=O'\n",
      "[09:29:02] SMILES Parse Error: syntax error while parsing: C[C@H](NC([C@H](O[C@@H]2([C@@H](NC(=O)C)C3(OCC([C@@H](O[C@@H]1(O[C@H](CO)[C@@H](O[R])[C@H](O)[C@@H](NC(=O)C)1))2)O3)))C)=O)C(N[C@H](CCC(=O)N[C@@H](CCC[C@H](C(=O)[O-])[NH3+])C(=O)[O-])C(=O)[O-])=O\n",
      "[09:29:02] SMILES Parse Error: Failed parsing SMILES 'C[C@H](NC([C@H](O[C@@H]2([C@@H](NC(=O)C)C3(OCC([C@@H](O[C@@H]1(O[C@H](CO)[C@@H](O[R])[C@H](O)[C@@H](NC(=O)C)1))2)O3)))C)=O)C(N[C@H](CCC(=O)N[C@@H](CCC[C@H](C(=O)[O-])[NH3+])C(=O)[O-])C(=O)[O-])=O' for input: 'C[C@H](NC([C@H](O[C@@H]2([C@@H](NC(=O)C)C3(OCC([C@@H](O[C@@H]1(O[C@H](CO)[C@@H](O[R])[C@H](O)[C@@H](NC(=O)C)1))2)O3)))C)=O)C(N[C@H](CCC(=O)N[C@@H](CCC[C@H](C(=O)[O-])[NH3+])C(=O)[O-])C(=O)[O-])=O'\n",
      "[09:29:02] SMILES Parse Error: syntax error while parsing: C[C@H](C(=O)N[C@H](C)C(=O)[O-])NC(=O)[C@H](CCC[C@H](C(=O)[O-])[NH3+])NC(=O)CC[C@@H](NC(=O)[C@@H](NC([C@H](O[C@@H]2([C@@H](NC(=O)C)C3(OCC([C@@H](O[C@@H]1(O[C@H](CO)[C@@H](O[R])[C@H](O)[C@@H](NC(=O)C)1))2)O3)))C)=O)C)C(=O)[O-]\n",
      "[09:29:02] SMILES Parse Error: Failed parsing SMILES 'C[C@H](C(=O)N[C@H](C)C(=O)[O-])NC(=O)[C@H](CCC[C@H](C(=O)[O-])[NH3+])NC(=O)CC[C@@H](NC(=O)[C@@H](NC([C@H](O[C@@H]2([C@@H](NC(=O)C)C3(OCC([C@@H](O[C@@H]1(O[C@H](CO)[C@@H](O[R])[C@H](O)[C@@H](NC(=O)C)1))2)O3)))C)=O)C)C(=O)[O-]' for input: 'C[C@H](C(=O)N[C@H](C)C(=O)[O-])NC(=O)[C@H](CCC[C@H](C(=O)[O-])[NH3+])NC(=O)CC[C@@H](NC(=O)[C@@H](NC([C@H](O[C@@H]2([C@@H](NC(=O)C)C3(OCC([C@@H](O[C@@H]1(O[C@H](CO)[C@@H](O[R])[C@H](O)[C@@H](NC(=O)C)1))2)O3)))C)=O)C)C(=O)[O-]'\n",
      "[09:29:02] SMILES Parse Error: syntax error while parsing: C[C@H](NC([C@H](O[C@@H]2([C@@H](NC(=O)C)C3(OCC([C@@H](O[C@@H]1(O[C@H](CO)[C@@H](O[R])[C@H](O)[C@@H](NC(=O)C)1))2)O3)))C)=O)C(N[C@H](CCC(=O)N[C@@H](CCC[C@H](C(=O)[O-])[NH3+])C(=O)NCC(=O)[O-])C(=O)[O-])=O\n",
      "[09:29:02] SMILES Parse Error: Failed parsing SMILES 'C[C@H](NC([C@H](O[C@@H]2([C@@H](NC(=O)C)C3(OCC([C@@H](O[C@@H]1(O[C@H](CO)[C@@H](O[R])[C@H](O)[C@@H](NC(=O)C)1))2)O3)))C)=O)C(N[C@H](CCC(=O)N[C@@H](CCC[C@H](C(=O)[O-])[NH3+])C(=O)NCC(=O)[O-])C(=O)[O-])=O' for input: 'C[C@H](NC([C@H](O[C@@H]2([C@@H](NC(=O)C)C3(OCC([C@@H](O[C@@H]1(O[C@H](CO)[C@@H](O[R])[C@H](O)[C@@H](NC(=O)C)1))2)O3)))C)=O)C(N[C@H](CCC(=O)N[C@@H](CCC[C@H](C(=O)[O-])[NH3+])C(=O)NCC(=O)[O-])C(=O)[O-])=O'\n",
      "[09:29:02] SMILES Parse Error: syntax error while parsing: C[C@H](NC([C@H](O[C@@H]2([C@@H](NC(=O)C)[C@H](O[R3])O[C@H](CO)[C@@H](O[C@@H]1(O[C@H](CO)[C@@H](O[R2])[C@H](O)[C@@H](NC(=O)C)1))2))C)=O)C(N[C@H](CCC(=O)N[C@@H](CCC[C@H](C(=O)[O-])[NH3+])C(N[C@H](C)C(=O)N[C@H](CCC[C@@H](C(N[C@H](C)C(=O)[O-])=O)NC(=O)CC[C@@H](NC(=O)[C@@H](NC([C@H](O[C@@H]5([C@H](C3(OCC(O3)[C@@H](O[C@@H]4(O[C@H](CO)[C@@H](O[R1])[C@H](O)[C@@H](NC(=O)C)4))5))NC(=O)C))C)=O)C)C(=O)[O-])C(=O)[O-])=O)C(=O)[O-])=O\n",
      "[09:29:02] SMILES Parse Error: Failed parsing SMILES 'C[C@H](NC([C@H](O[C@@H]2([C@@H](NC(=O)C)[C@H](O[R3])O[C@H](CO)[C@@H](O[C@@H]1(O[C@H](CO)[C@@H](O[R2])[C@H](O)[C@@H](NC(=O)C)1))2))C)=O)C(N[C@H](CCC(=O)N[C@@H](CCC[C@H](C(=O)[O-])[NH3+])C(N[C@H](C)C(=O)N[C@H](CCC[C@@H](C(N[C@H](C)C(=O)[O-])=O)NC(=O)CC[C@@H](NC(=O)[C@@H](NC([C@H](O[C@@H]5([C@H](C3(OCC(O3)[C@@H](O[C@@H]4(O[C@H](CO)[C@@H](O[R1])[C@H](O)[C@@H](NC(=O)C)4))5))NC(=O)C))C)=O)C)C(=O)[O-])C(=O)[O-])=O)C(=O)[O-])=O' for input: 'C[C@H](NC([C@H](O[C@@H]2([C@@H](NC(=O)C)[C@H](O[R3])O[C@H](CO)[C@@H](O[C@@H]1(O[C@H](CO)[C@@H](O[R2])[C@H](O)[C@@H](NC(=O)C)1))2))C)=O)C(N[C@H](CCC(=O)N[C@@H](CCC[C@H](C(=O)[O-])[NH3+])C(N[C@H](C)C(=O)N[C@H](CCC[C@@H](C(N[C@H](C)C(=O)[O-])=O)NC(=O)CC[C@@H](NC(=O)[C@@H](NC([C@H](O[C@@H]5([C@H](C3(OCC(O3)[C@@H](O[C@@H]4(O[C@H](CO)[C@@H](O[R1])[C@H](O)[C@@H](NC(=O)C)4))5))NC(=O)C))C)=O)C)C(=O)[O-])C(=O)[O-])=O)C(=O)[O-])=O'\n",
      "[09:29:02] SMILES Parse Error: syntax error while parsing: C[C@H](NC([C@H](O[C@@H]2([C@@H](NC(=O)C)[C@H](O[R3])O[C@H](CO)[C@@H](O[C@@H]1(O[C@H](CO)[C@@H](O[R2])[C@H](O)[C@@H](NC(=O)C)1))2))C)=O)C(N[C@H](CCC(=O)N[C@@H](CCC[C@@H](NC(=O)[C@H](CCC[C@H](C(=O)[O-])[NH3+])NC(=O)CC[C@@H](NC(=O)[C@@H](NC([C@H](O[C@@H]4([C@@H](NC(=O)C)C5(OCC([C@@H](O[C@@H]3(O[C@H](CO)[C@@H](O[R1])[C@H](O)[C@@H](NC(=O)C)3))4)O5)))C)=O)C)C(=O)[O-])C(=O)[O-])C(N[C@H](C)C(=O)[O-])=O)C(=O)[O-])=O\n",
      "[09:29:02] SMILES Parse Error: Failed parsing SMILES 'C[C@H](NC([C@H](O[C@@H]2([C@@H](NC(=O)C)[C@H](O[R3])O[C@H](CO)[C@@H](O[C@@H]1(O[C@H](CO)[C@@H](O[R2])[C@H](O)[C@@H](NC(=O)C)1))2))C)=O)C(N[C@H](CCC(=O)N[C@@H](CCC[C@@H](NC(=O)[C@H](CCC[C@H](C(=O)[O-])[NH3+])NC(=O)CC[C@@H](NC(=O)[C@@H](NC([C@H](O[C@@H]4([C@@H](NC(=O)C)C5(OCC([C@@H](O[C@@H]3(O[C@H](CO)[C@@H](O[R1])[C@H](O)[C@@H](NC(=O)C)3))4)O5)))C)=O)C)C(=O)[O-])C(=O)[O-])C(N[C@H](C)C(=O)[O-])=O)C(=O)[O-])=O' for input: 'C[C@H](NC([C@H](O[C@@H]2([C@@H](NC(=O)C)[C@H](O[R3])O[C@H](CO)[C@@H](O[C@@H]1(O[C@H](CO)[C@@H](O[R2])[C@H](O)[C@@H](NC(=O)C)1))2))C)=O)C(N[C@H](CCC(=O)N[C@@H](CCC[C@@H](NC(=O)[C@H](CCC[C@H](C(=O)[O-])[NH3+])NC(=O)CC[C@@H](NC(=O)[C@@H](NC([C@H](O[C@@H]4([C@@H](NC(=O)C)C5(OCC([C@@H](O[C@@H]3(O[C@H](CO)[C@@H](O[R1])[C@H](O)[C@@H](NC(=O)C)3))4)O5)))C)=O)C)C(=O)[O-])C(=O)[O-])C(N[C@H](C)C(=O)[O-])=O)C(=O)[O-])=O'\n",
      "[09:29:02] SMILES Parse Error: syntax error while parsing: C[N+]([R3])([R1])[R2]\n",
      "[09:29:02] SMILES Parse Error: Failed parsing SMILES 'C[N+]([R3])([R1])[R2]' for input: 'C[N+]([R3])([R1])[R2]'\n",
      "[09:29:02] SMILES Parse Error: syntax error while parsing: CC(C)=CCCC(\\C)=C/CCC(\\C)=C/CCC(/C)=C/CCC(/C)=C/CCC(/C)=C/CCC(/C)=C/CCC(/C)=C/CCC(/C)=C/CCC(/C)=C/CCC(/C)=C/COP(OP(O[C@H]4(O[C@H](CO)[C@@H](O[C@@H]3(O[C@H](CO)[C@@H](O[C@@H]2(O[C@H](CO)[C@@H](O[C@@H]1(O[C@H](CO)[C@@H](O[R])[C@H](O)[C@@H](NC(=O)C)1))[C@H](O[C@@H](C(=O)N[C@@H](C)C(N[C@H](CCC(=O)N[C@@H](CCC[C@H](C([O-])=O)[NH3+])C(N[C@H](C)C(=O)[O-])=O)C(=O)[O-])=O)C)[C@H]2NC(=O)C))[C@H](O)[C@@H](NC(=O)C)3))[C@H](O[C@@H](C(=O)N[C@@H](C)C(N[C@H](CCC(=O)N[C@@H](CCC[C@@H]([NH3+])C([O-])=O)C(N[C@H](C)C(=O)[O-])=O)C(=O)[O-])=O)C)[C@@H](NC(=O)C)4))([O-])=O)(=O)[O-]\n",
      "[09:29:02] SMILES Parse Error: Failed parsing SMILES 'CC(C)=CCCC(\\C)=C/CCC(\\C)=C/CCC(/C)=C/CCC(/C)=C/CCC(/C)=C/CCC(/C)=C/CCC(/C)=C/CCC(/C)=C/CCC(/C)=C/CCC(/C)=C/COP(OP(O[C@H]4(O[C@H](CO)[C@@H](O[C@@H]3(O[C@H](CO)[C@@H](O[C@@H]2(O[C@H](CO)[C@@H](O[C@@H]1(O[C@H](CO)[C@@H](O[R])[C@H](O)[C@@H](NC(=O)C)1))[C@H](O[C@@H](C(=O)N[C@@H](C)C(N[C@H](CCC(=O)N[C@@H](CCC[C@H](C([O-])=O)[NH3+])C(N[C@H](C)C(=O)[O-])=O)C(=O)[O-])=O)C)[C@H]2NC(=O)C))[C@H](O)[C@@H](NC(=O)C)3))[C@H](O[C@@H](C(=O)N[C@@H](C)C(N[C@H](CCC(=O)N[C@@H](CCC[C@@H]([NH3+])C([O-])=O)C(N[C@H](C)C(=O)[O-])=O)C(=O)[O-])=O)C)[C@@H](NC(=O)C)4))([O-])=O)(=O)[O-]' for input: 'CC(C)=CCCC(\\C)=C/CCC(\\C)=C/CCC(/C)=C/CCC(/C)=C/CCC(/C)=C/CCC(/C)=C/CCC(/C)=C/CCC(/C)=C/CCC(/C)=C/CCC(/C)=C/COP(OP(O[C@H]4(O[C@H](CO)[C@@H](O[C@@H]3(O[C@H](CO)[C@@H](O[C@@H]2(O[C@H](CO)[C@@H](O[C@@H]1(O[C@H](CO)[C@@H](O[R])[C@H](O)[C@@H](NC(=O)C)1))[C@H](O[C@@H](C(=O)N[C@@H](C)C(N[C@H](CCC(=O)N[C@@H](CCC[C@H](C([O-])=O)[NH3+])C(N[C@H](C)C(=O)[O-])=O)C(=O)[O-])=O)C)[C@H]... truncated"
     ]
    },
    {
     "name": "stdout",
     "output_type": "stream",
     "text": [
      "error CPD-20740\n",
      "error CPD-10692\n",
      "error FORMYL-GROUP\n",
      "error CPD-15860\n",
      "error CPD-15861\n",
      "error CPD-17986\n",
      "error CPD-18805\n",
      "error CPD-17987\n",
      "error CPD-17985\n",
      "error CPD-18809\n",
      "error CPD0-2579\n",
      "error CPD-17988\n",
      "error A-METHYLATED-AMINE\n",
      "error CPD-18807\n",
      "error CPD-17968\n",
      "error CPD-23433\n",
      "error CPD-17969\n",
      "error CPD-17932\n",
      "error CPD-23432\n",
      "error CPD-17947\n",
      "error CPD-8586\n",
      "error CPD-12309\n",
      "error CPD-12230\n",
      "error CPD-12000\n",
      "error CPD-12311\n",
      "error CPD0-2273\n",
      "error CPD-11999\n",
      "error ALPHA-N-ACETYLNEURAMINYL-ETCETERA-GALACT\n",
      "error SUBSTITUTED-AMINE\n",
      "error CPD-20739\n",
      "error CPD-20738\n",
      "error CPD-7250\n",
      "error CPD-7251\n",
      "error CPD-23447\n"
     ]
    },
    {
     "name": "stderr",
     "output_type": "stream",
     "text": [
      "[09:29:02] SMILES Parse Error: syntax error while parsing: CC(C)=CCCC(\\C)=C/CCC(\\C)=C/CCC(/C)=C/CCC(/C)=C/CCC(/C)=C/CCC(/C)=C/CCC(/C)=C/CCC(/C)=C/CCC(/C)=C/CCC(/C)=C/COP(OP(O[C@H]2(O[C@H](CO)[C@@H](O[C@@H]1(O[C@H](CO)[C@@H](O[R])[C@H](O)[C@@H](NC(=O)C)1))[C@H](O[C@@H](C(=O)N[C@@H](C)C(N[C@H](CCC(=O)N[C@@H](CCC[C@H](C(=O)[O-])[NH3+])C([O-])=O)C(=O)[O-])=O)C)[C@@H](NC(=O)C)2))([O-])=O)(=O)[O-]\n",
      "[09:29:02] SMILES Parse Error: Failed parsing SMILES 'CC(C)=CCCC(\\C)=C/CCC(\\C)=C/CCC(/C)=C/CCC(/C)=C/CCC(/C)=C/CCC(/C)=C/CCC(/C)=C/CCC(/C)=C/CCC(/C)=C/CCC(/C)=C/COP(OP(O[C@H]2(O[C@H](CO)[C@@H](O[C@@H]1(O[C@H](CO)[C@@H](O[R])[C@H](O)[C@@H](NC(=O)C)1))[C@H](O[C@@H](C(=O)N[C@@H](C)C(N[C@H](CCC(=O)N[C@@H](CCC[C@H](C(=O)[O-])[NH3+])C([O-])=O)C(=O)[O-])=O)C)[C@@H](NC(=O)C)2))([O-])=O)(=O)[O-]' for input: 'CC(C)=CCCC(\\C)=C/CCC(\\C)=C/CCC(/C)=C/CCC(/C)=C/CCC(/C)=C/CCC(/C)=C/CCC(/C)=C/CCC(/C)=C/CCC(/C)=C/CCC(/C)=C/COP(OP(O[C@H]2(O[C@H](CO)[C@@H](O[C@@H]1(O[C@H](CO)[C@@H](O[R])[C@H](O)[C@@H](NC(=O)C)1))[C@H](O[C@@H](C(=O)N[C@@H](C)C(N[C@H](CCC(=O)N[C@@H](CCC[C@H](C(=O)[O-])[NH3+])C([O-])=O)C(=O)[O-])=O)C)[C@@H](NC(=O)C)2))([O-])=O)(=O)[O-]'\n",
      "[09:29:02] SMILES Parse Error: syntax error while parsing: CC(C)=CCCC(\\C)=C/CCC(\\C)=C/CCC(/C)=C/CCC(/C)=C/CCC(/C)=C/CCC(/C)=C/CCC(/C)=C/CCC(/C)=C/CCC(/C)=C/CCC(/C)=C/COP(OP(O[C@H]2(O[C@H](CO)[C@@H](O[C@@H]1(O[C@H](CO)[C@@H](O[R])[C@H](O)[C@@H](NC(=O)C)1))[C@H](O[C@@H](C(=O)N[C@@H](C)C(N[C@H](CCC(=O)N[C@@H](CCC[C@H](C(=O)[O-])[NH3+])C(N[C@H](CCSC)C(=O)[O-])=O)C(=O)[O-])=O)C)[C@@H](NC(=O)C)2))([O-])=O)(=O)[O-]\n",
      "[09:29:02] SMILES Parse Error: Failed parsing SMILES 'CC(C)=CCCC(\\C)=C/CCC(\\C)=C/CCC(/C)=C/CCC(/C)=C/CCC(/C)=C/CCC(/C)=C/CCC(/C)=C/CCC(/C)=C/CCC(/C)=C/CCC(/C)=C/COP(OP(O[C@H]2(O[C@H](CO)[C@@H](O[C@@H]1(O[C@H](CO)[C@@H](O[R])[C@H](O)[C@@H](NC(=O)C)1))[C@H](O[C@@H](C(=O)N[C@@H](C)C(N[C@H](CCC(=O)N[C@@H](CCC[C@H](C(=O)[O-])[NH3+])C(N[C@H](CCSC)C(=O)[O-])=O)C(=O)[O-])=O)C)[C@@H](NC(=O)C)2))([O-])=O)(=O)[O-]' for input: 'CC(C)=CCCC(\\C)=C/CCC(\\C)=C/CCC(/C)=C/CCC(/C)=C/CCC(/C)=C/CCC(/C)=C/CCC(/C)=C/CCC(/C)=C/CCC(/C)=C/CCC(/C)=C/COP(OP(O[C@H]2(O[C@H](CO)[C@@H](O[C@@H]1(O[C@H](CO)[C@@H](O[R])[C@H](O)[C@@H](NC(=O)C)1))[C@H](O[C@@H](C(=O)N[C@@H](C)C(N[C@H](CCC(=O)N[C@@H](CCC[C@H](C(=O)[O-])[NH3+])C(N[C@H](CCSC)C(=O)[O-])=O)C(=O)[O-])=O)C)[C@@H](NC(=O)C)2))([O-])=O)(=O)[O-]'\n",
      "[09:29:02] SMILES Parse Error: syntax error while parsing: CC(C)=CCCC(\\C)=C/CCC(\\C)=C/CCC(/C)=C/CCC(/C)=C/CCC(/C)=C/CCC(/C)=C/CCC(/C)=C/CCC(/C)=C/CCC(/C)=C/CCC(/C)=C/COP(OP(O[C@H]2(O[C@H](CO)[C@@H](O[C@@H]1(O[C@H](CO)[C@@H](O[R])[C@H](O)[C@@H](NC(=O)C)1))[C@H](O[C@@H](C(=O)N[C@@H](C)C(N[C@H](CCC(=O)N[C@@H](CCC[C@H](C(=O)[O-])[NH3+])C(NCC(=O)[O-])=O)C(=O)[O-])=O)C)[C@@H](NC(=O)C)2))([O-])=O)(=O)[O-]\n",
      "[09:29:02] SMILES Parse Error: Failed parsing SMILES 'CC(C)=CCCC(\\C)=C/CCC(\\C)=C/CCC(/C)=C/CCC(/C)=C/CCC(/C)=C/CCC(/C)=C/CCC(/C)=C/CCC(/C)=C/CCC(/C)=C/CCC(/C)=C/COP(OP(O[C@H]2(O[C@H](CO)[C@@H](O[C@@H]1(O[C@H](CO)[C@@H](O[R])[C@H](O)[C@@H](NC(=O)C)1))[C@H](O[C@@H](C(=O)N[C@@H](C)C(N[C@H](CCC(=O)N[C@@H](CCC[C@H](C(=O)[O-])[NH3+])C(NCC(=O)[O-])=O)C(=O)[O-])=O)C)[C@@H](NC(=O)C)2))([O-])=O)(=O)[O-]' for input: 'CC(C)=CCCC(\\C)=C/CCC(\\C)=C/CCC(/C)=C/CCC(/C)=C/CCC(/C)=C/CCC(/C)=C/CCC(/C)=C/CCC(/C)=C/CCC(/C)=C/CCC(/C)=C/COP(OP(O[C@H]2(O[C@H](CO)[C@@H](O[C@@H]1(O[C@H](CO)[C@@H](O[R])[C@H](O)[C@@H](NC(=O)C)1))[C@H](O[C@@H](C(=O)N[C@@H](C)C(N[C@H](CCC(=O)N[C@@H](CCC[C@H](C(=O)[O-])[NH3+])C(NCC(=O)[O-])=O)C(=O)[O-])=O)C)[C@@H](NC(=O)C)2))([O-])=O)(=O)[O-]'\n",
      "[09:29:02] SMILES Parse Error: syntax error while parsing: CC(C)=CCCC(\\C)=C/CCC(\\C)=C/CCC(/C)=C/CCC(/C)=C/CCC(/C)=C/CCC(/C)=C/CCC(/C)=C/CCC(/C)=C/CCC(/C)=C/CCC(/C)=C/COP(OP(O[C@H]4(O[C@H](CO)[C@@H](O[C@@H]1(O[C@H](CO)[C@@H](O[R1])[C@H](O)[C@@H](NC(=O)C)1))[C@H](O[C@@H](C(=O)N[C@@H](C)C(N[C@H](CCC(=O)N[C@@H](CCC[C@@H](NC(=O)[C@@H](C)NC(=O)[C@H](CCC[C@H](C(=O)[O-])[NH3+])NC(=O)CC[C@@H](NC(=O)[C@@H](NC([C@H](O[C@@H]3([C@@H](NC(=O)C)[C@H](O[R3])O[C@H](CO)[C@@H](O[C@@H]2(O[C@H](CO)[C@@H](O[R2])[C@H](O)[C@@H](NC(=O)C)2))3))C)=O)C)C(=O)[O-])C(=O)[O-])C(N[C@H](C)C(=O)[O-])=O)C(=O)[O-])=O)C)[C@@H](NC(=O)C)4))([O-])=O)(=O)[O-]\n",
      "[09:29:02] SMILES Parse Error: Failed parsing SMILES 'CC(C)=CCCC(\\C)=C/CCC(\\C)=C/CCC(/C)=C/CCC(/C)=C/CCC(/C)=C/CCC(/C)=C/CCC(/C)=C/CCC(/C)=C/CCC(/C)=C/CCC(/C)=C/COP(OP(O[C@H]4(O[C@H](CO)[C@@H](O[C@@H]1(O[C@H](CO)[C@@H](O[R1])[C@H](O)[C@@H](NC(=O)C)1))[C@H](O[C@@H](C(=O)N[C@@H](C)C(N[C@H](CCC(=O)N[C@@H](CCC[C@@H](NC(=O)[C@@H](C)NC(=O)[C@H](CCC[C@H](C(=O)[O-])[NH3+])NC(=O)CC[C@@H](NC(=O)[C@@H](NC([C@H](O[C@@H]3([C@@H](NC(=O)C)[C@H](O[R3])O[C@H](CO)[C@@H](O[C@@H]2(O[C@H](CO)[C@@H](O[R2])[C@H](O)[C@@H](NC(=O)C)2))3))C)=O)C)C(=O)[O-])C(=O)[O-])C(N[C@H](C)C(=O)[O-])=O)C(=O)[O-])=O)C)[C@@H](NC(=O)C)4))([O-])=O)(=O)[O-]' for input: 'CC(C)=CCCC(\\C)=C/CCC(\\C)=C/CCC(/C)=C/CCC(/C)=C/CCC(/C)=C/CCC(/C)=C/CCC(/C)=C/CCC(/C)=C/CCC(/C)=C/CCC(/C)=C/COP(OP(O[C@H]4(O[C@H](CO)[C@@H](O[C@@H]1(O[C@H](CO)[C@@H](O[R1])[C@H](O)[C@@H](NC(=O)C)1))[C@H](O[C@@H](C(=O)N[C@@H](C)C(N[C@H](CCC(=O)N[C@@H](CCC[C@@H](NC(=O)[C@@H](C)NC(=O)[C@H](CCC[C@H](C(=O)[O-])[NH3+])NC(=O)CC[C@@H](NC(=O)[C@@H](NC([C@H](O[C@@H]3([C@@H](N... truncated[09:29:02] SMILES Parse Error: syntax error while parsing: CC(C)=CCCC(\\C)=C/CCC(\\C)=C/CCC(/C)=C/CCC(/C)=C/CCC(/C)=C/CCC(/C)=C/CCC(/C)=C/CCC(/C)=C/CCC(/C)=C/CCC(/C)=C/COP(=O)(OP(O[C@H]4(O[C@H](CO)[C@@H](O[C@@H]1(O[C@H](CO)[C@@H](O[R1])[C@H](O)[C@@H](NC(=O)C)1))[C@H](O[C@@H](C(=O)N[C@@H](C)C(N[C@H](CCC(=O)N[C@@H](CCC[C@H](C(=O)[O-])[NH3+])C(N[C@H](CCC[C@@H](C(=O)[O-])NC(=O)CC[C@@H](NC(=O)[C@@H](NC([C@H](O[C@@H]3([C@@H](NC(=O)C)[C@H](O[R3])O[C@H](CO)[C@@H](O[C@@H]2(O[C@H](CO)[C@@H](O[R2])[C@H](O)[C@@H](NC(=O)C)2))3))C)=O)C)C(=O)[O-])C(=O)[O-])=O)C(=O)[O-])=O)C)[C@@H](NC(=O)C)4))([O-])=O)[O-]\n",
      "[09:29:02] SMILES Parse Error: Failed parsing SMILES 'CC(C)=CCCC(\\C)=C/CCC(\\C)=C/CCC(/C)=C/CCC(/C)=C/CCC(/C)=C/CCC(/C)=C/CCC(/C)=C/CCC(/C)=C/CCC(/C)=C/CCC(/C)=C/COP(=O)(OP(O[C@H]4(O[C@H](CO)[C@@H](O[C@@H]1(O[C@H](CO)[C@@H](O[R1])[C@H](O)[C@@H](NC(=O)C)1))[C@H](O[C@@H](C(=O)N[C@@H](C)C(N[C@H](CCC(=O)N[C@@H](CCC[C@H](C(=O)[O-])[NH3+])C(N[C@H](CCC[C@@H](C(=O)[O-])NC(=O)CC[C@@H](NC(=O)[C@@H](NC([C@H](O[C@@H]3([C@@H](NC(=O)C)[C@H](O[R3])O[C@H](CO)[C@@H](O[C@@H]2(O[C@H](CO)[C@@H](O[R2])[C@H](O)[C@@H](NC(=O)C)2))3))C)=O)C)C(=O)[O-])C(=O)[O-])=O)C(=O)[O-])=O)C)[C@@H](NC(=O)C)4))([O-])=O)[O-]' for input: 'CC(C)=CCCC(\\C)=C/CCC(\\C)=C/CCC(/C)=C/CCC(/C)=C/CCC(/C)=C/CCC(/C)=C/CCC(/C)=C/CCC(/C)=C/CCC(/C)=C/CCC(/C)=C/COP(=O)(OP(O[C@H]4(O[C@H](CO)[C@@H](O[C@@H]1(O[C@H](CO)[C@@H](O[R1])[C@H](O)[C@@H](NC(=O)C)1))[C@H](O[C@@H](C(=O)N[C@@H](C)C(N[C@H](CCC(=O)N[C@@H](CCC[C@H](C(=O)[O-])[NH3+])C(N[C@H](CCC[C@@H](C(=O)[O-])NC(=O)CC[C@@H](NC(=O)[C@@H](NC([C@H](O[C@@H]3([C@@H](NC(=O)C)[C@H](O[R3])O[C@H](CO)[C@@... truncated[09:29:02] SMILES Parse Error: syntax error while parsing: CC(C)=CCCC(\\C)=C/CCC(\\C)=C/CCC(/C)=C/CCC(/C)=C/CCC(/C)=C/CCC(/C)=C/CCC(/C)=C/CCC(/C)=C/CCC(/C)=C/CCC(/C)=C/COP(=O)(OP(O[C@H]4(O[C@H](CO)[C@@H](O[C@@H]1(O[C@H](CO)[C@@H](O[R1])[C@H](O)[C@@H](NC(=O)C)1))[C@H](O[C@@H](C(=O)N[C@@H](C)C(N[C@H](CCC(=O)N[C@@H](CCC[C@H](C(=O)[O-])[NH3+])C(N[C@H](CCC[C@@H](C(N[C@H](C)C(=O)[O-])=O)NC(=O)CC[C@@H](NC(=O)[C@@H](NC([C@H](O[C@@H]3([C@@H](NC(=O)C)[C@H](O[R3])O[C@H](CO)[C@@H](O[C@@H]2(O[C@H](CO)[C@@H](O[R2])[C@H](O)[C@@H](NC(=O)C)2))3))C)=O)C)C(=O)[O-])C(=O)[O-])=O)C(=O)[O-])=O)C)[C@@H](NC(=O)C)4))([O-])=O)[O-]\n",
      "[09:29:02] SMILES Parse Error: Failed parsing SMILES 'CC(C)=CCCC(\\C)=C/CCC(\\C)=C/CCC(/C)=C/CCC(/C)=C/CCC(/C)=C/CCC(/C)=C/CCC(/C)=C/CCC(/C)=C/CCC(/C)=C/CCC(/C)=C/COP(=O)(OP(O[C@H]4(O[C@H](CO)[C@@H](O[C@@H]1(O[C@H](CO)[C@@H](O[R1])[C@H](O)[C@@H](NC(=O)C)1))[C@H](O[C@@H](C(=O)N[C@@H](C)C(N[C@H](CCC(=O)N[C@@H](CCC[C@H](C(=O)[O-])[NH3+])C(N[C@H](CCC[C@@H](C(N[C@H](C)C(=O)[O-])=O)NC(=O)CC[C@@H](NC(=O)[C@@H](NC([C@H](O[C@@H]3([C@@H](NC(=O)C)[C@H](O[R3])O[C@H](CO)[C@@H](O[C@@H]2(O[C@H](CO)[C@@H](O[R2])[C@H](O)[C@@H](NC(=O)C)2))3))C)=O)C)C(=O)[O-])C(=O)[O-])=O)C(=O)[O-])=O)C)[C@@H](NC(=O)C)4))([O-])=O)[O-]' for input: 'CC(C)=CCCC(\\C)=C/CCC(\\C)=C/CCC(/C)=C/CCC(/C)=C/CCC(/C)=C/CCC(/C)=C/CCC(/C)=C/CCC(/C)=C/CCC(/C)=C/CCC(/C)=C/COP(=O)(OP(O[C@H]4(O[C@H](CO)[C@@H](O[C@@H]1(O[C@H](CO)[C@@H](O[R1])[C@H](O)[C@@H](NC(=O)C)1))[C@H](O[C@@H](C(=O)N[C@@H](C)C(N[C@H](CCC(=O)N[C@@H](CCC[C@H](C(=O)[O-])[NH3+])C(N[C@H](CCC[C@@H](C(N[C@H](C)C(=O)[O-])=O)NC(=O)CC[C@@H](NC(=O)[C@@H](NC([C@H](O[C@@H]3([C@@H](NC(=O)... truncated[09:29:02] SMILES Parse Error: syntax error while parsing: C(OP(=O)([O-])OP(=O)(O[R])[O-])[C@H]1(O[C@@H]([a\n",
      "[09:29:02] SMILES Parse Error: Failed parsing SMILES 'C(OP(=O)([O-])OP(=O)(O[R])[O-])[C@H]1(O[C@@H]([a' for input: 'C(OP(=O)([O-])OP(=O)(O[R])[O-])[C@H]1(O[C@@H]([a'\n",
      "[09:29:02] SMILES Parse Error: syntax error while parsing: CC(C)=CCCC(\\C)=C/CCC(\\C)=C/CCC(/C)=C/CCC(/C)=C/CCC(/C)=C/CCC(/C)=C/CCC(/C)=C/CCC(/C)=C/CCC(/C)=C/CCC(/C)=C/COP([O-])(OP([O-])(O[C@@H]8([C@H](NC(=O)C)[C@@H](O[C@H](C)C(=O)N[C@@H](C)C(N[C@H](CCC(=O)N[C@@H](CCCCNC(=O)C[C@@H]([NH3+])C(=O)N)C(N[C@H](C)C(=O)N[C@H](C)C([O-])=O)=O)C(=O)N)=O)[C@H](O[C@@H]7(O[C@H](CO)[C@@H](O[C@H]6([C@H](NC(=O)C)[C@@H](O[C@H](C)C(=O)N[C@@H](C)C(N[C@H](CCC(=O)N[C@@H](CCCCNC(=O)C[C@@H]([NH3+])C(=O)N)C(NC(=O)[C@@H](CC(=O)NCCCC[C@@H](C(N[C@H](C)C(=O)[O-])=O)NC(=O)CC[C@@H](NC(=O)[C@@H](NC(=O)[C@@H](C)O[C@H]4([C@H](O[C@@H]3(O[C@H](CO)[C@@H](O[C@H]2([C@H](NC(=O)C)[C@@H](O[C@H](C)C(=O)N[C@@H](C)C(N[C@H](CCC(=O)N[C@@H](CCCCNC(=O)C[C@@H]([NH3+])C(=O)N)C(N[C@H](C)C(=O)N[C@H](C)C([O-])=O)=O)C(=O)N)=O)[C@H](O[C@@H]1(O[C@H](CO)[C@@H](O[R1])[C@H](O)[C@@H](NC(=O)C)1))[C@@H](CO)O2))[C@H](O)[C@@H](NC(=O)C)3))[C@@H](CO)O[C@H]([C@H](NC(=O)C)4)O[R2]))C)C(=O)N)[NH3+])=O)C(=O)N)=O)[C@H](O[C@@H]5(O[C@H](CO)[C@@H](O[R])[C@H](O)[... truncated[09:29:02] SMILES Parse Error: Failed parsing SMILES 'CC(C)=CCCC(\\C)=C/CCC(\\C)=C/CCC(/C)=C/CCC(/C)=C/CCC(/C)=C/CCC(/C)=C/CCC(/C)=C/CCC(/C)=C/CCC(/C)=C/CCC(/C)=C/COP([O-])(OP([O-])(O[C@@H]8([C@H](NC(=O)C)[C@@H](O[C@H](C)C(=O)N[C@@H](C)C(N[C@H](CCC(=O)N[C@@H](CCCCNC(=O)C[C@@H]([NH3+])C(=O)N)C(N[C@H](C)C(=O)N[C@H](C)C([O-])=O)=O)C(=O)N)=O)[C@H](O[C@@H]7(O[C@H](CO)[C@@H](O[C@H]6([C@H](NC(=O)C)[C@@H](O[C@H](C)C(=O)N[C@@H](C)C(N[C@H](CCC(=O)N[C@@H](CCCCNC(=O)C[C@@H]([NH3+])C(=O)N)C(NC(=O)[C@@H](CC(=O)NCCCC[C@@H](C(N[C@H](C)C(=O)[O-])=O)NC(=O)CC[C@@H](NC(=O)[C@@H](NC(=O)[C@@H](C)O[C@H]4([C@H](O[C@@H]3(O[C@H](CO)[C@@H](O[C@H]2([C@H](NC(=O)C)[C@@H](O[C@H](C)C(=O)N[C@@H](C)C(N[C@H](CCC(=O)N[C@@H](CCCCNC(=O)C[C@@H]([NH3+])C(=O)N)C(N[C@H](C)C(=O)N[C@H](C)C([O-])=O)=O)C(=O)N)=O)[C@H](O[C@@H]1(O[C@H](CO)[C@@H](O[R1])[C@H](O)[C@@H](NC(=O)C)1))[C@@H](CO)O2))[C@H](O)[C@@H](NC(=O)C)3))[C@@H](CO)O[C@H]([C@H](NC(=O)C)4)O[R2]))C)C(=O)N)[NH3+])=O)C(=O)N)=O)[C@H](O[C@@H]5(O[C@H](CO)[C@@H](O[R])[C@H](O)[C@@H]... truncated[09:29:03] SMILES Parse Error: syntax error while parsing: CC(C)=CCCC(\\C)=C/CCC(\\C)=C/CCC(/C)=C/CCC(/C)=C/CCC(/C)=C/CCC(/C)=C/CCC(/C)=C/CCC(/C)=C/CCC(/C)=C/CCC(/C)=C/COP([O-])(=O)OP([O-])(=O)O[C@@H]8([C@H](NC(=O)C)[C@@H](O[C@H](C)C(=O)N[C@@H](C)C(=O)N[C@H](CCC(=O)N[C@@H](CCCCNC(CNC(CNC(CNC(CNC(C[NH3+])=O)=O)=O)=O)=O)C(N[C@H](C)C(N[C@@H](C(=O)[O-])C)=O)=O)C(=O)N)[C@H](O[C@@H]7(O[C@H](CO)[C@@H](O[C@H]6([C@H](NC(=O)C)[C@@H](O[C@H](C)C(=O)N[C@@H](C)C(=O)N[C@H](CCC(=O)N[C@@H](CCCCNC(CNC(CNC(CNC(CNC(C[NH3+])=O)=O)=O)=O)=O)C(N[C@H](C)C(NCC(=O)NCC(NCC(=O)NCC(NCC(=O)NCCCC[C@@H](C(N[C@H](C)C(N[C@@H](C(=O)[O-])C)=O)=O)NC(=O)CC[C@@H](NC(=O)[C@@H](NC(=O)[C@@H](C)O[C@H]4([C@H](O[C@@H]1(O[C@H](CO)[C@@H](O[R2])[C@H](O)[C@@H](NC(=O)C)1))[C@@H](CO)O[C@@H](O[C@H]3([C@H](O)[C@@H](NC(=O)C)[C@H](O[C@H]2([C@H](O[C@H](C)C(=O)N[C@@H](C)C(=O)N[C@H](CCC(=O)N[C@@H](CCCCNC(CNC(CNC(CNC(CNC(C[NH3+])=O)=O)=O)=O)=O)C(N[C@H](C)C(N[C@@H](C(=O)[O-])C)=O)=O)C(=O)N)[C@@H](NC(=O)C)[C@@H](O[C@H](CO)2)O[R3]))O[C@H](CO)3))[C@H... truncated[09:29:03] SMILES Parse Error: Failed parsing SMILES 'CC(C)=CCCC(\\C)=C/CCC(\\C)=C/CCC(/C)=C/CCC(/C)=C/CCC(/C)=C/CCC(/C)=C/CCC(/C)=C/CCC(/C)=C/CCC(/C)=C/CCC(/C)=C/COP([O-])(=O)OP([O-])(=O)O[C@@H]8([C@H](NC(=O)C)[C@@H](O[C@H](C)C(=O)N[C@@H](C)C(=O)N[C@H](CCC(=O)N[C@@H](CCCCNC(CNC(CNC(CNC(CNC(C[NH3+])=O)=O)=O)=O)=O)C(N[C@H](C)C(N[C@@H](C(=O)[O-])C)=O)=O)C(=O)N)[C@H](O[C@@H]7(O[C@H](CO)[C@@H](O[C@H]6([C@H](NC(=O)C)[C@@H](O[C@H](C)C(=O)N[C@@H](C)C(=O)N[C@H](CCC(=O)N[C@@H](CCCCNC(CNC(CNC(CNC(CNC(C[NH3+])=O)=O)=O)=O)=O)C(N[C@H](C)C(NCC(=O)NCC(NCC(=O)NCC(NCC(=O)NCCCC[C@@H](C(N[C@H](C)C(N[C@@H](C(=O)[O-])C)=O)=O)NC(=O)CC[C@@H](NC(=O)[C@@H](NC(=O)[C@@H](C)O[C@H]4([C@H](O[C@@H]1(O[C@H](CO)[C@@H](O[R2])[C@H](O)[C@@H](NC(=O)C)1))[C@@H](CO)O[C@@H](O[C@H]3([C@H](O)[C@@H](NC(=O)C)[C@H](O[C@H]2([C@H](O[C@H](C)C(=O)N[C@@H](C)C(=O)N[C@H](CCC(=O)N[C@@H](CCCCNC(CNC(CNC(CNC(CNC(C[NH3+])=O)=O)=O)=O)=O)C(N[C@H](C)C(N[C@@H](C(=O)[O-])C)=O)=O)C(=O)N)[C@@H](NC(=O)C)[C@@H](O[C@H](CO)2)O[R3]))O[C@H](CO)3))[C@H](NC(... truncated[09:29:03] SMILES Parse Error: syntax error while parsing: CC(C)=CCCC(\\C)=C/CCC(\\C)=C/CCC(/C)=C/CCC(/C)=C/CCC(/C)=C/CCC(/C)=C/CCC(/C)=C/CCC(/C)=C/CCC(/C)=C/COP([O-])(=O)OP([O-])(=O)O[C@@H]8([C@H](NC(=O)C)[C@@H](O[C@H](C)C(=O)N[C@@H](C)C(=O)N[C@@H](C(=O)[O-])CCC(=O)N[C@@H](CCC[C@@H]([NH3+])C(=O)[O-])C(N[C@H](C)C(=O)[O-])=O)[C@H](O[C@@H]7(O[C@H](CO)[C@@H](O[C@H]6([C@H](NC(=O)C)[C@@H](O[C@H](C)C(=O)N[C@@H](C)C(=O)N[C@@H](C(=O)[O-])CCC(=O)N[C@H](CCC[C@@H]([NH3+])C(=O)[O-])C(N[C@H](C)C(=O)N[C@@H](C(=O)[O-])CCC[C@@H](C(N[C@H](C)C(=O)[O-])=O)NC(=O)CC[C@H](C(=O)[O-])NC(=O)[C@H](C)NC(=O)[C@@H](C)O[C@H]4([C@H](O[C@@H]1(O[C@H](CO)[C@@H](O[R3])[C@H](O)[C@@H](NC(=O)C)1))[C@@H](CO)O[C@@H](O[C@@H]3([C@@H](CO)O[C@@H](O[C@H]2([C@H](O[C@H](C)C(=O)N[C@@H](C)C(=O)N[C@@H](C(=O)[O-])CCC(=O)N[C@@H](CCC[C@@H]([NH3+])C(=O)[O-])C(N[C@H](C)C(=O)[O-])=O)[C@@H](NC(=O)C)[C@@H](O[C@H](CO)2)O[R2]))[C@H](NC(=O)C)[C@@H](O)3))[C@H](NC(=O)C)4))=O)[C@H](O[C@@H]5(O[C@H](CO)[C@@H](O[R1])[C@H](O)[C@@H](NC(=O)C)5))[C@@H](CO)O... truncated[09:29:03] SMILES Parse Error: Failed parsing SMILES 'CC(C)=CCCC(\\C)=C/CCC(\\C)=C/CCC(/C)=C/CCC(/C)=C/CCC(/C)=C/CCC(/C)=C/CCC(/C)=C/CCC(/C)=C/CCC(/C)=C/COP([O-])(=O)OP([O-])(=O)O[C@@H]8([C@H](NC(=O)C)[C@@H](O[C@H](C)C(=O)N[C@@H](C)C(=O)N[C@@H](C(=O)[O-])CCC(=O)N[C@@H](CCC[C@@H]([NH3+])C(=O)[O-])C(N[C@H](C)C(=O)[O-])=O)[C@H](O[C@@H]7(O[C@H](CO)[C@@H](O[C@H]6([C@H](NC(=O)C)[C@@H](O[C@H](C)C(=O)N[C@@H](C)C(=O)N[C@@H](C(=O)[O-])CCC(=O)N[C@H](CCC[C@@H]([NH3+])C(=O)[O-])C(N[C@H](C)C(=O)N[C@@H](C(=O)[O-])CCC[C@@H](C(N[C@H](C)C(=O)[O-])=O)NC(=O)CC[C@H](C(=O)[O-])NC(=O)[C@H](C)NC(=O)[C@@H](C)O[C@H]4([C@H](O[C@@H]1(O[C@H](CO)[C@@H](O[R3])[C@H](O)[C@@H](NC(=O)C)1))[C@@H](CO)O[C@@H](O[C@@H]3([C@@H](CO)O[C@@H](O[C@H]2([C@H](O[C@H](C)C(=O)N[C@@H](C)C(=O)N[C@@H](C(=O)[O-])CCC(=O)N[C@@H](CCC[C@@H]([NH3+])C(=O)[O-])C(N[C@H](C)C(=O)[O-])=O)[C@@H](NC(=O)C)[C@@H](O[C@H](CO)2)O[R2]))[C@H](NC(=O)C)[C@@H](O)3))[C@H](NC(=O)C)4))=O)[C@H](O[C@@H]5(O[C@H](CO)[C@@H](O[R1])[C@H](O)[C@@H](NC(=O)C)5))[C@@H](CO)O6))[C... truncated[09:29:03] SMILES Parse Error: syntax error while parsing: CC(C)=CCCC(\\C)=C/CCC(\\C)=C/CCC(/C)=C/CCC(/C)=C/CCC(/C)=C/CCC(/C)=C/CCC(/C)=C/CCC(/C)=C/CCC(/C)=C/CCC(/C)=C/COP([O-])(=O)OP([O-])(=O)O[C@@H]8([C@H](NC(=O)C)[C@@H](O[C@H](C)C(=O)NC(C)C(=O)N[C@H](CCC(=O)N[C@H](CCCCNC(=O)C[C@@H]([NH3+])C(N)=O)C(N[C@@H](C)C(=O)N[C@@H](C)C(=O)[O-])=O)C(=O)N)[C@H](O[C@@H]7(O[C@H](CO)[C@@H](O[C@H]6([C@H](NC(=O)C)[C@@H](O[C@H](C)C(=O)NC(C)C(=O)N[C@H](CCC(=O)N[C@H](CCCCNC(=O)C[C@@H]([NH3+])C(N)=O)C(N[C@@H](C)C(=O)NC(=O)[C@H]([NH3+])CC(=O)NCCCC[C@H](C(N[C@@H](C)C(=O)N[C@@H](C)C(=O)[O-])=O)NC(=O)CC[C@@H](NC(=O)C(NC(=O)[C@@H](C)O[C@H]4([C@H](O[C@@H]1(O[C@H](CO)[C@@H](O[R2])[C@H](O)[C@@H](NC(=O)C)1))[C@@H](CO)O[C@@H](O[C@H]3([C@H](O)[C@@H](NC(=O)C)[C@H](O[C@H]2([C@H](O[C@H](C)C(=O)NC(C)C(=O)N[C@H](CCC(=O)N[C@H](CCCCNC(=O)C[C@@H]([NH3+])C(N)=O)C(N[C@@H](C)C(=O)N[C@@H](C)C(=O)[O-])=O)C(=O)N)[C@@H](NC(=O)C)[C@@H](O[C@H](CO)2)O[R3]))O[C@H](CO)3))[C@H](NC(=O)C)4))C)C(=O)N)=O)C(=O)N)[C@H](O[C@@H]5(O[C@H](CO)[C@@H]... truncated[09:29:03] SMILES Parse Error: Failed parsing SMILES 'CC(C)=CCCC(\\C)=C/CCC(\\C)=C/CCC(/C)=C/CCC(/C)=C/CCC(/C)=C/CCC(/C)=C/CCC(/C)=C/CCC(/C)=C/CCC(/C)=C/CCC(/C)=C/COP([O-])(=O)OP([O-])(=O)O[C@@H]8([C@H](NC(=O)C)[C@@H](O[C@H](C)C(=O)NC(C)C(=O)N[C@H](CCC(=O)N[C@H](CCCCNC(=O)C[C@@H]([NH3+])C(N)=O)C(N[C@@H](C)C(=O)N[C@@H](C)C(=O)[O-])=O)C(=O)N)[C@H](O[C@@H]7(O[C@H](CO)[C@@H](O[C@H]6([C@H](NC(=O)C)[C@@H](O[C@H](C)C(=O)NC(C)C(=O)N[C@H](CCC(=O)N[C@H](CCCCNC(=O)C[C@@H]([NH3+])C(N)=O)C(N[C@@H](C)C(=O)NC(=O)[C@H]([NH3+])CC(=O)NCCCC[C@H](C(N[C@@H](C)C(=O)N[C@@H](C)C(=O)[O-])=O)NC(=O)CC[C@@H](NC(=O)C(NC(=O)[C@@H](C)O[C@H]4([C@H](O[C@@H]1(O[C@H](CO)[C@@H](O[R2])[C@H](O)[C@@H](NC(=O)C)1))[C@@H](CO)O[C@@H](O[C@H]3([C@H](O)[C@@H](NC(=O)C)[C@H](O[C@H]2([C@H](O[C@H](C)C(=O)NC(C)C(=O)N[C@H](CCC(=O)N[C@H](CCCCNC(=O)C[C@@H]([NH3+])C(N)=O)C(N[C@@H](C)C(=O)N[C@@H](C)C(=O)[O-])=O)C(=O)N)[C@@H](NC(=O)C)[C@@H](O[C@H](CO)2)O[R3]))O[C@H](CO)3))[C@H](NC(=O)C)4))C)C(=O)N)=O)C(=O)N)[C@H](O[C@@H]5(O[C@H](CO)[C@@H](O[R1... truncated[09:29:03] SMILES Parse Error: syntax error while parsing: C[C@H](NC([C@H](O[C@@H]2([C@@H](NC(=O)C)[C@H](O[R4])O[C@H](CO)[C@@H](O[C@@H]1(O[C@H](CO)[C@@H](O[R3])[C@H](O)[C@@H](NC(=O)C)1))2))C)=O)C(N[C@H](CCC(=O)N[C@@H](CCC[C@H](C(=O)[O-])[NH3+])C(N[C@H](C)C(=O)N[C@H](CCC[C@@H](C(=O)[O-])NC(=O)CC[C@@H](NC(=O)[C@@H](NC([C@H](O[C@@H]4([C@@H](NC(=O)C)[C@H](O[R1])O[C@H](CO)[C@@H](O[C@@H]3(O[C@H](CO)[C@@H](O[R2])[C@H](O)[C@@H](NC(=O)C)3))4))C)=O)C)C(=O)[O-])C(=O)[O-])=O)C(=O)[O-])=O\n",
      "[09:29:03] SMILES Parse Error: Failed parsing SMILES 'C[C@H](NC([C@H](O[C@@H]2([C@@H](NC(=O)C)[C@H](O[R4])O[C@H](CO)[C@@H](O[C@@H]1(O[C@H](CO)[C@@H](O[R3])[C@H](O)[C@@H](NC(=O)C)1))2))C)=O)C(N[C@H](CCC(=O)N[C@@H](CCC[C@H](C(=O)[O-])[NH3+])C(N[C@H](C)C(=O)N[C@H](CCC[C@@H](C(=O)[O-])NC(=O)CC[C@@H](NC(=O)[C@@H](NC([C@H](O[C@@H]4([C@@H](NC(=O)C)[C@H](O[R1])O[C@H](CO)[C@@H](O[C@@H]3(O[C@H](CO)[C@@H](O[R2])[C@H](O)[C@@H](NC(=O)C)3))4))C)=O)C)C(=O)[O-])C(=O)[O-])=O)C(=O)[O-])=O' for input: 'C[C@H](NC([C@H](O[C@@H]2([C@@H](NC(=O)C)[C@H](O[R4])O[C@H](CO)[C@@H](O[C@@H]1(O[C@H](CO)[C@@H](O[R3])[C@H](O)[C@@H](NC(=O)C)1))2))C)=O)C(N[C@H](CCC(=O)N[C@@H](CCC[C@H](C(=O)[O-])[NH3+])C(N[C@H](C)C(=O)N[C@H](CCC[C@@H](C(=O)[O-])NC(=O)CC[C@@H](NC(=O)[C@@H](NC([C@H](O[C@@H]4([C@@H](NC(=O)C)[C@H](O[R1])O[C@H](CO)[C@@H](O[C@@H]3(O[C@H](CO)[C@@H](O[R2])[C@H](O)[C@@H](NC(=O)C)3))4))C)=O)C)C(=O)[O-])C(=O)[O-])=O)C(=O)[O-])=O'\n",
      "[09:29:03] SMILES Parse Error: syntax error while parsing: CC(C)=CCCC(\\C)=C/CCC(\\C)=C/CCC(/C)=C/CCC(/C)=C/CCC(/C)=C/CCC(/C)=C/CCC(/C)=C/CCC(/C)=C/CCC(/C)=C/COP([O-])(=O)OP([O-])(=O)O[C@@H]8([C@H](NC(=O)C)[C@@H](O[C@H](C)C(=O)N[C@@H](C)C(=O)N[C@@H](C(=O)[O-])CCC(=O)N[C@@H](CCC[C@@H]([NH3+])C(=O)[O-])C(N[C@H](C)C(=O)[O-])=O)[C@H](O[C@@H]7(O[C@H](CO)[C@@H](O[C@H]6([C@H](NC(=O)C)[C@@H](O[C@H](C)C(=O)N[C@@H](C)C(=O)N[C@@H](C(=O)[O-])CCC(=O)N[C@@H](CCC[C@@H](NC(=O)[C@H]([NH3+])CCC[C@@H](C(N[C@H](C)C(=O)[O-])=O)NC(=O)CC[C@H](C(=O)[O-])NC(=O)[C@H](C)NC(=O)[C@@H](C)O[C@H]4([C@H](O[C@@H]1(O[C@H](CO)[C@@H](O[R3])[C@H](O)[C@@H](NC(=O)C)1))[C@@H](CO)O[C@@H](O[C@@H]3([C@@H](CO)O[C@@H](O[C@H]2([C@H](O[C@H](C)C(=O)N[C@@H](C)C(=O)N[C@@H](C(=O)[O-])CCC(=O)N[C@@H](CCC[C@@H]([NH3+])C(=O)[O-])C(N[C@H](C)C(=O)[O-])=O)[C@@H](NC(=O)C)[C@@H](O[C@H](CO)2)O[R2]))[C@H](NC(=O)C)[C@@H](O)3))[C@H](NC(=O)C)4))C(=O)[O-])C(N[C@H](C)C(=O)[O-])=O)[C@H](O[C@@H]5(O[C@H](CO)[C@@H](O[R1])[C@H](O)[C@@H](NC(=O)C)5))[C@@H](CO)O... truncated[09:29:03] SMILES Parse Error: Failed parsing SMILES 'CC(C)=CCCC(\\C)=C/CCC(\\C)=C/CCC(/C)=C/CCC(/C)=C/CCC(/C)=C/CCC(/C)=C/CCC(/C)=C/CCC(/C)=C/CCC(/C)=C/COP([O-])(=O)OP([O-])(=O)O[C@@H]8([C@H](NC(=O)C)[C@@H](O[C@H](C)C(=O)N[C@@H](C)C(=O)N[C@@H](C(=O)[O-])CCC(=O)N[C@@H](CCC[C@@H]([NH3+])C(=O)[O-])C(N[C@H](C)C(=O)[O-])=O)[C@H](O[C@@H]7(O[C@H](CO)[C@@H](O[C@H]6([C@H](NC(=O)C)[C@@H](O[C@H](C)C(=O)N[C@@H](C)C(=O)N[C@@H](C(=O)[O-])CCC(=O)N[C@@H](CCC[C@@H](NC(=O)[C@H]([NH3+])CCC[C@@H](C(N[C@H](C)C(=O)[O-])=O)NC(=O)CC[C@H](C(=O)[O-])NC(=O)[C@H](C)NC(=O)[C@@H](C)O[C@H]4([C@H](O[C@@H]1(O[C@H](CO)[C@@H](O[R3])[C@H](O)[C@@H](NC(=O)C)1))[C@@H](CO)O[C@@H](O[C@@H]3([C@@H](CO)O[C@@H](O[C@H]2([C@H](O[C@H](C)C(=O)N[C@@H](C)C(=O)N[C@@H](C(=O)[O-])CCC(=O)N[C@@H](CCC[C@@H]([NH3+])C(=O)[O-])C(N[C@H](C)C(=O)[O-])=O)[C@@H](NC(=O)C)[C@@H](O[C@H](CO)2)O[R2]))[C@H](NC(=O)C)[C@@H](O)3))[C@H](NC(=O)C)4))C(=O)[O-])C(N[C@H](C)C(=O)[O-])=O)[C@H](O[C@@H]5(O[C@H](CO)[C@@H](O[R1])[C@H](O)[C@@H](NC(=O)C)5))[C@@H](CO)O6))[C... truncated[09:29:03] SMILES Parse Error: syntax error while parsing: CC(=O)N[C@@H]3([C@H](C[C@@](C([O-])=O)(O[C@@H]2([C@@H](O)[C@H](O[C@@H]1([C@@H](NC(C)=O)[C@H](O[C@H](CO)[C@H](O)1)OC([R])[C@@H](C(=O)[a\n",
      "[09:29:03] SMILES Parse Error: Failed parsing SMILES 'CC(=O)N[C@@H]3([C@H](C[C@@](C([O-])=O)(O[C@@H]2([C@@H](O)[C@H](O[C@@H]1([C@@H](NC(C)=O)[C@H](O[C@H](CO)[C@H](O)1)OC([R])[C@@H](C(=O)[a' for input: 'CC(=O)N[C@@H]3([C@H](C[C@@](C([O-])=O)(O[C@@H]2([C@@H](O)[C@H](O[C@@H]1([C@@H](NC(C)=O)[C@H](O[C@H](CO)[C@H](O)1)OC([R])[C@@H](C(=O)[a'\n",
      "[09:29:03] SMILES Parse Error: syntax error while parsing: N[R]\n",
      "[09:29:03] SMILES Parse Error: Failed parsing SMILES 'N[R]' for input: 'N[R]'\n",
      "[09:29:03] SMILES Parse Error: syntax error while parsing: CC1(C3(N(C(=O)NC(=O)1)[C@@H]5(O[C@H](COP(=O)([O-])O[a\n",
      "[09:29:03] SMILES Parse Error: Failed parsing SMILES 'CC1(C3(N(C(=O)NC(=O)1)[C@@H]5(O[C@H](COP(=O)([O-])O[a' for input: 'CC1(C3(N(C(=O)NC(=O)1)[C@@H]5(O[C@H](COP(=O)([O-])O[a'\n",
      "[09:29:03] SMILES Parse Error: syntax error while parsing: CC3(\\C2(\\C1(N(C(=O)NC(=O)[C@@](C)1O)[C@@H]5(O[C@H](COP(=O)([O-])O[a\n",
      "[09:29:03] SMILES Parse Error: Failed parsing SMILES 'CC3(\\C2(\\C1(N(C(=O)NC(=O)[C@@](C)1O)[C@@H]5(O[C@H](COP(=O)([O-])O[a' for input: 'CC3(\\C2(\\C1(N(C(=O)NC(=O)[C@@](C)1O)[C@@H]5(O[C@H](COP(=O)([O-])O[a'\n",
      "[09:29:03] SMILES Parse Error: syntax error while parsing: C(=O)([a\n",
      "[09:29:03] SMILES Parse Error: Failed parsing SMILES 'C(=O)([a' for input: 'C(=O)([a'\n",
      "[09:29:03] SMILES Parse Error: syntax error while parsing: C(=O)([a\n",
      "[09:29:03] SMILES Parse Error: Failed parsing SMILES 'C(=O)([a' for input: 'C(=O)([a'\n",
      "[09:29:03] SMILES Parse Error: syntax error while parsing: C(OP(OP(OC[C@H]2(O[C@H]1(NC4(/N=C(N)\\NC(=O)C(/N[C@H]1C3(\\S[Mo-](=S)(=O)(O[a\n",
      "[09:29:03] SMILES Parse Error: Failed parsing SMILES 'C(OP(OP(OC[C@H]2(O[C@H]1(NC4(/N=C(N)\\NC(=O)C(/N[C@H]1C3(\\S[Mo-](=S)(=O)(O[a' for input: 'C(OP(OP(OC[C@H]2(O[C@H]1(NC4(/N=C(N)\\NC(=O)C(/N[C@H]1C3(\\S[Mo-](=S)(=O)(O[a'\n",
      "[09:29:03] SMILES Parse Error: syntax error while parsing: CCCCC\\C=C/C\\C=C/CCCCCCCCCC(=O)[a\n",
      "[09:29:03] SMILES Parse Error: Failed parsing SMILES 'CCCCC\\C=C/C\\C=C/CCCCCCCCCC(=O)[a' for input: 'CCCCC\\C=C/C\\C=C/CCCCCCCCCC(=O)[a'\n",
      "[09:29:03] SMILES Parse Error: syntax error while parsing: CC\\C=C/C\\C=C/C\\C=C/CCCCCCCCCC(=O)[a\n",
      "[09:29:03] SMILES Parse Error: Failed parsing SMILES 'CC\\C=C/C\\C=C/C\\C=C/CCCCCCCCCC(=O)[a' for input: 'CC\\C=C/C\\C=C/C\\C=C/CCCCCCCCCC(=O)[a'\n",
      "[09:29:03] SMILES Parse Error: syntax error while parsing: CCCC/C=C/C=C/C=C\\CCCCCCCC(=O)[a\n",
      "[09:29:03] SMILES Parse Error: Failed parsing SMILES 'CCCC/C=C/C=C/C=C\\CCCCCCCC(=O)[a' for input: 'CCCC/C=C/C=C/C=C\\CCCCCCCC(=O)[a'\n",
      "[09:29:03] SMILES Parse Error: syntax error while parsing: C(=O)([a\n",
      "[09:29:03] SMILES Parse Error: Failed parsing SMILES 'C(=O)([a' for input: 'C(=O)([a'\n",
      "[09:29:03] SMILES Parse Error: syntax error while parsing: C(O)[C@H]2(O[C@H](O[C@@H]1([C@@H](O)[C@@H](O)[C@@H](CO)O[C@@H](O[C@@H](C[NH3+])CC[C@H](N[a\n",
      "[09:29:03] SMILES Parse Error: Failed parsing SMILES 'C(O)[C@H]2(O[C@H](O[C@@H]1([C@@H](O)[C@@H](O)[C@@H](CO)O[C@@H](O[C@@H](C[NH3+])CC[C@H](N[a' for input: 'C(O)[C@H]2(O[C@H](O[C@@H]1([C@@H](O)[C@@H](O)[C@@H](CO)O[C@@H](O[C@@H](C[NH3+])CC[C@H](N[a'\n",
      "[09:29:03] SMILES Parse Error: syntax error while parsing: C(=O)([a\n",
      "[09:29:03] SMILES Parse Error: Failed parsing SMILES 'C(=O)([a' for input: 'C(=O)([a'\n",
      "[09:29:03] SMILES Parse Error: syntax error while parsing: CC1([NH2+]CCCC[C@@H](C([a\n",
      "[09:29:03] SMILES Parse Error: Failed parsing SMILES 'CC1([NH2+]CCCC[C@@H](C([a' for input: 'CC1([NH2+]CCCC[C@@H](C([a'\n"
     ]
    },
    {
     "name": "stdout",
     "output_type": "stream",
     "text": [
      "error CPD-17351\n",
      "error CPD-17352\n",
      "error CPD-17405\n",
      "error CPD-8564\n",
      "error 12-D-GLUCOSYL-5-D-GALACTOSYLOXY-L-LYS\n",
      "error MONOMER0-4342\n",
      "error CPD-21533\n",
      "error A-DARA-HEX-2:5_2:KETO\n",
      "error A-DARA-PEN-1:4\n",
      "error A-DGAL-HEX-1:4\n",
      "error A-DGAL-HEX-1:4_6:D\n",
      "error A-DGAL-HEX-1:5\n",
      "error A-DGAL-HEX-1:5_6:A\n",
      "error A-DGAL-HEX-1:5_6:D\n",
      "error A-DGLC-HEX-1:4\n",
      "error A-DGLC-HEX-1:4_6:A\n",
      "error A-DGLC-HEX-1:5\n",
      "error A-DGLC-HEX-1:5_6:A\n",
      "error A-DGLC-HEX-1:5_6:D\n",
      "error A-DGRO-DGAL-NON-2:6_1:A_2:KETO_3:D\n",
      "error A-DIDO-HEX-1:5_6:A\n",
      "error A-DMAN-HEX-1:5\n",
      "error A-DMAN-HEX-1:5_6:A\n",
      "error A-DMAN-HEX-1:5_6:D\n",
      "error A-DMAN-OCT-2:6_1:A_2:KETO_3:D\n",
      "error A-DXYL-PEN-1:5\n",
      "error A-HEP-1:5\n",
      "error A-HEP-1:5_0:D\n",
      "error A-HEP-X:X\n",
      "error A-HEX-1:5\n",
      "error A-HEX-1:5_6:A\n",
      "error A-HEX-1:5_6:D\n",
      "error A-LARA-PEN-1:4\n",
      "error A-LARA-PEN-1:5\n",
      "error A-LGAL-HEX-1:5\n",
      "error A-LGAL-HEX-1:5_6:D\n",
      "error A-LGLC-HEX-1:5_6:A\n",
      "error A-LGLC-HEX-1:5_6:D\n",
      "error A-LIDO-HEX-1:5_6:A\n",
      "error A-LMAN-HEX-1:5\n",
      "error A-LMAN-HEX-1:5_6:D\n",
      "error A-LXYL-PEN-1:5\n",
      "error A-XGAL-HEX-1:5_6:A\n",
      "error A-XGLC-HEX-1:5\n",
      "error CPD-25437\n",
      "error CPD-13208\n",
      "error CPD-9010\n",
      "error CPD0-2709\n"
     ]
    },
    {
     "name": "stderr",
     "output_type": "stream",
     "text": [
      "[09:29:03] Conflicting single bond directions around double bond at index 76.\n",
      "[09:29:03]   BondStereo set to STEREONONE and single bond directions set to NONE.\n",
      "[09:29:03] SMILES Parse Error: syntax error while parsing: CC1(\\C(=O)NC(N(\\C=1)[C@@H]4(O[C@H](COP(O[C@H]3(C[C@H](N2(C(=O)/N=C(\\C=C/2)/N))O[C@H](COP(=O)([O-])O[a\n",
      "[09:29:03] SMILES Parse Error: Failed parsing SMILES 'CC1(\\C(=O)NC(N(\\C=1)[C@@H]4(O[C@H](COP(O[C@H]3(C[C@H](N2(C(=O)/N=C(\\C=C/2)/N))O[C@H](COP(=O)([O-])O[a' for input: 'CC1(\\C(=O)NC(N(\\C=1)[C@@H]4(O[C@H](COP(O[C@H]3(C[C@H](N2(C(=O)/N=C(\\C=C/2)/N))O[C@H](COP(=O)([O-])O[a'\n",
      "[09:29:03] SMILES Parse Error: syntax error while parsing: CC1(\\C(=O)NC(N(\\C=1)[C@@H]4(O[C@H](COP(=O)([O-])O[a\n",
      "[09:29:03] SMILES Parse Error: Failed parsing SMILES 'CC1(\\C(=O)NC(N(\\C=1)[C@@H]4(O[C@H](COP(=O)([O-])O[a' for input: 'CC1(\\C(=O)NC(N(\\C=1)[C@@H]4(O[C@H](COP(=O)([O-])O[a'\n",
      "[09:29:03] SMILES Parse Error: syntax error while parsing: C(OC([R1])=O)[C@@H](OC([R2])=O)COP(OP(OC[C@H]3(O[C@@H](N1(C2(\\C(\\N=C/1)=C(N)/N=C\\N=2)))[C@H](O)[C@H](O)3))(=O)[O-])(=O)[O-]\n",
      "[09:29:03] SMILES Parse Error: Failed parsing SMILES 'C(OC([R1])=O)[C@@H](OC([R2])=O)COP(OP(OC[C@H]3(O[C@@H](N1(C2(\\C(\\N=C/1)=C(N)/N=C\\N=2)))[C@H](O)[C@H](O)3))(=O)[O-])(=O)[O-]' for input: 'C(OC([R1])=O)[C@@H](OC([R2])=O)COP(OP(OC[C@H]3(O[C@@H](N1(C2(\\C(\\N=C/1)=C(N)/N=C\\N=2)))[C@H](O)[C@H](O)3))(=O)[O-])(=O)[O-]'\n"
     ]
    },
    {
     "name": "stdout",
     "output_type": "stream",
     "text": [
      "error CPD-20736\n",
      "error CPD-20737\n",
      "error CPD0-1630\n",
      "error CPD-26614\n",
      "error CPD0-2702\n",
      "error ALKYL-CINNAMATE\n"
     ]
    },
    {
     "name": "stderr",
     "output_type": "stream",
     "text": [
      "[09:29:03] SMILES Parse Error: syntax error while parsing: C1(\\C=C/C(/C=C/C(=O)O[R])=C\\C=1)\n",
      "[09:29:03] SMILES Parse Error: Failed parsing SMILES 'C1(\\C=C/C(/C=C/C(=O)O[R])=C\\C=1)' for input: 'C1(\\C=C/C(/C=C/C(=O)O[R])=C\\C=1)'\n",
      "[09:29:03] Conflicting single bond directions around double bond at index 12.\n",
      "[09:29:03]   BondStereo set to STEREONONE and single bond directions set to NONE.\n",
      "[09:29:03] Conflicting single bond directions around double bond at index 17.\n",
      "[09:29:03]   BondStereo set to STEREONONE and single bond directions set to NONE.\n",
      "[09:29:03] Conflicting single bond directions around double bond at index 17.\n",
      "[09:29:03]   BondStereo set to STEREONONE and single bond directions set to NONE.\n",
      "[09:29:03] Conflicting single bond directions around double bond at index 7.\n",
      "[09:29:03]   BondStereo set to STEREONONE and single bond directions set to NONE.\n",
      "[09:29:03] Conflicting single bond directions around double bond at index 12.\n",
      "[09:29:03]   BondStereo set to STEREONONE and single bond directions set to NONE.\n",
      "[09:29:03] Conflicting single bond directions around double bond at index 17.\n",
      "[09:29:03]   BondStereo set to STEREONONE and single bond directions set to NONE.\n",
      "[09:29:03] Conflicting single bond directions around double bond at index 17.\n",
      "[09:29:03]   BondStereo set to STEREONONE and single bond directions set to NONE.\n",
      "[09:29:03] Conflicting single bond directions around double bond at index 12.\n",
      "[09:29:03]   BondStereo set to STEREONONE and single bond directions set to NONE.\n",
      "[09:29:03] Conflicting single bond directions around double bond at index 7.\n",
      "[09:29:03]   BondStereo set to STEREONONE and single bond directions set to NONE.\n",
      "[09:29:03] Conflicting single bond directions around double bond at index 12.\n",
      "[09:29:03]   BondStereo set to STEREONONE and single bond directions set to NONE.\n",
      "[09:29:03] Conflicting single bond directions around double bond at index 7.\n",
      "[09:29:03]   BondStereo set to STEREONONE and single bond directions set to NONE.\n",
      "[09:29:03] Conflicting single bond directions around double bond at index 12.\n",
      "[09:29:03]   BondStereo set to STEREONONE and single bond directions set to NONE.\n",
      "[09:29:03] Conflicting single bond directions around double bond at index 12.\n",
      "[09:29:03]   BondStereo set to STEREONONE and single bond directions set to NONE.\n",
      "[09:29:03] Conflicting single bond directions around double bond at index 12.\n",
      "[09:29:03]   BondStereo set to STEREONONE and single bond directions set to NONE.\n",
      "[09:29:03] Conflicting single bond directions around double bond at index 17.\n",
      "[09:29:03]   BondStereo set to STEREONONE and single bond directions set to NONE.\n",
      "[09:29:03] Conflicting single bond directions around double bond at index 17.\n",
      "[09:29:03]   BondStereo set to STEREONONE and single bond directions set to NONE.\n",
      "[09:29:03] Conflicting single bond directions around double bond at index 17.\n",
      "[09:29:03]   BondStereo set to STEREONONE and single bond directions set to NONE.\n",
      "[09:29:03] Conflicting single bond directions around double bond at index 17.\n",
      "[09:29:03]   BondStereo set to STEREONONE and single bond directions set to NONE.\n",
      "[09:29:03] Conflicting single bond directions around double bond at index 17.\n",
      "[09:29:03]   BondStereo set to STEREONONE and single bond directions set to NONE.\n"
     ]
    },
    {
     "name": "stdout",
     "output_type": "stream",
     "text": [
      "error CPD-25856\n"
     ]
    },
    {
     "name": "stderr",
     "output_type": "stream",
     "text": [
      "[09:29:04] SMILES Parse Error: syntax error while parsing: CC(C)=CCCC(\\C)=C/CCC(\\C)=C/CCC(/C)=C/CCC(/C)=C/CCC(/C)=C/CCC(/C)=C/CCC(/C)=C/CCC(/C)=C/CCC(/C)=C/CCC(/C)=C/COP(=O)([O-])OP([O-])(=O)O[C@@H]1([C@@H]([C@H]([C@H](O)[C@H](O1)CO)O[C@H]%18(O[C@H](CO)[C@@H](O)[C@H](O[C@H]%17(O[C@H](CO)[C@@H](O)[C@H](O[C@H]%16(O[C@H](CO)[C@@H](O)[C@H](O)[C@H](O[C@H]%15(O[C@H](CO)[C@@H](O)[C@H](O)[C@H](O[C@H]%14(O[C@H](CO)[C@@H](O)[C@H](O[C@H]%13(O[C@H](CO)[C@@H](O)[C@H](O[C@H]%12(O[C@H](CO)[C@@H](O)[C@H](O)[C@H](O[C@H]%11(O[C@H](CO)[C@@H](O)[C@H](O)[C@H](O[C@H]%10(O[C@H](CO)[C@@H](O)[C@H](O[C@H]9(O[C@H](CO)[C@@H](O)[C@H](O[C@H]8(O[C@H](CO)[C@@H](O)[C@H](O)[C@H](O[C@H]7(O[C@H](CO)[C@@H](O)[C@H](O)[C@H](O[C@H]6(O[C@H](CO)[C@@H](O)[C@H](O[C@H]5(O[C@H](CO)[C@@H](O)[C@H](O[C@H]4(O[C@H](CO)[C@@H](O)[C@H](O)[C@H](O[R]O[C@H]3(O[C@H](CO)[C@@H](O)[C@H](O)[C@H](O[C@H]2(O[C@H](CO)[C@@H](O)[C@H](O)[C@H](O)2))3))4))[C@H](O)5))[C@H](O)6))7))8))[C@H](O)9))[C@H](O)%10))%11))%12))[C@H](O)%13))[C@H](O)%14))%15))%16))[C@... truncated[09:29:04] SMILES Parse Error: Failed parsing SMILES 'CC(C)=CCCC(\\C)=C/CCC(\\C)=C/CCC(/C)=C/CCC(/C)=C/CCC(/C)=C/CCC(/C)=C/CCC(/C)=C/CCC(/C)=C/CCC(/C)=C/CCC(/C)=C/COP(=O)([O-])OP([O-])(=O)O[C@@H]1([C@@H]([C@H]([C@H](O)[C@H](O1)CO)O[C@H]%18(O[C@H](CO)[C@@H](O)[C@H](O[C@H]%17(O[C@H](CO)[C@@H](O)[C@H](O[C@H]%16(O[C@H](CO)[C@@H](O)[C@H](O)[C@H](O[C@H]%15(O[C@H](CO)[C@@H](O)[C@H](O)[C@H](O[C@H]%14(O[C@H](CO)[C@@H](O)[C@H](O[C@H]%13(O[C@H](CO)[C@@H](O)[C@H](O[C@H]%12(O[C@H](CO)[C@@H](O)[C@H](O)[C@H](O[C@H]%11(O[C@H](CO)[C@@H](O)[C@H](O)[C@H](O[C@H]%10(O[C@H](CO)[C@@H](O)[C@H](O[C@H]9(O[C@H](CO)[C@@H](O)[C@H](O[C@H]8(O[C@H](CO)[C@@H](O)[C@H](O)[C@H](O[C@H]7(O[C@H](CO)[C@@H](O)[C@H](O)[C@H](O[C@H]6(O[C@H](CO)[C@@H](O)[C@H](O[C@H]5(O[C@H](CO)[C@@H](O)[C@H](O[C@H]4(O[C@H](CO)[C@@H](O)[C@H](O)[C@H](O[R]O[C@H]3(O[C@H](CO)[C@@H](O)[C@H](O)[C@H](O[C@H]2(O[C@H](CO)[C@@H](O)[C@H](O)[C@H](O)2))3))4))[C@H](O)5))[C@H](O)6))7))8))[C@H](O)9))[C@H](O)%10))%11))%12))[C@H](O)%13))[C@H](O)%14))%15))%16))[C@H](O)... truncated[09:29:04] SMILES Parse Error: syntax error while parsing: CC(C)=CCCC(\\C)=C/CCC(\\C)=C/CCC(/C)=C/CCC(/C)=C/CCC(/C)=C/CCC(/C)=C/CCC(/C)=C/CCC(/C)=C/CCC(/C)=C/CCC(/C)=C/COP(=O)([O-])OP([O-])(=O)O[C@@H]1([C@@H]([C@H]([C@H](O)[C@H](O1)CO)O[C@H]%15(O[C@H](CO)[C@@H](O)[C@H](O[C@H]%14(O[C@H](CO)[C@@H](O)[C@H](O[C@H]%13(O[C@H](CO)[C@@H](O)[C@H](O[C@H]%12(O[C@H](CO)[C@@H](O)[C@H](O)[C@H](O[C@H]%11(O[C@H](CO)[C@@H](O)[C@H](O)[C@H](O[C@H]%10(O[C@H](CO)[C@@H](O)[C@H](O)[C@H](O[C@H]9(O[C@H](CO)[C@@H](O)[C@H](O[C@H]8(O[C@H](CO)[C@@H](O)[C@H](O[C@H]7(O[C@H](CO)[C@@H](O)[C@H](O)[C@H](O[C@H]6(O[C@H](CO)[C@@H](O)[C@H](O)[C@H](O[C@H]5(O[C@H](CO)[C@@H](O)[C@H](O)[C@H](O[C@H]4(O[C@H](CO)[C@@H](O)[C@H](O[C@H]3(O[C@H](CO)[C@@H](O)[C@H](O[R]O[C@H]2(O[C@H](CO)[C@@H](O)[C@H](O)[C@H](O)2))[C@H](O)3))[C@H](O)4))5))6))7))[C@H](O)8))[C@H](O)9))%10))%11))%12))[C@H](O)%13))[C@H](O)%14))[C@H](O)%15))NC(C)=O)\n",
      "[09:29:04] SMILES Parse Error: Failed parsing SMILES 'CC(C)=CCCC(\\C)=C/CCC(\\C)=C/CCC(/C)=C/CCC(/C)=C/CCC(/C)=C/CCC(/C)=C/CCC(/C)=C/CCC(/C)=C/CCC(/C)=C/CCC(/C)=C/COP(=O)([O-])OP([O-])(=O)O[C@@H]1([C@@H]([C@H]([C@H](O)[C@H](O1)CO)O[C@H]%15(O[C@H](CO)[C@@H](O)[C@H](O[C@H]%14(O[C@H](CO)[C@@H](O)[C@H](O[C@H]%13(O[C@H](CO)[C@@H](O)[C@H](O[C@H]%12(O[C@H](CO)[C@@H](O)[C@H](O)[C@H](O[C@H]%11(O[C@H](CO)[C@@H](O)[C@H](O)[C@H](O[C@H]%10(O[C@H](CO)[C@@H](O)[C@H](O)[C@H](O[C@H]9(O[C@H](CO)[C@@H](O)[C@H](O[C@H]8(O[C@H](CO)[C@@H](O)[C@H](O[C@H]7(O[C@H](CO)[C@@H](O)[C@H](O)[C@H](O[C@H]6(O[C@H](CO)[C@@H](O)[C@H](O)[C@H](O[C@H]5(O[C@H](CO)[C@@H](O)[C@H](O)[C@H](O[C@H]4(O[C@H](CO)[C@@H](O)[C@H](O[C@H]3(O[C@H](CO)[C@@H](O)[C@H](O[R]O[C@H]2(O[C@H](CO)[C@@H](O)[C@H](O)[C@H](O)2))[C@H](O)3))[C@H](O)4))5))6))7))[C@H](O)8))[C@H](O)9))%10))%11))%12))[C@H](O)%13))[C@H](O)%14))[C@H](O)%15))NC(C)=O)' for input: 'CC(C)=CCCC(\\C)=C/CCC(\\C)=C/CCC(/C)=C/CCC(/C)=C/CCC(/C)=C/CCC(/C)=C/CCC(/C)=C/CCC(/C)=C/CCC(/C)=C/CCC(/C)... truncated[09:29:04] SMILES Parse Error: syntax error while parsing: CC(C)=CCCC(\\C)=C/CCC(\\C)=C/CCC(/C)=C/CCC(/C)=C/CCC(/C)=C/CCC(/C)=C/CCC(/C)=C/CCC(/C)=C/CCC(/C)=C/CCC(/C)=C/COP(=O)([O-])OP([O-])(=O)O[C@@H]1([C@@H]([C@H]([C@H](O)[C@H](O1)CO)O[C@H]%14(O[C@H](CO)[C@@H](O)[C@H](O[C@H]%13(O[C@H](CO)[C@@H](O)[C@H](O[C@H]%12(O[C@H](CO)[C@@H](O)[C@H](O[C@H]%11(O[C@H](CO)[C@@H](O)[C@H](O)[C@H](O[C@H]%10(O[C@H](CO)[C@@H](O)[C@H](O)[C@H](O[C@@H]9(O[C@H](CO)[C@@H](O)[C@H](O[C@H]8(O[C@H](CO)[C@@H](O)[C@H](O)[C@H](O[C@H]7(O[C@H](CO)[C@@H](O)[C@H](O)[C@H](O[C@@H]6(O[C@H](CO)[C@@H](O)[C@H](O[C@H]5(O[C@H](CO)[C@@H](O)[C@H](O)[C@H](O[C@H]4(O[C@H](CO)[C@@H](O)[C@H](O)[C@H](O[C@@H]3(O[C@H](CO)[C@@H](O)[C@H](O[R]O[C@H]2(O[C@H](CO)[C@@H](O)[C@H](O)[C@H](O)2))[C@H](O)3))4))5))[C@H](O)6))7))8))[C@H](O)9))%10))%11))[C@H](O)%12))[C@H](O)%13))[C@H](O)%14))NC(C)=O)\n",
      "[09:29:04] SMILES Parse Error: Failed parsing SMILES 'CC(C)=CCCC(\\C)=C/CCC(\\C)=C/CCC(/C)=C/CCC(/C)=C/CCC(/C)=C/CCC(/C)=C/CCC(/C)=C/CCC(/C)=C/CCC(/C)=C/CCC(/C)=C/COP(=O)([O-])OP([O-])(=O)O[C@@H]1([C@@H]([C@H]([C@H](O)[C@H](O1)CO)O[C@H]%14(O[C@H](CO)[C@@H](O)[C@H](O[C@H]%13(O[C@H](CO)[C@@H](O)[C@H](O[C@H]%12(O[C@H](CO)[C@@H](O)[C@H](O[C@H]%11(O[C@H](CO)[C@@H](O)[C@H](O)[C@H](O[C@H]%10(O[C@H](CO)[C@@H](O)[C@H](O)[C@H](O[C@@H]9(O[C@H](CO)[C@@H](O)[C@H](O[C@H]8(O[C@H](CO)[C@@H](O)[C@H](O)[C@H](O[C@H]7(O[C@H](CO)[C@@H](O)[C@H](O)[C@H](O[C@@H]6(O[C@H](CO)[C@@H](O)[C@H](O[C@H]5(O[C@H](CO)[C@@H](O)[C@H](O)[C@H](O[C@H]4(O[C@H](CO)[C@@H](O)[C@H](O)[C@H](O[C@@H]3(O[C@H](CO)[C@@H](O)[C@H](O[R]O[C@H]2(O[C@H](CO)[C@@H](O)[C@H](O)[C@H](O)2))[C@H](O)3))4))5))[C@H](O)6))7))8))[C@H](O)9))%10))%11))[C@H](O)%12))[C@H](O)%13))[C@H](O)%14))NC(C)=O)' for input: 'CC(C)=CCCC(\\C)=C/CCC(\\C)=C/CCC(/C)=C/CCC(/C)=C/CCC(/C)=C/CCC(/C)=C/CCC(/C)=C/CCC(/C)=C/CCC(/C)=C/CCC(/C)=C/COP(=O)([O-])OP([O-])(=O)O[C@@H]1([C@@H]([... truncated"
     ]
    },
    {
     "name": "stdout",
     "output_type": "stream",
     "text": [
      "error CPD-15547\n",
      "error CPD-24281\n",
      "error CPD-24086\n"
     ]
    },
    {
     "name": "stderr",
     "output_type": "stream",
     "text": [
      "[09:29:04] SMILES Parse Error: syntax error while parsing: C1([R4])(=C([R3])C(=O)C(/[R3])=C([R1])/C(=O)1)\n",
      "[09:29:04] SMILES Parse Error: Failed parsing SMILES 'C1([R4])(=C([R3])C(=O)C(/[R3])=C([R1])/C(=O)1)' for input: 'C1([R4])(=C([R3])C(=O)C(/[R3])=C([R1])/C(=O)1)'\n"
     ]
    },
    {
     "name": "stdout",
     "output_type": "stream",
     "text": [
      "error CPD-9850\n",
      "error CPD-23248\n"
     ]
    },
    {
     "name": "stderr",
     "output_type": "stream",
     "text": [
      "[09:29:05] Conflicting single bond directions around double bond at index 17.\n",
      "[09:29:05]   BondStereo set to STEREONONE and single bond directions set to NONE.\n",
      "[09:29:05] SMILES Parse Error: syntax error while parsing: CC(C)(COP(=O)([O-])OC[C@H](N[a\n",
      "[09:29:05] SMILES Parse Error: Failed parsing SMILES 'CC(C)(COP(=O)([O-])OC[C@H](N[a' for input: 'CC(C)(COP(=O)([O-])OC[C@H](N[a'\n",
      "[09:29:05] SMILES Parse Error: syntax error while parsing: C([R2])(O)([R3])[R1]\n",
      "[09:29:05] SMILES Parse Error: Failed parsing SMILES 'C([R2])(O)([R3])[R1]' for input: 'C([R2])(O)([R3])[R1]'\n",
      "[09:29:05] SMILES Parse Error: syntax error while parsing: C([R1])([NH3+])C(=O)O[R2]\n",
      "[09:29:05] SMILES Parse Error: Failed parsing SMILES 'C([R1])([NH3+])C(=O)O[R2]' for input: 'C([R1])([NH3+])C(=O)O[R2]'\n",
      "[09:29:05] SMILES Parse Error: syntax error while parsing: CC(=O)N[C@@H]1([C@H](C[C@](C([O-])=O)(O[C@H]1[C@H](O)[C@H](O)CO)OC[C@H]4(O[C@H](O[R])[C@H](NC(=O)C)[C@@H](O[C@@H]3(O[C@H](CO)[C@H](O)[C@H](O[C@]2(C(=O)[O-])(C[C@H](O)[C@@H](NC(C)=O)[C@@H](O2)[C@H](O)[C@H](O)CO))[C@@H](O)3))[C@@H](O)4))O)\n",
      "[09:29:05] SMILES Parse Error: Failed parsing SMILES 'CC(=O)N[C@@H]1([C@H](C[C@](C([O-])=O)(O[C@H]1[C@H](O)[C@H](O)CO)OC[C@H]4(O[C@H](O[R])[C@H](NC(=O)C)[C@@H](O[C@@H]3(O[C@H](CO)[C@H](O)[C@H](O[C@]2(C(=O)[O-])(C[C@H](O)[C@@H](NC(C)=O)[C@@H](O2)[C@H](O)[C@H](O)CO))[C@@H](O)3))[C@@H](O)4))O)' for input: 'CC(=O)N[C@@H]1([C@H](C[C@](C([O-])=O)(O[C@H]1[C@H](O)[C@H](O)CO)OC[C@H]4(O[C@H](O[R])[C@H](NC(=O)C)[C@@H](O[C@@H]3(O[C@H](CO)[C@H](O)[C@H](O[C@]2(C(=O)[O-])(C[C@H](O)[C@@H](NC(C)=O)[C@@H](O2)[C@H](O)[C@H](O)CO))[C@@H](O)3))[C@@H](O)4))O)'\n",
      "[09:29:05] SMILES Parse Error: syntax error while parsing: CC(=O)N[C@@H]3([C@H](C[C@](C([O-])=O)(OC[C@@H]1([C@H](O)[C@H](O)[C@@H](O)[C@@H](O1)O[C@@H]2([C@@H](CO)O[C@H]([C@H](NC(C)=O)[C@@H](O)2)O[R])))O[C@H]3[C@H](O)[C@H](O)CO)O)\n",
      "[09:29:05] SMILES Parse Error: Failed parsing SMILES 'CC(=O)N[C@@H]3([C@H](C[C@](C([O-])=O)(OC[C@@H]1([C@H](O)[C@H](O)[C@@H](O)[C@@H](O1)O[C@@H]2([C@@H](CO)O[C@H]([C@H](NC(C)=O)[C@@H](O)2)O[R])))O[C@H]3[C@H](O)[C@H](O)CO)O)' for input: 'CC(=O)N[C@@H]3([C@H](C[C@](C([O-])=O)(OC[C@@H]1([C@H](O)[C@H](O)[C@@H](O)[C@@H](O1)O[C@@H]2([C@@H](CO)O[C@H]([C@H](NC(C)=O)[C@@H](O)2)O[R])))O[C@H]3[C@H](O)[C@H](O)CO)O)'\n",
      "[09:29:05] SMILES Parse Error: syntax error while parsing: CC(=O)N[C@@H]3([C@H](C[C@](O[C@H](CO)[C@@H](O)[C@@H]2(O[C@](C(=O)[O-])(O[C@@H]1([C@@H](O)[C@H](O[R])O[C@H](CO)[C@H](O)1))C[C@H](O)[C@@H](NC(C)=O)2))(C(=O)[O-])O[C@H]3[C@H](O)[C@H](O)CO)O)\n",
      "[09:29:05] SMILES Parse Error: Failed parsing SMILES 'CC(=O)N[C@@H]3([C@H](C[C@](O[C@H](CO)[C@@H](O)[C@@H]2(O[C@](C(=O)[O-])(O[C@@H]1([C@@H](O)[C@H](O[R])O[C@H](CO)[C@H](O)1))C[C@H](O)[C@@H](NC(C)=O)2))(C(=O)[O-])O[C@H]3[C@H](O)[C@H](O)CO)O)' for input: 'CC(=O)N[C@@H]3([C@H](C[C@](O[C@H](CO)[C@@H](O)[C@@H]2(O[C@](C(=O)[O-])(O[C@@H]1([C@@H](O)[C@H](O[R])O[C@H](CO)[C@H](O)1))C[C@H](O)[C@@H](NC(C)=O)2))(C(=O)[O-])O[C@H]3[C@H](O)[C@H](O)CO)O)'\n",
      "[09:29:05] SMILES Parse Error: syntax error while parsing: CC(=O)N[C@@H]2([C@H](C[C@](C([O-])=O)(OC[C@@H]1([C@H](O)[C@H](O)[C@@H](O)[C@@H](O1)O[R]))O[C@H]2[C@H](O)[C@H](O)CO)O)\n",
      "[09:29:05] SMILES Parse Error: Failed parsing SMILES 'CC(=O)N[C@@H]2([C@H](C[C@](C([O-])=O)(OC[C@@H]1([C@H](O)[C@H](O)[C@@H](O)[C@@H](O1)O[R]))O[C@H]2[C@H](O)[C@H](O)CO)O)' for input: 'CC(=O)N[C@@H]2([C@H](C[C@](C([O-])=O)(OC[C@@H]1([C@H](O)[C@H](O)[C@@H](O)[C@@H](O1)O[R]))O[C@H]2[C@H](O)[C@H](O)CO)O)'\n",
      "[09:29:05] SMILES Parse Error: syntax error while parsing: CC[C@H](C)[C@H](NC(=O)[C@@H](N(C)C([C@@H](NC(=O)[C@@H]1(CCCN([a\n",
      "[09:29:05] SMILES Parse Error: Failed parsing SMILES 'CC[C@H](C)[C@H](NC(=O)[C@@H](N(C)C([C@@H](NC(=O)[C@@H]1(CCCN([a' for input: 'CC[C@H](C)[C@H](NC(=O)[C@@H](N(C)C([C@@H](NC(=O)[C@@H]1(CCCN([a'\n",
      "[09:29:05] SMILES Parse Error: syntax error while parsing: CCC[N+]1(/C(=O)N(\\C=C/C(/N)=1)[C@@H]2(O[C@H](COP(=O)([O-])O[a\n",
      "[09:29:05] SMILES Parse Error: Failed parsing SMILES 'CCC[N+]1(/C(=O)N(\\C=C/C(/N)=1)[C@@H]2(O[C@H](COP(=O)([O-])O[a' for input: 'CCC[N+]1(/C(=O)N(\\C=C/C(/N)=1)[C@@H]2(O[C@H](COP(=O)([O-])O[a'\n",
      "[09:29:05] SMILES Parse Error: syntax error while parsing: CC[C@H](C)[C@H](NC(=O)[C@@H](NC(=O)CNC(=O)[C@@H](NC(=O)[C@@H](NC(=O)CNC(=O)[C@@H](NC(=O)[C@@H](NC(=O)[C@@H](NC(=O)[C@@H](NC([C@@H](NC(=O)[C@@H]1(CCCN([a\n",
      "[09:29:05] SMILES Parse Error: Failed parsing SMILES 'CC[C@H](C)[C@H](NC(=O)[C@@H](NC(=O)CNC(=O)[C@@H](NC(=O)[C@@H](NC(=O)CNC(=O)[C@@H](NC(=O)[C@@H](NC(=O)[C@@H](NC(=O)[C@@H](NC([C@@H](NC(=O)[C@@H]1(CCCN([a' for input: 'CC[C@H](C)[C@H](NC(=O)[C@@H](NC(=O)CNC(=O)[C@@H](NC(=O)[C@@H](NC(=O)CNC(=O)[C@@H](NC(=O)[C@@H](NC(=O)[C@@H](NC(=O)[C@@H](NC([C@@H](NC(=O)[C@@H]1(CCCN([a'\n",
      "[09:29:05] Conflicting single bond directions around double bond at index 8.\n",
      "[09:29:05]   BondStereo set to STEREONONE and single bond directions set to NONE.\n",
      "[09:29:05] Conflicting single bond directions around double bond at index 12.\n",
      "[09:29:05]   BondStereo set to STEREONONE and single bond directions set to NONE.\n",
      "[09:29:05] Conflicting single bond directions around double bond at index 17.\n",
      "[09:29:05]   BondStereo set to STEREONONE and single bond directions set to NONE.\n"
     ]
    },
    {
     "name": "stdout",
     "output_type": "stream",
     "text": [
      "error CPD-24838\n",
      "error CPD-13515\n",
      "error CPD-22938\n",
      "error CPD-22951\n",
      "error CPD-22913\n",
      "error NH4CL\n",
      "error CPD0-2427\n",
      "error CPD0-2508\n",
      "error NH4OH\n",
      "error CPD0-2398\n",
      "error CPD-22959\n",
      "error CPD-8916\n",
      "error CPD0-2622\n",
      "error NH42SO4\n",
      "error TYPE-I-FAS-ACP-GROUP\n",
      "error ALCOHOL-GROUP\n",
      "error CPD-8569\n",
      "error ALPHA-N-DIACETYLNEURAMINYL-23-BETA-D-ETC\n",
      "error CPD-16483\n",
      "error ALPHA-N-ACETYLNEURAMINYL-28-ETCETERA\n",
      "error ALPHA-N-ACETYLNEURAMINYL-26-BETA-D-GALA\n",
      "error CPD-23388\n",
      "error CPD0-1921\n",
      "error CPD-23386\n"
     ]
    },
    {
     "name": "stderr",
     "output_type": "stream",
     "text": [
      "[09:29:05] Conflicting single bond directions around double bond at index 12.\n",
      "[09:29:05]   BondStereo set to STEREONONE and single bond directions set to NONE.\n",
      "[09:29:05] Conflicting single bond directions around double bond at index 17.\n",
      "[09:29:05]   BondStereo set to STEREONONE and single bond directions set to NONE.\n",
      "[09:29:05] Conflicting single bond directions around double bond at index 12.\n",
      "[09:29:05]   BondStereo set to STEREONONE and single bond directions set to NONE.\n",
      "[09:29:05] Conflicting single bond directions around double bond at index 17.\n",
      "[09:29:05]   BondStereo set to STEREONONE and single bond directions set to NONE.\n",
      "[09:29:05] Conflicting single bond directions around double bond at index 12.\n",
      "[09:29:05]   BondStereo set to STEREONONE and single bond directions set to NONE.\n",
      "[09:29:05] Conflicting single bond directions around double bond at index 12.\n",
      "[09:29:05]   BondStereo set to STEREONONE and single bond directions set to NONE.\n",
      "[09:29:05] Conflicting single bond directions around double bond at index 12.\n",
      "[09:29:05]   BondStereo set to STEREONONE and single bond directions set to NONE.\n",
      "[09:29:05] Conflicting single bond directions around double bond at index 17.\n",
      "[09:29:05]   BondStereo set to STEREONONE and single bond directions set to NONE.\n",
      "[09:29:05] Conflicting single bond directions around double bond at index 17.\n",
      "[09:29:05]   BondStereo set to STEREONONE and single bond directions set to NONE.\n",
      "[09:29:05] Conflicting single bond directions around double bond at index 12.\n",
      "[09:29:05]   BondStereo set to STEREONONE and single bond directions set to NONE.\n",
      "[09:29:05] Conflicting single bond directions around double bond at index 17.\n",
      "[09:29:05]   BondStereo set to STEREONONE and single bond directions set to NONE.\n",
      "[09:29:05] Conflicting single bond directions around double bond at index 12.\n",
      "[09:29:05]   BondStereo set to STEREONONE and single bond directions set to NONE.\n",
      "[09:29:05] Conflicting single bond directions around double bond at index 17.\n",
      "[09:29:05]   BondStereo set to STEREONONE and single bond directions set to NONE.\n",
      "[09:29:05] Conflicting single bond directions around double bond at index 12.\n",
      "[09:29:05]   BondStereo set to STEREONONE and single bond directions set to NONE.\n",
      "[09:29:05] Conflicting single bond directions around double bond at index 17.\n",
      "[09:29:05]   BondStereo set to STEREONONE and single bond directions set to NONE.\n",
      "[09:29:05] Conflicting single bond directions around double bond at index 12.\n",
      "[09:29:05]   BondStereo set to STEREONONE and single bond directions set to NONE.\n",
      "[09:29:05] Conflicting single bond directions around double bond at index 17.\n",
      "[09:29:05]   BondStereo set to STEREONONE and single bond directions set to NONE.\n",
      "[09:29:05] SMILES Parse Error: syntax error while parsing: CCCCCCCCCCCCCCCCCCCCCCCCC(C(OC[C@@H]1([C@@H](O)[C@H](O)[C@H](O[a\n",
      "[09:29:05] SMILES Parse Error: Failed parsing SMILES 'CCCCCCCCCCCCCCCCCCCCCCCCC(C(OC[C@@H]1([C@@H](O)[C@H](O)[C@H](O[a' for input: 'CCCCCCCCCCCCCCCCCCCCCCCCC(C(OC[C@@H]1([C@@H](O)[C@H](O)[C@H](O[a'\n",
      "[09:29:05] SMILES Parse Error: syntax error while parsing: C(OC(=O)C(CCCCCCCCCCCCCCCCCCCCCCCC)[C@H](O)CCCCCCCCCCCCCCCCCC1(C(CCCCCCCCCCCCCCCCC(OC)C(C)CCCCCCCCCCCCCCCCCC)C1))[C@@H]2([C@@H](O)[C@H](O)[C@H](O[a\n",
      "[09:29:05] SMILES Parse Error: Failed parsing SMILES 'C(OC(=O)C(CCCCCCCCCCCCCCCCCCCCCCCC)[C@H](O)CCCCCCCCCCCCCCCCCC1(C(CCCCCCCCCCCCCCCCC(OC)C(C)CCCCCCCCCCCCCCCCCC)C1))[C@@H]2([C@@H](O)[C@H](O)[C@H](O[a' for input: 'C(OC(=O)C(CCCCCCCCCCCCCCCCCCCCCCCC)[C@H](O)CCCCCCCCCCCCCCCCCC1(C(CCCCCCCCCCCCCCCCC(OC)C(C)CCCCCCCCCCCCCCCCCC)C1))[C@@H]2([C@@H](O)[C@H](O)[C@H](O[a'\n",
      "[09:29:05] SMILES Parse Error: syntax error while parsing: CCCCCCCCCCCCCCCCCCCCCCCCCCC(C(=O)OC[C@@H]1([C@@H](O)[C@H](O)[C@H](O[a\n",
      "[09:29:05] SMILES Parse Error: Failed parsing SMILES 'CCCCCCCCCCCCCCCCCCCCCCCCCCC(C(=O)OC[C@@H]1([C@@H](O)[C@H](O)[C@H](O[a' for input: 'CCCCCCCCCCCCCCCCCCCCCCCCCCC(C(=O)OC[C@@H]1([C@@H](O)[C@H](O)[C@H](O[a'\n",
      "[09:29:05] SMILES Parse Error: syntax error while parsing: CCCCCCCCCCCCCCCCCCCCCCCCCCC(C(OC[C@@H]1([C@@H](O)[C@H](O)[C@H](O[a\n",
      "[09:29:05] SMILES Parse Error: Failed parsing SMILES 'CCCCCCCCCCCCCCCCCCCCCCCCCCC(C(OC[C@@H]1([C@@H](O)[C@H](O)[C@H](O[a' for input: 'CCCCCCCCCCCCCCCCCCCCCCCCCCC(C(OC[C@@H]1([C@@H](O)[C@H](O)[C@H](O[a'\n",
      "[09:29:05] Conflicting single bond directions around double bond at index 16.\n",
      "[09:29:05]   BondStereo set to STEREONONE and single bond directions set to NONE.\n",
      "[09:29:06] Conflicting single bond directions around double bond at index 17.\n",
      "[09:29:06]   BondStereo set to STEREONONE and single bond directions set to NONE.\n",
      "[09:29:06] SMILES Parse Error: syntax error while parsing: C[C@H](CCC[C@H](C)CCC[C@@H](CC[C@@H](C)CCC[C@@H](C)CCC[C@@H](C)CCC[C@@H](C)CCO[C@@H](C(C)OCC[C@H](C)CCC[C@H](C)CCC[C@H](C)CCC[C@H](C)CC[C@@H](C)CCC[C@@H](C)CCC[C@@H](C)CCC[C@@H](C)CCO)CO)C)CCC[C@@HH]CCO.C\n",
      "[09:29:06] SMILES Parse Error: Failed parsing SMILES 'C[C@H](CCC[C@H](C)CCC[C@@H](CC[C@@H](C)CCC[C@@H](C)CCC[C@@H](C)CCC[C@@H](C)CCO[C@@H](C(C)OCC[C@H](C)CCC[C@H](C)CCC[C@H](C)CCC[C@H](C)CC[C@@H](C)CCC[C@@H](C)CCC[C@@H](C)CCC[C@@H](C)CCO)CO)C)CCC[C@@HH]CCO.C' for input: 'C[C@H](CCC[C@H](C)CCC[C@@H](CC[C@@H](C)CCC[C@@H](C)CCC[C@@H](C)CCC[C@@H](C)CCO[C@@H](C(C)OCC[C@H](C)CCC[C@H](C)CCC[C@H](C)CCC[C@H](C)CC[C@@H](C)CCC[C@@H](C)CCC[C@@H](C)CCC[C@@H](C)CCO)CO)C)CCC[C@@HH]CCO.C'\n"
     ]
    },
    {
     "name": "stdout",
     "output_type": "stream",
     "text": [
      "error CPD1G-1534\n",
      "error CPD1G-1532\n",
      "error CPD1G-1535\n",
      "error CPD1G-1533\n",
      "error CPD-22945\n",
      "error CPD-21049\n",
      "error B-DARA-HEX-2:5_2:KETO\n",
      "error B-DARA-HEX-2:6_2:KETO\n",
      "error B-DARA-PEN-1:4\n",
      "error B-DARA-PEN-1:5\n",
      "error B-DGAL-HEX-1:4\n",
      "error B-DGAL-HEX-1:4_6:D\n",
      "error B-DGAL-HEX-1:5\n",
      "error B-DGAL-HEX-1:5_6:A\n",
      "error B-DGAL-HEX-1:5_6:D\n",
      "error B-DGLC-HEX-1:4\n",
      "error B-DGLC-HEX-1:5\n",
      "error B-DGLC-HEX-1:5_6:A\n",
      "error B-DGLC-HEX-1:5_6:D\n",
      "error B-DGRO-DGAL-NON-2:6_1:A_2:KETO_3:D\n",
      "error B-DIDO-HEX-1:5_6:A\n",
      "error B-DMAN-HEX-1:5\n",
      "error B-DMAN-HEX-1:5_6:A\n",
      "error B-DMAN-HEX-1:5_6:D\n",
      "error B-DMAN-OCT-2:6_1:A_2:KETO_3:D\n",
      "error B-DRIB-PEN-1:4\n",
      "error B-DXYL-PEN-1:5\n",
      "error B-HEP-1:5\n",
      "error B-HEP-1:5_0:D\n",
      "error B-HEP-X:X\n",
      "error B-HEP-X:X_0:D\n",
      "error B-HEX-1:5\n",
      "error B-HEX-1:5_6:D\n",
      "error B-HEX-1:5_6:A\n",
      "error B-LARA-PEN-1:4\n",
      "error B-LARA-PEN-1:5\n",
      "error B-LGAL-HEX-1:5\n",
      "error B-LGAL-HEX-1:5_6:D\n",
      "error B-LGLC-HEX-1:5_6:A\n",
      "error B-LIDO-HEX-1:5_6:A\n",
      "error B-LMAN-HEX-1:5_6:D\n",
      "error B-PEN-1:4\n",
      "error B-PEN-1:5\n",
      "error B-XGAL-HEX-1:5\n",
      "error B-XGLC-HEX-1:5_6:A\n",
      "error B-XGLC-HEX-1:5_6:D\n",
      "error B-XXYL-PEN-1:5\n",
      "error CPD-25173\n",
      "error CPD0-1592\n",
      "error CPD-13207\n",
      "error CPD-25331\n",
      "error CPD0-2711\n"
     ]
    },
    {
     "name": "stderr",
     "output_type": "stream",
     "text": [
      "[09:29:06] Conflicting single bond directions around double bond at index 17.\n",
      "[09:29:06]   BondStereo set to STEREONONE and single bond directions set to NONE.\n",
      "[09:29:06] SMILES Parse Error: syntax error while parsing: CC(=O)N[C@@H]3([C@H](C[C@@](C([O-])=O)(OC[C@H]2(O[C@@H](O[R])[C@H](NC(C)=O)[C@@H](O[C@@H]1(O[C@H](CO)[C@H](O)[C@H](O)[C@@H](O)1))[C@@H](O)2))O[C@H]3[C@H](O)[C@H](O)CO)O)\n",
      "[09:29:06] SMILES Parse Error: Failed parsing SMILES 'CC(=O)N[C@@H]3([C@H](C[C@@](C([O-])=O)(OC[C@H]2(O[C@@H](O[R])[C@H](NC(C)=O)[C@@H](O[C@@H]1(O[C@H](CO)[C@H](O)[C@H](O)[C@@H](O)1))[C@@H](O)2))O[C@H]3[C@H](O)[C@H](O)CO)O)' for input: 'CC(=O)N[C@@H]3([C@H](C[C@@](C([O-])=O)(OC[C@H]2(O[C@@H](O[R])[C@H](NC(C)=O)[C@@H](O[C@@H]1(O[C@H](CO)[C@H](O)[C@H](O)[C@@H](O)1))[C@@H](O)2))O[C@H]3[C@H](O)[C@H](O)CO)O)'\n",
      "[09:29:06] SMILES Parse Error: syntax error while parsing: C(O)[C@H]3(O[C@@H](O[C@H]2([C@@H](O)[C@@H](CO)O[C@@H](O[C@H]1([C@H](O)[C@@H](O)[C@H](O[R])O[C@H](CO)1))[C@H](O)2))[C@H](O)[C@@H](O)[C@@H](O)3)\n",
      "[09:29:06] SMILES Parse Error: Failed parsing SMILES 'C(O)[C@H]3(O[C@@H](O[C@H]2([C@@H](O)[C@@H](CO)O[C@@H](O[C@H]1([C@H](O)[C@@H](O)[C@H](O[R])O[C@H](CO)1))[C@H](O)2))[C@H](O)[C@@H](O)[C@@H](O)3)' for input: 'C(O)[C@H]3(O[C@@H](O[C@H]2([C@@H](O)[C@@H](CO)O[C@@H](O[C@H]1([C@H](O)[C@@H](O)[C@H](O[R])O[C@H](CO)1))[C@H](O)2))[C@H](O)[C@@H](O)[C@@H](O)3)'\n"
     ]
    },
    {
     "name": "stdout",
     "output_type": "stream",
     "text": [
      "error CPD-16485\n",
      "error D-GALACTOSYL-13-BETA-D-GALACTOSYL-14-B\n"
     ]
    },
    {
     "name": "stderr",
     "output_type": "stream",
     "text": [
      "[09:29:06] SMILES Parse Error: syntax error while parsing: C1([R4])(=C([R3])C(=O)C(/[R3])=C([R1])/C(=O)1)\n",
      "[09:29:06] SMILES Parse Error: Failed parsing SMILES 'C1([R4])(=C([R3])C(=O)C(/[R3])=C([R1])/C(=O)1)' for input: 'C1([R4])(=C([R3])C(=O)C(/[R3])=C([R1])/C(=O)1)'\n",
      "[09:29:07] SMILES Parse Error: syntax error while parsing: C1([R4])(=C([R3])C(=O)C(/[R3])=C([R1])/C(=O)1)\n",
      "[09:29:07] SMILES Parse Error: Failed parsing SMILES 'C1([R4])(=C([R3])C(=O)C(/[R3])=C([R1])/C(=O)1)' for input: 'C1([R4])(=C([R3])C(=O)C(/[R3])=C([R1])/C(=O)1)'\n",
      "[09:29:07] SMILES Parse Error: syntax error while parsing: C1([R4])(=C([R3])C(=O)C(/[R3])=C([R1])/C(=O)1)\n",
      "[09:29:07] SMILES Parse Error: Failed parsing SMILES 'C1([R4])(=C([R3])C(=O)C(/[R3])=C([R1])/C(=O)1)' for input: 'C1([R4])(=C([R3])C(=O)C(/[R3])=C([R1])/C(=O)1)'\n"
     ]
    },
    {
     "name": "stdout",
     "output_type": "stream",
     "text": [
      "error CPD-21317\n",
      "error CPD-19091\n",
      "error CPD-9849\n"
     ]
    },
    {
     "name": "stderr",
     "output_type": "stream",
     "text": [
      "[09:29:07] Conflicting single bond directions around double bond at index 17.\n",
      "[09:29:07]   BondStereo set to STEREONONE and single bond directions set to NONE.\n",
      "[09:29:07] Conflicting single bond directions around double bond at index 32.\n",
      "[09:29:07]   BondStereo set to STEREONONE and single bond directions set to NONE.\n",
      "[09:29:07] Conflicting single bond directions around double bond at index 9.\n",
      "[09:29:07]   BondStereo set to STEREONONE and single bond directions set to NONE.\n",
      "[09:29:07] Conflicting single bond directions around double bond at index 14.\n",
      "[09:29:07]   BondStereo set to STEREONONE and single bond directions set to NONE.\n",
      "[09:29:07] Conflicting single bond directions around double bond at index 19.\n",
      "[09:29:07]   BondStereo set to STEREONONE and single bond directions set to NONE.\n",
      "[09:29:07] Conflicting single bond directions around double bond at index 30.\n",
      "[09:29:07]   BondStereo set to STEREONONE and single bond directions set to NONE.\n",
      "[09:29:07] SMILES Parse Error: syntax error while parsing: CC(C)=CCCC(\\C)=C/CCC(\\C)=C/CCC(/C)=C/CCC(/C)=C/CCC(/C)=C/CCC(/C)=C/CCC(/C)=C/CCC(/C)=C/CCC(/C)=C/CCC(/C)=C/COP(OP(O[C@H]1([C@@H]([C@H]([C@@H]([C@H](O1)C)O)O[C@H]%10(O[C@H](CO)[C@@H](O)[C@H](O[C@H]9(O[C@H](CO)[C@@H](O)[C@H](O[C@@H]2([C@H]([C@H]([C@@H]([C@H](O2)C)NC=O)O)O[C@@H]3([C@H]([C@H]([C@@H]([C@H](O3)C)NC=O)O)O[C@@H]4([C@H]([C@H]([C@@H]([C@H](O4)C)NC=O)O)O[C@@H]5([C@H]([C@H]([C@@H]([C@H](O5)C)NC=O)O)O[C@@H]6([C@H]([C@H]([C@@H]([C@H](O6)C)NC=O)O)O[C@@H]7([C@H]([C@H]([C@@H]([C@H](O7)C)NC=O)O)O[C@@H]8([C@H]([C@H]([C@@H]([C@H](O8)C)NC=O)O)O[R]))))))))[C@H](O)9))[C@H](O)%10))NC(C)=O))([O-])=O)([O-])=O\n",
      "[09:29:07] SMILES Parse Error: Failed parsing SMILES 'CC(C)=CCCC(\\C)=C/CCC(\\C)=C/CCC(/C)=C/CCC(/C)=C/CCC(/C)=C/CCC(/C)=C/CCC(/C)=C/CCC(/C)=C/CCC(/C)=C/CCC(/C)=C/COP(OP(O[C@H]1([C@@H]([C@H]([C@@H]([C@H](O1)C)O)O[C@H]%10(O[C@H](CO)[C@@H](O)[C@H](O[C@H]9(O[C@H](CO)[C@@H](O)[C@H](O[C@@H]2([C@H]([C@H]([C@@H]([C@H](O2)C)NC=O)O)O[C@@H]3([C@H]([C@H]([C@@H]([C@H](O3)C)NC=O)O)O[C@@H]4([C@H]([C@H]([C@@H]([C@H](O4)C)NC=O)O)O[C@@H]5([C@H]([C@H]([C@@H]([C@H](O5)C)NC=O)O)O[C@@H]6([C@H]([C@H]([C@@H]([C@H](O6)C)NC=O)O)O[C@@H]7([C@H]([C@H]([C@@H]([C@H](O7)C)NC=O)O)O[C@@H]8([C@H]([C@H]([C@@H]([C@H](O8)C)NC=O)O)O[R]))))))))[C@H](O)9))[C@H](O)%10))NC(C)=O))([O-])=O)([O-])=O' for input: 'CC(C)=CCCC(\\C)=C/CCC(\\C)=C/CCC(/C)=C/CCC(/C)=C/CCC(/C)=C/CCC(/C)=C/CCC(/C)=C/CCC(/C)=C/CCC(/C)=C/CCC(/C)=C/COP(OP(O[C@H]1([C@@H]([C@H]([C@@H]([C@H](O1)C)O)O[C@H]%10(O[C@H](CO)[C@@H](O)[C@H](O[C@H]9(O[C@H](CO)[C@@H](O)[C@H](O[C@@H]2([C@H]([C@H]([C@@H]([C@H](O2)C)NC=O)O)O[C@@H]3([C@H]([C@H]([C@@H]([C@H](O3)C)NC=O)O)O[C@@H]4([... truncated[09:29:07] Conflicting single bond directions around double bond at index 13.\n",
      "[09:29:07]   BondStereo set to STEREONONE and single bond directions set to NONE.\n",
      "[09:29:07] Conflicting single bond directions around double bond at index 18.\n",
      "[09:29:07]   BondStereo set to STEREONONE and single bond directions set to NONE.\n",
      "[09:29:07] Conflicting single bond directions around double bond at index 23.\n",
      "[09:29:07]   BondStereo set to STEREONONE and single bond directions set to NONE.\n"
     ]
    },
    {
     "name": "stdout",
     "output_type": "stream",
     "text": [
      "error CPD-13142\n",
      "error CPD2B4Q-3\n",
      "error CPD-22926\n",
      "error CPD0-1589\n",
      "error CPD0-2507\n",
      "error CPD-18500\n",
      "error CPD0-2419\n",
      "error CPD0-2443\n",
      "error CPD-22931\n",
      "error CAPREOMYCIN\n"
     ]
    },
    {
     "name": "stderr",
     "output_type": "stream",
     "text": [
      "[09:29:07] SMILES Parse Error: syntax error while parsing: C(C2(NC(C(CNC(C(C1(CCNC(N1)=N))NC(=O)C(\\NC(C(NC2=O)CNC(CC(N)CCCN)=O)=O)=C\\NC(N)=O)=O)N)=O))[R]\n",
      "[09:29:07] SMILES Parse Error: Failed parsing SMILES 'C(C2(NC(C(CNC(C(C1(CCNC(N1)=N))NC(=O)C(\\NC(C(NC2=O)CNC(CC(N)CCCN)=O)=O)=C\\NC(N)=O)=O)N)=O))[R]' for input: 'C(C2(NC(C(CNC(C(C1(CCNC(N1)=N))NC(=O)C(\\NC(C(NC2=O)CNC(CC(N)CCCN)=O)=O)=C\\NC(N)=O)=O)N)=O))[R]'\n",
      "[09:29:08] Conflicting single bond directions around double bond at index 1.\n",
      "[09:29:08]   BondStereo set to STEREONONE and single bond directions set to NONE.\n"
     ]
    },
    {
     "name": "stdout",
     "output_type": "stream",
     "text": [
      "error CPD0-2685\n"
     ]
    },
    {
     "name": "stderr",
     "output_type": "stream",
     "text": [
      "[09:29:08] Conflicting single bond directions around double bond at index 12.\n",
      "[09:29:08]   BondStereo set to STEREONONE and single bond directions set to NONE.\n",
      "[09:29:08] Conflicting single bond directions around double bond at index 17.\n",
      "[09:29:08]   BondStereo set to STEREONONE and single bond directions set to NONE.\n",
      "[09:29:08] Explicit valence for atom # 38 C, 5, is greater than permitted\n",
      "[09:29:08] Explicit valence for atom # 38 C, 5, is greater than permitted\n",
      "[09:29:08] Explicit valence for atom # 38 C, 5, is greater than permitted\n",
      "[09:29:08] Explicit valence for atom # 38 C, 5, is greater than permitted\n",
      "[09:29:08] Explicit valence for atom # 38 C, 5, is greater than permitted\n",
      "[09:29:08] Explicit valence for atom # 55 C, 5, is greater than permitted\n",
      "[09:29:08] Explicit valence for atom # 55 C, 5, is greater than permitted\n",
      "[09:29:08] Explicit valence for atom # 58 C, 5, is greater than permitted\n",
      "[09:29:08] Explicit valence for atom # 58 C, 5, is greater than permitted\n",
      "[09:29:08] SMILES Parse Error: syntax error while parsing: CC(C)CCC[C@@H](C)[C@H]1(CC[C@@H]2([C@@](C)1CC[C@H]5([C@H]2C\\C=C4(C[C@@H](O[C@H]3(O[C@H](COP(=O)([O-])OC[C@@H](COC([R1])=O)OC(=O)[R2])[C@@H](O)[C@H](O)[C@@H](O)3))CC[C@@](C)45))))\n",
      "[09:29:08] SMILES Parse Error: Failed parsing SMILES 'CC(C)CCC[C@@H](C)[C@H]1(CC[C@@H]2([C@@](C)1CC[C@H]5([C@H]2C\\C=C4(C[C@@H](O[C@H]3(O[C@H](COP(=O)([O-])OC[C@@H](COC([R1])=O)OC(=O)[R2])[C@@H](O)[C@H](O)[C@@H](O)3))CC[C@@](C)45))))' for input: 'CC(C)CCC[C@@H](C)[C@H]1(CC[C@@H]2([C@@](C)1CC[C@H]5([C@H]2C\\C=C4(C[C@@H](O[C@H]3(O[C@H](COP(=O)([O-])OC[C@@H](COC([R1])=O)OC(=O)[R2])[C@@H](O)[C@H](O)[C@@H](O)3))CC[C@@](C)45))))'\n"
     ]
    },
    {
     "name": "stdout",
     "output_type": "stream",
     "text": [
      "error CHLOROPHYLL-A\n",
      "error CPD-18900\n",
      "error CPD-10334\n",
      "error CPD-23000\n",
      "error CPD-18905\n",
      "error CPD-10335\n",
      "error CPD-18896\n",
      "error CPD-18897\n",
      "error CPD-18898\n",
      "error CPD-24830\n",
      "error CPD-22940\n",
      "error CPD0-2621\n"
     ]
    },
    {
     "name": "stderr",
     "output_type": "stream",
     "text": [
      "[09:29:09] SMILES Parse Error: syntax error while parsing: CC3(\\C8(/[C@@H](CCC([O-])=O)[C@](C)(C)C4(\\[N+](\\[Co-3]25([N+]7(/[C@]([C@@H]1([C@@H]([C@](CCC(=O)[O-])(C)C(\\N12)=3)CC([O-])=O))(C)[C@@](C)(CC(N)=O)[C@H](CCC(=O)[O-])C(\\C(/C)=C6([C@@](C)(CC(N)=O)[C@@H](C(\\C=4)=[N+]56)CCC([O-])=O))=7)))=8))).[a\n",
      "[09:29:09] SMILES Parse Error: Failed parsing SMILES 'CC3(\\C8(/[C@@H](CCC([O-])=O)[C@](C)(C)C4(\\[N+](\\[Co-3]25([N+]7(/[C@]([C@@H]1([C@@H]([C@](CCC(=O)[O-])(C)C(\\N12)=3)CC([O-])=O))(C)[C@@](C)(CC(N)=O)[C@H](CCC(=O)[O-])C(\\C(/C)=C6([C@@](C)(CC(N)=O)[C@@H](C(\\C=4)=[N+]56)CCC([O-])=O))=7)))=8))).[a' for input: 'CC3(\\C8(/[C@@H](CCC([O-])=O)[C@](C)(C)C4(\\[N+](\\[Co-3]25([N+]7(/[C@]([C@@H]1([C@@H]([C@](CCC(=O)[O-])(C)C(\\N12)=3)CC([O-])=O))(C)[C@@](C)(CC(N)=O)[C@H](CCC(=O)[O-])C(\\C(/C)=C6([C@@](C)(CC(N)=O)[C@@H](C(\\C=4)=[N+]56)CCC([O-])=O))=7)))=8))).[a'\n",
      "[09:29:09] SMILES Parse Error: syntax error while parsing: CC3(\\C8(/[C@@H](CCC([O-])=O)C(C)(C)C4(\\[N+](\\[Co-2]25([N+]7(/[C@]([C@@H]1([C@@H]([C@](CCC(=O)[O-])(C)C(\\N12)=3)CC([O-])=O))(C)[C@@](C)(CC(N)=O)[C@H](CCC(=O)[O-])C(\\C(/C)=C6([C@@](C)(CC(N)=O)[C@@H](C(\\C=4)=[N+]56)CCC([O-])=O))=7)))=8))).[a\n",
      "[09:29:09] SMILES Parse Error: Failed parsing SMILES 'CC3(\\C8(/[C@@H](CCC([O-])=O)C(C)(C)C4(\\[N+](\\[Co-2]25([N+]7(/[C@]([C@@H]1([C@@H]([C@](CCC(=O)[O-])(C)C(\\N12)=3)CC([O-])=O))(C)[C@@](C)(CC(N)=O)[C@H](CCC(=O)[O-])C(\\C(/C)=C6([C@@](C)(CC(N)=O)[C@@H](C(\\C=4)=[N+]56)CCC([O-])=O))=7)))=8))).[a' for input: 'CC3(\\C8(/[C@@H](CCC([O-])=O)C(C)(C)C4(\\[N+](\\[Co-2]25([N+]7(/[C@]([C@@H]1([C@@H]([C@](CCC(=O)[O-])(C)C(\\N12)=3)CC([O-])=O))(C)[C@@](C)(CC(N)=O)[C@H](CCC(=O)[O-])C(\\C(/C)=C6([C@@](C)(CC(N)=O)[C@@H](C(\\C=4)=[N+]56)CCC([O-])=O))=7)))=8))).[a'\n",
      "[09:29:09] SMILES Parse Error: syntax error while parsing: [Cu][R]\n",
      "[09:29:09] SMILES Parse Error: Failed parsing SMILES '[Cu][R]' for input: '[Cu][R]'\n"
     ]
    },
    {
     "name": "stdout",
     "output_type": "stream",
     "text": [
      "error CPD-20909\n",
      "error CPD-20908\n",
      "error CPD0-1695\n",
      "error CPD-22904\n",
      "error CPD-22943\n",
      "error CPD-22932\n",
      "error CPD-19638\n",
      "error CUSO4\n",
      "error CPD0-2504\n",
      "error CPD3O-4153\n",
      "error CPD-21371\n",
      "error CPD0-2691\n",
      "error CTAB\n",
      "error CPD-22934\n",
      "error CPD-23450\n",
      "error CPD0-2678\n",
      "error CPD-25839\n",
      "error CPD-21315\n",
      "error CPD0-2683\n"
     ]
    },
    {
     "name": "stderr",
     "output_type": "stream",
     "text": [
      "[09:29:09] SMILES Parse Error: syntax error while parsing: C(OP(OP(OC[C@H]2(O[C@H]1(NC4(/N=C(N)\\NC(=O)C(/N[C@H]1C3(\\S[Mo-](S[Cu]SC[C@@H](C(=O)[an\n",
      "[09:29:09] SMILES Parse Error: Failed parsing SMILES 'C(OP(OP(OC[C@H]2(O[C@H]1(NC4(/N=C(N)\\NC(=O)C(/N[C@H]1C3(\\S[Mo-](S[Cu]SC[C@@H](C(=O)[an' for input: 'C(OP(OP(OC[C@H]2(O[C@H]1(NC4(/N=C(N)\\NC(=O)C(/N[C@H]1C3(\\S[Mo-](S[Cu]SC[C@@H](C(=O)[an'\n",
      "[09:29:09] SMILES Parse Error: syntax error while parsing: C1([R4])(=C([R3])C(=O)C(/[R3])=C([R1])/C(=O)1)\n",
      "[09:29:09] SMILES Parse Error: Failed parsing SMILES 'C1([R4])(=C([R3])C(=O)C(/[R3])=C([R1])/C(=O)1)' for input: 'C1([R4])(=C([R3])C(=O)C(/[R3])=C([R1])/C(=O)1)'\n",
      "[09:29:10] Conflicting single bond directions around double bond at index 17.\n",
      "[09:29:10]   BondStereo set to STEREONONE and single bond directions set to NONE.\n",
      "[09:29:10] Conflicting single bond directions around double bond at index 12.\n",
      "[09:29:10]   BondStereo set to STEREONONE and single bond directions set to NONE.\n",
      "[09:29:10] Conflicting single bond directions around double bond at index 17.\n",
      "[09:29:10]   BondStereo set to STEREONONE and single bond directions set to NONE.\n",
      "[09:29:10] Conflicting single bond directions around double bond at index 16.\n",
      "[09:29:10]   BondStereo set to STEREONONE and single bond directions set to NONE.\n",
      "[09:29:10] Conflicting single bond directions around double bond at index 19.\n",
      "[09:29:10]   BondStereo set to STEREONONE and single bond directions set to NONE.\n",
      "[09:29:10] Conflicting single bond directions around double bond at index 22.\n",
      "[09:29:10]   BondStereo set to STEREONONE and single bond directions set to NONE.\n",
      "[09:29:10] Conflicting single bond directions around double bond at index 16.\n",
      "[09:29:10]   BondStereo set to STEREONONE and single bond directions set to NONE.\n",
      "[09:29:10] Conflicting single bond directions around double bond at index 12.\n",
      "[09:29:10]   BondStereo set to STEREONONE and single bond directions set to NONE.\n",
      "[09:29:10] Conflicting single bond directions around double bond at index 17.\n",
      "[09:29:10]   BondStereo set to STEREONONE and single bond directions set to NONE.\n",
      "[09:29:10] Conflicting single bond directions around double bond at index 17.\n",
      "[09:29:10]   BondStereo set to STEREONONE and single bond directions set to NONE.\n",
      "[09:29:10] Conflicting single bond directions around double bond at index 17.\n",
      "[09:29:10]   BondStereo set to STEREONONE and single bond directions set to NONE.\n",
      "[09:29:10] Conflicting single bond directions around double bond at index 20.\n",
      "[09:29:10]   BondStereo set to STEREONONE and single bond directions set to NONE.\n",
      "[09:29:10] Conflicting single bond directions around double bond at index 23.\n",
      "[09:29:10]   BondStereo set to STEREONONE and single bond directions set to NONE.\n",
      "[09:29:10] SMILES Parse Error: syntax error while parsing: CC(C)(COP(=O)([O-])OC[C@H](N[a\n",
      "[09:29:10] SMILES Parse Error: Failed parsing SMILES 'CC(C)(COP(=O)([O-])OC[C@H](N[a' for input: 'CC(C)(COP(=O)([O-])OC[C@H](N[a'\n",
      "[09:29:10] Conflicting single bond directions around double bond at index 17.\n",
      "[09:29:10]   BondStereo set to STEREONONE and single bond directions set to NONE.\n",
      "[09:29:10] Conflicting single bond directions around double bond at index 9.\n",
      "[09:29:10]   BondStereo set to STEREONONE and single bond directions set to NONE.\n",
      "[09:29:10] Conflicting single bond directions around double bond at index 14.\n",
      "[09:29:10]   BondStereo set to STEREONONE and single bond directions set to NONE.\n",
      "[09:29:10] Conflicting single bond directions around double bond at index 19.\n",
      "[09:29:10]   BondStereo set to STEREONONE and single bond directions set to NONE.\n"
     ]
    },
    {
     "name": "stdout",
     "output_type": "stream",
     "text": [
      "error CPD0-2706\n",
      "error CPD-22905\n",
      "error CPD0-2503\n",
      "error CPD-22981\n",
      "error CPD-21788\n",
      "error CPD0-1355\n",
      "error CPD-19318\n",
      "error CPD0-2433\n",
      "error DIPYRROMETHANE\n",
      "error CPD-25838\n",
      "error CPD0-2412\n",
      "error CPD0-2389\n",
      "error CPD-22884\n"
     ]
    },
    {
     "name": "stderr",
     "output_type": "stream",
     "text": [
      "[09:29:10] Conflicting single bond directions around double bond at index 12.\n",
      "[09:29:10]   BondStereo set to STEREONONE and single bond directions set to NONE.\n",
      "[09:29:10] Conflicting single bond directions around double bond at index 17.\n",
      "[09:29:10]   BondStereo set to STEREONONE and single bond directions set to NONE.\n",
      "[09:29:10] SMILES Parse Error: syntax error while parsing: C2(\\NC(/CC1(\\NC(/CSC[C@@H](C(=O)[a\n",
      "[09:29:10] SMILES Parse Error: Failed parsing SMILES 'C2(\\NC(/CC1(\\NC(/CSC[C@@H](C(=O)[a' for input: 'C2(\\NC(/CC1(\\NC(/CSC[C@@H](C(=O)[a'\n"
     ]
    },
    {
     "name": "stdout",
     "output_type": "stream",
     "text": [
      "error CPD-25862\n",
      "error CPD-8534\n",
      "error CPD-19640\n",
      "error CPD-24126\n",
      "error CPD0-2294\n",
      "error CPD-21605\n",
      "error CPD-12319\n",
      "error CPD-25539\n"
     ]
    },
    {
     "name": "stderr",
     "output_type": "stream",
     "text": [
      "[09:29:10] SMILES Parse Error: syntax error while parsing: CC(C)=CCCC(\\C)=C/CCC(\\C)=C/CCC(/C)=C/CCC(/C)=C/CCC(/C)=C/CCC(/C)=C/CCC(/C)=C/CCC(/C)=C/CCC(/C)=C/CCC(/C)=C/COP(=O)([O-])OP(=O)([O-])O[C@H]9(O[C@H](CO)[C@@H](O[C@@H]8(O[C@H](C(=O)[O-])[C@@H](O[C@H]7(O[C@H](C)[C@H](NC(C)=O)[C@H](O[C@H]6(O[C@H](CO)[C@@H](O[C@@H]5(O[C@H](C(=O)[O-])[C@@H](O[C@H]4(O[C@H](C)[C@H](NC(C)=O)[C@H](O[C@H]3(O[C@H](CO)[C@@H](O[C@@H]2(O[C@H](C(=O)[O-])[C@@H](O[C@H]1(O[C@H](C)[C@H](NC(C)=O)[C@H](O[R])[C@@H](O)1))[C@H](O)[C@H](NC(C)=O)2))[C@H](O)[C@@H](NC(C)=O)3))[C@@H](O)4))[C@H](O)[C@H](NC(C)=O)5))[C@H](O)[C@@H](NC(C)=O)6))[C@@H](O)7))[C@H](O)[C@H](NC(C)=O)8))[C@H](O)[C@@H](NC(C)=O)9)\n",
      "[09:29:10] SMILES Parse Error: Failed parsing SMILES 'CC(C)=CCCC(\\C)=C/CCC(\\C)=C/CCC(/C)=C/CCC(/C)=C/CCC(/C)=C/CCC(/C)=C/CCC(/C)=C/CCC(/C)=C/CCC(/C)=C/CCC(/C)=C/COP(=O)([O-])OP(=O)([O-])O[C@H]9(O[C@H](CO)[C@@H](O[C@@H]8(O[C@H](C(=O)[O-])[C@@H](O[C@H]7(O[C@H](C)[C@H](NC(C)=O)[C@H](O[C@H]6(O[C@H](CO)[C@@H](O[C@@H]5(O[C@H](C(=O)[O-])[C@@H](O[C@H]4(O[C@H](C)[C@H](NC(C)=O)[C@H](O[C@H]3(O[C@H](CO)[C@@H](O[C@@H]2(O[C@H](C(=O)[O-])[C@@H](O[C@H]1(O[C@H](C)[C@H](NC(C)=O)[C@H](O[R])[C@@H](O)1))[C@H](O)[C@H](NC(C)=O)2))[C@H](O)[C@@H](NC(C)=O)3))[C@@H](O)4))[C@H](O)[C@H](NC(C)=O)5))[C@H](O)[C@@H](NC(C)=O)6))[C@@H](O)7))[C@H](O)[C@H](NC(C)=O)8))[C@H](O)[C@@H](NC(C)=O)9)' for input: 'CC(C)=CCCC(\\C)=C/CCC(\\C)=C/CCC(/C)=C/CCC(/C)=C/CCC(/C)=C/CCC(/C)=C/CCC(/C)=C/CCC(/C)=C/CCC(/C)=C/CCC(/C)=C/COP(=O)([O-])OP(=O)([O-])O[C@H]9(O[C@H](CO)[C@@H](O[C@@H]8(O[C@H](C(=O)[O-])[C@@H](O[C@H]7(O[C@H](C)[C@H](NC(C)=O)[C@H](O[C@H]6(O[C@H](CO)[C@@H](O[C@@H]5(O[C@H](C(=O)[O-])[C@@H](O[C@H]4(O[C@H](C)[C@H](NC(C)=O)[C@H](... truncated[09:29:10] SMILES Parse Error: syntax error while parsing: CCCCCCCCCCCCCC(=O)O[C@H](CCCCCCCCCCC)CC(=O)O[C@@H]%20([C@H]([C@@H](O[C@H](CO[C@@]%19(C(=O)[O-])(O[C@H]([C@H](O)CO)[C@H](O[C@H]%17(O[C@H]([C@@H](O)CO)[C@@H](OP([O-])([O-])=O)[C@H](O[C@H]%16(O[C@H]([C@@H](CO[C@H]1(O[C@H]([C@@H](O)CO)[C@@H](O)[C@H](O)[C@H](O)1))O)[C@@H](OP([O-])(=O)[O-])[C@H](O[C@H]%15(O[C@H](CO[C@H]2(O[C@H](CO)[C@H](O)[C@H](O)[C@@H](O)2))[C@@H](O)[C@H](O[C@H]3(O[C@H](CO)[C@@H](O)[C@H](O)[C@H]3O[C@H]%14(O[C@H](CO[C@H]%13(O[C@H]([C@@H](O)CO[C@H]%12(O[C@@H](CO)[C@@H](O[C@@H]%11(O[C@H](C(=O)[O-])[C@@H](O[C@H]%10(O[C@H](C)[C@H](NC(C)=O)[C@H](O[C@H]9(O[C@H](CO)[C@@H](O[C@@H]8(O[C@H](C(=O)[O-])[C@@H](O[C@H]7(O[C@H](C)[C@H](NC(C)=O)[C@H](O[C@H]6(O[C@H](CO)[C@@H](O[C@@H]5(O[C@H](C(=O)[O-])[C@@H](O[C@H]4(O[C@H](C)[C@H](NC(C)=O)[C@H](O[R])[C@@H](O)4))[C@H](O)[C@H](NC(C)=O)5))[C@H](O)[C@@H](NC(C)=O)6))[C@@H](O)7))[C@H](O)[C@H](NC(C)=O)8))[C@H](O)[C@@H](NC(C)=O)9))[C@@H](O)%10))[C@H](O)[C@H](NC(C)=O)%11))[C@H](O)[C@@H](NC(C)=... truncated[09:29:10] SMILES Parse Error: Failed parsing SMILES 'CCCCCCCCCCCCCC(=O)O[C@H](CCCCCCCCCCC)CC(=O)O[C@@H]%20([C@H]([C@@H](O[C@H](CO[C@@]%19(C(=O)[O-])(O[C@H]([C@H](O)CO)[C@H](O[C@H]%17(O[C@H]([C@@H](O)CO)[C@@H](OP([O-])([O-])=O)[C@H](O[C@H]%16(O[C@H]([C@@H](CO[C@H]1(O[C@H]([C@@H](O)CO)[C@@H](O)[C@H](O)[C@H](O)1))O)[C@@H](OP([O-])(=O)[O-])[C@H](O[C@H]%15(O[C@H](CO[C@H]2(O[C@H](CO)[C@H](O)[C@H](O)[C@@H](O)2))[C@@H](O)[C@H](O[C@H]3(O[C@H](CO)[C@@H](O)[C@H](O)[C@H]3O[C@H]%14(O[C@H](CO[C@H]%13(O[C@H]([C@@H](O)CO[C@H]%12(O[C@@H](CO)[C@@H](O[C@@H]%11(O[C@H](C(=O)[O-])[C@@H](O[C@H]%10(O[C@H](C)[C@H](NC(C)=O)[C@H](O[C@H]9(O[C@H](CO)[C@@H](O[C@@H]8(O[C@H](C(=O)[O-])[C@@H](O[C@H]7(O[C@H](C)[C@H](NC(C)=O)[C@H](O[C@H]6(O[C@H](CO)[C@@H](O[C@@H]5(O[C@H](C(=O)[O-])[C@@H](O[C@H]4(O[C@H](C)[C@H](NC(C)=O)[C@H](O[R])[C@@H](O)4))[C@H](O)[C@H](NC(C)=O)5))[C@H](O)[C@@H](NC(C)=O)6))[C@@H](O)7))[C@H](O)[C@H](NC(C)=O)8))[C@H](O)[C@@H](NC(C)=O)9))[C@@H](O)%10))[C@H](O)[C@H](NC(C)=O)%11))[C@H](O)[C@@H](NC(C)=O)%12... truncated[09:29:10] SMILES Parse Error: syntax error while parsing: C[C@H]9(O[C@H](O[C@H]1([C@H](O)[C@H](NC(C)=O)[C@@H](O[C@H](C(=O)[O-])1)O[C@H]8([C@H](O)[C@@H](NC(C)=O)[C@@H](O[C@@H]2([C@@H](O)[C@H](O[C@H](C)[C@H](NC(C)=O)2)O[C@H]3([C@H](O)[C@H](NC(C)=O)[C@@H](O[C@H](C(=O)[O-])3)O[C@H]7([C@H](O)[C@@H](NC(C)=O)[C@@H](O[C@@H]4([C@@H](O)[C@H](O[C@H](C)[C@H](NC(C)=O)4)O[C@H]5([C@H](O)[C@H](NC(C)=O)[C@@H](O[C@H](C(=O)[O-])5)O[C@H]6([C@H](O)[C@@H](NC(C)=O)[C@@H](OP([O-])(=O)OC[C@@H](OC(=O)[R2])COC(=O)[R1])O[C@H](CO)6))))O[C@H](CO)7))))O[C@H](CO)8)))[C@H](O)[C@@H](O[R])[C@@H](NC(C)=O)9)\n",
      "[09:29:10] SMILES Parse Error: Failed parsing SMILES 'C[C@H]9(O[C@H](O[C@H]1([C@H](O)[C@H](NC(C)=O)[C@@H](O[C@H](C(=O)[O-])1)O[C@H]8([C@H](O)[C@@H](NC(C)=O)[C@@H](O[C@@H]2([C@@H](O)[C@H](O[C@H](C)[C@H](NC(C)=O)2)O[C@H]3([C@H](O)[C@H](NC(C)=O)[C@@H](O[C@H](C(=O)[O-])3)O[C@H]7([C@H](O)[C@@H](NC(C)=O)[C@@H](O[C@@H]4([C@@H](O)[C@H](O[C@H](C)[C@H](NC(C)=O)4)O[C@H]5([C@H](O)[C@H](NC(C)=O)[C@@H](O[C@H](C(=O)[O-])5)O[C@H]6([C@H](O)[C@@H](NC(C)=O)[C@@H](OP([O-])(=O)OC[C@@H](OC(=O)[R2])COC(=O)[R1])O[C@H](CO)6))))O[C@H](CO)7))))O[C@H](CO)8)))[C@H](O)[C@@H](O[R])[C@@H](NC(C)=O)9)' for input: 'C[C@H]9(O[C@H](O[C@H]1([C@H](O)[C@H](NC(C)=O)[C@@H](O[C@H](C(=O)[O-])1)O[C@H]8([C@H](O)[C@@H](NC(C)=O)[C@@H](O[C@@H]2([C@@H](O)[C@H](O[C@H](C)[C@H](NC(C)=O)2)O[C@H]3([C@H](O)[C@H](NC(C)=O)[C@@H](O[C@H](C(=O)[O-])3)O[C@H]7([C@H](O)[C@@H](NC(C)=O)[C@@H](O[C@@H]4([C@@H](O)[C@H](O[C@H](C)[C@H](NC(C)=O)4)O[C@H]5([C@H](O)[C@H](NC(C)=O)[C@@H](O[C@H](C(=O)[O-])5)O[C@H]6([C@H](O)[C@@H](NC(C)=O)[C@@H](OP([O-])(=O)OC[C@... truncated[09:29:10] Explicit valence for atom # 15 C, 5, is greater than permitted\n",
      "[09:29:10] SMILES Parse Error: syntax error while parsing: C[C@@H](C[R1])[C@@H]1([C@@H](C)\\C=C/[C@]7(O1)(O[C@H]5(C[C@H](OC(=O)[C@@H]6(\\C=C(C)/[C@@H](O)[C@@H]2([C@@](O)(C(\\CO2)=C/C=C/[C@H](C)[C@H](O[C@@H]4(O[C@H]([C@H](O[C@@H]3(O[C@H]([C@H](NC(=O)C)[C@@H](OC)C3)C))[C@@H](OC)C4)C))C(\\C)=C/C5)6)))C7)))\n",
      "[09:29:10] SMILES Parse Error: Failed parsing SMILES 'C[C@@H](C[R1])[C@@H]1([C@@H](C)\\C=C/[C@]7(O1)(O[C@H]5(C[C@H](OC(=O)[C@@H]6(\\C=C(C)/[C@@H](O)[C@@H]2([C@@](O)(C(\\CO2)=C/C=C/[C@H](C)[C@H](O[C@@H]4(O[C@H]([C@H](O[C@@H]3(O[C@H]([C@H](NC(=O)C)[C@@H](OC)C3)C))[C@@H](OC)C4)C))C(\\C)=C/C5)6)))C7)))' for input: 'C[C@@H](C[R1])[C@@H]1([C@@H](C)\\C=C/[C@]7(O1)(O[C@H]5(C[C@H](OC(=O)[C@@H]6(\\C=C(C)/[C@@H](O)[C@@H]2([C@@](O)(C(\\CO2)=C/C=C/[C@H](C)[C@H](O[C@@H]4(O[C@H]([C@H](O[C@@H]3(O[C@H]([C@H](NC(=O)C)[C@@H](OC)C3)C))[C@@H](OC)C4)C))C(\\C)=C/C5)6)))C7)))'\n",
      "[09:29:10] Conflicting single bond directions around double bond at index 12.\n",
      "[09:29:10]   BondStereo set to STEREONONE and single bond directions set to NONE.\n",
      "[09:29:10] Conflicting single bond directions around double bond at index 17.\n",
      "[09:29:10]   BondStereo set to STEREONONE and single bond directions set to NONE.\n"
     ]
    },
    {
     "name": "stdout",
     "output_type": "stream",
     "text": [
      "error CPD-24051\n",
      "error CPD-24103\n",
      "error CPD-24109\n",
      "error CPD-24000\n",
      "error CPD-24108\n",
      "error CPD-24146\n",
      "error CPD-24114\n",
      "error CPD-24299\n",
      "error CPD-24048\n",
      "error CPD-24125\n",
      "error CPD-24118\n",
      "error CPD-24159\n",
      "error CPD-24207\n",
      "error CPD-24160\n",
      "error CPD-24174\n",
      "error CPD-24294\n",
      "error CPD-24171\n",
      "error CPD-24195\n",
      "error CPD-24434\n",
      "error CPD-24295\n",
      "error CPD-24194\n",
      "error CPD-24309\n",
      "error CPD-24097\n",
      "error CPD-24098\n",
      "error CPD-24083\n",
      "error CPD-24193\n",
      "error CPD-24192\n"
     ]
    },
    {
     "name": "stderr",
     "output_type": "stream",
     "text": [
      "[09:29:10] SMILES Parse Error: syntax error while parsing: CC(C)=CCCC(\\C)=C/CCC(\\C)=C/CCC(/C)=C/CCC(/C)=C/CCC(/C)=C/CCC(/C)=C/CCC(/C)=C/CCC(/C)=C/CCC(/C)=C/CCC(/C)=C/COP(=O)([O-])OP([O-])(=O)O[C@@H]1([C@@H]([C@H]([C@H]([C@H](O1)CO)O)O[C@@H]%12(O[C@H](CO)[C@H](O)[C@H](O[C@]%11(C([O-])=O)(C[C@H](O[C@H]%10(O[C@H](CO)[C@H](O[C@H]2([C@@H]([C@H]([C@H]([C@H](O2)CO)O)O[C@@H]9(O[C@H](CO)[C@H](O)[C@H](O[C@]8(C([O-])=O)(C[C@H](O[C@H]7(O[C@H](CO)[C@H](O[C@H]3([C@@H]([C@H]([C@H]([C@H](O3)CO)O)O[C@@H]6(O[C@H](CO)[C@H](O)[C@H](O[C@]5(C([O-])=O)(C[C@H](O[C@H]4(O[C@H](CO)[C@H](O[R])[C@H](O)[C@@H](O)4))[C@@H](NC(C)=O)[C@@H](O5)[C@H](OC(=O)C)[C@H](O)COC(C)=O))[C@@H](O)6))NC(C)=O))[C@H](O)[C@@H](O)7))[C@@H](NC(C)=O)[C@@H](O8)[C@H](OC(=O)C)[C@H](O)COC(C)=O))[C@@H](O)9))NC(C)=O))[C@H](O)[C@@H](O)%10))[C@@H](NC(C)=O)[C@@H](O%11)[C@H](OC(=O)C)[C@H](O)COC(C)=O))[C@@H](O)%12))NC(C)=O)\n",
      "[09:29:10] SMILES Parse Error: Failed parsing SMILES 'CC(C)=CCCC(\\C)=C/CCC(\\C)=C/CCC(/C)=C/CCC(/C)=C/CCC(/C)=C/CCC(/C)=C/CCC(/C)=C/CCC(/C)=C/CCC(/C)=C/CCC(/C)=C/COP(=O)([O-])OP([O-])(=O)O[C@@H]1([C@@H]([C@H]([C@H]([C@H](O1)CO)O)O[C@@H]%12(O[C@H](CO)[C@H](O)[C@H](O[C@]%11(C([O-])=O)(C[C@H](O[C@H]%10(O[C@H](CO)[C@H](O[C@H]2([C@@H]([C@H]([C@H]([C@H](O2)CO)O)O[C@@H]9(O[C@H](CO)[C@H](O)[C@H](O[C@]8(C([O-])=O)(C[C@H](O[C@H]7(O[C@H](CO)[C@H](O[C@H]3([C@@H]([C@H]([C@H]([C@H](O3)CO)O)O[C@@H]6(O[C@H](CO)[C@H](O)[C@H](O[C@]5(C([O-])=O)(C[C@H](O[C@H]4(O[C@H](CO)[C@H](O[R])[C@H](O)[C@@H](O)4))[C@@H](NC(C)=O)[C@@H](O5)[C@H](OC(=O)C)[C@H](O)COC(C)=O))[C@@H](O)6))NC(C)=O))[C@H](O)[C@@H](O)7))[C@@H](NC(C)=O)[C@@H](O8)[C@H](OC(=O)C)[C@H](O)COC(C)=O))[C@@H](O)9))NC(C)=O))[C@H](O)[C@@H](O)%10))[C@@H](NC(C)=O)[C@@H](O%11)[C@H](OC(=O)C)[C@H](O)COC(C)=O))[C@@H](O)%12))NC(C)=O)' for input: 'CC(C)=CCCC(\\C)=C/CCC(\\C)=C/CCC(/C)=C/CCC(/C)=C/CCC(/C)=C/CCC(/C)=C/CCC(/C)=C/CCC(/C)=C/CCC(/C)=C/CCC(/C)=C/COP(=O)([O-])... truncated[09:29:10] SMILES Parse Error: syntax error while parsing: CC(C)=CCCC(\\C)=C/CCC(\\C)=C/CCC(/C)=C/CCC(/C)=C/CCC(/C)=C/CCC(/C)=C/CCC(/C)=C/CCC(/C)=C/CCC(/C)=C/CCC(/C)=C/COP(=O)([O-])OP(O[C@H]1(O[C@@H]([C@@H]([C@@H]([C@H]1NC(=O)C)O[C@@H]2(O[C@@H]([C@@H]([C@@H]([C@H]2O)O)O[C@H]3(O[C@@H]([C@H]([C@@H]([C@H]3NC(=O)C)O)O[C@@H]%15(O[C@@H](C)[C@H](O)[C@@H](O[C@H]4([C@@H]([C@H]([C@H]([C@H](O4)CO)O[C@H]5(O[C@@H]([C@@H]([C@@H]([C@H]5NC(=O)C)O[C@@H]6(O[C@@H]([C@@H]([C@@H]([C@H]6O)O)O[C@H]7(O[C@@H]([C@H]([C@@H]([C@H]7NC(=O)C)O)O[C@@H]%14(O[C@@H](C)[C@H](O)[C@@H](O[C@H]8([C@@H]([C@H]([C@H]([C@H](O8)CO)O[C@H]9(O[C@@H]([C@@H]([C@@H]([C@H]9NC(=O)C)O[C@@H]%10(O[C@@H]([C@@H]([C@@H]([C@H]%10O)O)O[C@H]%11(O[C@@H]([C@H]([C@@H]([C@H]%11NC(=O)C)O)O[C@@H]%13(O[C@@H](C)[C@H](O)[C@@H](O[C@H]%12([C@@H]([C@H]([C@H]([C@H](O%12)CO)O[R])O)NC(C)=O))[C@@H](O)%13))CO))CO))O)CO))O)NC(C)=O))[C@@H](O)%14))CO))CO))O)CO))O)NC(C)=O))[C@@H](O)%15))CO))CO))O)CO))([O-])=O\n",
      "[09:29:10] SMILES Parse Error: Failed parsing SMILES 'CC(C)=CCCC(\\C)=C/CCC(\\C)=C/CCC(/C)=C/CCC(/C)=C/CCC(/C)=C/CCC(/C)=C/CCC(/C)=C/CCC(/C)=C/CCC(/C)=C/CCC(/C)=C/COP(=O)([O-])OP(O[C@H]1(O[C@@H]([C@@H]([C@@H]([C@H]1NC(=O)C)O[C@@H]2(O[C@@H]([C@@H]([C@@H]([C@H]2O)O)O[C@H]3(O[C@@H]([C@H]([C@@H]([C@H]3NC(=O)C)O)O[C@@H]%15(O[C@@H](C)[C@H](O)[C@@H](O[C@H]4([C@@H]([C@H]([C@H]([C@H](O4)CO)O[C@H]5(O[C@@H]([C@@H]([C@@H]([C@H]5NC(=O)C)O[C@@H]6(O[C@@H]([C@@H]([C@@H]([C@H]6O)O)O[C@H]7(O[C@@H]([C@H]([C@@H]([C@H]7NC(=O)C)O)O[C@@H]%14(O[C@@H](C)[C@H](O)[C@@H](O[C@H]8([C@@H]([C@H]([C@H]([C@H](O8)CO)O[C@H]9(O[C@@H]([C@@H]([C@@H]([C@H]9NC(=O)C)O[C@@H]%10(O[C@@H]([C@@H]([C@@H]([C@H]%10O)O)O[C@H]%11(O[C@@H]([C@H]([C@@H]([C@H]%11NC(=O)C)O)O[C@@H]%13(O[C@@H](C)[C@H](O)[C@@H](O[C@H]%12([C@@H]([C@H]([C@H]([C@H](O%12)CO)O[R])O)NC(C)=O))[C@@H](O)%13))CO))CO))O)CO))O)NC(C)=O))[C@@H](O)%14))CO))CO))O)CO))O)NC(C)=O))[C@@H](O)%15))CO))CO))O)CO))([O-])=O' for input: 'CC(C)=CCCC(\\C)=C/CCC(\\C)=C/CCC(/C)=C/CCC(/C)=C/CCC(/... truncated[09:29:10] SMILES Parse Error: syntax error while parsing: CC(C)=CCCC(\\C)=C/CCC(\\C)=C/CCC(/C)=C/CCC(/C)=C/CCC(/C)=C/CCC(/C)=C/CCC(/C)=C/CCC(/C)=C/CCC(/C)=C/CCC(/C)=C/COP(=O)([O-])OP([O-])(=O)O[C@@H]1([C@@H]([C@H]([C@@H]([C@H](O1)CO)O)O[C@H]%15(O[C@H](CO)[C@H](O[C@H]%14(O[C@H](CO[C@H]2(O[C@@H](C)[C@@H](O)C[C@H](O)2))[C@@H](O[C@H]3([C@@H]([C@H]([C@@H]([C@H](O3)CO)O)O[C@H]%12(O[C@H](CO)[C@H](O[C@H]%11(O[C@H](CO[C@H]4(O[C@@H](C)[C@@H](O)C[C@H](O)4))[C@@H](O[C@H]5([C@@H]([C@H]([C@@H]([C@H](O5)CO)O)O[C@H]9(O[C@H](CO)[C@H](O[C@H]8(O[C@H](CO[C@H]6(O[C@@H](C)[C@@H](O)C[C@H](O)6))[C@@H](O[R])[C@H](O[C@H]7(O[C@@H](C)[C@@H](O)C[C@H](O)7))[C@@H](O)8))[C@H](O)[C@@H](O)9))NC(C)=O))[C@H](O[C@H]%10(O[C@@H](C)[C@@H](O)C[C@H](O)%10))[C@@H](O)%11))[C@H](O)[C@@H](O)%12))NC(C)=O))[C@H](O[C@H]%13(O[C@@H](C)[C@@H](O)C[C@H](O)%13))[C@@H](O)%14))[C@H](O)[C@@H](O)%15))NC(C)=O)\n",
      "[09:29:10] SMILES Parse Error: Failed parsing SMILES 'CC(C)=CCCC(\\C)=C/CCC(\\C)=C/CCC(/C)=C/CCC(/C)=C/CCC(/C)=C/CCC(/C)=C/CCC(/C)=C/CCC(/C)=C/CCC(/C)=C/CCC(/C)=C/COP(=O)([O-])OP([O-])(=O)O[C@@H]1([C@@H]([C@H]([C@@H]([C@H](O1)CO)O)O[C@H]%15(O[C@H](CO)[C@H](O[C@H]%14(O[C@H](CO[C@H]2(O[C@@H](C)[C@@H](O)C[C@H](O)2))[C@@H](O[C@H]3([C@@H]([C@H]([C@@H]([C@H](O3)CO)O)O[C@H]%12(O[C@H](CO)[C@H](O[C@H]%11(O[C@H](CO[C@H]4(O[C@@H](C)[C@@H](O)C[C@H](O)4))[C@@H](O[C@H]5([C@@H]([C@H]([C@@H]([C@H](O5)CO)O)O[C@H]9(O[C@H](CO)[C@H](O[C@H]8(O[C@H](CO[C@H]6(O[C@@H](C)[C@@H](O)C[C@H](O)6))[C@@H](O[R])[C@H](O[C@H]7(O[C@@H](C)[C@@H](O)C[C@H](O)7))[C@@H](O)8))[C@H](O)[C@@H](O)9))NC(C)=O))[C@H](O[C@H]%10(O[C@@H](C)[C@@H](O)C[C@H](O)%10))[C@@H](O)%11))[C@H](O)[C@@H](O)%12))NC(C)=O))[C@H](O[C@H]%13(O[C@@H](C)[C@@H](O)C[C@H](O)%13))[C@@H](O)%14))[C@H](O)[C@@H](O)%15))NC(C)=O)' for input: 'CC(C)=CCCC(\\C)=C/CCC(\\C)=C/CCC(/C)=C/CCC(/C)=C/CCC(/C)=C/CCC(/C)=C/CCC(/C)=C/CCC(/C)=C/CCC(/C)=C/CCC(/C)=C/COP(=O)([O-])OP([O-])(... truncated[09:29:10] SMILES Parse Error: syntax error while parsing: CC(C)=CCCC(\\C)=C/CCC(\\C)=C/CCC(/C)=C/CCC(/C)=C/CCC(/C)=C/CCC(/C)=C/CCC(/C)=C/CCC(/C)=C/CCC(/C)=C/CCC(/C)=C/COP(=O)([O-])OP(O[C@@H]%14([C@@H]([C@H]([C@@H](O[C@@H]%13(O[C@H](CO)[C@@H](O)[C@H](O[C@@H]%12(O[C@H](C(=O)[O-])[C@H](O)[C@H](O[C@H]%11(O[C@H](C(=O)[O-])[C@H](O[C@H]9([C@@H]([C@H]([C@@H](O[C@@H]8(O[C@H](CO)[C@@H](O)[C@H](O[C@@H]7(O[C@H](C(=O)[O-])[C@H](O)[C@H](O[C@H]6(O[C@H](C(=O)[O-])[C@H](O[C@H]4([C@@H]([C@H]([C@@H](O[C@@H]3(O[C@H](CO)[C@@H](O)[C@H](O[C@@H]2(O[C@H](C(=O)[O-])[C@H](O)[C@H](O[C@H]1(O[C@H](C(=O)[O-])[C@H](O[R])[C@H](O)[C@@H](O)1))[C@@H](O)2))[C@@H](NC(=O)C)3))[C@H](O4)CO)O[C@@H]5(O[C@H](CO)[C@H](O)[C@H](O)[C@@H](O)5))NC(C)=O))[C@H](O)[C@@H](O)6))[C@@H](O)7))[C@@H](NC(=O)C)8))[C@H](O9)CO)O[C@@H]%10(O[C@H](CO)[C@H](O)[C@H](O)[C@@H](O)%10))NC(C)=O))[C@H](O)[C@@H](O)%11))[C@@H](O)%12))[C@@H](NC(=O)C)%13))[C@H](O%14)CO)O[C@@H]%15(O[C@H](CO)[C@H](O)[C@H](O)[C@@H](O)%15))NC(C)=O))([O-])=O\n",
      "[09:29:10] SMILES Parse Error: Failed parsing SMILES 'CC(C)=CCCC(\\C)=C/CCC(\\C)=C/CCC(/C)=C/CCC(/C)=C/CCC(/C)=C/CCC(/C)=C/CCC(/C)=C/CCC(/C)=C/CCC(/C)=C/CCC(/C)=C/COP(=O)([O-])OP(O[C@@H]%14([C@@H]([C@H]([C@@H](O[C@@H]%13(O[C@H](CO)[C@@H](O)[C@H](O[C@@H]%12(O[C@H](C(=O)[O-])[C@H](O)[C@H](O[C@H]%11(O[C@H](C(=O)[O-])[C@H](O[C@H]9([C@@H]([C@H]([C@@H](O[C@@H]8(O[C@H](CO)[C@@H](O)[C@H](O[C@@H]7(O[C@H](C(=O)[O-])[C@H](O)[C@H](O[C@H]6(O[C@H](C(=O)[O-])[C@H](O[C@H]4([C@@H]([C@H]([C@@H](O[C@@H]3(O[C@H](CO)[C@@H](O)[C@H](O[C@@H]2(O[C@H](C(=O)[O-])[C@H](O)[C@H](O[C@H]1(O[C@H](C(=O)[O-])[C@H](O[R])[C@H](O)[C@@H](O)1))[C@@H](O)2))[C@@H](NC(=O)C)3))[C@H](O4)CO)O[C@@H]5(O[C@H](CO)[C@H](O)[C@H](O)[C@@H](O)5))NC(C)=O))[C@H](O)[C@@H](O)6))[C@@H](O)7))[C@@H](NC(=O)C)8))[C@H](O9)CO)O[C@@H]%10(O[C@H](CO)[C@H](O)[C@H](O)[C@@H](O)%10))NC(C)=O))[C@H](O)[C@@H](O)%11))[C@@H](O)%12))[C@@H](NC(=O)C)%13))[C@H](O%14)CO)O[C@@H]%15(O[C@H](CO)[C@H](O)[C@H](O)[C@@H](O)%15))NC(C)=O))([O-])=O' for input: 'CC(C)=CCCC(\\C)=C/C... truncated[09:29:10] SMILES Parse Error: syntax error while parsing: CC(C)=CCCC(\\C)=C/CCC(\\C)=C/CCC(/C)=C/CCC(/C)=C/CCC(/C)=C/CCC(/C)=C/CCC(/C)=C/CCC(/C)=C/CCC(/C)=C/CCC(/C)=C/COP(=O)([O-])OP(O[C@H]1(O[C@@H]([C@@H]([C@@H]([C@H]1NC(=O)C)O[C@@H]2(O[C@@H]([C@@H]([C@@H]([C@H]2O)O)O[C@H]3(O[C@@H]([C@H]([C@@H]([C@H]3O)O)O[C@@H]%15(O[C@@H](C)[C@H](O)[C@@H](O[C@H]4([C@@H]([C@H]([C@H]([C@H](O4)CO)O[C@H]5(O[C@@H]([C@@H]([C@@H]([C@H]5NC(=O)C)O[C@@H]6(O[C@@H]([C@@H]([C@@H]([C@H]6O)O)O[C@H]7(O[C@@H]([C@H]([C@@H]([C@H]7O)O)O[C@@H]%14(O[C@@H](C)[C@H](O)[C@@H](O[C@H]8([C@@H]([C@H]([C@H]([C@H](O8)CO)O[C@H]9(O[C@@H]([C@@H]([C@@H]([C@H]9NC(=O)C)O[C@@H]%10(O[C@@H]([C@@H]([C@@H]([C@H]%10O)O)O[C@H]%11(O[C@@H]([C@H]([C@@H]([C@H]%11O)O)O[C@@H]%13(O[C@@H](C)[C@H](O)[C@@H](O[C@H]%12([C@@H]([C@H]([C@H]([C@H](O%12)CO)O[R])O)NC(C)=O))[C@@H](O)%13))CO))CO))O)CO))O)NC(C)=O))[C@@H](O)%14))CO))CO))O)CO))O)NC(C)=O))[C@@H](O)%15))CO))CO))O)CO))([O-])=O\n",
      "[09:29:10] SMILES Parse Error: Failed parsing SMILES 'CC(C)=CCCC(\\C)=C/CCC(\\C)=C/CCC(/C)=C/CCC(/C)=C/CCC(/C)=C/CCC(/C)=C/CCC(/C)=C/CCC(/C)=C/CCC(/C)=C/CCC(/C)=C/COP(=O)([O-])OP(O[C@H]1(O[C@@H]([C@@H]([C@@H]([C@H]1NC(=O)C)O[C@@H]2(O[C@@H]([C@@H]([C@@H]([C@H]2O)O)O[C@H]3(O[C@@H]([C@H]([C@@H]([C@H]3O)O)O[C@@H]%15(O[C@@H](C)[C@H](O)[C@@H](O[C@H]4([C@@H]([C@H]([C@H]([C@H](O4)CO)O[C@H]5(O[C@@H]([C@@H]([C@@H]([C@H]5NC(=O)C)O[C@@H]6(O[C@@H]([C@@H]([C@@H]([C@H]6O)O)O[C@H]7(O[C@@H]([C@H]([C@@H]([C@H]7O)O)O[C@@H]%14(O[C@@H](C)[C@H](O)[C@@H](O[C@H]8([C@@H]([C@H]([C@H]([C@H](O8)CO)O[C@H]9(O[C@@H]([C@@H]([C@@H]([C@H]9NC(=O)C)O[C@@H]%10(O[C@@H]([C@@H]([C@@H]([C@H]%10O)O)O[C@H]%11(O[C@@H]([C@H]([C@@H]([C@H]%11O)O)O[C@@H]%13(O[C@@H](C)[C@H](O)[C@@H](O[C@H]%12([C@@H]([C@H]([C@H]([C@H](O%12)CO)O[R])O)NC(C)=O))[C@@H](O)%13))CO))CO))O)CO))O)NC(C)=O))[C@@H](O)%14))CO))CO))O)CO))O)NC(C)=O))[C@@H](O)%15))CO))CO))O)CO))([O-])=O' for input: 'CC(C)=CCCC(\\C)=C/CCC(\\C)=C/CCC(/C)=C/CCC(/C)=C/CCC(/C)=C/CCC(/C)=C/CCC... truncated[09:29:11] SMILES Parse Error: syntax error while parsing: CC(C)=CCCC(/C)=C/CCC(/C)=C/CCC(/C)=C/CCC(/C)=C/CCC(/C)=C/CCC(/C)=C/CCC(/C)=C/CCC(/C)=C/CCC(/C)=C/CCC(/C)=C/COP(=O)([O-])OP(=O)([O-])O[C@@H]1([C@@H]([C@H]([C@@H](O)[C@H](O1)CO)O[C@H]%12(O[C@H](CO)[C@H](O)[C@H](O[C@@H]%11(O[C@H](CO)[C@H](O)[C@H](O)[C@@H](O[C@@H]%10(O[C@@H](C)[C@@H](OC(=O)C)[C@@H](OC(=O)C)[C@H](O[C@@H]2([C@@H]([C@H]([C@@H](O)[C@H](O2)CO)O[C@H]9(O[C@H](CO)[C@H](O)[C@H](O[C@@H]8(O[C@H](CO)[C@H](O)[C@H](O)[C@@H](O[C@@H]7(O[C@@H](C)[C@@H](OC(=O)C)[C@@H](OC(=O)C)[C@H](O[C@@H]3([C@@H]([C@H]([C@@H](O)[C@H](O3)CO)O[C@H]6(O[C@H](CO)[C@H](O)[C@H](O[C@@H]5(O[C@H](CO)[C@H](O)[C@H](O)[C@@H](O[C@@H]4(O[C@@H](C)[C@@H](OC(=O)C)[C@@H](OC(=O)C)[C@H](O[R])4))5))[C@@H](NC(C)=O)6))NC(C)=O))7))8))[C@@H](NC(C)=O)9))NC(C)=O))%10))%11))[C@@H](NC(C)=O)%12))NC(C)=O)\n",
      "[09:29:11] SMILES Parse Error: Failed parsing SMILES 'CC(C)=CCCC(/C)=C/CCC(/C)=C/CCC(/C)=C/CCC(/C)=C/CCC(/C)=C/CCC(/C)=C/CCC(/C)=C/CCC(/C)=C/CCC(/C)=C/CCC(/C)=C/COP(=O)([O-])OP(=O)([O-])O[C@@H]1([C@@H]([C@H]([C@@H](O)[C@H](O1)CO)O[C@H]%12(O[C@H](CO)[C@H](O)[C@H](O[C@@H]%11(O[C@H](CO)[C@H](O)[C@H](O)[C@@H](O[C@@H]%10(O[C@@H](C)[C@@H](OC(=O)C)[C@@H](OC(=O)C)[C@H](O[C@@H]2([C@@H]([C@H]([C@@H](O)[C@H](O2)CO)O[C@H]9(O[C@H](CO)[C@H](O)[C@H](O[C@@H]8(O[C@H](CO)[C@H](O)[C@H](O)[C@@H](O[C@@H]7(O[C@@H](C)[C@@H](OC(=O)C)[C@@H](OC(=O)C)[C@H](O[C@@H]3([C@@H]([C@H]([C@@H](O)[C@H](O3)CO)O[C@H]6(O[C@H](CO)[C@H](O)[C@H](O[C@@H]5(O[C@H](CO)[C@H](O)[C@H](O)[C@@H](O[C@@H]4(O[C@@H](C)[C@@H](OC(=O)C)[C@@H](OC(=O)C)[C@H](O[R])4))5))[C@@H](NC(C)=O)6))NC(C)=O))7))8))[C@@H](NC(C)=O)9))NC(C)=O))%10))%11))[C@@H](NC(C)=O)%12))NC(C)=O)' for input: 'CC(C)=CCCC(/C)=C/CCC(/C)=C/CCC(/C)=C/CCC(/C)=C/CCC(/C)=C/CCC(/C)=C/CCC(/C)=C/CCC(/C)=C/CCC(/C)=C/CCC(/C)=C/COP(=O)([O-])OP(=O)([O-])O[C@@H]1([C@@H]([C@H]([C@@H](O)[C@H](... truncated[09:29:11] SMILES Parse Error: syntax error while parsing: CC(C)=CCCC(\\C)=C/CCC(\\C)=C/CCC(/C)=C/CCC(/C)=C/CCC(/C)=C/CCC(/C)=C/CCC(/C)=C/CCC(/C)=C/CCC(/C)=C/CCC(/C)=C/COP(=O)([O-])OP([O-])(=O)O[C@@H]1([C@@H]([C@H]([C@H]([C@H](O1)CO)O)O[C@H]%15(O[C@H](CO)[C@H](O[C@H]2([C@@H]([C@H]([C@H]([C@H](O2)CO)O)O[C@H]3([C@@H]([C@H]([C@H]([C@H](O3)CO[C@H]4([C@@H]([C@H]([C@H]([C@H](O4)CO)O)O[C@H]%13(O[C@H](CO)[C@H](O[C@H]5([C@@H]([C@H]([C@H]([C@H](O5)CO)O)O[C@H]6([C@@H]([C@H]([C@H]([C@H](O6)CO[C@H]7([C@@H]([C@H]([C@H]([C@H](O7)CO)O)O[C@H]%11(O[C@H](CO)[C@H](O[C@H]8([C@@H]([C@H]([C@H]([C@H](O8)CO)O)O[C@H]9([C@@H]([C@H]([C@H]([C@H](O9)CO[R])O)O)O[C@H]%10([C@H]([C@@H]([C@@H]([C@@H](O%10)C)O)O)O)))NC(C)=O))[C@H](O)[C@@H](O)%11))NC(C)=O))O)O)O[C@H]%12([C@H]([C@@H]([C@@H]([C@@H](O%12)C)O)O)O)))NC(C)=O))[C@H](O)[C@@H](O)%13))NC(C)=O))O)O)O[C@H]%14([C@H]([C@@H]([C@@H]([C@@H](O%14)C)O)O)O)))NC(C)=O))[C@H](O)[C@@H](O)%15))NC(C)=O)\n",
      "[09:29:11] SMILES Parse Error: Failed parsing SMILES 'CC(C)=CCCC(\\C)=C/CCC(\\C)=C/CCC(/C)=C/CCC(/C)=C/CCC(/C)=C/CCC(/C)=C/CCC(/C)=C/CCC(/C)=C/CCC(/C)=C/CCC(/C)=C/COP(=O)([O-])OP([O-])(=O)O[C@@H]1([C@@H]([C@H]([C@H]([C@H](O1)CO)O)O[C@H]%15(O[C@H](CO)[C@H](O[C@H]2([C@@H]([C@H]([C@H]([C@H](O2)CO)O)O[C@H]3([C@@H]([C@H]([C@H]([C@H](O3)CO[C@H]4([C@@H]([C@H]([C@H]([C@H](O4)CO)O)O[C@H]%13(O[C@H](CO)[C@H](O[C@H]5([C@@H]([C@H]([C@H]([C@H](O5)CO)O)O[C@H]6([C@@H]([C@H]([C@H]([C@H](O6)CO[C@H]7([C@@H]([C@H]([C@H]([C@H](O7)CO)O)O[C@H]%11(O[C@H](CO)[C@H](O[C@H]8([C@@H]([C@H]([C@H]([C@H](O8)CO)O)O[C@H]9([C@@H]([C@H]([C@H]([C@H](O9)CO[R])O)O)O[C@H]%10([C@H]([C@@H]([C@@H]([C@@H](O%10)C)O)O)O)))NC(C)=O))[C@H](O)[C@@H](O)%11))NC(C)=O))O)O)O[C@H]%12([C@H]([C@@H]([C@@H]([C@@H](O%12)C)O)O)O)))NC(C)=O))[C@H](O)[C@@H](O)%13))NC(C)=O))O)O)O[C@H]%14([C@H]([C@@H]([C@@H]([C@@H](O%14)C)O)O)O)))NC(C)=O))[C@H](O)[C@@H](O)%15))NC(C)=O)' for input: 'CC(C)=CCCC(\\C)=C/CCC(\\C)=C/CCC(/C)=C/CCC(/C)=C/CCC(/C)=C/CCC(/C)=C/CCC(/... truncated[09:29:11] SMILES Parse Error: syntax error while parsing: CC(C)=CCCC(\\C)=C/CCC(\\C)=C/CCC(/C)=C/CCC(/C)=C/CCC(/C)=C/CCC(/C)=C/CCC(/C)=C/CCC(/C)=C/CCC(/C)=C/CCC(/C)=C/COP(=O)([O-])OP([O-])(=O)O[C@@H]%12([C@@H]([C@H]([C@H](O[C@H]%11(O[C@@H](C)[C@H](O)[C@@H](O[C@H]1([C@@H]([C@H]([C@H]2([C@H](O1)CO[C@@](C)(C(=O)[O-])O2))O[C@H]%10([C@@H]([C@H]([C@H](O[C@H]9(O[C@@H](C)[C@H](O)[C@@H](O[C@H]3([C@@H]([C@H]([C@H]4([C@H](O3)CO[C@@](C)(C(=O)[O-])O4))O[C@H]8([C@@H]([C@H]([C@H](O[C@H]7(O[C@@H](C)[C@H](O)[C@@H](O[C@H]5([C@@H]([C@H]([C@H]6([C@H](O5)CO[C@@](C)(C(=O)[O-])O6))O[R])NC(C)=O))[C@@H](O)7))[C@H](O8)CO)O)NC(C)=O))NC(C)=O))[C@@H](O)9))[C@H](O%10)CO)O)NC(C)=O))NC(C)=O))[C@@H](O)%11))[C@H](O%12)CO)O)NC(C)=O)\n",
      "[09:29:11] SMILES Parse Error: Failed parsing SMILES 'CC(C)=CCCC(\\C)=C/CCC(\\C)=C/CCC(/C)=C/CCC(/C)=C/CCC(/C)=C/CCC(/C)=C/CCC(/C)=C/CCC(/C)=C/CCC(/C)=C/CCC(/C)=C/COP(=O)([O-])OP([O-])(=O)O[C@@H]%12([C@@H]([C@H]([C@H](O[C@H]%11(O[C@@H](C)[C@H](O)[C@@H](O[C@H]1([C@@H]([C@H]([C@H]2([C@H](O1)CO[C@@](C)(C(=O)[O-])O2))O[C@H]%10([C@@H]([C@H]([C@H](O[C@H]9(O[C@@H](C)[C@H](O)[C@@H](O[C@H]3([C@@H]([C@H]([C@H]4([C@H](O3)CO[C@@](C)(C(=O)[O-])O4))O[C@H]8([C@@H]([C@H]([C@H](O[C@H]7(O[C@@H](C)[C@H](O)[C@@H](O[C@H]5([C@@H]([C@H]([C@H]6([C@H](O5)CO[C@@](C)(C(=O)[O-])O6))O[R])NC(C)=O))[C@@H](O)7))[C@H](O8)CO)O)NC(C)=O))NC(C)=O))[C@@H](O)9))[C@H](O%10)CO)O)NC(C)=O))NC(C)=O))[C@@H](O)%11))[C@H](O%12)CO)O)NC(C)=O)' for input: 'CC(C)=CCCC(\\C)=C/CCC(\\C)=C/CCC(/C)=C/CCC(/C)=C/CCC(/C)=C/CCC(/C)=C/CCC(/C)=C/CCC(/C)=C/CCC(/C)=C/CCC(/C)=C/COP(=O)([O-])OP([O-])(=O)O[C@@H]%12([C@@H]([C@H]([C@H](O[C@H]%11(O[C@@H](C)[C@H](O)[C@@H](O[C@H]1([C@@H]([C@H]([C@H]2([C@H](O1)CO[C@@](C)(C(=O)[O-])O2))O[C@H]%10([C@@H]([C@H]([C@... truncated[09:29:11] SMILES Parse Error: syntax error while parsing: CC(C)=CCCC(\\C)=C/CCC(\\C)=C/CCC(/C)=C/CCC(/C)=C/CCC(/C)=C/CCC(/C)=C/CCC(/C)=C/CCC(/C)=C/CCC(/C)=C/CCC(/C)=C/COP(=O)([O-])OP([O-])(=O)O[C@@H]1([C@@H]([C@H]([C@@H]([C@H](O1)CO)O)O[C@@H]9(O[C@@H](C)[C@@H](O)[C@@H](O[C@@H]8(O[C@H](CO)[C@H](O)[C@H](O)[C@@H](O[C@H]2([C@@H]([C@H]([C@@H]([C@H](O2)CO)O)O[C@@H]7(O[C@@H](C)[C@@H](O)[C@@H](O[C@@H]6(O[C@H](CO)[C@H](O)[C@H](O)[C@@H](O[C@H]3([C@@H]([C@H]([C@@H]([C@H](O3)CO)O)O[C@@H]5(O[C@@H](C)[C@@H](O)[C@@H](O[C@@H]4(O[C@H](CO)[C@H](O)[C@H](O)[C@@H](O[R])4))[C@H](NC(=O)C)5))NC(C)=O))6))[C@H](NC(=O)C)7))NC(C)=O))8))[C@H](NC(=O)C)9))NC(C)=O)\n",
      "[09:29:11] SMILES Parse Error: Failed parsing SMILES 'CC(C)=CCCC(\\C)=C/CCC(\\C)=C/CCC(/C)=C/CCC(/C)=C/CCC(/C)=C/CCC(/C)=C/CCC(/C)=C/CCC(/C)=C/CCC(/C)=C/CCC(/C)=C/COP(=O)([O-])OP([O-])(=O)O[C@@H]1([C@@H]([C@H]([C@@H]([C@H](O1)CO)O)O[C@@H]9(O[C@@H](C)[C@@H](O)[C@@H](O[C@@H]8(O[C@H](CO)[C@H](O)[C@H](O)[C@@H](O[C@H]2([C@@H]([C@H]([C@@H]([C@H](O2)CO)O)O[C@@H]7(O[C@@H](C)[C@@H](O)[C@@H](O[C@@H]6(O[C@H](CO)[C@H](O)[C@H](O)[C@@H](O[C@H]3([C@@H]([C@H]([C@@H]([C@H](O3)CO)O)O[C@@H]5(O[C@@H](C)[C@@H](O)[C@@H](O[C@@H]4(O[C@H](CO)[C@H](O)[C@H](O)[C@@H](O[R])4))[C@H](NC(=O)C)5))NC(C)=O))6))[C@H](NC(=O)C)7))NC(C)=O))8))[C@H](NC(=O)C)9))NC(C)=O)' for input: 'CC(C)=CCCC(\\C)=C/CCC(\\C)=C/CCC(/C)=C/CCC(/C)=C/CCC(/C)=C/CCC(/C)=C/CCC(/C)=C/CCC(/C)=C/CCC(/C)=C/CCC(/C)=C/COP(=O)([O-])OP([O-])(=O)O[C@@H]1([C@@H]([C@H]([C@@H]([C@H](O1)CO)O)O[C@@H]9(O[C@@H](C)[C@@H](O)[C@@H](O[C@@H]8(O[C@H](CO)[C@H](O)[C@H](O)[C@@H](O[C@H]2([C@@H]([C@H]([C@@H]([C@H](O2)CO)O)O[C@@H]7(O[C@@H](C)[C@@H](O)[C@@H](O[C@@H]6(O[C@H](CO)[C@... truncated[09:29:11] SMILES Parse Error: syntax error while parsing: CC(C)=CCCC(\\C)=C/CCC(\\C)=C/CCC(/C)=C/CCC(/C)=C/CCC(/C)=C/CCC(/C)=C/CCC(/C)=C/CCC(/C)=C/CCC(/C)=C/CCC(/C)=C/COP(=O)([O-])OP([O-])(=O)O[C@@H]1([C@@H]([C@H]([C@@H]([C@H](O1)CO)O)O[C@@H]%15(O[C@H](CO)[C@@H](O)[C@H](O)[C@@H](O[C@H]%14(O[C@H](COP(O[C@@H]2([C@@H]([C@H]([C@@H]([C@H](O2)CO)O[C@H]3(O[C@@H](C)[C@H](O)[C@@H](O)[C@@H](O)3))O[C@@H]4([C@@H]([C@H]([C@@H]([C@H](O4)CO)O)O[C@@H]%13(O[C@H](CO)[C@@H](O)[C@H](O)[C@@H](O[C@H]%12(O[C@H](COP(O[C@@H]5([C@@H]([C@H]([C@@H]([C@H](O5)CO)O[C@H]6(O[C@@H](C)[C@H](O)[C@@H](O)[C@@H](O)6))O[C@@H]7([C@@H]([C@H]([C@@H]([C@H](O7)CO)O)O[C@@H]%11(O[C@H](CO)[C@@H](O)[C@H](O)[C@@H](O[C@H]%10(O[C@H](COP(O[C@@H]8([C@@H]([C@H]([C@@H]([C@H](O8)CO)O[C@H]9(O[C@@H](C)[C@H](O)[C@@H](O)[C@@H](O)9))O[R])NC(C)=O))(=O)[O-])[C@@H](O)[C@H](O)[C@@H](O)%10))%11))NC(C)=O))NC(C)=O))(=O)[O-])[C@@H](O)[C@H](O)[C@@H](O)%12))%13))NC(C)=O))NC(C)=O))(=O)[O-])[C@@H](O)[C@H](O)[C@@H](O)%14))%15))NC(C)=O)\n",
      "[09:29:11] SMILES Parse Error: Failed parsing SMILES 'CC(C)=CCCC(\\C)=C/CCC(\\C)=C/CCC(/C)=C/CCC(/C)=C/CCC(/C)=C/CCC(/C)=C/CCC(/C)=C/CCC(/C)=C/CCC(/C)=C/CCC(/C)=C/COP(=O)([O-])OP([O-])(=O)O[C@@H]1([C@@H]([C@H]([C@@H]([C@H](O1)CO)O)O[C@@H]%15(O[C@H](CO)[C@@H](O)[C@H](O)[C@@H](O[C@H]%14(O[C@H](COP(O[C@@H]2([C@@H]([C@H]([C@@H]([C@H](O2)CO)O[C@H]3(O[C@@H](C)[C@H](O)[C@@H](O)[C@@H](O)3))O[C@@H]4([C@@H]([C@H]([C@@H]([C@H](O4)CO)O)O[C@@H]%13(O[C@H](CO)[C@@H](O)[C@H](O)[C@@H](O[C@H]%12(O[C@H](COP(O[C@@H]5([C@@H]([C@H]([C@@H]([C@H](O5)CO)O[C@H]6(O[C@@H](C)[C@H](O)[C@@H](O)[C@@H](O)6))O[C@@H]7([C@@H]([C@H]([C@@H]([C@H](O7)CO)O)O[C@@H]%11(O[C@H](CO)[C@@H](O)[C@H](O)[C@@H](O[C@H]%10(O[C@H](COP(O[C@@H]8([C@@H]([C@H]([C@@H]([C@H](O8)CO)O[C@H]9(O[C@@H](C)[C@H](O)[C@@H](O)[C@@H](O)9))O[R])NC(C)=O))(=O)[O-])[C@@H](O)[C@H](O)[C@@H](O)%10))%11))NC(C)=O))NC(C)=O))(=O)[O-])[C@@H](O)[C@H](O)[C@@H](O)%12))%13))NC(C)=O))NC(C)=O))(=O)[O-])[C@@H](O)[C@H](O)[C@@H](O)%14))%15))NC(C)=O)' for input: 'CC(C)=CCCC(\\C)=C... truncated[09:29:11] SMILES Parse Error: syntax error while parsing: CC(C)=CCCC(\\C)=C/CCC(\\C)=C/CCC(/C)=C/CCC(/C)=C/CCC(/C)=C/CCC(/C)=C/CCC(/C)=C/CCC(/C)=C/CCC(/C)=C/CCC(/C)=C/COP(=O)([O-])OP([O-])(=O)O[C@@H]1([C@@H]([C@H]([C@H]([C@H](O1)CO)O)O[C@@H]%12(O[C@H](CO)[C@@H](O[C@H]2([C@H]([C@@H]([C@@H]([C@@H](O2)C)O)O[C@@H]3([C@H]([C@H]([C@@H]([C@H](O3)C)NC(=O)C)O)O[C@@H]4([C@@H]([C@H]([C@H]([C@H](O4)CO)O)O[C@@H]%11(O[C@H](CO)[C@@H](O[C@H]5([C@H]([C@@H]([C@@H]([C@@H](O5)C)O)O[C@@H]6([C@H]([C@H]([C@@H]([C@H](O6)C)NC(=O)C)O)O[C@@H]7([C@@H]([C@H]([C@H]([C@H](O7)CO)O)O[C@@H]%10(O[C@H](CO)[C@@H](O[C@H]8([C@H]([C@@H]([C@@H]([C@@H](O8)C)O)O[C@@H]9([C@H]([C@H]([C@@H]([C@H](O9)C)NC(=O)C)O)O[R]))O))[C@H](O)[C@@H](O)%10))NC(C)=O)))O))[C@H](O)[C@@H](O)%11))NC(C)=O)))O))[C@H](O)[C@@H](O)%12))NC(C)=O)\n",
      "[09:29:11] SMILES Parse Error: Failed parsing SMILES 'CC(C)=CCCC(\\C)=C/CCC(\\C)=C/CCC(/C)=C/CCC(/C)=C/CCC(/C)=C/CCC(/C)=C/CCC(/C)=C/CCC(/C)=C/CCC(/C)=C/CCC(/C)=C/COP(=O)([O-])OP([O-])(=O)O[C@@H]1([C@@H]([C@H]([C@H]([C@H](O1)CO)O)O[C@@H]%12(O[C@H](CO)[C@@H](O[C@H]2([C@H]([C@@H]([C@@H]([C@@H](O2)C)O)O[C@@H]3([C@H]([C@H]([C@@H]([C@H](O3)C)NC(=O)C)O)O[C@@H]4([C@@H]([C@H]([C@H]([C@H](O4)CO)O)O[C@@H]%11(O[C@H](CO)[C@@H](O[C@H]5([C@H]([C@@H]([C@@H]([C@@H](O5)C)O)O[C@@H]6([C@H]([C@H]([C@@H]([C@H](O6)C)NC(=O)C)O)O[C@@H]7([C@@H]([C@H]([C@H]([C@H](O7)CO)O)O[C@@H]%10(O[C@H](CO)[C@@H](O[C@H]8([C@H]([C@@H]([C@@H]([C@@H](O8)C)O)O[C@@H]9([C@H]([C@H]([C@@H]([C@H](O9)C)NC(=O)C)O)O[R]))O))[C@H](O)[C@@H](O)%10))NC(C)=O)))O))[C@H](O)[C@@H](O)%11))NC(C)=O)))O))[C@H](O)[C@@H](O)%12))NC(C)=O)' for input: 'CC(C)=CCCC(\\C)=C/CCC(\\C)=C/CCC(/C)=C/CCC(/C)=C/CCC(/C)=C/CCC(/C)=C/CCC(/C)=C/CCC(/C)=C/CCC(/C)=C/CCC(/C)=C/COP(=O)([O-])OP([O-])(=O)O[C@@H]1([C@@H]([C@H]([C@H]([C@H](O1)CO)O)O[C@@H]%12(O[C@H](CO)[C@@H](O[C@H]... truncated[09:29:11] SMILES Parse Error: syntax error while parsing: CC(C)=CCCC(\\C)=C/CCC(\\C)=C/CCC(/C)=C/CCC(/C)=C/CCC(/C)=C/CCC(/C)=C/CCC(/C)=C/CCC(/C)=C/CCC(/C)=C/CCC(/C)=C/COP(OP(=O)([O-])O[C@@H]1([C@@H]([C@H]([C@H]([C@H](O1)CO)O)O[C@H]%18(O[C@H](CO)[C@@H](O)[C@H](O)[C@H](O[C@H]%17(O[C@H](CO[C@@H]2([C@@H]([C@H]([C@H]([C@H](O2)CO[C@@H]3(O[C@H](CO)[C@@H](O)[C@H](O)[C@@H](O)3))O[C@@H]4(O[C@H](C([O-])=O)[C@@H](O)[C@H](O)[C@@H](O)4))O[C@H]5([C@@H]([C@H]([C@H]([C@H](O5)CO)O)O[C@H]%16(O[C@H](CO)[C@@H](O)[C@H](O)[C@H](O[C@H]%15(O[C@H](CO[C@@H]6([C@@H]([C@H]([C@H]([C@H](O6)CO[C@@H]7(O[C@H](CO)[C@@H](O)[C@H](O)[C@@H](O)7))O[C@@H]8(O[C@H](C([O-])=O)[C@@H](O)[C@H](O)[C@@H](O)8))O[C@H]9([C@@H]([C@H]([C@H]([C@H](O9)CO)O)O[C@H]%14(O[C@H](CO)[C@@H](O)[C@H](O)[C@H](O[C@H]%13(O[C@H](CO[C@@H]%10([C@@H]([C@H]([C@H]([C@H](O%10)CO[C@@H]%11(O[C@H](CO)[C@@H](O)[C@H](O)[C@@H](O)%11))O[C@@H]%12(O[C@H](C([O-])=O)[C@@H](O)[C@H](O)[C@@H](O)%12))O[R])O))[C@@H](O)[C@H](O)[C@H](O)%13))%14))NC(C)=O))O))[C@@H](O)[C@H](O)[C@H... truncated[09:29:11] SMILES Parse Error: Failed parsing SMILES 'CC(C)=CCCC(\\C)=C/CCC(\\C)=C/CCC(/C)=C/CCC(/C)=C/CCC(/C)=C/CCC(/C)=C/CCC(/C)=C/CCC(/C)=C/CCC(/C)=C/CCC(/C)=C/COP(OP(=O)([O-])O[C@@H]1([C@@H]([C@H]([C@H]([C@H](O1)CO)O)O[C@H]%18(O[C@H](CO)[C@@H](O)[C@H](O)[C@H](O[C@H]%17(O[C@H](CO[C@@H]2([C@@H]([C@H]([C@H]([C@H](O2)CO[C@@H]3(O[C@H](CO)[C@@H](O)[C@H](O)[C@@H](O)3))O[C@@H]4(O[C@H](C([O-])=O)[C@@H](O)[C@H](O)[C@@H](O)4))O[C@H]5([C@@H]([C@H]([C@H]([C@H](O5)CO)O)O[C@H]%16(O[C@H](CO)[C@@H](O)[C@H](O)[C@H](O[C@H]%15(O[C@H](CO[C@@H]6([C@@H]([C@H]([C@H]([C@H](O6)CO[C@@H]7(O[C@H](CO)[C@@H](O)[C@H](O)[C@@H](O)7))O[C@@H]8(O[C@H](C([O-])=O)[C@@H](O)[C@H](O)[C@@H](O)8))O[C@H]9([C@@H]([C@H]([C@H]([C@H](O9)CO)O)O[C@H]%14(O[C@H](CO)[C@@H](O)[C@H](O)[C@H](O[C@H]%13(O[C@H](CO[C@@H]%10([C@@H]([C@H]([C@H]([C@H](O%10)CO[C@@H]%11(O[C@H](CO)[C@@H](O)[C@H](O)[C@@H](O)%11))O[C@@H]%12(O[C@H](C([O-])=O)[C@@H](O)[C@H](O)[C@@H](O)%12))O[R])O))[C@@H](O)[C@H](O)[C@H](O)%13))%14))NC(C)=O))O))[C@@H](O)[C@H](O)[C@H](O)%... truncated[09:29:11] SMILES Parse Error: syntax error while parsing: CC(C)=CCCC(\\C)=C/CCC(\\C)=C/CCC(/C)=C/CCC(/C)=C/CCC(/C)=C/CCC(/C)=C/CCC(/C)=C/CCC(/C)=C/CCC(/C)=C/CCC(/C)=C/COP(=O)([O-])OP([O-])(=O)O[C@@H]1([C@@H]([C@H]([C@@H]([C@H](O1)CO)O)O[C@@H]%12(O[C@@H](C)[C@@H](O)[C@@H](O[C@@H]%11(O[C@@H](C)[C@@H](O)[C@@H](O[C@@H]%10(O[C@@H](C)[C@H](O)[C@@H](O)[C@@H](O[C@H]2([C@@H]([C@H]([C@@H]([C@H](O2)CO)O)O[C@@H]9(O[C@@H](C)[C@@H](O)[C@@H](O[C@@H]8(O[C@@H](C)[C@@H](O)[C@@H](O[C@@H]7(O[C@@H](C)[C@H](O)[C@@H](O)[C@@H](O[C@H]3([C@@H]([C@H]([C@@H]([C@H](O3)CO)O)O[C@@H]6(O[C@@H](C)[C@@H](O)[C@@H](O[C@@H]5(O[C@@H](C)[C@@H](O)[C@@H](O[C@@H]4(O[C@@H](C)[C@H](O)[C@@H](O)[C@@H](O[R])4))[C@H](NC(=O)C)5))[C@H](NC(=O)C)6))NC(C)=O))7))[C@H](NC(=O)C)8))[C@H](NC(=O)C)9))NC(C)=O))%10))[C@H](NC(=O)C)%11))[C@H](NC(=O)C)%12))NC(C)=O)\n",
      "[09:29:11] SMILES Parse Error: Failed parsing SMILES 'CC(C)=CCCC(\\C)=C/CCC(\\C)=C/CCC(/C)=C/CCC(/C)=C/CCC(/C)=C/CCC(/C)=C/CCC(/C)=C/CCC(/C)=C/CCC(/C)=C/CCC(/C)=C/COP(=O)([O-])OP([O-])(=O)O[C@@H]1([C@@H]([C@H]([C@@H]([C@H](O1)CO)O)O[C@@H]%12(O[C@@H](C)[C@@H](O)[C@@H](O[C@@H]%11(O[C@@H](C)[C@@H](O)[C@@H](O[C@@H]%10(O[C@@H](C)[C@H](O)[C@@H](O)[C@@H](O[C@H]2([C@@H]([C@H]([C@@H]([C@H](O2)CO)O)O[C@@H]9(O[C@@H](C)[C@@H](O)[C@@H](O[C@@H]8(O[C@@H](C)[C@@H](O)[C@@H](O[C@@H]7(O[C@@H](C)[C@H](O)[C@@H](O)[C@@H](O[C@H]3([C@@H]([C@H]([C@@H]([C@H](O3)CO)O)O[C@@H]6(O[C@@H](C)[C@@H](O)[C@@H](O[C@@H]5(O[C@@H](C)[C@@H](O)[C@@H](O[C@@H]4(O[C@@H](C)[C@H](O)[C@@H](O)[C@@H](O[R])4))[C@H](NC(=O)C)5))[C@H](NC(=O)C)6))NC(C)=O))7))[C@H](NC(=O)C)8))[C@H](NC(=O)C)9))NC(C)=O))%10))[C@H](NC(=O)C)%11))[C@H](NC(=O)C)%12))NC(C)=O)' for input: 'CC(C)=CCCC(\\C)=C/CCC(\\C)=C/CCC(/C)=C/CCC(/C)=C/CCC(/C)=C/CCC(/C)=C/CCC(/C)=C/CCC(/C)=C/CCC(/C)=C/CCC(/C)=C/COP(=O)([O-])OP([O-])(=O)O[C@@H]1([C@@H]([C@H]([C@@H]([C@H](O1)CO)O)O[C@@... truncated[09:29:11] SMILES Parse Error: syntax error while parsing: CC(C)=CCCC(\\C)=C/CCC(\\C)=C/CCC(/C)=C/CCC(/C)=C/CCC(/C)=C/CCC(/C)=C/CCC(/C)=C/CCC(/C)=C/CCC(/C)=C/CCC(/C)=C/COP(=O)([O-])OP([O-])(=O)O[C@@H]1([C@@H]([C@H]([C@H]([C@H](O1)CO)O)O[C@H]%18(O[C@H](CO)[C@@H](O)[C@H](O)[C@H](O[C@H]%17(O[C@H](CO[C@@H]2([C@@H]([C@H]([C@H]([C@H](O2)CO)O[C@@H]4(O[C@H](C([O-])=O)[C@@H](O[C@H]3(O[C@H](CO)[C@@H](O)[C@@H](O)3))[C@H](O)[C@@H](O)4))O[C@H]5([C@@H]([C@H]([C@H]([C@H](O5)CO)O)O[C@H]%16(O[C@H](CO)[C@@H](O)[C@H](O)[C@H](O[C@H]%15(O[C@H](CO[C@@H]6([C@@H]([C@H]([C@H]([C@H](O6)CO)O[C@@H]8(O[C@H](C([O-])=O)[C@@H](O[C@H]7(O[C@H](CO)[C@@H](O)[C@@H](O)7))[C@H](O)[C@@H](O)8))O[C@H]9([C@@H]([C@H]([C@H]([C@H](O9)CO)O)O[C@H]%14(O[C@H](CO)[C@@H](O)[C@H](O)[C@H](O[C@H]%13(O[C@H](CO[C@@H]%10([C@@H]([C@H]([C@H]([C@H](O%10)CO)O[C@@H]%12(O[C@H](C([O-])=O)[C@@H](O[C@H]%11(O[C@H](CO)[C@@H](O)[C@@H](O)%11))[C@H](O)[C@@H](O)%12))O[R])O))[C@@H](O)[C@H](O)[C@H](O)%13))%14))NC(C)=O))O))[C@@H](O)[C@H](O)[C@H](O)%15))%16))NC(C... truncated[09:29:11] SMILES Parse Error: Failed parsing SMILES 'CC(C)=CCCC(\\C)=C/CCC(\\C)=C/CCC(/C)=C/CCC(/C)=C/CCC(/C)=C/CCC(/C)=C/CCC(/C)=C/CCC(/C)=C/CCC(/C)=C/CCC(/C)=C/COP(=O)([O-])OP([O-])(=O)O[C@@H]1([C@@H]([C@H]([C@H]([C@H](O1)CO)O)O[C@H]%18(O[C@H](CO)[C@@H](O)[C@H](O)[C@H](O[C@H]%17(O[C@H](CO[C@@H]2([C@@H]([C@H]([C@H]([C@H](O2)CO)O[C@@H]4(O[C@H](C([O-])=O)[C@@H](O[C@H]3(O[C@H](CO)[C@@H](O)[C@@H](O)3))[C@H](O)[C@@H](O)4))O[C@H]5([C@@H]([C@H]([C@H]([C@H](O5)CO)O)O[C@H]%16(O[C@H](CO)[C@@H](O)[C@H](O)[C@H](O[C@H]%15(O[C@H](CO[C@@H]6([C@@H]([C@H]([C@H]([C@H](O6)CO)O[C@@H]8(O[C@H](C([O-])=O)[C@@H](O[C@H]7(O[C@H](CO)[C@@H](O)[C@@H](O)7))[C@H](O)[C@@H](O)8))O[C@H]9([C@@H]([C@H]([C@H]([C@H](O9)CO)O)O[C@H]%14(O[C@H](CO)[C@@H](O)[C@H](O)[C@H](O[C@H]%13(O[C@H](CO[C@@H]%10([C@@H]([C@H]([C@H]([C@H](O%10)CO)O[C@@H]%12(O[C@H](C([O-])=O)[C@@H](O[C@H]%11(O[C@H](CO)[C@@H](O)[C@@H](O)%11))[C@H](O)[C@@H](O)%12))O[R])O))[C@@H](O)[C@H](O)[C@H](O)%13))%14))NC(C)=O))O))[C@@H](O)[C@H](O)[C@H](O)%15))%16))NC(C)=O))... truncated[09:29:11] SMILES Parse Error: syntax error while parsing: CC(C)=CCCC(\\C)=C/CCC(\\C)=C/CCC(/C)=C/CCC(/C)=C/CCC(/C)=C/CCC(/C)=C/CCC(/C)=C/CCC(/C)=C/CCC(/C)=C/CCC(/C)=C/COP(=O)([O-])OP([O-])(=O)O[C@@H]1([C@@H]([C@H]([C@@H]([C@H](O1)CO)O)O[C@H]%15(O[C@H](CO)[C@H](O)[C@H](O)[C@@H](O[C@@H]%14(O[C@@H](C)[C@H](O)[C@@H](O)[C@@H](O[C@@H]%13(O[C@@H](C)[C@H](O)[C@@H](O)[C@@H](O[C@@H]%12(O[C@H](CO)[C@@H](O)[C@H](O[C@H]2([C@@H]([C@H]([C@@H]([C@H](O2)CO)O)O[C@H]%11(O[C@H](CO)[C@H](O)[C@H](O)[C@@H](O[C@@H]%10(O[C@@H](C)[C@H](O)[C@@H](O)[C@@H](O[C@@H]9(O[C@@H](C)[C@H](O)[C@@H](O)[C@@H](O[C@@H]8(O[C@H](CO)[C@@H](O)[C@H](O[C@H]3([C@@H]([C@H]([C@@H]([C@H](O3)CO)O)O[C@H]7(O[C@H](CO)[C@H](O)[C@H](O)[C@@H](O[C@@H]6(O[C@@H](C)[C@H](O)[C@@H](O)[C@@H](O[C@@H]5(O[C@@H](C)[C@H](O)[C@@H](O)[C@@H](O[C@@H]4(O[C@H](CO)[C@@H](O)[C@H](O[R])[C@H](NC(C)=O)4))5))6))7))NC(C)=O))[C@H](NC(C)=O)8))9))%10))%11))NC(C)=O))[C@H](NC(C)=O)%12))%13))%14))%15))NC(C)=O)\n",
      "[09:29:11] SMILES Parse Error: Failed parsing SMILES 'CC(C)=CCCC(\\C)=C/CCC(\\C)=C/CCC(/C)=C/CCC(/C)=C/CCC(/C)=C/CCC(/C)=C/CCC(/C)=C/CCC(/C)=C/CCC(/C)=C/CCC(/C)=C/COP(=O)([O-])OP([O-])(=O)O[C@@H]1([C@@H]([C@H]([C@@H]([C@H](O1)CO)O)O[C@H]%15(O[C@H](CO)[C@H](O)[C@H](O)[C@@H](O[C@@H]%14(O[C@@H](C)[C@H](O)[C@@H](O)[C@@H](O[C@@H]%13(O[C@@H](C)[C@H](O)[C@@H](O)[C@@H](O[C@@H]%12(O[C@H](CO)[C@@H](O)[C@H](O[C@H]2([C@@H]([C@H]([C@@H]([C@H](O2)CO)O)O[C@H]%11(O[C@H](CO)[C@H](O)[C@H](O)[C@@H](O[C@@H]%10(O[C@@H](C)[C@H](O)[C@@H](O)[C@@H](O[C@@H]9(O[C@@H](C)[C@H](O)[C@@H](O)[C@@H](O[C@@H]8(O[C@H](CO)[C@@H](O)[C@H](O[C@H]3([C@@H]([C@H]([C@@H]([C@H](O3)CO)O)O[C@H]7(O[C@H](CO)[C@H](O)[C@H](O)[C@@H](O[C@@H]6(O[C@@H](C)[C@H](O)[C@@H](O)[C@@H](O[C@@H]5(O[C@@H](C)[C@H](O)[C@@H](O)[C@@H](O[C@@H]4(O[C@H](CO)[C@@H](O)[C@H](O[R])[C@H](NC(C)=O)4))5))6))7))NC(C)=O))[C@H](NC(C)=O)8))9))%10))%11))NC(C)=O))[C@H](NC(C)=O)%12))%13))%14))%15))NC(C)=O)' for input: 'CC(C)=CCCC(\\C)=C/CCC(\\C)=C/CCC(/C)=C/CCC(/C)=C/CCC(/C)=C/... truncated[09:29:11] SMILES Parse Error: syntax error while parsing: CC(C)=CCCC(\\C)=C/CCC(\\C)=C/CCC(/C)=C/CCC(/C)=C/CCC(/C)=C/CCC(/C)=C/CCC(/C)=C/CCC(/C)=C/CCC(/C)=C/CCC(/C)=C/COP(=O)([O-])OP([O-])(=O)O[C@@H]%15([C@@H]([C@H]([C@H](O[C@H]%14(O[C@@H](C)[C@H](O)[C@@H](O[C@@H]%13(O[C@@H](C)[C@H](O)[C@@H](O)[C@@H](O[C@@H]%12(O[C@@H](C)[C@H](O)[C@@H](O[C@H]%10([C@@H]([C@H]([C@H](O[C@H]9(O[C@@H](C)[C@H](O)[C@@H](O[C@@H]8(O[C@@H](C)[C@H](O)[C@@H](O)[C@@H](O[C@@H]7(O[C@@H](C)[C@H](O)[C@@H](O[C@H]5([C@@H]([C@H]([C@H](O[C@H]4(O[C@@H](C)[C@H](O)[C@@H](O[C@@H]3(O[C@@H](C)[C@H](O)[C@@H](O)[C@@H](O[C@@H]2(O[C@@H](C)[C@H](O)[C@@H](O[R])[C@@H](O[C@H]1(O[C@H](C)[C@H](O)[C@H](NC(=O)C)[C@@H](O)1))2))3))[C@@H](O)4))[C@H](O5)CO)O)NC(C)=O))[C@@H](O[C@H]6(O[C@H](C)[C@H](O)[C@H](NC(=O)C)[C@@H](O)6))7))8))[C@@H](O)9))[C@H](O%10)CO)O)NC(C)=O))[C@@H](O[C@H]%11(O[C@H](C)[C@H](O)[C@H](NC(=O)C)[C@@H](O)%11))%12))%13))[C@@H](O)%14))[C@H](O%15)CO)O)NC(C)=O)\n",
      "[09:29:11] SMILES Parse Error: Failed parsing SMILES 'CC(C)=CCCC(\\C)=C/CCC(\\C)=C/CCC(/C)=C/CCC(/C)=C/CCC(/C)=C/CCC(/C)=C/CCC(/C)=C/CCC(/C)=C/CCC(/C)=C/CCC(/C)=C/COP(=O)([O-])OP([O-])(=O)O[C@@H]%15([C@@H]([C@H]([C@H](O[C@H]%14(O[C@@H](C)[C@H](O)[C@@H](O[C@@H]%13(O[C@@H](C)[C@H](O)[C@@H](O)[C@@H](O[C@@H]%12(O[C@@H](C)[C@H](O)[C@@H](O[C@H]%10([C@@H]([C@H]([C@H](O[C@H]9(O[C@@H](C)[C@H](O)[C@@H](O[C@@H]8(O[C@@H](C)[C@H](O)[C@@H](O)[C@@H](O[C@@H]7(O[C@@H](C)[C@H](O)[C@@H](O[C@H]5([C@@H]([C@H]([C@H](O[C@H]4(O[C@@H](C)[C@H](O)[C@@H](O[C@@H]3(O[C@@H](C)[C@H](O)[C@@H](O)[C@@H](O[C@@H]2(O[C@@H](C)[C@H](O)[C@@H](O[R])[C@@H](O[C@H]1(O[C@H](C)[C@H](O)[C@H](NC(=O)C)[C@@H](O)1))2))3))[C@@H](O)4))[C@H](O5)CO)O)NC(C)=O))[C@@H](O[C@H]6(O[C@H](C)[C@H](O)[C@H](NC(=O)C)[C@@H](O)6))7))8))[C@@H](O)9))[C@H](O%10)CO)O)NC(C)=O))[C@@H](O[C@H]%11(O[C@H](C)[C@H](O)[C@H](NC(=O)C)[C@@H](O)%11))%12))%13))[C@@H](O)%14))[C@H](O%15)CO)O)NC(C)=O)' for input: 'CC(C)=CCCC(\\C)=C/CCC(\\C)=C/CCC(/C)=C/CCC(/C)=C/CCC(/C)=C/CCC(/C... truncated[09:29:11] SMILES Parse Error: syntax error while parsing: CC(C)=CCCC(\\C)=C/CCC(\\C)=C/CCC(/C)=C/CCC(/C)=C/CCC(/C)=C/CCC(/C)=C/CCC(/C)=C/CCC(/C)=C/CCC(/C)=C/CCC(/C)=C/COP(=O)([O-])OP(O[C@@H]1([C@@H]([C@H]([C@H]([C@H](O1)CO)O)O[C@@H]%15(O[C@H](CO)[C@@H](O[C@@H]%13(O[C@H](CO)[C@H](O[C@@H]2(O[C@H](CO)[C@H](O)[C@H](O)[C@@H](O)2))[C@H](O[C@H]3([C@@H]([C@H]([C@H]([C@H](O3)CO)O)O[C@@H]%12(O[C@H](CO)[C@@H](O[C@@H]%10(O[C@H](CO)[C@H](O[C@@H]4(O[C@H](CO)[C@H](O)[C@H](O)[C@@H](O)4))[C@H](O[C@H]5([C@@H]([C@H]([C@H]([C@H](O5)CO)O)O[C@@H]9(O[C@H](CO)[C@@H](O[C@@H]7(O[C@H](CO)[C@H](O[C@@H]6(O[C@H](CO)[C@H](O)[C@H](O)[C@@H](O)6))[C@H](O[R])[C@@H](O)7))[C@H](O)[C@@H](O[C@H]8([C@@H]([C@H]([C@@H]([C@H](O8)CO)O)O)NC(C)=O))9))NC=O))[C@@H](O)%10))[C@H](O)[C@@H](O[C@H]%11([C@@H]([C@H]([C@@H]([C@H](O%11)CO)O)O)NC(C)=O))%12))NC=O))[C@@H](O)%13))[C@H](O)[C@@H](O[C@H]%14([C@@H]([C@H]([C@@H]([C@H](O%14)CO)O)O)NC(C)=O))%15))NC(C)=O))([O-])=O\n",
      "[09:29:11] SMILES Parse Error: Failed parsing SMILES 'CC(C)=CCCC(\\C)=C/CCC(\\C)=C/CCC(/C)=C/CCC(/C)=C/CCC(/C)=C/CCC(/C)=C/CCC(/C)=C/CCC(/C)=C/CCC(/C)=C/CCC(/C)=C/COP(=O)([O-])OP(O[C@@H]1([C@@H]([C@H]([C@H]([C@H](O1)CO)O)O[C@@H]%15(O[C@H](CO)[C@@H](O[C@@H]%13(O[C@H](CO)[C@H](O[C@@H]2(O[C@H](CO)[C@H](O)[C@H](O)[C@@H](O)2))[C@H](O[C@H]3([C@@H]([C@H]([C@H]([C@H](O3)CO)O)O[C@@H]%12(O[C@H](CO)[C@@H](O[C@@H]%10(O[C@H](CO)[C@H](O[C@@H]4(O[C@H](CO)[C@H](O)[C@H](O)[C@@H](O)4))[C@H](O[C@H]5([C@@H]([C@H]([C@H]([C@H](O5)CO)O)O[C@@H]9(O[C@H](CO)[C@@H](O[C@@H]7(O[C@H](CO)[C@H](O[C@@H]6(O[C@H](CO)[C@H](O)[C@H](O)[C@@H](O)6))[C@H](O[R])[C@@H](O)7))[C@H](O)[C@@H](O[C@H]8([C@@H]([C@H]([C@@H]([C@H](O8)CO)O)O)NC(C)=O))9))NC=O))[C@@H](O)%10))[C@H](O)[C@@H](O[C@H]%11([C@@H]([C@H]([C@@H]([C@H](O%11)CO)O)O)NC(C)=O))%12))NC=O))[C@@H](O)%13))[C@H](O)[C@@H](O[C@H]%14([C@@H]([C@H]([C@@H]([C@H](O%14)CO)O)O)NC(C)=O))%15))NC(C)=O))([O-])=O' for input: 'CC(C)=CCCC(\\C)=C/CCC(\\C)=C/CCC(/C)=C/CCC(/C)=C/CCC(/C)=C/CCC(/C)=C... truncated[09:29:11] SMILES Parse Error: syntax error while parsing: CC(C)=CCCC(\\C)=C/CCC(\\C)=C/CCC(/C)=C/CCC(/C)=C/CCC(/C)=C/CCC(/C)=C/CCC(/C)=C/CCC(/C)=C/CCC(/C)=C/CCC(/C)=C/COP(=O)([O-])OP([O-])(=O)O[C@@H]1([C@@H]([C@H]([C@H](O)[C@H](O1)CO)O[C@@H]%15(O[C@H](CO)[C@@H](O)[C@H](O[C@H]2(O[C@H](CO)[C@@H](O)[C@H](O)[C@@H](O)2))[C@H](O[C@H]%14(O[C@H](CO)[C@@H](O)[C@H](O)[C@H](O[C@H]%13(O[C@H](CO[C@@H]3([C@@H]([C@H]([C@H](O)[C@H](O3)CO)O[C@@H]%12(O[C@H](CO)[C@@H](O)[C@H](O[C@H]4(O[C@H](CO)[C@@H](O)[C@H](O)[C@@H](O)4))[C@H](O[C@H]%11(O[C@H](CO)[C@@H](O)[C@H](O)[C@H](O[C@H]%10(O[C@H](CO[C@@H]5([C@@H]([C@H]([C@H](O)[C@H](O5)CO)O[C@@H]9(O[C@H](CO)[C@@H](O)[C@H](O[C@H]6(O[C@H](CO)[C@@H](O)[C@H](O)[C@@H](O)6))[C@H](O[C@H]8(O[C@H](CO)[C@@H](O)[C@H](O)[C@H](O[C@H]7(O[C@H](CO[R])[C@@H](O)[C@H](O)[C@H](O)7))8))9))NC(C)=O))[C@@H](O)[C@H](O)[C@H](O)%10))%11))%12))NC(C)=O))[C@@H](O)[C@H](O)[C@H](O)%13))%14))%15))NC(C)=O)\n",
      "[09:29:11] SMILES Parse Error: Failed parsing SMILES 'CC(C)=CCCC(\\C)=C/CCC(\\C)=C/CCC(/C)=C/CCC(/C)=C/CCC(/C)=C/CCC(/C)=C/CCC(/C)=C/CCC(/C)=C/CCC(/C)=C/CCC(/C)=C/COP(=O)([O-])OP([O-])(=O)O[C@@H]1([C@@H]([C@H]([C@H](O)[C@H](O1)CO)O[C@@H]%15(O[C@H](CO)[C@@H](O)[C@H](O[C@H]2(O[C@H](CO)[C@@H](O)[C@H](O)[C@@H](O)2))[C@H](O[C@H]%14(O[C@H](CO)[C@@H](O)[C@H](O)[C@H](O[C@H]%13(O[C@H](CO[C@@H]3([C@@H]([C@H]([C@H](O)[C@H](O3)CO)O[C@@H]%12(O[C@H](CO)[C@@H](O)[C@H](O[C@H]4(O[C@H](CO)[C@@H](O)[C@H](O)[C@@H](O)4))[C@H](O[C@H]%11(O[C@H](CO)[C@@H](O)[C@H](O)[C@H](O[C@H]%10(O[C@H](CO[C@@H]5([C@@H]([C@H]([C@H](O)[C@H](O5)CO)O[C@@H]9(O[C@H](CO)[C@@H](O)[C@H](O[C@H]6(O[C@H](CO)[C@@H](O)[C@H](O)[C@@H](O)6))[C@H](O[C@H]8(O[C@H](CO)[C@@H](O)[C@H](O)[C@H](O[C@H]7(O[C@H](CO[R])[C@@H](O)[C@H](O)[C@H](O)7))8))9))NC(C)=O))[C@@H](O)[C@H](O)[C@H](O)%10))%11))%12))NC(C)=O))[C@@H](O)[C@H](O)[C@H](O)%13))%14))%15))NC(C)=O)' for input: 'CC(C)=CCCC(\\C)=C/CCC(\\C)=C/CCC(/C)=C/CCC(/C)=C/CCC(/C)=C/CCC(/C)=C/CCC(/C)=C/CCC(/C)=... truncated[09:29:11] SMILES Parse Error: syntax error while parsing: CC(C)=CCCC(\\C)=C/CCC(\\C)=C/CCC(/C)=C/CCC(/C)=C/CCC(/C)=C/CCC(/C)=C/CCC(/C)=C/CCC(/C)=C/CCC(/C)=C/CCC(/C)=C/COP(=O)([O-])OP([O-])(=O)O[C@@H]1([C@@H]([C@H]([C@H](O)[C@H](O1)COC(=O)C)O[C@@H]%12(O[C@@H](C)[C@H](O[C@H]%11([C@@H]([C@H]([C@@H](O[C@H]%10(O[C@H](C)[C@@H](NC(C[C@@H](O)C)=O)[C@H](O)[C@@H](O[C@H]2([C@@H]([C@H]([C@H](O)[C@H](O2)COC(=O)C)O[C@@H]9(O[C@@H](C)[C@H](O[C@H]8([C@@H]([C@H]([C@@H](O[C@H]7(O[C@H](C)[C@@H](NC(C[C@@H](O)C)=O)[C@H](O)[C@@H](O[C@H]3([C@@H]([C@H]([C@H](O)[C@H](O3)COC(=O)C)O[C@@H]6(O[C@@H](C)[C@H](O[C@H]5([C@@H]([C@H]([C@@H](O[C@H]4(O[C@H](C)[C@@H](NC(C[C@@H](O)C)=O)[C@H](O)[C@@H](O[R])4))[C@H](O5)CO)O)NC(=O)C))[C@@H](O)[C@@H](O)6))NC(C)=O))7))[C@H](O8)CO)O)NC(=O)C))[C@@H](O)[C@@H](O)9))NC(C)=O))%10))[C@H](O%11)CO)O)NC(=O)C))[C@@H](O)[C@@H](O)%12))NC(C)=O)\n",
      "[09:29:11] SMILES Parse Error: Failed parsing SMILES 'CC(C)=CCCC(\\C)=C/CCC(\\C)=C/CCC(/C)=C/CCC(/C)=C/CCC(/C)=C/CCC(/C)=C/CCC(/C)=C/CCC(/C)=C/CCC(/C)=C/CCC(/C)=C/COP(=O)([O-])OP([O-])(=O)O[C@@H]1([C@@H]([C@H]([C@H](O)[C@H](O1)COC(=O)C)O[C@@H]%12(O[C@@H](C)[C@H](O[C@H]%11([C@@H]([C@H]([C@@H](O[C@H]%10(O[C@H](C)[C@@H](NC(C[C@@H](O)C)=O)[C@H](O)[C@@H](O[C@H]2([C@@H]([C@H]([C@H](O)[C@H](O2)COC(=O)C)O[C@@H]9(O[C@@H](C)[C@H](O[C@H]8([C@@H]([C@H]([C@@H](O[C@H]7(O[C@H](C)[C@@H](NC(C[C@@H](O)C)=O)[C@H](O)[C@@H](O[C@H]3([C@@H]([C@H]([C@H](O)[C@H](O3)COC(=O)C)O[C@@H]6(O[C@@H](C)[C@H](O[C@H]5([C@@H]([C@H]([C@@H](O[C@H]4(O[C@H](C)[C@@H](NC(C[C@@H](O)C)=O)[C@H](O)[C@@H](O[R])4))[C@H](O5)CO)O)NC(=O)C))[C@@H](O)[C@@H](O)6))NC(C)=O))7))[C@H](O8)CO)O)NC(=O)C))[C@@H](O)[C@@H](O)9))NC(C)=O))%10))[C@H](O%11)CO)O)NC(=O)C))[C@@H](O)[C@@H](O)%12))NC(C)=O)' for input: 'CC(C)=CCCC(\\C)=C/CCC(\\C)=C/CCC(/C)=C/CCC(/C)=C/CCC(/C)=C/CCC(/C)=C/CCC(/C)=C/CCC(/C)=C/CCC(/C)=C/CCC(/C)=C/COP(=O)([O-])OP([O-])(=O)O[C@@H]1([C@... truncated[09:29:11] SMILES Parse Error: syntax error while parsing: CC(C)=CCCC(\\C)=C/CCC(\\C)=C/CCC(/C)=C/CCC(/C)=C/CCC(/C)=C/CCC(/C)=C/CCC(/C)=C/CCC(/C)=C/CCC(/C)=C/CCC(/C)=C/COP(=O)([O-])OP([O-])(=O)O[C@@H]%12([C@@H]([C@H]([C@H](O[C@H]%11(O[C@@H](C)[C@H](O)[C@@H](O[C@@H]%10(O[C@@H](C)[C@H](O)[C@@H](O)[C@@H](O[C@@H]9(O[C@@H](C)[C@H](O)[C@@H](O[C@H]8([C@@H]([C@H]([C@H](O[C@H]7(O[C@@H](C)[C@H](O)[C@@H](O[C@@H]6(O[C@@H](C)[C@H](O)[C@@H](O)[C@@H](O[C@@H]5(O[C@@H](C)[C@H](O)[C@@H](O[C@H]4([C@@H]([C@H]([C@H](O[C@H]3(O[C@@H](C)[C@H](O)[C@@H](O[C@@H]2(O[C@@H](C)[C@H](O)[C@@H](O)[C@@H](O[C@@H]1(O[C@@H](C)[C@H](O)[C@@H](O[R])[C@@H](O)1))2))[C@@H](O)3))[C@H](O4)CO)O)NC(C)=O))[C@@H](O)5))6))[C@@H](O)7))[C@H](O8)CO)O)NC(C)=O))[C@@H](O)9))%10))[C@@H](O)%11))[C@H](O%12)CO)O)NC(C)=O)\n",
      "[09:29:11] SMILES Parse Error: Failed parsing SMILES 'CC(C)=CCCC(\\C)=C/CCC(\\C)=C/CCC(/C)=C/CCC(/C)=C/CCC(/C)=C/CCC(/C)=C/CCC(/C)=C/CCC(/C)=C/CCC(/C)=C/CCC(/C)=C/COP(=O)([O-])OP([O-])(=O)O[C@@H]%12([C@@H]([C@H]([C@H](O[C@H]%11(O[C@@H](C)[C@H](O)[C@@H](O[C@@H]%10(O[C@@H](C)[C@H](O)[C@@H](O)[C@@H](O[C@@H]9(O[C@@H](C)[C@H](O)[C@@H](O[C@H]8([C@@H]([C@H]([C@H](O[C@H]7(O[C@@H](C)[C@H](O)[C@@H](O[C@@H]6(O[C@@H](C)[C@H](O)[C@@H](O)[C@@H](O[C@@H]5(O[C@@H](C)[C@H](O)[C@@H](O[C@H]4([C@@H]([C@H]([C@H](O[C@H]3(O[C@@H](C)[C@H](O)[C@@H](O[C@@H]2(O[C@@H](C)[C@H](O)[C@@H](O)[C@@H](O[C@@H]1(O[C@@H](C)[C@H](O)[C@@H](O[R])[C@@H](O)1))2))[C@@H](O)3))[C@H](O4)CO)O)NC(C)=O))[C@@H](O)5))6))[C@@H](O)7))[C@H](O8)CO)O)NC(C)=O))[C@@H](O)9))%10))[C@@H](O)%11))[C@H](O%12)CO)O)NC(C)=O)' for input: 'CC(C)=CCCC(\\C)=C/CCC(\\C)=C/CCC(/C)=C/CCC(/C)=C/CCC(/C)=C/CCC(/C)=C/CCC(/C)=C/CCC(/C)=C/CCC(/C)=C/CCC(/C)=C/COP(=O)([O-])OP([O-])(=O)O[C@@H]%12([C@@H]([C@H]([C@H](O[C@H]%11(O[C@@H](C)[C@H](O)[C@@H](O[C@@H]%10(O[C@@H](C)[C@H... truncated[09:29:11] SMILES Parse Error: syntax error while parsing: CC(C)=CCCC(\\C)=C/CCC(\\C)=C/CCC(/C)=C/CCC(/C)=C/CCC(/C)=C/CCC(/C)=C/CCC(/C)=C/CCC(/C)=C/CCC(/C)=C/CCC(/C)=C/COP(=O)([O-])OP([O-])(=O)O[C@@H]1([C@@H]([C@H]([C@H]([C@H](O1)CO)O)O[C@H]%15(O[C@H](CO)[C@@H](O[C@@H]%14(O[C@@H](C)[C@H](O)[C@@H](O)[C@@H](O[C@@H]%13(O[C@@H](C)[C@H](O)[C@@H](O)[C@@H](O[C@H]2([C@@H]([C@H]([C@@H]([C@H](O2)CO)O)O[C@H]3([C@@H]([C@H]([C@H]([C@H](O3)CO)O)O[C@H]%12(O[C@H](CO)[C@@H](O[C@@H]%11(O[C@@H](C)[C@H](O)[C@@H](O)[C@@H](O[C@@H]%10(O[C@@H](C)[C@H](O)[C@@H](O)[C@@H](O[C@H]4([C@@H]([C@H]([C@@H]([C@H](O4)CO)O)O[C@H]5([C@@H]([C@H]([C@H]([C@H](O5)CO)O)O[C@H]9(O[C@H](CO)[C@@H](O[C@@H]8(O[C@@H](C)[C@H](O)[C@@H](O)[C@@H](O[C@@H]7(O[C@@H](C)[C@H](O)[C@@H](O)[C@@H](O[C@H]6([C@@H]([C@H]([C@@H]([C@H](O6)CO)O)O[R])NC(C)=O))7))8))[C@H](O)[C@@H](O)9))NC(C)=O))NC(C)=O))%10))%11))[C@H](O)[C@@H](O)%12))NC(C)=O))NC(C)=O))%13))%14))[C@H](O)[C@@H](O)%15))NC(C)=O)\n",
      "[09:29:11] SMILES Parse Error: Failed parsing SMILES 'CC(C)=CCCC(\\C)=C/CCC(\\C)=C/CCC(/C)=C/CCC(/C)=C/CCC(/C)=C/CCC(/C)=C/CCC(/C)=C/CCC(/C)=C/CCC(/C)=C/CCC(/C)=C/COP(=O)([O-])OP([O-])(=O)O[C@@H]1([C@@H]([C@H]([C@H]([C@H](O1)CO)O)O[C@H]%15(O[C@H](CO)[C@@H](O[C@@H]%14(O[C@@H](C)[C@H](O)[C@@H](O)[C@@H](O[C@@H]%13(O[C@@H](C)[C@H](O)[C@@H](O)[C@@H](O[C@H]2([C@@H]([C@H]([C@@H]([C@H](O2)CO)O)O[C@H]3([C@@H]([C@H]([C@H]([C@H](O3)CO)O)O[C@H]%12(O[C@H](CO)[C@@H](O[C@@H]%11(O[C@@H](C)[C@H](O)[C@@H](O)[C@@H](O[C@@H]%10(O[C@@H](C)[C@H](O)[C@@H](O)[C@@H](O[C@H]4([C@@H]([C@H]([C@@H]([C@H](O4)CO)O)O[C@H]5([C@@H]([C@H]([C@H]([C@H](O5)CO)O)O[C@H]9(O[C@H](CO)[C@@H](O[C@@H]8(O[C@@H](C)[C@H](O)[C@@H](O)[C@@H](O[C@@H]7(O[C@@H](C)[C@H](O)[C@@H](O)[C@@H](O[C@H]6([C@@H]([C@H]([C@@H]([C@H](O6)CO)O)O[R])NC(C)=O))7))8))[C@H](O)[C@@H](O)9))NC(C)=O))NC(C)=O))%10))%11))[C@H](O)[C@@H](O)%12))NC(C)=O))NC(C)=O))%13))%14))[C@H](O)[C@@H](O)%15))NC(C)=O)' for input: 'CC(C)=CCCC(\\C)=C/CCC(\\C)=C/CCC(/C)=C/CCC(/C)=C/CCC(/C)=C/... truncated[09:29:11] SMILES Parse Error: syntax error while parsing: CC(C)=CCCC(\\C)=C/CCC(\\C)=C/CCC(/C)=C/CCC(/C)=C/CCC(/C)=C/CCC(/C)=C/CCC(/C)=C/CCC(/C)=C/CCC(/C)=C/CCC(/C)=C/COP(=O)([O-])OP([O-])(=O)O[C@@H]1([C@@H]([C@H]([C@H](O)[C@H](O1)CO)O[C@@H]8(O[C@@H]([C@@H](O)[C@H](O[C@@H]7(O[C@@H](C(C)O)[C@H](O[C@@H]6(O[C@@H]([C@@H](O)[C@H](O[C@@H]5(O[C@@H](C(C)O)[C@H](O[C@@H]4(O[C@@H]([C@@H](O)[C@H](O[C@@H]3(O[C@@H](C(C)O)[C@H](O[R]O[C@H]2(O[C@@H](C(C)O)[C@H](OC)[C@@H](O)2))[C@@H](O)3))[C@H](O)4)CCO))[C@@H](O)5))[C@H](O)6)CCO))[C@@H](O)7))[C@H](O)8)CCO))NC(C)=O)\n",
      "[09:29:11] SMILES Parse Error: Failed parsing SMILES 'CC(C)=CCCC(\\C)=C/CCC(\\C)=C/CCC(/C)=C/CCC(/C)=C/CCC(/C)=C/CCC(/C)=C/CCC(/C)=C/CCC(/C)=C/CCC(/C)=C/CCC(/C)=C/COP(=O)([O-])OP([O-])(=O)O[C@@H]1([C@@H]([C@H]([C@H](O)[C@H](O1)CO)O[C@@H]8(O[C@@H]([C@@H](O)[C@H](O[C@@H]7(O[C@@H](C(C)O)[C@H](O[C@@H]6(O[C@@H]([C@@H](O)[C@H](O[C@@H]5(O[C@@H](C(C)O)[C@H](O[C@@H]4(O[C@@H]([C@@H](O)[C@H](O[C@@H]3(O[C@@H](C(C)O)[C@H](O[R]O[C@H]2(O[C@@H](C(C)O)[C@H](OC)[C@@H](O)2))[C@@H](O)3))[C@H](O)4)CCO))[C@@H](O)5))[C@H](O)6)CCO))[C@@H](O)7))[C@H](O)8)CCO))NC(C)=O)' for input: 'CC(C)=CCCC(\\C)=C/CCC(\\C)=C/CCC(/C)=C/CCC(/C)=C/CCC(/C)=C/CCC(/C)=C/CCC(/C)=C/CCC(/C)=C/CCC(/C)=C/CCC(/C)=C/COP(=O)([O-])OP([O-])(=O)O[C@@H]1([C@@H]([C@H]([C@H](O)[C@H](O1)CO)O[C@@H]8(O[C@@H]([C@@H](O)[C@H](O[C@@H]7(O[C@@H](C(C)O)[C@H](O[C@@H]6(O[C@@H]([C@@H](O)[C@H](O[C@@H]5(O[C@@H](C(C)O)[C@H](O[C@@H]4(O[C@@H]([C@@H](O)[C@H](O[C@@H]3(O[C@@H](C(C)O)[C@H](O[R]O[C@H]2(O[C@@H](C(C)O)[C@H](OC)[C@@H](O)2))[C@@H](O)3))[C@H](O)4)CCO))[C@@H](O... truncated[09:29:11] SMILES Parse Error: syntax error while parsing: CC(C)=CCCC(\\C)=C/CCC(\\C)=C/CCC(/C)=C/CCC(/C)=C/CCC(/C)=C/CCC(/C)=C/CCC(/C)=C/CCC(/C)=C/CCC(/C)=C/CCC(/C)=C/COP(=O)([O-])OP(O[C@H]1(O[C@@H]([C@@H]([C@@H]([C@H]1NC(=O)C)O[C@H]2(O[C@@H]([C@@H]([C@@H]([C@H]2O)O[C@@H]3(O[C@@H]([C@H]([C@@H]([C@H]3NC(=O)C)O[C@@H]4(O[C@@H]([C@@H]([C@@H]([C@H]4O[C@@H]5(O[C@H]([C@H](C[C@@H]5O)O)C))O)O)CO))O)CO[C@@H]6(O[C@@H]([C@@H]([C@@H]([C@H]6NC(=O)C)O[C@H]7(O[C@@H]([C@@H]([C@@H]([C@H]7O)O[C@@H]8(O[C@@H]([C@H]([C@@H]([C@H]8NC(=O)C)O[C@@H]9(O[C@@H]([C@@H]([C@@H]([C@H]9O[C@@H]%10(O[C@H]([C@H](C[C@@H]%10O)O)C))O)O)CO))O)CO[C@@H]%11(O[C@@H]([C@@H]([C@@H]([C@H]%11NC(=O)C)O[C@H]%12(O[C@@H]([C@@H]([C@@H]([C@H]%12O)O[C@@H]%13(O[C@@H]([C@H]([C@@H]([C@H]%13NC(=O)C)O[C@@H]%14(O[C@@H]([C@@H]([C@@H]([C@H]%14O[C@@H]%15(O[C@H]([C@H](C[C@@H]%15O)O)C))O)O)CO))O)CO))O)CO))O)CO)))O)CO))O)CO)))O)CO))O)CO))([O-])=O.C[R]\n",
      "[09:29:11] SMILES Parse Error: Failed parsing SMILES 'CC(C)=CCCC(\\C)=C/CCC(\\C)=C/CCC(/C)=C/CCC(/C)=C/CCC(/C)=C/CCC(/C)=C/CCC(/C)=C/CCC(/C)=C/CCC(/C)=C/CCC(/C)=C/COP(=O)([O-])OP(O[C@H]1(O[C@@H]([C@@H]([C@@H]([C@H]1NC(=O)C)O[C@H]2(O[C@@H]([C@@H]([C@@H]([C@H]2O)O[C@@H]3(O[C@@H]([C@H]([C@@H]([C@H]3NC(=O)C)O[C@@H]4(O[C@@H]([C@@H]([C@@H]([C@H]4O[C@@H]5(O[C@H]([C@H](C[C@@H]5O)O)C))O)O)CO))O)CO[C@@H]6(O[C@@H]([C@@H]([C@@H]([C@H]6NC(=O)C)O[C@H]7(O[C@@H]([C@@H]([C@@H]([C@H]7O)O[C@@H]8(O[C@@H]([C@H]([C@@H]([C@H]8NC(=O)C)O[C@@H]9(O[C@@H]([C@@H]([C@@H]([C@H]9O[C@@H]%10(O[C@H]([C@H](C[C@@H]%10O)O)C))O)O)CO))O)CO[C@@H]%11(O[C@@H]([C@@H]([C@@H]([C@H]%11NC(=O)C)O[C@H]%12(O[C@@H]([C@@H]([C@@H]([C@H]%12O)O[C@@H]%13(O[C@@H]([C@H]([C@@H]([C@H]%13NC(=O)C)O[C@@H]%14(O[C@@H]([C@@H]([C@@H]([C@H]%14O[C@@H]%15(O[C@H]([C@H](C[C@@H]%15O)O)C))O)O)CO))O)CO))O)CO))O)CO)))O)CO))O)CO)))O)CO))O)CO))([O-])=O.C[R]' for input: 'CC(C)=CCCC(\\C)=C/CCC(\\C)=C/CCC(/C)=C/CCC(/C)=C/CCC(/C)=C/CCC(/C)=C/CCC(/C)=C/CCC(/C)=C/CCC(/C)=C... truncated[09:29:11] SMILES Parse Error: syntax error while parsing: CC(C)=CCCC(\\C)=C/CCC(\\C)=C/CCC(/C)=C/CCC(/C)=C/CCC(/C)=C/CCC(/C)=C/CCC(/C)=C/CCC(/C)=C/CCC(/C)=C/CCC(/C)=C/COP(=O)([O-])OP([O-])(=O)O[C@@H]1([C@@H]([C@H]([C@@H]([C@H](O1)CO)O)O[C@@H]%12(O[C@H](CO)[C@@H](O)[C@H](O[C@]2(C([O-])=O)(C[C@H](O)[C@@H](NC(C)=O)[C@@H](O2)[C@H](O)[C@H](O[C@H]3([C@@H]([C@H]([C@@H]([C@H](O3)CO)O)O[C@@H]%10(O[C@H](CO)[C@@H](O)[C@H](O[C@]4(C([O-])=O)(C[C@H](O)[C@@H](NC(C)=O)[C@@H](O4)[C@H](O)[C@H](O[C@H]5([C@@H]([C@H]([C@@H]([C@H](O5)CO)O)O[C@@H]8(O[C@H](CO)[C@@H](O)[C@H](O[C@]6(C([O-])=O)(C[C@H](O)[C@@H](NC(C)=O)[C@@H](O6)[C@H](O)[C@H](O[R])CO))[C@@H](O[C@H]7(O[C@H](CO)[C@H](O)[C@H](O)[C@@H](O)7))8))NC(C)=O))CO))[C@@H](O[C@H]9(O[C@H](CO)[C@H](O)[C@H](O)[C@@H](O)9))%10))NC(C)=O))CO))[C@@H](O[C@H]%11(O[C@H](CO)[C@H](O)[C@H](O)[C@@H](O)%11))%12))NC(C)=O)\n",
      "[09:29:11] SMILES Parse Error: Failed parsing SMILES 'CC(C)=CCCC(\\C)=C/CCC(\\C)=C/CCC(/C)=C/CCC(/C)=C/CCC(/C)=C/CCC(/C)=C/CCC(/C)=C/CCC(/C)=C/CCC(/C)=C/CCC(/C)=C/COP(=O)([O-])OP([O-])(=O)O[C@@H]1([C@@H]([C@H]([C@@H]([C@H](O1)CO)O)O[C@@H]%12(O[C@H](CO)[C@@H](O)[C@H](O[C@]2(C([O-])=O)(C[C@H](O)[C@@H](NC(C)=O)[C@@H](O2)[C@H](O)[C@H](O[C@H]3([C@@H]([C@H]([C@@H]([C@H](O3)CO)O)O[C@@H]%10(O[C@H](CO)[C@@H](O)[C@H](O[C@]4(C([O-])=O)(C[C@H](O)[C@@H](NC(C)=O)[C@@H](O4)[C@H](O)[C@H](O[C@H]5([C@@H]([C@H]([C@@H]([C@H](O5)CO)O)O[C@@H]8(O[C@H](CO)[C@@H](O)[C@H](O[C@]6(C([O-])=O)(C[C@H](O)[C@@H](NC(C)=O)[C@@H](O6)[C@H](O)[C@H](O[R])CO))[C@@H](O[C@H]7(O[C@H](CO)[C@H](O)[C@H](O)[C@@H](O)7))8))NC(C)=O))CO))[C@@H](O[C@H]9(O[C@H](CO)[C@H](O)[C@H](O)[C@@H](O)9))%10))NC(C)=O))CO))[C@@H](O[C@H]%11(O[C@H](CO)[C@H](O)[C@H](O)[C@@H](O)%11))%12))NC(C)=O)' for input: 'CC(C)=CCCC(\\C)=C/CCC(\\C)=C/CCC(/C)=C/CCC(/C)=C/CCC(/C)=C/CCC(/C)=C/CCC(/C)=C/CCC(/C)=C/CCC(/C)=C/CCC(/C)=C/COP(=O)([O-])OP([O-])(=O)O[C@@H]1([C@@H]([C... truncated[09:29:11] SMILES Parse Error: syntax error while parsing: CC(C)=CCCC(\\C)=C/CCC(\\C)=C/CCC(/C)=C/CCC(/C)=C/CCC(/C)=C/CCC(/C)=C/CCC(/C)=C/CCC(/C)=C/CCC(/C)=C/CCC(/C)=C/COP(=O)([O-])OP([O-])(=O)O[C@@H]1([C@@H]([C@H]([C@@H]([C@H](O1)CO)O)O[C@@H]%15(O[C@H](CO)[C@H](O[C@H]%14(O[C@@H]([C@@H](O)[C@H](O[C@@H]2(O[C@@H](C)[C@H](O)[C@@H](O)[C@@H](O)2))[C@H](O[C@@H]%13(O[C@H](C)[C@@H](NC(C)=O)[C@H](O[C@@H]3([C@@H]([C@H]([C@@H]([C@H](O3)CO)O)O[C@@H]%12(O[C@H](CO)[C@H](O[C@H]%11(O[C@@H]([C@@H](O)[C@H](O[C@@H]4(O[C@@H](C)[C@H](O)[C@@H](O)[C@@H](O)4))[C@H](O[C@@H]%10(O[C@H](C)[C@@H](NC(C)=O)[C@H](O[C@@H]5([C@@H]([C@H]([C@@H]([C@H](O5)CO)O)O[C@@H]9(O[C@H](CO)[C@H](O[C@H]8(O[C@@H]([C@@H](O)[C@H](O[C@@H]6(O[C@@H](C)[C@H](O)[C@@H](O)[C@@H](O)6))[C@H](O[C@@H]7(O[C@H](C)[C@@H](NC(C)=O)[C@H](O[R])[C@@H](O)7))8)CO))[C@H](O)[C@@H](O)9))NC=O))[C@@H](O)%10))%11)CO))[C@H](O)[C@@H](O)%12))NC=O))[C@@H](O)%13))%14)CO))[C@H](O)[C@@H](O)%15))NC(C)=O)\n",
      "[09:29:11] SMILES Parse Error: Failed parsing SMILES 'CC(C)=CCCC(\\C)=C/CCC(\\C)=C/CCC(/C)=C/CCC(/C)=C/CCC(/C)=C/CCC(/C)=C/CCC(/C)=C/CCC(/C)=C/CCC(/C)=C/CCC(/C)=C/COP(=O)([O-])OP([O-])(=O)O[C@@H]1([C@@H]([C@H]([C@@H]([C@H](O1)CO)O)O[C@@H]%15(O[C@H](CO)[C@H](O[C@H]%14(O[C@@H]([C@@H](O)[C@H](O[C@@H]2(O[C@@H](C)[C@H](O)[C@@H](O)[C@@H](O)2))[C@H](O[C@@H]%13(O[C@H](C)[C@@H](NC(C)=O)[C@H](O[C@@H]3([C@@H]([C@H]([C@@H]([C@H](O3)CO)O)O[C@@H]%12(O[C@H](CO)[C@H](O[C@H]%11(O[C@@H]([C@@H](O)[C@H](O[C@@H]4(O[C@@H](C)[C@H](O)[C@@H](O)[C@@H](O)4))[C@H](O[C@@H]%10(O[C@H](C)[C@@H](NC(C)=O)[C@H](O[C@@H]5([C@@H]([C@H]([C@@H]([C@H](O5)CO)O)O[C@@H]9(O[C@H](CO)[C@H](O[C@H]8(O[C@@H]([C@@H](O)[C@H](O[C@@H]6(O[C@@H](C)[C@H](O)[C@@H](O)[C@@H](O)6))[C@H](O[C@@H]7(O[C@H](C)[C@@H](NC(C)=O)[C@H](O[R])[C@@H](O)7))8)CO))[C@H](O)[C@@H](O)9))NC=O))[C@@H](O)%10))%11)CO))[C@H](O)[C@@H](O)%12))NC=O))[C@@H](O)%13))%14)CO))[C@H](O)[C@@H](O)%15))NC(C)=O)' for input: 'CC(C)=CCCC(\\C)=C/CCC(\\C)=C/CCC(/C)=C/CCC(/C)=C/CCC(/C)=C/CCC(... truncated[09:29:11] SMILES Parse Error: syntax error while parsing: CC(C)=CCCC(\\C)=C/CCC(\\C)=C/CCC(/C)=C/CCC(/C)=C/CCC(/C)=C/CCC(/C)=C/CCC(/C)=C/CCC(/C)=C/CCC(/C)=C/CCC(/C)=C/COP(=O)([O-])OP([O-])(=O)O[C@@H]1([C@@H]([C@H]([C@H]([C@H](O1)CO)O)O[C@@H]%12(O[C@H](CO)[C@H](O[C@@H]%11(O[C@@H](C)[C@H](OC(C)=O)[C@@H](O[C@@H]%10([C@@H]([C@H]([C@H](O[C@@H]2([C@@H]([C@H]([C@H]([C@H](O2)CO)O)O[C@@H]9(O[C@H](CO)[C@H](O[C@@H]8(O[C@@H](C)[C@H](OC(C)=O)[C@@H](O[C@@H]7([C@@H]([C@H]([C@H](O[C@@H]3([C@@H]([C@H]([C@H]([C@H](O3)CO)O)O[C@@H]6(O[C@H](CO)[C@H](O[C@@H]5(O[C@@H](C)[C@H](OC(C)=O)[C@@H](O[C@@H]4([C@@H]([C@H]([C@H](O[R])[C@H](O4)C)NC(C)=O)O))[C@@H](O)5))[C@H](OC(C)=O)[C@@H](OC(C)=O)6))NC(C)=O))[C@H](O7)C)NC(C)=O)O))[C@@H](O)8))[C@H](OC(C)=O)[C@@H](OC(C)=O)9))NC(C)=O))[C@H](O%10)C)NC(C)=O)O))[C@@H](O)%11))[C@H](OC(C)=O)[C@@H](OC(C)=O)%12))NC(C)=O)\n",
      "[09:29:11] SMILES Parse Error: Failed parsing SMILES 'CC(C)=CCCC(\\C)=C/CCC(\\C)=C/CCC(/C)=C/CCC(/C)=C/CCC(/C)=C/CCC(/C)=C/CCC(/C)=C/CCC(/C)=C/CCC(/C)=C/CCC(/C)=C/COP(=O)([O-])OP([O-])(=O)O[C@@H]1([C@@H]([C@H]([C@H]([C@H](O1)CO)O)O[C@@H]%12(O[C@H](CO)[C@H](O[C@@H]%11(O[C@@H](C)[C@H](OC(C)=O)[C@@H](O[C@@H]%10([C@@H]([C@H]([C@H](O[C@@H]2([C@@H]([C@H]([C@H]([C@H](O2)CO)O)O[C@@H]9(O[C@H](CO)[C@H](O[C@@H]8(O[C@@H](C)[C@H](OC(C)=O)[C@@H](O[C@@H]7([C@@H]([C@H]([C@H](O[C@@H]3([C@@H]([C@H]([C@H]([C@H](O3)CO)O)O[C@@H]6(O[C@H](CO)[C@H](O[C@@H]5(O[C@@H](C)[C@H](OC(C)=O)[C@@H](O[C@@H]4([C@@H]([C@H]([C@H](O[R])[C@H](O4)C)NC(C)=O)O))[C@@H](O)5))[C@H](OC(C)=O)[C@@H](OC(C)=O)6))NC(C)=O))[C@H](O7)C)NC(C)=O)O))[C@@H](O)8))[C@H](OC(C)=O)[C@@H](OC(C)=O)9))NC(C)=O))[C@H](O%10)C)NC(C)=O)O))[C@@H](O)%11))[C@H](OC(C)=O)[C@@H](OC(C)=O)%12))NC(C)=O)' for input: 'CC(C)=CCCC(\\C)=C/CCC(\\C)=C/CCC(/C)=C/CCC(/C)=C/CCC(/C)=C/CCC(/C)=C/CCC(/C)=C/CCC(/C)=C/CCC(/C)=C/CCC(/C)=C/COP(=O)([O-])OP([O-])(=O)O[C@@H]1([C@@H]([C@H](... truncated[09:29:11] SMILES Parse Error: syntax error while parsing: CC(C)=CCCC(\\C)=C/CCC(\\C)=C/CCC(/C)=C/CCC(/C)=C/CCC(/C)=C/CCC(/C)=C/CCC(/C)=C/CCC(/C)=C/CCC(/C)=C/CCC(/C)=C/COP(=O)([O-])OP([O-])(=O)O[C@@H]1([C@@H]([C@H]([C@H]([C@H](O1)CO)O)O[C@@H]%12(O[C@H](CO)[C@H](O[C@@H]%11(O[C@@H](C)[C@H](O)[C@@H](O[C@@H]%10([C@@H]([C@H]([C@H](O[C@@H]2([C@@H]([C@H]([C@H]([C@H](O2)CO)O)O[C@@H]9(O[C@H](CO)[C@H](O[C@@H]8(O[C@@H](C)[C@H](O)[C@@H](O[C@@H]7([C@@H]([C@H]([C@H](O[C@@H]3([C@@H]([C@H]([C@H]([C@H](O3)CO)O)O[C@@H]6(O[C@H](CO)[C@H](O[C@@H]5(O[C@@H](C)[C@H](O)[C@@H](O[C@@H]4([C@@H]([C@H]([C@H](O[R])[C@H](O4)C)NC(C)=O)O))[C@@H](O)5))[C@H](O)[C@@H](O)6))NC(C)=O))[C@H](O7)C)NC(C)=O)O))[C@@H](O)8))[C@H](O)[C@@H](O)9))NC(C)=O))[C@H](O%10)C)NC(C)=O)O))[C@@H](O)%11))[C@H](O)[C@@H](O)%12))NC(C)=O)\n",
      "[09:29:11] SMILES Parse Error: Failed parsing SMILES 'CC(C)=CCCC(\\C)=C/CCC(\\C)=C/CCC(/C)=C/CCC(/C)=C/CCC(/C)=C/CCC(/C)=C/CCC(/C)=C/CCC(/C)=C/CCC(/C)=C/CCC(/C)=C/COP(=O)([O-])OP([O-])(=O)O[C@@H]1([C@@H]([C@H]([C@H]([C@H](O1)CO)O)O[C@@H]%12(O[C@H](CO)[C@H](O[C@@H]%11(O[C@@H](C)[C@H](O)[C@@H](O[C@@H]%10([C@@H]([C@H]([C@H](O[C@@H]2([C@@H]([C@H]([C@H]([C@H](O2)CO)O)O[C@@H]9(O[C@H](CO)[C@H](O[C@@H]8(O[C@@H](C)[C@H](O)[C@@H](O[C@@H]7([C@@H]([C@H]([C@H](O[C@@H]3([C@@H]([C@H]([C@H]([C@H](O3)CO)O)O[C@@H]6(O[C@H](CO)[C@H](O[C@@H]5(O[C@@H](C)[C@H](O)[C@@H](O[C@@H]4([C@@H]([C@H]([C@H](O[R])[C@H](O4)C)NC(C)=O)O))[C@@H](O)5))[C@H](O)[C@@H](O)6))NC(C)=O))[C@H](O7)C)NC(C)=O)O))[C@@H](O)8))[C@H](O)[C@@H](O)9))NC(C)=O))[C@H](O%10)C)NC(C)=O)O))[C@@H](O)%11))[C@H](O)[C@@H](O)%12))NC(C)=O)' for input: 'CC(C)=CCCC(\\C)=C/CCC(\\C)=C/CCC(/C)=C/CCC(/C)=C/CCC(/C)=C/CCC(/C)=C/CCC(/C)=C/CCC(/C)=C/CCC(/C)=C/CCC(/C)=C/COP(=O)([O-])OP([O-])(=O)O[C@@H]1([C@@H]([C@H]([C@H]([C@H](O1)CO)O)O[C@@H]%12(O[C@H](CO)[C@H](O[C@@H]... truncated[09:29:11] SMILES Parse Error: syntax error while parsing: CC(C)=CCCC(\\C)=C/CCC(\\C)=C/CCC(/C)=C/CCC(/C)=C/CCC(/C)=C/CCC(/C)=C/CCC(/C)=C/CCC(/C)=C/CCC(/C)=C/CCC(/C)=C/COP(=O)([O-])OP([O-])(=O)O[C@@H]1([C@@H]([C@H]([C@H](O)[C@H](O1)CO)O[C@H]%14(O[C@H](CO)[C@@H](O)[C@H](O[C@H]%13(O[C@H](CO)[C@@H](O)[C@H](O[C@H]%12(O[C@H](CO)[C@@H](O)[C@H](O[C@H]%11(O[C@H](CO)[C@@H](O)[C@H](O)[C@H](O[C@H]%10(O[C@H](CO)[C@@H](O)[C@H](O)[C@H](O[C@@H]9(O[C@H](CO)[C@@H](O)[C@H](O[C@H]8(O[C@H](CO)[C@@H](O)[C@H](O)[C@H](O[C@H]7(O[C@H](CO)[C@@H](O)[C@H](O)[C@H](O[C@@H]6(O[C@H](CO)[C@@H](O)[C@H](O[C@H]5(O[C@H](CO)[C@@H](O)[C@H](O)[C@H](O[C@H]4(O[C@H](CO)[C@@H](O)[C@H](O)[C@H](O[C@@H]3(O[C@H](CO)[C@@H](O)[C@H](O[R]O[C@H]2(O[C@H](CO)[C@@H](O)[C@H](OC)[C@H](O)2))[C@H](O)3))4))5))[C@H](O)6))7))8))[C@H](O)9))%10))%11))[C@H](O)%12))[C@H](O)%13))[C@H](O)%14))NC(C)=O)\n",
      "[09:29:11] SMILES Parse Error: Failed parsing SMILES 'CC(C)=CCCC(\\C)=C/CCC(\\C)=C/CCC(/C)=C/CCC(/C)=C/CCC(/C)=C/CCC(/C)=C/CCC(/C)=C/CCC(/C)=C/CCC(/C)=C/CCC(/C)=C/COP(=O)([O-])OP([O-])(=O)O[C@@H]1([C@@H]([C@H]([C@H](O)[C@H](O1)CO)O[C@H]%14(O[C@H](CO)[C@@H](O)[C@H](O[C@H]%13(O[C@H](CO)[C@@H](O)[C@H](O[C@H]%12(O[C@H](CO)[C@@H](O)[C@H](O[C@H]%11(O[C@H](CO)[C@@H](O)[C@H](O)[C@H](O[C@H]%10(O[C@H](CO)[C@@H](O)[C@H](O)[C@H](O[C@@H]9(O[C@H](CO)[C@@H](O)[C@H](O[C@H]8(O[C@H](CO)[C@@H](O)[C@H](O)[C@H](O[C@H]7(O[C@H](CO)[C@@H](O)[C@H](O)[C@H](O[C@@H]6(O[C@H](CO)[C@@H](O)[C@H](O[C@H]5(O[C@H](CO)[C@@H](O)[C@H](O)[C@H](O[C@H]4(O[C@H](CO)[C@@H](O)[C@H](O)[C@H](O[C@@H]3(O[C@H](CO)[C@@H](O)[C@H](O[R]O[C@H]2(O[C@H](CO)[C@@H](O)[C@H](OC)[C@H](O)2))[C@H](O)3))4))5))[C@H](O)6))7))8))[C@H](O)9))%10))%11))[C@H](O)%12))[C@H](O)%13))[C@H](O)%14))NC(C)=O)' for input: 'CC(C)=CCCC(\\C)=C/CCC(\\C)=C/CCC(/C)=C/CCC(/C)=C/CCC(/C)=C/CCC(/C)=C/CCC(/C)=C/CCC(/C)=C/CCC(/C)=C/CCC(/C)=C/COP(=O)([O-])OP([O-])(=O)O[C@@H]1([C@@H](... truncated[09:29:11] SMILES Parse Error: syntax error while parsing: CC(C)=CCCC(\\C)=C/CCC(\\C)=C/CCC(/C)=C/CCC(/C)=C/CCC(/C)=C/CCC(/C)=C/CCC(/C)=C/CCC(/C)=C/CCC(/C)=C/CCC(/C)=C/COP(=O)([O-])OP([O-])(=O)O[C@@H]1([C@@H]([C@H]([C@@H]([C@H](O1)CO)O)O[C@@H]%15(O[C@H]([C@H](O)CO[C@H]%14([C@@H](NC(=O)C)[C@@H](O[C@@H]2([C@@H]([C@H]([C@H]([C@H](O2)CO)O[C@H]3(O[C@H]([C@H](O)CO)[C@H](O)[C@@H](O)3))O)O[C@H]4([C@@H]([C@H]([C@@H]([C@H](O4)CO)O)O[C@@H]%13(O[C@H]([C@H](O)CO[C@H]%12([C@@H](NC(=O)C)[C@@H](O[C@@H]5([C@@H]([C@H]([C@H]([C@H](O5)CO)O[C@H]6(O[C@H]([C@H](O)CO)[C@H](O)[C@@H](O)6))O)O[C@H]7([C@@H]([C@H]([C@@H]([C@H](O7)CO)O)O[C@@H]%11(O[C@H]([C@H](O)CO[C@H]%10([C@@H](NC(=O)C)[C@@H](O[C@@H]8([C@@H]([C@H]([C@H]([C@H](O8)CO)O[C@H]9(O[C@H]([C@H](O)CO)[C@H](O)[C@@H](O)9))O)O[R]))[C@H](O)[C@@H](CO)O%10))[C@H](O)[C@@H](O)%11))NC(C)=O)))[C@H](O)[C@@H](CO)O%12))[C@H](O)[C@@H](O)%13))NC(C)=O)))[C@H](O)[C@@H](CO)O%14))[C@H](O)[C@@H](O)%15))NC(C)=O)\n",
      "[09:29:11] SMILES Parse Error: Failed parsing SMILES 'CC(C)=CCCC(\\C)=C/CCC(\\C)=C/CCC(/C)=C/CCC(/C)=C/CCC(/C)=C/CCC(/C)=C/CCC(/C)=C/CCC(/C)=C/CCC(/C)=C/CCC(/C)=C/COP(=O)([O-])OP([O-])(=O)O[C@@H]1([C@@H]([C@H]([C@@H]([C@H](O1)CO)O)O[C@@H]%15(O[C@H]([C@H](O)CO[C@H]%14([C@@H](NC(=O)C)[C@@H](O[C@@H]2([C@@H]([C@H]([C@H]([C@H](O2)CO)O[C@H]3(O[C@H]([C@H](O)CO)[C@H](O)[C@@H](O)3))O)O[C@H]4([C@@H]([C@H]([C@@H]([C@H](O4)CO)O)O[C@@H]%13(O[C@H]([C@H](O)CO[C@H]%12([C@@H](NC(=O)C)[C@@H](O[C@@H]5([C@@H]([C@H]([C@H]([C@H](O5)CO)O[C@H]6(O[C@H]([C@H](O)CO)[C@H](O)[C@@H](O)6))O)O[C@H]7([C@@H]([C@H]([C@@H]([C@H](O7)CO)O)O[C@@H]%11(O[C@H]([C@H](O)CO[C@H]%10([C@@H](NC(=O)C)[C@@H](O[C@@H]8([C@@H]([C@H]([C@H]([C@H](O8)CO)O[C@H]9(O[C@H]([C@H](O)CO)[C@H](O)[C@@H](O)9))O)O[R]))[C@H](O)[C@@H](CO)O%10))[C@H](O)[C@@H](O)%11))NC(C)=O)))[C@H](O)[C@@H](CO)O%12))[C@H](O)[C@@H](O)%13))NC(C)=O)))[C@H](O)[C@@H](CO)O%14))[C@H](O)[C@@H](O)%15))NC(C)=O)' for input: 'CC(C)=CCCC(\\C)=C/CCC(\\C)=C/CCC(/C)=C/CCC(/C)=C/CCC(/C)=C/CCC... truncated[09:29:11] SMILES Parse Error: syntax error while parsing: CC(C)=CCCC(\\C)=C/CCC(\\C)=C/CCC(/C)=C/CCC(/C)=C/CCC(/C)=C/CCC(/C)=C/CCC(/C)=C/CCC(/C)=C/CCC(/C)=C/CCC(/C)=C/COP(=O)([O-])OP([O-])(=O)O[C@@H]1([C@@H]([C@H]([C@H]([C@H](O1)CO)O)O[C@H]%15(O[C@H](CO)[C@H](O)[C@H](O[C@@H]%14(O[C@H](CO)[C@H](O)[C@H](O[C@H]2(O[C@H](CO)[C@H](O)[C@H](O)[C@@H](O)2))[C@@H](O[C@@H]%13(O[C@@H](C)[C@@H](O[C@H]3([C@@H]([C@H]([C@H]([C@H](O3)CO)O)O[C@H]%12(O[C@H](CO)[C@H](O)[C@H](O[C@@H]%11(O[C@H](CO)[C@H](O)[C@H](O[C@H]4(O[C@H](CO)[C@H](O)[C@H](O)[C@@H](O)4))[C@@H](O[C@@H]%10(O[C@@H](C)[C@@H](O[C@H]5([C@@H]([C@H]([C@H]([C@H](O5)CO)O)O[C@H]9(O[C@H](CO)[C@H](O)[C@H](O[C@@H]8(O[C@H](CO)[C@H](O)[C@H](O[C@H]6(O[C@H](CO)[C@H](O)[C@H](O)[C@@H](O)6))[C@@H](O[C@@H]7(O[C@@H](C)[C@@H](O[R])[C@@H](O)[C@H](O)7))8))[C@@H](NC(=O)C)9))NC(C)=O))[C@@H](O)[C@H](O)%10))%11))[C@@H](NC(=O)C)%12))NC(C)=O))[C@@H](O)[C@H](O)%13))%14))[C@@H](NC(=O)C)%15))NC(C)=O)\n",
      "[09:29:11] SMILES Parse Error: Failed parsing SMILES 'CC(C)=CCCC(\\C)=C/CCC(\\C)=C/CCC(/C)=C/CCC(/C)=C/CCC(/C)=C/CCC(/C)=C/CCC(/C)=C/CCC(/C)=C/CCC(/C)=C/CCC(/C)=C/COP(=O)([O-])OP([O-])(=O)O[C@@H]1([C@@H]([C@H]([C@H]([C@H](O1)CO)O)O[C@H]%15(O[C@H](CO)[C@H](O)[C@H](O[C@@H]%14(O[C@H](CO)[C@H](O)[C@H](O[C@H]2(O[C@H](CO)[C@H](O)[C@H](O)[C@@H](O)2))[C@@H](O[C@@H]%13(O[C@@H](C)[C@@H](O[C@H]3([C@@H]([C@H]([C@H]([C@H](O3)CO)O)O[C@H]%12(O[C@H](CO)[C@H](O)[C@H](O[C@@H]%11(O[C@H](CO)[C@H](O)[C@H](O[C@H]4(O[C@H](CO)[C@H](O)[C@H](O)[C@@H](O)4))[C@@H](O[C@@H]%10(O[C@@H](C)[C@@H](O[C@H]5([C@@H]([C@H]([C@H]([C@H](O5)CO)O)O[C@H]9(O[C@H](CO)[C@H](O)[C@H](O[C@@H]8(O[C@H](CO)[C@H](O)[C@H](O[C@H]6(O[C@H](CO)[C@H](O)[C@H](O)[C@@H](O)6))[C@@H](O[C@@H]7(O[C@@H](C)[C@@H](O[R])[C@@H](O)[C@H](O)7))8))[C@@H](NC(=O)C)9))NC(C)=O))[C@@H](O)[C@H](O)%10))%11))[C@@H](NC(=O)C)%12))NC(C)=O))[C@@H](O)[C@H](O)%13))%14))[C@@H](NC(=O)C)%15))NC(C)=O)' for input: 'CC(C)=CCCC(\\C)=C/CCC(\\C)=C/CCC(/C)=C/CCC(/C)=C/CCC(/C)=C/CCC(/C)=C... truncated[09:29:11] SMILES Parse Error: syntax error while parsing: CC(C)=CCCC(\\C)=C/CCC(\\C)=C/CCC(/C)=C/CCC(/C)=C/CCC(/C)=C/CCC(/C)=C/CCC(/C)=C/CCC(/C)=C/CCC(/C)=C/CCC(/C)=C/COP(=O)([O-])OP([O-])(=O)O[C@@H]1([C@@H]([C@H]([C@H](O)[C@H](O1)CO)O[C@H]%15(O[C@H](CO)[C@@H](O)[C@H](O[C@H]%14(O[C@H](CO)[C@@H](O)[C@H](O[C@H]%13(O[C@H](CO)[C@@H](O)[C@H](O[C@H]%12(O[C@H](CO)[C@@H](O)[C@H](O)[C@H](O[C@H]%11(O[C@H](CO)[C@@H](O)[C@H](O)[C@H](O[C@H]%10(O[C@H](CO)[C@@H](O)[C@H](O)[C@H](O[C@H]9(O[C@H](CO)[C@@H](O)[C@H](O[C@H]8(O[C@H](CO)[C@@H](O)[C@H](O[C@H]7(O[C@H](CO)[C@@H](O)[C@H](O)[C@H](O[C@H]6(O[C@H](CO)[C@@H](O)[C@H](O)[C@H](O[C@H]5(O[C@H](CO)[C@@H](O)[C@H](O)[C@H](O[C@H]4(O[C@H](CO)[C@@H](O)[C@H](O[C@H]3(O[C@H](CO)[C@@H](O)[C@H](O[R]O[C@H]2(O[C@H](CO)[C@@H](O)[C@H](OP(=O)(OC)[O-])[C@H](O)2))[C@H](O)3))[C@H](O)4))5))6))7))[C@H](O)8))[C@H](O)9))%10))%11))%12))[C@H](O)%13))[C@H](O)%14))[C@H](O)%15))NC(C)=O)\n",
      "[09:29:11] SMILES Parse Error: Failed parsing SMILES 'CC(C)=CCCC(\\C)=C/CCC(\\C)=C/CCC(/C)=C/CCC(/C)=C/CCC(/C)=C/CCC(/C)=C/CCC(/C)=C/CCC(/C)=C/CCC(/C)=C/CCC(/C)=C/COP(=O)([O-])OP([O-])(=O)O[C@@H]1([C@@H]([C@H]([C@H](O)[C@H](O1)CO)O[C@H]%15(O[C@H](CO)[C@@H](O)[C@H](O[C@H]%14(O[C@H](CO)[C@@H](O)[C@H](O[C@H]%13(O[C@H](CO)[C@@H](O)[C@H](O[C@H]%12(O[C@H](CO)[C@@H](O)[C@H](O)[C@H](O[C@H]%11(O[C@H](CO)[C@@H](O)[C@H](O)[C@H](O[C@H]%10(O[C@H](CO)[C@@H](O)[C@H](O)[C@H](O[C@H]9(O[C@H](CO)[C@@H](O)[C@H](O[C@H]8(O[C@H](CO)[C@@H](O)[C@H](O[C@H]7(O[C@H](CO)[C@@H](O)[C@H](O)[C@H](O[C@H]6(O[C@H](CO)[C@@H](O)[C@H](O)[C@H](O[C@H]5(O[C@H](CO)[C@@H](O)[C@H](O)[C@H](O[C@H]4(O[C@H](CO)[C@@H](O)[C@H](O[C@H]3(O[C@H](CO)[C@@H](O)[C@H](O[R]O[C@H]2(O[C@H](CO)[C@@H](O)[C@H](OP(=O)(OC)[O-])[C@H](O)2))[C@H](O)3))[C@H](O)4))5))6))7))[C@H](O)8))[C@H](O)9))%10))%11))%12))[C@H](O)%13))[C@H](O)%14))[C@H](O)%15))NC(C)=O)' for input: 'CC(C)=CCCC(\\C)=C/CCC(\\C)=C/CCC(/C)=C/CCC(/C)=C/CCC(/C)=C/CCC(/C)=C/CCC(/C)=C/CCC(/C)=C/CCC(... truncated[09:29:11] SMILES Parse Error: syntax error while parsing: CC(C)=CCCC(\\C)=C/CCC(\\C)=C/CCC(/C)=C/CCC(/C)=C/CCC(/C)=C/CCC(/C)=C/CCC(/C)=C/CCC(/C)=C/CCC(/C)=C/CCC(/C)=C/COP(=O)([O-])OP([O-])(=O)O[C@@H]1([C@@H]([C@H]([C@H](O)[C@H](O1)CO)O[C@H]%18(O[C@H](CO)[C@@H](O)[C@H](O[C@H]%17(O[C@H](CO)[C@@H](O)[C@H](O[C@H]%16(O[C@H](CO)[C@@H](O)[C@H](O)[C@H](O[C@H]%15(O[C@H](CO)[C@@H](O)[C@H](O)[C@H](O[C@H]%14(O[C@H](CO)[C@@H](O)[C@H](O[C@H]%13(O[C@H](CO)[C@@H](O)[C@H](O[C@H]%12(O[C@H](CO)[C@@H](O)[C@H](O)[C@H](O[C@H]%11(O[C@H](CO)[C@@H](O)[C@H](O)[C@H](O[C@H]%10(O[C@H](CO)[C@@H](O)[C@H](O[C@H]9(O[C@H](CO)[C@@H](O)[C@H](O[C@H]8(O[C@H](CO)[C@@H](O)[C@H](O)[C@H](O[C@H]7(O[C@H](CO)[C@@H](O)[C@H](O)[C@H](O[C@H]6(O[C@H](CO)[C@@H](O)[C@H](O[C@H]5(O[C@H](CO)[C@@H](O)[C@H](O[C@H]4(O[C@H](CO)[C@@H](O)[C@H](O)[C@H](O[R]O[C@H]3(O[C@H](CO)[C@@H](O)[C@H](O)[C@H](O[C@H]2(O[C@H](CO)[C@@H](O)[C@H](OP(=O)(OC)[O-])[C@H](O)2))3))4))[C@H](O)5))[C@H](O)6))7))8))[C@H](O)9))[C@H](O)%10))%11))%12))[C@H](O)%13))[C@H](O)%14))... truncated[09:29:11] SMILES Parse Error: Failed parsing SMILES 'CC(C)=CCCC(\\C)=C/CCC(\\C)=C/CCC(/C)=C/CCC(/C)=C/CCC(/C)=C/CCC(/C)=C/CCC(/C)=C/CCC(/C)=C/CCC(/C)=C/CCC(/C)=C/COP(=O)([O-])OP([O-])(=O)O[C@@H]1([C@@H]([C@H]([C@H](O)[C@H](O1)CO)O[C@H]%18(O[C@H](CO)[C@@H](O)[C@H](O[C@H]%17(O[C@H](CO)[C@@H](O)[C@H](O[C@H]%16(O[C@H](CO)[C@@H](O)[C@H](O)[C@H](O[C@H]%15(O[C@H](CO)[C@@H](O)[C@H](O)[C@H](O[C@H]%14(O[C@H](CO)[C@@H](O)[C@H](O[C@H]%13(O[C@H](CO)[C@@H](O)[C@H](O[C@H]%12(O[C@H](CO)[C@@H](O)[C@H](O)[C@H](O[C@H]%11(O[C@H](CO)[C@@H](O)[C@H](O)[C@H](O[C@H]%10(O[C@H](CO)[C@@H](O)[C@H](O[C@H]9(O[C@H](CO)[C@@H](O)[C@H](O[C@H]8(O[C@H](CO)[C@@H](O)[C@H](O)[C@H](O[C@H]7(O[C@H](CO)[C@@H](O)[C@H](O)[C@H](O[C@H]6(O[C@H](CO)[C@@H](O)[C@H](O[C@H]5(O[C@H](CO)[C@@H](O)[C@H](O[C@H]4(O[C@H](CO)[C@@H](O)[C@H](O)[C@H](O[R]O[C@H]3(O[C@H](CO)[C@@H](O)[C@H](O)[C@H](O[C@H]2(O[C@H](CO)[C@@H](O)[C@H](OP(=O)(OC)[O-])[C@H](O)2))3))4))[C@H](O)5))[C@H](O)6))7))8))[C@H](O)9))[C@H](O)%10))%11))%12))[C@H](O)%13))[C@H](O)%14))%15))... truncated[09:29:11] SMILES Parse Error: syntax error while parsing: C3([R3])(=O[Fe]12(O=C([R2])NO1)(O=C([R1])NO2)ON3)\n",
      "[09:29:11] SMILES Parse Error: Failed parsing SMILES 'C3([R3])(=O[Fe]12(O=C([R2])NO1)(O=C([R1])NO2)ON3)' for input: 'C3([R3])(=O[Fe]12(O=C([R2])NO1)(O=C([R1])NO2)ON3)'\n",
      "[09:29:11] SMILES Parse Error: syntax error while parsing: C([R3])(=O)N[O-].C([R1])(=O)N[O-].C([R2])(=O)N[O-]\n",
      "[09:29:11] SMILES Parse Error: Failed parsing SMILES 'C([R3])(=O)N[O-].C([R1])(=O)N[O-].C([R2])(=O)N[O-]' for input: 'C([R3])(=O)N[O-].C([R1])(=O)N[O-].C([R2])(=O)N[O-]'\n"
     ]
    },
    {
     "name": "stdout",
     "output_type": "stream",
     "text": [
      "error CPD-24087\n",
      "error CPD-24041\n",
      "error CPD-24014\n",
      "error CPD-24283\n",
      "error CPD-15546\n",
      "error CPD0-2114\n",
      "error CPD0-2175\n",
      "error CPD-19639\n",
      "error CPD-22969\n",
      "error CPD-22972\n",
      "error CPD-21745\n",
      "error CPD-22910\n",
      "error CPD0-2690\n"
     ]
    },
    {
     "name": "stderr",
     "output_type": "stream",
     "text": [
      "[09:29:11] Conflicting single bond directions around double bond at index 18.\n",
      "[09:29:11]   BondStereo set to STEREONONE and single bond directions set to NONE.\n",
      "[09:29:11] Conflicting single bond directions around double bond at index 23.\n",
      "[09:29:11]   BondStereo set to STEREONONE and single bond directions set to NONE.\n",
      "[09:29:11] Conflicting single bond directions around double bond at index 1.\n",
      "[09:29:11]   BondStereo set to STEREONONE and single bond directions set to NONE.\n",
      "[09:29:11] Conflicting single bond directions around double bond at index 12.\n",
      "[09:29:11]   BondStereo set to STEREONONE and single bond directions set to NONE.\n",
      "[09:29:11] Conflicting single bond directions around double bond at index 17.\n",
      "[09:29:11]   BondStereo set to STEREONONE and single bond directions set to NONE.\n",
      "[09:29:11] SMILES Parse Error: syntax error while parsing: C[C@]3(O)(CO[C@@H](O[C@H]2([C@H]([NH3+])C[C@H]([NH3+])[C@@H](O[C@@H]1(O[C@@H](CC[C@@H]([NH3+])1)C([R1])[NH2+][R2]))[C@H](O)2))[C@H](O)[C@@H]([NH2+]C)3)\n",
      "[09:29:11] SMILES Parse Error: Failed parsing SMILES 'C[C@]3(O)(CO[C@@H](O[C@H]2([C@H]([NH3+])C[C@H]([NH3+])[C@@H](O[C@@H]1(O[C@@H](CC[C@@H]([NH3+])1)C([R1])[NH2+][R2]))[C@H](O)2))[C@H](O)[C@@H]([NH2+]C)3)' for input: 'C[C@]3(O)(CO[C@@H](O[C@H]2([C@H]([NH3+])C[C@H]([NH3+])[C@@H](O[C@@H]1(O[C@@H](CC[C@@H]([NH3+])1)C([R1])[NH2+][R2]))[C@H](O)2))[C@H](O)[C@@H]([NH2+]C)3)'\n",
      "[09:29:11] Explicit valence for atom # 55 C, 5, is greater than permitted\n",
      "[09:29:11] Explicit valence for atom # 9 C, 5, is greater than permitted\n"
     ]
    },
    {
     "name": "stdout",
     "output_type": "stream",
     "text": [
      "error GENTAMICIN-C\n",
      "error CPD-9088\n",
      "error CPD-7005\n"
     ]
    },
    {
     "name": "stderr",
     "output_type": "stream",
     "text": [
      "[09:29:12] Conflicting single bond directions around double bond at index 12.\n",
      "[09:29:12]   BondStereo set to STEREONONE and single bond directions set to NONE.\n",
      "[09:29:12] WARNING: not removing hydrogen atom without neighbors\n",
      "[09:29:12] WARNING: not removing hydrogen atom without neighbors\n"
     ]
    },
    {
     "name": "stdout",
     "output_type": "stream",
     "text": [
      "error GLYCO-CT-ACETYL\n",
      "error GLYCO-CT-AMINO\n",
      "error GLYCO-CT-METHYL\n",
      "error GLYCO-CT-N-ACETYL\n",
      "error GLYCO-CT-N-GLYCOLYL\n",
      "error GLYCO-CT-N-SULFATE\n",
      "error GLYCO-CT-PHOSPHATE\n",
      "error GLYCO-CT-PYR\n",
      "error GLYCO-CT-SULFATE\n",
      "error CPD-22948\n",
      "error Heat\n",
      "error CPD-7840\n",
      "error CPD-11679\n"
     ]
    },
    {
     "name": "stderr",
     "output_type": "stream",
     "text": [
      "[09:29:12] Explicit valence for atom # 52 O, 3, is greater than permitted\n",
      "[09:29:12] Explicit valence for atom # 4 N, 4, is greater than permitted\n",
      "[09:29:12] Explicit valence for atom # 3 O, 4, is greater than permitted\n",
      "[09:29:12] SMILES Parse Error: syntax error while parsing: [XH]\n",
      "[09:29:12] SMILES Parse Error: Failed parsing SMILES '[XH]' for input: '[XH]'\n",
      "[09:29:12] Conflicting single bond directions around double bond at index 95.\n",
      "[09:29:12]   BondStereo set to STEREONONE and single bond directions set to NONE.\n",
      "[09:29:12] Conflicting single bond directions around double bond at index 17.\n",
      "[09:29:12]   BondStereo set to STEREONONE and single bond directions set to NONE.\n",
      "[09:29:12] Conflicting single bond directions around double bond at index 7.\n",
      "[09:29:12]   BondStereo set to STEREONONE and single bond directions set to NONE.\n"
     ]
    },
    {
     "name": "stdout",
     "output_type": "stream",
     "text": [
      "error CPD0-2517\n",
      "error CPD-25865\n",
      "error CPD-22946\n",
      "error HX\n",
      "error CPD-25840\n"
     ]
    },
    {
     "name": "stderr",
     "output_type": "stream",
     "text": [
      "[09:29:12] SMILES Parse Error: syntax error while parsing: CC1(\\C(\\[OH-])=C(C(/COP(=O)(=O)O)=C\\N=1)\\C=[NH+]\\[R1])\n",
      "[09:29:12] SMILES Parse Error: Failed parsing SMILES 'CC1(\\C(\\[OH-])=C(C(/COP(=O)(=O)O)=C\\N=1)\\C=[NH+]\\[R1])' for input: 'CC1(\\C(\\[OH-])=C(C(/COP(=O)(=O)O)=C\\N=1)\\C=[NH+]\\[R1])'\n",
      "[09:29:12] Explicit valence for atom # 15 C, 10, is greater than permitted\n",
      "[09:29:13] Conflicting single bond directions around double bond at index 12.\n",
      "[09:29:13]   BondStereo set to STEREONONE and single bond directions set to NONE.\n",
      "[09:29:13] Conflicting single bond directions around double bond at index 17.\n",
      "[09:29:13]   BondStereo set to STEREONONE and single bond directions set to NONE.\n",
      "[09:29:13] SMILES Parse Error: syntax error while parsing: C[C@@H](C[R])[C@@H]1([C@@H](C)CC[C@]7(O1)(O[C@H]5(C[C@H](OC(=O)[C@@H]6(\\C=C(C)/[C@@H](O)[C@@H]2([C@@](O)(C(\\CO2)=C/C=C/[C@H](C)[C@H](O[C@@H]4(O[C@H]([C@H](O[C@@H]3(O[C@H]([C@H](O)[C@@H](OC)C3)C))[C@@H](OC)C4)C))C(\\C)=C/C5)6)))C7)))\n",
      "[09:29:13] SMILES Parse Error: Failed parsing SMILES 'C[C@@H](C[R])[C@@H]1([C@@H](C)CC[C@]7(O1)(O[C@H]5(C[C@H](OC(=O)[C@@H]6(\\C=C(C)/[C@@H](O)[C@@H]2([C@@](O)(C(\\CO2)=C/C=C/[C@H](C)[C@H](O[C@@H]4(O[C@H]([C@H](O[C@@H]3(O[C@H]([C@H](O)[C@@H](OC)C3)C))[C@@H](OC)C4)C))C(\\C)=C/C5)6)))C7)))' for input: 'C[C@@H](C[R])[C@@H]1([C@@H](C)CC[C@]7(O1)(O[C@H]5(C[C@H](OC(=O)[C@@H]6(\\C=C(C)/[C@@H](O)[C@@H]2([C@@](O)(C(\\CO2)=C/C=C/[C@H](C)[C@H](O[C@@H]4(O[C@H]([C@H](O[C@@H]3(O[C@H]([C@H](O)[C@@H](OC)C3)C))[C@@H](OC)C4)C))C(\\C)=C/C5)6)))C7)))'\n"
     ]
    },
    {
     "name": "stdout",
     "output_type": "stream",
     "text": [
      "error CPD-9266\n",
      "error CPD0-2386\n",
      "error CPD0-2418\n",
      "error CPD-24448\n",
      "error CPD0-1693\n",
      "error CPD-22944\n",
      "error CPD-23742\n",
      "error CPD-41\n",
      "error CPD-25537\n"
     ]
    },
    {
     "name": "stderr",
     "output_type": "stream",
     "text": [
      "[09:29:13] SMILES Parse Error: syntax error while parsing: CC(C)=CCCC(\\C)=C/CCC(\\C)=C/CCC(/C)=C/CCC(/C)=C/CCC(/C)=C/CCC(/C)=C/CCC(/C)=C/CCC(/C)=C/CCC(/C)=C/CCC(/C)=C/COP(=O)([O-])OP(O[C@@H]8([C@@H]([C@@H](O[C@H]1([C@H]([C@@H]([C@@H]([C@@H](O1)C)O[C@@H]6(O[C@H](C([O-])=O)[C@@H](O[C@H]5([C@@H]([C@@H](O[C@H]2([C@H]([C@@H]([C@@H]([C@@H](O2)C)O[C@@H]3(O[C@H](C([O-])=O)[C@@H](O[R1])[C@@H]4(O[C@@](O[C@@H]34)(C([O-])=O)C)))OC(=O)C)O))[C@@H]([C@H](O5)CO)O)O))[C@@H]7(O[C@@](O[C@@H]67)(C([O-])=O)C)))OC(=O)C)O))[C@@H]([C@H](O8)CO)O)O))(=O)[O-]\n",
      "[09:29:13] SMILES Parse Error: Failed parsing SMILES 'CC(C)=CCCC(\\C)=C/CCC(\\C)=C/CCC(/C)=C/CCC(/C)=C/CCC(/C)=C/CCC(/C)=C/CCC(/C)=C/CCC(/C)=C/CCC(/C)=C/CCC(/C)=C/COP(=O)([O-])OP(O[C@@H]8([C@@H]([C@@H](O[C@H]1([C@H]([C@@H]([C@@H]([C@@H](O1)C)O[C@@H]6(O[C@H](C([O-])=O)[C@@H](O[C@H]5([C@@H]([C@@H](O[C@H]2([C@H]([C@@H]([C@@H]([C@@H](O2)C)O[C@@H]3(O[C@H](C([O-])=O)[C@@H](O[R1])[C@@H]4(O[C@@](O[C@@H]34)(C([O-])=O)C)))OC(=O)C)O))[C@@H]([C@H](O5)CO)O)O))[C@@H]7(O[C@@](O[C@@H]67)(C([O-])=O)C)))OC(=O)C)O))[C@@H]([C@H](O8)CO)O)O))(=O)[O-]' for input: 'CC(C)=CCCC(\\C)=C/CCC(\\C)=C/CCC(/C)=C/CCC(/C)=C/CCC(/C)=C/CCC(/C)=C/CCC(/C)=C/CCC(/C)=C/CCC(/C)=C/CCC(/C)=C/COP(=O)([O-])OP(O[C@@H]8([C@@H]([C@@H](O[C@H]1([C@H]([C@@H]([C@@H]([C@@H](O1)C)O[C@@H]6(O[C@H](C([O-])=O)[C@@H](O[C@H]5([C@@H]([C@@H](O[C@H]2([C@H]([C@@H]([C@@H]([C@@H](O2)C)O[C@@H]3(O[C@H](C([O-])=O)[C@@H](O[R1])[C@@H]4(O[C@@](O[C@@H]34)(C([O-])=O)C)))OC(=O)C)O))[C@@H]([C@H](O5)CO)O)O))[C@@H]7(O[C@@](O[C@@H]67)(C([O-])=O)C)))OC(=O)C)O))[C@@H]([... truncated[09:29:13] Explicit valence for atom # 0 C, 6, is greater than permitted\n"
     ]
    },
    {
     "name": "stdout",
     "output_type": "stream",
     "text": [
      "error CPD-26689\n",
      "error CPD0-2677\n",
      "error CPD-18407\n"
     ]
    },
    {
     "name": "stderr",
     "output_type": "stream",
     "text": [
      "[09:29:13] SMILES Parse Error: syntax error while parsing: CC[C@@H](O)[C@H]6([C@H](O)[C@@H](O)[C@H](OC[C@H]5(O[C@@H](O[C@H]1([C@H]([C@@H](O[C@H]([C@@H]1O)C)O[C@H]2([C@H]([C@H](O[C@@H]([C@@H]2O)O[R2])CO)O))O))[C@H](NC(C)=O)[C@@H](O)[C@H](O[C@H]4([C@@H]([C@@H](O[C@@H]3(O[C@H]([C@H](O)CC)[C@H](O[R1])[C@@H](O)3))[C@H]([C@H](O4)CO)O)O))5))O6)\n",
      "[09:29:13] SMILES Parse Error: Failed parsing SMILES 'CC[C@@H](O)[C@H]6([C@H](O)[C@@H](O)[C@H](OC[C@H]5(O[C@@H](O[C@H]1([C@H]([C@@H](O[C@H]([C@@H]1O)C)O[C@H]2([C@H]([C@H](O[C@@H]([C@@H]2O)O[R2])CO)O))O))[C@H](NC(C)=O)[C@@H](O)[C@H](O[C@H]4([C@@H]([C@@H](O[C@@H]3(O[C@H]([C@H](O)CC)[C@H](O[R1])[C@@H](O)3))[C@H]([C@H](O4)CO)O)O))5))O6)' for input: 'CC[C@@H](O)[C@H]6([C@H](O)[C@@H](O)[C@H](OC[C@H]5(O[C@@H](O[C@H]1([C@H]([C@@H](O[C@H]([C@@H]1O)C)O[C@H]2([C@H]([C@H](O[C@@H]([C@@H]2O)O[R2])CO)O))O))[C@H](NC(C)=O)[C@@H](O)[C@H](O[C@H]4([C@@H]([C@@H](O[C@@H]3(O[C@H]([C@H](O)CC)[C@H](O[R1])[C@@H](O)3))[C@H]([C@H](O4)CO)O)O))5))O6)'\n",
      "[09:29:13] SMILES Parse Error: syntax error while parsing: CC1(\\C=C(C2(/C3(/C(=O)C4(/C=C\\C=C(C(\\C(=O)C(/[C@H](O)CC(\\C=1)=2)=3)=4)\\O[R]))))\\O)\n",
      "[09:29:13] SMILES Parse Error: Failed parsing SMILES 'CC1(\\C=C(C2(/C3(/C(=O)C4(/C=C\\C=C(C(\\C(=O)C(/[C@H](O)CC(\\C=1)=2)=3)=4)\\O[R]))))\\O)' for input: 'CC1(\\C=C(C2(/C3(/C(=O)C4(/C=C\\C=C(C(\\C(=O)C(/[C@H](O)CC(\\C=1)=2)=3)=4)\\O[R]))))\\O)'\n",
      "[09:29:13] Conflicting single bond directions around double bond at index 34.\n",
      "[09:29:13]   BondStereo set to STEREONONE and single bond directions set to NONE.\n",
      "[09:29:13] Conflicting single bond directions around double bond at index 39.\n",
      "[09:29:13]   BondStereo set to STEREONONE and single bond directions set to NONE.\n"
     ]
    },
    {
     "name": "stdout",
     "output_type": "stream",
     "text": [
      "error CPD197R-1\n",
      "error CPD-12946\n"
     ]
    },
    {
     "name": "stderr",
     "output_type": "stream",
     "text": [
      "[09:29:14] SMILES Parse Error: syntax error while parsing: CCCCCCCCCCCCCCCC(O[C@H](CCCCCCCCCCCCC)CC(=O)N[C@@H]%20([C@H]([C@H](OC[C@H]1(O[C@H](OP([O-])([O-])=O)[C@H](NC(=O)C[C@H](OC(CCCCCCCCCCCCCCC)=O)CCCCCCCCC)[C@@H](NC(=O)C[C@H](O)CCCCCCCCCCCCC)[C@H](O)1))O[C@H](CO[C@@]%19(C(=O)[O-])(O[C@H]([C@H](O)CO)[C@H](O[C@@H]6(O[C@H](CO)[C@@H](O)[C@H](O[C@@H]4(O[C@@H]([C@@H](O[C@@H]2(O[C@@H]([C@@H](O)[C@H](O)[C@@H]([NH3+])2)CO[C@@H]3(O[C@@H]([C@@H](O)[C@H](O)[C@@H]([NH3+])3)CO)))[C@H](O)[C@@H]([NH3+])4)CO[C@@H]5(O[C@@H]([C@@H](O)[C@H](O)[C@@H]([NH3+])5)CO)))[C@@H]6O))[C@H](O[C@]%18(O[C@H]([C@@H](CO)O)[C@H](O)[C@H](O[C@@H]%17(O[C@@H]([C@@H](O[C@H]7([C@@H]([C@H]([C@@H]([C@H](O7)C)O)O[C@H]%16(O[C@H](CO)[C@@H](O)[C@H](O[C@H]%15(O[C@H](CO)[C@@H](O)[C@H](O[C@@H]8([C@H]([C@H]([C@@H]([C@H](O8)C)NC=O)O)O[C@@H]9([C@H]([C@H]([C@@H]([C@H](O9)C)NC=O)O)O[C@@H]%10([C@H]([C@H]([C@@H]([C@H](O%10)C)NC=O)O)O[C@@H]%11([C@H]([C@H]([C@@H]([C@H](O%11)C)NC=O)O)O[C@@H]%12([C@H]([C@H]([C@@H]([C@H](O%12)C)NC=O)O)O[C@@H]%1... truncated[09:29:14] SMILES Parse Error: Failed parsing SMILES 'CCCCCCCCCCCCCCCC(O[C@H](CCCCCCCCCCCCC)CC(=O)N[C@@H]%20([C@H]([C@H](OC[C@H]1(O[C@H](OP([O-])([O-])=O)[C@H](NC(=O)C[C@H](OC(CCCCCCCCCCCCCCC)=O)CCCCCCCCC)[C@@H](NC(=O)C[C@H](O)CCCCCCCCCCCCC)[C@H](O)1))O[C@H](CO[C@@]%19(C(=O)[O-])(O[C@H]([C@H](O)CO)[C@H](O[C@@H]6(O[C@H](CO)[C@@H](O)[C@H](O[C@@H]4(O[C@@H]([C@@H](O[C@@H]2(O[C@@H]([C@@H](O)[C@H](O)[C@@H]([NH3+])2)CO[C@@H]3(O[C@@H]([C@@H](O)[C@H](O)[C@@H]([NH3+])3)CO)))[C@H](O)[C@@H]([NH3+])4)CO[C@@H]5(O[C@@H]([C@@H](O)[C@H](O)[C@@H]([NH3+])5)CO)))[C@@H]6O))[C@H](O[C@]%18(O[C@H]([C@@H](CO)O)[C@H](O)[C@H](O[C@@H]%17(O[C@@H]([C@@H](O[C@H]7([C@@H]([C@H]([C@@H]([C@H](O7)C)O)O[C@H]%16(O[C@H](CO)[C@@H](O)[C@H](O[C@H]%15(O[C@H](CO)[C@@H](O)[C@H](O[C@@H]8([C@H]([C@H]([C@@H]([C@H](O8)C)NC=O)O)O[C@@H]9([C@H]([C@H]([C@@H]([C@H](O9)C)NC=O)O)O[C@@H]%10([C@H]([C@H]([C@@H]([C@H](O%10)C)NC=O)O)O[C@@H]%11([C@H]([C@H]([C@@H]([C@H](O%11)C)NC=O)O)O[C@@H]%12([C@H]([C@H]([C@@H]([C@H](O%12)C)NC=O)O)O[C@@H]%13([C@... truncated[09:29:14] Conflicting single bond directions around double bond at index 27.\n",
      "[09:29:14]   BondStereo set to STEREONONE and single bond directions set to NONE.\n",
      "[09:29:14] Conflicting single bond directions around double bond at index 17.\n",
      "[09:29:14]   BondStereo set to STEREONONE and single bond directions set to NONE.\n",
      "[09:29:14] SMILES Parse Error: syntax error while parsing: C(=O)([R2])[C@@H](N[R1])CCCCNC1(\\C(/C[C@H](N[R3])C(=O)[R4])=C/C(=O)C(=O)/C=1)\n",
      "[09:29:14] SMILES Parse Error: Failed parsing SMILES 'C(=O)([R2])[C@@H](N[R1])CCCCNC1(\\C(/C[C@H](N[R3])C(=O)[R4])=C/C(=O)C(=O)/C=1)' for input: 'C(=O)([R2])[C@@H](N[R1])CCCCNC1(\\C(/C[C@H](N[R3])C(=O)[R4])=C/C(=O)C(=O)/C=1)'\n"
     ]
    },
    {
     "name": "stdout",
     "output_type": "stream",
     "text": [
      "error CPD2B4Q-6\n",
      "error CPD-12143\n",
      "error CPD-22947\n",
      "error MGCL2\n",
      "error CPD-18499\n",
      "error CPD0-2390\n",
      "error CPD0-2387\n",
      "error CPD0-2394\n",
      "error CPD-19633\n",
      "error CPD0-1608\n",
      "error CPD-22902\n",
      "error CPD0-2505\n",
      "error MP\n",
      "error CPD-24386\n",
      "error CPD-15878\n",
      "error CPD0-1367\n",
      "error CPD-9719\n",
      "error CPD-9723\n",
      "error CPD-9722\n",
      "error CPD-9721\n",
      "error CPD-9730\n",
      "error CPD-9729\n",
      "error CPD-9726\n",
      "error CPD-9725\n",
      "error CPD-9724\n",
      "error CPD-9718\n",
      "error CPD-9728\n",
      "error CPD-9720\n"
     ]
    },
    {
     "name": "stderr",
     "output_type": "stream",
     "text": [
      "[09:29:14] SMILES Parse Error: syntax error while parsing: C[C@H]3(O[C@H](O[C@H]1([C@H](O)[C@H](NC(C)=O)[C@@H](O[C@H](C(=O)[O-])1)O[C@H]2([C@H](O)[C@@H](NC(C)=O)[C@@H](OP(OP([O-])(=O)OC[C@H](COC([R1])=O)OC(=O)[R2])([O-])=O)O[C@H](CO)2)))[C@H](O)[C@@H](O)[C@@H](NC(C)=O)3)\n",
      "[09:29:14] SMILES Parse Error: Failed parsing SMILES 'C[C@H]3(O[C@H](O[C@H]1([C@H](O)[C@H](NC(C)=O)[C@@H](O[C@H](C(=O)[O-])1)O[C@H]2([C@H](O)[C@@H](NC(C)=O)[C@@H](OP(OP([O-])(=O)OC[C@H](COC([R1])=O)OC(=O)[R2])([O-])=O)O[C@H](CO)2)))[C@H](O)[C@@H](O)[C@@H](NC(C)=O)3)' for input: 'C[C@H]3(O[C@H](O[C@H]1([C@H](O)[C@H](NC(C)=O)[C@@H](O[C@H](C(=O)[O-])1)O[C@H]2([C@H](O)[C@@H](NC(C)=O)[C@@H](OP(OP([O-])(=O)OC[C@H](COC([R1])=O)OC(=O)[R2])([O-])=O)O[C@H](CO)2)))[C@H](O)[C@@H](O)[C@@H](NC(C)=O)3)'\n",
      "[09:29:14] SMILES Parse Error: syntax error while parsing: C1([R4])(=C([R3])C(=O)C(/[R3])=C([R1])/C(=O)1)\n",
      "[09:29:14] SMILES Parse Error: Failed parsing SMILES 'C1([R4])(=C([R3])C(=O)C(/[R3])=C([R1])/C(=O)1)' for input: 'C1([R4])(=C([R3])C(=O)C(/[R3])=C([R1])/C(=O)1)'\n",
      "[09:29:14] SMILES Parse Error: syntax error while parsing: C1([R4])(=C([R3])C(=O)C(/[R3])=C([R1])/C(=O)1)\n",
      "[09:29:14] SMILES Parse Error: Failed parsing SMILES 'C1([R4])(=C([R3])C(=O)C(/[R3])=C([R1])/C(=O)1)' for input: 'C1([R4])(=C([R3])C(=O)C(/[R3])=C([R1])/C(=O)1)'\n",
      "[09:29:14] SMILES Parse Error: syntax error while parsing: C1([R4])(=C([R3])C(=O)C(/[R3])=C([R1])/C(=O)1)\n",
      "[09:29:14] SMILES Parse Error: Failed parsing SMILES 'C1([R4])(=C([R3])C(=O)C(/[R3])=C([R1])/C(=O)1)' for input: 'C1([R4])(=C([R3])C(=O)C(/[R3])=C([R1])/C(=O)1)'\n",
      "[09:29:14] SMILES Parse Error: syntax error while parsing: C1([R4])(=C([R3])C(=O)C(/[R3])=C([R1])/C(=O)1)\n",
      "[09:29:14] SMILES Parse Error: Failed parsing SMILES 'C1([R4])(=C([R3])C(=O)C(/[R3])=C([R1])/C(=O)1)' for input: 'C1([R4])(=C([R3])C(=O)C(/[R3])=C([R1])/C(=O)1)'\n",
      "[09:29:14] SMILES Parse Error: syntax error while parsing: C1([R4])(=C([R3])C(=O)C(/[R3])=C([R1])/C(=O)1)\n",
      "[09:29:14] SMILES Parse Error: Failed parsing SMILES 'C1([R4])(=C([R3])C(=O)C(/[R3])=C([R1])/C(=O)1)' for input: 'C1([R4])(=C([R3])C(=O)C(/[R3])=C([R1])/C(=O)1)'\n",
      "[09:29:14] SMILES Parse Error: syntax error while parsing: C1([R4])(=C([R3])C(=O)C(/[R3])=C([R1])/C(=O)1)\n",
      "[09:29:14] SMILES Parse Error: Failed parsing SMILES 'C1([R4])(=C([R3])C(=O)C(/[R3])=C([R1])/C(=O)1)' for input: 'C1([R4])(=C([R3])C(=O)C(/[R3])=C([R1])/C(=O)1)'\n",
      "[09:29:14] SMILES Parse Error: syntax error while parsing: C1([R4])(=C([R3])C(=O)C(/[R3])=C([R1])/C(=O)1)\n",
      "[09:29:14] SMILES Parse Error: Failed parsing SMILES 'C1([R4])(=C([R3])C(=O)C(/[R3])=C([R1])/C(=O)1)' for input: 'C1([R4])(=C([R3])C(=O)C(/[R3])=C([R1])/C(=O)1)'\n",
      "[09:29:14] SMILES Parse Error: syntax error while parsing: C1([R4])(=C([R3])C(=O)C(/[R3])=C([R1])/C(=O)1)\n",
      "[09:29:14] SMILES Parse Error: Failed parsing SMILES 'C1([R4])(=C([R3])C(=O)C(/[R3])=C([R1])/C(=O)1)' for input: 'C1([R4])(=C([R3])C(=O)C(/[R3])=C([R1])/C(=O)1)'\n",
      "[09:29:14] SMILES Parse Error: syntax error while parsing: C1([R4])(=C([R3])C(=O)C(/[R3])=C([R1])/C(=O)1)\n",
      "[09:29:14] SMILES Parse Error: Failed parsing SMILES 'C1([R4])(=C([R3])C(=O)C(/[R3])=C([R1])/C(=O)1)' for input: 'C1([R4])(=C([R3])C(=O)C(/[R3])=C([R1])/C(=O)1)'\n",
      "[09:29:14] SMILES Parse Error: syntax error while parsing: C1([R4])(=C([R3])C(=O)C(/[R3])=C([R1])/C(=O)1)\n",
      "[09:29:14] SMILES Parse Error: Failed parsing SMILES 'C1([R4])(=C([R3])C(=O)C(/[R3])=C([R1])/C(=O)1)' for input: 'C1([R4])(=C([R3])C(=O)C(/[R3])=C([R1])/C(=O)1)'\n",
      "[09:29:14] SMILES Parse Error: syntax error while parsing: C1([R4])(=C([R3])C(=O)C(/[R3])=C([R1])/C(=O)1)\n",
      "[09:29:14] SMILES Parse Error: Failed parsing SMILES 'C1([R4])(=C([R3])C(=O)C(/[R3])=C([R1])/C(=O)1)' for input: 'C1([R4])(=C([R3])C(=O)C(/[R3])=C([R1])/C(=O)1)'\n",
      "[09:29:14] SMILES Parse Error: syntax error while parsing: C1([R4])(=C([R3])C(=O)C(/[R3])=C([R1])/C(=O)1)\n",
      "[09:29:14] SMILES Parse Error: Failed parsing SMILES 'C1([R4])(=C([R3])C(=O)C(/[R3])=C([R1])/C(=O)1)' for input: 'C1([R4])(=C([R3])C(=O)C(/[R3])=C([R1])/C(=O)1)'\n",
      "[09:29:14] SMILES Parse Error: syntax error while parsing: C1([R4])(=C([R3])C(=O)C(/[R3])=C([R1])/C(=O)1)\n",
      "[09:29:14] SMILES Parse Error: Failed parsing SMILES 'C1([R4])(=C([R3])C(=O)C(/[R3])=C([R1])/C(=O)1)' for input: 'C1([R4])(=C([R3])C(=O)C(/[R3])=C([R1])/C(=O)1)'\n",
      "[09:29:14] SMILES Parse Error: syntax error while parsing: C1([R4])(=C([R3])C(=O)C(/[R3])=C([R1])/C(=O)1)\n",
      "[09:29:14] SMILES Parse Error: Failed parsing SMILES 'C1([R4])(=C([R3])C(=O)C(/[R3])=C([R1])/C(=O)1)' for input: 'C1([R4])(=C([R3])C(=O)C(/[R3])=C([R1])/C(=O)1)'\n",
      "[09:29:14] Conflicting single bond directions around double bond at index 12.\n",
      "[09:29:14]   BondStereo set to STEREONONE and single bond directions set to NONE.\n",
      "[09:29:14] Conflicting single bond directions around double bond at index 17.\n",
      "[09:29:14]   BondStereo set to STEREONONE and single bond directions set to NONE.\n"
     ]
    },
    {
     "name": "stdout",
     "output_type": "stream",
     "text": [
      "error CPD-15876\n",
      "error CPD0-1651\n",
      "error CPD0-1634\n",
      "error CPD-22801\n",
      "error CPD-22802\n",
      "error CPD-22318\n"
     ]
    },
    {
     "name": "stderr",
     "output_type": "stream",
     "text": [
      "[09:29:14] SMILES Parse Error: syntax error while parsing: CC[C@H](C)[C@@H](C(=O)NCC(=O)NCC(NCC(=O)NCC(NCC(=O)NCC(NCC(=O)NCC(NCC(=O)NCC(=O)N[C@@H](CO)C(N[C@@H](CS)C(=O)NCC(=O)NCC(N[C@@H](CCC(=O)N)C(=O)NCC(=O)NCC(=O)NCC(=O)N[C@@H](CS)C(=O)NCC(=O)NCC(=O)N[C@@H](CS)C(N[C@@H](CO)C(=O)N[C@@H](CC(=O)N)C(NCC(N[C@@H](CS)C(=O)N[C@@H](CO)C(NCC(=O)NCC(N[C@@H](CC(=O)N)C(=O)NCC(NCC(=O)N[C@@H](CO)C(=O)NCC(NCC(N[C@@H](CO)C(=O)NCC(=O)N[C@@H](CO)C(N[C@@H](CC1(\\N=C/N\\C=1))C(=O)N[C@@H]([C@@H](C)CC)C(=O)[O-])=O)=O)=O)=O)=O)=O)=O)=O)=O)=O)=O)=O)=O)=O)=O)NC(CNC(=O)[C@@H](NC([C@@H](N[a\n",
      "[09:29:14] SMILES Parse Error: Failed parsing SMILES 'CC[C@H](C)[C@@H](C(=O)NCC(=O)NCC(NCC(=O)NCC(NCC(=O)NCC(NCC(=O)NCC(NCC(=O)NCC(=O)N[C@@H](CO)C(N[C@@H](CS)C(=O)NCC(=O)NCC(N[C@@H](CCC(=O)N)C(=O)NCC(=O)NCC(=O)NCC(=O)N[C@@H](CS)C(=O)NCC(=O)NCC(=O)N[C@@H](CS)C(N[C@@H](CO)C(=O)N[C@@H](CC(=O)N)C(NCC(N[C@@H](CS)C(=O)N[C@@H](CO)C(NCC(=O)NCC(N[C@@H](CC(=O)N)C(=O)NCC(NCC(=O)N[C@@H](CO)C(=O)NCC(NCC(N[C@@H](CO)C(=O)NCC(=O)N[C@@H](CO)C(N[C@@H](CC1(\\N=C/N\\C=1))C(=O)N[C@@H]([C@@H](C)CC)C(=O)[O-])=O)=O)=O)=O)=O)=O)=O)=O)=O)=O)=O)=O)=O)=O)=O)NC(CNC(=O)[C@@H](NC([C@@H](N[a' for input: 'CC[C@H](C)[C@@H](C(=O)NCC(=O)NCC(NCC(=O)NCC(NCC(=O)NCC(NCC(=O)NCC(NCC(=O)NCC(=O)N[C@@H](CO)C(N[C@@H](CS)C(=O)NCC(=O)NCC(N[C@@H](CCC(=O)N)C(=O)NCC(=O)NCC(=O)NCC(=O)N[C@@H](CS)C(=O)NCC(=O)NCC(=O)N[C@@H](CS)C(N[C@@H](CO)C(=O)N[C@@H](CC(=O)N)C(NCC(N[C@@H](CS)C(=O)N[C@@H](CO)C(NCC(=O)NCC(N[C@@H](CC(=O)N)C(=O)NCC(NCC(=O)N[C@@H](CO)C(=O)NCC(NCC(N[C@@H](CO)C(=O)NCC(=O)N[C@@H](CO)C(N[C@@H](CC1(\\N=C/N\\C=1))C(=O)N[C@@H]([C@@H](C)... truncated[09:29:14] SMILES Parse Error: syntax error while parsing: CC[C@H](C)[C@@H](C(=O)NCC(=O)NCC(NCC(=O)NCC(NCC(=O)NCC(NCC(=O)NCC(NCC(=O)NCC9(\\O\\C=C(C8(\\S\\C=C(C(=O)NCC(=O)NCC(N[C@@H](CCC(=O)N)C(=O)NCC(=O)NCC(=O)NCC7(\\S\\C=C(C(=O)NCC(=O)NCC6(\\N=C(C(N[C@@H](CO)C(=O)N[C@@H](CC(=O)N)C(NCC5(\\S\\C=C(C4(\\O\\C=C(C(NCC(=O)NCC(N[C@@H](CC(=O)N)C(=O)NCC(NCC3(\\O\\C=C(C(NCC(NCC2(\\O\\C=C(C(NCC(=O)N[C@@H](CO)C(N[C@H](CC1(\\N=C/N\\C=1))C(=O)N[C@H]([C@@H](C)CC)C(=O)[O-])=O)=O)/N=2))=O)=O)/N=3))=O)=O)=O)/N=4))/N=5))=O)=O)/S\\C=6))/N=7))=O)/N=8))/N=9))=O)=O)=O)=O)NC(CNC(=O)[C@@H](NC([C@@H](N[a\n",
      "[09:29:14] SMILES Parse Error: Failed parsing SMILES 'CC[C@H](C)[C@@H](C(=O)NCC(=O)NCC(NCC(=O)NCC(NCC(=O)NCC(NCC(=O)NCC(NCC(=O)NCC9(\\O\\C=C(C8(\\S\\C=C(C(=O)NCC(=O)NCC(N[C@@H](CCC(=O)N)C(=O)NCC(=O)NCC(=O)NCC7(\\S\\C=C(C(=O)NCC(=O)NCC6(\\N=C(C(N[C@@H](CO)C(=O)N[C@@H](CC(=O)N)C(NCC5(\\S\\C=C(C4(\\O\\C=C(C(NCC(=O)NCC(N[C@@H](CC(=O)N)C(=O)NCC(NCC3(\\O\\C=C(C(NCC(NCC2(\\O\\C=C(C(NCC(=O)N[C@@H](CO)C(N[C@H](CC1(\\N=C/N\\C=1))C(=O)N[C@H]([C@@H](C)CC)C(=O)[O-])=O)=O)/N=2))=O)=O)/N=3))=O)=O)=O)/N=4))/N=5))=O)=O)/S\\C=6))/N=7))=O)/N=8))/N=9))=O)=O)=O)=O)NC(CNC(=O)[C@@H](NC([C@@H](N[a' for input: 'CC[C@H](C)[C@@H](C(=O)NCC(=O)NCC(NCC(=O)NCC(NCC(=O)NCC(NCC(=O)NCC(NCC(=O)NCC9(\\O\\C=C(C8(\\S\\C=C(C(=O)NCC(=O)NCC(N[C@@H](CCC(=O)N)C(=O)NCC(=O)NCC(=O)NCC7(\\S\\C=C(C(=O)NCC(=O)NCC6(\\N=C(C(N[C@@H](CO)C(=O)N[C@@H](CC(=O)N)C(NCC5(\\S\\C=C(C4(\\O\\C=C(C(NCC(=O)NCC(N[C@@H](CC(=O)N)C(=O)NCC(NCC3(\\O\\C=C(C(NCC(NCC2(\\O\\C=C(C(NCC(=O)N[C@@H](CO)C(N[C@H](CC1(\\N=C/N\\C=1))C(=O)N[C@H]([C@@H](C)CC)C(=O)[O-])=O)=O)/N=2))=O)=O)/N=3))=O)=O)=O)/N=4)... truncated[09:29:15] Explicit valence for atom # 0 C, 6, is greater than permitted\n",
      "[09:29:15] SMILES Parse Error: syntax error while parsing: CCCCCCCCCCCCCCCCC[C@@H](O)CC(=O)N[C@H]%20([C@H](OC[C@H]1(O[C@H](OP([O-])(OP([O-])(OCCN)=O)=O)[C@H](NC(=O)C[C@H](O)CCCCCCCCCCCNCC)[C@@H](NC(=O)C[C@H](OC(=O)CCCCCCCCCCC)CCCCCCCCCCCCC)[C@H](O)1))O[C@H](CO[C@@]%19(C(=O)[O-])(O[C@H]([C@H](O)CO)[C@H](O[C@@H]6(O[C@H](CO)[C@@H](O)[C@H](O[C@@H]4(O[C@@H]([C@@H](O[C@@H]2(O[C@@H]([C@@H](O)[C@H](O)[C@@H]([NH3+])2)CO[C@@H]3(O[C@@H]([C@@H](O)[C@H](O)[C@@H]([NH3+])3)CO)))[C@H](O)[C@@H]([NH3+])4)CO[C@@H]5(O[C@@H]([C@@H](O)[C@H](O)[C@@H]([NH3+])5)CO)))[C@@H]6O))[C@H](O[C@]%18(O[C@H]([C@@H](CO)O)[C@H](O)[C@H](O[C@@H]%17(O[C@@H]([C@@H](O[C@H]7([C@@H]([C@H]([C@@H]([C@H](O7)C)O)O[C@H]%16(O[C@H](CO)[C@@H](O)[C@H](O[C@H]%15(O[C@H](CO)[C@@H](O)[C@H](O[C@@H]8([C@H]([C@H]([C@@H]([C@H](O8)C)NC=O)O)O[C@@H]9([C@H]([C@H]([C@@H]([C@H](O9)C)NC=O)O)O[C@@H]%10([C@H]([C@H]([C@@H]([C@H](O%10)C)NC=O)O)O[C@@H]%11([C@H]([C@H]([C@@H]([C@H](O%11)C)NC=O)O)O[C@@H]%12([C@H]([C@H]([C@@H]([C@H](O%12)C)NC=O)O)O[C@@H]%13([C@H... truncated[09:29:15] SMILES Parse Error: Failed parsing SMILES 'CCCCCCCCCCCCCCCCC[C@@H](O)CC(=O)N[C@H]%20([C@H](OC[C@H]1(O[C@H](OP([O-])(OP([O-])(OCCN)=O)=O)[C@H](NC(=O)C[C@H](O)CCCCCCCCCCCNCC)[C@@H](NC(=O)C[C@H](OC(=O)CCCCCCCCCCC)CCCCCCCCCCCCC)[C@H](O)1))O[C@H](CO[C@@]%19(C(=O)[O-])(O[C@H]([C@H](O)CO)[C@H](O[C@@H]6(O[C@H](CO)[C@@H](O)[C@H](O[C@@H]4(O[C@@H]([C@@H](O[C@@H]2(O[C@@H]([C@@H](O)[C@H](O)[C@@H]([NH3+])2)CO[C@@H]3(O[C@@H]([C@@H](O)[C@H](O)[C@@H]([NH3+])3)CO)))[C@H](O)[C@@H]([NH3+])4)CO[C@@H]5(O[C@@H]([C@@H](O)[C@H](O)[C@@H]([NH3+])5)CO)))[C@@H]6O))[C@H](O[C@]%18(O[C@H]([C@@H](CO)O)[C@H](O)[C@H](O[C@@H]%17(O[C@@H]([C@@H](O[C@H]7([C@@H]([C@H]([C@@H]([C@H](O7)C)O)O[C@H]%16(O[C@H](CO)[C@@H](O)[C@H](O[C@H]%15(O[C@H](CO)[C@@H](O)[C@H](O[C@@H]8([C@H]([C@H]([C@@H]([C@H](O8)C)NC=O)O)O[C@@H]9([C@H]([C@H]([C@@H]([C@H](O9)C)NC=O)O)O[C@@H]%10([C@H]([C@H]([C@@H]([C@H](O%10)C)NC=O)O)O[C@@H]%11([C@H]([C@H]([C@@H]([C@H](O%11)C)NC=O)O)O[C@@H]%12([C@H]([C@H]([C@@H]([C@H](O%12)C)NC=O)O)O[C@@H]%13([C@H]([C@... truncated[09:29:15] SMILES Parse Error: syntax error while parsing: C(OP([O-])(=O)[O-])[C@@H]1(C4(\\S[Mo](OC(N)C[C@@H](C(=O)[R4])N[R3])(O)(=O)(SC[C@H](N[R1])C([R2])=O)SC(/C2(\\[C@@H](O1)NC3(/N=C(N)\\NC(=O)C(/N=2)=3)))=4))\n",
      "[09:29:15] SMILES Parse Error: Failed parsing SMILES 'C(OP([O-])(=O)[O-])[C@@H]1(C4(\\S[Mo](OC(N)C[C@@H](C(=O)[R4])N[R3])(O)(=O)(SC[C@H](N[R1])C([R2])=O)SC(/C2(\\[C@@H](O1)NC3(/N=C(N)\\NC(=O)C(/N=2)=3)))=4))' for input: 'C(OP([O-])(=O)[O-])[C@@H]1(C4(\\S[Mo](OC(N)C[C@@H](C(=O)[R4])N[R3])(O)(=O)(SC[C@H](N[R1])C([R2])=O)SC(/C2(\\[C@@H](O1)NC3(/N=C(N)\\NC(=O)C(/N=2)=3)))=4))'\n",
      "[09:29:15] Conflicting single bond directions around double bond at index 9.\n",
      "[09:29:15]   BondStereo set to STEREONONE and single bond directions set to NONE.\n",
      "[09:29:15] Conflicting single bond directions around double bond at index 14.\n",
      "[09:29:15]   BondStereo set to STEREONONE and single bond directions set to NONE.\n",
      "[09:29:15] Conflicting single bond directions around double bond at index 19.\n",
      "[09:29:15]   BondStereo set to STEREONONE and single bond directions set to NONE.\n"
     ]
    },
    {
     "name": "stdout",
     "output_type": "stream",
     "text": [
      "error CPD-18431\n",
      "error CPD-24743\n",
      "error CPD-18906\n",
      "error CPD-22961\n"
     ]
    },
    {
     "name": "stderr",
     "output_type": "stream",
     "text": [
      "[09:29:15] SMILES Parse Error: syntax error while parsing: C2([R3])(C(/[R2])=C([R1])/C(/N[C@@H]1(O[C@H](CO)[C@@H](O)[C@H](O)[C@@H](O)1))=C([R5])\\C(/[R4])=2)\n",
      "[09:29:15] SMILES Parse Error: Failed parsing SMILES 'C2([R3])(C(/[R2])=C([R1])/C(/N[C@@H]1(O[C@H](CO)[C@@H](O)[C@H](O)[C@@H](O)1))=C([R5])\\C(/[R4])=2)' for input: 'C2([R3])(C(/[R2])=C([R1])/C(/N[C@@H]1(O[C@H](CO)[C@@H](O)[C@H](O)[C@@H](O)1))=C([R5])\\C(/[R4])=2)'\n",
      "[09:29:15] SMILES Parse Error: syntax error while parsing: C(OS(O)(=O)=O)[C@@H]2([C@@H](O[C@@H]1(O[C@@H](C(O)=O)[C@@H](O[R])[C@H](O)[C@@H](OS(O)(=O)=O)1))[C@H](O)[C@@H](N)[C@@H](O[R])O2)\n",
      "[09:29:15] SMILES Parse Error: Failed parsing SMILES 'C(OS(O)(=O)=O)[C@@H]2([C@@H](O[C@@H]1(O[C@@H](C(O)=O)[C@@H](O[R])[C@H](O)[C@@H](OS(O)(=O)=O)1))[C@H](O)[C@@H](N)[C@@H](O[R])O2)' for input: 'C(OS(O)(=O)=O)[C@@H]2([C@@H](O[C@@H]1(O[C@@H](C(O)=O)[C@@H](O[R])[C@H](O)[C@@H](OS(O)(=O)=O)1))[C@H](O)[C@@H](N)[C@@H](O[R])O2)'\n",
      "[09:29:15] SMILES Parse Error: syntax error while parsing: CC(=O)N[C@H]3(C[C@@H]([NH3+])[C@H](O[C@H]1(OC[C@](C)(O)[C@H]([NH2+]C)[C@@H](O)1))[C@@H](O)[C@H](O[C@@H]2(O[C@@H](CC[C@@H]([NH3+])2)C([R1])[NH2+][R2]))3)\n",
      "[09:29:15] SMILES Parse Error: Failed parsing SMILES 'CC(=O)N[C@H]3(C[C@@H]([NH3+])[C@H](O[C@H]1(OC[C@](C)(O)[C@H]([NH2+]C)[C@@H](O)1))[C@@H](O)[C@H](O[C@@H]2(O[C@@H](CC[C@@H]([NH3+])2)C([R1])[NH2+][R2]))3)' for input: 'CC(=O)N[C@H]3(C[C@@H]([NH3+])[C@H](O[C@H]1(OC[C@](C)(O)[C@H]([NH2+]C)[C@@H](O)1))[C@@H](O)[C@H](O[C@@H]2(O[C@@H](CC[C@@H]([NH3+])2)C([R1])[NH2+][R2]))3)'\n",
      "[09:29:15] SMILES Parse Error: syntax error while parsing: CC(C)=CCNC1(\\C2(\\N=C/N(C(/N=C(/N=1)/S)=2)[C@@H]3(O[C@H](COP(=O)([O-])O[a\n",
      "[09:29:15] SMILES Parse Error: Failed parsing SMILES 'CC(C)=CCNC1(\\C2(\\N=C/N(C(/N=C(/N=1)/S)=2)[C@@H]3(O[C@H](COP(=O)([O-])O[a' for input: 'CC(C)=CCNC1(\\C2(\\N=C/N(C(/N=C(/N=1)/S)=2)[C@@H]3(O[C@H](COP(=O)([O-])O[a'\n"
     ]
    },
    {
     "name": "stdout",
     "output_type": "stream",
     "text": [
      "error D-GLUCOSYLARYLAMINE\n",
      "error N-DESULFOHEPARIN\n",
      "error CPD0-2697\n",
      "error N3-ACETYLGENTAMICIN-C\n",
      "error CPD0-2681\n",
      "error CPD-15360\n",
      "error CPD1G01-4\n",
      "error CPD-12419\n",
      "error CPD-22886\n",
      "error CPD0-1696\n",
      "error CPD-22956\n",
      "error CPD-24862\n",
      "error CPD0-2696\n",
      "error CPD-26876\n"
     ]
    },
    {
     "name": "stderr",
     "output_type": "stream",
     "text": [
      "[09:29:15] Conflicting single bond directions around double bond at index 8.\n",
      "[09:29:15]   BondStereo set to STEREONONE and single bond directions set to NONE.\n",
      "[09:29:15] SMILES Parse Error: syntax error while parsing: C(#N)[Fe](C#[O+])C#N.S([a\n",
      "[09:29:15] SMILES Parse Error: Failed parsing SMILES 'C(#N)[Fe](C#[O+])C#N.S([a' for input: 'C(#N)[Fe](C#[O+])C#N.S([a'\n",
      "[09:29:15] Conflicting single bond directions around double bond at index 45.\n",
      "[09:29:15]   BondStereo set to STEREONONE and single bond directions set to NONE.\n",
      "[09:29:15] Conflicting single bond directions around double bond at index 12.\n",
      "[09:29:15]   BondStereo set to STEREONONE and single bond directions set to NONE.\n",
      "[09:29:15] Conflicting single bond directions around double bond at index 17.\n",
      "[09:29:15]   BondStereo set to STEREONONE and single bond directions set to NONE.\n",
      "[09:29:15] Conflicting single bond directions around double bond at index 10.\n",
      "[09:29:15]   BondStereo set to STEREONONE and single bond directions set to NONE.\n",
      "[09:29:15] SMILES Parse Error: syntax error while parsing: C(O)[C@@H]3([C@@H](O)[C@H](O)[C@@H](O)[C@@H](OC(COP(=O)([O-])OCC(O[C@H]1(O[C@H](CO)[C@@H](O)[C@H](O)[C@@H](O)1))COP(=O)([O-])OCC(O[C@H]2(O[C@H](CO)[C@@H](O)[C@H](O)[C@@H](O)2))COP(=O)([O-])[O-])CO[R])O3)\n",
      "[09:29:15] SMILES Parse Error: Failed parsing SMILES 'C(O)[C@@H]3([C@@H](O)[C@H](O)[C@@H](O)[C@@H](OC(COP(=O)([O-])OCC(O[C@H]1(O[C@H](CO)[C@@H](O)[C@H](O)[C@@H](O)1))COP(=O)([O-])OCC(O[C@H]2(O[C@H](CO)[C@@H](O)[C@H](O)[C@@H](O)2))COP(=O)([O-])[O-])CO[R])O3)' for input: 'C(O)[C@@H]3([C@@H](O)[C@H](O)[C@@H](O)[C@@H](OC(COP(=O)([O-])OCC(O[C@H]1(O[C@H](CO)[C@@H](O)[C@H](O)[C@@H](O)1))COP(=O)([O-])OCC(O[C@H]2(O[C@H](CO)[C@@H](O)[C@H](O)[C@@H](O)2))COP(=O)([O-])[O-])CO[R])O3)'\n",
      "[09:29:15] SMILES Parse Error: syntax error while parsing: C[C@@H]([NH3+])C(O[C@H]([C@H](O)[C@@H](COP([O-])(=O)[O-])O)COP([O-])(=O)OC[C@@H](O)[C@@H](O)[C@@H](O)COP([O-])(=O)OC[C@@H](O)C(O)[C@@H](O)C[R1])=O\n",
      "[09:29:15] SMILES Parse Error: Failed parsing SMILES 'C[C@@H]([NH3+])C(O[C@H]([C@H](O)[C@@H](COP([O-])(=O)[O-])O)COP([O-])(=O)OC[C@@H](O)[C@@H](O)[C@@H](O)COP([O-])(=O)OC[C@@H](O)C(O)[C@@H](O)C[R1])=O' for input: 'C[C@@H]([NH3+])C(O[C@H]([C@H](O)[C@@H](COP([O-])(=O)[O-])O)COP([O-])(=O)OC[C@@H](O)[C@@H](O)[C@@H](O)COP([O-])(=O)OC[C@@H](O)C(O)[C@@H](O)C[R1])=O'\n",
      "[09:29:15] SMILES Parse Error: syntax error while parsing: CCCCCCCCCCCCCCCC(O[C@H](CCCCCCCCCCCC(C)C)CC(N[C@H]%24([C@@H](O[C@H](CO[C@@]%23(C(=O)[O-])(O[C@H]([C@H](O)CO)[C@H](OP(=O)(OC[C@@H](O[C@H]%20(O[C@H](CO)[C@@H](O)[C@H](O[C@H]%19(O[C@H](COP(OCC[NH3+])([O-])=O)[C@@H](O)[C@H](O[C@H]%18(O[C@H](COP(OCC[NH3+])([O-])=O)[C@@H](O)[C@H](O[C@H]%17(O[C@H](CO)[C@@H](O)[C@H](O[C@H]%16(O[C@H](CO)[C@@H](O)[C@H](O[C@H]%15(O[C@H](CO)[C@@H](O)[C@H](O[C@H]%14(O[C@H](CO)[C@@H](O)[C@H](O[C@H]%13(O[C@H](CO)[C@@H](O)[C@H](O[C@@H]1([C@@H]([C@H]([C@H]([C@H](O1)CO)O)O[C@H]2([C@H]([C@H]([C@@H]([C@H](O2)C)O[C@@H]3([C@@H]([C@H]([C@@H]([C@H](O3)CO[C@@H]4([C@@H]([C@H]([C@H]([C@H](O4)CO)O)O[C@H]5([C@@H]([C@H]([C@H]([C@H](O5)CO)O)O[C@H]6([C@H]([C@H]([C@@H]([C@H](O6)C)O[C@@H]7([C@@H]([C@H]([C@@H]([C@H](O7)CO[C@@H]8([C@@H]([C@H]([C@H]([C@H](O8)CO)O)O[C@H]9([C@@H]([C@H]([C@H]([C@H](O9)CO)O)O[C@H]%10([C@H]([C@H]([C@@H]([C@H](O%10)C)O[C@@H]%11([C@@H]([C@H]([C@@H]([C@H](O%11)CO[C@@H]%12([C@@H]([C@H]([C@H]([C@H](O%12)CO)... truncated[09:29:15] SMILES Parse Error: Failed parsing SMILES 'CCCCCCCCCCCCCCCC(O[C@H](CCCCCCCCCCCC(C)C)CC(N[C@H]%24([C@@H](O[C@H](CO[C@@]%23(C(=O)[O-])(O[C@H]([C@H](O)CO)[C@H](OP(=O)(OC[C@@H](O[C@H]%20(O[C@H](CO)[C@@H](O)[C@H](O[C@H]%19(O[C@H](COP(OCC[NH3+])([O-])=O)[C@@H](O)[C@H](O[C@H]%18(O[C@H](COP(OCC[NH3+])([O-])=O)[C@@H](O)[C@H](O[C@H]%17(O[C@H](CO)[C@@H](O)[C@H](O[C@H]%16(O[C@H](CO)[C@@H](O)[C@H](O[C@H]%15(O[C@H](CO)[C@@H](O)[C@H](O[C@H]%14(O[C@H](CO)[C@@H](O)[C@H](O[C@H]%13(O[C@H](CO)[C@@H](O)[C@H](O[C@@H]1([C@@H]([C@H]([C@H]([C@H](O1)CO)O)O[C@H]2([C@H]([C@H]([C@@H]([C@H](O2)C)O[C@@H]3([C@@H]([C@H]([C@@H]([C@H](O3)CO[C@@H]4([C@@H]([C@H]([C@H]([C@H](O4)CO)O)O[C@H]5([C@@H]([C@H]([C@H]([C@H](O5)CO)O)O[C@H]6([C@H]([C@H]([C@@H]([C@H](O6)C)O[C@@H]7([C@@H]([C@H]([C@@H]([C@H](O7)CO[C@@H]8([C@@H]([C@H]([C@H]([C@H](O8)CO)O)O[C@H]9([C@@H]([C@H]([C@H]([C@H](O9)CO)O)O[C@H]%10([C@H]([C@H]([C@@H]([C@H](O%10)C)O[C@@H]%11([C@@H]([C@H]([C@@H]([C@H](O%11)CO[C@@H]%12([C@@H]([C@H]([C@H]([C@H](O%12)CO)O)O[R... truncated"
     ]
    },
    {
     "name": "stdout",
     "output_type": "stream",
     "text": [
      "error ALPHA-D-GLUCOSYLPOLYGLYCEROL-PHOSPHATE\n",
      "error CPD-70\n",
      "error O-DGAL-HEX-0:0\n",
      "error O-DGAL-HEX-0:0_1:ALDI\n",
      "error O-DGLC-HEX-0:0_1:ALDI_6:D\n",
      "error CPD-24250\n",
      "error CPD0-2689\n",
      "error CPD-8577\n",
      "error CPD-7267\n",
      "error CPD-7266\n"
     ]
    },
    {
     "name": "stderr",
     "output_type": "stream",
     "text": [
      "[09:29:16] SMILES Parse Error: syntax error while parsing: COC[C@@H]1([C@H]([C@@H]([C@H]([C@H](O1)O[C@@H]2([C@@H](CO)O[C@@H]([C@@H]([C@H]2O)O)O[R]))O)O)O[C@@H]3([C@@H]([C@H](C([R])[C@@H](CO)O3)O)O))\n",
      "[09:29:16] SMILES Parse Error: Failed parsing SMILES 'COC[C@@H]1([C@H]([C@@H]([C@H]([C@H](O1)O[C@@H]2([C@@H](CO)O[C@@H]([C@@H]([C@H]2O)O)O[R]))O)O)O[C@@H]3([C@@H]([C@H](C([R])[C@@H](CO)O3)O)O))' for input: 'COC[C@@H]1([C@H]([C@@H]([C@H]([C@H](O1)O[C@@H]2([C@@H](CO)O[C@@H]([C@@H]([C@H]2O)O)O[R]))O)O)O[C@@H]3([C@@H]([C@H](C([R])[C@@H](CO)O3)O)O))'\n",
      "[09:29:16] SMILES Parse Error: syntax error while parsing: C2(O[C@@H](O[C@H]1([C@H](O)[C@@H](O)[C@@H](O)OC1))[C@H](O)[C@@H](O)[C@@H]2O[R])\n",
      "[09:29:16] SMILES Parse Error: Failed parsing SMILES 'C2(O[C@@H](O[C@H]1([C@H](O)[C@@H](O)[C@@H](O)OC1))[C@H](O)[C@@H](O)[C@@H]2O[R])' for input: 'C2(O[C@@H](O[C@H]1([C@H](O)[C@@H](O)[C@@H](O)OC1))[C@H](O)[C@@H](O)[C@@H]2O[R])'\n",
      "[09:29:16] SMILES Parse Error: syntax error while parsing: C3([C@@H](O[R])[C@H](O)[C@@H](O)[C@H](O[C@H]2([C@H](O)[C@@H](O)[C@H](O[C@H]1([C@H](O)[C@@H](O)[C@H](O)OC1))OC2))O3)\n",
      "[09:29:16] SMILES Parse Error: Failed parsing SMILES 'C3([C@@H](O[R])[C@H](O)[C@@H](O)[C@H](O[C@H]2([C@H](O)[C@@H](O)[C@H](O[C@H]1([C@H](O)[C@@H](O)[C@H](O)OC1))OC2))O3)' for input: 'C3([C@@H](O[R])[C@H](O)[C@@H](O)[C@H](O[C@H]2([C@H](O)[C@@H](O)[C@H](O[C@H]1([C@H](O)[C@@H](O)[C@H](O)OC1))OC2))O3)'\n",
      "[09:29:16] SMILES Parse Error: syntax error while parsing: C1([R4])(=C([R3])C(=O)C(/[R3])=C([R1])/C(=O)1)\n",
      "[09:29:16] SMILES Parse Error: Failed parsing SMILES 'C1([R4])(=C([R3])C(=O)C(/[R3])=C([R1])/C(=O)1)' for input: 'C1([R4])(=C([R3])C(=O)C(/[R3])=C([R1])/C(=O)1)'\n",
      "[09:29:16] SMILES Parse Error: syntax error while parsing: C1([R4])(=C([R3])C(=O)C(/[R3])=C([R1])/C(=O)1)\n",
      "[09:29:16] SMILES Parse Error: Failed parsing SMILES 'C1([R4])(=C([R3])C(=O)C(/[R3])=C([R1])/C(=O)1)' for input: 'C1([R4])(=C([R3])C(=O)C(/[R3])=C([R1])/C(=O)1)'\n",
      "[09:29:16] SMILES Parse Error: syntax error while parsing: C1([R4])(=C([R3])C(=O)C(/[R3])=C([R1])/C(=O)1)\n",
      "[09:29:16] SMILES Parse Error: Failed parsing SMILES 'C1([R4])(=C([R3])C(=O)C(/[R3])=C([R1])/C(=O)1)' for input: 'C1([R4])(=C([R3])C(=O)C(/[R3])=C([R1])/C(=O)1)'\n",
      "[09:29:16] SMILES Parse Error: syntax error while parsing: C1([R4])(=C([R3])C(=O)C(/[R3])=C([R1])/C(=O)1)\n",
      "[09:29:16] SMILES Parse Error: Failed parsing SMILES 'C1([R4])(=C([R3])C(=O)C(/[R3])=C([R1])/C(=O)1)' for input: 'C1([R4])(=C([R3])C(=O)C(/[R3])=C([R1])/C(=O)1)'\n",
      "[09:29:16] SMILES Parse Error: syntax error while parsing: CC(C)CCCC(\\C)=C/CCC(\\C)=C/CCC(/C)=C/CCC(/C)=C/CCC(/C)=C/CCC(/C)=C/CCC(/C)=C/CCC(/C)=C/CCC(/C)=C/CCC(CCOP(=O)(O[R])[O-])C\n",
      "[09:29:16] SMILES Parse Error: Failed parsing SMILES 'CC(C)CCCC(\\C)=C/CCC(\\C)=C/CCC(/C)=C/CCC(/C)=C/CCC(/C)=C/CCC(/C)=C/CCC(/C)=C/CCC(/C)=C/CCC(/C)=C/CCC(CCOP(=O)(O[R])[O-])C' for input: 'CC(C)CCCC(\\C)=C/CCC(\\C)=C/CCC(/C)=C/CCC(/C)=C/CCC(/C)=C/CCC(/C)=C/CCC(/C)=C/CCC(/C)=C/CCC(/C)=C/CCC(CCOP(=O)(O[R])[O-])C'\n",
      "[09:29:16] SMILES Parse Error: syntax error while parsing: C1([R4])(=C([R3])C(=O)C(/[R3])=C([R1])/C(=O)1)\n",
      "[09:29:16] SMILES Parse Error: Failed parsing SMILES 'C1([R4])(=C([R3])C(=O)C(/[R3])=C([R1])/C(=O)1)' for input: 'C1([R4])(=C([R3])C(=O)C(/[R3])=C([R1])/C(=O)1)'\n"
     ]
    },
    {
     "name": "stdout",
     "output_type": "stream",
     "text": [
      "error CPD-21313\n",
      "error CPD-18194\n",
      "error CPD-21311\n",
      "error CPD-21312\n",
      "error CPD-18236\n",
      "error CPD-18196\n",
      "error CPD-25843\n",
      "error CPD-25863\n",
      "error CPD-24333\n",
      "error CPD-22789\n",
      "error CPD-22791\n",
      "error CPD-22793\n",
      "error CPD-22786\n",
      "error CPD-22787\n",
      "error CPD-22795\n"
     ]
    },
    {
     "name": "stderr",
     "output_type": "stream",
     "text": [
      "[09:29:17] SMILES Parse Error: syntax error while parsing: CC[C@H](C)[C@H](NC(=O)[C@H]([R1])N[a\n",
      "[09:29:17] SMILES Parse Error: Failed parsing SMILES 'CC[C@H](C)[C@H](NC(=O)[C@H]([R1])N[a' for input: 'CC[C@H](C)[C@H](NC(=O)[C@H]([R1])N[a'\n",
      "[09:29:17] SMILES Parse Error: syntax error while parsing: CC[C@H](C)[C@H](NC(=O)[C@H]2(\\N=C([C@@H](NC(=O)[C@H]1(\\N=C([C@H]([C@@H](C)CC)NC(=O)[C@H]([R1])N[a\n",
      "[09:29:17] SMILES Parse Error: Failed parsing SMILES 'CC[C@H](C)[C@H](NC(=O)[C@H]2(\\N=C([C@@H](NC(=O)[C@H]1(\\N=C([C@H]([C@@H](C)CC)NC(=O)[C@H]([R1])N[a' for input: 'CC[C@H](C)[C@H](NC(=O)[C@H]2(\\N=C([C@@H](NC(=O)[C@H]1(\\N=C([C@H]([C@@H](C)CC)NC(=O)[C@H]([R1])N[a'\n",
      "[09:29:17] SMILES Parse Error: syntax error while parsing: CC[C@H](C)[C@@H](C1(\\O[C@@H]([C@H](\\N=1)C(=O)N[C@@H](C(C)C)C2(\\SC[C@H](\\N=2)C(=O)N[C@@H]([C@@H](C)CC)C4(\\OC[C@@H](C(=O)N[C@@H](C(C)C)C3(\\SC[C@H](\\N=3)C(=O)N[C@@H]([R])C(=O)[a\n",
      "[09:29:17] SMILES Parse Error: Failed parsing SMILES 'CC[C@H](C)[C@@H](C1(\\O[C@@H]([C@H](\\N=1)C(=O)N[C@@H](C(C)C)C2(\\SC[C@H](\\N=2)C(=O)N[C@@H]([C@@H](C)CC)C4(\\OC[C@@H](C(=O)N[C@@H](C(C)C)C3(\\SC[C@H](\\N=3)C(=O)N[C@@H]([R])C(=O)[a' for input: 'CC[C@H](C)[C@@H](C1(\\O[C@@H]([C@H](\\N=1)C(=O)N[C@@H](C(C)C)C2(\\SC[C@H](\\N=2)C(=O)N[C@@H]([C@@H](C)CC)C4(\\OC[C@@H](C(=O)N[C@@H](C(C)C)C3(\\SC[C@H](\\N=3)C(=O)N[C@@H]([R])C(=O)[a'\n",
      "[09:29:17] SMILES Parse Error: syntax error while parsing: CC[C@H](C)[C@H](NC(=O)[C@@H](NC(=O)[C@@H](NC(=O)[C@@H](NC(=O)[C@H](C(C)C)NC(=O)[C@H]([R1])N[a\n",
      "[09:29:17] SMILES Parse Error: Failed parsing SMILES 'CC[C@H](C)[C@H](NC(=O)[C@@H](NC(=O)[C@@H](NC(=O)[C@@H](NC(=O)[C@H](C(C)C)NC(=O)[C@H]([R1])N[a' for input: 'CC[C@H](C)[C@H](NC(=O)[C@@H](NC(=O)[C@@H](NC(=O)[C@@H](NC(=O)[C@H](C(C)C)NC(=O)[C@H]([R1])N[a'\n",
      "[09:29:17] SMILES Parse Error: syntax error while parsing: CC[C@H](C)[C@H](NC(=O)[C@H]2(\\N=C([C@@H](NC([C@H]1(\\N=C([C@H](C(C)C)NC(=O)[C@H]([R1])N[a\n",
      "[09:29:17] SMILES Parse Error: Failed parsing SMILES 'CC[C@H](C)[C@H](NC(=O)[C@H]2(\\N=C([C@@H](NC([C@H]1(\\N=C([C@H](C(C)C)NC(=O)[C@H]([R1])N[a' for input: 'CC[C@H](C)[C@H](NC(=O)[C@H]2(\\N=C([C@@H](NC([C@H]1(\\N=C([C@H](C(C)C)NC(=O)[C@H]([R1])N[a'\n",
      "[09:29:17] SMILES Parse Error: syntax error while parsing: CC[C@H](C)[C@H](NC(=O)[C@H]2(\\N=C([C@@H](NC([C@H]1(\\N=C([C@H](C(C)C)[NH3+])/O[C@H](C)1))=O)C)/SC2))C5(\\O[C@H](C)[C@@H](C(=O)N[C@@H](CC3(\\C=C/C=C\\C=3))C4(\\SC[C@H](\\N=4)C(=O)N[C@@H]([R2])C(=O)[a\n",
      "[09:29:17] SMILES Parse Error: Failed parsing SMILES 'CC[C@H](C)[C@H](NC(=O)[C@H]2(\\N=C([C@@H](NC([C@H]1(\\N=C([C@H](C(C)C)[NH3+])/O[C@H](C)1))=O)C)/SC2))C5(\\O[C@H](C)[C@@H](C(=O)N[C@@H](CC3(\\C=C/C=C\\C=3))C4(\\SC[C@H](\\N=4)C(=O)N[C@@H]([R2])C(=O)[a' for input: 'CC[C@H](C)[C@H](NC(=O)[C@H]2(\\N=C([C@@H](NC([C@H]1(\\N=C([C@H](C(C)C)[NH3+])/O[C@H](C)1))=O)C)/SC2))C5(\\O[C@H](C)[C@@H](C(=O)N[C@@H](CC3(\\C=C/C=C\\C=3))C4(\\SC[C@H](\\N=4)C(=O)N[C@@H]([R2])C(=O)[a'\n"
     ]
    },
    {
     "name": "stdout",
     "output_type": "stream",
     "text": [
      "error CPD-12472\n"
     ]
    },
    {
     "name": "stderr",
     "output_type": "stream",
     "text": [
      "[09:29:17] SMILES Parse Error: syntax error while parsing: C1([R4])(=C([R3])C(=O)C(/[R3])=C([R1])/C(=O)1)\n",
      "[09:29:17] SMILES Parse Error: Failed parsing SMILES 'C1([R4])(=C([R3])C(=O)C(/[R3])=C([R1])/C(=O)1)' for input: 'C1([R4])(=C([R3])C(=O)C(/[R3])=C([R1])/C(=O)1)'\n",
      "[09:29:17] Explicit valence for atom # 55 C, 5, is greater than permitted\n",
      "[09:29:17] Explicit valence for atom # 55 C, 5, is greater than permitted\n",
      "[09:29:17] SMILES Parse Error: syntax error while parsing: C1([R4])(=C([R3])C(=O)C(/[R3])=C([R1])/C(=O)1)\n",
      "[09:29:17] SMILES Parse Error: Failed parsing SMILES 'C1([R4])(=C([R3])C(=O)C(/[R3])=C([R1])/C(=O)1)' for input: 'C1([R4])(=C([R3])C(=O)C(/[R3])=C([R1])/C(=O)1)'\n",
      "[09:29:17] SMILES Parse Error: syntax error while parsing: C(OP(=O)([O-])OC[C@@H](O)COP(=O)([O-])OC[C@@H](O)COP(=O)([O-])[O-])[C@H](O)CO[R]\n",
      "[09:29:17] SMILES Parse Error: Failed parsing SMILES 'C(OP(=O)([O-])OC[C@@H](O)COP(=O)([O-])OC[C@@H](O)COP(=O)([O-])[O-])[C@H](O)CO[R]' for input: 'C(OP(=O)([O-])OC[C@@H](O)COP(=O)([O-])OC[C@@H](O)COP(=O)([O-])[O-])[C@H](O)CO[R]'\n",
      "[09:29:17] SMILES Parse Error: syntax error while parsing: C([R2])COC(=O)C1(\\OC(/C(O[R1])=O)=C/C=1)\n",
      "[09:29:17] SMILES Parse Error: Failed parsing SMILES 'C([R2])COC(=O)C1(\\OC(/C(O[R1])=O)=C/C=1)' for input: 'C([R2])COC(=O)C1(\\OC(/C(O[R1])=O)=C/C=1)'\n",
      "[09:29:17] SMILES Parse Error: syntax error while parsing: C([R2])CCCCCCCC[R1]\n",
      "[09:29:17] SMILES Parse Error: Failed parsing SMILES 'C([R2])CCCCCCCC[R1]' for input: 'C([R2])CCCCCCCC[R1]'\n",
      "[09:29:17] SMILES Parse Error: syntax error while parsing: CC(CC(CC(CC(CC([R2])C)C)C)C)[R1]\n",
      "[09:29:17] SMILES Parse Error: Failed parsing SMILES 'CC(CC(CC(CC(CC([R2])C)C)C)C)[R1]' for input: 'CC(CC(CC(CC(CC([R2])C)C)C)C)[R1]'\n",
      "[09:29:17] SMILES Parse Error: syntax error while parsing: CC(C)=CCCC(\\C)=C/CCC(\\C)=C/CCC(/C)=C/CCC(/C)=C/CCC(/C)=C/CCC(/C)=C/CCC(/C)=C/CCC(/C)=C/CCC(/C)=C/CCC(/C)=C/COP(OP(O[C@H]2(O[C@H](CO)[C@@H](O[C@@H]1(O[C@H](CO)[C@@H](O)[C@H](O)[C@@H](NC(=O)C)1))[C@H](O[C@@H](C(=O)N[C@@H](C)C(N[C@H](CCC(=O)N[C@@H](CCC[C@H](C([O-])=O)NC(=O)CC[C@H](C(=O)[O-])NC(=O)CCC(C(=O)[O-])[R])C(N[C@H](C)C(=O)N[C@H](C)C(=O)[O-])=O)C(=O)N)=O)C)[C@@H](NC(=O)C)2))([O-])=O)(=O)[O-]\n",
      "[09:29:17] SMILES Parse Error: Failed parsing SMILES 'CC(C)=CCCC(\\C)=C/CCC(\\C)=C/CCC(/C)=C/CCC(/C)=C/CCC(/C)=C/CCC(/C)=C/CCC(/C)=C/CCC(/C)=C/CCC(/C)=C/CCC(/C)=C/COP(OP(O[C@H]2(O[C@H](CO)[C@@H](O[C@@H]1(O[C@H](CO)[C@@H](O)[C@H](O)[C@@H](NC(=O)C)1))[C@H](O[C@@H](C(=O)N[C@@H](C)C(N[C@H](CCC(=O)N[C@@H](CCC[C@H](C([O-])=O)NC(=O)CC[C@H](C(=O)[O-])NC(=O)CCC(C(=O)[O-])[R])C(N[C@H](C)C(=O)N[C@H](C)C(=O)[O-])=O)C(=O)N)=O)C)[C@@H](NC(=O)C)2))([O-])=O)(=O)[O-]' for input: 'CC(C)=CCCC(\\C)=C/CCC(\\C)=C/CCC(/C)=C/CCC(/C)=C/CCC(/C)=C/CCC(/C)=C/CCC(/C)=C/CCC(/C)=C/CCC(/C)=C/CCC(/C)=C/COP(OP(O[C@H]2(O[C@H](CO)[C@@H](O[C@@H]1(O[C@H](CO)[C@@H](O)[C@H](O)[C@@H](NC(=O)C)1))[C@H](O[C@@H](C(=O)N[C@@H](C)C(N[C@H](CCC(=O)N[C@@H](CCC[C@H](C([O-])=O)NC(=O)CC[C@H](C(=O)[O-])NC(=O)CCC(C(=O)[O-])[R])C(N[C@H](C)C(=O)N[C@H](C)C(=O)[O-])=O)C(=O)N)=O)C)[C@@H](NC(=O)C)2))([O-])=O)(=O)[O-]'\n",
      "[09:29:17] SMILES Parse Error: syntax error while parsing: C(O[R1])COC(=O)C2(\\C=C/C(/C(=O)OCCOC(=O)C1(\\C=C/C(/C(O[R2])=O)=C\\C=1))=C\\C=2)\n",
      "[09:29:17] SMILES Parse Error: Failed parsing SMILES 'C(O[R1])COC(=O)C2(\\C=C/C(/C(=O)OCCOC(=O)C1(\\C=C/C(/C(O[R2])=O)=C\\C=1))=C\\C=2)' for input: 'C(O[R1])COC(=O)C2(\\C=C/C(/C(=O)OCCOC(=O)C1(\\C=C/C(/C(O[R2])=O)=C\\C=1))=C\\C=2)'\n",
      "[09:29:17] SMILES Parse Error: syntax error while parsing: CC(C)=CCCC(\\C)=C/CCC(\\C)=C/CCC(/C)=C/CCC(/C)=C/CCC(/C)=C/CCC(/C)=C/CCC(/C)=C/CCC(/C)=C/CCC(/C)=C/CCC(/C)=C/COP(=O)([O-])OP(O[C@@H]1([C@@H]([C@H]([C@H]([C@H](O1)CO)O)O[C@H]2([C@@H]([C@@H]([C@H]([C@@H](O2)C)O[C@@H]3([C@@H]([C@H]([C@@H]([C@H](O3)CO[C@@H]4([C@@H]([C@H]([C@H]([C@H](O4)CO)O)O[C@H]5([C@@H]([C@H]([C@H]([C@H](O5)CO)O)O[C@H]6([C@@H]([C@@H]([C@H]([C@@H](O6)C)O[C@@H]7([C@@H]([C@H]([C@@H]([C@H](O7)CO[C@@H]8([C@@H]([C@H]([C@H]([C@H](O8)CO)O)O[C@H]9([C@@H]([C@H]([C@H]([C@H](O9)CO)O)O[C@H]%10([C@@H]([C@@H]([C@H]([C@@H](O%10)C)O[C@@H]%11([C@@H]([C@H]([C@@H]([C@H](O%11)CO[C@@H]%12([C@@H]([C@H]([C@H]([C@H](O%12)CO)O)O[R])O))O)O)O))O)O))O))O))O)O)O))O)O))O))O))O)O)O))O)O))O))([O-])=O\n",
      "[09:29:17] SMILES Parse Error: Failed parsing SMILES 'CC(C)=CCCC(\\C)=C/CCC(\\C)=C/CCC(/C)=C/CCC(/C)=C/CCC(/C)=C/CCC(/C)=C/CCC(/C)=C/CCC(/C)=C/CCC(/C)=C/CCC(/C)=C/COP(=O)([O-])OP(O[C@@H]1([C@@H]([C@H]([C@H]([C@H](O1)CO)O)O[C@H]2([C@@H]([C@@H]([C@H]([C@@H](O2)C)O[C@@H]3([C@@H]([C@H]([C@@H]([C@H](O3)CO[C@@H]4([C@@H]([C@H]([C@H]([C@H](O4)CO)O)O[C@H]5([C@@H]([C@H]([C@H]([C@H](O5)CO)O)O[C@H]6([C@@H]([C@@H]([C@H]([C@@H](O6)C)O[C@@H]7([C@@H]([C@H]([C@@H]([C@H](O7)CO[C@@H]8([C@@H]([C@H]([C@H]([C@H](O8)CO)O)O[C@H]9([C@@H]([C@H]([C@H]([C@H](O9)CO)O)O[C@H]%10([C@@H]([C@@H]([C@H]([C@@H](O%10)C)O[C@@H]%11([C@@H]([C@H]([C@@H]([C@H](O%11)CO[C@@H]%12([C@@H]([C@H]([C@H]([C@H](O%12)CO)O)O[R])O))O)O)O))O)O))O))O))O)O)O))O)O))O))O))O)O)O))O)O))O))([O-])=O' for input: 'CC(C)=CCCC(\\C)=C/CCC(\\C)=C/CCC(/C)=C/CCC(/C)=C/CCC(/C)=C/CCC(/C)=C/CCC(/C)=C/CCC(/C)=C/CCC(/C)=C/CCC(/C)=C/COP(=O)([O-])OP(O[C@@H]1([C@@H]([C@H]([C@H]([C@H](O1)CO)O)O[C@H]2([C@@H]([C@@H]([C@H]([C@@H](O2)C)O[C@@H]3([C@@H]([C@H]([C@@H]([C@H](O3)... truncated"
     ]
    },
    {
     "name": "stdout",
     "output_type": "stream",
     "text": [
      "error 2-METHYL-3-PHYTYL-14-NAPHTHOQUINONE\n",
      "error CPD-9089\n",
      "error CPD-9090\n",
      "error PLASTOQUINONE-9\n",
      "error GLYCEROPHOSPHATEN1\n",
      "error CPD-22498\n",
      "error CPD-23217\n",
      "error CPD-23216\n",
      "error CPD-26430\n",
      "error CPD-19188\n",
      "error CPD-24130\n",
      "error CPD-22893\n",
      "error CPD-22882\n",
      "error KCL\n",
      "error CPD-7082\n",
      "error CPD0-1421\n",
      "error CPD-22950\n",
      "error CPD-22929\n",
      "error CPD-22903\n",
      "error CPD-22928\n",
      "error CPD0-2391\n",
      "error CPD0-2692\n",
      "error CPD1G01-3\n",
      "error CPD-18030\n"
     ]
    },
    {
     "name": "stderr",
     "output_type": "stream",
     "text": [
      "[09:29:18] Conflicting single bond directions around double bond at index 22.\n",
      "[09:29:18]   BondStereo set to STEREONONE and single bond directions set to NONE.\n",
      "[09:29:18] SMILES Parse Error: syntax error while parsing: CC1(\\C(\\OC)=C(C2(/[C@H](CNC(=O)[C@@H](NC([R])=O)C)N5([C@@H](CC(\\C=1)=2)[C@@H]3(N[C@H](CC4(/C\\3=C(C(/OC)=C(C)\\C(\\O)=4)/O))[C@H](O)5))))\\O)\n",
      "[09:29:18] SMILES Parse Error: Failed parsing SMILES 'CC1(\\C(\\OC)=C(C2(/[C@H](CNC(=O)[C@@H](NC([R])=O)C)N5([C@@H](CC(\\C=1)=2)[C@@H]3(N[C@H](CC4(/C\\3=C(C(/OC)=C(C)\\C(\\O)=4)/O))[C@H](O)5))))\\O)' for input: 'CC1(\\C(\\OC)=C(C2(/[C@H](CNC(=O)[C@@H](NC([R])=O)C)N5([C@@H](CC(\\C=1)=2)[C@@H]3(N[C@H](CC4(/C\\3=C(C(/OC)=C(C)\\C(\\O)=4)/O))[C@H](O)5))))\\O)'\n",
      "[09:29:18] Conflicting single bond directions around double bond at index 24.\n",
      "[09:29:18]   BondStereo set to STEREONONE and single bond directions set to NONE.\n",
      "[09:29:18] Conflicting single bond directions around double bond at index 15.\n",
      "[09:29:18]   BondStereo set to STEREONONE and single bond directions set to NONE.\n",
      "[09:29:18] Conflicting single bond directions around double bond at index 10.\n",
      "[09:29:18]   BondStereo set to STEREONONE and single bond directions set to NONE.\n",
      "[09:29:18] Conflicting single bond directions around double bond at index 12.\n",
      "[09:29:18]   BondStereo set to STEREONONE and single bond directions set to NONE.\n",
      "[09:29:18] Conflicting single bond directions around double bond at index 17.\n",
      "[09:29:18]   BondStereo set to STEREONONE and single bond directions set to NONE.\n",
      "[09:29:18] SMILES Parse Error: syntax error while parsing: C([R])C(=O)N[C@H](C(N[C@@H]([C@@H](O)C[C@H](O)[C@H]([NH3+])[C@H](O)[C@@H](O)C(=O)N[C@H](C(=O)N)CNC(N)=O)CO)=O)CC(=O)N\n",
      "[09:29:18] SMILES Parse Error: Failed parsing SMILES 'C([R])C(=O)N[C@H](C(N[C@@H]([C@@H](O)C[C@H](O)[C@H]([NH3+])[C@H](O)[C@@H](O)C(=O)N[C@H](C(=O)N)CNC(N)=O)CO)=O)CC(=O)N' for input: 'C([R])C(=O)N[C@H](C(N[C@@H]([C@@H](O)C[C@H](O)[C@H]([NH3+])[C@H](O)[C@@H](O)C(=O)N[C@H](C(=O)N)CNC(N)=O)CO)=O)CC(=O)N'\n",
      "[09:29:18] SMILES Parse Error: syntax error while parsing: C[C@@H](C(SCCNC(=O)CCNC([C@H](O)C(C)(C)COP(=O)([O-])OC[C@H](N[a\n",
      "[09:29:18] SMILES Parse Error: Failed parsing SMILES 'C[C@@H](C(SCCNC(=O)CCNC([C@H](O)C(C)(C)COP(=O)([O-])OC[C@H](N[a' for input: 'C[C@@H](C(SCCNC(=O)CCNC([C@H](O)C(C)(C)COP(=O)([O-])OC[C@H](N[a'\n"
     ]
    },
    {
     "name": "stdout",
     "output_type": "stream",
     "text": [
      "error CPD-18258\n",
      "error CPD-18264\n",
      "error CPD-9946\n",
      "error CPD-22909\n",
      "error CPD-22915\n",
      "error CPD-22901\n",
      "error CPD-22933\n",
      "error CPD185E-7\n"
     ]
    },
    {
     "name": "stderr",
     "output_type": "stream",
     "text": [
      "[09:29:18] SMILES Parse Error: syntax error while parsing: C/C=C/C1(/C=C(\\C=C/C(OC([R])=O)=1)/OC)\n",
      "[09:29:18] SMILES Parse Error: Failed parsing SMILES 'C/C=C/C1(/C=C(\\C=C/C(OC([R])=O)=1)/OC)' for input: 'C/C=C/C1(/C=C(\\C=C/C(OC([R])=O)=1)/OC)'\n",
      "[09:29:18] SMILES Parse Error: syntax error while parsing: C(SSC([R2])[R1])([R4])[R3]\n",
      "[09:29:18] SMILES Parse Error: Failed parsing SMILES 'C(SSC([R2])[R1])([R4])[R3]' for input: 'C(SSC([R2])[R1])([R4])[R3]'\n"
     ]
    },
    {
     "name": "stdout",
     "output_type": "stream",
     "text": [
      "error CPD-8529\n",
      "error CPD-9613\n",
      "error CPD-9967\n"
     ]
    },
    {
     "name": "stderr",
     "output_type": "stream",
     "text": [
      "[09:29:18] Conflicting single bond directions around double bond at index 12.\n",
      "[09:29:18]   BondStereo set to STEREONONE and single bond directions set to NONE.\n",
      "[09:29:18] Conflicting single bond directions around double bond at index 17.\n",
      "[09:29:18]   BondStereo set to STEREONONE and single bond directions set to NONE.\n",
      "[09:29:18] SMILES Parse Error: syntax error while parsing: C1([R4])(=C([R3])C(=O)C(/[R3])=C([R1])/C(=O)1)\n",
      "[09:29:18] SMILES Parse Error: Failed parsing SMILES 'C1([R4])(=C([R3])C(=O)C(/[R3])=C([R1])/C(=O)1)' for input: 'C1([R4])(=C([R3])C(=O)C(/[R3])=C([R1])/C(=O)1)'\n",
      "[09:29:18] SMILES Parse Error: syntax error while parsing: C1([R4])(=C([R3])C(=O)C(/[R3])=C([R1])/C(=O)1)\n",
      "[09:29:18] SMILES Parse Error: Failed parsing SMILES 'C1([R4])(=C([R3])C(=O)C(/[R3])=C([R1])/C(=O)1)' for input: 'C1([R4])(=C([R3])C(=O)C(/[R3])=C([R1])/C(=O)1)'\n",
      "[09:29:18] SMILES Parse Error: syntax error while parsing: CC(CS[R])C(=O)[O-]\n",
      "[09:29:18] SMILES Parse Error: Failed parsing SMILES 'CC(CS[R])C(=O)[O-]' for input: 'CC(CS[R])C(=O)[O-]'\n",
      "[09:29:18] SMILES Parse Error: syntax error while parsing: [R][X]\n",
      "[09:29:18] SMILES Parse Error: Failed parsing SMILES '[R][X]' for input: '[R][X]'\n"
     ]
    },
    {
     "name": "stdout",
     "output_type": "stream",
     "text": [
      "error CPD-42\n",
      "error RX\n",
      "error CPD-24139\n",
      "error CPD-24032\n",
      "error CPD-24003\n",
      "error CPD-24191\n",
      "error CPD-24013\n",
      "error CPD-23912\n",
      "error CPD-23914\n",
      "error CPD-24173\n",
      "error CPD-24006\n"
     ]
    },
    {
     "name": "stderr",
     "output_type": "stream",
     "text": [
      "[09:29:18] SMILES Parse Error: syntax error while parsing: CC(C)=CCCC(/C)=C/CCC(/C)=C/CCC(/C)=C/CCC(/C)=C/CCC(/C)=C/CCC(/C)=C/CCC(/C)=C/CCC(/C)=C/CCC(/C)=C/CCC(/C)=C/COP(=O)([O-])OP(=O)([O-])O[C@H]%12(O[C@H](CO)[C@@H](O)[C@H](O[C@H]%11(O[C@H](CO)[C@H](O)[C@H](O[C@@H]%10(O[C@H](CO)[C@H](O)[C@H](O)[C@@H](O[C@H]1([C@H]([C@@H]([C@@H]([C@@H](O1)C)O)O)O[C@H]9(O[C@H](CO)[C@@H](O)[C@H](O[C@H]8(O[C@H](CO)[C@H](O)[C@H](O[C@@H]7(O[C@H](CO)[C@H](O)[C@H](O)[C@@H](O[C@H]2([C@H]([C@@H]([C@@H]([C@@H](O2)C)O)O)O[C@H]6(O[C@H](CO)[C@@H](O)[C@H](O[C@H]5(O[C@H](CO)[C@H](O)[C@H](O[C@@H]4(O[C@H](CO)[C@H](O)[C@H](O)[C@@H](O[C@H]3([C@H]([C@@H]([C@@H]([C@@H](O3)C)O)O)O[R]))4))[C@@H](NC(C)=O)5))[C@@H](NC(C)=O)6)))7))[C@@H](NC(C)=O)8))[C@@H](NC(C)=O)9)))%10))[C@@H](NC(C)=O)%11))[C@@H](NC(C)=O)%12)\n",
      "[09:29:18] SMILES Parse Error: Failed parsing SMILES 'CC(C)=CCCC(/C)=C/CCC(/C)=C/CCC(/C)=C/CCC(/C)=C/CCC(/C)=C/CCC(/C)=C/CCC(/C)=C/CCC(/C)=C/CCC(/C)=C/CCC(/C)=C/COP(=O)([O-])OP(=O)([O-])O[C@H]%12(O[C@H](CO)[C@@H](O)[C@H](O[C@H]%11(O[C@H](CO)[C@H](O)[C@H](O[C@@H]%10(O[C@H](CO)[C@H](O)[C@H](O)[C@@H](O[C@H]1([C@H]([C@@H]([C@@H]([C@@H](O1)C)O)O)O[C@H]9(O[C@H](CO)[C@@H](O)[C@H](O[C@H]8(O[C@H](CO)[C@H](O)[C@H](O[C@@H]7(O[C@H](CO)[C@H](O)[C@H](O)[C@@H](O[C@H]2([C@H]([C@@H]([C@@H]([C@@H](O2)C)O)O)O[C@H]6(O[C@H](CO)[C@@H](O)[C@H](O[C@H]5(O[C@H](CO)[C@H](O)[C@H](O[C@@H]4(O[C@H](CO)[C@H](O)[C@H](O)[C@@H](O[C@H]3([C@H]([C@@H]([C@@H]([C@@H](O3)C)O)O)O[R]))4))[C@@H](NC(C)=O)5))[C@@H](NC(C)=O)6)))7))[C@@H](NC(C)=O)8))[C@@H](NC(C)=O)9)))%10))[C@@H](NC(C)=O)%11))[C@@H](NC(C)=O)%12)' for input: 'CC(C)=CCCC(/C)=C/CCC(/C)=C/CCC(/C)=C/CCC(/C)=C/CCC(/C)=C/CCC(/C)=C/CCC(/C)=C/CCC(/C)=C/CCC(/C)=C/CCC(/C)=C/COP(=O)([O-])OP(=O)([O-])O[C@H]%12(O[C@H](CO)[C@@H](O)[C@H](O[C@H]%11(O[C@H](CO)[C@H](O)[C@H](O[C@@H]%10... truncated[09:29:18] SMILES Parse Error: syntax error while parsing: CC(C)=CCCC(\\C)=C/CCC(\\C)=C/CCC(/C)=C/CCC(/C)=C/CCC(/C)=C/CCC(/C)=C/CCC(/C)=C/CCC(/C)=C/CCC(/C)=C/CCC(/C)=C/COP(=O)([O-])OP([O-])(=O)O[C@@H]1([C@@H]([C@H]([C@H]([C@H](O1)CO)O)O[C@@H]%12(O[C@H](CO)[C@@H](O)[C@H](O)[C@H](O[C@H]%11(O[C@H](CO)[C@@H](O)[C@H](O)[C@H](O[C@H]%10(O[C@H](CO)[C@@H](O[C@@H]2([C@@H]([C@H]([C@H]([C@H](O2)CO)O)O[C@@H]9(O[C@H](CO)[C@@H](O)[C@H](O)[C@H](O[C@H]8(O[C@H](CO)[C@@H](O)[C@H](O)[C@H](O[C@H]7(O[C@H](CO)[C@@H](O[C@@H]3([C@@H]([C@H]([C@H]([C@H](O3)CO)O)O[C@@H]6(O[C@H](CO)[C@@H](O)[C@H](O)[C@H](O[C@H]5(O[C@H](CO)[C@@H](O)[C@H](O)[C@H](O[C@H]4(O[C@H](CO)[C@@H](O[R])[C@H](O)[C@H](O)4))5))6))NC(C)=O))[C@H](O)[C@H](O)7))8))9))NC(C)=O))[C@H](O)[C@H](O)%10))%11))%12))NC(C)=O)\n",
      "[09:29:18] SMILES Parse Error: Failed parsing SMILES 'CC(C)=CCCC(\\C)=C/CCC(\\C)=C/CCC(/C)=C/CCC(/C)=C/CCC(/C)=C/CCC(/C)=C/CCC(/C)=C/CCC(/C)=C/CCC(/C)=C/CCC(/C)=C/COP(=O)([O-])OP([O-])(=O)O[C@@H]1([C@@H]([C@H]([C@H]([C@H](O1)CO)O)O[C@@H]%12(O[C@H](CO)[C@@H](O)[C@H](O)[C@H](O[C@H]%11(O[C@H](CO)[C@@H](O)[C@H](O)[C@H](O[C@H]%10(O[C@H](CO)[C@@H](O[C@@H]2([C@@H]([C@H]([C@H]([C@H](O2)CO)O)O[C@@H]9(O[C@H](CO)[C@@H](O)[C@H](O)[C@H](O[C@H]8(O[C@H](CO)[C@@H](O)[C@H](O)[C@H](O[C@H]7(O[C@H](CO)[C@@H](O[C@@H]3([C@@H]([C@H]([C@H]([C@H](O3)CO)O)O[C@@H]6(O[C@H](CO)[C@@H](O)[C@H](O)[C@H](O[C@H]5(O[C@H](CO)[C@@H](O)[C@H](O)[C@H](O[C@H]4(O[C@H](CO)[C@@H](O[R])[C@H](O)[C@H](O)4))5))6))NC(C)=O))[C@H](O)[C@H](O)7))8))9))NC(C)=O))[C@H](O)[C@H](O)%10))%11))%12))NC(C)=O)' for input: 'CC(C)=CCCC(\\C)=C/CCC(\\C)=C/CCC(/C)=C/CCC(/C)=C/CCC(/C)=C/CCC(/C)=C/CCC(/C)=C/CCC(/C)=C/CCC(/C)=C/CCC(/C)=C/COP(=O)([O-])OP([O-])(=O)O[C@@H]1([C@@H]([C@H]([C@H]([C@H](O1)CO)O)O[C@@H]%12(O[C@H](CO)[C@@H](O)[C@H](O)[C@H](O[C@H]%11(O[C@... truncated[09:29:18] SMILES Parse Error: syntax error while parsing: CC(C)=CCCC(\\C)=C/CCC(\\C)=C/CCC(/C)=C/CCC(/C)=C/CCC(/C)=C/CCC(/C)=C/CCC(/C)=C/CCC(/C)=C/CCC(/C)=C/CCC(/C)=C/COP(=O)([O-])OP(O[C@@H]1([C@@H]([C@H]([C@H]([C@H](O1)CO)O)O[C@H]2([C@@H]([C@@H]([C@H]([C@@H](O2)C)O[C@@H]3([C@H]([C@H]([C@H](O)[C@H](O3)CO)O[C@@H]4([C@@H](C[C@@H]([C@H](O4)C)O)O))O[C@@H]5([C@@H]([C@H]([C@H]([C@H](O5)CO)O)O[C@H]6([C@@H]([C@@H]([C@H]([C@@H](O6)C)O[C@@H]7([C@H]([C@H]([C@H](O)[C@H](O7)CO)O[C@@H]8([C@@H](C[C@@H]([C@H](O8)C)O)O))O[C@@H]9([C@@H]([C@H]([C@H]([C@H](O9)CO)O)O[C@H]%10([C@@H]([C@@H]([C@H]([C@@H](O%10)C)O[C@@H]%11([C@H]([C@H]([C@H](O)[C@H](O%11)CO)O[C@@H]%12([C@@H](C[C@@H]([C@H](O%12)C)O)O))O[R]))O)O))O)))O)O))O)))O)O))O))([O-])=O\n",
      "[09:29:18] SMILES Parse Error: Failed parsing SMILES 'CC(C)=CCCC(\\C)=C/CCC(\\C)=C/CCC(/C)=C/CCC(/C)=C/CCC(/C)=C/CCC(/C)=C/CCC(/C)=C/CCC(/C)=C/CCC(/C)=C/CCC(/C)=C/COP(=O)([O-])OP(O[C@@H]1([C@@H]([C@H]([C@H]([C@H](O1)CO)O)O[C@H]2([C@@H]([C@@H]([C@H]([C@@H](O2)C)O[C@@H]3([C@H]([C@H]([C@H](O)[C@H](O3)CO)O[C@@H]4([C@@H](C[C@@H]([C@H](O4)C)O)O))O[C@@H]5([C@@H]([C@H]([C@H]([C@H](O5)CO)O)O[C@H]6([C@@H]([C@@H]([C@H]([C@@H](O6)C)O[C@@H]7([C@H]([C@H]([C@H](O)[C@H](O7)CO)O[C@@H]8([C@@H](C[C@@H]([C@H](O8)C)O)O))O[C@@H]9([C@@H]([C@H]([C@H]([C@H](O9)CO)O)O[C@H]%10([C@@H]([C@@H]([C@H]([C@@H](O%10)C)O[C@@H]%11([C@H]([C@H]([C@H](O)[C@H](O%11)CO)O[C@@H]%12([C@@H](C[C@@H]([C@H](O%12)C)O)O))O[R]))O)O))O)))O)O))O)))O)O))O))([O-])=O' for input: 'CC(C)=CCCC(\\C)=C/CCC(\\C)=C/CCC(/C)=C/CCC(/C)=C/CCC(/C)=C/CCC(/C)=C/CCC(/C)=C/CCC(/C)=C/CCC(/C)=C/CCC(/C)=C/COP(=O)([O-])OP(O[C@@H]1([C@@H]([C@H]([C@H]([C@H](O1)CO)O)O[C@H]2([C@@H]([C@@H]([C@H]([C@@H](O2)C)O[C@@H]3([C@H]([C@H]([C@H](O)[C@H](O3)CO)O[C@@H]4([C@@H](C[C@@H... truncated[09:29:18] SMILES Parse Error: syntax error while parsing: CC(C)=CCCC(\\C)=C/CCC(\\C)=C/CCC(/C)=C/CCC(/C)=C/CCC(/C)=C/CCC(/C)=C/CCC(/C)=C/CCC(/C)=C/CCC(/C)=C/CCC(/C)=C/COP(=O)([O-])OP([O-])(=O)O[C@@H]1([C@@H]([C@H]([C@H]([C@H](O1)CO)O[C@H]2([C@@H]([C@H]([C@@H]([C@H](O2)CO)O)O)O))O[C@@H]%15(O[C@H](CO)[C@H](O[C@@H]%14(O[C@@H](C)[C@H](O)[C@@H](O[C@@H]%13([C@@H]([C@H]([C@H](O[C@@H]3([C@@H]([C@H]([C@H]([C@H](O3)CO)O[C@H]4([C@@H]([C@H]([C@@H]([C@H](O4)CO)O)O)O))O[C@@H]%12(O[C@H](CO)[C@H](O[C@@H]%11(O[C@@H](C)[C@H](O)[C@@H](O[C@@H]%10([C@@H]([C@H]([C@H](O[C@@H]5([C@@H]([C@H]([C@H]([C@H](O5)CO)O[C@H]6([C@@H]([C@H]([C@@H]([C@H](O6)CO)O)O)O))O[C@@H]9(O[C@H](CO)[C@H](O[C@@H]8(O[C@@H](C)[C@H](O)[C@@H](O[C@@H]7([C@@H]([C@H]([C@H](O[R])[C@H](O7)C)NC(C)=O)O))[C@@H](O)8))[C@H](O)[C@@H](O)9))NC(C)=O))[C@H](O%10)C)NC(C)=O)O))[C@@H](O)%11))[C@H](O)[C@@H](O)%12))NC(C)=O))[C@H](O%13)C)NC(C)=O)O))[C@@H](O)%14))[C@H](O)[C@@H](O)%15))NC(C)=O)\n",
      "[09:29:18] SMILES Parse Error: Failed parsing SMILES 'CC(C)=CCCC(\\C)=C/CCC(\\C)=C/CCC(/C)=C/CCC(/C)=C/CCC(/C)=C/CCC(/C)=C/CCC(/C)=C/CCC(/C)=C/CCC(/C)=C/CCC(/C)=C/COP(=O)([O-])OP([O-])(=O)O[C@@H]1([C@@H]([C@H]([C@H]([C@H](O1)CO)O[C@H]2([C@@H]([C@H]([C@@H]([C@H](O2)CO)O)O)O))O[C@@H]%15(O[C@H](CO)[C@H](O[C@@H]%14(O[C@@H](C)[C@H](O)[C@@H](O[C@@H]%13([C@@H]([C@H]([C@H](O[C@@H]3([C@@H]([C@H]([C@H]([C@H](O3)CO)O[C@H]4([C@@H]([C@H]([C@@H]([C@H](O4)CO)O)O)O))O[C@@H]%12(O[C@H](CO)[C@H](O[C@@H]%11(O[C@@H](C)[C@H](O)[C@@H](O[C@@H]%10([C@@H]([C@H]([C@H](O[C@@H]5([C@@H]([C@H]([C@H]([C@H](O5)CO)O[C@H]6([C@@H]([C@H]([C@@H]([C@H](O6)CO)O)O)O))O[C@@H]9(O[C@H](CO)[C@H](O[C@@H]8(O[C@@H](C)[C@H](O)[C@@H](O[C@@H]7([C@@H]([C@H]([C@H](O[R])[C@H](O7)C)NC(C)=O)O))[C@@H](O)8))[C@H](O)[C@@H](O)9))NC(C)=O))[C@H](O%10)C)NC(C)=O)O))[C@@H](O)%11))[C@H](O)[C@@H](O)%12))NC(C)=O))[C@H](O%13)C)NC(C)=O)O))[C@@H](O)%14))[C@H](O)[C@@H](O)%15))NC(C)=O)' for input: 'CC(C)=CCCC(\\C)=C/CCC(\\C)=C/CCC(/C)=C/CCC(/C)=C/CCC(/C)=C/CCC(... truncated[09:29:18] SMILES Parse Error: syntax error while parsing: CC(C)=CCCC(\\C)=C/CCC(\\C)=C/CCC(/C)=C/CCC(/C)=C/CCC(/C)=C/CCC(/C)=C/CCC(/C)=C/CCC(/C)=C/CCC(/C)=C/CCC(/C)=C/COP(=O)([O-])OP(O[C@@H]1([C@@H]([C@H]([C@H]([C@H](O1)CO)O)O[C@H]2([C@@H]([C@@H]([C@H]([C@@H](O2)C)O[C@H]3([C@H]([C@H]([C@@H]([C@H](O3)CO[C@@H]4([C@@H]([C@H]([C@H]([C@H](O4)CO)O)O[C@H]5([C@@H]([C@@H]([C@H]([C@@H](O5)C)O[C@H]6([C@H]([C@H]([C@@H]([C@H](O6)CO[C@@H]7([C@@H]([C@H]([C@H]([C@H](O7)CO)O)O[C@H]8([C@@H]([C@@H]([C@H]([C@@H](O8)C)O[C@H]9([C@H]([C@H]([C@@H]([C@H](O9)CO[R])O)O)O))O)O))O))O)O)O))O)O))O))O)O)O))O)O))O))([O-])=O\n",
      "[09:29:18] SMILES Parse Error: Failed parsing SMILES 'CC(C)=CCCC(\\C)=C/CCC(\\C)=C/CCC(/C)=C/CCC(/C)=C/CCC(/C)=C/CCC(/C)=C/CCC(/C)=C/CCC(/C)=C/CCC(/C)=C/CCC(/C)=C/COP(=O)([O-])OP(O[C@@H]1([C@@H]([C@H]([C@H]([C@H](O1)CO)O)O[C@H]2([C@@H]([C@@H]([C@H]([C@@H](O2)C)O[C@H]3([C@H]([C@H]([C@@H]([C@H](O3)CO[C@@H]4([C@@H]([C@H]([C@H]([C@H](O4)CO)O)O[C@H]5([C@@H]([C@@H]([C@H]([C@@H](O5)C)O[C@H]6([C@H]([C@H]([C@@H]([C@H](O6)CO[C@@H]7([C@@H]([C@H]([C@H]([C@H](O7)CO)O)O[C@H]8([C@@H]([C@@H]([C@H]([C@@H](O8)C)O[C@H]9([C@H]([C@H]([C@@H]([C@H](O9)CO[R])O)O)O))O)O))O))O)O)O))O)O))O))O)O)O))O)O))O))([O-])=O' for input: 'CC(C)=CCCC(\\C)=C/CCC(\\C)=C/CCC(/C)=C/CCC(/C)=C/CCC(/C)=C/CCC(/C)=C/CCC(/C)=C/CCC(/C)=C/CCC(/C)=C/CCC(/C)=C/COP(=O)([O-])OP(O[C@@H]1([C@@H]([C@H]([C@H]([C@H](O1)CO)O)O[C@H]2([C@@H]([C@@H]([C@H]([C@@H](O2)C)O[C@H]3([C@H]([C@H]([C@@H]([C@H](O3)CO[C@@H]4([C@@H]([C@H]([C@H]([C@H](O4)CO)O)O[C@H]5([C@@H]([C@@H]([C@H]([C@@H](O5)C)O[C@H]6([C@H]([C@H]([C@@H]([C@H](O6)CO[C@@H]7([C@@H]([C@H]([C@H]([C@H]... truncated[09:29:18] SMILES Parse Error: syntax error while parsing: CC(C)=CCCC(\\C)=C/CCC(\\C)=C/CCC(/C)=C/CCC(/C)=C/CCC(/C)=C/CCC(/C)=C/CCC(/C)=C/CCC(/C)=C/CCC(/C)=C/CCC(/C)=C/COP(=O)([O-])OP([O-])(=O)O[C@@H]1([C@@H]([C@H]([C@H]([C@H](O1)CO)O)O[C@@H]%12(O[C@H](COC(=O)C)[C@@H](O[C@H]2([C@H]([C@@H]([C@@H]([C@@H](O2)C)O)O[C@@H]3([C@H]([C@H]([C@@H]([C@H](O3)C)NC(=O)C)O)O[C@@H]4([C@@H]([C@H]([C@H]([C@H](O4)CO)O)O[C@@H]%11(O[C@H](COC(=O)C)[C@@H](O[C@H]5([C@H]([C@@H]([C@@H]([C@@H](O5)C)O)O[C@@H]6([C@H]([C@H]([C@@H]([C@H](O6)C)NC(=O)C)O)O[C@@H]7([C@@H]([C@H]([C@H]([C@H](O7)CO)O)O[C@@H]%10(O[C@H](COC(=O)C)[C@@H](O[C@H]8([C@H]([C@@H]([C@@H]([C@@H](O8)C)O)O[C@@H]9([C@H]([C@H]([C@@H]([C@H](O9)C)NC(=O)C)O)O[R]))O))[C@H](O)[C@@H](O)%10))NC(C)=O)))O))[C@H](O)[C@@H](O)%11))NC(C)=O)))O))[C@H](O)[C@@H](O)%12))NC(C)=O)\n",
      "[09:29:18] SMILES Parse Error: Failed parsing SMILES 'CC(C)=CCCC(\\C)=C/CCC(\\C)=C/CCC(/C)=C/CCC(/C)=C/CCC(/C)=C/CCC(/C)=C/CCC(/C)=C/CCC(/C)=C/CCC(/C)=C/CCC(/C)=C/COP(=O)([O-])OP([O-])(=O)O[C@@H]1([C@@H]([C@H]([C@H]([C@H](O1)CO)O)O[C@@H]%12(O[C@H](COC(=O)C)[C@@H](O[C@H]2([C@H]([C@@H]([C@@H]([C@@H](O2)C)O)O[C@@H]3([C@H]([C@H]([C@@H]([C@H](O3)C)NC(=O)C)O)O[C@@H]4([C@@H]([C@H]([C@H]([C@H](O4)CO)O)O[C@@H]%11(O[C@H](COC(=O)C)[C@@H](O[C@H]5([C@H]([C@@H]([C@@H]([C@@H](O5)C)O)O[C@@H]6([C@H]([C@H]([C@@H]([C@H](O6)C)NC(=O)C)O)O[C@@H]7([C@@H]([C@H]([C@H]([C@H](O7)CO)O)O[C@@H]%10(O[C@H](COC(=O)C)[C@@H](O[C@H]8([C@H]([C@@H]([C@@H]([C@@H](O8)C)O)O[C@@H]9([C@H]([C@H]([C@@H]([C@H](O9)C)NC(=O)C)O)O[R]))O))[C@H](O)[C@@H](O)%10))NC(C)=O)))O))[C@H](O)[C@@H](O)%11))NC(C)=O)))O))[C@H](O)[C@@H](O)%12))NC(C)=O)' for input: 'CC(C)=CCCC(\\C)=C/CCC(\\C)=C/CCC(/C)=C/CCC(/C)=C/CCC(/C)=C/CCC(/C)=C/CCC(/C)=C/CCC(/C)=C/CCC(/C)=C/CCC(/C)=C/COP(=O)([O-])OP([O-])(=O)O[C@@H]1([C@@H]([C@H]([C@H]([C@H](O1)CO)O)O[C@@H]%12(O[C@H... truncated[09:29:18] SMILES Parse Error: syntax error while parsing: CC(C)=CCCC(\\C)=C/CCC(\\C)=C/CCC(/C)=C/CCC(/C)=C/CCC(/C)=C/CCC(/C)=C/CCC(/C)=C/CCC(/C)=C/CCC(/C)=C/CCC(/C)=C/COP(=O)([O-])OP([O-])(=O)O[C@@H]1([C@@H]([C@H]([C@H]([C@H](O1)CO)O[C@H]2([C@@H]([C@H]([C@H]([C@H](O2)CO)O)O)O))O[C@@H]%15(O[C@H](CO)[C@@H](O[C@H]3([C@H]([C@@H]([C@@H]([C@@H](O3)C)O)O[C@@H]4([C@H]([C@H]([C@@H]([C@H](O4)C)NC(=O)C)O)O[C@@H]5([C@@H]([C@H]([C@H]([C@H](O5)CO)O[C@H]6([C@@H]([C@H]([C@H]([C@H](O6)CO)O)O)O))O[C@@H]%14(O[C@H](CO)[C@@H](O[C@H]7([C@H]([C@@H]([C@@H]([C@@H](O7)C)O)O[C@@H]8([C@H]([C@H]([C@@H]([C@H](O8)C)NC(=O)C)O)O[C@@H]9([C@@H]([C@H]([C@H]([C@H](O9)CO)O[C@H]%10([C@@H]([C@H]([C@H]([C@H](O%10)CO)O)O)O))O[C@@H]%13(O[C@H](CO)[C@@H](O[C@H]%11([C@H]([C@@H]([C@@H]([C@@H](O%11)C)O)O[C@@H]%12([C@H]([C@H]([C@@H]([C@H](O%12)C)NC(=O)C)O)O[R]))O))[C@H](O)[C@@H](O)%13))NC(C)=O)))O))[C@H](O)[C@@H](O)%14))NC(C)=O)))O))[C@H](O)[C@@H](O)%15))NC(C)=O)\n",
      "[09:29:18] SMILES Parse Error: Failed parsing SMILES 'CC(C)=CCCC(\\C)=C/CCC(\\C)=C/CCC(/C)=C/CCC(/C)=C/CCC(/C)=C/CCC(/C)=C/CCC(/C)=C/CCC(/C)=C/CCC(/C)=C/CCC(/C)=C/COP(=O)([O-])OP([O-])(=O)O[C@@H]1([C@@H]([C@H]([C@H]([C@H](O1)CO)O[C@H]2([C@@H]([C@H]([C@H]([C@H](O2)CO)O)O)O))O[C@@H]%15(O[C@H](CO)[C@@H](O[C@H]3([C@H]([C@@H]([C@@H]([C@@H](O3)C)O)O[C@@H]4([C@H]([C@H]([C@@H]([C@H](O4)C)NC(=O)C)O)O[C@@H]5([C@@H]([C@H]([C@H]([C@H](O5)CO)O[C@H]6([C@@H]([C@H]([C@H]([C@H](O6)CO)O)O)O))O[C@@H]%14(O[C@H](CO)[C@@H](O[C@H]7([C@H]([C@@H]([C@@H]([C@@H](O7)C)O)O[C@@H]8([C@H]([C@H]([C@@H]([C@H](O8)C)NC(=O)C)O)O[C@@H]9([C@@H]([C@H]([C@H]([C@H](O9)CO)O[C@H]%10([C@@H]([C@H]([C@H]([C@H](O%10)CO)O)O)O))O[C@@H]%13(O[C@H](CO)[C@@H](O[C@H]%11([C@H]([C@@H]([C@@H]([C@@H](O%11)C)O)O[C@@H]%12([C@H]([C@H]([C@@H]([C@H](O%12)C)NC(=O)C)O)O[R]))O))[C@H](O)[C@@H](O)%13))NC(C)=O)))O))[C@H](O)[C@@H](O)%14))NC(C)=O)))O))[C@H](O)[C@@H](O)%15))NC(C)=O)' for input: 'CC(C)=CCCC(\\C)=C/CCC(\\C)=C/CCC(/C)=C/CCC(/C)=C/CCC(/C)=C/CCC(/C)... truncated[09:29:18] SMILES Parse Error: syntax error while parsing: CC(C)=CCCC(\\C)=C/CCC(\\C)=C/CCC(/C)=C/CCC(/C)=C/CCC(/C)=C/CCC(/C)=C/CCC(/C)=C/CCC(/C)=C/CCC(/C)=C/CCC(/C)=C/COP(=O)([O-])OP([O-])(=O)O[C@@H]1([C@@H]([C@H]([C@H]([C@H](O1)CO)O)O[C@@H]%12(O[C@@H](C)[C@@H](O)[C@@H](O[C@H]%11(O[C@H](CO)[C@@H](O)[C@H](O[C@@H]2([C@@H]([C@H]([C@H](O)[C@H](O2)C)NC(C)=O)O[C@@H]3([C@@H]([C@H]([C@H]([C@H](O3)CO)O)O[C@@H]%10(O[C@@H](C)[C@@H](O)[C@@H](O[C@H]9(O[C@H](CO)[C@@H](O)[C@H](O[C@@H]4([C@@H]([C@H]([C@H](O)[C@H](O4)C)NC(C)=O)O[C@@H]5([C@@H]([C@H]([C@H]([C@H](O5)CO)O)O[C@@H]8(O[C@@H](C)[C@@H](O)[C@@H](O[C@H]7(O[C@H](CO)[C@@H](O)[C@H](O[C@@H]6([C@@H]([C@H]([C@H](O)[C@H](O6)C)NC(C)=O)O[R]))[C@H](O)7))[C@H](O)8))NC(C)=O)))[C@H](O)9))[C@H](O)%10))NC(C)=O)))[C@H](O)%11))[C@H](O)%12))NC(C)=O)\n",
      "[09:29:18] SMILES Parse Error: Failed parsing SMILES 'CC(C)=CCCC(\\C)=C/CCC(\\C)=C/CCC(/C)=C/CCC(/C)=C/CCC(/C)=C/CCC(/C)=C/CCC(/C)=C/CCC(/C)=C/CCC(/C)=C/CCC(/C)=C/COP(=O)([O-])OP([O-])(=O)O[C@@H]1([C@@H]([C@H]([C@H]([C@H](O1)CO)O)O[C@@H]%12(O[C@@H](C)[C@@H](O)[C@@H](O[C@H]%11(O[C@H](CO)[C@@H](O)[C@H](O[C@@H]2([C@@H]([C@H]([C@H](O)[C@H](O2)C)NC(C)=O)O[C@@H]3([C@@H]([C@H]([C@H]([C@H](O3)CO)O)O[C@@H]%10(O[C@@H](C)[C@@H](O)[C@@H](O[C@H]9(O[C@H](CO)[C@@H](O)[C@H](O[C@@H]4([C@@H]([C@H]([C@H](O)[C@H](O4)C)NC(C)=O)O[C@@H]5([C@@H]([C@H]([C@H]([C@H](O5)CO)O)O[C@@H]8(O[C@@H](C)[C@@H](O)[C@@H](O[C@H]7(O[C@H](CO)[C@@H](O)[C@H](O[C@@H]6([C@@H]([C@H]([C@H](O)[C@H](O6)C)NC(C)=O)O[R]))[C@H](O)7))[C@H](O)8))NC(C)=O)))[C@H](O)9))[C@H](O)%10))NC(C)=O)))[C@H](O)%11))[C@H](O)%12))NC(C)=O)' for input: 'CC(C)=CCCC(\\C)=C/CCC(\\C)=C/CCC(/C)=C/CCC(/C)=C/CCC(/C)=C/CCC(/C)=C/CCC(/C)=C/CCC(/C)=C/CCC(/C)=C/CCC(/C)=C/COP(=O)([O-])OP([O-])(=O)O[C@@H]1([C@@H]([C@H]([C@H]([C@H](O1)CO)O)O[C@@H]%12(O[C@@H](C)[C@@H](O)[C@@H](... truncated[09:29:18] SMILES Parse Error: syntax error while parsing: CC(C)=CCCC(\\C)=C/CCC(\\C)=C/CCC(/C)=C/CCC(/C)=C/CCC(/C)=C/CCC(/C)=C/CCC(/C)=C/CCC(/C)=C/CCC(/C)=C/CCC(/C)=C/COP(=O)([O-])OP(O[C@@H]1([C@@H]([C@H]([C@H]([C@H](O1)CO)O)O[C@H]2([C@@H]([C@@H]([C@H]([C@@H](O2)C)O[C@@H]3([C@H]([C@H]([C@H](O)[C@H](O3)CO)O[C@@H]4([C@@H](C[C@H]([C@H](O4)C)O)O))O[C@@H]5([C@@H]([C@H]([C@H]([C@H](O5)CO)O)O[C@H]6([C@@H]([C@@H]([C@H]([C@@H](O6)C)O[C@@H]7([C@H]([C@H]([C@H](O)[C@H](O7)CO)O[C@@H]8([C@@H](C[C@H]([C@H](O8)C)O)O))O[C@@H]9([C@@H]([C@H]([C@H]([C@H](O9)CO)O)O[C@H]%10([C@@H]([C@@H]([C@H]([C@@H](O%10)C)O[C@@H]%11([C@H]([C@H]([C@H](O)[C@H](O%11)CO)O[C@@H]%12([C@@H](C[C@H]([C@H](O%12)C)O)O))O[R]))O)O))O)))O)O))O)))O)O))O))([O-])=O\n",
      "[09:29:18] SMILES Parse Error: Failed parsing SMILES 'CC(C)=CCCC(\\C)=C/CCC(\\C)=C/CCC(/C)=C/CCC(/C)=C/CCC(/C)=C/CCC(/C)=C/CCC(/C)=C/CCC(/C)=C/CCC(/C)=C/CCC(/C)=C/COP(=O)([O-])OP(O[C@@H]1([C@@H]([C@H]([C@H]([C@H](O1)CO)O)O[C@H]2([C@@H]([C@@H]([C@H]([C@@H](O2)C)O[C@@H]3([C@H]([C@H]([C@H](O)[C@H](O3)CO)O[C@@H]4([C@@H](C[C@H]([C@H](O4)C)O)O))O[C@@H]5([C@@H]([C@H]([C@H]([C@H](O5)CO)O)O[C@H]6([C@@H]([C@@H]([C@H]([C@@H](O6)C)O[C@@H]7([C@H]([C@H]([C@H](O)[C@H](O7)CO)O[C@@H]8([C@@H](C[C@H]([C@H](O8)C)O)O))O[C@@H]9([C@@H]([C@H]([C@H]([C@H](O9)CO)O)O[C@H]%10([C@@H]([C@@H]([C@H]([C@@H](O%10)C)O[C@@H]%11([C@H]([C@H]([C@H](O)[C@H](O%11)CO)O[C@@H]%12([C@@H](C[C@H]([C@H](O%12)C)O)O))O[R]))O)O))O)))O)O))O)))O)O))O))([O-])=O' for input: 'CC(C)=CCCC(\\C)=C/CCC(\\C)=C/CCC(/C)=C/CCC(/C)=C/CCC(/C)=C/CCC(/C)=C/CCC(/C)=C/CCC(/C)=C/CCC(/C)=C/CCC(/C)=C/COP(=O)([O-])OP(O[C@@H]1([C@@H]([C@H]([C@H]([C@H](O1)CO)O)O[C@H]2([C@@H]([C@@H]([C@H]([C@@H](O2)C)O[C@@H]3([C@H]([C@H]([C@H](O)[C@H](O3)CO)O[C@@H]4([C@@H](C[C@H]([C... truncated[09:29:18] SMILES Parse Error: syntax error while parsing: CC(C)=CCCC(\\C)=C/CCC(\\C)=C/CCC(/C)=C/CCC(/C)=C/CCC(/C)=C/CCC(/C)=C/CCC(/C)=C/CCC(/C)=C/CCC(/C)=C/CCC(/C)=C/COP(=O)([O-])OP([O-])(=O)O[C@@H]1([C@@H]([C@H]([C@H](O)[C@H](O1)CO)O[C@@H]%12(O[C@H](CO)[C@@H](O)[C@H](O)[C@H](O[C@H]%11(O[C@H](CO)[C@@H](O)[C@H](O)[C@H](O[C@H]%10(O[C@H](CO[C@@H]2([C@@H]([C@H]([C@H](O)[C@H](O2)CO)O[C@@H]9(O[C@H](CO)[C@@H](O)[C@H](O)[C@H](O[C@H]8(O[C@H](CO)[C@@H](O)[C@H](O)[C@H](O[C@H]7(O[C@H](CO[C@@H]3([C@@H]([C@H]([C@H](O)[C@H](O3)CO)O[C@@H]6(O[C@H](CO)[C@@H](O)[C@H](O)[C@H](O[C@H]5(O[C@H](CO)[C@@H](O)[C@H](O)[C@H](O[C@H]4(O[C@H](CO[R])[C@@H](O)[C@H](O)[C@H](O)4))5))6))NC(C)=O))[C@@H](O)[C@H](O)[C@H](O)7))8))9))NC(C)=O))[C@@H](O)[C@H](O)[C@H](O)%10))%11))%12))NC(C)=O)\n",
      "[09:29:18] SMILES Parse Error: Failed parsing SMILES 'CC(C)=CCCC(\\C)=C/CCC(\\C)=C/CCC(/C)=C/CCC(/C)=C/CCC(/C)=C/CCC(/C)=C/CCC(/C)=C/CCC(/C)=C/CCC(/C)=C/CCC(/C)=C/COP(=O)([O-])OP([O-])(=O)O[C@@H]1([C@@H]([C@H]([C@H](O)[C@H](O1)CO)O[C@@H]%12(O[C@H](CO)[C@@H](O)[C@H](O)[C@H](O[C@H]%11(O[C@H](CO)[C@@H](O)[C@H](O)[C@H](O[C@H]%10(O[C@H](CO[C@@H]2([C@@H]([C@H]([C@H](O)[C@H](O2)CO)O[C@@H]9(O[C@H](CO)[C@@H](O)[C@H](O)[C@H](O[C@H]8(O[C@H](CO)[C@@H](O)[C@H](O)[C@H](O[C@H]7(O[C@H](CO[C@@H]3([C@@H]([C@H]([C@H](O)[C@H](O3)CO)O[C@@H]6(O[C@H](CO)[C@@H](O)[C@H](O)[C@H](O[C@H]5(O[C@H](CO)[C@@H](O)[C@H](O)[C@H](O[C@H]4(O[C@H](CO[R])[C@@H](O)[C@H](O)[C@H](O)4))5))6))NC(C)=O))[C@@H](O)[C@H](O)[C@H](O)7))8))9))NC(C)=O))[C@@H](O)[C@H](O)[C@H](O)%10))%11))%12))NC(C)=O)' for input: 'CC(C)=CCCC(\\C)=C/CCC(\\C)=C/CCC(/C)=C/CCC(/C)=C/CCC(/C)=C/CCC(/C)=C/CCC(/C)=C/CCC(/C)=C/CCC(/C)=C/CCC(/C)=C/COP(=O)([O-])OP([O-])(=O)O[C@@H]1([C@@H]([C@H]([C@H](O)[C@H](O1)CO)O[C@@H]%12(O[C@H](CO)[C@@H](O)[C@H](O)[C@H](O[C@H]%11(O[C@... truncated[09:29:18] SMILES Parse Error: syntax error while parsing: CC(C)=CCCC(\\C)=C/CCC(\\C)=C/CCC(/C)=C/CCC(/C)=C/CCC(/C)=C/CCC(/C)=C/CCC(/C)=C/CCC(/C)=C/CCC(/C)=C/CCC(/C)=C/COP(=O)([O-])OP([O-])(=O)O[C@@H]1([C@@H]([C@H]([C@H](O)[C@H](O1)CO)O[C@@H]%15(O[C@H](CO)[C@@H](O)[C@H](O)[C@H](O[C@H]%14(O[C@H](CO)[C@@H](O)[C@H](O)[C@H](O[C@H]%13(O[C@H](CO)[C@@H](O)[C@H](O)[C@H](O[C@@H]%12(O[C@H](CO)[C@@H](O)[C@H](O)[C@H](O[C@H]2([C@@H]([C@H]([C@H](O)[C@H](O2)CO)O[C@@H]%11(O[C@H](CO)[C@@H](O)[C@H](O)[C@H](O[C@H]%10(O[C@H](CO)[C@@H](O)[C@H](O)[C@H](O[C@H]9(O[C@H](CO)[C@@H](O)[C@H](O)[C@H](O[C@@H]8(O[C@H](CO)[C@@H](O)[C@H](O)[C@H](O[C@H]3([C@@H]([C@H]([C@H](O)[C@H](O3)CO)O[C@@H]7(O[C@H](CO)[C@@H](O)[C@H](O)[C@H](O[C@H]6(O[C@H](CO)[C@@H](O)[C@H](O)[C@H](O[C@H]5(O[C@H](CO)[C@@H](O)[C@H](O)[C@H](O[C@@H]4(O[C@H](CO)[C@@H](O)[C@H](O)[C@H](O[R])4))5))6))7))NC(C)=O))8))9))%10))%11))NC(C)=O))%12))%13))%14))%15))NC(C)=O)\n",
      "[09:29:18] SMILES Parse Error: Failed parsing SMILES 'CC(C)=CCCC(\\C)=C/CCC(\\C)=C/CCC(/C)=C/CCC(/C)=C/CCC(/C)=C/CCC(/C)=C/CCC(/C)=C/CCC(/C)=C/CCC(/C)=C/CCC(/C)=C/COP(=O)([O-])OP([O-])(=O)O[C@@H]1([C@@H]([C@H]([C@H](O)[C@H](O1)CO)O[C@@H]%15(O[C@H](CO)[C@@H](O)[C@H](O)[C@H](O[C@H]%14(O[C@H](CO)[C@@H](O)[C@H](O)[C@H](O[C@H]%13(O[C@H](CO)[C@@H](O)[C@H](O)[C@H](O[C@@H]%12(O[C@H](CO)[C@@H](O)[C@H](O)[C@H](O[C@H]2([C@@H]([C@H]([C@H](O)[C@H](O2)CO)O[C@@H]%11(O[C@H](CO)[C@@H](O)[C@H](O)[C@H](O[C@H]%10(O[C@H](CO)[C@@H](O)[C@H](O)[C@H](O[C@H]9(O[C@H](CO)[C@@H](O)[C@H](O)[C@H](O[C@@H]8(O[C@H](CO)[C@@H](O)[C@H](O)[C@H](O[C@H]3([C@@H]([C@H]([C@H](O)[C@H](O3)CO)O[C@@H]7(O[C@H](CO)[C@@H](O)[C@H](O)[C@H](O[C@H]6(O[C@H](CO)[C@@H](O)[C@H](O)[C@H](O[C@H]5(O[C@H](CO)[C@@H](O)[C@H](O)[C@H](O[C@@H]4(O[C@H](CO)[C@@H](O)[C@H](O)[C@H](O[R])4))5))6))7))NC(C)=O))8))9))%10))%11))NC(C)=O))%12))%13))%14))%15))NC(C)=O)' for input: 'CC(C)=CCCC(\\C)=C/CCC(\\C)=C/CCC(/C)=C/CCC(/C)=C/CCC(/C)=C/CCC(/C)=C/CCC(/C)=C/CCC(/C)=C/... truncated[09:29:18] SMILES Parse Error: syntax error while parsing: CC(C)=CCCC(\\C)=C/CCC(\\C)=C/CCC(/C)=C/CCC(/C)=C/CCC(/C)=C/CCC(/C)=C/CCC(/C)=C/CCC(/C)=C/CCC(/C)=C/CCC(/C)=C/COP(=O)([O-])OP(O[C@H]%15(O[C@H](CO)[C@H](O)[C@H](O[C@H]%14(O[C@H](CO)[C@@H](O)[C@H](O)[C@H](O[C@H]%13(O[C@H](CO)[C@@H](O)[C@H](O)[C@H](O[C@@H]%12(O[C@@H](C)[C@H](O[C@H]%10(O[C@H](CO)[C@H](O)[C@H](O[C@H]9(O[C@H](CO)[C@@H](O)[C@H](O)[C@H](O[C@H]8(O[C@H](CO)[C@@H](O)[C@H](O)[C@H](O[C@@H]7(O[C@@H](C)[C@H](O[C@H]5(O[C@H](CO)[C@H](O)[C@H](O[C@H]4(O[C@H](CO)[C@@H](O)[C@H](O)[C@H](O[C@H]3(O[C@H](CO)[C@@H](O)[C@H](O)[C@H](O[C@@H]2(O[C@@H](C)[C@H](O[R])[C@@H](O[C@H]1(O[C@H](C)[C@H](O)C[C@@H](O)1))[C@@H](OC(=O)C)2))3))4))[C@@H](O)5))[C@@H](O[C@H]6(O[C@H](C)[C@H](O)C[C@@H](O)6))[C@@H](OC(=O)C)7))8))9))[C@@H](O)%10))[C@@H](O[C@H]%11(O[C@H](C)[C@H](O)C[C@@H](O)%11))[C@@H](OC(=O)C)%12))%13))%14))[C@@H](O)%15))([O-])=O\n",
      "[09:29:18] SMILES Parse Error: Failed parsing SMILES 'CC(C)=CCCC(\\C)=C/CCC(\\C)=C/CCC(/C)=C/CCC(/C)=C/CCC(/C)=C/CCC(/C)=C/CCC(/C)=C/CCC(/C)=C/CCC(/C)=C/CCC(/C)=C/COP(=O)([O-])OP(O[C@H]%15(O[C@H](CO)[C@H](O)[C@H](O[C@H]%14(O[C@H](CO)[C@@H](O)[C@H](O)[C@H](O[C@H]%13(O[C@H](CO)[C@@H](O)[C@H](O)[C@H](O[C@@H]%12(O[C@@H](C)[C@H](O[C@H]%10(O[C@H](CO)[C@H](O)[C@H](O[C@H]9(O[C@H](CO)[C@@H](O)[C@H](O)[C@H](O[C@H]8(O[C@H](CO)[C@@H](O)[C@H](O)[C@H](O[C@@H]7(O[C@@H](C)[C@H](O[C@H]5(O[C@H](CO)[C@H](O)[C@H](O[C@H]4(O[C@H](CO)[C@@H](O)[C@H](O)[C@H](O[C@H]3(O[C@H](CO)[C@@H](O)[C@H](O)[C@H](O[C@@H]2(O[C@@H](C)[C@H](O[R])[C@@H](O[C@H]1(O[C@H](C)[C@H](O)C[C@@H](O)1))[C@@H](OC(=O)C)2))3))4))[C@@H](O)5))[C@@H](O[C@H]6(O[C@H](C)[C@H](O)C[C@@H](O)6))[C@@H](OC(=O)C)7))8))9))[C@@H](O)%10))[C@@H](O[C@H]%11(O[C@H](C)[C@H](O)C[C@@H](O)%11))[C@@H](OC(=O)C)%12))%13))%14))[C@@H](O)%15))([O-])=O' for input: 'CC(C)=CCCC(\\C)=C/CCC(\\C)=C/CCC(/C)=C/CCC(/C)=C/CCC(/C)=C/CCC(/C)=C/CCC(/C)=C/CCC(/C)=C/CCC(/C)=C/CCC(/C)=C/COP(=... truncated[09:29:18] SMILES Parse Error: syntax error while parsing: CC(C)=CCCC(\\C)=C/CCC(\\C)=C/CCC(/C)=C/CCC(/C)=C/CCC(/C)=C/CCC(/C)=C/CCC(/C)=C/CCC(/C)=C/CCC(/C)=C/CCC(/C)=C/COP(=O)([O-])OP(O[C@@H]1([C@@H]([C@H]([C@H]([C@H](O1)CO)O)O[C@H]2([C@@H]([C@@H]([C@H]([C@@H](O2)C)O[C@@H]3([C@H]([C@H]([C@H](O)[C@H](O3)CO)O[C@@H]4([C@H](C[C@@H]([C@H](O4)C)O)O))O[C@@H]5([C@@H]([C@H]([C@H]([C@H](O5)CO)O)O[C@H]6([C@@H]([C@@H]([C@H]([C@@H](O6)C)O[C@@H]7([C@H]([C@H]([C@H](O)[C@H](O7)CO)O[C@@H]8([C@H](C[C@@H]([C@H](O8)C)O)O))O[C@@H]9([C@@H]([C@H]([C@H]([C@H](O9)CO)O)O[C@H]%10([C@@H]([C@@H]([C@H]([C@@H](O%10)C)O[C@@H]%11([C@H]([C@H]([C@H](O)[C@H](O%11)CO)O[C@@H]%12([C@H](C[C@@H]([C@H](O%12)C)O)O))O[R]))O)O))O)))O)O))O)))O)O))O))([O-])=O\n",
      "[09:29:18] SMILES Parse Error: Failed parsing SMILES 'CC(C)=CCCC(\\C)=C/CCC(\\C)=C/CCC(/C)=C/CCC(/C)=C/CCC(/C)=C/CCC(/C)=C/CCC(/C)=C/CCC(/C)=C/CCC(/C)=C/CCC(/C)=C/COP(=O)([O-])OP(O[C@@H]1([C@@H]([C@H]([C@H]([C@H](O1)CO)O)O[C@H]2([C@@H]([C@@H]([C@H]([C@@H](O2)C)O[C@@H]3([C@H]([C@H]([C@H](O)[C@H](O3)CO)O[C@@H]4([C@H](C[C@@H]([C@H](O4)C)O)O))O[C@@H]5([C@@H]([C@H]([C@H]([C@H](O5)CO)O)O[C@H]6([C@@H]([C@@H]([C@H]([C@@H](O6)C)O[C@@H]7([C@H]([C@H]([C@H](O)[C@H](O7)CO)O[C@@H]8([C@H](C[C@@H]([C@H](O8)C)O)O))O[C@@H]9([C@@H]([C@H]([C@H]([C@H](O9)CO)O)O[C@H]%10([C@@H]([C@@H]([C@H]([C@@H](O%10)C)O[C@@H]%11([C@H]([C@H]([C@H](O)[C@H](O%11)CO)O[C@@H]%12([C@H](C[C@@H]([C@H](O%12)C)O)O))O[R]))O)O))O)))O)O))O)))O)O))O))([O-])=O' for input: 'CC(C)=CCCC(\\C)=C/CCC(\\C)=C/CCC(/C)=C/CCC(/C)=C/CCC(/C)=C/CCC(/C)=C/CCC(/C)=C/CCC(/C)=C/CCC(/C)=C/CCC(/C)=C/COP(=O)([O-])OP(O[C@@H]1([C@@H]([C@H]([C@H]([C@H](O1)CO)O)O[C@H]2([C@@H]([C@@H]([C@H]([C@@H](O2)C)O[C@@H]3([C@H]([C@H]([C@H](O)[C@H](O3)CO)O[C@@H]4([C@H](C[C@@H]([C... truncated[09:29:18] SMILES Parse Error: syntax error while parsing: CC(C)=CCCC(\\C)=C/CCC(\\C)=C/CCC(/C)=C/CCC(/C)=C/CCC(/C)=C/CCC(/C)=C/CCC(/C)=C/CCC(/C)=C/CCC(/C)=C/CCC(/C)=C/COP(=O)([O-])OP(O[C@@H]1([C@@H]([C@H]([C@H]([C@H](O1)CO)O)O[C@H]2([C@@H]([C@@H]([C@H]([C@@H](O2)C)O[C@H]3([C@H]([C@H]([C@H](O)[C@H](O3)CO[C@@H]4([C@@H]([C@H]([C@H]([C@H](O4)CO)O)O[C@H]5([C@@H]([C@@H]([C@H]([C@@H](O5)C)O[C@H]6([C@H]([C@H]([C@H](O)[C@H](O6)CO[C@@H]7([C@@H]([C@H]([C@H]([C@H](O7)CO)O)O[C@H]8([C@@H]([C@@H]([C@H]([C@@H](O8)C)O[C@H]9([C@H]([C@H]([C@H](O)[C@H](O9)CO[R])O[C@@H]%10([C@H](C[C@@H]([C@H](O%10)C)O)O))O))O)O))O))O[C@@H]%11([C@H](C[C@@H]([C@H](O%11)C)O)O))O))O)O))O))O[C@@H]%12([C@H](C[C@@H]([C@H](O%12)C)O)O))O))O)O))O))([O-])=O\n",
      "[09:29:18] SMILES Parse Error: Failed parsing SMILES 'CC(C)=CCCC(\\C)=C/CCC(\\C)=C/CCC(/C)=C/CCC(/C)=C/CCC(/C)=C/CCC(/C)=C/CCC(/C)=C/CCC(/C)=C/CCC(/C)=C/CCC(/C)=C/COP(=O)([O-])OP(O[C@@H]1([C@@H]([C@H]([C@H]([C@H](O1)CO)O)O[C@H]2([C@@H]([C@@H]([C@H]([C@@H](O2)C)O[C@H]3([C@H]([C@H]([C@H](O)[C@H](O3)CO[C@@H]4([C@@H]([C@H]([C@H]([C@H](O4)CO)O)O[C@H]5([C@@H]([C@@H]([C@H]([C@@H](O5)C)O[C@H]6([C@H]([C@H]([C@H](O)[C@H](O6)CO[C@@H]7([C@@H]([C@H]([C@H]([C@H](O7)CO)O)O[C@H]8([C@@H]([C@@H]([C@H]([C@@H](O8)C)O[C@H]9([C@H]([C@H]([C@H](O)[C@H](O9)CO[R])O[C@@H]%10([C@H](C[C@@H]([C@H](O%10)C)O)O))O))O)O))O))O[C@@H]%11([C@H](C[C@@H]([C@H](O%11)C)O)O))O))O)O))O))O[C@@H]%12([C@H](C[C@@H]([C@H](O%12)C)O)O))O))O)O))O))([O-])=O' for input: 'CC(C)=CCCC(\\C)=C/CCC(\\C)=C/CCC(/C)=C/CCC(/C)=C/CCC(/C)=C/CCC(/C)=C/CCC(/C)=C/CCC(/C)=C/CCC(/C)=C/CCC(/C)=C/COP(=O)([O-])OP(O[C@@H]1([C@@H]([C@H]([C@H]([C@H](O1)CO)O)O[C@H]2([C@@H]([C@@H]([C@H]([C@@H](O2)C)O[C@H]3([C@H]([C@H]([C@H](O)[C@H](O3)CO[C@@H]4([C@@H]([C@H]([C@H]([C@... truncated[09:29:18] SMILES Parse Error: syntax error while parsing: CC(C)=CCCC(\\C)=C/CCC(\\C)=C/CCC(/C)=C/CCC(/C)=C/CCC(/C)=C/CCC(/C)=C/CCC(/C)=C/CCC(/C)=C/CCC(/C)=C/CCC(/C)=C/COP(=O)([O-])OP(O[C@@H]1([C@@H]([C@H]([C@H]([C@H](O1)CO)O)O[C@H]2([C@@H]([C@@H]([C@H]([C@@H](O2)C)O[C@@H]3([C@H]([C@H]([C@H](O)[C@H](O3)CO[C@@H]4([C@@H]([C@H]([C@H]([C@H](O4)CO)O)O[C@H]5([C@@H]([C@@H]([C@H]([C@@H](O5)C)O[C@H]6([C@H]([C@H]([C@H](O)[C@H](O6)CO[C@@H]7([C@@H]([C@H]([C@H]([C@H](O7)CO)O)O[C@H]8([C@@H]([C@@H]([C@H]([C@@H](O8)C)O[C@@H]9([C@H]([C@H]([C@H](O)[C@H](O9)CO[R])O[C@@H]%10([C@H](C[C@@H]([C@H](O%10)C)O)O))O))O)O))O))O[C@@H]%11([C@H](C[C@@H]([C@H](O%11)C)O)O))O))O)O))O))O[C@@H]%12([C@H](C[C@@H]([C@H](O%12)C)O)O))O))O)O))O))([O-])=O\n",
      "[09:29:18] SMILES Parse Error: Failed parsing SMILES 'CC(C)=CCCC(\\C)=C/CCC(\\C)=C/CCC(/C)=C/CCC(/C)=C/CCC(/C)=C/CCC(/C)=C/CCC(/C)=C/CCC(/C)=C/CCC(/C)=C/CCC(/C)=C/COP(=O)([O-])OP(O[C@@H]1([C@@H]([C@H]([C@H]([C@H](O1)CO)O)O[C@H]2([C@@H]([C@@H]([C@H]([C@@H](O2)C)O[C@@H]3([C@H]([C@H]([C@H](O)[C@H](O3)CO[C@@H]4([C@@H]([C@H]([C@H]([C@H](O4)CO)O)O[C@H]5([C@@H]([C@@H]([C@H]([C@@H](O5)C)O[C@H]6([C@H]([C@H]([C@H](O)[C@H](O6)CO[C@@H]7([C@@H]([C@H]([C@H]([C@H](O7)CO)O)O[C@H]8([C@@H]([C@@H]([C@H]([C@@H](O8)C)O[C@@H]9([C@H]([C@H]([C@H](O)[C@H](O9)CO[R])O[C@@H]%10([C@H](C[C@@H]([C@H](O%10)C)O)O))O))O)O))O))O[C@@H]%11([C@H](C[C@@H]([C@H](O%11)C)O)O))O))O)O))O))O[C@@H]%12([C@H](C[C@@H]([C@H](O%12)C)O)O))O))O)O))O))([O-])=O' for input: 'CC(C)=CCCC(\\C)=C/CCC(\\C)=C/CCC(/C)=C/CCC(/C)=C/CCC(/C)=C/CCC(/C)=C/CCC(/C)=C/CCC(/C)=C/CCC(/C)=C/CCC(/C)=C/COP(=O)([O-])OP(O[C@@H]1([C@@H]([C@H]([C@H]([C@H](O1)CO)O)O[C@H]2([C@@H]([C@@H]([C@H]([C@@H](O2)C)O[C@@H]3([C@H]([C@H]([C@H](O)[C@H](O3)CO[C@@H]4([C@@H]([C@H]([C@H](... truncated"
     ]
    },
    {
     "name": "stdout",
     "output_type": "stream",
     "text": [
      "error CPD-24028\n",
      "error CPD-24044\n",
      "error CPD-24008\n",
      "error CPD-24009\n",
      "error CPD-24010\n",
      "error CPD-24012\n",
      "error CPD-24330\n",
      "error CPD-8867\n",
      "error CPD-24151\n",
      "error AG2SO4\n",
      "error CPD-12944\n"
     ]
    },
    {
     "name": "stderr",
     "output_type": "stream",
     "text": [
      "[09:29:19] SMILES Parse Error: syntax error while parsing: CC(C)=CCCC(\\C)=C/CCC(\\C)=C/CCC(/C)=C/CCC(/C)=C/CCC(/C)=C/CCC(/C)=C/CCC(/C)=C/CCC(/C)=C/CCC(/C)=C/CCC(/C)=C/COP(=O)([O-])OP([O-])(=O)O[C@@H]1([C@@H]([C@H]([C@H]([C@H](O1)CO)O)O[C@H]%15(O[C@H](CO)[C@@H](O)[C@H](O)[C@H](O[C@H]%14(O[C@H](CO[C@@H]2([C@@H]([C@H]([C@H]([C@H](O2)CO)O[C@@H]3(O[C@H](C([O-])=O)[C@@H](O)[C@H](O)[C@@H](O)3))O[C@H]4([C@@H]([C@H]([C@H]([C@H](O4)CO)O)O[C@H]%13(O[C@H](CO)[C@@H](O)[C@H](O)[C@H](O[C@H]%12(O[C@H](CO[C@@H]5([C@@H]([C@H]([C@H]([C@H](O5)CO)O[C@@H]6(O[C@H](C([O-])=O)[C@@H](O)[C@H](O)[C@@H](O)6))O[C@@H]7([C@@H]([C@H]([C@H]([C@H](O7)CO)O)O[C@@H]%11(O[C@H](CO)[C@@H](O)[C@H](O)[C@H](O[C@H]%10(O[C@H](CO[C@@H]8([C@@H]([C@H]([C@H]([C@H](O8)CO)O[C@@H]9(O[C@H](C([O-])=O)[C@@H](O)[C@H](O)[C@@H](O)9))O[R])O))[C@@H](O)[C@H](O)[C@H](O)%10))%11))NC(C)=O))O))[C@@H](O)[C@H](O)[C@H](O)%12))%13))NC(C)=O))O))[C@@H](O)[C@H](O)[C@H](O)%14))%15))NC(C)=O)\n",
      "[09:29:19] SMILES Parse Error: Failed parsing SMILES 'CC(C)=CCCC(\\C)=C/CCC(\\C)=C/CCC(/C)=C/CCC(/C)=C/CCC(/C)=C/CCC(/C)=C/CCC(/C)=C/CCC(/C)=C/CCC(/C)=C/CCC(/C)=C/COP(=O)([O-])OP([O-])(=O)O[C@@H]1([C@@H]([C@H]([C@H]([C@H](O1)CO)O)O[C@H]%15(O[C@H](CO)[C@@H](O)[C@H](O)[C@H](O[C@H]%14(O[C@H](CO[C@@H]2([C@@H]([C@H]([C@H]([C@H](O2)CO)O[C@@H]3(O[C@H](C([O-])=O)[C@@H](O)[C@H](O)[C@@H](O)3))O[C@H]4([C@@H]([C@H]([C@H]([C@H](O4)CO)O)O[C@H]%13(O[C@H](CO)[C@@H](O)[C@H](O)[C@H](O[C@H]%12(O[C@H](CO[C@@H]5([C@@H]([C@H]([C@H]([C@H](O5)CO)O[C@@H]6(O[C@H](C([O-])=O)[C@@H](O)[C@H](O)[C@@H](O)6))O[C@@H]7([C@@H]([C@H]([C@H]([C@H](O7)CO)O)O[C@@H]%11(O[C@H](CO)[C@@H](O)[C@H](O)[C@H](O[C@H]%10(O[C@H](CO[C@@H]8([C@@H]([C@H]([C@H]([C@H](O8)CO)O[C@@H]9(O[C@H](C([O-])=O)[C@@H](O)[C@H](O)[C@@H](O)9))O[R])O))[C@@H](O)[C@H](O)[C@H](O)%10))%11))NC(C)=O))O))[C@@H](O)[C@H](O)[C@H](O)%12))%13))NC(C)=O))O))[C@@H](O)[C@H](O)[C@H](O)%14))%15))NC(C)=O)' for input: 'CC(C)=CCCC(\\C)=C/CCC(\\C)=C/CCC(/C)=C/CCC(/C)=C/CCC(/C)=C/CCC(... truncated[09:29:19] Conflicting single bond directions around double bond at index 15.\n",
      "[09:29:19]   BondStereo set to STEREONONE and single bond directions set to NONE.\n",
      "[09:29:19] SMILES Parse Error: syntax error while parsing: CC1(\\CC3(O)(C(O)(C(=O)\\C=1)C24(OC2(C(O)C3)C(O)C5(/C(/O)=C([R])\\C=C/C(/C(=O)4)=5))))\n",
      "[09:29:19] SMILES Parse Error: Failed parsing SMILES 'CC1(\\CC3(O)(C(O)(C(=O)\\C=1)C24(OC2(C(O)C3)C(O)C5(/C(/O)=C([R])\\C=C/C(/C(=O)4)=5))))' for input: 'CC1(\\CC3(O)(C(O)(C(=O)\\C=1)C24(OC2(C(O)C3)C(O)C5(/C(/O)=C([R])\\C=C/C(/C(=O)4)=5))))'\n",
      "[09:29:19] Conflicting single bond directions around double bond at index 24.\n",
      "[09:29:19]   BondStereo set to STEREONONE and single bond directions set to NONE.\n",
      "[09:29:19] Conflicting single bond directions around double bond at index 17.\n",
      "[09:29:19]   BondStereo set to STEREONONE and single bond directions set to NONE.\n",
      "[09:29:19] Conflicting single bond directions around double bond at index 17.\n",
      "[09:29:19]   BondStereo set to STEREONONE and single bond directions set to NONE.\n",
      "[09:29:19] Conflicting single bond directions around double bond at index 17.\n",
      "[09:29:19]   BondStereo set to STEREONONE and single bond directions set to NONE.\n",
      "[09:29:19] Conflicting single bond directions around double bond at index 36.\n",
      "[09:29:19]   BondStereo set to STEREONONE and single bond directions set to NONE.\n",
      "[09:29:19] Conflicting single bond directions around double bond at index 41.\n",
      "[09:29:19]   BondStereo set to STEREONONE and single bond directions set to NONE.\n"
     ]
    },
    {
     "name": "stdout",
     "output_type": "stream",
     "text": [
      "error CPD0-2422\n",
      "error CPD-22952\n",
      "error CPD-22941\n",
      "error CPD-22954\n",
      "error CPD-19641\n",
      "error NACL\n",
      "error CPD0-2434\n",
      "error CPD0-2432\n",
      "error CPD-17695\n",
      "error CPD-16983\n",
      "error NaF\n",
      "error CPD-22960\n",
      "error CPD-22958\n",
      "error CPD-22930\n",
      "error CPD-22949\n",
      "error CPD-22908\n",
      "error CPD-22966\n",
      "error CPD-22912\n",
      "error CPD-19634\n",
      "error CPD-12921\n",
      "error CPD-22963\n",
      "error CPD-22973\n",
      "error CPD0-2431\n",
      "error CPD-22936\n",
      "error CPD-24840\n",
      "error CPD-22953\n",
      "error NA2SO4\n",
      "error CPD-22955\n",
      "error CPD0-2506\n",
      "error BH4NA\n",
      "error CPD-22914\n",
      "error CPD-22970\n",
      "error CPD-22885\n",
      "error CPD-22925\n",
      "error CPD-22968\n",
      "error CPD-21048\n",
      "error CPD-26541\n",
      "error CPD-26677\n",
      "error CPD-26547\n",
      "error CPD-22957\n"
     ]
    },
    {
     "name": "stderr",
     "output_type": "stream",
     "text": [
      "[09:29:19] SMILES Parse Error: syntax error while parsing: C\\C=C(C)/CC\\C=C(C)/CC\\C=C(C)/CC\\C=C(C)/CC\\C=C(C)/CC\\C=C(C)/CC\\C=C(C)/CC\\C=C(C)/CC/C=C(C)/CC/C=C(C)/CC/C=C(C)/COP(=O)([O-])OP(=O)([O-])O[C@H]%18(O[C@H](CO)[C@@H](O[C@H]%17(O[C@@H](C)[C@H](O)[C@@H](O[C@@H]%16(O[C@@H](C)[C@H](O)[C@@H](O[C@@H]%15(O[C@@H](C)[C@H](O)[C@@H](O[C@@H]%12(O[C@H](CO)[C@@H](O[C@H]%11(O[C@@H](C)[C@H](O)[C@@H](O[C@@H]%10(O[C@@H](C)[C@H](O)[C@@H](O[C@@H]9(O[C@@H](C)[C@H](O)[C@@H](O[C@@H]6(O[C@H](CO)[C@@H](O[C@H]5(O[C@@H](C)[C@H](O)[C@@H](O[C@@H]4(O[C@@H](C)[C@H](O)[C@@H](O[C@@H]3(O[C@@H](C)[C@H](O)[C@@H](O[R])[C@@H](O[C@H]2(O[C@H](CO[C@H]1(O[C@H](C([O-])=O)[C@@H](O)[C@H](O)[C@@H](O)1))[C@@H](O)[C@H](O)[C@@H](O)2))3))[C@@H](O)4))[C@@H](O)5))[C@H](O)[C@@H](O)6))[C@@H](O[C@H]8(O[C@H](CO[C@H]7(O[C@H](C([O-])=O)[C@@H](O)[C@H](O)[C@@H](O)7))[C@@H](O)[C@H](O)[C@@H](O)8))9))[C@@H](O)%10))[C@@H](O)%11))[C@H](O)[C@@H](O)%12))[C@@H](O[C@H]%14(O[C@H](CO[C@H]%13(O[C@H](C([O-])=O)[C@@H](O)[C@H](O)[C@@H](O)%13))[C@@H](O)[C@H... truncated[09:29:19] SMILES Parse Error: Failed parsing SMILES 'C\\C=C(C)/CC\\C=C(C)/CC\\C=C(C)/CC\\C=C(C)/CC\\C=C(C)/CC\\C=C(C)/CC\\C=C(C)/CC\\C=C(C)/CC/C=C(C)/CC/C=C(C)/CC/C=C(C)/COP(=O)([O-])OP(=O)([O-])O[C@H]%18(O[C@H](CO)[C@@H](O[C@H]%17(O[C@@H](C)[C@H](O)[C@@H](O[C@@H]%16(O[C@@H](C)[C@H](O)[C@@H](O[C@@H]%15(O[C@@H](C)[C@H](O)[C@@H](O[C@@H]%12(O[C@H](CO)[C@@H](O[C@H]%11(O[C@@H](C)[C@H](O)[C@@H](O[C@@H]%10(O[C@@H](C)[C@H](O)[C@@H](O[C@@H]9(O[C@@H](C)[C@H](O)[C@@H](O[C@@H]6(O[C@H](CO)[C@@H](O[C@H]5(O[C@@H](C)[C@H](O)[C@@H](O[C@@H]4(O[C@@H](C)[C@H](O)[C@@H](O[C@@H]3(O[C@@H](C)[C@H](O)[C@@H](O[R])[C@@H](O[C@H]2(O[C@H](CO[C@H]1(O[C@H](C([O-])=O)[C@@H](O)[C@H](O)[C@@H](O)1))[C@@H](O)[C@H](O)[C@@H](O)2))3))[C@@H](O)4))[C@@H](O)5))[C@H](O)[C@@H](O)6))[C@@H](O[C@H]8(O[C@H](CO[C@H]7(O[C@H](C([O-])=O)[C@@H](O)[C@H](O)[C@@H](O)7))[C@@H](O)[C@H](O)[C@@H](O)8))9))[C@@H](O)%10))[C@@H](O)%11))[C@H](O)[C@@H](O)%12))[C@@H](O[C@H]%14(O[C@H](CO[C@H]%13(O[C@H](C([O-])=O)[C@@H](O)[C@H](O)[C@@H](O)%13))[C@@H](O)[C@H](O)[... truncated[09:29:19] SMILES Parse Error: syntax error while parsing: C[C@H]([NH3+])C(=O)N[C@@H](CO)C(NCCCC[C@@H](C(N[C@H](C)C(=O)N[C@H](C)C(=O)[O-])=O)NC(=O)CC[C@@H](NC(=O)[C@@H](NC([C@H](O[C@@H]%22([C@@H](NC(=O)C)[C@H](O[R1])O[C@H](CO)[C@@H](O[C@@H]%21(O[C@H](CO[C@@H]%18(O[C@H](CO)[C@@H](O[C@H]%17(O[C@@H](C)[C@H](O)[C@@H](O[C@@H]%16(O[C@@H](C)[C@H](O)[C@@H](O[C@@H]%15(O[C@@H](C)[C@H](O)[C@@H](O[C@@H]%12(O[C@H](CO)[C@@H](O[C@H]%11(O[C@@H](C)[C@H](O)[C@@H](O[C@@H]%10(O[C@@H](C)[C@H](O)[C@@H](O[C@@H]9(O[C@@H](C)[C@H](O)[C@@H](O[C@@H]6(O[C@H](CO)[C@@H](O[C@H]5(O[C@@H](C)[C@H](O)[C@@H](O[C@@H]4(O[C@@H](C)[C@H](O)[C@@H](O[C@@H]3(O[C@@H](C)[C@H](O)[C@@H](O[R])[C@@H](O[C@H]2(O[C@H](CO[C@H]1(O[C@H](C([O-])=O)[C@@H](O)[C@H](O)[C@@H](O)1))[C@@H](O)[C@H](O)[C@@H](O)2))3))[C@@H](O)4))[C@@H](O)5))[C@H](O)[C@@H](O)6))[C@@H](O[C@H]8(O[C@H](CO[C@H]7(O[C@H](C([O-])=O)[C@@H](O)[C@H](O)[C@@H](O)7))[C@@H](O)[C@H](O)[C@@H](O)8))9))[C@@H](O)%10))[C@@H](O)%11))[C@H](O)[C@@H](O)%12))[C@@H](O[C@H]%14(O[C@H](CO[C@H]%13(O... truncated[09:29:19] SMILES Parse Error: Failed parsing SMILES 'C[C@H]([NH3+])C(=O)N[C@@H](CO)C(NCCCC[C@@H](C(N[C@H](C)C(=O)N[C@H](C)C(=O)[O-])=O)NC(=O)CC[C@@H](NC(=O)[C@@H](NC([C@H](O[C@@H]%22([C@@H](NC(=O)C)[C@H](O[R1])O[C@H](CO)[C@@H](O[C@@H]%21(O[C@H](CO[C@@H]%18(O[C@H](CO)[C@@H](O[C@H]%17(O[C@@H](C)[C@H](O)[C@@H](O[C@@H]%16(O[C@@H](C)[C@H](O)[C@@H](O[C@@H]%15(O[C@@H](C)[C@H](O)[C@@H](O[C@@H]%12(O[C@H](CO)[C@@H](O[C@H]%11(O[C@@H](C)[C@H](O)[C@@H](O[C@@H]%10(O[C@@H](C)[C@H](O)[C@@H](O[C@@H]9(O[C@@H](C)[C@H](O)[C@@H](O[C@@H]6(O[C@H](CO)[C@@H](O[C@H]5(O[C@@H](C)[C@H](O)[C@@H](O[C@@H]4(O[C@@H](C)[C@H](O)[C@@H](O[C@@H]3(O[C@@H](C)[C@H](O)[C@@H](O[R])[C@@H](O[C@H]2(O[C@H](CO[C@H]1(O[C@H](C([O-])=O)[C@@H](O)[C@H](O)[C@@H](O)1))[C@@H](O)[C@H](O)[C@@H](O)2))3))[C@@H](O)4))[C@@H](O)5))[C@H](O)[C@@H](O)6))[C@@H](O[C@H]8(O[C@H](CO[C@H]7(O[C@H](C([O-])=O)[C@@H](O)[C@H](O)[C@@H](O)7))[C@@H](O)[C@H](O)[C@@H](O)8))9))[C@@H](O)%10))[C@@H](O)%11))[C@H](O)[C@@H](O)%12))[C@@H](O[C@H]%14(O[C@H](CO[C@H]%13(O[C@H]... truncated[09:29:19] SMILES Parse Error: syntax error while parsing: CC(C)=CCCC(\\C)=C/CCC(\\C)=C/CCC(/C)=C/CCC(/C)=C/CCC(/C)=C/CCC(/C)=C/CCC(/C)=C/CCC(/C)=C/CCC(/C)=C/CCC(/C)=C/COP(=O)([O-])OP([O-])(=O)O[C@@H]1([C@@H]([C@H]([C@H]([C@H](O1)CO)O)O[C@@H]2([C@H]([C@@H]([C@H](O)[C@@H](O2)C)O[C@@H]%15(O[C@H](CO)[C@@H](O)[C@H](O[C@H]%14(O[C@H](CO)[C@H](O[C@@H]3([C@@H]([C@H]([C@H]([C@H](O3)CO)O)O[C@@H]4([C@H]([C@@H]([C@H](O)[C@@H](O4)C)O[C@@H]%12(O[C@H](CO)[C@@H](O)[C@H](O[C@H]%11(O[C@H](CO)[C@H](O[C@@H]5([C@@H]([C@H]([C@H]([C@H](O5)CO)O)O[C@@H]6([C@H]([C@@H]([C@H](O)[C@@H](O6)C)O[C@@H]9(O[C@H](CO)[C@@H](O)[C@H](O[C@H]8(O[C@H](CO)[C@H](O[R])[C@@H]7(O[C@@](O[C@H]78)(C([O-])=O)C)))[C@H](NC(C)=O)9))NC(C)=O))NC(C)=O))[C@@H]%10(O[C@@](O[C@H]%10%11)(C([O-])=O)C)))[C@H](NC(C)=O)%12))NC(C)=O))NC(C)=O))[C@@H]%13(O[C@@](O[C@H]%13%14)(C([O-])=O)C)))[C@H](NC(C)=O)%15))NC(C)=O))NC(C)=O)\n",
      "[09:29:19] SMILES Parse Error: Failed parsing SMILES 'CC(C)=CCCC(\\C)=C/CCC(\\C)=C/CCC(/C)=C/CCC(/C)=C/CCC(/C)=C/CCC(/C)=C/CCC(/C)=C/CCC(/C)=C/CCC(/C)=C/CCC(/C)=C/COP(=O)([O-])OP([O-])(=O)O[C@@H]1([C@@H]([C@H]([C@H]([C@H](O1)CO)O)O[C@@H]2([C@H]([C@@H]([C@H](O)[C@@H](O2)C)O[C@@H]%15(O[C@H](CO)[C@@H](O)[C@H](O[C@H]%14(O[C@H](CO)[C@H](O[C@@H]3([C@@H]([C@H]([C@H]([C@H](O3)CO)O)O[C@@H]4([C@H]([C@@H]([C@H](O)[C@@H](O4)C)O[C@@H]%12(O[C@H](CO)[C@@H](O)[C@H](O[C@H]%11(O[C@H](CO)[C@H](O[C@@H]5([C@@H]([C@H]([C@H]([C@H](O5)CO)O)O[C@@H]6([C@H]([C@@H]([C@H](O)[C@@H](O6)C)O[C@@H]9(O[C@H](CO)[C@@H](O)[C@H](O[C@H]8(O[C@H](CO)[C@H](O[R])[C@@H]7(O[C@@](O[C@H]78)(C([O-])=O)C)))[C@H](NC(C)=O)9))NC(C)=O))NC(C)=O))[C@@H]%10(O[C@@](O[C@H]%10%11)(C([O-])=O)C)))[C@H](NC(C)=O)%12))NC(C)=O))NC(C)=O))[C@@H]%13(O[C@@](O[C@H]%13%14)(C([O-])=O)C)))[C@H](NC(C)=O)%15))NC(C)=O))NC(C)=O)' for input: 'CC(C)=CCCC(\\C)=C/CCC(\\C)=C/CCC(/C)=C/CCC(/C)=C/CCC(/C)=C/CCC(/C)=C/CCC(/C)=C/CCC(/C)=C/CCC(/C)=C/CCC(/C)=C/COP(=O)([O-])OP([... truncated[09:29:19] Conflicting single bond directions around double bond at index 17.\n",
      "[09:29:19]   BondStereo set to STEREONONE and single bond directions set to NONE.\n",
      "[09:29:19] Conflicting single bond directions around double bond at index 17.\n",
      "[09:29:19]   BondStereo set to STEREONONE and single bond directions set to NONE.\n",
      "[09:29:19] Conflicting single bond directions around double bond at index 17.\n",
      "[09:29:19]   BondStereo set to STEREONONE and single bond directions set to NONE.\n",
      "[09:29:19] Conflicting single bond directions around double bond at index 17.\n",
      "[09:29:19]   BondStereo set to STEREONONE and single bond directions set to NONE.\n",
      "[09:29:19] SMILES Parse Error: syntax error while parsing: C\\C=C(C)/CC\\C=C(C)/CC\\C=C(C)/CC\\C=C(C)/CC\\C=C(C)/CC\\C=C(C)/CC\\C=C(C)/CC\\C=C(C)/CC/C=C(C)/CC/C=C(C)/CC/C=C(C)/COP(=O)([O-])OP(=O)([O-])O[C@H]%27(O[C@H](CO)[C@H](O)[C@H](O[C@@H]%26(O[C@H](CO)[C@@H](O[C@@H]%25(O[C@H](COC(=O)C)[C@@H](O[C@@H]%24(O[C@H](CO[C@@H]5(O[C@H](CO[C@@H]4(O[C@H](CO)[C@@H](O)[C@H](O[C@@H]3(O[C@H](COC(=O)CCC(=O)[O-])[C@@H](O)[C@H](O[C@@H]2(O[C@@H]1(CO[C@](O[C@H]1[C@H](O)[C@@H](O)2)(C([O-])=O)C)))[C@@H](O)3))[C@@H](O)4))[C@@H](O)[C@H](O)[C@@H](O)5))[C@@H](O[C@@H]%23(O[C@H](CO)[C@H](O)[C@H](O[C@@H]%22(O[C@H](CO)[C@@H](O[C@@H]%21(O[C@H](COC(=O)C)[C@@H](O[C@@H]%20(O[C@H](CO[C@@H]%10(O[C@H](CO[C@@H]9(O[C@H](CO)[C@@H](O)[C@H](O[C@@H]8(O[C@H](COC(=O)CCC(=O)[O-])[C@@H](O)[C@H](O[C@@H]7(O[C@@H]6(CO[C@](O[C@H]6[C@H](O)[C@@H](O)7)(C([O-])=O)C)))[C@@H](O)8))[C@@H](O)9))[C@@H](O)[C@H](O)[C@@H](O)%10))[C@@H](O[C@@H]%19(O[C@H](CO)[C@H](O)[C@H](O[C@@H]%18(O[C@H](CO)[C@@H](O[C@@H]%17(O[C@H](COC(=O)C)[C@@H](O[C@@H]%16(O[C@H](CO[... truncated[09:29:19] SMILES Parse Error: Failed parsing SMILES 'C\\C=C(C)/CC\\C=C(C)/CC\\C=C(C)/CC\\C=C(C)/CC\\C=C(C)/CC\\C=C(C)/CC\\C=C(C)/CC\\C=C(C)/CC/C=C(C)/CC/C=C(C)/CC/C=C(C)/COP(=O)([O-])OP(=O)([O-])O[C@H]%27(O[C@H](CO)[C@H](O)[C@H](O[C@@H]%26(O[C@H](CO)[C@@H](O[C@@H]%25(O[C@H](COC(=O)C)[C@@H](O[C@@H]%24(O[C@H](CO[C@@H]5(O[C@H](CO[C@@H]4(O[C@H](CO)[C@@H](O)[C@H](O[C@@H]3(O[C@H](COC(=O)CCC(=O)[O-])[C@@H](O)[C@H](O[C@@H]2(O[C@@H]1(CO[C@](O[C@H]1[C@H](O)[C@@H](O)2)(C([O-])=O)C)))[C@@H](O)3))[C@@H](O)4))[C@@H](O)[C@H](O)[C@@H](O)5))[C@@H](O[C@@H]%23(O[C@H](CO)[C@H](O)[C@H](O[C@@H]%22(O[C@H](CO)[C@@H](O[C@@H]%21(O[C@H](COC(=O)C)[C@@H](O[C@@H]%20(O[C@H](CO[C@@H]%10(O[C@H](CO[C@@H]9(O[C@H](CO)[C@@H](O)[C@H](O[C@@H]8(O[C@H](COC(=O)CCC(=O)[O-])[C@@H](O)[C@H](O[C@@H]7(O[C@@H]6(CO[C@](O[C@H]6[C@H](O)[C@@H](O)7)(C([O-])=O)C)))[C@@H](O)8))[C@@H](O)9))[C@@H](O)[C@H](O)[C@@H](O)%10))[C@@H](O[C@@H]%19(O[C@H](CO)[C@H](O)[C@H](O[C@@H]%18(O[C@H](CO)[C@@H](O[C@@H]%17(O[C@H](COC(=O)C)[C@@H](O[C@@H]%16(O[C@H](CO[C@@H]... truncated[09:29:19] SMILES Parse Error: syntax error while parsing: C(OP([O-])(=O)OP([O-])(=O)OC[C@H]8(O[C@H]%10(NC%11(/N=C(N)\\NC(=O)C(/N[C@@H](C9(\\S[Mo]4([a\n",
      "[09:29:19] SMILES Parse Error: Failed parsing SMILES 'C(OP([O-])(=O)OP([O-])(=O)OC[C@H]8(O[C@H]%10(NC%11(/N=C(N)\\NC(=O)C(/N[C@@H](C9(\\S[Mo]4([a' for input: 'C(OP([O-])(=O)OP([O-])(=O)OC[C@H]8(O[C@H]%10(NC%11(/N=C(N)\\NC(=O)C(/N[C@@H](C9(\\S[Mo]4([a'\n"
     ]
    },
    {
     "name": "stdout",
     "output_type": "stream",
     "text": [
      "error CPD-23316\n",
      "error CPD-23449\n",
      "error CPD-12251\n",
      "error CPD-7865\n"
     ]
    },
    {
     "name": "stderr",
     "output_type": "stream",
     "text": [
      "[09:29:19] Explicit valence for atom # 45 O, 3, is greater than permitted\n",
      "[09:29:19] Conflicting single bond directions around double bond at index 14.\n",
      "[09:29:19]   BondStereo set to STEREONONE and single bond directions set to NONE.\n",
      "[09:29:19] Conflicting single bond directions around double bond at index 19.\n",
      "[09:29:19]   BondStereo set to STEREONONE and single bond directions set to NONE.\n",
      "[09:29:19] Conflicting single bond directions around double bond at index 33.\n",
      "[09:29:19]   BondStereo set to STEREONONE and single bond directions set to NONE.\n",
      "[09:29:19] Conflicting single bond directions around double bond at index 38.\n",
      "[09:29:19]   BondStereo set to STEREONONE and single bond directions set to NONE.\n",
      "[09:29:19] Conflicting single bond directions around double bond at index 35.\n",
      "[09:29:19]   BondStereo set to STEREONONE and single bond directions set to NONE.\n",
      "[09:29:19] Conflicting single bond directions around double bond at index 40.\n",
      "[09:29:19]   BondStereo set to STEREONONE and single bond directions set to NONE.\n",
      "[09:29:19] Conflicting single bond directions around double bond at index 37.\n",
      "[09:29:19]   BondStereo set to STEREONONE and single bond directions set to NONE.\n",
      "[09:29:19] Conflicting single bond directions around double bond at index 42.\n",
      "[09:29:19]   BondStereo set to STEREONONE and single bond directions set to NONE.\n"
     ]
    },
    {
     "name": "stdout",
     "output_type": "stream",
     "text": [
      "error CPD0-1676\n",
      "error CPD-22876\n",
      "error CPD-17071\n",
      "error TIRON\n"
     ]
    },
    {
     "name": "stderr",
     "output_type": "stream",
     "text": [
      "[09:29:19] Conflicting single bond directions around double bond at index 7.\n",
      "[09:29:19]   BondStereo set to STEREONONE and single bond directions set to NONE.\n",
      "[09:29:19] Conflicting single bond directions around double bond at index 12.\n",
      "[09:29:19]   BondStereo set to STEREONONE and single bond directions set to NONE.\n",
      "[09:29:19] Conflicting single bond directions around double bond at index 17.\n",
      "[09:29:19]   BondStereo set to STEREONONE and single bond directions set to NONE.\n"
     ]
    },
    {
     "name": "stdout",
     "output_type": "stream",
     "text": [
      "error CPD0-2430\n",
      "error TRIS-HYDROCHLORIDE\n",
      "error CPD-25850\n",
      "error CPD0-2708\n",
      "error CPD-20735\n",
      "error CPD-11643\n",
      "error CPD0-1464\n",
      "error CPD0-1118\n",
      "error UBIQUINONE-10\n",
      "error UBIQUINONE-2\n",
      "error CPD-12492\n",
      "error UBIQUINONE-6\n",
      "error CPD-9717\n",
      "error UBIQUINONE-8\n",
      "error UBIQUINONE-9\n"
     ]
    },
    {
     "name": "stderr",
     "output_type": "stream",
     "text": [
      "[09:29:20] SMILES Parse Error: syntax error while parsing: C1(\\N(C(=O)/N=C(\\C=1)/N)[C@@H]4(O[C@H](COP(O[C@H]3(C[C@H](N2(C(=O)/N=C(\\C=C/2)/N))O[C@H](COP(=O)([O-])O[a\n",
      "[09:29:20] SMILES Parse Error: Failed parsing SMILES 'C1(\\N(C(=O)/N=C(\\C=1)/N)[C@@H]4(O[C@H](COP(O[C@H]3(C[C@H](N2(C(=O)/N=C(\\C=C/2)/N))O[C@H](COP(=O)([O-])O[a' for input: 'C1(\\N(C(=O)/N=C(\\C=1)/N)[C@@H]4(O[C@H](COP(O[C@H]3(C[C@H](N2(C(=O)/N=C(\\C=C/2)/N))O[C@H](COP(=O)([O-])O[a'\n",
      "[09:29:20] SMILES Parse Error: syntax error while parsing: CC1(\\C(=O)NC(N(\\C=1)[C@@H]4(O[C@H](COP(O[C@H]3(C[C@H](N2(C(=O)NC(=O)C(/C)=C/2))O[C@H](COP(=O)([O-])O[a\n",
      "[09:29:20] SMILES Parse Error: Failed parsing SMILES 'CC1(\\C(=O)NC(N(\\C=1)[C@@H]4(O[C@H](COP(O[C@H]3(C[C@H](N2(C(=O)NC(=O)C(/C)=C/2))O[C@H](COP(=O)([O-])O[a' for input: 'CC1(\\C(=O)NC(N(\\C=1)[C@@H]4(O[C@H](COP(O[C@H]3(C[C@H](N2(C(=O)NC(=O)C(/C)=C/2))O[C@H](COP(=O)([O-])O[a'\n",
      "[09:29:20] SMILES Parse Error: syntax error while parsing: C1([R4])(=C([R3])C(=O)C(/[R3])=C([R1])/C(=O)1)\n",
      "[09:29:20] SMILES Parse Error: Failed parsing SMILES 'C1([R4])(=C([R3])C(=O)C(/[R3])=C([R1])/C(=O)1)' for input: 'C1([R4])(=C([R3])C(=O)C(/[R3])=C([R1])/C(=O)1)'\n",
      "[09:29:20] SMILES Parse Error: syntax error while parsing: C1([R4])(=C([R3])C(=O)C(/[R3])=C([R1])/C(=O)1)\n",
      "[09:29:20] SMILES Parse Error: Failed parsing SMILES 'C1([R4])(=C([R3])C(=O)C(/[R3])=C([R1])/C(=O)1)' for input: 'C1([R4])(=C([R3])C(=O)C(/[R3])=C([R1])/C(=O)1)'\n",
      "[09:29:20] SMILES Parse Error: syntax error while parsing: C1([R4])(=C([R3])C(=O)C(/[R3])=C([R1])/C(=O)1)\n",
      "[09:29:20] SMILES Parse Error: Failed parsing SMILES 'C1([R4])(=C([R3])C(=O)C(/[R3])=C([R1])/C(=O)1)' for input: 'C1([R4])(=C([R3])C(=O)C(/[R3])=C([R1])/C(=O)1)'\n",
      "[09:29:20] SMILES Parse Error: syntax error while parsing: C1([R4])(=C([R3])C(=O)C(/[R3])=C([R1])/C(=O)1)\n",
      "[09:29:20] SMILES Parse Error: Failed parsing SMILES 'C1([R4])(=C([R3])C(=O)C(/[R3])=C([R1])/C(=O)1)' for input: 'C1([R4])(=C([R3])C(=O)C(/[R3])=C([R1])/C(=O)1)'\n",
      "[09:29:20] SMILES Parse Error: syntax error while parsing: C1([R4])(=C([R3])C(=O)C(/[R3])=C([R1])/C(=O)1)\n",
      "[09:29:20] SMILES Parse Error: Failed parsing SMILES 'C1([R4])(=C([R3])C(=O)C(/[R3])=C([R1])/C(=O)1)' for input: 'C1([R4])(=C([R3])C(=O)C(/[R3])=C([R1])/C(=O)1)'\n",
      "[09:29:20] SMILES Parse Error: syntax error while parsing: C1([R4])(=C([R3])C(=O)C(/[R3])=C([R1])/C(=O)1)\n",
      "[09:29:20] SMILES Parse Error: Failed parsing SMILES 'C1([R4])(=C([R3])C(=O)C(/[R3])=C([R1])/C(=O)1)' for input: 'C1([R4])(=C([R3])C(=O)C(/[R3])=C([R1])/C(=O)1)'\n",
      "[09:29:20] SMILES Parse Error: syntax error while parsing: C1([R4])(=C([R3])C(=O)C(/[R3])=C([R1])/C(=O)1)\n",
      "[09:29:20] SMILES Parse Error: Failed parsing SMILES 'C1([R4])(=C([R3])C(=O)C(/[R3])=C([R1])/C(=O)1)' for input: 'C1([R4])(=C([R3])C(=O)C(/[R3])=C([R1])/C(=O)1)'\n",
      "[09:29:20] SMILES Parse Error: syntax error while parsing: C1([R4])(=C([R3])C(=O)C(/[R3])=C([R1])/C(=O)1)\n",
      "[09:29:20] SMILES Parse Error: Failed parsing SMILES 'C1([R4])(=C([R3])C(=O)C(/[R3])=C([R1])/C(=O)1)' for input: 'C1([R4])(=C([R3])C(=O)C(/[R3])=C([R1])/C(=O)1)'\n",
      "[09:29:20] SMILES Parse Error: syntax error while parsing: C1([R4])(=C([R3])C(=O)C(/[R3])=C([R1])/C(=O)1)\n",
      "[09:29:20] SMILES Parse Error: Failed parsing SMILES 'C1([R4])(=C([R3])C(=O)C(/[R3])=C([R1])/C(=O)1)' for input: 'C1([R4])(=C([R3])C(=O)C(/[R3])=C([R1])/C(=O)1)'\n",
      "[09:29:20] SMILES Parse Error: syntax error while parsing: C(OC([R1])=O)[C@@H](OC([R2])=O)COP(OP(OC[C@@H]2([C@H]([C@H]([C@H](N1(\\C=C/C(=O)NC1=O))O2)O)O))(=O)[O-])(=O)[O-]\n",
      "[09:29:20] SMILES Parse Error: Failed parsing SMILES 'C(OC([R1])=O)[C@@H](OC([R2])=O)COP(OP(OC[C@@H]2([C@H]([C@H]([C@H](N1(\\C=C/C(=O)NC1=O))O2)O)O))(=O)[O-])(=O)[O-]' for input: 'C(OC([R1])=O)[C@@H](OC([R2])=O)COP(OP(OC[C@@H]2([C@H]([C@H]([C@H](N1(\\C=C/C(=O)NC1=O))O2)O)O))(=O)[O-])(=O)[O-]'\n"
     ]
    },
    {
     "name": "stdout",
     "output_type": "stream",
     "text": [
      "error CPD0-2076\n",
      "error CPD-9715\n",
      "error PRODUCTS-OF-ATP-BREAKDOWN\n",
      "error CPD-12947\n",
      "error CPD0-2693\n",
      "error CPD-25847\n",
      "error CPD-25846\n",
      "error CPD-25647\n",
      "error UV-Light\n",
      "error CPD-7841\n",
      "error X-DALL-HEX-1:5\n",
      "error X-DARA-HEX-2:5_2:KETO\n",
      "error X-DARA-HEX-2:6_2:KETO\n",
      "error X-DARA-PEN-1:4\n",
      "error X-DGAL-HEX-1:4\n",
      "error X-DGAL-HEX-1:5\n",
      "error X-DGAL-HEX-1:5_6:A\n",
      "error X-DGLC-HEX-1:4\n",
      "error X-DGLC-HEX-1:5\n",
      "error X-DGLC-HEX-1:5_6:A\n",
      "error X-DGLC-HEX-1:5_6:D\n",
      "error X-DGLC-HEX-X:X\n",
      "error X-DGRO-DGAL-NON-2:6_1:A_2:KETO_3:D\n",
      "error X-DMAN-HEX-1:4\n",
      "error X-DMAN-HEX-1:5\n",
      "error X-DMAN-HEX-1:5_6:A\n",
      "error X-DMAN-HEX-1:5_6:D\n",
      "error X-DMAN-HEX-X:X\n",
      "error X-DMAN-OCT-2:6_1:A_2:KETO_3:D\n",
      "error X-DRIB-PEN-1:4\n",
      "error X-DXYL-PEN-1:5\n",
      "error X-HEP-1:5\n",
      "error X-HEP-X:X\n",
      "error X-HEX-1:5\n",
      "error X-HEX-1:5_6:A\n",
      "error X-LARA-PEN-1:4\n",
      "error X-LARA-PEN-1:5\n",
      "error X-LGAL-HEX-1:5\n",
      "error X-LGAL-HEX-1:5_6:D\n",
      "error X-LIDO-HEX-1:5_6:A\n",
      "error X-LMAN-HEX-1:5_6:D\n",
      "error X-PEN-1:4\n",
      "error X-PEN-1:5\n"
     ]
    },
    {
     "name": "stderr",
     "output_type": "stream",
     "text": [
      "[09:29:20] SMILES Parse Error: syntax error while parsing: C[C@@]1(O)(C[C@]2(O)([C@](O[R2])(C(=O)C1)C3(\\C(=O)C4(/C=C\\C(/[R1])=C(C(\\C(=O)C(/C=C\\2)=3)=4)\\O))))\n",
      "[09:29:20] SMILES Parse Error: Failed parsing SMILES 'C[C@@]1(O)(C[C@]2(O)([C@](O[R2])(C(=O)C1)C3(\\C(=O)C4(/C=C\\C(/[R1])=C(C(\\C(=O)C(/C=C\\2)=3)=4)\\O))))' for input: 'C[C@@]1(O)(C[C@]2(O)([C@](O[R2])(C(=O)C1)C3(\\C(=O)C4(/C=C\\C(/[R1])=C(C(\\C(=O)C(/C=C\\2)=3)=4)\\O))))'\n",
      "[09:29:20] SMILES Parse Error: syntax error while parsing: CC(=O)OC[C@@H]1([C@H]([C@@H]([C@H]([C@@H](O1)OCC(CCCCCCCCCCCCC([R1])C([O-])=O)O)O)O)O[C@H]2([C@@H]([C@H]([C@@H]([C@H](O2)CO)O)O)OC(CC([R2])O)=O))\n",
      "[09:29:20] SMILES Parse Error: Failed parsing SMILES 'CC(=O)OC[C@@H]1([C@H]([C@@H]([C@H]([C@@H](O1)OCC(CCCCCCCCCCCCC([R1])C([O-])=O)O)O)O)O[C@H]2([C@@H]([C@H]([C@@H]([C@H](O2)CO)O)O)OC(CC([R2])O)=O))' for input: 'CC(=O)OC[C@@H]1([C@H]([C@@H]([C@H]([C@@H](O1)OCC(CCCCCCCCCCCCC([R1])C([O-])=O)O)O)O)O[C@H]2([C@@H]([C@H]([C@@H]([C@H](O2)CO)O)O)OC(CC([R2])O)=O))'\n",
      "[09:29:20] Conflicting single bond directions around double bond at index 28.\n",
      "[09:29:20]   BondStereo set to STEREONONE and single bond directions set to NONE.\n",
      "[09:29:20] Explicit valence for atom # 52 O, 3, is greater than permitted\n"
     ]
    },
    {
     "name": "stdout",
     "output_type": "stream",
     "text": [
      "error CPD-22962\n",
      "error CPD-18101\n",
      "error CPD-18501\n",
      "error CPD0-2393\n",
      "error CPD0-2420\n",
      "error ACP-GROUP\n",
      "error CPD-24280\n",
      "error Aryl-Carrier-Protein-Group\n",
      "error CPD-12050\n",
      "error CPD-24085\n",
      "error CPD-24021\n",
      "error CPD-20907\n",
      "error CPD-20906\n",
      "error NRPS-Group\n",
      "error Peptidyl-Carrier-Protein-Group\n",
      "error CPD-23477\n",
      "error PKS-ACP-GROUP\n"
     ]
    },
    {
     "name": "stderr",
     "output_type": "stream",
     "text": [
      "[09:29:21] SMILES Parse Error: syntax error while parsing: CC(C)(COP(=O)([O-])OC[C@H](N[a\n",
      "[09:29:21] SMILES Parse Error: Failed parsing SMILES 'CC(C)(COP(=O)([O-])OC[C@H](N[a' for input: 'CC(C)(COP(=O)([O-])OC[C@H](N[a'\n",
      "[09:29:21] SMILES Parse Error: syntax error while parsing: CC(C)=CCCC(\\C)=C/CCC(\\C)=C/CCC(/C)=C/CCC(/C)=C/CCC(/C)=C/CCC(/C)=C/CCC(/C)=C/CCC(/C)=C/CCC(/C)=C/CCC(/C)=C/COP(=O)([O-])OP([O-])(=O)O[C@@H]1([C@@H]([C@H]([C@H](O)[C@H](O1)CO)O[C@H]%14(O[C@H](CO)[C@@H](O)[C@H](O[C@H]%13(O[C@H](CO)[C@@H](O)[C@H](O[C@H]%12(O[C@H](CO)[C@@H](O)[C@H](O[C@H]%11(O[C@H](CO)[C@@H](O)[C@H](O)[C@H](O[C@H]%10(O[C@H](CO)[C@@H](O)[C@H](O)[C@H](O[C@H]9(O[C@H](CO)[C@@H](O)[C@H](O)[C@H](O[C@H]8(O[C@H](CO)[C@@H](O)[C@H](O[C@H]7(O[C@H](CO)[C@@H](O)[C@H](O[C@H]6(O[C@H](CO)[C@@H](O)[C@H](O)[C@H](O[C@H]5(O[C@H](CO)[C@@H](O)[C@H](O)[C@H](O[C@H]4(O[C@H](CO)[C@@H](O)[C@H](O)[C@H](O[C@H]3(O[C@H](CO)[C@@H](O)[C@H](O[C@H]2(O[C@H](CO)[C@@H](O)[C@H](O[R])[C@H](O)2))[C@H](O)3))4))5))6))[C@H](O)7))[C@H](O)8))9))%10))%11))[C@H](O)%12))[C@H](O)%13))[C@H](O)%14))NC(C)=O)\n",
      "[09:29:21] SMILES Parse Error: Failed parsing SMILES 'CC(C)=CCCC(\\C)=C/CCC(\\C)=C/CCC(/C)=C/CCC(/C)=C/CCC(/C)=C/CCC(/C)=C/CCC(/C)=C/CCC(/C)=C/CCC(/C)=C/CCC(/C)=C/COP(=O)([O-])OP([O-])(=O)O[C@@H]1([C@@H]([C@H]([C@H](O)[C@H](O1)CO)O[C@H]%14(O[C@H](CO)[C@@H](O)[C@H](O[C@H]%13(O[C@H](CO)[C@@H](O)[C@H](O[C@H]%12(O[C@H](CO)[C@@H](O)[C@H](O[C@H]%11(O[C@H](CO)[C@@H](O)[C@H](O)[C@H](O[C@H]%10(O[C@H](CO)[C@@H](O)[C@H](O)[C@H](O[C@H]9(O[C@H](CO)[C@@H](O)[C@H](O)[C@H](O[C@H]8(O[C@H](CO)[C@@H](O)[C@H](O[C@H]7(O[C@H](CO)[C@@H](O)[C@H](O[C@H]6(O[C@H](CO)[C@@H](O)[C@H](O)[C@H](O[C@H]5(O[C@H](CO)[C@@H](O)[C@H](O)[C@H](O[C@H]4(O[C@H](CO)[C@@H](O)[C@H](O)[C@H](O[C@H]3(O[C@H](CO)[C@@H](O)[C@H](O[C@H]2(O[C@H](CO)[C@@H](O)[C@H](O[R])[C@H](O)2))[C@H](O)3))4))5))6))[C@H](O)7))[C@H](O)8))9))%10))%11))[C@H](O)%12))[C@H](O)%13))[C@H](O)%14))NC(C)=O)' for input: 'CC(C)=CCCC(\\C)=C/CCC(\\C)=C/CCC(/C)=C/CCC(/C)=C/CCC(/C)=C/CCC(/C)=C/CCC(/C)=C/CCC(/C)=C/CCC(/C)=C/CCC(/C)=C/COP(=O)([O-])OP([O-])(=O)O[C@@H]1([C@@H]([C@H]... truncated[09:29:21] SMILES Parse Error: syntax error while parsing: CC(C)(COP(=O)([O-])OC[C@H](N[an\n",
      "[09:29:21] SMILES Parse Error: Failed parsing SMILES 'CC(C)(COP(=O)([O-])OC[C@H](N[an' for input: 'CC(C)(COP(=O)([O-])OC[C@H](N[an'\n",
      "[09:29:21] SMILES Parse Error: syntax error while parsing: CC(C)=CCCC(\\C)=C/CCC(\\C)=C/CCC(/C)=C/CCC(/C)=C/CCC(/C)=C/CCC(/C)=C/CCC(/C)=C/CCC(/C)=C/CCC(/C)=C/CCC(/C)=C/COP(=O)([O-])OP([O-])(=O)O[C@@H]1([C@@H]([C@H]([C@H](O)[C@H](O1)CO)O[C@H]%13(O[C@H](CO)[C@@H](O)[C@H](O[C@H]%12(O[C@H](CO)[C@@H](O)[C@H](O[C@H]%11(O[C@H](CO)[C@@H](O)[C@H](O[C@H]%10(O[C@H](CO)[C@@H](O)[C@H](O)[C@H](O[C@H]9(O[C@H](CO)[C@@H](O)[C@H](O)[C@H](O[C@@H]8(O[C@H](CO)[C@@H](O)[C@H](O[C@H]7(O[C@H](CO)[C@@H](O)[C@H](O)[C@H](O[C@H]6(O[C@H](CO)[C@@H](O)[C@H](O)[C@H](O[C@@H]5(O[C@H](CO)[C@@H](O)[C@H](O[C@H]4(O[C@H](CO)[C@@H](O)[C@H](O)[C@H](O[C@H]3(O[C@H](CO)[C@@H](O)[C@H](O)[C@H](O[C@@H]2(O[C@H](CO)[C@@H](O)[C@H](O[R])[C@H](O)2))3))4))[C@H](O)5))6))7))[C@H](O)8))9))%10))[C@H](O)%11))[C@H](O)%12))[C@H](O)%13))NC(C)=O)\n",
      "[09:29:21] SMILES Parse Error: Failed parsing SMILES 'CC(C)=CCCC(\\C)=C/CCC(\\C)=C/CCC(/C)=C/CCC(/C)=C/CCC(/C)=C/CCC(/C)=C/CCC(/C)=C/CCC(/C)=C/CCC(/C)=C/CCC(/C)=C/COP(=O)([O-])OP([O-])(=O)O[C@@H]1([C@@H]([C@H]([C@H](O)[C@H](O1)CO)O[C@H]%13(O[C@H](CO)[C@@H](O)[C@H](O[C@H]%12(O[C@H](CO)[C@@H](O)[C@H](O[C@H]%11(O[C@H](CO)[C@@H](O)[C@H](O[C@H]%10(O[C@H](CO)[C@@H](O)[C@H](O)[C@H](O[C@H]9(O[C@H](CO)[C@@H](O)[C@H](O)[C@H](O[C@@H]8(O[C@H](CO)[C@@H](O)[C@H](O[C@H]7(O[C@H](CO)[C@@H](O)[C@H](O)[C@H](O[C@H]6(O[C@H](CO)[C@@H](O)[C@H](O)[C@H](O[C@@H]5(O[C@H](CO)[C@@H](O)[C@H](O[C@H]4(O[C@H](CO)[C@@H](O)[C@H](O)[C@H](O[C@H]3(O[C@H](CO)[C@@H](O)[C@H](O)[C@H](O[C@@H]2(O[C@H](CO)[C@@H](O)[C@H](O[R])[C@H](O)2))3))4))[C@H](O)5))6))7))[C@H](O)8))9))%10))[C@H](O)%11))[C@H](O)%12))[C@H](O)%13))NC(C)=O)' for input: 'CC(C)=CCCC(\\C)=C/CCC(\\C)=C/CCC(/C)=C/CCC(/C)=C/CCC(/C)=C/CCC(/C)=C/CCC(/C)=C/CCC(/C)=C/CCC(/C)=C/CCC(/C)=C/COP(=O)([O-])OP([O-])(=O)O[C@@H]1([C@@H]([C@H]([C@H](O)[C@H](O1)CO)O[C@H]%13(O[C@H](CO)[C@@... truncated[09:29:21] SMILES Parse Error: syntax error while parsing: CC(C)=CCCC(\\C)=C/CCC(\\C)=C/CCC(/C)=C/CCC(/C)=C/CCC(/C)=C/CCC(/C)=C/CCC(/C)=C/CCC(/C)=C/CCC(/C)=C/CCC(/C)=C/COP(=O)([O-])OP([O-])(=O)O[C@@H]1([C@@H]([C@H]([C@@H]([C@H](O1)CO)O[C@@H]6(O[C@H](CO)[C@@H](O[C@@H]5(O[C@H](CO)[C@@H](O)[C@H](O[C@@H]4(O[C@H](CO)[C@@H](O[C@@H]3(O[C@H](CO)[C@@H](O)[C@H](O[C@@H]2(O[C@H](CO)[C@@H](O)[C@H](O)[C@H](NC(=O)C)2))[C@H](NC(=O)C)3))[C@H](O)[C@H](NC(=O)C)4))[C@H](NC(=O)C)5))[C@H](O)[C@H](NC(=O)C)6))O)NC(C)=O).C[R]\n",
      "[09:29:21] SMILES Parse Error: Failed parsing SMILES 'CC(C)=CCCC(\\C)=C/CCC(\\C)=C/CCC(/C)=C/CCC(/C)=C/CCC(/C)=C/CCC(/C)=C/CCC(/C)=C/CCC(/C)=C/CCC(/C)=C/CCC(/C)=C/COP(=O)([O-])OP([O-])(=O)O[C@@H]1([C@@H]([C@H]([C@@H]([C@H](O1)CO)O[C@@H]6(O[C@H](CO)[C@@H](O[C@@H]5(O[C@H](CO)[C@@H](O)[C@H](O[C@@H]4(O[C@H](CO)[C@@H](O[C@@H]3(O[C@H](CO)[C@@H](O)[C@H](O[C@@H]2(O[C@H](CO)[C@@H](O)[C@H](O)[C@H](NC(=O)C)2))[C@H](NC(=O)C)3))[C@H](O)[C@H](NC(=O)C)4))[C@H](NC(=O)C)5))[C@H](O)[C@H](NC(=O)C)6))O)NC(C)=O).C[R]' for input: 'CC(C)=CCCC(\\C)=C/CCC(\\C)=C/CCC(/C)=C/CCC(/C)=C/CCC(/C)=C/CCC(/C)=C/CCC(/C)=C/CCC(/C)=C/CCC(/C)=C/CCC(/C)=C/COP(=O)([O-])OP([O-])(=O)O[C@@H]1([C@@H]([C@H]([C@@H]([C@H](O1)CO)O[C@@H]6(O[C@H](CO)[C@@H](O[C@@H]5(O[C@H](CO)[C@@H](O)[C@H](O[C@@H]4(O[C@H](CO)[C@@H](O[C@@H]3(O[C@H](CO)[C@@H](O)[C@H](O[C@@H]2(O[C@H](CO)[C@@H](O)[C@H](O)[C@H](NC(=O)C)2))[C@H](NC(=O)C)3))[C@H](O)[C@H](NC(=O)C)4))[C@H](NC(=O)C)5))[C@H](O)[C@H](NC(=O)C)6))O)NC(C)=O).C[R]'\n",
      "[09:29:21] SMILES Parse Error: syntax error while parsing: C[C@@H](O)CNC(=O)CC[C@]1(C)([C@@H](CC(=O)N)[C@@H]8([C@@]6(C)([C@@](C)(CC(N)=O)[C@H](CCC(N)=O)C7(\\C(/C)=C4([C@@](C)(CC(N)=O)[C@H](CCC(N)=O)C5(\\C=C2(C(C)(C)[C@H](CCC(N)=O)C3(\\C(/C)=C1/N([Co-3]([N+]\\2=3)([N+]4=5)[N+]\\6=7)8)))))))).[a\n",
      "[09:29:21] SMILES Parse Error: Failed parsing SMILES 'C[C@@H](O)CNC(=O)CC[C@]1(C)([C@@H](CC(=O)N)[C@@H]8([C@@]6(C)([C@@](C)(CC(N)=O)[C@H](CCC(N)=O)C7(\\C(/C)=C4([C@@](C)(CC(N)=O)[C@H](CCC(N)=O)C5(\\C=C2(C(C)(C)[C@H](CCC(N)=O)C3(\\C(/C)=C1/N([Co-3]([N+]\\2=3)([N+]4=5)[N+]\\6=7)8)))))))).[a' for input: 'C[C@@H](O)CNC(=O)CC[C@]1(C)([C@@H](CC(=O)N)[C@@H]8([C@@]6(C)([C@@](C)(CC(N)=O)[C@H](CCC(N)=O)C7(\\C(/C)=C4([C@@](C)(CC(N)=O)[C@H](CCC(N)=O)C5(\\C=C2(C(C)(C)[C@H](CCC(N)=O)C3(\\C(/C)=C1/N([Co-3]([N+]\\2=3)([N+]4=5)[N+]\\6=7)8)))))))).[a'\n",
      "[09:29:21] SMILES Parse Error: syntax error while parsing: C[C@@H](O)CNC(=O)CC[C@]1(C)([C@@H](CC(=O)N)[C@@H]8([C@@]6(C)([C@@](C)(CC(N)=O)[C@H](CCC(N)=O)C7(\\C(/C)=C4([C@@](C)(CC(N)=O)[C@H](CCC(N)=O)C5(\\C=C2(C(C)(C)[C@H](CCC(N)=O)C3(\\C(/C)=C1/N([Co-2]([N+]\\2=3)([N+]4=5)[N+]\\6=7)8)))))))).[a\n",
      "[09:29:21] SMILES Parse Error: Failed parsing SMILES 'C[C@@H](O)CNC(=O)CC[C@]1(C)([C@@H](CC(=O)N)[C@@H]8([C@@]6(C)([C@@](C)(CC(N)=O)[C@H](CCC(N)=O)C7(\\C(/C)=C4([C@@](C)(CC(N)=O)[C@H](CCC(N)=O)C5(\\C=C2(C(C)(C)[C@H](CCC(N)=O)C3(\\C(/C)=C1/N([Co-2]([N+]\\2=3)([N+]4=5)[N+]\\6=7)8)))))))).[a' for input: 'C[C@@H](O)CNC(=O)CC[C@]1(C)([C@@H](CC(=O)N)[C@@H]8([C@@]6(C)([C@@](C)(CC(N)=O)[C@H](CCC(N)=O)C7(\\C(/C)=C4([C@@](C)(CC(N)=O)[C@H](CCC(N)=O)C5(\\C=C2(C(C)(C)[C@H](CCC(N)=O)C3(\\C(/C)=C1/N([Co-2]([N+]\\2=3)([N+]4=5)[N+]\\6=7)8)))))))).[a'\n",
      "[09:29:21] SMILES Parse Error: syntax error while parsing: CC(C)(COP(=O)([O-])OC[C@H](N[a\n",
      "[09:29:21] SMILES Parse Error: Failed parsing SMILES 'CC(C)(COP(=O)([O-])OC[C@H](N[a' for input: 'CC(C)(COP(=O)([O-])OC[C@H](N[a'\n",
      "[09:29:21] SMILES Parse Error: syntax error while parsing: CC(C)(COP(=O)([O-])OC[C@H](N[a\n",
      "[09:29:21] SMILES Parse Error: Failed parsing SMILES 'CC(C)(COP(=O)([O-])OC[C@H](N[a' for input: 'CC(C)(COP(=O)([O-])OC[C@H](N[a'\n",
      "[09:29:21] SMILES Parse Error: syntax error while parsing: CC(C)(COP(=O)([O-])OC[C@H](N[a\n",
      "[09:29:21] SMILES Parse Error: Failed parsing SMILES 'CC(C)(COP(=O)([O-])OC[C@H](N[a' for input: 'CC(C)(COP(=O)([O-])OC[C@H](N[a'\n",
      "[09:29:21] SMILES Parse Error: syntax error while parsing: CC(C)(COP(=O)([O-])OC[C@H](N[a\n",
      "[09:29:21] SMILES Parse Error: Failed parsing SMILES 'CC(C)(COP(=O)([O-])OC[C@H](N[a' for input: 'CC(C)(COP(=O)([O-])OC[C@H](N[a'\n"
     ]
    }
   ],
   "source": [
    "compounds_df = read_compounds()\n",
    "apf = AtomPairFingerprint()\n",
    "\n",
    "fingerprints = {}\n",
    "for idx, row in compounds_df.iterrows():\n",
    "    try:\n",
    "        fp = apf.transform([row[\"SMILES\"]])\n",
    "        fingerprints[idx] = fp\n",
    "    except Exception as e:\n",
    "        print(\"error\", idx)     \n"
   ]
  },
  {
   "cell_type": "code",
   "execution_count": 3,
   "id": "101e26c0-acb6-44a0-86f2-02ba2fead80c",
   "metadata": {},
   "outputs": [],
   "source": [
    "def compound_fp_mean_embedding(graph):\n",
    "    fps = pd.Series(fingerprints, index=graph.compounds, name=\"fps\")\n",
    "    fps = fps[~fps.isna()]\n",
    "    fps = np.vstack(fps.values)\n",
    "    return fps.mean(axis=0)"
   ]
  },
  {
   "cell_type": "code",
   "execution_count": 4,
   "id": "01959ce9-7a1e-4eb2-b1e3-94b72020a762",
   "metadata": {},
   "outputs": [],
   "source": [
    "def get_embeddings(organism_ids, embedding_fun):\n",
    "    embeddings = {}\n",
    "    for org in organism_ids:\n",
    "        try:\n",
    "            g = Graph.from_organism(org)\n",
    "            emb = embedding_fun(g)\n",
    "            embeddings[org] = emb\n",
    "        except Exception as e:\n",
    "            print(e)\n",
    "\n",
    "    return pd.DataFrame(embeddings)"
   ]
  },
  {
   "cell_type": "code",
   "execution_count": 5,
   "id": "695cb887-0585-47ae-b72f-69fc85de9e21",
   "metadata": {},
   "outputs": [],
   "source": [
    "orgs = pd.read_csv(\"org_subset.csv\")[\"metacyc_id\"]\n",
    "\n",
    "df = get_embeddings(orgs, compound_fp_mean_embedding)\n",
    "\n",
    "df.to_csv(\"compound_fp_mean_embedding.csv\", index=False)"
   ]
  },
  {
   "cell_type": "code",
   "execution_count": null,
   "id": "aa41cfcb-3c57-4880-9a08-cc9281d2d8cf",
   "metadata": {},
   "outputs": [],
   "source": []
  }
 ],
 "metadata": {
  "kernelspec": {
   "display_name": "cyc",
   "language": "python",
   "name": "cyc"
  },
  "language_info": {
   "codemirror_mode": {
    "name": "ipython",
    "version": 3
   },
   "file_extension": ".py",
   "mimetype": "text/x-python",
   "name": "python",
   "nbconvert_exporter": "python",
   "pygments_lexer": "ipython3",
   "version": "3.10.14"
  }
 },
 "nbformat": 4,
 "nbformat_minor": 5
}
