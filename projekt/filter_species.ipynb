{
 "cells": [
  {
   "cell_type": "code",
   "execution_count": 2,
   "id": "2f02e11a-3b51-4a1e-869c-0eb26ef56bd9",
   "metadata": {},
   "outputs": [],
   "source": [
    "from data_utils import read_pathways, read_reactions"
   ]
  },
  {
   "cell_type": "code",
   "execution_count": 3,
   "id": "2fb96e42-f197-421d-9caa-9b0c769c3815",
   "metadata": {},
   "outputs": [],
   "source": [
    "pathways_df = read_pathways()\n"
   ]
  },
  {
   "cell_type": "code",
   "execution_count": 4,
   "id": "2eeeea9a-b12f-46eb-a07c-b354729686d6",
   "metadata": {},
   "outputs": [],
   "source": [
    "species = {}\n",
    "for i, row in pathways_df.iterrows():\n",
    "    if type(row[\"Species\"]) == list:\n",
    "        for s in row[\"Species\"]:\n",
    "            if s in species:\n",
    "                species[s].append(i)\n",
    "            else:\n",
    "                species[s] = [i]"
   ]
  },
  {
   "cell_type": "code",
   "execution_count": 12,
   "id": "ffd5bb5a-5021-46ee-82ab-fbf3c8798878",
   "metadata": {},
   "outputs": [],
   "source": [
    "species_pathways = {}\n",
    "for k, v in species.items():\n",
    "    for pwy in v:\n",
    "        for r in pathways_df.loc[v][\"Reaction-List\"]:\n",
    "            if k in species_pathways:\n",
    "                species_pathways[k].append(r)\n",
    "            else:\n",
    "                species_pathways[k] = [r]"
   ]
  },
  {
   "cell_type": "code",
   "execution_count": null,
   "id": "fbb615f7-587c-4fd7-b98a-a189e2008670",
   "metadata": {},
   "outputs": [],
   "source": []
  }
 ],
 "metadata": {
  "kernelspec": {
   "display_name": "Python 3 (ipykernel)",
   "language": "python",
   "name": "python3"
  },
  "language_info": {
   "codemirror_mode": {
    "name": "ipython",
    "version": 3
   },
   "file_extension": ".py",
   "mimetype": "text/x-python",
   "name": "python",
   "nbconvert_exporter": "python",
   "pygments_lexer": "ipython3",
   "version": "3.10.13"
  }
 },
 "nbformat": 4,
 "nbformat_minor": 5
}
