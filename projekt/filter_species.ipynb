{
 "cells": [
  {
   "cell_type": "code",
   "execution_count": 1,
   "id": "6ba5a20a-d4e0-4af4-9e03-bb1fa1c84a02",
   "metadata": {},
   "outputs": [],
   "source": [
    "from data_utils import read_pathways, read_reactions\n",
    "\n",
    "import seaborn as sns\n",
    "import matplotlib.pyplot as plt"
   ]
  },
  {
   "cell_type": "code",
   "execution_count": 2,
   "id": "2f02e11a-3b51-4a1e-869c-0eb26ef56bd9",
   "metadata": {},
   "outputs": [],
   "source": [
    "pathways_df = read_pathways()\n",
    "reactions_df = read_reactions()"
   ]
  },
  {
   "cell_type": "code",
   "execution_count": 3,
   "id": "2eeeea9a-b12f-46eb-a07c-b354729686d6",
   "metadata": {},
   "outputs": [],
   "source": [
    "species = {}\n",
    "for i, row in pathways_df.iterrows():\n",
    "    for s in row[\"Species\"]:\n",
    "        #if \"ORG\" in s:\n",
    "        if s in species:\n",
    "            species[s].append(i)\n",
    "        else:\n",
    "            species[s] = [i]\n",
    "    \n",
    "\n",
    "# sns.histplot([len(x) for x in species.values()])\n",
    "# plt.yscale('log')"
   ]
  },
  {
   "cell_type": "code",
   "execution_count": 4,
   "id": "ffd5bb5a-5021-46ee-82ab-fbf3c8798878",
   "metadata": {},
   "outputs": [],
   "source": [
    "species = {}\n",
    "for i, pwy in pathways_df.iterrows():\n",
    "    for s in pwy[\"Species\"]:\n",
    "       # if \"ORG\" in s:\n",
    "        for r in pwy[\"Reaction-List\"]:\n",
    "            if s in species:\n",
    "                species[s].append(r)\n",
    "            else:\n",
    "                species[s] = [r]\n",
    "\n",
    "\n",
    "# sns.histplot([len(x) for x in species.values()])\n",
    "# plt.yscale('log')"
   ]
  },
  {
   "cell_type": "code",
   "execution_count": 13,
   "id": "1762b399-4415-4a80-8957-72752629bb49",
   "metadata": {},
   "outputs": [],
   "source": [
    "orgs = [k for k, v in species.items() if len(v) > 100]\n",
    "orgs = [x for x in orgs if \"TAX\" in x]\n",
    "len(orgs)\n",
    "\n",
    "with open(\"org_subset.txt\", \"w\") as file:\n",
    "    for item in orgs:\n",
    "        file.write(f\"{item}\\n\")"
   ]
  },
  {
   "cell_type": "code",
   "execution_count": 42,
   "id": "26528d57-bbc9-4f33-837c-42bea80a6201",
   "metadata": {},
   "outputs": [],
   "source": [
    "import requests\n",
    "from bs4 import BeautifulSoup\n",
    "\n",
    "def scrape_metacyc(url):\n",
    "    response = requests.get(url)\n",
    "    if response.status_code == 200:\n",
    "        soup = BeautifulSoup(response.content, 'html.parser')\n",
    "        \n",
    "        # Extracting the display name\n",
    "        display_name = soup.find('center', class_='header pageTitle').text.strip()\n",
    "        \n",
    "        # Extracting synonyms\n",
    "        synonyms_paragraph = soup.find('p', class_='ecoparagraph', text=lambda t: t and 'Synonyms:' in t)\n",
    "        synonyms = synonyms_paragraph.text.split('Synonyms: ')[1].strip() if synonyms_paragraph else 'No synonyms found'\n",
    "        \n",
    "        # Extracting NCBI Taxonomy IDs and their corresponding ranks\n",
    "        taxonomy_data = []\n",
    "        for link in soup.findAll('a', class_='ORGANISM'):\n",
    "            if 'data-tippy-content' in link.attrs:\n",
    "                tippy_content = BeautifulSoup(link['data-tippy-content'], 'html.parser').get_text()\n",
    "                ncbi_id = tippy_content.split('NCBI Taxonomy ID: ')[1].split('Rank:')[0].strip()\n",
    "                rank = tippy_content.split('Rank: ')[1].split('Lineage:')[0].strip()\n",
    "                taxonomy_data.append({'Taxonomic Rank': rank, 'NCBI Taxonomy ID': ncbi_id})\n",
    "\n",
    "        return {\n",
    "            'Display Name': display_name,\n",
    "            'Synonyms': synonyms,\n",
    "            'Taxonomy': taxonomy_data\n",
    "        }\n",
    "    else:\n",
    "        return f\"Failed to retrieve data: Status code {response.status_code}\"\n",
    "\n"
   ]
  },
  {
   "cell_type": "code",
   "execution_count": 61,
   "id": "b1b24fed-61af-4304-a5cb-b2d5f2fec838",
   "metadata": {},
   "outputs": [
    {
     "data": {
      "text/plain": [
       "array(['0', 'ORG-5993', 'ORG-6040', 'ORG-5941', 'ORG-6160', 'ORG-6079',\n",
       "       'ORG-6078', 'ORG-6074', 'ORG-6073', 'ORG-5948', 'ORG-6072',\n",
       "       'ORG-6071', 'ORG-6281', 'ORG-6075', 'ORG-6275', 'ORG-6274',\n",
       "       'ORG-6273', 'ORG-5883', 'ORG-6283', 'ORG-5928', 'ORG-5949',\n",
       "       'ORG-5909', 'ORG-5882', 'ORG-5996', 'ORG-5935', 'ORG-6265',\n",
       "       'ORG-5945', 'ORG-6102', 'ORG-6025', 'ORG-6026', 'ORG-6218',\n",
       "       'ORG-5994', 'ORG-5943', 'ORG-6081', 'ORG-6076', 'ORG-6104',\n",
       "       'ORG-6091', 'ORG-6098', 'ORG-6097', 'ORG-6096', 'ORG-6080',\n",
       "       'ORG-6291', 'ORG-5890', 'ORG-5953', 'ORG-6345', 'ORG-5862',\n",
       "       'ORG-6101', 'ORG-6100', 'ORG-5961', 'ORG-6133', 'ORG-6204',\n",
       "       'ORG-6205', 'ORG-6143', 'ORG-5936', 'ORG-5960', 'ORG-5973',\n",
       "       'ORG-6172', 'ORG-5947', 'ORG-5968', 'ORG-6211', 'ORG-5918',\n",
       "       'ORG-6047', 'ORG-5891', 'ORG-6144', 'ORG-6049', 'ORG-6132',\n",
       "       'ORG-5980', 'ORG18C3-3', 'ORG18C3-4', 'ORG18C3-1', 'ORG18C3-2',\n",
       "       'ORG-57106', 'ORG-5982', 'ORG-5863', 'ORG-5985', 'ORG-6001',\n",
       "       'ORG-5975', 'ORG-6014', 'ORG-6191', 'ORG-6141', 'ORG-6142',\n",
       "       'ORG-6140', 'ORG-6249', 'ORG-6018', 'ORG-5897', 'ORG-6016',\n",
       "       'ORG-6020', 'ORG-6292', 'ORG-6293', 'ORG-6248', 'ORG-5962',\n",
       "       'ORG-5970', 'ORG-5876', 'ORG-6253', 'ORG-6134', 'ORG-6135',\n",
       "       'ORG-6137', 'ORG-6139', 'ORG-6339', 'ORG-6005', 'ORG-6148',\n",
       "       'ORG-6147', 'ORG-6152', 'ORG-6146', 'ORG-6151', 'ORG-6145',\n",
       "       'ORG-6150', 'ORG4FS-2', 'ORG-6153', 'ORG-57100', 'ORG-5989',\n",
       "       'ORG-57113', 'ORG-6035', 'ORG-5893', 'ORG-6093', 'ORG-6094',\n",
       "       'ORG-6092', 'ORG-5907', 'ORG-6284', 'ORG-5913', 'ORG-5940',\n",
       "       'ORG-5861', 'ORG-5910', 'ORG-57118', 'ORG-6002', 'ORG-6257',\n",
       "       'ORG-6255', 'ORG-5916', 'ORG-6202', 'ORG-6201', 'ORG-6033',\n",
       "       'ORG-6288', 'ORG-5969', 'ORG-6294', 'ORG-6052', 'ORG-6050',\n",
       "       'ORG-57066', 'ORG-6053', 'ORG-6061', 'ORG-6062', 'ORG-6066',\n",
       "       'ORG-6060', 'ORG-6051', 'ORG-6059', 'ORG-6056', 'ORG-5878',\n",
       "       'ORG-6194', 'ORG-6234', 'ORG-6225', 'ORG-6341', 'ORG-57092',\n",
       "       'ORG-57093', 'ORG-57074', 'ORG-57081', 'ORG-57082', 'ORG-57080',\n",
       "       'ORG-57087', 'ORG-57088', 'ORG-57097', 'ORG-57091', 'ORG-57073',\n",
       "       'ORG-57089', 'ORG-57069', 'ORG-6228', 'ORG-6340', 'ORG-6347',\n",
       "       'ORG-6346', 'ORG-6187', 'ORG-6186', 'ORG-5931', 'ORG-6246',\n",
       "       'ORG-5880', 'ORG-6164', 'ORG-6222', 'ORG-6000', 'ORG-5971',\n",
       "       'ORG-5879', 'ORG-5914', 'ORG-5917', 'ORG-5956', 'ORG-5904',\n",
       "       'ORG-6272', 'ORG-6174', 'ORG-6338', 'ORG-6277', 'ORG-6165',\n",
       "       'ORG-6332', 'ORG-6045', 'ORG-6113', 'ORG-6112', 'ORG-6214',\n",
       "       'ORG-6270', 'ORG-5902', 'ORG-6229', 'ORG-5992', 'ORG-6017',\n",
       "       'ORG-5923', 'ORG-6190', 'ORG-5967', 'ORG-6333', 'ORG-6119',\n",
       "       'ORG-6226', 'ORG-6343', 'ORG-6027', 'ORG-6122', 'ORG-6200',\n",
       "       'ORG-6367', 'ORG-6019', 'ORG-5900', 'ORG-5885', 'ORG-5919',\n",
       "       'ORG-5920', 'ORG-5889', 'ORG-6176', 'ORG-5866', 'ORG-5894',\n",
       "       'ORG-5972', 'ORG-5959', 'ORG-5958', 'ORG-5995', 'ORG-6015',\n",
       "       'ORG-5991', 'ORG-5872', 'ORG-5915', 'ORG-6138', 'ORG-6353',\n",
       "       'ORG-6254', 'ORG-6159', 'ORG-5886', 'ORG-6264', 'ORG-5908',\n",
       "       'ORG-6247', 'ORG-5952', 'ORG-6065', 'ORG-6064', 'ORG-6063',\n",
       "       'ORG-6366', 'ORG-6302', 'ORG-6301', 'ORG-6303', 'ORG-6300',\n",
       "       'ORG-6057', 'ORG-6058', 'ORG-6055', 'ORG-5859', 'ORG-6360',\n",
       "       'ORG-6268', 'ORG-5942', 'ORG-5950', 'ORG-5957', 'ORG-5966',\n",
       "       'ORG-5974', 'ORG-5978', 'ORG-6131', 'ORG-6130', 'ORG-6129',\n",
       "       'ORG-6223', 'ORG-5934', 'ORG-5946', 'ORG-6287', 'ORG-6289',\n",
       "       'ORG-5951', 'ORG-6334', 'ORG-6335', 'ORG-6260', 'ORG-5864',\n",
       "       'ORG-5929', 'ORG-5955', 'ORG-5901', 'ORG-6106', 'ORG-5930',\n",
       "       'ORG-6169', 'ORG-6128', 'ORG-6127', 'ORG-6296', 'ORG-6304',\n",
       "       'ORG-5870', 'ORG-6185', 'ORG-6221', 'ORG-6356', 'ORG-6162',\n",
       "       'ORG-57085', 'ORG-57086', 'ORG-57068', 'ORG-5986', 'ORG-57079',\n",
       "       'ORG-6198', 'ORG-6197', 'ORG-5896', 'ORG-6213', 'ORG-6178',\n",
       "       'ORG-6192', 'ORG-5987', 'ORG-5898', 'ORG-6177', 'ORG-6286',\n",
       "       'ORG-57071', 'ORG-5857', 'ORG-6236', 'ORG-6238', 'ORG-5927',\n",
       "       'ORG-6042', 'ORG-5888', 'ORG-6189', 'ORG-5988', 'ORG-6168',\n",
       "       'ORG-5944', 'ORG-5925', 'ORG-6003', 'ORG-6216', 'ORG-6034',\n",
       "       'ORG-6217', 'ORG-6239', 'ORG-6237', 'ORG-6243', 'ORG-6240',\n",
       "       'ORG-6241', 'ORG-6242', 'ORG-6269', 'ORG-6031', 'ORG-6357',\n",
       "       'ORG-57114'], dtype=object)"
      ]
     },
     "execution_count": 61,
     "metadata": {},
     "output_type": "execute_result"
    }
   ],
   "source": [
    "import pandas as pd\n"
   ]
  },
  {
   "cell_type": "code",
   "execution_count": 43,
   "id": "f638ccb8-23ef-42c0-9011-8c73c58dfc12",
   "metadata": {},
   "outputs": [
    {
     "name": "stderr",
     "output_type": "stream",
     "text": [
      "/tmp/ipykernel_721534/3906238534.py:13: DeprecationWarning: The 'text' argument to find()-type methods is deprecated. Use 'string' instead.\n",
      "  synonyms_paragraph = soup.find('p', class_='ecoparagraph', text=lambda t: t and 'Synonyms:' in t)\n"
     ]
    },
    {
     "data": {
      "text/plain": [
       "{'Display Name': 'MetaCyc\\n Organism: Lactuca sativa romaine',\n",
       " 'Synonyms': 'lettuce',\n",
       " 'Taxonomy': [{'Taxonomic Rank': 'no rank', 'NCBI Taxonomy ID': '131567'},\n",
       "  {'Taxonomic Rank': 'superkingdom', 'NCBI Taxonomy ID': '2759'},\n",
       "  {'Taxonomic Rank': 'kingdom', 'NCBI Taxonomy ID': '33090'},\n",
       "  {'Taxonomic Rank': 'phylum', 'NCBI Taxonomy ID': '35493'},\n",
       "  {'Taxonomic Rank': 'subphylum', 'NCBI Taxonomy ID': '131221'},\n",
       "  {'Taxonomic Rank': 'clade', 'NCBI Taxonomy ID': '3193'},\n",
       "  {'Taxonomic Rank': 'clade', 'NCBI Taxonomy ID': '58023'},\n",
       "  {'Taxonomic Rank': 'clade', 'NCBI Taxonomy ID': '78536'},\n",
       "  {'Taxonomic Rank': 'clade', 'NCBI Taxonomy ID': '58024'},\n",
       "  {'Taxonomic Rank': 'class', 'NCBI Taxonomy ID': '3398'},\n",
       "  {'Taxonomic Rank': 'clade', 'NCBI Taxonomy ID': '1437183'},\n",
       "  {'Taxonomic Rank': 'clade', 'NCBI Taxonomy ID': '71240'},\n",
       "  {'Taxonomic Rank': 'clade', 'NCBI Taxonomy ID': '91827'},\n",
       "  {'Taxonomic Rank': 'clade', 'NCBI Taxonomy ID': '1437201'},\n",
       "  {'Taxonomic Rank': 'clade', 'NCBI Taxonomy ID': '71274'},\n",
       "  {'Taxonomic Rank': 'clade', 'NCBI Taxonomy ID': '91882'},\n",
       "  {'Taxonomic Rank': 'order', 'NCBI Taxonomy ID': '4209'},\n",
       "  {'Taxonomic Rank': 'family', 'NCBI Taxonomy ID': '4210'},\n",
       "  {'Taxonomic Rank': 'subfamily', 'NCBI Taxonomy ID': '219120'},\n",
       "  {'Taxonomic Rank': 'tribe', 'NCBI Taxonomy ID': '219121'},\n",
       "  {'Taxonomic Rank': 'subtribe', 'NCBI Taxonomy ID': '745062'},\n",
       "  {'Taxonomic Rank': 'genus', 'NCBI Taxonomy ID': '4235'},\n",
       "  {'Taxonomic Rank': 'species', 'NCBI Taxonomy ID': '4236'}]}"
      ]
     },
     "execution_count": 43,
     "metadata": {},
     "output_type": "execute_result"
    }
   ],
   "source": [
    "scrape_metacyc(\"https://metacyc.org/META/NEW-IMAGE?object=ORG-6001\")"
   ]
  },
  {
   "cell_type": "code",
   "execution_count": null,
   "id": "17b2d88d-aa23-4a60-a272-9ce9915e2ef3",
   "metadata": {},
   "outputs": [],
   "source": []
  }
 ],
 "metadata": {
  "kernelspec": {
   "display_name": "Python 3 (ipykernel)",
   "language": "python",
   "name": "python3"
  },
  "language_info": {
   "codemirror_mode": {
    "name": "ipython",
    "version": 3
   },
   "file_extension": ".py",
   "mimetype": "text/x-python",
   "name": "python",
   "nbconvert_exporter": "python",
   "pygments_lexer": "ipython3",
   "version": "3.10.13"
  }
 },
 "nbformat": 4,
 "nbformat_minor": 5
}
