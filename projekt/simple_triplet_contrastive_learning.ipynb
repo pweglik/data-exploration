{
 "cells": [
  {
   "metadata": {
    "ExecuteTime": {
     "end_time": "2024-05-12T16:33:45.481532Z",
     "start_time": "2024-05-12T16:33:44.852970Z"
    }
   },
   "cell_type": "code",
   "source": [
    "import wandb\n",
    "import numpy as np\n",
    "import matplotlib.pyplot as plt\n",
    "import pandas as pd\n",
    "import random\n",
    "import tqdm\n",
    "\n",
    "import torch\n",
    "from torch.utils.data import Dataset, DataLoader\n",
    "import seaborn as sns"
   ],
   "id": "95efa7927ec66733",
   "outputs": [],
   "execution_count": 11
  },
  {
   "metadata": {
    "ExecuteTime": {
     "end_time": "2024-05-12T15:39:40.560719Z",
     "start_time": "2024-05-12T15:39:39.897004Z"
    }
   },
   "cell_type": "code",
   "source": [
    "pathways_df = pd.read_csv('data/pathways.csv')\n",
    "pathways_df.set_index(\"Object ID\", inplace=True)\n",
    "pathways_df[\"Reaction-List\"] = pathways_df[\"Reaction-List\"].str.split(\" // \")\n",
    "pathways_df[\"Species\"] = pathways_df[\"Species\"].str.split(\" // \")\n",
    "pathways_df[\"In-Pathway\"] = pathways_df[\"In-Pathway\"].str.split(\" // \")\n",
    "pathways_df[\"Super-Pathways\"] = pathways_df[\"Super-Pathways\"].str.split(\" // \")\n",
    "\n",
    "reactions_df = pd.read_csv('data/reactions.csv')\n",
    "reactions_df[\"Left\"] = reactions_df[\"Left\"].str.split(\" // \")\n",
    "reactions_df[\"Right\"] = reactions_df[\"Right\"].str.split(\" // \")\n",
    "reactions_df[\"In-Pathway\"] = reactions_df[\"In-Pathway\"].str.split(\" // \")\n",
    "reactions_df[\"Substrates\"] = reactions_df[\"Substrates\"].str.split(\" // \")\n",
    "reactions_df[\"Enzymatic-Reaction\"] = reactions_df[\"Enzymatic-Reaction\"].str.split(\" // \")\n",
    "reactions_df.set_index(\"Object ID\", inplace=True)\n",
    "\n",
    "compounds_df = pd.read_csv(\"data/compounds.csv\")\n",
    "compounds_df.set_index(\"Object ID\", inplace=True)\n",
    "\n",
    "species = {}\n",
    "for i, row in pathways_df.iterrows():\n",
    "    if type(row[\"Species\"]) == list:\n",
    "        for s in row[\"Species\"]:\n",
    "            if s in species:\n",
    "                species[s].append(i)\n",
    "            else:\n",
    "                species[s] = [i]"
   ],
   "id": "44a7a8ef5c0b62d5",
   "outputs": [],
   "execution_count": 3
  },
  {
   "metadata": {
    "ExecuteTime": {
     "end_time": "2024-05-12T15:39:41.588968Z",
     "start_time": "2024-05-12T15:39:41.532777Z"
    }
   },
   "cell_type": "code",
   "source": "species",
   "id": "79f555340de407ab",
   "outputs": [
    {
     "data": {
      "text/plain": [
       "{'TAX-38868': ['PWY-6990', 'PWY-5813', 'PWY-7680'],\n",
       " 'TAX-3888': ['PWY-2467',\n",
       "  'PWY-2464',\n",
       "  'PWY-7101',\n",
       "  'PWY-6147',\n",
       "  'PWY-6333',\n",
       "  'PWY-5342',\n",
       "  'PWY-7033',\n",
       "  'PWY-6963',\n",
       "  'PWY-6964',\n",
       "  'PWY-2261',\n",
       "  'PWY-3941',\n",
       "  'PWY-3561',\n",
       "  'ASPSYNII-PWY',\n",
       "  'TRIGLSYN-PWY',\n",
       "  'PWY-2501',\n",
       "  'PWY-6799',\n",
       "  'PWY-4381',\n",
       "  'PWY-3841',\n",
       "  'PWY-5034',\n",
       "  'PWY-5070',\n",
       "  'PWY-5035',\n",
       "  'PWY-102',\n",
       "  'GLUCONEO-PWY',\n",
       "  'GLUT-REDOX-PWY',\n",
       "  'PWY-4081',\n",
       "  'GLYCLEAV-PWY',\n",
       "  'PWY-1042',\n",
       "  'PWY-1061',\n",
       "  'PWY-5348',\n",
       "  'ASPARAGINE-DEG1-PWY',\n",
       "  'PWY-4002',\n",
       "  'PWY0-1264',\n",
       "  'PWY4FS-7',\n",
       "  'PWY4FS-8',\n",
       "  'PWY-2',\n",
       "  'PWY-7199',\n",
       "  'PWY-7184',\n",
       "  'PYRUVDEHYD-PWY',\n",
       "  'PWY-7173',\n",
       "  'PWY-6932',\n",
       "  'PWY-6936',\n",
       "  'PWY-5337',\n",
       "  'PWY-622',\n",
       "  'PWY-7238',\n",
       "  'PWY-3801',\n",
       "  'PWY-3282',\n",
       "  'PWY-7345',\n",
       "  'PWY-4762',\n",
       "  'PWY-5464',\n",
       "  'PWY-5156',\n",
       "  'PWY-6266',\n",
       "  'PWY-5052',\n",
       "  'PWY-5053',\n",
       "  'PHOSLIPSYN2-PWY',\n",
       "  'PWY-2229',\n",
       "  'PWY-6305',\n",
       "  'PWY-7211',\n",
       "  'PWY-6395',\n",
       "  'PWY-6612',\n",
       "  'PWY-6614',\n",
       "  'PWY-5110',\n",
       "  'PWY-4',\n",
       "  'PWY-4841',\n",
       "  'PWY-82',\n",
       "  'PWY-7185',\n",
       "  'PWY-7177',\n",
       "  'PWY-5021',\n",
       "  'PWY-5800',\n",
       "  'PWY-5936'],\n",
       " 'TAX-4006': ['PWY-7487',\n",
       "  'PWY-5997',\n",
       "  'ASPSYNII-PWY',\n",
       "  'PWY-3022',\n",
       "  'PWY-5995',\n",
       "  'PWY-7091',\n",
       "  'PWY-5990',\n",
       "  'PWY-6002',\n",
       "  'PWY-7092',\n",
       "  'PWY-5991'],\n",
       " 'TAX-93608': ['PWY-7749', 'PWY-7630', 'PWY-7748'],\n",
       " 'TAX-301877': ['PWY-6991'],\n",
       " 'TAX-128002': ['PWY-6991'],\n",
       " 'TAX-627192': ['PWY-7557'],\n",
       " 'TAX-13689': ['PWY-7557'],\n",
       " 'TAX-3827': ['PWY-2761',\n",
       "  'PWY-2464',\n",
       "  'PWY-2463',\n",
       "  'PWY-6010',\n",
       "  'PWY-2861',\n",
       "  'PWY-116',\n",
       "  'PWY-2343',\n",
       "  'PWY-2321',\n",
       "  'PWY-2904',\n",
       "  'PWY-2345',\n",
       "  'PWY-2002',\n",
       "  'PWY-2083',\n",
       "  'PWY-2701',\n",
       "  'PWY-2561',\n",
       "  'URDEGR-PWY',\n",
       "  'PWY-5717',\n",
       "  'PWY-3097',\n",
       "  'PWY-2055',\n",
       "  'PWY-2229',\n",
       "  'P165-PWY'],\n",
       " 'TAX-3847': ['PWY-2761',\n",
       "  'PWY-6543',\n",
       "  'PWY-5061',\n",
       "  'PWY-6596',\n",
       "  'PWY-5692',\n",
       "  'PWY-5705',\n",
       "  'PWY-5698',\n",
       "  'PWY-5997',\n",
       "  'PWY-5125',\n",
       "  'PWY-7267',\n",
       "  'SULFMETII-PWY',\n",
       "  'PWY-5379',\n",
       "  'PWY-3981',\n",
       "  'PWY-2861',\n",
       "  'PWY-3385',\n",
       "  'PWY-3561',\n",
       "  'PWY-6232',\n",
       "  'PWY-321',\n",
       "  'ASPSYNII-PWY',\n",
       "  'PWY-8028',\n",
       "  'PWY-6317',\n",
       "  'PWY-3821',\n",
       "  'PWY-2343',\n",
       "  'TRIGLSYN-PWY',\n",
       "  'ETHYL-PWY',\n",
       "  'PWY-3841',\n",
       "  'PWY-2321',\n",
       "  'PWY-2904',\n",
       "  'PWY-2345',\n",
       "  'GLUCONEO-PWY',\n",
       "  'PWY-2161B',\n",
       "  'PWY-2762',\n",
       "  'PWY-1042',\n",
       "  'PWY-6607',\n",
       "  'PWY-6606',\n",
       "  'PWY-7221',\n",
       "  'PWY-1061',\n",
       "  'PWY-6840',\n",
       "  'PWY-6841',\n",
       "  'PWY-5695',\n",
       "  'PWY-2002',\n",
       "  'PWY-2083',\n",
       "  'ARGSYNBSUB-PWY',\n",
       "  'PWY-4002',\n",
       "  'PWY-5097',\n",
       "  'PWY-5995',\n",
       "  'PWY-6064',\n",
       "  'PWY-8177',\n",
       "  'PWY-6348',\n",
       "  'PWY4FS-3',\n",
       "  'PWY4FS-6',\n",
       "  'PWY-6273',\n",
       "  'PWY4FS-7',\n",
       "  'PWY4FS-8',\n",
       "  'LIPASYN-PWY',\n",
       "  'PWY-2541',\n",
       "  'PWY-5118',\n",
       "  'PWY-7511',\n",
       "  'PWY-5044',\n",
       "  'PWY-7199',\n",
       "  'PWY-5486',\n",
       "  'PWY-5203',\n",
       "  'PWY-5337',\n",
       "  'SUCSYN-PWY',\n",
       "  'PWY-3801',\n",
       "  'PWY-5340',\n",
       "  'URDEGR-PWY',\n",
       "  'PWY-7345',\n",
       "  'PWY-4762',\n",
       "  'PWY-5464',\n",
       "  'PWY-6595',\n",
       "  'PWY-3097',\n",
       "  'SER-GLYSYN-PWY',\n",
       "  'PWY4FS-5',\n",
       "  'PHOSLIPSYN2-PWY',\n",
       "  'PWY-2055',\n",
       "  'PWY-2229',\n",
       "  'P165-PWY',\n",
       "  'PWY-6305',\n",
       "  'PWY-6612',\n",
       "  'PWY-5690',\n",
       "  'PWY-6614',\n",
       "  'PWY-5110',\n",
       "  'PWY-4821',\n",
       "  'PWY-5114',\n",
       "  'PWY-5691',\n",
       "  'PWY-5704',\n",
       "  'URSIN-PWY',\n",
       "  'PWY-4502'],\n",
       " 'TAX-46348': ['PWY-2761',\n",
       "  'PWY-2463',\n",
       "  'PWY-5061',\n",
       "  'PWY-6325',\n",
       "  'PWY-2321',\n",
       "  'PWY-2002',\n",
       "  'PWY-2083',\n",
       "  'PWY-5203',\n",
       "  'PWY-3097',\n",
       "  'PWY-2055',\n",
       "  'PWY-2229',\n",
       "  'PWY-4502'],\n",
       " 'TAX-49827': ['PWY-2761',\n",
       "  'PWY-2463',\n",
       "  'PWY-5061',\n",
       "  'PWY-2321',\n",
       "  'PWY-2002',\n",
       "  'PWY-2083',\n",
       "  'PWY-7251',\n",
       "  'PWY-5203',\n",
       "  'PWY-3097',\n",
       "  'PWY-2055',\n",
       "  'PWY-2229'],\n",
       " 'TAX-3879': ['PWY-2761',\n",
       "  'PWY-2464',\n",
       "  'PWY-2463',\n",
       "  'PWY-5926',\n",
       "  'PWY1F-FLAVSYN',\n",
       "  'PWY-3101',\n",
       "  'PWY-2321',\n",
       "  'PWY-2002',\n",
       "  'PWY-2083',\n",
       "  'PWY-7397',\n",
       "  'PWY-1081',\n",
       "  'PWY-6266',\n",
       "  'PWY-5717',\n",
       "  'PWY-3097',\n",
       "  'PWY-2055',\n",
       "  'PWY-2229',\n",
       "  'PWY-5872',\n",
       "  'PWY-5729'],\n",
       " 'TAX-3885': ['PWY-2761',\n",
       "  'PWY-2464',\n",
       "  'PWY-5705',\n",
       "  'PWY-5698',\n",
       "  'PWY-3941',\n",
       "  'PWY-5968',\n",
       "  'PWY-2002',\n",
       "  'PWY-4681',\n",
       "  'PWY-3042',\n",
       "  'PWY-6466',\n",
       "  'PWY-5129',\n",
       "  'PWY-5337',\n",
       "  'URDEGR-PWY',\n",
       "  'PWY-2055',\n",
       "  'PWY-2229',\n",
       "  'PWY-5800'],\n",
       " 'TAX-119829': ['PWY-2464', 'PWY-7633'],\n",
       " 'TAX-3880': ['PWY-2464',\n",
       "  'PWY-2463',\n",
       "  'PWY-6035',\n",
       "  'PWY-5926',\n",
       "  'PWY-7067',\n",
       "  'PWY-6401',\n",
       "  'PWY-2002',\n",
       "  'PWY-2083',\n",
       "  'PWY-7069',\n",
       "  'PWY-7251',\n",
       "  'PWY-6930',\n",
       "  'PWY-6348',\n",
       "  'PWY-6738',\n",
       "  'PWY-641',\n",
       "  'PWY-5774',\n",
       "  'PWY-5203',\n",
       "  'PWY-5717',\n",
       "  'PWY-2229',\n",
       "  'PWY-7068',\n",
       "  'PWY-5729'],\n",
       " 'TAX-162425': ['PWY-7556',\n",
       "  'PWY-5954',\n",
       "  'PWY-8388',\n",
       "  'PWY-7565',\n",
       "  'PWY-7696',\n",
       "  'PWY-6491',\n",
       "  'PWY-5629',\n",
       "  'TYRFUMCAT-PWY',\n",
       "  'PWY-7716',\n",
       "  'PWY-5630',\n",
       "  'PWY-6416',\n",
       "  'PWY-7705',\n",
       "  'PWY-5956',\n",
       "  'PWY-6516',\n",
       "  'PWY-5634',\n",
       "  'PWY-7520',\n",
       "  'PWY-7622',\n",
       "  'PWY-5955',\n",
       "  'PWY-7704',\n",
       "  'PWY-6812'],\n",
       " 'TAX-5059': ['PWY-5954',\n",
       "  'PWY-5959',\n",
       "  'PWY-5960',\n",
       "  'PWY-7540',\n",
       "  'PWY-7555',\n",
       "  'PWY-8370',\n",
       "  'PWY-6848',\n",
       "  'PWY-5956',\n",
       "  'PWY-5961',\n",
       "  'PWY-5955'],\n",
       " 'TAX-5067': ['PWY-5954',\n",
       "  'PWY-5959',\n",
       "  'PWY-5960',\n",
       "  'PWY-5956',\n",
       "  'PWY-5961',\n",
       "  'PWY-5955'],\n",
       " 'TAX-46472': ['PWY-5954', 'PWY-7603', 'PWY-5955'],\n",
       " 'TAX-118970': ['PWY-6789'],\n",
       " 'TAX-33178': ['PWY-6789',\n",
       "  'PWY-8019',\n",
       "  'PWY-8166',\n",
       "  'PWY-7079',\n",
       "  'PWY-5750',\n",
       "  'PWY-7535'],\n",
       " 'TAX-247155': ['PWY-6789'],\n",
       " 'TAX-98227': ['PWY-6789'],\n",
       " 'TAX-5052': ['PWY-6717'],\n",
       " 'TAX-5061': ['PWY-6717',\n",
       "  '4-HYDROXYMANDELATE-DEGRADATION-PWY',\n",
       "  'PWY-6781',\n",
       "  'PWY-6693',\n",
       "  'PWY-6491',\n",
       "  'PWY-4101',\n",
       "  'PWY-5516',\n",
       "  'PWY-6813',\n",
       "  'PWY-6790',\n",
       "  'PWY-5515',\n",
       "  'PWY-8116',\n",
       "  'P342-PWY',\n",
       "  'PWY-6699',\n",
       "  'PWY-6698',\n",
       "  'PWY-1081',\n",
       "  'PWY-8006',\n",
       "  'PWY-5486',\n",
       "  'PWY-6769',\n",
       "  'PWY-6848',\n",
       "  'PWY-6516',\n",
       "  'PWY-5257',\n",
       "  'LARABITOLUTIL-PWY',\n",
       "  'PWY-6791',\n",
       "  'PWY-6807'],\n",
       " 'TAX-5062': ['PWY-6717',\n",
       "  'PWY-8121',\n",
       "  'PWY-7555',\n",
       "  'PWY-7558',\n",
       "  'PWY-5515',\n",
       "  'PWY-5257',\n",
       "  'LARABITOLUTIL-PWY',\n",
       "  'PWY-6791',\n",
       "  'PWY-6807'],\n",
       " 'TAX-6717': ['PWY-6717'],\n",
       " 'TAX-644223': ['PWY-6717'],\n",
       " 'TAX-5600': ['PWY-6717'],\n",
       " 'TAX-203119': ['PWY-6717', 'PWY-6784', 'PWY-6805', 'PWY-6139'],\n",
       " 'TAX-51453': ['PWY-6717',\n",
       "  'PWY-6788',\n",
       "  'PWY-6693',\n",
       "  'PWY-6491',\n",
       "  'PWY-4101',\n",
       "  'PWY-5516',\n",
       "  'PWY-6790',\n",
       "  'PWY-5515',\n",
       "  'PWY-6516',\n",
       "  'PWY-5257',\n",
       "  'LARABITOLUTIL-PWY',\n",
       "  'PWY-6807'],\n",
       " 'TAX-654': ['PWY-8465'],\n",
       " 'TAX-193': ['PWY-8465', 'P283-PWY', 'TRPIAACAT-PWY'],\n",
       " 'TAX-1492': ['PWY-8465', 'PWY-6130', 'PWY-7399', 'PWY-5493', 'GOLPDLCAT-PWY'],\n",
       " 'TAX-1561206': ['PWY-8465'],\n",
       " 'TAX-593909': ['PWY-8465'],\n",
       " 'TAX-314263': ['PWY-8465'],\n",
       " 'TAX-826': ['PWY-8465'],\n",
       " 'TAX-29497': ['PWY-8465'],\n",
       " 'TAX-506591': ['PWY-8124'],\n",
       " 'TAX-42198': ['PWY-8426', 'PWY-8344'],\n",
       " 'TAX-1912': ['PWY-8426',\n",
       "  'PWY-8425',\n",
       "  'PWY-5979',\n",
       "  'PWY-6322',\n",
       "  'PWY-6346',\n",
       "  'TREHALOSESYN-PWY',\n",
       "  'PWY-7415'],\n",
       " 'TAX-132248': ['PWY-8426', 'PWY-8425', 'PWY-8424'],\n",
       " 'TAX-1063': ['PWY-8425',\n",
       "  'PWY-7691',\n",
       "  'PWY-5531',\n",
       "  'PWY-5806',\n",
       "  'PWY-5526',\n",
       "  'PWY-7854',\n",
       "  'PWY-6795',\n",
       "  'PWY-5741',\n",
       "  'PWY-1801',\n",
       "  'HEME-BIOSYNTHESIS-II',\n",
       "  'PWY-6287',\n",
       "  'PWY-6825',\n",
       "  'PWY1-3',\n",
       "  'PROPIONMET-PWY',\n",
       "  'RIBITOLUTIL-PWY',\n",
       "  'PWY-6286',\n",
       "  'PWYQT-4427',\n",
       "  'PWY-5529',\n",
       "  'PWY-5920',\n",
       "  'PWY-5189',\n",
       "  'PWY-5857'],\n",
       " 'TAX-272630': ['PWY-8425',\n",
       "  'PWY-7854',\n",
       "  'PWY-5741',\n",
       "  'PWY-2201',\n",
       "  'PWY-1622',\n",
       "  'PWY-1723',\n",
       "  'PWY-1722',\n",
       "  'PWY-1881',\n",
       "  'PWY-1701',\n",
       "  'PWY-6966',\n",
       "  'PWY-6967',\n",
       "  'PWY-6696',\n",
       "  'PWY-1882',\n",
       "  'PWY-5296'],\n",
       " 'TAX-34007': ['PWY-8425',\n",
       "  'PWY-5741',\n",
       "  'PWY-1801',\n",
       "  'PWY-1701',\n",
       "  'PWY-6966',\n",
       "  'PWY-6967',\n",
       "  'PWY-5276',\n",
       "  'PWY-5296'],\n",
       " 'TAX-1061': ['PWY-8425',\n",
       "  'PWY-5531',\n",
       "  'PWY-5523',\n",
       "  'PWY-5533',\n",
       "  'P381-PWY',\n",
       "  'PWY-5526',\n",
       "  'PWY-7376',\n",
       "  'PWY-7854',\n",
       "  'PWY-8165',\n",
       "  'PWY-8147',\n",
       "  'PWY-5741',\n",
       "  'PWY-5120',\n",
       "  'PROUT-PWY',\n",
       "  'PWY-6287',\n",
       "  'N2FIX-PWY',\n",
       "  'PWY-5805',\n",
       "  'PWY-6818',\n",
       "  'PWY-6545',\n",
       "  'PWY-6286',\n",
       "  'P222-PWY',\n",
       "  'PWY-5529',\n",
       "  'PWY-5862',\n",
       "  'PWY-5845',\n",
       "  'PWY-5189',\n",
       "  'PWY-5857'],\n",
       " 'TAX-1085': ['PWY-8425',\n",
       "  'PWY-5531',\n",
       "  'PWY-8130',\n",
       "  'PWY-5806',\n",
       "  'PWY-5741',\n",
       "  'PWY-6780',\n",
       "  'DAPLYSINESYN-PWY',\n",
       "  'PWY-7527',\n",
       "  'PWY-5805',\n",
       "  'PWY-5888',\n",
       "  'PWY-6756',\n",
       "  'PWY-7174',\n",
       "  'PWY-8132',\n",
       "  'PWY-6581',\n",
       "  'PWY-5857',\n",
       "  'PWY-5856'],\n",
       " 'TAX-1902': ['PWY-8425',\n",
       "  'PWY-7374',\n",
       "  'PWY-5887',\n",
       "  'PWY-6262',\n",
       "  'PWY-5741',\n",
       "  'PWY-5950',\n",
       "  'PWY-7938',\n",
       "  'VALDEG-PWY',\n",
       "  'PWY-6263'],\n",
       " 'TAX-287': ['PWY-7907',\n",
       "  'PHOSPHONOTASE-PWY',\n",
       "  'PWY-6660',\n",
       "  'PWY-5084',\n",
       "  'PWY-5046',\n",
       "  'PWY-5886',\n",
       "  'PWY-6535',\n",
       "  'PWY-6536',\n",
       "  'PWY-6661',\n",
       "  'PWY-6082',\n",
       "  'PWY-5694',\n",
       "  'PWY-5698',\n",
       "  'AMMOXID-PWY',\n",
       "  'PWY-8101',\n",
       "  'PWY1YI0-1',\n",
       "  'PWY-6683',\n",
       "  'PWY-6157',\n",
       "  'PWY-7247',\n",
       "  'PWY0-1601',\n",
       "  'PWY-5417',\n",
       "  'PWY-5981',\n",
       "  'PWY-8065',\n",
       "  'CHOLINE-BETAINE-ANA-PWY',\n",
       "  'P542-PWY',\n",
       "  'PWY-6672',\n",
       "  'PWY-6670',\n",
       "  'PWY-6143',\n",
       "  'CYCLOHEXANOL-OXIDATION-PWY',\n",
       "  'PWY-6422',\n",
       "  'PWY-7242',\n",
       "  'GDPRHAMSYN-PWY',\n",
       "  'PWY-5659',\n",
       "  'DHGLUCONATE-PYR-CAT-PWY',\n",
       "  'PWY-8325',\n",
       "  'HEMESYN2-PWY',\n",
       "  'PWY-7554',\n",
       "  'PWY-7845',\n",
       "  'PWY-7844',\n",
       "  'PWY-7843',\n",
       "  'PWY-8149',\n",
       "  'AST-PWY',\n",
       "  'ARGDEG-III-PWY',\n",
       "  'PWY-5742',\n",
       "  'ARGDEGRAD-PWY',\n",
       "  'PWY-6959',\n",
       "  'CITRULLINE-DEG-PWY',\n",
       "  'PWY-5028',\n",
       "  'ILEUDEG-PWY',\n",
       "  'LEU-DEG2-PWY',\n",
       "  'PWY-6328',\n",
       "  'TRPCAT-PWY',\n",
       "  'TYRFUMCAT-PWY',\n",
       "  'VALDEG-PWY',\n",
       "  'PWY0-1264',\n",
       "  'PWY-6044',\n",
       "  'PYRIDNUCSYN-PWY',\n",
       "  'DENITRIFICATION-PWY',\n",
       "  'PWY-5805',\n",
       "  'P621-PWY',\n",
       "  'PWY-6818',\n",
       "  'PWY-7955',\n",
       "  'PEPTIDOGLYCANSYN-PWY',\n",
       "  'PWY-5770',\n",
       "  'PWY-6826',\n",
       "  'PWY-6657',\n",
       "  'PWY0-1597',\n",
       "  'PWY-43',\n",
       "  'PWY-46',\n",
       "  'PWY-3',\n",
       "  'PWY-6408',\n",
       "  'PWY-6666',\n",
       "  'PWY-6420',\n",
       "  'PWY-6648',\n",
       "  'PWY-8260',\n",
       "  'PWY-6753',\n",
       "  'PWY-6406',\n",
       "  'ARGSPECAT-PWY',\n",
       "  'PWY-6954',\n",
       "  'PWY-2504',\n",
       "  'GLUCUROCAT-PWY',\n",
       "  'PWY-7323',\n",
       "  'PWY-5345',\n",
       "  'PWY-6516',\n",
       "  'POLYAMINSYN3-PWY',\n",
       "  'PWY-6662',\n",
       "  'PWY-7332',\n",
       "  'PWY0-1433',\n",
       "  'PWY-5358',\n",
       "  'PWY-6430',\n",
       "  'PWY-5159',\n",
       "  'PWY-5856',\n",
       "  'PWY-7333',\n",
       "  'PWY-7336',\n",
       "  'PWY-7334',\n",
       "  'PWY-5512',\n",
       "  'PWY-7849'],\n",
       " 'TAX-3659': ['PWY-5434',\n",
       "  'PWY-5408',\n",
       "  'PWY-2261',\n",
       "  'PWY-6443',\n",
       "  'PWY-6458',\n",
       "  'PWY-6275',\n",
       "  'PWY-4961',\n",
       "  'PWY-6457',\n",
       "  'PWY-8434',\n",
       "  'PWY-3821',\n",
       "  'PWY-5725',\n",
       "  'PWY-2501',\n",
       "  'PWY-5136',\n",
       "  'PWY-5137',\n",
       "  'PWY-5138',\n",
       "  'GLUCONEO-PWY',\n",
       "  'PWY-8321',\n",
       "  'PWY-981',\n",
       "  'PWY-6527',\n",
       "  'PWY-5464',\n",
       "  'PWY-5433'],\n",
       " 'TAX-3635': ['PWY-5434', 'PWY-5773', 'PYRIDNUCSYN-PWY', 'PWY-1081'],\n",
       " 'TAX-3750': ['PWY-5434',\n",
       "  'ASPSYNII-PWY',\n",
       "  'PWY-5054',\n",
       "  'PWY-4101',\n",
       "  'ETHYL-PWY',\n",
       "  'PWY-5725',\n",
       "  'PWY-3101',\n",
       "  'PWY-5967',\n",
       "  'PWY-1081',\n",
       "  'PWY-6515',\n",
       "  'SUCSYN-PWY',\n",
       "  'PWY-6305'],\n",
       " 'TAX-3884': ['PWY-5434', 'PWY-6668', 'PWY-2902'],\n",
       " 'TAX-47664': ['PWY-5434', 'PWY-1962'],\n",
       " 'TAX-3695': ['PWY-5434'],\n",
       " 'TAX-29760': ['PWY-5434',\n",
       "  'PWY-6963',\n",
       "  'PWY-6964',\n",
       "  'PWY-5125',\n",
       "  'PWY-5153',\n",
       "  'PWY-7067',\n",
       "  'PWY-6704',\n",
       "  'PWY-4341',\n",
       "  'PWY-7069',\n",
       "  'PWY-6752',\n",
       "  'PWY-1081',\n",
       "  'PWY-6665',\n",
       "  'PWY-84',\n",
       "  'PWY-3282',\n",
       "  'PWY-5313',\n",
       "  'PWY-7068',\n",
       "  'PWY-6291'],\n",
       " 'TAX-4577': ['PWY-5434',\n",
       "  'PWY-4661',\n",
       "  'PWY-5912',\n",
       "  'PWY-8076',\n",
       "  'PWY-7642',\n",
       "  'PWY-6333',\n",
       "  'PWY-6963',\n",
       "  'PWY-6964',\n",
       "  'PWY-7253',\n",
       "  'PWY-6243',\n",
       "  'PWY-3981',\n",
       "  'PWY-7393',\n",
       "  'PWY-6275',\n",
       "  'PWY-241',\n",
       "  'PWY-7117',\n",
       "  'PWY-5098',\n",
       "  'PWY-1269',\n",
       "  'PWY-8028',\n",
       "  'PWY-2902',\n",
       "  'PWY-2841',\n",
       "  'PWY-6949',\n",
       "  'PWY-4441',\n",
       "  'PWY-6950',\n",
       "  'PWY-7994',\n",
       "  'PWY-5670',\n",
       "  'PWY-5829',\n",
       "  'GLUCONEO-PWY',\n",
       "  'GLYCOLYSIS',\n",
       "  'PWY-1042',\n",
       "  'PWY-7430',\n",
       "  'PWY-1921',\n",
       "  'PWY-581',\n",
       "  'PWY-1961',\n",
       "  'PWY-1741',\n",
       "  'PWY-8340',\n",
       "  'PWY-6887',\n",
       "  'ASPARAGINE-DEG1-PWY',\n",
       "  'PWY-5097',\n",
       "  'PWY-6120',\n",
       "  'PWY-7252',\n",
       "  'PWY-5793',\n",
       "  'PWY-5083',\n",
       "  'PWY-7188',\n",
       "  'PWY-6348',\n",
       "  'PWY-2541',\n",
       "  'PWY-5486',\n",
       "  'PWY-5723',\n",
       "  'PWY-6440',\n",
       "  'PWY-5129',\n",
       "  'PWY-622',\n",
       "  'PWY-842',\n",
       "  'PWY-3282',\n",
       "  'PWY-7345',\n",
       "  'PWY-4161',\n",
       "  'PWY-5464',\n",
       "  'PWY-1782',\n",
       "  'PWY-3481',\n",
       "  'PWY-6430',\n",
       "  'PWY-6475',\n",
       "  'PWY-5872',\n",
       "  'PWY-3982',\n",
       "  'PWY-6888'],\n",
       " 'ORG-5993': ['PWY-5434',\n",
       "  'PWY-6007',\n",
       "  'PWY-7590',\n",
       "  'PWY-6668',\n",
       "  'PWY-6773',\n",
       "  'PWY-6554',\n",
       "  'PWY-6035',\n",
       "  'PWY-6051',\n",
       "  'PWY-5837',\n",
       "  'CHLOROPHYLL-SYN',\n",
       "  'PWY-5886',\n",
       "  'PWY-6890',\n",
       "  'PWY-6543',\n",
       "  'PWY-8024',\n",
       "  'PWY-6121',\n",
       "  'PWY-7101',\n",
       "  'PWY-6147',\n",
       "  'PWY-6502',\n",
       "  'PWY-695',\n",
       "  'PWY-5272',\n",
       "  'PWY-7640',\n",
       "  'PWY-5271',\n",
       "  'PWY-5172',\n",
       "  'PWY-5148',\n",
       "  'PWY-5142',\n",
       "  'PWY-6605',\n",
       "  'PWY-6619',\n",
       "  'PWY-7227',\n",
       "  'PWY-6596',\n",
       "  'PWY-3781',\n",
       "  'PWY-4302',\n",
       "  'PWYQT-4450',\n",
       "  'PWY-2724',\n",
       "  'PWY-5692',\n",
       "  'PWY-5698',\n",
       "  'PWY-5377',\n",
       "  'PWY-5946',\n",
       "  'PWY-5997',\n",
       "  'PWY-8398',\n",
       "  'PWY-6963',\n",
       "  'PWY-6964',\n",
       "  'PWY-7450',\n",
       "  'PWY-5125',\n",
       "  'PWY-7267',\n",
       "  'PWY-8397',\n",
       "  'PWY-2261',\n",
       "  'SULFMETII-PWY',\n",
       "  'PWY-6008',\n",
       "  'PWY-6444',\n",
       "  'PWY-7468',\n",
       "  'PWY-6458',\n",
       "  'PWY-3981',\n",
       "  'PWY-5943',\n",
       "  'PWY-6275',\n",
       "  'PWY0-1507',\n",
       "  'PWY-699',\n",
       "  'PWY-2582',\n",
       "  'PWY-6546',\n",
       "  'CALVIN-PWY',\n",
       "  'CAMALEXIN-SYN',\n",
       "  'PWY-5269',\n",
       "  'PWY-6806',\n",
       "  'PWY-5667',\n",
       "  'PWY0-1319',\n",
       "  'PWY-1001',\n",
       "  'PWY-6483',\n",
       "  'PWY-5086',\n",
       "  'PWY-5064',\n",
       "  'PWY-5098',\n",
       "  'PWY-6927',\n",
       "  'PWY-5068',\n",
       "  'PWY-3385',\n",
       "  'PWY-3561',\n",
       "  'ARO-PWY',\n",
       "  'PWY-6457',\n",
       "  'PWY-2781',\n",
       "  'PWY-7205',\n",
       "  'PWY-1269',\n",
       "  'PWYQT-4429',\n",
       "  'PWY-7851',\n",
       "  'PWY-116',\n",
       "  'PWY-7398',\n",
       "  'PWY-7854',\n",
       "  'PWY-282',\n",
       "  'PWY-321',\n",
       "  'CYANCAT-PWY',\n",
       "  'ASPSYNII-PWY',\n",
       "  'PWY-8270',\n",
       "  'PWY-8028',\n",
       "  'PWY-2902',\n",
       "  'PWY-2881',\n",
       "  'PWY-2901',\n",
       "  'PWY-2841',\n",
       "  'PWY-6317',\n",
       "  'PWY-3821',\n",
       "  'PWY3O-1743',\n",
       "  'PWY-6364',\n",
       "  'PWY-6351',\n",
       "  'PWY-6363',\n",
       "  'PWY-6367',\n",
       "  'PWY0-1535',\n",
       "  'PWY-4101',\n",
       "  'PWY-6786',\n",
       "  'PWY-8396',\n",
       "  'TRIGLSYN-PWY',\n",
       "  'PWY-6804',\n",
       "  'PWY-8159',\n",
       "  'DTDPRHAMSYN-PWY',\n",
       "  'PWY-5032',\n",
       "  'PWY-5670',\n",
       "  'PWY-7120',\n",
       "  'ETHYL-PWY',\n",
       "  'PWY4FS-13',\n",
       "  'PWY-5725',\n",
       "  'PWY-6577',\n",
       "  'PWY-2501',\n",
       "  'PWY-5136',\n",
       "  'PWY-5137',\n",
       "  'PWY-5138',\n",
       "  'PWY-6837',\n",
       "  'PWY-6799',\n",
       "  'PWY-4381',\n",
       "  'FASYN-ELONG-PWY',\n",
       "  'PWY-5168',\n",
       "  'RIBOSYN2-PWY',\n",
       "  'PWY1F-FLAVSYN',\n",
       "  'PWY-3101',\n",
       "  'PWY-2161',\n",
       "  'PWY-3841',\n",
       "  'PWY-1722',\n",
       "  'PWY-2181',\n",
       "  'PWY-401',\n",
       "  'PWY-6707',\n",
       "  'PWY-5661',\n",
       "  'PWY-66',\n",
       "  'PWY-6',\n",
       "  'PWY-5115',\n",
       "  'PWY-5659',\n",
       "  'PWY-5122',\n",
       "  'PWY-5034',\n",
       "  'PWY-5070',\n",
       "  'PWY-5036',\n",
       "  'PWY-5035',\n",
       "  'PWY-102',\n",
       "  'PWY-6477',\n",
       "  'GLUCONEO-PWY',\n",
       "  'PWY-5267',\n",
       "  'PWYQT-4471',\n",
       "  'PWYQT-4475',\n",
       "  'PWY-1187',\n",
       "  'PWYQT-4474',\n",
       "  'PWY-2821',\n",
       "  'PWYQT-4473',\n",
       "  'PWYQT-4472',\n",
       "  'PWY-601',\n",
       "  'PWY-2161B',\n",
       "  'PWY-5921',\n",
       "  'GLUTATHIONESYN-PWY',\n",
       "  'PWY-6842',\n",
       "  'PWY-4261',\n",
       "  'PWY-6118',\n",
       "  'PWY1F-353',\n",
       "  'GLYSYN-PWY',\n",
       "  'PWY-782',\n",
       "  'GLYCOLYSIS',\n",
       "  'PWY-1042',\n",
       "  'GLYOXYLATE-BYPASS',\n",
       "  'PWY-7226',\n",
       "  'PWY-6607',\n",
       "  'PWY-6606',\n",
       "  'PWY-7221',\n",
       "  'HEME-BIOSYNTHESIS-II',\n",
       "  'PWY-801',\n",
       "  'PWY-1061',\n",
       "  'PWY-6910',\n",
       "  'PWY-8399',\n",
       "  'PWYQT-4476',\n",
       "  'PWYQT-4477',\n",
       "  'PWY-1822',\n",
       "  'PWYDQC-4',\n",
       "  'PWY-581',\n",
       "  'PWY-2021',\n",
       "  'PWY-5788',\n",
       "  'PWY-6219',\n",
       "  'PWY-5934',\n",
       "  'PWY-735',\n",
       "  'PWY-6220',\n",
       "  'PWY-7859',\n",
       "  'PWY-5320',\n",
       "  'ARGASEDEG-PWY',\n",
       "  'ARGDEGRAD-PWY',\n",
       "  'PWY-882',\n",
       "  'PWY4FS-11',\n",
       "  'PWY-8142',\n",
       "  'PWY-8143',\n",
       "  'CITRULLINE-DEG-PWY',\n",
       "  'CYSTSYN-PWY',\n",
       "  'PWY-5505',\n",
       "  'PWY-4341',\n",
       "  'GLUTAMATE-DEG1-PWY',\n",
       "  'PWY0-1305',\n",
       "  'HISTSYN-PWY',\n",
       "  'PWY-1186',\n",
       "  'PWY-5097',\n",
       "  'PWY-702',\n",
       "  'PWY-701',\n",
       "  'PWY-7270',\n",
       "  'PWY-6922',\n",
       "  'ARGININE-SYN4-PWY',\n",
       "  'PWY-3462',\n",
       "  'PROSYN-PWY',\n",
       "  'PWY-3341',\n",
       "  'PROUT-PWY',\n",
       "  'SERSYN-PWY',\n",
       "  'PWY-8011',\n",
       "  'TRPSYN-PWY',\n",
       "  'PWY-3181',\n",
       "  'PWY-3461',\n",
       "  'VALDEG-PWY',\n",
       "  'PWY-5152',\n",
       "  'PWY1F-823',\n",
       "  'PWY-5995',\n",
       "  'PWY-8395',\n",
       "  'PWY-5143',\n",
       "  'PWY-112',\n",
       "  'PWY-5947',\n",
       "  'PWY-5060',\n",
       "  'PWY0-1264',\n",
       "  'PWY-6005',\n",
       "  'PWY-6303',\n",
       "  'PWY-7560',\n",
       "  'PWY-6730',\n",
       "  'PWY-6064',\n",
       "  'PWY-922',\n",
       "  'PWY-8171',\n",
       "  'PWY-5963',\n",
       "  'PWY-6823',\n",
       "  'PWY-361',\n",
       "  'PWY-83',\n",
       "  'PWY-3041',\n",
       "  'PWY-2301',\n",
       "  'PYRIDNUCSYN-PWY',\n",
       "  'PWY-5083',\n",
       "  'PWY-8148',\n",
       "  'PWY-381',\n",
       "  'PWY-6549',\n",
       "  'PWY-6520',\n",
       "  'PWY-5147',\n",
       "  'PWY-8043',\n",
       "  'PWY-5971',\n",
       "  'PWY-5366',\n",
       "  'PWY-1081',\n",
       "  'PWY-7251',\n",
       "  'PENTOSE-P-PWY',\n",
       "  'PWY-6930',\n",
       "  'PWY1F-467',\n",
       "  'PWY-6348',\n",
       "  'PWY-7039',\n",
       "  'PWY4FS-2',\n",
       "  'PWY4FS-6',\n",
       "  'PWY-6273',\n",
       "  'PWY4FS-7',\n",
       "  'PWY4FS-8',\n",
       "  'PWY-7625',\n",
       "  'PWY-5669',\n",
       "  'LIPASYN-PWY',\n",
       "  'PWY-762',\n",
       "  'PANTO-PWY',\n",
       "  'PWY-181',\n",
       "  'PWY-101',\n",
       "  'PWY-5027',\n",
       "  'PWY-7170',\n",
       "  'PWY-5107',\n",
       "  'PWY-2541',\n",
       "  'PWY-5063',\n",
       "  'PWY-1581',\n",
       "  'PWY-6710',\n",
       "  'PWY0-662',\n",
       "  'PWY-7224',\n",
       "  'PWY-5044',\n",
       "  'PWY-43',\n",
       "  'PWY-46',\n",
       "  'PWY-2',\n",
       "  'PWY-6466',\n",
       "  'PLPSAL-PWY',\n",
       "  'PWY-7199',\n",
       "  'PWY-7197',\n",
       "  'PWY-7184',\n",
       "  'PWY-7183',\n",
       "  'PWY-7193',\n",
       "  'PWY-6556',\n",
       "  'PWY-5321',\n",
       "  'PWY-6199',\n",
       "  'PWY-7618',\n",
       "  'PWY-5723',\n",
       "  'SAM-PWY',\n",
       "  'PWY-5041',\n",
       "  'PWY-6754',\n",
       "  'PWY-4361',\n",
       "  'PWY-5441',\n",
       "  'PWY-8321',\n",
       "  'PWY-981',\n",
       "  'PWY-6621',\n",
       "  'PWY-6623',\n",
       "  'PWY-6624',\n",
       "  'PWY-6762',\n",
       "  'PWY-6792',\n",
       "  'PWY-6932',\n",
       "  'PWY-6936',\n",
       "  'PWY-6931',\n",
       "  'PWY-8140',\n",
       "  'PWY-3301',\n",
       "  'BSUBPOLYAMSYN-PWY',\n",
       "  'PWY-6442',\n",
       "  'PWY-6441',\n",
       "  'ARGSPECAT-PWY',\n",
       "  'PWY-5129',\n",
       "  'PWY-6733',\n",
       "  'PWY-5337',\n",
       "  'PWY-622',\n",
       "  'PWY-6724',\n",
       "  'PWY-5989',\n",
       "  'PWY-1121',\n",
       "  'SUCSYN-PWY',\n",
       "  'PWY-7238',\n",
       "  'PWY-3801',\n",
       "  'PWY-621',\n",
       "  'PWY-5340',\n",
       "  'PWY-5326',\n",
       "  'PWYQT-4427',\n",
       "  'PWY-6736',\n",
       "  'DETOX1-PWY',\n",
       "  'PWY-6555',\n",
       "  'PWY-7229',\n",
       "  'URDEGR-PWY',\n",
       "  'PWY-3282',\n",
       "  'PWY-7345',\n",
       "  'PWY-6544',\n",
       "  'CAROTENOID-PWY',\n",
       "  'PWY-4762',\n",
       "  'PWY-4221',\n",
       "  'PWY-5464',\n",
       "  'PWY-5156',\n",
       "  'PWY-6266',\n",
       "  'PWY-5121',\n",
       "  'PWY-5910',\n",
       "  'PWY-5052',\n",
       "  'PWY-5053',\n",
       "  'PWY-561',\n",
       "  'PWY-7228',\n",
       "  'PWY-6595',\n",
       "  'PWY-5918',\n",
       "  'PWY-1782',\n",
       "  'PWY-6234',\n",
       "  'PWY-5004',\n",
       "  'PWY-724',\n",
       "  'PWY-3481',\n",
       "  'PWY-5433',\n",
       "  'PWY4FS-5',\n",
       "  'PHOSLIPSYN2-PWY',\n",
       "  'PWY-5863',\n",
       "  'PWY-5864',\n",
       "  'POLYAMINSYN3-PWY',\n",
       "  'PWY-841',\n",
       "  'P165-PWY',\n",
       "  'PWY-6305',\n",
       "  'PWY-7200',\n",
       "  'PWY-7211',\n",
       "  'PWY-7208',\n",
       "  'PWY-7196',\n",
       "  'PWY0-162',\n",
       "  'PWY-6395',\n",
       "  'PWY-6612',\n",
       "  'THISYNARA-PWY',\n",
       "  'PWY-5690',\n",
       "  'PWY-6614',\n",
       "  'PWY-5188',\n",
       "  'PWY-5992',\n",
       "  'PWY-6908',\n",
       "  'PWY-6909',\n",
       "  'PWY-6430',\n",
       "  'PWY-5123',\n",
       "  'PWY-6475',\n",
       "  'PWY-2681',\n",
       "  'PWY-5410',\n",
       "  'LIPAS-PWY',\n",
       "  'PWY-5871',\n",
       "  'PWY-7344',\n",
       "  'PWY-4861',\n",
       "  'PWY-7343',\n",
       "  'PWY-4841',\n",
       "  'PWY-7346',\n",
       "  'PWY-4821',\n",
       "  'PWY-63',\n",
       "  'PWY-82',\n",
       "  'PWY-3261',\n",
       "  'PWY-5113',\n",
       "  'UDPNACETYLGALSYN-PWY',\n",
       "  'PWY-5114',\n",
       "  'PWY-5686',\n",
       "  'PWY-3982',\n",
       "  'PWY-5691',\n",
       "  'PWY-7176',\n",
       "  'PWY-7185',\n",
       "  'PWY-7177',\n",
       "  'PWY-5080',\n",
       "  'PWY-7036',\n",
       "  'PWY-5945',\n",
       "  'PWY-1422',\n",
       "  'PWY-7436',\n",
       "  'PWY-4203',\n",
       "  'PWY4FS-12',\n",
       "  'PWY-5980',\n",
       "  'PWY-5936',\n",
       "  'PWY-5944'],\n",
       " 'TAX-35608': ['PWY-7709',\n",
       "  'PWY-5195',\n",
       "  'PWY-6275',\n",
       "  'PWY-6540',\n",
       "  'PWY-5725',\n",
       "  'PWY-5733',\n",
       "  'PWY-7182'],\n",
       " 'TAX-39329': ['PWY-7709', 'PWY-6243', 'PWY2OL-4'],\n",
       " 'TAX-650269': ['PWY-7709'],\n",
       " 'TAX-4081': ['PWY-7709',\n",
       "  'PWY-6585',\n",
       "  'PWY-6543',\n",
       "  'PWY-6535',\n",
       "  'PWY-6473',\n",
       "  'PWY-6147',\n",
       "  'PWY-5407',\n",
       "  'PWY-695',\n",
       "  'PWY4FS-17',\n",
       "  'PWY-5946',\n",
       "  'PWY18C3-3',\n",
       "  'PWY-3981',\n",
       "  'PWY-5943',\n",
       "  'PWY-6275',\n",
       "  'PWY-699',\n",
       "  'PWY-6673',\n",
       "  'PWY-5098',\n",
       "  'PWY18C3-1',\n",
       "  'PWY-7055',\n",
       "  'PWY18C3-9',\n",
       "  'PWY-5406',\n",
       "  'PWY-7058',\n",
       "  'ETHYL-PWY',\n",
       "  'PWY-2161',\n",
       "  'PWY-3841',\n",
       "  'PWY-5975',\n",
       "  'PWY18C3-20',\n",
       "  'PWY-5733',\n",
       "  'GLUCONEO-PWY',\n",
       "  'PWY18C3-23',\n",
       "  'PWY-5905',\n",
       "  'PWY-5797',\n",
       "  'PWY-735',\n",
       "  'PWY-8142',\n",
       "  'PWY-8143',\n",
       "  'PWY0-1305',\n",
       "  'PWY-702',\n",
       "  'PWY-7528',\n",
       "  'PWY-7270',\n",
       "  'PWY-5957',\n",
       "  'ARGININE-SYN4-PWY',\n",
       "  'PWY-5947',\n",
       "  'PWY-7007',\n",
       "  'PWY-7560',\n",
       "  'PWY18C3-22',\n",
       "  'PWY18C3-8',\n",
       "  'PWY-3041',\n",
       "  'PWY-6809',\n",
       "  'PWY-6845',\n",
       "  'PWY-6752',\n",
       "  'PWY-1081',\n",
       "  'PWY-7251',\n",
       "  'PWY-5751',\n",
       "  'PWY18C3-21',\n",
       "  'PWY-6348',\n",
       "  'PWY-7163',\n",
       "  'PWY-7160',\n",
       "  'PWY-7161',\n",
       "  'PWY-4361',\n",
       "  'PWY18C3-2',\n",
       "  'PWY18C3-4',\n",
       "  'PWY-5129',\n",
       "  'PWY-5337',\n",
       "  'SUCSYN-PWY',\n",
       "  'PWY-7238',\n",
       "  'PWY18C3-12',\n",
       "  'PWY-7345',\n",
       "  'CAROTENOID-PWY',\n",
       "  'PWY-5464',\n",
       "  'PWY-6266',\n",
       "  'PWY18C3-6',\n",
       "  'PWY2OL-4',\n",
       "  'PWY-5433',\n",
       "  'PWY18C3-25',\n",
       "  'PWY-6305',\n",
       "  'PWY-6612',\n",
       "  'PWY18C3-11',\n",
       "  'PWY-6614',\n",
       "  'PWY-6475',\n",
       "  'PWY18C3-10',\n",
       "  'PWY-6447',\n",
       "  'PWY-5945',\n",
       "  'PWY-5944'],\n",
       " 'TAX-116188': ['PWY-8320'],\n",
       " 'TAX-345341': ['PWY-8299'],\n",
       " 'TAX-67297': ['PWY-8299', 'PWY-8040', 'PWY-8044'],\n",
       " 'TAX-457427': ['PWY-8299'],\n",
       " 'TAX-1009461': ['PWY-8299'],\n",
       " 'TAX-36903': ['PWY-7141',\n",
       "  'PWY-5001',\n",
       "  'PWY-5859',\n",
       "  'PWY-8442',\n",
       "  'PWY2OL-4',\n",
       "  'PWY-13',\n",
       "  'PWY-4203',\n",
       "  'PWY-4201',\n",
       "  'PWY-6801'],\n",
       " 'TAX-29910': ['PWY-8441', 'PWY-8443'],\n",
       " 'ORG-6040': ['PWY-5922', 'PWY-5927', 'PWY-5923', 'PWY-5924'],\n",
       " 'TAX-34256': ['PWY-5928',\n",
       "  'PWY-6128',\n",
       "  'PWY-5725',\n",
       "  'PWY-5122',\n",
       "  'PWY-3061',\n",
       "  'PWY-6436'],\n",
       " 'TAX-29719': ['PWY-5928', 'PWY-3061', 'PWY-6436'],\n",
       " 'TAX-48032': ['PWY-7443'],\n",
       " 'TAX-2849020': ['PWY-7443'],\n",
       " 'TAX-9606': ['PWY-7728',\n",
       "  'PWY-7726',\n",
       "  'PWY-6133',\n",
       "  'PWY-8202',\n",
       "  'PWY66-393',\n",
       "  'PWY-6362',\n",
       "  'PWY-5652',\n",
       "  'PWY-8052',\n",
       "  'PWY-8181',\n",
       "  'PWY-5130',\n",
       "  'PWY-5084',\n",
       "  'PWY-5046',\n",
       "  'PWY-5886',\n",
       "  'PWY66-387',\n",
       "  'PWY-6352',\n",
       "  'PWY-6368',\n",
       "  'PWY-6535',\n",
       "  'PWY-7112',\n",
       "  'PWY-5754',\n",
       "  'PWY-6121',\n",
       "  'PWY-7942',\n",
       "  'PWY-6502',\n",
       "  'PWY-7832',\n",
       "  'PWY-7831',\n",
       "  'PWY-7800',\n",
       "  'PWY0-1313',\n",
       "  'PWY-5451',\n",
       "  'PWY-7466',\n",
       "  'PWY-5172',\n",
       "  'PWY-6012-1',\n",
       "  'PWY-8042',\n",
       "  'P121-PWY',\n",
       "  'PWY-6609',\n",
       "  'PWY-6619',\n",
       "  'PWY-7227',\n",
       "  'SALVADEHYPOX-PWY',\n",
       "  'PWY-7219',\n",
       "  'PWY-3781',\n",
       "  'PWY-5806',\n",
       "  'PWY-7455',\n",
       "  'PWY-7981',\n",
       "  'PWY-8398',\n",
       "  'PWY-6377',\n",
       "  'PWY-8051',\n",
       "  'PWY-8053',\n",
       "  'PWY6666-1',\n",
       "  'PWY-8056',\n",
       "  'PWY66-378',\n",
       "  'PWY-7592',\n",
       "  'PWY-7601',\n",
       "  'PWY-7725',\n",
       "  'PWY-8397',\n",
       "  'PWY-7799',\n",
       "  'PWY-4202',\n",
       "  'PWY-6370',\n",
       "  'PWY-8454',\n",
       "  'PWY66-395',\n",
       "  'PWY66-394',\n",
       "  'PWY-7980',\n",
       "  'PWY-8200',\n",
       "  'PWY-6061',\n",
       "  'PWY66-432',\n",
       "  'PWY66-241',\n",
       "  'PWY66-374',\n",
       "  'PWY-7926',\n",
       "  'PWY-5269',\n",
       "  'PWY66-420',\n",
       "  'PWY66-301',\n",
       "  'PWY-5667',\n",
       "  'PWY3DJ-12',\n",
       "  'PWY66-388',\n",
       "  'PWY66-341',\n",
       "  'PWY66-3',\n",
       "  'PWY66-4',\n",
       "  'CHOLINE-BETAINE-ANA-PWY',\n",
       "  'PWY-6566',\n",
       "  'PWY-6567',\n",
       "  'PWY-6573',\n",
       "  'PWY-7205',\n",
       "  'PWY-6138',\n",
       "  'PWY-7974',\n",
       "  'PWY-7851',\n",
       "  'PWY-7426',\n",
       "  'GLYCGREAT-PWY',\n",
       "  'PWY-6158',\n",
       "  'PWY-7854',\n",
       "  'PWY-8145',\n",
       "  'PWY-5525',\n",
       "  'PWY3O-1743',\n",
       "  'PWY-6364',\n",
       "  'PWY-6351',\n",
       "  'PWY-6363',\n",
       "  'PWY-6366',\n",
       "  'PWY-6365',\n",
       "  'PWY-6367',\n",
       "  'PWY-6568',\n",
       "  'PWY-6576',\n",
       "  'PWY-8396',\n",
       "  'PWY-7546',\n",
       "  'PWY-8159',\n",
       "  'PWY-7606',\n",
       "  'PWY-7727',\n",
       "  'PWY-8400',\n",
       "  'PWY-6129',\n",
       "  'PWY6666-2',\n",
       "  'PWY66-385',\n",
       "  'PWY-5670',\n",
       "  'PWY-8373',\n",
       "  'PWY-5663',\n",
       "  'PWY66-380',\n",
       "  'PWY-7306',\n",
       "  'PWY66-21',\n",
       "  'PWY66-161',\n",
       "  'PWY66-162',\n",
       "  'PWY-6498',\n",
       "  'FAO-PWY',\n",
       "  'PWY-5137',\n",
       "  'PWY66-391',\n",
       "  'PWY66-429',\n",
       "  'PWY-5966-1',\n",
       "  'PWY66-366',\n",
       "  'PWY-2201',\n",
       "  'PWY-1801',\n",
       "  'PWY-1722',\n",
       "  'PWY66-423',\n",
       "  'GLUDEG-I-PWY',\n",
       "  'PWY-7840',\n",
       "  'PWY-4041',\n",
       "  'PWY-6000',\n",
       "  'PWY-7836',\n",
       "  'PWY-5661',\n",
       "  'PWY-66',\n",
       "  'PWY-6',\n",
       "  'PWY-5659',\n",
       "  'PWY-5120',\n",
       "  'PWY-7838',\n",
       "  'PWY66-381',\n",
       "  'PWY66-399',\n",
       "  'PWY-2161B',\n",
       "  'PWY-5177',\n",
       "  'GLUTATHIONESYN-PWY',\n",
       "  'GLUT-REDOX-PWY',\n",
       "  'PWY-4061',\n",
       "  'PWY-4081',\n",
       "  'PWY-6118',\n",
       "  'PWY-3661-1',\n",
       "  'GLYCINE-SYN2-PWY',\n",
       "  'GLYCLEAV-PWY',\n",
       "  'PWY-5067',\n",
       "  'PWY-5941',\n",
       "  'ANAGLYCOLYSIS-PWY',\n",
       "  'PWY-8404',\n",
       "  'PWY-6557',\n",
       "  'PWY-6620',\n",
       "  'PWY-7226',\n",
       "  'PWY-6608',\n",
       "  'PWY-7221',\n",
       "  'PWY-7856',\n",
       "  'HEME-BIOSYNTHESIS-II',\n",
       "  'PWY-5874',\n",
       "  'PWY-6558',\n",
       "  'PWY-6173',\n",
       "  'PWY-6181',\n",
       "  'PWY66-421',\n",
       "  'ANAEROFRUCAT-PWY',\n",
       "  'PWY-8459',\n",
       "  'PWY66-426',\n",
       "  'PWY-5905',\n",
       "  'PWY-7837',\n",
       "  'PWY-7049',\n",
       "  'PWY-7724',\n",
       "  'PWY-8399',\n",
       "  'PWY-5695',\n",
       "  'PWY-6124',\n",
       "  'PWY-6369',\n",
       "  'PWY-5750',\n",
       "  'PWY66-367',\n",
       "  'PWY66-368',\n",
       "  'ALANINE-SYN2-PWY',\n",
       "  'PWY0-1021',\n",
       "  'ALANINE-DEG3-PWY',\n",
       "  'ARGASEDEG-PWY',\n",
       "  'ASPARAGINE-BIOSYNTHESIS',\n",
       "  'ASPARAGINE-DEG1-PWY-1',\n",
       "  'ASPARTATESYN-PWY',\n",
       "  'PWY-6100',\n",
       "  'CITRULBIO-PWY',\n",
       "  'HOMOCYSDEGR-PWY',\n",
       "  'PWY-5329',\n",
       "  'PWY-8452',\n",
       "  'PWY-6481',\n",
       "  'PWY-6334',\n",
       "  'PWY-5505',\n",
       "  'GLUTAMATE-SYN2-PWY',\n",
       "  'PWY0-1305',\n",
       "  'PWY-5766',\n",
       "  'GLNSYN-PWY',\n",
       "  'GLUTAMINDEG-PWY',\n",
       "  'PWY-5030',\n",
       "  'HISHP-PWY',\n",
       "  'ILEUDEG-PWY',\n",
       "  'LEU-DEG2-PWY',\n",
       "  'PWY66-425',\n",
       "  'LYSINE-DEG1-PWY',\n",
       "  'METHIONINE-DEG1-PWY',\n",
       "  'PWY-7527',\n",
       "  'ADENOSYLHOMOCYSCAT-PWY',\n",
       "  'ARGININE-SYN4-PWY',\n",
       "  'PHENYLALANINE-DEG1-PWY',\n",
       "  'PWY-6318',\n",
       "  'PROSYN-PWY',\n",
       "  'PROUT-PWY',\n",
       "  'PWY-6281',\n",
       "  'SERSYN-PWY',\n",
       "  'SERDEG-PWY',\n",
       "  'PWY66-428',\n",
       "  'TRYPTOPHAN-DEGRADATION-1',\n",
       "  'PWY-5651',\n",
       "  'PWY-6307',\n",
       "  'PWY-6309',\n",
       "  'PWY-6134',\n",
       "  'TYRFUMCAT-PWY',\n",
       "  'VALDEG-PWY',\n",
       "  'PWY-7839',\n",
       "  'PWY-6132',\n",
       "  'PWY66-375',\n",
       "  'PWY-8395',\n",
       "  'PWY0-501-1',\n",
       "  'PWY66-392',\n",
       "  'MALATE-ASPARTATE-SHUTTLE-PWY',\n",
       "  'PWY-8356',\n",
       "  'PWY-6398',\n",
       "  'PWY-6399',\n",
       "  'PWY-6400',\n",
       "  'PWY-7998',\n",
       "  'PWY-5386',\n",
       "  'PWY-5453',\n",
       "  'MGLDLCTANA-PWY',\n",
       "  'PWY-5386-1',\n",
       "  'PWY-922',\n",
       "  'PWY66-382',\n",
       "  'PWY-8455',\n",
       "  'PWY-6111',\n",
       "  'PWY-8171',\n",
       "  'PWY-6823',\n",
       "  'PWY-5270',\n",
       "  'PWY-7375',\n",
       "  'PWY-7379',\n",
       "  'PWY-7433',\n",
       "  'PWY-7435',\n",
       "  'PWY-2301',\n",
       "  'PWY-8341',\n",
       "  'PWY-5653',\n",
       "  'NADSYN-PWY',\n",
       "  'NADPHOS-DEPHOS-PWY',\n",
       "  'NADPHOS-DEPHOS-PWY-1',\n",
       "  'PWY3O-4106',\n",
       "  'PWY-6938',\n",
       "  'PWY-8148',\n",
       "  'PWY-8137',\n",
       "  'PWY-7841',\n",
       "  'PWY3O-224',\n",
       "  'PWY66-201',\n",
       "  'PWY66-221',\n",
       "  'PWY-4983',\n",
       "  'PWY-6342',\n",
       "  'PWY-5996',\n",
       "  'PWY-8043',\n",
       "  'PWY-5994',\n",
       "  'PWY-8055',\n",
       "  'OXIDATIVEPENT-PWY',\n",
       "  'PWY-8355',\n",
       "  'PWY-7917',\n",
       "  'PWY3O-450',\n",
       "  'PWY-6273',\n",
       "  'PWY-7625',\n",
       "  'PWY-7501',\n",
       "  'PWY-7506',\n",
       "  'PWY66-389',\n",
       "  'PWY-7782',\n",
       "  'PWY-7783',\n",
       "  'PWY66-377',\n",
       "  'PWY-7894',\n",
       "  'PWY-7299',\n",
       "  'PROPIONMET-PWY',\n",
       "  'PWY-8357',\n",
       "  'PWY-4921',\n",
       "  'MANNOSYL-CHITO-DOLICHOL-BIOSYNTHESIS',\n",
       "  'PWY-7919',\n",
       "  'PWY-7899',\n",
       "  'PWY-7922',\n",
       "  'PWY-7979',\n",
       "  'PWY-7437',\n",
       "  'PWY-7798',\n",
       "  'PWY-7511',\n",
       "  'PWY0-662',\n",
       "  'PWY-7179-1',\n",
       "  'PWY-7224',\n",
       "  'PWY-6353',\n",
       "  'PWY0-1296',\n",
       "  'PWY-40',\n",
       "  'PWY-46',\n",
       "  'PWY-0',\n",
       "  'PLPSAL-PWY',\n",
       "  'PWY-7181',\n",
       "  'PWY-7199',\n",
       "  'PWY-7197',\n",
       "  'PWY-7210',\n",
       "  'PWY-7184',\n",
       "  'PWY0-1295',\n",
       "  'PWY-7193',\n",
       "  'PYRUVDEHYD-PWY',\n",
       "  'PWY-8105',\n",
       "  'PWY-6405',\n",
       "  'DETOX1-PWY-1',\n",
       "  'PWY-8410',\n",
       "  'PWY-8411',\n",
       "  'PWY-8412',\n",
       "  'PWY-8413',\n",
       "  'PWY66-397',\n",
       "  'PWY-6872',\n",
       "  'PWY-6875',\n",
       "  'PWY-6857',\n",
       "  'PWY-8301',\n",
       "  'PWY-6756',\n",
       "  'PWY-4361',\n",
       "  'PWY-8140',\n",
       "  'PWY-6030',\n",
       "  'PWY-6313',\n",
       "  'BSUBPOLYAMSYN-PWY',\n",
       "  'PWY-6117',\n",
       "  'ARGSPECAT-PWY',\n",
       "  'PWY-7277',\n",
       "  'PWY3DJ-11281',\n",
       "  'PWY3DJ-11470',\n",
       "  'PWY-5972',\n",
       "  'PWY66-373',\n",
       "  'PWY-5340',\n",
       "  'PWY-7927',\n",
       "  'PWY-5326',\n",
       "  'PWY-7229',\n",
       "  'PWY66-5',\n",
       "  'PWY-6569',\n",
       "  'PWY-6145',\n",
       "  'COA-PWY-1',\n",
       "  'PWY-6358',\n",
       "  'PWY-6571',\n",
       "  'PWY-5910',\n",
       "  'PWY-7835',\n",
       "  'PWY-7228',\n",
       "  'PWY-5920',\n",
       "  'PWY-6564',\n",
       "  'PWY-5004',\n",
       "  'PWY-6292',\n",
       "  'PWY-5327',\n",
       "  'PWY-5328',\n",
       "  'SER-GLYSYN-PWY',\n",
       "  'PWY-6402',\n",
       "  'POLYAMINSYN3-PWY',\n",
       "  'PWY66-409',\n",
       "  'PWY-841',\n",
       "  'PWY-7200',\n",
       "  'PWY-7211',\n",
       "  'PWY-7209',\n",
       "  'PWY0-162',\n",
       "  'PWY-7305',\n",
       "  'PWY-5331',\n",
       "  'PWY-7850',\n",
       "  'PWY66-398',\n",
       "  'PWY-7434',\n",
       "  'PWY66-430',\n",
       "  'PWY-6613',\n",
       "  'PWY-8099',\n",
       "  'PWY-5189',\n",
       "  'PWY-6861',\n",
       "  'PWY-6241',\n",
       "  'PWY-6260',\n",
       "  'PWY-6261',\n",
       "  'PWY-6688',\n",
       "  'PWY-5123',\n",
       "  'HYDROXYPRODEG-PWY',\n",
       "  'PWY-8292',\n",
       "  'PWY-7803',\n",
       "  'PWY-7888',\n",
       "  'PWY-7889',\n",
       "  'PWY-5872',\n",
       "  'PWY-7344',\n",
       "  'PWY-7343',\n",
       "  'PWY-5512',\n",
       "  'UDPNACETYLGALSYN-PWY',\n",
       "  'PWY-8041',\n",
       "  'PWY-5686',\n",
       "  'PWY-3982',\n",
       "  'PWY-4984',\n",
       "  'PWY-7176',\n",
       "  'PWY-7185',\n",
       "  'PWY-7177',\n",
       "  'PWY-8182',\n",
       "  'PWY-5080',\n",
       "  'PWY-7036',\n",
       "  'PWY-6076',\n",
       "  'PWY-8000',\n",
       "  'PWY-7999',\n",
       "  'PWY-6074',\n",
       "  'PWY-7250'],\n",
       " 'TAX-555': ['PWY-5737', 'PWY-6157'],\n",
       " 'TAX-243265': ['PWY-5737'],\n",
       " 'TAX-1351': ['PWY0-862',\n",
       "  'PWY-5837',\n",
       "  'PWY-6028',\n",
       "  'PWY-7684',\n",
       "  'PWY-5852',\n",
       "  'PWY-5851',\n",
       "  'PWY66-366',\n",
       "  'PWY1QP9-2',\n",
       "  'ANAEROFRUCAT-PWY',\n",
       "  'PWY-7391',\n",
       "  'PWY-7686',\n",
       "  'PWY-3181',\n",
       "  'PWY-5805',\n",
       "  'PWY-5265',\n",
       "  'PWY-6462',\n",
       "  'PWY-5485',\n",
       "  'PWY-5861',\n",
       "  'PWY-5862',\n",
       "  'PWY-2721',\n",
       "  'PWY-6386',\n",
       "  'PWY-6454',\n",
       "  'PWY-6455'],\n",
       " 'TAX-511145': ['PWY0-862',\n",
       "  'PWY-7805',\n",
       "  'KDO-LIPASYN-PWY',\n",
       "  'PWY-8285',\n",
       "  'PWY-7216',\n",
       "  'PWY-7541',\n",
       "  'PWY-7385',\n",
       "  'PWY-5901',\n",
       "  'PWY-5837',\n",
       "  'PWY-7180',\n",
       "  'PWY-5162',\n",
       "  'PWY0-42',\n",
       "  'PWY0-1300',\n",
       "  'PWY-5084',\n",
       "  'PWY-6164',\n",
       "  'PWY-6871',\n",
       "  'PWY0-1277',\n",
       "  'HCAMHPDEG-PWY',\n",
       "  'PWY-6890',\n",
       "  'PWY-6543',\n",
       "  'PWY-6535',\n",
       "  'PWY-6537',\n",
       "  'PWY-6507',\n",
       "  'PWY-5755',\n",
       "  'PWY0-1554',\n",
       "  'PWY-6121',\n",
       "  'PWY-6122',\n",
       "  'PWY-7942',\n",
       "  'PWY-6147',\n",
       "  'PWY-6519',\n",
       "  'PWY-6502',\n",
       "  'PWY0-1312',\n",
       "  'PWY0-1313',\n",
       "  'ACETOACETATE-DEG-PWY',\n",
       "  'PWY-6012-1',\n",
       "  'PWY-6012',\n",
       "  'PWY-5148',\n",
       "  'PWY-6605',\n",
       "  'PWY-6609',\n",
       "  'PWY-6611',\n",
       "  'PWY-7227',\n",
       "  'PWY-7220',\n",
       "  'SALVADEHYPOX-PWY',\n",
       "  'PWY-6617',\n",
       "  'PWY-7219',\n",
       "  'PWY-6268',\n",
       "  'PWY-7971',\n",
       "  'PWY0-1241',\n",
       "  'PWY-8072',\n",
       "  'PWY0-41',\n",
       "  'PWY-5705',\n",
       "  'PWY-5698',\n",
       "  'PWY-7378',\n",
       "  'PWY0-1303',\n",
       "  'AMMASSIM-PWY',\n",
       "  'PWY0-1299',\n",
       "  'PWY-4621-1',\n",
       "  'PWY0-781',\n",
       "  'SO4ASSIM-PWY',\n",
       "  'PWY-7980',\n",
       "  'PWY-6153',\n",
       "  'PWY0-1569',\n",
       "  'PWY-5155',\n",
       "  'PWY-7247',\n",
       "  'PWY0-1507',\n",
       "  'BIOTIN-BIOSYNTHESIS-PWY',\n",
       "  'PWY-7639',\n",
       "  'PWY-8164',\n",
       "  'PWY-7102',\n",
       "  'PWY0-1601',\n",
       "  'PWY-5668',\n",
       "  'PWY0-1545',\n",
       "  'PWY-5667',\n",
       "  'PWY0-1319',\n",
       "  'PWY-1001',\n",
       "  'PWY0-1309',\n",
       "  'PWY-6163',\n",
       "  'ARO-PWY',\n",
       "  'PWY-6690',\n",
       "  'PWY0-541',\n",
       "  'PWY-5973',\n",
       "  'PWY-6038',\n",
       "  'P2-PWY',\n",
       "  'PWY-7205',\n",
       "  'PWY-1269',\n",
       "  'COA-PWY',\n",
       "  'PWY-8243',\n",
       "  'COLANSYN-PWY',\n",
       "  'PWY0-43',\n",
       "  'PWY-7854',\n",
       "  'PWY0-1527',\n",
       "  'CYANCAT-PWY',\n",
       "  'PWY-6476',\n",
       "  'PWY-8165',\n",
       "  'PWY-8147',\n",
       "  'PWY0-44',\n",
       "  'DARABCATK12-PWY',\n",
       "  'PWY-7242',\n",
       "  'GALACTARDEG-PWY',\n",
       "  'GALACTCAT-PWY',\n",
       "  'PWY-6317',\n",
       "  'GALACTUROCAT-PWY',\n",
       "  'GLUCARDEG-PWY',\n",
       "  'GLUCONSUPER-PWY',\n",
       "  'PWY0-1602',\n",
       "  'PWY0-1565',\n",
       "  'PWY0-1465',\n",
       "  'MANNCAT-PWY',\n",
       "  'PWY0-1535',\n",
       "  'SORBDEG-PWY',\n",
       "  'XYLCAT-PWY',\n",
       "  'PWY-7178',\n",
       "  'PWY-5852',\n",
       "  'PWY-5785',\n",
       "  'PWY-8159',\n",
       "  'DTDPRHAMSYN-PWY',\n",
       "  'PWY-7315',\n",
       "  'ECASYN-PWY',\n",
       "  'ENTBACSYN-PWY',\n",
       "  'PWY-8004',\n",
       "  'ENTNER-DOUDOROFF-PWY',\n",
       "  'ETOH-ACETYLCOA-ANA-PWY',\n",
       "  'PWY0-1477',\n",
       "  'PWY0-1280',\n",
       "  'FAO-PWY',\n",
       "  'PWY-5137',\n",
       "  'PWY-4381',\n",
       "  'FASYN-ELONG-PWY',\n",
       "  'RIBOSYN2-PWY',\n",
       "  'PWY-2161',\n",
       "  'PWY-2201',\n",
       "  '1CMET2-PWY',\n",
       "  'PWY-1801',\n",
       "  'PWY0-1356',\n",
       "  'PWY0-1585',\n",
       "  'PWY0-1355',\n",
       "  'PWY0-1314',\n",
       "  'PWY0-521',\n",
       "  'GALACTITOLCAT-PWY',\n",
       "  'PWY-6707',\n",
       "  'PWY-66',\n",
       "  'PWY-5659',\n",
       "  'PWY-5122',\n",
       "  'GLUCONEO-PWY',\n",
       "  'GLUCOSE1PMETAB-PWY',\n",
       "  'GLUTATHIONESYN-PWY',\n",
       "  'GLUT-REDOX-PWY',\n",
       "  'PWY-4121',\n",
       "  'PWY0-381',\n",
       "  'PWY-4261',\n",
       "  'GLYCEROLMETAB-PWY',\n",
       "  'PWY0-1561',\n",
       "  'PWY0-1582',\n",
       "  'PWY0-1591',\n",
       "  'PWY-6952',\n",
       "  'BETSYN-PWY',\n",
       "  'GLYSYN-PWY',\n",
       "  'GLYCLEAV-PWY',\n",
       "  'PWY0-1608',\n",
       "  'GLYCOGENSYNTH-PWY',\n",
       "  'GLYCOCAT-PWY',\n",
       "  'GLYCOLATEMET-PWY',\n",
       "  'GLYOXDEG-PWY',\n",
       "  'GLYCOLYSIS',\n",
       "  'PWY-5484',\n",
       "  'GLYOXYLATE-BYPASS',\n",
       "  'PWY-6620',\n",
       "  'PWY-6618',\n",
       "  'PWY-7226',\n",
       "  'PWY-7222',\n",
       "  'PWY-6608',\n",
       "  'PWY-7221',\n",
       "  'PWY-5964',\n",
       "  'PWY-7856',\n",
       "  'HEME-BIOSYNTHESIS-II',\n",
       "  'HEMESYN2-PWY',\n",
       "  'HEME-BIOSYNTHESIS-II-1',\n",
       "  'PWY-6772',\n",
       "  'PWY0-1577',\n",
       "  'PWY0-1576',\n",
       "  'PWY0-1578',\n",
       "  'PWY-6910',\n",
       "  'PWY-5695',\n",
       "  'PWY-6123',\n",
       "  'KDOSYN-PWY',\n",
       "  'PWY-8284',\n",
       "  'KETOGLUCONMET-PWY',\n",
       "  'ALANINE-VALINESYN-PWY',\n",
       "  'ALANINE-SYN2-PWY',\n",
       "  'PWY0-1021',\n",
       "  'ALADEG-PWY',\n",
       "  'ARABCAT-PWY',\n",
       "  'ARGSYN-PWY',\n",
       "  'AST-PWY',\n",
       "  'PWY0-823',\n",
       "  'PWY0-301',\n",
       "  'PWY-6961',\n",
       "  'ASPARAGINE-BIOSYNTHESIS',\n",
       "  'ASPARAGINESYN-PWY',\n",
       "  'ASPARAGINE-DEG1-PWY',\n",
       "  'ASPARTATESYN-PWY',\n",
       "  'PWY-8291',\n",
       "  'PWY-8294',\n",
       "  'CARNMET-PWY',\n",
       "  'PWY-3641',\n",
       "  'CYSTSYN-PWY',\n",
       "  'PWY-7870',\n",
       "  'LCYSDEG-PWY',\n",
       "  'PWY-5329',\n",
       "  'PWY-8452',\n",
       "  'FUCCAT-PWY',\n",
       "  'PWY0-1306',\n",
       "  'PWY-5505',\n",
       "  'GLUTSYN-PWY',\n",
       "  'GLUTSYNIII-PWY',\n",
       "  'GLUTDEG-PWY',\n",
       "  'PWY0-1305',\n",
       "  'GLNSYN-PWY',\n",
       "  'GLUTAMINDEG-PWY',\n",
       "  'GLUTAMINEFUM-PWY',\n",
       "  'HISTSYN-PWY',\n",
       "  'HOMOSERSYN-PWY',\n",
       "  'IDNCAT-PWY',\n",
       "  'ILEUSYN-PWY',\n",
       "  'PWY0-1317',\n",
       "  'PWY0-1315',\n",
       "  'LEUSYN-PWY',\n",
       "  'DAPLYSINESYN-PWY',\n",
       "  'PWY0-461',\n",
       "  'LYXMET-PWY',\n",
       "  'HOMOSER-METSYN-PWY',\n",
       "  'GLUTORN-PWY',\n",
       "  'PHESYN',\n",
       "  'PROSYN-PWY',\n",
       "  'PROUT-PWY',\n",
       "  'RHAMCAT-PWY',\n",
       "  'PWY0-901',\n",
       "  'SERSYN-PWY',\n",
       "  'SERDEG-PWY',\n",
       "  'HOMOSER-THRESYN-PWY',\n",
       "  'PWY-5437',\n",
       "  'THREONINE-DEG2-PWY',\n",
       "  'THRDLCTCAT-PWY',\n",
       "  'PWY-5436',\n",
       "  'TRPSYN-PWY',\n",
       "  'TRYPDEG-PWY',\n",
       "  'TYRSYN',\n",
       "  'VALSYN-PWY',\n",
       "  'BGALACT-PWY',\n",
       "  'LIPA-CORESYN-PWY',\n",
       "  'NAGLIPASYN-PWY',\n",
       "  'PWY-8283',\n",
       "  'PWY0-501',\n",
       "  'PWY0-1275',\n",
       "  'PWY0-522',\n",
       "  'PWY-7884',\n",
       "  'PWY-6873',\n",
       "  'PWY-5143',\n",
       "  'PWY0-1264',\n",
       "  'MANNIDEG-PWY',\n",
       "  'PWY0-1301',\n",
       "  'MENAQUINONESYN-PWY',\n",
       "  'PWY-7007',\n",
       "  'NONMEVIPP-PWY',\n",
       "  'PWY-5386',\n",
       "  'PWY-5453',\n",
       "  'PWY-5459',\n",
       "  'PWY-8458',\n",
       "  'PWY0-1533',\n",
       "  'FERMENTATION-PWY',\n",
       "  'PWY-8171',\n",
       "  'PWY-6823',\n",
       "  'PWY-8468',\n",
       "  'PWY-8470',\n",
       "  'PWY-8471',\n",
       "  'PWY0-1546',\n",
       "  'GLUAMCAT-PWY',\n",
       "  'PWY-6517',\n",
       "  'PWY0-1324',\n",
       "  'PWY-7801',\n",
       "  'PWY0-1587',\n",
       "  'PYRIDNUCSYN-PWY',\n",
       "  'PWY-8277',\n",
       "  'NADPHOS-DEPHOS-PWY',\n",
       "  'NADPHOS-DEPHOS-PWY-1',\n",
       "  'PYRIDNUCSAL-PWY',\n",
       "  'PWY-7761',\n",
       "  'NAD-BIOSYNTHESIS-II',\n",
       "  'PWY3O-4106',\n",
       "  'PWY-6938-1',\n",
       "  'PWY0-1334',\n",
       "  'PWY0-1568',\n",
       "  'PWY0-1335',\n",
       "  'PWY0-1567',\n",
       "  'PWY0-1348',\n",
       "  'PWY0-1336',\n",
       "  'PWY0-1590',\n",
       "  'PWY0-1347',\n",
       "  'PWY-8148',\n",
       "  'PWY-8136',\n",
       "  'PWY-8319',\n",
       "  'PWY0-1321',\n",
       "  'PWY0-1581',\n",
       "  'PWY0-1352',\n",
       "  'PWY0-1573',\n",
       "  'OANTIGEN-PWY',\n",
       "  'PWY-5783',\n",
       "  'PWY0-1337',\n",
       "  'PWY-5971',\n",
       "  'PWY-6282',\n",
       "  'PENTOSE-P-PWY',\n",
       "  'NONOXIPENT-PWY',\n",
       "  'OXIDATIVEPENT-PWY',\n",
       "  'PEPTIDOGLYCANSYN-PWY',\n",
       "  'PWY0-1586',\n",
       "  'PWY0-1261',\n",
       "  'PWY0-1599',\n",
       "  'PWY0-1600',\n",
       "  'PWY0-321',\n",
       "  '2PHENDEG-PWY',\n",
       "  'PWY-5669',\n",
       "  'PANTO-PWY',\n",
       "  'PWY-7218',\n",
       "  'PWY0-1609',\n",
       "  'PWY-8469',\n",
       "  'POLYISOPRENSYN-PWY',\n",
       "  'PWY0-1338',\n",
       "  'PWY-8138',\n",
       "  'PPGPPMET-PWY',\n",
       "  'PWY0-1597',\n",
       "  'PWY-6703',\n",
       "  'PWY0-1544',\n",
       "  'PROPIONMET-PWY',\n",
       "  'PWY0-662',\n",
       "  'PWY-7179',\n",
       "  'PWY-7224',\n",
       "  'PWY-6353',\n",
       "  'PWY0-1296',\n",
       "  'PWY-40',\n",
       "  'PWY-46',\n",
       "  'PUTDEG-PWY',\n",
       "  'PWY0-1221',\n",
       "  'PYRIDOXSYN-PWY',\n",
       "  'PLPSAL-PWY',\n",
       "  'PWY-7181',\n",
       "  'PWY-7197',\n",
       "  'PWY-7184',\n",
       "  'PWY-7187',\n",
       "  'PWY-7206',\n",
       "  'PWY-7183',\n",
       "  'PWY-7194',\n",
       "  'PWY0-1295',\n",
       "  'PWY-7193',\n",
       "  'PWY-6556',\n",
       "  'PWY-7195',\n",
       "  'PYRUVDEHYD-PWY',\n",
       "  'PWY-8275',\n",
       "  'PWY-8274',\n",
       "  'PWY-5485',\n",
       "  'PWY-6883',\n",
       "  'PWY-5480',\n",
       "  'PWY-6863',\n",
       "  'PWY-7111',\n",
       "  'PWY-7544',\n",
       "  'PWY-6700',\n",
       "  'RIBOKIN-PWY',\n",
       "  'SAM-PWY',\n",
       "  'PWY0-1391',\n",
       "  'PWY0-1517',\n",
       "  'PWY-8140',\n",
       "  'PWY-5194',\n",
       "  'PWY0-1584',\n",
       "  'BSUBPOLYAMSYN-PWY',\n",
       "  'PWY0-1353',\n",
       "  'PWY0-1329',\n",
       "  'PWY-5340',\n",
       "  'PWY-7446',\n",
       "  'PWY-8351',\n",
       "  'DETOX1-PWY',\n",
       "  'KDO-NAGLIPASYN-PWY',\n",
       "  '4AMINOBUTMETAB-PWY',\n",
       "  'PWY-6277',\n",
       "  'ACETATEUTIL-PWY',\n",
       "  'PWY-7229',\n",
       "  'PWY-6126',\n",
       "  'COBALSYN-PWY',\n",
       "  'ARG+POLYAMINE-SYN',\n",
       "  'COMPLETE-ARO-PWY',\n",
       "  'GLUCUROCAT-PWY',\n",
       "  'BRANCHED-CHAIN-AA-SYN-PWY',\n",
       "  'PWY-8401',\n",
       "  'ALL-CHORISMATE-PWY',\n",
       "  'PANTOSYN-PWY',\n",
       "  'GLUCARGALACTSUPER-PWY',\n",
       "  'PWY-5861',\n",
       "  'PWY-7317',\n",
       "  'PWY-8227',\n",
       "  'PWY0-881',\n",
       "  'FASYN-INITIAL-PWY',\n",
       "  'PWY-6285',\n",
       "  'FUC-RHAMCAT-PWY',\n",
       "  'PWY-7323',\n",
       "  'PWY-5121',\n",
       "  'GLYCOL-GLYOXDEG-PWY',\n",
       "  'GLYCOLYSIS-E-D',\n",
       "  'GLYCOLYSIS-TCA-GLYOX-BYPASS',\n",
       "  'TCA-GLYOX-BYPASS',\n",
       "  'PWY-6579',\n",
       "  'PWY-7228',\n",
       "  'PWY-6125',\n",
       "  'PWY-5918',\n",
       "  'PWY0-1415',\n",
       "  'HEXITOLDEGSUPER-PWY',\n",
       "  'GALACT-GLUCUROCAT-PWY',\n",
       "  'PRPP-PWY',\n",
       "  'LPSSYN-PWY',\n",
       "  'PWY0-1061',\n",
       "  'ORNARGDEG-PWY',\n",
       "  'ARGDEG-PWY',\n",
       "  'PWY0-1325',\n",
       "  'ASPASN-PWY',\n",
       "  'METSYN-PWY',\n",
       "  'PWY-3001',\n",
       "  'PWY-5327',\n",
       "  'P4-PWY',\n",
       "  'PWY-5347',\n",
       "  'PWY-6628',\n",
       "  'SER-GLYSYN-PWY',\n",
       "  'THRESYN-PWY',\n",
       "  'THREOCAT-PWY',\n",
       "  'PWY-6629',\n",
       "  'PWY-6630',\n",
       "  'PWY-5838',\n",
       "  'METHGLYUT-PWY',\n",
       "  'PWY-6516',\n",
       "  'GLCMANNANAUT-PWY',\n",
       "  'P441-PWY',\n",
       "  'ORNDEG-PWY',\n",
       "  'PWY-5257',\n",
       "  'PWY-6071',\n",
       "  'PHOSLIPSYN-PWY',\n",
       "  'POLYAMSYN-PWY',\n",
       "  'PWY0-1297',\n",
       "  'DENOVOPURINE2-PWY',\n",
       "  'PWY0-845',\n",
       "  'PWY0-1298',\n",
       "  'PWY-7211',\n",
       "  'PWY0-166',\n",
       "  'PWY-7208',\n",
       "  'PWY-7196',\n",
       "  'PWY0-162',\n",
       "  'MET-SAM-PWY',\n",
       "  'SULFATE-CYS-PWY',\n",
       "  'PWY-1541',\n",
       "  'PWY-6612',\n",
       "  'FOLSYN-PWY',\n",
       "  'THISYN-PWY',\n",
       "  'UBISYN-PWY',\n",
       "  'PWY-7328',\n",
       "  'PWY0-1611',\n",
       "  'PWY-7332',\n",
       "  'PWY-6284',\n",
       "  'PWY0-981',\n",
       "  'PWY-7392',\n",
       "  'TCA',\n",
       "  'PWY-6614',\n",
       "  'PWY-6613',\n",
       "  'PWY0-1433',\n",
       "  'PWY-5188',\n",
       "  'PWY-6894',\n",
       "  'PWY-6896',\n",
       "  'PWY-6897',\n",
       "  'PWY-8457',\n",
       "  'PWY-6892',\n",
       "  'THIOREDOX-PWY',\n",
       "  'PWY-5350',\n",
       "  'PWY-5123',\n",
       "  'TRESYN-PWY',\n",
       "  'TREDEGLOW-PWY',\n",
       "  'PWY0-1182',\n",
       "  'PWY0-1466',\n",
       "  'TRNA-CHARGING-PWY',\n",
       "  'PWY0-1479',\n",
       "  'PWY-7892',\n",
       "  'ALKANEMONOX-PWY',\n",
       "  'PWY-6708',\n",
       "  'PWY-7344',\n",
       "  'PWY-7343',\n",
       "  'PWY-7346',\n",
       "  'PWY-8462',\n",
       "  'PWY-7335',\n",
       "  'UDPNAGSYN-PWY',\n",
       "  'PWY-6387',\n",
       "  'PWY-5686',\n",
       "  'PWY0-1471',\n",
       "  'PWY-7176',\n",
       "  'SALVPURINE2-PWY',\n",
       "  'PWY-7250'],\n",
       " 'TAX-1313': ['PWY0-862',\n",
       "  'PWY-6998',\n",
       "  'PWY-7127',\n",
       "  'PWY-5981',\n",
       "  'PWY-8416',\n",
       "  'PWY-7886',\n",
       "  'PWY-6626',\n",
       "  'FASYN-ELONG-PWY',\n",
       "  'PWY-7645',\n",
       "  'PWY-6462',\n",
       "  'PWY-7328',\n",
       "  'PWY-7818',\n",
       "  'PWY-7096',\n",
       "  'PWY-7467',\n",
       "  'PWY-4861',\n",
       "  'PWY-7346'],\n",
       " 'TAX-85962': ['PWY-7858',\n",
       "  'PWY2DNV-2',\n",
       "  'PWY2DNV-3',\n",
       "  'PWY-6519',\n",
       "  'PWY0-1241',\n",
       "  'PWY-7833',\n",
       "  'BIOTIN-BIOSYNTHESIS-PWY',\n",
       "  'PWY-6143',\n",
       "  'PWY-7372',\n",
       "  'PWY2DNV-5',\n",
       "  'PWY-8421',\n",
       "  'PWY2DNV-1',\n",
       "  'PWY-I9',\n",
       "  'PWY2DNV-4',\n",
       "  'PWYI-14',\n",
       "  'PWY-8319',\n",
       "  'PWY-6282',\n",
       "  'PWY-6700',\n",
       "  'SAM-PWY',\n",
       "  'REDCITCYC',\n",
       "  'PWY2DNV-11'],\n",
       " 'TAX-28973': ['PWY-5361',\n",
       "  'PWY-5667',\n",
       "  'TRIGLSYN-PWY',\n",
       "  'PWY4FS-7',\n",
       "  'PWY4FS-8',\n",
       "  'PHOSLIPSYN2-PWY'],\n",
       " 'TAX-42439': ['PWY-5361', 'PWY-5080', 'PWY-7036'],\n",
       " 'TAX-3708': ['PWY-7590',\n",
       "  'PWY-5997',\n",
       "  'PWY-5098',\n",
       "  'PWY-3385',\n",
       "  'PWY-4381',\n",
       "  'FASYN-ELONG-PWY',\n",
       "  'GLUCONEO-PWY',\n",
       "  'PWY-2821',\n",
       "  'GLYCOLYSIS',\n",
       "  'PWY-1042',\n",
       "  'PWY-5971',\n",
       "  'PWY-1081',\n",
       "  'PWY-5723',\n",
       "  'PWY-6762',\n",
       "  'PWY-3301',\n",
       "  'PWY-5989',\n",
       "  'PWY-7345',\n",
       "  'PWY-4762',\n",
       "  'PWY-5464',\n",
       "  'PWY-5156',\n",
       "  'PWY-5080',\n",
       "  'PWY-7036'],\n",
       " 'TAX-3562': ['PWY-7590',\n",
       "  'PWY-7460',\n",
       "  'PWY-6147',\n",
       "  'PWY-6794',\n",
       "  'PWY-2261',\n",
       "  'PWY-3385',\n",
       "  'ASPSYNII-PWY',\n",
       "  'FASYN-ELONG-PWY',\n",
       "  'PWY-3841',\n",
       "  'PWY-5659',\n",
       "  'PWY-5070',\n",
       "  'PWY-102',\n",
       "  'PWY1F-353',\n",
       "  'GLYCOLYSIS',\n",
       "  'PWY-1042',\n",
       "  'PWY-882',\n",
       "  'PWY-3462',\n",
       "  'PWY-5995',\n",
       "  'PWY-5083',\n",
       "  'PWY-5971',\n",
       "  'PWY-3961',\n",
       "  'PWY-1581',\n",
       "  'PWY-6932',\n",
       "  'PWY-6936',\n",
       "  'PWY-5194',\n",
       "  'PWY-5989',\n",
       "  'SUCSYN-PWY',\n",
       "  'PWY-7238',\n",
       "  'PWY-621',\n",
       "  'PWY-7345',\n",
       "  'PWY-4762',\n",
       "  'PWY-5464',\n",
       "  'PWY-5052',\n",
       "  'PWY-5053',\n",
       "  'PWY-3481',\n",
       "  'PWY-5864',\n",
       "  'PWY-6395',\n",
       "  'PWY-5872'],\n",
       " 'TAX-82600': ['PWY-7654'],\n",
       " 'TAX-7370': ['PWY-7035',\n",
       "  'PWY-7043',\n",
       "  'PWY-4041',\n",
       "  'PWY-7042',\n",
       "  'PWY-5871',\n",
       "  'PWY-8249'],\n",
       " 'TAX-1404': ['PWY-7805',\n",
       "  'PWY-5523',\n",
       "  'PWY-6578',\n",
       "  'PWY-5507',\n",
       "  'PWY-6079',\n",
       "  'PWY-7564',\n",
       "  'PWY-7377',\n",
       "  'PWY-8088',\n",
       "  'PWY-5807',\n",
       "  'PWY-2941',\n",
       "  'TRPCAT-PWY',\n",
       "  'PWY-5839',\n",
       "  'PEPTIDOGLYCANSYN-PWY',\n",
       "  'PWY-8439',\n",
       "  'PWY-5194',\n",
       "  'PWY-8213',\n",
       "  'PWY-5840'],\n",
       " 'TAX-272915': ['PWY-7805'],\n",
       " 'TAX-37927': ['PWY-7805', 'PWY-7806', 'PWY-5805'],\n",
       " 'TAX-382': ['PWY-7805',\n",
       "  'PWY-6992',\n",
       "  'PWY-5523',\n",
       "  'P381-PWY',\n",
       "  'PWY-8263',\n",
       "  'PWY-6683',\n",
       "  'PWY-7376',\n",
       "  'GALDEG-PWY',\n",
       "  'PWY-7789',\n",
       "  'PWY-5517',\n",
       "  'PWY-6481',\n",
       "  'P562-PWY',\n",
       "  'PWY-7054',\n",
       "  'N2FIX-PWY',\n",
       "  'PWY-6818',\n",
       "  'PWY-6825',\n",
       "  'PWY-6826',\n",
       "  'PWY-8265',\n",
       "  'PWY-8133',\n",
       "  'PWY-5257'],\n",
       " 'TAX-1125722': ['PWY-8247',\n",
       "  'PWY-8246',\n",
       "  'PWY-8248',\n",
       "  'PWY-8245',\n",
       "  'PWY-8279',\n",
       "  'PWY-8422',\n",
       "  'PWY-8228'],\n",
       " 'TAX-160488': ['PWY-8075',\n",
       "  'PWY-7948',\n",
       "  'PWY-3781',\n",
       "  'PWY-8072',\n",
       "  'GALLATE-DEGRADATION-II-PWY',\n",
       "  'PWY1G01-4',\n",
       "  'PWY0-1561',\n",
       "  'PWY-6952',\n",
       "  'PWY-8074',\n",
       "  'PWY-5283',\n",
       "  'PWY-8073',\n",
       "  'PWY-8268',\n",
       "  'PWY0-1335',\n",
       "  'PWY0-1567',\n",
       "  'PWY-722',\n",
       "  'PWY-7883',\n",
       "  'PWY-6657',\n",
       "  'PWY0-1544',\n",
       "  'PWY-8261',\n",
       "  'PWY-8140',\n",
       "  'PWY0-1329',\n",
       "  'PWY-6339'],\n",
       " 'TAX-359391': ['PWY2B4Q-7',\n",
       "  'PWY2B4Q-9',\n",
       "  'PWY2B4Q-3',\n",
       "  'PWY-8490',\n",
       "  'PWY2B4Q-2',\n",
       "  'PWY2B4Q-6',\n",
       "  'PWY2B4Q-8',\n",
       "  'PWY2B4Q-4',\n",
       "  'PWY-8273',\n",
       "  'PWY-7334'],\n",
       " 'TAX-1488': ['PWY-7216',\n",
       "  'PWY-6886',\n",
       "  'PWY0-1312',\n",
       "  'PWY-7247',\n",
       "  'PWY-6784',\n",
       "  'PWY-6805',\n",
       "  'PWY-7242',\n",
       "  'PWY-7003',\n",
       "  'PWY-6876',\n",
       "  'GLUDEG-II-PWY',\n",
       "  'PWY-7218',\n",
       "  'PWY-8275',\n",
       "  'P142-PWY',\n",
       "  'PWY-6588',\n",
       "  'CENTFERM-PWY',\n",
       "  'PWY-6583',\n",
       "  'PWY-6883',\n",
       "  'PWY-6587',\n",
       "  'PWY-6863',\n",
       "  'PWY-5493',\n",
       "  'SUCUTIL-PWY',\n",
       "  'GLUCUROCAT-PWY',\n",
       "  'PWY-6604',\n",
       "  'PWY-6590',\n",
       "  'PWY-6594',\n",
       "  'PWY-6516'],\n",
       " 'TAX-272562': ['PWY-7216',\n",
       "  'PWY-6886',\n",
       "  'ETOH-ACETYLCOA-ANA-PWY',\n",
       "  'PWY-7003',\n",
       "  'PWY-6876',\n",
       "  'PWY-7218',\n",
       "  'P142-PWY',\n",
       "  'PWY-6588',\n",
       "  'CENTFERM-PWY',\n",
       "  'PWY-6583',\n",
       "  'PWY-6883',\n",
       "  'PWY-5480',\n",
       "  'PWY-6587',\n",
       "  'PWY-6863',\n",
       "  'PWY-6604',\n",
       "  'PWY-6590',\n",
       "  'PWY-6594'],\n",
       " 'TAX-106590': ['PWY-7216',\n",
       "  'PWY-5747',\n",
       "  'PWY-6537',\n",
       "  'PWY0-1313',\n",
       "  'PWY-6028',\n",
       "  'PWY-4521',\n",
       "  'PWY-2503',\n",
       "  'PWY-5415',\n",
       "  'PWY-5420',\n",
       "  'PWY-5417',\n",
       "  'PWY-5419',\n",
       "  'PWY-6997',\n",
       "  'HEMESYN2-PWY',\n",
       "  'P283-PWY',\n",
       "  'PWY-5382',\n",
       "  'PWY-5430',\n",
       "  'PWY-6748',\n",
       "  'PWY-5783',\n",
       "  'PWY-7218',\n",
       "  'PWY1-3',\n",
       "  'PWY-6863',\n",
       "  'UBISYN-PWY',\n",
       "  'PWY-6708'],\n",
       " 'ORG-5941': ['P601-PWY',\n",
       "  'PWY-6989',\n",
       "  'P481-PWY',\n",
       "  'PWY-5370',\n",
       "  'PWY-6954',\n",
       "  'PWY-2504'],\n",
       " 'TAX-581246': ['PWY-7522'],\n",
       " 'ORG-6160': ['PWY-6642'],\n",
       " 'TAX-28446': ['PWY-5494',\n",
       "  'PWY0-1312',\n",
       "  'PWY-6046',\n",
       "  'ALACAT2-PWY',\n",
       "  'PWY-8189',\n",
       "  'PWY-8188',\n",
       "  'PWY-8275',\n",
       "  'PWY-8274',\n",
       "  'P142-PWY',\n",
       "  'PROPFERM-PWY'],\n",
       " 'TAX-907': ['PWY-5494', 'PWY-7541', 'PWY-8189', 'PWY-8188', 'PROPFERM-PWY'],\n",
       " 'TAX-839': ['PWY-5494',\n",
       "  'PWY-5816',\n",
       "  'PWY-5817',\n",
       "  'PWY-5154',\n",
       "  'PWY-5108',\n",
       "  'PWY-5891',\n",
       "  'PWY-5892',\n",
       "  'PWY-5895',\n",
       "  'PWY-5897',\n",
       "  'PWY-5898',\n",
       "  'PWY-5899',\n",
       "  'PWY-5893'],\n",
       " 'TAX-4932': ['PWY-5951',\n",
       "  'PWY3O-246',\n",
       "  'PWY-7385',\n",
       "  'PWY-7337',\n",
       "  'PWY-7339',\n",
       "  'PWY-7338',\n",
       "  'PWY-6361',\n",
       "  'PWY-6164',\n",
       "  'PWY-6871',\n",
       "  'PWY-6352',\n",
       "  'PWY-7282',\n",
       "  'PWY-6536',\n",
       "  'PWY-5754',\n",
       "  'PWY-6121',\n",
       "  'PWY-7942',\n",
       "  'PWY-6920',\n",
       "  'PWY-6147',\n",
       "  'PWY-6502',\n",
       "  'PWY-7340',\n",
       "  'PWY0-1313',\n",
       "  'PWY-6610',\n",
       "  'PWY-7279',\n",
       "  'PWY-6859',\n",
       "  'PWY-5694',\n",
       "  'PWY-5697',\n",
       "  'PWY-6963',\n",
       "  'AMMASSIM-PWY',\n",
       "  'PWY-4621',\n",
       "  'SO4ASSIM-PWY',\n",
       "  'PWY-6899',\n",
       "  'PWY-5760',\n",
       "  'PWY-7396',\n",
       "  'PWY-7119',\n",
       "  'PWY-6981',\n",
       "  'PWY-7118',\n",
       "  'PWY-6163',\n",
       "  'ARO-PWY',\n",
       "  'PWY-7205',\n",
       "  'PWY-7851',\n",
       "  'PWY-8145',\n",
       "  'PWY-7268',\n",
       "  'PWY3O-1743',\n",
       "  'PWY-6364',\n",
       "  'PWY-6351',\n",
       "  'PWY3O-6',\n",
       "  'TRIGLSYN-PWY',\n",
       "  'PWY-7546',\n",
       "  'PWY-6129',\n",
       "  'PWY66-385',\n",
       "  'PWY-5670',\n",
       "  'PWY-6075',\n",
       "  'PWY-7126',\n",
       "  'PWY-7124',\n",
       "  'PWY0-1280',\n",
       "  'PWY-5137',\n",
       "  'PWY-6837',\n",
       "  'PWY-7288',\n",
       "  'PWY66-429',\n",
       "  'PWY-5966-1',\n",
       "  'PWY-6168',\n",
       "  'PWY-1801',\n",
       "  'PWY-1722',\n",
       "  'PWY66-423',\n",
       "  'PWY-5659',\n",
       "  'PWY-5122',\n",
       "  'PWY-5120',\n",
       "  'PWY-7559',\n",
       "  'PWY-6842',\n",
       "  'PWY-4261',\n",
       "  'PWY-6118',\n",
       "  'PWY-6952',\n",
       "  'GLYSYN-PWY',\n",
       "  'GLYCINE-SYN2-PWY',\n",
       "  'GLYSYN-ALA-PWY',\n",
       "  'GLYSYN-THR-PWY',\n",
       "  'GLYCLEAV-PWY',\n",
       "  'PWY-5067',\n",
       "  'PWY-5941',\n",
       "  'GLYCOLYSIS',\n",
       "  'ANAGLYCOLYSIS-PWY',\n",
       "  'PWY-7226',\n",
       "  'PWY-7221',\n",
       "  'HEME-BIOSYNTHESIS-II',\n",
       "  'HEXPPSYN-PWY',\n",
       "  'PWY-801',\n",
       "  'PWY-7910',\n",
       "  'PWY-6910',\n",
       "  'PWY-6124',\n",
       "  'PWY-6369',\n",
       "  'PWY-7391',\n",
       "  'ARGSYNBSUB-PWY',\n",
       "  'ARG-PRO-PWY',\n",
       "  'ASPARAGINE-BIOSYNTHESIS',\n",
       "  'ASPARTATE-DEG1-PWY',\n",
       "  'PWY-5505',\n",
       "  'GLUTSYNIII-PWY',\n",
       "  'GLUGLNSYN-PWY',\n",
       "  'GLUTAMATE-DEG1-PWY',\n",
       "  'PWY0-1305',\n",
       "  'GLNSYN-PWY',\n",
       "  'HISTSYN-PWY',\n",
       "  'PWY-5344',\n",
       "  'PWY-5078',\n",
       "  'PWY-5076',\n",
       "  'LYSINE-AMINOAD-PWY',\n",
       "  'LYSDEGII-PWY',\n",
       "  'PWY-7686',\n",
       "  'HSERMETANA-PWY',\n",
       "  'METHIONINE-DEG1-PWY',\n",
       "  'PWY-5082',\n",
       "  'PHESYN',\n",
       "  'ANAPHENOXI-PWY',\n",
       "  'PWY-5079',\n",
       "  'PROUT-PWY',\n",
       "  'PWY-5436',\n",
       "  'TRYPTOPHAN-DEGRADATION-1',\n",
       "  'PWY-5651',\n",
       "  'PWY-5081',\n",
       "  'TYRSYN',\n",
       "  'PWY3O-4108',\n",
       "  'PWY-5057',\n",
       "  'PWY-6132',\n",
       "  'PWY-7382',\n",
       "  'PWY-6392',\n",
       "  'PWY-8458',\n",
       "  'PWY-5458',\n",
       "  'PWY-5386-1',\n",
       "  'PWY-922',\n",
       "  'PWY-7269',\n",
       "  'PWY-7420',\n",
       "  'PWY-7375',\n",
       "  'PWY-8341',\n",
       "  'PWY0-1587',\n",
       "  'PWY-5653',\n",
       "  'NADSYN-PWY',\n",
       "  'PWY3O-4106',\n",
       "  'PWY3O-4107',\n",
       "  'PWY-6938',\n",
       "  'PWY-8148',\n",
       "  'PWY-8137',\n",
       "  'PWY3O-224',\n",
       "  'PWY-7388',\n",
       "  'PWY-7291',\n",
       "  'PWY-7307',\n",
       "  'PWY-7292',\n",
       "  'PWY-5996',\n",
       "  'PWY-7985',\n",
       "  'PWY-5994',\n",
       "  'PWY3O-1801',\n",
       "  'PWY-7411',\n",
       "  'PWY3O-450',\n",
       "  'PWY-6825',\n",
       "  'PWY-7367',\n",
       "  'PWY4FS-8',\n",
       "  'PWY-7366',\n",
       "  'PWY-7625',\n",
       "  'PWY-7417',\n",
       "  'PWY-7416',\n",
       "  'PWY-7409',\n",
       "  'PANTO-PWY',\n",
       "  'PWY0-1597',\n",
       "  'MANNOSYL-CHITO-DOLICHOL-BIOSYNTHESIS',\n",
       "  'PWY-8323',\n",
       "  'PWY-8322',\n",
       "  'PWY-7918',\n",
       "  'PWY-7899',\n",
       "  'PWY-7921',\n",
       "  'PWY-7798',\n",
       "  'PWY-46',\n",
       "  'PWY-6466',\n",
       "  'PWY-7197',\n",
       "  'PWY-7210',\n",
       "  'PWY-7184',\n",
       "  'PWY-7183',\n",
       "  'PWY-7194',\n",
       "  'PWY-6556',\n",
       "  'PWY-7195',\n",
       "  'PWY-5938',\n",
       "  'PWY-5768',\n",
       "  'PWY3O-440',\n",
       "  'PWY-5486',\n",
       "  'PWY-7111',\n",
       "  'SAM-PWY',\n",
       "  'PWY-5194',\n",
       "  'BSUBPOLYAMSYN-PWY',\n",
       "  'ARGSPECAT-PWY',\n",
       "  'SPHINGOLIPID-SYN-PWY',\n",
       "  'PWY3DJ-11470',\n",
       "  'PWY3O-355',\n",
       "  'PWY-7424',\n",
       "  'PWY-621',\n",
       "  'PWY-5340',\n",
       "  'PWY-6396',\n",
       "  'PWY-7229',\n",
       "  'ALLANTOINDEG-PWY',\n",
       "  'PWY-6358',\n",
       "  'ERGOSTEROL-SYN-PWY',\n",
       "  'PWY-5910',\n",
       "  'PWY-7228',\n",
       "  'PWY-5920',\n",
       "  'PWY-6371',\n",
       "  'PWY-6293',\n",
       "  'PWY-5327',\n",
       "  'PWY-5345',\n",
       "  'PWY-3502',\n",
       "  'PWY-7245',\n",
       "  'PWY-841',\n",
       "  'PWY-7211',\n",
       "  'PWY-7208',\n",
       "  'PWY-7196',\n",
       "  'PWY-6395',\n",
       "  'PWY-821',\n",
       "  'PWY-6612',\n",
       "  'THISYNARA-PWY',\n",
       "  'PWY-7235',\n",
       "  'PWY-5690',\n",
       "  'PWY-6614',\n",
       "  'PWY-6613',\n",
       "  'PWY-5189',\n",
       "  'PWY-6908',\n",
       "  'PWY-7357',\n",
       "  'PWY-6898',\n",
       "  'PWY-7356',\n",
       "  'PWY-7369',\n",
       "  'PWY-6909',\n",
       "  'PWY-5277',\n",
       "  'PWY-5123',\n",
       "  'TRESYN-PWY',\n",
       "  'PWY-881',\n",
       "  'PWY0-1182',\n",
       "  'PWY0-1466',\n",
       "  'LIPAS-PWY',\n",
       "  'PWY-6829',\n",
       "  'PWY-6689',\n",
       "  'PWY3O-19',\n",
       "  'PWY-7230',\n",
       "  'PWY-7343',\n",
       "  'UDPNACETYLGALSYN-PWY',\n",
       "  'PWY-5703',\n",
       "  'PWY-7176',\n",
       "  'PWY-7177',\n",
       "  'PWY-5080',\n",
       "  'PWY-7036',\n",
       "  'PWY-7283',\n",
       "  'PWY-6074',\n",
       "  'PWY-7250'],\n",
       " 'TAX-554': ['PWY-5951',\n",
       "  'PWY-6507',\n",
       "  'GALACTUROCAT-PWY',\n",
       "  'PWY-5852',\n",
       "  'ASPARAGINE-DEG1-PWY',\n",
       "  'MENAQUINONESYN-PWY',\n",
       "  'PWY-5861',\n",
       "  'PWY-5838',\n",
       "  'PWY-6516'],\n",
       " 'TAX-1406': ['PWY-5951', 'PWY-2941', 'PWY-6396'],\n",
       " 'TAX-442': ['PWY-5951',\n",
       "  'PWY-5782',\n",
       "  'PWY-5806',\n",
       "  'DHGLUCONATE-PYR-CAT-PWY',\n",
       "  'PWY-7165',\n",
       "  'QUINATEDEG-PWY',\n",
       "  'SHIKIMATEDEG-PWY'],\n",
       " 'TAX-870730': ['PWY3O-246', 'P185-PWY', 'PWY-5506'],\n",
       " 'TAX-29466': ['PWY-8086',\n",
       "  'PWY-7963',\n",
       "  'PWY-7970',\n",
       "  'PWY0-1601',\n",
       "  'PWY-5327',\n",
       "  'PWY-5358'],\n",
       " 'TAX-546': ['PWY-7013',\n",
       "  'PWY-8060',\n",
       "  'PWY-5852',\n",
       "  'PWY-6131',\n",
       "  'PWY-6130',\n",
       "  'PWY-5087',\n",
       "  'GLUDEG-II-PWY',\n",
       "  'MENAQUINONESYN-PWY',\n",
       "  'P344-PWY',\n",
       "  'PWY-5861',\n",
       "  'GOLPDLCAT-PWY',\n",
       "  'PWY-5838',\n",
       "  'UBISYN-PWY',\n",
       "  'PWY-5358',\n",
       "  'PWY-7813',\n",
       "  'PWY-6708'],\n",
       " 'TAX-571': ['PWY-7013',\n",
       "  'PWY-8060',\n",
       "  'PWY-5389',\n",
       "  'PWY-8214',\n",
       "  'PWY-8324',\n",
       "  'PWY-7528',\n",
       "  'PWY-7527',\n",
       "  'PWY-6754',\n",
       "  'PWY-4361'],\n",
       " 'TAX-1642': ['PWY-7013', 'PWY-7975'],\n",
       " 'TAX-28901': ['PWY-7013', 'PWY-8324', 'PWY-8023', 'PWY-8022'],\n",
       " 'TAX-99287': ['PWY-7013',\n",
       "  'PWY-7541',\n",
       "  'PWY-8060',\n",
       "  'PWY-6268',\n",
       "  'PWY-7871',\n",
       "  'PWY0-1477',\n",
       "  'ILEUSYN-PWY',\n",
       "  'PWY0-1315',\n",
       "  'PWY-5437',\n",
       "  'PWY1R65-1',\n",
       "  'PWY-8402',\n",
       "  'PWY-8192',\n",
       "  'PWY-8423',\n",
       "  'PWY-7813'],\n",
       " 'TAX-33814': ['PWY-3581', 'PWY-5472'],\n",
       " 'TAX-3442': ['PWY-3581',\n",
       "  'PWY-3901',\n",
       "  'PWY-8030',\n",
       "  'PWY-8031',\n",
       "  'PWY-5876',\n",
       "  'PWY-5470'],\n",
       " 'TAX-397412': ['PWY-3581'],\n",
       " 'TAX-3467': ['PWY-3581', 'PWY-7507', 'PWY-6337', 'PWY-5287'],\n",
       " 'TAX-3469': ['PWY-3581',\n",
       "  'PWY-7507',\n",
       "  'PWY-8030',\n",
       "  'PWY-6337',\n",
       "  'PWY-5474',\n",
       "  'PWY-5270',\n",
       "  'PWY-7138',\n",
       "  'PWY-7363',\n",
       "  'PWY-5287',\n",
       "  'PWY-5405'],\n",
       " 'TAX-150094': ['PWY-3581', 'PWY-3901', 'PWY-6337'],\n",
       " 'TAX-79802': ['PWY-3581'],\n",
       " 'TAX-1422': ['PWY-6390',\n",
       "  'PWY-6388',\n",
       "  'PWY-5084',\n",
       "  'PWY-5046',\n",
       "  'PWY-283',\n",
       "  'PWY-1361',\n",
       "  'PWY-5921',\n",
       "  'PWY-5807',\n",
       "  'PWY-2941',\n",
       "  'PWY-5314',\n",
       "  'PWY-5839',\n",
       "  'PWY-6391',\n",
       "  'PEPTIDOGLYCANSYN-PWY',\n",
       "  'PWY-7181',\n",
       "  'PWY-6389',\n",
       "  'ARGSPECAT-PWY',\n",
       "  'PWY-5327',\n",
       "  'PWY-5840',\n",
       "  'PWY-7209',\n",
       "  'PWY-2722'],\n",
       " 'TAX-548': ['PWY-6390',\n",
       "  'PWY-6388',\n",
       "  'PHOSPHONOTASE-PWY',\n",
       "  'AEROBACTINSYN-PWY',\n",
       "  'PWY-6038',\n",
       "  'P2-PWY',\n",
       "  'DARABITOLUTIL-PWY',\n",
       "  'GLUCARDEG-PWY',\n",
       "  'PWY-5852',\n",
       "  'PWY-6131',\n",
       "  'PWY-6130',\n",
       "  'PWY-6173',\n",
       "  'PWY1-2',\n",
       "  'AST-PWY',\n",
       "  'GLUTDEG-PWY',\n",
       "  'HISDEG-PWY',\n",
       "  'TRYPDEG-PWY',\n",
       "  'MENAQUINONESYN-PWY',\n",
       "  'P562-PWY',\n",
       "  'PWY-5783',\n",
       "  'PUTDEG-PWY',\n",
       "  'PWY-5938',\n",
       "  'PWY-5939',\n",
       "  'PWY-6389',\n",
       "  'RIBITOLUTIL-PWY',\n",
       "  'P125-PWY',\n",
       "  'PWY-6396',\n",
       "  'PWY-5861',\n",
       "  'GOLPDLCAT-PWY',\n",
       "  'PWY-5838',\n",
       "  'PWY-5257',\n",
       "  'UBISYN-PWY',\n",
       "  'PWY-6708',\n",
       "  'PWY-6426'],\n",
       " 'TAX-1718': ['PWY-6390',\n",
       "  'PWY-6388',\n",
       "  'PWY-6421',\n",
       "  'PWY0-1507',\n",
       "  'PWY18HP-2',\n",
       "  'PWY-6223',\n",
       "  'ARGSYNBSUB-PWY',\n",
       "  'PWY-5344',\n",
       "  'DAPLYSINESYN-PWY',\n",
       "  'PWY-2942',\n",
       "  'HSERMETANA-PWY',\n",
       "  'PWY0-1264',\n",
       "  'P562-PWY',\n",
       "  'PWY-5805',\n",
       "  'PEPTIDOGLYCANSYN-PWY',\n",
       "  'PWY-6580',\n",
       "  'PWY-6545',\n",
       "  'PWY-5938',\n",
       "  'PWY-5939',\n",
       "  'PWY-6416',\n",
       "  'P343-PWY',\n",
       "  'PWY-6419',\n",
       "  'P125-PWY',\n",
       "  'PWY-6396',\n",
       "  'PWY-5345',\n",
       "  'PWY-2622'],\n",
       " 'TAX-105310': ['PWY-6900'],\n",
       " 'TAX-46142': ['PWY-6539'],\n",
       " 'TAX-469561': ['PWY-6099', 'PWY-6091', 'PWY-6094'],\n",
       " 'TAX-393999': ['PWY-6099',\n",
       "  'PWY-6091',\n",
       "  'PWY-6090',\n",
       "  'PWY-6081',\n",
       "  '14DICHLORBENZDEG-PWY',\n",
       "  'PWY-6190',\n",
       "  'PWY-6191',\n",
       "  'PWY-6094',\n",
       "  'PWY-6192',\n",
       "  'PWY-6084',\n",
       "  'PWY-6089',\n",
       "  'PWY-6103',\n",
       "  'PWY-6093',\n",
       "  'PWY-6102',\n",
       "  'PWY-6083'],\n",
       " 'ORG-6079': ['PWY-6099', 'PWY-6094'],\n",
       " 'TAX-65067': ['PWY-6091',\n",
       "  'PWY-6090',\n",
       "  '14DICHLORBENZDEG-PWY',\n",
       "  'PWY-6094',\n",
       "  'PWY-6089',\n",
       "  'PWY-6093',\n",
       "  'PWY-6087'],\n",
       " 'ORG-6078': ['PWY-6091'],\n",
       " 'TAX-65741': ['PWY-6090',\n",
       "  'PWY-6084',\n",
       "  'PWY-6088',\n",
       "  'PWY-6089',\n",
       "  'PWY-2361',\n",
       "  'PWY-6087',\n",
       "  'PWY-5417',\n",
       "  'PWY-6197'],\n",
       " 'TAX-1288': ['PWY-6090', 'SUCUTIL-PWY'],\n",
       " 'TAX-280': ['12DICHLORETHDEG-PWY', 'PWY-5806', 'P283-PWY'],\n",
       " 'TAX-74649': ['PWY-5765', 'PWY-7076', 'PWY-4201'],\n",
       " 'TAX-128735': ['PWY-5765',\n",
       "  'PWY-7076',\n",
       "  'PWY-8176',\n",
       "  'PWY-5835',\n",
       "  'PWY-7143',\n",
       "  'PWY-7140',\n",
       "  'PWY-5751',\n",
       "  'PWY-7137',\n",
       "  'PWY-5160',\n",
       "  'PWY-7262',\n",
       "  'PWY-5313'],\n",
       " 'TAX-140968': ['PWY-5001',\n",
       "  'PWY-6446',\n",
       "  'PWY-6458',\n",
       "  'PWY-6457',\n",
       "  'PWY-8442',\n",
       "  'PWY-13'],\n",
       " 'TAX-55963': ['PWY-5001', 'PWY-6457', 'PWY-5808', 'PWY-8442'],\n",
       " 'TAX-4513': ['PWY-6773',\n",
       "  'PWY-5912',\n",
       "  'PWY-5407',\n",
       "  'PWY4FS-17',\n",
       "  'PWY-5271',\n",
       "  'PWY-6605',\n",
       "  'PWY-6794',\n",
       "  'PWY-3981',\n",
       "  'PWY-5068',\n",
       "  'CHOLINE-BETAINE-ANA-PWY',\n",
       "  'ASPSYNII-PWY',\n",
       "  'PWY0-1535',\n",
       "  'PWY-822',\n",
       "  'GLUCONEO-PWY',\n",
       "  'PWY-5467',\n",
       "  'PWY-6448',\n",
       "  'PWY-5925',\n",
       "  'ASPARAGINE-DEG1-PWY',\n",
       "  'PWY-5957',\n",
       "  'PROSYN-PWY',\n",
       "  'PWY-3341',\n",
       "  'PWY-8081',\n",
       "  'PWY-6697',\n",
       "  'PANTO-PWY',\n",
       "  'PWY-4702',\n",
       "  'PWY-8140',\n",
       "  'PWY-622',\n",
       "  'PWY-842',\n",
       "  'PWY-7345',\n",
       "  'PWY-4221',\n",
       "  'PWY-5433',\n",
       "  'PWY-4841',\n",
       "  'PWY-7436'],\n",
       " 'TAX-4530': ['PWY-6773',\n",
       "  'PWY-5912',\n",
       "  'PWY-5389',\n",
       "  'PWY-6543',\n",
       "  'PWY-6147',\n",
       "  'PWY-5408',\n",
       "  'PWY-4302',\n",
       "  'PWY-6963',\n",
       "  'PWY-6964',\n",
       "  'PWY-6275',\n",
       "  'PWY-6806',\n",
       "  'PWY-321',\n",
       "  'PWY-3821',\n",
       "  'PWY0-1535',\n",
       "  'PWY-2981',\n",
       "  'PWY-5032',\n",
       "  'PWY-5115',\n",
       "  'PWY-5070',\n",
       "  'PWY-5035',\n",
       "  'PWY-7232',\n",
       "  'PWY-102',\n",
       "  'GLUCONEO-PWY',\n",
       "  'PWY-5473',\n",
       "  'PWY-5784',\n",
       "  'PWY-5934',\n",
       "  'PWY-882',\n",
       "  'PWY4FS-11',\n",
       "  'PWY-7528',\n",
       "  'PWY-7270',\n",
       "  'PWY-3462',\n",
       "  'PWY-5995',\n",
       "  'PWY-5060',\n",
       "  'PWY-7477',\n",
       "  'PWY-5653',\n",
       "  'NADSYN-PWY',\n",
       "  'PWY-6602',\n",
       "  'PWY-7188',\n",
       "  'PWY-7489',\n",
       "  'PWY-7478',\n",
       "  'PWY-7481',\n",
       "  'PWY-4702',\n",
       "  'PWY-7484',\n",
       "  'PWY-7189',\n",
       "  'PWY-6754',\n",
       "  'PWY-4361',\n",
       "  'PWY-5116',\n",
       "  'PWY-8140',\n",
       "  'PWY-8475',\n",
       "  'PWY-622',\n",
       "  'PWY-842',\n",
       "  'SUCSYN-PWY',\n",
       "  'PWY-3801',\n",
       "  'PWY-621',\n",
       "  'PWY-3282',\n",
       "  'PWY-7345',\n",
       "  'PWY-5464',\n",
       "  'PWY-5052',\n",
       "  'PWY-5053',\n",
       "  'PWY-5433',\n",
       "  'PWY-6305',\n",
       "  'PWY-6612',\n",
       "  'PWY-6297'],\n",
       " 'TAX-4565': ['PWY-6773',\n",
       "  'PWY-5912',\n",
       "  'CHLOROPHYLL-SYN',\n",
       "  'PWY-3981',\n",
       "  'PWY-3941',\n",
       "  'PWY-6949',\n",
       "  'PWY-6950',\n",
       "  'PWY-862',\n",
       "  'PWY-5070',\n",
       "  'PWY-5035',\n",
       "  'PWY-7232',\n",
       "  'PWY-1042',\n",
       "  'PWY-6697',\n",
       "  'PWY-7039',\n",
       "  'PWY4FS-7',\n",
       "  'PWY4FS-8',\n",
       "  'PWY-4702',\n",
       "  'PWY-6745',\n",
       "  'PWY-7511',\n",
       "  'PWY-7204',\n",
       "  'PWY3O-440',\n",
       "  'PWY-622',\n",
       "  'PWY-4161',\n",
       "  'PWY-5464',\n",
       "  'PWY-5052',\n",
       "  'PWY-5053',\n",
       "  'PWY-5918',\n",
       "  'PHOSLIPSYN2-PWY',\n",
       "  'PWY-5188',\n",
       "  'PWY-6430',\n",
       "  'PWY-6631',\n",
       "  'PWY-63',\n",
       "  'PWY-5114',\n",
       "  'PWY-3982',\n",
       "  'PWY-5800'],\n",
       " 'ORG-6074': ['PWY-6081'],\n",
       " 'ORG-6073': ['PWY-6081'],\n",
       " 'ORG-5948': ['PWY-5428',\n",
       "  'PWY-5429',\n",
       "  'PWY-7480',\n",
       "  'PWY-5162',\n",
       "  'PWY-6104',\n",
       "  'PWY-2503',\n",
       "  'PWY-5415',\n",
       "  'PWY-5420',\n",
       "  'PWY-5417',\n",
       "  'P183-PWY',\n",
       "  'PWY-5419',\n",
       "  'CRNFORCAT-PWY',\n",
       "  'PWY-5430',\n",
       "  'PWY-5183',\n",
       "  'PWY-6954',\n",
       "  'PWY-2504',\n",
       "  'PWY-5178',\n",
       "  'TOLUENE-DEG-CATECHOL-PWY'],\n",
       " 'TAX-573': ['PWY-7385',\n",
       "  'PWY-5389',\n",
       "  '3-HYDROXYPHENYLACETATE-DEGRADATION-PWY',\n",
       "  'AEROBACTINSYN-PWY',\n",
       "  'PWY-6038',\n",
       "  'P2-PWY',\n",
       "  'DARABITOLUTIL-PWY',\n",
       "  'PWY-8324',\n",
       "  'DHGLUCONATE-PYR-CAT-PWY',\n",
       "  'PWY-6131',\n",
       "  'PWY-6130',\n",
       "  'PWY0-301',\n",
       "  'PWY-6961',\n",
       "  'HISDEG-PWY',\n",
       "  'PWY-7528',\n",
       "  'P302-PWY',\n",
       "  'PWY-5796',\n",
       "  'PWY-5794',\n",
       "  'PWY-5170',\n",
       "  'PWY-6391',\n",
       "  'PWY-7576',\n",
       "  'PWY-6420',\n",
       "  'PWY-5938',\n",
       "  'PWY-5939',\n",
       "  'PWY-6389',\n",
       "  'RIBITOLUTIL-PWY',\n",
       "  'PWY-6754',\n",
       "  'PWY-4361',\n",
       "  'SUCUTIL-PWY',\n",
       "  'P125-PWY',\n",
       "  'PWY-6396',\n",
       "  'GOLPDLCAT-PWY',\n",
       "  'PWY-5257',\n",
       "  'PWY-7394'],\n",
       " 'ORG-6072': ['14DICHLORBENZDEG-PWY'],\n",
       " 'ORG-6071': ['14DICHLORBENZDEG-PWY', 'PWY-6089', 'PWY-6083'],\n",
       " 'TAX-106592': ['PWY-6992'],\n",
       " 'TAX-644410': ['6-HYDROXYCINEOLE-DEGRADATION-PWY'],\n",
       " 'TAX-2234': ['PWY-8429',\n",
       "  'PWY-7968',\n",
       "  'PWY-6350',\n",
       "  'PWY-6141',\n",
       "  'PWY-8101',\n",
       "  'PWY-6349',\n",
       "  'PWY-6664',\n",
       "  'DISSULFRED-PWY',\n",
       "  'PWY-5199',\n",
       "  'PWY-6308',\n",
       "  'PWY-5254',\n",
       "  'PWY-8304',\n",
       "  'PWY-8125',\n",
       "  'PWY-2301',\n",
       "  'PWY-8352',\n",
       "  'PWY-5532',\n",
       "  'PWY0-1597',\n",
       "  'PWY-7784',\n",
       "  'PWY-5194'],\n",
       " 'TAX-63363': ['PWY-8430',\n",
       "  'PWY-7247',\n",
       "  'PWY-7242',\n",
       "  'PWY-6664',\n",
       "  'HEMESYN2-PWY',\n",
       "  'PWY0-1264',\n",
       "  'PWY-6545',\n",
       "  'PWY-5392',\n",
       "  'PWY-5302',\n",
       "  'GLUCUROCAT-PWY',\n",
       "  'PWY-6516',\n",
       "  'PWY-5296',\n",
       "  'PWY-7904'],\n",
       " 'TAX-3039': ['PWY-6886',\n",
       "  'PWY-6794',\n",
       "  'PWY-7601',\n",
       "  'PWY-7053',\n",
       "  'HEME-BIOSYNTHESIS-II',\n",
       "  'PWY-7602',\n",
       "  'PWY-6415',\n",
       "  'LYSINE-AMINOAD-PWY',\n",
       "  'PWY-6778',\n",
       "  'PWY-5147',\n",
       "  'PWY-6970',\n",
       "  'PWY-6883',\n",
       "  'PWY-6863',\n",
       "  'PWY-5889',\n",
       "  'PWY-5918',\n",
       "  'PWY-5920',\n",
       "  'P105-PWY',\n",
       "  'PWY-5188',\n",
       "  'PWY-5189',\n",
       "  'PWY-2722'],\n",
       " 'TAX-1140': ['PWY-6886',\n",
       "  'PWY-7032',\n",
       "  'PWY-6964',\n",
       "  'PWY1ZNC-1',\n",
       "  'PWY-7980',\n",
       "  'CALVIN-PWY',\n",
       "  'PWY-8270',\n",
       "  'PWY-7124',\n",
       "  'PWY-7666',\n",
       "  'PWY-6622',\n",
       "  'GLNSYN-PWY',\n",
       "  'PWY490-3',\n",
       "  'PHOTOALL-PWY',\n",
       "  'PWY-101',\n",
       "  'PWY2PN3-7',\n",
       "  'PWY-5917',\n",
       "  'PWYQT-4427',\n",
       "  'PWY-6475'],\n",
       " 'ORG-6281': ['PWY-7681'],\n",
       " 'TAX-33113': ['PWY-5315', 'PWY-5318', 'PWY-7341', 'PWY-5822', 'PWY-5317'],\n",
       " 'TAX-310458': ['PWY-5315', 'PWY-7341', 'PWY-5317'],\n",
       " 'TAX-4079': ['PWY-5315', 'PWY-5318', 'PWY-7341', 'PWY-5317'],\n",
       " 'TAX-4097': ['PWY-5315',\n",
       "  'CHLOROPHYLL-SYN',\n",
       "  'PWY-6333',\n",
       "  'PWY-4302',\n",
       "  'PWY-6443',\n",
       "  'PWY-6458',\n",
       "  'PWY-6673',\n",
       "  'CALVIN-PWY',\n",
       "  'PWY-2921',\n",
       "  'PWY18C3-7',\n",
       "  'PWY-5086',\n",
       "  'PWY-5098',\n",
       "  'PWY-3385',\n",
       "  'PWY-7057',\n",
       "  'PWY-6457',\n",
       "  'PWY18C3-13',\n",
       "  'ASPSYNII-PWY',\n",
       "  'PWY-8028',\n",
       "  'PWY3O-1743',\n",
       "  'PWY-7056',\n",
       "  'PWY-5406',\n",
       "  'PWY-7058',\n",
       "  'PWY-6577',\n",
       "  'PWY-2501',\n",
       "  'GLUCONEO-PWY',\n",
       "  'PWY18C3-23',\n",
       "  'HEME-BIOSYNTHESIS-II',\n",
       "  'PWY-1061',\n",
       "  'PWY-5907',\n",
       "  'PWY-5474',\n",
       "  'PWY-5905',\n",
       "  'GLUTAMATE-DEG1-PWY',\n",
       "  'PWY-5097',\n",
       "  'PWY-5957',\n",
       "  'PROSYN-PWY',\n",
       "  'PWY-3341',\n",
       "  'PWY-4281',\n",
       "  'PWY0-1264',\n",
       "  'PWY18C3-24',\n",
       "  'PWY-922',\n",
       "  'PWY-361',\n",
       "  'PYRIDNUCSYN-PWY',\n",
       "  'PWY-5381',\n",
       "  'PWY-6809',\n",
       "  'PWY-5316',\n",
       "  'PWY-1081',\n",
       "  'PWY-6930',\n",
       "  'PWY1F-467',\n",
       "  'PWY-2541',\n",
       "  'PWY-5063',\n",
       "  'PWY-46',\n",
       "  'PWY-8321',\n",
       "  'PWY-981',\n",
       "  'PWY-6624',\n",
       "  'PWY-6762',\n",
       "  'PWY-622',\n",
       "  'SUCSYN-PWY',\n",
       "  'PWY-621',\n",
       "  'PWY-5464',\n",
       "  'PWY18C3-14',\n",
       "  'PWY-5918',\n",
       "  'PWY-5433',\n",
       "  'PWY18C3-25',\n",
       "  'PWY-7342',\n",
       "  'POLYAMINSYN3-PWY',\n",
       "  'PWY-6305',\n",
       "  'PWY-7186',\n",
       "  'PWY-5188',\n",
       "  'PWY-5822',\n",
       "  'PWY-7346',\n",
       "  'PWY-4821',\n",
       "  'PWY-5114'],\n",
       " 'TAX-4113': ['PWY-5315',\n",
       "  'PWY-6431',\n",
       "  'PWY-5407',\n",
       "  'PWY-695',\n",
       "  'PWY4FS-17',\n",
       "  'PWY-6333',\n",
       "  'PWY-6596',\n",
       "  'PWY-3781',\n",
       "  'PWY-5946',\n",
       "  'PWY-5666',\n",
       "  'PWY-2261',\n",
       "  'PWY-5943',\n",
       "  'PWY-6673',\n",
       "  'PWY-5318',\n",
       "  'PWY18C3-1',\n",
       "  'PWY3O-1743',\n",
       "  'PWY-5406',\n",
       "  'PWY-7120',\n",
       "  'PWY-2501',\n",
       "  'PWY-3841',\n",
       "  'GLUCONEO-PWY',\n",
       "  'PWY-1042',\n",
       "  'PWY-6607',\n",
       "  'PWY-6606',\n",
       "  'PWY-5474',\n",
       "  'PWY4FS-11',\n",
       "  'GLUTAMATE-DEG1-PWY',\n",
       "  'PROUT-PWY',\n",
       "  'PWY-5947',\n",
       "  'PWY18C3-24',\n",
       "  'PWY-5083',\n",
       "  'PWY-6809',\n",
       "  'PWY-6752',\n",
       "  'PWY-6348',\n",
       "  'PWY-5044',\n",
       "  'PWY-7197',\n",
       "  'PWY-5481',\n",
       "  'PWY18C3-2',\n",
       "  'PWY18C3-4',\n",
       "  'BSUBPOLYAMSYN-PWY',\n",
       "  'PWY-622',\n",
       "  'PWY-6724',\n",
       "  'PWY-1121',\n",
       "  'PWY-7238',\n",
       "  'PWY-7345',\n",
       "  'CAROTENOID-PWY',\n",
       "  'PWY-5464',\n",
       "  'PWY18C3-6',\n",
       "  'PWY-6595',\n",
       "  'PWY-5433',\n",
       "  'PWY18C3-25',\n",
       "  'P165-PWY',\n",
       "  'PWY-6475',\n",
       "  'PWY-6297',\n",
       "  'PWY-5872',\n",
       "  'PWY-5945',\n",
       "  'PWY-5944'],\n",
       " 'TAX-83331': ['PWY-5935', 'PWY-7885'],\n",
       " 'TAX-83332': ['PWY-5935',\n",
       "  'PWY-8172',\n",
       "  'PWY-5837',\n",
       "  'PWY-5755',\n",
       "  'PWY-6519',\n",
       "  'PWY-8061',\n",
       "  'PWY-6944',\n",
       "  'PWY1ZNC-1',\n",
       "  'PWY-7740',\n",
       "  'PWY-7993',\n",
       "  'PWY-6945',\n",
       "  'PWY-6946',\n",
       "  'PWY-5851',\n",
       "  'PWY-7793',\n",
       "  'PWY-7744',\n",
       "  'PWY-7743',\n",
       "  'PWY-7255',\n",
       "  'PWY-7895',\n",
       "  'PWY-5198',\n",
       "  'PWY-5199',\n",
       "  'PWY-4381',\n",
       "  'PWY1G-170',\n",
       "  'PWY-7900',\n",
       "  'PWY-7848',\n",
       "  'PWY-7896',\n",
       "  'PWY-7289',\n",
       "  'DAPLYSINESYN-PWY',\n",
       "  'PWY-6383',\n",
       "  'PWY-7746',\n",
       "  'PWY185E-1',\n",
       "  'PWY-7236',\n",
       "  'PWY-8122',\n",
       "  'PWYG-321',\n",
       "  'PWY-6397',\n",
       "  'PWY1G-0',\n",
       "  'PWY1G-126',\n",
       "  'PWY1G-1',\n",
       "  'PWY-2301',\n",
       "  'PWY-7781',\n",
       "  'PWY-7745',\n",
       "  'PWY-5994',\n",
       "  'PWY-6385',\n",
       "  'PWY-6580',\n",
       "  'PWY-7885',\n",
       "  'PWY-7741',\n",
       "  'PWY-7738',\n",
       "  'PWY-7893',\n",
       "  'PWY-7199',\n",
       "  'PWY-7197',\n",
       "  'PWY-7187',\n",
       "  'PWY-6545',\n",
       "  'PWY-6406',\n",
       "  'PWY-6947',\n",
       "  'PWY-5862',\n",
       "  'PWY-6113',\n",
       "  'PWY-6404',\n",
       "  'PWY-7200',\n",
       "  'PWY0-166',\n",
       "  'PWY-7328',\n",
       "  'PWY-6969',\n",
       "  'TRESYN-PWY',\n",
       "  'PWY-2661',\n",
       "  'PWY-7344',\n",
       "  'PWY-6387'],\n",
       " 'TAX-233413': ['PWY-5935'],\n",
       " 'TAX-31958': ['PWY-8172', 'PWY-7440'],\n",
       " 'TAX-43771': ['PWY-8172'],\n",
       " 'TAX-37916': ['PWY-8172'],\n",
       " 'TAX-1538463': ['PWY-8172'],\n",
       " 'TAX-1833': ['PWY-8172',\n",
       "  'PWY-7627',\n",
       "  'PWY-681',\n",
       "  'PWY1G-170',\n",
       "  'PWY-5783',\n",
       "  'PWY-6426'],\n",
       " 'TAX-263849': ['PWY-8172'],\n",
       " 'TAX-334542': ['PWY-8172'],\n",
       " 'TAX-1830': ['PWY-8172', 'P161-PWY', 'PWY-6945', 'PWY-5783', 'P344-PWY'],\n",
       " 'TAX-7227': ['PWY-7043',\n",
       "  'PWY-7404',\n",
       "  'PWY-6981',\n",
       "  'PWY-8145',\n",
       "  'PWY-7442',\n",
       "  'PWY-7300',\n",
       "  'PWY-7321',\n",
       "  'PWY-5663',\n",
       "  'PWY-5941',\n",
       "  'PWY-6608',\n",
       "  'PWY-6575',\n",
       "  'PWY-7297',\n",
       "  'PWY-7042',\n",
       "  'UDPNACETYLGALSYN-PWY',\n",
       "  'PWY-8249'],\n",
       " 'TAX-7137': ['PWY-7043', 'PWY-7042'],\n",
       " 'TAX-83542': ['PWY-7958'],\n",
       " 'TAX-1930929': ['PWY-7958'],\n",
       " 'TAX-230521': ['PWY-7959', 'PWY-8483', 'PWY-7957'],\n",
       " 'TAX-1535197': ['PWY-7959'],\n",
       " 'TAX-29656': ['PWY-4661'],\n",
       " 'TAX-44689': ['PWY-6372', 'PWY-6794', 'PWY-6545', 'PWY-6405'],\n",
       " 'TAX-2035': ['PWY-7945',\n",
       "  'PWY-5851',\n",
       "  'PWY-5844',\n",
       "  'PWY-5805',\n",
       "  'PWY-5862',\n",
       "  'PWY-5845'],\n",
       " 'TAX-370437': ['PWY-7945'],\n",
       " 'TAX-46680': ['PWY-7009', 'PWY-7008', 'PWY-7011', 'PWY-7010', 'PWY-6183'],\n",
       " 'TAX-74316': ['PWY-7637'],\n",
       " 'TAX-1113698': ['PWY-7637', 'PWY-7175'],\n",
       " 'TAX-47247': ['PWY-6035', 'PWY-6029', 'PWY-7495', 'PWY-641'],\n",
       " 'TAX-1423': ['PWY-5901',\n",
       "  'PWY-5837',\n",
       "  'PWY-5084',\n",
       "  'PWY-5886',\n",
       "  'PWY-6164',\n",
       "  'PWY-6535',\n",
       "  'PWY-5523',\n",
       "  'PWY-6121',\n",
       "  'PWY-7942',\n",
       "  'PWY-7147',\n",
       "  'PWY-6578',\n",
       "  'PWY-6028',\n",
       "  'PWY-6610',\n",
       "  'PWY-8173',\n",
       "  'PWY-8101',\n",
       "  'SO4ASSIM-PWY',\n",
       "  'PWY-5903',\n",
       "  'PWY-7626',\n",
       "  'PWY-7247',\n",
       "  'PWY-7380',\n",
       "  'PWY-5005',\n",
       "  'PWY-5981',\n",
       "  'PWY-6163',\n",
       "  'ARO-PWY',\n",
       "  'PWY-7242',\n",
       "  'PWY-8088',\n",
       "  'PWY-8175',\n",
       "  'RIBOSYN2-PWY',\n",
       "  'PWY-1861',\n",
       "  'PWY-5120',\n",
       "  'PWY-5921',\n",
       "  'PWY-3722',\n",
       "  'HEMESYN2-PWY',\n",
       "  'PWY-7766',\n",
       "  'PWY-5807',\n",
       "  'PWY1-2',\n",
       "  'ARGSYNBSUB-PWY',\n",
       "  'ARGASEDEG-PWY',\n",
       "  'PWY-5766',\n",
       "  'GLUTAMINEFUM-PWY',\n",
       "  'HISTSYN-PWY',\n",
       "  'HISDEG-PWY',\n",
       "  'ILEUDEG-PWY',\n",
       "  'PWY-2941',\n",
       "  'PWY-7528',\n",
       "  'PWY-7527',\n",
       "  'PHESYN',\n",
       "  'THRDLCTCAT-PWY',\n",
       "  'PWY-5436',\n",
       "  'TRPSYN-PWY',\n",
       "  'VALDEG-PWY',\n",
       "  'PWY-6987',\n",
       "  'PWY0-1264',\n",
       "  'PWY-5839',\n",
       "  'PWY-6044',\n",
       "  'PYRIDNUCSYN-PWY',\n",
       "  'PWY-8174',\n",
       "  'PWY-6698',\n",
       "  'OXIDATIVEPENT-PWY',\n",
       "  'PEPTIDOGLYCANSYN-PWY',\n",
       "  'PWY-8439',\n",
       "  'PWY-40',\n",
       "  'PWY-6466',\n",
       "  'PWY-5938',\n",
       "  'PWY-5939',\n",
       "  'PWY-7111',\n",
       "  'PWY-6151',\n",
       "  'PWY-6754',\n",
       "  'PWY-4361',\n",
       "  'BSUBPOLYAMSYN-PWY',\n",
       "  'ARGSPECAT-PWY',\n",
       "  'SUCUTIL-PWY',\n",
       "  'P125-PWY',\n",
       "  'GLUCUROCAT-PWY',\n",
       "  'PWY-3001',\n",
       "  'PWY-5345',\n",
       "  'PWY-5840',\n",
       "  'PWY-6516',\n",
       "  'TREDEGLOW-PWY',\n",
       "  'PWY-7817',\n",
       "  'PWY-7344'],\n",
       " 'TAX-666': ['PWY-5901',\n",
       "  'PWY-5747',\n",
       "  'PWY-6154',\n",
       "  'PWY-6902',\n",
       "  'FASYN-ELONG-PWY',\n",
       "  'PWY-7675',\n",
       "  'PWY-6481',\n",
       "  'PWY-7528',\n",
       "  'TRYPDEG-PWY',\n",
       "  'TYRFUMCAT-PWY',\n",
       "  'PWY-6562',\n",
       "  'PWY-6559',\n",
       "  'PWY-6565',\n",
       "  'PWY-7096',\n",
       "  'PWY-6374'],\n",
       " 'TAX-294': ['PWY-7480',\n",
       "  'PWY-6535',\n",
       "  'PWY-6536',\n",
       "  '4-HYDROXYMANDELATE-DEGRADATION-PWY',\n",
       "  'PWY-8354',\n",
       "  'AMMOXID-PWY',\n",
       "  'PWY-6079',\n",
       "  'PWY-1781',\n",
       "  'CYANCAT-PWY',\n",
       "  'PWY-8147',\n",
       "  'DARABITOLUTIL-PWY',\n",
       "  'GALDEG-PWY',\n",
       "  'PWY-3621',\n",
       "  'DHGLUCONATE-PYR-CAT-PWY',\n",
       "  'TRPIAACAT-PWY',\n",
       "  'PWY-5749',\n",
       "  'AST-PWY',\n",
       "  'PWY-7165',\n",
       "  'PWY-5028',\n",
       "  'LEU-DEG2-PWY',\n",
       "  'PWY-5280',\n",
       "  'PWY-5283',\n",
       "  'TRPCAT-PWY',\n",
       "  'PWY-3162',\n",
       "  'TYRFUMCAT-PWY',\n",
       "  'VALDEG-PWY',\n",
       "  'PWY-5794',\n",
       "  'PWY-722',\n",
       "  'DENITRIFICATION-PWY',\n",
       "  'PWY-5805',\n",
       "  'PWY-6818',\n",
       "  'PWY-5770',\n",
       "  'PWY-7983',\n",
       "  'PWY-6408',\n",
       "  'PWY-6954',\n",
       "  'PWY-2504',\n",
       "  'PWY-5327',\n",
       "  'PWY-5062',\n",
       "  'PWY-5257',\n",
       "  'PWY-5855',\n",
       "  'PWY-5856'],\n",
       " 'TAX-395598': ['PWY-7480',\n",
       "  'PWY-6185',\n",
       "  'CATECHOL-ORTHO-CLEAVAGE-PWY',\n",
       "  'PWY-6107',\n",
       "  'PWY-6184',\n",
       "  'PWY-6183',\n",
       "  'PWY-6954',\n",
       "  'PWY-6182'],\n",
       " 'TAX-4442': ['PWY-6029',\n",
       "  'PWY-6596',\n",
       "  'PWY-5037',\n",
       "  'PWY-5038',\n",
       "  'PWY-6552',\n",
       "  'PWY-7448',\n",
       "  'PWY-7697',\n",
       "  'PWY-6607',\n",
       "  'PWY-6606',\n",
       "  'PWY-641',\n",
       "  'PWY-5044',\n",
       "  'PWY-5041',\n",
       "  'PWY-6595',\n",
       "  'P165-PWY'],\n",
       " 'TAX-225101': ['PWY-6029', 'PWY-641'],\n",
       " 'TAX-252970': ['PWY-6200'],\n",
       " 'TAX-264198': ['PWY-6178',\n",
       "  'PWY-6085',\n",
       "  'PWY-6084',\n",
       "  'PWY-6088',\n",
       "  'PWY-6089',\n",
       "  'PWY-6634',\n",
       "  'PWY-6086',\n",
       "  'PWY-6087',\n",
       "  'PWY-6185',\n",
       "  'PWY-6102',\n",
       "  'CATECHOL-ORTHO-CLEAVAGE-PWY'],\n",
       " 'TAX-37919': ['PWY-6178',\n",
       "  'PWY-5648',\n",
       "  'PWY-5488',\n",
       "  'P161-PWY',\n",
       "  'PWY-5382',\n",
       "  'P181-PWY',\n",
       "  'PWY-1281',\n",
       "  'PWY-1541',\n",
       "  'PWY-1263'],\n",
       " 'TAX-1928': ['PWY-6178'],\n",
       " 'ORG-6075': ['PWY-6178', 'PWY-6088', 'PWY-2503'],\n",
       " 'ORG-6275': ['PWY-7627'],\n",
       " 'ORG-6274': ['PWY-7627'],\n",
       " 'ORG-6273': ['PWY-7627'],\n",
       " 'TAX-80866': ['PWY-6085',\n",
       "  'PWY-6084',\n",
       "  'PWY-5029',\n",
       "  'PWY-6086',\n",
       "  'PWY-2381',\n",
       "  'PWY-6041',\n",
       "  'PWY-6079',\n",
       "  'PWY-6497',\n",
       "  'PWY-6486',\n",
       "  'PWY-6499',\n",
       "  'PWY-6501',\n",
       "  'PWY-5491',\n",
       "  'PWY-6646',\n",
       "  'TRPCAT-PWY',\n",
       "  'PWY-5805',\n",
       "  'P184-PWY',\n",
       "  'PWY-6954',\n",
       "  'PWY-2504',\n",
       "  'PWY-6516',\n",
       "  'PWY-5856',\n",
       "  'PWY-5691'],\n",
       " 'TAX-244562': ['PWY-6085', 'PWY-6084', 'PWY-6086'],\n",
       " 'TAX-69003': ['PWY-6085', 'PWY-6084', 'PWY-6086'],\n",
       " 'TAX-1517491': ['PWY-7628'],\n",
       " 'TAX-233098': ['PWY-5642'],\n",
       " 'ORG-5883': ['PWY-5642'],\n",
       " 'ORG-6283': ['PWY-7703', 'PWY-7700', 'PWY-5181'],\n",
       " 'ORG-5928': ['PWY-7698', 'PWY-6223', 'PWY-7469', 'M-CRESOL-DEGRADATION-PWY'],\n",
       " 'ORG-5949': ['PWY-7698', 'M-CRESOL-DEGRADATION-PWY', 'PWY-6954', 'PWY-2504'],\n",
       " 'ORG-5909': ['PWY-5643'],\n",
       " 'ORG-5882': ['PWY-5643'],\n",
       " 'TAX-1967': ['PWY-8427', 'PWY-7000', 'PWY-7014'],\n",
       " 'TAX-941587': ['PWY-8427'],\n",
       " 'TAX-82632': ['PWY-8427'],\n",
       " 'TAX-330919': ['PWY-8427'],\n",
       " 'TAX-1114943': ['PWY-8427'],\n",
       " 'TAX-216591': ['PWY-5654', 'PWY-5655', 'PWY-5651', 'PWY-6348'],\n",
       " 'ORG-5996': ['PWY-5654', 'PWY-5647', 'PWY-5648'],\n",
       " 'ORG-5935': ['PWY-5654', 'PWY-5647'],\n",
       " 'TAX-9685': ['PWY-5652', 'PWY-8001', 'PWY-6309'],\n",
       " 'ORG-6265': ['PWY-7536'],\n",
       " 'TAX-817': ['PWY-6839',\n",
       "  'PWY-5816',\n",
       "  'PWY-5806',\n",
       "  'PWY-7586',\n",
       "  'PWY-5108',\n",
       "  'PWY-5890',\n",
       "  'PWY-5891',\n",
       "  'PWY-6517',\n",
       "  'PWY-7581',\n",
       "  'PWY-5896',\n",
       "  'PWY-5897',\n",
       "  'PWY-7808',\n",
       "  'PWY-7330'],\n",
       " 'TAX-5908': ['PWY-6839', 'PWY-7601', 'VALDEG-PWY', 'PWY-6019'],\n",
       " 'TAX-5693': ['PWY-6839', 'PWY-5537', 'PWY-7790'],\n",
       " 'TAX-1396': ['PHOSPHONOTASE-PWY',\n",
       "  'PWY-8131',\n",
       "  'PWY-6079',\n",
       "  'PWY-5903',\n",
       "  'PWY-8065',\n",
       "  'PWY-5807',\n",
       "  'PWY1-2',\n",
       "  'PWY-2941',\n",
       "  'TRPCAT-PWY',\n",
       "  'PWY-5655',\n",
       "  'PWY-3181',\n",
       "  'VALDEG-PWY',\n",
       "  'PWY-5839',\n",
       "  'PYRIDNUCSYN-PWY',\n",
       "  'PWY-5840',\n",
       "  'PWY-7694'],\n",
       " 'TAX-90371': ['PHOSPHONOTASE-PWY',\n",
       "  'PWY-8060',\n",
       "  'PWY-7965',\n",
       "  'PWY0-42',\n",
       "  'PWY-6164',\n",
       "  'PWY-6890',\n",
       "  'PWY-6121',\n",
       "  'PWY-7964',\n",
       "  'PWY-7227',\n",
       "  'PWY-7220',\n",
       "  'PWY-7219',\n",
       "  'PWY-5509',\n",
       "  'PWY-5507',\n",
       "  'PWY-6268',\n",
       "  'PWY-7962',\n",
       "  'PWY-7971',\n",
       "  'AEROBACTINSYN-PWY',\n",
       "  'PWY-5443',\n",
       "  'PWY-6153',\n",
       "  'PWY-5833',\n",
       "  'PWY-5831',\n",
       "  'PWY-6163',\n",
       "  'ARO-PWY',\n",
       "  'PWY-7377',\n",
       "  'PWY1QP9-2',\n",
       "  'GALACTITOLCAT-PWY',\n",
       "  'PWY-6223',\n",
       "  'PWY-7226',\n",
       "  'PWY-7222',\n",
       "  'PWY-7221',\n",
       "  'PWY-6123',\n",
       "  'ARGSYN-PWY',\n",
       "  'AST-PWY',\n",
       "  'CARNMET-PWY',\n",
       "  'CYSTSYN-PWY',\n",
       "  'HISTSYN-PWY',\n",
       "  'HISDEG-PWY',\n",
       "  'GLUTORN-PWY',\n",
       "  'PROUT-PWY',\n",
       "  'PWY-5437',\n",
       "  'PYRIDNUCSAL-PWY',\n",
       "  'PWY-7761',\n",
       "  'PWY-7187',\n",
       "  'PWY-6151',\n",
       "  'PWY-8192',\n",
       "  'PWY-5194',\n",
       "  'ARGSPECAT-PWY',\n",
       "  'SUCUTIL-PWY',\n",
       "  'PWY-7229',\n",
       "  'PWY-6126',\n",
       "  'COBALSYN-PWY',\n",
       "  'PWY-5823',\n",
       "  'PWY-7228',\n",
       "  'PWY-6125',\n",
       "  'PWY-5918',\n",
       "  'THREOCAT-PWY',\n",
       "  'DENOVOPURINE2-PWY',\n",
       "  'PWY0-166',\n",
       "  'PWY-5360',\n",
       "  'THISYN-PWY',\n",
       "  'PWY-5188',\n",
       "  'PWY-5358',\n",
       "  'PWY-6894',\n",
       "  'PWY-7813',\n",
       "  'PWY-6430'],\n",
       " 'TAX-266834': ['PWY-6832',\n",
       "  'PWY-3661',\n",
       "  'PWY-7807',\n",
       "  'PWY-7054',\n",
       "  'PWY-6818',\n",
       "  'PWY-6826',\n",
       "  'P483-PWY',\n",
       "  'P561-PWY',\n",
       "  'PWY-8133',\n",
       "  'PWY-8401',\n",
       "  'PWY-4821',\n",
       "  'PWY-63'],\n",
       " 'TAX-663362': ['PWY-7447'],\n",
       " 'TAX-301': ['PWY-6210',\n",
       "  'LEU-DEG2-PWY',\n",
       "  'PWY-5637',\n",
       "  'P221-PWY',\n",
       "  'PWY-6657',\n",
       "  'PWY-6954',\n",
       "  'PWY-2504'],\n",
       " 'TAX-874293': ['PWY-6210'],\n",
       " 'ORG-5945': ['PWY-6210', 'PWY-5637'],\n",
       " 'TAX-254777': ['PWY-5837', 'PWY-5027', 'PWY-5863'],\n",
       " 'TAX-120793': ['PWY-5837'],\n",
       " 'TAX-1768': ['PWY-5837', 'PWY-5805'],\n",
       " 'TAX-1773': ['PWY-5837',\n",
       "  'PWY-6944',\n",
       "  'PWY-6946',\n",
       "  'PWY-5851',\n",
       "  'PWY-7255',\n",
       "  'PWY-5198',\n",
       "  'PWY1G-170',\n",
       "  'HEMESYN2-PWY',\n",
       "  'PWY-7766',\n",
       "  'PWY-7289',\n",
       "  'DAPLYSINESYN-PWY',\n",
       "  'PWY0-1264',\n",
       "  'PWY-5844',\n",
       "  'PWY-6383',\n",
       "  'PWY-7236',\n",
       "  'PWY-8122',\n",
       "  'PWY-6397',\n",
       "  'PWY1G-0',\n",
       "  'PWY1G-1',\n",
       "  'PWY-2301',\n",
       "  'PYRIDNUCSYN-PWY',\n",
       "  'PWY-5805',\n",
       "  'PWY-6385',\n",
       "  'PWY-7742',\n",
       "  'PWY-6580',\n",
       "  'PWY-7741',\n",
       "  'PWY-7187',\n",
       "  'PWY-6545',\n",
       "  'PWY-5041',\n",
       "  'PWY-6406',\n",
       "  'PWY-6947',\n",
       "  'PWY-5862',\n",
       "  'PWY-5845',\n",
       "  'PWY-6404',\n",
       "  'PWY0-166',\n",
       "  'PWY-6969',\n",
       "  'TRESYN-PWY',\n",
       "  'PWY-881',\n",
       "  'PWY-2622'],\n",
       " 'TAX-1766': ['PWY-5837', 'PWY-5805', 'PWY-6948'],\n",
       " 'TAX-1771': ['PWY-5837',\n",
       "  'PWY-7993',\n",
       "  'PWY-5851',\n",
       "  'MENAQUINONESYN-PWY',\n",
       "  'PWY-5844',\n",
       "  'PWY-5805',\n",
       "  'PWY-7781',\n",
       "  'PWY-40',\n",
       "  'PWY-5862',\n",
       "  'PWY-5838',\n",
       "  'PWY-5845'],\n",
       " 'TAX-29802': ['PWY-5837', 'PWY-5802'],\n",
       " 'TAX-1148': ['PWY-5837',\n",
       "  'CHLOROPHYLL-SYN',\n",
       "  'PWY-7159',\n",
       "  'PWY-5755',\n",
       "  'PWY-7964',\n",
       "  'PWY-7032',\n",
       "  'PWY-7598',\n",
       "  'PWY1ZNC-1',\n",
       "  'PWY-8128',\n",
       "  'CALVIN-PWY',\n",
       "  'PWY-5981',\n",
       "  'PWY-7764',\n",
       "  'PWY-7052',\n",
       "  'PWY-8270',\n",
       "  'PWY-7638',\n",
       "  'PWY-7255',\n",
       "  'PWY-7124',\n",
       "  'PWY-8346',\n",
       "  'PWY-7666',\n",
       "  'PWY-7594',\n",
       "  'PWY-7902',\n",
       "  'GLUTATHIONESYN-PWY',\n",
       "  'GLYCOLATEMET-PWY',\n",
       "  'HEME-BIOSYNTHESIS-II',\n",
       "  'HEMESYN2-PWY',\n",
       "  'PWY-6622',\n",
       "  'PWY-5382',\n",
       "  'ARG-PRO-PWY',\n",
       "  'PWY-4341',\n",
       "  'PWY-3461',\n",
       "  'PWY-7593',\n",
       "  'NAD-BIOSYNTHESIS-III',\n",
       "  'PWY-8271',\n",
       "  'PWY-7683',\n",
       "  'PWY-7587',\n",
       "  'PWY-8043',\n",
       "  'PHOTOALL-PWY',\n",
       "  'PWY-8362',\n",
       "  'PWY-101',\n",
       "  'PWY2PN3-7',\n",
       "  'PWY-7218',\n",
       "  'PWY-5917',\n",
       "  'PWY-5027',\n",
       "  'PWY-6978',\n",
       "  'PWY0-1597',\n",
       "  'PWY-8475',\n",
       "  'PWY-7595',\n",
       "  'PWY-5863',\n",
       "  'PWY-7596',\n",
       "  'PWY-1422'],\n",
       " 'TAX-406819': ['PWY-8487', 'PWY-5487'],\n",
       " 'TAX-306678': ['PWY-7425', 'PWY-7428'],\n",
       " 'TAX-66693': ['PWY-7428'],\n",
       " 'ORG-6102': ['PWY-6221'],\n",
       " 'TAX-5535': ['PWY-8121', 'PWY-7398', 'PWY-7397'],\n",
       " 'TAX-550': ['PWY-8060', 'TRPIAACAT-PWY'],\n",
       " 'TAX-562': ['PWY-8060',\n",
       "  'PWY-8264',\n",
       "  'PWY-6876',\n",
       "  'PWY-8119',\n",
       "  'PWY-8387',\n",
       "  'PWY-6151'],\n",
       " 'TAX-1590': ['PWY-8060',\n",
       "  'PWY-6011',\n",
       "  'ANAEROFRUCAT-PWY',\n",
       "  'CITRULLINE-DEG-PWY',\n",
       "  'PWY-7685',\n",
       "  'PWY-7928',\n",
       "  'TEICHOICACID-PWY',\n",
       "  'PWY-5938',\n",
       "  'PWY-5939',\n",
       "  'PWY-8274',\n",
       "  'SUCUTIL-PWY',\n",
       "  'P125-PWY'],\n",
       " 'TAX-577': ['PWY-8060', 'PWY-5938', 'PWY-5939', 'P125-PWY'],\n",
       " 'TAX-90370': ['PWY-8060',\n",
       "  'PWY-5833',\n",
       "  'PWY-5832',\n",
       "  'PWY-5834',\n",
       "  'HEMESYN2-PWY',\n",
       "  'PWY-8195',\n",
       "  'PWY-5823'],\n",
       " 'TAX-670': ['PWY-8060',\n",
       "  'PWY-8147',\n",
       "  'PWY-6562',\n",
       "  'PWY-6559',\n",
       "  'PWY-6565',\n",
       "  'PWY-5358'],\n",
       " 'TAX-622260': ['PWY-8060'],\n",
       " 'TAX-420952': ['PWY-8058'],\n",
       " 'TAX-261302': ['PWY-8058'],\n",
       " 'TAX-321846': ['PWY-8058'],\n",
       " 'TAX-652611': ['PWY-6660', 'PWY-6648', 'PWY-6662'],\n",
       " 'TAX-208964': ['PWY-6660',\n",
       "  'PWY-6661',\n",
       "  '3-HYDROXYPHENYLACETATE-DEGRADATION-PWY',\n",
       "  'PWY0-1241',\n",
       "  'PWY-6079',\n",
       "  'PWY-7431',\n",
       "  'PWY-6672',\n",
       "  'PWY-6670',\n",
       "  'PWY-4381',\n",
       "  'PWY-7094',\n",
       "  'PWY-3602',\n",
       "  'LEU-DEG2-PWY',\n",
       "  'PWY-7516',\n",
       "  'PWY-7883',\n",
       "  'PWY-6826',\n",
       "  'PWY-6409',\n",
       "  'PWY-6648',\n",
       "  'PWY-6753',\n",
       "  'PWY-6662',\n",
       "  'PWY-7332',\n",
       "  'PWY-5159',\n",
       "  'PWY-7090'],\n",
       " 'TAX-63396': ['PWY-8019', 'PWY-5872'],\n",
       " 'TAX-5270': ['PWY-8019',\n",
       "  'PWY-7571',\n",
       "  'PWY-7577',\n",
       "  'PWY-8018',\n",
       "  'PWY-8371',\n",
       "  'PWY-6667',\n",
       "  'PWY-5872'],\n",
       " 'TAX-232721': ['PWY-5162', 'PWY-5641'],\n",
       " 'TAX-170622': ['PWY-5162', 'PWY-7006'],\n",
       " 'TAX-292': ['PWY-5162',\n",
       "  'PWY-5487',\n",
       "  'PWY-6079',\n",
       "  'PWY-7747',\n",
       "  'GDPRHAMSYN-PWY',\n",
       "  'AST-PWY',\n",
       "  'TRPCAT-PWY',\n",
       "  'VALDEG-PWY',\n",
       "  'PWY-6818',\n",
       "  'PWY-6408',\n",
       "  'PWY-5183',\n",
       "  'PWY-6430',\n",
       "  'PWY-5180',\n",
       "  'TOLUENE-DEG-2-OH-PWY'],\n",
       " 'TAX-58226': ['PWY-5162', 'PWY-5415', 'P183-PWY', 'PWY-5640'],\n",
       " 'TAX-303': ['PWY-5162',\n",
       "  'PWY-5084',\n",
       "  'PWY-5046',\n",
       "  'PWY-2361',\n",
       "  '4-HYDROXYMANDELATE-DEGRADATION-PWY',\n",
       "  '3-HYDROXYPHENYLACETATE-DEGRADATION-PWY',\n",
       "  'PWY-7942',\n",
       "  'PWY-5431',\n",
       "  'PWY-5450',\n",
       "  'PWY-5415',\n",
       "  'PWY-5420',\n",
       "  'PWY-5417',\n",
       "  'P183-PWY',\n",
       "  'CATECHOL-ORTHO-CLEAVAGE-PWY',\n",
       "  'CHOLINE-BETAINE-ANA-PWY',\n",
       "  'CRNFORCAT-PWY',\n",
       "  'PWY-6497',\n",
       "  'PWY-6486',\n",
       "  'PWY-8391',\n",
       "  'PWY-6499',\n",
       "  'PWY-8390',\n",
       "  'FORMASS-PWY',\n",
       "  'PWY-6997',\n",
       "  'GALLATE-DEGRADATION-I-PWY',\n",
       "  'PWY-3621',\n",
       "  'DHGLUCONATE-PYR-CAT-PWY',\n",
       "  'PWY-5177',\n",
       "  'AST-PWY',\n",
       "  'ARGDEG-IV-PWY',\n",
       "  'PWY-3602',\n",
       "  'PWY-5028',\n",
       "  'ILEUDEG-PWY',\n",
       "  'LEU-DEG2-PWY',\n",
       "  'PWY-5280',\n",
       "  'PWY-5283',\n",
       "  'PWY-701',\n",
       "  'ORN-AMINOPENTANOATE-CAT-PWY',\n",
       "  'TYRFUMCAT-PWY',\n",
       "  'VALDEG-PWY',\n",
       "  'PWY-5794',\n",
       "  'PWY-1501',\n",
       "  'PWY-6957',\n",
       "  'PWY-5489',\n",
       "  'PWY-5386',\n",
       "  'PWY-5456',\n",
       "  'PYRIDNUCSYN-PWY',\n",
       "  'PWY-722',\n",
       "  'PWY-5805',\n",
       "  'P621-PWY',\n",
       "  'PWY-5266',\n",
       "  'PWY-5418',\n",
       "  'PWY-6657',\n",
       "  'PROTOCATECHUATE-ORTHO-CLEAVAGE-PWY',\n",
       "  'PWY-6648',\n",
       "  'PWY-6954',\n",
       "  'PWY-2504',\n",
       "  'GLYCOL-GLYOXDEG-PWY',\n",
       "  'PWY-5327',\n",
       "  'PWY-5345',\n",
       "  'PWY-6516',\n",
       "  'PWY-5062',\n",
       "  'PWY-6430',\n",
       "  'PWY-5178',\n",
       "  'PWY-5159',\n",
       "  'PWY-5855',\n",
       "  'PWY-5856'],\n",
       " 'TAX-351746': ['PWY-5162',\n",
       "  'PWY-5415',\n",
       "  'PWY-5430',\n",
       "  'PWY-5273',\n",
       "  'PWY-5163',\n",
       "  'PWY-5266',\n",
       "  'PWY-741',\n",
       "  'PWY-5183',\n",
       "  'PWY-6954',\n",
       "  'PWY-2504',\n",
       "  'TOLUENE-DEG-DIOL-PWY',\n",
       "  'PWY-5179'],\n",
       " 'TAX-79676': ['PWY-5162',\n",
       "  'PWY-5415',\n",
       "  'PWY-5420',\n",
       "  'PWY-5419',\n",
       "  'PWY-5430',\n",
       "  'PWY-5418'],\n",
       " 'TAX-329': ['PWY-5162',\n",
       "  'PWY-2381',\n",
       "  'PWY-8386',\n",
       "  'PWY-5415',\n",
       "  'P183-PWY',\n",
       "  'PWY-8391',\n",
       "  'PWY-8390',\n",
       "  'PWY-5430',\n",
       "  'PWY-5418',\n",
       "  'PWY-5183',\n",
       "  'PWY-6430',\n",
       "  'TOLUENE-DEG-3-OH-PWY'],\n",
       " 'TAX-1038921': ['PWY-5776', 'PWY-5770'],\n",
       " 'TAX-92945': ['PWY-5782'],\n",
       " 'ORG-6025': ['PWY-5782'],\n",
       " 'ORG-6026': ['PWY-5782'],\n",
       " 'TAX-10116': ['PWY-8181',\n",
       "  'PWY-5130',\n",
       "  'PWY-5084',\n",
       "  'PWY-5046',\n",
       "  'PWY66-387',\n",
       "  'PWY-6352',\n",
       "  'PWY-7112',\n",
       "  'PWY-7948',\n",
       "  'PWY-7942',\n",
       "  'PWY-5451',\n",
       "  'PWY-7466',\n",
       "  'SALVADEHYPOX-PWY',\n",
       "  'PWY-6377',\n",
       "  'PWY-4202',\n",
       "  'PWY-6370',\n",
       "  'BETA-ALA-DEGRADATION-I-PWY',\n",
       "  'PWY-6061',\n",
       "  'PWY-7926',\n",
       "  'PWY66-388',\n",
       "  'PWY-6138',\n",
       "  'GLYCGREAT-PWY',\n",
       "  'PWY-5525',\n",
       "  'PWY-6351',\n",
       "  'PWY-6367',\n",
       "  'PWY66-391',\n",
       "  'PWY-4041',\n",
       "  'PWY-2161B',\n",
       "  'PWY-4061',\n",
       "  'GLYCINE-SYN2-PWY',\n",
       "  'PWY-5067',\n",
       "  'PWY-6173',\n",
       "  'PWY-6181',\n",
       "  'ANAEROFRUCAT-PWY',\n",
       "  'PWY-6369',\n",
       "  'ALANINE-DEG3-PWY',\n",
       "  'PWY3DJ-35471',\n",
       "  'ASPARAGINE-BIOSYNTHESIS',\n",
       "  'ASPARTATE-DEG1-PWY',\n",
       "  'PWY-6100',\n",
       "  'CITRULBIO-PWY',\n",
       "  'HOMOCYSDEGR-PWY',\n",
       "  'CYSTEINE-DEG-PWY',\n",
       "  'PWY-5329',\n",
       "  'PWY-6334',\n",
       "  'GLUTAMINDEG-PWY',\n",
       "  'PWY-5030',\n",
       "  'PWY-5031',\n",
       "  'HISHP-PWY',\n",
       "  'ILEUDEG-PWY',\n",
       "  'LYSINE-DEG1-PWY',\n",
       "  'METHIONINE-DEG1-PWY',\n",
       "  'PWY-7527',\n",
       "  'ADENOSYLHOMOCYSCAT-PWY',\n",
       "  'PWY-6318',\n",
       "  'SERSYN-PWY',\n",
       "  'TRYPTOPHAN-DEGRADATION-1',\n",
       "  'PWY-5651',\n",
       "  'PWY-6307',\n",
       "  'PWY-6309',\n",
       "  'VALDEG-PWY',\n",
       "  'PWY-6398',\n",
       "  'PWY-6399',\n",
       "  'PWY-6400',\n",
       "  'PWY-5462',\n",
       "  'MGLDLCTANA-PWY',\n",
       "  'PWY-5456',\n",
       "  'PWY-6111',\n",
       "  'PWY-7435',\n",
       "  'PWY-5805',\n",
       "  'PWY-6342',\n",
       "  'PWY-5996',\n",
       "  'PWY-6825',\n",
       "  'PWY66-389',\n",
       "  'PWY-4921',\n",
       "  'PWY-6353',\n",
       "  'PWY-0',\n",
       "  'PWY-5481',\n",
       "  'PWY-5041',\n",
       "  'PWY-6030',\n",
       "  'PWY-6313',\n",
       "  'PWY-5972',\n",
       "  'PWY-7927',\n",
       "  'PWY-5326',\n",
       "  'PWY-6145',\n",
       "  'PWY-6292',\n",
       "  'PWY-5327',\n",
       "  'PWY-5328',\n",
       "  'PWY-6402',\n",
       "  'PWY-7209',\n",
       "  'PWY-5331',\n",
       "  'PWY-7850',\n",
       "  'PWY-6430',\n",
       "  'PWY-6241',\n",
       "  'PWY-6260',\n",
       "  'PWY-6261',\n",
       "  'HYDROXYPRODEG-PWY',\n",
       "  'PWY-5871',\n",
       "  'UDPNACETYLGALSYN-PWY',\n",
       "  'PWY-6076',\n",
       "  'PWY-8000'],\n",
       " 'TAX-4952': ['PWY0-42',\n",
       "  'PWY-2724',\n",
       "  'PWY-8373',\n",
       "  'PWY-6000',\n",
       "  'LYSDEGII-PWY',\n",
       "  'PWY-5327',\n",
       "  'PWY-5871'],\n",
       " 'TAX-159450': ['PWY-5747'],\n",
       " 'TAX-487': ['PWY-5747',\n",
       "  'PWY-7833',\n",
       "  'PWY-7845',\n",
       "  'MALTOSECAT-PWY',\n",
       "  'PWY-6145',\n",
       "  'PWY-6708'],\n",
       " 'TAX-70863': ['PWY-5747', 'PWY-5370', 'PWY-5358'],\n",
       " 'TAX-266264': ['PWY-5747',\n",
       "  'PWY-6079',\n",
       "  'TRPCAT-PWY',\n",
       "  'PYRIDNUCSYN-PWY',\n",
       "  'PWY-8260'],\n",
       " 'TAX-54': ['PWY-7087', 'PWY-5670', 'PWY-6132'],\n",
       " 'TAX-941940': ['PWY-7087'],\n",
       " 'TAX-405948': ['PWY-7087',\n",
       "  'PWY-6976',\n",
       "  'PWY-6942',\n",
       "  'PWY-7108',\n",
       "  'PWY-7106',\n",
       "  'PWY-7438',\n",
       "  'PWY-6977',\n",
       "  'PWY-6975'],\n",
       " 'TAX-278992': ['PWY-7087'],\n",
       " 'TAX-1890': ['PWY-7087',\n",
       "  'PWY-7718',\n",
       "  'PWY-6974',\n",
       "  'PWY-7513',\n",
       "  'PWY-5653',\n",
       "  'NADSYN-PWY',\n",
       "  'PWY-6972',\n",
       "  'PWY-6971',\n",
       "  'PWY-7438',\n",
       "  'PWY-7881'],\n",
       " 'TAX-100226': ['PWY-7087',\n",
       "  'PWY-7562',\n",
       "  'PWY-7374',\n",
       "  'PWY1A0-6325',\n",
       "  'PWY-5887',\n",
       "  'PWY-7880',\n",
       "  'PWY-6262',\n",
       "  'PWY-6375',\n",
       "  'PWY-7513',\n",
       "  'PWY-7882',\n",
       "  'PWY-7111',\n",
       "  'PWY-8260',\n",
       "  'PWY1A0-6120',\n",
       "  'PWY-6263'],\n",
       " 'TAX-455632': ['PWY-7087', 'PWY-7878'],\n",
       " 'ORG-6218': ['PWY-7087'],\n",
       " 'TAX-4107': ['PWY-6585'],\n",
       " 'TAX-62890': ['PWY-6585',\n",
       "  'PWY18C3-16',\n",
       "  'PWY-6244',\n",
       "  'PWY-6257',\n",
       "  'PWY-5733',\n",
       "  'PWY-7166',\n",
       "  'PWY-7007',\n",
       "  'PWY-7163',\n",
       "  'PWY-7160',\n",
       "  'PWY-7161',\n",
       "  'PWY-6254',\n",
       "  'PWY18C3-17'],\n",
       " 'TAX-1547487': ['PWY-7778'],\n",
       " 'ORG-5994': ['PWY-5648'],\n",
       " 'ORG-5943': ['PWY-5636'],\n",
       " 'TAX-2336': ['PWY-8428',\n",
       "  'PWY0-1312',\n",
       "  'PWY-7247',\n",
       "  'PWY-7242',\n",
       "  'PWY-6664',\n",
       "  'PWY-8004',\n",
       "  'ENTNER-DOUDOROFF-PWY',\n",
       "  'ANAGLYCOLYSIS-PWY',\n",
       "  'PWY-5382',\n",
       "  'PWY-6744',\n",
       "  'GLUTAMATE-DEG1-PWY',\n",
       "  'PWY-5766',\n",
       "  'HISTSYN-PWY',\n",
       "  'PWY-5101',\n",
       "  'TRPSYN-PWY',\n",
       "  'PWY-6687',\n",
       "  'PWY-2301',\n",
       "  'PWY-7241',\n",
       "  'PWY-8352',\n",
       "  'PWY-7248',\n",
       "  'PWY-6019',\n",
       "  'PWY-7184',\n",
       "  'PWY-6545',\n",
       "  'PWY-5481',\n",
       "  'PWY-5100',\n",
       "  'GLUCUROCAT-PWY'],\n",
       " 'TAX-9986': ['PWY-5130',\n",
       "  'PWY-4202',\n",
       "  'PWY-6061',\n",
       "  'PWY-6158',\n",
       "  'PWY-5525',\n",
       "  'PWY-5067',\n",
       "  'PWY-6398',\n",
       "  'PWY-6399',\n",
       "  'PWY-6400',\n",
       "  'PWY-4921',\n",
       "  'PWY-6353',\n",
       "  'PWY-6402'],\n",
       " 'TAX-10036': ['PWY-5130', 'PWY-5525', 'PWY3DJ-35471', 'PWY-6399', 'PWY-6402'],\n",
       " 'TAX-40674': ['PWY-5130',\n",
       "  'PWY0-1313',\n",
       "  'PWY-5451',\n",
       "  'PWY-7466',\n",
       "  'GLUDEG-I-PWY',\n",
       "  'HEME-BIOSYNTHESIS-II',\n",
       "  'PWY-5329',\n",
       "  'PWY-5030',\n",
       "  'HISHP-PWY',\n",
       "  'THREONINE-DEG2-PWY',\n",
       "  'PWY-5462',\n",
       "  'MGLDLCTANA-PWY',\n",
       "  'PWY-0',\n",
       "  'ARGSPECAT-PWY',\n",
       "  'PWY-5326',\n",
       "  'PWY-5920',\n",
       "  'PWY-5331',\n",
       "  'PWY-5350'],\n",
       " 'TAX-9913': ['PWY-5130',\n",
       "  'PWY-6370',\n",
       "  'PWY66-301',\n",
       "  'PWY-5525',\n",
       "  'PWY3DJ-35471',\n",
       "  'ASPARAGINE-BIOSYNTHESIS',\n",
       "  'CITRULBIO-PWY',\n",
       "  'PWY-5329',\n",
       "  'ILEUDEG-PWY',\n",
       "  'LYSINE-DEG1-PWY',\n",
       "  'PWY-6318',\n",
       "  'PWY-6281',\n",
       "  'VALDEG-PWY',\n",
       "  'PWY0-501-1',\n",
       "  'PWY-6111',\n",
       "  'PWY-6825',\n",
       "  'PWY-4921',\n",
       "  'PWY-6353',\n",
       "  'PWY-6117',\n",
       "  'ARGSPECAT-PWY',\n",
       "  'PWY-5326',\n",
       "  'PWY-5327',\n",
       "  'PWY-5328',\n",
       "  'POLYAMINSYN3-PWY',\n",
       "  'PWY-5331',\n",
       "  'PWY-7850',\n",
       "  'PWY-5350',\n",
       "  'HYDROXYPRODEG-PWY',\n",
       "  'PWY-5872',\n",
       "  'LARABITOLUTIL-PWY'],\n",
       " 'TAX-2208': ['2OXOBUTYRATECAT-PWY',\n",
       "  'PWY-7969',\n",
       "  'PWY-5370',\n",
       "  'PWY-5207',\n",
       "  'PWY-7865',\n",
       "  'PWY-7866',\n",
       "  'PWY-5199',\n",
       "  'PWY-7552',\n",
       "  'PWY-6759',\n",
       "  'CYSTSYN-PWY',\n",
       "  'PWY-5101',\n",
       "  'PWY-5104',\n",
       "  'PWY-6994',\n",
       "  'METH-ACETATE-PWY',\n",
       "  'PWY-5248',\n",
       "  'PWY-5258',\n",
       "  'METHANOGENESIS-PWY',\n",
       "  'PWY-5259',\n",
       "  'CO2FORM-PWY',\n",
       "  'PWY-5247',\n",
       "  'PWY-5260',\n",
       "  'PWY-5250',\n",
       "  'PWY-5209',\n",
       "  'METHFORM-PWY',\n",
       "  'PWY-8352',\n",
       "  'N2FIX-PWY',\n",
       "  'PWY-6830'],\n",
       " 'TAX-2287': ['2OXOBUTYRATECAT-PWY',\n",
       "  'PWY-5084',\n",
       "  'PWY-5046',\n",
       "  'PWY-6711',\n",
       "  'PWY-6350',\n",
       "  'PWY-6163',\n",
       "  'PWY-5519',\n",
       "  'GALACTCAT-PWY',\n",
       "  'PWY-6760',\n",
       "  'PWY-7294',\n",
       "  'NPGLUCAT-PWY',\n",
       "  'PWY-2221',\n",
       "  'PWY-7295',\n",
       "  'ARGASEDEG-PWY',\n",
       "  'ASPARTATE-DEG1-PWY',\n",
       "  'ILEUDEG-PWY',\n",
       "  'PWY-3081',\n",
       "  'GLUTORN-PWY',\n",
       "  'TRPSYN-PWY',\n",
       "  'PWY-922',\n",
       "  'PWY-2301',\n",
       "  'PWY-5490',\n",
       "  'PWY-6545',\n",
       "  'ARGSPECAT-PWY',\n",
       "  'PWY-5257',\n",
       "  'PWY-8013'],\n",
       " 'TAX-273063': ['2OXOBUTYRATECAT-PWY', 'TRPIAACAT-PWY'],\n",
       " 'TAX-1299': ['PWY-5084',\n",
       "  'PWY-7247',\n",
       "  'PWY-7242',\n",
       "  'PWY-5921',\n",
       "  'PWY0-381',\n",
       "  'PWY-6952',\n",
       "  'PWY490-4',\n",
       "  'PWY-3081',\n",
       "  'MENAQUINONESYN-PWY',\n",
       "  'NAD-BIOSYNTHESIS-III',\n",
       "  'PWY-5783',\n",
       "  'GLUCUROCAT-PWY',\n",
       "  'PWY-5838',\n",
       "  'PWY-6516',\n",
       "  'TRNA-CHARGING-PWY'],\n",
       " 'TAX-10090': ['PWY-5084',\n",
       "  'PWY-5046',\n",
       "  'PWY-5451',\n",
       "  'PWY-7466',\n",
       "  'PWY-4202',\n",
       "  'PWY-6370',\n",
       "  'PWY-6061',\n",
       "  'PWY3DJ-12',\n",
       "  'PWY-6138',\n",
       "  'PWY-6144',\n",
       "  'PWY-5525',\n",
       "  'PWY-6498',\n",
       "  'PWY66-391',\n",
       "  'PWY-6608',\n",
       "  'HEME-BIOSYNTHESIS-II',\n",
       "  'PWY-5874',\n",
       "  'PWY-6173',\n",
       "  'PWY-5695',\n",
       "  'PWY3DJ-35471',\n",
       "  'PWY-6100',\n",
       "  'CITRULBIO-PWY',\n",
       "  'PWY-5329',\n",
       "  'LYSINE-DEG1-PWY',\n",
       "  'PWY-7527',\n",
       "  'PWY-6281',\n",
       "  'TRYPTOPHAN-DEGRADATION-1',\n",
       "  'PWY-5651',\n",
       "  'PWY-6307',\n",
       "  'PWY-6309',\n",
       "  'PWY-6398',\n",
       "  'PWY-6399',\n",
       "  'PWY-6400',\n",
       "  'PWY-6111',\n",
       "  'PWY-7917',\n",
       "  'PWY3O-450',\n",
       "  'PWY-6825',\n",
       "  'PWY-4921',\n",
       "  'PWY-6353',\n",
       "  'PWY-0',\n",
       "  'PWY-7206',\n",
       "  'PWY-4361',\n",
       "  'PWY-6030',\n",
       "  'PWY-6313',\n",
       "  'PWY-6117',\n",
       "  'PWY-7277',\n",
       "  'PWY3DJ-11281',\n",
       "  'PWY3DJ-11470',\n",
       "  'PWY-5972',\n",
       "  'PWY-5326',\n",
       "  'PWY-6145',\n",
       "  'PWY-5327',\n",
       "  'PWY-5328',\n",
       "  'PWY-6402',\n",
       "  'PWY-5331',\n",
       "  'PWY-7850',\n",
       "  'PWY-6241',\n",
       "  'PWY-6260',\n",
       "  'PWY-6261',\n",
       "  'PWY-6688',\n",
       "  'HYDROXYPRODEG-PWY',\n",
       "  'PWY-5871',\n",
       "  'PWY-7346',\n",
       "  'PWY-4821',\n",
       "  'UDPNACETYLGALSYN-PWY',\n",
       "  'PWY-5691',\n",
       "  'PWY-6076'],\n",
       " 'TAX-1142': ['PWY-5084',\n",
       "  'PWY-5046',\n",
       "  'PWY-5198',\n",
       "  'PWY0-381',\n",
       "  'PWY-6952',\n",
       "  'PWY-5097'],\n",
       " 'TAX-176300': ['PWY-8451'],\n",
       " 'TAX-29204': ['PWY-8238', 'PWY-8239', 'PWY-8240'],\n",
       " 'TAX-267567': ['PWY-8238', 'PWY-8239', 'PWY-8240'],\n",
       " 'TAX-99806': ['PWY-7065', 'PWY-5660'],\n",
       " 'TAX-1247726': ['PWY-7462'],\n",
       " 'TAX-34073': ['PWY-7465'],\n",
       " 'TAX-285': ['PWY-6217',\n",
       "  'PWY-5029',\n",
       "  'PWY-6216',\n",
       "  'PWY-6944',\n",
       "  'GALLATE-DEGRADATION-II-PWY',\n",
       "  'METHYLGALLATE-DEGRADATION-PWY',\n",
       "  'P184-PWY',\n",
       "  'P344-PWY',\n",
       "  'PWY-6937',\n",
       "  'PWY-6943'],\n",
       " 'TAX-55501': ['PWY-7095', 'PWY-7089', 'PWY-7088'],\n",
       " 'TAX-1796606': ['PWY-7512', 'PWY-8065'],\n",
       " 'TAX-657395': ['PWY-7512'],\n",
       " 'TAX-140098': ['PWY-6084'],\n",
       " 'ORG-6081': ['PWY-6084', 'PWY-6088'],\n",
       " 'TAX-1116375': ['PWY-7562'],\n",
       " 'TAX-943941': ['PWY-7562'],\n",
       " 'TAX-3055': ['CHLOROPHYLL-SYN',\n",
       "  'PWY-7155',\n",
       "  'PWY0-1312',\n",
       "  'PWY-5697',\n",
       "  'PWY1YI0-1',\n",
       "  'CALVIN-PWY',\n",
       "  'PWY-7764',\n",
       "  'PWY-7164',\n",
       "  'PWY-8270',\n",
       "  'PWY-8028',\n",
       "  'PWY-8146',\n",
       "  'PWY-6795',\n",
       "  'PWY-7154',\n",
       "  'PWY-6785',\n",
       "  'PWY-7158',\n",
       "  'PWY-8363',\n",
       "  'PWY-101',\n",
       "  'PWY-7152',\n",
       "  'PWY-1581',\n",
       "  'PWY-8275',\n",
       "  'PWY-8274',\n",
       "  'PWY-5600',\n",
       "  'PWY-5480',\n",
       "  'PWY-5486',\n",
       "  'PWY-622',\n",
       "  'PWY-6724',\n",
       "  'URDEGR-PWY',\n",
       "  'PWY-7156',\n",
       "  'PWY4LZ-257',\n",
       "  'PWY-5121',\n",
       "  'PWY-7731',\n",
       "  'P165-PWY',\n",
       "  'PWY-5945'],\n",
       " 'TAX-3041': ['CHLOROPHYLL-SYN'],\n",
       " 'TAX-35883': ['CHLOROPHYLL-SYN',\n",
       "  'PWY-5286',\n",
       "  'PWY-6624',\n",
       "  'PWY-5313',\n",
       "  'PWY-5310',\n",
       "  'PWY-5312'],\n",
       " 'TAX-28068': ['CHLOROPHYLL-SYN',\n",
       "  'PWY-5531',\n",
       "  'PWY-7159',\n",
       "  'PWY-5533',\n",
       "  'PWY-6038',\n",
       "  'P2-PWY',\n",
       "  'PWY-6780',\n",
       "  'MENAQUINONESYN-PWY',\n",
       "  'PWY-5805',\n",
       "  'PWY-5783',\n",
       "  'PWY-6286',\n",
       "  'PWY-6581',\n",
       "  'PWY-5838',\n",
       "  'UBISYN-PWY',\n",
       "  'PWY-5942',\n",
       "  'PWY-6708',\n",
       "  'PWY-5856'],\n",
       " 'TAX-194439': ['PWY-5531', 'PWY-7759', 'PWY-6676'],\n",
       " 'TAX-1049': ['PWY-5531',\n",
       "  'SULFMETII-PWY',\n",
       "  'PWY-5526',\n",
       "  'PWY-4181',\n",
       "  'PWY-5807',\n",
       "  'MENAQUINONESYN-PWY',\n",
       "  'PWY-5297',\n",
       "  'P222-PWY',\n",
       "  'PWY-5274',\n",
       "  'PWY-5278',\n",
       "  'PWY-7457',\n",
       "  'PWY-6675',\n",
       "  'PWY-5529',\n",
       "  'PWY-5838',\n",
       "  'PWY-6676',\n",
       "  'UBISYN-PWY',\n",
       "  'THIOSULFOX-PWY',\n",
       "  'PWY-6677',\n",
       "  'PWY-6708'],\n",
       " 'TAX-1097': ['PWY-5531',\n",
       "  'PWY-5507',\n",
       "  'PWY-5526',\n",
       "  'PWY-7759',\n",
       "  'PWY-7939',\n",
       "  'PWY-7377',\n",
       "  'PWY-7941',\n",
       "  'PWY-7940',\n",
       "  'P23-PWY',\n",
       "  'PWY-5297',\n",
       "  'P222-PWY',\n",
       "  'PWY-5529',\n",
       "  'PWY-6676',\n",
       "  'PWY-6677',\n",
       "  'PWY-6983',\n",
       "  'PWY-6475'],\n",
       " 'TAX-1076': ['PWY-5531',\n",
       "  'PWY-8130',\n",
       "  'PWY-8354',\n",
       "  'PWY-5806',\n",
       "  'PWY-8266',\n",
       "  'PWY-283',\n",
       "  'P321-PWY',\n",
       "  'PWY-301',\n",
       "  'PWY-5177',\n",
       "  'PWY-7072',\n",
       "  'PWY-6289',\n",
       "  'PWY-8132',\n",
       "  'PWY-5296',\n",
       "  'PWY-5857',\n",
       "  'PWY-8273'],\n",
       " 'TAX-1184': ['PWY-7159'],\n",
       " 'TAX-1197': ['PWY-7159'],\n",
       " 'TAX-197221': ['PWY-7159', 'PWY-7052', 'PWY-7560', 'PWY-7175'],\n",
       " 'TAX-89630': ['PWY-5886', 'PWY-5048', 'PWY-5071'],\n",
       " 'TAX-399795': ['PWY-7521'],\n",
       " 'TAX-566546': ['PWY-5029',\n",
       "  'PWY-6535',\n",
       "  '3-HYDROXYPHENYLACETATE-DEGRADATION-PWY',\n",
       "  'PWY-7398',\n",
       "  'PWY-5103',\n",
       "  'PWY-5437',\n",
       "  'PWY0-321'],\n",
       " 'TAX-2893586': ['PWY-7304', 'PWY-7303', 'PWY-7301', 'PWY-7287', 'PWY-8369'],\n",
       " 'TAX-68264': ['PWY-7304', 'PWY-7301'],\n",
       " 'TAX-149682': ['PWY-7304', 'PWY-7303', 'PWY-7301'],\n",
       " 'TAX-33910': ['PWY-5979',\n",
       "  'PWY-5978',\n",
       "  'GLUTAMINEFUM-PWY',\n",
       "  'PWY-5984',\n",
       "  'PWY-5993'],\n",
       " 'TAX-42684': ['PWY-5979', 'PWY-8040', 'PWY-8044', 'PWY-8038'],\n",
       " 'TAX-1914': ['PWY-5979', 'PWY-8039', 'PWY-7671'],\n",
       " 'TAX-285531': ['PWY-5979'],\n",
       " 'TAX-202612': ['PWY-6451'],\n",
       " 'ORG-6076': ['PWY-6088', 'PWY-6089', 'PWY-6087'],\n",
       " 'TAX-40324': ['PWY-6228',\n",
       "  'P141-PWY',\n",
       "  'PWY-7869',\n",
       "  'GALDEG-PWY',\n",
       "  'PWY-5805',\n",
       "  'PWY-5783',\n",
       "  'UBISYN-PWY',\n",
       "  'PWY-6708',\n",
       "  'PWY-7588'],\n",
       " 'ORG-6104': ['PWY-6228'],\n",
       " 'ORG-6091': ['PWY-6193'],\n",
       " 'TAX-231957': ['PWY-6214'],\n",
       " 'ORG-6098': ['PWY-6214'],\n",
       " 'ORG-6097': ['PWY-6214'],\n",
       " 'ORG-6096': ['PWY-6214'],\n",
       " 'ORG-6080': ['PWY-6104'],\n",
       " 'TAX-71421': ['PWY-6164',\n",
       "  'PWY-6519',\n",
       "  'PWY0-1241',\n",
       "  'BIOTIN-BIOSYNTHESIS-PWY',\n",
       "  'PWY-7886',\n",
       "  'PWY-6163',\n",
       "  'ARO-PWY',\n",
       "  'PWY-7873',\n",
       "  'DAPLYSINESYN-PWY',\n",
       "  'PWY-7874'],\n",
       " 'TAX-4102': ['PWY-6164',\n",
       "  'PWY-6443',\n",
       "  'PWY-6444',\n",
       "  'PWY-6458',\n",
       "  'PWY-6163',\n",
       "  'ARO-PWY',\n",
       "  'PWY-6457',\n",
       "  'PWY-5859',\n",
       "  'PWY-3101',\n",
       "  'PWY-5105',\n",
       "  'PWY-7191',\n",
       "  'PWY-7432',\n",
       "  'PWY-5152',\n",
       "  'PWY1F-823',\n",
       "  'PWY-7397',\n",
       "  'PWY-5094',\n",
       "  'PWY-5751',\n",
       "  'PWY-7075',\n",
       "  'PWY-5059',\n",
       "  'PWY-7192',\n",
       "  'PWY-6453',\n",
       "  'PWY-6266',\n",
       "  'PWY-5391',\n",
       "  'PWY-5885'],\n",
       " 'TAX-2190': ['PWY-6160',\n",
       "  'PWY-5755',\n",
       "  'PWY-6122',\n",
       "  'PWY-6797',\n",
       "  'PWY-7286',\n",
       "  'PWY-5507',\n",
       "  'PWY-6711',\n",
       "  'PWY-5155',\n",
       "  'PWY-6163',\n",
       "  'PWY-6165',\n",
       "  'PWY-7377',\n",
       "  'PWY-8342',\n",
       "  'P241-PWY',\n",
       "  'P261-PWY',\n",
       "  'PWY-8112',\n",
       "  'PWY-5199',\n",
       "  'PWY-6167',\n",
       "  'PWY-8414',\n",
       "  'PWY-7234',\n",
       "  'PWY-6308',\n",
       "  'HOMOSERSYN-PWY',\n",
       "  'PWY-5101',\n",
       "  'LEUSYN-PWY',\n",
       "  'PWY-5097',\n",
       "  'PWY-7977',\n",
       "  'PWY-6281',\n",
       "  'SERSYN-PWY',\n",
       "  'HOMOSER-THRESYN-PWY',\n",
       "  'PWY-5197',\n",
       "  'PWY-8415',\n",
       "  'PWY-5254',\n",
       "  'PWY-5209',\n",
       "  'PWY-8125',\n",
       "  'PWY-2301',\n",
       "  'PWY-8352',\n",
       "  'NADPHOS-DEPHOS-PWY',\n",
       "  'PWY-5532',\n",
       "  'PWY-7198',\n",
       "  'PWY-6753',\n",
       "  'PWY-7200',\n",
       "  'PWY-6148',\n",
       "  'PWY-8456',\n",
       "  'PWY-8308'],\n",
       " 'TAX-39152': ['PWY-6160',\n",
       "  'PWY-6165',\n",
       "  'PWY-7868',\n",
       "  'P42-PWY',\n",
       "  'PWY-6308',\n",
       "  'PWY-7977',\n",
       "  'PWY-6281',\n",
       "  'VALSYN-PWY',\n",
       "  'PWY-8125',\n",
       "  'PWY-8352',\n",
       "  'PWY-8456'],\n",
       " 'TAX-1892': ['PWY-7717', 'PWY-7718'],\n",
       " 'TAX-457432': ['PWY-7765', 'PWY-8380', 'PWY-8379'],\n",
       " 'TAX-41736': ['PWY-7648', 'PWY-7649', 'PWY-7650'],\n",
       " 'TAX-152260': ['PWY-5743'],\n",
       " 'TAX-1108': ['PWY-5743', 'PWY-5535', 'PWY-5744', 'PWY-7024'],\n",
       " 'TAX-120962': ['PWY-5743', 'PWY-6174'],\n",
       " 'TAX-357808': ['PWY-5743'],\n",
       " 'TAX-444157': ['PWY-5789'],\n",
       " 'TAX-43687': ['PWY-5789', 'PWY-7400', 'PWY-8013'],\n",
       " 'TAX-111955': ['PWY-5789',\n",
       "  'PWY-6711',\n",
       "  'NPGLUCAT-PWY',\n",
       "  'PWY-5744',\n",
       "  'PWY-3081',\n",
       "  'PWY-6545',\n",
       "  'PWY-5302',\n",
       "  'PWY-8013',\n",
       "  'UDPNAGSYN-PWY'],\n",
       " 'TAX-349725': ['PWY-7733', 'PWY-7737'],\n",
       " 'TAX-497689': ['PWY-7733'],\n",
       " 'ORG-6291': ['PWY-7733', 'PWY-7737'],\n",
       " 'TAX-321': ['PWY-6511'],\n",
       " 'TAX-1295550': ['PWY-6511', 'PWY-7569'],\n",
       " 'TAX-1358': ['PWY-6871',\n",
       "  'PWY-6147',\n",
       "  'PWY-5851',\n",
       "  'HEMESYN2-PWY',\n",
       "  'ANAEROFRUCAT-PWY',\n",
       "  'PWY-5057',\n",
       "  'LACTOSECAT-PWY',\n",
       "  'MALTOSECAT-PWY',\n",
       "  'PWY-5844',\n",
       "  'NAD-BIOSYNTHESIS-II',\n",
       "  'PWY-5805',\n",
       "  'PWY-5265',\n",
       "  'PWY-5938',\n",
       "  'PWY-5939',\n",
       "  'PWY-7111',\n",
       "  'SUCUTIL-PWY',\n",
       "  'P125-PWY',\n",
       "  'PWY-6396',\n",
       "  'PWY-5862',\n",
       "  'PWY-5845',\n",
       "  'PWY-6612',\n",
       "  'PWY-6614',\n",
       "  'PWY-6613',\n",
       "  'PWY-2721',\n",
       "  'PWY-6386'],\n",
       " 'ORG-5890': ['PWY-721'],\n",
       " 'TAX-471': ['PWY-2361',\n",
       "  'PWY-2503',\n",
       "  'PWY-5417',\n",
       "  'PWY-3641',\n",
       "  'PWY-5794',\n",
       "  'PWY-5430',\n",
       "  'PWY-5418',\n",
       "  'PROTOCATECHUATE-ORTHO-CLEAVAGE-PWY',\n",
       "  'PWY-6648',\n",
       "  'SHIKIMATEDEG-PWY',\n",
       "  'PWY-5277'],\n",
       " 'TAX-196627': ['PWY-2361',\n",
       "  'PWY-6421',\n",
       "  'PWY-2503',\n",
       "  'PWY18HP-2',\n",
       "  'PWY1G-170',\n",
       "  'PWY-6223',\n",
       "  'ARGSYNBSUB-PWY',\n",
       "  'PWY-5344',\n",
       "  'DAPLYSINESYN-PWY',\n",
       "  'HSERMETANA-PWY',\n",
       "  'PWY-7616',\n",
       "  'PWY1G-0',\n",
       "  'PWY-5418',\n",
       "  'PWY-6545',\n",
       "  'P343-PWY',\n",
       "  'PWY-5345',\n",
       "  'PWY-7098'],\n",
       " 'ORG-5953': ['PWY-2361', 'P342-PWY', 'PWY-6954', 'PWY-2504'],\n",
       " 'TAX-78509': ['P281-PWY', 'PWY-6223'],\n",
       " 'TAX-89187': ['PWY-6634',\n",
       "  'PWY-6373',\n",
       "  'PWY-6046',\n",
       "  'PWY-6637',\n",
       "  'PWY-6638',\n",
       "  'PWY-6049',\n",
       "  'PWY-6641'],\n",
       " 'TAX-246200': ['PWY-6634',\n",
       "  'PWY-8180',\n",
       "  'PWY-6047',\n",
       "  'PWY-6046',\n",
       "  'PWY-6056',\n",
       "  'PWY-6052',\n",
       "  'PWY-6048',\n",
       "  'PWY-6638',\n",
       "  'PWY-6049',\n",
       "  'PWY-6968'],\n",
       " 'TAX-1147123': ['PWY-8214'],\n",
       " 'TAX-2480627': ['PWY-8214'],\n",
       " 'TAX-160453': ['PWY-8214', 'PWY-8213'],\n",
       " 'TAX-1650663': ['PWY-8214'],\n",
       " 'TAX-2053555': ['PWY-8214'],\n",
       " 'TAX-154046': ['PWY-8214'],\n",
       " 'TAX-167642': ['PWY-8214'],\n",
       " 'TAX-1134687': ['PWY-8214'],\n",
       " 'TAX-1898203': ['PWY-8214', 'PWY-8106'],\n",
       " 'TAX-1607': ['PWY-8214'],\n",
       " 'TAX-754436': ['PWY-8214'],\n",
       " 'TAX-398199': ['PWY-8214'],\n",
       " 'TAX-230495': ['PWY-8214'],\n",
       " 'TAX-685': ['PWY-8214'],\n",
       " 'TAX-689': ['PWY-8214'],\n",
       " 'TAX-265668': ['PWY-8214'],\n",
       " 'TAX-391591': ['PWY-8214'],\n",
       " 'TAX-198815': ['PWY-8214'],\n",
       " 'TAX-35833': ['PWY-8215', 'PWY-8062'],\n",
       " 'TAX-899': ['PWY-8215', 'PWY-5332'],\n",
       " 'TAX-1592317': ['PWY-8215'],\n",
       " 'TAX-876': ['PWY-8215',\n",
       "  'PWY-8147',\n",
       "  'DISSULFRED-PWY',\n",
       "  'PWY-7552',\n",
       "  'HEXPPSYN-PWY',\n",
       "  'PWY-5104',\n",
       "  'PWY-8377',\n",
       "  'PWY-5849',\n",
       "  'PWY-8303',\n",
       "  'PWY-5297',\n",
       "  'PWY-5364',\n",
       "  'PWY-5850',\n",
       "  'PWY-5352'],\n",
       " 'TAX-466107': ['PWY-8215'],\n",
       " 'TAX-629265': ['PWY-8353'],\n",
       " 'TAX-1869227': ['PWY-7956'],\n",
       " 'TAX-127999': ['PWY-7497', 'PWY-6540'],\n",
       " 'TAX-412963': ['PWY-8113'],\n",
       " 'TAX-318114': ['PWY-6767'],\n",
       " 'ORG-6345': ['PWY-7898'],\n",
       " 'TAX-181486': ['PWY-6890', 'PWY-6711', 'PWY-7923', 'PWY-7285', 'PWY-6893'],\n",
       " 'TAX-224308': ['PWY-6890',\n",
       "  'PWY-8276',\n",
       "  'PWY-7147',\n",
       "  'PWY-6578',\n",
       "  'PWY-8061',\n",
       "  'PWY-6610',\n",
       "  'PWY-8173',\n",
       "  'PWY-8489',\n",
       "  'PWY8J2-1',\n",
       "  'PWY-6899',\n",
       "  'PWY-7380',\n",
       "  'PWY-5005',\n",
       "  'PWY-7396',\n",
       "  'PWY-8146',\n",
       "  'PWY-4101',\n",
       "  'PWY-8175',\n",
       "  'FASYN-ELONG-PWY',\n",
       "  'PWY-7908',\n",
       "  'PWY-6813',\n",
       "  'PWY-7806',\n",
       "  'PWY-7856',\n",
       "  'PWY-7766',\n",
       "  'PWY-6910',\n",
       "  'PWY8J2-22',\n",
       "  'PWY0-1021',\n",
       "  'PWY-6790',\n",
       "  'PWY-8452',\n",
       "  'PWY0-1317',\n",
       "  'PWY-7528',\n",
       "  'PWY-7527',\n",
       "  'RHAMCAT-PWY',\n",
       "  'PWY-6987',\n",
       "  'PWY0-522',\n",
       "  'PWY-8488',\n",
       "  'PWY8J2-23',\n",
       "  'PWY-7237',\n",
       "  'P562-PWY',\n",
       "  'PWY-7860',\n",
       "  'PWY-8174',\n",
       "  'PWY-7819',\n",
       "  'TEICHOICACID-PWY',\n",
       "  'PWY-8439',\n",
       "  'PWY-6703',\n",
       "  'PWY8J2-20',\n",
       "  'PWY-7199',\n",
       "  'PWY-6700',\n",
       "  'PWY-6769',\n",
       "  'PWY-6771',\n",
       "  'PWY8J2-25',\n",
       "  'PWY-8418',\n",
       "  'PWY-4361',\n",
       "  'PWY8J2-26',\n",
       "  'PWY-7200',\n",
       "  'PWY-7209',\n",
       "  'PWY-6895',\n",
       "  'TCA',\n",
       "  'PWY-7820',\n",
       "  'PWY-6893',\n",
       "  'PWY-6897',\n",
       "  'PWY-6898',\n",
       "  'PWY-6891',\n",
       "  'PWY-7343',\n",
       "  'PWY-8462',\n",
       "  'PWY-5512',\n",
       "  'PWY-7791',\n",
       "  'PWY-7177',\n",
       "  'PWY-7250'],\n",
       " 'TAX-559292': ['PWY-7282',\n",
       "  'PWY0-1280',\n",
       "  'ANAGLYCOLYSIS-PWY',\n",
       "  'PWY-801',\n",
       "  'PWY-7910',\n",
       "  'PWY-7511',\n",
       "  'PWY-7888',\n",
       "  'PWY-7891',\n",
       "  'PWY-7790'],\n",
       " 'TAX-1911': ['PWY-6543',\n",
       "  'PWY-6535',\n",
       "  'PWY-6536',\n",
       "  'PWY-7878',\n",
       "  'PWY-8033',\n",
       "  'PWY-6722',\n",
       "  'PWY-6343',\n",
       "  'PWY-7513',\n",
       "  'PWY-7153',\n",
       "  'PWY-7690',\n",
       "  'PWY-7770',\n",
       "  'PWY-7938',\n",
       "  'ARGDEG-V-PWY',\n",
       "  'PWY-5940',\n",
       "  'PWY-7575',\n",
       "  'PWY-5942',\n",
       "  'TREHALOSESYN-PWY'],\n",
       " 'TAX-1392': ['PWY-8276',\n",
       "  'PWY-8131',\n",
       "  'PWY-6079',\n",
       "  'PWY-5903',\n",
       "  'PWY-7847',\n",
       "  'TRPCAT-PWY',\n",
       "  'PEPTIDOGLYCANSYN-PWY',\n",
       "  'PWY-6289',\n",
       "  'PWY-8439',\n",
       "  'PWY-7199',\n",
       "  'PWY-7200',\n",
       "  'PWY-7817'],\n",
       " 'TAX-272558': ['PWY-8276', 'PWY-7371', 'PWY-7992'],\n",
       " 'TAX-326423': ['PWY-8276', 'PWY-8489', 'PWY-7531'],\n",
       " 'TAX-41431': ['PWY-8276'],\n",
       " 'TAX-391008': ['PWY-8276'],\n",
       " 'TAX-405441': ['PWY-8276'],\n",
       " 'TAX-272561': ['PWY-8281', 'PWY-6545', 'TCA-1'],\n",
       " 'TAX-1613': ['PWY-8281', 'P122-PWY', 'HOMOCYSDEGR-PWY'],\n",
       " 'TAX-915': ['PWY-8281', 'AMMOXID-PWY', 'PWY-7082', 'PWY-8147', 'PWY-7084'],\n",
       " 'TAX-1111708': ['PWY-6537',\n",
       "  'PWY-5101',\n",
       "  'PWY2PN3-13',\n",
       "  'PWY2PN3-14',\n",
       "  'PWY-6475'],\n",
       " 'TAX-381666': ['PWY-6536',\n",
       "  'PWY-8354',\n",
       "  'PWY-7873',\n",
       "  'PWY-7871',\n",
       "  'PWY-6321',\n",
       "  'PWY-6959',\n",
       "  'ILEUSYN-PWY',\n",
       "  'PWY-7516',\n",
       "  'PWY-7874',\n",
       "  'VALSYN-PWY',\n",
       "  'PWY-6748',\n",
       "  'PWY-6593'],\n",
       " 'ORG-5862': ['PWY-6473', 'PWY-5267', 'PWY0-1305', 'PWY-5723'],\n",
       " 'TAX-33953': ['PWY-5022'],\n",
       " 'TAX-221273': ['PWY-7081'],\n",
       " 'TAX-71255': ['PWY-6215'],\n",
       " 'TAX-75752': ['PWY-6215'],\n",
       " 'TAX-72586': ['PWY-6215'],\n",
       " 'ORG-6101': ['PWY-6215'],\n",
       " 'ORG-6100': ['PWY-6215'],\n",
       " 'TAX-543891': ['PWY-5645', 'PWY-5637'],\n",
       " 'ORG-5961': ['PWY-5645'],\n",
       " 'TAX-258594': ['PWY-8002', 'PWY-7046', 'PWY-7072', 'PWY-5982', 'PWY-8003'],\n",
       " 'TAX-502559': ['PWY-8002',\n",
       "  'PWY-6340',\n",
       "  'PWY-6343',\n",
       "  'GALLATE-DEGRADATION-II-PWY',\n",
       "  'PWY-6341',\n",
       "  'METHYLGALLATE-DEGRADATION-PWY',\n",
       "  'P184-PWY',\n",
       "  'PWY-6338',\n",
       "  'PWY-6339',\n",
       "  'PWY-8003',\n",
       "  'PWY-7097'],\n",
       " 'TAX-198628': ['PWY-6507', 'PWY-6574', 'PWY-7246', 'PWY-6516'],\n",
       " 'TAX-306': ['PWY-6507',\n",
       "  'PWY-6497',\n",
       "  'PWY-6486',\n",
       "  'PWY-8391',\n",
       "  'PWY-6499',\n",
       "  'PWY-8390',\n",
       "  'PWY-6516',\n",
       "  'PWY-5159'],\n",
       " 'TAX-211110': ['PWY-6507'],\n",
       " 'TAX-630': ['PWY-6507',\n",
       "  'PWY-6157',\n",
       "  'PWY-7843',\n",
       "  'PWY-6406',\n",
       "  'PWY-7331',\n",
       "  'PWY-5512',\n",
       "  'PWY-6407'],\n",
       " 'ORG-6133': ['PWY-6507', 'PWY-7246', 'PWY-6516'],\n",
       " 'TAX-76114': ['PWY-6080', 'PWY-481', 'PWY-6464'],\n",
       " 'TAX-57975': ['PWY-6661', 'PWY-7564', 'PWY-6648', 'PWY-6662'],\n",
       " 'TAX-9823': ['PWY-7112',\n",
       "  'PWY-6144',\n",
       "  'PWY-5525',\n",
       "  'PWY-5661',\n",
       "  'PWY-6',\n",
       "  'PWY-5659',\n",
       "  'PWY-4061',\n",
       "  'PWY-6181',\n",
       "  'PWY3DJ-35471',\n",
       "  'PWY-6334',\n",
       "  'PWY-6307',\n",
       "  'VALDEG-PWY',\n",
       "  'MALATE-ASPARTATE-SHUTTLE-PWY',\n",
       "  'PWY-6111',\n",
       "  'PWY-7435',\n",
       "  'PWY-6145',\n",
       "  'PWY-6241',\n",
       "  'PWY-5872',\n",
       "  'PWY-5512',\n",
       "  'UDPNACETYLGALSYN-PWY',\n",
       "  'PWY-6076'],\n",
       " 'TAX-95324': ['PWY-7701', 'PWY-7702'],\n",
       " 'ORG-6204': ['PWY-7002'],\n",
       " 'ORG-6205': ['PWY-7002'],\n",
       " 'TAX-340': ['PWY-5755',\n",
       "  'PWY-7509',\n",
       "  'PWY-8318',\n",
       "  'PWY-6517',\n",
       "  'PWY-7470',\n",
       "  'PWY-8401',\n",
       "  'PWY-5870'],\n",
       " 'TAX-34254': ['PWY-6435',\n",
       "  'PWY-6431',\n",
       "  'PWY-6920',\n",
       "  'PWY-5048',\n",
       "  'PWY-5701',\n",
       "  'PWY-5071'],\n",
       " 'TAX-4039': ['PWY-6431',\n",
       "  'PWY-4922',\n",
       "  'PWY-7449',\n",
       "  'PWY-6040',\n",
       "  'PWY-1081',\n",
       "  'PWY-5367',\n",
       "  'PWY4FS-2',\n",
       "  'PWY4FS-3',\n",
       "  'PWY4FS-4',\n",
       "  'PWY4FS-5'],\n",
       " 'TAX-36599': ['PWY-6418', 'PWY-7739'],\n",
       " 'TAX-469': ['3-HYDROXYPHENYLACETATE-DEGRADATION-PWY',\n",
       "  'TRPCAT-PWY',\n",
       "  'P344-PWY'],\n",
       " 'TAX-37762': ['3-HYDROXYPHENYLACETATE-DEGRADATION-PWY',\n",
       "  'DARABCAT-PWY',\n",
       "  'PWY-7395',\n",
       "  'PWY-4121',\n",
       "  'HISTDEG-PWY',\n",
       "  'PWY-5257',\n",
       "  'PWY-7209',\n",
       "  'PWY-6430',\n",
       "  'PWY-3982'],\n",
       " 'TAX-498388': ['3-HYDROXYPHENYLACETATE-DEGRADATION-PWY',\n",
       "  'DARABITOLUTIL-PWY',\n",
       "  'PWY-7395',\n",
       "  'RIBITOLUTIL-PWY',\n",
       "  'PWY-5257'],\n",
       " 'ORG-6143': ['3-HYDROXYPHENYLACETATE-DEGRADATION-PWY',\n",
       "  'PWY-7431',\n",
       "  'PWY0-321',\n",
       "  'PWY-8162',\n",
       "  'PWY-6534'],\n",
       " 'TAX-376808': ['PWY-8432'],\n",
       " 'TAX-5554': ['PWY-6185', 'PWY-5417', 'PWY-6197', 'PWY-5418', 'PWY-6183'],\n",
       " 'ORG-5936': ['PWY-7700',\n",
       "  'PWY-8386',\n",
       "  'PWY-5183',\n",
       "  'PWY-5181',\n",
       "  'TOLUENE-DEG-4-OH-PWY'],\n",
       " 'TAX-2378': ['PWY-7963', 'PWY-7961'],\n",
       " 'ORG-5960': ['PWY-2381',\n",
       "  'P421-PWY',\n",
       "  'PWY-2503',\n",
       "  'PWY-5430',\n",
       "  'PWY-6954',\n",
       "  'PWY-2504',\n",
       "  'PWY-5178',\n",
       "  'TOLUENE-DEG-CATECHOL-PWY'],\n",
       " 'ORG-5973': ['PWY-2381', 'P421-PWY', 'PWY-2503'],\n",
       " 'TAX-475': ['PWY-5487'],\n",
       " 'TAX-633150': ['PWY-5487', 'PWY-5488'],\n",
       " 'TAX-486399': ['PWY-5487', 'PWY-5489'],\n",
       " 'TAX-690235': ['PWY-5487'],\n",
       " 'TAX-165468': ['PWY-5487', 'PWY-5489'],\n",
       " 'ORG-6172': ['PWY-5487'],\n",
       " 'ORG-5947': ['PWY-5487'],\n",
       " 'ORG-5968': ['PWY-5487'],\n",
       " 'TAX-1667': ['PWY-5488', 'PWY-3721', 'PWY-4722', 'PWY-5436'],\n",
       " 'TAX-1421': ['PWY-5488',\n",
       "  'PWY-6578',\n",
       "  'PWY-5005',\n",
       "  'PWY-2942',\n",
       "  'PWY-7496',\n",
       "  'P621-PWY'],\n",
       " 'TAX-129133': ['PWY-5488'],\n",
       " 'TAX-336938': ['PWY-5488'],\n",
       " 'TAX-46429': ['PWY-5488', 'PCPDEG-PWY'],\n",
       " 'TAX-262099': ['PWY-5488'],\n",
       " 'ORG-6211': ['PWY-5488'],\n",
       " 'ORG-5918': ['PWY-5644'],\n",
       " 'TAX-65786': ['PWY-6041'],\n",
       " 'ORG-6047': ['PWY-6041'],\n",
       " 'ORG-5891': ['4TOLCARBDEG-PWY', 'TOLSULFDEG-PWY', 'PWY-7795'],\n",
       " 'TAX-108557': ['PWY-5165',\n",
       "  'DESULFONATION-PWY',\n",
       "  'PWY-5415',\n",
       "  'P183-PWY',\n",
       "  '2ASDEG-PWY'],\n",
       " 'TAX-1428': ['PWY-8131',\n",
       "  'PWY-5903',\n",
       "  'PWY-5807',\n",
       "  'PWY-5839',\n",
       "  'MENAQUINONESYN-PWY',\n",
       "  'PWY-5840',\n",
       "  'PWY-5838',\n",
       "  'PWY-7694'],\n",
       " 'TAX-1491': ['PWY-8131',\n",
       "  'PWY-7852',\n",
       "  'PWY-7564',\n",
       "  'PWY-8015',\n",
       "  'PWY-7767',\n",
       "  'PWY-8186',\n",
       "  'TRPKYNCAT-PWY',\n",
       "  'PWY-8016',\n",
       "  'PWY-6588',\n",
       "  'PWY-5486'],\n",
       " 'TAX-1513': ['PWY-8131', 'PWY-5087', 'GLUDEG-II-PWY'],\n",
       " 'TAX-1322345': ['PWY-8131'],\n",
       " 'TAX-1302237': ['PWY-8131'],\n",
       " 'TAX-469008': ['PWY-8463', 'PWY-1269'],\n",
       " 'TAX-130404': ['PWY-8463', 'PWY-8103', 'PWY-8094', 'PWY-8104'],\n",
       " 'TAX-43354': ['PWY-5523'],\n",
       " 'TAX-1744': ['PWY-5523',\n",
       "  'PWY-7968',\n",
       "  'PWY-5507',\n",
       "  'PWY-7377',\n",
       "  'PWY0-1264',\n",
       "  'P108-PWY'],\n",
       " 'ORG-6144': ['PWY-5523', 'PWY-6538', 'PWY-6999'],\n",
       " 'TAX-33952': ['PWY-7729',\n",
       "  'PWY-5370',\n",
       "  'PWY-5372',\n",
       "  'PWY-8108',\n",
       "  'PWY-8306',\n",
       "  'CODH-PWY'],\n",
       " 'TAX-281689': ['PWY-7729'],\n",
       " 'TAX-1736': ['PWY-7729', 'PWY-8307', 'PWY-8109', 'CODH-PWY'],\n",
       " 'TAX-351607': ['PWY-7374'],\n",
       " 'TAX-243230': ['PWY-7374'],\n",
       " 'TAX-387092': ['PWY-7374'],\n",
       " 'TAX-227882': ['PWY-7374'],\n",
       " 'TAX-300852': ['PWY-7374',\n",
       "  'PWY-6262',\n",
       "  'HISTSYN-PWY',\n",
       "  'PWY-8171',\n",
       "  'PWY-6823',\n",
       "  'PWY-6834',\n",
       "  'PWY-6263'],\n",
       " 'TAX-197': ['PWY-7371',\n",
       "  'PWY-8266',\n",
       "  'PWY-7833',\n",
       "  'PWY-6749',\n",
       "  'PWY-6139',\n",
       "  'PWY-6143',\n",
       "  'PWY-7372',\n",
       "  'HEXPPSYN-PWY',\n",
       "  'PWY-8444',\n",
       "  'PWY-8267',\n",
       "  'PWY-7031',\n",
       "  'PWY-6545',\n",
       "  'PWY-6559',\n",
       "  'PWY-6145',\n",
       "  'PWY-7373',\n",
       "  'PWY-7992',\n",
       "  'PWY-5358',\n",
       "  'THIOSULFOX-PWY',\n",
       "  'PWY-8273',\n",
       "  'PWY-7028',\n",
       "  'PWY-5512'],\n",
       " 'TAX-83555': ['PWY-7371', 'PWY-6262', 'PWY-7992'],\n",
       " 'TAX-83557': ['PWY-7371', 'PWY-6262', 'PWY-7992'],\n",
       " 'TAX-83556': ['PWY-7371', 'PWY-6262', 'PWY-7992'],\n",
       " 'TAX-83560': ['PWY-7371', 'PWY-6262', 'PWY-7992'],\n",
       " 'TAX-813': ['PWY-7371',\n",
       "  'PWY-7539',\n",
       "  'PWY-6262',\n",
       "  'PWY-5097',\n",
       "  'PWY-8283',\n",
       "  'PWY-7184',\n",
       "  'PWY-6545',\n",
       "  'PWY-8105',\n",
       "  'PWY-7992'],\n",
       " 'TAX-210': ['PWY-7371',\n",
       "  'PWY-7372',\n",
       "  'GDPRHAMSYN-PWY',\n",
       "  'PWY-5921',\n",
       "  'HEMESYN2-PWY',\n",
       "  'HEXPPSYN-PWY',\n",
       "  'DAPLYSINESYN-PWY',\n",
       "  'PWY-5849',\n",
       "  'PWY-6545',\n",
       "  'PWY-7373',\n",
       "  'PWY-7992',\n",
       "  'PWY-7332',\n",
       "  'PWY-5704'],\n",
       " 'TAX-174': ['PWY-7371', 'PWY-6262', 'PWY-7992'],\n",
       " 'TAX-173': ['PWY-7371',\n",
       "  'PWY-5507',\n",
       "  'PWY-7377',\n",
       "  'PWY-6262',\n",
       "  'PWY-5101',\n",
       "  'LEUSYN-PWY',\n",
       "  'PWY-7992',\n",
       "  'PWY-8273'],\n",
       " 'TAX-39947': ['PWY-7101',\n",
       "  'PWY-6920',\n",
       "  'PWY-8259',\n",
       "  'PWY-7393',\n",
       "  'PWY-6232',\n",
       "  'PWY-321',\n",
       "  'PWY-8028',\n",
       "  'PWY-2981',\n",
       "  'PWY-5035',\n",
       "  'PWY-6494',\n",
       "  'PWY-7683',\n",
       "  'PWY-7489',\n",
       "  'PWY-8027',\n",
       "  'SUCSYN-PWY',\n",
       "  'PWY-2681',\n",
       "  'PWY-6631',\n",
       "  'PWY-7995'],\n",
       " 'TAX-1155739': ['PWY-7641', 'PWY-8360', 'PWY-7708'],\n",
       " 'TAX-28187': ['PWY-8097'],\n",
       " 'TAX-767817': ['PWY-8097'],\n",
       " 'TAX-439235': ['PWY-8097'],\n",
       " 'TAX-1167006': ['PWY-8097'],\n",
       " 'TAX-485916': ['PWY-8097'],\n",
       " 'TAX-646529': ['PWY-8097'],\n",
       " 'TAX-768706': ['PWY-8097'],\n",
       " 'TAX-589865': ['PWY-8097'],\n",
       " 'TAX-243231': ['PWY-8097'],\n",
       " 'TAX-1041930': ['PWY-8097'],\n",
       " 'TAX-269797': ['PWY-8097', 'PWY-6994'],\n",
       " 'TAX-29543': ['PWY-8097', 'PWY-7969', 'PWY-6028', 'PWY-5101', 'P108-PWY'],\n",
       " 'TAX-2161': ['PWY-7969', 'PWY-5101', 'PWY-5108'],\n",
       " 'TAX-2198': ['PWY-7969'],\n",
       " 'TAX-2221': ['PWY-7969'],\n",
       " 'TAX-79929': ['PWY-7969',\n",
       "  'PWY-5122',\n",
       "  'PWY-5120',\n",
       "  'PWY-6142',\n",
       "  'PWY-6146',\n",
       "  'PWY-6148',\n",
       "  'PWY-5123'],\n",
       " 'TAX-148447': ['PWY-6995'],\n",
       " 'TAX-68895': ['PWY-6995', 'PWY-6997'],\n",
       " 'TAX-887061': ['PWY-6995'],\n",
       " 'TAX-34071': ['PWY-6995'],\n",
       " 'TAX-1497': ['PWY-8095', 'PWY-7966', 'PWY-2201', 'CODH-PWY'],\n",
       " 'TAX-760568': ['PWY-8095'],\n",
       " 'TAX-398767': ['PWY-8096'],\n",
       " 'TAX-1094980': ['PWY-8096'],\n",
       " 'TAX-1525': ['PWY-8096',\n",
       "  'PWY-7967',\n",
       "  'PWY-5370',\n",
       "  'PWY-5372',\n",
       "  'PWY-2201',\n",
       "  'PWY-8306',\n",
       "  'PWY-6694',\n",
       "  'CODH-PWY',\n",
       "  'PWY-5493'],\n",
       " 'TAX-1089553': ['PWY-8096', 'PWY-8480'],\n",
       " 'TAX-2296': ['PWY-7968', 'PWY-5370', 'PWY-5372'],\n",
       " 'TAX-894': ['PWY-7968', 'P108-PWY', 'P203-PWY'],\n",
       " 'TAX-2223': ['PWY-7968'],\n",
       " 'TAX-2303': ['PWY-7968',\n",
       "  'NPGLUCAT-PWY',\n",
       "  'PWY-5807',\n",
       "  'PWY0-522',\n",
       "  'PWY-5839',\n",
       "  'PWY-7524',\n",
       "  'PWY-6545',\n",
       "  'PWY-5840'],\n",
       " 'TAX-36630': ['PWY-7543', 'PWY-7532', 'PWY-7526', 'PWY-7537'],\n",
       " 'TAX-722413': ['PWY-7044'],\n",
       " 'TAX-34': ['PWY-7942',\n",
       "  'PWY-8147',\n",
       "  'PWY-5950',\n",
       "  'ARGSYN-PWY',\n",
       "  'GLUTORN-PWY',\n",
       "  'PWY0-1264',\n",
       "  'PWY-8383',\n",
       "  'PWY-5942'],\n",
       " 'TAX-1280': ['PWY-7942',\n",
       "  'PWY-8101',\n",
       "  'PWY-5668',\n",
       "  'PWY-5981',\n",
       "  'PWY-8416',\n",
       "  'PWY-7847',\n",
       "  'PWY-5807',\n",
       "  'LACTOSECAT-PWY',\n",
       "  'PWY-6828',\n",
       "  'PWY-5839',\n",
       "  'MENAQUINONESYN-PWY',\n",
       "  'PWY-5783',\n",
       "  'PWY-5265',\n",
       "  'PWY-6459',\n",
       "  'P641-PWY',\n",
       "  'PWY-7816',\n",
       "  'PWY-7990',\n",
       "  'PWY-8007',\n",
       "  'PWY-5875',\n",
       "  'PWY-8401',\n",
       "  'PWY-5840',\n",
       "  'PWY-5838',\n",
       "  'PWY-7817',\n",
       "  'PWY-8462',\n",
       "  'PWY-7335',\n",
       "  'PWY-7330',\n",
       "  'PWY-6386'],\n",
       " 'TAX-47427': ['PWY-7911'],\n",
       " 'TAX-47429': ['PWY-7911'],\n",
       " 'TAX-13449': ['PWY-5161', 'PWY-1901'],\n",
       " 'TAX-101596': ['PWY-5161',\n",
       "  'PWY-7452',\n",
       "  'PWY-5152',\n",
       "  'PWY1F-823',\n",
       "  'PWY-5139',\n",
       "  'PWY-5312'],\n",
       " 'TAX-57577': ['PWY-5061',\n",
       "  'PWY-6040',\n",
       "  'PWY-2002',\n",
       "  'PWY-2083',\n",
       "  'PWY-6320',\n",
       "  'PWY-5717',\n",
       "  'PWY-3097'],\n",
       " 'TAX-58347': ['PWY-8297', 'PWY-8293', 'PWY-8295'],\n",
       " 'TAX-66896': ['PWY-8297', 'PWY-8293', 'PWY-8295'],\n",
       " 'TAX-136217': ['PWY-6835', 'PWY-6257', 'PWY-6432'],\n",
       " 'TAX-94328': ['PWY-6835', 'PWY-6257', 'PWY-5733'],\n",
       " 'TAX-2210': ['PWY-6797',\n",
       "  'PWY0-1312',\n",
       "  'P241-PWY',\n",
       "  'PWY-5207',\n",
       "  'PWY-7865',\n",
       "  'PWY-7866',\n",
       "  'PWY-8112',\n",
       "  'PWY-6994',\n",
       "  'METH-ACETATE-PWY',\n",
       "  'PWY-5248',\n",
       "  'PWY-5258',\n",
       "  'PWY-5259',\n",
       "  'CO2FORM-PWY',\n",
       "  'PWY-5247',\n",
       "  'PWY-5260',\n",
       "  'PWY-5250',\n",
       "  'PWY-5209',\n",
       "  'METHFORM-PWY',\n",
       "  'PWY-7784',\n",
       "  'PWY-6830',\n",
       "  'PWY-6148'],\n",
       " 'TAX-44056': ['PWY-7852'],\n",
       " 'TAX-2850': ['PWY-7852', 'PWY-7950', 'PWY-6730', 'PWY-6809'],\n",
       " 'TAX-4787': ['PWY-7852'],\n",
       " 'TAX-36329': ['PWY-7852', 'PWY-5663'],\n",
       " 'TAX-35128': ['PWY-7852', 'PWY-6053'],\n",
       " 'TAX-2261': ['PWY-7853',\n",
       "  'PWY-5535',\n",
       "  'PWY-6350',\n",
       "  'PWY-6899',\n",
       "  'PWY-8168',\n",
       "  'PWY-8167',\n",
       "  'PWY-6664',\n",
       "  'P341-PWY',\n",
       "  'PWY-6759',\n",
       "  'PWY-6765',\n",
       "  'PWY-6910',\n",
       "  'PWY-5101',\n",
       "  'THREONINE-DEG2-PWY',\n",
       "  'PWY-5656',\n",
       "  'PWY-6545',\n",
       "  'PWY-8275',\n",
       "  'PWY-5096',\n",
       "  'PWY-5483',\n",
       "  'PWY-6737',\n",
       "  'PWY-5364',\n",
       "  'PWY-7976',\n",
       "  'PWY-7904'],\n",
       " 'TAX-407263': ['PWY-5479', 'PWY-7643', 'PWY-7491'],\n",
       " 'TAX-407264': ['PWY-5479', 'PWY-7643', 'PWY-7491'],\n",
       " 'TAX-1894': ['PWY-7811',\n",
       "  'PWY-7810',\n",
       "  'PWY-5198',\n",
       "  'PWY1-3',\n",
       "  'TREHALOSESYN-PWY'],\n",
       " 'TAX-1927': ['PWY-7811',\n",
       "  'PWY-6721',\n",
       "  'PWY-7809',\n",
       "  'PWY-7812',\n",
       "  'PWY-6720',\n",
       "  'TREHALOSESYN-PWY',\n",
       "  'PWY-7415'],\n",
       " 'TAX-1265868': ['PWY-7811', 'PWY-7809', 'PWY-7812'],\n",
       " 'TAX-671266': ['PWY-8364'],\n",
       " 'TAX-446660': ['PWY-8364', 'PWY-6996'],\n",
       " 'TAX-84112': ['PWY-8364', 'CARNMET-PWY', 'PWY-7399'],\n",
       " 'TAX-242230': ['PWY-8364'],\n",
       " 'TAX-471189': ['PWY-8364'],\n",
       " 'TAX-1335613': ['PWY-8364'],\n",
       " 'TAX-230658': ['PWY-8364'],\n",
       " 'TAX-747645': ['PWY-8364'],\n",
       " 'TAX-29292': ['PWY-7286',\n",
       "  'PWY-8168',\n",
       "  'PWY-8167',\n",
       "  'PWY-8342',\n",
       "  'P341-PWY',\n",
       "  'PWY-3081',\n",
       "  'PWY-7285',\n",
       "  'PWY-6545'],\n",
       " 'TAX-53953': ['PWY-7286',\n",
       "  'PWY-6482',\n",
       "  'PWY-5659',\n",
       "  'GLYCLEAV-PWY',\n",
       "  'P341-PWY',\n",
       "  'PWY-3081',\n",
       "  'THREONINE-DEG2-PWY',\n",
       "  'PWY-5656',\n",
       "  'PWY-7285',\n",
       "  'PWY-8125',\n",
       "  'PWY-8277',\n",
       "  'PWY-7796',\n",
       "  'PWY-6545',\n",
       "  'PWY-5983'],\n",
       " 'TAX-1237085': ['PWY-6519', 'PWY0-1507'],\n",
       " 'TAX-401614': ['PWY-6519', 'BIOTIN-BIOSYNTHESIS-PWY'],\n",
       " 'TAX-93059': ['PWY-6519', 'BIOTIN-BIOSYNTHESIS-PWY'],\n",
       " 'TAX-405': ['PWY-6578',\n",
       "  'PWY-5005',\n",
       "  'PWY-1861',\n",
       "  'RUMP-PWY',\n",
       "  'PWY-1701',\n",
       "  'PWY-6966',\n",
       "  'PWY-6967',\n",
       "  'PWY-1882'],\n",
       " 'TAX-300': ['PWY-6578',\n",
       "  'PWY-6672',\n",
       "  'PWY-6670',\n",
       "  'AST-PWY',\n",
       "  'PWY-5183',\n",
       "  'PWY-5181'],\n",
       " 'TAX-176299': ['PWY-8203',\n",
       "  'PWY-6157',\n",
       "  'PWY-7862',\n",
       "  'PWY-6497',\n",
       "  'PWY-6486',\n",
       "  'PWY-6499',\n",
       "  'PWY-6501',\n",
       "  'PWY-5344',\n",
       "  'PWY-5280',\n",
       "  'PWY-6116',\n",
       "  'PWY-6826',\n",
       "  'PWY-6516',\n",
       "  'PWY0-1433',\n",
       "  'PWY-7849'],\n",
       " 'TAX-358': ['PWY-8203',\n",
       "  'PWY-5806',\n",
       "  'PWY-4521',\n",
       "  'PWY-6157',\n",
       "  'PWY-5417',\n",
       "  'PWY-8147',\n",
       "  'PWY-6497',\n",
       "  'PWY-6486',\n",
       "  'PWY-6499',\n",
       "  'PWY-6501',\n",
       "  'HEME-BIOSYNTHESIS-II',\n",
       "  'PWY-3161',\n",
       "  'PWY-5025',\n",
       "  'TRPIAACAT-PWY',\n",
       "  'ARGASEDEG-PWY',\n",
       "  'ARG-GLU-PWY',\n",
       "  'PWY-5314',\n",
       "  'ORN-AMINOPENTANOATE-CAT-PWY',\n",
       "  'PROUT-PWY',\n",
       "  'LACTOSEUTIL-PWY',\n",
       "  'PWY-8449',\n",
       "  'PWY-7802',\n",
       "  'P201-PWY',\n",
       "  'NOPALINEDEG-PWY',\n",
       "  'OCTOPINEDEG-PWY',\n",
       "  'PWY-6825',\n",
       "  'PWY-6826',\n",
       "  'PWY-6019',\n",
       "  'SUCROSEUTIL2-PWY',\n",
       "  'PWY-5920',\n",
       "  'PWY-5327',\n",
       "  'PWY-6516',\n",
       "  'PWY-5857'],\n",
       " 'TAX-211586': ['PWY-7864',\n",
       "  'PWY1ZNC-1',\n",
       "  'PWY-7674',\n",
       "  'PWY-8147',\n",
       "  'PWY-7027',\n",
       "  'PWY-7676',\n",
       "  'PWY-6517',\n",
       "  'PWY-6378',\n",
       "  'PWY-8262',\n",
       "  'PWY-5358'],\n",
       " 'TAX-844': ['PWY-7864', 'PWY-4601', 'PWY-5364'],\n",
       " 'TAX-5127': ['PWY-7689',\n",
       "  'PWY-7668',\n",
       "  'PWY-7692',\n",
       "  'PWY-3721',\n",
       "  'PWY-7696',\n",
       "  'PWY-6653',\n",
       "  'PWY-5032',\n",
       "  'PWY-7672',\n",
       "  'PWY-7673',\n",
       "  'PWY-5047',\n",
       "  'PWY-5053'],\n",
       " 'TAX-169388': ['PWY-7689', 'PWY18C3-5', 'PWY-6646', 'PWY-7615'],\n",
       " 'TAX-2426': ['PWY-8141'],\n",
       " 'TAX-3617': ['PWY-5380',\n",
       "  'PWY-5379',\n",
       "  'PWY-6602',\n",
       "  'PWY-7188',\n",
       "  'PWY-7189',\n",
       "  'PWY-5390',\n",
       "  'PWY-7134',\n",
       "  'PWY-6623'],\n",
       " 'TAX-3339': ['PWY-5411', 'PWY-116', 'PWY-5423', 'PWY-5425', 'PWY-5424'],\n",
       " 'TAX-3352': ['PWY-5411',\n",
       "  'PWY-5421',\n",
       "  'PWY-6302',\n",
       "  'PWY-5422',\n",
       "  'PWY-7158',\n",
       "  'PWY-5412',\n",
       "  'PWY-5413',\n",
       "  'PWY-5423',\n",
       "  'PWY-5425',\n",
       "  'PWY-5414',\n",
       "  'PWY-5416',\n",
       "  'PWY-5424'],\n",
       " 'TAX-3329': ['PWY-5411',\n",
       "  'PWY-116',\n",
       "  'PWY-5421',\n",
       "  'PWY-5422',\n",
       "  'PWY-5412',\n",
       "  'PWY-3041',\n",
       "  'PWY-5413',\n",
       "  'PWY-5423',\n",
       "  'PWY-5425',\n",
       "  'PWY-5414',\n",
       "  'PWY-5416',\n",
       "  'PWY-5424'],\n",
       " 'TAX-46611': ['PWY-5411',\n",
       "  'PWY-7102',\n",
       "  'PWY-5421',\n",
       "  'PWY-5422',\n",
       "  'PWY-5412',\n",
       "  'PWY-3041',\n",
       "  'PWY-5413',\n",
       "  'PWY-5423',\n",
       "  'PWY-5425',\n",
       "  'PWY-5414',\n",
       "  'PWY-6294',\n",
       "  'PWY-5416',\n",
       "  'PWY-5424',\n",
       "  'PWY-63'],\n",
       " 'TAX-3914': ['PWY-5272', 'PWY-5338', 'PWY-5337'],\n",
       " 'TAX-15371': ['PWY-7642'],\n",
       " 'TAX-3570': ['PWY-5119',\n",
       "  'PWY-7261',\n",
       "  'PWY-6323',\n",
       "  'PWY-5339',\n",
       "  'PWY-7256',\n",
       "  'PWY-7260',\n",
       "  'ETHYL-PWY',\n",
       "  'PWY-2083',\n",
       "  'PWY-7166',\n",
       "  'PWY-6699',\n",
       "  'PWY-7259',\n",
       "  'PWY-7163',\n",
       "  'PWY-6305'],\n",
       " 'TAX-35938': ['PWY-5119', 'URDEGR-PWY'],\n",
       " 'TAX-3701': ['PWY-6333', 'PWY-5905'],\n",
       " 'TAX-39946': ['PWY-6333', 'PWY-7481'],\n",
       " 'TAX-381124': ['PWY-6333', 'PWYDQC-4', 'CAROTENOID-PWY'],\n",
       " 'TAX-3696': ['PWY-6330', 'PWY-7055', 'PWY-7058'],\n",
       " 'TAX-28448': ['PWY-6658', 'PWY-5806', 'PWY-5857'],\n",
       " 'TAX-1534': ['PWY0-1312',\n",
       "  'PWY-5676',\n",
       "  'PWY-7854',\n",
       "  'ETOH-ACETYLCOA-ANA-PWY',\n",
       "  'GLUDEG-II-PWY',\n",
       "  'PWY-8190',\n",
       "  'PWY-5493',\n",
       "  'PWY-5677'],\n",
       " 'TAX-2104': ['PWY0-1312'],\n",
       " 'TAX-272634': ['PWY0-1312',\n",
       "  'P121-PWY',\n",
       "  'PWY-6609',\n",
       "  'PWY-6619',\n",
       "  'PWY-7980',\n",
       "  'PWY-6317',\n",
       "  'GLYCOLYSIS',\n",
       "  'PWY-6620',\n",
       "  'PWY-6618',\n",
       "  'ARGDEGRAD-PWY',\n",
       "  'CITRULLINE-DEG-PWY',\n",
       "  'NAD-BIOSYNTHESIS-III',\n",
       "  'P21-PWY',\n",
       "  'PWY-7179',\n",
       "  'PWY0-1296',\n",
       "  'PWY-5481',\n",
       "  'P41-PWY',\n",
       "  'PWY-5482',\n",
       "  'THIOREDOX-PWY'],\n",
       " 'TAX-29542': ['PWY0-1312', 'PWY-6028', 'P161-PWY', 'ETOH-ACETYLCOA-ANA-PWY'],\n",
       " 'TAX-5759': ['PWY-5535',\n",
       "  'PWY-5536',\n",
       "  'PWY-701',\n",
       "  'PWY-8178',\n",
       "  'PWY-5096',\n",
       "  'PWY-5483'],\n",
       " 'TAX-5741': ['PWY-5535', 'ARGDEGRAD-PWY', 'CITRULLINE-DEG-PWY', 'PWY-5514'],\n",
       " 'TAX-2238': ['PWY-5535',\n",
       "  'PWY0-1313',\n",
       "  'PWY-6760',\n",
       "  'PWY-2221',\n",
       "  'PWY-6728',\n",
       "  'DENITRIFICATION-PWY',\n",
       "  'PWY-5257',\n",
       "  'PWY2DNV-11'],\n",
       " 'TAX-62319': ['PWY-5535', 'PWY0-1313', 'PWY-2221'],\n",
       " 'TAX-2246': ['PWY-5535',\n",
       "  'PWY0-1313',\n",
       "  'PWY-6711',\n",
       "  'PWY-7944',\n",
       "  'PWY-6760',\n",
       "  'DTDPRHAMSYN-PWY',\n",
       "  'PWY-2221',\n",
       "  'GLYOXYLATE-BYPASS',\n",
       "  'PWY-5517',\n",
       "  'MENAQUINONESYN-PWY',\n",
       "  'PWY-6174',\n",
       "  'PWY-5783',\n",
       "  'PWY-7661',\n",
       "  'PWY-7887',\n",
       "  'PWY-5838',\n",
       "  'PWY-5257',\n",
       "  'PWY-6893',\n",
       "  'PWY-6909',\n",
       "  'PWY-7343',\n",
       "  'PWY-7346'],\n",
       " 'TAX-2248': ['PWY-5535',\n",
       "  'PWY0-1313',\n",
       "  'PWY-2221',\n",
       "  'MENAQUINONESYN-PWY',\n",
       "  'PWY-5783',\n",
       "  'PWY-5838'],\n",
       " 'TAX-971': ['PWY-5535', 'PWY0-1601', 'PWY-5327'],\n",
       " 'TAX-316277': ['PWY-8328', 'PWY-7402', 'PWY-7401', 'PWY-5177'],\n",
       " 'TAX-183963': ['PWY0-1313', 'PWY-8112'],\n",
       " 'TAX-33011': ['PWY-5536', 'PWY-5537'],\n",
       " 'TAX-6192': ['PWY-5536',\n",
       "  'PWY-7383',\n",
       "  'PWY-7384',\n",
       "  'PWY-5537',\n",
       "  'PWY-5888',\n",
       "  'PWY-7389'],\n",
       " 'TAX-5671': ['PWY-5536', 'PWY-5537'],\n",
       " 'TAX-5665': ['PWY-5536', 'PWY-5537'],\n",
       " 'TAX-73818': ['PWY-5536', 'PWY-5538', 'PWY-5480'],\n",
       " 'TAX-5706': ['PWY-5536', 'PWY-5537'],\n",
       " 'TAX-5722': ['PWY-5536', 'ARGDEGRAD-PWY', 'PWY-8010', 'PWY-8275', 'PWY-5538'],\n",
       " 'TAX-56690': ['PWY-5536', 'ARGDEGRAD-PWY', 'PWY-5538'],\n",
       " 'TAX-5691': ['PWY-5536', 'PWY-4302', 'PWY-5537'],\n",
       " 'TAX-52690': ['PWY-6028', 'CODH-PWY'],\n",
       " 'TAX-33954': ['PWY-6028'],\n",
       " 'TAX-19': ['PWY-6028', 'PWY-5332'],\n",
       " 'TAX-338963': ['PWY-6028'],\n",
       " 'TAX-44672': ['PWY-6028'],\n",
       " 'TAX-125602': ['PWY-5533'],\n",
       " 'TAX-90730': ['PWY-5533'],\n",
       " 'TAX-1069': ['PWY-5533', 'PWY-5806', 'PWY-5857'],\n",
       " 'TAX-78245': ['PWY-5533',\n",
       "  'PWY-4521',\n",
       "  'P261-PWY',\n",
       "  'PWY-8092',\n",
       "  'PWY-7776',\n",
       "  'PWY-5534'],\n",
       " 'TAX-1829': ['PWY-5533',\n",
       "  'P161-PWY',\n",
       "  'PWY-7309',\n",
       "  'P345-PWY',\n",
       "  'PWY-6944',\n",
       "  'PWY-6945',\n",
       "  'PWY-7776',\n",
       "  'P621-PWY',\n",
       "  'PWY-5783',\n",
       "  'PWY-5534',\n",
       "  'PWY-7925',\n",
       "  'P344-PWY',\n",
       "  'PWY-6928'],\n",
       " 'TAX-82367': ['PWY-5533', 'PWY-7554', 'PWY-5194', 'PWY-5296'],\n",
       " 'TAX-1010': ['PWY-5533'],\n",
       " 'TAX-155865': ['PWY-5676'],\n",
       " 'TAX-41282': ['PWY-7532'],\n",
       " 'TAX-746128': ['PWY-7532',\n",
       "  'PWY-6493',\n",
       "  'PWY-3721',\n",
       "  'PWY-7494',\n",
       "  'PWY-8407',\n",
       "  'PWY-7059',\n",
       "  'PWY-7542',\n",
       "  'PWY-7526',\n",
       "  'PWY-7525',\n",
       "  'PWY-7533',\n",
       "  'PWY-7534',\n",
       "  'TYRFUMCAT-PWY',\n",
       "  'PWY-6699',\n",
       "  'PWY-7537',\n",
       "  'PWY-7622'],\n",
       " 'TAX-41063': ['PWY-7532'],\n",
       " 'TAX-188916': ['P161-PWY', 'PWY-5288'],\n",
       " 'TAX-556': ['PWY-6574',\n",
       "  'GALACTUROCAT-PWY',\n",
       "  'PWY-5662',\n",
       "  'ASPARAGINE-DEG1-PWY',\n",
       "  'PWY-6769',\n",
       "  'PWY-6516'],\n",
       " 'TAX-205918': ['PWY-6574'],\n",
       " 'TAX-470': ['PWY-7984', 'PWY-6781', 'PWY-6959'],\n",
       " 'TAX-645': ['PWY-7984'],\n",
       " 'TAX-29430': ['PWY-7989'],\n",
       " 'TAX-33899': ['PWY-7354'],\n",
       " 'TAX-37565': ['PWY-5958', 'PWY-6792', 'PWY-6982'],\n",
       " 'TAX-645472': ['PWY-6373', 'PWY-8180'],\n",
       " 'ORG-6049': ['PWY-6373', 'PWY-6046'],\n",
       " 'TAX-215813': ['PWY-8180'],\n",
       " 'TAX-55218': ['PWY-8180'],\n",
       " 'ORG-6132': ['PWY-7308', 'P345-PWY'],\n",
       " 'ORG-5980': ['PWY-7308', 'P344-PWY'],\n",
       " 'TAX-3625': ['PWY-7449', 'PWY-5997', 'PWY-6801'],\n",
       " 'TAX-35925': ['PWY-7449'],\n",
       " 'ORG18C3-3': ['PWY18C3-16', 'PWY18C3-17'],\n",
       " 'ORG18C3-4': ['PWY18C3-16', 'PWY18C3-17'],\n",
       " 'ORG18C3-1': ['PWY18C3-16', 'PWY18C3-17'],\n",
       " 'ORG18C3-2': ['PWY18C3-16', 'PWY18C3-17'],\n",
       " 'TAX-28526': ['PWY18C3-15',\n",
       "  'PWY18C3-9',\n",
       "  'PWY18C3-23',\n",
       "  'PWY18C3-8',\n",
       "  'PWY18C3-12',\n",
       "  'PWY18C3-17'],\n",
       " 'TAX-2242': ['P121-PWY',\n",
       "  'PWY-6609',\n",
       "  'PWY-6619',\n",
       "  'PWY-7980',\n",
       "  'PWY-7944',\n",
       "  'ARGDEGRAD-PWY',\n",
       "  'CITRULLINE-DEG-PWY',\n",
       "  'GLUTAMATE-DEG1-PWY',\n",
       "  'MENAQUINONESYN-PWY',\n",
       "  'PWY-8440',\n",
       "  'PWY-5783',\n",
       "  'PWY-7197',\n",
       "  'PWY-6545',\n",
       "  'PWY-8275',\n",
       "  'PWY-5838',\n",
       "  'PWY-6969',\n",
       "  'PWY2DNV-11'],\n",
       " 'TAX-3873': ['PWY-6605',\n",
       "  'PWY-6596',\n",
       "  'PWY-5379',\n",
       "  'PWY-6599',\n",
       "  'PWY-6607',\n",
       "  'PWY-6606',\n",
       "  'PWY-7528',\n",
       "  'PWY-7270',\n",
       "  'PWY-5967',\n",
       "  'PWY-4702',\n",
       "  'PWY-5044',\n",
       "  'PWY-5041',\n",
       "  'PWY-6754',\n",
       "  'PWY-4361',\n",
       "  'PWY-6595',\n",
       "  'P165-PWY'],\n",
       " 'TAX-4896': ['PWY-6610',\n",
       "  'PWY-5806',\n",
       "  'PWY-6129',\n",
       "  'PWY-7550',\n",
       "  'PWY-4041',\n",
       "  'PWY-5486',\n",
       "  'PWY-5872'],\n",
       " 'TAX-4903': ['PWY-6610',\n",
       "  'PWY-6000',\n",
       "  'PWY-5057',\n",
       "  'PWY-5873',\n",
       "  'PWY-5871',\n",
       "  'PWY-5703'],\n",
       " 'TAX-38584': ['PWY-6610'],\n",
       " 'TAX-5689': ['PWY-6610'],\n",
       " 'TAX-38582': ['PWY-6610'],\n",
       " 'TAX-38574': ['PWY-6610'],\n",
       " 'TAX-5660': ['PWY-6610'],\n",
       " 'TAX-5656': ['PWY-6610', 'PWY-4121', 'PWY-5537', 'TRYPANOSYN-PWY'],\n",
       " 'TAX-354': ['PWY-6610',\n",
       "  'PWY-6617',\n",
       "  'PWY-6082',\n",
       "  'PWY-2503',\n",
       "  'PWY-5420',\n",
       "  'PWY-5419',\n",
       "  'GALDEG-PWY',\n",
       "  'PWY-7710',\n",
       "  'TRPIAACAT-PWY',\n",
       "  'DAPLYSINESYN-PWY',\n",
       "  'PWY-5430',\n",
       "  'PWY-7576',\n",
       "  'PWY-5783',\n",
       "  'PWY1-3',\n",
       "  'UBISYN-PWY',\n",
       "  'TCA',\n",
       "  'PWY-5350',\n",
       "  'PWY-6708'],\n",
       " 'TAX-1748': ['PWY-7964', 'PWY-5805', 'P108-PWY'],\n",
       " 'TAX-1176': ['PWY-7964', 'PWY-8045'],\n",
       " 'TAX-1494': ['PWY-7964', 'PWY-5087', 'GLUDEG-II-PWY'],\n",
       " 'TAX-1553': ['PWY-7964',\n",
       "  'PWY-5087',\n",
       "  'GLUDEG-II-PWY',\n",
       "  'HISDEG-PWY',\n",
       "  'PWY-5437'],\n",
       " 'TAX-1598': ['PWY-7964', 'P122-PWY'],\n",
       " 'TAX-2182': ['PWY-7964'],\n",
       " 'TAX-2188': ['PWY-7964', 'P241-PWY', 'PWY-5101', 'VALSYN-PWY', 'PWY-7658'],\n",
       " 'TAX-2315': ['PWY-7964'],\n",
       " 'TAX-1178': ['PWY-7964'],\n",
       " 'TAX-2333': ['PWY-7964'],\n",
       " 'TAX-3078': ['PWY-6794'],\n",
       " 'TAX-4058': ['PWY-6596',\n",
       "  'PWY-5377',\n",
       "  'PWY-6010',\n",
       "  'PWY-6458',\n",
       "  'PWY-7067',\n",
       "  'PWY-6457',\n",
       "  'PWY-4421',\n",
       "  'PWY-3101',\n",
       "  'PWY-7145',\n",
       "  'PWY-6607',\n",
       "  'PWY-6606',\n",
       "  'PWY-7143',\n",
       "  'PWY-3181',\n",
       "  'PWY-5152',\n",
       "  'PWY-6239',\n",
       "  'PWY-922',\n",
       "  'PWY-7140',\n",
       "  'PWY-7069',\n",
       "  'PWY-7039',\n",
       "  'PWY-5027',\n",
       "  'PWY-5044',\n",
       "  'PWY-7137',\n",
       "  'PWY-5041',\n",
       "  'PWY-8321',\n",
       "  'PWY-981',\n",
       "  'PWY-6623',\n",
       "  'PWY-5290',\n",
       "  'PWY-8475',\n",
       "  'PWY-7139',\n",
       "  'PWY-6266',\n",
       "  'PWY-6595',\n",
       "  'PWY-5863',\n",
       "  'P165-PWY',\n",
       "  'PWY-5391',\n",
       "  'PWY-7068',\n",
       "  'PWY-5292'],\n",
       " 'TAX-293373': ['SALVADEHYPOX-PWY', 'PWY-7704'],\n",
       " 'TAX-36642': ['SALVADEHYPOX-PWY', 'PWY-6606'],\n",
       " 'TAX-2283': ['PWY-5509',\n",
       "  'PWY-7962',\n",
       "  'PWY-5276',\n",
       "  'PWY-5302',\n",
       "  'PWY-5332',\n",
       "  'PWY-5304',\n",
       "  'PWY-5303'],\n",
       " 'TAX-1752': ['PWY-5509',\n",
       "  'PWY-5507',\n",
       "  'PWY-7962',\n",
       "  'PWY-7377',\n",
       "  'PWY-5805',\n",
       "  'PEPTIDOGLYCANSYN-PWY',\n",
       "  'PROPIONMET-PWY',\n",
       "  'P108-PWY'],\n",
       " 'TAX-43306': ['PWY-5509',\n",
       "  'P381-PWY',\n",
       "  'PWY-7962',\n",
       "  'PWY-5806',\n",
       "  'PWY-5443',\n",
       "  'PWY-7378',\n",
       "  'PWY-7376',\n",
       "  'PWY-5194',\n",
       "  'PWY-5918',\n",
       "  'PWY-5188'],\n",
       " 'TAX-1462': ['PWY-7975'],\n",
       " 'TAX-145262': ['PWY-5507',\n",
       "  'PWY-6350',\n",
       "  'PWY-6141',\n",
       "  'PWY-6349',\n",
       "  'PWY-5370',\n",
       "  'PWY-5372',\n",
       "  'PWY-7377',\n",
       "  'PWY-7867',\n",
       "  'PWY-8112',\n",
       "  'PWY-5196',\n",
       "  'PWY-6142',\n",
       "  'P42-PWY',\n",
       "  'ARGSYNBSUB-PWY',\n",
       "  'PWY-5101',\n",
       "  'PWY-5104',\n",
       "  'PWY-5097',\n",
       "  'PWY-7977',\n",
       "  'PWY-6146',\n",
       "  'PWY-5254',\n",
       "  'METHANOGENESIS-PWY',\n",
       "  'PWY2OBG-1',\n",
       "  'METHFORM-PWY',\n",
       "  'PWY-8125',\n",
       "  'PWY-8352',\n",
       "  'PWY-7784',\n",
       "  'PWY-6830',\n",
       "  'PWY-6148'],\n",
       " 'TAX-29459': ['P381-PWY',\n",
       "  'PWY-5806',\n",
       "  'PWY-7376',\n",
       "  'PWY-7789',\n",
       "  'PWY2B4Q-2',\n",
       "  'ARG-GLU-PWY',\n",
       "  'PWY-5857'],\n",
       " 'TAX-192952': ['PWY-6268',\n",
       "  'PWY-7972',\n",
       "  'PWY-5443',\n",
       "  'PWY-7391',\n",
       "  'PWY-8125',\n",
       "  'PWY-6269'],\n",
       " 'TAX-239935': ['PWY-8282'],\n",
       " 'TAX-64091': ['PWY-7972', 'PWY-6050', 'PWY-6174', 'PWY-6269'],\n",
       " 'TAX-190192': ['PWY-7972', 'PWY-6269'],\n",
       " 'TAX-187420': ['PWY-7972',\n",
       "  'PWY-6350',\n",
       "  'PWY-6141',\n",
       "  'PWY-6349',\n",
       "  'PWYQT-4429',\n",
       "  'PWY-6142',\n",
       "  'PWY-5921',\n",
       "  'PWY-6146',\n",
       "  'PWY-6269',\n",
       "  'PWY-6148'],\n",
       " 'TAX-272943': ['PWY-7972',\n",
       "  'PWY-5443',\n",
       "  'PWY-6046',\n",
       "  'PWY-7664',\n",
       "  'P561-PWY',\n",
       "  'PWY-6269'],\n",
       " 'ORG-57106': ['PWY-8347'],\n",
       " 'TAX-62977': ['PWY-8354',\n",
       "  'PWY-6079',\n",
       "  'PWY-7052',\n",
       "  'PWY-6497',\n",
       "  'PWY-6499',\n",
       "  'PWY-8484',\n",
       "  'PWY-6873',\n",
       "  'QUINATEDEG-PWY',\n",
       "  'SHIKIMATEDEG-PWY',\n",
       "  'PWY-6954',\n",
       "  'PWY-2504',\n",
       "  'PWY-6516',\n",
       "  'PWY-5885'],\n",
       " 'TAX-3486': ['PWY-7857', 'PWY-5133', 'PWY-5132', 'PWY-5134', 'PWY-5135'],\n",
       " 'TAX-192222': ['PWY0-1241', 'PWY-6749', 'PWY-6545'],\n",
       " 'TAX-83333': ['AEROBACTINSYN-PWY', 'PWY-7178', 'PWY-8291', 'PWY-8294'],\n",
       " 'TAX-621': ['AEROBACTINSYN-PWY'],\n",
       " 'TAX-623': ['AEROBACTINSYN-PWY'],\n",
       " 'TAX-29484': ['AEROBACTINSYN-PWY'],\n",
       " 'TAX-631': ['AEROBACTINSYN-PWY'],\n",
       " 'TAX-28152': ['AEROBACTINSYN-PWY'],\n",
       " 'TAX-4463': ['PWY-4302'],\n",
       " 'TAX-47913': ['PWY-6816'],\n",
       " 'TAX-63186': ['PWY-6816', 'PWY-6822', 'PWY-6821', 'PWY-6815'],\n",
       " 'TAX-4060': ['PWY-5301', 'PWY-5290'],\n",
       " 'TAX-38596': ['PWY-5343'],\n",
       " 'TAX-33903': ['PWY-5887',\n",
       "  'ILEUDEG-PWY',\n",
       "  'LEU-DEG2-PWY',\n",
       "  'VALDEG-PWY',\n",
       "  'PWY-6919',\n",
       "  'PWY-6580',\n",
       "  'PWY-8006'],\n",
       " 'TAX-1886': ['PWY-5887'],\n",
       " 'TAX-85698': ['PWY-6379'],\n",
       " 'TAX-518': ['PWY-6379'],\n",
       " 'TAX-519': ['PWY-6379'],\n",
       " 'TAX-520': ['PWY-6379',\n",
       "  'PWY-6079',\n",
       "  'PWY-8146',\n",
       "  'PWY-7675',\n",
       "  'DAPLYSINESYN-PWY',\n",
       "  'TRPCAT-PWY',\n",
       "  'PWY-5783',\n",
       "  'PWY-6818',\n",
       "  'UBISYN-PWY',\n",
       "  'PWY-6708',\n",
       "  'PWY-7090'],\n",
       " 'TAX-98228': ['P345-PWY'],\n",
       " 'TAX-88735': ['P345-PWY'],\n",
       " 'ORG-5982': ['P345-PWY', 'PWY-5726', 'PWY-681', 'P344-PWY'],\n",
       " 'TAX-2880': ['PWY-6073', 'PWY-6531'],\n",
       " 'TAX-3013': ['PWY-6073'],\n",
       " 'TAX-80365': ['PWY-6073'],\n",
       " 'TAX-286': ['PWY-6082',\n",
       "  'CATECHOL-ORTHO-CLEAVAGE-PWY',\n",
       "  'CYCLOHEXANOL-OXIDATION-PWY',\n",
       "  'ARGSYNBSUB-PWY',\n",
       "  'ILEUDEG-PWY',\n",
       "  'P621-PWY',\n",
       "  'PWY-6923',\n",
       "  'P344-PWY'],\n",
       " 'TAX-1798866': ['PWY-6986'],\n",
       " 'TAX-90322': ['PWY-6986'],\n",
       " 'TAX-43989': ['PWY-7032', 'PWY-7793', 'PWY-6622'],\n",
       " 'TAX-395961': ['PWY-7032', 'PWY-6622'],\n",
       " 'TAX-251221': ['PWY-7032', 'PWY-6622', 'PWY-5942'],\n",
       " 'TAX-63737': ['PWY-7032', 'PWY-6622', 'PWY-7275', 'PWY-7751'],\n",
       " 'TAX-74547': ['PWY-7032', 'PWY-6622'],\n",
       " 'TAX-59919': ['PWY-7032',\n",
       "  'PWY1ZNC-1',\n",
       "  'PWY-8127',\n",
       "  'PWY-6622',\n",
       "  'PWY-5917',\n",
       "  'PWY-5915',\n",
       "  'PWY-7580'],\n",
       " 'TAX-269084': ['PWY-7032', 'PWY-6622'],\n",
       " 'TAX-240292': ['PWY-7032', 'PWY-6622', 'PWY-7050'],\n",
       " 'TAX-869302': ['PWY-7033'],\n",
       " 'TAX-5479': ['PWY-2724', 'ALANINE-DEG3-PWY'],\n",
       " 'TAX-5482': ['PWY-2724', 'PWY-5516', 'LYSDEGII-PWY', 'PWY-5327'],\n",
       " 'TAX-94006': ['PWY-2724'],\n",
       " 'TAX-1004253': ['PWY-723', 'PWY-5453'],\n",
       " 'TAX-5141': ['PWY-723',\n",
       "  'PWY-5516',\n",
       "  'PWY-7550',\n",
       "  'PWY-5663',\n",
       "  'PWY-2161B',\n",
       "  'PWY-5067',\n",
       "  'ARGSYNBSUB-PWY',\n",
       "  'PWY-6100',\n",
       "  'VALDEG-PWY',\n",
       "  'PWY-6681',\n",
       "  'PWY-5675',\n",
       "  'PWY-8006',\n",
       "  'PWY-5486',\n",
       "  'PWY-6416',\n",
       "  'PWY-5942',\n",
       "  'PWY-5872'],\n",
       " 'TAX-41986': ['PWY-5816',\n",
       "  'PWY-5817',\n",
       "  'PWY-5891',\n",
       "  'PWY-5892',\n",
       "  'PWY-5897',\n",
       "  'PWY-5898'],\n",
       " 'TAX-28111': ['PWY-5816',\n",
       "  'PWY-5806',\n",
       "  'PWY-5890',\n",
       "  'PWY-5891',\n",
       "  'PWY-5896',\n",
       "  'PWY-5897'],\n",
       " 'TAX-28116': ['PWY-5816',\n",
       "  'PWY-5806',\n",
       "  'PWY-5890',\n",
       "  'PWY-5891',\n",
       "  'PWY-5896',\n",
       "  'PWY-5897'],\n",
       " 'TAX-818': ['PWY-5816',\n",
       "  'PWY-5806',\n",
       "  'PWY-6572',\n",
       "  'PWY-7646',\n",
       "  'PWY-5267',\n",
       "  'PWY-8082',\n",
       "  'PWY-5154',\n",
       "  'PWY-8436',\n",
       "  'PWY-5890',\n",
       "  'PWY-5891',\n",
       "  'PWY-2301',\n",
       "  'PWY-6145',\n",
       "  'PWY-5896',\n",
       "  'PWY-5897',\n",
       "  'PWY-8435'],\n",
       " 'TAX-821': ['PWY-5816',\n",
       "  'PWY-5806',\n",
       "  'PWY-7586',\n",
       "  'PWY-7754',\n",
       "  'PWY-8134',\n",
       "  'PWY-8135',\n",
       "  'PWY-8082',\n",
       "  'PWY-5890',\n",
       "  'PWY-5891',\n",
       "  'PWY-5896',\n",
       "  'PWY-5897'],\n",
       " 'TAX-144185': ['PWY-5816',\n",
       "  'PWY-5806',\n",
       "  'PWY-5890',\n",
       "  'PWY-5891',\n",
       "  'PWY-5896',\n",
       "  'PWY-5897'],\n",
       " 'TAX-33917': ['PWY-5816',\n",
       "  'PWY-5817',\n",
       "  'PWY-5891',\n",
       "  'PWY-5892',\n",
       "  'PWY-5897',\n",
       "  'PWY-5898'],\n",
       " 'TAX-33884': ['PWY-5816',\n",
       "  'PWY-5817',\n",
       "  'PWY-5891',\n",
       "  'PWY-5892',\n",
       "  'PWY-5897',\n",
       "  'PWY-5898'],\n",
       " 'TAX-33885': ['PWY-5816',\n",
       "  'PWY-5817',\n",
       "  'PWY-5891',\n",
       "  'PWY-5892',\n",
       "  'PWY-5895',\n",
       "  'PWY-5897',\n",
       "  'PWY-5898',\n",
       "  'PWY-5899'],\n",
       " 'TAX-33918': ['PWY-5816',\n",
       "  'PWY-5817',\n",
       "  'PWY-5891',\n",
       "  'PWY-5892',\n",
       "  'PWY-5895',\n",
       "  'PWY-5897',\n",
       "  'PWY-5898',\n",
       "  'PWY-5899'],\n",
       " 'TAX-69368': ['PWY-5816',\n",
       "  'PWY-5817',\n",
       "  'PWY-5891',\n",
       "  'PWY-5892',\n",
       "  'PWY-5895',\n",
       "  'PWY-5897',\n",
       "  'PWY-5898',\n",
       "  'PWY-5899'],\n",
       " 'TAX-2033': ['PWY-5816',\n",
       "  'PWY-5817',\n",
       "  'PWY-5891',\n",
       "  'PWY-5892',\n",
       "  'PWY-5895',\n",
       "  'PWY-5897',\n",
       "  'PWY-5898',\n",
       "  'PWY-5899'],\n",
       " 'TAX-83231': ['PWY-5816',\n",
       "  'PWY-5817',\n",
       "  'PWY-5892',\n",
       "  'PWY-5895',\n",
       "  'PWY-5898',\n",
       "  'PWY-5899',\n",
       "  'PWY-5893'],\n",
       " 'TAX-28131': ['PWY-5816', 'PWY-5891', 'PWY-5897'],\n",
       " 'TAX-28134': ['PWY-5816',\n",
       "  'PWY-5806',\n",
       "  'PWY-5817',\n",
       "  'PWY-5890',\n",
       "  'PWY-5891',\n",
       "  'PWY-5892',\n",
       "  'PWY-5895',\n",
       "  'PWY-5896',\n",
       "  'PWY-5897',\n",
       "  'PWY-5898',\n",
       "  'PWY-5899',\n",
       "  'PWY-5893'],\n",
       " 'TAX-2014': ['PWY-5806', 'PWY-5890', 'PWY-5896'],\n",
       " 'TAX-1656': ['PWY-5806'],\n",
       " 'TAX-1659': ['PWY-5806'],\n",
       " 'TAX-1658': ['PWY-5806', 'PWY-5890', 'PWY-5896'],\n",
       " 'TAX-28028': ['PWY-5806', 'PWY-5783', 'PWY-6948'],\n",
       " 'TAX-1722': ['PWY-5806'],\n",
       " 'TAX-33888': ['PWY-5806', 'PWY-5890', 'PWY-5896'],\n",
       " 'TAX-59737': ['PWY-5806', 'PWY-5890', 'PWY-5896'],\n",
       " 'TAX-28132': ['PWY-5806',\n",
       "  'PWY-7586',\n",
       "  'PWY-5890',\n",
       "  'PWY-5891',\n",
       "  'PWY-5839',\n",
       "  'PWY-5896',\n",
       "  'PWY-5897',\n",
       "  'PWY-5840'],\n",
       " 'TAX-823': ['PWY-5806', 'PWY-7586', 'PWY-5890', 'PWY-5896'],\n",
       " 'TAX-28123': ['PWY-5806',\n",
       "  'PWY-5851',\n",
       "  'PWY-5890',\n",
       "  'PWY-5844',\n",
       "  'PWY-5805',\n",
       "  'PWY-5862',\n",
       "  'PWY-5896',\n",
       "  'PWY-5845'],\n",
       " 'TAX-266': ['PWY-5806',\n",
       "  'AMMOXID-PWY',\n",
       "  'PWY-5336',\n",
       "  'PWY-1801',\n",
       "  'P283-PWY',\n",
       "  'PWY-1701',\n",
       "  'PWY-6966',\n",
       "  'PWY-6967',\n",
       "  'DENITRIFICATION-PWY',\n",
       "  'PWY-6534',\n",
       "  'P222-PWY',\n",
       "  'PWY-5276',\n",
       "  'PWY-1281',\n",
       "  'PWY-1882',\n",
       "  'PWY-1264',\n",
       "  'PWY-5296',\n",
       "  'PWY-5857',\n",
       "  'PWY-7849'],\n",
       " 'TAX-375': ['PWY-5806',\n",
       "  'PWY-7750',\n",
       "  'PWY-8147',\n",
       "  'HEMESYN2-PWY',\n",
       "  'P283-PWY',\n",
       "  'TRPIAACAT-PWY',\n",
       "  'PWY-8087',\n",
       "  'PWY-5101',\n",
       "  'PROUT-PWY',\n",
       "  'PWY-6825',\n",
       "  'PWY-7906',\n",
       "  'TRESYN-PWY',\n",
       "  'PWY-2661',\n",
       "  'PWY-2722',\n",
       "  'PWY-5857'],\n",
       " 'TAX-82996': ['PWY-5806', 'PWY-6997', 'PWY-6696', 'PWY-5857'],\n",
       " 'TAX-38307': ['PWY-5806', 'PWY-5857'],\n",
       " 'TAX-318683': ['PWY-5806', 'PWY-5857'],\n",
       " 'TAX-235': ['PWY-5806',\n",
       "  'PWY-7789',\n",
       "  'PWY-5739',\n",
       "  'NONMEVIPP-PWY',\n",
       "  'PWY-6826',\n",
       "  'PWY-5857'],\n",
       " 'ORG-5863': ['PWY0-41'],\n",
       " 'ORG-5985': ['PWY0-41'],\n",
       " 'TAX-1458': ['PWY-5705', 'PWY-5698'],\n",
       " 'TAX-4679': ['PWY-5706',\n",
       "  'PWY-5708',\n",
       "  'PWY-822',\n",
       "  'PWY-7614',\n",
       "  'PWY-5707',\n",
       "  'PWY-7129',\n",
       "  'PWY-7133',\n",
       "  'PWY-6176',\n",
       "  'PWY-7185',\n",
       "  'PWY-7177'],\n",
       " 'TAX-28911': ['PWY-5706'],\n",
       " 'TAX-4682': ['PWY-5706', 'PWY-5409', 'PWY-7614', 'PWY-6176', 'PWY-5433'],\n",
       " 'TAX-45385': ['PWY-6310', 'PWY-4801', 'PWY-6312', 'PWY-12'],\n",
       " 'TAX-137221': ['PWY-4801', 'PWY-5393'],\n",
       " 'TAX-117798': ['PWY-6312'],\n",
       " 'TAX-65561': ['PWY-6312', 'PWY-5808', 'PWY-5780'],\n",
       " 'TAX-167539': ['PWY-5946', 'PWY-8126', 'PWY-8127'],\n",
       " 'TAX-4072': ['PWY-5946',\n",
       "  'PWY-5943',\n",
       "  'PWY-5710',\n",
       "  'PWY-5174',\n",
       "  'PWY-6027',\n",
       "  'PWY-5120',\n",
       "  'PWY-5473',\n",
       "  'PWY-5947',\n",
       "  'CAROTENOID-PWY',\n",
       "  'PWY-5121',\n",
       "  'PWY-6305',\n",
       "  'PWY-6475',\n",
       "  'PWY-5945',\n",
       "  'PWY-5944'],\n",
       " 'TAX-264483': ['PWY-5946',\n",
       "  'PWY-5288',\n",
       "  'PWY-5943',\n",
       "  'PWY-5947',\n",
       "  'CAROTENOID-PWY',\n",
       "  'PWY-5942',\n",
       "  'PWY-5945',\n",
       "  'PWY-5944'],\n",
       " 'ORG-6001': ['PWY-5946',\n",
       "  'PWY-5943',\n",
       "  'PWY-5733',\n",
       "  'PWY-5175',\n",
       "  'PWY-5947',\n",
       "  'CAROTENOID-PWY',\n",
       "  'PWY-6475',\n",
       "  'PWY-5945',\n",
       "  'PWY-5944'],\n",
       " 'TAX-60167': ['PWY-7555', 'PWY-7704'],\n",
       " 'TAX-2148': ['PWY-7684'],\n",
       " 'TAX-63779': ['PWY-5375', 'PWY-5801'],\n",
       " 'TAX-3673': ['PWY-5375'],\n",
       " 'TAX-73154': ['PWY-5375'],\n",
       " 'TAX-3483': ['PWY-5997', 'PWY-6275', 'PWY-5140', 'PWY-5998', 'PWY-7105'],\n",
       " 'TAX-2771': ['PWY-5997', 'PWY-7997', 'PWY-7996'],\n",
       " 'TAX-193516': ['PWY-5997'],\n",
       " 'TAX-48386': ['PWY-5997',\n",
       "  'PWY-5307',\n",
       "  'PWY-5829',\n",
       "  'PWY-5060',\n",
       "  'PWY-5139',\n",
       "  'PWY-6436',\n",
       "  'PWY-5268',\n",
       "  'PWY-5284',\n",
       "  'PWY-5313',\n",
       "  'PWY-5310',\n",
       "  'PWY-5312',\n",
       "  'PWY-7995',\n",
       "  'PWY-6291'],\n",
       " 'TAX-46147': ['PWY-5997'],\n",
       " 'TAX-49212': ['PWY-5997'],\n",
       " 'TAX-180772': ['PWY-5997'],\n",
       " 'TAX-264691': ['PWY-7598',\n",
       "  'HEMESYN2-PWY',\n",
       "  'P283-PWY',\n",
       "  'PWY-7593',\n",
       "  'N2FIX-PWY',\n",
       "  'PWY-5805',\n",
       "  'PWY-7587',\n",
       "  'PWY-7589',\n",
       "  'PWY-5917',\n",
       "  'PWY-7751'],\n",
       " 'TAX-118562': ['PWY-7598', 'PWY-5998', 'PWY-7594', 'PWY-7595', 'PWY-7596'],\n",
       " 'TAX-33072': ['PWY-7598',\n",
       "  'PWY-7997',\n",
       "  'PWY-7593',\n",
       "  'PWY-7996',\n",
       "  'PWY-5917',\n",
       "  'PWY-5915'],\n",
       " 'TAX-272131': ['PWY-7598',\n",
       "  'PWY-5288',\n",
       "  'PWY-7593',\n",
       "  'NAD-BIOSYNTHESIS-II',\n",
       "  'PWY-7589',\n",
       "  'PWY-5917',\n",
       "  'PWY-5915'],\n",
       " 'TAX-261476': ['PWY-7598', 'PWY-7593', 'PWY-7587', 'PWY-7589'],\n",
       " 'TAX-103690': ['PWY-7598',\n",
       "  'PWY-7052',\n",
       "  'PWY-7807',\n",
       "  'PWY-4981',\n",
       "  'PWY-7593',\n",
       "  'N2FIX-PWY',\n",
       "  'PWY-7589',\n",
       "  'PWY-5917',\n",
       "  'PWY-7578',\n",
       "  'PWY-8260',\n",
       "  'PWY-6475'],\n",
       " 'TAX-32049': ['PWY-7598',\n",
       "  'PWY-7997',\n",
       "  'PWY-5662',\n",
       "  'PWY-7593',\n",
       "  'PWY-7996',\n",
       "  'PWY-5453',\n",
       "  'PWY-6279',\n",
       "  'PWY-5917',\n",
       "  'PWY-5027',\n",
       "  'PWY-5863',\n",
       "  'PWY-6280',\n",
       "  'P105-PWY',\n",
       "  'PWY-7029'],\n",
       " 'TAX-1206': ['PWY-7598', 'PWY-7593'],\n",
       " 'TAX-3702': ['PWY-8398',\n",
       "  'PWY-7679',\n",
       "  'PWY-7450',\n",
       "  'PWY-7678',\n",
       "  'PWY-7682',\n",
       "  'PWY-8397',\n",
       "  'PWY-8259',\n",
       "  'PWY-7920',\n",
       "  'PWY-8396',\n",
       "  'PWY66-423',\n",
       "  'PWY-8399',\n",
       "  'PWY-8395',\n",
       "  'PWY-7140',\n",
       "  'PWY-7861',\n",
       "  'PWY-6845',\n",
       "  'PWY-7985',\n",
       "  'MANNOSYL-CHITO-DOLICHOL-BIOSYNTHESIS',\n",
       "  'PWY-7899',\n",
       "  'PWY-7204',\n",
       "  'PWY-8457',\n",
       "  'PWY-7436'],\n",
       " 'TAX-48100': ['PWY18C3-5'],\n",
       " 'TAX-40559': ['PWY18C3-5', 'PWY-6278', 'PWY-6699', 'PWY-3261'],\n",
       " 'TAX-33013': ['PWY18C3-5'],\n",
       " 'TAX-59765': ['PWY18C3-5'],\n",
       " 'TAX-5499': ['PWY18C3-5'],\n",
       " 'TAX-39703': ['PWY18C3-5'],\n",
       " 'TAX-680198': ['PWY18C3-5'],\n",
       " 'TAX-3560': ['PWY-5400', 'PWY-5405'],\n",
       " 'TAX-124768': ['PWY-5400', 'PWY-5399', 'PWY-5405'],\n",
       " 'TAX-39639': ['PWY-7826', 'PWY-5943', 'PWY-7393'],\n",
       " 'TAX-82232': ['PWY-7826'],\n",
       " 'TAX-272140': ['PWY-7826', 'PWY1F-467'],\n",
       " 'TAX-1540222': ['PWY-7826'],\n",
       " 'TAX-59042': ['PWY-7826'],\n",
       " 'TAX-1263234': ['PWY-7826'],\n",
       " 'TAX-3871': ['PWY-6963',\n",
       "  'PWY-6964',\n",
       "  'ASPSYNII-PWY',\n",
       "  'PWY-5505',\n",
       "  'GLUGLNSYN-PWY',\n",
       "  'PWY-4281',\n",
       "  'PWY-3282'],\n",
       " 'TAX-1665': ['AMMOXID-PWY',\n",
       "  'PWY-3721',\n",
       "  'PWY-8317',\n",
       "  'PWY-3661',\n",
       "  'ARGDEG-V-PWY',\n",
       "  'PWY-5024',\n",
       "  'DAPLYSINESYN-PWY',\n",
       "  'THRDLCTCAT-PWY',\n",
       "  'PWY-5151',\n",
       "  'PWY-5805'],\n",
       " 'TAX-536': ['AMMOXID-PWY',\n",
       "  'P401-PWY',\n",
       "  'PHENYLALANINE-DEG1-PWY',\n",
       "  'NAD-BIOSYNTHESIS-III',\n",
       "  'PWY-8099',\n",
       "  'PWY-7090',\n",
       "  'PWY-7040'],\n",
       " 'TAX-414': ['AMMOXID-PWY',\n",
       "  'PWY-5670',\n",
       "  'PWY-6132',\n",
       "  'PWY-7084',\n",
       "  'PWY-8026',\n",
       "  'PWY-1882'],\n",
       " 'TAX-243233': ['AMMOXID-PWY', 'PWY-1641', 'PWY-6742', 'PWY-7084'],\n",
       " 'TAX-1229': ['AMMOXID-PWY', 'HEMESYN2-PWY'],\n",
       " 'TAX-914': ['AMMOXID-PWY'],\n",
       " 'TAX-44575': ['AMMOXID-PWY'],\n",
       " 'TAX-916': ['AMMOXID-PWY'],\n",
       " 'TAX-436308': ['AMMOXID-PWY', 'PWY-8067'],\n",
       " 'TAX-35799': ['AMMOXID-PWY'],\n",
       " 'TAX-1231': ['AMMOXID-PWY', 'HEMESYN2-PWY'],\n",
       " 'TAX-71281': ['AMMOXID-PWY'],\n",
       " 'ORG-5975': ['AMMOXID-PWY'],\n",
       " 'TAX-363278': ['P303-PWY'],\n",
       " 'TAX-174632': ['P303-PWY'],\n",
       " 'TAX-247490': ['P303-PWY'],\n",
       " 'TAX-174633': ['P303-PWY'],\n",
       " 'TAX-237368': ['P303-PWY'],\n",
       " 'TAX-236757': ['P303-PWY'],\n",
       " 'TAX-511': ['PWY-2242',\n",
       "  'PWY-4521',\n",
       "  'PWY-7429',\n",
       "  'PWY-5026',\n",
       "  'P621-PWY',\n",
       "  'PWY-8085',\n",
       "  'PWY-8133',\n",
       "  'PWY-5358'],\n",
       " 'ORG-6014': ['PWY-2242'],\n",
       " 'TAX-60520': ['PWY-6011'],\n",
       " 'TAX-23207': ['PWY-6011'],\n",
       " 'TAX-59405': ['BENZCOA-PWY',\n",
       "  '2AMINOBENZDEG-PWY',\n",
       "  'PWY-283',\n",
       "  'CENTBENZCOA-PWY',\n",
       "  'PWY-5177',\n",
       "  'ANAPHENOXI-PWY',\n",
       "  'PHENOLDEG-PWY',\n",
       "  'PWY-1341',\n",
       "  'PWY-81',\n",
       "  'PWY-5184'],\n",
       " 'TAX-6344': ['PWY-7383', 'PWY-7384', 'PWY-5888', 'PWY-7389'],\n",
       " 'TAX-6252': ['PWY-7383', 'PWY-7384', 'PWY-5109', 'PWY-5889', 'PWY-7389'],\n",
       " 'TAX-6253': ['PWY-7383', 'PWY-7384', 'PWY-5109', 'PWY-5889', 'PWY-7389'],\n",
       " 'TAX-141464': ['PWY-7383', 'PWY-7389'],\n",
       " 'TAX-29159': ['PWY-7383', 'PWY-7384', 'PWY-7351', 'PWY-5888', 'PWY-7389'],\n",
       " 'TAX-6549': ['PWY-7383', 'PWY-7389'],\n",
       " 'TAX-6550': ['PWY-7383', 'PWY-7384', 'PWY-5888', 'PWY-7389'],\n",
       " 'TAX-29158': ['PWY-7383', 'PWY-7389'],\n",
       " 'TAX-6551': ['PWY-7383', 'PWY-7389'],\n",
       " 'TAX-6446': ['PWY-7383', 'PWY-7384', 'PWY-7389'],\n",
       " 'TAX-1549217': ['PWY-7599', 'PWY-7736'],\n",
       " 'TAX-43767': ['PWY-6944',\n",
       "  'PWY-6945',\n",
       "  'PWY-5783',\n",
       "  'PWY-6580',\n",
       "  'PWY-6928',\n",
       "  'PWY-6937',\n",
       "  'PWY-6943'],\n",
       " 'TAX-685727': ['PWY-6944', 'PWY-6945', 'PWY-6928', 'PWY-6937', 'PWY-6943'],\n",
       " 'TAX-101510': ['PWY-6944',\n",
       "  'PWY5F9-12',\n",
       "  'PWY-6945',\n",
       "  'PWY-7772',\n",
       "  'PWY-2421',\n",
       "  'PWY5F9-3233',\n",
       "  'PWY-6928',\n",
       "  'PWY-7098'],\n",
       " 'TAX-441625': ['PWY-6944', 'PWY-6945', 'PWY-6928'],\n",
       " 'ORG-6191': ['PWY-6944', 'PWY-6937', 'PWY-6943'],\n",
       " 'TAX-465721': ['PWY-8152', 'PWY-8154', 'PWY-8155'],\n",
       " 'TAX-157592': ['PWY-8152', 'PWY-8151'],\n",
       " 'TAX-42323': ['PWY-7986'],\n",
       " 'TAX-669': ['PWY-7986', 'PWY-6157', 'PWY-6154', 'PWY-7723', 'TRYPDEG-PWY'],\n",
       " 'TAX-48026': ['PWY-8476', 'PWY-5365'],\n",
       " 'TAX-4041': ['PWY-8476', 'PWY-5365'],\n",
       " 'TAX-4043': ['PWY-8476',\n",
       "  'PWY-6010',\n",
       "  'PWY-5363',\n",
       "  'PWY-7398',\n",
       "  'PWY-2083',\n",
       "  'PWY-5365',\n",
       "  'PWY-5060',\n",
       "  'PWY-6239',\n",
       "  'PWY-5388',\n",
       "  'PWY-7397',\n",
       "  'PWY-5113',\n",
       "  'PWY-5114'],\n",
       " 'TAX-54394': ['PWY-6533'],\n",
       " 'TAX-278934': ['PWY-6533'],\n",
       " 'TAX-622617': ['PWY-6533', 'PWY-6532'],\n",
       " 'TAX-173681': ['PWY-6533'],\n",
       " 'TAX-70412': ['PWY-6533'],\n",
       " 'TAX-622618': ['PWY-6533', 'PWY-6532'],\n",
       " 'ORG-6141': ['PWY-6533'],\n",
       " 'ORG-6142': ['PWY-6533'],\n",
       " 'ORG-6140': ['PWY-6533'],\n",
       " 'TAX-304422': ['PWY-8344'],\n",
       " 'TAX-2779804': ['PWY-8344'],\n",
       " 'TAX-1245512': ['PWY-8040', 'PWY-8044'],\n",
       " 'TAX-3724': ['PWY-7679', 'PWY-7678', 'PWY-5152', 'PWY1F-823'],\n",
       " 'TAX-4121': ['PWY-5286', 'PWY-5313', 'PWY-5310', 'PWY-5312'],\n",
       " 'TAX-867926': ['PWY-5125'],\n",
       " 'TAX-3311': ['PWY-5125',\n",
       "  'PWY1F-FLAVSYN',\n",
       "  'PWY-3101',\n",
       "  'PWY-8077',\n",
       "  'PWY1F-823',\n",
       "  'PWY-5123'],\n",
       " 'TAX-18794': ['PWY-5125'],\n",
       " 'TAX-103355': ['PWY-5125'],\n",
       " 'TAX-55190': ['PWY-5153', 'PWY-5307', 'PWY-8340', 'PWY-5310'],\n",
       " 'TAX-180763': ['PWY-5153'],\n",
       " 'TAX-266265': ['PWY-6079', 'PWY-1361', 'PWY-1723', 'TRPCAT-PWY'],\n",
       " 'TAX-333': ['PWY-6079', 'PWY-6157', 'TRPIAACAT-PWY', 'AST-PWY', 'TRPCAT-PWY'],\n",
       " 'TAX-305': ['PWY-6079',\n",
       "  'PWY-6854',\n",
       "  'TRPCAT-PWY',\n",
       "  'PYRIDNUCSYN-PWY',\n",
       "  'PWY-8008',\n",
       "  'PWY-7849'],\n",
       " 'TAX-146923': ['PWY-6079', 'TRPCAT-PWY'],\n",
       " 'TAX-2021': ['PWY-6079', 'TRPCAT-PWY'],\n",
       " 'TAX-279': ['PWY-6079',\n",
       "  'CYCLOHEXANOL-OXIDATION-PWY',\n",
       "  'TRPCAT-PWY',\n",
       "  'PWY-5358'],\n",
       " 'TAX-56448': ['PWY-6079', 'TRPCAT-PWY', 'PWY-5653', 'NADSYN-PWY'],\n",
       " 'TAX-59406': ['PWY-6077',\n",
       "  '2AMINOBENZDEG-PWY',\n",
       "  'PWY-283',\n",
       "  'PWY-1361',\n",
       "  'ANAPHENOXI-PWY',\n",
       "  'PWY0-321',\n",
       "  'PWY-1341',\n",
       "  'PWY-5184'],\n",
       " 'TAX-420246': ['PWY-6504', 'PWY-6505'],\n",
       " 'TAX-1888': ['PWY-8374', 'PWY-7564', 'PWY-5805'],\n",
       " 'TAX-1889': ['PWY-8374'],\n",
       " 'TAX-68180': ['PWY-8374'],\n",
       " 'TAX-53450': ['PWY-8374', 'PWY-7938'],\n",
       " 'TAX-1298930': ['PWY-8374'],\n",
       " 'TAX-861065': ['PWY-8374'],\n",
       " 'TAX-298378': ['PWY-7667'],\n",
       " 'TAX-37334': ['PWY-6010', 'PWY-5105', 'PWY-6239', 'PWY-5094'],\n",
       " 'TAX-189007': ['PWY-7253', 'PWY-7252'],\n",
       " 'TAX-207920': ['PWY-8361'],\n",
       " 'TAX-64518': ['PWY-5353', 'PWY-7053', 'PWY-5663', 'PWY-66', 'PWY-6940'],\n",
       " 'TAX-3218': ['PWY-5353',\n",
       "  'PWY-7053',\n",
       "  'PWY-6653',\n",
       "  'PWY-5998',\n",
       "  'PWY-6958',\n",
       "  'PWY-7158'],\n",
       " 'TAX-365033': ['PWY-7583'],\n",
       " 'TAX-5756': ['PWY-7601'],\n",
       " 'TAX-37099': ['PWY-7601', 'PWY-7053', 'PWY-7602'],\n",
       " 'TAX-298111': ['PWY-7601', 'PWY-7053', 'PWY-7602'],\n",
       " 'TAX-561169': ['PWY-7601', 'PWY-7053', 'PWY-7602'],\n",
       " 'TAX-54248': ['PWY-6711', 'PWY-6664', 'PWY-8115', 'PWY-8125'],\n",
       " 'TAX-160233': ['PWY-6711', 'PWY-5101', 'PWY-8125'],\n",
       " 'TAX-56636': ['PWY-7923',\n",
       "  'PWY-6350',\n",
       "  'PWY-8365',\n",
       "  'PWY-6664',\n",
       "  'PWY-8010',\n",
       "  'PWY-3081',\n",
       "  'PWY-8125',\n",
       "  'PWY-6545'],\n",
       " 'TAX-70771': ['PWY-7923', 'P23-PWY'],\n",
       " 'TAX-2277': ['PWY-7923', 'P23-PWY', 'PWY-5332', 'PWY-6969'],\n",
       " 'TAX-121277': ['PWY-7923'],\n",
       " 'TAX-13773': ['PWY-7923', 'PWY-8125', 'PWY-6545'],\n",
       " 'TAX-145263': ['PWY-6350', 'PWY-6141', 'PWY-6349', 'PWY-7867'],\n",
       " 'TAX-48027': ['PWY-7631', 'PWY-7629'],\n",
       " 'TAX-4222': ['PWY-7631',\n",
       "  'PWY-3941',\n",
       "  'TRIGLSYN-PWY',\n",
       "  'PWY-6804',\n",
       "  'PWY-5995',\n",
       "  'PWY-5147',\n",
       "  'PWY-6803',\n",
       "  'PWY-7026'],\n",
       " 'TAX-205692': ['PWY-7631'],\n",
       " 'TAX-33125': ['PWY-6684', 'PWY-7901'],\n",
       " 'ORG-6249': ['PWY-7431'],\n",
       " 'TAX-32247': ['PWY-6316', 'PWY-5393'],\n",
       " 'TAX-920': ['PWY-8101',\n",
       "  'PWY-4521',\n",
       "  'PWY-6692',\n",
       "  'P301-PWY',\n",
       "  'PWY-6818',\n",
       "  'P222-PWY',\n",
       "  'PWY-5285',\n",
       "  'PWY-5276',\n",
       "  'FESULFOX-PWY',\n",
       "  'PWY-5332',\n",
       "  'PWY-5294',\n",
       "  'PWY-6327',\n",
       "  'PWY-5359',\n",
       "  'THIOSULFOX-PWY',\n",
       "  'PWY-5303',\n",
       "  'PWY-8273'],\n",
       " 'TAX-1118153': ['PWY1YI0-1'],\n",
       " 'TAX-13821': ['PWY1YI0-1', 'PWY-6745'],\n",
       " 'TAX-84588': ['PWY1YI0-1',\n",
       "  'PWY1ZNC-1',\n",
       "  'PWY-8270',\n",
       "  'PWY-8271',\n",
       "  'PWY2PN3-7',\n",
       "  'PWY-7579',\n",
       "  'PWY1YI0-7',\n",
       "  'PWY1YI0-2',\n",
       "  'PWY1YI0-8',\n",
       "  'PWY1YI0-3'],\n",
       " 'TAX-85682': ['PWY-4601'],\n",
       " 'TAX-309797': ['PWY-4601'],\n",
       " 'TAX-49338': ['PWY-4601', 'PWY-6994'],\n",
       " 'TAX-94122': ['PWY-4601', 'PWY-7077'],\n",
       " 'TAX-56698': ['PWY-4601'],\n",
       " 'TAX-44674': ['PWY-4601'],\n",
       " 'TAX-85683': ['PWY-4601'],\n",
       " 'TAX-2214': ['PWY-8266',\n",
       "  'PWY-6349',\n",
       "  'PWY-6643',\n",
       "  'PWY-8414',\n",
       "  'PWY-7977',\n",
       "  'PWY-6994',\n",
       "  'METH-ACETATE-PWY',\n",
       "  'PWY-5248',\n",
       "  'PWY-5258',\n",
       "  'PWY-5259',\n",
       "  'CO2FORM-PWY',\n",
       "  'PWY-5247',\n",
       "  'PWY-5260',\n",
       "  'PWY-5250',\n",
       "  'PWY-8125',\n",
       "  'PWY-6830'],\n",
       " 'TAX-477184': ['PWY-4521'],\n",
       " 'TAX-76588': ['PWY-4521',\n",
       "  'PWY-5285',\n",
       "  'SULFUROX-PWY',\n",
       "  'PWY-6327',\n",
       "  'THIOSULFOX-PWY'],\n",
       " 'TAX-512030': ['PWY-4521'],\n",
       " 'TAX-87883': ['PWY-4521', 'PWY-8318'],\n",
       " 'TAX-204773': ['PWY-4521'],\n",
       " 'TAX-375569': ['PWY-4521'],\n",
       " 'TAX-94626': ['PWY-4521'],\n",
       " 'TAX-477228': ['PWY-4521'],\n",
       " 'TAX-1125847': ['PWY-4521'],\n",
       " 'TAX-430451': ['PWY-4521'],\n",
       " 'TAX-639283': ['PWY-4521'],\n",
       " 'TAX-271': ['PWY-4521',\n",
       "  'ARGSYNBSUB-PWY',\n",
       "  'ARGASEDEG-PWY',\n",
       "  'PWY-5839',\n",
       "  'MENAQUINONESYN-PWY',\n",
       "  'PWY-5783',\n",
       "  'PWY-5840',\n",
       "  'PWY-5838',\n",
       "  'PWY-2622'],\n",
       " 'TAX-274': ['PWY-4521',\n",
       "  'PWY-8147',\n",
       "  'PWY-6262',\n",
       "  'PWY490-4',\n",
       "  'ASPARAGINE-DEG1-PWY',\n",
       "  'PWY-3081',\n",
       "  'PWY-5656',\n",
       "  'PWY-5839',\n",
       "  'PWY-5783',\n",
       "  'PWY-5840',\n",
       "  'PWY-5838',\n",
       "  'PWY-6263',\n",
       "  'PWY-7904',\n",
       "  'PWY-7090'],\n",
       " 'ORG-6018': ['P482-PWY'],\n",
       " 'TAX-3711': ['PWY-2261', 'PWYQT-4476', 'PWY-5464'],\n",
       " 'TAX-3038': ['PWY-2261'],\n",
       " 'ORG-5897': ['PWY-2261'],\n",
       " 'TAX-10141': ['PWY-6370',\n",
       "  'PWY-5525',\n",
       "  'PWY-5874',\n",
       "  'HISHP-PWY',\n",
       "  'PWY-6318',\n",
       "  'PWY-7894',\n",
       "  'PWY-4921',\n",
       "  'LARABITOLUTIL-PWY'],\n",
       " 'TAX-209559': ['PWY-7549'],\n",
       " 'TAX-4472': ['SULFMETII-PWY'],\n",
       " 'TAX-80863': ['SULFMETII-PWY'],\n",
       " 'ORG-6016': ['SULFMETII-PWY', 'PWY-5703'],\n",
       " 'TAX-384': ['PWY-6683',\n",
       "  'PWY-6157',\n",
       "  'PWY-5417',\n",
       "  'PWY-7789',\n",
       "  'PWY-5025',\n",
       "  'PWY-6825',\n",
       "  'PWY-2661'],\n",
       " 'TAX-380': ['PWY-6683', 'P562-PWY'],\n",
       " 'TAX-394': ['PWY-6683', 'PWY-6056', 'PWY-2661'],\n",
       " 'TAX-273121': ['PWY1ZNC-1'],\n",
       " 'TAX-44155': ['PWY-5288'],\n",
       " 'TAX-44745': ['PWY-5288'],\n",
       " 'TAX-113211': ['PWY-7636'],\n",
       " 'TAX-151078': ['PWY-7636', 'PWY-5291'],\n",
       " 'TAX-407019': ['PWY-7623'],\n",
       " 'TAX-1355329': ['PWY-7623'],\n",
       " 'TAX-34371': ['PWY-7080'],\n",
       " 'TAX-69773': ['PWY-7080', 'PWY-7079'],\n",
       " 'TAX-350623': ['PWY-8327'],\n",
       " 'TAX-83263': ['P141-PWY', 'PWY-6965', 'PWY-6021', 'PWY-6962', 'PWY-6968'],\n",
       " 'TAX-150723': ['P141-PWY'],\n",
       " 'TAX-37928': ['P141-PWY', 'PWY-5805', 'PWY-5265', 'PWY-6386'],\n",
       " 'TAX-213071': ['P141-PWY'],\n",
       " 'TAX-290340': ['P141-PWY', 'PWY-5724'],\n",
       " 'TAX-47660': ['P141-PWY', 'PWY-8025', 'PWY-5724'],\n",
       " 'ORG-6020': ['PWY-5727'],\n",
       " 'TAX-134561': ['PWY-5731'],\n",
       " 'TAX-5382': ['PWY-7518'],\n",
       " 'TAX-80604': ['PWY-7518'],\n",
       " 'ORG-6292': ['PWY-7739'],\n",
       " 'ORG-6293': ['PWY-7739'],\n",
       " 'TAX-675526': ['PWY-7407', 'PWY-8383'],\n",
       " 'ORG-6248': ['PWY-7405'],\n",
       " 'TAX-5580': ['PWY-7665', 'PWY-6713'],\n",
       " 'TAX-1806334': ['PWY-8033'],\n",
       " 'TAX-68270': ['PWY-8033', 'PWY-8034', 'PWY-8035'],\n",
       " 'TAX-66431': ['PWY-8033'],\n",
       " 'TAX-5518': ['PWY-7695', 'PWY-7711', 'PWY-7712', 'PWY-7713', 'PWY-7715'],\n",
       " 'TAX-4151': ['PWY-1901', 'PWY-6444'],\n",
       " 'TAX-644': ['PWY-6157',\n",
       "  'PWY-5852',\n",
       "  'TRYPDEG-PWY',\n",
       "  'MENAQUINONESYN-PWY',\n",
       "  'PWY-5783',\n",
       "  'PWY-5938',\n",
       "  'PWY-5939',\n",
       "  'P125-PWY',\n",
       "  'PWY-5861',\n",
       "  'PWY-5838',\n",
       "  'UBISYN-PWY',\n",
       "  'PWY-6708'],\n",
       " 'TAX-668': ['PWY-6157', 'PWY-6154', 'PWY-7723', 'PWY-5674', 'PWY-6151'],\n",
       " 'TAX-549': ['PWY-6157',\n",
       "  'PWY-7706',\n",
       "  'PWY-5120',\n",
       "  'TRPIAACAT-PWY',\n",
       "  'PWY-7165',\n",
       "  'PWY-2301',\n",
       "  'PWY-7392',\n",
       "  'PWY-5944',\n",
       "  'PWY-6288'],\n",
       " 'TAX-66271': ['PWY-6157'],\n",
       " 'TAX-837': ['PWY-6153',\n",
       "  'P163-PWY',\n",
       "  'PWY-8277',\n",
       "  'PWY-4921',\n",
       "  'PWY-5327',\n",
       "  'PWY-7090',\n",
       "  'PWY-8229'],\n",
       " 'TAX-243277': ['PWY-7621',\n",
       "  'PWY-6902',\n",
       "  'PWY-6906',\n",
       "  'PWY-8284-1',\n",
       "  'PWY-8378',\n",
       "  'PWY2G6Z-4',\n",
       "  'PWY2G6Z-2'],\n",
       " 'TAX-127906': ['PWY-7621', 'PWY-5739', 'TYRFUMCAT-PWY', 'PWY-7323'],\n",
       " 'TAX-38783': ['PWY-7473',\n",
       "  'PWY-7474',\n",
       "  'PWY-7468',\n",
       "  'PWY-8028',\n",
       "  'PWY-7475',\n",
       "  'PWY-7463',\n",
       "  'PWY-7251',\n",
       "  'PWY-7476'],\n",
       " 'TAX-4498': ['PWY-8157',\n",
       "  'PWY-5086',\n",
       "  'PWY-862',\n",
       "  'PWY-5083',\n",
       "  'PWY-4702',\n",
       "  'PWY-6305',\n",
       "  'PWY-6917',\n",
       "  'PWY-6015'],\n",
       " 'TAX-3999': ['PWY-5379', 'PWY-5884'],\n",
       " ...}"
      ]
     },
     "execution_count": 4,
     "metadata": {},
     "output_type": "execute_result"
    }
   ],
   "execution_count": 4
  },
  {
   "metadata": {
    "ExecuteTime": {
     "end_time": "2024-05-12T15:39:42.326926Z",
     "start_time": "2024-05-12T15:39:42.318121Z"
    }
   },
   "cell_type": "code",
   "source": [
    "class SimpleTripletDataset(Dataset):\n",
    "    def __init__(self):\n",
    "        self.organism_pathways = species\n",
    "        self.organisms = list(species.keys())\n",
    "        self.pathways = set(pathways_df.index)\n",
    "        \n",
    "    def __len__(self):\n",
    "        return len(self.organisms)\n",
    "    \n",
    "    def __getitem__(self, idx):\n",
    "        org = self.organisms[idx]\n",
    "        org_pathways = self.organism_pathways[org]\n",
    "    \n",
    "        pos_pathway = random.choice(org_pathways)\n",
    "        neg_pathway = random.choice(list(self.pathways - set(org_pathways)))\n",
    "        \n",
    "        return org, pos_pathway, neg_pathway\n",
    "        \n",
    "        \n",
    "dataset = SimpleTripletDataset()\n",
    "loader = DataLoader(dataset, batch_size=4, shuffle=True)\n",
    "\n",
    "for org, pos, neg in loader:\n",
    "    print(\"Organism:\", org)\n",
    "    print(\"Positive Pathway:\", pos)\n",
    "    print(\"Negative Pathway:\", neg)\n",
    "    break\n",
    "    # Break here just to avoid long output; remove it in actual usage"
   ],
   "id": "bd63fb2c485cc07b",
   "outputs": [
    {
     "name": "stdout",
     "output_type": "stream",
     "text": [
      "Organism: ('TAX-876169', 'ORG-6201', 'TAX-169679', 'TAX-3983')\n",
      "Positive Pathway: ('PWY-8038', 'PWY-6996', 'PWY-6590', 'PWY-3121')\n",
      "Negative Pathway: ('PWY-8159', 'PWY-5788', 'PWY-7929', 'PWY-5203')\n"
     ]
    }
   ],
   "execution_count": 5
  },
  {
   "metadata": {
    "ExecuteTime": {
     "end_time": "2024-05-12T15:39:45.958792Z",
     "start_time": "2024-05-12T15:39:42.939434Z"
    }
   },
   "cell_type": "code",
   "source": [
    "def make_pathway_graph(\n",
    "        pathway_id: str,\n",
    "):\n",
    "    try:\n",
    "        pathway = pathways_df.loc[pathway_id]\n",
    "    except KeyError:\n",
    "        return None, [], []\n",
    "    \n",
    "    try:\n",
    "        reactions = reactions_df.loc[pathway[\"Reaction-List\"]]\n",
    "    except KeyError:\n",
    "        return None, [], []\n",
    "    #reactions = reactions_df.loc[pathway[\"Reaction-List\"]]\n",
    "        \n",
    "    edges, compound_v, reaction_v = set(), set(), set()\n",
    "    for i, reaction in reactions.iterrows():\n",
    "        reaction_v.add(i)\n",
    "        for l in reaction[\"Left\"]:\n",
    "            compound_v.add(l)\n",
    "            edges.add((l, i))\n",
    "        for r in reaction[\"Right\"]:\n",
    "            compound_v.add(r)\n",
    "            edges.add((i, r))\n",
    "    \n",
    "    vertices = list(compound_v) + list(reaction_v)\n",
    "    adj_matrix = np.zeros((len(vertices), len(vertices)))\n",
    "    for edge in edges:\n",
    "        adj_matrix[vertices.index(edge[0]), vertices.index(edge[1])] = 1\n",
    "        \n",
    "    return adj_matrix, list(reaction_v), list(compound_v)\n",
    "\n",
    "substrates_count = {}\n",
    "\n",
    "for substrates in reactions_df[\"Substrates\"]:\n",
    "    for substrate in substrates:\n",
    "        if substrate in substrates_count:\n",
    "            substrates_count[substrate] += 1\n",
    "        else:\n",
    "            substrates_count[substrate] = 1\n",
    "            \n",
    "compound_popularity = pd.Series(substrates_count, name=\"Count\").sort_values(ascending=False)\n",
    "\n",
    "def remove_compounds_from_graph(\n",
    "        adj_matrix, reactions, compounds, to_remove\n",
    "):\n",
    "    all_labels = compounds + reactions\n",
    "    indices_to_keep = [i for (i, x) in enumerate(all_labels) if x not in to_remove]\n",
    "    \n",
    "    adj_matrix = adj_matrix[indices_to_keep, :][:, indices_to_keep]\n",
    "    reactions = [r for r in reactions if r not in to_remove]\n",
    "    compounds = [c for c in compounds if c not in to_remove]\n",
    "    \n",
    "    return adj_matrix, reactions, compounds\n",
    "\n",
    "from skfp.fingerprints import AtomPairFingerprint\n",
    "\n",
    "# TOTAL BASELINE \n",
    "def embed_graph(compounds):\n",
    "    compounds = [compounds_df.loc[c, \"SMILES\"] for c in compounds if c in compounds_df.index]\n",
    "    \n",
    "    try:\n",
    "        fp = AtomPairFingerprint(n_jobs=-1)\n",
    "        result = fp.transform(compounds).sum(axis=0)\n",
    "    except:\n",
    "        return np.zeros(2048)\n",
    "    \n",
    "    return result\n",
    "\n"
   ],
   "id": "b9fe9155ded3c3e3",
   "outputs": [],
   "execution_count": 6
  },
  {
   "metadata": {
    "ExecuteTime": {
     "end_time": "2024-05-12T15:43:02.205809Z",
     "start_time": "2024-05-12T15:39:52.913249Z"
    }
   },
   "cell_type": "code",
   "source": [
    "cached_base_embeddings = {}\n",
    "\n",
    "for pwy in tqdm.tqdm(pathways_df.index):\n",
    "    graph = make_pathway_graph(pwy)\n",
    "    if graph is None:\n",
    "        continue\n",
    "    adj_matrix, reactions, compounds = graph\n",
    "    embedding = embed_graph(compounds)\n",
    "    cached_base_embeddings[pwy] = torch.tensor(embedding.astype(np.float32))"
   ],
   "id": "f09b58966f48de24",
   "outputs": [
    {
     "name": "stderr",
     "output_type": "stream",
     "text": [
      "  0%|          | 0/3538 [00:00<?, ?it/s][17:39:54] WARNING: not removing hydrogen atom without neighbors\n",
      "  0%|          | 1/3538 [00:01<1:42:24,  1.74s/it][17:39:54] WARNING: not removing hydrogen atom without neighbors\n",
      "[17:39:54] WARNING: not removing hydrogen atom without neighbors\n",
      "[17:39:54] WARNING: not removing hydrogen atom without neighbors\n",
      "[17:39:54] WARNING: not removing hydrogen atom without neighbors\n",
      "[17:39:54] WARNING: not removing hydrogen atom without neighbors\n",
      "[17:39:54] WARNING: not removing hydrogen atom without neighbors\n",
      "  0%|          | 8/3538 [00:01<10:05,  5.83it/s]  [17:39:54] WARNING: not removing hydrogen atom without neighbors\n",
      "[17:39:54] WARNING: not removing hydrogen atom without neighbors\n",
      "[17:39:54] WARNING: not removing hydrogen atom without neighbors\n",
      "[17:39:54] WARNING: not removing hydrogen atom without neighbors\n",
      "[17:39:54] WARNING: not removing hydrogen atom without neighbors\n",
      "  0%|          | 16/3538 [00:01<04:33, 12.89it/s][17:39:54] WARNING: not removing hydrogen atom without neighbors\n",
      "[17:39:54] WARNING: not removing hydrogen atom without neighbors\n",
      "[17:39:54] WARNING: not removing hydrogen atom without neighbors\n",
      "[17:39:54] WARNING: not removing hydrogen atom without neighbors\n",
      "[17:39:54] WARNING: not removing hydrogen atom without neighbors\n",
      "  1%|          | 24/3538 [00:02<02:48, 20.89it/s][17:39:55] WARNING: not removing hydrogen atom without neighbors\n",
      "[17:39:55] WARNING: not removing hydrogen atom without neighbors\n",
      "[17:39:55] WARNING: not removing hydrogen atom without neighbors\n",
      "[17:39:55] WARNING: not removing hydrogen atom without neighbors\n",
      "[17:39:55] WARNING: not removing hydrogen atom without neighbors\n",
      "[17:39:55] WARNING: not removing hydrogen atom without neighbors\n",
      "[17:39:55] WARNING: not removing hydrogen atom without neighbors\n",
      "[17:39:55] WARNING: not removing hydrogen atom without neighbors\n",
      "  1%|          | 32/3538 [00:02<02:00, 29.12it/s][17:39:55] WARNING: not removing hydrogen atom without neighbors\n",
      "[17:39:55] WARNING: not removing hydrogen atom without neighbors\n",
      "[17:39:55] WARNING: not removing hydrogen atom without neighbors\n",
      "[17:39:55] WARNING: not removing hydrogen atom without neighbors\n",
      "[17:39:55] WARNING: not removing hydrogen atom without neighbors\n",
      "[17:39:55] WARNING: not removing hydrogen atom without neighbors\n",
      "[17:39:55] WARNING: not removing hydrogen atom without neighbors\n",
      "  1%|          | 40/3538 [00:02<01:33, 37.45it/s][17:39:55] WARNING: not removing hydrogen atom without neighbors\n",
      "[17:39:55] WARNING: not removing hydrogen atom without neighbors\n",
      "[17:39:55] WARNING: not removing hydrogen atom without neighbors\n",
      "  1%|▏         | 47/3538 [00:02<01:22, 42.54it/s][17:39:55] WARNING: not removing hydrogen atom without neighbors\n",
      "[17:39:55] WARNING: not removing hydrogen atom without neighbors\n",
      "[17:39:55] WARNING: not removing hydrogen atom without neighbors\n",
      "[17:39:55] WARNING: not removing hydrogen atom without neighbors\n",
      "[17:39:55] WARNING: not removing hydrogen atom without neighbors\n",
      "[17:39:55] WARNING: not removing hydrogen atom without neighbors\n",
      "[17:39:55] WARNING: not removing hydrogen atom without neighbors\n",
      "[17:39:55] WARNING: not removing hydrogen atom without neighbors\n",
      "  2%|▏         | 55/3538 [00:02<01:10, 49.30it/s][17:39:55] WARNING: not removing hydrogen atom without neighbors\n",
      "[17:39:55] WARNING: not removing hydrogen atom without neighbors\n",
      "[17:39:55] WARNING: not removing hydrogen atom without neighbors\n",
      "[17:39:55] WARNING: not removing hydrogen atom without neighbors\n",
      "[17:39:55] WARNING: not removing hydrogen atom without neighbors\n",
      "[17:39:55] WARNING: not removing hydrogen atom without neighbors\n",
      "[17:39:55] WARNING: not removing hydrogen atom without neighbors\n",
      "[17:39:55] WARNING: not removing hydrogen atom without neighbors\n",
      "  2%|▏         | 63/3538 [00:02<01:03, 54.79it/s][17:39:55] WARNING: not removing hydrogen atom without neighbors\n",
      "[17:39:55] WARNING: not removing hydrogen atom without neighbors\n",
      "[17:39:55] WARNING: not removing hydrogen atom without neighbors\n",
      "[17:39:55] WARNING: not removing hydrogen atom without neighbors\n",
      "[17:39:55] WARNING: not removing hydrogen atom without neighbors\n",
      "[17:39:55] WARNING: not removing hydrogen atom without neighbors\n",
      "[17:39:55] WARNING: not removing hydrogen atom without neighbors\n",
      "  2%|▏         | 71/3538 [00:02<00:57, 60.00it/s][17:39:55] WARNING: not removing hydrogen atom without neighbors\n",
      "[17:39:55] WARNING: not removing hydrogen atom without neighbors\n",
      "[17:39:55] WARNING: not removing hydrogen atom without neighbors\n",
      "[17:39:55] WARNING: not removing hydrogen atom without neighbors\n",
      "[17:39:55] WARNING: not removing hydrogen atom without neighbors\n",
      "[17:39:55] WARNING: not removing hydrogen atom without neighbors\n",
      "[17:39:55] WARNING: not removing hydrogen atom without neighbors\n",
      "[17:39:55] WARNING: not removing hydrogen atom without neighbors\n",
      "  2%|▏         | 79/3538 [00:02<00:54, 63.88it/s][17:39:55] WARNING: not removing hydrogen atom without neighbors\n",
      "[17:39:55] WARNING: not removing hydrogen atom without neighbors\n",
      "[17:39:55] WARNING: not removing hydrogen atom without neighbors\n",
      "[17:39:55] WARNING: not removing hydrogen atom without neighbors\n",
      "[17:39:55] WARNING: not removing hydrogen atom without neighbors\n",
      "[17:39:55] WARNING: not removing hydrogen atom without neighbors\n",
      "[17:39:55] WARNING: not removing hydrogen atom without neighbors\n",
      "  2%|▏         | 88/3538 [00:02<00:50, 68.34it/s][17:39:55] WARNING: not removing hydrogen atom without neighbors\n",
      "[17:39:55] WARNING: not removing hydrogen atom without neighbors\n",
      "[17:39:55] Conflicting single bond directions around double bond at index 18.\n",
      "[17:39:55]   BondStereo set to STEREONONE and single bond directions set to NONE.\n",
      "[17:39:55] Conflicting single bond directions around double bond at index 18.\n",
      "[17:39:55]   BondStereo set to STEREONONE and single bond directions set to NONE.\n",
      "[17:39:55] WARNING: not removing hydrogen atom without neighbors\n",
      "[17:39:55] WARNING: not removing hydrogen atom without neighbors\n",
      "[17:39:55] WARNING: not removing hydrogen atom without neighbors\n",
      "[17:39:55] WARNING: not removing hydrogen atom without neighbors\n",
      "[17:39:55] WARNING: not removing hydrogen atom without neighbors\n",
      "  3%|▎         | 96/3538 [00:03<00:49, 69.56it/s][17:39:55] WARNING: not removing hydrogen atom without neighbors\n",
      "[17:39:56] WARNING: not removing hydrogen atom without neighbors\n",
      "[17:39:56] WARNING: not removing hydrogen atom without neighbors\n",
      "[17:39:56] WARNING: not removing hydrogen atom without neighbors\n",
      "[17:39:56] WARNING: not removing hydrogen atom without neighbors\n",
      "[17:39:56] Conflicting single bond directions around double bond at index 12.\n",
      "[17:39:56]   BondStereo set to STEREONONE and single bond directions set to NONE.\n",
      "[17:39:56] Conflicting single bond directions around double bond at index 17.\n",
      "[17:39:56]   BondStereo set to STEREONONE and single bond directions set to NONE.\n",
      "[17:39:56] Conflicting single bond directions around double bond at index 12.\n",
      "[17:39:56]   BondStereo set to STEREONONE and single bond directions set to NONE.\n",
      "[17:39:56] Conflicting single bond directions around double bond at index 17.\n",
      "[17:39:56]   BondStereo set to STEREONONE and single bond directions set to NONE.\n",
      "[17:39:56] Conflicting single bond directions around double bond at index 12.\n",
      "[17:39:56]   BondStereo set to STEREONONE and single bond directions set to NONE.\n",
      "[17:39:56] Conflicting single bond directions around double bond at index 17.\n",
      "[17:39:56]   BondStereo set to STEREONONE and single bond directions set to NONE.\n",
      "[17:39:56] Conflicting single bond directions around double bond at index 9.\n",
      "[17:39:56]   BondStereo set to STEREONONE and single bond directions set to NONE.\n",
      "[17:39:56] Conflicting single bond directions around double bond at index 14.\n",
      "[17:39:56]   BondStereo set to STEREONONE and single bond directions set to NONE.\n",
      "[17:39:56] Conflicting single bond directions around double bond at index 19.\n",
      "[17:39:56]   BondStereo set to STEREONONE and single bond directions set to NONE.\n",
      "[17:39:56] Conflicting single bond directions around double bond at index 9.\n",
      "[17:39:56]   BondStereo set to STEREONONE and single bond directions set to NONE.\n",
      "[17:39:56] Conflicting single bond directions around double bond at index 14.\n",
      "[17:39:56]   BondStereo set to STEREONONE and single bond directions set to NONE.\n",
      "[17:39:56] Conflicting single bond directions around double bond at index 19.\n",
      "[17:39:56]   BondStereo set to STEREONONE and single bond directions set to NONE.\n",
      "[17:39:56] Conflicting single bond directions around double bond at index 13.\n",
      "[17:39:56]   BondStereo set to STEREONONE and single bond directions set to NONE.\n",
      "[17:39:56] Conflicting single bond directions around double bond at index 18.\n",
      "[17:39:56]   BondStereo set to STEREONONE and single bond directions set to NONE.\n",
      "[17:39:56] Conflicting single bond directions around double bond at index 23.\n",
      "[17:39:56]   BondStereo set to STEREONONE and single bond directions set to NONE.\n",
      "[17:39:56] WARNING: not removing hydrogen atom without neighbors\n",
      "[17:39:56] WARNING: not removing hydrogen atom without neighbors\n",
      "[17:39:56] WARNING: not removing hydrogen atom without neighbors\n",
      "  3%|▎         | 104/3538 [00:03<00:47, 71.64it/s][17:39:56] WARNING: not removing hydrogen atom without neighbors\n",
      "[17:39:56] WARNING: not removing hydrogen atom without neighbors\n",
      "[17:39:56] WARNING: not removing hydrogen atom without neighbors\n",
      "[17:39:56] WARNING: not removing hydrogen atom without neighbors\n",
      "[17:39:56] WARNING: not removing hydrogen atom without neighbors\n",
      "[17:39:56] WARNING: not removing hydrogen atom without neighbors\n",
      "[17:39:56] WARNING: not removing hydrogen atom without neighbors\n",
      "[17:39:56] WARNING: not removing hydrogen atom without neighbors\n",
      "  3%|▎         | 112/3538 [00:03<00:47, 72.74it/s][17:39:56] WARNING: not removing hydrogen atom without neighbors\n",
      "[17:39:56] WARNING: not removing hydrogen atom without neighbors\n",
      "[17:39:56] WARNING: not removing hydrogen atom without neighbors\n",
      "[17:39:56] WARNING: not removing hydrogen atom without neighbors\n",
      "[17:39:56] WARNING: not removing hydrogen atom without neighbors\n",
      "[17:39:56] WARNING: not removing hydrogen atom without neighbors\n",
      "[17:39:56] WARNING: not removing hydrogen atom without neighbors\n",
      "[17:39:56] WARNING: not removing hydrogen atom without neighbors\n",
      "  3%|▎         | 120/3538 [00:03<00:47, 71.29it/s][17:39:56] WARNING: not removing hydrogen atom without neighbors\n",
      "[17:39:56] WARNING: not removing hydrogen atom without neighbors\n",
      "[17:39:56] WARNING: not removing hydrogen atom without neighbors\n",
      "[17:39:56] WARNING: not removing hydrogen atom without neighbors\n",
      "[17:39:56] WARNING: not removing hydrogen atom without neighbors\n",
      "[17:39:56] WARNING: not removing hydrogen atom without neighbors\n",
      "[17:39:56] WARNING: not removing hydrogen atom without neighbors\n",
      "[17:39:56] WARNING: not removing hydrogen atom without neighbors\n",
      "  4%|▎         | 128/3538 [00:03<00:48, 70.28it/s][17:39:56] WARNING: not removing hydrogen atom without neighbors\n",
      "[17:39:56] WARNING: not removing hydrogen atom without neighbors\n",
      "[17:39:56] Conflicting single bond directions around double bond at index 2.\n",
      "[17:39:56]   BondStereo set to STEREONONE and single bond directions set to NONE.\n",
      "[17:39:56] WARNING: not removing hydrogen atom without neighbors\n",
      "[17:39:56] WARNING: not removing hydrogen atom without neighbors\n",
      "[17:39:56] WARNING: not removing hydrogen atom without neighbors\n",
      "[17:39:56] WARNING: not removing hydrogen atom without neighbors\n",
      "[17:39:56] WARNING: not removing hydrogen atom without neighbors\n",
      "[17:39:56] WARNING: not removing hydrogen atom without neighbors\n",
      "  4%|▍         | 136/3538 [00:03<00:47, 71.54it/s][17:39:56] WARNING: not removing hydrogen atom without neighbors\n",
      "[17:39:56] WARNING: not removing hydrogen atom without neighbors\n",
      "[17:39:56] WARNING: not removing hydrogen atom without neighbors\n",
      "[17:39:56] WARNING: not removing hydrogen atom without neighbors\n",
      "[17:39:56] WARNING: not removing hydrogen atom without neighbors\n",
      "[17:39:56] WARNING: not removing hydrogen atom without neighbors\n",
      "[17:39:56] WARNING: not removing hydrogen atom without neighbors\n",
      "[17:39:56] WARNING: not removing hydrogen atom without neighbors\n",
      "  4%|▍         | 144/3538 [00:03<00:47, 71.77it/s][17:39:56] WARNING: not removing hydrogen atom without neighbors\n",
      "[17:39:56] WARNING: not removing hydrogen atom without neighbors\n",
      "[17:39:56] WARNING: not removing hydrogen atom without neighbors\n",
      "[17:39:56] WARNING: not removing hydrogen atom without neighbors\n",
      "[17:39:56] WARNING: not removing hydrogen atom without neighbors\n",
      "[17:39:56] WARNING: not removing hydrogen atom without neighbors\n",
      "[17:39:56] WARNING: not removing hydrogen atom without neighbors\n",
      "[17:39:56] WARNING: not removing hydrogen atom without neighbors\n",
      "  4%|▍         | 152/3538 [00:03<00:47, 71.85it/s][17:39:56] WARNING: not removing hydrogen atom without neighbors\n",
      "[17:39:56] WARNING: not removing hydrogen atom without neighbors\n",
      "[17:39:56] WARNING: not removing hydrogen atom without neighbors\n",
      "[17:39:56] WARNING: not removing hydrogen atom without neighbors\n",
      "[17:39:56] WARNING: not removing hydrogen atom without neighbors\n",
      "[17:39:56] WARNING: not removing hydrogen atom without neighbors\n",
      "[17:39:56] WARNING: not removing hydrogen atom without neighbors\n",
      "  5%|▍         | 162/3538 [00:03<00:42, 78.71it/s][17:39:56] WARNING: not removing hydrogen atom without neighbors\n",
      "[17:39:56] WARNING: not removing hydrogen atom without neighbors\n",
      "[17:39:56] WARNING: not removing hydrogen atom without neighbors\n",
      "[17:39:56] WARNING: not removing hydrogen atom without neighbors\n",
      "[17:39:56] WARNING: not removing hydrogen atom without neighbors\n",
      "[17:39:56] WARNING: not removing hydrogen atom without neighbors\n",
      "[17:39:56] WARNING: not removing hydrogen atom without neighbors\n",
      "  5%|▍         | 170/3538 [00:04<00:43, 76.56it/s][17:39:56] WARNING: not removing hydrogen atom without neighbors\n",
      "[17:39:57] WARNING: not removing hydrogen atom without neighbors\n",
      "[17:39:57] WARNING: not removing hydrogen atom without neighbors\n",
      "[17:39:57] WARNING: not removing hydrogen atom without neighbors\n",
      "[17:39:57] WARNING: not removing hydrogen atom without neighbors\n",
      "[17:39:57] Conflicting single bond directions around double bond at index 3.\n",
      "[17:39:57]   BondStereo set to STEREONONE and single bond directions set to NONE.\n",
      "[17:39:57] WARNING: not removing hydrogen atom without neighbors\n",
      "[17:39:57] WARNING: not removing hydrogen atom without neighbors\n",
      "[17:39:57] WARNING: not removing hydrogen atom without neighbors\n",
      "  5%|▌         | 178/3538 [00:04<00:45, 74.02it/s][17:39:57] WARNING: not removing hydrogen atom without neighbors\n",
      "[17:39:57] WARNING: not removing hydrogen atom without neighbors\n",
      "[17:39:57] WARNING: not removing hydrogen atom without neighbors\n",
      "[17:39:57] WARNING: not removing hydrogen atom without neighbors\n",
      "[17:39:57] WARNING: not removing hydrogen atom without neighbors\n",
      "[17:39:57] WARNING: not removing hydrogen atom without neighbors\n",
      "  5%|▌         | 186/3538 [00:04<00:45, 73.69it/s][17:39:57] WARNING: not removing hydrogen atom without neighbors\n",
      "[17:39:57] WARNING: not removing hydrogen atom without neighbors\n",
      "[17:39:57] WARNING: not removing hydrogen atom without neighbors\n",
      "[17:39:57] WARNING: not removing hydrogen atom without neighbors\n",
      "[17:39:57] WARNING: not removing hydrogen atom without neighbors\n",
      "[17:39:57] WARNING: not removing hydrogen atom without neighbors\n",
      "[17:39:57] WARNING: not removing hydrogen atom without neighbors\n",
      "[17:39:57] WARNING: not removing hydrogen atom without neighbors\n",
      "  5%|▌         | 194/3538 [00:04<00:45, 73.64it/s][17:39:57] WARNING: not removing hydrogen atom without neighbors\n",
      "[17:39:57] WARNING: not removing hydrogen atom without neighbors\n",
      "[17:39:57] WARNING: not removing hydrogen atom without neighbors\n",
      "[17:39:57] WARNING: not removing hydrogen atom without neighbors\n",
      "[17:39:57] WARNING: not removing hydrogen atom without neighbors\n",
      "[17:39:57] WARNING: not removing hydrogen atom without neighbors\n",
      "[17:39:57] WARNING: not removing hydrogen atom without neighbors\n",
      "  6%|▌         | 202/3538 [00:04<00:45, 72.59it/s][17:39:57] WARNING: not removing hydrogen atom without neighbors\n",
      "[17:39:57] WARNING: not removing hydrogen atom without neighbors\n",
      "[17:39:57] WARNING: not removing hydrogen atom without neighbors\n",
      "[17:39:57] WARNING: not removing hydrogen atom without neighbors\n",
      "[17:39:57] WARNING: not removing hydrogen atom without neighbors\n",
      "[17:39:57] WARNING: not removing hydrogen atom without neighbors\n",
      "[17:39:57] WARNING: not removing hydrogen atom without neighbors\n",
      "  6%|▌         | 211/3538 [00:04<00:44, 75.19it/s][17:39:57] WARNING: not removing hydrogen atom without neighbors\n",
      "[17:39:57] WARNING: not removing hydrogen atom without neighbors\n",
      "[17:39:57] WARNING: not removing hydrogen atom without neighbors\n",
      "[17:39:57] WARNING: not removing hydrogen atom without neighbors\n",
      "[17:39:57] WARNING: not removing hydrogen atom without neighbors\n",
      "[17:39:57] WARNING: not removing hydrogen atom without neighbors\n",
      "  6%|▌         | 220/3538 [00:04<00:42, 77.62it/s][17:39:57] WARNING: not removing hydrogen atom without neighbors\n",
      "[17:39:57] WARNING: not removing hydrogen atom without neighbors\n",
      "[17:39:57] SMILES Parse Error: syntax error while parsing: CC(/C=C/C=C(C)/C=C/C=C(C)/C(O[R1])=O)=C\\C=C\\C=C(C)\\C=C\\C=C(C)\\C=C\\C=C(C)\\C(O[R2])=O\n",
      "[17:39:57] SMILES Parse Error: Failed parsing SMILES 'CC(/C=C/C=C(C)/C=C/C=C(C)/C(O[R1])=O)=C\\C=C\\C=C(C)\\C=C\\C=C(C)\\C=C\\C=C(C)\\C(O[R2])=O' for input: 'CC(/C=C/C=C(C)/C=C/C=C(C)/C(O[R1])=O)=C\\C=C\\C=C(C)\\C=C\\C=C(C)\\C=C\\C=C(C)\\C(O[R2])=O'\n",
      "[17:39:57] Conflicting single bond directions around double bond at index 12.\n",
      "[17:39:57]   BondStereo set to STEREONONE and single bond directions set to NONE.\n",
      "[17:39:57] Conflicting single bond directions around double bond at index 7.\n",
      "[17:39:57]   BondStereo set to STEREONONE and single bond directions set to NONE.\n",
      "[17:39:57] Conflicting single bond directions around double bond at index 12.\n",
      "[17:39:57]   BondStereo set to STEREONONE and single bond directions set to NONE.\n",
      "[17:39:57] Conflicting single bond directions around double bond at index 12.\n",
      "[17:39:57]   BondStereo set to STEREONONE and single bond directions set to NONE.\n",
      "[17:39:57] Conflicting single bond directions around double bond at index 7.\n",
      "[17:39:57]   BondStereo set to STEREONONE and single bond directions set to NONE.\n",
      "[17:39:57] Conflicting single bond directions around double bond at index 12.\n",
      "[17:39:57]   BondStereo set to STEREONONE and single bond directions set to NONE.\n",
      "[17:39:58] WARNING: not removing hydrogen atom without neighbors\n",
      "[17:39:58] WARNING: not removing hydrogen atom without neighbors\n",
      "[17:39:58] WARNING: not removing hydrogen atom without neighbors\n",
      "[17:39:58] WARNING: not removing hydrogen atom without neighbors\n",
      "[17:39:58] WARNING: not removing hydrogen atom without neighbors\n",
      "[17:39:58] WARNING: not removing hydrogen atom without neighbors\n",
      "  6%|▋         | 228/3538 [00:05<02:47, 19.75it/s][17:39:58] WARNING: not removing hydrogen atom without neighbors\n",
      "[17:39:58] WARNING: not removing hydrogen atom without neighbors\n",
      "[17:39:58] WARNING: not removing hydrogen atom without neighbors\n",
      "[17:39:58] WARNING: not removing hydrogen atom without neighbors\n",
      "[17:39:58] WARNING: not removing hydrogen atom without neighbors\n",
      "[17:39:58] WARNING: not removing hydrogen atom without neighbors\n",
      "[17:39:58] WARNING: not removing hydrogen atom without neighbors\n",
      "[17:39:58] WARNING: not removing hydrogen atom without neighbors\n",
      "  7%|▋         | 236/3538 [00:05<02:11, 25.04it/s][17:39:58] WARNING: not removing hydrogen atom without neighbors\n",
      "[17:39:58] WARNING: not removing hydrogen atom without neighbors\n",
      "[17:39:58] WARNING: not removing hydrogen atom without neighbors\n",
      "[17:39:58] WARNING: not removing hydrogen atom without neighbors\n",
      "[17:39:58] WARNING: not removing hydrogen atom without neighbors\n",
      "[17:39:58] WARNING: not removing hydrogen atom without neighbors\n",
      "[17:39:59] WARNING: not removing hydrogen atom without neighbors\n",
      "[17:39:59] WARNING: not removing hydrogen atom without neighbors\n",
      "  7%|▋         | 244/3538 [00:06<01:46, 31.03it/s][17:39:59] WARNING: not removing hydrogen atom without neighbors\n",
      "[17:39:59] WARNING: not removing hydrogen atom without neighbors\n",
      "[17:39:59] WARNING: not removing hydrogen atom without neighbors\n",
      "[17:39:59] WARNING: not removing hydrogen atom without neighbors\n",
      "[17:39:59] WARNING: not removing hydrogen atom without neighbors\n",
      "  7%|▋         | 252/3538 [00:06<01:27, 37.51it/s][17:39:59] WARNING: not removing hydrogen atom without neighbors\n",
      "[17:39:59] WARNING: not removing hydrogen atom without neighbors\n",
      "[17:39:59] WARNING: not removing hydrogen atom without neighbors\n",
      "[17:39:59] WARNING: not removing hydrogen atom without neighbors\n",
      "[17:39:59] WARNING: not removing hydrogen atom without neighbors\n",
      "[17:39:59] WARNING: not removing hydrogen atom without neighbors\n",
      "[17:39:59] WARNING: not removing hydrogen atom without neighbors\n",
      "[17:39:59] WARNING: not removing hydrogen atom without neighbors\n",
      "  7%|▋         | 260/3538 [00:06<01:15, 43.67it/s][17:39:59] WARNING: not removing hydrogen atom without neighbors\n",
      "[17:39:59] WARNING: not removing hydrogen atom without neighbors\n",
      "[17:39:59] WARNING: not removing hydrogen atom without neighbors\n",
      "[17:39:59] WARNING: not removing hydrogen atom without neighbors\n",
      "[17:39:59] WARNING: not removing hydrogen atom without neighbors\n",
      "[17:39:59] WARNING: not removing hydrogen atom without neighbors\n",
      "[17:39:59] WARNING: not removing hydrogen atom without neighbors\n",
      "[17:39:59] WARNING: not removing hydrogen atom without neighbors\n",
      "  8%|▊         | 268/3538 [00:06<01:05, 50.09it/s][17:39:59] WARNING: not removing hydrogen atom without neighbors\n",
      "[17:39:59] WARNING: not removing hydrogen atom without neighbors\n",
      "[17:39:59] WARNING: not removing hydrogen atom without neighbors\n",
      "[17:39:59] WARNING: not removing hydrogen atom without neighbors\n",
      "[17:39:59] WARNING: not removing hydrogen atom without neighbors\n",
      "[17:39:59] WARNING: not removing hydrogen atom without neighbors\n",
      "  8%|▊         | 276/3538 [00:06<00:59, 54.88it/s][17:39:59] WARNING: not removing hydrogen atom without neighbors\n",
      "[17:39:59] WARNING: not removing hydrogen atom without neighbors\n",
      "[17:39:59] WARNING: not removing hydrogen atom without neighbors\n",
      "[17:39:59] WARNING: not removing hydrogen atom without neighbors\n",
      "[17:39:59] WARNING: not removing hydrogen atom without neighbors\n",
      "[17:39:59] WARNING: not removing hydrogen atom without neighbors\n",
      "[17:39:59] WARNING: not removing hydrogen atom without neighbors\n",
      "[17:39:59] WARNING: not removing hydrogen atom without neighbors\n",
      "  8%|▊         | 284/3538 [00:06<00:54, 59.53it/s][17:39:59] WARNING: not removing hydrogen atom without neighbors\n",
      "[17:39:59] WARNING: not removing hydrogen atom without neighbors\n",
      "[17:39:59] WARNING: not removing hydrogen atom without neighbors\n",
      "[17:39:59] WARNING: not removing hydrogen atom without neighbors\n",
      "[17:39:59] WARNING: not removing hydrogen atom without neighbors\n",
      "[17:39:59] WARNING: not removing hydrogen atom without neighbors\n",
      "[17:39:59] WARNING: not removing hydrogen atom without neighbors\n",
      "[17:39:59] WARNING: not removing hydrogen atom without neighbors\n",
      "  8%|▊         | 292/3538 [00:06<00:51, 63.51it/s][17:39:59] WARNING: not removing hydrogen atom without neighbors\n",
      "[17:39:59] WARNING: not removing hydrogen atom without neighbors\n",
      "[17:39:59] WARNING: not removing hydrogen atom without neighbors\n",
      "[17:39:59] WARNING: not removing hydrogen atom without neighbors\n",
      "[17:39:59] WARNING: not removing hydrogen atom without neighbors\n",
      "[17:39:59] WARNING: not removing hydrogen atom without neighbors\n",
      "[17:39:59] WARNING: not removing hydrogen atom without neighbors\n",
      "  8%|▊         | 300/3538 [00:06<00:48, 66.21it/s][17:39:59] WARNING: not removing hydrogen atom without neighbors\n",
      "[17:39:59] WARNING: not removing hydrogen atom without neighbors\n",
      "[17:39:59] WARNING: not removing hydrogen atom without neighbors\n",
      "[17:39:59] WARNING: not removing hydrogen atom without neighbors\n",
      "[17:39:59] WARNING: not removing hydrogen atom without neighbors\n",
      "[17:39:59] WARNING: not removing hydrogen atom without neighbors\n",
      "[17:39:59] WARNING: not removing hydrogen atom without neighbors\n",
      "[17:39:59] WARNING: not removing hydrogen atom without neighbors\n",
      "  9%|▊         | 308/3538 [00:06<00:46, 68.82it/s][17:39:59] WARNING: not removing hydrogen atom without neighbors\n",
      "[17:39:59] WARNING: not removing hydrogen atom without neighbors\n",
      "[17:39:59] WARNING: not removing hydrogen atom without neighbors\n",
      "[17:39:59] WARNING: not removing hydrogen atom without neighbors\n",
      "[17:39:59] WARNING: not removing hydrogen atom without neighbors\n",
      "[17:39:59] WARNING: not removing hydrogen atom without neighbors\n",
      "[17:39:59] WARNING: not removing hydrogen atom without neighbors\n",
      "[17:39:59] WARNING: not removing hydrogen atom without neighbors\n",
      "  9%|▉         | 316/3538 [00:07<00:45, 70.43it/s][17:40:00] WARNING: not removing hydrogen atom without neighbors\n",
      "[17:40:00] WARNING: not removing hydrogen atom without neighbors\n",
      "[17:40:00] WARNING: not removing hydrogen atom without neighbors\n",
      "[17:40:00] WARNING: not removing hydrogen atom without neighbors\n",
      "[17:40:00] WARNING: not removing hydrogen atom without neighbors\n",
      "[17:40:00] WARNING: not removing hydrogen atom without neighbors\n",
      "[17:40:00] WARNING: not removing hydrogen atom without neighbors\n",
      "[17:40:00] WARNING: not removing hydrogen atom without neighbors\n",
      "  9%|▉         | 324/3538 [00:07<00:45, 71.04it/s][17:40:00] WARNING: not removing hydrogen atom without neighbors\n",
      "[17:40:00] WARNING: not removing hydrogen atom without neighbors\n",
      "[17:40:00] WARNING: not removing hydrogen atom without neighbors\n",
      "[17:40:00] WARNING: not removing hydrogen atom without neighbors\n",
      "[17:40:00] WARNING: not removing hydrogen atom without neighbors\n",
      "[17:40:00] WARNING: not removing hydrogen atom without neighbors\n",
      "  9%|▉         | 332/3538 [00:07<00:44, 71.62it/s][17:40:00] WARNING: not removing hydrogen atom without neighbors\n",
      "[17:40:00] WARNING: not removing hydrogen atom without neighbors\n",
      "[17:40:00] WARNING: not removing hydrogen atom without neighbors\n",
      "[17:40:00] WARNING: not removing hydrogen atom without neighbors\n",
      "[17:40:00] WARNING: not removing hydrogen atom without neighbors\n",
      " 10%|▉         | 340/3538 [00:07<00:44, 72.43it/s][17:40:00] WARNING: not removing hydrogen atom without neighbors\n",
      "[17:40:00] WARNING: not removing hydrogen atom without neighbors\n",
      " 10%|▉         | 348/3538 [00:07<00:45, 70.53it/s][17:40:00] WARNING: not removing hydrogen atom without neighbors\n",
      "[17:40:00] WARNING: not removing hydrogen atom without neighbors\n",
      "[17:40:00] WARNING: not removing hydrogen atom without neighbors\n",
      "[17:40:00] WARNING: not removing hydrogen atom without neighbors\n",
      "[17:40:00] WARNING: not removing hydrogen atom without neighbors\n",
      "[17:40:00] WARNING: not removing hydrogen atom without neighbors\n",
      " 10%|█         | 357/3538 [00:07<00:42, 74.71it/s][17:40:00] WARNING: not removing hydrogen atom without neighbors\n",
      "[17:40:00] WARNING: not removing hydrogen atom without neighbors\n",
      "[17:40:00] SMILES Parse Error: syntax error while parsing: CCC(=O)CC(=O)CC(=O)CC(=O)CC(=O)CC(=O)CC(=O)CC(=O)CC(=O)CC(SCCNC(=O)CCNC([C@H](O)C(C)(C)COP(=O)([O-])OC[C@H](N[a\n",
      "[17:40:00] SMILES Parse Error: Failed parsing SMILES 'CCC(=O)CC(=O)CC(=O)CC(=O)CC(=O)CC(=O)CC(=O)CC(=O)CC(=O)CC(SCCNC(=O)CCNC([C@H](O)C(C)(C)COP(=O)([O-])OC[C@H](N[a' for input: 'CCC(=O)CC(=O)CC(=O)CC(=O)CC(=O)CC(=O)CC(=O)CC(=O)CC(=O)CC(SCCNC(=O)CCNC([C@H](O)C(C)(C)COP(=O)([O-])OC[C@H](N[a'\n",
      "[17:40:00] SMILES Parse Error: syntax error while parsing: CCC(=O)CC(=O)CC(=O)CC(=O)CC(=O)CC(O)CC(=O)CC(=O)CC(=O)CC(SCCNC(=O)CCNC([C@H](O)C(C)(C)COP(=O)([O-])OC[C@H](N[a\n",
      "[17:40:00] SMILES Parse Error: Failed parsing SMILES 'CCC(=O)CC(=O)CC(=O)CC(=O)CC(=O)CC(O)CC(=O)CC(=O)CC(=O)CC(SCCNC(=O)CCNC([C@H](O)C(C)(C)COP(=O)([O-])OC[C@H](N[a' for input: 'CCC(=O)CC(=O)CC(=O)CC(=O)CC(=O)CC(O)CC(=O)CC(=O)CC(=O)CC(SCCNC(=O)CCNC([C@H](O)C(C)(C)COP(=O)([O-])OC[C@H](N[a'\n",
      "[17:40:00] WARNING: not removing hydrogen atom without neighbors\n",
      "[17:40:01] WARNING: not removing hydrogen atom without neighbors\n",
      "[17:40:01] WARNING: not removing hydrogen atom without neighbors\n",
      "[17:40:01] WARNING: not removing hydrogen atom without neighbors\n",
      " 10%|█         | 365/3538 [00:08<02:45, 19.16it/s][17:40:01] WARNING: not removing hydrogen atom without neighbors\n",
      "[17:40:01] WARNING: not removing hydrogen atom without neighbors\n",
      "[17:40:01] WARNING: not removing hydrogen atom without neighbors\n",
      "[17:40:01] WARNING: not removing hydrogen atom without neighbors\n",
      "[17:40:01] WARNING: not removing hydrogen atom without neighbors\n",
      "[17:40:01] WARNING: not removing hydrogen atom without neighbors\n",
      "[17:40:01] WARNING: not removing hydrogen atom without neighbors\n",
      "[17:40:01] WARNING: not removing hydrogen atom without neighbors\n",
      " 11%|█         | 373/3538 [00:08<02:09, 24.50it/s][17:40:01] WARNING: not removing hydrogen atom without neighbors\n",
      "[17:40:01] WARNING: not removing hydrogen atom without neighbors\n",
      "[17:40:01] WARNING: not removing hydrogen atom without neighbors\n",
      "[17:40:01] WARNING: not removing hydrogen atom without neighbors\n",
      " 11%|█         | 381/3538 [00:08<01:43, 30.62it/s][17:40:01] WARNING: not removing hydrogen atom without neighbors\n",
      "[17:40:01] WARNING: not removing hydrogen atom without neighbors\n",
      "[17:40:01] WARNING: not removing hydrogen atom without neighbors\n",
      "[17:40:01] WARNING: not removing hydrogen atom without neighbors\n",
      "[17:40:02] WARNING: not removing hydrogen atom without neighbors\n",
      "[17:40:02] WARNING: not removing hydrogen atom without neighbors\n",
      " 11%|█         | 389/3538 [00:09<01:25, 36.88it/s][17:40:02] WARNING: not removing hydrogen atom without neighbors\n",
      "[17:40:02] WARNING: not removing hydrogen atom without neighbors\n",
      "[17:40:02] WARNING: not removing hydrogen atom without neighbors\n",
      "[17:40:02] WARNING: not removing hydrogen atom without neighbors\n",
      "[17:40:02] SMILES Parse Error: syntax error while parsing: CC3(\\C8(/[C@@H](CCC([O-])=O)C(C)(C)C4(\\[N+](\\[Co-2]25([N+]7(/[C@]([C@@H]1([C@@H]([C@](CCC(=O)[O-])(C)C(\\N12)=3)CC([O-])=O))(C)[C@@](C)(CC(N)=O)[C@H](CCC(=O)[O-])C(\\C(/C)=C6([C@@](C)(CC(N)=O)[C@@H](C(\\C=4)=[N+]56)CCC([O-])=O))=7)))=8))).[a\n",
      "[17:40:02] SMILES Parse Error: Failed parsing SMILES 'CC3(\\C8(/[C@@H](CCC([O-])=O)C(C)(C)C4(\\[N+](\\[Co-2]25([N+]7(/[C@]([C@@H]1([C@@H]([C@](CCC(=O)[O-])(C)C(\\N12)=3)CC([O-])=O))(C)[C@@](C)(CC(N)=O)[C@H](CCC(=O)[O-])C(\\C(/C)=C6([C@@](C)(CC(N)=O)[C@@H](C(\\C=4)=[N+]56)CCC([O-])=O))=7)))=8))).[a' for input: 'CC3(\\C8(/[C@@H](CCC([O-])=O)C(C)(C)C4(\\[N+](\\[Co-2]25([N+]7(/[C@]([C@@H]1([C@@H]([C@](CCC(=O)[O-])(C)C(\\N12)=3)CC([O-])=O))(C)[C@@](C)(CC(N)=O)[C@H](CCC(=O)[O-])C(\\C(/C)=C6([C@@](C)(CC(N)=O)[C@@H](C(\\C=4)=[N+]56)CCC([O-])=O))=7)))=8))).[a'\n",
      "[17:40:02] SMILES Parse Error: syntax error while parsing: CC3(\\C8(/[C@@H](CCC([O-])=O)[C@](C)(C)C4(\\[N+](\\[Co-3]25([N+]7(/[C@]([C@@H]1([C@@H]([C@](CCC(=O)[O-])(C)C(\\N12)=3)CC([O-])=O))(C)[C@@](C)(CC(N)=O)[C@H](CCC(=O)[O-])C(\\C(/C)=C6([C@@](C)(CC(N)=O)[C@@H](C(\\C=4)=[N+]56)CCC([O-])=O))=7)))=8))).[a\n",
      "[17:40:02] SMILES Parse Error: Failed parsing SMILES 'CC3(\\C8(/[C@@H](CCC([O-])=O)[C@](C)(C)C4(\\[N+](\\[Co-3]25([N+]7(/[C@]([C@@H]1([C@@H]([C@](CCC(=O)[O-])(C)C(\\N12)=3)CC([O-])=O))(C)[C@@](C)(CC(N)=O)[C@H](CCC(=O)[O-])C(\\C(/C)=C6([C@@](C)(CC(N)=O)[C@@H](C(\\C=4)=[N+]56)CCC([O-])=O))=7)))=8))).[a' for input: 'CC3(\\C8(/[C@@H](CCC([O-])=O)[C@](C)(C)C4(\\[N+](\\[Co-3]25([N+]7(/[C@]([C@@H]1([C@@H]([C@](CCC(=O)[O-])(C)C(\\N12)=3)CC([O-])=O))(C)[C@@](C)(CC(N)=O)[C@H](CCC(=O)[O-])C(\\C(/C)=C6([C@@](C)(CC(N)=O)[C@@H](C(\\C=4)=[N+]56)CCC([O-])=O))=7)))=8))).[a'\n",
      "[17:40:02] WARNING: not removing hydrogen atom without neighbors\n",
      " 11%|█         | 396/3538 [00:09<01:18, 39.97it/s][17:40:03] WARNING: not removing hydrogen atom without neighbors\n",
      "[17:40:03] SMILES Parse Error: syntax error while parsing: C[C@@H](O)CNC(=O)CC[C@]1(C)([C@@H](CC(=O)N)[C@@H]8([C@@]6(C)([C@@](C)(CC(N)=O)[C@H](CCC(N)=O)C7(\\C(/C)=C4([C@@](C)(CC(N)=O)[C@H](CCC(N)=O)C5(\\C=C2(C(C)(C)[C@H](CCC(N)=O)C3(\\C(/C)=C1/N([Co-2]([N+]\\2=3)([N+]4=5)[N+]\\6=7)8)))))))).[a\n",
      "[17:40:03] SMILES Parse Error: Failed parsing SMILES 'C[C@@H](O)CNC(=O)CC[C@]1(C)([C@@H](CC(=O)N)[C@@H]8([C@@]6(C)([C@@](C)(CC(N)=O)[C@H](CCC(N)=O)C7(\\C(/C)=C4([C@@](C)(CC(N)=O)[C@H](CCC(N)=O)C5(\\C=C2(C(C)(C)[C@H](CCC(N)=O)C3(\\C(/C)=C1/N([Co-2]([N+]\\2=3)([N+]4=5)[N+]\\6=7)8)))))))).[a' for input: 'C[C@@H](O)CNC(=O)CC[C@]1(C)([C@@H](CC(=O)N)[C@@H]8([C@@]6(C)([C@@](C)(CC(N)=O)[C@H](CCC(N)=O)C7(\\C(/C)=C4([C@@](C)(CC(N)=O)[C@H](CCC(N)=O)C5(\\C=C2(C(C)(C)[C@H](CCC(N)=O)C3(\\C(/C)=C1/N([Co-2]([N+]\\2=3)([N+]4=5)[N+]\\6=7)8)))))))).[a'\n",
      "[17:40:03] SMILES Parse Error: syntax error while parsing: C[C@@H](O)CNC(=O)CC[C@]1(C)([C@@H](CC(=O)N)[C@@H]8([C@@]6(C)([C@@](C)(CC(N)=O)[C@H](CCC(N)=O)C7(\\C(/C)=C4([C@@](C)(CC(N)=O)[C@H](CCC(N)=O)C5(\\C=C2(C(C)(C)[C@H](CCC(N)=O)C3(\\C(/C)=C1/N([Co-3]([N+]\\2=3)([N+]4=5)[N+]\\6=7)8)))))))).[a\n",
      "[17:40:03] SMILES Parse Error: Failed parsing SMILES 'C[C@@H](O)CNC(=O)CC[C@]1(C)([C@@H](CC(=O)N)[C@@H]8([C@@]6(C)([C@@](C)(CC(N)=O)[C@H](CCC(N)=O)C7(\\C(/C)=C4([C@@](C)(CC(N)=O)[C@H](CCC(N)=O)C5(\\C=C2(C(C)(C)[C@H](CCC(N)=O)C3(\\C(/C)=C1/N([Co-3]([N+]\\2=3)([N+]4=5)[N+]\\6=7)8)))))))).[a' for input: 'C[C@@H](O)CNC(=O)CC[C@]1(C)([C@@H](CC(=O)N)[C@@H]8([C@@]6(C)([C@@](C)(CC(N)=O)[C@H](CCC(N)=O)C7(\\C(/C)=C4([C@@](C)(CC(N)=O)[C@H](CCC(N)=O)C5(\\C=C2(C(C)(C)[C@H](CCC(N)=O)C3(\\C(/C)=C1/N([Co-3]([N+]\\2=3)([N+]4=5)[N+]\\6=7)8)))))))).[a'\n",
      "[17:40:04] WARNING: not removing hydrogen atom without neighbors\n",
      "[17:40:04] SMILES Parse Error: syntax error while parsing: C[C@@H](O)CNC(=O)CC[C@]1(C)([C@@H](CC(=O)N)[C@@H]8([C@@]6(C)([C@@](C)(CC(N)=O)[C@H](CCC(N)=O)C7(\\C(/C)=C4([C@@](C)(CC(N)=O)[C@H](CCC(N)=O)C5(\\C=C2(C(C)(C)[C@H](CCC(N)=O)C3(\\C(/C)=C1/N([Co-3]([N+]\\2=3)([N+]4=5)[N+]\\6=7)8)))))))).[a\n",
      "[17:40:04] SMILES Parse Error: Failed parsing SMILES 'C[C@@H](O)CNC(=O)CC[C@]1(C)([C@@H](CC(=O)N)[C@@H]8([C@@]6(C)([C@@](C)(CC(N)=O)[C@H](CCC(N)=O)C7(\\C(/C)=C4([C@@](C)(CC(N)=O)[C@H](CCC(N)=O)C5(\\C=C2(C(C)(C)[C@H](CCC(N)=O)C3(\\C(/C)=C1/N([Co-3]([N+]\\2=3)([N+]4=5)[N+]\\6=7)8)))))))).[a' for input: 'C[C@@H](O)CNC(=O)CC[C@]1(C)([C@@H](CC(=O)N)[C@@H]8([C@@]6(C)([C@@](C)(CC(N)=O)[C@H](CCC(N)=O)C7(\\C(/C)=C4([C@@](C)(CC(N)=O)[C@H](CCC(N)=O)C5(\\C=C2(C(C)(C)[C@H](CCC(N)=O)C3(\\C(/C)=C1/N([Co-3]([N+]\\2=3)([N+]4=5)[N+]\\6=7)8)))))))).[a'\n",
      "[17:40:05] WARNING: not removing hydrogen atom without neighbors\n",
      "[17:40:05] WARNING: not removing hydrogen atom without neighbors\n",
      "[17:40:05] WARNING: not removing hydrogen atom without neighbors\n",
      "[17:40:05] WARNING: not removing hydrogen atom without neighbors\n",
      " 11%|█▏        | 403/3538 [00:12<07:24,  7.06it/s][17:40:05] WARNING: not removing hydrogen atom without neighbors\n",
      "[17:40:05] WARNING: not removing hydrogen atom without neighbors\n",
      "[17:40:05] WARNING: not removing hydrogen atom without neighbors\n",
      "[17:40:05] WARNING: not removing hydrogen atom without neighbors\n",
      "[17:40:05] WARNING: not removing hydrogen atom without neighbors\n",
      "[17:40:05] WARNING: not removing hydrogen atom without neighbors\n",
      "[17:40:05] WARNING: not removing hydrogen atom without neighbors\n",
      " 12%|█▏        | 411/3538 [00:12<05:17,  9.84it/s][17:40:05] WARNING: not removing hydrogen atom without neighbors\n",
      "[17:40:05] WARNING: not removing hydrogen atom without neighbors\n",
      "[17:40:05] WARNING: not removing hydrogen atom without neighbors\n",
      "[17:40:05] WARNING: not removing hydrogen atom without neighbors\n",
      " 12%|█▏        | 419/3538 [00:12<03:52, 13.43it/s][17:40:05] WARNING: not removing hydrogen atom without neighbors\n",
      "[17:40:05] WARNING: not removing hydrogen atom without neighbors\n",
      "[17:40:05] WARNING: not removing hydrogen atom without neighbors\n",
      "[17:40:05] WARNING: not removing hydrogen atom without neighbors\n",
      "[17:40:05] WARNING: not removing hydrogen atom without neighbors\n",
      "[17:40:05] WARNING: not removing hydrogen atom without neighbors\n",
      " 12%|█▏        | 427/3538 [00:12<02:53, 17.90it/s][17:40:05] WARNING: not removing hydrogen atom without neighbors\n",
      "[17:40:05] WARNING: not removing hydrogen atom without neighbors\n",
      "[17:40:05] WARNING: not removing hydrogen atom without neighbors\n",
      "[17:40:05] WARNING: not removing hydrogen atom without neighbors\n",
      "[17:40:05] WARNING: not removing hydrogen atom without neighbors\n",
      " 12%|█▏        | 439/3538 [00:12<01:55, 26.77it/s][17:40:05] WARNING: not removing hydrogen atom without neighbors\n",
      "[17:40:05] WARNING: not removing hydrogen atom without neighbors\n",
      "[17:40:05] WARNING: not removing hydrogen atom without neighbors\n",
      "[17:40:05] WARNING: not removing hydrogen atom without neighbors\n",
      "[17:40:05] Conflicting single bond directions around double bond at index 12.\n",
      "[17:40:05]   BondStereo set to STEREONONE and single bond directions set to NONE.\n",
      "[17:40:05] Conflicting single bond directions around double bond at index 17.\n",
      "[17:40:05]   BondStereo set to STEREONONE and single bond directions set to NONE.\n",
      "[17:40:05] Conflicting single bond directions around double bond at index 12.\n",
      "[17:40:05]   BondStereo set to STEREONONE and single bond directions set to NONE.\n",
      "[17:40:05] Conflicting single bond directions around double bond at index 17.\n",
      "[17:40:05]   BondStereo set to STEREONONE and single bond directions set to NONE.\n",
      "[17:40:05] WARNING: not removing hydrogen atom without neighbors\n",
      " 13%|█▎        | 447/3538 [00:12<01:35, 32.24it/s][17:40:05] WARNING: not removing hydrogen atom without neighbors\n",
      "[17:40:05] WARNING: not removing hydrogen atom without neighbors\n",
      "[17:40:05] WARNING: not removing hydrogen atom without neighbors\n",
      "[17:40:05] SMILES Parse Error: syntax error while parsing: CCCC/C=C/C=C/C=C\\CCCCCCCC(=O)[a\n",
      "[17:40:05] SMILES Parse Error: Failed parsing SMILES 'CCCC/C=C/C=C/C=C\\CCCCCCCC(=O)[a' for input: 'CCCC/C=C/C=C/C=C\\CCCCCCCC(=O)[a'\n",
      "[17:40:06] WARNING: not removing hydrogen atom without neighbors\n",
      "[17:40:07] WARNING: not removing hydrogen atom without neighbors\n",
      "[17:40:07] WARNING: not removing hydrogen atom without neighbors\n",
      "[17:40:07] WARNING: not removing hydrogen atom without neighbors\n",
      " 13%|█▎        | 455/3538 [00:14<04:09, 12.34it/s][17:40:07] WARNING: not removing hydrogen atom without neighbors\n",
      "[17:40:07] WARNING: not removing hydrogen atom without neighbors\n",
      "[17:40:08] WARNING: not removing hydrogen atom without neighbors\n",
      "[17:40:08] WARNING: not removing hydrogen atom without neighbors\n",
      "[17:40:08] WARNING: not removing hydrogen atom without neighbors\n",
      " 13%|█▎        | 461/3538 [00:15<05:06, 10.03it/s][17:40:08] WARNING: not removing hydrogen atom without neighbors\n",
      "[17:40:08] WARNING: not removing hydrogen atom without neighbors\n",
      "[17:40:08] WARNING: not removing hydrogen atom without neighbors\n",
      "[17:40:08] WARNING: not removing hydrogen atom without neighbors\n",
      "[17:40:08] WARNING: not removing hydrogen atom without neighbors\n",
      "[17:40:08] WARNING: not removing hydrogen atom without neighbors\n",
      "[17:40:08] WARNING: not removing hydrogen atom without neighbors\n",
      " 13%|█▎        | 471/3538 [00:15<03:29, 14.66it/s][17:40:08] WARNING: not removing hydrogen atom without neighbors\n",
      "[17:40:09] WARNING: not removing hydrogen atom without neighbors\n",
      "[17:40:09] WARNING: not removing hydrogen atom without neighbors\n",
      " 13%|█▎        | 477/3538 [00:16<03:40, 13.87it/s][17:40:09] WARNING: not removing hydrogen atom without neighbors\n",
      "[17:40:09] WARNING: not removing hydrogen atom without neighbors\n",
      "[17:40:09] WARNING: not removing hydrogen atom without neighbors\n",
      "[17:40:09] WARNING: not removing hydrogen atom without neighbors\n",
      "[17:40:09] WARNING: not removing hydrogen atom without neighbors\n",
      "[17:40:09] WARNING: not removing hydrogen atom without neighbors\n",
      "[17:40:09] WARNING: not removing hydrogen atom without neighbors\n",
      " 14%|█▎        | 485/3538 [00:16<02:45, 18.50it/s][17:40:09] WARNING: not removing hydrogen atom without neighbors\n",
      "[17:40:09] WARNING: not removing hydrogen atom without neighbors\n",
      "[17:40:09] WARNING: not removing hydrogen atom without neighbors\n",
      "[17:40:09] WARNING: not removing hydrogen atom without neighbors\n",
      "[17:40:09] WARNING: not removing hydrogen atom without neighbors\n",
      "[17:40:09] WARNING: not removing hydrogen atom without neighbors\n",
      "[17:40:09] WARNING: not removing hydrogen atom without neighbors\n",
      " 14%|█▍        | 493/3538 [00:16<02:06, 24.07it/s][17:40:09] WARNING: not removing hydrogen atom without neighbors\n",
      "[17:40:09] WARNING: not removing hydrogen atom without neighbors\n",
      "[17:40:09] WARNING: not removing hydrogen atom without neighbors\n",
      "[17:40:09] WARNING: not removing hydrogen atom without neighbors\n",
      "[17:40:09] WARNING: not removing hydrogen atom without neighbors\n",
      "[17:40:09] WARNING: not removing hydrogen atom without neighbors\n",
      "[17:40:09] WARNING: not removing hydrogen atom without neighbors\n",
      " 14%|█▍        | 501/3538 [00:16<01:40, 30.24it/s][17:40:09] WARNING: not removing hydrogen atom without neighbors\n",
      "[17:40:09] WARNING: not removing hydrogen atom without neighbors\n",
      "[17:40:09] WARNING: not removing hydrogen atom without neighbors\n",
      "[17:40:09] WARNING: not removing hydrogen atom without neighbors\n",
      "[17:40:09] WARNING: not removing hydrogen atom without neighbors\n",
      "[17:40:09] WARNING: not removing hydrogen atom without neighbors\n",
      "[17:40:09] WARNING: not removing hydrogen atom without neighbors\n",
      "[17:40:09] WARNING: not removing hydrogen atom without neighbors\n",
      " 14%|█▍        | 509/3538 [00:16<01:22, 36.73it/s][17:40:09] SMILES Parse Error: syntax error while parsing: CCCCC\\C=C/C\\C=C/CCCCCCCCCC(=O)[a\n",
      "[17:40:09] SMILES Parse Error: Failed parsing SMILES 'CCCCC\\C=C/C\\C=C/CCCCCCCCCC(=O)[a' for input: 'CCCCC\\C=C/C\\C=C/CCCCCCCCCC(=O)[a'\n",
      "[17:40:09] WARNING: not removing hydrogen atom without neighbors\n",
      "[17:40:10] WARNING: not removing hydrogen atom without neighbors\n",
      "[17:40:10] WARNING: not removing hydrogen atom without neighbors\n",
      " 15%|█▍        | 516/3538 [00:17<03:17, 15.27it/s][17:40:10] WARNING: not removing hydrogen atom without neighbors\n",
      "[17:40:10] WARNING: not removing hydrogen atom without neighbors\n",
      "[17:40:10] WARNING: not removing hydrogen atom without neighbors\n",
      "[17:40:10] WARNING: not removing hydrogen atom without neighbors\n",
      "[17:40:10] WARNING: not removing hydrogen atom without neighbors\n",
      "[17:40:10] WARNING: not removing hydrogen atom without neighbors\n",
      "[17:40:10] WARNING: not removing hydrogen atom without neighbors\n",
      "[17:40:10] WARNING: not removing hydrogen atom without neighbors\n",
      " 15%|█▍        | 526/3538 [00:17<02:18, 21.73it/s][17:40:10] WARNING: not removing hydrogen atom without neighbors\n",
      "[17:40:10] WARNING: not removing hydrogen atom without neighbors\n",
      "[17:40:10] WARNING: not removing hydrogen atom without neighbors\n",
      "[17:40:10] WARNING: not removing hydrogen atom without neighbors\n",
      "[17:40:10] WARNING: not removing hydrogen atom without neighbors\n",
      "[17:40:10] WARNING: not removing hydrogen atom without neighbors\n",
      "[17:40:10] WARNING: not removing hydrogen atom without neighbors\n",
      "[17:40:10] WARNING: not removing hydrogen atom without neighbors\n",
      " 15%|█▌        | 534/3538 [00:17<01:49, 27.40it/s][17:40:10] WARNING: not removing hydrogen atom without neighbors\n",
      "[17:40:10] WARNING: not removing hydrogen atom without neighbors\n",
      "[17:40:10] WARNING: not removing hydrogen atom without neighbors\n",
      "[17:40:10] WARNING: not removing hydrogen atom without neighbors\n",
      "[17:40:10] WARNING: not removing hydrogen atom without neighbors\n",
      "[17:40:10] WARNING: not removing hydrogen atom without neighbors\n",
      "[17:40:11] WARNING: not removing hydrogen atom without neighbors\n",
      "[17:40:11] WARNING: not removing hydrogen atom without neighbors\n",
      " 15%|█▌        | 542/3538 [00:18<01:29, 33.58it/s][17:40:11] WARNING: not removing hydrogen atom without neighbors\n",
      "[17:40:11] WARNING: not removing hydrogen atom without neighbors\n",
      "[17:40:11] WARNING: not removing hydrogen atom without neighbors\n",
      "[17:40:11] WARNING: not removing hydrogen atom without neighbors\n",
      "[17:40:11] WARNING: not removing hydrogen atom without neighbors\n",
      "[17:40:11] WARNING: not removing hydrogen atom without neighbors\n",
      "[17:40:11] WARNING: not removing hydrogen atom without neighbors\n",
      "[17:40:11] WARNING: not removing hydrogen atom without neighbors\n",
      " 16%|█▌        | 552/3538 [00:18<01:09, 42.78it/s][17:40:11] WARNING: not removing hydrogen atom without neighbors\n",
      "[17:40:11] WARNING: not removing hydrogen atom without neighbors\n",
      "[17:40:11] WARNING: not removing hydrogen atom without neighbors\n",
      "[17:40:11] WARNING: not removing hydrogen atom without neighbors\n",
      "[17:40:11] WARNING: not removing hydrogen atom without neighbors\n",
      "[17:40:11] WARNING: not removing hydrogen atom without neighbors\n",
      "[17:40:11] WARNING: not removing hydrogen atom without neighbors\n",
      "[17:40:11] WARNING: not removing hydrogen atom without neighbors\n",
      " 16%|█▌        | 560/3538 [00:18<01:00, 48.88it/s][17:40:11] WARNING: not removing hydrogen atom without neighbors\n",
      "[17:40:11] WARNING: not removing hydrogen atom without neighbors\n",
      "[17:40:11] WARNING: not removing hydrogen atom without neighbors\n",
      "[17:40:11] WARNING: not removing hydrogen atom without neighbors\n",
      "[17:40:11] WARNING: not removing hydrogen atom without neighbors\n",
      "[17:40:11] WARNING: not removing hydrogen atom without neighbors\n",
      " 16%|█▌        | 568/3538 [00:18<00:54, 54.06it/s][17:40:11] Conflicting single bond directions around double bond at index 16.\n",
      "[17:40:11]   BondStereo set to STEREONONE and single bond directions set to NONE.\n",
      "[17:40:11] Conflicting single bond directions around double bond at index 16.\n",
      "[17:40:11]   BondStereo set to STEREONONE and single bond directions set to NONE.\n",
      "[17:40:11] Conflicting single bond directions around double bond at index 17.\n",
      "[17:40:11]   BondStereo set to STEREONONE and single bond directions set to NONE.\n",
      "[17:40:11] WARNING: not removing hydrogen atom without neighbors\n",
      "[17:40:11] WARNING: not removing hydrogen atom without neighbors\n",
      "[17:40:11] WARNING: not removing hydrogen atom without neighbors\n",
      "[17:40:11] WARNING: not removing hydrogen atom without neighbors\n",
      "[17:40:11] WARNING: not removing hydrogen atom without neighbors\n",
      "[17:40:11] WARNING: not removing hydrogen atom without neighbors\n",
      "[17:40:11] WARNING: not removing hydrogen atom without neighbors\n",
      "[17:40:11] WARNING: not removing hydrogen atom without neighbors\n",
      " 16%|█▋        | 576/3538 [00:18<00:50, 58.72it/s][17:40:11] WARNING: not removing hydrogen atom without neighbors\n",
      "[17:40:11] WARNING: not removing hydrogen atom without neighbors\n",
      "[17:40:11] WARNING: not removing hydrogen atom without neighbors\n",
      "[17:40:11] WARNING: not removing hydrogen atom without neighbors\n",
      "[17:40:11] Conflicting single bond directions around double bond at index 17.\n",
      "[17:40:11]   BondStereo set to STEREONONE and single bond directions set to NONE.\n",
      "[17:40:11] WARNING: not removing hydrogen atom without neighbors\n",
      "[17:40:11] WARNING: not removing hydrogen atom without neighbors\n",
      "[17:40:11] WARNING: not removing hydrogen atom without neighbors\n",
      " 17%|█▋        | 585/3538 [00:18<00:46, 63.01it/s][17:40:11] WARNING: not removing hydrogen atom without neighbors\n",
      "[17:40:11] WARNING: not removing hydrogen atom without neighbors\n",
      "[17:40:11] Explicit valence for atom # 55 C, 5, is greater than permitted\n",
      "[17:40:11] Explicit valence for atom # 55 C, 5, is greater than permitted\n",
      "[17:40:11] Explicit valence for atom # 55 C, 5, is greater than permitted\n",
      "[17:40:11] WARNING: not removing hydrogen atom without neighbors\n",
      "[17:40:12] WARNING: not removing hydrogen atom without neighbors\n",
      "[17:40:12] WARNING: not removing hydrogen atom without neighbors\n",
      "[17:40:12] WARNING: not removing hydrogen atom without neighbors\n",
      "[17:40:12] WARNING: not removing hydrogen atom without neighbors\n",
      "[17:40:12] Conflicting single bond directions around double bond at index 12.\n",
      "[17:40:12]   BondStereo set to STEREONONE and single bond directions set to NONE.\n",
      "[17:40:12] Conflicting single bond directions around double bond at index 17.\n",
      "[17:40:12]   BondStereo set to STEREONONE and single bond directions set to NONE.\n",
      "[17:40:12] Conflicting single bond directions around double bond at index 12.\n",
      "[17:40:12]   BondStereo set to STEREONONE and single bond directions set to NONE.\n",
      "[17:40:12] Conflicting single bond directions around double bond at index 12.\n",
      "[17:40:12] Conflicting single bond directions around double bond at index 17.\n",
      "[17:40:12]   BondStereo set to STEREONONE and single bond directions set to NONE.\n",
      "[17:40:12]   BondStereo set to STEREONONE and single bond directions set to NONE.\n",
      "[17:40:12] Conflicting single bond directions around double bond at index 17.\n",
      "[17:40:12]   BondStereo set to STEREONONE and single bond directions set to NONE.\n",
      "[17:40:12] Conflicting single bond directions around double bond at index 9.\n",
      "[17:40:12]   BondStereo set to STEREONONE and single bond directions set to NONE.\n",
      "[17:40:12] Conflicting single bond directions around double bond at index 14.\n",
      "[17:40:12]   BondStereo set to STEREONONE and single bond directions set to NONE.\n",
      "[17:40:12] Conflicting single bond directions around double bond at index 19.\n",
      "[17:40:12]   BondStereo set to STEREONONE and single bond directions set to NONE.\n",
      "[17:40:12] Conflicting single bond directions around double bond at index 9.\n",
      "[17:40:12]   BondStereo set to STEREONONE and single bond directions set to NONE.\n",
      "[17:40:12] Conflicting single bond directions around double bond at index 14.\n",
      "[17:40:12]   BondStereo set to STEREONONE and single bond directions set to NONE.\n",
      "[17:40:12] Conflicting single bond directions around double bond at index 19.\n",
      "[17:40:12]   BondStereo set to STEREONONE and single bond directions set to NONE.\n",
      "[17:40:12] Conflicting single bond directions around double bond at index 9.\n",
      "[17:40:12]   BondStereo set to STEREONONE and single bond directions set to NONE.\n",
      "[17:40:12] Conflicting single bond directions around double bond at index 14.\n",
      "[17:40:12]   BondStereo set to STEREONONE and single bond directions set to NONE.\n",
      "[17:40:12] Conflicting single bond directions around double bond at index 19.\n",
      "[17:40:12]   BondStereo set to STEREONONE and single bond directions set to NONE.\n",
      " 17%|█▋        | 593/3538 [00:19<02:35, 18.89it/s][17:40:12] WARNING: not removing hydrogen atom without neighbors\n",
      "[17:40:12] WARNING: not removing hydrogen atom without neighbors\n",
      "[17:40:12] WARNING: not removing hydrogen atom without neighbors\n",
      "[17:40:12] WARNING: not removing hydrogen atom without neighbors\n",
      "[17:40:12] WARNING: not removing hydrogen atom without neighbors\n",
      " 17%|█▋        | 601/3538 [00:19<02:02, 24.03it/s][17:40:12] WARNING: not removing hydrogen atom without neighbors\n",
      "[17:40:12] WARNING: not removing hydrogen atom without neighbors\n",
      "[17:40:12] WARNING: not removing hydrogen atom without neighbors\n",
      "[17:40:12] WARNING: not removing hydrogen atom without neighbors\n",
      " 17%|█▋        | 611/3538 [00:20<01:30, 32.47it/s][17:40:12] WARNING: not removing hydrogen atom without neighbors\n",
      "[17:40:12] WARNING: not removing hydrogen atom without neighbors\n",
      "[17:40:13] WARNING: not removing hydrogen atom without neighbors\n",
      "[17:40:13] WARNING: not removing hydrogen atom without neighbors\n",
      "[17:40:13] WARNING: not removing hydrogen atom without neighbors\n",
      " 17%|█▋        | 619/3538 [00:20<01:16, 38.27it/s][17:40:13] WARNING: not removing hydrogen atom without neighbors\n",
      "[17:40:13] WARNING: not removing hydrogen atom without neighbors\n",
      "[17:40:13] WARNING: not removing hydrogen atom without neighbors\n",
      "[17:40:13] WARNING: not removing hydrogen atom without neighbors\n",
      "[17:40:13] WARNING: not removing hydrogen atom without neighbors\n",
      " 18%|█▊        | 627/3538 [00:20<01:05, 44.61it/s][17:40:13] WARNING: not removing hydrogen atom without neighbors\n",
      "[17:40:13] WARNING: not removing hydrogen atom without neighbors\n",
      "[17:40:13] WARNING: not removing hydrogen atom without neighbors\n",
      "[17:40:13] Conflicting single bond directions around double bond at index 12.\n",
      "[17:40:13]   BondStereo set to STEREONONE and single bond directions set to NONE.\n",
      "[17:40:13] Conflicting single bond directions around double bond at index 17.\n",
      "[17:40:13]   BondStereo set to STEREONONE and single bond directions set to NONE.\n",
      "[17:40:13] Conflicting single bond directions around double bond at index 12.\n",
      "[17:40:13]   BondStereo set to STEREONONE and single bond directions set to NONE.\n",
      "[17:40:13] Conflicting single bond directions around double bond at index 17.\n",
      "[17:40:13]   BondStereo set to STEREONONE and single bond directions set to NONE.\n",
      " 18%|█▊        | 636/3538 [00:20<00:55, 52.30it/s][17:40:13] WARNING: not removing hydrogen atom without neighbors\n",
      "[17:40:13] SMILES Parse Error: syntax error while parsing: C1([R4])(=C([R3])C(=O)C(/[R3])=C([R1])/C(=O)1)\n",
      "[17:40:13] SMILES Parse Error: syntax error while parsing: C1([R4])(=C([R3])C(=O)C(/[R3])=C([R1])/C(=O)1)\n",
      "[17:40:13] SMILES Parse Error: Failed parsing SMILES 'C1([R4])(=C([R3])C(=O)C(/[R3])=C([R1])/C(=O)1)' for input: 'C1([R4])(=C([R3])C(=O)C(/[R3])=C([R1])/C(=O)1)'\n",
      "[17:40:13] SMILES Parse Error: Failed parsing SMILES 'C1([R4])(=C([R3])C(=O)C(/[R3])=C([R1])/C(=O)1)' for input: 'C1([R4])(=C([R3])C(=O)C(/[R3])=C([R1])/C(=O)1)'\n",
      "[17:40:14] WARNING: not removing hydrogen atom without neighbors\n",
      "[17:40:14] WARNING: not removing hydrogen atom without neighbors\n",
      "[17:40:14] WARNING: not removing hydrogen atom without neighbors\n",
      "[17:40:14] WARNING: not removing hydrogen atom without neighbors\n",
      " 18%|█▊        | 644/3538 [00:21<02:30, 19.21it/s][17:40:14] WARNING: not removing hydrogen atom without neighbors\n",
      "[17:40:14] WARNING: not removing hydrogen atom without neighbors\n",
      "[17:40:14] WARNING: not removing hydrogen atom without neighbors\n",
      "[17:40:14] WARNING: not removing hydrogen atom without neighbors\n",
      "[17:40:14] WARNING: not removing hydrogen atom without neighbors\n",
      "[17:40:14] WARNING: not removing hydrogen atom without neighbors\n",
      "[17:40:14] WARNING: not removing hydrogen atom without neighbors\n",
      "[17:40:14] WARNING: not removing hydrogen atom without neighbors\n",
      " 18%|█▊        | 652/3538 [00:21<01:58, 24.33it/s][17:40:14] WARNING: not removing hydrogen atom without neighbors\n",
      "[17:40:14] WARNING: not removing hydrogen atom without neighbors\n",
      "[17:40:14] WARNING: not removing hydrogen atom without neighbors\n",
      "[17:40:14] WARNING: not removing hydrogen atom without neighbors\n",
      "[17:40:14] WARNING: not removing hydrogen atom without neighbors\n",
      "[17:40:14] WARNING: not removing hydrogen atom without neighbors\n",
      "[17:40:14] WARNING: not removing hydrogen atom without neighbors\n",
      " 19%|█▊        | 661/3538 [00:21<01:32, 31.23it/s][17:40:14] WARNING: not removing hydrogen atom without neighbors\n",
      "[17:40:14] WARNING: not removing hydrogen atom without neighbors\n",
      "[17:40:14] WARNING: not removing hydrogen atom without neighbors\n",
      "[17:40:14] WARNING: not removing hydrogen atom without neighbors\n",
      "[17:40:14] SMILES Parse Error: syntax error while parsing: C(OP([O-])(=O)OP([O-])(=O)OC[C@H]8(O[C@H]%10(NC%11(/N=C(N)\\NC(=O)C(/N[C@@H](C9(\\S[Mo]4([a\n",
      "[17:40:14] SMILES Parse Error: Failed parsing SMILES 'C(OP([O-])(=O)OP([O-])(=O)OC[C@H]8(O[C@H]%10(NC%11(/N=C(N)\\NC(=O)C(/N[C@@H](C9(\\S[Mo]4([a' for input: 'C(OP([O-])(=O)OP([O-])(=O)OC[C@H]8(O[C@H]%10(NC%11(/N=C(N)\\NC(=O)C(/N[C@@H](C9(\\S[Mo]4([a'\n",
      " 19%|█▉        | 668/3538 [00:21<01:20, 35.74it/s][17:40:15] WARNING: not removing hydrogen atom without neighbors\n",
      "[17:40:15] WARNING: not removing hydrogen atom without neighbors\n",
      "[17:40:15] WARNING: not removing hydrogen atom without neighbors\n",
      "[17:40:15] WARNING: not removing hydrogen atom without neighbors\n",
      "[17:40:15] WARNING: not removing hydrogen atom without neighbors\n",
      "[17:40:15] Conflicting single bond directions around double bond at index 12.\n",
      "[17:40:15]   BondStereo set to STEREONONE and single bond directions set to NONE.\n",
      "[17:40:15] Conflicting single bond directions around double bond at index 17.\n",
      "[17:40:15]   BondStereo set to STEREONONE and single bond directions set to NONE.\n",
      " 19%|█▉        | 675/3538 [00:23<03:22, 14.17it/s][17:40:15] WARNING: not removing hydrogen atom without neighbors\n",
      "[17:40:16] WARNING: not removing hydrogen atom without neighbors\n",
      "[17:40:16] WARNING: not removing hydrogen atom without neighbors\n",
      "[17:40:16] WARNING: not removing hydrogen atom without neighbors\n",
      "[17:40:16] WARNING: not removing hydrogen atom without neighbors\n",
      " 19%|█▉        | 683/3538 [00:23<02:31, 18.84it/s][17:40:16] WARNING: not removing hydrogen atom without neighbors\n",
      "[17:40:16] WARNING: not removing hydrogen atom without neighbors\n",
      "[17:40:16] WARNING: not removing hydrogen atom without neighbors\n",
      "[17:40:16] WARNING: not removing hydrogen atom without neighbors\n",
      "[17:40:16] WARNING: not removing hydrogen atom without neighbors\n",
      "[17:40:16] SMILES Parse Error: syntax error while parsing: CCCCCCCCCCCCCCCC(O[C@H](CCCCCCCCCCCCC)CC(=O)N[C@@H]%20([C@H]([C@H](OC[C@H]1(O[C@H](OP([O-])([O-])=O)[C@H](NC(=O)C[C@H](OC(CCCCCCCCCCCCCCC)=O)CCCCCCCCC)[C@@H](NC(=O)C[C@H](O)CCCCCCCCCCCCC)[C@H](O)1))O[C@H](CO[C@@]%19(C(=O)[O-])(O[C@H]([C@H](O)CO)[C@H](O[C@@H]6(O[C@H](CO)[C@@H](O)[C@H](O[C@@H]4(O[C@@H]([C@@H](O[C@@H]2(O[C@@H]([C@@H](O)[C@H](O)[C@@H]([NH3+])2)CO[C@@H]3(O[C@@H]([C@@H](O)[C@H](O)[C@@H]([NH3+])3)CO)))[C@H](O)[C@@H]([NH3+])4)CO[C@@H]5(O[C@@H]([C@@H](O)[C@H](O)[C@@H]([NH3+])5)CO)))[C@@H]6O))[C@H](O[C@]%18(O[C@H]([C@@H](CO)O)[C@H](O)[C@H](O[C@@H]%17(O[C@@H]([C@@H](O[C@H]7([C@@H]([C@H]([C@@H]([C@H](O7)C)O)O[C@H]%16(O[C@H](CO)[C@@H](O)[C@H](O[C@H]%15(O[C@H](CO)[C@@H](O)[C@H](O[C@@H]8([C@H]([C@H]([C@@H]([C@H](O8)C)NC=O)O)O[C@@H]9([C@H]([C@H]([C@@H]([C@H](O9)C)NC=O)O)O[C@@H]%10([C@H]([C@H]([C@@H]([C@H](O%10)C)NC=O)O)O[C@@H]%11([C@H]([C@H]([C@@H]([C@H](O%11)C)NC=O)O)O[C@@H]%12([C@H]([C@H]([C@@H]([C@H](O%12)C)NC=O)O)O[C@@H]%13([C@H]([C@H]([C@@H]([C@H](O%13)C)NC=O)O)O[C@@H]%14([C@H]([C@H]([C@@H]([C@H](O%14)C)NC=O)O)O[R]))))))))[C@H](O)%15))[C@H](O)%16))NC(C)=O))[C@H](O)[C@@H](O)%17)CO))C%18)C(=O)[O-])C%19))[C@H]%20OP([O-])([O-])=O)NC(C[C@H](OC(CCCCCCCCCCCCCCC)=O)CCCCCCCCC)=O))=O\n",
      "[17:40:16] SMILES Parse Error: syntax error while parsing: CC(C)=CCCC(\\C)=C/CCC(\\C)=C/CCC(/C)=C/CCC(/C)=C/CCC(/C)=C/CCC(/C)=C/CCC(/C)=C/CCC(/C)=C/CCC(/C)=C/CCC(/C)=C/COP(OP(O[C@H]1([C@@H]([C@H]([C@@H]([C@H](O1)C)O)O[C@H]%10(O[C@H](CO)[C@@H](O)[C@H](O[C@H]9(O[C@H](CO)[C@@H](O)[C@H](O[C@@H]2([C@H]([C@H]([C@@H]([C@H](O2)C)NC=O)O)O[C@@H]3([C@H]([C@H]([C@@H]([C@H](O3)C)NC=O)O)O[C@@H]4([C@H]([C@H]([C@@H]([C@H](O4)C)NC=O)O)O[C@@H]5([C@H]([C@H]([C@@H]([C@H](O5)C)NC=O)O)O[C@@H]6([C@H]([C@H]([C@@H]([C@H](O6)C)NC=O)O)O[C@@H]7([C@H]([C@H]([C@@H]([C@H](O7)C)NC=O)O)O[C@@H]8([C@H]([C@H]([C@@H]([C@H](O8)C)NC=O)O)O[R]))))))))[C@H](O)9))[C@H](O)%10))NC(C)=O))([O-])=O)([O-])=O\n",
      "[17:40:16] SMILES Parse Error: Failed parsing SMILES 'CCCCCCCCCCCCCCCC(O[C@H](CCCCCCCCCCCCC)CC(=O)N[C@@H]%20([C@H]([C@H](OC[C@H]1(O[C@H](OP([O-])([O-])=O)[C@H](NC(=O)C[C@H](OC(CCCCCCCCCCCCCCC)=O)CCCCCCCCC)[C@@H](NC(=O)C[C@H](O)CCCCCCCCCCCCC)[C@H](O)1))O[C@H](CO[C@@]%19(C(=O)[O-])(O[C@H]([C@H](O)CO)[C@H](O[C@@H]6(O[C@H](CO)[C@@H](O)[C@H](O[C@@H]4(O[C@@H]([C@@H](O[C@@H]2(O[C@@H]([C@@H](O)[C@H](O)[C@@H]([NH3+])2)CO[C@@H]3(O[C@@H]([C@@H](O)[C@H](O)[C@@H]([NH3+])3)CO)))[C@H](O)[C@@H]([NH3+])4)CO[C@@H]5(O[C@@H]([C@@H](O)[C@H](O)[C@@H]([NH3+])5)CO)))[C@@H]6O))[C@H](O[C@]%18(O[C@H]([C@@H](CO)O)[C@H](O)[C@H](O[C@@H]%17(O[C@@H]([C@@H](O[C@H]7([C@@H]([C@H]([C@@H]([C@H](O7)C)O)O[C@H]%16(O[C@H](CO)[C@@H](O)[C@H](O[C@H]%15(O[C@H](CO)[C@@H](O)[C@H](O[C@@H]8([C@H]([C@H]([C@@H]([C@H](O8)C)NC=O)O)O[C@@H]9([C@H]([C@H]([C@@H]([C@H](O9)C)NC=O)O)O[C@@H]%10([C@H]([C@H]([C@@H]([C@H](O%10)C)NC=O)O)O[C@@H]%11([C@H]([C@H]([C@@H]([C@H](O%11)C)NC=O)O)O[C@@H]%12([C@H]([C@H]([C@@H]([C@H](O%12)C)NC=O)O)O[C@@H]%13([C@H]([C@H]([C@@H]([C@H](O%13)C)NC=O)O)O[C@@H]%14([C@H]([C@H]([C@@H]([C@H](O%14)C)NC=O)O)O[R]))))))))[C@H](O)%15))[C@H](O)%16))NC(C)=O))[C@H](O)[C@@H](O)%17)CO))C%18)C(=O)[O-])C%19))[C@H]%20OP([O-])([O-])=O)NC(C[C@H](OC(CCCCCCCCCCCCCCC)=O)CCCCCCCCC)=O))=O' for input: 'CCCCCCCCCCCCCCCC(O[C@H](CCCCCCCCCCCCC)CC(=O)N[C@@H]%20([C@H]([C@H](OC[C@H]1(O[C@H](OP([O-])([O-])=O)[C@H](NC(=O)C[C@H](OC(CCCCCCCCCCCCCCC)=O)CCCCCCCCC)[C@@H](NC(=O)C[C@H](O)CCCCCCCCCCCCC)[C@H](O)1))O[C@H](CO[C@@]%19(C(=O)[O-])(O[C@H]([C@H](O)CO)[C@H](O[C@@H]6(O[C@H](CO)[C@@H](O)[C@H](O[C@@H]4(O[C@@H]([C@@H](O[C@@H]2(O[C@@H]([C@@H](O)[C@H](O)[C@@H]([NH3+])2)CO[C@@H]3(O[C@@H]([C@@H](O)[C@H](O)[C@@H]([NH3+])3)CO)))[C@H](O)[C@@H]([NH3+])4)CO[C@@H]5(O[C@@H]([C@@H](O)[C@H](O)[C@@H]([NH3+])5)CO)))[C@@H]6O))[C@H](O[C@]%18(O[C@H]([C@@H](CO)O)[C@H](O)[C@H](O[C@@H]%17(O[C@@H]([C@@H](O[C@H]7([C@@H]([C@H]([C@@H]([C@H](O7)C)O)O[C@H]%16(O[C@H](CO)[C@@H](O)[C@H](O[C@H]%15(O[C@H](CO)[C@@H](O)[C@H](O[C@@H]8([C@H]([C@H]([C@@H]([C@H](O8)C)NC=O)O)O[C@@H]9([C@H]([C@H]([C@@H]([C@H](O9)C)NC=O)O)O[C@@H]%10([C@H]([C@H]([C@@H]([C@H](O%10)C)NC=O)O)O[C@@H]%11([C@H]([C@H]([C@@H]([C@H](O%11)C)NC=O)O)O[C@@H]%12([C@H]([C@H]([C@@H]([C@H](O%12)C)NC=O)O)O[C@@H]%13([C@H]([C@H]([C@@H]([C@H](O%13)C)NC=O)O)O[C@@H]%14([C@H]([C@H]([C@@H]([C@H](O%14)C)NC=O)O)O[R]))))))))[C@H](O)%15))[C@H](O)%16))NC(C)=O))[C@H](O)[C@@H](O)%17)CO))C%18)C(=O)[O-])C%19))[C@H]%20OP([O-])([O-])=O)NC(C[C@H](OC(CCCCCCCCCCCCCCC)=O)CCCCCCCCC)=O))=O'\n",
      "[17:40:16] SMILES Parse Error: Failed parsing SMILES 'CC(C)=CCCC(\\C)=C/CCC(\\C)=C/CCC(/C)=C/CCC(/C)=C/CCC(/C)=C/CCC(/C)=C/CCC(/C)=C/CCC(/C)=C/CCC(/C)=C/CCC(/C)=C/COP(OP(O[C@H]1([C@@H]([C@H]([C@@H]([C@H](O1)C)O)O[C@H]%10(O[C@H](CO)[C@@H](O)[C@H](O[C@H]9(O[C@H](CO)[C@@H](O)[C@H](O[C@@H]2([C@H]([C@H]([C@@H]([C@H](O2)C)NC=O)O)O[C@@H]3([C@H]([C@H]([C@@H]([C@H](O3)C)NC=O)O)O[C@@H]4([C@H]([C@H]([C@@H]([C@H](O4)C)NC=O)O)O[C@@H]5([C@H]([C@H]([C@@H]([C@H](O5)C)NC=O)O)O[C@@H]6([C@H]([C@H]([C@@H]([C@H](O6)C)NC=O)O)O[C@@H]7([C@H]([C@H]([C@@H]([C@H](O7)C)NC=O)O)O[C@@H]8([C@H]([C@H]([C@@H]([C@H](O8)C)NC=O)O)O[R]))))))))[C@H](O)9))[C@H](O)%10))NC(C)=O))([O-])=O)([O-])=O' for input: 'CC(C)=CCCC(\\C)=C/CCC(\\C)=C/CCC(/C)=C/CCC(/C)=C/CCC(/C)=C/CCC(/C)=C/CCC(/C)=C/CCC(/C)=C/CCC(/C)=C/CCC(/C)=C/COP(OP(O[C@H]1([C@@H]([C@H]([C@@H]([C@H](O1)C)O)O[C@H]%10(O[C@H](CO)[C@@H](O)[C@H](O[C@H]9(O[C@H](CO)[C@@H](O)[C@H](O[C@@H]2([C@H]([C@H]([C@@H]([C@H](O2)C)NC=O)O)O[C@@H]3([C@H]([C@H]([C@@H]([C@H](O3)C)NC=O)O)O[C@@H]4([C@H]([C@H]([C@@H]([C@H](O4)C)NC=O)O)O[C@@H]5([C@H]([C@H]([C@@H]([C@H](O5)C)NC=O)O)O[C@@H]6([C@H]([C@H]([C@@H]([C@H](O6)C)NC=O)O)O[C@@H]7([C@H]([C@H]([C@@H]([C@H](O7)C)NC=O)O)O[C@@H]8([C@H]([C@H]([C@@H]([C@H](O8)C)NC=O)O)O[R]))))))))[C@H](O)9))[C@H](O)%10))NC(C)=O))([O-])=O)([O-])=O'\n",
      "[17:40:17] SMILES Parse Error: syntax error while parsing: CC(C)=CCCC(\\C)=C/CCC(\\C)=C/CCC(/C)=C/CCC(/C)=C/CCC(/C)=C/CCC(/C)=C/CCC(/C)=C/CCC(/C)=C/CCC(/C)=C/CCC(/C)=C/COP(OP(O[C@H]1([C@@H]([C@H]([C@@H]([C@H](O1)C)O)O[C@H]%10(O[C@H](CO)[C@@H](O)[C@H](O[C@H]9(O[C@H](CO)[C@@H](O)[C@H](O[C@@H]2([C@H]([C@H]([C@@H]([C@H](O2)C)NC=O)O)O[C@@H]3([C@H]([C@H]([C@@H]([C@H](O3)C)NC=O)O)O[C@@H]4([C@H]([C@H]([C@@H]([C@H](O4)C)NC=O)O)O[C@@H]5([C@H]([C@H]([C@@H]([C@H](O5)C)NC=O)O)O[C@@H]6([C@H]([C@H]([C@@H]([C@H](O6)C)NC=O)O)O[C@@H]7([C@H]([C@H]([C@@H]([C@H](O7)C)NC=O)O)O[C@@H]8([C@H]([C@H]([C@@H]([C@H](O8)C)NC=O)O)O[R]))))))))[C@H](O)9))[C@H](O)%10))NC(C)=O))([O-])=O)([O-])=O\n",
      "[17:40:17] SMILES Parse Error: Failed parsing SMILES 'CC(C)=CCCC(\\C)=C/CCC(\\C)=C/CCC(/C)=C/CCC(/C)=C/CCC(/C)=C/CCC(/C)=C/CCC(/C)=C/CCC(/C)=C/CCC(/C)=C/CCC(/C)=C/COP(OP(O[C@H]1([C@@H]([C@H]([C@@H]([C@H](O1)C)O)O[C@H]%10(O[C@H](CO)[C@@H](O)[C@H](O[C@H]9(O[C@H](CO)[C@@H](O)[C@H](O[C@@H]2([C@H]([C@H]([C@@H]([C@H](O2)C)NC=O)O)O[C@@H]3([C@H]([C@H]([C@@H]([C@H](O3)C)NC=O)O)O[C@@H]4([C@H]([C@H]([C@@H]([C@H](O4)C)NC=O)O)O[C@@H]5([C@H]([C@H]([C@@H]([C@H](O5)C)NC=O)O)O[C@@H]6([C@H]([C@H]([C@@H]([C@H](O6)C)NC=O)O)O[C@@H]7([C@H]([C@H]([C@@H]([C@H](O7)C)NC=O)O)O[C@@H]8([C@H]([C@H]([C@@H]([C@H](O8)C)NC=O)O)O[R]))))))))[C@H](O)9))[C@H](O)%10))NC(C)=O))([O-])=O)([O-])=O' for input: 'CC(C)=CCCC(\\C)=C/CCC(\\C)=C/CCC(/C)=C/CCC(/C)=C/CCC(/C)=C/CCC(/C)=C/CCC(/C)=C/CCC(/C)=C/CCC(/C)=C/CCC(/C)=C/COP(OP(O[C@H]1([C@@H]([C@H]([C@@H]([C@H](O1)C)O)O[C@H]%10(O[C@H](CO)[C@@H](O)[C@H](O[C@H]9(O[C@H](CO)[C@@H](O)[C@H](O[C@@H]2([C@H]([C@H]([C@@H]([C@H](O2)C)NC=O)O)O[C@@H]3([C@H]([C@H]([C@@H]([C@H](O3)C)NC=O)O)O[C@@H]4([C@H]([C@H]([C@@H]([C@H](O4)C)NC=O)O)O[C@@H]5([C@H]([C@H]([C@@H]([C@H](O5)C)NC=O)O)O[C@@H]6([C@H]([C@H]([C@@H]([C@H](O6)C)NC=O)O)O[C@@H]7([C@H]([C@H]([C@@H]([C@H](O7)C)NC=O)O)O[C@@H]8([C@H]([C@H]([C@@H]([C@H](O8)C)NC=O)O)O[R]))))))))[C@H](O)9))[C@H](O)%10))NC(C)=O))([O-])=O)([O-])=O'\n",
      " 19%|█▉        | 689/3538 [00:24<04:01, 11.78it/s][17:40:18] WARNING: not removing hydrogen atom without neighbors\n",
      "[17:40:18] WARNING: not removing hydrogen atom without neighbors\n",
      "[17:40:18] WARNING: not removing hydrogen atom without neighbors\n",
      " 20%|█▉        | 693/3538 [00:25<05:40,  8.36it/s][17:40:18] WARNING: not removing hydrogen atom without neighbors\n",
      "[17:40:18] WARNING: not removing hydrogen atom without neighbors\n",
      "[17:40:18] WARNING: not removing hydrogen atom without neighbors\n",
      "[17:40:18] WARNING: not removing hydrogen atom without neighbors\n",
      "[17:40:18] WARNING: not removing hydrogen atom without neighbors\n",
      "[17:40:18] WARNING: not removing hydrogen atom without neighbors\n",
      "[17:40:18] WARNING: not removing hydrogen atom without neighbors\n",
      "[17:40:18] WARNING: not removing hydrogen atom without neighbors\n",
      " 20%|█▉        | 701/3538 [00:25<03:52, 12.20it/s][17:40:18] WARNING: not removing hydrogen atom without neighbors\n",
      "[17:40:18] WARNING: not removing hydrogen atom without neighbors\n",
      "[17:40:18] WARNING: not removing hydrogen atom without neighbors\n",
      "[17:40:18] WARNING: not removing hydrogen atom without neighbors\n",
      "[17:40:18] WARNING: not removing hydrogen atom without neighbors\n",
      "[17:40:18] WARNING: not removing hydrogen atom without neighbors\n",
      " 20%|██        | 710/3538 [00:25<02:40, 17.63it/s][17:40:18] WARNING: not removing hydrogen atom without neighbors\n",
      "[17:40:18] WARNING: not removing hydrogen atom without neighbors\n",
      "[17:40:18] WARNING: not removing hydrogen atom without neighbors\n",
      "[17:40:18] WARNING: not removing hydrogen atom without neighbors\n",
      "[17:40:18] WARNING: not removing hydrogen atom without neighbors\n",
      " 20%|██        | 718/3538 [00:25<02:01, 23.20it/s][17:40:18] WARNING: not removing hydrogen atom without neighbors\n",
      "[17:40:18] WARNING: not removing hydrogen atom without neighbors\n",
      "[17:40:18] WARNING: not removing hydrogen atom without neighbors\n",
      "[17:40:18] WARNING: not removing hydrogen atom without neighbors\n",
      "[17:40:18] WARNING: not removing hydrogen atom without neighbors\n",
      "[17:40:18] WARNING: not removing hydrogen atom without neighbors\n",
      " 21%|██        | 726/3538 [00:25<01:35, 29.48it/s][17:40:18] WARNING: not removing hydrogen atom without neighbors\n",
      "[17:40:18] WARNING: not removing hydrogen atom without neighbors\n",
      "[17:40:18] WARNING: not removing hydrogen atom without neighbors\n",
      "[17:40:18] WARNING: not removing hydrogen atom without neighbors\n",
      "[17:40:18] WARNING: not removing hydrogen atom without neighbors\n",
      "[17:40:18] WARNING: not removing hydrogen atom without neighbors\n",
      " 21%|██        | 734/3538 [00:25<01:17, 36.11it/s][17:40:18] WARNING: not removing hydrogen atom without neighbors\n",
      "[17:40:18] WARNING: not removing hydrogen atom without neighbors\n",
      "[17:40:18] WARNING: not removing hydrogen atom without neighbors\n",
      "[17:40:18] WARNING: not removing hydrogen atom without neighbors\n",
      "[17:40:18] WARNING: not removing hydrogen atom without neighbors\n",
      "[17:40:18] WARNING: not removing hydrogen atom without neighbors\n",
      "[17:40:18] WARNING: not removing hydrogen atom without neighbors\n",
      " 21%|██        | 743/3538 [00:25<01:03, 44.33it/s][17:40:18] WARNING: not removing hydrogen atom without neighbors\n",
      "[17:40:18] WARNING: not removing hydrogen atom without neighbors\n",
      "[17:40:18] Conflicting single bond directions around double bond at index 12.\n",
      "[17:40:18]   BondStereo set to STEREONONE and single bond directions set to NONE.\n",
      "[17:40:18] Conflicting single bond directions around double bond at index 17.\n",
      "[17:40:18]   BondStereo set to STEREONONE and single bond directions set to NONE.\n",
      "[17:40:18] WARNING: not removing hydrogen atom without neighbors\n",
      "[17:40:18] WARNING: not removing hydrogen atom without neighbors\n",
      "[17:40:18] WARNING: not removing hydrogen atom without neighbors\n",
      "[17:40:18] WARNING: not removing hydrogen atom without neighbors\n",
      " 21%|██▏       | 754/3538 [00:26<00:49, 56.10it/s][17:40:19] WARNING: not removing hydrogen atom without neighbors\n",
      "[17:40:19] WARNING: not removing hydrogen atom without neighbors\n",
      "[17:40:19] WARNING: not removing hydrogen atom without neighbors\n",
      "[17:40:19] WARNING: not removing hydrogen atom without neighbors\n",
      "[17:40:19] WARNING: not removing hydrogen atom without neighbors\n",
      "[17:40:19] WARNING: not removing hydrogen atom without neighbors\n",
      "[17:40:19] WARNING: not removing hydrogen atom without neighbors\n",
      "[17:40:19] WARNING: not removing hydrogen atom without neighbors\n",
      "[17:40:19] WARNING: not removing hydrogen atom without neighbors\n",
      " 22%|██▏       | 763/3538 [00:26<00:45, 60.36it/s][17:40:19] WARNING: not removing hydrogen atom without neighbors\n",
      "[17:40:19] WARNING: not removing hydrogen atom without neighbors\n",
      "[17:40:19] WARNING: not removing hydrogen atom without neighbors\n",
      "[17:40:19] WARNING: not removing hydrogen atom without neighbors\n",
      "[17:40:19] WARNING: not removing hydrogen atom without neighbors\n",
      "[17:40:19] WARNING: not removing hydrogen atom without neighbors\n",
      "[17:40:19] WARNING: not removing hydrogen atom without neighbors\n",
      " 22%|██▏       | 771/3538 [00:26<00:43, 63.49it/s][17:40:19] WARNING: not removing hydrogen atom without neighbors\n",
      "[17:40:19] WARNING: not removing hydrogen atom without neighbors\n",
      "[17:40:19] WARNING: not removing hydrogen atom without neighbors\n",
      "[17:40:19] WARNING: not removing hydrogen atom without neighbors\n",
      "[17:40:19] WARNING: not removing hydrogen atom without neighbors\n",
      " 22%|██▏       | 779/3538 [00:26<00:42, 65.59it/s][17:40:19] WARNING: not removing hydrogen atom without neighbors\n",
      "[17:40:19] WARNING: not removing hydrogen atom without neighbors\n",
      "[17:40:19] WARNING: not removing hydrogen atom without neighbors\n",
      "[17:40:19] WARNING: not removing hydrogen atom without neighbors\n",
      "[17:40:19] WARNING: not removing hydrogen atom without neighbors\n",
      "[17:40:19] WARNING: not removing hydrogen atom without neighbors\n",
      "[17:40:19] WARNING: not removing hydrogen atom without neighbors\n",
      "[17:40:19] WARNING: not removing hydrogen atom without neighbors\n",
      " 22%|██▏       | 788/3538 [00:26<00:39, 70.07it/s][17:40:19] WARNING: not removing hydrogen atom without neighbors\n",
      "[17:40:19] WARNING: not removing hydrogen atom without neighbors\n",
      "[17:40:19] WARNING: not removing hydrogen atom without neighbors\n",
      "[17:40:19] SMILES Parse Error: syntax error while parsing: CC(C)(COP(=O)([O-])OC[C@H](N[a\n",
      "[17:40:19] SMILES Parse Error: Failed parsing SMILES 'CC(C)(COP(=O)([O-])OC[C@H](N[a' for input: 'CC(C)(COP(=O)([O-])OC[C@H](N[a'\n",
      "[17:40:19] WARNING: not removing hydrogen atom without neighbors\n",
      "[17:40:20] WARNING: not removing hydrogen atom without neighbors\n",
      "[17:40:20] WARNING: not removing hydrogen atom without neighbors\n",
      " 22%|██▏       | 796/3538 [00:28<02:57, 15.49it/s][17:40:20] Conflicting single bond directions around double bond at index 12.\n",
      "[17:40:20]   BondStereo set to STEREONONE and single bond directions set to NONE.\n",
      "[17:40:20] Conflicting single bond directions around double bond at index 17.\n",
      "[17:40:20]   BondStereo set to STEREONONE and single bond directions set to NONE.\n",
      "[17:40:20] Conflicting single bond directions around double bond at index 12.\n",
      "[17:40:20]   BondStereo set to STEREONONE and single bond directions set to NONE.\n",
      "[17:40:20] Conflicting single bond directions around double bond at index 17.\n",
      "[17:40:20]   BondStereo set to STEREONONE and single bond directions set to NONE.\n",
      "[17:40:20] Conflicting single bond directions around double bond at index 12.\n",
      "[17:40:20]   BondStereo set to STEREONONE and single bond directions set to NONE.\n",
      "[17:40:20] Conflicting single bond directions around double bond at index 17.\n",
      "[17:40:20]   BondStereo set to STEREONONE and single bond directions set to NONE.\n",
      "[17:40:21] WARNING: not removing hydrogen atom without neighbors\n",
      "[17:40:21] WARNING: not removing hydrogen atom without neighbors\n",
      "[17:40:21] WARNING: not removing hydrogen atom without neighbors\n",
      "[17:40:21] WARNING: not removing hydrogen atom without neighbors\n",
      "[17:40:21] Explicit valence for atom # 38 C, 5, is greater than permitted\n",
      " 23%|██▎       | 802/3538 [00:28<02:29, 18.33it/s][17:40:21] WARNING: not removing hydrogen atom without neighbors\n",
      "[17:40:21] Explicit valence for atom # 9 C, 5, is greater than permitted\n",
      "[17:40:22] WARNING: not removing hydrogen atom without neighbors\n",
      "[17:40:22] Explicit valence for atom # 38 C, 5, is greater than permitted\n",
      "[17:40:23] Conflicting single bond directions around double bond at index 24.\n",
      "[17:40:23]   BondStereo set to STEREONONE and single bond directions set to NONE.\n",
      "[17:40:23] Explicit valence for atom # 38 C, 5, is greater than permitted\n",
      "[17:40:23] WARNING: not removing hydrogen atom without neighbors\n",
      "[17:40:24] Explicit valence for atom # 38 C, 5, is greater than permitted\n",
      "[17:40:24] Conflicting single bond directions around double bond at index 24.\n",
      "[17:40:24]   BondStereo set to STEREONONE and single bond directions set to NONE.\n",
      "[17:40:24] WARNING: not removing hydrogen atom without neighbors\n",
      "[17:40:26] Explicit valence for atom # 38 C, 5, is greater than permitted\n",
      "[17:40:26] WARNING: not removing hydrogen atom without neighbors\n",
      "[17:40:27] WARNING: not removing hydrogen atom without neighbors\n",
      "[17:40:27] Explicit valence for atom # 38 C, 5, is greater than permitted\n",
      " 23%|██▎       | 808/3538 [00:34<13:12,  3.44it/s][17:40:28] WARNING: not removing hydrogen atom without neighbors\n",
      "[17:40:28] WARNING: not removing hydrogen atom without neighbors\n",
      "[17:40:28] Explicit valence for atom # 38 C, 5, is greater than permitted\n",
      "[17:40:29] WARNING: not removing hydrogen atom without neighbors\n",
      "[17:40:29] WARNING: not removing hydrogen atom without neighbors\n",
      " 23%|██▎       | 812/3538 [00:36<15:38,  2.90it/s][17:40:29] WARNING: not removing hydrogen atom without neighbors\n",
      "[17:40:29] WARNING: not removing hydrogen atom without neighbors\n",
      "[17:40:29] WARNING: not removing hydrogen atom without neighbors\n",
      "[17:40:29] WARNING: not removing hydrogen atom without neighbors\n",
      "[17:40:29] WARNING: not removing hydrogen atom without neighbors\n",
      "[17:40:29] WARNING: not removing hydrogen atom without neighbors\n",
      "[17:40:29] WARNING: not removing hydrogen atom without neighbors\n",
      " 23%|██▎       | 822/3538 [00:36<09:26,  4.80it/s][17:40:29] WARNING: not removing hydrogen atom without neighbors\n",
      "[17:40:29] WARNING: not removing hydrogen atom without neighbors\n",
      "[17:40:29] WARNING: not removing hydrogen atom without neighbors\n",
      "[17:40:29] WARNING: not removing hydrogen atom without neighbors\n",
      "[17:40:29] WARNING: not removing hydrogen atom without neighbors\n",
      "[17:40:29] WARNING: not removing hydrogen atom without neighbors\n",
      "[17:40:29] WARNING: not removing hydrogen atom without neighbors\n",
      " 24%|██▎       | 832/3538 [00:36<06:07,  7.37it/s][17:40:29] WARNING: not removing hydrogen atom without neighbors\n",
      "[17:40:29] WARNING: not removing hydrogen atom without neighbors\n",
      "[17:40:29] WARNING: not removing hydrogen atom without neighbors\n",
      "[17:40:29] WARNING: not removing hydrogen atom without neighbors\n",
      "[17:40:29] WARNING: not removing hydrogen atom without neighbors\n",
      " 24%|██▍       | 841/3538 [00:36<04:18, 10.45it/s][17:40:29] WARNING: not removing hydrogen atom without neighbors\n",
      "[17:40:29] WARNING: not removing hydrogen atom without neighbors\n",
      "[17:40:29] WARNING: not removing hydrogen atom without neighbors\n",
      "[17:40:29] WARNING: not removing hydrogen atom without neighbors\n",
      " 24%|██▍       | 849/3538 [00:36<03:13, 13.92it/s][17:40:29] WARNING: not removing hydrogen atom without neighbors\n",
      "[17:40:29] WARNING: not removing hydrogen atom without neighbors\n",
      "[17:40:29] WARNING: not removing hydrogen atom without neighbors\n",
      "[17:40:29] WARNING: not removing hydrogen atom without neighbors\n",
      "[17:40:29] WARNING: not removing hydrogen atom without neighbors\n",
      "[17:40:29] WARNING: not removing hydrogen atom without neighbors\n",
      "[17:40:29] WARNING: not removing hydrogen atom without neighbors\n",
      " 24%|██▍       | 857/3538 [00:36<02:27, 18.19it/s][17:40:29] WARNING: not removing hydrogen atom without neighbors\n",
      "[17:40:29] WARNING: not removing hydrogen atom without neighbors\n",
      "[17:40:29] WARNING: not removing hydrogen atom without neighbors\n",
      "[17:40:30] WARNING: not removing hydrogen atom without neighbors\n",
      "[17:40:30] WARNING: not removing hydrogen atom without neighbors\n",
      " 24%|██▍       | 865/3538 [00:37<01:54, 23.33it/s][17:40:30] WARNING: not removing hydrogen atom without neighbors\n",
      "[17:40:30] WARNING: not removing hydrogen atom without neighbors\n",
      "[17:40:30] WARNING: not removing hydrogen atom without neighbors\n",
      "[17:40:30] WARNING: not removing hydrogen atom without neighbors\n",
      "[17:40:30] WARNING: not removing hydrogen atom without neighbors\n",
      "[17:40:30] WARNING: not removing hydrogen atom without neighbors\n",
      "[17:40:30] WARNING: not removing hydrogen atom without neighbors\n",
      "[17:40:30] Conflicting single bond directions around double bond at index 22.\n",
      "[17:40:30]   BondStereo set to STEREONONE and single bond directions set to NONE.\n",
      "[17:40:30] WARNING: not removing hydrogen atom without neighbors\n",
      " 25%|██▍       | 873/3538 [00:37<01:30, 29.42it/s][17:40:30] WARNING: not removing hydrogen atom without neighbors\n",
      "[17:40:30] WARNING: not removing hydrogen atom without neighbors\n",
      "[17:40:30] WARNING: not removing hydrogen atom without neighbors\n",
      "[17:40:30] WARNING: not removing hydrogen atom without neighbors\n",
      "[17:40:30] WARNING: not removing hydrogen atom without neighbors\n",
      "[17:40:30] WARNING: not removing hydrogen atom without neighbors\n",
      "[17:40:30] WARNING: not removing hydrogen atom without neighbors\n",
      "[17:40:30] WARNING: not removing hydrogen atom without neighbors\n",
      " 25%|██▍       | 881/3538 [00:37<01:14, 35.68it/s][17:40:30] WARNING: not removing hydrogen atom without neighbors\n",
      "[17:40:30] WARNING: not removing hydrogen atom without neighbors\n",
      "[17:40:30] WARNING: not removing hydrogen atom without neighbors\n",
      "[17:40:30] WARNING: not removing hydrogen atom without neighbors\n",
      "[17:40:30] WARNING: not removing hydrogen atom without neighbors\n",
      "[17:40:30] WARNING: not removing hydrogen atom without neighbors\n",
      "[17:40:30] WARNING: not removing hydrogen atom without neighbors\n",
      "[17:40:30] WARNING: not removing hydrogen atom without neighbors\n",
      " 25%|██▌       | 890/3538 [00:37<01:00, 44.08it/s][17:40:30] WARNING: not removing hydrogen atom without neighbors\n",
      "[17:40:30] WARNING: not removing hydrogen atom without neighbors\n",
      "[17:40:30] WARNING: not removing hydrogen atom without neighbors\n",
      "[17:40:30] WARNING: not removing hydrogen atom without neighbors\n",
      "[17:40:30] WARNING: not removing hydrogen atom without neighbors\n",
      "[17:40:30] WARNING: not removing hydrogen atom without neighbors\n",
      "[17:40:30] WARNING: not removing hydrogen atom without neighbors\n",
      "[17:40:30] WARNING: not removing hydrogen atom without neighbors\n",
      " 25%|██▌       | 898/3538 [00:37<00:52, 49.87it/s][17:40:30] WARNING: not removing hydrogen atom without neighbors\n",
      "[17:40:30] WARNING: not removing hydrogen atom without neighbors\n",
      "[17:40:30] WARNING: not removing hydrogen atom without neighbors\n",
      "[17:40:30] WARNING: not removing hydrogen atom without neighbors\n",
      "[17:40:30] WARNING: not removing hydrogen atom without neighbors\n",
      "[17:40:30] WARNING: not removing hydrogen atom without neighbors\n",
      "[17:40:30] WARNING: not removing hydrogen atom without neighbors\n",
      " 26%|██▌       | 906/3538 [00:37<00:47, 54.86it/s][17:40:30] WARNING: not removing hydrogen atom without neighbors\n",
      "[17:40:30] WARNING: not removing hydrogen atom without neighbors\n",
      "[17:40:30] WARNING: not removing hydrogen atom without neighbors\n",
      "[17:40:30] WARNING: not removing hydrogen atom without neighbors\n",
      "[17:40:30] WARNING: not removing hydrogen atom without neighbors\n",
      "[17:40:30] WARNING: not removing hydrogen atom without neighbors\n",
      "[17:40:30] WARNING: not removing hydrogen atom without neighbors\n",
      " 26%|██▌       | 914/3538 [00:37<00:48, 54.14it/s][17:40:31] WARNING: not removing hydrogen atom without neighbors\n",
      "[17:40:31] WARNING: not removing hydrogen atom without neighbors\n",
      "[17:40:31] WARNING: not removing hydrogen atom without neighbors\n",
      "[17:40:31] WARNING: not removing hydrogen atom without neighbors\n",
      "[17:40:31] WARNING: not removing hydrogen atom without neighbors\n",
      " 26%|██▌       | 921/3538 [00:38<02:30, 17.41it/s][17:40:31] WARNING: not removing hydrogen atom without neighbors\n",
      "[17:40:31] WARNING: not removing hydrogen atom without neighbors\n",
      "[17:40:31] WARNING: not removing hydrogen atom without neighbors\n",
      "[17:40:31] WARNING: not removing hydrogen atom without neighbors\n",
      "[17:40:31] WARNING: not removing hydrogen atom without neighbors\n",
      "[17:40:31] WARNING: not removing hydrogen atom without neighbors\n",
      "[17:40:31] WARNING: not removing hydrogen atom without neighbors\n",
      "[17:40:31] WARNING: not removing hydrogen atom without neighbors\n",
      " 26%|██▋       | 929/3538 [00:39<01:54, 22.78it/s][17:40:31] WARNING: not removing hydrogen atom without neighbors\n",
      "[17:40:32] WARNING: not removing hydrogen atom without neighbors\n",
      "[17:40:32] WARNING: not removing hydrogen atom without neighbors\n",
      "[17:40:32] WARNING: not removing hydrogen atom without neighbors\n",
      "[17:40:32] WARNING: not removing hydrogen atom without neighbors\n",
      "[17:40:32] WARNING: not removing hydrogen atom without neighbors\n",
      " 26%|██▋       | 937/3538 [00:39<01:29, 28.93it/s][17:40:32] WARNING: not removing hydrogen atom without neighbors\n",
      "[17:40:32] WARNING: not removing hydrogen atom without neighbors\n",
      "[17:40:32] WARNING: not removing hydrogen atom without neighbors\n",
      "[17:40:32] WARNING: not removing hydrogen atom without neighbors\n",
      "[17:40:32] WARNING: not removing hydrogen atom without neighbors\n",
      " 27%|██▋       | 945/3538 [00:39<01:12, 35.52it/s][17:40:32] WARNING: not removing hydrogen atom without neighbors\n",
      "[17:40:32] WARNING: not removing hydrogen atom without neighbors\n",
      "[17:40:32] WARNING: not removing hydrogen atom without neighbors\n",
      "[17:40:32] WARNING: not removing hydrogen atom without neighbors\n",
      "[17:40:32] WARNING: not removing hydrogen atom without neighbors\n",
      "[17:40:32] WARNING: not removing hydrogen atom without neighbors\n",
      " 27%|██▋       | 952/3538 [00:39<01:03, 40.83it/s][17:40:32] WARNING: not removing hydrogen atom without neighbors\n",
      "[17:40:32] WARNING: not removing hydrogen atom without neighbors\n",
      "[17:40:32] SMILES Parse Error: syntax error while parsing: C(OP(OP(OC[C@H]2(O[C@H]1(NC4(/N=C(N)\\NC(=O)C(/N[C@H]1C3(\\S[Mo-](S[Cu]SC[C@@H](C(=O)[an\n",
      "[17:40:32] SMILES Parse Error: Failed parsing SMILES 'C(OP(OP(OC[C@H]2(O[C@H]1(NC4(/N=C(N)\\NC(=O)C(/N[C@H]1C3(\\S[Mo-](S[Cu]SC[C@@H](C(=O)[an' for input: 'C(OP(OP(OC[C@H]2(O[C@H]1(NC4(/N=C(N)\\NC(=O)C(/N[C@H]1C3(\\S[Mo-](S[Cu]SC[C@@H](C(=O)[an'\n",
      "[17:40:33] WARNING: not removing hydrogen atom without neighbors\n",
      "[17:40:36] SMILES Parse Error: syntax error while parsing: C(OP(OP(OC[C@H]2(O[C@H]1(NC4(/N=C(N)\\NC(=O)C(/N[C@H]1C3(\\S[Mo-](=S)(=O)(O[a\n",
      "[17:40:36] SMILES Parse Error: Failed parsing SMILES 'C(OP(OP(OC[C@H]2(O[C@H]1(NC4(/N=C(N)\\NC(=O)C(/N[C@H]1C3(\\S[Mo-](=S)(=O)(O[a' for input: 'C(OP(OP(OC[C@H]2(O[C@H]1(NC4(/N=C(N)\\NC(=O)C(/N[C@H]1C3(\\S[Mo-](=S)(=O)(O[a'\n",
      "[17:40:37] WARNING: not removing hydrogen atom without neighbors\n",
      " 27%|██▋       | 959/3538 [00:45<11:47,  3.65it/s][17:40:38] WARNING: not removing hydrogen atom without neighbors\n",
      "[17:40:38] WARNING: not removing hydrogen atom without neighbors\n",
      "[17:40:38] WARNING: not removing hydrogen atom without neighbors\n",
      "[17:40:38] WARNING: not removing hydrogen atom without neighbors\n",
      "[17:40:38] WARNING: not removing hydrogen atom without neighbors\n",
      " 27%|██▋       | 964/3538 [00:45<09:38,  4.45it/s][17:40:38] WARNING: not removing hydrogen atom without neighbors\n",
      "[17:40:38] WARNING: not removing hydrogen atom without neighbors\n",
      "[17:40:38] WARNING: not removing hydrogen atom without neighbors\n",
      "[17:40:39] WARNING: not removing hydrogen atom without neighbors\n",
      " 27%|██▋       | 969/3538 [00:47<09:33,  4.48it/s][17:40:40] WARNING: not removing hydrogen atom without neighbors\n",
      "[17:40:40] WARNING: not removing hydrogen atom without neighbors\n",
      "[17:40:40] WARNING: not removing hydrogen atom without neighbors\n",
      " 27%|██▋       | 972/3538 [00:47<09:23,  4.55it/s][17:40:40] WARNING: not removing hydrogen atom without neighbors\n",
      "[17:40:40] WARNING: not removing hydrogen atom without neighbors\n",
      "[17:40:40] WARNING: not removing hydrogen atom without neighbors\n",
      "[17:40:40] WARNING: not removing hydrogen atom without neighbors\n",
      "[17:40:40] WARNING: not removing hydrogen atom without neighbors\n",
      "[17:40:40] WARNING: not removing hydrogen atom without neighbors\n",
      "[17:40:40] WARNING: not removing hydrogen atom without neighbors\n",
      "[17:40:40] WARNING: not removing hydrogen atom without neighbors\n",
      " 28%|██▊       | 980/3538 [00:47<05:53,  7.23it/s][17:40:40] WARNING: not removing hydrogen atom without neighbors\n",
      "[17:40:40] WARNING: not removing hydrogen atom without neighbors\n",
      "[17:40:40] WARNING: not removing hydrogen atom without neighbors\n",
      "[17:40:40] WARNING: not removing hydrogen atom without neighbors\n",
      "[17:40:40] WARNING: not removing hydrogen atom without neighbors\n",
      "[17:40:40] WARNING: not removing hydrogen atom without neighbors\n",
      "[17:40:40] WARNING: not removing hydrogen atom without neighbors\n",
      "[17:40:40] WARNING: not removing hydrogen atom without neighbors\n",
      " 28%|██▊       | 988/3538 [00:47<03:57, 10.72it/s][17:40:40] WARNING: not removing hydrogen atom without neighbors\n",
      "[17:40:40] WARNING: not removing hydrogen atom without neighbors\n",
      "[17:40:40] WARNING: not removing hydrogen atom without neighbors\n",
      "[17:40:40] WARNING: not removing hydrogen atom without neighbors\n",
      "[17:40:40] WARNING: not removing hydrogen atom without neighbors\n",
      "[17:40:40] WARNING: not removing hydrogen atom without neighbors\n",
      "[17:40:40] WARNING: not removing hydrogen atom without neighbors\n",
      "[17:40:40] WARNING: not removing hydrogen atom without neighbors\n",
      " 28%|██▊       | 996/3538 [00:48<02:48, 15.12it/s][17:40:40] WARNING: not removing hydrogen atom without neighbors\n",
      "[17:40:40] WARNING: not removing hydrogen atom without neighbors\n",
      "[17:40:40] WARNING: not removing hydrogen atom without neighbors\n",
      "[17:40:40] WARNING: not removing hydrogen atom without neighbors\n",
      "[17:40:41] WARNING: not removing hydrogen atom without neighbors\n",
      "[17:40:41] WARNING: not removing hydrogen atom without neighbors\n",
      "[17:40:41] WARNING: not removing hydrogen atom without neighbors\n",
      " 28%|██▊       | 1004/3538 [00:48<02:03, 20.51it/s][17:40:41] WARNING: not removing hydrogen atom without neighbors\n",
      "[17:40:41] WARNING: not removing hydrogen atom without neighbors\n",
      "[17:40:41] WARNING: not removing hydrogen atom without neighbors\n",
      "[17:40:41] WARNING: not removing hydrogen atom without neighbors\n",
      "[17:40:41] WARNING: not removing hydrogen atom without neighbors\n",
      "[17:40:41] WARNING: not removing hydrogen atom without neighbors\n",
      " 29%|██▊       | 1012/3538 [00:48<01:35, 26.57it/s][17:40:41] WARNING: not removing hydrogen atom without neighbors\n",
      "[17:40:41] WARNING: not removing hydrogen atom without neighbors\n",
      "[17:40:41] WARNING: not removing hydrogen atom without neighbors\n",
      "[17:40:41] WARNING: not removing hydrogen atom without neighbors\n",
      "[17:40:41] WARNING: not removing hydrogen atom without neighbors\n",
      "[17:40:41] WARNING: not removing hydrogen atom without neighbors\n",
      " 29%|██▉       | 1019/3538 [00:48<01:18, 32.05it/s][17:40:41] WARNING: not removing hydrogen atom without neighbors\n",
      "[17:40:41] WARNING: not removing hydrogen atom without neighbors\n",
      "[17:40:41] WARNING: not removing hydrogen atom without neighbors\n",
      "[17:40:41] WARNING: not removing hydrogen atom without neighbors\n",
      "[17:40:41] WARNING: not removing hydrogen atom without neighbors\n",
      "[17:40:41] WARNING: not removing hydrogen atom without neighbors\n",
      " 29%|██▉       | 1026/3538 [00:48<01:15, 33.21it/s][17:40:41] WARNING: not removing hydrogen atom without neighbors\n",
      "[17:40:41] WARNING: not removing hydrogen atom without neighbors\n",
      "[17:40:41] WARNING: not removing hydrogen atom without neighbors\n",
      "[17:40:41] WARNING: not removing hydrogen atom without neighbors\n",
      "[17:40:41] WARNING: not removing hydrogen atom without neighbors\n",
      "[17:40:41] WARNING: not removing hydrogen atom without neighbors\n",
      "[17:40:41] WARNING: not removing hydrogen atom without neighbors\n",
      "[17:40:41] WARNING: not removing hydrogen atom without neighbors\n",
      " 29%|██▉       | 1034/3538 [00:48<01:02, 40.03it/s][17:40:41] WARNING: not removing hydrogen atom without neighbors\n",
      "[17:40:43] WARNING: not removing hydrogen atom without neighbors\n",
      "[17:40:43] WARNING: not removing hydrogen atom without neighbors\n",
      "[17:40:43] WARNING: not removing hydrogen atom without neighbors\n",
      " 29%|██▉       | 1041/3538 [00:50<04:41,  8.86it/s][17:40:43] SMILES Parse Error: syntax error while parsing: CCC(=O)CC(=O)CC(=O)CC(=O)CC(=O)CC(=O)CC(=O)CC(=O)CC(=O)CC(SCCNC(=O)CCNC([C@H](O)C(C)(C)COP(=O)([O-])OC[C@H](N[a\n",
      "[17:40:43] SMILES Parse Error: Failed parsing SMILES 'CCC(=O)CC(=O)CC(=O)CC(=O)CC(=O)CC(=O)CC(=O)CC(=O)CC(=O)CC(SCCNC(=O)CCNC([C@H](O)C(C)(C)COP(=O)([O-])OC[C@H](N[a' for input: 'CCC(=O)CC(=O)CC(=O)CC(=O)CC(=O)CC(=O)CC(=O)CC(=O)CC(=O)CC(SCCNC(=O)CCNC([C@H](O)C(C)(C)COP(=O)([O-])OC[C@H](N[a'\n",
      "[17:40:43] SMILES Parse Error: syntax error while parsing: CCC(=O)CC(=O)CC(=O)CC(=O)CC(=O)CC(O)CC(=O)CC(=O)CC(=O)CC(SCCNC(=O)CCNC([C@H](O)C(C)(C)COP(=O)([O-])OC[C@H](N[a\n",
      "[17:40:43] SMILES Parse Error: Failed parsing SMILES 'CCC(=O)CC(=O)CC(=O)CC(=O)CC(=O)CC(O)CC(=O)CC(=O)CC(=O)CC(SCCNC(=O)CCNC([C@H](O)C(C)(C)COP(=O)([O-])OC[C@H](N[a' for input: 'CCC(=O)CC(=O)CC(=O)CC(=O)CC(=O)CC(O)CC(=O)CC(=O)CC(=O)CC(SCCNC(=O)CCNC([C@H](O)C(C)(C)COP(=O)([O-])OC[C@H](N[a'\n",
      "[17:40:43] WARNING: not removing hydrogen atom without neighbors\n",
      "[17:40:45] WARNING: not removing hydrogen atom without neighbors\n",
      "[17:40:45] WARNING: not removing hydrogen atom without neighbors\n",
      "[17:40:45] Conflicting single bond directions around double bond at index 12.\n",
      "[17:40:45]   BondStereo set to STEREONONE and single bond directions set to NONE.\n",
      "[17:40:45] Conflicting single bond directions around double bond at index 17.\n",
      "[17:40:45]   BondStereo set to STEREONONE and single bond directions set to NONE.\n",
      "[17:40:45] Conflicting single bond directions around double bond at index 12.\n",
      "[17:40:45]   BondStereo set to STEREONONE and single bond directions set to NONE.\n",
      "[17:40:45] Conflicting single bond directions around double bond at index 17.\n",
      "[17:40:45]   BondStereo set to STEREONONE and single bond directions set to NONE.\n",
      "[17:40:45] Conflicting single bond directions around double bond at index 18.\n",
      "[17:40:45]   BondStereo set to STEREONONE and single bond directions set to NONE.\n",
      "[17:40:45] Conflicting single bond directions around double bond at index 23.\n",
      "[17:40:45]   BondStereo set to STEREONONE and single bond directions set to NONE.\n",
      "[17:40:45] WARNING: not removing hydrogen atom without neighbors\n",
      " 30%|██▉       | 1046/3538 [00:52<05:53,  7.05it/s][17:40:45] WARNING: not removing hydrogen atom without neighbors\n",
      "[17:40:45] WARNING: not removing hydrogen atom without neighbors\n",
      "[17:40:45] WARNING: not removing hydrogen atom without neighbors\n",
      "[17:40:45] WARNING: not removing hydrogen atom without neighbors\n",
      "[17:40:45] WARNING: not removing hydrogen atom without neighbors\n",
      "[17:40:45] WARNING: not removing hydrogen atom without neighbors\n",
      " 30%|██▉       | 1054/3538 [00:52<04:03, 10.18it/s][17:40:45] WARNING: not removing hydrogen atom without neighbors\n",
      "[17:40:45] WARNING: not removing hydrogen atom without neighbors\n",
      "[17:40:45] WARNING: not removing hydrogen atom without neighbors\n",
      "[17:40:45] WARNING: not removing hydrogen atom without neighbors\n",
      "[17:40:45] WARNING: not removing hydrogen atom without neighbors\n",
      " 30%|██▉       | 1059/3538 [00:52<03:33, 11.63it/s][17:40:45] WARNING: not removing hydrogen atom without neighbors\n",
      "[17:40:45] WARNING: not removing hydrogen atom without neighbors\n",
      "[17:40:45] WARNING: not removing hydrogen atom without neighbors\n",
      "[17:40:45] WARNING: not removing hydrogen atom without neighbors\n",
      "[17:40:45] WARNING: not removing hydrogen atom without neighbors\n",
      "[17:40:45] WARNING: not removing hydrogen atom without neighbors\n",
      " 30%|███       | 1067/3538 [00:52<02:30, 16.43it/s][17:40:45] WARNING: not removing hydrogen atom without neighbors\n",
      "[17:40:45] WARNING: not removing hydrogen atom without neighbors\n",
      "[17:40:45] WARNING: not removing hydrogen atom without neighbors\n",
      "[17:40:45] WARNING: not removing hydrogen atom without neighbors\n",
      "[17:40:45] WARNING: not removing hydrogen atom without neighbors\n",
      "[17:40:45] WARNING: not removing hydrogen atom without neighbors\n",
      "[17:40:45] WARNING: not removing hydrogen atom without neighbors\n",
      " 30%|███       | 1075/3538 [00:52<01:50, 22.22it/s][17:40:45] WARNING: not removing hydrogen atom without neighbors\n",
      "[17:40:45] WARNING: not removing hydrogen atom without neighbors\n",
      "[17:40:45] WARNING: not removing hydrogen atom without neighbors\n",
      "[17:40:45] WARNING: not removing hydrogen atom without neighbors\n",
      "[17:40:45] WARNING: not removing hydrogen atom without neighbors\n",
      "[17:40:45] WARNING: not removing hydrogen atom without neighbors\n",
      " 31%|███       | 1082/3538 [00:52<01:28, 27.62it/s][17:40:45] WARNING: not removing hydrogen atom without neighbors\n",
      "[17:40:45] WARNING: not removing hydrogen atom without neighbors\n",
      "[17:40:45] WARNING: not removing hydrogen atom without neighbors\n",
      "[17:40:45] WARNING: not removing hydrogen atom without neighbors\n",
      "[17:40:45] WARNING: not removing hydrogen atom without neighbors\n",
      "[17:40:45] WARNING: not removing hydrogen atom without neighbors\n",
      " 31%|███       | 1088/3538 [00:52<01:16, 32.17it/s][17:40:45] WARNING: not removing hydrogen atom without neighbors\n",
      "[17:40:45] WARNING: not removing hydrogen atom without neighbors\n",
      "[17:40:45] WARNING: not removing hydrogen atom without neighbors\n",
      "[17:40:45] WARNING: not removing hydrogen atom without neighbors\n",
      "[17:40:45] WARNING: not removing hydrogen atom without neighbors\n",
      "[17:40:45] WARNING: not removing hydrogen atom without neighbors\n",
      "[17:40:45] WARNING: not removing hydrogen atom without neighbors\n",
      " 31%|███       | 1095/3538 [00:53<01:03, 38.39it/s][17:40:45] WARNING: not removing hydrogen atom without neighbors\n",
      "[17:40:45] WARNING: not removing hydrogen atom without neighbors\n",
      "[17:40:45] WARNING: not removing hydrogen atom without neighbors\n",
      "[17:40:46] WARNING: not removing hydrogen atom without neighbors\n",
      "[17:40:46] WARNING: not removing hydrogen atom without neighbors\n",
      "[17:40:46] WARNING: not removing hydrogen atom without neighbors\n",
      "[17:40:46] WARNING: not removing hydrogen atom without neighbors\n",
      "[17:40:46] WARNING: not removing hydrogen atom without neighbors\n",
      " 31%|███       | 1103/3538 [00:53<00:57, 42.28it/s][17:40:46] WARNING: not removing hydrogen atom without neighbors\n",
      "[17:40:46] WARNING: not removing hydrogen atom without neighbors\n",
      "[17:40:46] WARNING: not removing hydrogen atom without neighbors\n",
      "[17:40:46] WARNING: not removing hydrogen atom without neighbors\n",
      "[17:40:46] WARNING: not removing hydrogen atom without neighbors\n",
      " 31%|███▏      | 1109/3538 [00:53<00:55, 43.70it/s][17:40:46] WARNING: not removing hydrogen atom without neighbors\n",
      "[17:40:46] WARNING: not removing hydrogen atom without neighbors\n",
      " 32%|███▏      | 1116/3538 [00:53<00:49, 48.77it/s][17:40:46] WARNING: not removing hydrogen atom without neighbors\n",
      "[17:40:46] WARNING: not removing hydrogen atom without neighbors\n",
      "[17:40:46] WARNING: not removing hydrogen atom without neighbors\n",
      "[17:40:46] WARNING: not removing hydrogen atom without neighbors\n",
      "[17:40:46] WARNING: not removing hydrogen atom without neighbors\n",
      " 32%|███▏      | 1122/3538 [00:53<00:47, 50.77it/s][17:40:46] WARNING: not removing hydrogen atom without neighbors\n",
      "[17:40:46] WARNING: not removing hydrogen atom without neighbors\n",
      "[17:40:46] WARNING: not removing hydrogen atom without neighbors\n",
      "[17:40:46] WARNING: not removing hydrogen atom without neighbors\n",
      "[17:40:46] WARNING: not removing hydrogen atom without neighbors\n",
      " 32%|███▏      | 1129/3538 [00:53<00:43, 55.16it/s][17:40:46] WARNING: not removing hydrogen atom without neighbors\n",
      "[17:40:46] WARNING: not removing hydrogen atom without neighbors\n",
      "[17:40:46] WARNING: not removing hydrogen atom without neighbors\n",
      "[17:40:46] WARNING: not removing hydrogen atom without neighbors\n",
      "[17:40:46] WARNING: not removing hydrogen atom without neighbors\n",
      "[17:40:46] WARNING: not removing hydrogen atom without neighbors\n",
      "[17:40:46] WARNING: not removing hydrogen atom without neighbors\n",
      " 32%|███▏      | 1136/3538 [00:53<00:43, 55.62it/s][17:40:46] WARNING: not removing hydrogen atom without neighbors\n",
      "[17:40:46] WARNING: not removing hydrogen atom without neighbors\n",
      "[17:40:46] WARNING: not removing hydrogen atom without neighbors\n",
      "[17:40:46] WARNING: not removing hydrogen atom without neighbors\n",
      "[17:40:46] WARNING: not removing hydrogen atom without neighbors\n",
      "[17:40:46] WARNING: not removing hydrogen atom without neighbors\n",
      "[17:40:46] WARNING: not removing hydrogen atom without neighbors\n",
      "[17:40:46] WARNING: not removing hydrogen atom without neighbors\n",
      " 32%|███▏      | 1144/3538 [00:53<00:40, 59.78it/s][17:40:46] WARNING: not removing hydrogen atom without neighbors\n",
      "[17:40:46] WARNING: not removing hydrogen atom without neighbors\n",
      "[17:40:46] WARNING: not removing hydrogen atom without neighbors\n",
      "[17:40:46] WARNING: not removing hydrogen atom without neighbors\n",
      "[17:40:46] WARNING: not removing hydrogen atom without neighbors\n",
      "[17:40:46] WARNING: not removing hydrogen atom without neighbors\n",
      "[17:40:46] WARNING: not removing hydrogen atom without neighbors\n",
      " 33%|███▎      | 1151/3538 [00:53<00:39, 60.90it/s][17:40:46] WARNING: not removing hydrogen atom without neighbors\n",
      "[17:40:46] WARNING: not removing hydrogen atom without neighbors\n",
      "[17:40:46] WARNING: not removing hydrogen atom without neighbors\n",
      "[17:40:46] WARNING: not removing hydrogen atom without neighbors\n",
      "[17:40:46] WARNING: not removing hydrogen atom without neighbors\n",
      "[17:40:46] WARNING: not removing hydrogen atom without neighbors\n",
      " 33%|███▎      | 1158/3538 [00:54<00:37, 63.25it/s][17:40:47] WARNING: not removing hydrogen atom without neighbors\n",
      "[17:40:47] WARNING: not removing hydrogen atom without neighbors\n",
      "[17:40:47] WARNING: not removing hydrogen atom without neighbors\n",
      "[17:40:47] WARNING: not removing hydrogen atom without neighbors\n",
      "[17:40:47] WARNING: not removing hydrogen atom without neighbors\n",
      "[17:40:47] WARNING: not removing hydrogen atom without neighbors\n",
      "[17:40:47] WARNING: not removing hydrogen atom without neighbors\n",
      "[17:40:47] SMILES Parse Error: syntax error while parsing: CC(C)(COP(=O)([O-])OC[C@H](N[a\n",
      "[17:40:47] SMILES Parse Error: Failed parsing SMILES 'CC(C)(COP(=O)([O-])OC[C@H](N[a' for input: 'CC(C)(COP(=O)([O-])OC[C@H](N[a'\n",
      " 33%|███▎      | 1165/3538 [00:54<00:44, 53.78it/s][17:40:48] WARNING: not removing hydrogen atom without neighbors\n",
      "[17:40:48] SMILES Parse Error: syntax error while parsing: CC(C)=CCCC(\\C)=C/CCC(\\C)=C/CCC(/C)=C/CCC(/C)=C/CCC(/C)=C/CCC(/C)=C/CCC(/C)=C/CCC(/C)=C/CCC(/C)=C/CCC(/C)=C/COP(=O)([O-])OP(=O)([O-])O[C@H]9(O[C@H](CO)[C@@H](O[C@@H]8(O[C@H](C(=O)[O-])[C@@H](O[C@H]7(O[C@H](C)[C@H](NC(C)=O)[C@H](O[C@H]6(O[C@H](CO)[C@@H](O[C@@H]5(O[C@H](C(=O)[O-])[C@@H](O[C@H]4(O[C@H](C)[C@H](NC(C)=O)[C@H](O[C@H]3(O[C@H](CO)[C@@H](O[C@@H]2(O[C@H](C(=O)[O-])[C@@H](O[C@H]1(O[C@H](C)[C@H](NC(C)=O)[C@H](O[R])[C@@H](O)1))[C@H](O)[C@H](NC(C)=O)2))[C@H](O)[C@@H](NC(C)=O)3))[C@@H](O)4))[C@H](O)[C@H](NC(C)=O)5))[C@H](O)[C@@H](NC(C)=O)6))[C@@H](O)7))[C@H](O)[C@H](NC(C)=O)8))[C@H](O)[C@@H](NC(C)=O)9)\n",
      "[17:40:48] SMILES Parse Error: Failed parsing SMILES 'CC(C)=CCCC(\\C)=C/CCC(\\C)=C/CCC(/C)=C/CCC(/C)=C/CCC(/C)=C/CCC(/C)=C/CCC(/C)=C/CCC(/C)=C/CCC(/C)=C/CCC(/C)=C/COP(=O)([O-])OP(=O)([O-])O[C@H]9(O[C@H](CO)[C@@H](O[C@@H]8(O[C@H](C(=O)[O-])[C@@H](O[C@H]7(O[C@H](C)[C@H](NC(C)=O)[C@H](O[C@H]6(O[C@H](CO)[C@@H](O[C@@H]5(O[C@H](C(=O)[O-])[C@@H](O[C@H]4(O[C@H](C)[C@H](NC(C)=O)[C@H](O[C@H]3(O[C@H](CO)[C@@H](O[C@@H]2(O[C@H](C(=O)[O-])[C@@H](O[C@H]1(O[C@H](C)[C@H](NC(C)=O)[C@H](O[R])[C@@H](O)1))[C@H](O)[C@H](NC(C)=O)2))[C@H](O)[C@@H](NC(C)=O)3))[C@@H](O)4))[C@H](O)[C@H](NC(C)=O)5))[C@H](O)[C@@H](NC(C)=O)6))[C@@H](O)7))[C@H](O)[C@H](NC(C)=O)8))[C@H](O)[C@@H](NC(C)=O)9)' for input: 'CC(C)=CCCC(\\C)=C/CCC(\\C)=C/CCC(/C)=C/CCC(/C)=C/CCC(/C)=C/CCC(/C)=C/CCC(/C)=C/CCC(/C)=C/CCC(/C)=C/CCC(/C)=C/COP(=O)([O-])OP(=O)([O-])O[C@H]9(O[C@H](CO)[C@@H](O[C@@H]8(O[C@H](C(=O)[O-])[C@@H](O[C@H]7(O[C@H](C)[C@H](NC(C)=O)[C@H](O[C@H]6(O[C@H](CO)[C@@H](O[C@@H]5(O[C@H](C(=O)[O-])[C@@H](O[C@H]4(O[C@H](C)[C@H](NC(C)=O)[C@H](O[C@H]3(O[C@H](CO)[C@@H](O[C@@H]2(O[C@H](C(=O)[O-])[C@@H](O[C@H]1(O[C@H](C)[C@H](NC(C)=O)[C@H](O[R])[C@@H](O)1))[C@H](O)[C@H](NC(C)=O)2))[C@H](O)[C@@H](NC(C)=O)3))[C@@H](O)4))[C@H](O)[C@H](NC(C)=O)5))[C@H](O)[C@@H](NC(C)=O)6))[C@@H](O)7))[C@H](O)[C@H](NC(C)=O)8))[C@H](O)[C@@H](NC(C)=O)9)'\n",
      "[17:40:49] WARNING: not removing hydrogen atom without neighbors\n",
      " 33%|███▎      | 1171/3538 [00:57<05:33,  7.10it/s][17:40:50] WARNING: not removing hydrogen atom without neighbors\n",
      "[17:40:50] WARNING: not removing hydrogen atom without neighbors\n",
      "[17:40:50] WARNING: not removing hydrogen atom without neighbors\n",
      "[17:40:50] WARNING: not removing hydrogen atom without neighbors\n",
      "[17:40:50] WARNING: not removing hydrogen atom without neighbors\n",
      " 33%|███▎      | 1177/3538 [00:57<04:12,  9.35it/s][17:40:50] WARNING: not removing hydrogen atom without neighbors\n",
      "[17:40:50] WARNING: not removing hydrogen atom without neighbors\n",
      "[17:40:50] WARNING: not removing hydrogen atom without neighbors\n",
      "[17:40:50] WARNING: not removing hydrogen atom without neighbors\n",
      "[17:40:50] WARNING: not removing hydrogen atom without neighbors\n",
      "[17:40:50] WARNING: not removing hydrogen atom without neighbors\n",
      "[17:40:50] WARNING: not removing hydrogen atom without neighbors\n",
      " 33%|███▎      | 1184/3538 [00:57<03:03, 12.82it/s][17:40:50] WARNING: not removing hydrogen atom without neighbors\n",
      "[17:40:50] WARNING: not removing hydrogen atom without neighbors\n",
      "[17:40:50] WARNING: not removing hydrogen atom without neighbors\n",
      "[17:40:50] WARNING: not removing hydrogen atom without neighbors\n",
      "[17:40:50] WARNING: not removing hydrogen atom without neighbors\n",
      "[17:40:50] WARNING: not removing hydrogen atom without neighbors\n",
      "[17:40:50] WARNING: not removing hydrogen atom without neighbors\n",
      "[17:40:50] WARNING: not removing hydrogen atom without neighbors\n",
      "[17:40:50] SMILES Parse Error: syntax error while parsing: CC(C)=CCCC(\\C)=C/CCC(\\C)=C/CCC(/C)=C/CCC(/C)=C/CCC(/C)=C/CCC(/C)=C/CCC(/C)=C/CCC(/C)=C/CCC(/C)=C/CCC(/C)=C/COP(=O)([O-])OP([O-])(=O)O[C@@H]1([C@@H]([C@H]([C@H]([C@H](O1)CO)O)O[C@@H]%12(O[C@H](CO)[C@H](O)[C@H](O[C@]%11(C([O-])=O)(C[C@H](O[C@H]%10(O[C@H](CO)[C@H](O[C@H]2([C@@H]([C@H]([C@H]([C@H](O2)CO)O)O[C@@H]9(O[C@H](CO)[C@H](O)[C@H](O[C@]8(C([O-])=O)(C[C@H](O[C@H]7(O[C@H](CO)[C@H](O[C@H]3([C@@H]([C@H]([C@H]([C@H](O3)CO)O)O[C@@H]6(O[C@H](CO)[C@H](O)[C@H](O[C@]5(C([O-])=O)(C[C@H](O[C@H]4(O[C@H](CO)[C@H](O[R])[C@H](O)[C@@H](O)4))[C@@H](NC(C)=O)[C@@H](O5)[C@H](OC(=O)C)[C@H](O)COC(C)=O))[C@@H](O)6))NC(C)=O))[C@H](O)[C@@H](O)7))[C@@H](NC(C)=O)[C@@H](O8)[C@H](OC(=O)C)[C@H](O)COC(C)=O))[C@@H](O)9))NC(C)=O))[C@H](O)[C@@H](O)%10))[C@@H](NC(C)=O)[C@@H](O%11)[C@H](OC(=O)C)[C@H](O)COC(C)=O))[C@@H](O)%12))NC(C)=O)\n",
      "[17:40:50] SMILES Parse Error: Failed parsing SMILES 'CC(C)=CCCC(\\C)=C/CCC(\\C)=C/CCC(/C)=C/CCC(/C)=C/CCC(/C)=C/CCC(/C)=C/CCC(/C)=C/CCC(/C)=C/CCC(/C)=C/CCC(/C)=C/COP(=O)([O-])OP([O-])(=O)O[C@@H]1([C@@H]([C@H]([C@H]([C@H](O1)CO)O)O[C@@H]%12(O[C@H](CO)[C@H](O)[C@H](O[C@]%11(C([O-])=O)(C[C@H](O[C@H]%10(O[C@H](CO)[C@H](O[C@H]2([C@@H]([C@H]([C@H]([C@H](O2)CO)O)O[C@@H]9(O[C@H](CO)[C@H](O)[C@H](O[C@]8(C([O-])=O)(C[C@H](O[C@H]7(O[C@H](CO)[C@H](O[C@H]3([C@@H]([C@H]([C@H]([C@H](O3)CO)O)O[C@@H]6(O[C@H](CO)[C@H](O)[C@H](O[C@]5(C([O-])=O)(C[C@H](O[C@H]4(O[C@H](CO)[C@H](O[R])[C@H](O)[C@@H](O)4))[C@@H](NC(C)=O)[C@@H](O5)[C@H](OC(=O)C)[C@H](O)COC(C)=O))[C@@H](O)6))NC(C)=O))[C@H](O)[C@@H](O)7))[C@@H](NC(C)=O)[C@@H](O8)[C@H](OC(=O)C)[C@H](O)COC(C)=O))[C@@H](O)9))NC(C)=O))[C@H](O)[C@@H](O)%10))[C@@H](NC(C)=O)[C@@H](O%11)[C@H](OC(=O)C)[C@H](O)COC(C)=O))[C@@H](O)%12))NC(C)=O)' for input: 'CC(C)=CCCC(\\C)=C/CCC(\\C)=C/CCC(/C)=C/CCC(/C)=C/CCC(/C)=C/CCC(/C)=C/CCC(/C)=C/CCC(/C)=C/CCC(/C)=C/CCC(/C)=C/COP(=O)([O-])OP([O-])(=O)O[C@@H]1([C@@H]([C@H]([C@H]([C@H](O1)CO)O)O[C@@H]%12(O[C@H](CO)[C@H](O)[C@H](O[C@]%11(C([O-])=O)(C[C@H](O[C@H]%10(O[C@H](CO)[C@H](O[C@H]2([C@@H]([C@H]([C@H]([C@H](O2)CO)O)O[C@@H]9(O[C@H](CO)[C@H](O)[C@H](O[C@]8(C([O-])=O)(C[C@H](O[C@H]7(O[C@H](CO)[C@H](O[C@H]3([C@@H]([C@H]([C@H]([C@H](O3)CO)O)O[C@@H]6(O[C@H](CO)[C@H](O)[C@H](O[C@]5(C([O-])=O)(C[C@H](O[C@H]4(O[C@H](CO)[C@H](O[R])[C@H](O)[C@@H](O)4))[C@@H](NC(C)=O)[C@@H](O5)[C@H](OC(=O)C)[C@H](O)COC(C)=O))[C@@H](O)6))NC(C)=O))[C@H](O)[C@@H](O)7))[C@@H](NC(C)=O)[C@@H](O8)[C@H](OC(=O)C)[C@H](O)COC(C)=O))[C@@H](O)9))NC(C)=O))[C@H](O)[C@@H](O)%10))[C@@H](NC(C)=O)[C@@H](O%11)[C@H](OC(=O)C)[C@H](O)COC(C)=O))[C@@H](O)%12))NC(C)=O)'\n",
      " 34%|███▎      | 1192/3538 [00:57<02:20, 16.67it/s][17:40:51] SMILES Parse Error: syntax error while parsing: CC(C)=CCCC(\\C)=C/CCC(\\C)=C/CCC(/C)=C/CCC(/C)=C/CCC(/C)=C/CCC(/C)=C/CCC(/C)=C/CCC(/C)=C/CCC(/C)=C/CCC(/C)=C/COP(=O)([O-])OP(O[C@H]1(O[C@@H]([C@@H]([C@@H]([C@H]1NC(=O)C)O[C@@H]2(O[C@@H]([C@@H]([C@@H]([C@H]2O)O)O[C@H]3(O[C@@H]([C@H]([C@@H]([C@H]3NC(=O)C)O)O[C@@H]%15(O[C@@H](C)[C@H](O)[C@@H](O[C@H]4([C@@H]([C@H]([C@H]([C@H](O4)CO)O[C@H]5(O[C@@H]([C@@H]([C@@H]([C@H]5NC(=O)C)O[C@@H]6(O[C@@H]([C@@H]([C@@H]([C@H]6O)O)O[C@H]7(O[C@@H]([C@H]([C@@H]([C@H]7NC(=O)C)O)O[C@@H]%14(O[C@@H](C)[C@H](O)[C@@H](O[C@H]8([C@@H]([C@H]([C@H]([C@H](O8)CO)O[C@H]9(O[C@@H]([C@@H]([C@@H]([C@H]9NC(=O)C)O[C@@H]%10(O[C@@H]([C@@H]([C@@H]([C@H]%10O)O)O[C@H]%11(O[C@@H]([C@H]([C@@H]([C@H]%11NC(=O)C)O)O[C@@H]%13(O[C@@H](C)[C@H](O)[C@@H](O[C@H]%12([C@@H]([C@H]([C@H]([C@H](O%12)CO)O[R])O)NC(C)=O))[C@@H](O)%13))CO))CO))O)CO))O)NC(C)=O))[C@@H](O)%14))CO))CO))O)CO))O)NC(C)=O))[C@@H](O)%15))CO))CO))O)CO))([O-])=O\n",
      "[17:40:51] SMILES Parse Error: Failed parsing SMILES 'CC(C)=CCCC(\\C)=C/CCC(\\C)=C/CCC(/C)=C/CCC(/C)=C/CCC(/C)=C/CCC(/C)=C/CCC(/C)=C/CCC(/C)=C/CCC(/C)=C/CCC(/C)=C/COP(=O)([O-])OP(O[C@H]1(O[C@@H]([C@@H]([C@@H]([C@H]1NC(=O)C)O[C@@H]2(O[C@@H]([C@@H]([C@@H]([C@H]2O)O)O[C@H]3(O[C@@H]([C@H]([C@@H]([C@H]3NC(=O)C)O)O[C@@H]%15(O[C@@H](C)[C@H](O)[C@@H](O[C@H]4([C@@H]([C@H]([C@H]([C@H](O4)CO)O[C@H]5(O[C@@H]([C@@H]([C@@H]([C@H]5NC(=O)C)O[C@@H]6(O[C@@H]([C@@H]([C@@H]([C@H]6O)O)O[C@H]7(O[C@@H]([C@H]([C@@H]([C@H]7NC(=O)C)O)O[C@@H]%14(O[C@@H](C)[C@H](O)[C@@H](O[C@H]8([C@@H]([C@H]([C@H]([C@H](O8)CO)O[C@H]9(O[C@@H]([C@@H]([C@@H]([C@H]9NC(=O)C)O[C@@H]%10(O[C@@H]([C@@H]([C@@H]([C@H]%10O)O)O[C@H]%11(O[C@@H]([C@H]([C@@H]([C@H]%11NC(=O)C)O)O[C@@H]%13(O[C@@H](C)[C@H](O)[C@@H](O[C@H]%12([C@@H]([C@H]([C@H]([C@H](O%12)CO)O[R])O)NC(C)=O))[C@@H](O)%13))CO))CO))O)CO))O)NC(C)=O))[C@@H](O)%14))CO))CO))O)CO))O)NC(C)=O))[C@@H](O)%15))CO))CO))O)CO))([O-])=O' for input: 'CC(C)=CCCC(\\C)=C/CCC(\\C)=C/CCC(/C)=C/CCC(/C)=C/CCC(/C)=C/CCC(/C)=C/CCC(/C)=C/CCC(/C)=C/CCC(/C)=C/CCC(/C)=C/COP(=O)([O-])OP(O[C@H]1(O[C@@H]([C@@H]([C@@H]([C@H]1NC(=O)C)O[C@@H]2(O[C@@H]([C@@H]([C@@H]([C@H]2O)O)O[C@H]3(O[C@@H]([C@H]([C@@H]([C@H]3NC(=O)C)O)O[C@@H]%15(O[C@@H](C)[C@H](O)[C@@H](O[C@H]4([C@@H]([C@H]([C@H]([C@H](O4)CO)O[C@H]5(O[C@@H]([C@@H]([C@@H]([C@H]5NC(=O)C)O[C@@H]6(O[C@@H]([C@@H]([C@@H]([C@H]6O)O)O[C@H]7(O[C@@H]([C@H]([C@@H]([C@H]7NC(=O)C)O)O[C@@H]%14(O[C@@H](C)[C@H](O)[C@@H](O[C@H]8([C@@H]([C@H]([C@H]([C@H](O8)CO)O[C@H]9(O[C@@H]([C@@H]([C@@H]([C@H]9NC(=O)C)O[C@@H]%10(O[C@@H]([C@@H]([C@@H]([C@H]%10O)O)O[C@H]%11(O[C@@H]([C@H]([C@@H]([C@H]%11NC(=O)C)O)O[C@@H]%13(O[C@@H](C)[C@H](O)[C@@H](O[C@H]%12([C@@H]([C@H]([C@H]([C@H](O%12)CO)O[R])O)NC(C)=O))[C@@H](O)%13))CO))CO))O)CO))O)NC(C)=O))[C@@H](O)%14))CO))CO))O)CO))O)NC(C)=O))[C@@H](O)%15))CO))CO))O)CO))([O-])=O'\n",
      "[17:40:51] WARNING: not removing hydrogen atom without neighbors\n",
      "[17:40:52] WARNING: not removing hydrogen atom without neighbors\n",
      "[17:40:52] SMILES Parse Error: syntax error while parsing: CC(C)=CCCC(\\C)=C/CCC(\\C)=C/CCC(/C)=C/CCC(/C)=C/CCC(/C)=C/CCC(/C)=C/CCC(/C)=C/CCC(/C)=C/CCC(/C)=C/CCC(/C)=C/COP(=O)([O-])OP([O-])(=O)O[C@@H]1([C@@H]([C@H]([C@@H]([C@H](O1)CO)O)O[C@H]%15(O[C@H](CO)[C@H](O[C@H]%14(O[C@H](CO[C@H]2(O[C@@H](C)[C@@H](O)C[C@H](O)2))[C@@H](O[C@H]3([C@@H]([C@H]([C@@H]([C@H](O3)CO)O)O[C@H]%12(O[C@H](CO)[C@H](O[C@H]%11(O[C@H](CO[C@H]4(O[C@@H](C)[C@@H](O)C[C@H](O)4))[C@@H](O[C@H]5([C@@H]([C@H]([C@@H]([C@H](O5)CO)O)O[C@H]9(O[C@H](CO)[C@H](O[C@H]8(O[C@H](CO[C@H]6(O[C@@H](C)[C@@H](O)C[C@H](O)6))[C@@H](O[R])[C@H](O[C@H]7(O[C@@H](C)[C@@H](O)C[C@H](O)7))[C@@H](O)8))[C@H](O)[C@@H](O)9))NC(C)=O))[C@H](O[C@H]%10(O[C@@H](C)[C@@H](O)C[C@H](O)%10))[C@@H](O)%11))[C@H](O)[C@@H](O)%12))NC(C)=O))[C@H](O[C@H]%13(O[C@@H](C)[C@@H](O)C[C@H](O)%13))[C@@H](O)%14))[C@H](O)[C@@H](O)%15))NC(C)=O)\n",
      "[17:40:52] SMILES Parse Error: Failed parsing SMILES 'CC(C)=CCCC(\\C)=C/CCC(\\C)=C/CCC(/C)=C/CCC(/C)=C/CCC(/C)=C/CCC(/C)=C/CCC(/C)=C/CCC(/C)=C/CCC(/C)=C/CCC(/C)=C/COP(=O)([O-])OP([O-])(=O)O[C@@H]1([C@@H]([C@H]([C@@H]([C@H](O1)CO)O)O[C@H]%15(O[C@H](CO)[C@H](O[C@H]%14(O[C@H](CO[C@H]2(O[C@@H](C)[C@@H](O)C[C@H](O)2))[C@@H](O[C@H]3([C@@H]([C@H]([C@@H]([C@H](O3)CO)O)O[C@H]%12(O[C@H](CO)[C@H](O[C@H]%11(O[C@H](CO[C@H]4(O[C@@H](C)[C@@H](O)C[C@H](O)4))[C@@H](O[C@H]5([C@@H]([C@H]([C@@H]([C@H](O5)CO)O)O[C@H]9(O[C@H](CO)[C@H](O[C@H]8(O[C@H](CO[C@H]6(O[C@@H](C)[C@@H](O)C[C@H](O)6))[C@@H](O[R])[C@H](O[C@H]7(O[C@@H](C)[C@@H](O)C[C@H](O)7))[C@@H](O)8))[C@H](O)[C@@H](O)9))NC(C)=O))[C@H](O[C@H]%10(O[C@@H](C)[C@@H](O)C[C@H](O)%10))[C@@H](O)%11))[C@H](O)[C@@H](O)%12))NC(C)=O))[C@H](O[C@H]%13(O[C@@H](C)[C@@H](O)C[C@H](O)%13))[C@@H](O)%14))[C@H](O)[C@@H](O)%15))NC(C)=O)' for input: 'CC(C)=CCCC(\\C)=C/CCC(\\C)=C/CCC(/C)=C/CCC(/C)=C/CCC(/C)=C/CCC(/C)=C/CCC(/C)=C/CCC(/C)=C/CCC(/C)=C/CCC(/C)=C/COP(=O)([O-])OP([O-])(=O)O[C@@H]1([C@@H]([C@H]([C@@H]([C@H](O1)CO)O)O[C@H]%15(O[C@H](CO)[C@H](O[C@H]%14(O[C@H](CO[C@H]2(O[C@@H](C)[C@@H](O)C[C@H](O)2))[C@@H](O[C@H]3([C@@H]([C@H]([C@@H]([C@H](O3)CO)O)O[C@H]%12(O[C@H](CO)[C@H](O[C@H]%11(O[C@H](CO[C@H]4(O[C@@H](C)[C@@H](O)C[C@H](O)4))[C@@H](O[C@H]5([C@@H]([C@H]([C@@H]([C@H](O5)CO)O)O[C@H]9(O[C@H](CO)[C@H](O[C@H]8(O[C@H](CO[C@H]6(O[C@@H](C)[C@@H](O)C[C@H](O)6))[C@@H](O[R])[C@H](O[C@H]7(O[C@@H](C)[C@@H](O)C[C@H](O)7))[C@@H](O)8))[C@H](O)[C@@H](O)9))NC(C)=O))[C@H](O[C@H]%10(O[C@@H](C)[C@@H](O)C[C@H](O)%10))[C@@H](O)%11))[C@H](O)[C@@H](O)%12))NC(C)=O))[C@H](O[C@H]%13(O[C@@H](C)[C@@H](O)C[C@H](O)%13))[C@@H](O)%14))[C@H](O)[C@@H](O)%15))NC(C)=O)'\n",
      "[17:40:53] WARNING: not removing hydrogen atom without neighbors\n",
      "[17:40:53] SMILES Parse Error: syntax error while parsing: CC(C)=CCCC(\\C)=C/CCC(\\C)=C/CCC(/C)=C/CCC(/C)=C/CCC(/C)=C/CCC(/C)=C/CCC(/C)=C/CCC(/C)=C/CCC(/C)=C/CCC(/C)=C/COP(=O)([O-])OP(O[C@H]1(O[C@@H]([C@@H]([C@@H]([C@H]1NC(=O)C)O[C@@H]2(O[C@@H]([C@@H]([C@@H]([C@H]2O)O)O[C@H]3(O[C@@H]([C@H]([C@@H]([C@H]3O)O)O[C@@H]%15(O[C@@H](C)[C@H](O)[C@@H](O[C@H]4([C@@H]([C@H]([C@H]([C@H](O4)CO)O[C@H]5(O[C@@H]([C@@H]([C@@H]([C@H]5NC(=O)C)O[C@@H]6(O[C@@H]([C@@H]([C@@H]([C@H]6O)O)O[C@H]7(O[C@@H]([C@H]([C@@H]([C@H]7O)O)O[C@@H]%14(O[C@@H](C)[C@H](O)[C@@H](O[C@H]8([C@@H]([C@H]([C@H]([C@H](O8)CO)O[C@H]9(O[C@@H]([C@@H]([C@@H]([C@H]9NC(=O)C)O[C@@H]%10(O[C@@H]([C@@H]([C@@H]([C@H]%10O)O)O[C@H]%11(O[C@@H]([C@H]([C@@H]([C@H]%11O)O)O[C@@H]%13(O[C@@H](C)[C@H](O)[C@@H](O[C@H]%12([C@@H]([C@H]([C@H]([C@H](O%12)CO)O[R])O)NC(C)=O))[C@@H](O)%13))CO))CO))O)CO))O)NC(C)=O))[C@@H](O)%14))CO))CO))O)CO))O)NC(C)=O))[C@@H](O)%15))CO))CO))O)CO))([O-])=O\n",
      "[17:40:53] SMILES Parse Error: Failed parsing SMILES 'CC(C)=CCCC(\\C)=C/CCC(\\C)=C/CCC(/C)=C/CCC(/C)=C/CCC(/C)=C/CCC(/C)=C/CCC(/C)=C/CCC(/C)=C/CCC(/C)=C/CCC(/C)=C/COP(=O)([O-])OP(O[C@H]1(O[C@@H]([C@@H]([C@@H]([C@H]1NC(=O)C)O[C@@H]2(O[C@@H]([C@@H]([C@@H]([C@H]2O)O)O[C@H]3(O[C@@H]([C@H]([C@@H]([C@H]3O)O)O[C@@H]%15(O[C@@H](C)[C@H](O)[C@@H](O[C@H]4([C@@H]([C@H]([C@H]([C@H](O4)CO)O[C@H]5(O[C@@H]([C@@H]([C@@H]([C@H]5NC(=O)C)O[C@@H]6(O[C@@H]([C@@H]([C@@H]([C@H]6O)O)O[C@H]7(O[C@@H]([C@H]([C@@H]([C@H]7O)O)O[C@@H]%14(O[C@@H](C)[C@H](O)[C@@H](O[C@H]8([C@@H]([C@H]([C@H]([C@H](O8)CO)O[C@H]9(O[C@@H]([C@@H]([C@@H]([C@H]9NC(=O)C)O[C@@H]%10(O[C@@H]([C@@H]([C@@H]([C@H]%10O)O)O[C@H]%11(O[C@@H]([C@H]([C@@H]([C@H]%11O)O)O[C@@H]%13(O[C@@H](C)[C@H](O)[C@@H](O[C@H]%12([C@@H]([C@H]([C@H]([C@H](O%12)CO)O[R])O)NC(C)=O))[C@@H](O)%13))CO))CO))O)CO))O)NC(C)=O))[C@@H](O)%14))CO))CO))O)CO))O)NC(C)=O))[C@@H](O)%15))CO))CO))O)CO))([O-])=O' for input: 'CC(C)=CCCC(\\C)=C/CCC(\\C)=C/CCC(/C)=C/CCC(/C)=C/CCC(/C)=C/CCC(/C)=C/CCC(/C)=C/CCC(/C)=C/CCC(/C)=C/CCC(/C)=C/COP(=O)([O-])OP(O[C@H]1(O[C@@H]([C@@H]([C@@H]([C@H]1NC(=O)C)O[C@@H]2(O[C@@H]([C@@H]([C@@H]([C@H]2O)O)O[C@H]3(O[C@@H]([C@H]([C@@H]([C@H]3O)O)O[C@@H]%15(O[C@@H](C)[C@H](O)[C@@H](O[C@H]4([C@@H]([C@H]([C@H]([C@H](O4)CO)O[C@H]5(O[C@@H]([C@@H]([C@@H]([C@H]5NC(=O)C)O[C@@H]6(O[C@@H]([C@@H]([C@@H]([C@H]6O)O)O[C@H]7(O[C@@H]([C@H]([C@@H]([C@H]7O)O)O[C@@H]%14(O[C@@H](C)[C@H](O)[C@@H](O[C@H]8([C@@H]([C@H]([C@H]([C@H](O8)CO)O[C@H]9(O[C@@H]([C@@H]([C@@H]([C@H]9NC(=O)C)O[C@@H]%10(O[C@@H]([C@@H]([C@@H]([C@H]%10O)O)O[C@H]%11(O[C@@H]([C@H]([C@@H]([C@H]%11O)O)O[C@@H]%13(O[C@@H](C)[C@H](O)[C@@H](O[C@H]%12([C@@H]([C@H]([C@H]([C@H](O%12)CO)O[R])O)NC(C)=O))[C@@H](O)%13))CO))CO))O)CO))O)NC(C)=O))[C@@H](O)%14))CO))CO))O)CO))O)NC(C)=O))[C@@H](O)%15))CO))CO))O)CO))([O-])=O'\n",
      "[17:40:54] SMILES Parse Error: syntax error while parsing: CC(C)=CCCC(/C)=C/CCC(/C)=C/CCC(/C)=C/CCC(/C)=C/CCC(/C)=C/CCC(/C)=C/CCC(/C)=C/CCC(/C)=C/CCC(/C)=C/CCC(/C)=C/COP(=O)([O-])OP(=O)([O-])O[C@@H]1([C@@H]([C@H]([C@@H](O)[C@H](O1)CO)O[C@H]%12(O[C@H](CO)[C@H](O)[C@H](O[C@@H]%11(O[C@H](CO)[C@H](O)[C@H](O)[C@@H](O[C@@H]%10(O[C@@H](C)[C@@H](OC(=O)C)[C@@H](OC(=O)C)[C@H](O[C@@H]2([C@@H]([C@H]([C@@H](O)[C@H](O2)CO)O[C@H]9(O[C@H](CO)[C@H](O)[C@H](O[C@@H]8(O[C@H](CO)[C@H](O)[C@H](O)[C@@H](O[C@@H]7(O[C@@H](C)[C@@H](OC(=O)C)[C@@H](OC(=O)C)[C@H](O[C@@H]3([C@@H]([C@H]([C@@H](O)[C@H](O3)CO)O[C@H]6(O[C@H](CO)[C@H](O)[C@H](O[C@@H]5(O[C@H](CO)[C@H](O)[C@H](O)[C@@H](O[C@@H]4(O[C@@H](C)[C@@H](OC(=O)C)[C@@H](OC(=O)C)[C@H](O[R])4))5))[C@@H](NC(C)=O)6))NC(C)=O))7))8))[C@@H](NC(C)=O)9))NC(C)=O))%10))%11))[C@@H](NC(C)=O)%12))NC(C)=O)\n",
      "[17:40:54] SMILES Parse Error: Failed parsing SMILES 'CC(C)=CCCC(/C)=C/CCC(/C)=C/CCC(/C)=C/CCC(/C)=C/CCC(/C)=C/CCC(/C)=C/CCC(/C)=C/CCC(/C)=C/CCC(/C)=C/CCC(/C)=C/COP(=O)([O-])OP(=O)([O-])O[C@@H]1([C@@H]([C@H]([C@@H](O)[C@H](O1)CO)O[C@H]%12(O[C@H](CO)[C@H](O)[C@H](O[C@@H]%11(O[C@H](CO)[C@H](O)[C@H](O)[C@@H](O[C@@H]%10(O[C@@H](C)[C@@H](OC(=O)C)[C@@H](OC(=O)C)[C@H](O[C@@H]2([C@@H]([C@H]([C@@H](O)[C@H](O2)CO)O[C@H]9(O[C@H](CO)[C@H](O)[C@H](O[C@@H]8(O[C@H](CO)[C@H](O)[C@H](O)[C@@H](O[C@@H]7(O[C@@H](C)[C@@H](OC(=O)C)[C@@H](OC(=O)C)[C@H](O[C@@H]3([C@@H]([C@H]([C@@H](O)[C@H](O3)CO)O[C@H]6(O[C@H](CO)[C@H](O)[C@H](O[C@@H]5(O[C@H](CO)[C@H](O)[C@H](O)[C@@H](O[C@@H]4(O[C@@H](C)[C@@H](OC(=O)C)[C@@H](OC(=O)C)[C@H](O[R])4))5))[C@@H](NC(C)=O)6))NC(C)=O))7))8))[C@@H](NC(C)=O)9))NC(C)=O))%10))%11))[C@@H](NC(C)=O)%12))NC(C)=O)' for input: 'CC(C)=CCCC(/C)=C/CCC(/C)=C/CCC(/C)=C/CCC(/C)=C/CCC(/C)=C/CCC(/C)=C/CCC(/C)=C/CCC(/C)=C/CCC(/C)=C/CCC(/C)=C/COP(=O)([O-])OP(=O)([O-])O[C@@H]1([C@@H]([C@H]([C@@H](O)[C@H](O1)CO)O[C@H]%12(O[C@H](CO)[C@H](O)[C@H](O[C@@H]%11(O[C@H](CO)[C@H](O)[C@H](O)[C@@H](O[C@@H]%10(O[C@@H](C)[C@@H](OC(=O)C)[C@@H](OC(=O)C)[C@H](O[C@@H]2([C@@H]([C@H]([C@@H](O)[C@H](O2)CO)O[C@H]9(O[C@H](CO)[C@H](O)[C@H](O[C@@H]8(O[C@H](CO)[C@H](O)[C@H](O)[C@@H](O[C@@H]7(O[C@@H](C)[C@@H](OC(=O)C)[C@@H](OC(=O)C)[C@H](O[C@@H]3([C@@H]([C@H]([C@@H](O)[C@H](O3)CO)O[C@H]6(O[C@H](CO)[C@H](O)[C@H](O[C@@H]5(O[C@H](CO)[C@H](O)[C@H](O)[C@@H](O[C@@H]4(O[C@@H](C)[C@@H](OC(=O)C)[C@@H](OC(=O)C)[C@H](O[R])4))5))[C@@H](NC(C)=O)6))NC(C)=O))7))8))[C@@H](NC(C)=O)9))NC(C)=O))%10))%11))[C@@H](NC(C)=O)%12))NC(C)=O)'\n",
      "[17:40:54] WARNING: not removing hydrogen atom without neighbors\n",
      "[17:40:56] SMILES Parse Error: syntax error while parsing: CC(C)=CCCC(\\C)=C/CCC(\\C)=C/CCC(/C)=C/CCC(/C)=C/CCC(/C)=C/CCC(/C)=C/CCC(/C)=C/CCC(/C)=C/CCC(/C)=C/CCC(/C)=C/COP(=O)([O-])OP([O-])(=O)O[C@@H]1([C@@H]([C@H]([C@H]([C@H](O1)CO)O)O[C@H]%15(O[C@H](CO)[C@H](O[C@H]2([C@@H]([C@H]([C@H]([C@H](O2)CO)O)O[C@H]3([C@@H]([C@H]([C@H]([C@H](O3)CO[C@H]4([C@@H]([C@H]([C@H]([C@H](O4)CO)O)O[C@H]%13(O[C@H](CO)[C@H](O[C@H]5([C@@H]([C@H]([C@H]([C@H](O5)CO)O)O[C@H]6([C@@H]([C@H]([C@H]([C@H](O6)CO[C@H]7([C@@H]([C@H]([C@H]([C@H](O7)CO)O)O[C@H]%11(O[C@H](CO)[C@H](O[C@H]8([C@@H]([C@H]([C@H]([C@H](O8)CO)O)O[C@H]9([C@@H]([C@H]([C@H]([C@H](O9)CO[R])O)O)O[C@H]%10([C@H]([C@@H]([C@@H]([C@@H](O%10)C)O)O)O)))NC(C)=O))[C@H](O)[C@@H](O)%11))NC(C)=O))O)O)O[C@H]%12([C@H]([C@@H]([C@@H]([C@@H](O%12)C)O)O)O)))NC(C)=O))[C@H](O)[C@@H](O)%13))NC(C)=O))O)O)O[C@H]%14([C@H]([C@@H]([C@@H]([C@@H](O%14)C)O)O)O)))NC(C)=O))[C@H](O)[C@@H](O)%15))NC(C)=O)\n",
      "[17:40:56] SMILES Parse Error: Failed parsing SMILES 'CC(C)=CCCC(\\C)=C/CCC(\\C)=C/CCC(/C)=C/CCC(/C)=C/CCC(/C)=C/CCC(/C)=C/CCC(/C)=C/CCC(/C)=C/CCC(/C)=C/CCC(/C)=C/COP(=O)([O-])OP([O-])(=O)O[C@@H]1([C@@H]([C@H]([C@H]([C@H](O1)CO)O)O[C@H]%15(O[C@H](CO)[C@H](O[C@H]2([C@@H]([C@H]([C@H]([C@H](O2)CO)O)O[C@H]3([C@@H]([C@H]([C@H]([C@H](O3)CO[C@H]4([C@@H]([C@H]([C@H]([C@H](O4)CO)O)O[C@H]%13(O[C@H](CO)[C@H](O[C@H]5([C@@H]([C@H]([C@H]([C@H](O5)CO)O)O[C@H]6([C@@H]([C@H]([C@H]([C@H](O6)CO[C@H]7([C@@H]([C@H]([C@H]([C@H](O7)CO)O)O[C@H]%11(O[C@H](CO)[C@H](O[C@H]8([C@@H]([C@H]([C@H]([C@H](O8)CO)O)O[C@H]9([C@@H]([C@H]([C@H]([C@H](O9)CO[R])O)O)O[C@H]%10([C@H]([C@@H]([C@@H]([C@@H](O%10)C)O)O)O)))NC(C)=O))[C@H](O)[C@@H](O)%11))NC(C)=O))O)O)O[C@H]%12([C@H]([C@@H]([C@@H]([C@@H](O%12)C)O)O)O)))NC(C)=O))[C@H](O)[C@@H](O)%13))NC(C)=O))O)O)O[C@H]%14([C@H]([C@@H]([C@@H]([C@@H](O%14)C)O)O)O)))NC(C)=O))[C@H](O)[C@@H](O)%15))NC(C)=O)' for input: 'CC(C)=CCCC(\\C)=C/CCC(\\C)=C/CCC(/C)=C/CCC(/C)=C/CCC(/C)=C/CCC(/C)=C/CCC(/C)=C/CCC(/C)=C/CCC(/C)=C/CCC(/C)=C/COP(=O)([O-])OP([O-])(=O)O[C@@H]1([C@@H]([C@H]([C@H]([C@H](O1)CO)O)O[C@H]%15(O[C@H](CO)[C@H](O[C@H]2([C@@H]([C@H]([C@H]([C@H](O2)CO)O)O[C@H]3([C@@H]([C@H]([C@H]([C@H](O3)CO[C@H]4([C@@H]([C@H]([C@H]([C@H](O4)CO)O)O[C@H]%13(O[C@H](CO)[C@H](O[C@H]5([C@@H]([C@H]([C@H]([C@H](O5)CO)O)O[C@H]6([C@@H]([C@H]([C@H]([C@H](O6)CO[C@H]7([C@@H]([C@H]([C@H]([C@H](O7)CO)O)O[C@H]%11(O[C@H](CO)[C@H](O[C@H]8([C@@H]([C@H]([C@H]([C@H](O8)CO)O)O[C@H]9([C@@H]([C@H]([C@H]([C@H](O9)CO[R])O)O)O[C@H]%10([C@H]([C@@H]([C@@H]([C@@H](O%10)C)O)O)O)))NC(C)=O))[C@H](O)[C@@H](O)%11))NC(C)=O))O)O)O[C@H]%12([C@H]([C@@H]([C@@H]([C@@H](O%12)C)O)O)O)))NC(C)=O))[C@H](O)[C@@H](O)%13))NC(C)=O))O)O)O[C@H]%14([C@H]([C@@H]([C@@H]([C@@H](O%14)C)O)O)O)))NC(C)=O))[C@H](O)[C@@H](O)%15))NC(C)=O)'\n",
      " 34%|███▍      | 1197/3538 [01:03<12:01,  3.24it/s][17:40:57] WARNING: not removing hydrogen atom without neighbors\n",
      "[17:40:57] SMILES Parse Error: syntax error while parsing: CC(C)=CCCC(\\C)=C/CCC(\\C)=C/CCC(/C)=C/CCC(/C)=C/CCC(/C)=C/CCC(/C)=C/CCC(/C)=C/CCC(/C)=C/CCC(/C)=C/CCC(/C)=C/COP(=O)([O-])OP([O-])(=O)O[C@@H]%12([C@@H]([C@H]([C@H](O[C@H]%11(O[C@@H](C)[C@H](O)[C@@H](O[C@H]1([C@@H]([C@H]([C@H]2([C@H](O1)CO[C@@](C)(C(=O)[O-])O2))O[C@H]%10([C@@H]([C@H]([C@H](O[C@H]9(O[C@@H](C)[C@H](O)[C@@H](O[C@H]3([C@@H]([C@H]([C@H]4([C@H](O3)CO[C@@](C)(C(=O)[O-])O4))O[C@H]8([C@@H]([C@H]([C@H](O[C@H]7(O[C@@H](C)[C@H](O)[C@@H](O[C@H]5([C@@H]([C@H]([C@H]6([C@H](O5)CO[C@@](C)(C(=O)[O-])O6))O[R])NC(C)=O))[C@@H](O)7))[C@H](O8)CO)O)NC(C)=O))NC(C)=O))[C@@H](O)9))[C@H](O%10)CO)O)NC(C)=O))NC(C)=O))[C@@H](O)%11))[C@H](O%12)CO)O)NC(C)=O)\n",
      "[17:40:57] SMILES Parse Error: Failed parsing SMILES 'CC(C)=CCCC(\\C)=C/CCC(\\C)=C/CCC(/C)=C/CCC(/C)=C/CCC(/C)=C/CCC(/C)=C/CCC(/C)=C/CCC(/C)=C/CCC(/C)=C/CCC(/C)=C/COP(=O)([O-])OP([O-])(=O)O[C@@H]%12([C@@H]([C@H]([C@H](O[C@H]%11(O[C@@H](C)[C@H](O)[C@@H](O[C@H]1([C@@H]([C@H]([C@H]2([C@H](O1)CO[C@@](C)(C(=O)[O-])O2))O[C@H]%10([C@@H]([C@H]([C@H](O[C@H]9(O[C@@H](C)[C@H](O)[C@@H](O[C@H]3([C@@H]([C@H]([C@H]4([C@H](O3)CO[C@@](C)(C(=O)[O-])O4))O[C@H]8([C@@H]([C@H]([C@H](O[C@H]7(O[C@@H](C)[C@H](O)[C@@H](O[C@H]5([C@@H]([C@H]([C@H]6([C@H](O5)CO[C@@](C)(C(=O)[O-])O6))O[R])NC(C)=O))[C@@H](O)7))[C@H](O8)CO)O)NC(C)=O))NC(C)=O))[C@@H](O)9))[C@H](O%10)CO)O)NC(C)=O))NC(C)=O))[C@@H](O)%11))[C@H](O%12)CO)O)NC(C)=O)' for input: 'CC(C)=CCCC(\\C)=C/CCC(\\C)=C/CCC(/C)=C/CCC(/C)=C/CCC(/C)=C/CCC(/C)=C/CCC(/C)=C/CCC(/C)=C/CCC(/C)=C/CCC(/C)=C/COP(=O)([O-])OP([O-])(=O)O[C@@H]%12([C@@H]([C@H]([C@H](O[C@H]%11(O[C@@H](C)[C@H](O)[C@@H](O[C@H]1([C@@H]([C@H]([C@H]2([C@H](O1)CO[C@@](C)(C(=O)[O-])O2))O[C@H]%10([C@@H]([C@H]([C@H](O[C@H]9(O[C@@H](C)[C@H](O)[C@@H](O[C@H]3([C@@H]([C@H]([C@H]4([C@H](O3)CO[C@@](C)(C(=O)[O-])O4))O[C@H]8([C@@H]([C@H]([C@H](O[C@H]7(O[C@@H](C)[C@H](O)[C@@H](O[C@H]5([C@@H]([C@H]([C@H]6([C@H](O5)CO[C@@](C)(C(=O)[O-])O6))O[R])NC(C)=O))[C@@H](O)7))[C@H](O8)CO)O)NC(C)=O))NC(C)=O))[C@@H](O)9))[C@H](O%10)CO)O)NC(C)=O))NC(C)=O))[C@@H](O)%11))[C@H](O%12)CO)O)NC(C)=O)'\n",
      "[17:40:58] WARNING: not removing hydrogen atom without neighbors\n",
      "[17:40:58] SMILES Parse Error: syntax error while parsing: CC(C)=CCCC(\\C)=C/CCC(\\C)=C/CCC(/C)=C/CCC(/C)=C/CCC(/C)=C/CCC(/C)=C/CCC(/C)=C/CCC(/C)=C/CCC(/C)=C/CCC(/C)=C/COP(=O)([O-])OP([O-])(=O)O[C@@H]1([C@@H]([C@H]([C@@H]([C@H](O1)CO)O)O[C@@H]9(O[C@@H](C)[C@@H](O)[C@@H](O[C@@H]8(O[C@H](CO)[C@H](O)[C@H](O)[C@@H](O[C@H]2([C@@H]([C@H]([C@@H]([C@H](O2)CO)O)O[C@@H]7(O[C@@H](C)[C@@H](O)[C@@H](O[C@@H]6(O[C@H](CO)[C@H](O)[C@H](O)[C@@H](O[C@H]3([C@@H]([C@H]([C@@H]([C@H](O3)CO)O)O[C@@H]5(O[C@@H](C)[C@@H](O)[C@@H](O[C@@H]4(O[C@H](CO)[C@H](O)[C@H](O)[C@@H](O[R])4))[C@H](NC(=O)C)5))NC(C)=O))6))[C@H](NC(=O)C)7))NC(C)=O))8))[C@H](NC(=O)C)9))NC(C)=O)\n",
      "[17:40:58] SMILES Parse Error: Failed parsing SMILES 'CC(C)=CCCC(\\C)=C/CCC(\\C)=C/CCC(/C)=C/CCC(/C)=C/CCC(/C)=C/CCC(/C)=C/CCC(/C)=C/CCC(/C)=C/CCC(/C)=C/CCC(/C)=C/COP(=O)([O-])OP([O-])(=O)O[C@@H]1([C@@H]([C@H]([C@@H]([C@H](O1)CO)O)O[C@@H]9(O[C@@H](C)[C@@H](O)[C@@H](O[C@@H]8(O[C@H](CO)[C@H](O)[C@H](O)[C@@H](O[C@H]2([C@@H]([C@H]([C@@H]([C@H](O2)CO)O)O[C@@H]7(O[C@@H](C)[C@@H](O)[C@@H](O[C@@H]6(O[C@H](CO)[C@H](O)[C@H](O)[C@@H](O[C@H]3([C@@H]([C@H]([C@@H]([C@H](O3)CO)O)O[C@@H]5(O[C@@H](C)[C@@H](O)[C@@H](O[C@@H]4(O[C@H](CO)[C@H](O)[C@H](O)[C@@H](O[R])4))[C@H](NC(=O)C)5))NC(C)=O))6))[C@H](NC(=O)C)7))NC(C)=O))8))[C@H](NC(=O)C)9))NC(C)=O)' for input: 'CC(C)=CCCC(\\C)=C/CCC(\\C)=C/CCC(/C)=C/CCC(/C)=C/CCC(/C)=C/CCC(/C)=C/CCC(/C)=C/CCC(/C)=C/CCC(/C)=C/CCC(/C)=C/COP(=O)([O-])OP([O-])(=O)O[C@@H]1([C@@H]([C@H]([C@@H]([C@H](O1)CO)O)O[C@@H]9(O[C@@H](C)[C@@H](O)[C@@H](O[C@@H]8(O[C@H](CO)[C@H](O)[C@H](O)[C@@H](O[C@H]2([C@@H]([C@H]([C@@H]([C@H](O2)CO)O)O[C@@H]7(O[C@@H](C)[C@@H](O)[C@@H](O[C@@H]6(O[C@H](CO)[C@H](O)[C@H](O)[C@@H](O[C@H]3([C@@H]([C@H]([C@@H]([C@H](O3)CO)O)O[C@@H]5(O[C@@H](C)[C@@H](O)[C@@H](O[C@@H]4(O[C@H](CO)[C@H](O)[C@H](O)[C@@H](O[R])4))[C@H](NC(=O)C)5))NC(C)=O))6))[C@H](NC(=O)C)7))NC(C)=O))8))[C@H](NC(=O)C)9))NC(C)=O)'\n",
      "[17:41:00] WARNING: not removing hydrogen atom without neighbors\n",
      "[17:41:00] SMILES Parse Error: syntax error while parsing: CC(C)=CCCC(\\C)=C/CCC(\\C)=C/CCC(/C)=C/CCC(/C)=C/CCC(/C)=C/CCC(/C)=C/CCC(/C)=C/CCC(/C)=C/CCC(/C)=C/CCC(/C)=C/COP(=O)([O-])OP([O-])(=O)O[C@@H]1([C@@H]([C@H]([C@@H]([C@H](O1)CO)O)O[C@@H]%15(O[C@H](CO)[C@@H](O)[C@H](O)[C@@H](O[C@H]%14(O[C@H](COP(O[C@@H]2([C@@H]([C@H]([C@@H]([C@H](O2)CO)O[C@H]3(O[C@@H](C)[C@H](O)[C@@H](O)[C@@H](O)3))O[C@@H]4([C@@H]([C@H]([C@@H]([C@H](O4)CO)O)O[C@@H]%13(O[C@H](CO)[C@@H](O)[C@H](O)[C@@H](O[C@H]%12(O[C@H](COP(O[C@@H]5([C@@H]([C@H]([C@@H]([C@H](O5)CO)O[C@H]6(O[C@@H](C)[C@H](O)[C@@H](O)[C@@H](O)6))O[C@@H]7([C@@H]([C@H]([C@@H]([C@H](O7)CO)O)O[C@@H]%11(O[C@H](CO)[C@@H](O)[C@H](O)[C@@H](O[C@H]%10(O[C@H](COP(O[C@@H]8([C@@H]([C@H]([C@@H]([C@H](O8)CO)O[C@H]9(O[C@@H](C)[C@H](O)[C@@H](O)[C@@H](O)9))O[R])NC(C)=O))(=O)[O-])[C@@H](O)[C@H](O)[C@@H](O)%10))%11))NC(C)=O))NC(C)=O))(=O)[O-])[C@@H](O)[C@H](O)[C@@H](O)%12))%13))NC(C)=O))NC(C)=O))(=O)[O-])[C@@H](O)[C@H](O)[C@@H](O)%14))%15))NC(C)=O)\n",
      "[17:41:00] SMILES Parse Error: Failed parsing SMILES 'CC(C)=CCCC(\\C)=C/CCC(\\C)=C/CCC(/C)=C/CCC(/C)=C/CCC(/C)=C/CCC(/C)=C/CCC(/C)=C/CCC(/C)=C/CCC(/C)=C/CCC(/C)=C/COP(=O)([O-])OP([O-])(=O)O[C@@H]1([C@@H]([C@H]([C@@H]([C@H](O1)CO)O)O[C@@H]%15(O[C@H](CO)[C@@H](O)[C@H](O)[C@@H](O[C@H]%14(O[C@H](COP(O[C@@H]2([C@@H]([C@H]([C@@H]([C@H](O2)CO)O[C@H]3(O[C@@H](C)[C@H](O)[C@@H](O)[C@@H](O)3))O[C@@H]4([C@@H]([C@H]([C@@H]([C@H](O4)CO)O)O[C@@H]%13(O[C@H](CO)[C@@H](O)[C@H](O)[C@@H](O[C@H]%12(O[C@H](COP(O[C@@H]5([C@@H]([C@H]([C@@H]([C@H](O5)CO)O[C@H]6(O[C@@H](C)[C@H](O)[C@@H](O)[C@@H](O)6))O[C@@H]7([C@@H]([C@H]([C@@H]([C@H](O7)CO)O)O[C@@H]%11(O[C@H](CO)[C@@H](O)[C@H](O)[C@@H](O[C@H]%10(O[C@H](COP(O[C@@H]8([C@@H]([C@H]([C@@H]([C@H](O8)CO)O[C@H]9(O[C@@H](C)[C@H](O)[C@@H](O)[C@@H](O)9))O[R])NC(C)=O))(=O)[O-])[C@@H](O)[C@H](O)[C@@H](O)%10))%11))NC(C)=O))NC(C)=O))(=O)[O-])[C@@H](O)[C@H](O)[C@@H](O)%12))%13))NC(C)=O))NC(C)=O))(=O)[O-])[C@@H](O)[C@H](O)[C@@H](O)%14))%15))NC(C)=O)' for input: 'CC(C)=CCCC(\\C)=C/CCC(\\C)=C/CCC(/C)=C/CCC(/C)=C/CCC(/C)=C/CCC(/C)=C/CCC(/C)=C/CCC(/C)=C/CCC(/C)=C/CCC(/C)=C/COP(=O)([O-])OP([O-])(=O)O[C@@H]1([C@@H]([C@H]([C@@H]([C@H](O1)CO)O)O[C@@H]%15(O[C@H](CO)[C@@H](O)[C@H](O)[C@@H](O[C@H]%14(O[C@H](COP(O[C@@H]2([C@@H]([C@H]([C@@H]([C@H](O2)CO)O[C@H]3(O[C@@H](C)[C@H](O)[C@@H](O)[C@@H](O)3))O[C@@H]4([C@@H]([C@H]([C@@H]([C@H](O4)CO)O)O[C@@H]%13(O[C@H](CO)[C@@H](O)[C@H](O)[C@@H](O[C@H]%12(O[C@H](COP(O[C@@H]5([C@@H]([C@H]([C@@H]([C@H](O5)CO)O[C@H]6(O[C@@H](C)[C@H](O)[C@@H](O)[C@@H](O)6))O[C@@H]7([C@@H]([C@H]([C@@H]([C@H](O7)CO)O)O[C@@H]%11(O[C@H](CO)[C@@H](O)[C@H](O)[C@@H](O[C@H]%10(O[C@H](COP(O[C@@H]8([C@@H]([C@H]([C@@H]([C@H](O8)CO)O[C@H]9(O[C@@H](C)[C@H](O)[C@@H](O)[C@@H](O)9))O[R])NC(C)=O))(=O)[O-])[C@@H](O)[C@H](O)[C@@H](O)%10))%11))NC(C)=O))NC(C)=O))(=O)[O-])[C@@H](O)[C@H](O)[C@@H](O)%12))%13))NC(C)=O))NC(C)=O))(=O)[O-])[C@@H](O)[C@H](O)[C@@H](O)%14))%15))NC(C)=O)'\n",
      "[17:41:01] WARNING: not removing hydrogen atom without neighbors\n",
      "[17:41:01] SMILES Parse Error: syntax error while parsing: CC(C)=CCCC(\\C)=C/CCC(\\C)=C/CCC(/C)=C/CCC(/C)=C/CCC(/C)=C/CCC(/C)=C/CCC(/C)=C/CCC(/C)=C/CCC(/C)=C/CCC(/C)=C/COP(=O)([O-])OP([O-])(=O)O[C@@H]1([C@@H]([C@H]([C@H]([C@H](O1)CO)O)O[C@@H]%12(O[C@H](CO)[C@@H](O[C@H]2([C@H]([C@@H]([C@@H]([C@@H](O2)C)O)O[C@@H]3([C@H]([C@H]([C@@H]([C@H](O3)C)NC(=O)C)O)O[C@@H]4([C@@H]([C@H]([C@H]([C@H](O4)CO)O)O[C@@H]%11(O[C@H](CO)[C@@H](O[C@H]5([C@H]([C@@H]([C@@H]([C@@H](O5)C)O)O[C@@H]6([C@H]([C@H]([C@@H]([C@H](O6)C)NC(=O)C)O)O[C@@H]7([C@@H]([C@H]([C@H]([C@H](O7)CO)O)O[C@@H]%10(O[C@H](CO)[C@@H](O[C@H]8([C@H]([C@@H]([C@@H]([C@@H](O8)C)O)O[C@@H]9([C@H]([C@H]([C@@H]([C@H](O9)C)NC(=O)C)O)O[R]))O))[C@H](O)[C@@H](O)%10))NC(C)=O)))O))[C@H](O)[C@@H](O)%11))NC(C)=O)))O))[C@H](O)[C@@H](O)%12))NC(C)=O)\n",
      "[17:41:01] SMILES Parse Error: Failed parsing SMILES 'CC(C)=CCCC(\\C)=C/CCC(\\C)=C/CCC(/C)=C/CCC(/C)=C/CCC(/C)=C/CCC(/C)=C/CCC(/C)=C/CCC(/C)=C/CCC(/C)=C/CCC(/C)=C/COP(=O)([O-])OP([O-])(=O)O[C@@H]1([C@@H]([C@H]([C@H]([C@H](O1)CO)O)O[C@@H]%12(O[C@H](CO)[C@@H](O[C@H]2([C@H]([C@@H]([C@@H]([C@@H](O2)C)O)O[C@@H]3([C@H]([C@H]([C@@H]([C@H](O3)C)NC(=O)C)O)O[C@@H]4([C@@H]([C@H]([C@H]([C@H](O4)CO)O)O[C@@H]%11(O[C@H](CO)[C@@H](O[C@H]5([C@H]([C@@H]([C@@H]([C@@H](O5)C)O)O[C@@H]6([C@H]([C@H]([C@@H]([C@H](O6)C)NC(=O)C)O)O[C@@H]7([C@@H]([C@H]([C@H]([C@H](O7)CO)O)O[C@@H]%10(O[C@H](CO)[C@@H](O[C@H]8([C@H]([C@@H]([C@@H]([C@@H](O8)C)O)O[C@@H]9([C@H]([C@H]([C@@H]([C@H](O9)C)NC(=O)C)O)O[R]))O))[C@H](O)[C@@H](O)%10))NC(C)=O)))O))[C@H](O)[C@@H](O)%11))NC(C)=O)))O))[C@H](O)[C@@H](O)%12))NC(C)=O)' for input: 'CC(C)=CCCC(\\C)=C/CCC(\\C)=C/CCC(/C)=C/CCC(/C)=C/CCC(/C)=C/CCC(/C)=C/CCC(/C)=C/CCC(/C)=C/CCC(/C)=C/CCC(/C)=C/COP(=O)([O-])OP([O-])(=O)O[C@@H]1([C@@H]([C@H]([C@H]([C@H](O1)CO)O)O[C@@H]%12(O[C@H](CO)[C@@H](O[C@H]2([C@H]([C@@H]([C@@H]([C@@H](O2)C)O)O[C@@H]3([C@H]([C@H]([C@@H]([C@H](O3)C)NC(=O)C)O)O[C@@H]4([C@@H]([C@H]([C@H]([C@H](O4)CO)O)O[C@@H]%11(O[C@H](CO)[C@@H](O[C@H]5([C@H]([C@@H]([C@@H]([C@@H](O5)C)O)O[C@@H]6([C@H]([C@H]([C@@H]([C@H](O6)C)NC(=O)C)O)O[C@@H]7([C@@H]([C@H]([C@H]([C@H](O7)CO)O)O[C@@H]%10(O[C@H](CO)[C@@H](O[C@H]8([C@H]([C@@H]([C@@H]([C@@H](O8)C)O)O[C@@H]9([C@H]([C@H]([C@@H]([C@H](O9)C)NC(=O)C)O)O[R]))O))[C@H](O)[C@@H](O)%10))NC(C)=O)))O))[C@H](O)[C@@H](O)%11))NC(C)=O)))O))[C@H](O)[C@@H](O)%12))NC(C)=O)'\n",
      " 34%|███▍      | 1201/3538 [01:08<20:39,  1.88it/s][17:41:02] SMILES Parse Error: syntax error while parsing: CC(C)=CCCC(\\C)=C/CCC(\\C)=C/CCC(/C)=C/CCC(/C)=C/CCC(/C)=C/CCC(/C)=C/CCC(/C)=C/CCC(/C)=C/CCC(/C)=C/CCC(/C)=C/COP(OP(=O)([O-])O[C@@H]1([C@@H]([C@H]([C@H]([C@H](O1)CO)O)O[C@H]%18(O[C@H](CO)[C@@H](O)[C@H](O)[C@H](O[C@H]%17(O[C@H](CO[C@@H]2([C@@H]([C@H]([C@H]([C@H](O2)CO[C@@H]3(O[C@H](CO)[C@@H](O)[C@H](O)[C@@H](O)3))O[C@@H]4(O[C@H](C([O-])=O)[C@@H](O)[C@H](O)[C@@H](O)4))O[C@H]5([C@@H]([C@H]([C@H]([C@H](O5)CO)O)O[C@H]%16(O[C@H](CO)[C@@H](O)[C@H](O)[C@H](O[C@H]%15(O[C@H](CO[C@@H]6([C@@H]([C@H]([C@H]([C@H](O6)CO[C@@H]7(O[C@H](CO)[C@@H](O)[C@H](O)[C@@H](O)7))O[C@@H]8(O[C@H](C([O-])=O)[C@@H](O)[C@H](O)[C@@H](O)8))O[C@H]9([C@@H]([C@H]([C@H]([C@H](O9)CO)O)O[C@H]%14(O[C@H](CO)[C@@H](O)[C@H](O)[C@H](O[C@H]%13(O[C@H](CO[C@@H]%10([C@@H]([C@H]([C@H]([C@H](O%10)CO[C@@H]%11(O[C@H](CO)[C@@H](O)[C@H](O)[C@@H](O)%11))O[C@@H]%12(O[C@H](C([O-])=O)[C@@H](O)[C@H](O)[C@@H](O)%12))O[R])O))[C@@H](O)[C@H](O)[C@H](O)%13))%14))NC(C)=O))O))[C@@H](O)[C@H](O)[C@H](O)%15))%16))NC(C)=O))O))[C@@H](O)[C@H](O)[C@H](O)%17))%18))NC(C)=O))(O)=O\n",
      "[17:41:02] SMILES Parse Error: Failed parsing SMILES 'CC(C)=CCCC(\\C)=C/CCC(\\C)=C/CCC(/C)=C/CCC(/C)=C/CCC(/C)=C/CCC(/C)=C/CCC(/C)=C/CCC(/C)=C/CCC(/C)=C/CCC(/C)=C/COP(OP(=O)([O-])O[C@@H]1([C@@H]([C@H]([C@H]([C@H](O1)CO)O)O[C@H]%18(O[C@H](CO)[C@@H](O)[C@H](O)[C@H](O[C@H]%17(O[C@H](CO[C@@H]2([C@@H]([C@H]([C@H]([C@H](O2)CO[C@@H]3(O[C@H](CO)[C@@H](O)[C@H](O)[C@@H](O)3))O[C@@H]4(O[C@H](C([O-])=O)[C@@H](O)[C@H](O)[C@@H](O)4))O[C@H]5([C@@H]([C@H]([C@H]([C@H](O5)CO)O)O[C@H]%16(O[C@H](CO)[C@@H](O)[C@H](O)[C@H](O[C@H]%15(O[C@H](CO[C@@H]6([C@@H]([C@H]([C@H]([C@H](O6)CO[C@@H]7(O[C@H](CO)[C@@H](O)[C@H](O)[C@@H](O)7))O[C@@H]8(O[C@H](C([O-])=O)[C@@H](O)[C@H](O)[C@@H](O)8))O[C@H]9([C@@H]([C@H]([C@H]([C@H](O9)CO)O)O[C@H]%14(O[C@H](CO)[C@@H](O)[C@H](O)[C@H](O[C@H]%13(O[C@H](CO[C@@H]%10([C@@H]([C@H]([C@H]([C@H](O%10)CO[C@@H]%11(O[C@H](CO)[C@@H](O)[C@H](O)[C@@H](O)%11))O[C@@H]%12(O[C@H](C([O-])=O)[C@@H](O)[C@H](O)[C@@H](O)%12))O[R])O))[C@@H](O)[C@H](O)[C@H](O)%13))%14))NC(C)=O))O))[C@@H](O)[C@H](O)[C@H](O)%15))%16))NC(C)=O))O))[C@@H](O)[C@H](O)[C@H](O)%17))%18))NC(C)=O))(O)=O' for input: 'CC(C)=CCCC(\\C)=C/CCC(\\C)=C/CCC(/C)=C/CCC(/C)=C/CCC(/C)=C/CCC(/C)=C/CCC(/C)=C/CCC(/C)=C/CCC(/C)=C/CCC(/C)=C/COP(OP(=O)([O-])O[C@@H]1([C@@H]([C@H]([C@H]([C@H](O1)CO)O)O[C@H]%18(O[C@H](CO)[C@@H](O)[C@H](O)[C@H](O[C@H]%17(O[C@H](CO[C@@H]2([C@@H]([C@H]([C@H]([C@H](O2)CO[C@@H]3(O[C@H](CO)[C@@H](O)[C@H](O)[C@@H](O)3))O[C@@H]4(O[C@H](C([O-])=O)[C@@H](O)[C@H](O)[C@@H](O)4))O[C@H]5([C@@H]([C@H]([C@H]([C@H](O5)CO)O)O[C@H]%16(O[C@H](CO)[C@@H](O)[C@H](O)[C@H](O[C@H]%15(O[C@H](CO[C@@H]6([C@@H]([C@H]([C@H]([C@H](O6)CO[C@@H]7(O[C@H](CO)[C@@H](O)[C@H](O)[C@@H](O)7))O[C@@H]8(O[C@H](C([O-])=O)[C@@H](O)[C@H](O)[C@@H](O)8))O[C@H]9([C@@H]([C@H]([C@H]([C@H](O9)CO)O)O[C@H]%14(O[C@H](CO)[C@@H](O)[C@H](O)[C@H](O[C@H]%13(O[C@H](CO[C@@H]%10([C@@H]([C@H]([C@H]([C@H](O%10)CO[C@@H]%11(O[C@H](CO)[C@@H](O)[C@H](O)[C@@H](O)%11))O[C@@H]%12(O[C@H](C([O-])=O)[C@@H](O)[C@H](O)[C@@H](O)%12))O[R])O))[C@@H](O)[C@H](O)[C@H](O)%13))%14))NC(C)=O))O))[C@@H](O)[C@H](O)[C@H](O)%15))%16))NC(C)=O))O))[C@@H](O)[C@H](O)[C@H](O)%17))%18))NC(C)=O))(O)=O'\n",
      "[17:41:02] WARNING: not removing hydrogen atom without neighbors\n",
      "[17:41:03] SMILES Parse Error: syntax error while parsing: CC(C)=CCCC(\\C)=C/CCC(\\C)=C/CCC(/C)=C/CCC(/C)=C/CCC(/C)=C/CCC(/C)=C/CCC(/C)=C/CCC(/C)=C/CCC(/C)=C/CCC(/C)=C/COP(=O)([O-])OP([O-])(=O)O[C@@H]1([C@@H]([C@H]([C@@H]([C@H](O1)CO)O)O[C@@H]%12(O[C@@H](C)[C@@H](O)[C@@H](O[C@@H]%11(O[C@@H](C)[C@@H](O)[C@@H](O[C@@H]%10(O[C@@H](C)[C@H](O)[C@@H](O)[C@@H](O[C@H]2([C@@H]([C@H]([C@@H]([C@H](O2)CO)O)O[C@@H]9(O[C@@H](C)[C@@H](O)[C@@H](O[C@@H]8(O[C@@H](C)[C@@H](O)[C@@H](O[C@@H]7(O[C@@H](C)[C@H](O)[C@@H](O)[C@@H](O[C@H]3([C@@H]([C@H]([C@@H]([C@H](O3)CO)O)O[C@@H]6(O[C@@H](C)[C@@H](O)[C@@H](O[C@@H]5(O[C@@H](C)[C@@H](O)[C@@H](O[C@@H]4(O[C@@H](C)[C@H](O)[C@@H](O)[C@@H](O[R])4))[C@H](NC(=O)C)5))[C@H](NC(=O)C)6))NC(C)=O))7))[C@H](NC(=O)C)8))[C@H](NC(=O)C)9))NC(C)=O))%10))[C@H](NC(=O)C)%11))[C@H](NC(=O)C)%12))NC(C)=O)\n",
      "[17:41:03] SMILES Parse Error: Failed parsing SMILES 'CC(C)=CCCC(\\C)=C/CCC(\\C)=C/CCC(/C)=C/CCC(/C)=C/CCC(/C)=C/CCC(/C)=C/CCC(/C)=C/CCC(/C)=C/CCC(/C)=C/CCC(/C)=C/COP(=O)([O-])OP([O-])(=O)O[C@@H]1([C@@H]([C@H]([C@@H]([C@H](O1)CO)O)O[C@@H]%12(O[C@@H](C)[C@@H](O)[C@@H](O[C@@H]%11(O[C@@H](C)[C@@H](O)[C@@H](O[C@@H]%10(O[C@@H](C)[C@H](O)[C@@H](O)[C@@H](O[C@H]2([C@@H]([C@H]([C@@H]([C@H](O2)CO)O)O[C@@H]9(O[C@@H](C)[C@@H](O)[C@@H](O[C@@H]8(O[C@@H](C)[C@@H](O)[C@@H](O[C@@H]7(O[C@@H](C)[C@H](O)[C@@H](O)[C@@H](O[C@H]3([C@@H]([C@H]([C@@H]([C@H](O3)CO)O)O[C@@H]6(O[C@@H](C)[C@@H](O)[C@@H](O[C@@H]5(O[C@@H](C)[C@@H](O)[C@@H](O[C@@H]4(O[C@@H](C)[C@H](O)[C@@H](O)[C@@H](O[R])4))[C@H](NC(=O)C)5))[C@H](NC(=O)C)6))NC(C)=O))7))[C@H](NC(=O)C)8))[C@H](NC(=O)C)9))NC(C)=O))%10))[C@H](NC(=O)C)%11))[C@H](NC(=O)C)%12))NC(C)=O)' for input: 'CC(C)=CCCC(\\C)=C/CCC(\\C)=C/CCC(/C)=C/CCC(/C)=C/CCC(/C)=C/CCC(/C)=C/CCC(/C)=C/CCC(/C)=C/CCC(/C)=C/CCC(/C)=C/COP(=O)([O-])OP([O-])(=O)O[C@@H]1([C@@H]([C@H]([C@@H]([C@H](O1)CO)O)O[C@@H]%12(O[C@@H](C)[C@@H](O)[C@@H](O[C@@H]%11(O[C@@H](C)[C@@H](O)[C@@H](O[C@@H]%10(O[C@@H](C)[C@H](O)[C@@H](O)[C@@H](O[C@H]2([C@@H]([C@H]([C@@H]([C@H](O2)CO)O)O[C@@H]9(O[C@@H](C)[C@@H](O)[C@@H](O[C@@H]8(O[C@@H](C)[C@@H](O)[C@@H](O[C@@H]7(O[C@@H](C)[C@H](O)[C@@H](O)[C@@H](O[C@H]3([C@@H]([C@H]([C@@H]([C@H](O3)CO)O)O[C@@H]6(O[C@@H](C)[C@@H](O)[C@@H](O[C@@H]5(O[C@@H](C)[C@@H](O)[C@@H](O[C@@H]4(O[C@@H](C)[C@H](O)[C@@H](O)[C@@H](O[R])4))[C@H](NC(=O)C)5))[C@H](NC(=O)C)6))NC(C)=O))7))[C@H](NC(=O)C)8))[C@H](NC(=O)C)9))NC(C)=O))%10))[C@H](NC(=O)C)%11))[C@H](NC(=O)C)%12))NC(C)=O)'\n",
      "[17:41:03] WARNING: not removing hydrogen atom without neighbors\n",
      "[17:41:05] WARNING: not removing hydrogen atom without neighbors\n",
      "[17:41:05] SMILES Parse Error: syntax error while parsing: CC(C)=CCCC(\\C)=C/CCC(\\C)=C/CCC(/C)=C/CCC(/C)=C/CCC(/C)=C/CCC(/C)=C/CCC(/C)=C/CCC(/C)=C/CCC(/C)=C/CCC(/C)=C/COP(=O)([O-])OP([O-])(=O)O[C@@H]1([C@@H]([C@H]([C@H]([C@H](O1)CO)O)O[C@H]%18(O[C@H](CO)[C@@H](O)[C@H](O)[C@H](O[C@H]%17(O[C@H](CO[C@@H]2([C@@H]([C@H]([C@H]([C@H](O2)CO)O[C@@H]4(O[C@H](C([O-])=O)[C@@H](O[C@H]3(O[C@H](CO)[C@@H](O)[C@@H](O)3))[C@H](O)[C@@H](O)4))O[C@H]5([C@@H]([C@H]([C@H]([C@H](O5)CO)O)O[C@H]%16(O[C@H](CO)[C@@H](O)[C@H](O)[C@H](O[C@H]%15(O[C@H](CO[C@@H]6([C@@H]([C@H]([C@H]([C@H](O6)CO)O[C@@H]8(O[C@H](C([O-])=O)[C@@H](O[C@H]7(O[C@H](CO)[C@@H](O)[C@@H](O)7))[C@H](O)[C@@H](O)8))O[C@H]9([C@@H]([C@H]([C@H]([C@H](O9)CO)O)O[C@H]%14(O[C@H](CO)[C@@H](O)[C@H](O)[C@H](O[C@H]%13(O[C@H](CO[C@@H]%10([C@@H]([C@H]([C@H]([C@H](O%10)CO)O[C@@H]%12(O[C@H](C([O-])=O)[C@@H](O[C@H]%11(O[C@H](CO)[C@@H](O)[C@@H](O)%11))[C@H](O)[C@@H](O)%12))O[R])O))[C@@H](O)[C@H](O)[C@H](O)%13))%14))NC(C)=O))O))[C@@H](O)[C@H](O)[C@H](O)%15))%16))NC(C)=O))O))[C@@H](O)[C@H](O)[C@H](O)%17))%18))NC(C)=O)\n",
      "[17:41:05] SMILES Parse Error: Failed parsing SMILES 'CC(C)=CCCC(\\C)=C/CCC(\\C)=C/CCC(/C)=C/CCC(/C)=C/CCC(/C)=C/CCC(/C)=C/CCC(/C)=C/CCC(/C)=C/CCC(/C)=C/CCC(/C)=C/COP(=O)([O-])OP([O-])(=O)O[C@@H]1([C@@H]([C@H]([C@H]([C@H](O1)CO)O)O[C@H]%18(O[C@H](CO)[C@@H](O)[C@H](O)[C@H](O[C@H]%17(O[C@H](CO[C@@H]2([C@@H]([C@H]([C@H]([C@H](O2)CO)O[C@@H]4(O[C@H](C([O-])=O)[C@@H](O[C@H]3(O[C@H](CO)[C@@H](O)[C@@H](O)3))[C@H](O)[C@@H](O)4))O[C@H]5([C@@H]([C@H]([C@H]([C@H](O5)CO)O)O[C@H]%16(O[C@H](CO)[C@@H](O)[C@H](O)[C@H](O[C@H]%15(O[C@H](CO[C@@H]6([C@@H]([C@H]([C@H]([C@H](O6)CO)O[C@@H]8(O[C@H](C([O-])=O)[C@@H](O[C@H]7(O[C@H](CO)[C@@H](O)[C@@H](O)7))[C@H](O)[C@@H](O)8))O[C@H]9([C@@H]([C@H]([C@H]([C@H](O9)CO)O)O[C@H]%14(O[C@H](CO)[C@@H](O)[C@H](O)[C@H](O[C@H]%13(O[C@H](CO[C@@H]%10([C@@H]([C@H]([C@H]([C@H](O%10)CO)O[C@@H]%12(O[C@H](C([O-])=O)[C@@H](O[C@H]%11(O[C@H](CO)[C@@H](O)[C@@H](O)%11))[C@H](O)[C@@H](O)%12))O[R])O))[C@@H](O)[C@H](O)[C@H](O)%13))%14))NC(C)=O))O))[C@@H](O)[C@H](O)[C@H](O)%15))%16))NC(C)=O))O))[C@@H](O)[C@H](O)[C@H](O)%17))%18))NC(C)=O)' for input: 'CC(C)=CCCC(\\C)=C/CCC(\\C)=C/CCC(/C)=C/CCC(/C)=C/CCC(/C)=C/CCC(/C)=C/CCC(/C)=C/CCC(/C)=C/CCC(/C)=C/CCC(/C)=C/COP(=O)([O-])OP([O-])(=O)O[C@@H]1([C@@H]([C@H]([C@H]([C@H](O1)CO)O)O[C@H]%18(O[C@H](CO)[C@@H](O)[C@H](O)[C@H](O[C@H]%17(O[C@H](CO[C@@H]2([C@@H]([C@H]([C@H]([C@H](O2)CO)O[C@@H]4(O[C@H](C([O-])=O)[C@@H](O[C@H]3(O[C@H](CO)[C@@H](O)[C@@H](O)3))[C@H](O)[C@@H](O)4))O[C@H]5([C@@H]([C@H]([C@H]([C@H](O5)CO)O)O[C@H]%16(O[C@H](CO)[C@@H](O)[C@H](O)[C@H](O[C@H]%15(O[C@H](CO[C@@H]6([C@@H]([C@H]([C@H]([C@H](O6)CO)O[C@@H]8(O[C@H](C([O-])=O)[C@@H](O[C@H]7(O[C@H](CO)[C@@H](O)[C@@H](O)7))[C@H](O)[C@@H](O)8))O[C@H]9([C@@H]([C@H]([C@H]([C@H](O9)CO)O)O[C@H]%14(O[C@H](CO)[C@@H](O)[C@H](O)[C@H](O[C@H]%13(O[C@H](CO[C@@H]%10([C@@H]([C@H]([C@H]([C@H](O%10)CO)O[C@@H]%12(O[C@H](C([O-])=O)[C@@H](O[C@H]%11(O[C@H](CO)[C@@H](O)[C@@H](O)%11))[C@H](O)[C@@H](O)%12))O[R])O))[C@@H](O)[C@H](O)[C@H](O)%13))%14))NC(C)=O))O))[C@@H](O)[C@H](O)[C@H](O)%15))%16))NC(C)=O))O))[C@@H](O)[C@H](O)[C@H](O)%17))%18))NC(C)=O)'\n",
      " 34%|███▍      | 1204/3538 [01:12<25:37,  1.52it/s][17:41:06] WARNING: not removing hydrogen atom without neighbors\n",
      "[17:41:06] SMILES Parse Error: syntax error while parsing: CC(C)=CCCC(\\C)=C/CCC(\\C)=C/CCC(/C)=C/CCC(/C)=C/CCC(/C)=C/CCC(/C)=C/CCC(/C)=C/CCC(/C)=C/CCC(/C)=C/CCC(/C)=C/COP(=O)([O-])OP([O-])(=O)O[C@@H]1([C@@H]([C@H]([C@@H]([C@H](O1)CO)O)O[C@H]%15(O[C@H](CO)[C@H](O)[C@H](O)[C@@H](O[C@@H]%14(O[C@@H](C)[C@H](O)[C@@H](O)[C@@H](O[C@@H]%13(O[C@@H](C)[C@H](O)[C@@H](O)[C@@H](O[C@@H]%12(O[C@H](CO)[C@@H](O)[C@H](O[C@H]2([C@@H]([C@H]([C@@H]([C@H](O2)CO)O)O[C@H]%11(O[C@H](CO)[C@H](O)[C@H](O)[C@@H](O[C@@H]%10(O[C@@H](C)[C@H](O)[C@@H](O)[C@@H](O[C@@H]9(O[C@@H](C)[C@H](O)[C@@H](O)[C@@H](O[C@@H]8(O[C@H](CO)[C@@H](O)[C@H](O[C@H]3([C@@H]([C@H]([C@@H]([C@H](O3)CO)O)O[C@H]7(O[C@H](CO)[C@H](O)[C@H](O)[C@@H](O[C@@H]6(O[C@@H](C)[C@H](O)[C@@H](O)[C@@H](O[C@@H]5(O[C@@H](C)[C@H](O)[C@@H](O)[C@@H](O[C@@H]4(O[C@H](CO)[C@@H](O)[C@H](O[R])[C@H](NC(C)=O)4))5))6))7))NC(C)=O))[C@H](NC(C)=O)8))9))%10))%11))NC(C)=O))[C@H](NC(C)=O)%12))%13))%14))%15))NC(C)=O)\n",
      "[17:41:06] SMILES Parse Error: Failed parsing SMILES 'CC(C)=CCCC(\\C)=C/CCC(\\C)=C/CCC(/C)=C/CCC(/C)=C/CCC(/C)=C/CCC(/C)=C/CCC(/C)=C/CCC(/C)=C/CCC(/C)=C/CCC(/C)=C/COP(=O)([O-])OP([O-])(=O)O[C@@H]1([C@@H]([C@H]([C@@H]([C@H](O1)CO)O)O[C@H]%15(O[C@H](CO)[C@H](O)[C@H](O)[C@@H](O[C@@H]%14(O[C@@H](C)[C@H](O)[C@@H](O)[C@@H](O[C@@H]%13(O[C@@H](C)[C@H](O)[C@@H](O)[C@@H](O[C@@H]%12(O[C@H](CO)[C@@H](O)[C@H](O[C@H]2([C@@H]([C@H]([C@@H]([C@H](O2)CO)O)O[C@H]%11(O[C@H](CO)[C@H](O)[C@H](O)[C@@H](O[C@@H]%10(O[C@@H](C)[C@H](O)[C@@H](O)[C@@H](O[C@@H]9(O[C@@H](C)[C@H](O)[C@@H](O)[C@@H](O[C@@H]8(O[C@H](CO)[C@@H](O)[C@H](O[C@H]3([C@@H]([C@H]([C@@H]([C@H](O3)CO)O)O[C@H]7(O[C@H](CO)[C@H](O)[C@H](O)[C@@H](O[C@@H]6(O[C@@H](C)[C@H](O)[C@@H](O)[C@@H](O[C@@H]5(O[C@@H](C)[C@H](O)[C@@H](O)[C@@H](O[C@@H]4(O[C@H](CO)[C@@H](O)[C@H](O[R])[C@H](NC(C)=O)4))5))6))7))NC(C)=O))[C@H](NC(C)=O)8))9))%10))%11))NC(C)=O))[C@H](NC(C)=O)%12))%13))%14))%15))NC(C)=O)' for input: 'CC(C)=CCCC(\\C)=C/CCC(\\C)=C/CCC(/C)=C/CCC(/C)=C/CCC(/C)=C/CCC(/C)=C/CCC(/C)=C/CCC(/C)=C/CCC(/C)=C/CCC(/C)=C/COP(=O)([O-])OP([O-])(=O)O[C@@H]1([C@@H]([C@H]([C@@H]([C@H](O1)CO)O)O[C@H]%15(O[C@H](CO)[C@H](O)[C@H](O)[C@@H](O[C@@H]%14(O[C@@H](C)[C@H](O)[C@@H](O)[C@@H](O[C@@H]%13(O[C@@H](C)[C@H](O)[C@@H](O)[C@@H](O[C@@H]%12(O[C@H](CO)[C@@H](O)[C@H](O[C@H]2([C@@H]([C@H]([C@@H]([C@H](O2)CO)O)O[C@H]%11(O[C@H](CO)[C@H](O)[C@H](O)[C@@H](O[C@@H]%10(O[C@@H](C)[C@H](O)[C@@H](O)[C@@H](O[C@@H]9(O[C@@H](C)[C@H](O)[C@@H](O)[C@@H](O[C@@H]8(O[C@H](CO)[C@@H](O)[C@H](O[C@H]3([C@@H]([C@H]([C@@H]([C@H](O3)CO)O)O[C@H]7(O[C@H](CO)[C@H](O)[C@H](O)[C@@H](O[C@@H]6(O[C@@H](C)[C@H](O)[C@@H](O)[C@@H](O[C@@H]5(O[C@@H](C)[C@H](O)[C@@H](O)[C@@H](O[C@@H]4(O[C@H](CO)[C@@H](O)[C@H](O[R])[C@H](NC(C)=O)4))5))6))7))NC(C)=O))[C@H](NC(C)=O)8))9))%10))%11))NC(C)=O))[C@H](NC(C)=O)%12))%13))%14))%15))NC(C)=O)'\n",
      "[17:41:07] WARNING: not removing hydrogen atom without neighbors\n",
      "[17:41:07] SMILES Parse Error: syntax error while parsing: CC(C)=CCCC(\\C)=C/CCC(\\C)=C/CCC(/C)=C/CCC(/C)=C/CCC(/C)=C/CCC(/C)=C/CCC(/C)=C/CCC(/C)=C/CCC(/C)=C/CCC(/C)=C/COP(=O)([O-])OP([O-])(=O)O[C@@H]%15([C@@H]([C@H]([C@H](O[C@H]%14(O[C@@H](C)[C@H](O)[C@@H](O[C@@H]%13(O[C@@H](C)[C@H](O)[C@@H](O)[C@@H](O[C@@H]%12(O[C@@H](C)[C@H](O)[C@@H](O[C@H]%10([C@@H]([C@H]([C@H](O[C@H]9(O[C@@H](C)[C@H](O)[C@@H](O[C@@H]8(O[C@@H](C)[C@H](O)[C@@H](O)[C@@H](O[C@@H]7(O[C@@H](C)[C@H](O)[C@@H](O[C@H]5([C@@H]([C@H]([C@H](O[C@H]4(O[C@@H](C)[C@H](O)[C@@H](O[C@@H]3(O[C@@H](C)[C@H](O)[C@@H](O)[C@@H](O[C@@H]2(O[C@@H](C)[C@H](O)[C@@H](O[R])[C@@H](O[C@H]1(O[C@H](C)[C@H](O)[C@H](NC(=O)C)[C@@H](O)1))2))3))[C@@H](O)4))[C@H](O5)CO)O)NC(C)=O))[C@@H](O[C@H]6(O[C@H](C)[C@H](O)[C@H](NC(=O)C)[C@@H](O)6))7))8))[C@@H](O)9))[C@H](O%10)CO)O)NC(C)=O))[C@@H](O[C@H]%11(O[C@H](C)[C@H](O)[C@H](NC(=O)C)[C@@H](O)%11))%12))%13))[C@@H](O)%14))[C@H](O%15)CO)O)NC(C)=O)\n",
      "[17:41:07] SMILES Parse Error: Failed parsing SMILES 'CC(C)=CCCC(\\C)=C/CCC(\\C)=C/CCC(/C)=C/CCC(/C)=C/CCC(/C)=C/CCC(/C)=C/CCC(/C)=C/CCC(/C)=C/CCC(/C)=C/CCC(/C)=C/COP(=O)([O-])OP([O-])(=O)O[C@@H]%15([C@@H]([C@H]([C@H](O[C@H]%14(O[C@@H](C)[C@H](O)[C@@H](O[C@@H]%13(O[C@@H](C)[C@H](O)[C@@H](O)[C@@H](O[C@@H]%12(O[C@@H](C)[C@H](O)[C@@H](O[C@H]%10([C@@H]([C@H]([C@H](O[C@H]9(O[C@@H](C)[C@H](O)[C@@H](O[C@@H]8(O[C@@H](C)[C@H](O)[C@@H](O)[C@@H](O[C@@H]7(O[C@@H](C)[C@H](O)[C@@H](O[C@H]5([C@@H]([C@H]([C@H](O[C@H]4(O[C@@H](C)[C@H](O)[C@@H](O[C@@H]3(O[C@@H](C)[C@H](O)[C@@H](O)[C@@H](O[C@@H]2(O[C@@H](C)[C@H](O)[C@@H](O[R])[C@@H](O[C@H]1(O[C@H](C)[C@H](O)[C@H](NC(=O)C)[C@@H](O)1))2))3))[C@@H](O)4))[C@H](O5)CO)O)NC(C)=O))[C@@H](O[C@H]6(O[C@H](C)[C@H](O)[C@H](NC(=O)C)[C@@H](O)6))7))8))[C@@H](O)9))[C@H](O%10)CO)O)NC(C)=O))[C@@H](O[C@H]%11(O[C@H](C)[C@H](O)[C@H](NC(=O)C)[C@@H](O)%11))%12))%13))[C@@H](O)%14))[C@H](O%15)CO)O)NC(C)=O)' for input: 'CC(C)=CCCC(\\C)=C/CCC(\\C)=C/CCC(/C)=C/CCC(/C)=C/CCC(/C)=C/CCC(/C)=C/CCC(/C)=C/CCC(/C)=C/CCC(/C)=C/CCC(/C)=C/COP(=O)([O-])OP([O-])(=O)O[C@@H]%15([C@@H]([C@H]([C@H](O[C@H]%14(O[C@@H](C)[C@H](O)[C@@H](O[C@@H]%13(O[C@@H](C)[C@H](O)[C@@H](O)[C@@H](O[C@@H]%12(O[C@@H](C)[C@H](O)[C@@H](O[C@H]%10([C@@H]([C@H]([C@H](O[C@H]9(O[C@@H](C)[C@H](O)[C@@H](O[C@@H]8(O[C@@H](C)[C@H](O)[C@@H](O)[C@@H](O[C@@H]7(O[C@@H](C)[C@H](O)[C@@H](O[C@H]5([C@@H]([C@H]([C@H](O[C@H]4(O[C@@H](C)[C@H](O)[C@@H](O[C@@H]3(O[C@@H](C)[C@H](O)[C@@H](O)[C@@H](O[C@@H]2(O[C@@H](C)[C@H](O)[C@@H](O[R])[C@@H](O[C@H]1(O[C@H](C)[C@H](O)[C@H](NC(=O)C)[C@@H](O)1))2))3))[C@@H](O)4))[C@H](O5)CO)O)NC(C)=O))[C@@H](O[C@H]6(O[C@H](C)[C@H](O)[C@H](NC(=O)C)[C@@H](O)6))7))8))[C@@H](O)9))[C@H](O%10)CO)O)NC(C)=O))[C@@H](O[C@H]%11(O[C@H](C)[C@H](O)[C@H](NC(=O)C)[C@@H](O)%11))%12))%13))[C@@H](O)%14))[C@H](O%15)CO)O)NC(C)=O)'\n",
      " 34%|███▍      | 1206/3538 [01:14<28:52,  1.35it/s][17:41:08] WARNING: not removing hydrogen atom without neighbors\n",
      "[17:41:09] SMILES Parse Error: syntax error while parsing: CC(C)=CCCC(\\C)=C/CCC(\\C)=C/CCC(/C)=C/CCC(/C)=C/CCC(/C)=C/CCC(/C)=C/CCC(/C)=C/CCC(/C)=C/CCC(/C)=C/CCC(/C)=C/COP(=O)([O-])OP(O[C@@H]1([C@@H]([C@H]([C@H]([C@H](O1)CO)O)O[C@@H]%15(O[C@H](CO)[C@@H](O[C@@H]%13(O[C@H](CO)[C@H](O[C@@H]2(O[C@H](CO)[C@H](O)[C@H](O)[C@@H](O)2))[C@H](O[C@H]3([C@@H]([C@H]([C@H]([C@H](O3)CO)O)O[C@@H]%12(O[C@H](CO)[C@@H](O[C@@H]%10(O[C@H](CO)[C@H](O[C@@H]4(O[C@H](CO)[C@H](O)[C@H](O)[C@@H](O)4))[C@H](O[C@H]5([C@@H]([C@H]([C@H]([C@H](O5)CO)O)O[C@@H]9(O[C@H](CO)[C@@H](O[C@@H]7(O[C@H](CO)[C@H](O[C@@H]6(O[C@H](CO)[C@H](O)[C@H](O)[C@@H](O)6))[C@H](O[R])[C@@H](O)7))[C@H](O)[C@@H](O[C@H]8([C@@H]([C@H]([C@@H]([C@H](O8)CO)O)O)NC(C)=O))9))NC=O))[C@@H](O)%10))[C@H](O)[C@@H](O[C@H]%11([C@@H]([C@H]([C@@H]([C@H](O%11)CO)O)O)NC(C)=O))%12))NC=O))[C@@H](O)%13))[C@H](O)[C@@H](O[C@H]%14([C@@H]([C@H]([C@@H]([C@H](O%14)CO)O)O)NC(C)=O))%15))NC(C)=O))([O-])=O\n",
      "[17:41:09] SMILES Parse Error: Failed parsing SMILES 'CC(C)=CCCC(\\C)=C/CCC(\\C)=C/CCC(/C)=C/CCC(/C)=C/CCC(/C)=C/CCC(/C)=C/CCC(/C)=C/CCC(/C)=C/CCC(/C)=C/CCC(/C)=C/COP(=O)([O-])OP(O[C@@H]1([C@@H]([C@H]([C@H]([C@H](O1)CO)O)O[C@@H]%15(O[C@H](CO)[C@@H](O[C@@H]%13(O[C@H](CO)[C@H](O[C@@H]2(O[C@H](CO)[C@H](O)[C@H](O)[C@@H](O)2))[C@H](O[C@H]3([C@@H]([C@H]([C@H]([C@H](O3)CO)O)O[C@@H]%12(O[C@H](CO)[C@@H](O[C@@H]%10(O[C@H](CO)[C@H](O[C@@H]4(O[C@H](CO)[C@H](O)[C@H](O)[C@@H](O)4))[C@H](O[C@H]5([C@@H]([C@H]([C@H]([C@H](O5)CO)O)O[C@@H]9(O[C@H](CO)[C@@H](O[C@@H]7(O[C@H](CO)[C@H](O[C@@H]6(O[C@H](CO)[C@H](O)[C@H](O)[C@@H](O)6))[C@H](O[R])[C@@H](O)7))[C@H](O)[C@@H](O[C@H]8([C@@H]([C@H]([C@@H]([C@H](O8)CO)O)O)NC(C)=O))9))NC=O))[C@@H](O)%10))[C@H](O)[C@@H](O[C@H]%11([C@@H]([C@H]([C@@H]([C@H](O%11)CO)O)O)NC(C)=O))%12))NC=O))[C@@H](O)%13))[C@H](O)[C@@H](O[C@H]%14([C@@H]([C@H]([C@@H]([C@H](O%14)CO)O)O)NC(C)=O))%15))NC(C)=O))([O-])=O' for input: 'CC(C)=CCCC(\\C)=C/CCC(\\C)=C/CCC(/C)=C/CCC(/C)=C/CCC(/C)=C/CCC(/C)=C/CCC(/C)=C/CCC(/C)=C/CCC(/C)=C/CCC(/C)=C/COP(=O)([O-])OP(O[C@@H]1([C@@H]([C@H]([C@H]([C@H](O1)CO)O)O[C@@H]%15(O[C@H](CO)[C@@H](O[C@@H]%13(O[C@H](CO)[C@H](O[C@@H]2(O[C@H](CO)[C@H](O)[C@H](O)[C@@H](O)2))[C@H](O[C@H]3([C@@H]([C@H]([C@H]([C@H](O3)CO)O)O[C@@H]%12(O[C@H](CO)[C@@H](O[C@@H]%10(O[C@H](CO)[C@H](O[C@@H]4(O[C@H](CO)[C@H](O)[C@H](O)[C@@H](O)4))[C@H](O[C@H]5([C@@H]([C@H]([C@H]([C@H](O5)CO)O)O[C@@H]9(O[C@H](CO)[C@@H](O[C@@H]7(O[C@H](CO)[C@H](O[C@@H]6(O[C@H](CO)[C@H](O)[C@H](O)[C@@H](O)6))[C@H](O[R])[C@@H](O)7))[C@H](O)[C@@H](O[C@H]8([C@@H]([C@H]([C@@H]([C@H](O8)CO)O)O)NC(C)=O))9))NC=O))[C@@H](O)%10))[C@H](O)[C@@H](O[C@H]%11([C@@H]([C@H]([C@@H]([C@H](O%11)CO)O)O)NC(C)=O))%12))NC=O))[C@@H](O)%13))[C@H](O)[C@@H](O[C@H]%14([C@@H]([C@H]([C@@H]([C@H](O%14)CO)O)O)NC(C)=O))%15))NC(C)=O))([O-])=O'\n",
      "[17:41:10] SMILES Parse Error: syntax error while parsing: CC(C)=CCCC(\\C)=C/CCC(\\C)=C/CCC(/C)=C/CCC(/C)=C/CCC(/C)=C/CCC(/C)=C/CCC(/C)=C/CCC(/C)=C/CCC(/C)=C/CCC(/C)=C/COP(=O)([O-])OP([O-])(=O)O[C@@H]1([C@@H]([C@H]([C@H](O)[C@H](O1)COC(=O)C)O[C@@H]%12(O[C@@H](C)[C@H](O[C@H]%11([C@@H]([C@H]([C@@H](O[C@H]%10(O[C@H](C)[C@@H](NC(C[C@@H](O)C)=O)[C@H](O)[C@@H](O[C@H]2([C@@H]([C@H]([C@H](O)[C@H](O2)COC(=O)C)O[C@@H]9(O[C@@H](C)[C@H](O[C@H]8([C@@H]([C@H]([C@@H](O[C@H]7(O[C@H](C)[C@@H](NC(C[C@@H](O)C)=O)[C@H](O)[C@@H](O[C@H]3([C@@H]([C@H]([C@H](O)[C@H](O3)COC(=O)C)O[C@@H]6(O[C@@H](C)[C@H](O[C@H]5([C@@H]([C@H]([C@@H](O[C@H]4(O[C@H](C)[C@@H](NC(C[C@@H](O)C)=O)[C@H](O)[C@@H](O[R])4))[C@H](O5)CO)O)NC(=O)C))[C@@H](O)[C@@H](O)6))NC(C)=O))7))[C@H](O8)CO)O)NC(=O)C))[C@@H](O)[C@@H](O)9))NC(C)=O))%10))[C@H](O%11)CO)O)NC(=O)C))[C@@H](O)[C@@H](O)%12))NC(C)=O)\n",
      "[17:41:10] SMILES Parse Error: Failed parsing SMILES 'CC(C)=CCCC(\\C)=C/CCC(\\C)=C/CCC(/C)=C/CCC(/C)=C/CCC(/C)=C/CCC(/C)=C/CCC(/C)=C/CCC(/C)=C/CCC(/C)=C/CCC(/C)=C/COP(=O)([O-])OP([O-])(=O)O[C@@H]1([C@@H]([C@H]([C@H](O)[C@H](O1)COC(=O)C)O[C@@H]%12(O[C@@H](C)[C@H](O[C@H]%11([C@@H]([C@H]([C@@H](O[C@H]%10(O[C@H](C)[C@@H](NC(C[C@@H](O)C)=O)[C@H](O)[C@@H](O[C@H]2([C@@H]([C@H]([C@H](O)[C@H](O2)COC(=O)C)O[C@@H]9(O[C@@H](C)[C@H](O[C@H]8([C@@H]([C@H]([C@@H](O[C@H]7(O[C@H](C)[C@@H](NC(C[C@@H](O)C)=O)[C@H](O)[C@@H](O[C@H]3([C@@H]([C@H]([C@H](O)[C@H](O3)COC(=O)C)O[C@@H]6(O[C@@H](C)[C@H](O[C@H]5([C@@H]([C@H]([C@@H](O[C@H]4(O[C@H](C)[C@@H](NC(C[C@@H](O)C)=O)[C@H](O)[C@@H](O[R])4))[C@H](O5)CO)O)NC(=O)C))[C@@H](O)[C@@H](O)6))NC(C)=O))7))[C@H](O8)CO)O)NC(=O)C))[C@@H](O)[C@@H](O)9))NC(C)=O))%10))[C@H](O%11)CO)O)NC(=O)C))[C@@H](O)[C@@H](O)%12))NC(C)=O)' for input: 'CC(C)=CCCC(\\C)=C/CCC(\\C)=C/CCC(/C)=C/CCC(/C)=C/CCC(/C)=C/CCC(/C)=C/CCC(/C)=C/CCC(/C)=C/CCC(/C)=C/CCC(/C)=C/COP(=O)([O-])OP([O-])(=O)O[C@@H]1([C@@H]([C@H]([C@H](O)[C@H](O1)COC(=O)C)O[C@@H]%12(O[C@@H](C)[C@H](O[C@H]%11([C@@H]([C@H]([C@@H](O[C@H]%10(O[C@H](C)[C@@H](NC(C[C@@H](O)C)=O)[C@H](O)[C@@H](O[C@H]2([C@@H]([C@H]([C@H](O)[C@H](O2)COC(=O)C)O[C@@H]9(O[C@@H](C)[C@H](O[C@H]8([C@@H]([C@H]([C@@H](O[C@H]7(O[C@H](C)[C@@H](NC(C[C@@H](O)C)=O)[C@H](O)[C@@H](O[C@H]3([C@@H]([C@H]([C@H](O)[C@H](O3)COC(=O)C)O[C@@H]6(O[C@@H](C)[C@H](O[C@H]5([C@@H]([C@H]([C@@H](O[C@H]4(O[C@H](C)[C@@H](NC(C[C@@H](O)C)=O)[C@H](O)[C@@H](O[R])4))[C@H](O5)CO)O)NC(=O)C))[C@@H](O)[C@@H](O)6))NC(C)=O))7))[C@H](O8)CO)O)NC(=O)C))[C@@H](O)[C@@H](O)9))NC(C)=O))%10))[C@H](O%11)CO)O)NC(=O)C))[C@@H](O)[C@@H](O)%12))NC(C)=O)'\n",
      " 34%|███▍      | 1208/3538 [01:17<33:38,  1.15it/s][17:41:11] WARNING: not removing hydrogen atom without neighbors\n",
      "[17:41:11] SMILES Parse Error: syntax error while parsing: CC(C)=CCCC(\\C)=C/CCC(\\C)=C/CCC(/C)=C/CCC(/C)=C/CCC(/C)=C/CCC(/C)=C/CCC(/C)=C/CCC(/C)=C/CCC(/C)=C/CCC(/C)=C/COP(=O)([O-])OP([O-])(=O)O[C@@H]%12([C@@H]([C@H]([C@H](O[C@H]%11(O[C@@H](C)[C@H](O)[C@@H](O[C@@H]%10(O[C@@H](C)[C@H](O)[C@@H](O)[C@@H](O[C@@H]9(O[C@@H](C)[C@H](O)[C@@H](O[C@H]8([C@@H]([C@H]([C@H](O[C@H]7(O[C@@H](C)[C@H](O)[C@@H](O[C@@H]6(O[C@@H](C)[C@H](O)[C@@H](O)[C@@H](O[C@@H]5(O[C@@H](C)[C@H](O)[C@@H](O[C@H]4([C@@H]([C@H]([C@H](O[C@H]3(O[C@@H](C)[C@H](O)[C@@H](O[C@@H]2(O[C@@H](C)[C@H](O)[C@@H](O)[C@@H](O[C@@H]1(O[C@@H](C)[C@H](O)[C@@H](O[R])[C@@H](O)1))2))[C@@H](O)3))[C@H](O4)CO)O)NC(C)=O))[C@@H](O)5))6))[C@@H](O)7))[C@H](O8)CO)O)NC(C)=O))[C@@H](O)9))%10))[C@@H](O)%11))[C@H](O%12)CO)O)NC(C)=O)\n",
      "[17:41:11] SMILES Parse Error: Failed parsing SMILES 'CC(C)=CCCC(\\C)=C/CCC(\\C)=C/CCC(/C)=C/CCC(/C)=C/CCC(/C)=C/CCC(/C)=C/CCC(/C)=C/CCC(/C)=C/CCC(/C)=C/CCC(/C)=C/COP(=O)([O-])OP([O-])(=O)O[C@@H]%12([C@@H]([C@H]([C@H](O[C@H]%11(O[C@@H](C)[C@H](O)[C@@H](O[C@@H]%10(O[C@@H](C)[C@H](O)[C@@H](O)[C@@H](O[C@@H]9(O[C@@H](C)[C@H](O)[C@@H](O[C@H]8([C@@H]([C@H]([C@H](O[C@H]7(O[C@@H](C)[C@H](O)[C@@H](O[C@@H]6(O[C@@H](C)[C@H](O)[C@@H](O)[C@@H](O[C@@H]5(O[C@@H](C)[C@H](O)[C@@H](O[C@H]4([C@@H]([C@H]([C@H](O[C@H]3(O[C@@H](C)[C@H](O)[C@@H](O[C@@H]2(O[C@@H](C)[C@H](O)[C@@H](O)[C@@H](O[C@@H]1(O[C@@H](C)[C@H](O)[C@@H](O[R])[C@@H](O)1))2))[C@@H](O)3))[C@H](O4)CO)O)NC(C)=O))[C@@H](O)5))6))[C@@H](O)7))[C@H](O8)CO)O)NC(C)=O))[C@@H](O)9))%10))[C@@H](O)%11))[C@H](O%12)CO)O)NC(C)=O)' for input: 'CC(C)=CCCC(\\C)=C/CCC(\\C)=C/CCC(/C)=C/CCC(/C)=C/CCC(/C)=C/CCC(/C)=C/CCC(/C)=C/CCC(/C)=C/CCC(/C)=C/CCC(/C)=C/COP(=O)([O-])OP([O-])(=O)O[C@@H]%12([C@@H]([C@H]([C@H](O[C@H]%11(O[C@@H](C)[C@H](O)[C@@H](O[C@@H]%10(O[C@@H](C)[C@H](O)[C@@H](O)[C@@H](O[C@@H]9(O[C@@H](C)[C@H](O)[C@@H](O[C@H]8([C@@H]([C@H]([C@H](O[C@H]7(O[C@@H](C)[C@H](O)[C@@H](O[C@@H]6(O[C@@H](C)[C@H](O)[C@@H](O)[C@@H](O[C@@H]5(O[C@@H](C)[C@H](O)[C@@H](O[C@H]4([C@@H]([C@H]([C@H](O[C@H]3(O[C@@H](C)[C@H](O)[C@@H](O[C@@H]2(O[C@@H](C)[C@H](O)[C@@H](O)[C@@H](O[C@@H]1(O[C@@H](C)[C@H](O)[C@@H](O[R])[C@@H](O)1))2))[C@@H](O)3))[C@H](O4)CO)O)NC(C)=O))[C@@H](O)5))6))[C@@H](O)7))[C@H](O8)CO)O)NC(C)=O))[C@@H](O)9))%10))[C@@H](O)%11))[C@H](O%12)CO)O)NC(C)=O)'\n",
      " 34%|███▍      | 1209/3538 [01:18<35:16,  1.10it/s][17:41:13] WARNING: not removing hydrogen atom without neighbors\n",
      "[17:41:13] SMILES Parse Error: syntax error while parsing: CC(C)=CCCC(\\C)=C/CCC(\\C)=C/CCC(/C)=C/CCC(/C)=C/CCC(/C)=C/CCC(/C)=C/CCC(/C)=C/CCC(/C)=C/CCC(/C)=C/CCC(/C)=C/COP(=O)([O-])OP([O-])(=O)O[C@@H]1([C@@H]([C@H]([C@H]([C@H](O1)CO)O)O[C@H]%15(O[C@H](CO)[C@@H](O[C@@H]%14(O[C@@H](C)[C@H](O)[C@@H](O)[C@@H](O[C@@H]%13(O[C@@H](C)[C@H](O)[C@@H](O)[C@@H](O[C@H]2([C@@H]([C@H]([C@@H]([C@H](O2)CO)O)O[C@H]3([C@@H]([C@H]([C@H]([C@H](O3)CO)O)O[C@H]%12(O[C@H](CO)[C@@H](O[C@@H]%11(O[C@@H](C)[C@H](O)[C@@H](O)[C@@H](O[C@@H]%10(O[C@@H](C)[C@H](O)[C@@H](O)[C@@H](O[C@H]4([C@@H]([C@H]([C@@H]([C@H](O4)CO)O)O[C@H]5([C@@H]([C@H]([C@H]([C@H](O5)CO)O)O[C@H]9(O[C@H](CO)[C@@H](O[C@@H]8(O[C@@H](C)[C@H](O)[C@@H](O)[C@@H](O[C@@H]7(O[C@@H](C)[C@H](O)[C@@H](O)[C@@H](O[C@H]6([C@@H]([C@H]([C@@H]([C@H](O6)CO)O)O[R])NC(C)=O))7))8))[C@H](O)[C@@H](O)9))NC(C)=O))NC(C)=O))%10))%11))[C@H](O)[C@@H](O)%12))NC(C)=O))NC(C)=O))%13))%14))[C@H](O)[C@@H](O)%15))NC(C)=O)\n",
      "[17:41:13] SMILES Parse Error: Failed parsing SMILES 'CC(C)=CCCC(\\C)=C/CCC(\\C)=C/CCC(/C)=C/CCC(/C)=C/CCC(/C)=C/CCC(/C)=C/CCC(/C)=C/CCC(/C)=C/CCC(/C)=C/CCC(/C)=C/COP(=O)([O-])OP([O-])(=O)O[C@@H]1([C@@H]([C@H]([C@H]([C@H](O1)CO)O)O[C@H]%15(O[C@H](CO)[C@@H](O[C@@H]%14(O[C@@H](C)[C@H](O)[C@@H](O)[C@@H](O[C@@H]%13(O[C@@H](C)[C@H](O)[C@@H](O)[C@@H](O[C@H]2([C@@H]([C@H]([C@@H]([C@H](O2)CO)O)O[C@H]3([C@@H]([C@H]([C@H]([C@H](O3)CO)O)O[C@H]%12(O[C@H](CO)[C@@H](O[C@@H]%11(O[C@@H](C)[C@H](O)[C@@H](O)[C@@H](O[C@@H]%10(O[C@@H](C)[C@H](O)[C@@H](O)[C@@H](O[C@H]4([C@@H]([C@H]([C@@H]([C@H](O4)CO)O)O[C@H]5([C@@H]([C@H]([C@H]([C@H](O5)CO)O)O[C@H]9(O[C@H](CO)[C@@H](O[C@@H]8(O[C@@H](C)[C@H](O)[C@@H](O)[C@@H](O[C@@H]7(O[C@@H](C)[C@H](O)[C@@H](O)[C@@H](O[C@H]6([C@@H]([C@H]([C@@H]([C@H](O6)CO)O)O[R])NC(C)=O))7))8))[C@H](O)[C@@H](O)9))NC(C)=O))NC(C)=O))%10))%11))[C@H](O)[C@@H](O)%12))NC(C)=O))NC(C)=O))%13))%14))[C@H](O)[C@@H](O)%15))NC(C)=O)' for input: 'CC(C)=CCCC(\\C)=C/CCC(\\C)=C/CCC(/C)=C/CCC(/C)=C/CCC(/C)=C/CCC(/C)=C/CCC(/C)=C/CCC(/C)=C/CCC(/C)=C/CCC(/C)=C/COP(=O)([O-])OP([O-])(=O)O[C@@H]1([C@@H]([C@H]([C@H]([C@H](O1)CO)O)O[C@H]%15(O[C@H](CO)[C@@H](O[C@@H]%14(O[C@@H](C)[C@H](O)[C@@H](O)[C@@H](O[C@@H]%13(O[C@@H](C)[C@H](O)[C@@H](O)[C@@H](O[C@H]2([C@@H]([C@H]([C@@H]([C@H](O2)CO)O)O[C@H]3([C@@H]([C@H]([C@H]([C@H](O3)CO)O)O[C@H]%12(O[C@H](CO)[C@@H](O[C@@H]%11(O[C@@H](C)[C@H](O)[C@@H](O)[C@@H](O[C@@H]%10(O[C@@H](C)[C@H](O)[C@@H](O)[C@@H](O[C@H]4([C@@H]([C@H]([C@@H]([C@H](O4)CO)O)O[C@H]5([C@@H]([C@H]([C@H]([C@H](O5)CO)O)O[C@H]9(O[C@H](CO)[C@@H](O[C@@H]8(O[C@@H](C)[C@H](O)[C@@H](O)[C@@H](O[C@@H]7(O[C@@H](C)[C@H](O)[C@@H](O)[C@@H](O[C@H]6([C@@H]([C@H]([C@@H]([C@H](O6)CO)O)O[R])NC(C)=O))7))8))[C@H](O)[C@@H](O)9))NC(C)=O))NC(C)=O))%10))%11))[C@H](O)[C@@H](O)%12))NC(C)=O))NC(C)=O))%13))%14))[C@H](O)[C@@H](O)%15))NC(C)=O)'\n",
      " 34%|███▍      | 1210/3538 [01:20<37:37,  1.03it/s][17:41:14] SMILES Parse Error: syntax error while parsing: CC(C)=CCCC(\\C)=C/CCC(\\C)=C/CCC(/C)=C/CCC(/C)=C/CCC(/C)=C/CCC(/C)=C/CCC(/C)=C/CCC(/C)=C/CCC(/C)=C/CCC(/C)=C/COP(=O)([O-])OP([O-])(=O)O[C@@H]1([C@@H]([C@H]([C@H](O)[C@H](O1)CO)O[C@@H]8(O[C@@H]([C@@H](O)[C@H](O[C@@H]7(O[C@@H](C(C)O)[C@H](O[C@@H]6(O[C@@H]([C@@H](O)[C@H](O[C@@H]5(O[C@@H](C(C)O)[C@H](O[C@@H]4(O[C@@H]([C@@H](O)[C@H](O[C@@H]3(O[C@@H](C(C)O)[C@H](O[R]O[C@H]2(O[C@@H](C(C)O)[C@H](OC)[C@@H](O)2))[C@@H](O)3))[C@H](O)4)CCO))[C@@H](O)5))[C@H](O)6)CCO))[C@@H](O)7))[C@H](O)8)CCO))NC(C)=O)\n",
      "[17:41:14] SMILES Parse Error: Failed parsing SMILES 'CC(C)=CCCC(\\C)=C/CCC(\\C)=C/CCC(/C)=C/CCC(/C)=C/CCC(/C)=C/CCC(/C)=C/CCC(/C)=C/CCC(/C)=C/CCC(/C)=C/CCC(/C)=C/COP(=O)([O-])OP([O-])(=O)O[C@@H]1([C@@H]([C@H]([C@H](O)[C@H](O1)CO)O[C@@H]8(O[C@@H]([C@@H](O)[C@H](O[C@@H]7(O[C@@H](C(C)O)[C@H](O[C@@H]6(O[C@@H]([C@@H](O)[C@H](O[C@@H]5(O[C@@H](C(C)O)[C@H](O[C@@H]4(O[C@@H]([C@@H](O)[C@H](O[C@@H]3(O[C@@H](C(C)O)[C@H](O[R]O[C@H]2(O[C@@H](C(C)O)[C@H](OC)[C@@H](O)2))[C@@H](O)3))[C@H](O)4)CCO))[C@@H](O)5))[C@H](O)6)CCO))[C@@H](O)7))[C@H](O)8)CCO))NC(C)=O)' for input: 'CC(C)=CCCC(\\C)=C/CCC(\\C)=C/CCC(/C)=C/CCC(/C)=C/CCC(/C)=C/CCC(/C)=C/CCC(/C)=C/CCC(/C)=C/CCC(/C)=C/CCC(/C)=C/COP(=O)([O-])OP([O-])(=O)O[C@@H]1([C@@H]([C@H]([C@H](O)[C@H](O1)CO)O[C@@H]8(O[C@@H]([C@@H](O)[C@H](O[C@@H]7(O[C@@H](C(C)O)[C@H](O[C@@H]6(O[C@@H]([C@@H](O)[C@H](O[C@@H]5(O[C@@H](C(C)O)[C@H](O[C@@H]4(O[C@@H]([C@@H](O)[C@H](O[C@@H]3(O[C@@H](C(C)O)[C@H](O[R]O[C@H]2(O[C@@H](C(C)O)[C@H](OC)[C@@H](O)2))[C@@H](O)3))[C@H](O)4)CCO))[C@@H](O)5))[C@H](O)6)CCO))[C@@H](O)7))[C@H](O)8)CCO))NC(C)=O)'\n",
      " 34%|███▍      | 1211/3538 [01:21<39:49,  1.03s/it][17:41:15] WARNING: not removing hydrogen atom without neighbors\n",
      "[17:41:15] SMILES Parse Error: syntax error while parsing: CC(C)=CCCC(\\C)=C/CCC(\\C)=C/CCC(/C)=C/CCC(/C)=C/CCC(/C)=C/CCC(/C)=C/CCC(/C)=C/CCC(/C)=C/CCC(/C)=C/CCC(/C)=C/COP(=O)([O-])OP(O[C@H]1(O[C@@H]([C@@H]([C@@H]([C@H]1NC(=O)C)O[C@H]2(O[C@@H]([C@@H]([C@@H]([C@H]2O)O[C@@H]3(O[C@@H]([C@H]([C@@H]([C@H]3NC(=O)C)O[C@@H]4(O[C@@H]([C@@H]([C@@H]([C@H]4O[C@@H]5(O[C@H]([C@H](C[C@@H]5O)O)C))O)O)CO))O)CO[C@@H]6(O[C@@H]([C@@H]([C@@H]([C@H]6NC(=O)C)O[C@H]7(O[C@@H]([C@@H]([C@@H]([C@H]7O)O[C@@H]8(O[C@@H]([C@H]([C@@H]([C@H]8NC(=O)C)O[C@@H]9(O[C@@H]([C@@H]([C@@H]([C@H]9O[C@@H]%10(O[C@H]([C@H](C[C@@H]%10O)O)C))O)O)CO))O)CO[C@@H]%11(O[C@@H]([C@@H]([C@@H]([C@H]%11NC(=O)C)O[C@H]%12(O[C@@H]([C@@H]([C@@H]([C@H]%12O)O[C@@H]%13(O[C@@H]([C@H]([C@@H]([C@H]%13NC(=O)C)O[C@@H]%14(O[C@@H]([C@@H]([C@@H]([C@H]%14O[C@@H]%15(O[C@H]([C@H](C[C@@H]%15O)O)C))O)O)CO))O)CO))O)CO))O)CO)))O)CO))O)CO)))O)CO))O)CO))([O-])=O.C[R]\n",
      "[17:41:15] SMILES Parse Error: Failed parsing SMILES 'CC(C)=CCCC(\\C)=C/CCC(\\C)=C/CCC(/C)=C/CCC(/C)=C/CCC(/C)=C/CCC(/C)=C/CCC(/C)=C/CCC(/C)=C/CCC(/C)=C/CCC(/C)=C/COP(=O)([O-])OP(O[C@H]1(O[C@@H]([C@@H]([C@@H]([C@H]1NC(=O)C)O[C@H]2(O[C@@H]([C@@H]([C@@H]([C@H]2O)O[C@@H]3(O[C@@H]([C@H]([C@@H]([C@H]3NC(=O)C)O[C@@H]4(O[C@@H]([C@@H]([C@@H]([C@H]4O[C@@H]5(O[C@H]([C@H](C[C@@H]5O)O)C))O)O)CO))O)CO[C@@H]6(O[C@@H]([C@@H]([C@@H]([C@H]6NC(=O)C)O[C@H]7(O[C@@H]([C@@H]([C@@H]([C@H]7O)O[C@@H]8(O[C@@H]([C@H]([C@@H]([C@H]8NC(=O)C)O[C@@H]9(O[C@@H]([C@@H]([C@@H]([C@H]9O[C@@H]%10(O[C@H]([C@H](C[C@@H]%10O)O)C))O)O)CO))O)CO[C@@H]%11(O[C@@H]([C@@H]([C@@H]([C@H]%11NC(=O)C)O[C@H]%12(O[C@@H]([C@@H]([C@@H]([C@H]%12O)O[C@@H]%13(O[C@@H]([C@H]([C@@H]([C@H]%13NC(=O)C)O[C@@H]%14(O[C@@H]([C@@H]([C@@H]([C@H]%14O[C@@H]%15(O[C@H]([C@H](C[C@@H]%15O)O)C))O)O)CO))O)CO))O)CO))O)CO)))O)CO))O)CO)))O)CO))O)CO))([O-])=O.C[R]' for input: 'CC(C)=CCCC(\\C)=C/CCC(\\C)=C/CCC(/C)=C/CCC(/C)=C/CCC(/C)=C/CCC(/C)=C/CCC(/C)=C/CCC(/C)=C/CCC(/C)=C/CCC(/C)=C/COP(=O)([O-])OP(O[C@H]1(O[C@@H]([C@@H]([C@@H]([C@H]1NC(=O)C)O[C@H]2(O[C@@H]([C@@H]([C@@H]([C@H]2O)O[C@@H]3(O[C@@H]([C@H]([C@@H]([C@H]3NC(=O)C)O[C@@H]4(O[C@@H]([C@@H]([C@@H]([C@H]4O[C@@H]5(O[C@H]([C@H](C[C@@H]5O)O)C))O)O)CO))O)CO[C@@H]6(O[C@@H]([C@@H]([C@@H]([C@H]6NC(=O)C)O[C@H]7(O[C@@H]([C@@H]([C@@H]([C@H]7O)O[C@@H]8(O[C@@H]([C@H]([C@@H]([C@H]8NC(=O)C)O[C@@H]9(O[C@@H]([C@@H]([C@@H]([C@H]9O[C@@H]%10(O[C@H]([C@H](C[C@@H]%10O)O)C))O)O)CO))O)CO[C@@H]%11(O[C@@H]([C@@H]([C@@H]([C@H]%11NC(=O)C)O[C@H]%12(O[C@@H]([C@@H]([C@@H]([C@H]%12O)O[C@@H]%13(O[C@@H]([C@H]([C@@H]([C@H]%13NC(=O)C)O[C@@H]%14(O[C@@H]([C@@H]([C@@H]([C@H]%14O[C@@H]%15(O[C@H]([C@H](C[C@@H]%15O)O)C))O)O)CO))O)CO))O)CO))O)CO)))O)CO))O)CO)))O)CO))O)CO))([O-])=O.C[R]'\n",
      " 34%|███▍      | 1212/3538 [01:23<43:06,  1.11s/it][17:41:17] WARNING: not removing hydrogen atom without neighbors\n",
      "[17:41:17] SMILES Parse Error: syntax error while parsing: CC(C)=CCCC(\\C)=C/CCC(\\C)=C/CCC(/C)=C/CCC(/C)=C/CCC(/C)=C/CCC(/C)=C/CCC(/C)=C/CCC(/C)=C/CCC(/C)=C/CCC(/C)=C/COP(=O)([O-])OP([O-])(=O)O[C@@H]1([C@@H]([C@H]([C@@H]([C@H](O1)CO)O)O[C@@H]%12(O[C@H](CO)[C@@H](O)[C@H](O[C@]2(C([O-])=O)(C[C@H](O)[C@@H](NC(C)=O)[C@@H](O2)[C@H](O)[C@H](O[C@H]3([C@@H]([C@H]([C@@H]([C@H](O3)CO)O)O[C@@H]%10(O[C@H](CO)[C@@H](O)[C@H](O[C@]4(C([O-])=O)(C[C@H](O)[C@@H](NC(C)=O)[C@@H](O4)[C@H](O)[C@H](O[C@H]5([C@@H]([C@H]([C@@H]([C@H](O5)CO)O)O[C@@H]8(O[C@H](CO)[C@@H](O)[C@H](O[C@]6(C([O-])=O)(C[C@H](O)[C@@H](NC(C)=O)[C@@H](O6)[C@H](O)[C@H](O[R])CO))[C@@H](O[C@H]7(O[C@H](CO)[C@H](O)[C@H](O)[C@@H](O)7))8))NC(C)=O))CO))[C@@H](O[C@H]9(O[C@H](CO)[C@H](O)[C@H](O)[C@@H](O)9))%10))NC(C)=O))CO))[C@@H](O[C@H]%11(O[C@H](CO)[C@H](O)[C@H](O)[C@@H](O)%11))%12))NC(C)=O)\n",
      "[17:41:17] SMILES Parse Error: Failed parsing SMILES 'CC(C)=CCCC(\\C)=C/CCC(\\C)=C/CCC(/C)=C/CCC(/C)=C/CCC(/C)=C/CCC(/C)=C/CCC(/C)=C/CCC(/C)=C/CCC(/C)=C/CCC(/C)=C/COP(=O)([O-])OP([O-])(=O)O[C@@H]1([C@@H]([C@H]([C@@H]([C@H](O1)CO)O)O[C@@H]%12(O[C@H](CO)[C@@H](O)[C@H](O[C@]2(C([O-])=O)(C[C@H](O)[C@@H](NC(C)=O)[C@@H](O2)[C@H](O)[C@H](O[C@H]3([C@@H]([C@H]([C@@H]([C@H](O3)CO)O)O[C@@H]%10(O[C@H](CO)[C@@H](O)[C@H](O[C@]4(C([O-])=O)(C[C@H](O)[C@@H](NC(C)=O)[C@@H](O4)[C@H](O)[C@H](O[C@H]5([C@@H]([C@H]([C@@H]([C@H](O5)CO)O)O[C@@H]8(O[C@H](CO)[C@@H](O)[C@H](O[C@]6(C([O-])=O)(C[C@H](O)[C@@H](NC(C)=O)[C@@H](O6)[C@H](O)[C@H](O[R])CO))[C@@H](O[C@H]7(O[C@H](CO)[C@H](O)[C@H](O)[C@@H](O)7))8))NC(C)=O))CO))[C@@H](O[C@H]9(O[C@H](CO)[C@H](O)[C@H](O)[C@@H](O)9))%10))NC(C)=O))CO))[C@@H](O[C@H]%11(O[C@H](CO)[C@H](O)[C@H](O)[C@@H](O)%11))%12))NC(C)=O)' for input: 'CC(C)=CCCC(\\C)=C/CCC(\\C)=C/CCC(/C)=C/CCC(/C)=C/CCC(/C)=C/CCC(/C)=C/CCC(/C)=C/CCC(/C)=C/CCC(/C)=C/CCC(/C)=C/COP(=O)([O-])OP([O-])(=O)O[C@@H]1([C@@H]([C@H]([C@@H]([C@H](O1)CO)O)O[C@@H]%12(O[C@H](CO)[C@@H](O)[C@H](O[C@]2(C([O-])=O)(C[C@H](O)[C@@H](NC(C)=O)[C@@H](O2)[C@H](O)[C@H](O[C@H]3([C@@H]([C@H]([C@@H]([C@H](O3)CO)O)O[C@@H]%10(O[C@H](CO)[C@@H](O)[C@H](O[C@]4(C([O-])=O)(C[C@H](O)[C@@H](NC(C)=O)[C@@H](O4)[C@H](O)[C@H](O[C@H]5([C@@H]([C@H]([C@@H]([C@H](O5)CO)O)O[C@@H]8(O[C@H](CO)[C@@H](O)[C@H](O[C@]6(C([O-])=O)(C[C@H](O)[C@@H](NC(C)=O)[C@@H](O6)[C@H](O)[C@H](O[R])CO))[C@@H](O[C@H]7(O[C@H](CO)[C@H](O)[C@H](O)[C@@H](O)7))8))NC(C)=O))CO))[C@@H](O[C@H]9(O[C@H](CO)[C@H](O)[C@H](O)[C@@H](O)9))%10))NC(C)=O))CO))[C@@H](O[C@H]%11(O[C@H](CO)[C@H](O)[C@H](O)[C@@H](O)%11))%12))NC(C)=O)'\n",
      " 34%|███▍      | 1213/3538 [01:24<44:59,  1.16s/it][17:41:18] SMILES Parse Error: syntax error while parsing: CC(C)=CCCC(\\C)=C/CCC(\\C)=C/CCC(/C)=C/CCC(/C)=C/CCC(/C)=C/CCC(/C)=C/CCC(/C)=C/CCC(/C)=C/CCC(/C)=C/CCC(/C)=C/COP(=O)([O-])OP([O-])(=O)O[C@@H]1([C@@H]([C@H]([C@@H]([C@H](O1)CO)O)O[C@@H]%15(O[C@H](CO)[C@H](O[C@H]%14(O[C@@H]([C@@H](O)[C@H](O[C@@H]2(O[C@@H](C)[C@H](O)[C@@H](O)[C@@H](O)2))[C@H](O[C@@H]%13(O[C@H](C)[C@@H](NC(C)=O)[C@H](O[C@@H]3([C@@H]([C@H]([C@@H]([C@H](O3)CO)O)O[C@@H]%12(O[C@H](CO)[C@H](O[C@H]%11(O[C@@H]([C@@H](O)[C@H](O[C@@H]4(O[C@@H](C)[C@H](O)[C@@H](O)[C@@H](O)4))[C@H](O[C@@H]%10(O[C@H](C)[C@@H](NC(C)=O)[C@H](O[C@@H]5([C@@H]([C@H]([C@@H]([C@H](O5)CO)O)O[C@@H]9(O[C@H](CO)[C@H](O[C@H]8(O[C@@H]([C@@H](O)[C@H](O[C@@H]6(O[C@@H](C)[C@H](O)[C@@H](O)[C@@H](O)6))[C@H](O[C@@H]7(O[C@H](C)[C@@H](NC(C)=O)[C@H](O[R])[C@@H](O)7))8)CO))[C@H](O)[C@@H](O)9))NC=O))[C@@H](O)%10))%11)CO))[C@H](O)[C@@H](O)%12))NC=O))[C@@H](O)%13))%14)CO))[C@H](O)[C@@H](O)%15))NC(C)=O)\n",
      "[17:41:18] SMILES Parse Error: Failed parsing SMILES 'CC(C)=CCCC(\\C)=C/CCC(\\C)=C/CCC(/C)=C/CCC(/C)=C/CCC(/C)=C/CCC(/C)=C/CCC(/C)=C/CCC(/C)=C/CCC(/C)=C/CCC(/C)=C/COP(=O)([O-])OP([O-])(=O)O[C@@H]1([C@@H]([C@H]([C@@H]([C@H](O1)CO)O)O[C@@H]%15(O[C@H](CO)[C@H](O[C@H]%14(O[C@@H]([C@@H](O)[C@H](O[C@@H]2(O[C@@H](C)[C@H](O)[C@@H](O)[C@@H](O)2))[C@H](O[C@@H]%13(O[C@H](C)[C@@H](NC(C)=O)[C@H](O[C@@H]3([C@@H]([C@H]([C@@H]([C@H](O3)CO)O)O[C@@H]%12(O[C@H](CO)[C@H](O[C@H]%11(O[C@@H]([C@@H](O)[C@H](O[C@@H]4(O[C@@H](C)[C@H](O)[C@@H](O)[C@@H](O)4))[C@H](O[C@@H]%10(O[C@H](C)[C@@H](NC(C)=O)[C@H](O[C@@H]5([C@@H]([C@H]([C@@H]([C@H](O5)CO)O)O[C@@H]9(O[C@H](CO)[C@H](O[C@H]8(O[C@@H]([C@@H](O)[C@H](O[C@@H]6(O[C@@H](C)[C@H](O)[C@@H](O)[C@@H](O)6))[C@H](O[C@@H]7(O[C@H](C)[C@@H](NC(C)=O)[C@H](O[R])[C@@H](O)7))8)CO))[C@H](O)[C@@H](O)9))NC=O))[C@@H](O)%10))%11)CO))[C@H](O)[C@@H](O)%12))NC=O))[C@@H](O)%13))%14)CO))[C@H](O)[C@@H](O)%15))NC(C)=O)' for input: 'CC(C)=CCCC(\\C)=C/CCC(\\C)=C/CCC(/C)=C/CCC(/C)=C/CCC(/C)=C/CCC(/C)=C/CCC(/C)=C/CCC(/C)=C/CCC(/C)=C/CCC(/C)=C/COP(=O)([O-])OP([O-])(=O)O[C@@H]1([C@@H]([C@H]([C@@H]([C@H](O1)CO)O)O[C@@H]%15(O[C@H](CO)[C@H](O[C@H]%14(O[C@@H]([C@@H](O)[C@H](O[C@@H]2(O[C@@H](C)[C@H](O)[C@@H](O)[C@@H](O)2))[C@H](O[C@@H]%13(O[C@H](C)[C@@H](NC(C)=O)[C@H](O[C@@H]3([C@@H]([C@H]([C@@H]([C@H](O3)CO)O)O[C@@H]%12(O[C@H](CO)[C@H](O[C@H]%11(O[C@@H]([C@@H](O)[C@H](O[C@@H]4(O[C@@H](C)[C@H](O)[C@@H](O)[C@@H](O)4))[C@H](O[C@@H]%10(O[C@H](C)[C@@H](NC(C)=O)[C@H](O[C@@H]5([C@@H]([C@H]([C@@H]([C@H](O5)CO)O)O[C@@H]9(O[C@H](CO)[C@H](O[C@H]8(O[C@@H]([C@@H](O)[C@H](O[C@@H]6(O[C@@H](C)[C@H](O)[C@@H](O)[C@@H](O)6))[C@H](O[C@@H]7(O[C@H](C)[C@@H](NC(C)=O)[C@H](O[R])[C@@H](O)7))8)CO))[C@H](O)[C@@H](O)9))NC=O))[C@@H](O)%10))%11)CO))[C@H](O)[C@@H](O)%12))NC=O))[C@@H](O)%13))%14)CO))[C@H](O)[C@@H](O)%15))NC(C)=O)'\n",
      "[17:41:18] WARNING: not removing hydrogen atom without neighbors\n",
      " 34%|███▍      | 1214/3538 [01:25<45:48,  1.18s/it][17:41:20] WARNING: not removing hydrogen atom without neighbors\n",
      "[17:41:20] SMILES Parse Error: syntax error while parsing: CC(C)=CCCC(\\C)=C/CCC(\\C)=C/CCC(/C)=C/CCC(/C)=C/CCC(/C)=C/CCC(/C)=C/CCC(/C)=C/CCC(/C)=C/CCC(/C)=C/CCC(/C)=C/COP(=O)([O-])OP([O-])(=O)O[C@@H]1([C@@H]([C@H]([C@H]([C@H](O1)CO)O)O[C@@H]%12(O[C@H](CO)[C@H](O[C@@H]%11(O[C@@H](C)[C@H](O)[C@@H](O[C@@H]%10([C@@H]([C@H]([C@H](O[C@@H]2([C@@H]([C@H]([C@H]([C@H](O2)CO)O)O[C@@H]9(O[C@H](CO)[C@H](O[C@@H]8(O[C@@H](C)[C@H](O)[C@@H](O[C@@H]7([C@@H]([C@H]([C@H](O[C@@H]3([C@@H]([C@H]([C@H]([C@H](O3)CO)O)O[C@@H]6(O[C@H](CO)[C@H](O[C@@H]5(O[C@@H](C)[C@H](O)[C@@H](O[C@@H]4([C@@H]([C@H]([C@H](O[R])[C@H](O4)C)NC(C)=O)O))[C@@H](O)5))[C@H](O)[C@@H](O)6))NC(C)=O))[C@H](O7)C)NC(C)=O)O))[C@@H](O)8))[C@H](O)[C@@H](O)9))NC(C)=O))[C@H](O%10)C)NC(C)=O)O))[C@@H](O)%11))[C@H](O)[C@@H](O)%12))NC(C)=O)\n",
      "[17:41:20] SMILES Parse Error: Failed parsing SMILES 'CC(C)=CCCC(\\C)=C/CCC(\\C)=C/CCC(/C)=C/CCC(/C)=C/CCC(/C)=C/CCC(/C)=C/CCC(/C)=C/CCC(/C)=C/CCC(/C)=C/CCC(/C)=C/COP(=O)([O-])OP([O-])(=O)O[C@@H]1([C@@H]([C@H]([C@H]([C@H](O1)CO)O)O[C@@H]%12(O[C@H](CO)[C@H](O[C@@H]%11(O[C@@H](C)[C@H](O)[C@@H](O[C@@H]%10([C@@H]([C@H]([C@H](O[C@@H]2([C@@H]([C@H]([C@H]([C@H](O2)CO)O)O[C@@H]9(O[C@H](CO)[C@H](O[C@@H]8(O[C@@H](C)[C@H](O)[C@@H](O[C@@H]7([C@@H]([C@H]([C@H](O[C@@H]3([C@@H]([C@H]([C@H]([C@H](O3)CO)O)O[C@@H]6(O[C@H](CO)[C@H](O[C@@H]5(O[C@@H](C)[C@H](O)[C@@H](O[C@@H]4([C@@H]([C@H]([C@H](O[R])[C@H](O4)C)NC(C)=O)O))[C@@H](O)5))[C@H](O)[C@@H](O)6))NC(C)=O))[C@H](O7)C)NC(C)=O)O))[C@@H](O)8))[C@H](O)[C@@H](O)9))NC(C)=O))[C@H](O%10)C)NC(C)=O)O))[C@@H](O)%11))[C@H](O)[C@@H](O)%12))NC(C)=O)' for input: 'CC(C)=CCCC(\\C)=C/CCC(\\C)=C/CCC(/C)=C/CCC(/C)=C/CCC(/C)=C/CCC(/C)=C/CCC(/C)=C/CCC(/C)=C/CCC(/C)=C/CCC(/C)=C/COP(=O)([O-])OP([O-])(=O)O[C@@H]1([C@@H]([C@H]([C@H]([C@H](O1)CO)O)O[C@@H]%12(O[C@H](CO)[C@H](O[C@@H]%11(O[C@@H](C)[C@H](O)[C@@H](O[C@@H]%10([C@@H]([C@H]([C@H](O[C@@H]2([C@@H]([C@H]([C@H]([C@H](O2)CO)O)O[C@@H]9(O[C@H](CO)[C@H](O[C@@H]8(O[C@@H](C)[C@H](O)[C@@H](O[C@@H]7([C@@H]([C@H]([C@H](O[C@@H]3([C@@H]([C@H]([C@H]([C@H](O3)CO)O)O[C@@H]6(O[C@H](CO)[C@H](O[C@@H]5(O[C@@H](C)[C@H](O)[C@@H](O[C@@H]4([C@@H]([C@H]([C@H](O[R])[C@H](O4)C)NC(C)=O)O))[C@@H](O)5))[C@H](O)[C@@H](O)6))NC(C)=O))[C@H](O7)C)NC(C)=O)O))[C@@H](O)8))[C@H](O)[C@@H](O)9))NC(C)=O))[C@H](O%10)C)NC(C)=O)O))[C@@H](O)%11))[C@H](O)[C@@H](O)%12))NC(C)=O)'\n",
      " 34%|███▍      | 1215/3538 [01:27<49:20,  1.27s/it][17:41:21] WARNING: not removing hydrogen atom without neighbors\n",
      "[17:41:21] SMILES Parse Error: syntax error while parsing: CC(C)=CCCC(\\C)=C/CCC(\\C)=C/CCC(/C)=C/CCC(/C)=C/CCC(/C)=C/CCC(/C)=C/CCC(/C)=C/CCC(/C)=C/CCC(/C)=C/CCC(/C)=C/COP(=O)([O-])OP([O-])(=O)O[C@@H]1([C@@H]([C@H]([C@H](O)[C@H](O1)CO)O[C@@H]%12(O[C@H](CO)[C@@H](O)[C@H](O)[C@H](O[C@H]%11(O[C@H](CO)[C@@H](O)[C@H](O)[C@H](O[C@H]%10(O[C@H](CO[C@@H]2([C@@H]([C@H]([C@H](O)[C@H](O2)CO)O[C@@H]9(O[C@H](CO)[C@@H](O)[C@H](O)[C@H](O[C@H]8(O[C@H](CO)[C@@H](O)[C@H](O)[C@H](O[C@H]7(O[C@H](CO[C@@H]3([C@@H]([C@H]([C@H](O)[C@H](O3)CO)O[C@@H]6(O[C@H](CO)[C@@H](O)[C@H](O)[C@H](O[C@H]5(O[C@H](CO)[C@@H](O)[C@H](O)[C@H](O[C@H]4(O[C@H](CO[R])[C@@H](O)[C@H](O)[C@H](O)4))5))6))NC(C)=O))[C@@H](O)[C@H](O)[C@H](O)7))8))9))NC(C)=O))[C@@H](O)[C@H](O)[C@H](O)%10))%11))%12))NC(C)=O)\n",
      "[17:41:21] SMILES Parse Error: Failed parsing SMILES 'CC(C)=CCCC(\\C)=C/CCC(\\C)=C/CCC(/C)=C/CCC(/C)=C/CCC(/C)=C/CCC(/C)=C/CCC(/C)=C/CCC(/C)=C/CCC(/C)=C/CCC(/C)=C/COP(=O)([O-])OP([O-])(=O)O[C@@H]1([C@@H]([C@H]([C@H](O)[C@H](O1)CO)O[C@@H]%12(O[C@H](CO)[C@@H](O)[C@H](O)[C@H](O[C@H]%11(O[C@H](CO)[C@@H](O)[C@H](O)[C@H](O[C@H]%10(O[C@H](CO[C@@H]2([C@@H]([C@H]([C@H](O)[C@H](O2)CO)O[C@@H]9(O[C@H](CO)[C@@H](O)[C@H](O)[C@H](O[C@H]8(O[C@H](CO)[C@@H](O)[C@H](O)[C@H](O[C@H]7(O[C@H](CO[C@@H]3([C@@H]([C@H]([C@H](O)[C@H](O3)CO)O[C@@H]6(O[C@H](CO)[C@@H](O)[C@H](O)[C@H](O[C@H]5(O[C@H](CO)[C@@H](O)[C@H](O)[C@H](O[C@H]4(O[C@H](CO[R])[C@@H](O)[C@H](O)[C@H](O)4))5))6))NC(C)=O))[C@@H](O)[C@H](O)[C@H](O)7))8))9))NC(C)=O))[C@@H](O)[C@H](O)[C@H](O)%10))%11))%12))NC(C)=O)' for input: 'CC(C)=CCCC(\\C)=C/CCC(\\C)=C/CCC(/C)=C/CCC(/C)=C/CCC(/C)=C/CCC(/C)=C/CCC(/C)=C/CCC(/C)=C/CCC(/C)=C/CCC(/C)=C/COP(=O)([O-])OP([O-])(=O)O[C@@H]1([C@@H]([C@H]([C@H](O)[C@H](O1)CO)O[C@@H]%12(O[C@H](CO)[C@@H](O)[C@H](O)[C@H](O[C@H]%11(O[C@H](CO)[C@@H](O)[C@H](O)[C@H](O[C@H]%10(O[C@H](CO[C@@H]2([C@@H]([C@H]([C@H](O)[C@H](O2)CO)O[C@@H]9(O[C@H](CO)[C@@H](O)[C@H](O)[C@H](O[C@H]8(O[C@H](CO)[C@@H](O)[C@H](O)[C@H](O[C@H]7(O[C@H](CO[C@@H]3([C@@H]([C@H]([C@H](O)[C@H](O3)CO)O[C@@H]6(O[C@H](CO)[C@@H](O)[C@H](O)[C@H](O[C@H]5(O[C@H](CO)[C@@H](O)[C@H](O)[C@H](O[C@H]4(O[C@H](CO[R])[C@@H](O)[C@H](O)[C@H](O)4))5))6))NC(C)=O))[C@@H](O)[C@H](O)[C@H](O)7))8))9))NC(C)=O))[C@@H](O)[C@H](O)[C@H](O)%10))%11))%12))NC(C)=O)'\n",
      " 34%|███▍      | 1216/3538 [01:28<51:08,  1.32s/it][17:41:22] SMILES Parse Error: syntax error while parsing: CC(C)=CCCC(\\C)=C/CCC(\\C)=C/CCC(/C)=C/CCC(/C)=C/CCC(/C)=C/CCC(/C)=C/CCC(/C)=C/CCC(/C)=C/CCC(/C)=C/CCC(/C)=C/COP(=O)([O-])OP([O-])(=O)O[C@@H]1([C@@H]([C@H]([C@H](O)[C@H](O1)CO)O[C@H]%13(O[C@H](CO)[C@@H](O)[C@H](O[C@H]%12(O[C@H](CO)[C@@H](O)[C@H](O[C@H]%11(O[C@H](CO)[C@@H](O)[C@H](O[C@H]%10(O[C@H](CO)[C@@H](O)[C@H](O)[C@H](O[C@H]9(O[C@H](CO)[C@@H](O)[C@H](O)[C@H](O[C@@H]8(O[C@H](CO)[C@@H](O)[C@H](O[C@H]7(O[C@H](CO)[C@@H](O)[C@H](O)[C@H](O[C@H]6(O[C@H](CO)[C@@H](O)[C@H](O)[C@H](O[C@@H]5(O[C@H](CO)[C@@H](O)[C@H](O[C@H]4(O[C@H](CO)[C@@H](O)[C@H](O)[C@H](O[C@H]3(O[C@H](CO)[C@@H](O)[C@H](O)[C@H](O[C@@H]2(O[C@H](CO)[C@@H](O)[C@H](O[R])[C@H](O)2))3))4))[C@H](O)5))6))7))[C@H](O)8))9))%10))[C@H](O)%11))[C@H](O)%12))[C@H](O)%13))NC(C)=O)\n",
      "[17:41:22] SMILES Parse Error: Failed parsing SMILES 'CC(C)=CCCC(\\C)=C/CCC(\\C)=C/CCC(/C)=C/CCC(/C)=C/CCC(/C)=C/CCC(/C)=C/CCC(/C)=C/CCC(/C)=C/CCC(/C)=C/CCC(/C)=C/COP(=O)([O-])OP([O-])(=O)O[C@@H]1([C@@H]([C@H]([C@H](O)[C@H](O1)CO)O[C@H]%13(O[C@H](CO)[C@@H](O)[C@H](O[C@H]%12(O[C@H](CO)[C@@H](O)[C@H](O[C@H]%11(O[C@H](CO)[C@@H](O)[C@H](O[C@H]%10(O[C@H](CO)[C@@H](O)[C@H](O)[C@H](O[C@H]9(O[C@H](CO)[C@@H](O)[C@H](O)[C@H](O[C@@H]8(O[C@H](CO)[C@@H](O)[C@H](O[C@H]7(O[C@H](CO)[C@@H](O)[C@H](O)[C@H](O[C@H]6(O[C@H](CO)[C@@H](O)[C@H](O)[C@H](O[C@@H]5(O[C@H](CO)[C@@H](O)[C@H](O[C@H]4(O[C@H](CO)[C@@H](O)[C@H](O)[C@H](O[C@H]3(O[C@H](CO)[C@@H](O)[C@H](O)[C@H](O[C@@H]2(O[C@H](CO)[C@@H](O)[C@H](O[R])[C@H](O)2))3))4))[C@H](O)5))6))7))[C@H](O)8))9))%10))[C@H](O)%11))[C@H](O)%12))[C@H](O)%13))NC(C)=O)' for input: 'CC(C)=CCCC(\\C)=C/CCC(\\C)=C/CCC(/C)=C/CCC(/C)=C/CCC(/C)=C/CCC(/C)=C/CCC(/C)=C/CCC(/C)=C/CCC(/C)=C/CCC(/C)=C/COP(=O)([O-])OP([O-])(=O)O[C@@H]1([C@@H]([C@H]([C@H](O)[C@H](O1)CO)O[C@H]%13(O[C@H](CO)[C@@H](O)[C@H](O[C@H]%12(O[C@H](CO)[C@@H](O)[C@H](O[C@H]%11(O[C@H](CO)[C@@H](O)[C@H](O[C@H]%10(O[C@H](CO)[C@@H](O)[C@H](O)[C@H](O[C@H]9(O[C@H](CO)[C@@H](O)[C@H](O)[C@H](O[C@@H]8(O[C@H](CO)[C@@H](O)[C@H](O[C@H]7(O[C@H](CO)[C@@H](O)[C@H](O)[C@H](O[C@H]6(O[C@H](CO)[C@@H](O)[C@H](O)[C@H](O[C@@H]5(O[C@H](CO)[C@@H](O)[C@H](O[C@H]4(O[C@H](CO)[C@@H](O)[C@H](O)[C@H](O[C@H]3(O[C@H](CO)[C@@H](O)[C@H](O)[C@H](O[C@@H]2(O[C@H](CO)[C@@H](O)[C@H](O[R])[C@H](O)2))3))4))[C@H](O)5))6))7))[C@H](O)8))9))%10))[C@H](O)%11))[C@H](O)%12))[C@H](O)%13))NC(C)=O)'\n",
      "[17:41:22] SMILES Parse Error: syntax error while parsing: CC(C)=CCCC(\\C)=C/CCC(\\C)=C/CCC(/C)=C/CCC(/C)=C/CCC(/C)=C/CCC(/C)=C/CCC(/C)=C/CCC(/C)=C/CCC(/C)=C/CCC(/C)=C/COP(=O)([O-])OP([O-])(=O)O[C@@H]1([C@@H]([C@H]([C@H](O)[C@H](O1)CO)O[C@H]%14(O[C@H](CO)[C@@H](O)[C@H](O[C@H]%13(O[C@H](CO)[C@@H](O)[C@H](O[C@H]%12(O[C@H](CO)[C@@H](O)[C@H](O[C@H]%11(O[C@H](CO)[C@@H](O)[C@H](O)[C@H](O[C@H]%10(O[C@H](CO)[C@@H](O)[C@H](O)[C@H](O[C@@H]9(O[C@H](CO)[C@@H](O)[C@H](O[C@H]8(O[C@H](CO)[C@@H](O)[C@H](O)[C@H](O[C@H]7(O[C@H](CO)[C@@H](O)[C@H](O)[C@H](O[C@@H]6(O[C@H](CO)[C@@H](O)[C@H](O[C@H]5(O[C@H](CO)[C@@H](O)[C@H](O)[C@H](O[C@H]4(O[C@H](CO)[C@@H](O)[C@H](O)[C@H](O[C@@H]3(O[C@H](CO)[C@@H](O)[C@H](O[R]O[C@H]2(O[C@H](CO)[C@@H](O)[C@H](O)[C@H](O)2))[C@H](O)3))4))5))[C@H](O)6))7))8))[C@H](O)9))%10))%11))[C@H](O)%12))[C@H](O)%13))[C@H](O)%14))NC(C)=O)\n",
      "[17:41:22] SMILES Parse Error: Failed parsing SMILES 'CC(C)=CCCC(\\C)=C/CCC(\\C)=C/CCC(/C)=C/CCC(/C)=C/CCC(/C)=C/CCC(/C)=C/CCC(/C)=C/CCC(/C)=C/CCC(/C)=C/CCC(/C)=C/COP(=O)([O-])OP([O-])(=O)O[C@@H]1([C@@H]([C@H]([C@H](O)[C@H](O1)CO)O[C@H]%14(O[C@H](CO)[C@@H](O)[C@H](O[C@H]%13(O[C@H](CO)[C@@H](O)[C@H](O[C@H]%12(O[C@H](CO)[C@@H](O)[C@H](O[C@H]%11(O[C@H](CO)[C@@H](O)[C@H](O)[C@H](O[C@H]%10(O[C@H](CO)[C@@H](O)[C@H](O)[C@H](O[C@@H]9(O[C@H](CO)[C@@H](O)[C@H](O[C@H]8(O[C@H](CO)[C@@H](O)[C@H](O)[C@H](O[C@H]7(O[C@H](CO)[C@@H](O)[C@H](O)[C@H](O[C@@H]6(O[C@H](CO)[C@@H](O)[C@H](O[C@H]5(O[C@H](CO)[C@@H](O)[C@H](O)[C@H](O[C@H]4(O[C@H](CO)[C@@H](O)[C@H](O)[C@H](O[C@@H]3(O[C@H](CO)[C@@H](O)[C@H](O[R]O[C@H]2(O[C@H](CO)[C@@H](O)[C@H](O)[C@H](O)2))[C@H](O)3))4))5))[C@H](O)6))7))8))[C@H](O)9))%10))%11))[C@H](O)%12))[C@H](O)%13))[C@H](O)%14))NC(C)=O)' for input: 'CC(C)=CCCC(\\C)=C/CCC(\\C)=C/CCC(/C)=C/CCC(/C)=C/CCC(/C)=C/CCC(/C)=C/CCC(/C)=C/CCC(/C)=C/CCC(/C)=C/CCC(/C)=C/COP(=O)([O-])OP([O-])(=O)O[C@@H]1([C@@H]([C@H]([C@H](O)[C@H](O1)CO)O[C@H]%14(O[C@H](CO)[C@@H](O)[C@H](O[C@H]%13(O[C@H](CO)[C@@H](O)[C@H](O[C@H]%12(O[C@H](CO)[C@@H](O)[C@H](O[C@H]%11(O[C@H](CO)[C@@H](O)[C@H](O)[C@H](O[C@H]%10(O[C@H](CO)[C@@H](O)[C@H](O)[C@H](O[C@@H]9(O[C@H](CO)[C@@H](O)[C@H](O[C@H]8(O[C@H](CO)[C@@H](O)[C@H](O)[C@H](O[C@H]7(O[C@H](CO)[C@@H](O)[C@H](O)[C@H](O[C@@H]6(O[C@H](CO)[C@@H](O)[C@H](O[C@H]5(O[C@H](CO)[C@@H](O)[C@H](O)[C@H](O[C@H]4(O[C@H](CO)[C@@H](O)[C@H](O)[C@H](O[C@@H]3(O[C@H](CO)[C@@H](O)[C@H](O[R]O[C@H]2(O[C@H](CO)[C@@H](O)[C@H](O)[C@H](O)2))[C@H](O)3))4))5))[C@H](O)6))7))8))[C@H](O)9))%10))%11))[C@H](O)%12))[C@H](O)%13))[C@H](O)%14))NC(C)=O)'\n",
      " 34%|███▍      | 1217/3538 [01:29<51:04,  1.32s/it][17:41:24] SMILES Parse Error: syntax error while parsing: CC(C)=CCCC(\\C)=C/CCC(\\C)=C/CCC(/C)=C/CCC(/C)=C/CCC(/C)=C/CCC(/C)=C/CCC(/C)=C/CCC(/C)=C/CCC(/C)=C/CCC(/C)=C/COP(=O)([O-])OP([O-])(=O)O[C@@H]1([C@@H]([C@H]([C@@H]([C@H](O1)CO)O)O[C@@H]%15(O[C@H]([C@H](O)CO[C@H]%14([C@@H](NC(=O)C)[C@@H](O[C@@H]2([C@@H]([C@H]([C@H]([C@H](O2)CO)O[C@H]3(O[C@H]([C@H](O)CO)[C@H](O)[C@@H](O)3))O)O[C@H]4([C@@H]([C@H]([C@@H]([C@H](O4)CO)O)O[C@@H]%13(O[C@H]([C@H](O)CO[C@H]%12([C@@H](NC(=O)C)[C@@H](O[C@@H]5([C@@H]([C@H]([C@H]([C@H](O5)CO)O[C@H]6(O[C@H]([C@H](O)CO)[C@H](O)[C@@H](O)6))O)O[C@H]7([C@@H]([C@H]([C@@H]([C@H](O7)CO)O)O[C@@H]%11(O[C@H]([C@H](O)CO[C@H]%10([C@@H](NC(=O)C)[C@@H](O[C@@H]8([C@@H]([C@H]([C@H]([C@H](O8)CO)O[C@H]9(O[C@H]([C@H](O)CO)[C@H](O)[C@@H](O)9))O)O[R]))[C@H](O)[C@@H](CO)O%10))[C@H](O)[C@@H](O)%11))NC(C)=O)))[C@H](O)[C@@H](CO)O%12))[C@H](O)[C@@H](O)%13))NC(C)=O)))[C@H](O)[C@@H](CO)O%14))[C@H](O)[C@@H](O)%15))NC(C)=O)\n",
      "[17:41:24] SMILES Parse Error: Failed parsing SMILES 'CC(C)=CCCC(\\C)=C/CCC(\\C)=C/CCC(/C)=C/CCC(/C)=C/CCC(/C)=C/CCC(/C)=C/CCC(/C)=C/CCC(/C)=C/CCC(/C)=C/CCC(/C)=C/COP(=O)([O-])OP([O-])(=O)O[C@@H]1([C@@H]([C@H]([C@@H]([C@H](O1)CO)O)O[C@@H]%15(O[C@H]([C@H](O)CO[C@H]%14([C@@H](NC(=O)C)[C@@H](O[C@@H]2([C@@H]([C@H]([C@H]([C@H](O2)CO)O[C@H]3(O[C@H]([C@H](O)CO)[C@H](O)[C@@H](O)3))O)O[C@H]4([C@@H]([C@H]([C@@H]([C@H](O4)CO)O)O[C@@H]%13(O[C@H]([C@H](O)CO[C@H]%12([C@@H](NC(=O)C)[C@@H](O[C@@H]5([C@@H]([C@H]([C@H]([C@H](O5)CO)O[C@H]6(O[C@H]([C@H](O)CO)[C@H](O)[C@@H](O)6))O)O[C@H]7([C@@H]([C@H]([C@@H]([C@H](O7)CO)O)O[C@@H]%11(O[C@H]([C@H](O)CO[C@H]%10([C@@H](NC(=O)C)[C@@H](O[C@@H]8([C@@H]([C@H]([C@H]([C@H](O8)CO)O[C@H]9(O[C@H]([C@H](O)CO)[C@H](O)[C@@H](O)9))O)O[R]))[C@H](O)[C@@H](CO)O%10))[C@H](O)[C@@H](O)%11))NC(C)=O)))[C@H](O)[C@@H](CO)O%12))[C@H](O)[C@@H](O)%13))NC(C)=O)))[C@H](O)[C@@H](CO)O%14))[C@H](O)[C@@H](O)%15))NC(C)=O)' for input: 'CC(C)=CCCC(\\C)=C/CCC(\\C)=C/CCC(/C)=C/CCC(/C)=C/CCC(/C)=C/CCC(/C)=C/CCC(/C)=C/CCC(/C)=C/CCC(/C)=C/CCC(/C)=C/COP(=O)([O-])OP([O-])(=O)O[C@@H]1([C@@H]([C@H]([C@@H]([C@H](O1)CO)O)O[C@@H]%15(O[C@H]([C@H](O)CO[C@H]%14([C@@H](NC(=O)C)[C@@H](O[C@@H]2([C@@H]([C@H]([C@H]([C@H](O2)CO)O[C@H]3(O[C@H]([C@H](O)CO)[C@H](O)[C@@H](O)3))O)O[C@H]4([C@@H]([C@H]([C@@H]([C@H](O4)CO)O)O[C@@H]%13(O[C@H]([C@H](O)CO[C@H]%12([C@@H](NC(=O)C)[C@@H](O[C@@H]5([C@@H]([C@H]([C@H]([C@H](O5)CO)O[C@H]6(O[C@H]([C@H](O)CO)[C@H](O)[C@@H](O)6))O)O[C@H]7([C@@H]([C@H]([C@@H]([C@H](O7)CO)O)O[C@@H]%11(O[C@H]([C@H](O)CO[C@H]%10([C@@H](NC(=O)C)[C@@H](O[C@@H]8([C@@H]([C@H]([C@H]([C@H](O8)CO)O[C@H]9(O[C@H]([C@H](O)CO)[C@H](O)[C@@H](O)9))O)O[R]))[C@H](O)[C@@H](CO)O%10))[C@H](O)[C@@H](O)%11))NC(C)=O)))[C@H](O)[C@@H](CO)O%12))[C@H](O)[C@@H](O)%13))NC(C)=O)))[C@H](O)[C@@H](CO)O%14))[C@H](O)[C@@H](O)%15))NC(C)=O)'\n",
      "[17:41:24] WARNING: not removing hydrogen atom without neighbors\n",
      " 34%|███▍      | 1218/3538 [01:31<50:26,  1.30s/it][17:41:25] WARNING: not removing hydrogen atom without neighbors\n",
      "[17:41:25] SMILES Parse Error: syntax error while parsing: CC(C)=CCCC(\\C)=C/CCC(\\C)=C/CCC(/C)=C/CCC(/C)=C/CCC(/C)=C/CCC(/C)=C/CCC(/C)=C/CCC(/C)=C/CCC(/C)=C/CCC(/C)=C/COP(=O)([O-])OP([O-])(=O)O[C@@H]1([C@@H]([C@H]([C@H]([C@H](O1)CO)O)O[C@H]%15(O[C@H](CO)[C@H](O)[C@H](O[C@@H]%14(O[C@H](CO)[C@H](O)[C@H](O[C@H]2(O[C@H](CO)[C@H](O)[C@H](O)[C@@H](O)2))[C@@H](O[C@@H]%13(O[C@@H](C)[C@@H](O[C@H]3([C@@H]([C@H]([C@H]([C@H](O3)CO)O)O[C@H]%12(O[C@H](CO)[C@H](O)[C@H](O[C@@H]%11(O[C@H](CO)[C@H](O)[C@H](O[C@H]4(O[C@H](CO)[C@H](O)[C@H](O)[C@@H](O)4))[C@@H](O[C@@H]%10(O[C@@H](C)[C@@H](O[C@H]5([C@@H]([C@H]([C@H]([C@H](O5)CO)O)O[C@H]9(O[C@H](CO)[C@H](O)[C@H](O[C@@H]8(O[C@H](CO)[C@H](O)[C@H](O[C@H]6(O[C@H](CO)[C@H](O)[C@H](O)[C@@H](O)6))[C@@H](O[C@@H]7(O[C@@H](C)[C@@H](O[R])[C@@H](O)[C@H](O)7))8))[C@@H](NC(=O)C)9))NC(C)=O))[C@@H](O)[C@H](O)%10))%11))[C@@H](NC(=O)C)%12))NC(C)=O))[C@@H](O)[C@H](O)%13))%14))[C@@H](NC(=O)C)%15))NC(C)=O)\n",
      "[17:41:25] SMILES Parse Error: Failed parsing SMILES 'CC(C)=CCCC(\\C)=C/CCC(\\C)=C/CCC(/C)=C/CCC(/C)=C/CCC(/C)=C/CCC(/C)=C/CCC(/C)=C/CCC(/C)=C/CCC(/C)=C/CCC(/C)=C/COP(=O)([O-])OP([O-])(=O)O[C@@H]1([C@@H]([C@H]([C@H]([C@H](O1)CO)O)O[C@H]%15(O[C@H](CO)[C@H](O)[C@H](O[C@@H]%14(O[C@H](CO)[C@H](O)[C@H](O[C@H]2(O[C@H](CO)[C@H](O)[C@H](O)[C@@H](O)2))[C@@H](O[C@@H]%13(O[C@@H](C)[C@@H](O[C@H]3([C@@H]([C@H]([C@H]([C@H](O3)CO)O)O[C@H]%12(O[C@H](CO)[C@H](O)[C@H](O[C@@H]%11(O[C@H](CO)[C@H](O)[C@H](O[C@H]4(O[C@H](CO)[C@H](O)[C@H](O)[C@@H](O)4))[C@@H](O[C@@H]%10(O[C@@H](C)[C@@H](O[C@H]5([C@@H]([C@H]([C@H]([C@H](O5)CO)O)O[C@H]9(O[C@H](CO)[C@H](O)[C@H](O[C@@H]8(O[C@H](CO)[C@H](O)[C@H](O[C@H]6(O[C@H](CO)[C@H](O)[C@H](O)[C@@H](O)6))[C@@H](O[C@@H]7(O[C@@H](C)[C@@H](O[R])[C@@H](O)[C@H](O)7))8))[C@@H](NC(=O)C)9))NC(C)=O))[C@@H](O)[C@H](O)%10))%11))[C@@H](NC(=O)C)%12))NC(C)=O))[C@@H](O)[C@H](O)%13))%14))[C@@H](NC(=O)C)%15))NC(C)=O)' for input: 'CC(C)=CCCC(\\C)=C/CCC(\\C)=C/CCC(/C)=C/CCC(/C)=C/CCC(/C)=C/CCC(/C)=C/CCC(/C)=C/CCC(/C)=C/CCC(/C)=C/CCC(/C)=C/COP(=O)([O-])OP([O-])(=O)O[C@@H]1([C@@H]([C@H]([C@H]([C@H](O1)CO)O)O[C@H]%15(O[C@H](CO)[C@H](O)[C@H](O[C@@H]%14(O[C@H](CO)[C@H](O)[C@H](O[C@H]2(O[C@H](CO)[C@H](O)[C@H](O)[C@@H](O)2))[C@@H](O[C@@H]%13(O[C@@H](C)[C@@H](O[C@H]3([C@@H]([C@H]([C@H]([C@H](O3)CO)O)O[C@H]%12(O[C@H](CO)[C@H](O)[C@H](O[C@@H]%11(O[C@H](CO)[C@H](O)[C@H](O[C@H]4(O[C@H](CO)[C@H](O)[C@H](O)[C@@H](O)4))[C@@H](O[C@@H]%10(O[C@@H](C)[C@@H](O[C@H]5([C@@H]([C@H]([C@H]([C@H](O5)CO)O)O[C@H]9(O[C@H](CO)[C@H](O)[C@H](O[C@@H]8(O[C@H](CO)[C@H](O)[C@H](O[C@H]6(O[C@H](CO)[C@H](O)[C@H](O)[C@@H](O)6))[C@@H](O[C@@H]7(O[C@@H](C)[C@@H](O[R])[C@@H](O)[C@H](O)7))8))[C@@H](NC(=O)C)9))NC(C)=O))[C@@H](O)[C@H](O)%10))%11))[C@@H](NC(=O)C)%12))NC(C)=O))[C@@H](O)[C@H](O)%13))%14))[C@@H](NC(=O)C)%15))NC(C)=O)'\n",
      " 34%|███▍      | 1219/3538 [01:32<52:54,  1.37s/it][17:41:27] SMILES Parse Error: syntax error while parsing: CC(C)=CCCC(\\C)=C/CCC(\\C)=C/CCC(/C)=C/CCC(/C)=C/CCC(/C)=C/CCC(/C)=C/CCC(/C)=C/CCC(/C)=C/CCC(/C)=C/CCC(/C)=C/COP(=O)([O-])OP([O-])(=O)O[C@@H]1([C@@H]([C@H]([C@H](O)[C@H](O1)CO)O[C@H]%15(O[C@H](CO)[C@@H](O)[C@H](O[C@H]%14(O[C@H](CO)[C@@H](O)[C@H](O[C@H]%13(O[C@H](CO)[C@@H](O)[C@H](O[C@H]%12(O[C@H](CO)[C@@H](O)[C@H](O)[C@H](O[C@H]%11(O[C@H](CO)[C@@H](O)[C@H](O)[C@H](O[C@H]%10(O[C@H](CO)[C@@H](O)[C@H](O)[C@H](O[C@H]9(O[C@H](CO)[C@@H](O)[C@H](O[C@H]8(O[C@H](CO)[C@@H](O)[C@H](O[C@H]7(O[C@H](CO)[C@@H](O)[C@H](O)[C@H](O[C@H]6(O[C@H](CO)[C@@H](O)[C@H](O)[C@H](O[C@H]5(O[C@H](CO)[C@@H](O)[C@H](O)[C@H](O[C@H]4(O[C@H](CO)[C@@H](O)[C@H](O[C@H]3(O[C@H](CO)[C@@H](O)[C@H](O[R]O[C@H]2(O[C@H](CO)[C@@H](O)[C@H](OP([O-])(=O)[O-])[C@H](O)2))[C@H](O)3))[C@H](O)4))5))6))7))[C@H](O)8))[C@H](O)9))%10))%11))%12))[C@H](O)%13))[C@H](O)%14))[C@H](O)%15))NC(C)=O)\n",
      "[17:41:27] SMILES Parse Error: Failed parsing SMILES 'CC(C)=CCCC(\\C)=C/CCC(\\C)=C/CCC(/C)=C/CCC(/C)=C/CCC(/C)=C/CCC(/C)=C/CCC(/C)=C/CCC(/C)=C/CCC(/C)=C/CCC(/C)=C/COP(=O)([O-])OP([O-])(=O)O[C@@H]1([C@@H]([C@H]([C@H](O)[C@H](O1)CO)O[C@H]%15(O[C@H](CO)[C@@H](O)[C@H](O[C@H]%14(O[C@H](CO)[C@@H](O)[C@H](O[C@H]%13(O[C@H](CO)[C@@H](O)[C@H](O[C@H]%12(O[C@H](CO)[C@@H](O)[C@H](O)[C@H](O[C@H]%11(O[C@H](CO)[C@@H](O)[C@H](O)[C@H](O[C@H]%10(O[C@H](CO)[C@@H](O)[C@H](O)[C@H](O[C@H]9(O[C@H](CO)[C@@H](O)[C@H](O[C@H]8(O[C@H](CO)[C@@H](O)[C@H](O[C@H]7(O[C@H](CO)[C@@H](O)[C@H](O)[C@H](O[C@H]6(O[C@H](CO)[C@@H](O)[C@H](O)[C@H](O[C@H]5(O[C@H](CO)[C@@H](O)[C@H](O)[C@H](O[C@H]4(O[C@H](CO)[C@@H](O)[C@H](O[C@H]3(O[C@H](CO)[C@@H](O)[C@H](O[R]O[C@H]2(O[C@H](CO)[C@@H](O)[C@H](OP([O-])(=O)[O-])[C@H](O)2))[C@H](O)3))[C@H](O)4))5))6))7))[C@H](O)8))[C@H](O)9))%10))%11))%12))[C@H](O)%13))[C@H](O)%14))[C@H](O)%15))NC(C)=O)' for input: 'CC(C)=CCCC(\\C)=C/CCC(\\C)=C/CCC(/C)=C/CCC(/C)=C/CCC(/C)=C/CCC(/C)=C/CCC(/C)=C/CCC(/C)=C/CCC(/C)=C/CCC(/C)=C/COP(=O)([O-])OP([O-])(=O)O[C@@H]1([C@@H]([C@H]([C@H](O)[C@H](O1)CO)O[C@H]%15(O[C@H](CO)[C@@H](O)[C@H](O[C@H]%14(O[C@H](CO)[C@@H](O)[C@H](O[C@H]%13(O[C@H](CO)[C@@H](O)[C@H](O[C@H]%12(O[C@H](CO)[C@@H](O)[C@H](O)[C@H](O[C@H]%11(O[C@H](CO)[C@@H](O)[C@H](O)[C@H](O[C@H]%10(O[C@H](CO)[C@@H](O)[C@H](O)[C@H](O[C@H]9(O[C@H](CO)[C@@H](O)[C@H](O[C@H]8(O[C@H](CO)[C@@H](O)[C@H](O[C@H]7(O[C@H](CO)[C@@H](O)[C@H](O)[C@H](O[C@H]6(O[C@H](CO)[C@@H](O)[C@H](O)[C@H](O[C@H]5(O[C@H](CO)[C@@H](O)[C@H](O)[C@H](O[C@H]4(O[C@H](CO)[C@@H](O)[C@H](O[C@H]3(O[C@H](CO)[C@@H](O)[C@H](O[R]O[C@H]2(O[C@H](CO)[C@@H](O)[C@H](OP([O-])(=O)[O-])[C@H](O)2))[C@H](O)3))[C@H](O)4))5))6))7))[C@H](O)8))[C@H](O)9))%10))%11))%12))[C@H](O)%13))[C@H](O)%14))[C@H](O)%15))NC(C)=O)'\n",
      "[17:41:27] SMILES Parse Error: syntax error while parsing: CC(C)=CCCC(\\C)=C/CCC(\\C)=C/CCC(/C)=C/CCC(/C)=C/CCC(/C)=C/CCC(/C)=C/CCC(/C)=C/CCC(/C)=C/CCC(/C)=C/CCC(/C)=C/COP(=O)([O-])OP([O-])(=O)O[C@@H]1([C@@H]([C@H]([C@H](O)[C@H](O1)CO)O[C@H]%15(O[C@H](CO)[C@@H](O)[C@H](O[C@H]%14(O[C@H](CO)[C@@H](O)[C@H](O[C@H]%13(O[C@H](CO)[C@@H](O)[C@H](O[C@H]%12(O[C@H](CO)[C@@H](O)[C@H](O)[C@H](O[C@H]%11(O[C@H](CO)[C@@H](O)[C@H](O)[C@H](O[C@H]%10(O[C@H](CO)[C@@H](O)[C@H](O)[C@H](O[C@H]9(O[C@H](CO)[C@@H](O)[C@H](O[C@H]8(O[C@H](CO)[C@@H](O)[C@H](O[C@H]7(O[C@H](CO)[C@@H](O)[C@H](O)[C@H](O[C@H]6(O[C@H](CO)[C@@H](O)[C@H](O)[C@H](O[C@H]5(O[C@H](CO)[C@@H](O)[C@H](O)[C@H](O[C@H]4(O[C@H](CO)[C@@H](O)[C@H](O[C@H]3(O[C@H](CO)[C@@H](O)[C@H](O[R]O[C@H]2(O[C@H](CO)[C@@H](O)[C@H](OP(=O)(OC)[O-])[C@H](O)2))[C@H](O)3))[C@H](O)4))5))6))7))[C@H](O)8))[C@H](O)9))%10))%11))%12))[C@H](O)%13))[C@H](O)%14))[C@H](O)%15))NC(C)=O)\n",
      "[17:41:27] SMILES Parse Error: Failed parsing SMILES 'CC(C)=CCCC(\\C)=C/CCC(\\C)=C/CCC(/C)=C/CCC(/C)=C/CCC(/C)=C/CCC(/C)=C/CCC(/C)=C/CCC(/C)=C/CCC(/C)=C/CCC(/C)=C/COP(=O)([O-])OP([O-])(=O)O[C@@H]1([C@@H]([C@H]([C@H](O)[C@H](O1)CO)O[C@H]%15(O[C@H](CO)[C@@H](O)[C@H](O[C@H]%14(O[C@H](CO)[C@@H](O)[C@H](O[C@H]%13(O[C@H](CO)[C@@H](O)[C@H](O[C@H]%12(O[C@H](CO)[C@@H](O)[C@H](O)[C@H](O[C@H]%11(O[C@H](CO)[C@@H](O)[C@H](O)[C@H](O[C@H]%10(O[C@H](CO)[C@@H](O)[C@H](O)[C@H](O[C@H]9(O[C@H](CO)[C@@H](O)[C@H](O[C@H]8(O[C@H](CO)[C@@H](O)[C@H](O[C@H]7(O[C@H](CO)[C@@H](O)[C@H](O)[C@H](O[C@H]6(O[C@H](CO)[C@@H](O)[C@H](O)[C@H](O[C@H]5(O[C@H](CO)[C@@H](O)[C@H](O)[C@H](O[C@H]4(O[C@H](CO)[C@@H](O)[C@H](O[C@H]3(O[C@H](CO)[C@@H](O)[C@H](O[R]O[C@H]2(O[C@H](CO)[C@@H](O)[C@H](OP(=O)(OC)[O-])[C@H](O)2))[C@H](O)3))[C@H](O)4))5))6))7))[C@H](O)8))[C@H](O)9))%10))%11))%12))[C@H](O)%13))[C@H](O)%14))[C@H](O)%15))NC(C)=O)' for input: 'CC(C)=CCCC(\\C)=C/CCC(\\C)=C/CCC(/C)=C/CCC(/C)=C/CCC(/C)=C/CCC(/C)=C/CCC(/C)=C/CCC(/C)=C/CCC(/C)=C/CCC(/C)=C/COP(=O)([O-])OP([O-])(=O)O[C@@H]1([C@@H]([C@H]([C@H](O)[C@H](O1)CO)O[C@H]%15(O[C@H](CO)[C@@H](O)[C@H](O[C@H]%14(O[C@H](CO)[C@@H](O)[C@H](O[C@H]%13(O[C@H](CO)[C@@H](O)[C@H](O[C@H]%12(O[C@H](CO)[C@@H](O)[C@H](O)[C@H](O[C@H]%11(O[C@H](CO)[C@@H](O)[C@H](O)[C@H](O[C@H]%10(O[C@H](CO)[C@@H](O)[C@H](O)[C@H](O[C@H]9(O[C@H](CO)[C@@H](O)[C@H](O[C@H]8(O[C@H](CO)[C@@H](O)[C@H](O[C@H]7(O[C@H](CO)[C@@H](O)[C@H](O)[C@H](O[C@H]6(O[C@H](CO)[C@@H](O)[C@H](O)[C@H](O[C@H]5(O[C@H](CO)[C@@H](O)[C@H](O)[C@H](O[C@H]4(O[C@H](CO)[C@@H](O)[C@H](O[C@H]3(O[C@H](CO)[C@@H](O)[C@H](O[R]O[C@H]2(O[C@H](CO)[C@@H](O)[C@H](OP(=O)(OC)[O-])[C@H](O)2))[C@H](O)3))[C@H](O)4))5))6))7))[C@H](O)8))[C@H](O)9))%10))%11))%12))[C@H](O)%13))[C@H](O)%14))[C@H](O)%15))NC(C)=O)'\n",
      "[17:41:27] WARNING: not removing hydrogen atom without neighbors\n",
      " 34%|███▍      | 1220/3538 [01:34<53:26,  1.38s/it][17:41:28] SMILES Parse Error: syntax error while parsing: CC(C)=CCCC(\\C)=C/CCC(\\C)=C/CCC(/C)=C/CCC(/C)=C/CCC(/C)=C/CCC(/C)=C/CCC(/C)=C/CCC(/C)=C/CCC(/C)=C/CCC(/C)=C/COP(=O)([O-])OP([O-])(=O)O[C@@H]1([C@@H]([C@H]([C@H](O)[C@H](O1)CO)O[C@H]%18(O[C@H](CO)[C@@H](O)[C@H](O[C@H]%17(O[C@H](CO)[C@@H](O)[C@H](O[C@H]%16(O[C@H](CO)[C@@H](O)[C@H](O)[C@H](O[C@H]%15(O[C@H](CO)[C@@H](O)[C@H](O)[C@H](O[C@H]%14(O[C@H](CO)[C@@H](O)[C@H](O[C@H]%13(O[C@H](CO)[C@@H](O)[C@H](O[C@H]%12(O[C@H](CO)[C@@H](O)[C@H](O)[C@H](O[C@H]%11(O[C@H](CO)[C@@H](O)[C@H](O)[C@H](O[C@H]%10(O[C@H](CO)[C@@H](O)[C@H](O[C@H]9(O[C@H](CO)[C@@H](O)[C@H](O[C@H]8(O[C@H](CO)[C@@H](O)[C@H](O)[C@H](O[C@H]7(O[C@H](CO)[C@@H](O)[C@H](O)[C@H](O[C@H]6(O[C@H](CO)[C@@H](O)[C@H](O[C@H]5(O[C@H](CO)[C@@H](O)[C@H](O[C@H]4(O[C@H](CO)[C@@H](O)[C@H](O)[C@H](O[R]O[C@H]3(O[C@H](CO)[C@@H](O)[C@H](O)[C@H](O[C@H]2(O[C@H](CO)[C@@H](O)[C@H](O)[C@H](O)2))3))4))[C@H](O)5))[C@H](O)6))7))8))[C@H](O)9))[C@H](O)%10))%11))%12))[C@H](O)%13))[C@H](O)%14))%15))%16))[C@H](O)%17))[C@H](O)%18))NC(C)=O)\n",
      "[17:41:28] SMILES Parse Error: Failed parsing SMILES 'CC(C)=CCCC(\\C)=C/CCC(\\C)=C/CCC(/C)=C/CCC(/C)=C/CCC(/C)=C/CCC(/C)=C/CCC(/C)=C/CCC(/C)=C/CCC(/C)=C/CCC(/C)=C/COP(=O)([O-])OP([O-])(=O)O[C@@H]1([C@@H]([C@H]([C@H](O)[C@H](O1)CO)O[C@H]%18(O[C@H](CO)[C@@H](O)[C@H](O[C@H]%17(O[C@H](CO)[C@@H](O)[C@H](O[C@H]%16(O[C@H](CO)[C@@H](O)[C@H](O)[C@H](O[C@H]%15(O[C@H](CO)[C@@H](O)[C@H](O)[C@H](O[C@H]%14(O[C@H](CO)[C@@H](O)[C@H](O[C@H]%13(O[C@H](CO)[C@@H](O)[C@H](O[C@H]%12(O[C@H](CO)[C@@H](O)[C@H](O)[C@H](O[C@H]%11(O[C@H](CO)[C@@H](O)[C@H](O)[C@H](O[C@H]%10(O[C@H](CO)[C@@H](O)[C@H](O[C@H]9(O[C@H](CO)[C@@H](O)[C@H](O[C@H]8(O[C@H](CO)[C@@H](O)[C@H](O)[C@H](O[C@H]7(O[C@H](CO)[C@@H](O)[C@H](O)[C@H](O[C@H]6(O[C@H](CO)[C@@H](O)[C@H](O[C@H]5(O[C@H](CO)[C@@H](O)[C@H](O[C@H]4(O[C@H](CO)[C@@H](O)[C@H](O)[C@H](O[R]O[C@H]3(O[C@H](CO)[C@@H](O)[C@H](O)[C@H](O[C@H]2(O[C@H](CO)[C@@H](O)[C@H](O)[C@H](O)2))3))4))[C@H](O)5))[C@H](O)6))7))8))[C@H](O)9))[C@H](O)%10))%11))%12))[C@H](O)%13))[C@H](O)%14))%15))%16))[C@H](O)%17))[C@H](O)%18))NC(C)=O)' for input: 'CC(C)=CCCC(\\C)=C/CCC(\\C)=C/CCC(/C)=C/CCC(/C)=C/CCC(/C)=C/CCC(/C)=C/CCC(/C)=C/CCC(/C)=C/CCC(/C)=C/CCC(/C)=C/COP(=O)([O-])OP([O-])(=O)O[C@@H]1([C@@H]([C@H]([C@H](O)[C@H](O1)CO)O[C@H]%18(O[C@H](CO)[C@@H](O)[C@H](O[C@H]%17(O[C@H](CO)[C@@H](O)[C@H](O[C@H]%16(O[C@H](CO)[C@@H](O)[C@H](O)[C@H](O[C@H]%15(O[C@H](CO)[C@@H](O)[C@H](O)[C@H](O[C@H]%14(O[C@H](CO)[C@@H](O)[C@H](O[C@H]%13(O[C@H](CO)[C@@H](O)[C@H](O[C@H]%12(O[C@H](CO)[C@@H](O)[C@H](O)[C@H](O[C@H]%11(O[C@H](CO)[C@@H](O)[C@H](O)[C@H](O[C@H]%10(O[C@H](CO)[C@@H](O)[C@H](O[C@H]9(O[C@H](CO)[C@@H](O)[C@H](O[C@H]8(O[C@H](CO)[C@@H](O)[C@H](O)[C@H](O[C@H]7(O[C@H](CO)[C@@H](O)[C@H](O)[C@H](O[C@H]6(O[C@H](CO)[C@@H](O)[C@H](O[C@H]5(O[C@H](CO)[C@@H](O)[C@H](O[C@H]4(O[C@H](CO)[C@@H](O)[C@H](O)[C@H](O[R]O[C@H]3(O[C@H](CO)[C@@H](O)[C@H](O)[C@H](O[C@H]2(O[C@H](CO)[C@@H](O)[C@H](O)[C@H](O)2))3))4))[C@H](O)5))[C@H](O)6))7))8))[C@H](O)9))[C@H](O)%10))%11))%12))[C@H](O)%13))[C@H](O)%14))%15))%16))[C@H](O)%17))[C@H](O)%18))NC(C)=O)'\n",
      "[17:41:28] SMILES Parse Error: syntax error while parsing: CC(C)=CCCC(\\C)=C/CCC(\\C)=C/CCC(/C)=C/CCC(/C)=C/CCC(/C)=C/CCC(/C)=C/CCC(/C)=C/CCC(/C)=C/CCC(/C)=C/CCC(/C)=C/COP(=O)([O-])OP([O-])(=O)O[C@@H]1([C@@H]([C@H]([C@H](O)[C@H](O1)CO)O[C@H]%18(O[C@H](CO)[C@@H](O)[C@H](O[C@H]%17(O[C@H](CO)[C@@H](O)[C@H](O[C@H]%16(O[C@H](CO)[C@@H](O)[C@H](O)[C@H](O[C@H]%15(O[C@H](CO)[C@@H](O)[C@H](O)[C@H](O[C@H]%14(O[C@H](CO)[C@@H](O)[C@H](O[C@H]%13(O[C@H](CO)[C@@H](O)[C@H](O[C@H]%12(O[C@H](CO)[C@@H](O)[C@H](O)[C@H](O[C@H]%11(O[C@H](CO)[C@@H](O)[C@H](O)[C@H](O[C@H]%10(O[C@H](CO)[C@@H](O)[C@H](O[C@H]9(O[C@H](CO)[C@@H](O)[C@H](O[C@H]8(O[C@H](CO)[C@@H](O)[C@H](O)[C@H](O[C@H]7(O[C@H](CO)[C@@H](O)[C@H](O)[C@H](O[C@H]6(O[C@H](CO)[C@@H](O)[C@H](O[C@H]5(O[C@H](CO)[C@@H](O)[C@H](O[C@H]4(O[C@H](CO)[C@@H](O)[C@H](O)[C@H](O[R]O[C@H]3(O[C@H](CO)[C@@H](O)[C@H](O)[C@H](O[C@H]2(O[C@H](CO)[C@@H](O)[C@H](OP(=O)(OC)[O-])[C@H](O)2))3))4))[C@H](O)5))[C@H](O)6))7))8))[C@H](O)9))[C@H](O)%10))%11))%12))[C@H](O)%13))[C@H](O)%14))%15))%16))[C@H](O)%17))[C@H](O)%18))NC(C)=O)\n",
      " 35%|███▍      | 1222/3538 [01:37<56:55,  1.47s/it][17:41:30] WARNING: not removing hydrogen atom without neighbors\n",
      "[17:41:30] WARNING: not removing hydrogen atom without neighbors\n",
      "[17:41:30] WARNING: not removing hydrogen atom without neighbors\n",
      "[17:41:30] WARNING: not removing hydrogen atom without neighbors\n",
      "[17:41:30] WARNING: not removing hydrogen atom without neighbors\n",
      " 35%|███▍      | 1229/3538 [01:37<14:48,  2.60it/s][17:41:30] WARNING: not removing hydrogen atom without neighbors\n",
      "[17:41:30] WARNING: not removing hydrogen atom without neighbors\n",
      "[17:41:30] WARNING: not removing hydrogen atom without neighbors\n",
      "[17:41:30] WARNING: not removing hydrogen atom without neighbors\n",
      "[17:41:30] WARNING: not removing hydrogen atom without neighbors\n",
      "[17:41:30] WARNING: not removing hydrogen atom without neighbors\n",
      "[17:41:30] WARNING: not removing hydrogen atom without neighbors\n",
      " 35%|███▍      | 1236/3538 [01:37<07:27,  5.15it/s][17:41:30] WARNING: not removing hydrogen atom without neighbors\n",
      "[17:41:30] WARNING: not removing hydrogen atom without neighbors\n",
      "[17:41:30] WARNING: not removing hydrogen atom without neighbors\n",
      "[17:41:30] WARNING: not removing hydrogen atom without neighbors\n",
      "[17:41:30] WARNING: not removing hydrogen atom without neighbors\n",
      "[17:41:30] WARNING: not removing hydrogen atom without neighbors\n",
      " 35%|███▌      | 1245/3538 [01:37<04:02,  9.47it/s][17:41:30] WARNING: not removing hydrogen atom without neighbors\n",
      "[17:41:30] WARNING: not removing hydrogen atom without neighbors\n",
      "[17:41:30] WARNING: not removing hydrogen atom without neighbors\n",
      "[17:41:30] WARNING: not removing hydrogen atom without neighbors\n",
      "[17:41:30] WARNING: not removing hydrogen atom without neighbors\n",
      "[17:41:30] WARNING: not removing hydrogen atom without neighbors\n",
      "[17:41:30] WARNING: not removing hydrogen atom without neighbors\n",
      " 35%|███▌      | 1253/3538 [01:37<02:41, 14.16it/s][17:41:30] WARNING: not removing hydrogen atom without neighbors\n",
      "[17:41:30] WARNING: not removing hydrogen atom without neighbors\n",
      "[17:41:30] WARNING: not removing hydrogen atom without neighbors\n",
      "[17:41:30] WARNING: not removing hydrogen atom without neighbors\n",
      "[17:41:30] WARNING: not removing hydrogen atom without neighbors\n",
      "[17:41:30] WARNING: not removing hydrogen atom without neighbors\n",
      "[17:41:30] WARNING: not removing hydrogen atom without neighbors\n",
      " 36%|███▌      | 1262/3538 [01:37<01:50, 20.68it/s][17:41:30] WARNING: not removing hydrogen atom without neighbors\n",
      "[17:41:30] WARNING: not removing hydrogen atom without neighbors\n",
      "[17:41:30] WARNING: not removing hydrogen atom without neighbors\n",
      "[17:41:30] WARNING: not removing hydrogen atom without neighbors\n",
      "[17:41:30] WARNING: not removing hydrogen atom without neighbors\n",
      "[17:41:30] WARNING: not removing hydrogen atom without neighbors\n",
      "[17:41:30] WARNING: not removing hydrogen atom without neighbors\n",
      "[17:41:30] WARNING: not removing hydrogen atom without neighbors\n",
      " 36%|███▌      | 1270/3538 [01:37<01:23, 27.02it/s][17:41:30] WARNING: not removing hydrogen atom without neighbors\n",
      "[17:41:30] WARNING: not removing hydrogen atom without neighbors\n",
      "[17:41:30] WARNING: not removing hydrogen atom without neighbors\n",
      "[17:41:30] WARNING: not removing hydrogen atom without neighbors\n",
      " 36%|███▌      | 1278/3538 [01:37<01:06, 33.89it/s][17:41:30] WARNING: not removing hydrogen atom without neighbors\n",
      "[17:41:30] WARNING: not removing hydrogen atom without neighbors\n",
      "[17:41:30] WARNING: not removing hydrogen atom without neighbors\n",
      "[17:41:30] WARNING: not removing hydrogen atom without neighbors\n",
      "[17:41:30] WARNING: not removing hydrogen atom without neighbors\n",
      "[17:41:30] WARNING: not removing hydrogen atom without neighbors\n",
      "[17:41:31] WARNING: not removing hydrogen atom without neighbors\n",
      " 36%|███▋      | 1286/3538 [01:38<00:55, 40.78it/s][17:41:31] WARNING: not removing hydrogen atom without neighbors\n",
      "[17:41:31] WARNING: not removing hydrogen atom without neighbors\n",
      "[17:41:31] WARNING: not removing hydrogen atom without neighbors\n",
      "[17:41:31] WARNING: not removing hydrogen atom without neighbors\n",
      "[17:41:31] WARNING: not removing hydrogen atom without neighbors\n",
      "[17:41:31] WARNING: not removing hydrogen atom without neighbors\n",
      "[17:41:31] WARNING: not removing hydrogen atom without neighbors\n",
      " 37%|███▋      | 1294/3538 [01:38<00:47, 46.94it/s][17:41:31] Conflicting single bond directions around double bond at index 12.\n",
      "[17:41:31]   BondStereo set to STEREONONE and single bond directions set to NONE.\n",
      "[17:41:31] Conflicting single bond directions around double bond at index 17.\n",
      "[17:41:31]   BondStereo set to STEREONONE and single bond directions set to NONE.\n",
      "[17:41:31] Conflicting single bond directions around double bond at index 12.\n",
      "[17:41:31]   BondStereo set to STEREONONE and single bond directions set to NONE.\n",
      "[17:41:31] Conflicting single bond directions around double bond at index 17.\n",
      "[17:41:31]   BondStereo set to STEREONONE and single bond directions set to NONE.\n",
      "[17:41:31] Conflicting single bond directions around double bond at index 12.\n",
      "[17:41:31]   BondStereo set to STEREONONE and single bond directions set to NONE.\n",
      "[17:41:31] Conflicting single bond directions around double bond at index 17.\n",
      "[17:41:31]   BondStereo set to STEREONONE and single bond directions set to NONE.\n",
      "[17:41:31] WARNING: not removing hydrogen atom without neighbors\n",
      "[17:41:31] WARNING: not removing hydrogen atom without neighbors\n",
      "[17:41:31] WARNING: not removing hydrogen atom without neighbors\n",
      "[17:41:31] WARNING: not removing hydrogen atom without neighbors\n",
      "[17:41:31] WARNING: not removing hydrogen atom without neighbors\n",
      "[17:41:31] WARNING: not removing hydrogen atom without neighbors\n",
      " 37%|███▋      | 1302/3538 [01:38<00:41, 53.41it/s][17:41:31] WARNING: not removing hydrogen atom without neighbors\n",
      "[17:41:31] WARNING: not removing hydrogen atom without neighbors\n",
      "[17:41:31] WARNING: not removing hydrogen atom without neighbors\n",
      "[17:41:31] WARNING: not removing hydrogen atom without neighbors\n",
      "[17:41:31] WARNING: not removing hydrogen atom without neighbors\n",
      "[17:41:31] WARNING: not removing hydrogen atom without neighbors\n",
      "[17:41:31] WARNING: not removing hydrogen atom without neighbors\n",
      "[17:41:31] WARNING: not removing hydrogen atom without neighbors\n",
      " 37%|███▋      | 1310/3538 [01:38<00:38, 58.06it/s][17:41:31] WARNING: not removing hydrogen atom without neighbors\n",
      "[17:41:31] WARNING: not removing hydrogen atom without neighbors\n",
      "[17:41:31] WARNING: not removing hydrogen atom without neighbors\n",
      "[17:41:31] WARNING: not removing hydrogen atom without neighbors\n",
      "[17:41:31] WARNING: not removing hydrogen atom without neighbors\n",
      "[17:41:31] WARNING: not removing hydrogen atom without neighbors\n",
      "[17:41:31] WARNING: not removing hydrogen atom without neighbors\n",
      " 37%|███▋      | 1318/3538 [01:38<00:35, 61.75it/s][17:41:31] WARNING: not removing hydrogen atom without neighbors\n",
      "[17:41:31] WARNING: not removing hydrogen atom without neighbors\n",
      "[17:41:31] WARNING: not removing hydrogen atom without neighbors\n",
      "[17:41:31] WARNING: not removing hydrogen atom without neighbors\n",
      "[17:41:31] WARNING: not removing hydrogen atom without neighbors\n",
      "[17:41:31] WARNING: not removing hydrogen atom without neighbors\n",
      " 37%|███▋      | 1326/3538 [01:38<00:34, 63.65it/s][17:41:31] WARNING: not removing hydrogen atom without neighbors\n",
      "[17:41:31] WARNING: not removing hydrogen atom without neighbors\n",
      "[17:41:31] WARNING: not removing hydrogen atom without neighbors\n",
      "[17:41:31] WARNING: not removing hydrogen atom without neighbors\n",
      "[17:41:31] WARNING: not removing hydrogen atom without neighbors\n",
      "[17:41:31] WARNING: not removing hydrogen atom without neighbors\n",
      " 38%|███▊      | 1334/3538 [01:38<00:33, 65.09it/s][17:41:31] WARNING: not removing hydrogen atom without neighbors\n",
      "[17:41:31] WARNING: not removing hydrogen atom without neighbors\n",
      "[17:41:31] WARNING: not removing hydrogen atom without neighbors\n",
      "[17:41:31] WARNING: not removing hydrogen atom without neighbors\n",
      "[17:41:31] WARNING: not removing hydrogen atom without neighbors\n",
      "[17:41:31] WARNING: not removing hydrogen atom without neighbors\n",
      "[17:41:31] Conflicting single bond directions around double bond at index 1.\n",
      "[17:41:31]   BondStereo set to STEREONONE and single bond directions set to NONE.\n",
      "[17:41:31] Conflicting single bond directions around double bond at index 1.\n",
      "[17:41:31]   BondStereo set to STEREONONE and single bond directions set to NONE.\n",
      "[17:41:31] Conflicting single bond directions around double bond at index 1.\n",
      "[17:41:31]   BondStereo set to STEREONONE and single bond directions set to NONE.\n",
      "[17:41:31] Conflicting single bond directions around double bond at index 1.\n",
      "[17:41:31]   BondStereo set to STEREONONE and single bond directions set to NONE.\n",
      "[17:41:31] Conflicting single bond directions around double bond at index 1.\n",
      "[17:41:31]   BondStereo set to STEREONONE and single bond directions set to NONE.\n",
      "[17:41:31] WARNING: not removing hydrogen atom without neighbors\n",
      " 38%|███▊      | 1342/3538 [01:38<00:32, 66.84it/s][17:41:31] WARNING: not removing hydrogen atom without neighbors\n",
      "[17:41:31] WARNING: not removing hydrogen atom without neighbors\n",
      "[17:41:31] WARNING: not removing hydrogen atom without neighbors\n",
      "[17:41:31] WARNING: not removing hydrogen atom without neighbors\n",
      "[17:41:31] WARNING: not removing hydrogen atom without neighbors\n",
      "[17:41:31] WARNING: not removing hydrogen atom without neighbors\n",
      " 38%|███▊      | 1351/3538 [01:38<00:30, 72.50it/s][17:41:31] WARNING: not removing hydrogen atom without neighbors\n",
      "[17:41:31] WARNING: not removing hydrogen atom without neighbors\n",
      "[17:41:31] WARNING: not removing hydrogen atom without neighbors\n",
      "[17:41:31] WARNING: not removing hydrogen atom without neighbors\n",
      "[17:41:31] WARNING: not removing hydrogen atom without neighbors\n",
      "[17:41:31] WARNING: not removing hydrogen atom without neighbors\n",
      " 38%|███▊      | 1359/3538 [01:39<00:30, 72.21it/s][17:41:32] WARNING: not removing hydrogen atom without neighbors\n",
      "[17:41:32] WARNING: not removing hydrogen atom without neighbors\n",
      "[17:41:32] WARNING: not removing hydrogen atom without neighbors\n",
      "[17:41:32] WARNING: not removing hydrogen atom without neighbors\n",
      "[17:41:32] WARNING: not removing hydrogen atom without neighbors\n",
      "[17:41:32] WARNING: not removing hydrogen atom without neighbors\n",
      "[17:41:32] WARNING: not removing hydrogen atom without neighbors\n",
      " 39%|███▊      | 1368/3538 [01:39<00:28, 74.90it/s][17:41:32] WARNING: not removing hydrogen atom without neighbors\n",
      "[17:41:32] WARNING: not removing hydrogen atom without neighbors\n",
      "[17:41:32] WARNING: not removing hydrogen atom without neighbors\n",
      "[17:41:32] WARNING: not removing hydrogen atom without neighbors\n",
      "[17:41:32] WARNING: not removing hydrogen atom without neighbors\n",
      "[17:41:32] WARNING: not removing hydrogen atom without neighbors\n",
      "[17:41:32] WARNING: not removing hydrogen atom without neighbors\n",
      " 39%|███▉      | 1376/3538 [01:39<00:29, 73.50it/s][17:41:32] WARNING: not removing hydrogen atom without neighbors\n",
      "[17:41:32] WARNING: not removing hydrogen atom without neighbors\n",
      "[17:41:32] WARNING: not removing hydrogen atom without neighbors\n",
      "[17:41:32] WARNING: not removing hydrogen atom without neighbors\n",
      "[17:41:32] WARNING: not removing hydrogen atom without neighbors\n",
      "[17:41:32] WARNING: not removing hydrogen atom without neighbors\n",
      " 39%|███▉      | 1384/3538 [01:39<00:29, 72.10it/s][17:41:32] WARNING: not removing hydrogen atom without neighbors\n",
      "[17:41:32] WARNING: not removing hydrogen atom without neighbors\n",
      "[17:41:32] WARNING: not removing hydrogen atom without neighbors\n",
      "[17:41:32] WARNING: not removing hydrogen atom without neighbors\n",
      "[17:41:32] WARNING: not removing hydrogen atom without neighbors\n",
      "[17:41:32] WARNING: not removing hydrogen atom without neighbors\n",
      "[17:41:32] WARNING: not removing hydrogen atom without neighbors\n",
      " 39%|███▉      | 1392/3538 [01:39<00:30, 69.26it/s][17:41:32] WARNING: not removing hydrogen atom without neighbors\n",
      "[17:41:32] WARNING: not removing hydrogen atom without neighbors\n",
      "[17:41:32] WARNING: not removing hydrogen atom without neighbors\n",
      "[17:41:32] WARNING: not removing hydrogen atom without neighbors\n",
      "[17:41:32] WARNING: not removing hydrogen atom without neighbors\n",
      "[17:41:32] WARNING: not removing hydrogen atom without neighbors\n",
      "[17:41:32] WARNING: not removing hydrogen atom without neighbors\n",
      " 40%|███▉      | 1400/3538 [01:39<00:30, 70.11it/s][17:41:32] WARNING: not removing hydrogen atom without neighbors\n",
      "[17:41:32] WARNING: not removing hydrogen atom without neighbors\n",
      "[17:41:32] WARNING: not removing hydrogen atom without neighbors\n",
      "[17:41:32] WARNING: not removing hydrogen atom without neighbors\n",
      " 40%|███▉      | 1408/3538 [01:39<00:30, 70.45it/s][17:41:32] WARNING: not removing hydrogen atom without neighbors\n",
      "[17:41:32] WARNING: not removing hydrogen atom without neighbors\n",
      " 40%|████      | 1416/3538 [01:39<00:30, 70.43it/s][17:41:32] WARNING: not removing hydrogen atom without neighbors\n",
      "[17:41:32] WARNING: not removing hydrogen atom without neighbors\n",
      "[17:41:32] WARNING: not removing hydrogen atom without neighbors\n",
      "[17:41:32] WARNING: not removing hydrogen atom without neighbors\n",
      "[17:41:32] WARNING: not removing hydrogen atom without neighbors\n",
      "[17:41:32] WARNING: not removing hydrogen atom without neighbors\n",
      "[17:41:32] WARNING: not removing hydrogen atom without neighbors\n",
      " 40%|████      | 1424/3538 [01:40<00:32, 65.80it/s][17:41:32] WARNING: not removing hydrogen atom without neighbors\n",
      "[17:41:32] WARNING: not removing hydrogen atom without neighbors\n",
      "[17:41:32] WARNING: not removing hydrogen atom without neighbors\n",
      "[17:41:33] WARNING: not removing hydrogen atom without neighbors\n",
      "[17:41:33] WARNING: not removing hydrogen atom without neighbors\n",
      "[17:41:33] WARNING: not removing hydrogen atom without neighbors\n",
      "[17:41:33] WARNING: not removing hydrogen atom without neighbors\n",
      " 40%|████      | 1431/3538 [01:40<00:31, 66.69it/s][17:41:33] WARNING: not removing hydrogen atom without neighbors\n",
      "[17:41:33] WARNING: not removing hydrogen atom without neighbors\n",
      "[17:41:33] WARNING: not removing hydrogen atom without neighbors\n",
      "[17:41:33] WARNING: not removing hydrogen atom without neighbors\n",
      "[17:41:33] WARNING: not removing hydrogen atom without neighbors\n",
      "[17:41:33] WARNING: not removing hydrogen atom without neighbors\n",
      "[17:41:33] WARNING: not removing hydrogen atom without neighbors\n",
      "[17:41:33] WARNING: not removing hydrogen atom without neighbors\n",
      " 41%|████      | 1439/3538 [01:40<00:30, 69.24it/s][17:41:33] WARNING: not removing hydrogen atom without neighbors\n",
      "[17:41:33] WARNING: not removing hydrogen atom without neighbors\n",
      "[17:41:33] WARNING: not removing hydrogen atom without neighbors\n",
      "[17:41:33] WARNING: not removing hydrogen atom without neighbors\n",
      " 41%|████      | 1448/3538 [01:40<00:28, 73.31it/s][17:41:33] SMILES Parse Error: syntax error while parsing: [R][X]\n",
      "[17:41:33] SMILES Parse Error: syntax error while parsing: [XH]\n",
      "[17:41:33] SMILES Parse Error: Failed parsing SMILES '[R][X]' for input: '[R][X]'\n",
      "[17:41:33] SMILES Parse Error: Failed parsing SMILES '[XH]' for input: '[XH]'\n",
      "[17:41:33] WARNING: not removing hydrogen atom without neighbors\n",
      "[17:41:34] SMILES Parse Error: syntax error while parsing: [XH]\n",
      "[17:41:34] SMILES Parse Error: Failed parsing SMILES '[XH]' for input: '[XH]'\n",
      "[17:41:34] SMILES Parse Error: syntax error while parsing: [R][X]\n",
      "[17:41:34] SMILES Parse Error: Failed parsing SMILES '[R][X]' for input: '[R][X]'\n",
      "[17:41:34] WARNING: not removing hydrogen atom without neighbors\n",
      "[17:41:35] WARNING: not removing hydrogen atom without neighbors\n",
      "[17:41:36] WARNING: not removing hydrogen atom without neighbors\n",
      "[17:41:36] WARNING: not removing hydrogen atom without neighbors\n",
      "[17:41:36] WARNING: not removing hydrogen atom without neighbors\n",
      " 41%|████      | 1456/3538 [01:43<04:29,  7.73it/s][17:41:36] WARNING: not removing hydrogen atom without neighbors\n",
      "[17:41:36] WARNING: not removing hydrogen atom without neighbors\n",
      "[17:41:36] WARNING: not removing hydrogen atom without neighbors\n",
      "[17:41:36] WARNING: not removing hydrogen atom without neighbors\n",
      "[17:41:36] WARNING: not removing hydrogen atom without neighbors\n",
      "[17:41:36] WARNING: not removing hydrogen atom without neighbors\n",
      " 41%|████▏     | 1465/3538 [01:43<03:09, 10.91it/s][17:41:36] WARNING: not removing hydrogen atom without neighbors\n",
      "[17:41:36] WARNING: not removing hydrogen atom without neighbors\n",
      "[17:41:36] WARNING: not removing hydrogen atom without neighbors\n",
      "[17:41:36] WARNING: not removing hydrogen atom without neighbors\n",
      "[17:41:36] WARNING: not removing hydrogen atom without neighbors\n",
      "[17:41:36] WARNING: not removing hydrogen atom without neighbors\n",
      "[17:41:36] WARNING: not removing hydrogen atom without neighbors\n",
      " 42%|████▏     | 1473/3538 [01:43<02:22, 14.50it/s][17:41:36] WARNING: not removing hydrogen atom without neighbors\n",
      "[17:41:36] WARNING: not removing hydrogen atom without neighbors\n",
      "[17:41:36] WARNING: not removing hydrogen atom without neighbors\n",
      " 42%|████▏     | 1480/3538 [01:43<01:51, 18.38it/s][17:41:36] WARNING: not removing hydrogen atom without neighbors\n",
      "[17:41:36] WARNING: not removing hydrogen atom without neighbors\n",
      "[17:41:36] WARNING: not removing hydrogen atom without neighbors\n",
      "[17:41:36] WARNING: not removing hydrogen atom without neighbors\n",
      "[17:41:36] WARNING: not removing hydrogen atom without neighbors\n",
      "[17:41:36] WARNING: not removing hydrogen atom without neighbors\n",
      "[17:41:36] WARNING: not removing hydrogen atom without neighbors\n",
      " 42%|████▏     | 1487/3538 [01:43<01:29, 23.00it/s][17:41:36] WARNING: not removing hydrogen atom without neighbors\n",
      "[17:41:36] WARNING: not removing hydrogen atom without neighbors\n",
      "[17:41:36] WARNING: not removing hydrogen atom without neighbors\n",
      "[17:41:37] WARNING: not removing hydrogen atom without neighbors\n",
      "[17:41:37] WARNING: not removing hydrogen atom without neighbors\n",
      " 42%|████▏     | 1494/3538 [01:44<01:13, 27.95it/s][17:41:37] WARNING: not removing hydrogen atom without neighbors\n",
      "[17:41:37] WARNING: not removing hydrogen atom without neighbors\n",
      "[17:41:37] WARNING: not removing hydrogen atom without neighbors\n",
      "[17:41:37] WARNING: not removing hydrogen atom without neighbors\n",
      "[17:41:37] WARNING: not removing hydrogen atom without neighbors\n",
      "[17:41:37] WARNING: not removing hydrogen atom without neighbors\n",
      "[17:41:37] WARNING: not removing hydrogen atom without neighbors\n",
      "[17:41:37] WARNING: not removing hydrogen atom without neighbors\n",
      " 42%|████▏     | 1502/3538 [01:44<00:58, 34.52it/s][17:41:37] WARNING: not removing hydrogen atom without neighbors\n",
      "[17:41:37] WARNING: not removing hydrogen atom without neighbors\n",
      "[17:41:37] WARNING: not removing hydrogen atom without neighbors\n",
      "[17:41:37] WARNING: not removing hydrogen atom without neighbors\n",
      "[17:41:37] WARNING: not removing hydrogen atom without neighbors\n",
      "[17:41:37] WARNING: not removing hydrogen atom without neighbors\n",
      "[17:41:37] WARNING: not removing hydrogen atom without neighbors\n",
      "[17:41:37] WARNING: not removing hydrogen atom without neighbors\n",
      " 43%|████▎     | 1510/3538 [01:44<00:49, 41.26it/s][17:41:37] WARNING: not removing hydrogen atom without neighbors\n",
      "[17:41:37] WARNING: not removing hydrogen atom without neighbors\n",
      "[17:41:37] WARNING: not removing hydrogen atom without neighbors\n",
      "[17:41:37] WARNING: not removing hydrogen atom without neighbors\n",
      "[17:41:37] WARNING: not removing hydrogen atom without neighbors\n",
      "[17:41:37] WARNING: not removing hydrogen atom without neighbors\n",
      "[17:41:37] WARNING: not removing hydrogen atom without neighbors\n",
      " 43%|████▎     | 1517/3538 [01:44<00:44, 45.73it/s][17:41:37] WARNING: not removing hydrogen atom without neighbors\n",
      "[17:41:37] WARNING: not removing hydrogen atom without neighbors\n",
      "[17:41:37] WARNING: not removing hydrogen atom without neighbors\n",
      "[17:41:37] WARNING: not removing hydrogen atom without neighbors\n",
      "[17:41:37] WARNING: not removing hydrogen atom without neighbors\n",
      " 43%|████▎     | 1525/3538 [01:44<00:38, 52.03it/s][17:41:37] WARNING: not removing hydrogen atom without neighbors\n",
      "[17:41:37] WARNING: not removing hydrogen atom without neighbors\n",
      "[17:41:37] WARNING: not removing hydrogen atom without neighbors\n",
      "[17:41:37] WARNING: not removing hydrogen atom without neighbors\n",
      "[17:41:37] WARNING: not removing hydrogen atom without neighbors\n",
      "[17:41:37] WARNING: not removing hydrogen atom without neighbors\n",
      " 43%|████▎     | 1532/3538 [01:44<00:43, 46.05it/s][17:41:37] WARNING: not removing hydrogen atom without neighbors\n",
      "[17:41:37] WARNING: not removing hydrogen atom without neighbors\n",
      "[17:41:37] WARNING: not removing hydrogen atom without neighbors\n",
      "[17:41:37] WARNING: not removing hydrogen atom without neighbors\n",
      "[17:41:37] WARNING: not removing hydrogen atom without neighbors\n",
      "[17:41:37] WARNING: not removing hydrogen atom without neighbors\n",
      " 44%|████▎     | 1540/3538 [01:44<00:38, 52.32it/s][17:41:37] WARNING: not removing hydrogen atom without neighbors\n",
      "[17:41:37] WARNING: not removing hydrogen atom without neighbors\n",
      "[17:41:37] WARNING: not removing hydrogen atom without neighbors\n",
      "[17:41:37] Conflicting single bond directions around double bond at index 32.\n",
      "[17:41:37]   BondStereo set to STEREONONE and single bond directions set to NONE.\n",
      "[17:41:37] WARNING: not removing hydrogen atom without neighbors\n",
      "[17:41:37] WARNING: not removing hydrogen atom without neighbors\n",
      "[17:41:37] WARNING: not removing hydrogen atom without neighbors\n",
      "[17:41:37] WARNING: not removing hydrogen atom without neighbors\n",
      "[17:41:37] Explicit valence for atom # 4 N, 4, is greater than permitted\n",
      " 44%|████▍     | 1548/3538 [01:45<00:38, 51.12it/s][17:41:39] WARNING: not removing hydrogen atom without neighbors\n",
      "[17:41:39] WARNING: not removing hydrogen atom without neighbors\n",
      "[17:41:39] WARNING: not removing hydrogen atom without neighbors\n",
      "[17:41:39] WARNING: not removing hydrogen atom without neighbors\n",
      " 44%|████▍     | 1554/3538 [01:46<02:19, 14.27it/s][17:41:39] WARNING: not removing hydrogen atom without neighbors\n",
      "[17:41:39] WARNING: not removing hydrogen atom without neighbors\n",
      "[17:41:39] WARNING: not removing hydrogen atom without neighbors\n",
      "[17:41:39] WARNING: not removing hydrogen atom without neighbors\n",
      " 44%|████▍     | 1562/3538 [01:46<01:41, 19.39it/s][17:41:39] WARNING: not removing hydrogen atom without neighbors\n",
      "[17:41:39] WARNING: not removing hydrogen atom without neighbors\n",
      "[17:41:39] WARNING: not removing hydrogen atom without neighbors\n",
      "[17:41:39] WARNING: not removing hydrogen atom without neighbors\n",
      "[17:41:39] WARNING: not removing hydrogen atom without neighbors\n",
      "[17:41:39] WARNING: not removing hydrogen atom without neighbors\n",
      "[17:41:39] WARNING: not removing hydrogen atom without neighbors\n",
      " 44%|████▍     | 1571/3538 [01:46<01:14, 26.29it/s][17:41:39] WARNING: not removing hydrogen atom without neighbors\n",
      "[17:41:39] WARNING: not removing hydrogen atom without neighbors\n",
      "[17:41:39] WARNING: not removing hydrogen atom without neighbors\n",
      "[17:41:39] WARNING: not removing hydrogen atom without neighbors\n",
      "[17:41:39] WARNING: not removing hydrogen atom without neighbors\n",
      " 45%|████▍     | 1579/3538 [01:46<01:00, 32.49it/s][17:41:39] WARNING: not removing hydrogen atom without neighbors\n",
      "[17:41:39] WARNING: not removing hydrogen atom without neighbors\n",
      "[17:41:39] WARNING: not removing hydrogen atom without neighbors\n",
      "[17:41:39] WARNING: not removing hydrogen atom without neighbors\n",
      "[17:41:39] WARNING: not removing hydrogen atom without neighbors\n",
      "[17:41:39] WARNING: not removing hydrogen atom without neighbors\n",
      "[17:41:39] WARNING: not removing hydrogen atom without neighbors\n",
      "[17:41:39] WARNING: not removing hydrogen atom without neighbors\n",
      "[17:41:39] WARNING: not removing hydrogen atom without neighbors\n",
      "[17:41:39] WARNING: not removing hydrogen atom without neighbors\n",
      "[17:41:39] WARNING: not removing hydrogen atom without neighbors\n",
      "[17:41:39] WARNING: not removing hydrogen atom without neighbors\n",
      "[17:41:39] WARNING: not removing hydrogen atom without neighbors\n",
      "[17:41:39] WARNING: not removing hydrogen atom without neighbors\n",
      "[17:41:39] WARNING: not removing hydrogen atom without neighbors\n",
      "[17:41:39] WARNING: not removing hydrogen atom without neighbors\n",
      " 45%|████▍     | 1587/3538 [01:46<00:49, 39.04it/s][17:41:39] WARNING: not removing hydrogen atom without neighbors\n",
      "[17:41:39] WARNING: not removing hydrogen atom without neighbors\n",
      "[17:41:39] WARNING: not removing hydrogen atom without neighbors\n",
      "[17:41:39] WARNING: not removing hydrogen atom without neighbors\n",
      "[17:41:39] WARNING: not removing hydrogen atom without neighbors\n",
      "[17:41:39] WARNING: not removing hydrogen atom without neighbors\n",
      "[17:41:39] WARNING: not removing hydrogen atom without neighbors\n",
      "[17:41:39] WARNING: not removing hydrogen atom without neighbors\n",
      "[17:41:39] WARNING: not removing hydrogen atom without neighbors\n",
      "[17:41:39] WARNING: not removing hydrogen atom without neighbors\n",
      " 45%|████▌     | 1594/3538 [01:46<00:44, 44.16it/s][17:41:39] WARNING: not removing hydrogen atom without neighbors\n",
      "[17:41:39] WARNING: not removing hydrogen atom without neighbors\n",
      "[17:41:39] WARNING: not removing hydrogen atom without neighbors\n",
      "[17:41:39] WARNING: not removing hydrogen atom without neighbors\n",
      "[17:41:39] WARNING: not removing hydrogen atom without neighbors\n",
      "[17:41:39] WARNING: not removing hydrogen atom without neighbors\n",
      "[17:41:39] WARNING: not removing hydrogen atom without neighbors\n",
      " 45%|████▌     | 1601/3538 [01:46<00:39, 49.20it/s][17:41:39] WARNING: not removing hydrogen atom without neighbors\n",
      "[17:41:39] WARNING: not removing hydrogen atom without neighbors\n",
      "[17:41:39] WARNING: not removing hydrogen atom without neighbors\n",
      "[17:41:39] WARNING: not removing hydrogen atom without neighbors\n",
      "[17:41:39] WARNING: not removing hydrogen atom without neighbors\n",
      "[17:41:40] WARNING: not removing hydrogen atom without neighbors\n",
      " 45%|████▌     | 1608/3538 [01:47<00:35, 53.70it/s][17:41:40] WARNING: not removing hydrogen atom without neighbors\n",
      "[17:41:40] WARNING: not removing hydrogen atom without neighbors\n",
      "[17:41:40] WARNING: not removing hydrogen atom without neighbors\n",
      "[17:41:40] SMILES Parse Error: syntax error while parsing: CC\\C=C/C\\C=C/C\\C=C/CCCCCCCCCC(=O)[a\n",
      "[17:41:40] SMILES Parse Error: Failed parsing SMILES 'CC\\C=C/C\\C=C/C\\C=C/CCCCCCCCCC(=O)[a' for input: 'CC\\C=C/C\\C=C/C\\C=C/CCCCCCCCCC(=O)[a'\n",
      "[17:41:40] WARNING: not removing hydrogen atom without neighbors\n",
      "[17:41:40] WARNING: not removing hydrogen atom without neighbors\n",
      "[17:41:40] WARNING: not removing hydrogen atom without neighbors\n",
      "[17:41:41] WARNING: not removing hydrogen atom without neighbors\n",
      " 46%|████▌     | 1615/3538 [01:48<02:08, 14.98it/s][17:41:41] WARNING: not removing hydrogen atom without neighbors\n",
      "[17:41:41] WARNING: not removing hydrogen atom without neighbors\n",
      "[17:41:41] WARNING: not removing hydrogen atom without neighbors\n",
      "[17:41:41] WARNING: not removing hydrogen atom without neighbors\n",
      "[17:41:41] WARNING: not removing hydrogen atom without neighbors\n",
      "[17:41:41] WARNING: not removing hydrogen atom without neighbors\n",
      "[17:41:41] WARNING: not removing hydrogen atom without neighbors\n",
      " 46%|████▌     | 1623/3538 [01:48<01:35, 20.08it/s][17:41:41] WARNING: not removing hydrogen atom without neighbors\n",
      "[17:41:41] WARNING: not removing hydrogen atom without neighbors\n",
      "[17:41:41] WARNING: not removing hydrogen atom without neighbors\n",
      " 46%|████▌     | 1629/3538 [01:49<01:54, 16.63it/s][17:41:41] WARNING: not removing hydrogen atom without neighbors\n",
      "[17:41:41] WARNING: not removing hydrogen atom without neighbors\n",
      "[17:41:42] WARNING: not removing hydrogen atom without neighbors\n",
      "[17:41:42] WARNING: not removing hydrogen atom without neighbors\n",
      "[17:41:42] WARNING: not removing hydrogen atom without neighbors\n",
      "[17:41:42] WARNING: not removing hydrogen atom without neighbors\n",
      "[17:41:42] WARNING: not removing hydrogen atom without neighbors\n",
      " 46%|████▋     | 1637/3538 [01:49<01:25, 22.28it/s][17:41:42] WARNING: not removing hydrogen atom without neighbors\n",
      "[17:41:42] WARNING: not removing hydrogen atom without neighbors\n",
      "[17:41:42] WARNING: not removing hydrogen atom without neighbors\n",
      "[17:41:42] WARNING: not removing hydrogen atom without neighbors\n",
      "[17:41:42] WARNING: not removing hydrogen atom without neighbors\n",
      "[17:41:42] WARNING: not removing hydrogen atom without neighbors\n",
      " 46%|████▋     | 1643/3538 [01:49<01:44, 18.21it/s][17:41:42] WARNING: not removing hydrogen atom without neighbors\n",
      "[17:41:42] WARNING: not removing hydrogen atom without neighbors\n",
      "[17:41:42] WARNING: not removing hydrogen atom without neighbors\n",
      "[17:41:42] WARNING: not removing hydrogen atom without neighbors\n",
      "[17:41:42] WARNING: not removing hydrogen atom without neighbors\n",
      " 47%|████▋     | 1651/3538 [01:49<01:17, 24.21it/s][17:41:42] WARNING: not removing hydrogen atom without neighbors\n",
      "[17:41:42] WARNING: not removing hydrogen atom without neighbors\n",
      "[17:41:42] WARNING: not removing hydrogen atom without neighbors\n",
      "[17:41:42] WARNING: not removing hydrogen atom without neighbors\n",
      "[17:41:42] WARNING: not removing hydrogen atom without neighbors\n",
      "[17:41:42] WARNING: not removing hydrogen atom without neighbors\n",
      "[17:41:42] WARNING: not removing hydrogen atom without neighbors\n",
      " 47%|████▋     | 1659/3538 [01:49<01:00, 31.03it/s][17:41:42] WARNING: not removing hydrogen atom without neighbors\n",
      "[17:41:42] WARNING: not removing hydrogen atom without neighbors\n",
      "[17:41:42] WARNING: not removing hydrogen atom without neighbors\n",
      "[17:41:42] WARNING: not removing hydrogen atom without neighbors\n",
      "[17:41:42] WARNING: not removing hydrogen atom without neighbors\n",
      "[17:41:42] Conflicting single bond directions around double bond at index 12.\n",
      "[17:41:42]   BondStereo set to STEREONONE and single bond directions set to NONE.\n",
      "[17:41:42] Conflicting single bond directions around double bond at index 17.\n",
      "[17:41:42]   BondStereo set to STEREONONE and single bond directions set to NONE.\n",
      "[17:41:42] Conflicting single bond directions around double bond at index 12.\n",
      "[17:41:42]   BondStereo set to STEREONONE and single bond directions set to NONE.\n",
      "[17:41:42] Conflicting single bond directions around double bond at index 17.\n",
      "[17:41:42]   BondStereo set to STEREONONE and single bond directions set to NONE.\n",
      "[17:41:42] Conflicting single bond directions around double bond at index 12.\n",
      "[17:41:42]   BondStereo set to STEREONONE and single bond directions set to NONE.\n",
      "[17:41:42] Conflicting single bond directions around double bond at index 17.\n",
      "[17:41:42]   BondStereo set to STEREONONE and single bond directions set to NONE.\n",
      " 47%|████▋     | 1667/3538 [01:49<00:48, 38.24it/s][17:41:42] WARNING: not removing hydrogen atom without neighbors\n",
      "[17:41:42] WARNING: not removing hydrogen atom without neighbors\n",
      "[17:41:42] WARNING: not removing hydrogen atom without neighbors\n",
      "[17:41:42] WARNING: not removing hydrogen atom without neighbors\n",
      "[17:41:42] WARNING: not removing hydrogen atom without neighbors\n",
      "[17:41:42] WARNING: not removing hydrogen atom without neighbors\n",
      " 47%|████▋     | 1674/3538 [01:50<00:43, 43.23it/s][17:41:43] WARNING: not removing hydrogen atom without neighbors\n",
      "[17:41:43] WARNING: not removing hydrogen atom without neighbors\n",
      "[17:41:43] WARNING: not removing hydrogen atom without neighbors\n",
      "[17:41:43] WARNING: not removing hydrogen atom without neighbors\n",
      "[17:41:43] WARNING: not removing hydrogen atom without neighbors\n",
      "[17:41:43] WARNING: not removing hydrogen atom without neighbors\n",
      "[17:41:43] WARNING: not removing hydrogen atom without neighbors\n",
      " 48%|████▊     | 1682/3538 [01:50<00:37, 49.33it/s][17:41:43] WARNING: not removing hydrogen atom without neighbors\n",
      "[17:41:43] WARNING: not removing hydrogen atom without neighbors\n",
      "[17:41:43] WARNING: not removing hydrogen atom without neighbors\n",
      "[17:41:43] WARNING: not removing hydrogen atom without neighbors\n",
      "[17:41:43] WARNING: not removing hydrogen atom without neighbors\n",
      "[17:41:43] WARNING: not removing hydrogen atom without neighbors\n",
      "[17:41:43] WARNING: not removing hydrogen atom without neighbors\n",
      " 48%|████▊     | 1689/3538 [01:50<00:35, 52.81it/s][17:41:43] WARNING: not removing hydrogen atom without neighbors\n",
      "[17:41:43] WARNING: not removing hydrogen atom without neighbors\n",
      "[17:41:43] WARNING: not removing hydrogen atom without neighbors\n",
      "[17:41:43] WARNING: not removing hydrogen atom without neighbors\n",
      "[17:41:43] WARNING: not removing hydrogen atom without neighbors\n",
      "[17:41:43] WARNING: not removing hydrogen atom without neighbors\n",
      "[17:41:43] WARNING: not removing hydrogen atom without neighbors\n",
      "[17:41:43] WARNING: not removing hydrogen atom without neighbors\n",
      " 48%|████▊     | 1700/3538 [01:50<00:28, 64.77it/s][17:41:43] WARNING: not removing hydrogen atom without neighbors\n",
      "[17:41:43] WARNING: not removing hydrogen atom without neighbors\n",
      "[17:41:43] WARNING: not removing hydrogen atom without neighbors\n",
      "[17:41:43] WARNING: not removing hydrogen atom without neighbors\n",
      "[17:41:43] WARNING: not removing hydrogen atom without neighbors\n",
      "[17:41:43] WARNING: not removing hydrogen atom without neighbors\n",
      "[17:41:43] WARNING: not removing hydrogen atom without neighbors\n",
      " 48%|████▊     | 1708/3538 [01:50<00:27, 65.93it/s][17:41:43] WARNING: not removing hydrogen atom without neighbors\n",
      "[17:41:43] WARNING: not removing hydrogen atom without neighbors\n",
      "[17:41:43] WARNING: not removing hydrogen atom without neighbors\n",
      " 49%|████▊     | 1716/3538 [01:50<00:26, 68.85it/s][17:41:43] WARNING: not removing hydrogen atom without neighbors\n",
      "[17:41:43] WARNING: not removing hydrogen atom without neighbors\n",
      "[17:41:43] WARNING: not removing hydrogen atom without neighbors\n",
      "[17:41:43] WARNING: not removing hydrogen atom without neighbors\n",
      "[17:41:43] WARNING: not removing hydrogen atom without neighbors\n",
      " 49%|████▉     | 1725/3538 [01:50<00:25, 71.93it/s][17:41:43] WARNING: not removing hydrogen atom without neighbors\n",
      "[17:41:43] WARNING: not removing hydrogen atom without neighbors\n",
      "[17:41:43] WARNING: not removing hydrogen atom without neighbors\n",
      "[17:41:43] WARNING: not removing hydrogen atom without neighbors\n",
      "[17:41:43] WARNING: not removing hydrogen atom without neighbors\n",
      "[17:41:43] WARNING: not removing hydrogen atom without neighbors\n",
      "[17:41:43] WARNING: not removing hydrogen atom without neighbors\n",
      "[17:41:43] WARNING: not removing hydrogen atom without neighbors\n",
      " 49%|████▉     | 1734/3538 [01:50<00:24, 73.99it/s][17:41:43] WARNING: not removing hydrogen atom without neighbors\n",
      "[17:41:43] WARNING: not removing hydrogen atom without neighbors\n",
      "[17:41:43] WARNING: not removing hydrogen atom without neighbors\n",
      "[17:41:43] WARNING: not removing hydrogen atom without neighbors\n",
      "[17:41:43] WARNING: not removing hydrogen atom without neighbors\n",
      " 49%|████▉     | 1743/3538 [01:50<00:23, 75.92it/s][17:41:43] WARNING: not removing hydrogen atom without neighbors\n",
      "[17:41:43] WARNING: not removing hydrogen atom without neighbors\n",
      "[17:41:43] WARNING: not removing hydrogen atom without neighbors\n",
      "[17:41:43] WARNING: not removing hydrogen atom without neighbors\n",
      "[17:41:43] WARNING: not removing hydrogen atom without neighbors\n",
      "[17:41:43] WARNING: not removing hydrogen atom without neighbors\n",
      "[17:41:43] WARNING: not removing hydrogen atom without neighbors\n",
      "[17:41:43] WARNING: not removing hydrogen atom without neighbors\n",
      " 49%|████▉     | 1751/3538 [01:51<00:23, 74.84it/s][17:41:44] WARNING: not removing hydrogen atom without neighbors\n",
      "[17:41:44] WARNING: not removing hydrogen atom without neighbors\n",
      "[17:41:44] WARNING: not removing hydrogen atom without neighbors\n",
      "[17:41:44] WARNING: not removing hydrogen atom without neighbors\n",
      "[17:41:44] WARNING: not removing hydrogen atom without neighbors\n",
      "[17:41:44] WARNING: not removing hydrogen atom without neighbors\n",
      "[17:41:44] WARNING: not removing hydrogen atom without neighbors\n",
      "[17:41:44] WARNING: not removing hydrogen atom without neighbors\n",
      " 50%|████▉     | 1759/3538 [01:51<00:24, 73.74it/s][17:41:44] WARNING: not removing hydrogen atom without neighbors\n",
      "[17:41:44] WARNING: not removing hydrogen atom without neighbors\n",
      "[17:41:44] WARNING: not removing hydrogen atom without neighbors\n",
      "[17:41:44] WARNING: not removing hydrogen atom without neighbors\n",
      " 50%|████▉     | 1768/3538 [01:51<00:23, 75.81it/s][17:41:44] WARNING: not removing hydrogen atom without neighbors\n",
      "[17:41:44] WARNING: not removing hydrogen atom without neighbors\n",
      "[17:41:44] WARNING: not removing hydrogen atom without neighbors\n",
      "[17:41:44] WARNING: not removing hydrogen atom without neighbors\n",
      "[17:41:44] WARNING: not removing hydrogen atom without neighbors\n",
      "[17:41:44] WARNING: not removing hydrogen atom without neighbors\n",
      "[17:41:44] WARNING: not removing hydrogen atom without neighbors\n",
      "[17:41:44] WARNING: not removing hydrogen atom without neighbors\n",
      " 50%|█████     | 1776/3538 [01:51<00:23, 74.41it/s][17:41:44] WARNING: not removing hydrogen atom without neighbors\n",
      "[17:41:44] WARNING: not removing hydrogen atom without neighbors\n",
      "[17:41:44] WARNING: not removing hydrogen atom without neighbors\n",
      "[17:41:44] WARNING: not removing hydrogen atom without neighbors\n",
      "[17:41:44] WARNING: not removing hydrogen atom without neighbors\n",
      "[17:41:44] WARNING: not removing hydrogen atom without neighbors\n",
      " 50%|█████     | 1784/3538 [01:51<00:23, 75.89it/s][17:41:44] WARNING: not removing hydrogen atom without neighbors\n",
      "[17:41:44] WARNING: not removing hydrogen atom without neighbors\n",
      "[17:41:44] WARNING: not removing hydrogen atom without neighbors\n",
      "[17:41:44] WARNING: not removing hydrogen atom without neighbors\n",
      "[17:41:44] WARNING: not removing hydrogen atom without neighbors\n",
      " 51%|█████     | 1792/3538 [01:51<00:23, 74.42it/s][17:41:44] WARNING: not removing hydrogen atom without neighbors\n",
      "[17:41:44] WARNING: not removing hydrogen atom without neighbors\n",
      "[17:41:44] WARNING: not removing hydrogen atom without neighbors\n",
      "[17:41:44] WARNING: not removing hydrogen atom without neighbors\n",
      "[17:41:44] WARNING: not removing hydrogen atom without neighbors\n",
      "[17:41:44] WARNING: not removing hydrogen atom without neighbors\n",
      "[17:41:44] WARNING: not removing hydrogen atom without neighbors\n",
      " 51%|█████     | 1800/3538 [01:51<00:23, 75.23it/s][17:41:44] WARNING: not removing hydrogen atom without neighbors\n",
      "[17:41:44] WARNING: not removing hydrogen atom without neighbors\n",
      "[17:41:44] WARNING: not removing hydrogen atom without neighbors\n",
      "[17:41:44] WARNING: not removing hydrogen atom without neighbors\n",
      "[17:41:44] WARNING: not removing hydrogen atom without neighbors\n",
      "[17:41:44] WARNING: not removing hydrogen atom without neighbors\n",
      "[17:41:44] WARNING: not removing hydrogen atom without neighbors\n",
      " 51%|█████     | 1808/3538 [01:51<00:23, 73.68it/s][17:41:44] WARNING: not removing hydrogen atom without neighbors\n",
      "[17:41:44] WARNING: not removing hydrogen atom without neighbors\n",
      "[17:41:44] WARNING: not removing hydrogen atom without neighbors\n",
      "[17:41:44] WARNING: not removing hydrogen atom without neighbors\n",
      "[17:41:44] WARNING: not removing hydrogen atom without neighbors\n",
      "[17:41:44] WARNING: not removing hydrogen atom without neighbors\n",
      "[17:41:44] WARNING: not removing hydrogen atom without neighbors\n",
      " 51%|█████▏    | 1818/3538 [01:51<00:21, 78.51it/s][17:41:44] WARNING: not removing hydrogen atom without neighbors\n",
      "[17:41:44] WARNING: not removing hydrogen atom without neighbors\n",
      "[17:41:44] WARNING: not removing hydrogen atom without neighbors\n",
      "[17:41:44] WARNING: not removing hydrogen atom without neighbors\n",
      "[17:41:44] WARNING: not removing hydrogen atom without neighbors\n",
      " 52%|█████▏    | 1826/3538 [01:52<00:22, 76.45it/s][17:41:44] WARNING: not removing hydrogen atom without neighbors\n",
      "[17:41:45] WARNING: not removing hydrogen atom without neighbors\n",
      "[17:41:45] WARNING: not removing hydrogen atom without neighbors\n",
      "[17:41:45] WARNING: not removing hydrogen atom without neighbors\n",
      "[17:41:45] WARNING: not removing hydrogen atom without neighbors\n",
      "[17:41:45] WARNING: not removing hydrogen atom without neighbors\n",
      "[17:41:45] WARNING: not removing hydrogen atom without neighbors\n",
      "[17:41:45] WARNING: not removing hydrogen atom without neighbors\n",
      " 52%|█████▏    | 1834/3538 [01:52<00:22, 75.07it/s][17:41:45] WARNING: not removing hydrogen atom without neighbors\n",
      "[17:41:45] WARNING: not removing hydrogen atom without neighbors\n",
      "[17:41:45] WARNING: not removing hydrogen atom without neighbors\n",
      "[17:41:45] WARNING: not removing hydrogen atom without neighbors\n",
      "[17:41:45] WARNING: not removing hydrogen atom without neighbors\n",
      "[17:41:45] WARNING: not removing hydrogen atom without neighbors\n",
      "[17:41:45] WARNING: not removing hydrogen atom without neighbors\n",
      "[17:41:45] WARNING: not removing hydrogen atom without neighbors\n",
      " 52%|█████▏    | 1842/3538 [01:52<00:22, 74.69it/s][17:41:45] WARNING: not removing hydrogen atom without neighbors\n",
      "[17:41:45] WARNING: not removing hydrogen atom without neighbors\n",
      "[17:41:45] WARNING: not removing hydrogen atom without neighbors\n",
      "[17:41:45] WARNING: not removing hydrogen atom without neighbors\n",
      "[17:41:45] WARNING: not removing hydrogen atom without neighbors\n",
      "[17:41:45] WARNING: not removing hydrogen atom without neighbors\n",
      "[17:41:45] WARNING: not removing hydrogen atom without neighbors\n",
      "[17:41:45] WARNING: not removing hydrogen atom without neighbors\n",
      " 52%|█████▏    | 1850/3538 [01:52<00:23, 72.58it/s][17:41:45] WARNING: not removing hydrogen atom without neighbors\n",
      "[17:41:45] WARNING: not removing hydrogen atom without neighbors\n",
      "[17:41:45] WARNING: not removing hydrogen atom without neighbors\n",
      "[17:41:45] WARNING: not removing hydrogen atom without neighbors\n",
      "[17:41:45] WARNING: not removing hydrogen atom without neighbors\n",
      "[17:41:45] WARNING: not removing hydrogen atom without neighbors\n",
      "[17:41:45] WARNING: not removing hydrogen atom without neighbors\n",
      "[17:41:45] WARNING: not removing hydrogen atom without neighbors\n",
      " 53%|█████▎    | 1858/3538 [01:52<00:23, 72.98it/s][17:41:45] WARNING: not removing hydrogen atom without neighbors\n",
      "[17:41:45] WARNING: not removing hydrogen atom without neighbors\n",
      "[17:41:45] WARNING: not removing hydrogen atom without neighbors\n",
      "[17:41:45] WARNING: not removing hydrogen atom without neighbors\n",
      "[17:41:45] WARNING: not removing hydrogen atom without neighbors\n",
      "[17:41:45] WARNING: not removing hydrogen atom without neighbors\n",
      "[17:41:45] WARNING: not removing hydrogen atom without neighbors\n",
      "[17:41:45] WARNING: not removing hydrogen atom without neighbors\n",
      " 53%|█████▎    | 1866/3538 [01:52<00:22, 73.42it/s][17:41:45] WARNING: not removing hydrogen atom without neighbors\n",
      "[17:41:45] WARNING: not removing hydrogen atom without neighbors\n",
      "[17:41:45] WARNING: not removing hydrogen atom without neighbors\n",
      "[17:41:45] WARNING: not removing hydrogen atom without neighbors\n",
      "[17:41:45] WARNING: not removing hydrogen atom without neighbors\n",
      "[17:41:45] WARNING: not removing hydrogen atom without neighbors\n",
      " 53%|█████▎    | 1875/3538 [01:52<00:22, 75.36it/s][17:41:45] WARNING: not removing hydrogen atom without neighbors\n",
      "[17:41:45] WARNING: not removing hydrogen atom without neighbors\n",
      "[17:41:45] WARNING: not removing hydrogen atom without neighbors\n",
      "[17:41:45] WARNING: not removing hydrogen atom without neighbors\n",
      "[17:41:45] WARNING: not removing hydrogen atom without neighbors\n",
      "[17:41:45] WARNING: not removing hydrogen atom without neighbors\n",
      " 53%|█████▎    | 1885/3538 [01:52<00:20, 79.58it/s][17:41:45] WARNING: not removing hydrogen atom without neighbors\n",
      "[17:41:45] WARNING: not removing hydrogen atom without neighbors\n",
      "[17:41:45] WARNING: not removing hydrogen atom without neighbors\n",
      "[17:41:45] WARNING: not removing hydrogen atom without neighbors\n",
      "[17:41:45] WARNING: not removing hydrogen atom without neighbors\n",
      "[17:41:45] WARNING: not removing hydrogen atom without neighbors\n",
      "[17:41:45] WARNING: not removing hydrogen atom without neighbors\n",
      " 54%|█████▎    | 1893/3538 [01:52<00:21, 77.68it/s][17:41:45] WARNING: not removing hydrogen atom without neighbors\n",
      "[17:41:45] WARNING: not removing hydrogen atom without neighbors\n",
      "[17:41:45] WARNING: not removing hydrogen atom without neighbors\n",
      "[17:41:45] WARNING: not removing hydrogen atom without neighbors\n",
      "[17:41:45] WARNING: not removing hydrogen atom without neighbors\n",
      "[17:41:45] WARNING: not removing hydrogen atom without neighbors\n",
      "[17:41:45] WARNING: not removing hydrogen atom without neighbors\n",
      "[17:41:45] WARNING: not removing hydrogen atom without neighbors\n",
      " 54%|█████▎    | 1901/3538 [01:53<00:21, 76.70it/s][17:41:45] WARNING: not removing hydrogen atom without neighbors\n",
      "[17:41:46] WARNING: not removing hydrogen atom without neighbors\n",
      "[17:41:46] WARNING: not removing hydrogen atom without neighbors\n",
      "[17:41:46] WARNING: not removing hydrogen atom without neighbors\n",
      "[17:41:46] WARNING: not removing hydrogen atom without neighbors\n",
      "[17:41:46] WARNING: not removing hydrogen atom without neighbors\n",
      " 54%|█████▍    | 1909/3538 [01:53<00:21, 74.80it/s][17:41:46] WARNING: not removing hydrogen atom without neighbors\n",
      "[17:41:46] WARNING: not removing hydrogen atom without neighbors\n",
      "[17:41:46] WARNING: not removing hydrogen atom without neighbors\n",
      "[17:41:46] WARNING: not removing hydrogen atom without neighbors\n",
      "[17:41:46] WARNING: not removing hydrogen atom without neighbors\n",
      "[17:41:46] WARNING: not removing hydrogen atom without neighbors\n",
      "[17:41:46] WARNING: not removing hydrogen atom without neighbors\n",
      " 54%|█████▍    | 1917/3538 [01:53<00:21, 74.44it/s][17:41:46] WARNING: not removing hydrogen atom without neighbors\n",
      "[17:41:46] WARNING: not removing hydrogen atom without neighbors\n",
      "[17:41:46] WARNING: not removing hydrogen atom without neighbors\n",
      "[17:41:46] WARNING: not removing hydrogen atom without neighbors\n",
      "[17:41:46] WARNING: not removing hydrogen atom without neighbors\n",
      "[17:41:46] WARNING: not removing hydrogen atom without neighbors\n",
      " 54%|█████▍    | 1927/3538 [01:53<00:20, 79.71it/s][17:41:46] WARNING: not removing hydrogen atom without neighbors\n",
      "[17:41:46] WARNING: not removing hydrogen atom without neighbors\n",
      "[17:41:46] WARNING: not removing hydrogen atom without neighbors\n",
      " 55%|█████▍    | 1938/3538 [01:53<00:18, 85.32it/s][17:41:46] WARNING: not removing hydrogen atom without neighbors\n",
      "[17:41:46] WARNING: not removing hydrogen atom without neighbors\n",
      "[17:41:46] WARNING: not removing hydrogen atom without neighbors\n",
      "[17:41:46] WARNING: not removing hydrogen atom without neighbors\n",
      "[17:41:46] WARNING: not removing hydrogen atom without neighbors\n",
      "[17:41:46] WARNING: not removing hydrogen atom without neighbors\n",
      "[17:41:46] WARNING: not removing hydrogen atom without neighbors\n",
      " 55%|█████▌    | 1947/3538 [01:53<00:19, 80.80it/s][17:41:46] WARNING: not removing hydrogen atom without neighbors\n",
      "[17:41:46] WARNING: not removing hydrogen atom without neighbors\n",
      "[17:41:46] WARNING: not removing hydrogen atom without neighbors\n",
      "[17:41:46] WARNING: not removing hydrogen atom without neighbors\n",
      "[17:41:46] WARNING: not removing hydrogen atom without neighbors\n",
      "[17:41:46] WARNING: not removing hydrogen atom without neighbors\n",
      "[17:41:46] WARNING: not removing hydrogen atom without neighbors\n",
      "[17:41:46] Conflicting single bond directions around double bond at index 12.\n",
      "[17:41:46]   BondStereo set to STEREONONE and single bond directions set to NONE.\n",
      "[17:41:46] Conflicting single bond directions around double bond at index 17.\n",
      "[17:41:46]   BondStereo set to STEREONONE and single bond directions set to NONE.\n",
      " 55%|█████▌    | 1956/3538 [01:53<00:20, 77.01it/s][17:41:46] WARNING: not removing hydrogen atom without neighbors\n",
      "[17:41:46] WARNING: not removing hydrogen atom without neighbors\n",
      "[17:41:46] WARNING: not removing hydrogen atom without neighbors\n",
      "[17:41:46] Conflicting single bond directions around double bond at index 12.\n",
      "[17:41:46]   BondStereo set to STEREONONE and single bond directions set to NONE.\n",
      "[17:41:46] Conflicting single bond directions around double bond at index 17.\n",
      "[17:41:46]   BondStereo set to STEREONONE and single bond directions set to NONE.\n",
      "[17:41:46] Conflicting single bond directions around double bond at index 34.\n",
      "[17:41:46]   BondStereo set to STEREONONE and single bond directions set to NONE.\n",
      "[17:41:46] Conflicting single bond directions around double bond at index 39.\n",
      "[17:41:46]   BondStereo set to STEREONONE and single bond directions set to NONE.\n",
      "[17:41:46] SMILES Parse Error: syntax error while parsing: CC(C)(COP(=O)([O-])OC[C@H](N[a\n",
      "[17:41:46] SMILES Parse Error: Failed parsing SMILES 'CC(C)(COP(=O)([O-])OC[C@H](N[a' for input: 'CC(C)(COP(=O)([O-])OC[C@H](N[a'\n",
      "[17:41:46] WARNING: not removing hydrogen atom without neighbors\n",
      " 56%|█████▌    | 1964/3538 [01:53<00:24, 63.65it/s][17:41:48] WARNING: not removing hydrogen atom without neighbors\n",
      "[17:41:48] WARNING: not removing hydrogen atom without neighbors\n",
      "[17:41:48] WARNING: not removing hydrogen atom without neighbors\n",
      "[17:41:48] WARNING: not removing hydrogen atom without neighbors\n",
      "[17:41:48] WARNING: not removing hydrogen atom without neighbors\n",
      "[17:41:48] WARNING: not removing hydrogen atom without neighbors\n",
      " 56%|█████▌    | 1971/3538 [01:55<01:32, 16.98it/s][17:41:48] WARNING: not removing hydrogen atom without neighbors\n",
      "[17:41:48] WARNING: not removing hydrogen atom without neighbors\n",
      "[17:41:48] WARNING: not removing hydrogen atom without neighbors\n",
      "[17:41:48] WARNING: not removing hydrogen atom without neighbors\n",
      "[17:41:48] WARNING: not removing hydrogen atom without neighbors\n",
      "[17:41:48] WARNING: not removing hydrogen atom without neighbors\n",
      " 56%|█████▌    | 1979/3538 [01:55<01:11, 21.87it/s][17:41:48] WARNING: not removing hydrogen atom without neighbors\n",
      "[17:41:48] WARNING: not removing hydrogen atom without neighbors\n",
      "[17:41:48] WARNING: not removing hydrogen atom without neighbors\n",
      "[17:41:48] WARNING: not removing hydrogen atom without neighbors\n",
      "[17:41:48] WARNING: not removing hydrogen atom without neighbors\n",
      "[17:41:48] WARNING: not removing hydrogen atom without neighbors\n",
      " 56%|█████▌    | 1987/3538 [01:55<00:57, 27.11it/s][17:41:48] WARNING: not removing hydrogen atom without neighbors\n",
      "[17:41:48] WARNING: not removing hydrogen atom without neighbors\n",
      "[17:41:48] WARNING: not removing hydrogen atom without neighbors\n",
      "[17:41:48] WARNING: not removing hydrogen atom without neighbors\n",
      "[17:41:48] WARNING: not removing hydrogen atom without neighbors\n",
      "[17:41:48] WARNING: not removing hydrogen atom without neighbors\n",
      " 56%|█████▋    | 1993/3538 [01:55<00:56, 27.34it/s][17:41:48] WARNING: not removing hydrogen atom without neighbors\n",
      "[17:41:48] WARNING: not removing hydrogen atom without neighbors\n",
      "[17:41:48] WARNING: not removing hydrogen atom without neighbors\n",
      "[17:41:48] WARNING: not removing hydrogen atom without neighbors\n",
      "[17:41:48] WARNING: not removing hydrogen atom without neighbors\n",
      "[17:41:48] WARNING: not removing hydrogen atom without neighbors\n",
      "[17:41:48] WARNING: not removing hydrogen atom without neighbors\n",
      "[17:41:48] WARNING: not removing hydrogen atom without neighbors\n",
      " 57%|█████▋    | 2001/3538 [01:55<00:45, 33.97it/s][17:41:48] WARNING: not removing hydrogen atom without neighbors\n",
      "[17:41:48] WARNING: not removing hydrogen atom without neighbors\n",
      "[17:41:48] WARNING: not removing hydrogen atom without neighbors\n",
      "[17:41:48] WARNING: not removing hydrogen atom without neighbors\n",
      "[17:41:48] WARNING: not removing hydrogen atom without neighbors\n",
      "[17:41:48] WARNING: not removing hydrogen atom without neighbors\n",
      "[17:41:48] SMILES Parse Error: syntax error while parsing: C(=O)([a\n",
      "[17:41:48] SMILES Parse Error: Failed parsing SMILES 'C(=O)([a' for input: 'C(=O)([a'\n",
      " 57%|█████▋    | 2007/3538 [01:55<00:42, 36.12it/s][17:41:49] WARNING: not removing hydrogen atom without neighbors\n",
      "[17:41:49] SMILES Parse Error: syntax error while parsing: C(=O)([a\n",
      "[17:41:49] SMILES Parse Error: Failed parsing SMILES 'C(=O)([a' for input: 'C(=O)([a'\n",
      "[17:41:50] WARNING: not removing hydrogen atom without neighbors\n",
      "[17:41:50] WARNING: not removing hydrogen atom without neighbors\n",
      "[17:41:50] WARNING: not removing hydrogen atom without neighbors\n",
      " 57%|█████▋    | 2013/3538 [01:58<02:51,  8.87it/s][17:41:50] WARNING: not removing hydrogen atom without neighbors\n",
      "[17:41:50] WARNING: not removing hydrogen atom without neighbors\n",
      "[17:41:51] WARNING: not removing hydrogen atom without neighbors\n",
      "[17:41:51] WARNING: not removing hydrogen atom without neighbors\n",
      "[17:41:51] WARNING: not removing hydrogen atom without neighbors\n",
      "[17:41:51] WARNING: not removing hydrogen atom without neighbors\n",
      "[17:41:51] Conflicting single bond directions around double bond at index 12.\n",
      "[17:41:51]   BondStereo set to STEREONONE and single bond directions set to NONE.\n",
      "[17:41:51] Conflicting single bond directions around double bond at index 17.\n",
      "[17:41:51]   BondStereo set to STEREONONE and single bond directions set to NONE.\n",
      " 57%|█████▋    | 2021/3538 [01:58<02:00, 12.59it/s][17:41:51] WARNING: not removing hydrogen atom without neighbors\n",
      "[17:41:51] WARNING: not removing hydrogen atom without neighbors\n",
      "[17:41:51] WARNING: not removing hydrogen atom without neighbors\n",
      "[17:41:51] WARNING: not removing hydrogen atom without neighbors\n",
      "[17:41:51] WARNING: not removing hydrogen atom without neighbors\n",
      "[17:41:51] WARNING: not removing hydrogen atom without neighbors\n",
      "[17:41:51] WARNING: not removing hydrogen atom without neighbors\n",
      "[17:41:51] WARNING: not removing hydrogen atom without neighbors\n",
      " 57%|█████▋    | 2029/3538 [01:58<01:27, 17.25it/s][17:41:51] WARNING: not removing hydrogen atom without neighbors\n",
      "[17:41:51] WARNING: not removing hydrogen atom without neighbors\n",
      "[17:41:51] WARNING: not removing hydrogen atom without neighbors\n",
      "[17:41:51] WARNING: not removing hydrogen atom without neighbors\n",
      "[17:41:51] WARNING: not removing hydrogen atom without neighbors\n",
      "[17:41:51] WARNING: not removing hydrogen atom without neighbors\n",
      " 58%|█████▊    | 2037/3538 [01:58<01:06, 22.72it/s][17:41:51] WARNING: not removing hydrogen atom without neighbors\n",
      "[17:41:51] WARNING: not removing hydrogen atom without neighbors\n",
      "[17:41:51] WARNING: not removing hydrogen atom without neighbors\n",
      "[17:41:51] WARNING: not removing hydrogen atom without neighbors\n",
      "[17:41:51] WARNING: not removing hydrogen atom without neighbors\n",
      "[17:41:51] WARNING: not removing hydrogen atom without neighbors\n",
      " 58%|█████▊    | 2046/3538 [01:58<00:49, 30.01it/s][17:41:51] WARNING: not removing hydrogen atom without neighbors\n",
      "[17:41:51] WARNING: not removing hydrogen atom without neighbors\n",
      "[17:41:51] WARNING: not removing hydrogen atom without neighbors\n",
      "[17:41:51] WARNING: not removing hydrogen atom without neighbors\n",
      "[17:41:51] WARNING: not removing hydrogen atom without neighbors\n",
      "[17:41:51] WARNING: not removing hydrogen atom without neighbors\n",
      "[17:41:51] WARNING: not removing hydrogen atom without neighbors\n",
      " 58%|█████▊    | 2054/3538 [01:58<00:40, 36.38it/s][17:41:51] WARNING: not removing hydrogen atom without neighbors\n",
      "[17:41:51] WARNING: not removing hydrogen atom without neighbors\n",
      "[17:41:51] WARNING: not removing hydrogen atom without neighbors\n",
      "[17:41:51] WARNING: not removing hydrogen atom without neighbors\n",
      "[17:41:51] WARNING: not removing hydrogen atom without neighbors\n",
      "[17:41:51] WARNING: not removing hydrogen atom without neighbors\n",
      " 58%|█████▊    | 2061/3538 [01:58<00:35, 41.83it/s][17:41:51] WARNING: not removing hydrogen atom without neighbors\n",
      "[17:41:51] WARNING: not removing hydrogen atom without neighbors\n",
      "[17:41:51] WARNING: not removing hydrogen atom without neighbors\n",
      "[17:41:51] WARNING: not removing hydrogen atom without neighbors\n",
      "[17:41:51] WARNING: not removing hydrogen atom without neighbors\n",
      "[17:41:51] WARNING: not removing hydrogen atom without neighbors\n",
      "[17:41:51] WARNING: not removing hydrogen atom without neighbors\n",
      " 58%|█████▊    | 2068/3538 [01:58<00:31, 47.07it/s][17:41:51] WARNING: not removing hydrogen atom without neighbors\n",
      "[17:41:51] WARNING: not removing hydrogen atom without neighbors\n",
      "[17:41:51] WARNING: not removing hydrogen atom without neighbors\n",
      "[17:41:51] WARNING: not removing hydrogen atom without neighbors\n",
      "[17:41:51] WARNING: not removing hydrogen atom without neighbors\n",
      "[17:41:51] WARNING: not removing hydrogen atom without neighbors\n",
      "[17:41:51] WARNING: not removing hydrogen atom without neighbors\n",
      " 59%|█████▊    | 2076/3538 [01:58<00:27, 52.63it/s][17:41:51] WARNING: not removing hydrogen atom without neighbors\n",
      "[17:41:51] SMILES Parse Error: syntax error while parsing: C1([R4])(=C([R3])C(=O)C(/[R3])=C([R1])/C(=O)1)\n",
      "[17:41:51] SMILES Parse Error: Failed parsing SMILES 'C1([R4])(=C([R3])C(=O)C(/[R3])=C([R1])/C(=O)1)' for input: 'C1([R4])(=C([R3])C(=O)C(/[R3])=C([R1])/C(=O)1)'\n",
      "[17:41:52] WARNING: not removing hydrogen atom without neighbors\n",
      "[17:41:53] WARNING: not removing hydrogen atom without neighbors\n",
      "[17:41:53] WARNING: not removing hydrogen atom without neighbors\n",
      "[17:41:53] WARNING: not removing hydrogen atom without neighbors\n",
      "[17:41:53] WARNING: not removing hydrogen atom without neighbors\n",
      "[17:41:53] WARNING: not removing hydrogen atom without neighbors\n",
      " 59%|█████▉    | 2083/3538 [02:00<01:55, 12.56it/s][17:41:53] WARNING: not removing hydrogen atom without neighbors\n",
      "[17:41:53] WARNING: not removing hydrogen atom without neighbors\n",
      "[17:41:53] WARNING: not removing hydrogen atom without neighbors\n",
      " 59%|█████▉    | 2089/3538 [02:01<02:38,  9.13it/s][17:41:54] WARNING: not removing hydrogen atom without neighbors\n",
      "[17:41:54] WARNING: not removing hydrogen atom without neighbors\n",
      "[17:41:54] WARNING: not removing hydrogen atom without neighbors\n",
      "[17:41:54] WARNING: not removing hydrogen atom without neighbors\n",
      "[17:41:54] WARNING: not removing hydrogen atom without neighbors\n",
      "[17:41:54] WARNING: not removing hydrogen atom without neighbors\n",
      "[17:41:54] WARNING: not removing hydrogen atom without neighbors\n",
      " 59%|█████▉    | 2096/3538 [02:01<01:57, 12.26it/s][17:41:54] WARNING: not removing hydrogen atom without neighbors\n",
      "[17:41:54] WARNING: not removing hydrogen atom without neighbors\n",
      "[17:41:54] WARNING: not removing hydrogen atom without neighbors\n",
      "[17:41:54] WARNING: not removing hydrogen atom without neighbors\n",
      "[17:41:54] WARNING: not removing hydrogen atom without neighbors\n",
      "[17:41:54] WARNING: not removing hydrogen atom without neighbors\n",
      " 59%|█████▉    | 2102/3538 [02:01<01:32, 15.48it/s][17:41:54] WARNING: not removing hydrogen atom without neighbors\n",
      "[17:41:54] WARNING: not removing hydrogen atom without neighbors\n",
      "[17:41:54] WARNING: not removing hydrogen atom without neighbors\n",
      " 60%|█████▉    | 2108/3538 [02:02<01:14, 19.26it/s][17:41:55] WARNING: not removing hydrogen atom without neighbors\n",
      "[17:41:55] WARNING: not removing hydrogen atom without neighbors\n",
      "[17:41:55] WARNING: not removing hydrogen atom without neighbors\n",
      "[17:41:55] WARNING: not removing hydrogen atom without neighbors\n",
      " 60%|█████▉    | 2114/3538 [02:02<01:00, 23.54it/s][17:41:55] WARNING: not removing hydrogen atom without neighbors\n",
      "[17:41:55] WARNING: not removing hydrogen atom without neighbors\n",
      "[17:41:55] WARNING: not removing hydrogen atom without neighbors\n",
      "[17:41:55] WARNING: not removing hydrogen atom without neighbors\n",
      " 60%|█████▉    | 2120/3538 [02:02<00:50, 28.04it/s][17:41:55] WARNING: not removing hydrogen atom without neighbors\n",
      "[17:41:55] WARNING: not removing hydrogen atom without neighbors\n",
      "[17:41:55] WARNING: not removing hydrogen atom without neighbors\n",
      "[17:41:55] WARNING: not removing hydrogen atom without neighbors\n",
      " 60%|██████    | 2127/3538 [02:02<00:40, 34.73it/s][17:41:55] WARNING: not removing hydrogen atom without neighbors\n",
      "[17:41:55] WARNING: not removing hydrogen atom without neighbors\n",
      "[17:41:55] WARNING: not removing hydrogen atom without neighbors\n",
      "[17:41:55] WARNING: not removing hydrogen atom without neighbors\n",
      "[17:41:55] WARNING: not removing hydrogen atom without neighbors\n",
      "[17:41:55] WARNING: not removing hydrogen atom without neighbors\n",
      "[17:41:55] WARNING: not removing hydrogen atom without neighbors\n",
      "[17:41:55] WARNING: not removing hydrogen atom without neighbors\n",
      " 60%|██████    | 2136/3538 [02:02<00:31, 44.12it/s][17:41:55] WARNING: not removing hydrogen atom without neighbors\n",
      "[17:41:55] WARNING: not removing hydrogen atom without neighbors\n",
      "[17:41:55] WARNING: not removing hydrogen atom without neighbors\n",
      "[17:41:55] WARNING: not removing hydrogen atom without neighbors\n",
      "[17:41:55] WARNING: not removing hydrogen atom without neighbors\n",
      "[17:41:55] WARNING: not removing hydrogen atom without neighbors\n",
      " 61%|██████    | 2143/3538 [02:02<00:28, 49.46it/s][17:41:55] WARNING: not removing hydrogen atom without neighbors\n",
      "[17:41:55] WARNING: not removing hydrogen atom without neighbors\n",
      "[17:41:55] WARNING: not removing hydrogen atom without neighbors\n",
      "[17:41:55] WARNING: not removing hydrogen atom without neighbors\n",
      "[17:41:55] WARNING: not removing hydrogen atom without neighbors\n",
      "[17:41:55] WARNING: not removing hydrogen atom without neighbors\n",
      " 61%|██████    | 2151/3538 [02:02<00:25, 55.33it/s][17:41:55] WARNING: not removing hydrogen atom without neighbors\n",
      "[17:41:55] WARNING: not removing hydrogen atom without neighbors\n",
      "[17:41:55] WARNING: not removing hydrogen atom without neighbors\n",
      "[17:41:55] WARNING: not removing hydrogen atom without neighbors\n",
      "[17:41:55] WARNING: not removing hydrogen atom without neighbors\n",
      "[17:41:55] WARNING: not removing hydrogen atom without neighbors\n",
      "[17:41:55] WARNING: not removing hydrogen atom without neighbors\n",
      "[17:41:55] WARNING: not removing hydrogen atom without neighbors\n",
      "[17:41:55] SMILES Parse Error: syntax error while parsing: CC[C@H](C)[C@@H](C(=O)NCC(=O)NCC(NCC(=O)NCC(NCC(=O)NCC(NCC(=O)NCC(NCC(=O)NCC9(\\O\\C=C(C8(\\S\\C=C(C(=O)NCC(=O)NCC(N[C@@H](CCC(=O)N)C(=O)NCC(=O)NCC(=O)NCC7(\\S\\C=C(C(=O)NCC(=O)NCC6(\\N=C(C(N[C@@H](CO)C(=O)N[C@@H](CC(=O)N)C(NCC5(\\S\\C=C(C4(\\O\\C=C(C(NCC(=O)NCC(N[C@@H](CC(=O)N)C(=O)NCC(NCC3(\\O\\C=C(C(NCC(NCC2(\\O\\C=C(C(NCC(=O)N[C@@H](CO)C(N[C@H](CC1(\\N=C/N\\C=1))C(=O)N[C@H]([C@@H](C)CC)C(=O)[O-])=O)=O)/N=2))=O)=O)/N=3))=O)=O)=O)/N=4))/N=5))=O)=O)/S\\C=6))/N=7))=O)/N=8))/N=9))=O)=O)=O)=O)NC(CNC(=O)[C@@H](NC([C@@H](N[a\n",
      "[17:41:55] SMILES Parse Error: Failed parsing SMILES 'CC[C@H](C)[C@@H](C(=O)NCC(=O)NCC(NCC(=O)NCC(NCC(=O)NCC(NCC(=O)NCC(NCC(=O)NCC9(\\O\\C=C(C8(\\S\\C=C(C(=O)NCC(=O)NCC(N[C@@H](CCC(=O)N)C(=O)NCC(=O)NCC(=O)NCC7(\\S\\C=C(C(=O)NCC(=O)NCC6(\\N=C(C(N[C@@H](CO)C(=O)N[C@@H](CC(=O)N)C(NCC5(\\S\\C=C(C4(\\O\\C=C(C(NCC(=O)NCC(N[C@@H](CC(=O)N)C(=O)NCC(NCC3(\\O\\C=C(C(NCC(NCC2(\\O\\C=C(C(NCC(=O)N[C@@H](CO)C(N[C@H](CC1(\\N=C/N\\C=1))C(=O)N[C@H]([C@@H](C)CC)C(=O)[O-])=O)=O)/N=2))=O)=O)/N=3))=O)=O)=O)/N=4))/N=5))=O)=O)/S\\C=6))/N=7))=O)/N=8))/N=9))=O)=O)=O)=O)NC(CNC(=O)[C@@H](NC([C@@H](N[a' for input: 'CC[C@H](C)[C@@H](C(=O)NCC(=O)NCC(NCC(=O)NCC(NCC(=O)NCC(NCC(=O)NCC(NCC(=O)NCC9(\\O\\C=C(C8(\\S\\C=C(C(=O)NCC(=O)NCC(N[C@@H](CCC(=O)N)C(=O)NCC(=O)NCC(=O)NCC7(\\S\\C=C(C(=O)NCC(=O)NCC6(\\N=C(C(N[C@@H](CO)C(=O)N[C@@H](CC(=O)N)C(NCC5(\\S\\C=C(C4(\\O\\C=C(C(NCC(=O)NCC(N[C@@H](CC(=O)N)C(=O)NCC(NCC3(\\O\\C=C(C(NCC(NCC2(\\O\\C=C(C(NCC(=O)N[C@@H](CO)C(N[C@H](CC1(\\N=C/N\\C=1))C(=O)N[C@H]([C@@H](C)CC)C(=O)[O-])=O)=O)/N=2))=O)=O)/N=3))=O)=O)=O)/N=4))/N=5))=O)=O)/S\\C=6))/N=7))=O)/N=8))/N=9))=O)=O)=O)=O)NC(CNC(=O)[C@@H](NC([C@@H](N[a'\n",
      "[17:41:55] SMILES Parse Error: syntax error while parsing: CC[C@H](C)[C@@H](C(=O)NCC(=O)NCC(NCC(=O)NCC(NCC(=O)NCC(NCC(=O)NCC(NCC(=O)NCC(=O)N[C@@H](CO)C(N[C@@H](CS)C(=O)NCC(=O)NCC(N[C@@H](CCC(=O)N)C(=O)NCC(=O)NCC(=O)NCC(=O)N[C@@H](CS)C(=O)NCC(=O)NCC(=O)N[C@@H](CS)C(N[C@@H](CO)C(=O)N[C@@H](CC(=O)N)C(NCC(N[C@@H](CS)C(=O)N[C@@H](CO)C(NCC(=O)NCC(N[C@@H](CC(=O)N)C(=O)NCC(NCC(=O)N[C@@H](CO)C(=O)NCC(NCC(N[C@@H](CO)C(=O)NCC(=O)N[C@@H](CO)C(N[C@@H](CC1(\\N=C/N\\C=1))C(=O)N[C@@H]([C@@H](C)CC)C(=O)[O-])=O)=O)=O)=O)=O)=O)=O)=O)=O)=O)=O)=O)=O)=O)=O)NC(CNC(=O)[C@@H](NC([C@@H](N[a\n",
      "[17:41:55] SMILES Parse Error: Failed parsing SMILES 'CC[C@H](C)[C@@H](C(=O)NCC(=O)NCC(NCC(=O)NCC(NCC(=O)NCC(NCC(=O)NCC(NCC(=O)NCC(=O)N[C@@H](CO)C(N[C@@H](CS)C(=O)NCC(=O)NCC(N[C@@H](CCC(=O)N)C(=O)NCC(=O)NCC(=O)NCC(=O)N[C@@H](CS)C(=O)NCC(=O)NCC(=O)N[C@@H](CS)C(N[C@@H](CO)C(=O)N[C@@H](CC(=O)N)C(NCC(N[C@@H](CS)C(=O)N[C@@H](CO)C(NCC(=O)NCC(N[C@@H](CC(=O)N)C(=O)NCC(NCC(=O)N[C@@H](CO)C(=O)NCC(NCC(N[C@@H](CO)C(=O)NCC(=O)N[C@@H](CO)C(N[C@@H](CC1(\\N=C/N\\C=1))C(=O)N[C@@H]([C@@H](C)CC)C(=O)[O-])=O)=O)=O)=O)=O)=O)=O)=O)=O)=O)=O)=O)=O)=O)=O)NC(CNC(=O)[C@@H](NC([C@@H](N[a' for input: 'CC[C@H](C)[C@@H](C(=O)NCC(=O)NCC(NCC(=O)NCC(NCC(=O)NCC(NCC(=O)NCC(NCC(=O)NCC(=O)N[C@@H](CO)C(N[C@@H](CS)C(=O)NCC(=O)NCC(N[C@@H](CCC(=O)N)C(=O)NCC(=O)NCC(=O)NCC(=O)N[C@@H](CS)C(=O)NCC(=O)NCC(=O)N[C@@H](CS)C(N[C@@H](CO)C(=O)N[C@@H](CC(=O)N)C(NCC(N[C@@H](CS)C(=O)N[C@@H](CO)C(NCC(=O)NCC(N[C@@H](CC(=O)N)C(=O)NCC(NCC(=O)N[C@@H](CO)C(=O)NCC(NCC(N[C@@H](CO)C(=O)NCC(=O)N[C@@H](CO)C(N[C@@H](CC1(\\N=C/N\\C=1))C(=O)N[C@@H]([C@@H](C)CC)C(=O)[O-])=O)=O)=O)=O)=O)=O)=O)=O)=O)=O)=O)=O)=O)=O)=O)NC(CNC(=O)[C@@H](NC([C@@H](N[a'\n",
      " 61%|██████    | 2159/3538 [02:02<00:27, 51.06it/s][17:41:57] WARNING: not removing hydrogen atom without neighbors\n",
      "[17:41:57] WARNING: not removing hydrogen atom without neighbors\n",
      "[17:41:57] WARNING: not removing hydrogen atom without neighbors\n",
      "[17:41:57] WARNING: not removing hydrogen atom without neighbors\n",
      "[17:41:57] WARNING: not removing hydrogen atom without neighbors\n",
      "[17:41:57] WARNING: not removing hydrogen atom without neighbors\n",
      " 61%|██████    | 2166/3538 [02:04<01:52, 12.21it/s][17:41:57] WARNING: not removing hydrogen atom without neighbors\n",
      "[17:41:57] WARNING: not removing hydrogen atom without neighbors\n",
      "[17:41:57] WARNING: not removing hydrogen atom without neighbors\n",
      "[17:41:57] WARNING: not removing hydrogen atom without neighbors\n",
      "[17:41:57] WARNING: not removing hydrogen atom without neighbors\n",
      "[17:41:57] WARNING: not removing hydrogen atom without neighbors\n",
      " 61%|██████▏   | 2174/3538 [02:04<01:22, 16.58it/s][17:41:57] WARNING: not removing hydrogen atom without neighbors\n",
      "[17:41:57] WARNING: not removing hydrogen atom without neighbors\n",
      "[17:41:57] WARNING: not removing hydrogen atom without neighbors\n",
      " 62%|██████▏   | 2182/3538 [02:04<01:02, 21.84it/s][17:41:57] WARNING: not removing hydrogen atom without neighbors\n",
      "[17:41:57] WARNING: not removing hydrogen atom without neighbors\n",
      "[17:41:57] WARNING: not removing hydrogen atom without neighbors\n",
      "[17:41:57] SMILES Parse Error: syntax error while parsing: CC(=O)N[C@@H]3([C@H](C[C@@](C([O-])=O)(O[C@@H]2([C@@H](O)[C@H](O[C@@H]1([C@@H](NC(C)=O)[C@H](O[C@H](CO)[C@H](O)1)OC([R])[C@@H](C(=O)[a\n",
      "[17:41:57] SMILES Parse Error: Failed parsing SMILES 'CC(=O)N[C@@H]3([C@H](C[C@@](C([O-])=O)(O[C@@H]2([C@@H](O)[C@H](O[C@@H]1([C@@H](NC(C)=O)[C@H](O[C@H](CO)[C@H](O)1)OC([R])[C@@H](C(=O)[a' for input: 'CC(=O)N[C@@H]3([C@H](C[C@@](C([O-])=O)(O[C@@H]2([C@@H](O)[C@H](O[C@@H]1([C@@H](NC(C)=O)[C@H](O[C@H](CO)[C@H](O)1)OC([R])[C@@H](C(=O)[a'\n",
      "[17:41:58] WARNING: not removing hydrogen atom without neighbors\n",
      "[17:41:58] WARNING: not removing hydrogen atom without neighbors\n",
      " 62%|██████▏   | 2188/3538 [02:06<02:03, 10.92it/s][17:41:59] WARNING: not removing hydrogen atom without neighbors\n",
      "[17:41:59] WARNING: not removing hydrogen atom without neighbors\n",
      "[17:41:59] WARNING: not removing hydrogen atom without neighbors\n",
      "[17:41:59] WARNING: not removing hydrogen atom without neighbors\n",
      " 62%|██████▏   | 2193/3538 [02:06<02:11, 10.24it/s][17:41:59] WARNING: not removing hydrogen atom without neighbors\n",
      "[17:41:59] SMILES Parse Error: syntax error while parsing: CCCCCCCCCCCCCCCCCCCCCCCCCCC(C(=O)OC[C@@H]1([C@@H](O)[C@H](O)[C@H](O[a\n",
      "[17:41:59] SMILES Parse Error: Failed parsing SMILES 'CCCCCCCCCCCCCCCCCCCCCCCCCCC(C(=O)OC[C@@H]1([C@@H](O)[C@H](O)[C@H](O[a' for input: 'CCCCCCCCCCCCCCCCCCCCCCCCCCC(C(=O)OC[C@@H]1([C@@H](O)[C@H](O)[C@H](O[a'\n",
      "[17:41:59] SMILES Parse Error: syntax error while parsing: CCCCCCCCCCCCCCCCCCCCCCCCCCC(C(OC[C@@H]1([C@@H](O)[C@H](O)[C@H](O[a\n",
      "[17:41:59] SMILES Parse Error: Failed parsing SMILES 'CCCCCCCCCCCCCCCCCCCCCCCCCCC(C(OC[C@@H]1([C@@H](O)[C@H](O)[C@H](O[a' for input: 'CCCCCCCCCCCCCCCCCCCCCCCCCCC(C(OC[C@@H]1([C@@H](O)[C@H](O)[C@H](O[a'\n",
      "[17:41:59] SMILES Parse Error: syntax error while parsing: C(OC(=O)C(CCCCCCCCCCCCCCCCCCCCCCCC)[C@H](O)CCCCCCCCCCCCCCCCCC1(C(CCCCCCCCCCCCCCCCC(OC)C(C)CCCCCCCCCCCCCCCCCC)C1))[C@@H]2([C@@H](O)[C@H](O)[C@H](O[a\n",
      "[17:41:59] SMILES Parse Error: Failed parsing SMILES 'C(OC(=O)C(CCCCCCCCCCCCCCCCCCCCCCCC)[C@H](O)CCCCCCCCCCCCCCCCCC1(C(CCCCCCCCCCCCCCCCC(OC)C(C)CCCCCCCCCCCCCCCCCC)C1))[C@@H]2([C@@H](O)[C@H](O)[C@H](O[a' for input: 'C(OC(=O)C(CCCCCCCCCCCCCCCCCCCCCCCC)[C@H](O)CCCCCCCCCCCCCCCCCC1(C(CCCCCCCCCCCCCCCCC(OC)C(C)CCCCCCCCCCCCCCCCCC)C1))[C@@H]2([C@@H](O)[C@H](O)[C@H](O[a'\n",
      "[17:41:59] SMILES Parse Error: syntax error while parsing: CCCCCCCCCCCCCCCCCCCCCCCCC(C(OC[C@@H]1([C@@H](O)[C@H](O)[C@H](O[a\n",
      "[17:41:59] SMILES Parse Error: Failed parsing SMILES 'CCCCCCCCCCCCCCCCCCCCCCCCC(C(OC[C@@H]1([C@@H](O)[C@H](O)[C@H](O[a' for input: 'CCCCCCCCCCCCCCCCCCCCCCCCC(C(OC[C@@H]1([C@@H](O)[C@H](O)[C@H](O[a'\n",
      "[17:41:59] WARNING: not removing hydrogen atom without neighbors\n",
      "[17:42:01] WARNING: not removing hydrogen atom without neighbors\n",
      " 62%|██████▏   | 2197/3538 [02:09<04:25,  5.05it/s][17:42:01] WARNING: not removing hydrogen atom without neighbors\n",
      "[17:42:01] WARNING: not removing hydrogen atom without neighbors\n",
      "[17:42:02] WARNING: not removing hydrogen atom without neighbors\n",
      "[17:42:02] WARNING: not removing hydrogen atom without neighbors\n",
      "[17:42:02] WARNING: not removing hydrogen atom without neighbors\n",
      "[17:42:02] WARNING: not removing hydrogen atom without neighbors\n",
      " 62%|██████▏   | 2205/3538 [02:09<02:51,  7.76it/s][17:42:02] WARNING: not removing hydrogen atom without neighbors\n",
      "[17:42:02] Conflicting single bond directions around double bond at index 12.\n",
      "[17:42:02]   BondStereo set to STEREONONE and single bond directions set to NONE.\n",
      "[17:42:02] Conflicting single bond directions around double bond at index 17.\n",
      "[17:42:02]   BondStereo set to STEREONONE and single bond directions set to NONE.\n",
      "[17:42:02] Conflicting single bond directions around double bond at index 12.\n",
      "[17:42:02]   BondStereo set to STEREONONE and single bond directions set to NONE.\n",
      "[17:42:02] Conflicting single bond directions around double bond at index 17.\n",
      "[17:42:02]   BondStereo set to STEREONONE and single bond directions set to NONE.\n",
      "[17:42:02] WARNING: not removing hydrogen atom without neighbors\n",
      "[17:42:02] WARNING: not removing hydrogen atom without neighbors\n",
      "[17:42:02] WARNING: not removing hydrogen atom without neighbors\n",
      "[17:42:02] WARNING: not removing hydrogen atom without neighbors\n",
      "[17:42:02] WARNING: not removing hydrogen atom without neighbors\n",
      " 63%|██████▎   | 2214/3538 [02:09<01:52, 11.73it/s][17:42:02] WARNING: not removing hydrogen atom without neighbors\n",
      "[17:42:02] WARNING: not removing hydrogen atom without neighbors\n",
      "[17:42:02] WARNING: not removing hydrogen atom without neighbors\n",
      "[17:42:02] WARNING: not removing hydrogen atom without neighbors\n",
      "[17:42:02] WARNING: not removing hydrogen atom without neighbors\n",
      "[17:42:02] WARNING: not removing hydrogen atom without neighbors\n",
      "[17:42:02] WARNING: not removing hydrogen atom without neighbors\n",
      " 63%|██████▎   | 2222/3538 [02:09<01:21, 16.08it/s][17:42:02] WARNING: not removing hydrogen atom without neighbors\n",
      "[17:42:02] WARNING: not removing hydrogen atom without neighbors\n",
      "[17:42:02] WARNING: not removing hydrogen atom without neighbors\n",
      "[17:42:02] WARNING: not removing hydrogen atom without neighbors\n",
      "[17:42:02] WARNING: not removing hydrogen atom without neighbors\n",
      "[17:42:02] WARNING: not removing hydrogen atom without neighbors\n",
      "[17:42:02] WARNING: not removing hydrogen atom without neighbors\n",
      " 63%|██████▎   | 2230/3538 [02:09<01:00, 21.48it/s][17:42:02] WARNING: not removing hydrogen atom without neighbors\n",
      "[17:42:02] WARNING: not removing hydrogen atom without neighbors\n",
      "[17:42:02] WARNING: not removing hydrogen atom without neighbors\n",
      "[17:42:02] WARNING: not removing hydrogen atom without neighbors\n",
      "[17:42:02] WARNING: not removing hydrogen atom without neighbors\n",
      "[17:42:02] WARNING: not removing hydrogen atom without neighbors\n",
      "[17:42:02] WARNING: not removing hydrogen atom without neighbors\n",
      "[17:42:02] WARNING: not removing hydrogen atom without neighbors\n",
      " 63%|██████▎   | 2238/3538 [02:09<00:47, 27.57it/s][17:42:02] WARNING: not removing hydrogen atom without neighbors\n",
      "[17:42:02] WARNING: not removing hydrogen atom without neighbors\n",
      "[17:42:02] WARNING: not removing hydrogen atom without neighbors\n",
      "[17:42:02] WARNING: not removing hydrogen atom without neighbors\n",
      "[17:42:02] WARNING: not removing hydrogen atom without neighbors\n",
      "[17:42:02] WARNING: not removing hydrogen atom without neighbors\n",
      "[17:42:02] WARNING: not removing hydrogen atom without neighbors\n",
      "[17:42:02] WARNING: not removing hydrogen atom without neighbors\n",
      " 63%|██████▎   | 2246/3538 [02:09<00:38, 33.91it/s][17:42:02] WARNING: not removing hydrogen atom without neighbors\n",
      "[17:42:02] WARNING: not removing hydrogen atom without neighbors\n",
      "[17:42:02] WARNING: not removing hydrogen atom without neighbors\n",
      "[17:42:02] WARNING: not removing hydrogen atom without neighbors\n",
      "[17:42:02] WARNING: not removing hydrogen atom without neighbors\n",
      "[17:42:02] WARNING: not removing hydrogen atom without neighbors\n",
      "[17:42:02] WARNING: not removing hydrogen atom without neighbors\n",
      "[17:42:02] WARNING: not removing hydrogen atom without neighbors\n",
      " 64%|██████▎   | 2254/3538 [02:09<00:31, 40.50it/s][17:42:02] WARNING: not removing hydrogen atom without neighbors\n",
      "[17:42:02] WARNING: not removing hydrogen atom without neighbors\n",
      "[17:42:02] WARNING: not removing hydrogen atom without neighbors\n",
      "[17:42:02] WARNING: not removing hydrogen atom without neighbors\n",
      "[17:42:02] WARNING: not removing hydrogen atom without neighbors\n",
      "[17:42:02] WARNING: not removing hydrogen atom without neighbors\n",
      "[17:42:02] WARNING: not removing hydrogen atom without neighbors\n",
      " 64%|██████▍   | 2263/3538 [02:09<00:26, 48.28it/s][17:42:02] WARNING: not removing hydrogen atom without neighbors\n",
      "[17:42:02] WARNING: not removing hydrogen atom without neighbors\n",
      "[17:42:02] WARNING: not removing hydrogen atom without neighbors\n",
      "[17:42:02] WARNING: not removing hydrogen atom without neighbors\n",
      "[17:42:02] WARNING: not removing hydrogen atom without neighbors\n",
      " 64%|██████▍   | 2271/3538 [02:10<00:23, 53.14it/s][17:42:02] WARNING: not removing hydrogen atom without neighbors\n",
      "[17:42:02] Conflicting single bond directions around double bond at index 7.\n",
      "[17:42:02]   BondStereo set to STEREONONE and single bond directions set to NONE.\n",
      "[17:42:02] Conflicting single bond directions around double bond at index 12.\n",
      "[17:42:02]   BondStereo set to STEREONONE and single bond directions set to NONE.\n",
      "[17:42:02] Conflicting single bond directions around double bond at index 17.\n",
      "[17:42:02]   BondStereo set to STEREONONE and single bond directions set to NONE.\n",
      "[17:42:02] Conflicting single bond directions around double bond at index 12.\n",
      "[17:42:02]   BondStereo set to STEREONONE and single bond directions set to NONE.\n",
      "[17:42:02] Conflicting single bond directions around double bond at index 17.\n",
      "[17:42:02]   BondStereo set to STEREONONE and single bond directions set to NONE.\n",
      "[17:42:02] Conflicting single bond directions around double bond at index 12.\n",
      "[17:42:02]   BondStereo set to STEREONONE and single bond directions set to NONE.\n",
      "[17:42:02] Conflicting single bond directions around double bond at index 17.\n",
      "[17:42:02]   BondStereo set to STEREONONE and single bond directions set to NONE.\n",
      "[17:42:02] Conflicting single bond directions around double bond at index 12.\n",
      "[17:42:02]   BondStereo set to STEREONONE and single bond directions set to NONE.\n",
      "[17:42:02] Conflicting single bond directions around double bond at index 17.\n",
      "[17:42:02]   BondStereo set to STEREONONE and single bond directions set to NONE.\n",
      "[17:42:02] Conflicting single bond directions around double bond at index 7.\n",
      "[17:42:02]   BondStereo set to STEREONONE and single bond directions set to NONE.\n",
      "[17:42:02] Conflicting single bond directions around double bond at index 12.\n",
      "[17:42:02]   BondStereo set to STEREONONE and single bond directions set to NONE.\n",
      "[17:42:02] Conflicting single bond directions around double bond at index 17.\n",
      "[17:42:02]   BondStereo set to STEREONONE and single bond directions set to NONE.\n",
      "[17:42:02] Conflicting single bond directions around double bond at index 17.\n",
      "[17:42:02]   BondStereo set to STEREONONE and single bond directions set to NONE.\n",
      "[17:42:02] Conflicting single bond directions around double bond at index 12.\n",
      "[17:42:02]   BondStereo set to STEREONONE and single bond directions set to NONE.\n",
      "[17:42:02] Conflicting single bond directions around double bond at index 17.\n",
      "[17:42:02]   BondStereo set to STEREONONE and single bond directions set to NONE.\n",
      "[17:42:02] Conflicting single bond directions around double bond at index 17.\n",
      "[17:42:02]   BondStereo set to STEREONONE and single bond directions set to NONE.\n",
      "[17:42:02] WARNING: not removing hydrogen atom without neighbors\n",
      "[17:42:03] WARNING: not removing hydrogen atom without neighbors\n",
      "[17:42:03] WARNING: not removing hydrogen atom without neighbors\n",
      "[17:42:03] WARNING: not removing hydrogen atom without neighbors\n",
      "[17:42:03] WARNING: not removing hydrogen atom without neighbors\n",
      "[17:42:03] WARNING: not removing hydrogen atom without neighbors\n",
      " 64%|██████▍   | 2279/3538 [02:10<00:21, 57.54it/s][17:42:03] Conflicting single bond directions around double bond at index 8.\n",
      "[17:42:03]   BondStereo set to STEREONONE and single bond directions set to NONE.\n",
      "[17:42:03] WARNING: not removing hydrogen atom without neighbors\n",
      "[17:42:03] WARNING: not removing hydrogen atom without neighbors\n",
      "[17:42:03] WARNING: not removing hydrogen atom without neighbors\n",
      "[17:42:03] WARNING: not removing hydrogen atom without neighbors\n",
      "[17:42:03] WARNING: not removing hydrogen atom without neighbors\n",
      "[17:42:03] WARNING: not removing hydrogen atom without neighbors\n",
      "[17:42:03] WARNING: not removing hydrogen atom without neighbors\n",
      "[17:42:03] WARNING: not removing hydrogen atom without neighbors\n",
      " 65%|██████▍   | 2287/3538 [02:10<00:20, 60.77it/s][17:42:03] WARNING: not removing hydrogen atom without neighbors\n",
      "[17:42:03] WARNING: not removing hydrogen atom without neighbors\n",
      "[17:42:03] WARNING: not removing hydrogen atom without neighbors\n",
      "[17:42:03] WARNING: not removing hydrogen atom without neighbors\n",
      "[17:42:03] WARNING: not removing hydrogen atom without neighbors\n",
      "[17:42:03] WARNING: not removing hydrogen atom without neighbors\n",
      "[17:42:03] WARNING: not removing hydrogen atom without neighbors\n",
      "[17:42:03] WARNING: not removing hydrogen atom without neighbors\n",
      " 65%|██████▍   | 2295/3538 [02:10<00:19, 63.71it/s][17:42:03] WARNING: not removing hydrogen atom without neighbors\n",
      "[17:42:03] WARNING: not removing hydrogen atom without neighbors\n",
      "[17:42:03] WARNING: not removing hydrogen atom without neighbors\n",
      "[17:42:03] WARNING: not removing hydrogen atom without neighbors\n",
      "[17:42:03] WARNING: not removing hydrogen atom without neighbors\n",
      "[17:42:03] WARNING: not removing hydrogen atom without neighbors\n",
      " 65%|██████▌   | 2303/3538 [02:10<00:18, 66.94it/s][17:42:03] WARNING: not removing hydrogen atom without neighbors\n",
      "[17:42:03] WARNING: not removing hydrogen atom without neighbors\n",
      "[17:42:03] WARNING: not removing hydrogen atom without neighbors\n",
      "[17:42:03] WARNING: not removing hydrogen atom without neighbors\n",
      "[17:42:03] WARNING: not removing hydrogen atom without neighbors\n",
      "[17:42:03] WARNING: not removing hydrogen atom without neighbors\n",
      "[17:42:03] WARNING: not removing hydrogen atom without neighbors\n",
      "[17:42:03] WARNING: not removing hydrogen atom without neighbors\n",
      " 65%|██████▌   | 2311/3538 [02:10<00:17, 68.23it/s][17:42:03] WARNING: not removing hydrogen atom without neighbors\n",
      "[17:42:03] WARNING: not removing hydrogen atom without neighbors\n",
      "[17:42:03] WARNING: not removing hydrogen atom without neighbors\n",
      "[17:42:03] WARNING: not removing hydrogen atom without neighbors\n",
      "[17:42:03] WARNING: not removing hydrogen atom without neighbors\n",
      " 66%|██████▌   | 2319/3538 [02:10<00:17, 68.44it/s][17:42:03] WARNING: not removing hydrogen atom without neighbors\n",
      "[17:42:03] WARNING: not removing hydrogen atom without neighbors\n",
      "[17:42:03] WARNING: not removing hydrogen atom without neighbors\n",
      "[17:42:03] WARNING: not removing hydrogen atom without neighbors\n",
      "[17:42:03] WARNING: not removing hydrogen atom without neighbors\n",
      "[17:42:03] WARNING: not removing hydrogen atom without neighbors\n",
      "[17:42:03] WARNING: not removing hydrogen atom without neighbors\n",
      "[17:42:03] WARNING: not removing hydrogen atom without neighbors\n",
      " 66%|██████▌   | 2328/3538 [02:10<00:16, 71.76it/s][17:42:03] WARNING: not removing hydrogen atom without neighbors\n",
      "[17:42:03] WARNING: not removing hydrogen atom without neighbors\n",
      "[17:42:03] WARNING: not removing hydrogen atom without neighbors\n",
      "[17:42:03] WARNING: not removing hydrogen atom without neighbors\n",
      "[17:42:03] WARNING: not removing hydrogen atom without neighbors\n",
      "[17:42:03] Conflicting single bond directions around double bond at index 12.\n",
      "[17:42:03]   BondStereo set to STEREONONE and single bond directions set to NONE.\n",
      "[17:42:03] Conflicting single bond directions around double bond at index 17.\n",
      "[17:42:03]   BondStereo set to STEREONONE and single bond directions set to NONE.\n",
      "[17:42:03] Conflicting single bond directions around double bond at index 12.\n",
      "[17:42:03]   BondStereo set to STEREONONE and single bond directions set to NONE.\n",
      "[17:42:03] Conflicting single bond directions around double bond at index 17.\n",
      "[17:42:03]   BondStereo set to STEREONONE and single bond directions set to NONE.\n",
      "[17:42:03] Conflicting single bond directions around double bond at index 12.\n",
      "[17:42:03]   BondStereo set to STEREONONE and single bond directions set to NONE.\n",
      "[17:42:03] Conflicting single bond directions around double bond at index 17.\n",
      "[17:42:03]   BondStereo set to STEREONONE and single bond directions set to NONE.\n",
      "[17:42:03] WARNING: not removing hydrogen atom without neighbors\n",
      " 66%|██████▌   | 2336/3538 [02:10<00:16, 70.93it/s][17:42:03] WARNING: not removing hydrogen atom without neighbors\n",
      "[17:42:03] WARNING: not removing hydrogen atom without neighbors\n",
      "[17:42:03] WARNING: not removing hydrogen atom without neighbors\n",
      "[17:42:03] WARNING: not removing hydrogen atom without neighbors\n",
      "[17:42:03] WARNING: not removing hydrogen atom without neighbors\n",
      "[17:42:03] WARNING: not removing hydrogen atom without neighbors\n",
      "[17:42:03] WARNING: not removing hydrogen atom without neighbors\n",
      "[17:42:04] WARNING: not removing hydrogen atom without neighbors\n",
      " 66%|██████▋   | 2344/3538 [02:11<00:19, 59.87it/s][17:42:04] WARNING: not removing hydrogen atom without neighbors\n",
      "[17:42:04] WARNING: not removing hydrogen atom without neighbors\n",
      "[17:42:04] WARNING: not removing hydrogen atom without neighbors\n",
      "[17:42:04] WARNING: not removing hydrogen atom without neighbors\n",
      "[17:42:04] SMILES Parse Error: syntax error while parsing: C1([R4])(=C([R3])C(=O)C(/[R3])=C([R1])/C(=O)1)\n",
      "[17:42:04] SMILES Parse Error: Failed parsing SMILES 'C1([R4])(=C([R3])C(=O)C(/[R3])=C([R1])/C(=O)1)' for input: 'C1([R4])(=C([R3])C(=O)C(/[R3])=C([R1])/C(=O)1)'\n",
      "[17:42:04] SMILES Parse Error: syntax error while parsing: C1([R4])(=C([R3])C(=O)C(/[R3])=C([R1])/C(=O)1)\n",
      "[17:42:04] SMILES Parse Error: Failed parsing SMILES 'C1([R4])(=C([R3])C(=O)C(/[R3])=C([R1])/C(=O)1)' for input: 'C1([R4])(=C([R3])C(=O)C(/[R3])=C([R1])/C(=O)1)'\n",
      "[17:42:04] SMILES Parse Error: syntax error while parsing: C1([R4])(=C([R3])C(=O)C(/[R3])=C([R1])/C(=O)1)\n",
      "[17:42:04] SMILES Parse Error: Failed parsing SMILES 'C1([R4])(=C([R3])C(=O)C(/[R3])=C([R1])/C(=O)1)' for input: 'C1([R4])(=C([R3])C(=O)C(/[R3])=C([R1])/C(=O)1)'\n",
      " 66%|██████▋   | 2351/3538 [02:11<00:22, 52.34it/s][17:42:05] SMILES Parse Error: syntax error while parsing: CC[C@H](C)[C@H](NC(=O)[C@@H](N(C)C([C@@H](NC(=O)[C@@H]1(CCCN([a\n",
      "[17:42:05] SMILES Parse Error: Failed parsing SMILES 'CC[C@H](C)[C@H](NC(=O)[C@@H](N(C)C([C@@H](NC(=O)[C@@H]1(CCCN([a' for input: 'CC[C@H](C)[C@H](NC(=O)[C@@H](N(C)C([C@@H](NC(=O)[C@@H]1(CCCN([a'\n",
      "[17:42:05] WARNING: not removing hydrogen atom without neighbors\n",
      "[17:42:05] SMILES Parse Error: syntax error while parsing: C1(N([a\n",
      "[17:42:05] SMILES Parse Error: Failed parsing SMILES 'C1(N([a' for input: 'C1(N([a'\n",
      "[17:42:07] WARNING: not removing hydrogen atom without neighbors\n",
      "[17:42:07] WARNING: not removing hydrogen atom without neighbors\n",
      "[17:42:07] WARNING: not removing hydrogen atom without neighbors\n",
      "[17:42:07] WARNING: not removing hydrogen atom without neighbors\n",
      " 67%|██████▋   | 2357/3538 [02:14<02:49,  6.96it/s][17:42:07] WARNING: not removing hydrogen atom without neighbors\n",
      "[17:42:07] WARNING: not removing hydrogen atom without neighbors\n",
      "[17:42:07] WARNING: not removing hydrogen atom without neighbors\n",
      "[17:42:07] WARNING: not removing hydrogen atom without neighbors\n",
      "[17:42:07] WARNING: not removing hydrogen atom without neighbors\n",
      " 67%|██████▋   | 2364/3538 [02:14<02:05,  9.37it/s][17:42:07] WARNING: not removing hydrogen atom without neighbors\n",
      "[17:42:07] WARNING: not removing hydrogen atom without neighbors\n",
      "[17:42:07] WARNING: not removing hydrogen atom without neighbors\n",
      "[17:42:07] WARNING: not removing hydrogen atom without neighbors\n",
      "[17:42:07] WARNING: not removing hydrogen atom without neighbors\n",
      " 67%|██████▋   | 2370/3538 [02:14<01:37, 11.98it/s][17:42:07] WARNING: not removing hydrogen atom without neighbors\n",
      "[17:42:07] WARNING: not removing hydrogen atom without neighbors\n",
      "[17:42:07] WARNING: not removing hydrogen atom without neighbors\n",
      "[17:42:07] WARNING: not removing hydrogen atom without neighbors\n",
      "[17:42:07] WARNING: not removing hydrogen atom without neighbors\n",
      "[17:42:07] WARNING: not removing hydrogen atom without neighbors\n",
      "[17:42:07] WARNING: not removing hydrogen atom without neighbors\n",
      "[17:42:07] WARNING: not removing hydrogen atom without neighbors\n",
      " 67%|██████▋   | 2380/3538 [02:14<01:04, 18.09it/s][17:42:07] WARNING: not removing hydrogen atom without neighbors\n",
      "[17:42:07] WARNING: not removing hydrogen atom without neighbors\n",
      "[17:42:07] WARNING: not removing hydrogen atom without neighbors\n",
      "[17:42:07] WARNING: not removing hydrogen atom without neighbors\n",
      "[17:42:07] WARNING: not removing hydrogen atom without neighbors\n",
      "[17:42:07] WARNING: not removing hydrogen atom without neighbors\n",
      "[17:42:07] WARNING: not removing hydrogen atom without neighbors\n",
      "[17:42:07] WARNING: not removing hydrogen atom without neighbors\n",
      " 67%|██████▋   | 2388/3538 [02:14<00:48, 23.48it/s][17:42:07] WARNING: not removing hydrogen atom without neighbors\n",
      "[17:42:07] WARNING: not removing hydrogen atom without neighbors\n",
      "[17:42:07] WARNING: not removing hydrogen atom without neighbors\n",
      "[17:42:07] WARNING: not removing hydrogen atom without neighbors\n",
      "[17:42:07] WARNING: not removing hydrogen atom without neighbors\n",
      "[17:42:07] WARNING: not removing hydrogen atom without neighbors\n",
      "[17:42:07] WARNING: not removing hydrogen atom without neighbors\n",
      " 68%|██████▊   | 2396/3538 [02:14<00:38, 29.60it/s][17:42:07] WARNING: not removing hydrogen atom without neighbors\n",
      "[17:42:07] WARNING: not removing hydrogen atom without neighbors\n",
      "[17:42:07] SMILES Parse Error: syntax error while parsing: CC[C@H](C)[C@H](NC(=O)[C@H]2(\\N=C([C@@H](NC(=O)[C@H]1(\\N=C([C@H]([C@@H](C)CC)NC(=O)[C@H]([R1])N[a\n",
      "[17:42:07] SMILES Parse Error: Failed parsing SMILES 'CC[C@H](C)[C@H](NC(=O)[C@H]2(\\N=C([C@@H](NC(=O)[C@H]1(\\N=C([C@H]([C@@H](C)CC)NC(=O)[C@H]([R1])N[a' for input: 'CC[C@H](C)[C@H](NC(=O)[C@H]2(\\N=C([C@@H](NC(=O)[C@H]1(\\N=C([C@H]([C@@H](C)CC)NC(=O)[C@H]([R1])N[a'\n",
      "[17:42:07] SMILES Parse Error: syntax error while parsing: CC[C@H](C)[C@H](NC(=O)[C@H]2(\\N=C([C@@H](NC([C@H]1(\\N=C([C@H](C(C)C)NC(=O)[C@H]([R1])N[a\n",
      "[17:42:07] SMILES Parse Error: Failed parsing SMILES 'CC[C@H](C)[C@H](NC(=O)[C@H]2(\\N=C([C@@H](NC([C@H]1(\\N=C([C@H](C(C)C)NC(=O)[C@H]([R1])N[a' for input: 'CC[C@H](C)[C@H](NC(=O)[C@H]2(\\N=C([C@@H](NC([C@H]1(\\N=C([C@H](C(C)C)NC(=O)[C@H]([R1])N[a'\n",
      "[17:42:07] SMILES Parse Error: syntax error while parsing: CC[C@H](C)[C@H](NC(=O)[C@H]([R1])N[a\n",
      "[17:42:07] SMILES Parse Error: Failed parsing SMILES 'CC[C@H](C)[C@H](NC(=O)[C@H]([R1])N[a' for input: 'CC[C@H](C)[C@H](NC(=O)[C@H]([R1])N[a'\n",
      "[17:42:07] SMILES Parse Error: syntax error while parsing: CC[C@H](C)[C@H](NC(=O)[C@H]2(\\N=C([C@@H](NC([C@H]1(\\N=C([C@H](C(C)C)[NH3+])/O[C@H](C)1))=O)C)/SC2))C5(\\O[C@H](C)[C@@H](C(=O)N[C@@H](CC3(\\C=C/C=C\\C=3))C4(\\SC[C@H](\\N=4)C(=O)N[C@@H]([R2])C(=O)[a\n",
      "[17:42:07] SMILES Parse Error: Failed parsing SMILES 'CC[C@H](C)[C@H](NC(=O)[C@H]2(\\N=C([C@@H](NC([C@H]1(\\N=C([C@H](C(C)C)[NH3+])/O[C@H](C)1))=O)C)/SC2))C5(\\O[C@H](C)[C@@H](C(=O)N[C@@H](CC3(\\C=C/C=C\\C=3))C4(\\SC[C@H](\\N=4)C(=O)N[C@@H]([R2])C(=O)[a' for input: 'CC[C@H](C)[C@H](NC(=O)[C@H]2(\\N=C([C@@H](NC([C@H]1(\\N=C([C@H](C(C)C)[NH3+])/O[C@H](C)1))=O)C)/SC2))C5(\\O[C@H](C)[C@@H](C(=O)N[C@@H](CC3(\\C=C/C=C\\C=3))C4(\\SC[C@H](\\N=4)C(=O)N[C@@H]([R2])C(=O)[a'\n",
      "[17:42:07] SMILES Parse Error: syntax error while parsing: CC[C@H](C)[C@@H](C1(\\O[C@@H]([C@H](\\N=1)C(=O)N[C@@H](C(C)C)C2(\\SC[C@H](\\N=2)C(=O)N[C@@H]([C@@H](C)CC)C4(\\OC[C@@H](C(=O)N[C@@H](C(C)C)C3(\\SC[C@H](\\N=3)C(=O)N[C@@H]([R])C(=O)[a\n",
      "[17:42:07] SMILES Parse Error: Failed parsing SMILES 'CC[C@H](C)[C@@H](C1(\\O[C@@H]([C@H](\\N=1)C(=O)N[C@@H](C(C)C)C2(\\SC[C@H](\\N=2)C(=O)N[C@@H]([C@@H](C)CC)C4(\\OC[C@@H](C(=O)N[C@@H](C(C)C)C3(\\SC[C@H](\\N=3)C(=O)N[C@@H]([R])C(=O)[a' for input: 'CC[C@H](C)[C@@H](C1(\\O[C@@H]([C@H](\\N=1)C(=O)N[C@@H](C(C)C)C2(\\SC[C@H](\\N=2)C(=O)N[C@@H]([C@@H](C)CC)C4(\\OC[C@@H](C(=O)N[C@@H](C(C)C)C3(\\SC[C@H](\\N=3)C(=O)N[C@@H]([R])C(=O)[a'\n",
      "[17:42:07] WARNING: not removing hydrogen atom without neighbors\n",
      "[17:42:07] SMILES Parse Error: syntax error while parsing: CC[C@H](C)[C@H](NC(=O)[C@@H](NC(=O)[C@@H](NC(=O)[C@@H](NC(=O)[C@H](C(C)C)NC(=O)[C@H]([R1])N[a\n",
      "[17:42:07] SMILES Parse Error: Failed parsing SMILES 'CC[C@H](C)[C@H](NC(=O)[C@@H](NC(=O)[C@@H](NC(=O)[C@@H](NC(=O)[C@H](C(C)C)NC(=O)[C@H]([R1])N[a' for input: 'CC[C@H](C)[C@H](NC(=O)[C@@H](NC(=O)[C@@H](NC(=O)[C@@H](NC(=O)[C@H](C(C)C)NC(=O)[C@H]([R1])N[a'\n",
      "[17:42:09] WARNING: not removing hydrogen atom without neighbors\n",
      "[17:42:09] WARNING: not removing hydrogen atom without neighbors\n",
      "[17:42:09] WARNING: not removing hydrogen atom without neighbors\n",
      " 68%|██████▊   | 2403/3538 [02:17<02:00,  9.42it/s][17:42:09] WARNING: not removing hydrogen atom without neighbors\n",
      "[17:42:10] WARNING: not removing hydrogen atom without neighbors\n",
      "[17:42:10] WARNING: not removing hydrogen atom without neighbors\n",
      "[17:42:10] WARNING: not removing hydrogen atom without neighbors\n",
      "[17:42:10] WARNING: not removing hydrogen atom without neighbors\n",
      "[17:42:10] WARNING: not removing hydrogen atom without neighbors\n",
      "[17:42:10] WARNING: not removing hydrogen atom without neighbors\n",
      " 68%|██████▊   | 2411/3538 [02:17<01:27, 12.89it/s][17:42:10] WARNING: not removing hydrogen atom without neighbors\n",
      "[17:42:10] WARNING: not removing hydrogen atom without neighbors\n",
      "[17:42:10] WARNING: not removing hydrogen atom without neighbors\n",
      " 68%|██████▊   | 2417/3538 [02:17<01:10, 15.94it/s][17:42:10] WARNING: not removing hydrogen atom without neighbors\n",
      "[17:42:10] WARNING: not removing hydrogen atom without neighbors\n",
      "[17:42:10] WARNING: not removing hydrogen atom without neighbors\n",
      "[17:42:10] WARNING: not removing hydrogen atom without neighbors\n",
      "[17:42:10] WARNING: not removing hydrogen atom without neighbors\n",
      " 69%|██████▊   | 2430/3538 [02:17<00:43, 25.53it/s][17:42:10] WARNING: not removing hydrogen atom without neighbors\n",
      "[17:42:10] WARNING: not removing hydrogen atom without neighbors\n",
      "[17:42:10] SMILES Parse Error: syntax error while parsing: CC(C)=CCCC(\\C)=C/CCC(\\C)=C/CCC(/C)=C/CCC(/C)=C/CCC(/C)=C/CCC(/C)=C/CCC(/C)=C/CCC(/C)=C/CCC(/C)=C/CCC(/C)=C/COP(OP(O[C@H]2(O[C@H](CO)[C@@H](O[C@@H]1(O[C@H](CO)[C@@H](O[R])[C@H](O)[C@@H](NC(=O)C)1))[C@H](O[C@@H](C(=O)N[C@@H](C)C(N[C@H](CCC(=O)N[C@@H](CCC[C@H](C(=O)[O-])[NH3+])C([O-])=O)C(=O)[O-])=O)C)[C@@H](NC(=O)C)2))([O-])=O)(=O)[O-]\n",
      "[17:42:10] SMILES Parse Error: Failed parsing SMILES 'CC(C)=CCCC(\\C)=C/CCC(\\C)=C/CCC(/C)=C/CCC(/C)=C/CCC(/C)=C/CCC(/C)=C/CCC(/C)=C/CCC(/C)=C/CCC(/C)=C/CCC(/C)=C/COP(OP(O[C@H]2(O[C@H](CO)[C@@H](O[C@@H]1(O[C@H](CO)[C@@H](O[R])[C@H](O)[C@@H](NC(=O)C)1))[C@H](O[C@@H](C(=O)N[C@@H](C)C(N[C@H](CCC(=O)N[C@@H](CCC[C@H](C(=O)[O-])[NH3+])C([O-])=O)C(=O)[O-])=O)C)[C@@H](NC(=O)C)2))([O-])=O)(=O)[O-]' for input: 'CC(C)=CCCC(\\C)=C/CCC(\\C)=C/CCC(/C)=C/CCC(/C)=C/CCC(/C)=C/CCC(/C)=C/CCC(/C)=C/CCC(/C)=C/CCC(/C)=C/CCC(/C)=C/COP(OP(O[C@H]2(O[C@H](CO)[C@@H](O[C@@H]1(O[C@H](CO)[C@@H](O[R])[C@H](O)[C@@H](NC(=O)C)1))[C@H](O[C@@H](C(=O)N[C@@H](C)C(N[C@H](CCC(=O)N[C@@H](CCC[C@H](C(=O)[O-])[NH3+])C([O-])=O)C(=O)[O-])=O)C)[C@@H](NC(=O)C)2))([O-])=O)(=O)[O-]'\n",
      "[17:42:10] SMILES Parse Error: syntax error while parsing: C[C@H](NC([C@H](O[C@@H]2([C@@H](NC(=O)C)C3(OCC([C@@H](O[C@@H]1(O[C@H](CO)[C@@H](O[R])[C@H](O)[C@@H](NC(=O)C)1))2)O3)))C)=O)C(N[C@H](CCC(=O)N[C@@H](CCC[C@H](C(=O)[O-])[NH3+])C(N[C@H](C)C(=O)[O-])=O)C(=O)[O-])=O\n",
      "[17:42:10] SMILES Parse Error: Failed parsing SMILES 'C[C@H](NC([C@H](O[C@@H]2([C@@H](NC(=O)C)C3(OCC([C@@H](O[C@@H]1(O[C@H](CO)[C@@H](O[R])[C@H](O)[C@@H](NC(=O)C)1))2)O3)))C)=O)C(N[C@H](CCC(=O)N[C@@H](CCC[C@H](C(=O)[O-])[NH3+])C(N[C@H](C)C(=O)[O-])=O)C(=O)[O-])=O' for input: 'C[C@H](NC([C@H](O[C@@H]2([C@@H](NC(=O)C)C3(OCC([C@@H](O[C@@H]1(O[C@H](CO)[C@@H](O[R])[C@H](O)[C@@H](NC(=O)C)1))2)O3)))C)=O)C(N[C@H](CCC(=O)N[C@@H](CCC[C@H](C(=O)[O-])[NH3+])C(N[C@H](C)C(=O)[O-])=O)C(=O)[O-])=O'\n",
      "[17:42:10] SMILES Parse Error: syntax error while parsing: C[C@H](C(=O)N[C@H](C)C(=O)[O-])NC(=O)[C@H](CCC[C@H](C(=O)[O-])[NH3+])NC(=O)CC[C@@H](NC(=O)[C@@H](NC([C@H](O[C@@H]2([C@@H](NC(=O)C)C3(OCC([C@@H](O[C@@H]1(O[C@H](CO)[C@@H](O[R])[C@H](O)[C@@H](NC(=O)C)1))2)O3)))C)=O)C)C(=O)[O-]\n",
      "[17:42:10] SMILES Parse Error: syntax error while parsing: C[C@H](NC([C@H](O[C@@H]2([C@@H](NC(=O)C)C3(OCC([C@@H](O[C@@H]1(O[C@H](CO)[C@@H](O[R])[C@H](O)[C@@H](NC(=O)C)1))2)O3)))C)=O)C(N[C@H](CCC(=O)N[C@@H](CCC[C@H](C(=O)[O-])[NH3+])C(=O)NCC(=O)[O-])C(=O)[O-])=O\n",
      "[17:42:10] SMILES Parse Error: syntax error while parsing: CC(C)=CCCC(\\C)=C/CCC(\\C)=C/CCC(/C)=C/CCC(/C)=C/CCC(/C)=C/CCC(/C)=C/CCC(/C)=C/CCC(/C)=C/CCC(/C)=C/CCC(/C)=C/COP(OP(O[C@H]4(O[C@H](CO)[C@@H](O[C@@H]1(O[C@H](CO)[C@@H](O[R1])[C@H](O)[C@@H](NC(=O)C)1))[C@H](O[C@@H](C(=O)N[C@@H](C)C(N[C@H](CCC(=O)N[C@@H](CCC[C@@H](NC(=O)[C@@H](C)NC(=O)[C@H](CCC[C@H](C(=O)[O-])[NH3+])NC(=O)CC[C@@H](NC(=O)[C@@H](NC([C@H](O[C@@H]3([C@@H](NC(=O)C)[C@H](O[R3])O[C@H](CO)[C@@H](O[C@@H]2(O[C@H](CO)[C@@H](O[R2])[C@H](O)[C@@H](NC(=O)C)2))3))C)=O)C)C(=O)[O-])C(=O)[O-])C(N[C@H](C)C(=O)[O-])=O)C(=O)[O-])=O)C)[C@@H](NC(=O)C)4))([O-])=O)(=O)[O-]\n",
      "[17:42:10] SMILES Parse Error: Failed parsing SMILES 'C[C@H](NC([C@H](O[C@@H]2([C@@H](NC(=O)C)C3(OCC([C@@H](O[C@@H]1(O[C@H](CO)[C@@H](O[R])[C@H](O)[C@@H](NC(=O)C)1))2)O3)))C)=O)C(N[C@H](CCC(=O)N[C@@H](CCC[C@H](C(=O)[O-])[NH3+])C(=O)NCC(=O)[O-])C(=O)[O-])=O' for input: 'C[C@H](NC([C@H](O[C@@H]2([C@@H](NC(=O)C)C3(OCC([C@@H](O[C@@H]1(O[C@H](CO)[C@@H](O[R])[C@H](O)[C@@H](NC(=O)C)1))2)O3)))C)=O)C(N[C@H](CCC(=O)N[C@@H](CCC[C@H](C(=O)[O-])[NH3+])C(=O)NCC(=O)[O-])C(=O)[O-])=O'\n",
      "[17:42:10] SMILES Parse Error: Failed parsing SMILES 'CC(C)=CCCC(\\C)=C/CCC(\\C)=C/CCC(/C)=C/CCC(/C)=C/CCC(/C)=C/CCC(/C)=C/CCC(/C)=C/CCC(/C)=C/CCC(/C)=C/CCC(/C)=C/COP(OP(O[C@H]4(O[C@H](CO)[C@@H](O[C@@H]1(O[C@H](CO)[C@@H](O[R1])[C@H](O)[C@@H](NC(=O)C)1))[C@H](O[C@@H](C(=O)N[C@@H](C)C(N[C@H](CCC(=O)N[C@@H](CCC[C@@H](NC(=O)[C@@H](C)NC(=O)[C@H](CCC[C@H](C(=O)[O-])[NH3+])NC(=O)CC[C@@H](NC(=O)[C@@H](NC([C@H](O[C@@H]3([C@@H](NC(=O)C)[C@H](O[R3])O[C@H](CO)[C@@H](O[C@@H]2(O[C@H](CO)[C@@H](O[R2])[C@H](O)[C@@H](NC(=O)C)2))3))C)=O)C)C(=O)[O-])C(=O)[O-])C(N[C@H](C)C(=O)[O-])=O)C(=O)[O-])=O)C)[C@@H](NC(=O)C)4))([O-])=O)(=O)[O-]' for input: 'CC(C)=CCCC(\\C)=C/CCC(\\C)=C/CCC(/C)=C/CCC(/C)=C/CCC(/C)=C/CCC(/C)=C/CCC(/C)=C/CCC(/C)=C/CCC(/C)=C/CCC(/C)=C/COP(OP(O[C@H]4(O[C@H](CO)[C@@H](O[C@@H]1(O[C@H](CO)[C@@H](O[R1])[C@H](O)[C@@H](NC(=O)C)1))[C@H](O[C@@H](C(=O)N[C@@H](C)C(N[C@H](CCC(=O)N[C@@H](CCC[C@@H](NC(=O)[C@@H](C)NC(=O)[C@H](CCC[C@H](C(=O)[O-])[NH3+])NC(=O)CC[C@@H](NC(=O)[C@@H](NC([C@H](O[C@@H]3([C@@H](NC(=O)C)[C@H](O[R3])O[C@H](CO)[C@@H](O[C@@H]2(O[C@H](CO)[C@@H](O[R2])[C@H](O)[C@@H](NC(=O)C)2))3))C)=O)C)C(=O)[O-])C(=O)[O-])C(N[C@H](C)C(=O)[O-])=O)C(=O)[O-])=O)C)[C@@H](NC(=O)C)4))([O-])=O)(=O)[O-]'\n",
      "[17:42:10] SMILES Parse Error: syntax error while parsing: CC(C)=CCCC(\\C)=C/CCC(\\C)=C/CCC(/C)=C/CCC(/C)=C/CCC(/C)=C/CCC(/C)=C/CCC(/C)=C/CCC(/C)=C/CCC(/C)=C/CCC(/C)=C/COP(=O)(OP(O[C@H]4(O[C@H](CO)[C@@H](O[C@@H]1(O[C@H](CO)[C@@H](O[R1])[C@H](O)[C@@H](NC(=O)C)1))[C@H](O[C@@H](C(=O)N[C@@H](C)C(N[C@H](CCC(=O)N[C@@H](CCC[C@H](C(=O)[O-])[NH3+])C(N[C@H](CCC[C@@H](C(N[C@H](C)C(=O)[O-])=O)NC(=O)CC[C@@H](NC(=O)[C@@H](NC([C@H](O[C@@H]3([C@@H](NC(=O)C)[C@H](O[R3])O[C@H](CO)[C@@H](O[C@@H]2(O[C@H](CO)[C@@H](O[R2])[C@H](O)[C@@H](NC(=O)C)2))3))C)=O)C)C(=O)[O-])C(=O)[O-])=O)C(=O)[O-])=O)C)[C@@H](NC(=O)C)4))([O-])=O)[O-]\n",
      "[17:42:10] SMILES Parse Error: Failed parsing SMILES 'C[C@H](C(=O)N[C@H](C)C(=O)[O-])NC(=O)[C@H](CCC[C@H](C(=O)[O-])[NH3+])NC(=O)CC[C@@H](NC(=O)[C@@H](NC([C@H](O[C@@H]2([C@@H](NC(=O)C)C3(OCC([C@@H](O[C@@H]1(O[C@H](CO)[C@@H](O[R])[C@H](O)[C@@H](NC(=O)C)1))2)O3)))C)=O)C)C(=O)[O-]' for input: 'C[C@H](C(=O)N[C@H](C)C(=O)[O-])NC(=O)[C@H](CCC[C@H](C(=O)[O-])[NH3+])NC(=O)CC[C@@H](NC(=O)[C@@H](NC([C@H](O[C@@H]2([C@@H](NC(=O)C)C3(OCC([C@@H](O[C@@H]1(O[C@H](CO)[C@@H](O[R])[C@H](O)[C@@H](NC(=O)C)1))2)O3)))C)=O)C)C(=O)[O-]'\n",
      "[17:42:10] SMILES Parse Error: syntax error while parsing: C[C@H](NC([C@H](O[C@@H]2([C@@H](NC(=O)C)[C@H](O[R3])O[C@H](CO)[C@@H](O[C@@H]1(O[C@H](CO)[C@@H](O[R2])[C@H](O)[C@@H](NC(=O)C)1))2))C)=O)C(N[C@H](CCC(=O)N[C@@H](CCC[C@@H](NC(=O)[C@H](CCC[C@H](C(=O)[O-])[NH3+])NC(=O)CC[C@@H](NC(=O)[C@@H](NC([C@H](O[C@@H]4([C@@H](NC(=O)C)C5(OCC([C@@H](O[C@@H]3(O[C@H](CO)[C@@H](O[R1])[C@H](O)[C@@H](NC(=O)C)3))4)O5)))C)=O)C)C(=O)[O-])C(=O)[O-])C(N[C@H](C)C(=O)[O-])=O)C(=O)[O-])=O\n",
      "[17:42:10] SMILES Parse Error: Failed parsing SMILES 'CC(C)=CCCC(\\C)=C/CCC(\\C)=C/CCC(/C)=C/CCC(/C)=C/CCC(/C)=C/CCC(/C)=C/CCC(/C)=C/CCC(/C)=C/CCC(/C)=C/CCC(/C)=C/COP(=O)(OP(O[C@H]4(O[C@H](CO)[C@@H](O[C@@H]1(O[C@H](CO)[C@@H](O[R1])[C@H](O)[C@@H](NC(=O)C)1))[C@H](O[C@@H](C(=O)N[C@@H](C)C(N[C@H](CCC(=O)N[C@@H](CCC[C@H](C(=O)[O-])[NH3+])C(N[C@H](CCC[C@@H](C(N[C@H](C)C(=O)[O-])=O)NC(=O)CC[C@@H](NC(=O)[C@@H](NC([C@H](O[C@@H]3([C@@H](NC(=O)C)[C@H](O[R3])O[C@H](CO)[C@@H](O[C@@H]2(O[C@H](CO)[C@@H](O[R2])[C@H](O)[C@@H](NC(=O)C)2))3))C)=O)C)C(=O)[O-])C(=O)[O-])=O)C(=O)[O-])=O)C)[C@@H](NC(=O)C)4))([O-])=O)[O-]' for input: 'CC(C)=CCCC(\\C)=C/CCC(\\C)=C/CCC(/C)=C/CCC(/C)=C/CCC(/C)=C/CCC(/C)=C/CCC(/C)=C/CCC(/C)=C/CCC(/C)=C/CCC(/C)=C/COP(=O)(OP(O[C@H]4(O[C@H](CO)[C@@H](O[C@@H]1(O[C@H](CO)[C@@H](O[R1])[C@H](O)[C@@H](NC(=O)C)1))[C@H](O[C@@H](C(=O)N[C@@H](C)C(N[C@H](CCC(=O)N[C@@H](CCC[C@H](C(=O)[O-])[NH3+])C(N[C@H](CCC[C@@H](C(N[C@H](C)C(=O)[O-])=O)NC(=O)CC[C@@H](NC(=O)[C@@H](NC([C@H](O[C@@H]3([C@@H](NC(=O)C)[C@H](O[R3])O[C@H](CO)[C@@H](O[C@@H]2(O[C@H](CO)[C@@H](O[R2])[C@H](O)[C@@H](NC(=O)C)2))3))C)=O)C)C(=O)[O-])C(=O)[O-])=O)C(=O)[O-])=O)C)[C@@H](NC(=O)C)4))([O-])=O)[O-]'\n",
      "[17:42:10] SMILES Parse Error: Failed parsing SMILES 'C[C@H](NC([C@H](O[C@@H]2([C@@H](NC(=O)C)[C@H](O[R3])O[C@H](CO)[C@@H](O[C@@H]1(O[C@H](CO)[C@@H](O[R2])[C@H](O)[C@@H](NC(=O)C)1))2))C)=O)C(N[C@H](CCC(=O)N[C@@H](CCC[C@@H](NC(=O)[C@H](CCC[C@H](C(=O)[O-])[NH3+])NC(=O)CC[C@@H](NC(=O)[C@@H](NC([C@H](O[C@@H]4([C@@H](NC(=O)C)C5(OCC([C@@H](O[C@@H]3(O[C@H](CO)[C@@H](O[R1])[C@H](O)[C@@H](NC(=O)C)3))4)O5)))C)=O)C)C(=O)[O-])C(=O)[O-])C(N[C@H](C)C(=O)[O-])=O)C(=O)[O-])=O' for input: 'C[C@H](NC([C@H](O[C@@H]2([C@@H](NC(=O)C)[C@H](O[R3])O[C@H](CO)[C@@H](O[C@@H]1(O[C@H](CO)[C@@H](O[R2])[C@H](O)[C@@H](NC(=O)C)1))2))C)=O)C(N[C@H](CCC(=O)N[C@@H](CCC[C@@H](NC(=O)[C@H](CCC[C@H](C(=O)[O-])[NH3+])NC(=O)CC[C@@H](NC(=O)[C@@H](NC([C@H](O[C@@H]4([C@@H](NC(=O)C)C5(OCC([C@@H](O[C@@H]3(O[C@H](CO)[C@@H](O[R1])[C@H](O)[C@@H](NC(=O)C)3))4)O5)))C)=O)C)C(=O)[O-])C(=O)[O-])C(N[C@H](C)C(=O)[O-])=O)C(=O)[O-])=O'\n",
      "[17:42:10] WARNING: not removing hydrogen atom without neighbors\n",
      "[17:42:10] SMILES Parse Error: syntax error while parsing: CC(C)=CCCC(\\C)=C/CCC(\\C)=C/CCC(/C)=C/CCC(/C)=C/CCC(/C)=C/CCC(/C)=C/CCC(/C)=C/CCC(/C)=C/CCC(/C)=C/CCC(/C)=C/COP(OP(O[C@H]2(O[C@H](CO)[C@@H](O[C@@H]1(O[C@H](CO)[C@@H](O[R])[C@H](O)[C@@H](NC(=O)C)1))[C@H](O[C@@H](C(=O)N[C@@H](C)C(N[C@H](CCC(=O)N[C@@H](CCC[C@H](C(=O)[O-])[NH3+])C(NCC(=O)[O-])=O)C(=O)[O-])=O)C)[C@@H](NC(=O)C)2))([O-])=O)(=O)[O-]\n",
      "[17:42:10] SMILES Parse Error: syntax error while parsing: C[C@H](NC([C@H](O[C@@H]2([C@@H](NC(=O)C)C3(OCC([C@@H](O[C@@H]1(O[C@H](CO)[C@@H](O[R])[C@H](O)[C@@H](NC(=O)C)1))2)O3)))C)=O)C(N[C@H](CCC(=O)N[C@@H](CCC[C@H](C(=O)[O-])[NH3+])C(=O)[O-])C(=O)[O-])=O\n",
      "[17:42:10] SMILES Parse Error: Failed parsing SMILES 'C[C@H](NC([C@H](O[C@@H]2([C@@H](NC(=O)C)C3(OCC([C@@H](O[C@@H]1(O[C@H](CO)[C@@H](O[R])[C@H](O)[C@@H](NC(=O)C)1))2)O3)))C)=O)C(N[C@H](CCC(=O)N[C@@H](CCC[C@H](C(=O)[O-])[NH3+])C(=O)[O-])C(=O)[O-])=O' for input: 'C[C@H](NC([C@H](O[C@@H]2([C@@H](NC(=O)C)C3(OCC([C@@H](O[C@@H]1(O[C@H](CO)[C@@H](O[R])[C@H](O)[C@@H](NC(=O)C)1))2)O3)))C)=O)C(N[C@H](CCC(=O)N[C@@H](CCC[C@H](C(=O)[O-])[NH3+])C(=O)[O-])C(=O)[O-])=O'\n",
      "[17:42:10] SMILES Parse Error: syntax error while parsing: C[C@H](NC([C@H](O[C@@H]2([C@@H](NC(=O)C)[C@H](O[R3])O[C@H](CO)[C@@H](O[C@@H]1(O[C@H](CO)[C@@H](O[R2])[C@H](O)[C@@H](NC(=O)C)1))2))C)=O)C(N[C@H](CCC(=O)N[C@@H](CCC[C@H](C(=O)[O-])[NH3+])C(N[C@H](C)C(=O)N[C@H](CCC[C@@H](C(N[C@H](C)C(=O)[O-])=O)NC(=O)CC[C@@H](NC(=O)[C@@H](NC([C@H](O[C@@H]5([C@H](C3(OCC(O3)[C@@H](O[C@@H]4(O[C@H](CO)[C@@H](O[R1])[C@H](O)[C@@H](NC(=O)C)4))5))NC(=O)C))C)=O)C)C(=O)[O-])C(=O)[O-])=O)C(=O)[O-])=O\n",
      "[17:42:10] SMILES Parse Error: Failed parsing SMILES 'CC(C)=CCCC(\\C)=C/CCC(\\C)=C/CCC(/C)=C/CCC(/C)=C/CCC(/C)=C/CCC(/C)=C/CCC(/C)=C/CCC(/C)=C/CCC(/C)=C/CCC(/C)=C/COP(OP(O[C@H]2(O[C@H](CO)[C@@H](O[C@@H]1(O[C@H](CO)[C@@H](O[R])[C@H](O)[C@@H](NC(=O)C)1))[C@H](O[C@@H](C(=O)N[C@@H](C)C(N[C@H](CCC(=O)N[C@@H](CCC[C@H](C(=O)[O-])[NH3+])C(NCC(=O)[O-])=O)C(=O)[O-])=O)C)[C@@H](NC(=O)C)2))([O-])=O)(=O)[O-]' for input: 'CC(C)=CCCC(\\C)=C/CCC(\\C)=C/CCC(/C)=C/CCC(/C)=C/CCC(/C)=C/CCC(/C)=C/CCC(/C)=C/CCC(/C)=C/CCC(/C)=C/CCC(/C)=C/COP(OP(O[C@H]2(O[C@H](CO)[C@@H](O[C@@H]1(O[C@H](CO)[C@@H](O[R])[C@H](O)[C@@H](NC(=O)C)1))[C@H](O[C@@H](C(=O)N[C@@H](C)C(N[C@H](CCC(=O)N[C@@H](CCC[C@H](C(=O)[O-])[NH3+])C(NCC(=O)[O-])=O)C(=O)[O-])=O)C)[C@@H](NC(=O)C)2))([O-])=O)(=O)[O-]'\n",
      "[17:42:10] SMILES Parse Error: Failed parsing SMILES 'C[C@H](NC([C@H](O[C@@H]2([C@@H](NC(=O)C)[C@H](O[R3])O[C@H](CO)[C@@H](O[C@@H]1(O[C@H](CO)[C@@H](O[R2])[C@H](O)[C@@H](NC(=O)C)1))2))C)=O)C(N[C@H](CCC(=O)N[C@@H](CCC[C@H](C(=O)[O-])[NH3+])C(N[C@H](C)C(=O)N[C@H](CCC[C@@H](C(N[C@H](C)C(=O)[O-])=O)NC(=O)CC[C@@H](NC(=O)[C@@H](NC([C@H](O[C@@H]5([C@H](C3(OCC(O3)[C@@H](O[C@@H]4(O[C@H](CO)[C@@H](O[R1])[C@H](O)[C@@H](NC(=O)C)4))5))NC(=O)C))C)=O)C)C(=O)[O-])C(=O)[O-])=O)C(=O)[O-])=O' for input: 'C[C@H](NC([C@H](O[C@@H]2([C@@H](NC(=O)C)[C@H](O[R3])O[C@H](CO)[C@@H](O[C@@H]1(O[C@H](CO)[C@@H](O[R2])[C@H](O)[C@@H](NC(=O)C)1))2))C)=O)C(N[C@H](CCC(=O)N[C@@H](CCC[C@H](C(=O)[O-])[NH3+])C(N[C@H](C)C(=O)N[C@H](CCC[C@@H](C(N[C@H](C)C(=O)[O-])=O)NC(=O)CC[C@@H](NC(=O)[C@@H](NC([C@H](O[C@@H]5([C@H](C3(OCC(O3)[C@@H](O[C@@H]4(O[C@H](CO)[C@@H](O[R1])[C@H](O)[C@@H](NC(=O)C)4))5))NC(=O)C))C)=O)C)C(=O)[O-])C(=O)[O-])=O)C(=O)[O-])=O'\n",
      "[17:42:11] WARNING: not removing hydrogen atom without neighbors\n",
      "[17:42:11] WARNING: not removing hydrogen atom without neighbors\n",
      "[17:42:11] WARNING: not removing hydrogen atom without neighbors\n",
      " 69%|██████▉   | 2438/3538 [02:18<01:28, 12.41it/s][17:42:11] WARNING: not removing hydrogen atom without neighbors\n",
      "[17:42:11] WARNING: not removing hydrogen atom without neighbors\n",
      "[17:42:11] WARNING: not removing hydrogen atom without neighbors\n",
      "[17:42:11] WARNING: not removing hydrogen atom without neighbors\n",
      "[17:42:11] WARNING: not removing hydrogen atom without neighbors\n",
      "[17:42:11] WARNING: not removing hydrogen atom without neighbors\n",
      "[17:42:11] WARNING: not removing hydrogen atom without neighbors\n",
      " 69%|██████▉   | 2448/3538 [02:18<01:02, 17.37it/s][17:42:11] WARNING: not removing hydrogen atom without neighbors\n",
      "[17:42:11] WARNING: not removing hydrogen atom without neighbors\n",
      "[17:42:11] WARNING: not removing hydrogen atom without neighbors\n",
      "[17:42:11] WARNING: not removing hydrogen atom without neighbors\n",
      "[17:42:11] WARNING: not removing hydrogen atom without neighbors\n",
      "[17:42:12] WARNING: not removing hydrogen atom without neighbors\n",
      "[17:42:12] WARNING: not removing hydrogen atom without neighbors\n",
      " 69%|██████▉   | 2456/3538 [02:19<00:49, 21.97it/s][17:42:12] WARNING: not removing hydrogen atom without neighbors\n",
      "[17:42:12] WARNING: not removing hydrogen atom without neighbors\n",
      "[17:42:12] WARNING: not removing hydrogen atom without neighbors\n",
      "[17:42:12] WARNING: not removing hydrogen atom without neighbors\n",
      "[17:42:12] WARNING: not removing hydrogen atom without neighbors\n",
      "[17:42:12] WARNING: not removing hydrogen atom without neighbors\n",
      "[17:42:12] WARNING: not removing hydrogen atom without neighbors\n",
      " 70%|██████▉   | 2464/3538 [02:19<00:39, 27.30it/s][17:42:12] WARNING: not removing hydrogen atom without neighbors\n",
      "[17:42:12] WARNING: not removing hydrogen atom without neighbors\n",
      "[17:42:12] WARNING: not removing hydrogen atom without neighbors\n",
      "[17:42:12] WARNING: not removing hydrogen atom without neighbors\n",
      "[17:42:12] WARNING: not removing hydrogen atom without neighbors\n",
      "[17:42:12] WARNING: not removing hydrogen atom without neighbors\n",
      " 70%|██████▉   | 2471/3538 [02:19<00:32, 32.42it/s][17:42:12] WARNING: not removing hydrogen atom without neighbors\n",
      "[17:42:12] WARNING: not removing hydrogen atom without neighbors\n",
      "[17:42:12] WARNING: not removing hydrogen atom without neighbors\n",
      "[17:42:12] WARNING: not removing hydrogen atom without neighbors\n",
      "[17:42:12] WARNING: not removing hydrogen atom without neighbors\n",
      "[17:42:12] WARNING: not removing hydrogen atom without neighbors\n",
      "[17:42:12] WARNING: not removing hydrogen atom without neighbors\n",
      " 70%|███████   | 2479/3538 [02:19<00:27, 38.69it/s][17:42:12] WARNING: not removing hydrogen atom without neighbors\n",
      "[17:42:12] WARNING: not removing hydrogen atom without neighbors\n",
      "[17:42:12] WARNING: not removing hydrogen atom without neighbors\n",
      "[17:42:12] WARNING: not removing hydrogen atom without neighbors\n",
      "[17:42:12] WARNING: not removing hydrogen atom without neighbors\n",
      " 70%|███████   | 2489/3538 [02:19<00:21, 47.99it/s][17:42:12] WARNING: not removing hydrogen atom without neighbors\n",
      "[17:42:12] WARNING: not removing hydrogen atom without neighbors\n",
      "[17:42:12] WARNING: not removing hydrogen atom without neighbors\n",
      "[17:42:12] WARNING: not removing hydrogen atom without neighbors\n",
      "[17:42:12] WARNING: not removing hydrogen atom without neighbors\n",
      "[17:42:12] WARNING: not removing hydrogen atom without neighbors\n",
      "[17:42:12] WARNING: not removing hydrogen atom without neighbors\n",
      "[17:42:12] WARNING: not removing hydrogen atom without neighbors\n",
      " 71%|███████   | 2497/3538 [02:19<00:19, 52.32it/s][17:42:12] WARNING: not removing hydrogen atom without neighbors\n",
      "[17:42:12] WARNING: not removing hydrogen atom without neighbors\n",
      "[17:42:12] WARNING: not removing hydrogen atom without neighbors\n",
      "[17:42:12] WARNING: not removing hydrogen atom without neighbors\n",
      "[17:42:12] WARNING: not removing hydrogen atom without neighbors\n",
      "[17:42:12] WARNING: not removing hydrogen atom without neighbors\n",
      "[17:42:12] WARNING: not removing hydrogen atom without neighbors\n",
      "[17:42:12] WARNING: not removing hydrogen atom without neighbors\n",
      " 71%|███████   | 2506/3538 [02:19<00:17, 58.62it/s][17:42:12] WARNING: not removing hydrogen atom without neighbors\n",
      "[17:42:12] WARNING: not removing hydrogen atom without neighbors\n",
      "[17:42:12] WARNING: not removing hydrogen atom without neighbors\n",
      "[17:42:12] WARNING: not removing hydrogen atom without neighbors\n",
      "[17:42:12] WARNING: not removing hydrogen atom without neighbors\n",
      "[17:42:12] WARNING: not removing hydrogen atom without neighbors\n",
      "[17:42:12] WARNING: not removing hydrogen atom without neighbors\n",
      " 71%|███████   | 2514/3538 [02:19<00:16, 61.10it/s][17:42:12] WARNING: not removing hydrogen atom without neighbors\n",
      "[17:42:12] WARNING: not removing hydrogen atom without neighbors\n",
      "[17:42:12] WARNING: not removing hydrogen atom without neighbors\n",
      "[17:42:12] WARNING: not removing hydrogen atom without neighbors\n",
      "[17:42:12] WARNING: not removing hydrogen atom without neighbors\n",
      " 71%|███████▏  | 2522/3538 [02:20<00:15, 63.77it/s][17:42:12] WARNING: not removing hydrogen atom without neighbors\n",
      "[17:42:12] WARNING: not removing hydrogen atom without neighbors\n",
      "[17:42:12] WARNING: not removing hydrogen atom without neighbors\n",
      "[17:42:12] WARNING: not removing hydrogen atom without neighbors\n",
      "[17:42:12] WARNING: not removing hydrogen atom without neighbors\n",
      "[17:42:13] WARNING: not removing hydrogen atom without neighbors\n",
      "[17:42:13] WARNING: not removing hydrogen atom without neighbors\n",
      "[17:42:13] WARNING: not removing hydrogen atom without neighbors\n",
      " 72%|███████▏  | 2530/3538 [02:20<00:15, 66.90it/s][17:42:13] WARNING: not removing hydrogen atom without neighbors\n",
      "[17:42:13] WARNING: not removing hydrogen atom without neighbors\n",
      "[17:42:13] WARNING: not removing hydrogen atom without neighbors\n",
      "[17:42:13] WARNING: not removing hydrogen atom without neighbors\n",
      "[17:42:13] WARNING: not removing hydrogen atom without neighbors\n",
      "[17:42:13] WARNING: not removing hydrogen atom without neighbors\n",
      "[17:42:13] WARNING: not removing hydrogen atom without neighbors\n",
      " 72%|███████▏  | 2539/3538 [02:20<00:14, 71.21it/s][17:42:13] WARNING: not removing hydrogen atom without neighbors\n",
      "[17:42:13] WARNING: not removing hydrogen atom without neighbors\n",
      "[17:42:13] WARNING: not removing hydrogen atom without neighbors\n",
      "[17:42:13] WARNING: not removing hydrogen atom without neighbors\n",
      "[17:42:13] WARNING: not removing hydrogen atom without neighbors\n",
      "[17:42:13] WARNING: not removing hydrogen atom without neighbors\n",
      "[17:42:13] WARNING: not removing hydrogen atom without neighbors\n",
      "[17:42:13] SMILES Parse Error: syntax error while parsing: CC(C)=CCCC(\\C)=C/CCC(\\C)=C/CCC(/C)=C/CCC(/C)=C/CCC(/C)=C/CCC(/C)=C/CCC(/C)=C/CCC(/C)=C/CCC(/C)=C/CCC(/C)=C/COP(OP(O[C@H]2(O[C@H](CO)[C@@H](O[C@@H]1(O[C@H](CO)[C@@H](O)[C@H](O)[C@@H](NC(=O)C)1))[C@H](O[C@@H](C(=O)N[C@@H](C)C(N[C@H](CCC(=O)N[C@@H](CCC[C@H](C([O-])=O)NC(=O)CC[C@H](C(=O)[O-])NC(=O)CCC(C(=O)[O-])[R])C(N[C@H](C)C(=O)N[C@H](C)C(=O)[O-])=O)C(=O)N)=O)C)[C@@H](NC(=O)C)2))([O-])=O)(=O)[O-]\n",
      "[17:42:13] SMILES Parse Error: Failed parsing SMILES 'CC(C)=CCCC(\\C)=C/CCC(\\C)=C/CCC(/C)=C/CCC(/C)=C/CCC(/C)=C/CCC(/C)=C/CCC(/C)=C/CCC(/C)=C/CCC(/C)=C/CCC(/C)=C/COP(OP(O[C@H]2(O[C@H](CO)[C@@H](O[C@@H]1(O[C@H](CO)[C@@H](O)[C@H](O)[C@@H](NC(=O)C)1))[C@H](O[C@@H](C(=O)N[C@@H](C)C(N[C@H](CCC(=O)N[C@@H](CCC[C@H](C([O-])=O)NC(=O)CC[C@H](C(=O)[O-])NC(=O)CCC(C(=O)[O-])[R])C(N[C@H](C)C(=O)N[C@H](C)C(=O)[O-])=O)C(=O)N)=O)C)[C@@H](NC(=O)C)2))([O-])=O)(=O)[O-]' for input: 'CC(C)=CCCC(\\C)=C/CCC(\\C)=C/CCC(/C)=C/CCC(/C)=C/CCC(/C)=C/CCC(/C)=C/CCC(/C)=C/CCC(/C)=C/CCC(/C)=C/CCC(/C)=C/COP(OP(O[C@H]2(O[C@H](CO)[C@@H](O[C@@H]1(O[C@H](CO)[C@@H](O)[C@H](O)[C@@H](NC(=O)C)1))[C@H](O[C@@H](C(=O)N[C@@H](C)C(N[C@H](CCC(=O)N[C@@H](CCC[C@H](C([O-])=O)NC(=O)CC[C@H](C(=O)[O-])NC(=O)CCC(C(=O)[O-])[R])C(N[C@H](C)C(=O)N[C@H](C)C(=O)[O-])=O)C(=O)N)=O)C)[C@@H](NC(=O)C)2))([O-])=O)(=O)[O-]'\n",
      " 72%|███████▏  | 2547/3538 [02:20<00:16, 60.48it/s][17:42:14] WARNING: not removing hydrogen atom without neighbors\n",
      "[17:42:14] WARNING: not removing hydrogen atom without neighbors\n",
      "[17:42:14] WARNING: not removing hydrogen atom without neighbors\n",
      "[17:42:14] WARNING: not removing hydrogen atom without neighbors\n",
      "[17:42:14] WARNING: not removing hydrogen atom without neighbors\n",
      "[17:42:14] WARNING: not removing hydrogen atom without neighbors\n",
      "[17:42:14] SMILES Parse Error: syntax error while parsing: C(O[R1])COC(=O)C2(\\C=C/C(/C(=O)OCCOC(=O)C1(\\C=C/C(/C(O[R2])=O)=C\\C=1))=C\\C=2)\n",
      "[17:42:14] SMILES Parse Error: Failed parsing SMILES 'C(O[R1])COC(=O)C2(\\C=C/C(/C(=O)OCCOC(=O)C1(\\C=C/C(/C(O[R2])=O)=C\\C=1))=C\\C=2)' for input: 'C(O[R1])COC(=O)C2(\\C=C/C(/C(=O)OCCOC(=O)C1(\\C=C/C(/C(O[R2])=O)=C\\C=1))=C\\C=2)'\n",
      " 72%|███████▏  | 2554/3538 [02:22<01:12, 13.55it/s][17:42:16] WARNING: not removing hydrogen atom without neighbors\n",
      "[17:42:16] WARNING: not removing hydrogen atom without neighbors\n",
      " 72%|███████▏  | 2559/3538 [02:23<01:52,  8.69it/s][17:42:16] WARNING: not removing hydrogen atom without neighbors\n",
      "[17:42:16] WARNING: not removing hydrogen atom without neighbors\n",
      "[17:42:16] WARNING: not removing hydrogen atom without neighbors\n",
      "[17:42:16] WARNING: not removing hydrogen atom without neighbors\n",
      "[17:42:16] WARNING: not removing hydrogen atom without neighbors\n",
      "[17:42:16] WARNING: not removing hydrogen atom without neighbors\n",
      " 73%|███████▎  | 2566/3538 [02:23<01:22, 11.75it/s][17:42:16] WARNING: not removing hydrogen atom without neighbors\n",
      "[17:42:16] WARNING: not removing hydrogen atom without neighbors\n",
      "[17:42:16] WARNING: not removing hydrogen atom without neighbors\n",
      "[17:42:16] SMILES Parse Error: syntax error while parsing: CC(C)=CCCC(\\C)=C/CCC(\\C)=C/CCC(/C)=C/CCC(/C)=C/CCC(/C)=C/CCC(/C)=C/CCC(/C)=C/CCC(/C)=C/CCC(/C)=C/CCC(/C)=C/COP(=O)([O-])OP(O[C@@H]1([C@@H]([C@H]([C@H]([C@H](O1)CO)O)O[C@H]2([C@@H]([C@@H]([C@H]([C@@H](O2)C)O[C@@H]3([C@@H]([C@H]([C@@H]([C@H](O3)CO[C@@H]4([C@@H]([C@H]([C@H]([C@H](O4)CO)O)O[C@H]5([C@@H]([C@H]([C@H]([C@H](O5)CO)O)O[C@H]6([C@@H]([C@@H]([C@H]([C@@H](O6)C)O[C@@H]7([C@@H]([C@H]([C@@H]([C@H](O7)CO[C@@H]8([C@@H]([C@H]([C@H]([C@H](O8)CO)O)O[C@H]9([C@@H]([C@H]([C@H]([C@H](O9)CO)O)O[C@H]%10([C@@H]([C@@H]([C@H]([C@@H](O%10)C)O[C@@H]%11([C@@H]([C@H]([C@@H]([C@H](O%11)CO[C@@H]%12([C@@H]([C@H]([C@H]([C@H](O%12)CO)O)O[R])O))O)O)O))O)O))O))O))O)O)O))O)O))O))O))O)O)O))O)O))O))([O-])=O\n",
      "[17:42:16] SMILES Parse Error: Failed parsing SMILES 'CC(C)=CCCC(\\C)=C/CCC(\\C)=C/CCC(/C)=C/CCC(/C)=C/CCC(/C)=C/CCC(/C)=C/CCC(/C)=C/CCC(/C)=C/CCC(/C)=C/CCC(/C)=C/COP(=O)([O-])OP(O[C@@H]1([C@@H]([C@H]([C@H]([C@H](O1)CO)O)O[C@H]2([C@@H]([C@@H]([C@H]([C@@H](O2)C)O[C@@H]3([C@@H]([C@H]([C@@H]([C@H](O3)CO[C@@H]4([C@@H]([C@H]([C@H]([C@H](O4)CO)O)O[C@H]5([C@@H]([C@H]([C@H]([C@H](O5)CO)O)O[C@H]6([C@@H]([C@@H]([C@H]([C@@H](O6)C)O[C@@H]7([C@@H]([C@H]([C@@H]([C@H](O7)CO[C@@H]8([C@@H]([C@H]([C@H]([C@H](O8)CO)O)O[C@H]9([C@@H]([C@H]([C@H]([C@H](O9)CO)O)O[C@H]%10([C@@H]([C@@H]([C@H]([C@@H](O%10)C)O[C@@H]%11([C@@H]([C@H]([C@@H]([C@H](O%11)CO[C@@H]%12([C@@H]([C@H]([C@H]([C@H](O%12)CO)O)O[R])O))O)O)O))O)O))O))O))O)O)O))O)O))O))O))O)O)O))O)O))O))([O-])=O' for input: 'CC(C)=CCCC(\\C)=C/CCC(\\C)=C/CCC(/C)=C/CCC(/C)=C/CCC(/C)=C/CCC(/C)=C/CCC(/C)=C/CCC(/C)=C/CCC(/C)=C/CCC(/C)=C/COP(=O)([O-])OP(O[C@@H]1([C@@H]([C@H]([C@H]([C@H](O1)CO)O)O[C@H]2([C@@H]([C@@H]([C@H]([C@@H](O2)C)O[C@@H]3([C@@H]([C@H]([C@@H]([C@H](O3)CO[C@@H]4([C@@H]([C@H]([C@H]([C@H](O4)CO)O)O[C@H]5([C@@H]([C@H]([C@H]([C@H](O5)CO)O)O[C@H]6([C@@H]([C@@H]([C@H]([C@@H](O6)C)O[C@@H]7([C@@H]([C@H]([C@@H]([C@H](O7)CO[C@@H]8([C@@H]([C@H]([C@H]([C@H](O8)CO)O)O[C@H]9([C@@H]([C@H]([C@H]([C@H](O9)CO)O)O[C@H]%10([C@@H]([C@@H]([C@H]([C@@H](O%10)C)O[C@@H]%11([C@@H]([C@H]([C@@H]([C@H](O%11)CO[C@@H]%12([C@@H]([C@H]([C@H]([C@H](O%12)CO)O)O[R])O))O)O)O))O)O))O))O))O)O)O))O)O))O))O))O)O)O))O)O))O))([O-])=O'\n",
      "[17:42:16] SMILES Parse Error: syntax error while parsing: CCCCCCCCCCCCCCCC(O[C@H](CCCCCCCCCCCC(C)C)CC(N[C@H]%24([C@@H](O[C@H](CO[C@@]%23(C(=O)[O-])(O[C@H]([C@H](O)CO)[C@H](OP(=O)(OC[C@@H](O[C@H]%20(O[C@H](CO)[C@@H](O)[C@H](O[C@H]%19(O[C@H](COP(OCC[NH3+])([O-])=O)[C@@H](O)[C@H](O[C@H]%18(O[C@H](COP(OCC[NH3+])([O-])=O)[C@@H](O)[C@H](O[C@H]%17(O[C@H](CO)[C@@H](O)[C@H](O[C@H]%16(O[C@H](CO)[C@@H](O)[C@H](O[C@H]%15(O[C@H](CO)[C@@H](O)[C@H](O[C@H]%14(O[C@H](CO)[C@@H](O)[C@H](O[C@H]%13(O[C@H](CO)[C@@H](O)[C@H](O[C@@H]1([C@@H]([C@H]([C@H]([C@H](O1)CO)O)O[C@H]2([C@H]([C@H]([C@@H]([C@H](O2)C)O[C@@H]3([C@@H]([C@H]([C@@H]([C@H](O3)CO[C@@H]4([C@@H]([C@H]([C@H]([C@H](O4)CO)O)O[C@H]5([C@@H]([C@H]([C@H]([C@H](O5)CO)O)O[C@H]6([C@H]([C@H]([C@@H]([C@H](O6)C)O[C@@H]7([C@@H]([C@H]([C@@H]([C@H](O7)CO[C@@H]8([C@@H]([C@H]([C@H]([C@H](O8)CO)O)O[C@H]9([C@@H]([C@H]([C@H]([C@H](O9)CO)O)O[C@H]%10([C@H]([C@H]([C@@H]([C@H](O%10)C)O[C@@H]%11([C@@H]([C@H]([C@@H]([C@H](O%11)CO[C@@H]%12([C@@H]([C@H]([C@H]([C@H](O%12)CO)O)O[R])O))O)O)O))O)O))O))O))O)O)O))O)O))O))O))O)O)O))O)O))O))[C@H](O)%13))[C@H](O)%14))[C@H](O)%15))[C@H](O)%16))[C@H](O)%17))[C@H](O)%18))[C@H](O)%19))[C@H](O)%20))CO[C@@H]%21([C@H]([NH3+])[C@H](O)[C@H](O)[C@@H](CO)O%21))[O-])[C@H](O[C@]%22(O[C@H]([C@@H](CO)O)[C@H](O)[C@H](O)C%22)C(=O)[O-])C%23))[C@H]([C@@H]%24OC(C[C@H](O)CCCCCCCCCC(C)C)=O)OP(=O)([O-])[O-])OC[C@@H]%25([C@@H](O)[C@H](OC(=O)C[C@H](O)CCCCCCCCCCCCC)[C@@H](NC(=O)C[C@H](O)CCCCCCCCCCCC(C)C)[C@@H](OP([O-])([O-])=O)O%25)))=O)=O\n",
      "[17:42:16] SMILES Parse Error: Failed parsing SMILES 'CCCCCCCCCCCCCCCC(O[C@H](CCCCCCCCCCCC(C)C)CC(N[C@H]%24([C@@H](O[C@H](CO[C@@]%23(C(=O)[O-])(O[C@H]([C@H](O)CO)[C@H](OP(=O)(OC[C@@H](O[C@H]%20(O[C@H](CO)[C@@H](O)[C@H](O[C@H]%19(O[C@H](COP(OCC[NH3+])([O-])=O)[C@@H](O)[C@H](O[C@H]%18(O[C@H](COP(OCC[NH3+])([O-])=O)[C@@H](O)[C@H](O[C@H]%17(O[C@H](CO)[C@@H](O)[C@H](O[C@H]%16(O[C@H](CO)[C@@H](O)[C@H](O[C@H]%15(O[C@H](CO)[C@@H](O)[C@H](O[C@H]%14(O[C@H](CO)[C@@H](O)[C@H](O[C@H]%13(O[C@H](CO)[C@@H](O)[C@H](O[C@@H]1([C@@H]([C@H]([C@H]([C@H](O1)CO)O)O[C@H]2([C@H]([C@H]([C@@H]([C@H](O2)C)O[C@@H]3([C@@H]([C@H]([C@@H]([C@H](O3)CO[C@@H]4([C@@H]([C@H]([C@H]([C@H](O4)CO)O)O[C@H]5([C@@H]([C@H]([C@H]([C@H](O5)CO)O)O[C@H]6([C@H]([C@H]([C@@H]([C@H](O6)C)O[C@@H]7([C@@H]([C@H]([C@@H]([C@H](O7)CO[C@@H]8([C@@H]([C@H]([C@H]([C@H](O8)CO)O)O[C@H]9([C@@H]([C@H]([C@H]([C@H](O9)CO)O)O[C@H]%10([C@H]([C@H]([C@@H]([C@H](O%10)C)O[C@@H]%11([C@@H]([C@H]([C@@H]([C@H](O%11)CO[C@@H]%12([C@@H]([C@H]([C@H]([C@H](O%12)CO)O)O[R])O))O)O)O))O)O))O))O))O)O)O))O)O))O))O))O)O)O))O)O))O))[C@H](O)%13))[C@H](O)%14))[C@H](O)%15))[C@H](O)%16))[C@H](O)%17))[C@H](O)%18))[C@H](O)%19))[C@H](O)%20))CO[C@@H]%21([C@H]([NH3+])[C@H](O)[C@H](O)[C@@H](CO)O%21))[O-])[C@H](O[C@]%22(O[C@H]([C@@H](CO)O)[C@H](O)[C@H](O)C%22)C(=O)[O-])C%23))[C@H]([C@@H]%24OC(C[C@H](O)CCCCCCCCCC(C)C)=O)OP(=O)([O-])[O-])OC[C@@H]%25([C@@H](O)[C@H](OC(=O)C[C@H](O)CCCCCCCCCCCCC)[C@@H](NC(=O)C[C@H](O)CCCCCCCCCCCC(C)C)[C@@H](OP([O-])([O-])=O)O%25)))=O)=O' for input: 'CCCCCCCCCCCCCCCC(O[C@H](CCCCCCCCCCCC(C)C)CC(N[C@H]%24([C@@H](O[C@H](CO[C@@]%23(C(=O)[O-])(O[C@H]([C@H](O)CO)[C@H](OP(=O)(OC[C@@H](O[C@H]%20(O[C@H](CO)[C@@H](O)[C@H](O[C@H]%19(O[C@H](COP(OCC[NH3+])([O-])=O)[C@@H](O)[C@H](O[C@H]%18(O[C@H](COP(OCC[NH3+])([O-])=O)[C@@H](O)[C@H](O[C@H]%17(O[C@H](CO)[C@@H](O)[C@H](O[C@H]%16(O[C@H](CO)[C@@H](O)[C@H](O[C@H]%15(O[C@H](CO)[C@@H](O)[C@H](O[C@H]%14(O[C@H](CO)[C@@H](O)[C@H](O[C@H]%13(O[C@H](CO)[C@@H](O)[C@H](O[C@@H]1([C@@H]([C@H]([C@H]([C@H](O1)CO)O)O[C@H]2([C@H]([C@H]([C@@H]([C@H](O2)C)O[C@@H]3([C@@H]([C@H]([C@@H]([C@H](O3)CO[C@@H]4([C@@H]([C@H]([C@H]([C@H](O4)CO)O)O[C@H]5([C@@H]([C@H]([C@H]([C@H](O5)CO)O)O[C@H]6([C@H]([C@H]([C@@H]([C@H](O6)C)O[C@@H]7([C@@H]([C@H]([C@@H]([C@H](O7)CO[C@@H]8([C@@H]([C@H]([C@H]([C@H](O8)CO)O)O[C@H]9([C@@H]([C@H]([C@H]([C@H](O9)CO)O)O[C@H]%10([C@H]([C@H]([C@@H]([C@H](O%10)C)O[C@@H]%11([C@@H]([C@H]([C@@H]([C@H](O%11)CO[C@@H]%12([C@@H]([C@H]([C@H]([C@H](O%12)CO)O)O[R])O))O)O)O))O)O))O))O))O)O)O))O)O))O))O))O)O)O))O)O))O))[C@H](O)%13))[C@H](O)%14))[C@H](O)%15))[C@H](O)%16))[C@H](O)%17))[C@H](O)%18))[C@H](O)%19))[C@H](O)%20))CO[C@@H]%21([C@H]([NH3+])[C@H](O)[C@H](O)[C@@H](CO)O%21))[O-])[C@H](O[C@]%22(O[C@H]([C@@H](CO)O)[C@H](O)[C@H](O)C%22)C(=O)[O-])C%23))[C@H]([C@@H]%24OC(C[C@H](O)CCCCCCCCCC(C)C)=O)OP(=O)([O-])[O-])OC[C@@H]%25([C@@H](O)[C@H](OC(=O)C[C@H](O)CCCCCCCCCCCCC)[C@@H](NC(=O)C[C@H](O)CCCCCCCCCCCC(C)C)[C@@H](OP([O-])([O-])=O)O%25)))=O)=O'\n",
      "[17:42:17] WARNING: not removing hydrogen atom without neighbors\n",
      "[17:42:17] SMILES Parse Error: syntax error while parsing: CC(C)=CCCC(\\C)=C/CCC(\\C)=C/CCC(/C)=C/CCC(/C)=C/CCC(/C)=C/CCC(/C)=C/CCC(/C)=C/CCC(/C)=C/CCC(/C)=C/CCC(/C)=C/COP(=O)([O-])OP(O[C@@H]1([C@@H]([C@H]([C@H]([C@H](O1)CO)O)O[C@H]2([C@@H]([C@@H]([C@H]([C@@H](O2)C)O[C@@H]3([C@@H]([C@H]([C@@H]([C@H](O3)CO[C@@H]4([C@@H]([C@H]([C@H]([C@H](O4)CO)O)O[C@H]5([C@@H]([C@H]([C@H]([C@H](O5)CO)O)O[C@H]6([C@@H]([C@@H]([C@H]([C@@H](O6)C)O[C@@H]7([C@@H]([C@H]([C@@H]([C@H](O7)CO[C@@H]8([C@@H]([C@H]([C@H]([C@H](O8)CO)O)O[C@H]9([C@@H]([C@H]([C@H]([C@H](O9)CO)O)O[C@H]%10([C@@H]([C@@H]([C@H]([C@@H](O%10)C)O[C@@H]%11([C@@H]([C@H]([C@@H]([C@H](O%11)CO[C@@H]%12([C@@H]([C@H]([C@H]([C@H](O%12)CO)O)O[R])O))O)O)O))O)O))O))O))O)O)O))O)O))O))O))O)O)O))O)O))O))([O-])=O\n",
      "[17:42:17] SMILES Parse Error: Failed parsing SMILES 'CC(C)=CCCC(\\C)=C/CCC(\\C)=C/CCC(/C)=C/CCC(/C)=C/CCC(/C)=C/CCC(/C)=C/CCC(/C)=C/CCC(/C)=C/CCC(/C)=C/CCC(/C)=C/COP(=O)([O-])OP(O[C@@H]1([C@@H]([C@H]([C@H]([C@H](O1)CO)O)O[C@H]2([C@@H]([C@@H]([C@H]([C@@H](O2)C)O[C@@H]3([C@@H]([C@H]([C@@H]([C@H](O3)CO[C@@H]4([C@@H]([C@H]([C@H]([C@H](O4)CO)O)O[C@H]5([C@@H]([C@H]([C@H]([C@H](O5)CO)O)O[C@H]6([C@@H]([C@@H]([C@H]([C@@H](O6)C)O[C@@H]7([C@@H]([C@H]([C@@H]([C@H](O7)CO[C@@H]8([C@@H]([C@H]([C@H]([C@H](O8)CO)O)O[C@H]9([C@@H]([C@H]([C@H]([C@H](O9)CO)O)O[C@H]%10([C@@H]([C@@H]([C@H]([C@@H](O%10)C)O[C@@H]%11([C@@H]([C@H]([C@@H]([C@H](O%11)CO[C@@H]%12([C@@H]([C@H]([C@H]([C@H](O%12)CO)O)O[R])O))O)O)O))O)O))O))O))O)O)O))O)O))O))O))O)O)O))O)O))O))([O-])=O' for input: 'CC(C)=CCCC(\\C)=C/CCC(\\C)=C/CCC(/C)=C/CCC(/C)=C/CCC(/C)=C/CCC(/C)=C/CCC(/C)=C/CCC(/C)=C/CCC(/C)=C/CCC(/C)=C/COP(=O)([O-])OP(O[C@@H]1([C@@H]([C@H]([C@H]([C@H](O1)CO)O)O[C@H]2([C@@H]([C@@H]([C@H]([C@@H](O2)C)O[C@@H]3([C@@H]([C@H]([C@@H]([C@H](O3)CO[C@@H]4([C@@H]([C@H]([C@H]([C@H](O4)CO)O)O[C@H]5([C@@H]([C@H]([C@H]([C@H](O5)CO)O)O[C@H]6([C@@H]([C@@H]([C@H]([C@@H](O6)C)O[C@@H]7([C@@H]([C@H]([C@@H]([C@H](O7)CO[C@@H]8([C@@H]([C@H]([C@H]([C@H](O8)CO)O)O[C@H]9([C@@H]([C@H]([C@H]([C@H](O9)CO)O)O[C@H]%10([C@@H]([C@@H]([C@H]([C@@H](O%10)C)O[C@@H]%11([C@@H]([C@H]([C@@H]([C@H](O%11)CO[C@@H]%12([C@@H]([C@H]([C@H]([C@H](O%12)CO)O)O[R])O))O)O)O))O)O))O))O))O)O)O))O)O))O))O))O)O)O))O)O))O))([O-])=O'\n",
      " 73%|███████▎  | 2571/3538 [02:24<02:08,  7.52it/s][17:42:19] WARNING: not removing hydrogen atom without neighbors\n",
      "[17:42:19] WARNING: not removing hydrogen atom without neighbors\n",
      "[17:42:19] WARNING: not removing hydrogen atom without neighbors\n",
      "[17:42:19] WARNING: not removing hydrogen atom without neighbors\n",
      " 73%|███████▎  | 2575/3538 [02:26<02:45,  5.82it/s][17:42:19] WARNING: not removing hydrogen atom without neighbors\n",
      "[17:42:19] WARNING: not removing hydrogen atom without neighbors\n",
      "[17:42:19] SMILES Parse Error: syntax error while parsing: C(O)[C@H]2(O[C@H](O[C@@H]1([C@@H](O)[C@@H](O)[C@@H](CO)O[C@@H](O[C@@H](C[NH3+])CC[C@H](N[a\n",
      "[17:42:19] SMILES Parse Error: Failed parsing SMILES 'C(O)[C@H]2(O[C@H](O[C@@H]1([C@@H](O)[C@@H](O)[C@@H](CO)O[C@@H](O[C@@H](C[NH3+])CC[C@H](N[a' for input: 'C(O)[C@H]2(O[C@H](O[C@@H]1([C@@H](O)[C@@H](O)[C@@H](CO)O[C@@H](O[C@@H](C[NH3+])CC[C@H](N[a'\n",
      "[17:42:20] Conflicting single bond directions around double bond at index 10.\n",
      "[17:42:20]   BondStereo set to STEREONONE and single bond directions set to NONE.\n",
      "[17:42:20] WARNING: not removing hydrogen atom without neighbors\n",
      " 73%|███████▎  | 2578/3538 [02:27<03:34,  4.48it/s][17:42:20] WARNING: not removing hydrogen atom without neighbors\n",
      "[17:42:20] WARNING: not removing hydrogen atom without neighbors\n",
      "[17:42:20] WARNING: not removing hydrogen atom without neighbors\n",
      "[17:42:20] WARNING: not removing hydrogen atom without neighbors\n",
      "[17:42:20] WARNING: not removing hydrogen atom without neighbors\n",
      "[17:42:20] WARNING: not removing hydrogen atom without neighbors\n",
      "[17:42:20] WARNING: not removing hydrogen atom without neighbors\n",
      " 73%|███████▎  | 2585/3538 [02:27<02:17,  6.95it/s][17:42:20] WARNING: not removing hydrogen atom without neighbors\n",
      "[17:42:20] WARNING: not removing hydrogen atom without neighbors\n",
      "[17:42:20] WARNING: not removing hydrogen atom without neighbors\n",
      "[17:42:20] WARNING: not removing hydrogen atom without neighbors\n",
      "[17:42:20] WARNING: not removing hydrogen atom without neighbors\n",
      "[17:42:20] WARNING: not removing hydrogen atom without neighbors\n",
      " 73%|███████▎  | 2592/3538 [02:27<01:33, 10.15it/s][17:42:20] WARNING: not removing hydrogen atom without neighbors\n",
      "[17:42:20] WARNING: not removing hydrogen atom without neighbors\n",
      "[17:42:20] WARNING: not removing hydrogen atom without neighbors\n",
      "[17:42:20] WARNING: not removing hydrogen atom without neighbors\n",
      "[17:42:20] WARNING: not removing hydrogen atom without neighbors\n",
      "[17:42:20] WARNING: not removing hydrogen atom without neighbors\n",
      " 73%|███████▎  | 2600/3538 [02:27<01:03, 14.78it/s][17:42:20] WARNING: not removing hydrogen atom without neighbors\n",
      "[17:42:20] WARNING: not removing hydrogen atom without neighbors\n",
      "[17:42:20] WARNING: not removing hydrogen atom without neighbors\n",
      "[17:42:20] WARNING: not removing hydrogen atom without neighbors\n",
      "[17:42:20] WARNING: not removing hydrogen atom without neighbors\n",
      "[17:42:20] WARNING: not removing hydrogen atom without neighbors\n",
      "[17:42:20] WARNING: not removing hydrogen atom without neighbors\n",
      "[17:42:20] WARNING: not removing hydrogen atom without neighbors\n",
      " 74%|███████▎  | 2608/3538 [02:27<00:45, 20.25it/s][17:42:20] WARNING: not removing hydrogen atom without neighbors\n",
      "[17:42:20] WARNING: not removing hydrogen atom without neighbors\n",
      "[17:42:20] WARNING: not removing hydrogen atom without neighbors\n",
      "[17:42:20] WARNING: not removing hydrogen atom without neighbors\n",
      "[17:42:20] WARNING: not removing hydrogen atom without neighbors\n",
      "[17:42:20] WARNING: not removing hydrogen atom without neighbors\n",
      "[17:42:21] WARNING: not removing hydrogen atom without neighbors\n",
      " 74%|███████▍  | 2615/3538 [02:28<00:35, 25.72it/s][17:42:21] WARNING: not removing hydrogen atom without neighbors\n",
      "[17:42:21] WARNING: not removing hydrogen atom without neighbors\n",
      "[17:42:21] WARNING: not removing hydrogen atom without neighbors\n",
      "[17:42:21] WARNING: not removing hydrogen atom without neighbors\n",
      "[17:42:21] WARNING: not removing hydrogen atom without neighbors\n",
      "[17:42:21] WARNING: not removing hydrogen atom without neighbors\n",
      "[17:42:21] WARNING: not removing hydrogen atom without neighbors\n",
      " 74%|███████▍  | 2623/3538 [02:28<00:27, 32.70it/s][17:42:21] WARNING: not removing hydrogen atom without neighbors\n",
      "[17:42:21] WARNING: not removing hydrogen atom without neighbors\n",
      "[17:42:21] WARNING: not removing hydrogen atom without neighbors\n",
      "[17:42:21] WARNING: not removing hydrogen atom without neighbors\n",
      "[17:42:21] WARNING: not removing hydrogen atom without neighbors\n",
      "[17:42:21] WARNING: not removing hydrogen atom without neighbors\n",
      "[17:42:21] WARNING: not removing hydrogen atom without neighbors\n",
      " 74%|███████▍  | 2632/3538 [02:28<00:21, 41.64it/s][17:42:21] WARNING: not removing hydrogen atom without neighbors\n",
      "[17:42:21] WARNING: not removing hydrogen atom without neighbors\n",
      "[17:42:21] WARNING: not removing hydrogen atom without neighbors\n",
      "[17:42:21] WARNING: not removing hydrogen atom without neighbors\n",
      "[17:42:21] WARNING: not removing hydrogen atom without neighbors\n",
      "[17:42:21] WARNING: not removing hydrogen atom without neighbors\n",
      "[17:42:21] WARNING: not removing hydrogen atom without neighbors\n",
      "[17:42:21] WARNING: not removing hydrogen atom without neighbors\n",
      " 75%|███████▍  | 2640/3538 [02:28<00:18, 47.83it/s][17:42:21] WARNING: not removing hydrogen atom without neighbors\n",
      "[17:42:21] WARNING: not removing hydrogen atom without neighbors\n",
      "[17:42:21] WARNING: not removing hydrogen atom without neighbors\n",
      "[17:42:21] WARNING: not removing hydrogen atom without neighbors\n",
      "[17:42:21] WARNING: not removing hydrogen atom without neighbors\n",
      "[17:42:21] WARNING: not removing hydrogen atom without neighbors\n",
      "[17:42:21] WARNING: not removing hydrogen atom without neighbors\n",
      "[17:42:21] WARNING: not removing hydrogen atom without neighbors\n",
      " 75%|███████▍  | 2648/3538 [02:28<00:16, 53.17it/s][17:42:21] WARNING: not removing hydrogen atom without neighbors\n",
      "[17:42:21] WARNING: not removing hydrogen atom without neighbors\n",
      "[17:42:21] WARNING: not removing hydrogen atom without neighbors\n",
      "[17:42:21] WARNING: not removing hydrogen atom without neighbors\n",
      "[17:42:21] WARNING: not removing hydrogen atom without neighbors\n",
      "[17:42:21] WARNING: not removing hydrogen atom without neighbors\n",
      "[17:42:21] WARNING: not removing hydrogen atom without neighbors\n",
      " 75%|███████▌  | 2656/3538 [02:28<00:15, 57.39it/s][17:42:21] WARNING: not removing hydrogen atom without neighbors\n",
      "[17:42:21] WARNING: not removing hydrogen atom without neighbors\n",
      "[17:42:21] WARNING: not removing hydrogen atom without neighbors\n",
      "[17:42:21] WARNING: not removing hydrogen atom without neighbors\n",
      "[17:42:21] WARNING: not removing hydrogen atom without neighbors\n",
      "[17:42:21] WARNING: not removing hydrogen atom without neighbors\n",
      "[17:42:21] WARNING: not removing hydrogen atom without neighbors\n",
      " 75%|███████▌  | 2665/3538 [02:28<00:13, 63.37it/s][17:42:21] WARNING: not removing hydrogen atom without neighbors\n",
      "[17:42:21] WARNING: not removing hydrogen atom without neighbors\n",
      "[17:42:21] WARNING: not removing hydrogen atom without neighbors\n",
      "[17:42:21] WARNING: not removing hydrogen atom without neighbors\n",
      "[17:42:21] WARNING: not removing hydrogen atom without neighbors\n",
      "[17:42:21] WARNING: not removing hydrogen atom without neighbors\n",
      "[17:42:21] WARNING: not removing hydrogen atom without neighbors\n",
      " 76%|███████▌  | 2673/3538 [02:28<00:13, 65.94it/s][17:42:21] WARNING: not removing hydrogen atom without neighbors\n",
      "[17:42:21] WARNING: not removing hydrogen atom without neighbors\n",
      "[17:42:21] WARNING: not removing hydrogen atom without neighbors\n",
      "[17:42:21] WARNING: not removing hydrogen atom without neighbors\n",
      "[17:42:21] WARNING: not removing hydrogen atom without neighbors\n",
      "[17:42:21] WARNING: not removing hydrogen atom without neighbors\n",
      " 76%|███████▌  | 2689/3538 [02:28<00:09, 89.70it/s][17:42:21] WARNING: not removing hydrogen atom without neighbors\n",
      "[17:42:21] WARNING: not removing hydrogen atom without neighbors\n",
      "[17:42:21] WARNING: not removing hydrogen atom without neighbors\n",
      "[17:42:21] WARNING: not removing hydrogen atom without neighbors\n",
      "[17:42:21] WARNING: not removing hydrogen atom without neighbors\n",
      "[17:42:21] WARNING: not removing hydrogen atom without neighbors\n",
      "[17:42:21] WARNING: not removing hydrogen atom without neighbors\n",
      "[17:42:21] WARNING: not removing hydrogen atom without neighbors\n",
      "[17:42:22] WARNING: not removing hydrogen atom without neighbors\n",
      "[17:42:22] WARNING: not removing hydrogen atom without neighbors\n",
      " 76%|███████▋  | 2699/3538 [02:29<00:10, 83.73it/s][17:42:22] WARNING: not removing hydrogen atom without neighbors\n",
      "[17:42:22] WARNING: not removing hydrogen atom without neighbors\n",
      "[17:42:22] WARNING: not removing hydrogen atom without neighbors\n",
      "[17:42:22] WARNING: not removing hydrogen atom without neighbors\n",
      "[17:42:22] WARNING: not removing hydrogen atom without neighbors\n",
      "[17:42:22] WARNING: not removing hydrogen atom without neighbors\n",
      "[17:42:22] WARNING: not removing hydrogen atom without neighbors\n",
      "[17:42:22] WARNING: not removing hydrogen atom without neighbors\n",
      "[17:42:22] WARNING: not removing hydrogen atom without neighbors\n",
      "[17:42:22] WARNING: not removing hydrogen atom without neighbors\n",
      " 77%|███████▋  | 2709/3538 [02:29<00:10, 79.49it/s][17:42:22] WARNING: not removing hydrogen atom without neighbors\n",
      "[17:42:22] WARNING: not removing hydrogen atom without neighbors\n",
      "[17:42:22] WARNING: not removing hydrogen atom without neighbors\n",
      "[17:42:22] WARNING: not removing hydrogen atom without neighbors\n",
      "[17:42:22] WARNING: not removing hydrogen atom without neighbors\n",
      "[17:42:22] WARNING: not removing hydrogen atom without neighbors\n",
      "[17:42:22] WARNING: not removing hydrogen atom without neighbors\n",
      " 77%|███████▋  | 2718/3538 [02:29<00:10, 78.22it/s][17:42:22] WARNING: not removing hydrogen atom without neighbors\n",
      "[17:42:22] WARNING: not removing hydrogen atom without neighbors\n",
      "[17:42:22] WARNING: not removing hydrogen atom without neighbors\n",
      "[17:42:22] WARNING: not removing hydrogen atom without neighbors\n",
      "[17:42:22] WARNING: not removing hydrogen atom without neighbors\n",
      "[17:42:22] WARNING: not removing hydrogen atom without neighbors\n",
      "[17:42:22] WARNING: not removing hydrogen atom without neighbors\n",
      "[17:42:22] WARNING: not removing hydrogen atom without neighbors\n",
      "[17:42:22] WARNING: not removing hydrogen atom without neighbors\n",
      " 77%|███████▋  | 2727/3538 [02:29<00:10, 78.42it/s][17:42:22] WARNING: not removing hydrogen atom without neighbors\n",
      "[17:42:22] WARNING: not removing hydrogen atom without neighbors\n",
      "[17:42:22] WARNING: not removing hydrogen atom without neighbors\n",
      "[17:42:22] WARNING: not removing hydrogen atom without neighbors\n",
      "[17:42:22] WARNING: not removing hydrogen atom without neighbors\n",
      "[17:42:22] WARNING: not removing hydrogen atom without neighbors\n",
      "[17:42:22] WARNING: not removing hydrogen atom without neighbors\n",
      "[17:42:22] WARNING: not removing hydrogen atom without neighbors\n",
      " 77%|███████▋  | 2736/3538 [02:29<00:10, 76.49it/s][17:42:22] WARNING: not removing hydrogen atom without neighbors\n",
      "[17:42:22] Conflicting single bond directions around double bond at index 17.\n",
      "[17:42:22]   BondStereo set to STEREONONE and single bond directions set to NONE.\n",
      "[17:42:22] Conflicting single bond directions around double bond at index 17.\n",
      "[17:42:22]   BondStereo set to STEREONONE and single bond directions set to NONE.\n",
      "[17:42:22] WARNING: not removing hydrogen atom without neighbors\n",
      "[17:42:22] Conflicting single bond directions around double bond at index 17.\n",
      "[17:42:22]   BondStereo set to STEREONONE and single bond directions set to NONE.\n",
      "[17:42:22] Conflicting single bond directions around double bond at index 17.\n",
      "[17:42:22]   BondStereo set to STEREONONE and single bond directions set to NONE.\n",
      "[17:42:22] WARNING: not removing hydrogen atom without neighbors\n",
      "[17:42:22] Conflicting single bond directions around double bond at index 17.\n",
      "[17:42:22]   BondStereo set to STEREONONE and single bond directions set to NONE.\n",
      "[17:42:22] Conflicting single bond directions around double bond at index 17.\n",
      "[17:42:22]   BondStereo set to STEREONONE and single bond directions set to NONE.\n",
      "[17:42:22] WARNING: not removing hydrogen atom without neighbors\n",
      "[17:42:22] WARNING: not removing hydrogen atom without neighbors\n",
      "[17:42:22] WARNING: not removing hydrogen atom without neighbors\n",
      "[17:42:22] WARNING: not removing hydrogen atom without neighbors\n",
      " 78%|███████▊  | 2745/3538 [02:29<00:10, 77.94it/s][17:42:22] WARNING: not removing hydrogen atom without neighbors\n",
      "[17:42:22] SMILES Parse Error: syntax error while parsing: C1([R4])(=C([R3])C(=O)C(/[R3])=C([R1])/C(=O)1)\n",
      "[17:42:22] SMILES Parse Error: Failed parsing SMILES 'C1([R4])(=C([R3])C(=O)C(/[R3])=C([R1])/C(=O)1)' for input: 'C1([R4])(=C([R3])C(=O)C(/[R3])=C([R1])/C(=O)1)'\n",
      "[17:42:22] SMILES Parse Error: syntax error while parsing: C1([R4])(=C([R3])C(=O)C(/[R3])=C([R1])/C(=O)1)\n",
      "[17:42:22] SMILES Parse Error: Failed parsing SMILES 'C1([R4])(=C([R3])C(=O)C(/[R3])=C([R1])/C(=O)1)' for input: 'C1([R4])(=C([R3])C(=O)C(/[R3])=C([R1])/C(=O)1)'\n",
      "[17:42:23] SMILES Parse Error: syntax error while parsing: C1([R4])(=C([R3])C(=O)C(/[R3])=C([R1])/C(=O)1)\n",
      "[17:42:23] SMILES Parse Error: Failed parsing SMILES 'C1([R4])(=C([R3])C(=O)C(/[R3])=C([R1])/C(=O)1)' for input: 'C1([R4])(=C([R3])C(=O)C(/[R3])=C([R1])/C(=O)1)'\n",
      "[17:42:23] SMILES Parse Error: syntax error while parsing: C1([R4])(=C([R3])C(=O)C(/[R3])=C([R1])/C(=O)1)\n",
      "[17:42:23] SMILES Parse Error: Failed parsing SMILES 'C1([R4])(=C([R3])C(=O)C(/[R3])=C([R1])/C(=O)1)' for input: 'C1([R4])(=C([R3])C(=O)C(/[R3])=C([R1])/C(=O)1)'\n",
      "[17:42:25] WARNING: not removing hydrogen atom without neighbors\n",
      "[17:42:25] WARNING: not removing hydrogen atom without neighbors\n",
      "[17:42:25] WARNING: not removing hydrogen atom without neighbors\n",
      " 78%|███████▊  | 2753/3538 [02:33<01:35,  8.22it/s][17:42:25] WARNING: not removing hydrogen atom without neighbors\n",
      "[17:42:25] WARNING: not removing hydrogen atom without neighbors\n",
      "[17:42:25] WARNING: not removing hydrogen atom without neighbors\n",
      "[17:42:26] WARNING: not removing hydrogen atom without neighbors\n",
      "[17:42:26] WARNING: not removing hydrogen atom without neighbors\n",
      "[17:42:26] WARNING: not removing hydrogen atom without neighbors\n",
      "[17:42:26] WARNING: not removing hydrogen atom without neighbors\n",
      "[17:42:26] WARNING: not removing hydrogen atom without neighbors\n",
      " 78%|███████▊  | 2761/3538 [02:33<01:11, 10.93it/s][17:42:26] WARNING: not removing hydrogen atom without neighbors\n",
      "[17:42:26] WARNING: not removing hydrogen atom without neighbors\n",
      "[17:42:26] WARNING: not removing hydrogen atom without neighbors\n",
      "[17:42:26] WARNING: not removing hydrogen atom without neighbors\n",
      "[17:42:26] WARNING: not removing hydrogen atom without neighbors\n",
      "[17:42:26] WARNING: not removing hydrogen atom without neighbors\n",
      "[17:42:26] WARNING: not removing hydrogen atom without neighbors\n",
      " 78%|███████▊  | 2768/3538 [02:33<00:55, 13.91it/s][17:42:26] WARNING: not removing hydrogen atom without neighbors\n",
      "[17:42:26] WARNING: not removing hydrogen atom without neighbors\n",
      "[17:42:26] WARNING: not removing hydrogen atom without neighbors\n",
      " 78%|███████▊  | 2776/3538 [02:33<00:41, 18.28it/s][17:42:26] WARNING: not removing hydrogen atom without neighbors\n",
      "[17:42:26] WARNING: not removing hydrogen atom without neighbors\n",
      "[17:42:26] WARNING: not removing hydrogen atom without neighbors\n",
      "[17:42:26] WARNING: not removing hydrogen atom without neighbors\n",
      " 79%|███████▊  | 2783/3538 [02:33<00:33, 22.40it/s][17:42:26] WARNING: not removing hydrogen atom without neighbors\n",
      "[17:42:26] WARNING: not removing hydrogen atom without neighbors\n",
      "[17:42:26] WARNING: not removing hydrogen atom without neighbors\n",
      "[17:42:26] WARNING: not removing hydrogen atom without neighbors\n",
      "[17:42:26] WARNING: not removing hydrogen atom without neighbors\n",
      "[17:42:26] WARNING: not removing hydrogen atom without neighbors\n",
      " 79%|███████▉  | 2791/3538 [02:33<00:26, 28.41it/s][17:42:26] SMILES Parse Error: syntax error while parsing: CC1(\\C(\\OC)=C(C2(/[C@H](CNC(=O)[C@@H](NC([R])=O)C)N5([C@@H](CC(\\C=1)=2)[C@@H]3(N[C@H](CC4(/C\\3=C(C(/OC)=C(C)\\C(\\O)=4)/O))[C@H](O)5))))\\O)\n",
      "[17:42:26] WARNING: not removing hydrogen atom without neighbors\n",
      "[17:42:26] SMILES Parse Error: Failed parsing SMILES 'CC1(\\C(\\OC)=C(C2(/[C@H](CNC(=O)[C@@H](NC([R])=O)C)N5([C@@H](CC(\\C=1)=2)[C@@H]3(N[C@H](CC4(/C\\3=C(C(/OC)=C(C)\\C(\\O)=4)/O))[C@H](O)5))))\\O)' for input: 'CC1(\\C(\\OC)=C(C2(/[C@H](CNC(=O)[C@@H](NC([R])=O)C)N5([C@@H](CC(\\C=1)=2)[C@@H]3(N[C@H](CC4(/C\\3=C(C(/OC)=C(C)\\C(\\O)=4)/O))[C@H](O)5))))\\O)'\n",
      "[17:42:27] WARNING: not removing hydrogen atom without neighbors\n",
      "[17:42:27] WARNING: not removing hydrogen atom without neighbors\n",
      "[17:42:28] WARNING: not removing hydrogen atom without neighbors\n",
      "[17:42:28] WARNING: not removing hydrogen atom without neighbors\n",
      "[17:42:28] WARNING: not removing hydrogen atom without neighbors\n",
      " 79%|███████▉  | 2798/3538 [02:35<01:03, 11.61it/s][17:42:28] WARNING: not removing hydrogen atom without neighbors\n",
      "[17:42:28] WARNING: not removing hydrogen atom without neighbors\n",
      "[17:42:28] WARNING: not removing hydrogen atom without neighbors\n",
      "[17:42:28] WARNING: not removing hydrogen atom without neighbors\n",
      "[17:42:28] WARNING: not removing hydrogen atom without neighbors\n",
      "[17:42:28] WARNING: not removing hydrogen atom without neighbors\n",
      "[17:42:28] WARNING: not removing hydrogen atom without neighbors\n",
      " 79%|███████▉  | 2807/3538 [02:35<00:57, 12.75it/s][17:42:28] WARNING: not removing hydrogen atom without neighbors\n",
      "[17:42:28] WARNING: not removing hydrogen atom without neighbors\n",
      "[17:42:28] WARNING: not removing hydrogen atom without neighbors\n",
      "[17:42:28] WARNING: not removing hydrogen atom without neighbors\n",
      "[17:42:28] WARNING: not removing hydrogen atom without neighbors\n",
      "[17:42:28] SMILES Parse Error: syntax error while parsing: CC(C)=CCCC(/C)=C/CCC(/C)=C/CCC(/C)=C/CCC(/C)=C/CCC(/C)=C/CCC(/C)=C/CCC(/C)=C/CCC(/C)=C/CCC(/C)=C/CCC(/C)=C/COP(=O)([O-])OP(=O)([O-])O[C@H]%12(O[C@H](CO)[C@@H](O)[C@H](O[C@H]%11(O[C@H](CO)[C@H](O)[C@H](O[C@@H]%10(O[C@H](CO)[C@H](O)[C@H](O)[C@@H](O[C@H]1([C@H]([C@@H]([C@@H]([C@@H](O1)C)O)O)O[C@H]9(O[C@H](CO)[C@@H](O)[C@H](O[C@H]8(O[C@H](CO)[C@H](O)[C@H](O[C@@H]7(O[C@H](CO)[C@H](O)[C@H](O)[C@@H](O[C@H]2([C@H]([C@@H]([C@@H]([C@@H](O2)C)O)O)O[C@H]6(O[C@H](CO)[C@@H](O)[C@H](O[C@H]5(O[C@H](CO)[C@H](O)[C@H](O[C@@H]4(O[C@H](CO)[C@H](O)[C@H](O)[C@@H](O[C@H]3([C@H]([C@@H]([C@@H]([C@@H](O3)C)O)O)O[R]))4))[C@@H](NC(C)=O)5))[C@@H](NC(C)=O)6)))7))[C@@H](NC(C)=O)8))[C@@H](NC(C)=O)9)))%10))[C@@H](NC(C)=O)%11))[C@@H](NC(C)=O)%12)\n",
      "[17:42:28] SMILES Parse Error: Failed parsing SMILES 'CC(C)=CCCC(/C)=C/CCC(/C)=C/CCC(/C)=C/CCC(/C)=C/CCC(/C)=C/CCC(/C)=C/CCC(/C)=C/CCC(/C)=C/CCC(/C)=C/CCC(/C)=C/COP(=O)([O-])OP(=O)([O-])O[C@H]%12(O[C@H](CO)[C@@H](O)[C@H](O[C@H]%11(O[C@H](CO)[C@H](O)[C@H](O[C@@H]%10(O[C@H](CO)[C@H](O)[C@H](O)[C@@H](O[C@H]1([C@H]([C@@H]([C@@H]([C@@H](O1)C)O)O)O[C@H]9(O[C@H](CO)[C@@H](O)[C@H](O[C@H]8(O[C@H](CO)[C@H](O)[C@H](O[C@@H]7(O[C@H](CO)[C@H](O)[C@H](O)[C@@H](O[C@H]2([C@H]([C@@H]([C@@H]([C@@H](O2)C)O)O)O[C@H]6(O[C@H](CO)[C@@H](O)[C@H](O[C@H]5(O[C@H](CO)[C@H](O)[C@H](O[C@@H]4(O[C@H](CO)[C@H](O)[C@H](O)[C@@H](O[C@H]3([C@H]([C@@H]([C@@H]([C@@H](O3)C)O)O)O[R]))4))[C@@H](NC(C)=O)5))[C@@H](NC(C)=O)6)))7))[C@@H](NC(C)=O)8))[C@@H](NC(C)=O)9)))%10))[C@@H](NC(C)=O)%11))[C@@H](NC(C)=O)%12)' for input: 'CC(C)=CCCC(/C)=C/CCC(/C)=C/CCC(/C)=C/CCC(/C)=C/CCC(/C)=C/CCC(/C)=C/CCC(/C)=C/CCC(/C)=C/CCC(/C)=C/CCC(/C)=C/COP(=O)([O-])OP(=O)([O-])O[C@H]%12(O[C@H](CO)[C@@H](O)[C@H](O[C@H]%11(O[C@H](CO)[C@H](O)[C@H](O[C@@H]%10(O[C@H](CO)[C@H](O)[C@H](O)[C@@H](O[C@H]1([C@H]([C@@H]([C@@H]([C@@H](O1)C)O)O)O[C@H]9(O[C@H](CO)[C@@H](O)[C@H](O[C@H]8(O[C@H](CO)[C@H](O)[C@H](O[C@@H]7(O[C@H](CO)[C@H](O)[C@H](O)[C@@H](O[C@H]2([C@H]([C@@H]([C@@H]([C@@H](O2)C)O)O)O[C@H]6(O[C@H](CO)[C@@H](O)[C@H](O[C@H]5(O[C@H](CO)[C@H](O)[C@H](O[C@@H]4(O[C@H](CO)[C@H](O)[C@H](O)[C@@H](O[C@H]3([C@H]([C@@H]([C@@H]([C@@H](O3)C)O)O)O[R]))4))[C@@H](NC(C)=O)5))[C@@H](NC(C)=O)6)))7))[C@@H](NC(C)=O)8))[C@@H](NC(C)=O)9)))%10))[C@@H](NC(C)=O)%11))[C@@H](NC(C)=O)%12)'\n",
      " 79%|███████▉  | 2812/3538 [02:35<00:48, 14.97it/s][17:42:30] SMILES Parse Error: syntax error while parsing: CC(C)=CCCC(\\C)=C/CCC(\\C)=C/CCC(/C)=C/CCC(/C)=C/CCC(/C)=C/CCC(/C)=C/CCC(/C)=C/CCC(/C)=C/CCC(/C)=C/CCC(/C)=C/COP(=O)([O-])OP([O-])(=O)O[C@@H]1([C@@H]([C@H]([C@H]([C@H](O1)CO)O)O[C@@H]%12(O[C@H](CO)[C@@H](O)[C@H](O)[C@H](O[C@H]%11(O[C@H](CO)[C@@H](O)[C@H](O)[C@H](O[C@H]%10(O[C@H](CO)[C@@H](O[C@@H]2([C@@H]([C@H]([C@H]([C@H](O2)CO)O)O[C@@H]9(O[C@H](CO)[C@@H](O)[C@H](O)[C@H](O[C@H]8(O[C@H](CO)[C@@H](O)[C@H](O)[C@H](O[C@H]7(O[C@H](CO)[C@@H](O[C@@H]3([C@@H]([C@H]([C@H]([C@H](O3)CO)O)O[C@@H]6(O[C@H](CO)[C@@H](O)[C@H](O)[C@H](O[C@H]5(O[C@H](CO)[C@@H](O)[C@H](O)[C@H](O[C@H]4(O[C@H](CO)[C@@H](O[R])[C@H](O)[C@H](O)4))5))6))NC(C)=O))[C@H](O)[C@H](O)7))8))9))NC(C)=O))[C@H](O)[C@H](O)%10))%11))%12))NC(C)=O)\n",
      "[17:42:30] SMILES Parse Error: Failed parsing SMILES 'CC(C)=CCCC(\\C)=C/CCC(\\C)=C/CCC(/C)=C/CCC(/C)=C/CCC(/C)=C/CCC(/C)=C/CCC(/C)=C/CCC(/C)=C/CCC(/C)=C/CCC(/C)=C/COP(=O)([O-])OP([O-])(=O)O[C@@H]1([C@@H]([C@H]([C@H]([C@H](O1)CO)O)O[C@@H]%12(O[C@H](CO)[C@@H](O)[C@H](O)[C@H](O[C@H]%11(O[C@H](CO)[C@@H](O)[C@H](O)[C@H](O[C@H]%10(O[C@H](CO)[C@@H](O[C@@H]2([C@@H]([C@H]([C@H]([C@H](O2)CO)O)O[C@@H]9(O[C@H](CO)[C@@H](O)[C@H](O)[C@H](O[C@H]8(O[C@H](CO)[C@@H](O)[C@H](O)[C@H](O[C@H]7(O[C@H](CO)[C@@H](O[C@@H]3([C@@H]([C@H]([C@H]([C@H](O3)CO)O)O[C@@H]6(O[C@H](CO)[C@@H](O)[C@H](O)[C@H](O[C@H]5(O[C@H](CO)[C@@H](O)[C@H](O)[C@H](O[C@H]4(O[C@H](CO)[C@@H](O[R])[C@H](O)[C@H](O)4))5))6))NC(C)=O))[C@H](O)[C@H](O)7))8))9))NC(C)=O))[C@H](O)[C@H](O)%10))%11))%12))NC(C)=O)' for input: 'CC(C)=CCCC(\\C)=C/CCC(\\C)=C/CCC(/C)=C/CCC(/C)=C/CCC(/C)=C/CCC(/C)=C/CCC(/C)=C/CCC(/C)=C/CCC(/C)=C/CCC(/C)=C/COP(=O)([O-])OP([O-])(=O)O[C@@H]1([C@@H]([C@H]([C@H]([C@H](O1)CO)O)O[C@@H]%12(O[C@H](CO)[C@@H](O)[C@H](O)[C@H](O[C@H]%11(O[C@H](CO)[C@@H](O)[C@H](O)[C@H](O[C@H]%10(O[C@H](CO)[C@@H](O[C@@H]2([C@@H]([C@H]([C@H]([C@H](O2)CO)O)O[C@@H]9(O[C@H](CO)[C@@H](O)[C@H](O)[C@H](O[C@H]8(O[C@H](CO)[C@@H](O)[C@H](O)[C@H](O[C@H]7(O[C@H](CO)[C@@H](O[C@@H]3([C@@H]([C@H]([C@H]([C@H](O3)CO)O)O[C@@H]6(O[C@H](CO)[C@@H](O)[C@H](O)[C@H](O[C@H]5(O[C@H](CO)[C@@H](O)[C@H](O)[C@H](O[C@H]4(O[C@H](CO)[C@@H](O[R])[C@H](O)[C@H](O)4))5))6))NC(C)=O))[C@H](O)[C@H](O)7))8))9))NC(C)=O))[C@H](O)[C@H](O)%10))%11))%12))NC(C)=O)'\n",
      "[17:42:30] WARNING: not removing hydrogen atom without neighbors\n",
      "[17:42:31] WARNING: not removing hydrogen atom without neighbors\n",
      "[17:42:31] SMILES Parse Error: syntax error while parsing: CC(C)=CCCC(\\C)=C/CCC(\\C)=C/CCC(/C)=C/CCC(/C)=C/CCC(/C)=C/CCC(/C)=C/CCC(/C)=C/CCC(/C)=C/CCC(/C)=C/CCC(/C)=C/COP(=O)([O-])OP(O[C@@H]1([C@@H]([C@H]([C@H]([C@H](O1)CO)O)O[C@H]2([C@@H]([C@@H]([C@H]([C@@H](O2)C)O[C@@H]3([C@H]([C@H]([C@H](O)[C@H](O3)CO)O[C@@H]4([C@@H](C[C@@H]([C@H](O4)C)O)O))O[C@@H]5([C@@H]([C@H]([C@H]([C@H](O5)CO)O)O[C@H]6([C@@H]([C@@H]([C@H]([C@@H](O6)C)O[C@@H]7([C@H]([C@H]([C@H](O)[C@H](O7)CO)O[C@@H]8([C@@H](C[C@@H]([C@H](O8)C)O)O))O[C@@H]9([C@@H]([C@H]([C@H]([C@H](O9)CO)O)O[C@H]%10([C@@H]([C@@H]([C@H]([C@@H](O%10)C)O[C@@H]%11([C@H]([C@H]([C@H](O)[C@H](O%11)CO)O[C@@H]%12([C@@H](C[C@@H]([C@H](O%12)C)O)O))O[R]))O)O))O)))O)O))O)))O)O))O))([O-])=O\n",
      "[17:42:31] SMILES Parse Error: Failed parsing SMILES 'CC(C)=CCCC(\\C)=C/CCC(\\C)=C/CCC(/C)=C/CCC(/C)=C/CCC(/C)=C/CCC(/C)=C/CCC(/C)=C/CCC(/C)=C/CCC(/C)=C/CCC(/C)=C/COP(=O)([O-])OP(O[C@@H]1([C@@H]([C@H]([C@H]([C@H](O1)CO)O)O[C@H]2([C@@H]([C@@H]([C@H]([C@@H](O2)C)O[C@@H]3([C@H]([C@H]([C@H](O)[C@H](O3)CO)O[C@@H]4([C@@H](C[C@@H]([C@H](O4)C)O)O))O[C@@H]5([C@@H]([C@H]([C@H]([C@H](O5)CO)O)O[C@H]6([C@@H]([C@@H]([C@H]([C@@H](O6)C)O[C@@H]7([C@H]([C@H]([C@H](O)[C@H](O7)CO)O[C@@H]8([C@@H](C[C@@H]([C@H](O8)C)O)O))O[C@@H]9([C@@H]([C@H]([C@H]([C@H](O9)CO)O)O[C@H]%10([C@@H]([C@@H]([C@H]([C@@H](O%10)C)O[C@@H]%11([C@H]([C@H]([C@H](O)[C@H](O%11)CO)O[C@@H]%12([C@@H](C[C@@H]([C@H](O%12)C)O)O))O[R]))O)O))O)))O)O))O)))O)O))O))([O-])=O' for input: 'CC(C)=CCCC(\\C)=C/CCC(\\C)=C/CCC(/C)=C/CCC(/C)=C/CCC(/C)=C/CCC(/C)=C/CCC(/C)=C/CCC(/C)=C/CCC(/C)=C/CCC(/C)=C/COP(=O)([O-])OP(O[C@@H]1([C@@H]([C@H]([C@H]([C@H](O1)CO)O)O[C@H]2([C@@H]([C@@H]([C@H]([C@@H](O2)C)O[C@@H]3([C@H]([C@H]([C@H](O)[C@H](O3)CO)O[C@@H]4([C@@H](C[C@@H]([C@H](O4)C)O)O))O[C@@H]5([C@@H]([C@H]([C@H]([C@H](O5)CO)O)O[C@H]6([C@@H]([C@@H]([C@H]([C@@H](O6)C)O[C@@H]7([C@H]([C@H]([C@H](O)[C@H](O7)CO)O[C@@H]8([C@@H](C[C@@H]([C@H](O8)C)O)O))O[C@@H]9([C@@H]([C@H]([C@H]([C@H](O9)CO)O)O[C@H]%10([C@@H]([C@@H]([C@H]([C@@H](O%10)C)O[C@@H]%11([C@H]([C@H]([C@H](O)[C@H](O%11)CO)O[C@@H]%12([C@@H](C[C@@H]([C@H](O%12)C)O)O))O[R]))O)O))O)))O)O))O)))O)O))O))([O-])=O'\n",
      "[17:42:32] WARNING: not removing hydrogen atom without neighbors\n",
      "[17:42:32] SMILES Parse Error: syntax error while parsing: CC(C)=CCCC(\\C)=C/CCC(\\C)=C/CCC(/C)=C/CCC(/C)=C/CCC(/C)=C/CCC(/C)=C/CCC(/C)=C/CCC(/C)=C/CCC(/C)=C/CCC(/C)=C/COP(=O)([O-])OP(O[C@@H]1([C@@H]([C@H]([C@H]([C@H](O1)CO)O)O[C@H]2([C@@H]([C@@H]([C@H]([C@@H](O2)C)O[C@H]3([C@H]([C@H]([C@@H]([C@H](O3)CO[C@@H]4([C@@H]([C@H]([C@H]([C@H](O4)CO)O)O[C@H]5([C@@H]([C@@H]([C@H]([C@@H](O5)C)O[C@H]6([C@H]([C@H]([C@@H]([C@H](O6)CO[C@@H]7([C@@H]([C@H]([C@H]([C@H](O7)CO)O)O[C@H]8([C@@H]([C@@H]([C@H]([C@@H](O8)C)O[C@H]9([C@H]([C@H]([C@@H]([C@H](O9)CO[R])O)O)O))O)O))O))O)O)O))O)O))O))O)O)O))O)O))O))([O-])=O\n",
      "[17:42:32] SMILES Parse Error: Failed parsing SMILES 'CC(C)=CCCC(\\C)=C/CCC(\\C)=C/CCC(/C)=C/CCC(/C)=C/CCC(/C)=C/CCC(/C)=C/CCC(/C)=C/CCC(/C)=C/CCC(/C)=C/CCC(/C)=C/COP(=O)([O-])OP(O[C@@H]1([C@@H]([C@H]([C@H]([C@H](O1)CO)O)O[C@H]2([C@@H]([C@@H]([C@H]([C@@H](O2)C)O[C@H]3([C@H]([C@H]([C@@H]([C@H](O3)CO[C@@H]4([C@@H]([C@H]([C@H]([C@H](O4)CO)O)O[C@H]5([C@@H]([C@@H]([C@H]([C@@H](O5)C)O[C@H]6([C@H]([C@H]([C@@H]([C@H](O6)CO[C@@H]7([C@@H]([C@H]([C@H]([C@H](O7)CO)O)O[C@H]8([C@@H]([C@@H]([C@H]([C@@H](O8)C)O[C@H]9([C@H]([C@H]([C@@H]([C@H](O9)CO[R])O)O)O))O)O))O))O)O)O))O)O))O))O)O)O))O)O))O))([O-])=O' for input: 'CC(C)=CCCC(\\C)=C/CCC(\\C)=C/CCC(/C)=C/CCC(/C)=C/CCC(/C)=C/CCC(/C)=C/CCC(/C)=C/CCC(/C)=C/CCC(/C)=C/CCC(/C)=C/COP(=O)([O-])OP(O[C@@H]1([C@@H]([C@H]([C@H]([C@H](O1)CO)O)O[C@H]2([C@@H]([C@@H]([C@H]([C@@H](O2)C)O[C@H]3([C@H]([C@H]([C@@H]([C@H](O3)CO[C@@H]4([C@@H]([C@H]([C@H]([C@H](O4)CO)O)O[C@H]5([C@@H]([C@@H]([C@H]([C@@H](O5)C)O[C@H]6([C@H]([C@H]([C@@H]([C@H](O6)CO[C@@H]7([C@@H]([C@H]([C@H]([C@H](O7)CO)O)O[C@H]8([C@@H]([C@@H]([C@H]([C@@H](O8)C)O[C@H]9([C@H]([C@H]([C@@H]([C@H](O9)CO[R])O)O)O))O)O))O))O)O)O))O)O))O))O)O)O))O)O))O))([O-])=O'\n",
      "[17:42:33] WARNING: not removing hydrogen atom without neighbors\n",
      "[17:42:33] SMILES Parse Error: syntax error while parsing: CC(C)=CCCC(\\C)=C/CCC(\\C)=C/CCC(/C)=C/CCC(/C)=C/CCC(/C)=C/CCC(/C)=C/CCC(/C)=C/CCC(/C)=C/CCC(/C)=C/CCC(/C)=C/COP(=O)([O-])OP([O-])(=O)O[C@@H]1([C@@H]([C@H]([C@H]([C@H](O1)CO)O)O[C@@H]%12(O[C@@H](C)[C@@H](O)[C@@H](O[C@H]%11(O[C@H](CO)[C@@H](O)[C@H](O[C@@H]2([C@@H]([C@H]([C@H](O)[C@H](O2)C)NC(C)=O)O[C@@H]3([C@@H]([C@H]([C@H]([C@H](O3)CO)O)O[C@@H]%10(O[C@@H](C)[C@@H](O)[C@@H](O[C@H]9(O[C@H](CO)[C@@H](O)[C@H](O[C@@H]4([C@@H]([C@H]([C@H](O)[C@H](O4)C)NC(C)=O)O[C@@H]5([C@@H]([C@H]([C@H]([C@H](O5)CO)O)O[C@@H]8(O[C@@H](C)[C@@H](O)[C@@H](O[C@H]7(O[C@H](CO)[C@@H](O)[C@H](O[C@@H]6([C@@H]([C@H]([C@H](O)[C@H](O6)C)NC(C)=O)O[R]))[C@H](O)7))[C@H](O)8))NC(C)=O)))[C@H](O)9))[C@H](O)%10))NC(C)=O)))[C@H](O)%11))[C@H](O)%12))NC(C)=O)\n",
      "[17:42:33] SMILES Parse Error: Failed parsing SMILES 'CC(C)=CCCC(\\C)=C/CCC(\\C)=C/CCC(/C)=C/CCC(/C)=C/CCC(/C)=C/CCC(/C)=C/CCC(/C)=C/CCC(/C)=C/CCC(/C)=C/CCC(/C)=C/COP(=O)([O-])OP([O-])(=O)O[C@@H]1([C@@H]([C@H]([C@H]([C@H](O1)CO)O)O[C@@H]%12(O[C@@H](C)[C@@H](O)[C@@H](O[C@H]%11(O[C@H](CO)[C@@H](O)[C@H](O[C@@H]2([C@@H]([C@H]([C@H](O)[C@H](O2)C)NC(C)=O)O[C@@H]3([C@@H]([C@H]([C@H]([C@H](O3)CO)O)O[C@@H]%10(O[C@@H](C)[C@@H](O)[C@@H](O[C@H]9(O[C@H](CO)[C@@H](O)[C@H](O[C@@H]4([C@@H]([C@H]([C@H](O)[C@H](O4)C)NC(C)=O)O[C@@H]5([C@@H]([C@H]([C@H]([C@H](O5)CO)O)O[C@@H]8(O[C@@H](C)[C@@H](O)[C@@H](O[C@H]7(O[C@H](CO)[C@@H](O)[C@H](O[C@@H]6([C@@H]([C@H]([C@H](O)[C@H](O6)C)NC(C)=O)O[R]))[C@H](O)7))[C@H](O)8))NC(C)=O)))[C@H](O)9))[C@H](O)%10))NC(C)=O)))[C@H](O)%11))[C@H](O)%12))NC(C)=O)' for input: 'CC(C)=CCCC(\\C)=C/CCC(\\C)=C/CCC(/C)=C/CCC(/C)=C/CCC(/C)=C/CCC(/C)=C/CCC(/C)=C/CCC(/C)=C/CCC(/C)=C/CCC(/C)=C/COP(=O)([O-])OP([O-])(=O)O[C@@H]1([C@@H]([C@H]([C@H]([C@H](O1)CO)O)O[C@@H]%12(O[C@@H](C)[C@@H](O)[C@@H](O[C@H]%11(O[C@H](CO)[C@@H](O)[C@H](O[C@@H]2([C@@H]([C@H]([C@H](O)[C@H](O2)C)NC(C)=O)O[C@@H]3([C@@H]([C@H]([C@H]([C@H](O3)CO)O)O[C@@H]%10(O[C@@H](C)[C@@H](O)[C@@H](O[C@H]9(O[C@H](CO)[C@@H](O)[C@H](O[C@@H]4([C@@H]([C@H]([C@H](O)[C@H](O4)C)NC(C)=O)O[C@@H]5([C@@H]([C@H]([C@H]([C@H](O5)CO)O)O[C@@H]8(O[C@@H](C)[C@@H](O)[C@@H](O[C@H]7(O[C@H](CO)[C@@H](O)[C@H](O[C@@H]6([C@@H]([C@H]([C@H](O)[C@H](O6)C)NC(C)=O)O[R]))[C@H](O)7))[C@H](O)8))NC(C)=O)))[C@H](O)9))[C@H](O)%10))NC(C)=O)))[C@H](O)%11))[C@H](O)%12))NC(C)=O)'\n",
      " 80%|███████▉  | 2816/3538 [02:40<03:32,  3.40it/s][17:42:34] WARNING: not removing hydrogen atom without neighbors\n",
      "[17:42:34] SMILES Parse Error: syntax error while parsing: CC(C)=CCCC(\\C)=C/CCC(\\C)=C/CCC(/C)=C/CCC(/C)=C/CCC(/C)=C/CCC(/C)=C/CCC(/C)=C/CCC(/C)=C/CCC(/C)=C/CCC(/C)=C/COP(=O)([O-])OP(O[C@@H]1([C@@H]([C@H]([C@H]([C@H](O1)CO)O)O[C@H]2([C@@H]([C@@H]([C@H]([C@@H](O2)C)O[C@@H]3([C@H]([C@H]([C@H](O)[C@H](O3)CO)O[C@@H]4([C@@H](C[C@H]([C@H](O4)C)O)O))O[C@@H]5([C@@H]([C@H]([C@H]([C@H](O5)CO)O)O[C@H]6([C@@H]([C@@H]([C@H]([C@@H](O6)C)O[C@@H]7([C@H]([C@H]([C@H](O)[C@H](O7)CO)O[C@@H]8([C@@H](C[C@H]([C@H](O8)C)O)O))O[C@@H]9([C@@H]([C@H]([C@H]([C@H](O9)CO)O)O[C@H]%10([C@@H]([C@@H]([C@H]([C@@H](O%10)C)O[C@@H]%11([C@H]([C@H]([C@H](O)[C@H](O%11)CO)O[C@@H]%12([C@@H](C[C@H]([C@H](O%12)C)O)O))O[R]))O)O))O)))O)O))O)))O)O))O))([O-])=O\n",
      "[17:42:34] SMILES Parse Error: Failed parsing SMILES 'CC(C)=CCCC(\\C)=C/CCC(\\C)=C/CCC(/C)=C/CCC(/C)=C/CCC(/C)=C/CCC(/C)=C/CCC(/C)=C/CCC(/C)=C/CCC(/C)=C/CCC(/C)=C/COP(=O)([O-])OP(O[C@@H]1([C@@H]([C@H]([C@H]([C@H](O1)CO)O)O[C@H]2([C@@H]([C@@H]([C@H]([C@@H](O2)C)O[C@@H]3([C@H]([C@H]([C@H](O)[C@H](O3)CO)O[C@@H]4([C@@H](C[C@H]([C@H](O4)C)O)O))O[C@@H]5([C@@H]([C@H]([C@H]([C@H](O5)CO)O)O[C@H]6([C@@H]([C@@H]([C@H]([C@@H](O6)C)O[C@@H]7([C@H]([C@H]([C@H](O)[C@H](O7)CO)O[C@@H]8([C@@H](C[C@H]([C@H](O8)C)O)O))O[C@@H]9([C@@H]([C@H]([C@H]([C@H](O9)CO)O)O[C@H]%10([C@@H]([C@@H]([C@H]([C@@H](O%10)C)O[C@@H]%11([C@H]([C@H]([C@H](O)[C@H](O%11)CO)O[C@@H]%12([C@@H](C[C@H]([C@H](O%12)C)O)O))O[R]))O)O))O)))O)O))O)))O)O))O))([O-])=O' for input: 'CC(C)=CCCC(\\C)=C/CCC(\\C)=C/CCC(/C)=C/CCC(/C)=C/CCC(/C)=C/CCC(/C)=C/CCC(/C)=C/CCC(/C)=C/CCC(/C)=C/CCC(/C)=C/COP(=O)([O-])OP(O[C@@H]1([C@@H]([C@H]([C@H]([C@H](O1)CO)O)O[C@H]2([C@@H]([C@@H]([C@H]([C@@H](O2)C)O[C@@H]3([C@H]([C@H]([C@H](O)[C@H](O3)CO)O[C@@H]4([C@@H](C[C@H]([C@H](O4)C)O)O))O[C@@H]5([C@@H]([C@H]([C@H]([C@H](O5)CO)O)O[C@H]6([C@@H]([C@@H]([C@H]([C@@H](O6)C)O[C@@H]7([C@H]([C@H]([C@H](O)[C@H](O7)CO)O[C@@H]8([C@@H](C[C@H]([C@H](O8)C)O)O))O[C@@H]9([C@@H]([C@H]([C@H]([C@H](O9)CO)O)O[C@H]%10([C@@H]([C@@H]([C@H]([C@@H](O%10)C)O[C@@H]%11([C@H]([C@H]([C@H](O)[C@H](O%11)CO)O[C@@H]%12([C@@H](C[C@H]([C@H](O%12)C)O)O))O[R]))O)O))O)))O)O))O)))O)O))O))([O-])=O'\n",
      "[17:42:35] WARNING: not removing hydrogen atom without neighbors\n",
      "[17:42:35] SMILES Parse Error: syntax error while parsing: CC(C)=CCCC(\\C)=C/CCC(\\C)=C/CCC(/C)=C/CCC(/C)=C/CCC(/C)=C/CCC(/C)=C/CCC(/C)=C/CCC(/C)=C/CCC(/C)=C/CCC(/C)=C/COP(=O)([O-])OP([O-])(=O)O[C@@H]1([C@@H]([C@H]([C@@H]([C@H](O1)CO)O[C@@H]6(O[C@H](CO)[C@@H](O[C@@H]5(O[C@H](CO)[C@@H](O)[C@H](O[C@@H]4(O[C@H](CO)[C@@H](O[C@@H]3(O[C@H](CO)[C@@H](O)[C@H](O[C@@H]2(O[C@H](CO)[C@@H](O)[C@H](O)[C@H](NC(=O)C)2))[C@H](NC(=O)C)3))[C@H](O)[C@H](NC(=O)C)4))[C@H](NC(=O)C)5))[C@H](O)[C@H](NC(=O)C)6))O)NC(C)=O).C[R]\n",
      "[17:42:35] SMILES Parse Error: Failed parsing SMILES 'CC(C)=CCCC(\\C)=C/CCC(\\C)=C/CCC(/C)=C/CCC(/C)=C/CCC(/C)=C/CCC(/C)=C/CCC(/C)=C/CCC(/C)=C/CCC(/C)=C/CCC(/C)=C/COP(=O)([O-])OP([O-])(=O)O[C@@H]1([C@@H]([C@H]([C@@H]([C@H](O1)CO)O[C@@H]6(O[C@H](CO)[C@@H](O[C@@H]5(O[C@H](CO)[C@@H](O)[C@H](O[C@@H]4(O[C@H](CO)[C@@H](O[C@@H]3(O[C@H](CO)[C@@H](O)[C@H](O[C@@H]2(O[C@H](CO)[C@@H](O)[C@H](O)[C@H](NC(=O)C)2))[C@H](NC(=O)C)3))[C@H](O)[C@H](NC(=O)C)4))[C@H](NC(=O)C)5))[C@H](O)[C@H](NC(=O)C)6))O)NC(C)=O).C[R]' for input: 'CC(C)=CCCC(\\C)=C/CCC(\\C)=C/CCC(/C)=C/CCC(/C)=C/CCC(/C)=C/CCC(/C)=C/CCC(/C)=C/CCC(/C)=C/CCC(/C)=C/CCC(/C)=C/COP(=O)([O-])OP([O-])(=O)O[C@@H]1([C@@H]([C@H]([C@@H]([C@H](O1)CO)O[C@@H]6(O[C@H](CO)[C@@H](O[C@@H]5(O[C@H](CO)[C@@H](O)[C@H](O[C@@H]4(O[C@H](CO)[C@@H](O[C@@H]3(O[C@H](CO)[C@@H](O)[C@H](O[C@@H]2(O[C@H](CO)[C@@H](O)[C@H](O)[C@H](NC(=O)C)2))[C@H](NC(=O)C)3))[C@H](O)[C@H](NC(=O)C)4))[C@H](NC(=O)C)5))[C@H](O)[C@H](NC(=O)C)6))O)NC(C)=O).C[R]'\n",
      "[17:42:37] WARNING: not removing hydrogen atom without neighbors\n",
      "[17:42:37] SMILES Parse Error: syntax error while parsing: CC(C)=CCCC(\\C)=C/CCC(\\C)=C/CCC(/C)=C/CCC(/C)=C/CCC(/C)=C/CCC(/C)=C/CCC(/C)=C/CCC(/C)=C/CCC(/C)=C/CCC(/C)=C/COP(=O)([O-])OP([O-])(=O)O[C@@H]1([C@@H]([C@H]([C@H](O)[C@H](O1)CO)O[C@@H]%15(O[C@H](CO)[C@@H](O)[C@H](O)[C@H](O[C@H]%14(O[C@H](CO)[C@@H](O)[C@H](O)[C@H](O[C@H]%13(O[C@H](CO)[C@@H](O)[C@H](O)[C@H](O[C@@H]%12(O[C@H](CO)[C@@H](O)[C@H](O)[C@H](O[C@H]2([C@@H]([C@H]([C@H](O)[C@H](O2)CO)O[C@@H]%11(O[C@H](CO)[C@@H](O)[C@H](O)[C@H](O[C@H]%10(O[C@H](CO)[C@@H](O)[C@H](O)[C@H](O[C@H]9(O[C@H](CO)[C@@H](O)[C@H](O)[C@H](O[C@@H]8(O[C@H](CO)[C@@H](O)[C@H](O)[C@H](O[C@H]3([C@@H]([C@H]([C@H](O)[C@H](O3)CO)O[C@@H]7(O[C@H](CO)[C@@H](O)[C@H](O)[C@H](O[C@H]6(O[C@H](CO)[C@@H](O)[C@H](O)[C@H](O[C@H]5(O[C@H](CO)[C@@H](O)[C@H](O)[C@H](O[C@@H]4(O[C@H](CO)[C@@H](O)[C@H](O)[C@H](O[R])4))5))6))7))NC(C)=O))8))9))%10))%11))NC(C)=O))%12))%13))%14))%15))NC(C)=O)\n",
      "[17:42:37] SMILES Parse Error: Failed parsing SMILES 'CC(C)=CCCC(\\C)=C/CCC(\\C)=C/CCC(/C)=C/CCC(/C)=C/CCC(/C)=C/CCC(/C)=C/CCC(/C)=C/CCC(/C)=C/CCC(/C)=C/CCC(/C)=C/COP(=O)([O-])OP([O-])(=O)O[C@@H]1([C@@H]([C@H]([C@H](O)[C@H](O1)CO)O[C@@H]%15(O[C@H](CO)[C@@H](O)[C@H](O)[C@H](O[C@H]%14(O[C@H](CO)[C@@H](O)[C@H](O)[C@H](O[C@H]%13(O[C@H](CO)[C@@H](O)[C@H](O)[C@H](O[C@@H]%12(O[C@H](CO)[C@@H](O)[C@H](O)[C@H](O[C@H]2([C@@H]([C@H]([C@H](O)[C@H](O2)CO)O[C@@H]%11(O[C@H](CO)[C@@H](O)[C@H](O)[C@H](O[C@H]%10(O[C@H](CO)[C@@H](O)[C@H](O)[C@H](O[C@H]9(O[C@H](CO)[C@@H](O)[C@H](O)[C@H](O[C@@H]8(O[C@H](CO)[C@@H](O)[C@H](O)[C@H](O[C@H]3([C@@H]([C@H]([C@H](O)[C@H](O3)CO)O[C@@H]7(O[C@H](CO)[C@@H](O)[C@H](O)[C@H](O[C@H]6(O[C@H](CO)[C@@H](O)[C@H](O)[C@H](O[C@H]5(O[C@H](CO)[C@@H](O)[C@H](O)[C@H](O[C@@H]4(O[C@H](CO)[C@@H](O)[C@H](O)[C@H](O[R])4))5))6))7))NC(C)=O))8))9))%10))%11))NC(C)=O))%12))%13))%14))%15))NC(C)=O)' for input: 'CC(C)=CCCC(\\C)=C/CCC(\\C)=C/CCC(/C)=C/CCC(/C)=C/CCC(/C)=C/CCC(/C)=C/CCC(/C)=C/CCC(/C)=C/CCC(/C)=C/CCC(/C)=C/COP(=O)([O-])OP([O-])(=O)O[C@@H]1([C@@H]([C@H]([C@H](O)[C@H](O1)CO)O[C@@H]%15(O[C@H](CO)[C@@H](O)[C@H](O)[C@H](O[C@H]%14(O[C@H](CO)[C@@H](O)[C@H](O)[C@H](O[C@H]%13(O[C@H](CO)[C@@H](O)[C@H](O)[C@H](O[C@@H]%12(O[C@H](CO)[C@@H](O)[C@H](O)[C@H](O[C@H]2([C@@H]([C@H]([C@H](O)[C@H](O2)CO)O[C@@H]%11(O[C@H](CO)[C@@H](O)[C@H](O)[C@H](O[C@H]%10(O[C@H](CO)[C@@H](O)[C@H](O)[C@H](O[C@H]9(O[C@H](CO)[C@@H](O)[C@H](O)[C@H](O[C@@H]8(O[C@H](CO)[C@@H](O)[C@H](O)[C@H](O[C@H]3([C@@H]([C@H]([C@H](O)[C@H](O3)CO)O[C@@H]7(O[C@H](CO)[C@@H](O)[C@H](O)[C@H](O[C@H]6(O[C@H](CO)[C@@H](O)[C@H](O)[C@H](O[C@H]5(O[C@H](CO)[C@@H](O)[C@H](O)[C@H](O[C@@H]4(O[C@H](CO)[C@@H](O)[C@H](O)[C@H](O[R])4))5))6))7))NC(C)=O))8))9))%10))%11))NC(C)=O))%12))%13))%14))%15))NC(C)=O)'\n",
      " 80%|███████▉  | 2819/3538 [02:44<05:20,  2.24it/s][17:42:38] WARNING: not removing hydrogen atom without neighbors\n",
      "[17:42:38] SMILES Parse Error: syntax error while parsing: CC(C)=CCCC(\\C)=C/CCC(\\C)=C/CCC(/C)=C/CCC(/C)=C/CCC(/C)=C/CCC(/C)=C/CCC(/C)=C/CCC(/C)=C/CCC(/C)=C/CCC(/C)=C/COP(=O)([O-])OP(O[C@H]%15(O[C@H](CO)[C@H](O)[C@H](O[C@H]%14(O[C@H](CO)[C@@H](O)[C@H](O)[C@H](O[C@H]%13(O[C@H](CO)[C@@H](O)[C@H](O)[C@H](O[C@@H]%12(O[C@@H](C)[C@H](O[C@H]%10(O[C@H](CO)[C@H](O)[C@H](O[C@H]9(O[C@H](CO)[C@@H](O)[C@H](O)[C@H](O[C@H]8(O[C@H](CO)[C@@H](O)[C@H](O)[C@H](O[C@@H]7(O[C@@H](C)[C@H](O[C@H]5(O[C@H](CO)[C@H](O)[C@H](O[C@H]4(O[C@H](CO)[C@@H](O)[C@H](O)[C@H](O[C@H]3(O[C@H](CO)[C@@H](O)[C@H](O)[C@H](O[C@@H]2(O[C@@H](C)[C@H](O[R])[C@@H](O[C@H]1(O[C@H](C)[C@H](O)C[C@@H](O)1))[C@@H](OC(=O)C)2))3))4))[C@@H](O)5))[C@@H](O[C@H]6(O[C@H](C)[C@H](O)C[C@@H](O)6))[C@@H](OC(=O)C)7))8))9))[C@@H](O)%10))[C@@H](O[C@H]%11(O[C@H](C)[C@H](O)C[C@@H](O)%11))[C@@H](OC(=O)C)%12))%13))%14))[C@@H](O)%15))([O-])=O\n",
      "[17:42:38] SMILES Parse Error: Failed parsing SMILES 'CC(C)=CCCC(\\C)=C/CCC(\\C)=C/CCC(/C)=C/CCC(/C)=C/CCC(/C)=C/CCC(/C)=C/CCC(/C)=C/CCC(/C)=C/CCC(/C)=C/CCC(/C)=C/COP(=O)([O-])OP(O[C@H]%15(O[C@H](CO)[C@H](O)[C@H](O[C@H]%14(O[C@H](CO)[C@@H](O)[C@H](O)[C@H](O[C@H]%13(O[C@H](CO)[C@@H](O)[C@H](O)[C@H](O[C@@H]%12(O[C@@H](C)[C@H](O[C@H]%10(O[C@H](CO)[C@H](O)[C@H](O[C@H]9(O[C@H](CO)[C@@H](O)[C@H](O)[C@H](O[C@H]8(O[C@H](CO)[C@@H](O)[C@H](O)[C@H](O[C@@H]7(O[C@@H](C)[C@H](O[C@H]5(O[C@H](CO)[C@H](O)[C@H](O[C@H]4(O[C@H](CO)[C@@H](O)[C@H](O)[C@H](O[C@H]3(O[C@H](CO)[C@@H](O)[C@H](O)[C@H](O[C@@H]2(O[C@@H](C)[C@H](O[R])[C@@H](O[C@H]1(O[C@H](C)[C@H](O)C[C@@H](O)1))[C@@H](OC(=O)C)2))3))4))[C@@H](O)5))[C@@H](O[C@H]6(O[C@H](C)[C@H](O)C[C@@H](O)6))[C@@H](OC(=O)C)7))8))9))[C@@H](O)%10))[C@@H](O[C@H]%11(O[C@H](C)[C@H](O)C[C@@H](O)%11))[C@@H](OC(=O)C)%12))%13))%14))[C@@H](O)%15))([O-])=O' for input: 'CC(C)=CCCC(\\C)=C/CCC(\\C)=C/CCC(/C)=C/CCC(/C)=C/CCC(/C)=C/CCC(/C)=C/CCC(/C)=C/CCC(/C)=C/CCC(/C)=C/CCC(/C)=C/COP(=O)([O-])OP(O[C@H]%15(O[C@H](CO)[C@H](O)[C@H](O[C@H]%14(O[C@H](CO)[C@@H](O)[C@H](O)[C@H](O[C@H]%13(O[C@H](CO)[C@@H](O)[C@H](O)[C@H](O[C@@H]%12(O[C@@H](C)[C@H](O[C@H]%10(O[C@H](CO)[C@H](O)[C@H](O[C@H]9(O[C@H](CO)[C@@H](O)[C@H](O)[C@H](O[C@H]8(O[C@H](CO)[C@@H](O)[C@H](O)[C@H](O[C@@H]7(O[C@@H](C)[C@H](O[C@H]5(O[C@H](CO)[C@H](O)[C@H](O[C@H]4(O[C@H](CO)[C@@H](O)[C@H](O)[C@H](O[C@H]3(O[C@H](CO)[C@@H](O)[C@H](O)[C@H](O[C@@H]2(O[C@@H](C)[C@H](O[R])[C@@H](O[C@H]1(O[C@H](C)[C@H](O)C[C@@H](O)1))[C@@H](OC(=O)C)2))3))4))[C@@H](O)5))[C@@H](O[C@H]6(O[C@H](C)[C@H](O)C[C@@H](O)6))[C@@H](OC(=O)C)7))8))9))[C@@H](O)%10))[C@@H](O[C@H]%11(O[C@H](C)[C@H](O)C[C@@H](O)%11))[C@@H](OC(=O)C)%12))%13))%14))[C@@H](O)%15))([O-])=O'\n",
      "[17:42:39] WARNING: not removing hydrogen atom without neighbors\n",
      "[17:42:39] SMILES Parse Error: syntax error while parsing: CC(C)=CCCC(\\C)=C/CCC(\\C)=C/CCC(/C)=C/CCC(/C)=C/CCC(/C)=C/CCC(/C)=C/CCC(/C)=C/CCC(/C)=C/CCC(/C)=C/CCC(/C)=C/COP(=O)([O-])OP(O[C@@H]1([C@@H]([C@H]([C@H]([C@H](O1)CO)O)O[C@H]2([C@@H]([C@@H]([C@H]([C@@H](O2)C)O[C@@H]3([C@H]([C@H]([C@H](O)[C@H](O3)CO)O[C@@H]4([C@H](C[C@@H]([C@H](O4)C)O)O))O[C@@H]5([C@@H]([C@H]([C@H]([C@H](O5)CO)O)O[C@H]6([C@@H]([C@@H]([C@H]([C@@H](O6)C)O[C@@H]7([C@H]([C@H]([C@H](O)[C@H](O7)CO)O[C@@H]8([C@H](C[C@@H]([C@H](O8)C)O)O))O[C@@H]9([C@@H]([C@H]([C@H]([C@H](O9)CO)O)O[C@H]%10([C@@H]([C@@H]([C@H]([C@@H](O%10)C)O[C@@H]%11([C@H]([C@H]([C@H](O)[C@H](O%11)CO)O[C@@H]%12([C@H](C[C@@H]([C@H](O%12)C)O)O))O[R]))O)O))O)))O)O))O)))O)O))O))([O-])=O\n",
      "[17:42:39] SMILES Parse Error: Failed parsing SMILES 'CC(C)=CCCC(\\C)=C/CCC(\\C)=C/CCC(/C)=C/CCC(/C)=C/CCC(/C)=C/CCC(/C)=C/CCC(/C)=C/CCC(/C)=C/CCC(/C)=C/CCC(/C)=C/COP(=O)([O-])OP(O[C@@H]1([C@@H]([C@H]([C@H]([C@H](O1)CO)O)O[C@H]2([C@@H]([C@@H]([C@H]([C@@H](O2)C)O[C@@H]3([C@H]([C@H]([C@H](O)[C@H](O3)CO)O[C@@H]4([C@H](C[C@@H]([C@H](O4)C)O)O))O[C@@H]5([C@@H]([C@H]([C@H]([C@H](O5)CO)O)O[C@H]6([C@@H]([C@@H]([C@H]([C@@H](O6)C)O[C@@H]7([C@H]([C@H]([C@H](O)[C@H](O7)CO)O[C@@H]8([C@H](C[C@@H]([C@H](O8)C)O)O))O[C@@H]9([C@@H]([C@H]([C@H]([C@H](O9)CO)O)O[C@H]%10([C@@H]([C@@H]([C@H]([C@@H](O%10)C)O[C@@H]%11([C@H]([C@H]([C@H](O)[C@H](O%11)CO)O[C@@H]%12([C@H](C[C@@H]([C@H](O%12)C)O)O))O[R]))O)O))O)))O)O))O)))O)O))O))([O-])=O' for input: 'CC(C)=CCCC(\\C)=C/CCC(\\C)=C/CCC(/C)=C/CCC(/C)=C/CCC(/C)=C/CCC(/C)=C/CCC(/C)=C/CCC(/C)=C/CCC(/C)=C/CCC(/C)=C/COP(=O)([O-])OP(O[C@@H]1([C@@H]([C@H]([C@H]([C@H](O1)CO)O)O[C@H]2([C@@H]([C@@H]([C@H]([C@@H](O2)C)O[C@@H]3([C@H]([C@H]([C@H](O)[C@H](O3)CO)O[C@@H]4([C@H](C[C@@H]([C@H](O4)C)O)O))O[C@@H]5([C@@H]([C@H]([C@H]([C@H](O5)CO)O)O[C@H]6([C@@H]([C@@H]([C@H]([C@@H](O6)C)O[C@@H]7([C@H]([C@H]([C@H](O)[C@H](O7)CO)O[C@@H]8([C@H](C[C@@H]([C@H](O8)C)O)O))O[C@@H]9([C@@H]([C@H]([C@H]([C@H](O9)CO)O)O[C@H]%10([C@@H]([C@@H]([C@H]([C@@H](O%10)C)O[C@@H]%11([C@H]([C@H]([C@H](O)[C@H](O%11)CO)O[C@@H]%12([C@H](C[C@@H]([C@H](O%12)C)O)O))O[R]))O)O))O)))O)O))O)))O)O))O))([O-])=O'\n",
      " 80%|███████▉  | 2821/3538 [02:46<06:38,  1.80it/s][17:42:40] SMILES Parse Error: syntax error while parsing: CC(C)=CCCC(\\C)=C/CCC(\\C)=C/CCC(/C)=C/CCC(/C)=C/CCC(/C)=C/CCC(/C)=C/CCC(/C)=C/CCC(/C)=C/CCC(/C)=C/CCC(/C)=C/COP(=O)([O-])OP(O[C@@H]1([C@@H]([C@H]([C@H]([C@H](O1)CO)O)O[C@H]2([C@@H]([C@@H]([C@H]([C@@H](O2)C)O[C@H]3([C@H]([C@H]([C@H](O)[C@H](O3)CO[C@@H]4([C@@H]([C@H]([C@H]([C@H](O4)CO)O)O[C@H]5([C@@H]([C@@H]([C@H]([C@@H](O5)C)O[C@H]6([C@H]([C@H]([C@H](O)[C@H](O6)CO[C@@H]7([C@@H]([C@H]([C@H]([C@H](O7)CO)O)O[C@H]8([C@@H]([C@@H]([C@H]([C@@H](O8)C)O[C@H]9([C@H]([C@H]([C@H](O)[C@H](O9)CO[R])O[C@@H]%10([C@H](C[C@@H]([C@H](O%10)C)O)O))O))O)O))O))O[C@@H]%11([C@H](C[C@@H]([C@H](O%11)C)O)O))O))O)O))O))O[C@@H]%12([C@H](C[C@@H]([C@H](O%12)C)O)O))O))O)O))O))([O-])=O\n",
      "[17:42:40] SMILES Parse Error: Failed parsing SMILES 'CC(C)=CCCC(\\C)=C/CCC(\\C)=C/CCC(/C)=C/CCC(/C)=C/CCC(/C)=C/CCC(/C)=C/CCC(/C)=C/CCC(/C)=C/CCC(/C)=C/CCC(/C)=C/COP(=O)([O-])OP(O[C@@H]1([C@@H]([C@H]([C@H]([C@H](O1)CO)O)O[C@H]2([C@@H]([C@@H]([C@H]([C@@H](O2)C)O[C@H]3([C@H]([C@H]([C@H](O)[C@H](O3)CO[C@@H]4([C@@H]([C@H]([C@H]([C@H](O4)CO)O)O[C@H]5([C@@H]([C@@H]([C@H]([C@@H](O5)C)O[C@H]6([C@H]([C@H]([C@H](O)[C@H](O6)CO[C@@H]7([C@@H]([C@H]([C@H]([C@H](O7)CO)O)O[C@H]8([C@@H]([C@@H]([C@H]([C@@H](O8)C)O[C@H]9([C@H]([C@H]([C@H](O)[C@H](O9)CO[R])O[C@@H]%10([C@H](C[C@@H]([C@H](O%10)C)O)O))O))O)O))O))O[C@@H]%11([C@H](C[C@@H]([C@H](O%11)C)O)O))O))O)O))O))O[C@@H]%12([C@H](C[C@@H]([C@H](O%12)C)O)O))O))O)O))O))([O-])=O' for input: 'CC(C)=CCCC(\\C)=C/CCC(\\C)=C/CCC(/C)=C/CCC(/C)=C/CCC(/C)=C/CCC(/C)=C/CCC(/C)=C/CCC(/C)=C/CCC(/C)=C/CCC(/C)=C/COP(=O)([O-])OP(O[C@@H]1([C@@H]([C@H]([C@H]([C@H](O1)CO)O)O[C@H]2([C@@H]([C@@H]([C@H]([C@@H](O2)C)O[C@H]3([C@H]([C@H]([C@H](O)[C@H](O3)CO[C@@H]4([C@@H]([C@H]([C@H]([C@H](O4)CO)O)O[C@H]5([C@@H]([C@@H]([C@H]([C@@H](O5)C)O[C@H]6([C@H]([C@H]([C@H](O)[C@H](O6)CO[C@@H]7([C@@H]([C@H]([C@H]([C@H](O7)CO)O)O[C@H]8([C@@H]([C@@H]([C@H]([C@@H](O8)C)O[C@H]9([C@H]([C@H]([C@H](O)[C@H](O9)CO[R])O[C@@H]%10([C@H](C[C@@H]([C@H](O%10)C)O)O))O))O)O))O))O[C@@H]%11([C@H](C[C@@H]([C@H](O%11)C)O)O))O))O)O))O))O[C@@H]%12([C@H](C[C@@H]([C@H](O%12)C)O)O))O))O)O))O))([O-])=O'\n",
      "[17:42:41] WARNING: not removing hydrogen atom without neighbors\n",
      "[17:42:42] WARNING: not removing hydrogen atom without neighbors\n",
      "[17:42:42] SMILES Parse Error: syntax error while parsing: CC(C)=CCCC(\\C)=C/CCC(\\C)=C/CCC(/C)=C/CCC(/C)=C/CCC(/C)=C/CCC(/C)=C/CCC(/C)=C/CCC(/C)=C/CCC(/C)=C/CCC(/C)=C/COP(=O)([O-])OP(O[C@@H]1([C@@H]([C@H]([C@H]([C@H](O1)CO)O)O[C@H]2([C@@H]([C@@H]([C@H]([C@@H](O2)C)O[C@@H]3([C@H]([C@H]([C@H](O)[C@H](O3)CO[C@@H]4([C@@H]([C@H]([C@H]([C@H](O4)CO)O)O[C@H]5([C@@H]([C@@H]([C@H]([C@@H](O5)C)O[C@H]6([C@H]([C@H]([C@H](O)[C@H](O6)CO[C@@H]7([C@@H]([C@H]([C@H]([C@H](O7)CO)O)O[C@H]8([C@@H]([C@@H]([C@H]([C@@H](O8)C)O[C@@H]9([C@H]([C@H]([C@H](O)[C@H](O9)CO[R])O[C@@H]%10([C@H](C[C@@H]([C@H](O%10)C)O)O))O))O)O))O))O[C@@H]%11([C@H](C[C@@H]([C@H](O%11)C)O)O))O))O)O))O))O[C@@H]%12([C@H](C[C@@H]([C@H](O%12)C)O)O))O))O)O))O))([O-])=O\n",
      "[17:42:42] SMILES Parse Error: Failed parsing SMILES 'CC(C)=CCCC(\\C)=C/CCC(\\C)=C/CCC(/C)=C/CCC(/C)=C/CCC(/C)=C/CCC(/C)=C/CCC(/C)=C/CCC(/C)=C/CCC(/C)=C/CCC(/C)=C/COP(=O)([O-])OP(O[C@@H]1([C@@H]([C@H]([C@H]([C@H](O1)CO)O)O[C@H]2([C@@H]([C@@H]([C@H]([C@@H](O2)C)O[C@@H]3([C@H]([C@H]([C@H](O)[C@H](O3)CO[C@@H]4([C@@H]([C@H]([C@H]([C@H](O4)CO)O)O[C@H]5([C@@H]([C@@H]([C@H]([C@@H](O5)C)O[C@H]6([C@H]([C@H]([C@H](O)[C@H](O6)CO[C@@H]7([C@@H]([C@H]([C@H]([C@H](O7)CO)O)O[C@H]8([C@@H]([C@@H]([C@H]([C@@H](O8)C)O[C@@H]9([C@H]([C@H]([C@H](O)[C@H](O9)CO[R])O[C@@H]%10([C@H](C[C@@H]([C@H](O%10)C)O)O))O))O)O))O))O[C@@H]%11([C@H](C[C@@H]([C@H](O%11)C)O)O))O))O)O))O))O[C@@H]%12([C@H](C[C@@H]([C@H](O%12)C)O)O))O))O)O))O))([O-])=O' for input: 'CC(C)=CCCC(\\C)=C/CCC(\\C)=C/CCC(/C)=C/CCC(/C)=C/CCC(/C)=C/CCC(/C)=C/CCC(/C)=C/CCC(/C)=C/CCC(/C)=C/CCC(/C)=C/COP(=O)([O-])OP(O[C@@H]1([C@@H]([C@H]([C@H]([C@H](O1)CO)O)O[C@H]2([C@@H]([C@@H]([C@H]([C@@H](O2)C)O[C@@H]3([C@H]([C@H]([C@H](O)[C@H](O3)CO[C@@H]4([C@@H]([C@H]([C@H]([C@H](O4)CO)O)O[C@H]5([C@@H]([C@@H]([C@H]([C@@H](O5)C)O[C@H]6([C@H]([C@H]([C@H](O)[C@H](O6)CO[C@@H]7([C@@H]([C@H]([C@H]([C@H](O7)CO)O)O[C@H]8([C@@H]([C@@H]([C@H]([C@@H](O8)C)O[C@@H]9([C@H]([C@H]([C@H](O)[C@H](O9)CO[R])O[C@@H]%10([C@H](C[C@@H]([C@H](O%10)C)O)O))O))O)O))O))O[C@@H]%11([C@H](C[C@@H]([C@H](O%11)C)O)O))O))O)O))O))O[C@@H]%12([C@H](C[C@@H]([C@H](O%12)C)O)O))O))O)O))O))([O-])=O'\n",
      " 80%|███████▉  | 2823/3538 [02:49<08:10,  1.46it/s][17:42:43] WARNING: not removing hydrogen atom without neighbors\n",
      "[17:42:43] SMILES Parse Error: syntax error while parsing: CC(C)=CCCC(\\C)=C/CCC(\\C)=C/CCC(/C)=C/CCC(/C)=C/CCC(/C)=C/CCC(/C)=C/CCC(/C)=C/CCC(/C)=C/CCC(/C)=C/CCC(/C)=C/COP(=O)([O-])OP(O[C@@H]1([C@@H]([C@H]([C@H]([C@H](O1)CO)O)O[C@H]2([C@@H]([C@@H]([C@H]([C@@H](O2)C)O[C@@H]3([C@H]([C@H]([C@H](O)[C@H](O3)CO)O[C@@H]4([C@@H](C[C@H]([C@H](O4)C)O)O))O[C@@H]5([C@@H]([C@H]([C@H]([C@H](O5)CO)O)O[C@H]6([C@@H]([C@@H]([C@H]([C@@H](O6)C)O[C@@H]7([C@H]([C@H]([C@H](O)[C@H](O7)CO)O[C@@H]8([C@@H](C[C@H]([C@H](O8)C)O)O))O[C@@H]9([C@@H]([C@H]([C@H]([C@H](O9)CO)O)O[C@H]%10([C@@H]([C@@H]([C@H]([C@@H](O%10)C)O[C@@H]%11([C@H]([C@H]([C@H](O)[C@H](O%11)CO)O[C@@H]%12([C@@H](C[C@H]([C@H](O%12)C)O)O))O[R]))O)O))O)))O)O))O)))O)O))O))([O-])=O\n",
      "[17:42:43] SMILES Parse Error: Failed parsing SMILES 'CC(C)=CCCC(\\C)=C/CCC(\\C)=C/CCC(/C)=C/CCC(/C)=C/CCC(/C)=C/CCC(/C)=C/CCC(/C)=C/CCC(/C)=C/CCC(/C)=C/CCC(/C)=C/COP(=O)([O-])OP(O[C@@H]1([C@@H]([C@H]([C@H]([C@H](O1)CO)O)O[C@H]2([C@@H]([C@@H]([C@H]([C@@H](O2)C)O[C@@H]3([C@H]([C@H]([C@H](O)[C@H](O3)CO)O[C@@H]4([C@@H](C[C@H]([C@H](O4)C)O)O))O[C@@H]5([C@@H]([C@H]([C@H]([C@H](O5)CO)O)O[C@H]6([C@@H]([C@@H]([C@H]([C@@H](O6)C)O[C@@H]7([C@H]([C@H]([C@H](O)[C@H](O7)CO)O[C@@H]8([C@@H](C[C@H]([C@H](O8)C)O)O))O[C@@H]9([C@@H]([C@H]([C@H]([C@H](O9)CO)O)O[C@H]%10([C@@H]([C@@H]([C@H]([C@@H](O%10)C)O[C@@H]%11([C@H]([C@H]([C@H](O)[C@H](O%11)CO)O[C@@H]%12([C@@H](C[C@H]([C@H](O%12)C)O)O))O[R]))O)O))O)))O)O))O)))O)O))O))([O-])=O' for input: 'CC(C)=CCCC(\\C)=C/CCC(\\C)=C/CCC(/C)=C/CCC(/C)=C/CCC(/C)=C/CCC(/C)=C/CCC(/C)=C/CCC(/C)=C/CCC(/C)=C/CCC(/C)=C/COP(=O)([O-])OP(O[C@@H]1([C@@H]([C@H]([C@H]([C@H](O1)CO)O)O[C@H]2([C@@H]([C@@H]([C@H]([C@@H](O2)C)O[C@@H]3([C@H]([C@H]([C@H](O)[C@H](O3)CO)O[C@@H]4([C@@H](C[C@H]([C@H](O4)C)O)O))O[C@@H]5([C@@H]([C@H]([C@H]([C@H](O5)CO)O)O[C@H]6([C@@H]([C@@H]([C@H]([C@@H](O6)C)O[C@@H]7([C@H]([C@H]([C@H](O)[C@H](O7)CO)O[C@@H]8([C@@H](C[C@H]([C@H](O8)C)O)O))O[C@@H]9([C@@H]([C@H]([C@H]([C@H](O9)CO)O)O[C@H]%10([C@@H]([C@@H]([C@H]([C@@H](O%10)C)O[C@@H]%11([C@H]([C@H]([C@H](O)[C@H](O%11)CO)O[C@@H]%12([C@@H](C[C@H]([C@H](O%12)C)O)O))O[R]))O)O))O)))O)O))O)))O)O))O))([O-])=O'\n",
      "[17:42:44] WARNING: not removing hydrogen atom without neighbors\n",
      " 80%|███████▉  | 2825/3538 [02:51<09:30,  1.25it/s][17:42:44] WARNING: not removing hydrogen atom without neighbors\n",
      "[17:42:44] WARNING: not removing hydrogen atom without neighbors\n",
      "[17:42:44] WARNING: not removing hydrogen atom without neighbors\n",
      "[17:42:44] WARNING: not removing hydrogen atom without neighbors\n",
      "[17:42:44] WARNING: not removing hydrogen atom without neighbors\n",
      " 80%|████████  | 2833/3538 [02:52<04:33,  2.58it/s][17:42:45] WARNING: not removing hydrogen atom without neighbors\n",
      "[17:42:45] WARNING: not removing hydrogen atom without neighbors\n",
      "[17:42:45] Conflicting single bond directions around double bond at index 12.\n",
      "[17:42:45]   BondStereo set to STEREONONE and single bond directions set to NONE.\n",
      "[17:42:45] Conflicting single bond directions around double bond at index 17.\n",
      "[17:42:45]   BondStereo set to STEREONONE and single bond directions set to NONE.\n",
      "[17:42:45] Conflicting single bond directions around double bond at index 12.\n",
      "[17:42:45]   BondStereo set to STEREONONE and single bond directions set to NONE.\n",
      "[17:42:45] Conflicting single bond directions around double bond at index 17.\n",
      "[17:42:45]   BondStereo set to STEREONONE and single bond directions set to NONE.\n",
      "[17:42:45] Conflicting single bond directions around double bond at index 18.\n",
      "[17:42:45]   BondStereo set to STEREONONE and single bond directions set to NONE.\n",
      "[17:42:45] Conflicting single bond directions around double bond at index 23.\n",
      "[17:42:45]   BondStereo set to STEREONONE and single bond directions set to NONE.\n",
      "[17:42:45] WARNING: not removing hydrogen atom without neighbors\n",
      "[17:42:45] WARNING: not removing hydrogen atom without neighbors\n",
      "[17:42:45] WARNING: not removing hydrogen atom without neighbors\n",
      "[17:42:45] WARNING: not removing hydrogen atom without neighbors\n",
      "[17:42:45] WARNING: not removing hydrogen atom without neighbors\n",
      "[17:42:45] WARNING: not removing hydrogen atom without neighbors\n",
      " 80%|████████  | 2841/3538 [02:52<02:38,  4.40it/s][17:42:45] WARNING: not removing hydrogen atom without neighbors\n",
      "[17:42:45] WARNING: not removing hydrogen atom without neighbors\n",
      "[17:42:45] WARNING: not removing hydrogen atom without neighbors\n",
      "[17:42:45] WARNING: not removing hydrogen atom without neighbors\n",
      "[17:42:45] WARNING: not removing hydrogen atom without neighbors\n",
      "[17:42:45] WARNING: not removing hydrogen atom without neighbors\n",
      "[17:42:45] WARNING: not removing hydrogen atom without neighbors\n",
      " 81%|████████  | 2849/3538 [02:52<01:40,  6.84it/s][17:42:45] WARNING: not removing hydrogen atom without neighbors\n",
      "[17:42:45] WARNING: not removing hydrogen atom without neighbors\n",
      "[17:42:45] WARNING: not removing hydrogen atom without neighbors\n",
      "[17:42:45] WARNING: not removing hydrogen atom without neighbors\n",
      " 81%|████████  | 2857/3538 [02:52<01:08, 10.00it/s][17:42:45] WARNING: not removing hydrogen atom without neighbors\n",
      "[17:42:45] SMILES Parse Error: syntax error while parsing: CC(C)=CCCC(\\C)=C/CCC(\\C)=C/CCC(/C)=C/CCC(/C)=C/CCC(/C)=C/CCC(/C)=C/CCC(/C)=C/CCC(/C)=C/CCC(/C)=C/CCC(/C)=C/COP(=O)([O-])OP([O-])(=O)O[C@@H]1([C@@H]([C@H]([C@H]([C@H](O1)CO)O)O[C@H]%15(O[C@H](CO)[C@@H](O)[C@H](O)[C@H](O[C@H]%14(O[C@H](CO[C@@H]2([C@@H]([C@H]([C@H]([C@H](O2)CO)O[C@@H]3(O[C@H](C([O-])=O)[C@@H](O)[C@H](O)[C@@H](O)3))O[C@H]4([C@@H]([C@H]([C@H]([C@H](O4)CO)O)O[C@H]%13(O[C@H](CO)[C@@H](O)[C@H](O)[C@H](O[C@H]%12(O[C@H](CO[C@@H]5([C@@H]([C@H]([C@H]([C@H](O5)CO)O[C@@H]6(O[C@H](C([O-])=O)[C@@H](O)[C@H](O)[C@@H](O)6))O[C@@H]7([C@@H]([C@H]([C@H]([C@H](O7)CO)O)O[C@@H]%11(O[C@H](CO)[C@@H](O)[C@H](O)[C@H](O[C@H]%10(O[C@H](CO[C@@H]8([C@@H]([C@H]([C@H]([C@H](O8)CO)O[C@@H]9(O[C@H](C([O-])=O)[C@@H](O)[C@H](O)[C@@H](O)9))O[R])O))[C@@H](O)[C@H](O)[C@H](O)%10))%11))NC(C)=O))O))[C@@H](O)[C@H](O)[C@H](O)%12))%13))NC(C)=O))O))[C@@H](O)[C@H](O)[C@H](O)%14))%15))NC(C)=O)\n",
      "[17:42:45] SMILES Parse Error: Failed parsing SMILES 'CC(C)=CCCC(\\C)=C/CCC(\\C)=C/CCC(/C)=C/CCC(/C)=C/CCC(/C)=C/CCC(/C)=C/CCC(/C)=C/CCC(/C)=C/CCC(/C)=C/CCC(/C)=C/COP(=O)([O-])OP([O-])(=O)O[C@@H]1([C@@H]([C@H]([C@H]([C@H](O1)CO)O)O[C@H]%15(O[C@H](CO)[C@@H](O)[C@H](O)[C@H](O[C@H]%14(O[C@H](CO[C@@H]2([C@@H]([C@H]([C@H]([C@H](O2)CO)O[C@@H]3(O[C@H](C([O-])=O)[C@@H](O)[C@H](O)[C@@H](O)3))O[C@H]4([C@@H]([C@H]([C@H]([C@H](O4)CO)O)O[C@H]%13(O[C@H](CO)[C@@H](O)[C@H](O)[C@H](O[C@H]%12(O[C@H](CO[C@@H]5([C@@H]([C@H]([C@H]([C@H](O5)CO)O[C@@H]6(O[C@H](C([O-])=O)[C@@H](O)[C@H](O)[C@@H](O)6))O[C@@H]7([C@@H]([C@H]([C@H]([C@H](O7)CO)O)O[C@@H]%11(O[C@H](CO)[C@@H](O)[C@H](O)[C@H](O[C@H]%10(O[C@H](CO[C@@H]8([C@@H]([C@H]([C@H]([C@H](O8)CO)O[C@@H]9(O[C@H](C([O-])=O)[C@@H](O)[C@H](O)[C@@H](O)9))O[R])O))[C@@H](O)[C@H](O)[C@H](O)%10))%11))NC(C)=O))O))[C@@H](O)[C@H](O)[C@H](O)%12))%13))NC(C)=O))O))[C@@H](O)[C@H](O)[C@H](O)%14))%15))NC(C)=O)' for input: 'CC(C)=CCCC(\\C)=C/CCC(\\C)=C/CCC(/C)=C/CCC(/C)=C/CCC(/C)=C/CCC(/C)=C/CCC(/C)=C/CCC(/C)=C/CCC(/C)=C/CCC(/C)=C/COP(=O)([O-])OP([O-])(=O)O[C@@H]1([C@@H]([C@H]([C@H]([C@H](O1)CO)O)O[C@H]%15(O[C@H](CO)[C@@H](O)[C@H](O)[C@H](O[C@H]%14(O[C@H](CO[C@@H]2([C@@H]([C@H]([C@H]([C@H](O2)CO)O[C@@H]3(O[C@H](C([O-])=O)[C@@H](O)[C@H](O)[C@@H](O)3))O[C@H]4([C@@H]([C@H]([C@H]([C@H](O4)CO)O)O[C@H]%13(O[C@H](CO)[C@@H](O)[C@H](O)[C@H](O[C@H]%12(O[C@H](CO[C@@H]5([C@@H]([C@H]([C@H]([C@H](O5)CO)O[C@@H]6(O[C@H](C([O-])=O)[C@@H](O)[C@H](O)[C@@H](O)6))O[C@@H]7([C@@H]([C@H]([C@H]([C@H](O7)CO)O)O[C@@H]%11(O[C@H](CO)[C@@H](O)[C@H](O)[C@H](O[C@H]%10(O[C@H](CO[C@@H]8([C@@H]([C@H]([C@H]([C@H](O8)CO)O[C@@H]9(O[C@H](C([O-])=O)[C@@H](O)[C@H](O)[C@@H](O)9))O[R])O))[C@@H](O)[C@H](O)[C@H](O)%10))%11))NC(C)=O))O))[C@@H](O)[C@H](O)[C@H](O)%12))%13))NC(C)=O))O))[C@@H](O)[C@H](O)[C@H](O)%14))%15))NC(C)=O)'\n",
      "[17:42:46] WARNING: not removing hydrogen atom without neighbors\n",
      "[17:42:46] Conflicting single bond directions around double bond at index 15.\n",
      "[17:42:46]   BondStereo set to STEREONONE and single bond directions set to NONE.\n",
      "[17:42:46] WARNING: not removing hydrogen atom without neighbors\n",
      " 81%|████████  | 2863/3538 [02:54<01:54,  5.88it/s][17:42:47] WARNING: not removing hydrogen atom without neighbors\n",
      "[17:42:47] WARNING: not removing hydrogen atom without neighbors\n",
      "[17:42:47] WARNING: not removing hydrogen atom without neighbors\n",
      "[17:42:47] WARNING: not removing hydrogen atom without neighbors\n",
      "[17:42:47] WARNING: not removing hydrogen atom without neighbors\n",
      "[17:42:47] WARNING: not removing hydrogen atom without neighbors\n",
      "[17:42:47] WARNING: not removing hydrogen atom without neighbors\n",
      "[17:42:47] WARNING: not removing hydrogen atom without neighbors\n",
      " 81%|████████  | 2871/3538 [02:54<01:17,  8.58it/s][17:42:47] WARNING: not removing hydrogen atom without neighbors\n",
      "[17:42:47] WARNING: not removing hydrogen atom without neighbors\n",
      "[17:42:47] WARNING: not removing hydrogen atom without neighbors\n",
      "[17:42:47] WARNING: not removing hydrogen atom without neighbors\n",
      "[17:42:47] WARNING: not removing hydrogen atom without neighbors\n",
      " 81%|████████▏ | 2876/3538 [02:55<01:14,  8.93it/s][17:42:48] WARNING: not removing hydrogen atom without neighbors\n",
      "[17:42:48] WARNING: not removing hydrogen atom without neighbors\n",
      "[17:42:48] Conflicting single bond directions around double bond at index 17.\n",
      "[17:42:48]   BondStereo set to STEREONONE and single bond directions set to NONE.\n",
      "[17:42:48] Conflicting single bond directions around double bond at index 20.\n",
      "[17:42:48]   BondStereo set to STEREONONE and single bond directions set to NONE.\n",
      "[17:42:48] Conflicting single bond directions around double bond at index 23.\n",
      "[17:42:48]   BondStereo set to STEREONONE and single bond directions set to NONE.\n",
      "[17:42:48] Conflicting single bond directions around double bond at index 16.\n",
      "[17:42:48]   BondStereo set to STEREONONE and single bond directions set to NONE.\n",
      "[17:42:48] Conflicting single bond directions around double bond at index 19.\n",
      "[17:42:48]   BondStereo set to STEREONONE and single bond directions set to NONE.\n",
      "[17:42:48] Conflicting single bond directions around double bond at index 22.\n",
      "[17:42:48]   BondStereo set to STEREONONE and single bond directions set to NONE.\n",
      "[17:42:48] Conflicting single bond directions around double bond at index 24.\n",
      "[17:42:48]   BondStereo set to STEREONONE and single bond directions set to NONE.\n",
      "[17:42:48] WARNING: not removing hydrogen atom without neighbors\n",
      "[17:42:48] WARNING: not removing hydrogen atom without neighbors\n",
      "[17:42:48] WARNING: not removing hydrogen atom without neighbors\n",
      "[17:42:48] WARNING: not removing hydrogen atom without neighbors\n",
      "[17:42:48] WARNING: not removing hydrogen atom without neighbors\n",
      "[17:42:48] WARNING: not removing hydrogen atom without neighbors\n",
      " 82%|████████▏ | 2884/3538 [02:55<00:50, 12.87it/s][17:42:48] WARNING: not removing hydrogen atom without neighbors\n",
      "[17:42:48] WARNING: not removing hydrogen atom without neighbors\n",
      "[17:42:48] WARNING: not removing hydrogen atom without neighbors\n",
      "[17:42:48] WARNING: not removing hydrogen atom without neighbors\n",
      "[17:42:48] Conflicting single bond directions around double bond at index 12.\n",
      "[17:42:48]   BondStereo set to STEREONONE and single bond directions set to NONE.\n",
      "[17:42:48] Conflicting single bond directions around double bond at index 17.\n",
      "[17:42:48]   BondStereo set to STEREONONE and single bond directions set to NONE.\n",
      "[17:42:48] Conflicting single bond directions around double bond at index 17.\n",
      "[17:42:48]   BondStereo set to STEREONONE and single bond directions set to NONE.\n",
      "[17:42:48] Conflicting single bond directions around double bond at index 12.\n",
      "[17:42:48]   BondStereo set to STEREONONE and single bond directions set to NONE.\n",
      "[17:42:48] Conflicting single bond directions around double bond at index 17.\n",
      "[17:42:48]   BondStereo set to STEREONONE and single bond directions set to NONE.\n",
      "[17:42:48] Conflicting single bond directions around double bond at index 12.\n",
      "[17:42:48]   BondStereo set to STEREONONE and single bond directions set to NONE.\n",
      "[17:42:48] Conflicting single bond directions around double bond at index 17.\n",
      "[17:42:48]   BondStereo set to STEREONONE and single bond directions set to NONE.\n",
      "[17:42:48] Conflicting single bond directions around double bond at index 12.\n",
      "[17:42:48]   BondStereo set to STEREONONE and single bond directions set to NONE.\n",
      "[17:42:48] Conflicting single bond directions around double bond at index 17.\n",
      "[17:42:48]   BondStereo set to STEREONONE and single bond directions set to NONE.\n",
      "[17:42:48] Conflicting single bond directions around double bond at index 17.\n",
      "[17:42:48]   BondStereo set to STEREONONE and single bond directions set to NONE.\n",
      "[17:42:48] WARNING: not removing hydrogen atom without neighbors\n",
      "[17:42:48] WARNING: not removing hydrogen atom without neighbors\n",
      "[17:42:48] WARNING: not removing hydrogen atom without neighbors\n",
      " 82%|████████▏ | 2893/3538 [02:55<00:34, 18.48it/s][17:42:48] WARNING: not removing hydrogen atom without neighbors\n",
      "[17:42:48] WARNING: not removing hydrogen atom without neighbors\n",
      "[17:42:48] WARNING: not removing hydrogen atom without neighbors\n",
      "[17:42:48] Conflicting single bond directions around double bond at index 12.\n",
      "[17:42:48]   BondStereo set to STEREONONE and single bond directions set to NONE.\n",
      "[17:42:48] Conflicting single bond directions around double bond at index 17.\n",
      "[17:42:48]   BondStereo set to STEREONONE and single bond directions set to NONE.\n",
      "[17:42:48] Conflicting single bond directions around double bond at index 12.\n",
      "[17:42:48]   BondStereo set to STEREONONE and single bond directions set to NONE.\n",
      "[17:42:48] Conflicting single bond directions around double bond at index 17.\n",
      "[17:42:48]   BondStereo set to STEREONONE and single bond directions set to NONE.\n",
      "[17:42:48] WARNING: not removing hydrogen atom without neighbors\n",
      "[17:42:48] Conflicting single bond directions around double bond at index 12.\n",
      "[17:42:48]   BondStereo set to STEREONONE and single bond directions set to NONE.\n",
      "[17:42:48] Conflicting single bond directions around double bond at index 17.\n",
      "[17:42:48]   BondStereo set to STEREONONE and single bond directions set to NONE.\n",
      "[17:42:48] Conflicting single bond directions around double bond at index 12.\n",
      "[17:42:48]   BondStereo set to STEREONONE and single bond directions set to NONE.\n",
      "[17:42:48] Conflicting single bond directions around double bond at index 17.\n",
      "[17:42:48]   BondStereo set to STEREONONE and single bond directions set to NONE.\n",
      "[17:42:48] Conflicting single bond directions around double bond at index 12.\n",
      "[17:42:48]   BondStereo set to STEREONONE and single bond directions set to NONE.\n",
      "[17:42:48] Conflicting single bond directions around double bond at index 17.\n",
      "[17:42:48]   BondStereo set to STEREONONE and single bond directions set to NONE.\n",
      "[17:42:48] WARNING: not removing hydrogen atom without neighbors\n",
      "[17:42:48] WARNING: not removing hydrogen atom without neighbors\n",
      "[17:42:48] WARNING: not removing hydrogen atom without neighbors\n",
      "[17:42:48] WARNING: not removing hydrogen atom without neighbors\n",
      " 82%|████████▏ | 2901/3538 [02:55<00:26, 24.03it/s][17:42:48] WARNING: not removing hydrogen atom without neighbors\n",
      "[17:42:48] WARNING: not removing hydrogen atom without neighbors\n",
      "[17:42:48] WARNING: not removing hydrogen atom without neighbors\n",
      "[17:42:48] WARNING: not removing hydrogen atom without neighbors\n",
      "[17:42:48] WARNING: not removing hydrogen atom without neighbors\n",
      "[17:42:48] Conflicting single bond directions around double bond at index 36.\n",
      "[17:42:48]   BondStereo set to STEREONONE and single bond directions set to NONE.\n",
      "[17:42:48] Conflicting single bond directions around double bond at index 41.\n",
      "[17:42:48]   BondStereo set to STEREONONE and single bond directions set to NONE.\n",
      "[17:42:48] Conflicting single bond directions around double bond at index 12.\n",
      "[17:42:48]   BondStereo set to STEREONONE and single bond directions set to NONE.\n",
      "[17:42:48] Conflicting single bond directions around double bond at index 12.\n",
      "[17:42:48]   BondStereo set to STEREONONE and single bond directions set to NONE.\n",
      "[17:42:48] Conflicting single bond directions around double bond at index 12.\n",
      "[17:42:48]   BondStereo set to STEREONONE and single bond directions set to NONE.\n",
      "[17:42:48] WARNING: not removing hydrogen atom without neighbors\n",
      "[17:42:48] Conflicting single bond directions around double bond at index 12.\n",
      "[17:42:48]   BondStereo set to STEREONONE and single bond directions set to NONE.\n",
      "[17:42:48] Conflicting single bond directions around double bond at index 7.\n",
      "[17:42:48]   BondStereo set to STEREONONE and single bond directions set to NONE.\n",
      "[17:42:48] Conflicting single bond directions around double bond at index 12.\n",
      "[17:42:48]   BondStereo set to STEREONONE and single bond directions set to NONE.\n",
      "[17:42:48] Conflicting single bond directions around double bond at index 12.\n",
      "[17:42:48]   BondStereo set to STEREONONE and single bond directions set to NONE.\n",
      "[17:42:48] WARNING: not removing hydrogen atom without neighbors\n",
      " 82%|████████▏ | 2909/3538 [02:55<00:20, 30.23it/s][17:42:48] WARNING: not removing hydrogen atom without neighbors\n",
      "[17:42:48] WARNING: not removing hydrogen atom without neighbors\n",
      "[17:42:48] WARNING: not removing hydrogen atom without neighbors\n",
      "[17:42:48] WARNING: not removing hydrogen atom without neighbors\n",
      " 82%|████████▏ | 2917/3538 [02:55<00:16, 36.75it/s][17:42:48] WARNING: not removing hydrogen atom without neighbors\n",
      "[17:42:48] WARNING: not removing hydrogen atom without neighbors\n",
      "[17:42:48] WARNING: not removing hydrogen atom without neighbors\n",
      "[17:42:48] WARNING: not removing hydrogen atom without neighbors\n",
      "[17:42:48] WARNING: not removing hydrogen atom without neighbors\n",
      "[17:42:48] WARNING: not removing hydrogen atom without neighbors\n",
      "[17:42:48] WARNING: not removing hydrogen atom without neighbors\n",
      "[17:42:48] WARNING: not removing hydrogen atom without neighbors\n",
      " 83%|████████▎ | 2925/3538 [02:55<00:14, 43.32it/s][17:42:48] WARNING: not removing hydrogen atom without neighbors\n",
      "[17:42:48] WARNING: not removing hydrogen atom without neighbors\n",
      "[17:42:48] WARNING: not removing hydrogen atom without neighbors\n",
      "[17:42:48] WARNING: not removing hydrogen atom without neighbors\n",
      "[17:42:48] WARNING: not removing hydrogen atom without neighbors\n",
      "[17:42:48] SMILES Parse Error: syntax error while parsing: C\\C=C(C)/CC\\C=C(C)/CC\\C=C(C)/CC\\C=C(C)/CC\\C=C(C)/CC\\C=C(C)/CC\\C=C(C)/CC\\C=C(C)/CC/C=C(C)/CC/C=C(C)/CC/C=C(C)/COP(=O)([O-])OP(=O)([O-])O[C@H]%18(O[C@H](CO)[C@@H](O[C@H]%17(O[C@@H](C)[C@H](O)[C@@H](O[C@@H]%16(O[C@@H](C)[C@H](O)[C@@H](O[C@@H]%15(O[C@@H](C)[C@H](O)[C@@H](O[C@@H]%12(O[C@H](CO)[C@@H](O[C@H]%11(O[C@@H](C)[C@H](O)[C@@H](O[C@@H]%10(O[C@@H](C)[C@H](O)[C@@H](O[C@@H]9(O[C@@H](C)[C@H](O)[C@@H](O[C@@H]6(O[C@H](CO)[C@@H](O[C@H]5(O[C@@H](C)[C@H](O)[C@@H](O[C@@H]4(O[C@@H](C)[C@H](O)[C@@H](O[C@@H]3(O[C@@H](C)[C@H](O)[C@@H](O[R])[C@@H](O[C@H]2(O[C@H](CO[C@H]1(O[C@H](C([O-])=O)[C@@H](O)[C@H](O)[C@@H](O)1))[C@@H](O)[C@H](O)[C@@H](O)2))3))[C@@H](O)4))[C@@H](O)5))[C@H](O)[C@@H](O)6))[C@@H](O[C@H]8(O[C@H](CO[C@H]7(O[C@H](C([O-])=O)[C@@H](O)[C@H](O)[C@@H](O)7))[C@@H](O)[C@H](O)[C@@H](O)8))9))[C@@H](O)%10))[C@@H](O)%11))[C@H](O)[C@@H](O)%12))[C@@H](O[C@H]%14(O[C@H](CO[C@H]%13(O[C@H](C([O-])=O)[C@@H](O)[C@H](O)[C@@H](O)%13))[C@@H](O)[C@H](O)[C@@H](O)%14))%15))[C@@H](O)%16))[C@@H](O)%17))[C@H](O)[C@@H](O)%18)\n",
      "[17:42:48] SMILES Parse Error: Failed parsing SMILES 'C\\C=C(C)/CC\\C=C(C)/CC\\C=C(C)/CC\\C=C(C)/CC\\C=C(C)/CC\\C=C(C)/CC\\C=C(C)/CC\\C=C(C)/CC/C=C(C)/CC/C=C(C)/CC/C=C(C)/COP(=O)([O-])OP(=O)([O-])O[C@H]%18(O[C@H](CO)[C@@H](O[C@H]%17(O[C@@H](C)[C@H](O)[C@@H](O[C@@H]%16(O[C@@H](C)[C@H](O)[C@@H](O[C@@H]%15(O[C@@H](C)[C@H](O)[C@@H](O[C@@H]%12(O[C@H](CO)[C@@H](O[C@H]%11(O[C@@H](C)[C@H](O)[C@@H](O[C@@H]%10(O[C@@H](C)[C@H](O)[C@@H](O[C@@H]9(O[C@@H](C)[C@H](O)[C@@H](O[C@@H]6(O[C@H](CO)[C@@H](O[C@H]5(O[C@@H](C)[C@H](O)[C@@H](O[C@@H]4(O[C@@H](C)[C@H](O)[C@@H](O[C@@H]3(O[C@@H](C)[C@H](O)[C@@H](O[R])[C@@H](O[C@H]2(O[C@H](CO[C@H]1(O[C@H](C([O-])=O)[C@@H](O)[C@H](O)[C@@H](O)1))[C@@H](O)[C@H](O)[C@@H](O)2))3))[C@@H](O)4))[C@@H](O)5))[C@H](O)[C@@H](O)6))[C@@H](O[C@H]8(O[C@H](CO[C@H]7(O[C@H](C([O-])=O)[C@@H](O)[C@H](O)[C@@H](O)7))[C@@H](O)[C@H](O)[C@@H](O)8))9))[C@@H](O)%10))[C@@H](O)%11))[C@H](O)[C@@H](O)%12))[C@@H](O[C@H]%14(O[C@H](CO[C@H]%13(O[C@H](C([O-])=O)[C@@H](O)[C@H](O)[C@@H](O)%13))[C@@H](O)[C@H](O)[C@@H](O)%14))%15))[C@@H](O)%16))[C@@H](O)%17))[C@H](O)[C@@H](O)%18)' for input: 'C\\C=C(C)/CC\\C=C(C)/CC\\C=C(C)/CC\\C=C(C)/CC\\C=C(C)/CC\\C=C(C)/CC\\C=C(C)/CC\\C=C(C)/CC/C=C(C)/CC/C=C(C)/CC/C=C(C)/COP(=O)([O-])OP(=O)([O-])O[C@H]%18(O[C@H](CO)[C@@H](O[C@H]%17(O[C@@H](C)[C@H](O)[C@@H](O[C@@H]%16(O[C@@H](C)[C@H](O)[C@@H](O[C@@H]%15(O[C@@H](C)[C@H](O)[C@@H](O[C@@H]%12(O[C@H](CO)[C@@H](O[C@H]%11(O[C@@H](C)[C@H](O)[C@@H](O[C@@H]%10(O[C@@H](C)[C@H](O)[C@@H](O[C@@H]9(O[C@@H](C)[C@H](O)[C@@H](O[C@@H]6(O[C@H](CO)[C@@H](O[C@H]5(O[C@@H](C)[C@H](O)[C@@H](O[C@@H]4(O[C@@H](C)[C@H](O)[C@@H](O[C@@H]3(O[C@@H](C)[C@H](O)[C@@H](O[R])[C@@H](O[C@H]2(O[C@H](CO[C@H]1(O[C@H](C([O-])=O)[C@@H](O)[C@H](O)[C@@H](O)1))[C@@H](O)[C@H](O)[C@@H](O)2))3))[C@@H](O)4))[C@@H](O)5))[C@H](O)[C@@H](O)6))[C@@H](O[C@H]8(O[C@H](CO[C@H]7(O[C@H](C([O-])=O)[C@@H](O)[C@H](O)[C@@H](O)7))[C@@H](O)[C@H](O)[C@@H](O)8))9))[C@@H](O)%10))[C@@H](O)%11))[C@H](O)[C@@H](O)%12))[C@@H](O[C@H]%14(O[C@H](CO[C@H]%13(O[C@H](C([O-])=O)[C@@H](O)[C@H](O)[C@@H](O)%13))[C@@H](O)[C@H](O)[C@@H](O)%14))%15))[C@@H](O)%16))[C@@H](O)%17))[C@H](O)[C@@H](O)%18)'\n",
      "[17:42:49] WARNING: not removing hydrogen atom without neighbors\n",
      "[17:42:49] SMILES Parse Error: syntax error while parsing: CC(C)=CCCC(\\C)=C/CCC(\\C)=C/CCC(/C)=C/CCC(/C)=C/CCC(/C)=C/CCC(/C)=C/CCC(/C)=C/CCC(/C)=C/CCC(/C)=C/CCC(/C)=C/COP(=O)([O-])OP([O-])(=O)O[C@@H]1([C@@H]([C@H]([C@H]([C@H](O1)CO)O)O[C@@H]2([C@H]([C@@H]([C@H](O)[C@@H](O2)C)O[C@@H]%15(O[C@H](CO)[C@@H](O)[C@H](O[C@H]%14(O[C@H](CO)[C@H](O[C@@H]3([C@@H]([C@H]([C@H]([C@H](O3)CO)O)O[C@@H]4([C@H]([C@@H]([C@H](O)[C@@H](O4)C)O[C@@H]%12(O[C@H](CO)[C@@H](O)[C@H](O[C@H]%11(O[C@H](CO)[C@H](O[C@@H]5([C@@H]([C@H]([C@H]([C@H](O5)CO)O)O[C@@H]6([C@H]([C@@H]([C@H](O)[C@@H](O6)C)O[C@@H]9(O[C@H](CO)[C@@H](O)[C@H](O[C@H]8(O[C@H](CO)[C@H](O[R])[C@@H]7(O[C@@](O[C@H]78)(C([O-])=O)C)))[C@H](NC(C)=O)9))NC(C)=O))NC(C)=O))[C@@H]%10(O[C@@](O[C@H]%10%11)(C([O-])=O)C)))[C@H](NC(C)=O)%12))NC(C)=O))NC(C)=O))[C@@H]%13(O[C@@](O[C@H]%13%14)(C([O-])=O)C)))[C@H](NC(C)=O)%15))NC(C)=O))NC(C)=O)\n",
      "[17:42:49] SMILES Parse Error: Failed parsing SMILES 'CC(C)=CCCC(\\C)=C/CCC(\\C)=C/CCC(/C)=C/CCC(/C)=C/CCC(/C)=C/CCC(/C)=C/CCC(/C)=C/CCC(/C)=C/CCC(/C)=C/CCC(/C)=C/COP(=O)([O-])OP([O-])(=O)O[C@@H]1([C@@H]([C@H]([C@H]([C@H](O1)CO)O)O[C@@H]2([C@H]([C@@H]([C@H](O)[C@@H](O2)C)O[C@@H]%15(O[C@H](CO)[C@@H](O)[C@H](O[C@H]%14(O[C@H](CO)[C@H](O[C@@H]3([C@@H]([C@H]([C@H]([C@H](O3)CO)O)O[C@@H]4([C@H]([C@@H]([C@H](O)[C@@H](O4)C)O[C@@H]%12(O[C@H](CO)[C@@H](O)[C@H](O[C@H]%11(O[C@H](CO)[C@H](O[C@@H]5([C@@H]([C@H]([C@H]([C@H](O5)CO)O)O[C@@H]6([C@H]([C@@H]([C@H](O)[C@@H](O6)C)O[C@@H]9(O[C@H](CO)[C@@H](O)[C@H](O[C@H]8(O[C@H](CO)[C@H](O[R])[C@@H]7(O[C@@](O[C@H]78)(C([O-])=O)C)))[C@H](NC(C)=O)9))NC(C)=O))NC(C)=O))[C@@H]%10(O[C@@](O[C@H]%10%11)(C([O-])=O)C)))[C@H](NC(C)=O)%12))NC(C)=O))NC(C)=O))[C@@H]%13(O[C@@](O[C@H]%13%14)(C([O-])=O)C)))[C@H](NC(C)=O)%15))NC(C)=O))NC(C)=O)' for input: 'CC(C)=CCCC(\\C)=C/CCC(\\C)=C/CCC(/C)=C/CCC(/C)=C/CCC(/C)=C/CCC(/C)=C/CCC(/C)=C/CCC(/C)=C/CCC(/C)=C/CCC(/C)=C/COP(=O)([O-])OP([O-])(=O)O[C@@H]1([C@@H]([C@H]([C@H]([C@H](O1)CO)O)O[C@@H]2([C@H]([C@@H]([C@H](O)[C@@H](O2)C)O[C@@H]%15(O[C@H](CO)[C@@H](O)[C@H](O[C@H]%14(O[C@H](CO)[C@H](O[C@@H]3([C@@H]([C@H]([C@H]([C@H](O3)CO)O)O[C@@H]4([C@H]([C@@H]([C@H](O)[C@@H](O4)C)O[C@@H]%12(O[C@H](CO)[C@@H](O)[C@H](O[C@H]%11(O[C@H](CO)[C@H](O[C@@H]5([C@@H]([C@H]([C@H]([C@H](O5)CO)O)O[C@@H]6([C@H]([C@@H]([C@H](O)[C@@H](O6)C)O[C@@H]9(O[C@H](CO)[C@@H](O)[C@H](O[C@H]8(O[C@H](CO)[C@H](O[R])[C@@H]7(O[C@@](O[C@H]78)(C([O-])=O)C)))[C@H](NC(C)=O)9))NC(C)=O))NC(C)=O))[C@@H]%10(O[C@@](O[C@H]%10%11)(C([O-])=O)C)))[C@H](NC(C)=O)%12))NC(C)=O))NC(C)=O))[C@@H]%13(O[C@@](O[C@H]%13%14)(C([O-])=O)C)))[C@H](NC(C)=O)%15))NC(C)=O))NC(C)=O)'\n",
      " 83%|████████▎ | 2932/3538 [02:57<00:41, 14.53it/s][17:42:51] WARNING: not removing hydrogen atom without neighbors\n",
      "[17:42:51] WARNING: not removing hydrogen atom without neighbors\n",
      "[17:42:51] Conflicting single bond directions around double bond at index 17.\n",
      "[17:42:51]   BondStereo set to STEREONONE and single bond directions set to NONE.\n",
      "[17:42:51] WARNING: not removing hydrogen atom without neighbors\n",
      "[17:42:51] WARNING: not removing hydrogen atom without neighbors\n",
      "[17:42:51] WARNING: not removing hydrogen atom without neighbors\n",
      " 83%|████████▎ | 2937/3538 [02:58<01:05,  9.19it/s][17:42:51] WARNING: not removing hydrogen atom without neighbors\n",
      "[17:42:51] WARNING: not removing hydrogen atom without neighbors\n",
      "[17:42:51] WARNING: not removing hydrogen atom without neighbors\n",
      "[17:42:51] WARNING: not removing hydrogen atom without neighbors\n",
      "[17:42:51] WARNING: not removing hydrogen atom without neighbors\n",
      "[17:42:51] WARNING: not removing hydrogen atom without neighbors\n",
      "[17:42:51] WARNING: not removing hydrogen atom without neighbors\n",
      "[17:42:51] WARNING: not removing hydrogen atom without neighbors\n",
      " 83%|████████▎ | 2945/3538 [02:58<00:45, 12.99it/s][17:42:51] WARNING: not removing hydrogen atom without neighbors\n",
      "[17:42:51] SMILES Parse Error: syntax error while parsing: C\\C=C(C)/CC\\C=C(C)/CC\\C=C(C)/CC\\C=C(C)/CC\\C=C(C)/CC\\C=C(C)/CC\\C=C(C)/CC\\C=C(C)/CC/C=C(C)/CC/C=C(C)/CC/C=C(C)/COP(=O)([O-])OP(=O)([O-])O[C@H]%27(O[C@H](CO)[C@H](O)[C@H](O[C@@H]%26(O[C@H](CO)[C@@H](O[C@@H]%25(O[C@H](COC(=O)C)[C@@H](O[C@@H]%24(O[C@H](CO[C@@H]5(O[C@H](CO[C@@H]4(O[C@H](CO)[C@@H](O)[C@H](O[C@@H]3(O[C@H](COC(=O)CCC(=O)[O-])[C@@H](O)[C@H](O[C@@H]2(O[C@@H]1(CO[C@](O[C@H]1[C@H](O)[C@@H](O)2)(C([O-])=O)C)))[C@@H](O)3))[C@@H](O)4))[C@@H](O)[C@H](O)[C@@H](O)5))[C@@H](O[C@@H]%23(O[C@H](CO)[C@H](O)[C@H](O[C@@H]%22(O[C@H](CO)[C@@H](O[C@@H]%21(O[C@H](COC(=O)C)[C@@H](O[C@@H]%20(O[C@H](CO[C@@H]%10(O[C@H](CO[C@@H]9(O[C@H](CO)[C@@H](O)[C@H](O[C@@H]8(O[C@H](COC(=O)CCC(=O)[O-])[C@@H](O)[C@H](O[C@@H]7(O[C@@H]6(CO[C@](O[C@H]6[C@H](O)[C@@H](O)7)(C([O-])=O)C)))[C@@H](O)8))[C@@H](O)9))[C@@H](O)[C@H](O)[C@@H](O)%10))[C@@H](O[C@@H]%19(O[C@H](CO)[C@H](O)[C@H](O[C@@H]%18(O[C@H](CO)[C@@H](O[C@@H]%17(O[C@H](COC(=O)C)[C@@H](O[C@@H]%16(O[C@H](CO[C@@H]%15(O[C@H](CO[C@@H]%14(O[C@H](CO)[C@@H](O)[C@H](O[C@@H]%13(O[C@H](COC(=O)CCC(=O)[O-])[C@@H](O)[C@H](O[C@@H]%12(O[C@@H]%11(CO[C@](O[C@H]%11[C@H](O)[C@@H](O)%12)(C([O-])=O)C)))[C@@H](O)%13))[C@@H](O)%14))[C@@H](O)[C@H](O)[C@@H](O)%15))[C@@H](O)[C@H](O)[C@@H](O)%16))[C@H](O)[C@@H](O)%17))[C@H](O)[C@@H](O)%18))[C@@H](O)%19))[C@H](O)[C@@H](O)%20))[C@H](O)[C@@H](O)%21))[C@H](O)[C@@H](O)%22))[C@@H](O)%23))[C@H](O)[C@@H](O)%24))[C@H](O)[C@@H](O)%25))[C@H](O)[C@@H](O)%26))[C@@H](O)%27).C[R]\n",
      "[17:42:51] SMILES Parse Error: Failed parsing SMILES 'C\\C=C(C)/CC\\C=C(C)/CC\\C=C(C)/CC\\C=C(C)/CC\\C=C(C)/CC\\C=C(C)/CC\\C=C(C)/CC\\C=C(C)/CC/C=C(C)/CC/C=C(C)/CC/C=C(C)/COP(=O)([O-])OP(=O)([O-])O[C@H]%27(O[C@H](CO)[C@H](O)[C@H](O[C@@H]%26(O[C@H](CO)[C@@H](O[C@@H]%25(O[C@H](COC(=O)C)[C@@H](O[C@@H]%24(O[C@H](CO[C@@H]5(O[C@H](CO[C@@H]4(O[C@H](CO)[C@@H](O)[C@H](O[C@@H]3(O[C@H](COC(=O)CCC(=O)[O-])[C@@H](O)[C@H](O[C@@H]2(O[C@@H]1(CO[C@](O[C@H]1[C@H](O)[C@@H](O)2)(C([O-])=O)C)))[C@@H](O)3))[C@@H](O)4))[C@@H](O)[C@H](O)[C@@H](O)5))[C@@H](O[C@@H]%23(O[C@H](CO)[C@H](O)[C@H](O[C@@H]%22(O[C@H](CO)[C@@H](O[C@@H]%21(O[C@H](COC(=O)C)[C@@H](O[C@@H]%20(O[C@H](CO[C@@H]%10(O[C@H](CO[C@@H]9(O[C@H](CO)[C@@H](O)[C@H](O[C@@H]8(O[C@H](COC(=O)CCC(=O)[O-])[C@@H](O)[C@H](O[C@@H]7(O[C@@H]6(CO[C@](O[C@H]6[C@H](O)[C@@H](O)7)(C([O-])=O)C)))[C@@H](O)8))[C@@H](O)9))[C@@H](O)[C@H](O)[C@@H](O)%10))[C@@H](O[C@@H]%19(O[C@H](CO)[C@H](O)[C@H](O[C@@H]%18(O[C@H](CO)[C@@H](O[C@@H]%17(O[C@H](COC(=O)C)[C@@H](O[C@@H]%16(O[C@H](CO[C@@H]%15(O[C@H](CO[C@@H]%14(O[C@H](CO)[C@@H](O)[C@H](O[C@@H]%13(O[C@H](COC(=O)CCC(=O)[O-])[C@@H](O)[C@H](O[C@@H]%12(O[C@@H]%11(CO[C@](O[C@H]%11[C@H](O)[C@@H](O)%12)(C([O-])=O)C)))[C@@H](O)%13))[C@@H](O)%14))[C@@H](O)[C@H](O)[C@@H](O)%15))[C@@H](O)[C@H](O)[C@@H](O)%16))[C@H](O)[C@@H](O)%17))[C@H](O)[C@@H](O)%18))[C@@H](O)%19))[C@H](O)[C@@H](O)%20))[C@H](O)[C@@H](O)%21))[C@H](O)[C@@H](O)%22))[C@@H](O)%23))[C@H](O)[C@@H](O)%24))[C@H](O)[C@@H](O)%25))[C@H](O)[C@@H](O)%26))[C@@H](O)%27).C[R]' for input: 'C\\C=C(C)/CC\\C=C(C)/CC\\C=C(C)/CC\\C=C(C)/CC\\C=C(C)/CC\\C=C(C)/CC\\C=C(C)/CC\\C=C(C)/CC/C=C(C)/CC/C=C(C)/CC/C=C(C)/COP(=O)([O-])OP(=O)([O-])O[C@H]%27(O[C@H](CO)[C@H](O)[C@H](O[C@@H]%26(O[C@H](CO)[C@@H](O[C@@H]%25(O[C@H](COC(=O)C)[C@@H](O[C@@H]%24(O[C@H](CO[C@@H]5(O[C@H](CO[C@@H]4(O[C@H](CO)[C@@H](O)[C@H](O[C@@H]3(O[C@H](COC(=O)CCC(=O)[O-])[C@@H](O)[C@H](O[C@@H]2(O[C@@H]1(CO[C@](O[C@H]1[C@H](O)[C@@H](O)2)(C([O-])=O)C)))[C@@H](O)3))[C@@H](O)4))[C@@H](O)[C@H](O)[C@@H](O)5))[C@@H](O[C@@H]%23(O[C@H](CO)[C@H](O)[C@H](O[C@@H]%22(O[C@H](CO)[C@@H](O[C@@H]%21(O[C@H](COC(=O)C)[C@@H](O[C@@H]%20(O[C@H](CO[C@@H]%10(O[C@H](CO[C@@H]9(O[C@H](CO)[C@@H](O)[C@H](O[C@@H]8(O[C@H](COC(=O)CCC(=O)[O-])[C@@H](O)[C@H](O[C@@H]7(O[C@@H]6(CO[C@](O[C@H]6[C@H](O)[C@@H](O)7)(C([O-])=O)C)))[C@@H](O)8))[C@@H](O)9))[C@@H](O)[C@H](O)[C@@H](O)%10))[C@@H](O[C@@H]%19(O[C@H](CO)[C@H](O)[C@H](O[C@@H]%18(O[C@H](CO)[C@@H](O[C@@H]%17(O[C@H](COC(=O)C)[C@@H](O[C@@H]%16(O[C@H](CO[C@@H]%15(O[C@H](CO[C@@H]%14(O[C@H](CO)[C@@H](O)[C@H](O[C@@H]%13(O[C@H](COC(=O)CCC(=O)[O-])[C@@H](O)[C@H](O[C@@H]%12(O[C@@H]%11(CO[C@](O[C@H]%11[C@H](O)[C@@H](O)%12)(C([O-])=O)C)))[C@@H](O)%13))[C@@H](O)%14))[C@@H](O)[C@H](O)[C@@H](O)%15))[C@@H](O)[C@H](O)[C@@H](O)%16))[C@H](O)[C@@H](O)%17))[C@H](O)[C@@H](O)%18))[C@@H](O)%19))[C@H](O)[C@@H](O)%20))[C@H](O)[C@@H](O)%21))[C@H](O)[C@@H](O)%22))[C@@H](O)%23))[C@H](O)[C@@H](O)%24))[C@H](O)[C@@H](O)%25))[C@H](O)[C@@H](O)%26))[C@@H](O)%27).C[R]'\n",
      "[17:42:51] WARNING: not removing hydrogen atom without neighbors\n",
      "[17:42:52] WARNING: not removing hydrogen atom without neighbors\n",
      "[17:42:52] WARNING: not removing hydrogen atom without neighbors\n",
      " 83%|████████▎ | 2950/3538 [02:59<01:09,  8.43it/s][17:42:52] WARNING: not removing hydrogen atom without neighbors\n",
      "[17:42:52] WARNING: not removing hydrogen atom without neighbors\n",
      "[17:42:52] WARNING: not removing hydrogen atom without neighbors\n",
      "[17:42:52] WARNING: not removing hydrogen atom without neighbors\n",
      "[17:42:52] WARNING: not removing hydrogen atom without neighbors\n",
      "[17:42:52] WARNING: not removing hydrogen atom without neighbors\n",
      "[17:42:52] WARNING: not removing hydrogen atom without neighbors\n",
      "[17:42:52] WARNING: not removing hydrogen atom without neighbors\n",
      " 84%|████████▎ | 2958/3538 [02:59<00:47, 12.09it/s][17:42:52] WARNING: not removing hydrogen atom without neighbors\n",
      "[17:42:52] WARNING: not removing hydrogen atom without neighbors\n",
      "[17:42:52] WARNING: not removing hydrogen atom without neighbors\n",
      "[17:42:52] WARNING: not removing hydrogen atom without neighbors\n",
      "[17:42:52] WARNING: not removing hydrogen atom without neighbors\n",
      "[17:42:52] WARNING: not removing hydrogen atom without neighbors\n",
      " 84%|████████▍ | 2966/3538 [02:59<00:34, 16.68it/s][17:42:52] WARNING: not removing hydrogen atom without neighbors\n",
      "[17:42:52] WARNING: not removing hydrogen atom without neighbors\n",
      "[17:42:52] WARNING: not removing hydrogen atom without neighbors\n",
      "[17:42:52] WARNING: not removing hydrogen atom without neighbors\n",
      "[17:42:53] WARNING: not removing hydrogen atom without neighbors\n",
      "[17:42:53] WARNING: not removing hydrogen atom without neighbors\n",
      "[17:42:53] WARNING: not removing hydrogen atom without neighbors\n",
      " 84%|████████▍ | 2974/3538 [03:00<00:25, 22.14it/s][17:42:53] WARNING: not removing hydrogen atom without neighbors\n",
      "[17:42:53] WARNING: not removing hydrogen atom without neighbors\n",
      "[17:42:53] WARNING: not removing hydrogen atom without neighbors\n",
      "[17:42:53] WARNING: not removing hydrogen atom without neighbors\n",
      "[17:42:53] WARNING: not removing hydrogen atom without neighbors\n",
      "[17:42:53] WARNING: not removing hydrogen atom without neighbors\n",
      "[17:42:53] WARNING: not removing hydrogen atom without neighbors\n",
      " 84%|████████▍ | 2982/3538 [03:00<00:19, 28.27it/s][17:42:53] WARNING: not removing hydrogen atom without neighbors\n",
      "[17:42:53] WARNING: not removing hydrogen atom without neighbors\n",
      "[17:42:53] WARNING: not removing hydrogen atom without neighbors\n",
      "[17:42:53] WARNING: not removing hydrogen atom without neighbors\n",
      "[17:42:53] WARNING: not removing hydrogen atom without neighbors\n",
      "[17:42:53] WARNING: not removing hydrogen atom without neighbors\n",
      "[17:42:53] WARNING: not removing hydrogen atom without neighbors\n",
      "[17:42:53] WARNING: not removing hydrogen atom without neighbors\n",
      "[17:42:53] WARNING: not removing hydrogen atom without neighbors\n",
      " 85%|████████▍ | 2990/3538 [03:00<00:15, 34.65it/s][17:42:53] WARNING: not removing hydrogen atom without neighbors\n",
      "[17:42:53] WARNING: not removing hydrogen atom without neighbors\n",
      "[17:42:53] WARNING: not removing hydrogen atom without neighbors\n",
      " 87%|████████▋ | 3074/3538 [03:00<00:02, 164.03it/s][17:42:53] WARNING: not removing hydrogen atom without neighbors\n",
      "[17:42:53] WARNING: not removing hydrogen atom without neighbors\n",
      "[17:42:53] WARNING: not removing hydrogen atom without neighbors\n",
      "[17:42:53] WARNING: not removing hydrogen atom without neighbors\n",
      " 92%|█████████▏| 3246/3538 [03:00<00:00, 451.96it/s][17:42:53] WARNING: not removing hydrogen atom without neighbors\n",
      "[17:42:53] WARNING: not removing hydrogen atom without neighbors\n",
      "[17:42:53] WARNING: not removing hydrogen atom without neighbors\n",
      "[17:42:53] WARNING: not removing hydrogen atom without neighbors\n",
      "[17:42:53] WARNING: not removing hydrogen atom without neighbors\n",
      "[17:42:53] WARNING: not removing hydrogen atom without neighbors\n",
      "[17:42:53] WARNING: not removing hydrogen atom without neighbors\n",
      "[17:42:53] WARNING: not removing hydrogen atom without neighbors\n",
      "[17:42:53] WARNING: not removing hydrogen atom without neighbors\n",
      "[17:42:53] WARNING: not removing hydrogen atom without neighbors\n",
      "[17:42:53] WARNING: not removing hydrogen atom without neighbors\n",
      "[17:42:53] WARNING: not removing hydrogen atom without neighbors\n",
      "[17:42:53] WARNING: not removing hydrogen atom without neighbors\n",
      "[17:42:53] WARNING: not removing hydrogen atom without neighbors\n",
      "[17:42:53] WARNING: not removing hydrogen atom without neighbors\n",
      "[17:42:53] WARNING: not removing hydrogen atom without neighbors\n",
      "[17:42:53] WARNING: not removing hydrogen atom without neighbors\n",
      "[17:42:53] WARNING: not removing hydrogen atom without neighbors\n",
      "[17:42:53] WARNING: not removing hydrogen atom without neighbors\n",
      "[17:42:53] WARNING: not removing hydrogen atom without neighbors\n",
      "[17:42:53] WARNING: not removing hydrogen atom without neighbors\n",
      "[17:42:53] WARNING: not removing hydrogen atom without neighbors\n",
      "[17:42:53] WARNING: not removing hydrogen atom without neighbors\n",
      "[17:42:54] WARNING: not removing hydrogen atom without neighbors\n",
      "[17:42:54] WARNING: not removing hydrogen atom without neighbors\n",
      "[17:42:54] WARNING: not removing hydrogen atom without neighbors\n",
      "[17:42:54] WARNING: not removing hydrogen atom without neighbors\n",
      "[17:42:54] WARNING: not removing hydrogen atom without neighbors\n",
      "[17:42:54] WARNING: not removing hydrogen atom without neighbors\n",
      "[17:42:54] WARNING: not removing hydrogen atom without neighbors\n",
      "[17:42:54] WARNING: not removing hydrogen atom without neighbors\n",
      "[17:42:54] WARNING: not removing hydrogen atom without neighbors\n",
      "[17:42:54] WARNING: not removing hydrogen atom without neighbors\n",
      "[17:42:54] WARNING: not removing hydrogen atom without neighbors\n",
      "[17:42:54] WARNING: not removing hydrogen atom without neighbors\n",
      "[17:42:54] WARNING: not removing hydrogen atom without neighbors\n",
      "[17:42:54] WARNING: not removing hydrogen atom without neighbors\n",
      "[17:42:54] WARNING: not removing hydrogen atom without neighbors\n",
      "[17:42:54] WARNING: not removing hydrogen atom without neighbors\n",
      "[17:42:54] WARNING: not removing hydrogen atom without neighbors\n",
      "[17:42:54] WARNING: not removing hydrogen atom without neighbors\n",
      "[17:42:54] WARNING: not removing hydrogen atom without neighbors\n",
      "[17:42:54] Conflicting single bond directions around double bond at index 17.\n",
      "[17:42:54]   BondStereo set to STEREONONE and single bond directions set to NONE.\n",
      "[17:42:54] Conflicting single bond directions around double bond at index 17.\n",
      "[17:42:54]   BondStereo set to STEREONONE and single bond directions set to NONE.\n",
      "[17:42:54] Conflicting single bond directions around double bond at index 17.\n",
      "[17:42:54]   BondStereo set to STEREONONE and single bond directions set to NONE.\n",
      "[17:42:54] WARNING: not removing hydrogen atom without neighbors\n",
      "[17:42:54] Conflicting single bond directions around double bond at index 17.\n",
      "[17:42:54]   BondStereo set to STEREONONE and single bond directions set to NONE.\n",
      "[17:42:54] WARNING: not removing hydrogen atom without neighbors\n",
      "[17:42:54] WARNING: not removing hydrogen atom without neighbors\n",
      "[17:42:54] WARNING: not removing hydrogen atom without neighbors\n",
      "[17:42:54] WARNING: not removing hydrogen atom without neighbors\n",
      "[17:42:54] WARNING: not removing hydrogen atom without neighbors\n",
      "[17:42:54] WARNING: not removing hydrogen atom without neighbors\n",
      "[17:42:54] WARNING: not removing hydrogen atom without neighbors\n",
      "[17:42:54] WARNING: not removing hydrogen atom without neighbors\n",
      "[17:42:54] WARNING: not removing hydrogen atom without neighbors\n",
      "[17:42:54] WARNING: not removing hydrogen atom without neighbors\n",
      "[17:42:54] WARNING: not removing hydrogen atom without neighbors\n",
      "[17:42:54] WARNING: not removing hydrogen atom without neighbors\n",
      " 94%|█████████▍| 3317/3538 [03:01<00:01, 175.11it/s][17:42:54] WARNING: not removing hydrogen atom without neighbors\n",
      "[17:42:54] WARNING: not removing hydrogen atom without neighbors\n",
      "[17:42:54] WARNING: not removing hydrogen atom without neighbors\n",
      "[17:42:54] WARNING: not removing hydrogen atom without neighbors\n",
      "[17:42:54] WARNING: not removing hydrogen atom without neighbors\n",
      "[17:42:54] WARNING: not removing hydrogen atom without neighbors\n",
      "[17:42:54] WARNING: not removing hydrogen atom without neighbors\n",
      "[17:42:54] WARNING: not removing hydrogen atom without neighbors\n",
      "[17:42:54] WARNING: not removing hydrogen atom without neighbors\n",
      "[17:42:54] WARNING: not removing hydrogen atom without neighbors\n",
      "[17:42:54] WARNING: not removing hydrogen atom without neighbors\n",
      "[17:42:54] WARNING: not removing hydrogen atom without neighbors\n",
      "[17:42:54] WARNING: not removing hydrogen atom without neighbors\n",
      "[17:42:54] WARNING: not removing hydrogen atom without neighbors\n",
      "[17:42:54] WARNING: not removing hydrogen atom without neighbors\n",
      "[17:42:54] WARNING: not removing hydrogen atom without neighbors\n",
      "[17:42:54] WARNING: not removing hydrogen atom without neighbors\n",
      "[17:42:54] WARNING: not removing hydrogen atom without neighbors\n",
      "[17:42:54] WARNING: not removing hydrogen atom without neighbors\n",
      "[17:42:54] WARNING: not removing hydrogen atom without neighbors\n",
      "[17:42:54] WARNING: not removing hydrogen atom without neighbors\n",
      "[17:42:54] WARNING: not removing hydrogen atom without neighbors\n",
      "[17:42:54] WARNING: not removing hydrogen atom without neighbors\n",
      "[17:42:54] WARNING: not removing hydrogen atom without neighbors\n",
      "[17:42:54] WARNING: not removing hydrogen atom without neighbors\n",
      "[17:42:54] WARNING: not removing hydrogen atom without neighbors\n",
      "[17:42:54] WARNING: not removing hydrogen atom without neighbors\n",
      "[17:42:54] WARNING: not removing hydrogen atom without neighbors\n",
      "[17:42:54] WARNING: not removing hydrogen atom without neighbors\n",
      "[17:42:54] WARNING: not removing hydrogen atom without neighbors\n",
      "[17:42:54] WARNING: not removing hydrogen atom without neighbors\n",
      "[17:42:54] WARNING: not removing hydrogen atom without neighbors\n",
      "[17:42:54] WARNING: not removing hydrogen atom without neighbors\n",
      "[17:42:54] WARNING: not removing hydrogen atom without neighbors\n",
      "[17:42:54] WARNING: not removing hydrogen atom without neighbors\n",
      "[17:42:54] Conflicting single bond directions around double bond at index 17.\n",
      "[17:42:54]   BondStereo set to STEREONONE and single bond directions set to NONE.\n",
      "[17:42:54] Conflicting single bond directions around double bond at index 12.\n",
      "[17:42:54]   BondStereo set to STEREONONE and single bond directions set to NONE.\n",
      "[17:42:54] Conflicting single bond directions around double bond at index 17.\n",
      "[17:42:54]   BondStereo set to STEREONONE and single bond directions set to NONE.\n",
      "[17:42:54] Conflicting single bond directions around double bond at index 12.\n",
      "[17:42:54]   BondStereo set to STEREONONE and single bond directions set to NONE.\n",
      "[17:42:54] Conflicting single bond directions around double bond at index 17.\n",
      "[17:42:54] Conflicting single bond directions around double bond at index 17.\n",
      "[17:42:54]   BondStereo set to STEREONONE and single bond directions set to NONE.\n",
      "[17:42:54]   BondStereo set to STEREONONE and single bond directions set to NONE.\n",
      "[17:42:54] Conflicting single bond directions around double bond at index 12.\n",
      "[17:42:54]   BondStereo set to STEREONONE and single bond directions set to NONE.\n",
      "[17:42:54] Conflicting single bond directions around double bond at index 17.\n",
      "[17:42:54]   BondStereo set to STEREONONE and single bond directions set to NONE.\n",
      "[17:42:54] Conflicting single bond directions around double bond at index 17.\n",
      "[17:42:54]   BondStereo set to STEREONONE and single bond directions set to NONE.\n",
      "[17:42:55] WARNING: not removing hydrogen atom without neighbors\n",
      "[17:42:55] WARNING: not removing hydrogen atom without neighbors\n",
      "[17:42:55] WARNING: not removing hydrogen atom without neighbors\n",
      "[17:42:55] WARNING: not removing hydrogen atom without neighbors\n",
      "[17:42:55] WARNING: not removing hydrogen atom without neighbors\n",
      "[17:42:55] WARNING: not removing hydrogen atom without neighbors\n",
      "[17:42:55] WARNING: not removing hydrogen atom without neighbors\n",
      " 95%|█████████▌| 3369/3538 [03:02<00:01, 136.99it/s][17:42:55] WARNING: not removing hydrogen atom without neighbors\n",
      "[17:42:55] WARNING: not removing hydrogen atom without neighbors\n",
      "[17:42:55] WARNING: not removing hydrogen atom without neighbors\n",
      "[17:42:55] WARNING: not removing hydrogen atom without neighbors\n",
      "[17:42:55] WARNING: not removing hydrogen atom without neighbors\n",
      "[17:42:55] WARNING: not removing hydrogen atom without neighbors\n",
      "[17:42:55] WARNING: not removing hydrogen atom without neighbors\n",
      "[17:42:55] WARNING: not removing hydrogen atom without neighbors\n",
      "[17:42:55] WARNING: not removing hydrogen atom without neighbors\n",
      "[17:42:55] WARNING: not removing hydrogen atom without neighbors\n",
      "[17:42:55] WARNING: not removing hydrogen atom without neighbors\n",
      "[17:42:55] WARNING: not removing hydrogen atom without neighbors\n",
      "[17:42:55] WARNING: not removing hydrogen atom without neighbors\n",
      "[17:42:55] WARNING: not removing hydrogen atom without neighbors\n",
      "[17:42:55] WARNING: not removing hydrogen atom without neighbors\n",
      "[17:42:55] WARNING: not removing hydrogen atom without neighbors\n",
      "[17:42:55] WARNING: not removing hydrogen atom without neighbors\n",
      "[17:42:55] WARNING: not removing hydrogen atom without neighbors\n",
      "[17:42:55] WARNING: not removing hydrogen atom without neighbors\n",
      "[17:42:55] WARNING: not removing hydrogen atom without neighbors\n",
      "[17:42:55] WARNING: not removing hydrogen atom without neighbors\n",
      "[17:42:55] WARNING: not removing hydrogen atom without neighbors\n",
      "[17:42:55] WARNING: not removing hydrogen atom without neighbors\n",
      "[17:42:55] WARNING: not removing hydrogen atom without neighbors\n",
      "[17:42:55] WARNING: not removing hydrogen atom without neighbors\n",
      "[17:42:55] WARNING: not removing hydrogen atom without neighbors\n",
      "[17:42:55] Conflicting single bond directions around double bond at index 11.\n",
      "[17:42:55]   BondStereo set to STEREONONE and single bond directions set to NONE.\n",
      "[17:42:55] WARNING: not removing hydrogen atom without neighbors\n",
      "[17:42:55] WARNING: not removing hydrogen atom without neighbors\n",
      "[17:42:55] WARNING: not removing hydrogen atom without neighbors\n",
      "[17:42:55] WARNING: not removing hydrogen atom without neighbors\n",
      " 96%|█████████▋| 3408/3538 [03:02<00:01, 115.38it/s][17:42:55] WARNING: not removing hydrogen atom without neighbors\n",
      "[17:42:55] WARNING: not removing hydrogen atom without neighbors\n",
      "[17:42:55] WARNING: not removing hydrogen atom without neighbors\n",
      "[17:42:55] WARNING: not removing hydrogen atom without neighbors\n",
      "[17:42:55] WARNING: not removing hydrogen atom without neighbors\n",
      "[17:42:55] WARNING: not removing hydrogen atom without neighbors\n",
      "[17:42:55] WARNING: not removing hydrogen atom without neighbors\n",
      "[17:42:55] WARNING: not removing hydrogen atom without neighbors\n",
      "[17:42:55] WARNING: not removing hydrogen atom without neighbors\n",
      "[17:42:55] WARNING: not removing hydrogen atom without neighbors\n",
      "[17:42:55] WARNING: not removing hydrogen atom without neighbors\n",
      "[17:42:55] WARNING: not removing hydrogen atom without neighbors\n",
      "[17:42:55] WARNING: not removing hydrogen atom without neighbors\n",
      "[17:42:55] WARNING: not removing hydrogen atom without neighbors\n",
      "[17:42:55] WARNING: not removing hydrogen atom without neighbors\n",
      "[17:42:55] WARNING: not removing hydrogen atom without neighbors\n",
      "[17:42:55] WARNING: not removing hydrogen atom without neighbors\n",
      "[17:42:55] WARNING: not removing hydrogen atom without neighbors\n",
      "[17:42:55] WARNING: not removing hydrogen atom without neighbors\n",
      "[17:42:55] WARNING: not removing hydrogen atom without neighbors\n",
      "[17:42:56] WARNING: not removing hydrogen atom without neighbors\n",
      "[17:42:56] WARNING: not removing hydrogen atom without neighbors\n",
      "[17:42:56] WARNING: not removing hydrogen atom without neighbors\n",
      " 97%|█████████▋| 3438/3538 [03:03<00:00, 106.87it/s][17:42:56] WARNING: not removing hydrogen atom without neighbors\n",
      "[17:42:56] WARNING: not removing hydrogen atom without neighbors\n",
      "[17:42:56] WARNING: not removing hydrogen atom without neighbors\n",
      "[17:42:56] WARNING: not removing hydrogen atom without neighbors\n",
      "[17:42:56] WARNING: not removing hydrogen atom without neighbors\n",
      "[17:42:56] WARNING: not removing hydrogen atom without neighbors\n",
      "[17:42:56] WARNING: not removing hydrogen atom without neighbors\n",
      "[17:42:56] WARNING: not removing hydrogen atom without neighbors\n",
      "[17:42:56] WARNING: not removing hydrogen atom without neighbors\n",
      "[17:42:56] WARNING: not removing hydrogen atom without neighbors\n",
      "[17:42:56] WARNING: not removing hydrogen atom without neighbors\n",
      "[17:42:56] WARNING: not removing hydrogen atom without neighbors\n",
      "[17:42:56] WARNING: not removing hydrogen atom without neighbors\n",
      "[17:42:56] WARNING: not removing hydrogen atom without neighbors\n",
      "[17:42:56] WARNING: not removing hydrogen atom without neighbors\n",
      "[17:42:56] WARNING: not removing hydrogen atom without neighbors\n",
      "[17:42:56] WARNING: not removing hydrogen atom without neighbors\n",
      "[17:42:56] WARNING: not removing hydrogen atom without neighbors\n",
      "[17:42:56] WARNING: not removing hydrogen atom without neighbors\n",
      " 98%|█████████▊| 3461/3538 [03:03<00:00, 99.49it/s] [17:42:56] WARNING: not removing hydrogen atom without neighbors\n",
      "[17:42:56] WARNING: not removing hydrogen atom without neighbors\n",
      "[17:42:56] WARNING: not removing hydrogen atom without neighbors\n",
      "[17:42:56] WARNING: not removing hydrogen atom without neighbors\n",
      "[17:42:56] WARNING: not removing hydrogen atom without neighbors\n",
      "[17:42:56] WARNING: not removing hydrogen atom without neighbors\n",
      "[17:42:56] WARNING: not removing hydrogen atom without neighbors\n",
      "[17:42:56] WARNING: not removing hydrogen atom without neighbors\n",
      "[17:42:56] WARNING: not removing hydrogen atom without neighbors\n",
      "[17:42:56] WARNING: not removing hydrogen atom without neighbors\n",
      "[17:42:56] WARNING: not removing hydrogen atom without neighbors\n",
      "[17:42:56] WARNING: not removing hydrogen atom without neighbors\n",
      "[17:42:56] WARNING: not removing hydrogen atom without neighbors\n",
      "[17:42:56] WARNING: not removing hydrogen atom without neighbors\n",
      "[17:42:56] WARNING: not removing hydrogen atom without neighbors\n",
      "[17:42:56] WARNING: not removing hydrogen atom without neighbors\n",
      "[17:42:56] WARNING: not removing hydrogen atom without neighbors\n",
      " 98%|█████████▊| 3480/3538 [03:03<00:00, 94.29it/s][17:42:56] WARNING: not removing hydrogen atom without neighbors\n",
      "[17:42:56] WARNING: not removing hydrogen atom without neighbors\n",
      "[17:42:56] WARNING: not removing hydrogen atom without neighbors\n",
      "[17:42:56] WARNING: not removing hydrogen atom without neighbors\n",
      "[17:42:56] WARNING: not removing hydrogen atom without neighbors\n",
      "[17:42:56] WARNING: not removing hydrogen atom without neighbors\n",
      "[17:42:56] WARNING: not removing hydrogen atom without neighbors\n",
      "[17:42:56] WARNING: not removing hydrogen atom without neighbors\n",
      "[17:42:56] WARNING: not removing hydrogen atom without neighbors\n",
      "[17:42:56] WARNING: not removing hydrogen atom without neighbors\n",
      "[17:42:56] WARNING: not removing hydrogen atom without neighbors\n",
      "[17:42:56] WARNING: not removing hydrogen atom without neighbors\n",
      " 99%|█████████▉| 3495/3538 [03:03<00:00, 90.29it/s][17:42:56] WARNING: not removing hydrogen atom without neighbors\n",
      "[17:42:56] WARNING: not removing hydrogen atom without neighbors\n",
      "[17:42:56] WARNING: not removing hydrogen atom without neighbors\n",
      "[17:42:56] WARNING: not removing hydrogen atom without neighbors\n",
      "[17:42:58] WARNING: not removing hydrogen atom without neighbors\n",
      "[17:42:58] WARNING: not removing hydrogen atom without neighbors\n",
      "[17:42:58] SMILES Parse Error: syntax error while parsing: C1([R4])(=C([R3])C(=O)C(/[R3])=C([R1])/C(=O)1)\n",
      "[17:42:58] SMILES Parse Error: Failed parsing SMILES 'C1([R4])(=C([R3])C(=O)C(/[R3])=C([R1])/C(=O)1)' for input: 'C1([R4])(=C([R3])C(=O)C(/[R3])=C([R1])/C(=O)1)'\n",
      "[17:42:58] SMILES Parse Error: syntax error while parsing: C1([R4])(=C([R3])C(=O)C(/[R3])=C([R1])/C(=O)1)\n",
      "[17:42:58] SMILES Parse Error: Failed parsing SMILES 'C1([R4])(=C([R3])C(=O)C(/[R3])=C([R1])/C(=O)1)' for input: 'C1([R4])(=C([R3])C(=O)C(/[R3])=C([R1])/C(=O)1)'\n",
      "[17:42:58] SMILES Parse Error: syntax error while parsing: C1([R4])(=C([R3])C(=O)C(/[R3])=C([R1])/C(=O)1)\n",
      "[17:42:58] SMILES Parse Error: Failed parsing SMILES 'C1([R4])(=C([R3])C(=O)C(/[R3])=C([R1])/C(=O)1)' for input: 'C1([R4])(=C([R3])C(=O)C(/[R3])=C([R1])/C(=O)1)'\n",
      "[17:42:58] SMILES Parse Error: syntax error while parsing: C1([R4])(=C([R3])C(=O)C(/[R3])=C([R1])/C(=O)1)\n",
      "[17:42:58] SMILES Parse Error: Failed parsing SMILES 'C1([R4])(=C([R3])C(=O)C(/[R3])=C([R1])/C(=O)1)' for input: 'C1([R4])(=C([R3])C(=O)C(/[R3])=C([R1])/C(=O)1)'\n",
      "[17:42:58] SMILES Parse Error: syntax error while parsing: C1([R4])(=C([R3])C(=O)C(/[R3])=C([R1])/C(=O)1)\n",
      "[17:42:58] SMILES Parse Error: Failed parsing SMILES 'C1([R4])(=C([R3])C(=O)C(/[R3])=C([R1])/C(=O)1)' for input: 'C1([R4])(=C([R3])C(=O)C(/[R3])=C([R1])/C(=O)1)'\n",
      "[17:42:58] SMILES Parse Error: syntax error while parsing: C1([R4])(=C([R3])C(=O)C(/[R3])=C([R1])/C(=O)1)\n",
      "[17:42:58] SMILES Parse Error: Failed parsing SMILES 'C1([R4])(=C([R3])C(=O)C(/[R3])=C([R1])/C(=O)1)' for input: 'C1([R4])(=C([R3])C(=O)C(/[R3])=C([R1])/C(=O)1)'\n",
      "[17:42:58] WARNING: not removing hydrogen atom without neighbors\n",
      "[17:42:58] SMILES Parse Error: syntax error while parsing: C1([R4])(=C([R3])C(=O)C(/[R3])=C([R1])/C(=O)1)\n",
      "[17:42:58] SMILES Parse Error: Failed parsing SMILES 'C1([R4])(=C([R3])C(=O)C(/[R3])=C([R1])/C(=O)1)' for input: 'C1([R4])(=C([R3])C(=O)C(/[R3])=C([R1])/C(=O)1)'\n",
      "[17:42:58] SMILES Parse Error: syntax error while parsing: C1([R4])(=C([R3])C(=O)C(/[R3])=C([R1])/C(=O)1)\n",
      "[17:42:58] SMILES Parse Error: Failed parsing SMILES 'C1([R4])(=C([R3])C(=O)C(/[R3])=C([R1])/C(=O)1)' for input: 'C1([R4])(=C([R3])C(=O)C(/[R3])=C([R1])/C(=O)1)'\n",
      "[17:42:59] WARNING: not removing hydrogen atom without neighbors\n",
      "[17:42:59] SMILES Parse Error: syntax error while parsing: C1([R4])(=C([R3])C(=O)C(/[R3])=C([R1])/C(=O)1)\n",
      "[17:42:59] SMILES Parse Error: Failed parsing SMILES 'C1([R4])(=C([R3])C(=O)C(/[R3])=C([R1])/C(=O)1)' for input: 'C1([R4])(=C([R3])C(=O)C(/[R3])=C([R1])/C(=O)1)'\n",
      "[17:43:00] WARNING: not removing hydrogen atom without neighbors\n",
      "[17:43:00] WARNING: not removing hydrogen atom without neighbors\n",
      " 99%|█████████▉| 3508/3538 [03:07<00:01, 17.65it/s][17:43:00] WARNING: not removing hydrogen atom without neighbors\n",
      "[17:43:00] WARNING: not removing hydrogen atom without neighbors\n",
      "[17:43:00] WARNING: not removing hydrogen atom without neighbors\n",
      "[17:43:00] WARNING: not removing hydrogen atom without neighbors\n",
      "[17:43:00] WARNING: not removing hydrogen atom without neighbors\n",
      "[17:43:00] WARNING: not removing hydrogen atom without neighbors\n",
      " 99%|█████████▉| 3517/3538 [03:07<00:01, 19.66it/s][17:43:00] WARNING: not removing hydrogen atom without neighbors\n",
      "[17:43:00] WARNING: not removing hydrogen atom without neighbors\n",
      "[17:43:00] WARNING: not removing hydrogen atom without neighbors\n",
      "[17:43:00] WARNING: not removing hydrogen atom without neighbors\n",
      "[17:43:00] WARNING: not removing hydrogen atom without neighbors\n",
      "100%|█████████▉| 3526/3538 [03:07<00:00, 22.46it/s][17:43:00] WARNING: not removing hydrogen atom without neighbors\n",
      "[17:43:00] WARNING: not removing hydrogen atom without neighbors\n",
      "[17:43:00] WARNING: not removing hydrogen atom without neighbors\n",
      "[17:43:00] WARNING: not removing hydrogen atom without neighbors\n",
      "[17:43:00] WARNING: not removing hydrogen atom without neighbors\n",
      "[17:43:00] WARNING: not removing hydrogen atom without neighbors\n",
      "[17:43:00] WARNING: not removing hydrogen atom without neighbors\n",
      "[17:43:00] WARNING: not removing hydrogen atom without neighbors\n",
      "[17:43:00] WARNING: not removing hydrogen atom without neighbors\n",
      "100%|█████████▉| 3535/3538 [03:08<00:00, 25.91it/s][17:43:01] SMILES Parse Error: syntax error while parsing: C[C@@H](C(SCCNC(=O)CCNC([C@H](O)C(C)(C)COP(=O)([O-])OC[C@H](N[a\n",
      "[17:43:01] SMILES Parse Error: Failed parsing SMILES 'C[C@@H](C(SCCNC(=O)CCNC([C@H](O)C(C)(C)COP(=O)([O-])OC[C@H](N[a' for input: 'C[C@@H](C(SCCNC(=O)CCNC([C@H](O)C(C)(C)COP(=O)([O-])OC[C@H](N[a'\n",
      "[17:43:01] SMILES Parse Error: syntax error while parsing: C([R])C(=O)N[C@H](C(N[C@@H]([C@@H](O)C[C@H](O)[C@H]([NH3+])[C@H](O)[C@@H](O)C(=O)N[C@H](C(=O)N)CNC(N)=O)CO)=O)CC(=O)N\n",
      "[17:43:01] SMILES Parse Error: Failed parsing SMILES 'C([R])C(=O)N[C@H](C(N[C@@H]([C@@H](O)C[C@H](O)[C@H]([NH3+])[C@H](O)[C@@H](O)C(=O)N[C@H](C(=O)N)CNC(N)=O)CO)=O)CC(=O)N' for input: 'C([R])C(=O)N[C@H](C(N[C@@H]([C@@H](O)C[C@H](O)[C@H]([NH3+])[C@H](O)[C@@H](O)C(=O)N[C@H](C(=O)N)CNC(N)=O)CO)=O)CC(=O)N'\n",
      "[17:43:01] WARNING: not removing hydrogen atom without neighbors\n",
      "[17:43:02] WARNING: not removing hydrogen atom without neighbors\n",
      "100%|██████████| 3538/3538 [03:09<00:00, 18.69it/s]\n"
     ]
    }
   ],
   "execution_count": 8
  },
  {
   "metadata": {
    "ExecuteTime": {
     "end_time": "2024-05-12T15:49:57.487582Z",
     "start_time": "2024-05-12T15:49:57.470881Z"
    }
   },
   "cell_type": "code",
   "source": [
    "class SimplePathwayEncoder(torch.nn.Module):\n",
    "    def __init__(self, embedding_dim=128):\n",
    "        super(SimplePathwayEncoder, self).__init__()\n",
    "        self.fc1 = torch.nn.Linear(2048, embedding_dim)\n",
    "            \n",
    "    def forward(self, pathways):\n",
    "        embeddings = []\n",
    "        for p in pathways:\n",
    "            if p in cached_base_embeddings:\n",
    "                embeddings.append(cached_base_embeddings[p])\n",
    "                continue\n",
    "            graph = make_pathway_graph(p)\n",
    "            adj_matrix, reactions, compounds = graph\n",
    "            embedding = embed_graph(compounds)\n",
    "            embeddings.append(torch.tensor(embedding.astype(np.float32)))\n",
    "        x = torch.stack(embeddings)\n",
    "        x = self.fc1(x)\n",
    "        return x"
   ],
   "id": "53734b564be9a3c1",
   "outputs": [],
   "execution_count": 9
  },
  {
   "metadata": {
    "ExecuteTime": {
     "end_time": "2024-05-12T17:52:23.884302Z",
     "start_time": "2024-05-12T16:36:58.903640Z"
    }
   },
   "cell_type": "code",
   "source": [
    "wandb.init(project='Metacyc', config={\n",
    "    \"learning_rate\": 0.001,\n",
    "    \"epochs\": 1000,\n",
    "    \"batch_size\": 16,\n",
    "    \"embedding_dim\": 256\n",
    "})\n",
    "\n",
    "config = wandb.config\n",
    "\n",
    "dataset = SimpleTripletDataset()\n",
    "dataloader = DataLoader(dataset, batch_size=4, shuffle=True)\n",
    "\n",
    "EMBEDDING_DIM = config.embedding_dim\n",
    "organism_embedding = torch.nn.Embedding(len(species), EMBEDDING_DIM)\n",
    "pathway_encoder = SimplePathwayEncoder(EMBEDDING_DIM)\n",
    "optimizer = torch.optim.Adam(\n",
    "    list(organism_embedding.parameters()) + list(pathway_encoder.parameters()), \n",
    "    lr=0.001\n",
    ")\n",
    "\n",
    "criterion = torch.nn.TripletMarginLoss(margin=1.0, p=2)\n",
    "\n",
    "\n",
    "for epoch in tqdm.tqdm(range(config.epochs)):\n",
    "    total_loss = 0\n",
    "    num_batches = 0\n",
    "    print(f\"Epoch {epoch+1}\")\n",
    "\n",
    "    for organisms, pos_pathways, neg_pathways in dataloader:\n",
    "        optimizer.zero_grad()\n",
    "\n",
    "        organism_idx = torch.tensor([list(species.keys()).index(o) for o in organisms])\n",
    "        org_vectors = organism_embedding(organism_idx)\n",
    "        \n",
    "        pos_path_vectors = pathway_encoder(pos_pathways)\n",
    "        neg_path_vectors = pathway_encoder(neg_pathways)\n",
    "        \n",
    "        loss = criterion(org_vectors, pos_path_vectors, neg_path_vectors)\n",
    "        loss.backward()\n",
    "        optimizer.step()\n",
    "\n",
    "        total_loss += loss.item()\n",
    "        num_batches += 1\n",
    "\n",
    "        # Optionally log batch-level metrics\n",
    "        wandb.log({\"Batch Loss\": loss.item()})\n",
    "\n",
    "    average_loss = total_loss / num_batches\n",
    "    print(f\"Average Loss for Epoch {epoch+1}: {average_loss:.4f}\")\n",
    "    \n",
    "    # Log epoch-level metrics\n",
    "    wandb.log({\"Epoch\": epoch + 1, \"Average Loss\": average_loss})\n",
    "\n",
    "wandb.finish()"
   ],
   "id": "3e1b55182b50949",
   "outputs": [
    {
     "data": {
      "text/plain": [
       "<IPython.core.display.HTML object>"
      ],
      "text/html": [
       "wandb version 0.17.0 is available!  To upgrade, please run:\n",
       " $ pip install wandb --upgrade"
      ]
     },
     "metadata": {},
     "output_type": "display_data"
    },
    {
     "data": {
      "text/plain": [
       "<IPython.core.display.HTML object>"
      ],
      "text/html": [
       "Tracking run with wandb version 0.15.12"
      ]
     },
     "metadata": {},
     "output_type": "display_data"
    },
    {
     "data": {
      "text/plain": [
       "<IPython.core.display.HTML object>"
      ],
      "text/html": [
       "Run data is saved locally in <code>/Users/woj/data-exploration-agh/projekt/wandb/run-20240512_183659-dio9fwq4</code>"
      ]
     },
     "metadata": {},
     "output_type": "display_data"
    },
    {
     "data": {
      "text/plain": [
       "<IPython.core.display.HTML object>"
      ],
      "text/html": [
       "Syncing run <strong><a href='https://wandb.ai/woj-jasinski/Metacyc/runs/dio9fwq4' target=\"_blank\">wild-spaceship-2</a></strong> to <a href='https://wandb.ai/woj-jasinski/Metacyc' target=\"_blank\">Weights & Biases</a> (<a href='https://wandb.me/run' target=\"_blank\">docs</a>)<br/>"
      ]
     },
     "metadata": {},
     "output_type": "display_data"
    },
    {
     "data": {
      "text/plain": [
       "<IPython.core.display.HTML object>"
      ],
      "text/html": [
       " View project at <a href='https://wandb.ai/woj-jasinski/Metacyc' target=\"_blank\">https://wandb.ai/woj-jasinski/Metacyc</a>"
      ]
     },
     "metadata": {},
     "output_type": "display_data"
    },
    {
     "data": {
      "text/plain": [
       "<IPython.core.display.HTML object>"
      ],
      "text/html": [
       " View run at <a href='https://wandb.ai/woj-jasinski/Metacyc/runs/dio9fwq4' target=\"_blank\">https://wandb.ai/woj-jasinski/Metacyc/runs/dio9fwq4</a>"
      ]
     },
     "metadata": {},
     "output_type": "display_data"
    },
    {
     "name": "stderr",
     "output_type": "stream",
     "text": [
      "  0%|          | 0/1000 [00:00<?, ?it/s]"
     ]
    },
    {
     "name": "stdout",
     "output_type": "stream",
     "text": [
      "Epoch 1\n"
     ]
    },
    {
     "name": "stderr",
     "output_type": "stream",
     "text": [
      "  0%|          | 1/1000 [00:05<1:25:30,  5.14s/it]"
     ]
    },
    {
     "name": "stdout",
     "output_type": "stream",
     "text": [
      "Average Loss for Epoch 1: 8.2028\n",
      "Epoch 2\n"
     ]
    },
    {
     "name": "stderr",
     "output_type": "stream",
     "text": [
      "  0%|          | 2/1000 [00:10<1:28:07,  5.30s/it]"
     ]
    },
    {
     "name": "stdout",
     "output_type": "stream",
     "text": [
      "Average Loss for Epoch 2: 9.1005\n",
      "Epoch 3\n"
     ]
    },
    {
     "name": "stderr",
     "output_type": "stream",
     "text": [
      "  0%|          | 3/1000 [00:16<1:34:22,  5.68s/it]"
     ]
    },
    {
     "name": "stdout",
     "output_type": "stream",
     "text": [
      "Average Loss for Epoch 3: 8.3679\n",
      "Epoch 4\n"
     ]
    },
    {
     "name": "stderr",
     "output_type": "stream",
     "text": [
      "  0%|          | 4/1000 [00:23<1:41:23,  6.11s/it]"
     ]
    },
    {
     "name": "stdout",
     "output_type": "stream",
     "text": [
      "Average Loss for Epoch 4: 7.8306\n",
      "Epoch 5\n"
     ]
    },
    {
     "name": "stderr",
     "output_type": "stream",
     "text": [
      "  0%|          | 5/1000 [00:29<1:40:54,  6.09s/it]"
     ]
    },
    {
     "name": "stdout",
     "output_type": "stream",
     "text": [
      "Average Loss for Epoch 5: 8.2529\n",
      "Epoch 6\n"
     ]
    },
    {
     "name": "stderr",
     "output_type": "stream",
     "text": [
      "  1%|          | 6/1000 [00:34<1:33:59,  5.67s/it]"
     ]
    },
    {
     "name": "stdout",
     "output_type": "stream",
     "text": [
      "Average Loss for Epoch 6: 7.4948\n",
      "Epoch 7\n"
     ]
    },
    {
     "name": "stderr",
     "output_type": "stream",
     "text": [
      "  1%|          | 7/1000 [00:39<1:29:42,  5.42s/it]"
     ]
    },
    {
     "name": "stdout",
     "output_type": "stream",
     "text": [
      "Average Loss for Epoch 7: 6.2956\n",
      "Epoch 8\n"
     ]
    },
    {
     "name": "stderr",
     "output_type": "stream",
     "text": [
      "  1%|          | 8/1000 [00:44<1:27:34,  5.30s/it]"
     ]
    },
    {
     "name": "stdout",
     "output_type": "stream",
     "text": [
      "Average Loss for Epoch 8: 6.5911\n",
      "Epoch 9\n"
     ]
    },
    {
     "name": "stderr",
     "output_type": "stream",
     "text": [
      "  1%|          | 9/1000 [00:48<1:23:08,  5.03s/it]"
     ]
    },
    {
     "name": "stdout",
     "output_type": "stream",
     "text": [
      "Average Loss for Epoch 9: 6.4530\n",
      "Epoch 10\n"
     ]
    },
    {
     "name": "stderr",
     "output_type": "stream",
     "text": [
      "  1%|          | 10/1000 [00:53<1:19:41,  4.83s/it]"
     ]
    },
    {
     "name": "stdout",
     "output_type": "stream",
     "text": [
      "Average Loss for Epoch 10: 5.6338\n",
      "Epoch 11\n"
     ]
    },
    {
     "name": "stderr",
     "output_type": "stream",
     "text": [
      "  1%|          | 11/1000 [00:57<1:17:44,  4.72s/it]"
     ]
    },
    {
     "name": "stdout",
     "output_type": "stream",
     "text": [
      "Average Loss for Epoch 11: 6.1345\n",
      "Epoch 12\n"
     ]
    },
    {
     "name": "stderr",
     "output_type": "stream",
     "text": [
      "  1%|          | 12/1000 [01:02<1:18:15,  4.75s/it]"
     ]
    },
    {
     "name": "stdout",
     "output_type": "stream",
     "text": [
      "Average Loss for Epoch 12: 6.3529\n",
      "Epoch 13\n"
     ]
    },
    {
     "name": "stderr",
     "output_type": "stream",
     "text": [
      "  1%|▏         | 13/1000 [01:06<1:16:40,  4.66s/it]"
     ]
    },
    {
     "name": "stdout",
     "output_type": "stream",
     "text": [
      "Average Loss for Epoch 13: 5.8116\n",
      "Epoch 14\n"
     ]
    },
    {
     "name": "stderr",
     "output_type": "stream",
     "text": [
      "  1%|▏         | 14/1000 [01:14<1:30:33,  5.51s/it]"
     ]
    },
    {
     "name": "stdout",
     "output_type": "stream",
     "text": [
      "Average Loss for Epoch 14: 5.1483\n",
      "Epoch 15\n"
     ]
    },
    {
     "name": "stderr",
     "output_type": "stream",
     "text": [
      "  2%|▏         | 15/1000 [01:26<2:03:08,  7.50s/it]"
     ]
    },
    {
     "name": "stdout",
     "output_type": "stream",
     "text": [
      "Average Loss for Epoch 15: 5.0108\n",
      "Epoch 16\n"
     ]
    },
    {
     "name": "stderr",
     "output_type": "stream",
     "text": [
      "  2%|▏         | 16/1000 [01:31<1:52:43,  6.87s/it]"
     ]
    },
    {
     "name": "stdout",
     "output_type": "stream",
     "text": [
      "Average Loss for Epoch 16: 5.1928\n",
      "Epoch 17\n"
     ]
    },
    {
     "name": "stderr",
     "output_type": "stream",
     "text": [
      "  2%|▏         | 17/1000 [01:36<1:41:38,  6.20s/it]"
     ]
    },
    {
     "name": "stdout",
     "output_type": "stream",
     "text": [
      "Average Loss for Epoch 17: 5.1125\n",
      "Epoch 18\n"
     ]
    },
    {
     "name": "stderr",
     "output_type": "stream",
     "text": [
      "  2%|▏         | 18/1000 [01:41<1:33:30,  5.71s/it]"
     ]
    },
    {
     "name": "stdout",
     "output_type": "stream",
     "text": [
      "Average Loss for Epoch 18: 5.7334\n",
      "Epoch 19\n"
     ]
    },
    {
     "name": "stderr",
     "output_type": "stream",
     "text": [
      "  2%|▏         | 19/1000 [01:46<1:30:15,  5.52s/it]"
     ]
    },
    {
     "name": "stdout",
     "output_type": "stream",
     "text": [
      "Average Loss for Epoch 19: 5.4663\n",
      "Epoch 20\n"
     ]
    },
    {
     "name": "stderr",
     "output_type": "stream",
     "text": [
      "  2%|▏         | 20/1000 [01:50<1:24:53,  5.20s/it]"
     ]
    },
    {
     "name": "stdout",
     "output_type": "stream",
     "text": [
      "Average Loss for Epoch 20: 5.4866\n",
      "Epoch 21\n"
     ]
    },
    {
     "name": "stderr",
     "output_type": "stream",
     "text": [
      "  2%|▏         | 21/1000 [01:55<1:21:02,  4.97s/it]"
     ]
    },
    {
     "name": "stdout",
     "output_type": "stream",
     "text": [
      "Average Loss for Epoch 21: 4.7195\n",
      "Epoch 22\n"
     ]
    },
    {
     "name": "stderr",
     "output_type": "stream",
     "text": [
      "  2%|▏         | 22/1000 [01:59<1:18:13,  4.80s/it]"
     ]
    },
    {
     "name": "stdout",
     "output_type": "stream",
     "text": [
      "Average Loss for Epoch 22: 5.1923\n",
      "Epoch 23\n"
     ]
    },
    {
     "name": "stderr",
     "output_type": "stream",
     "text": [
      "  2%|▏         | 23/1000 [02:04<1:17:15,  4.74s/it]"
     ]
    },
    {
     "name": "stdout",
     "output_type": "stream",
     "text": [
      "Average Loss for Epoch 23: 5.6184\n",
      "Epoch 24\n"
     ]
    },
    {
     "name": "stderr",
     "output_type": "stream",
     "text": [
      "  2%|▏         | 24/1000 [02:08<1:15:44,  4.66s/it]"
     ]
    },
    {
     "name": "stdout",
     "output_type": "stream",
     "text": [
      "Average Loss for Epoch 24: 5.0827\n",
      "Epoch 25\n"
     ]
    },
    {
     "name": "stderr",
     "output_type": "stream",
     "text": [
      "  2%|▎         | 25/1000 [02:12<1:14:00,  4.55s/it]"
     ]
    },
    {
     "name": "stdout",
     "output_type": "stream",
     "text": [
      "Average Loss for Epoch 25: 4.8486\n",
      "Epoch 26\n"
     ]
    },
    {
     "name": "stderr",
     "output_type": "stream",
     "text": [
      "  3%|▎         | 26/1000 [02:17<1:13:46,  4.54s/it]"
     ]
    },
    {
     "name": "stdout",
     "output_type": "stream",
     "text": [
      "Average Loss for Epoch 26: 5.2019\n",
      "Epoch 27\n"
     ]
    },
    {
     "name": "stderr",
     "output_type": "stream",
     "text": [
      "  3%|▎         | 27/1000 [02:21<1:12:31,  4.47s/it]"
     ]
    },
    {
     "name": "stdout",
     "output_type": "stream",
     "text": [
      "Average Loss for Epoch 27: 5.1542\n",
      "Epoch 28\n"
     ]
    },
    {
     "name": "stderr",
     "output_type": "stream",
     "text": [
      "  3%|▎         | 28/1000 [02:25<1:11:41,  4.43s/it]"
     ]
    },
    {
     "name": "stdout",
     "output_type": "stream",
     "text": [
      "Average Loss for Epoch 28: 5.9213\n",
      "Epoch 29\n"
     ]
    },
    {
     "name": "stderr",
     "output_type": "stream",
     "text": [
      "  3%|▎         | 29/1000 [02:31<1:14:53,  4.63s/it]"
     ]
    },
    {
     "name": "stdout",
     "output_type": "stream",
     "text": [
      "Average Loss for Epoch 29: 5.3988\n",
      "Epoch 30\n"
     ]
    },
    {
     "name": "stderr",
     "output_type": "stream",
     "text": [
      "  3%|▎         | 30/1000 [02:36<1:17:12,  4.78s/it]"
     ]
    },
    {
     "name": "stdout",
     "output_type": "stream",
     "text": [
      "Average Loss for Epoch 30: 5.2989\n",
      "Epoch 31\n"
     ]
    },
    {
     "name": "stderr",
     "output_type": "stream",
     "text": [
      "  3%|▎         | 31/1000 [02:41<1:20:41,  5.00s/it]"
     ]
    },
    {
     "name": "stdout",
     "output_type": "stream",
     "text": [
      "Average Loss for Epoch 31: 5.7324\n",
      "Epoch 32\n"
     ]
    },
    {
     "name": "stderr",
     "output_type": "stream",
     "text": [
      "  3%|▎         | 32/1000 [02:46<1:20:39,  5.00s/it]"
     ]
    },
    {
     "name": "stdout",
     "output_type": "stream",
     "text": [
      "Average Loss for Epoch 32: 4.8548\n",
      "Epoch 33\n"
     ]
    },
    {
     "name": "stderr",
     "output_type": "stream",
     "text": [
      "  3%|▎         | 33/1000 [02:52<1:26:22,  5.36s/it]"
     ]
    },
    {
     "name": "stdout",
     "output_type": "stream",
     "text": [
      "Average Loss for Epoch 33: 5.5617\n",
      "Epoch 34\n"
     ]
    },
    {
     "name": "stderr",
     "output_type": "stream",
     "text": [
      "  3%|▎         | 34/1000 [02:58<1:27:25,  5.43s/it]"
     ]
    },
    {
     "name": "stdout",
     "output_type": "stream",
     "text": [
      "Average Loss for Epoch 34: 4.6658\n",
      "Epoch 35\n"
     ]
    },
    {
     "name": "stderr",
     "output_type": "stream",
     "text": [
      "  4%|▎         | 35/1000 [03:04<1:29:13,  5.55s/it]"
     ]
    },
    {
     "name": "stdout",
     "output_type": "stream",
     "text": [
      "Average Loss for Epoch 35: 5.1041\n",
      "Epoch 36\n"
     ]
    },
    {
     "name": "stderr",
     "output_type": "stream",
     "text": [
      "  4%|▎         | 36/1000 [03:09<1:25:51,  5.34s/it]"
     ]
    },
    {
     "name": "stdout",
     "output_type": "stream",
     "text": [
      "Average Loss for Epoch 36: 5.1222\n",
      "Epoch 37\n"
     ]
    },
    {
     "name": "stderr",
     "output_type": "stream",
     "text": [
      "  4%|▎         | 37/1000 [03:13<1:22:15,  5.12s/it]"
     ]
    },
    {
     "name": "stdout",
     "output_type": "stream",
     "text": [
      "Average Loss for Epoch 37: 4.8319\n",
      "Epoch 38\n"
     ]
    },
    {
     "name": "stderr",
     "output_type": "stream",
     "text": [
      "  4%|▍         | 38/1000 [03:18<1:19:32,  4.96s/it]"
     ]
    },
    {
     "name": "stdout",
     "output_type": "stream",
     "text": [
      "Average Loss for Epoch 38: 4.8300\n",
      "Epoch 39\n"
     ]
    },
    {
     "name": "stderr",
     "output_type": "stream",
     "text": [
      "  4%|▍         | 39/1000 [03:22<1:16:10,  4.76s/it]"
     ]
    },
    {
     "name": "stdout",
     "output_type": "stream",
     "text": [
      "Average Loss for Epoch 39: 5.3762\n",
      "Epoch 40\n"
     ]
    },
    {
     "name": "stderr",
     "output_type": "stream",
     "text": [
      "  4%|▍         | 40/1000 [03:26<1:13:48,  4.61s/it]"
     ]
    },
    {
     "name": "stdout",
     "output_type": "stream",
     "text": [
      "Average Loss for Epoch 40: 5.1726\n",
      "Epoch 41\n"
     ]
    },
    {
     "name": "stderr",
     "output_type": "stream",
     "text": [
      "  4%|▍         | 41/1000 [03:34<1:27:03,  5.45s/it]"
     ]
    },
    {
     "name": "stdout",
     "output_type": "stream",
     "text": [
      "Average Loss for Epoch 41: 5.4858\n",
      "Epoch 42\n"
     ]
    },
    {
     "name": "stderr",
     "output_type": "stream",
     "text": [
      "  4%|▍         | 42/1000 [03:40<1:29:09,  5.58s/it]"
     ]
    },
    {
     "name": "stdout",
     "output_type": "stream",
     "text": [
      "Average Loss for Epoch 42: 4.7034\n",
      "Epoch 43\n"
     ]
    },
    {
     "name": "stderr",
     "output_type": "stream",
     "text": [
      "  4%|▍         | 43/1000 [03:45<1:25:53,  5.38s/it]"
     ]
    },
    {
     "name": "stdout",
     "output_type": "stream",
     "text": [
      "Average Loss for Epoch 43: 5.0296\n",
      "Epoch 44\n"
     ]
    },
    {
     "name": "stderr",
     "output_type": "stream",
     "text": [
      "  4%|▍         | 44/1000 [03:50<1:26:49,  5.45s/it]"
     ]
    },
    {
     "name": "stdout",
     "output_type": "stream",
     "text": [
      "Average Loss for Epoch 44: 4.8127\n",
      "Epoch 45\n"
     ]
    },
    {
     "name": "stderr",
     "output_type": "stream",
     "text": [
      "  4%|▍         | 45/1000 [03:55<1:23:16,  5.23s/it]"
     ]
    },
    {
     "name": "stdout",
     "output_type": "stream",
     "text": [
      "Average Loss for Epoch 45: 5.3489\n",
      "Epoch 46\n"
     ]
    },
    {
     "name": "stderr",
     "output_type": "stream",
     "text": [
      "  5%|▍         | 46/1000 [04:00<1:19:51,  5.02s/it]"
     ]
    },
    {
     "name": "stdout",
     "output_type": "stream",
     "text": [
      "Average Loss for Epoch 46: 5.2414\n",
      "Epoch 47\n"
     ]
    },
    {
     "name": "stderr",
     "output_type": "stream",
     "text": [
      "  5%|▍         | 47/1000 [04:04<1:17:47,  4.90s/it]"
     ]
    },
    {
     "name": "stdout",
     "output_type": "stream",
     "text": [
      "Average Loss for Epoch 47: 5.3626\n",
      "Epoch 48\n"
     ]
    },
    {
     "name": "stderr",
     "output_type": "stream",
     "text": [
      "  5%|▍         | 48/1000 [04:09<1:19:23,  5.00s/it]"
     ]
    },
    {
     "name": "stdout",
     "output_type": "stream",
     "text": [
      "Average Loss for Epoch 48: 4.8934\n",
      "Epoch 49\n"
     ]
    },
    {
     "name": "stderr",
     "output_type": "stream",
     "text": [
      "  5%|▍         | 49/1000 [04:14<1:16:41,  4.84s/it]"
     ]
    },
    {
     "name": "stdout",
     "output_type": "stream",
     "text": [
      "Average Loss for Epoch 49: 5.6031\n",
      "Epoch 50\n"
     ]
    },
    {
     "name": "stderr",
     "output_type": "stream",
     "text": [
      "  5%|▌         | 50/1000 [04:18<1:14:28,  4.70s/it]"
     ]
    },
    {
     "name": "stdout",
     "output_type": "stream",
     "text": [
      "Average Loss for Epoch 50: 5.8264\n",
      "Epoch 51\n"
     ]
    },
    {
     "name": "stderr",
     "output_type": "stream",
     "text": [
      "  5%|▌         | 51/1000 [04:23<1:12:46,  4.60s/it]"
     ]
    },
    {
     "name": "stdout",
     "output_type": "stream",
     "text": [
      "Average Loss for Epoch 51: 4.7952\n",
      "Epoch 52\n"
     ]
    },
    {
     "name": "stderr",
     "output_type": "stream",
     "text": [
      "  5%|▌         | 52/1000 [04:27<1:12:51,  4.61s/it]"
     ]
    },
    {
     "name": "stdout",
     "output_type": "stream",
     "text": [
      "Average Loss for Epoch 52: 4.8887\n",
      "Epoch 53\n"
     ]
    },
    {
     "name": "stderr",
     "output_type": "stream",
     "text": [
      "  5%|▌         | 53/1000 [04:32<1:12:18,  4.58s/it]"
     ]
    },
    {
     "name": "stdout",
     "output_type": "stream",
     "text": [
      "Average Loss for Epoch 53: 4.7563\n",
      "Epoch 54\n"
     ]
    },
    {
     "name": "stderr",
     "output_type": "stream",
     "text": [
      "  5%|▌         | 54/1000 [04:36<1:11:27,  4.53s/it]"
     ]
    },
    {
     "name": "stdout",
     "output_type": "stream",
     "text": [
      "Average Loss for Epoch 54: 5.5926\n",
      "Epoch 55\n"
     ]
    },
    {
     "name": "stderr",
     "output_type": "stream",
     "text": [
      "  6%|▌         | 55/1000 [04:41<1:12:23,  4.60s/it]"
     ]
    },
    {
     "name": "stdout",
     "output_type": "stream",
     "text": [
      "Average Loss for Epoch 55: 4.6733\n",
      "Epoch 56\n"
     ]
    },
    {
     "name": "stderr",
     "output_type": "stream",
     "text": [
      "  6%|▌         | 56/1000 [04:45<1:11:34,  4.55s/it]"
     ]
    },
    {
     "name": "stdout",
     "output_type": "stream",
     "text": [
      "Average Loss for Epoch 56: 5.5316\n",
      "Epoch 57\n"
     ]
    },
    {
     "name": "stderr",
     "output_type": "stream",
     "text": [
      "  6%|▌         | 57/1000 [04:50<1:11:30,  4.55s/it]"
     ]
    },
    {
     "name": "stdout",
     "output_type": "stream",
     "text": [
      "Average Loss for Epoch 57: 4.9671\n",
      "Epoch 58\n"
     ]
    },
    {
     "name": "stderr",
     "output_type": "stream",
     "text": [
      "  6%|▌         | 58/1000 [04:55<1:13:23,  4.67s/it]"
     ]
    },
    {
     "name": "stdout",
     "output_type": "stream",
     "text": [
      "Average Loss for Epoch 58: 5.0907\n",
      "Epoch 59\n"
     ]
    },
    {
     "name": "stderr",
     "output_type": "stream",
     "text": [
      "  6%|▌         | 59/1000 [05:00<1:15:13,  4.80s/it]"
     ]
    },
    {
     "name": "stdout",
     "output_type": "stream",
     "text": [
      "Average Loss for Epoch 59: 5.5394\n",
      "Epoch 60\n"
     ]
    },
    {
     "name": "stderr",
     "output_type": "stream",
     "text": [
      "  6%|▌         | 60/1000 [05:04<1:13:19,  4.68s/it]"
     ]
    },
    {
     "name": "stdout",
     "output_type": "stream",
     "text": [
      "Average Loss for Epoch 60: 4.8303\n",
      "Epoch 61\n"
     ]
    },
    {
     "name": "stderr",
     "output_type": "stream",
     "text": [
      "  6%|▌         | 61/1000 [05:09<1:11:39,  4.58s/it]"
     ]
    },
    {
     "name": "stdout",
     "output_type": "stream",
     "text": [
      "Average Loss for Epoch 61: 5.1445\n",
      "Epoch 62\n"
     ]
    },
    {
     "name": "stderr",
     "output_type": "stream",
     "text": [
      "  6%|▌         | 62/1000 [05:13<1:11:35,  4.58s/it]"
     ]
    },
    {
     "name": "stdout",
     "output_type": "stream",
     "text": [
      "Average Loss for Epoch 62: 5.0732\n",
      "Epoch 63\n"
     ]
    },
    {
     "name": "stderr",
     "output_type": "stream",
     "text": [
      "  6%|▋         | 63/1000 [05:18<1:10:20,  4.50s/it]"
     ]
    },
    {
     "name": "stdout",
     "output_type": "stream",
     "text": [
      "Average Loss for Epoch 63: 5.1810\n",
      "Epoch 64\n"
     ]
    },
    {
     "name": "stderr",
     "output_type": "stream",
     "text": [
      "  6%|▋         | 64/1000 [05:22<1:12:07,  4.62s/it]"
     ]
    },
    {
     "name": "stdout",
     "output_type": "stream",
     "text": [
      "Average Loss for Epoch 64: 5.0939\n",
      "Epoch 65\n"
     ]
    },
    {
     "name": "stderr",
     "output_type": "stream",
     "text": [
      "  6%|▋         | 65/1000 [05:27<1:13:14,  4.70s/it]"
     ]
    },
    {
     "name": "stdout",
     "output_type": "stream",
     "text": [
      "Average Loss for Epoch 65: 5.2233\n",
      "Epoch 66\n"
     ]
    },
    {
     "name": "stderr",
     "output_type": "stream",
     "text": [
      "  7%|▋         | 66/1000 [05:32<1:12:07,  4.63s/it]"
     ]
    },
    {
     "name": "stdout",
     "output_type": "stream",
     "text": [
      "Average Loss for Epoch 66: 4.5868\n",
      "Epoch 67\n"
     ]
    },
    {
     "name": "stderr",
     "output_type": "stream",
     "text": [
      "  7%|▋         | 67/1000 [05:37<1:14:05,  4.76s/it]"
     ]
    },
    {
     "name": "stdout",
     "output_type": "stream",
     "text": [
      "Average Loss for Epoch 67: 4.3962\n",
      "Epoch 68\n"
     ]
    },
    {
     "name": "stderr",
     "output_type": "stream",
     "text": [
      "  7%|▋         | 68/1000 [05:42<1:14:14,  4.78s/it]"
     ]
    },
    {
     "name": "stdout",
     "output_type": "stream",
     "text": [
      "Average Loss for Epoch 68: 5.2391\n",
      "Epoch 69\n"
     ]
    },
    {
     "name": "stderr",
     "output_type": "stream",
     "text": [
      "  7%|▋         | 69/1000 [05:46<1:12:43,  4.69s/it]"
     ]
    },
    {
     "name": "stdout",
     "output_type": "stream",
     "text": [
      "Average Loss for Epoch 69: 4.9059\n",
      "Epoch 70\n"
     ]
    },
    {
     "name": "stderr",
     "output_type": "stream",
     "text": [
      "  7%|▋         | 70/1000 [05:51<1:11:08,  4.59s/it]"
     ]
    },
    {
     "name": "stdout",
     "output_type": "stream",
     "text": [
      "Average Loss for Epoch 70: 4.6305\n",
      "Epoch 71\n"
     ]
    },
    {
     "name": "stderr",
     "output_type": "stream",
     "text": [
      "  7%|▋         | 71/1000 [05:56<1:13:19,  4.74s/it]"
     ]
    },
    {
     "name": "stdout",
     "output_type": "stream",
     "text": [
      "Average Loss for Epoch 71: 5.0102\n",
      "Epoch 72\n"
     ]
    },
    {
     "name": "stderr",
     "output_type": "stream",
     "text": [
      "  7%|▋         | 72/1000 [06:00<1:11:32,  4.63s/it]"
     ]
    },
    {
     "name": "stdout",
     "output_type": "stream",
     "text": [
      "Average Loss for Epoch 72: 4.4263\n",
      "Epoch 73\n"
     ]
    },
    {
     "name": "stderr",
     "output_type": "stream",
     "text": [
      "  7%|▋         | 73/1000 [06:04<1:10:22,  4.55s/it]"
     ]
    },
    {
     "name": "stdout",
     "output_type": "stream",
     "text": [
      "Average Loss for Epoch 73: 4.6373\n",
      "Epoch 74\n"
     ]
    },
    {
     "name": "stderr",
     "output_type": "stream",
     "text": [
      "  7%|▋         | 74/1000 [06:09<1:09:24,  4.50s/it]"
     ]
    },
    {
     "name": "stdout",
     "output_type": "stream",
     "text": [
      "Average Loss for Epoch 74: 5.2841\n",
      "Epoch 75\n"
     ]
    },
    {
     "name": "stderr",
     "output_type": "stream",
     "text": [
      "  8%|▊         | 75/1000 [06:13<1:10:25,  4.57s/it]"
     ]
    },
    {
     "name": "stdout",
     "output_type": "stream",
     "text": [
      "Average Loss for Epoch 75: 5.2961\n",
      "Epoch 76\n"
     ]
    },
    {
     "name": "stderr",
     "output_type": "stream",
     "text": [
      "  8%|▊         | 76/1000 [06:18<1:09:35,  4.52s/it]"
     ]
    },
    {
     "name": "stdout",
     "output_type": "stream",
     "text": [
      "Average Loss for Epoch 76: 5.2125\n",
      "Epoch 77\n"
     ]
    },
    {
     "name": "stderr",
     "output_type": "stream",
     "text": [
      "  8%|▊         | 77/1000 [06:22<1:08:18,  4.44s/it]"
     ]
    },
    {
     "name": "stdout",
     "output_type": "stream",
     "text": [
      "Average Loss for Epoch 77: 4.5313\n",
      "Epoch 78\n"
     ]
    },
    {
     "name": "stderr",
     "output_type": "stream",
     "text": [
      "  8%|▊         | 78/1000 [06:27<1:08:35,  4.46s/it]"
     ]
    },
    {
     "name": "stdout",
     "output_type": "stream",
     "text": [
      "Average Loss for Epoch 78: 4.7658\n",
      "Epoch 79\n"
     ]
    },
    {
     "name": "stderr",
     "output_type": "stream",
     "text": [
      "  8%|▊         | 79/1000 [06:31<1:07:50,  4.42s/it]"
     ]
    },
    {
     "name": "stdout",
     "output_type": "stream",
     "text": [
      "Average Loss for Epoch 79: 4.9596\n",
      "Epoch 80\n"
     ]
    },
    {
     "name": "stderr",
     "output_type": "stream",
     "text": [
      "  8%|▊         | 80/1000 [06:35<1:06:54,  4.36s/it]"
     ]
    },
    {
     "name": "stdout",
     "output_type": "stream",
     "text": [
      "Average Loss for Epoch 80: 4.9737\n",
      "Epoch 81\n"
     ]
    },
    {
     "name": "stderr",
     "output_type": "stream",
     "text": [
      "  8%|▊         | 81/1000 [06:40<1:10:24,  4.60s/it]"
     ]
    },
    {
     "name": "stdout",
     "output_type": "stream",
     "text": [
      "Average Loss for Epoch 81: 5.5361\n",
      "Epoch 82\n"
     ]
    },
    {
     "name": "stderr",
     "output_type": "stream",
     "text": [
      "  8%|▊         | 82/1000 [06:45<1:09:50,  4.56s/it]"
     ]
    },
    {
     "name": "stdout",
     "output_type": "stream",
     "text": [
      "Average Loss for Epoch 82: 5.4307\n",
      "Epoch 83\n"
     ]
    },
    {
     "name": "stderr",
     "output_type": "stream",
     "text": [
      "  8%|▊         | 83/1000 [06:49<1:08:44,  4.50s/it]"
     ]
    },
    {
     "name": "stdout",
     "output_type": "stream",
     "text": [
      "Average Loss for Epoch 83: 5.1049\n",
      "Epoch 84\n"
     ]
    },
    {
     "name": "stderr",
     "output_type": "stream",
     "text": [
      "  8%|▊         | 84/1000 [06:53<1:07:35,  4.43s/it]"
     ]
    },
    {
     "name": "stdout",
     "output_type": "stream",
     "text": [
      "Average Loss for Epoch 84: 4.5145\n",
      "Epoch 85\n"
     ]
    },
    {
     "name": "stderr",
     "output_type": "stream",
     "text": [
      "  8%|▊         | 85/1000 [06:58<1:10:05,  4.60s/it]"
     ]
    },
    {
     "name": "stdout",
     "output_type": "stream",
     "text": [
      "Average Loss for Epoch 85: 4.4791\n",
      "Epoch 86\n"
     ]
    },
    {
     "name": "stderr",
     "output_type": "stream",
     "text": [
      "  9%|▊         | 86/1000 [07:03<1:09:02,  4.53s/it]"
     ]
    },
    {
     "name": "stdout",
     "output_type": "stream",
     "text": [
      "Average Loss for Epoch 86: 5.0897\n",
      "Epoch 87\n"
     ]
    },
    {
     "name": "stderr",
     "output_type": "stream",
     "text": [
      "  9%|▊         | 87/1000 [07:07<1:08:16,  4.49s/it]"
     ]
    },
    {
     "name": "stdout",
     "output_type": "stream",
     "text": [
      "Average Loss for Epoch 87: 4.5750\n",
      "Epoch 88\n"
     ]
    },
    {
     "name": "stderr",
     "output_type": "stream",
     "text": [
      "  9%|▉         | 88/1000 [07:12<1:09:34,  4.58s/it]"
     ]
    },
    {
     "name": "stdout",
     "output_type": "stream",
     "text": [
      "Average Loss for Epoch 88: 4.1335\n",
      "Epoch 89\n"
     ]
    },
    {
     "name": "stderr",
     "output_type": "stream",
     "text": [
      "  9%|▉         | 89/1000 [07:16<1:08:27,  4.51s/it]"
     ]
    },
    {
     "name": "stdout",
     "output_type": "stream",
     "text": [
      "Average Loss for Epoch 89: 5.4063\n",
      "Epoch 90\n"
     ]
    },
    {
     "name": "stderr",
     "output_type": "stream",
     "text": [
      "  9%|▉         | 90/1000 [07:21<1:07:37,  4.46s/it]"
     ]
    },
    {
     "name": "stdout",
     "output_type": "stream",
     "text": [
      "Average Loss for Epoch 90: 4.6984\n",
      "Epoch 91\n"
     ]
    },
    {
     "name": "stderr",
     "output_type": "stream",
     "text": [
      "  9%|▉         | 91/1000 [07:25<1:07:55,  4.48s/it]"
     ]
    },
    {
     "name": "stdout",
     "output_type": "stream",
     "text": [
      "Average Loss for Epoch 91: 4.8902\n",
      "Epoch 92\n"
     ]
    },
    {
     "name": "stderr",
     "output_type": "stream",
     "text": [
      "  9%|▉         | 92/1000 [07:30<1:07:24,  4.45s/it]"
     ]
    },
    {
     "name": "stdout",
     "output_type": "stream",
     "text": [
      "Average Loss for Epoch 92: 5.0576\n",
      "Epoch 93\n"
     ]
    },
    {
     "name": "stderr",
     "output_type": "stream",
     "text": [
      "  9%|▉         | 93/1000 [07:34<1:06:33,  4.40s/it]"
     ]
    },
    {
     "name": "stdout",
     "output_type": "stream",
     "text": [
      "Average Loss for Epoch 93: 4.4940\n",
      "Epoch 94\n"
     ]
    },
    {
     "name": "stderr",
     "output_type": "stream",
     "text": [
      "  9%|▉         | 94/1000 [07:39<1:08:55,  4.57s/it]"
     ]
    },
    {
     "name": "stdout",
     "output_type": "stream",
     "text": [
      "Average Loss for Epoch 94: 5.1783\n",
      "Epoch 95\n"
     ]
    },
    {
     "name": "stderr",
     "output_type": "stream",
     "text": [
      " 10%|▉         | 95/1000 [07:44<1:10:03,  4.64s/it]"
     ]
    },
    {
     "name": "stdout",
     "output_type": "stream",
     "text": [
      "Average Loss for Epoch 95: 5.1276\n",
      "Epoch 96\n"
     ]
    },
    {
     "name": "stderr",
     "output_type": "stream",
     "text": [
      " 10%|▉         | 96/1000 [07:48<1:08:46,  4.57s/it]"
     ]
    },
    {
     "name": "stdout",
     "output_type": "stream",
     "text": [
      "Average Loss for Epoch 96: 4.4608\n",
      "Epoch 97\n"
     ]
    },
    {
     "name": "stderr",
     "output_type": "stream",
     "text": [
      " 10%|▉         | 97/1000 [07:52<1:07:16,  4.47s/it]"
     ]
    },
    {
     "name": "stdout",
     "output_type": "stream",
     "text": [
      "Average Loss for Epoch 97: 4.6160\n",
      "Epoch 98\n"
     ]
    },
    {
     "name": "stderr",
     "output_type": "stream",
     "text": [
      " 10%|▉         | 98/1000 [07:57<1:07:54,  4.52s/it]"
     ]
    },
    {
     "name": "stdout",
     "output_type": "stream",
     "text": [
      "Average Loss for Epoch 98: 5.1626\n",
      "Epoch 99\n"
     ]
    },
    {
     "name": "stderr",
     "output_type": "stream",
     "text": [
      " 10%|▉         | 99/1000 [08:01<1:07:37,  4.50s/it]"
     ]
    },
    {
     "name": "stdout",
     "output_type": "stream",
     "text": [
      "Average Loss for Epoch 99: 4.6547\n",
      "Epoch 100\n"
     ]
    },
    {
     "name": "stderr",
     "output_type": "stream",
     "text": [
      " 10%|█         | 100/1000 [08:06<1:06:55,  4.46s/it]"
     ]
    },
    {
     "name": "stdout",
     "output_type": "stream",
     "text": [
      "Average Loss for Epoch 100: 5.0086\n",
      "Epoch 101\n"
     ]
    },
    {
     "name": "stderr",
     "output_type": "stream",
     "text": [
      " 10%|█         | 101/1000 [08:10<1:07:42,  4.52s/it]"
     ]
    },
    {
     "name": "stdout",
     "output_type": "stream",
     "text": [
      "Average Loss for Epoch 101: 4.8973\n",
      "Epoch 102\n"
     ]
    },
    {
     "name": "stderr",
     "output_type": "stream",
     "text": [
      " 10%|█         | 102/1000 [08:15<1:07:06,  4.48s/it]"
     ]
    },
    {
     "name": "stdout",
     "output_type": "stream",
     "text": [
      "Average Loss for Epoch 102: 4.8568\n",
      "Epoch 103\n"
     ]
    },
    {
     "name": "stderr",
     "output_type": "stream",
     "text": [
      " 10%|█         | 103/1000 [08:19<1:06:42,  4.46s/it]"
     ]
    },
    {
     "name": "stdout",
     "output_type": "stream",
     "text": [
      "Average Loss for Epoch 103: 4.5536\n",
      "Epoch 104\n"
     ]
    },
    {
     "name": "stderr",
     "output_type": "stream",
     "text": [
      " 10%|█         | 104/1000 [08:23<1:05:34,  4.39s/it]"
     ]
    },
    {
     "name": "stdout",
     "output_type": "stream",
     "text": [
      "Average Loss for Epoch 104: 4.3095\n",
      "Epoch 105\n"
     ]
    },
    {
     "name": "stderr",
     "output_type": "stream",
     "text": [
      " 10%|█         | 105/1000 [08:28<1:06:02,  4.43s/it]"
     ]
    },
    {
     "name": "stdout",
     "output_type": "stream",
     "text": [
      "Average Loss for Epoch 105: 4.8865\n",
      "Epoch 106\n"
     ]
    },
    {
     "name": "stderr",
     "output_type": "stream",
     "text": [
      " 11%|█         | 106/1000 [08:32<1:05:46,  4.41s/it]"
     ]
    },
    {
     "name": "stdout",
     "output_type": "stream",
     "text": [
      "Average Loss for Epoch 106: 4.9286\n",
      "Epoch 107\n"
     ]
    },
    {
     "name": "stderr",
     "output_type": "stream",
     "text": [
      " 11%|█         | 107/1000 [08:37<1:05:01,  4.37s/it]"
     ]
    },
    {
     "name": "stdout",
     "output_type": "stream",
     "text": [
      "Average Loss for Epoch 107: 4.6410\n",
      "Epoch 108\n"
     ]
    },
    {
     "name": "stderr",
     "output_type": "stream",
     "text": [
      " 11%|█         | 108/1000 [08:41<1:06:50,  4.50s/it]"
     ]
    },
    {
     "name": "stdout",
     "output_type": "stream",
     "text": [
      "Average Loss for Epoch 108: 4.5304\n",
      "Epoch 109\n"
     ]
    },
    {
     "name": "stderr",
     "output_type": "stream",
     "text": [
      " 11%|█         | 109/1000 [08:46<1:06:13,  4.46s/it]"
     ]
    },
    {
     "name": "stdout",
     "output_type": "stream",
     "text": [
      "Average Loss for Epoch 109: 4.8619\n",
      "Epoch 110\n"
     ]
    },
    {
     "name": "stderr",
     "output_type": "stream",
     "text": [
      " 11%|█         | 110/1000 [08:50<1:05:58,  4.45s/it]"
     ]
    },
    {
     "name": "stdout",
     "output_type": "stream",
     "text": [
      "Average Loss for Epoch 110: 4.6826\n",
      "Epoch 111\n"
     ]
    },
    {
     "name": "stderr",
     "output_type": "stream",
     "text": [
      " 11%|█         | 111/1000 [08:55<1:05:39,  4.43s/it]"
     ]
    },
    {
     "name": "stdout",
     "output_type": "stream",
     "text": [
      "Average Loss for Epoch 111: 5.0564\n",
      "Epoch 112\n"
     ]
    },
    {
     "name": "stderr",
     "output_type": "stream",
     "text": [
      " 11%|█         | 112/1000 [08:59<1:06:22,  4.48s/it]"
     ]
    },
    {
     "name": "stdout",
     "output_type": "stream",
     "text": [
      "Average Loss for Epoch 112: 4.3756\n",
      "Epoch 113\n"
     ]
    },
    {
     "name": "stderr",
     "output_type": "stream",
     "text": [
      " 11%|█▏        | 113/1000 [09:04<1:05:51,  4.46s/it]"
     ]
    },
    {
     "name": "stdout",
     "output_type": "stream",
     "text": [
      "Average Loss for Epoch 113: 4.7083\n",
      "Epoch 114\n"
     ]
    },
    {
     "name": "stderr",
     "output_type": "stream",
     "text": [
      " 11%|█▏        | 114/1000 [09:08<1:04:59,  4.40s/it]"
     ]
    },
    {
     "name": "stdout",
     "output_type": "stream",
     "text": [
      "Average Loss for Epoch 114: 4.3411\n",
      "Epoch 115\n"
     ]
    },
    {
     "name": "stderr",
     "output_type": "stream",
     "text": [
      " 12%|█▏        | 115/1000 [09:13<1:06:05,  4.48s/it]"
     ]
    },
    {
     "name": "stdout",
     "output_type": "stream",
     "text": [
      "Average Loss for Epoch 115: 4.8473\n",
      "Epoch 116\n"
     ]
    },
    {
     "name": "stderr",
     "output_type": "stream",
     "text": [
      " 12%|█▏        | 116/1000 [09:17<1:06:21,  4.50s/it]"
     ]
    },
    {
     "name": "stdout",
     "output_type": "stream",
     "text": [
      "Average Loss for Epoch 116: 4.6391\n",
      "Epoch 117\n"
     ]
    },
    {
     "name": "stderr",
     "output_type": "stream",
     "text": [
      " 12%|█▏        | 117/1000 [09:22<1:06:07,  4.49s/it]"
     ]
    },
    {
     "name": "stdout",
     "output_type": "stream",
     "text": [
      "Average Loss for Epoch 117: 4.5112\n",
      "Epoch 118\n"
     ]
    },
    {
     "name": "stderr",
     "output_type": "stream",
     "text": [
      " 12%|█▏        | 118/1000 [09:27<1:09:05,  4.70s/it]"
     ]
    },
    {
     "name": "stdout",
     "output_type": "stream",
     "text": [
      "Average Loss for Epoch 118: 5.1118\n",
      "Epoch 119\n"
     ]
    },
    {
     "name": "stderr",
     "output_type": "stream",
     "text": [
      " 12%|█▏        | 119/1000 [09:32<1:09:21,  4.72s/it]"
     ]
    },
    {
     "name": "stdout",
     "output_type": "stream",
     "text": [
      "Average Loss for Epoch 119: 4.6333\n",
      "Epoch 120\n"
     ]
    },
    {
     "name": "stderr",
     "output_type": "stream",
     "text": [
      " 12%|█▏        | 120/1000 [09:36<1:08:20,  4.66s/it]"
     ]
    },
    {
     "name": "stdout",
     "output_type": "stream",
     "text": [
      "Average Loss for Epoch 120: 4.6654\n",
      "Epoch 121\n"
     ]
    },
    {
     "name": "stderr",
     "output_type": "stream",
     "text": [
      " 12%|█▏        | 121/1000 [09:41<1:09:55,  4.77s/it]"
     ]
    },
    {
     "name": "stdout",
     "output_type": "stream",
     "text": [
      "Average Loss for Epoch 121: 4.1116\n",
      "Epoch 122\n"
     ]
    },
    {
     "name": "stderr",
     "output_type": "stream",
     "text": [
      " 12%|█▏        | 122/1000 [09:46<1:08:56,  4.71s/it]"
     ]
    },
    {
     "name": "stdout",
     "output_type": "stream",
     "text": [
      "Average Loss for Epoch 122: 5.0610\n",
      "Epoch 123\n"
     ]
    },
    {
     "name": "stderr",
     "output_type": "stream",
     "text": [
      " 12%|█▏        | 123/1000 [09:50<1:08:08,  4.66s/it]"
     ]
    },
    {
     "name": "stdout",
     "output_type": "stream",
     "text": [
      "Average Loss for Epoch 123: 4.1974\n",
      "Epoch 124\n"
     ]
    },
    {
     "name": "stderr",
     "output_type": "stream",
     "text": [
      " 12%|█▏        | 124/1000 [09:55<1:07:59,  4.66s/it]"
     ]
    },
    {
     "name": "stdout",
     "output_type": "stream",
     "text": [
      "Average Loss for Epoch 124: 4.4127\n",
      "Epoch 125\n"
     ]
    },
    {
     "name": "stderr",
     "output_type": "stream",
     "text": [
      " 12%|█▎        | 125/1000 [10:00<1:08:08,  4.67s/it]"
     ]
    },
    {
     "name": "stdout",
     "output_type": "stream",
     "text": [
      "Average Loss for Epoch 125: 5.0651\n",
      "Epoch 126\n"
     ]
    },
    {
     "name": "stderr",
     "output_type": "stream",
     "text": [
      " 13%|█▎        | 126/1000 [10:04<1:06:50,  4.59s/it]"
     ]
    },
    {
     "name": "stdout",
     "output_type": "stream",
     "text": [
      "Average Loss for Epoch 126: 4.3784\n",
      "Epoch 127\n"
     ]
    },
    {
     "name": "stderr",
     "output_type": "stream",
     "text": [
      " 13%|█▎        | 127/1000 [10:08<1:05:56,  4.53s/it]"
     ]
    },
    {
     "name": "stdout",
     "output_type": "stream",
     "text": [
      "Average Loss for Epoch 127: 5.1385\n",
      "Epoch 128\n"
     ]
    },
    {
     "name": "stderr",
     "output_type": "stream",
     "text": [
      " 13%|█▎        | 128/1000 [10:14<1:09:06,  4.75s/it]"
     ]
    },
    {
     "name": "stdout",
     "output_type": "stream",
     "text": [
      "Average Loss for Epoch 128: 4.1052\n",
      "Epoch 129\n"
     ]
    },
    {
     "name": "stderr",
     "output_type": "stream",
     "text": [
      " 13%|█▎        | 129/1000 [10:18<1:07:22,  4.64s/it]"
     ]
    },
    {
     "name": "stdout",
     "output_type": "stream",
     "text": [
      "Average Loss for Epoch 129: 4.2148\n",
      "Epoch 130\n"
     ]
    },
    {
     "name": "stderr",
     "output_type": "stream",
     "text": [
      " 13%|█▎        | 130/1000 [10:22<1:06:06,  4.56s/it]"
     ]
    },
    {
     "name": "stdout",
     "output_type": "stream",
     "text": [
      "Average Loss for Epoch 130: 4.4377\n",
      "Epoch 131\n"
     ]
    },
    {
     "name": "stderr",
     "output_type": "stream",
     "text": [
      " 13%|█▎        | 131/1000 [10:27<1:06:44,  4.61s/it]"
     ]
    },
    {
     "name": "stdout",
     "output_type": "stream",
     "text": [
      "Average Loss for Epoch 131: 4.6748\n",
      "Epoch 132\n"
     ]
    },
    {
     "name": "stderr",
     "output_type": "stream",
     "text": [
      " 13%|█▎        | 132/1000 [10:32<1:05:56,  4.56s/it]"
     ]
    },
    {
     "name": "stdout",
     "output_type": "stream",
     "text": [
      "Average Loss for Epoch 132: 4.5922\n",
      "Epoch 133\n"
     ]
    },
    {
     "name": "stderr",
     "output_type": "stream",
     "text": [
      " 13%|█▎        | 133/1000 [10:36<1:05:17,  4.52s/it]"
     ]
    },
    {
     "name": "stdout",
     "output_type": "stream",
     "text": [
      "Average Loss for Epoch 133: 4.8761\n",
      "Epoch 134\n"
     ]
    },
    {
     "name": "stderr",
     "output_type": "stream",
     "text": [
      " 13%|█▎        | 134/1000 [10:41<1:06:20,  4.60s/it]"
     ]
    },
    {
     "name": "stdout",
     "output_type": "stream",
     "text": [
      "Average Loss for Epoch 134: 4.7447\n",
      "Epoch 135\n"
     ]
    },
    {
     "name": "stderr",
     "output_type": "stream",
     "text": [
      " 14%|█▎        | 135/1000 [10:45<1:05:33,  4.55s/it]"
     ]
    },
    {
     "name": "stdout",
     "output_type": "stream",
     "text": [
      "Average Loss for Epoch 135: 5.2871\n",
      "Epoch 136\n"
     ]
    },
    {
     "name": "stderr",
     "output_type": "stream",
     "text": [
      " 14%|█▎        | 136/1000 [10:50<1:04:46,  4.50s/it]"
     ]
    },
    {
     "name": "stdout",
     "output_type": "stream",
     "text": [
      "Average Loss for Epoch 136: 4.5975\n",
      "Epoch 137\n"
     ]
    },
    {
     "name": "stderr",
     "output_type": "stream",
     "text": [
      " 14%|█▎        | 137/1000 [10:54<1:04:04,  4.45s/it]"
     ]
    },
    {
     "name": "stdout",
     "output_type": "stream",
     "text": [
      "Average Loss for Epoch 137: 4.1607\n",
      "Epoch 138\n"
     ]
    },
    {
     "name": "stderr",
     "output_type": "stream",
     "text": [
      " 14%|█▍        | 138/1000 [10:59<1:06:53,  4.66s/it]"
     ]
    },
    {
     "name": "stdout",
     "output_type": "stream",
     "text": [
      "Average Loss for Epoch 138: 5.0039\n",
      "Epoch 139\n"
     ]
    },
    {
     "name": "stderr",
     "output_type": "stream",
     "text": [
      " 14%|█▍        | 139/1000 [11:04<1:09:24,  4.84s/it]"
     ]
    },
    {
     "name": "stdout",
     "output_type": "stream",
     "text": [
      "Average Loss for Epoch 139: 4.7273\n",
      "Epoch 140\n"
     ]
    },
    {
     "name": "stderr",
     "output_type": "stream",
     "text": [
      " 14%|█▍        | 140/1000 [11:09<1:07:55,  4.74s/it]"
     ]
    },
    {
     "name": "stdout",
     "output_type": "stream",
     "text": [
      "Average Loss for Epoch 140: 4.6335\n",
      "Epoch 141\n"
     ]
    },
    {
     "name": "stderr",
     "output_type": "stream",
     "text": [
      " 14%|█▍        | 141/1000 [11:14<1:09:34,  4.86s/it]"
     ]
    },
    {
     "name": "stdout",
     "output_type": "stream",
     "text": [
      "Average Loss for Epoch 141: 5.4435\n",
      "Epoch 142\n"
     ]
    },
    {
     "name": "stderr",
     "output_type": "stream",
     "text": [
      " 14%|█▍        | 142/1000 [11:19<1:08:41,  4.80s/it]"
     ]
    },
    {
     "name": "stdout",
     "output_type": "stream",
     "text": [
      "Average Loss for Epoch 142: 4.8854\n",
      "Epoch 143\n"
     ]
    },
    {
     "name": "stderr",
     "output_type": "stream",
     "text": [
      " 14%|█▍        | 143/1000 [11:23<1:06:33,  4.66s/it]"
     ]
    },
    {
     "name": "stdout",
     "output_type": "stream",
     "text": [
      "Average Loss for Epoch 143: 4.4600\n",
      "Epoch 144\n"
     ]
    },
    {
     "name": "stderr",
     "output_type": "stream",
     "text": [
      " 14%|█▍        | 144/1000 [11:28<1:06:42,  4.68s/it]"
     ]
    },
    {
     "name": "stdout",
     "output_type": "stream",
     "text": [
      "Average Loss for Epoch 144: 4.2914\n",
      "Epoch 145\n"
     ]
    },
    {
     "name": "stderr",
     "output_type": "stream",
     "text": [
      " 14%|█▍        | 145/1000 [11:32<1:06:30,  4.67s/it]"
     ]
    },
    {
     "name": "stdout",
     "output_type": "stream",
     "text": [
      "Average Loss for Epoch 145: 4.0090\n",
      "Epoch 146\n"
     ]
    },
    {
     "name": "stderr",
     "output_type": "stream",
     "text": [
      " 15%|█▍        | 146/1000 [11:37<1:05:16,  4.59s/it]"
     ]
    },
    {
     "name": "stdout",
     "output_type": "stream",
     "text": [
      "Average Loss for Epoch 146: 3.3947\n",
      "Epoch 147\n"
     ]
    },
    {
     "name": "stderr",
     "output_type": "stream",
     "text": [
      " 15%|█▍        | 147/1000 [11:42<1:06:41,  4.69s/it]"
     ]
    },
    {
     "name": "stdout",
     "output_type": "stream",
     "text": [
      "Average Loss for Epoch 147: 4.6527\n",
      "Epoch 148\n"
     ]
    },
    {
     "name": "stderr",
     "output_type": "stream",
     "text": [
      " 15%|█▍        | 148/1000 [11:46<1:05:21,  4.60s/it]"
     ]
    },
    {
     "name": "stdout",
     "output_type": "stream",
     "text": [
      "Average Loss for Epoch 148: 4.5043\n",
      "Epoch 149\n"
     ]
    },
    {
     "name": "stderr",
     "output_type": "stream",
     "text": [
      " 15%|█▍        | 149/1000 [11:50<1:04:28,  4.55s/it]"
     ]
    },
    {
     "name": "stdout",
     "output_type": "stream",
     "text": [
      "Average Loss for Epoch 149: 4.2936\n",
      "Epoch 150\n"
     ]
    },
    {
     "name": "stderr",
     "output_type": "stream",
     "text": [
      " 15%|█▌        | 150/1000 [11:55<1:03:49,  4.51s/it]"
     ]
    },
    {
     "name": "stdout",
     "output_type": "stream",
     "text": [
      "Average Loss for Epoch 150: 4.8131\n",
      "Epoch 151\n"
     ]
    },
    {
     "name": "stderr",
     "output_type": "stream",
     "text": [
      " 15%|█▌        | 151/1000 [12:00<1:06:36,  4.71s/it]"
     ]
    },
    {
     "name": "stdout",
     "output_type": "stream",
     "text": [
      "Average Loss for Epoch 151: 4.5756\n",
      "Epoch 152\n"
     ]
    },
    {
     "name": "stderr",
     "output_type": "stream",
     "text": [
      " 15%|█▌        | 152/1000 [12:04<1:04:54,  4.59s/it]"
     ]
    },
    {
     "name": "stdout",
     "output_type": "stream",
     "text": [
      "Average Loss for Epoch 152: 4.0519\n",
      "Epoch 153\n"
     ]
    },
    {
     "name": "stderr",
     "output_type": "stream",
     "text": [
      " 15%|█▌        | 153/1000 [12:09<1:03:55,  4.53s/it]"
     ]
    },
    {
     "name": "stdout",
     "output_type": "stream",
     "text": [
      "Average Loss for Epoch 153: 4.5659\n",
      "Epoch 154\n"
     ]
    },
    {
     "name": "stderr",
     "output_type": "stream",
     "text": [
      " 15%|█▌        | 154/1000 [12:14<1:05:12,  4.63s/it]"
     ]
    },
    {
     "name": "stdout",
     "output_type": "stream",
     "text": [
      "Average Loss for Epoch 154: 4.4804\n",
      "Epoch 155\n"
     ]
    },
    {
     "name": "stderr",
     "output_type": "stream",
     "text": [
      " 16%|█▌        | 155/1000 [12:18<1:04:13,  4.56s/it]"
     ]
    },
    {
     "name": "stdout",
     "output_type": "stream",
     "text": [
      "Average Loss for Epoch 155: 4.8622\n",
      "Epoch 156\n"
     ]
    },
    {
     "name": "stderr",
     "output_type": "stream",
     "text": [
      " 16%|█▌        | 156/1000 [12:22<1:03:00,  4.48s/it]"
     ]
    },
    {
     "name": "stdout",
     "output_type": "stream",
     "text": [
      "Average Loss for Epoch 156: 4.4328\n",
      "Epoch 157\n"
     ]
    },
    {
     "name": "stderr",
     "output_type": "stream",
     "text": [
      " 16%|█▌        | 157/1000 [12:29<1:13:44,  5.25s/it]"
     ]
    },
    {
     "name": "stdout",
     "output_type": "stream",
     "text": [
      "Average Loss for Epoch 157: 4.2197\n",
      "Epoch 158\n"
     ]
    },
    {
     "name": "stderr",
     "output_type": "stream",
     "text": [
      " 16%|█▌        | 158/1000 [12:34<1:10:58,  5.06s/it]"
     ]
    },
    {
     "name": "stdout",
     "output_type": "stream",
     "text": [
      "Average Loss for Epoch 158: 4.6178\n",
      "Epoch 159\n"
     ]
    },
    {
     "name": "stderr",
     "output_type": "stream",
     "text": [
      " 16%|█▌        | 159/1000 [12:38<1:08:22,  4.88s/it]"
     ]
    },
    {
     "name": "stdout",
     "output_type": "stream",
     "text": [
      "Average Loss for Epoch 159: 4.8595\n",
      "Epoch 160\n"
     ]
    },
    {
     "name": "stderr",
     "output_type": "stream",
     "text": [
      " 16%|█▌        | 160/1000 [12:43<1:06:40,  4.76s/it]"
     ]
    },
    {
     "name": "stdout",
     "output_type": "stream",
     "text": [
      "Average Loss for Epoch 160: 4.7829\n",
      "Epoch 161\n"
     ]
    },
    {
     "name": "stderr",
     "output_type": "stream",
     "text": [
      " 16%|█▌        | 161/1000 [12:48<1:07:29,  4.83s/it]"
     ]
    },
    {
     "name": "stdout",
     "output_type": "stream",
     "text": [
      "Average Loss for Epoch 161: 4.7410\n",
      "Epoch 162\n"
     ]
    },
    {
     "name": "stderr",
     "output_type": "stream",
     "text": [
      " 16%|█▌        | 162/1000 [12:52<1:05:27,  4.69s/it]"
     ]
    },
    {
     "name": "stdout",
     "output_type": "stream",
     "text": [
      "Average Loss for Epoch 162: 4.1543\n",
      "Epoch 163\n"
     ]
    },
    {
     "name": "stderr",
     "output_type": "stream",
     "text": [
      " 16%|█▋        | 163/1000 [12:57<1:04:23,  4.62s/it]"
     ]
    },
    {
     "name": "stdout",
     "output_type": "stream",
     "text": [
      "Average Loss for Epoch 163: 4.6680\n",
      "Epoch 164\n"
     ]
    },
    {
     "name": "stderr",
     "output_type": "stream",
     "text": [
      " 16%|█▋        | 164/1000 [13:02<1:09:24,  4.98s/it]"
     ]
    },
    {
     "name": "stdout",
     "output_type": "stream",
     "text": [
      "Average Loss for Epoch 164: 4.5637\n",
      "Epoch 165\n"
     ]
    },
    {
     "name": "stderr",
     "output_type": "stream",
     "text": [
      " 16%|█▋        | 165/1000 [13:07<1:07:49,  4.87s/it]"
     ]
    },
    {
     "name": "stdout",
     "output_type": "stream",
     "text": [
      "Average Loss for Epoch 165: 4.4953\n",
      "Epoch 166\n"
     ]
    },
    {
     "name": "stderr",
     "output_type": "stream",
     "text": [
      " 17%|█▋        | 166/1000 [13:12<1:06:00,  4.75s/it]"
     ]
    },
    {
     "name": "stdout",
     "output_type": "stream",
     "text": [
      "Average Loss for Epoch 166: 4.6001\n",
      "Epoch 167\n"
     ]
    },
    {
     "name": "stderr",
     "output_type": "stream",
     "text": [
      " 17%|█▋        | 167/1000 [13:16<1:05:24,  4.71s/it]"
     ]
    },
    {
     "name": "stdout",
     "output_type": "stream",
     "text": [
      "Average Loss for Epoch 167: 4.2028\n",
      "Epoch 168\n"
     ]
    },
    {
     "name": "stderr",
     "output_type": "stream",
     "text": [
      " 17%|█▋        | 168/1000 [13:21<1:04:03,  4.62s/it]"
     ]
    },
    {
     "name": "stdout",
     "output_type": "stream",
     "text": [
      "Average Loss for Epoch 168: 4.6224\n",
      "Epoch 169\n"
     ]
    },
    {
     "name": "stderr",
     "output_type": "stream",
     "text": [
      " 17%|█▋        | 169/1000 [13:25<1:02:46,  4.53s/it]"
     ]
    },
    {
     "name": "stdout",
     "output_type": "stream",
     "text": [
      "Average Loss for Epoch 169: 4.2578\n",
      "Epoch 170\n"
     ]
    },
    {
     "name": "stderr",
     "output_type": "stream",
     "text": [
      " 17%|█▋        | 170/1000 [13:29<1:01:55,  4.48s/it]"
     ]
    },
    {
     "name": "stdout",
     "output_type": "stream",
     "text": [
      "Average Loss for Epoch 170: 4.5733\n",
      "Epoch 171\n"
     ]
    },
    {
     "name": "stderr",
     "output_type": "stream",
     "text": [
      " 17%|█▋        | 171/1000 [13:34<1:02:55,  4.55s/it]"
     ]
    },
    {
     "name": "stdout",
     "output_type": "stream",
     "text": [
      "Average Loss for Epoch 171: 4.5902\n",
      "Epoch 172\n"
     ]
    },
    {
     "name": "stderr",
     "output_type": "stream",
     "text": [
      " 17%|█▋        | 172/1000 [13:38<1:02:20,  4.52s/it]"
     ]
    },
    {
     "name": "stdout",
     "output_type": "stream",
     "text": [
      "Average Loss for Epoch 172: 4.3097\n",
      "Epoch 173\n"
     ]
    },
    {
     "name": "stderr",
     "output_type": "stream",
     "text": [
      " 17%|█▋        | 173/1000 [13:43<1:01:51,  4.49s/it]"
     ]
    },
    {
     "name": "stdout",
     "output_type": "stream",
     "text": [
      "Average Loss for Epoch 173: 4.1641\n",
      "Epoch 174\n"
     ]
    },
    {
     "name": "stderr",
     "output_type": "stream",
     "text": [
      " 17%|█▋        | 174/1000 [13:47<1:02:23,  4.53s/it]"
     ]
    },
    {
     "name": "stdout",
     "output_type": "stream",
     "text": [
      "Average Loss for Epoch 174: 4.7046\n",
      "Epoch 175\n"
     ]
    },
    {
     "name": "stderr",
     "output_type": "stream",
     "text": [
      " 18%|█▊        | 175/1000 [13:52<1:01:33,  4.48s/it]"
     ]
    },
    {
     "name": "stdout",
     "output_type": "stream",
     "text": [
      "Average Loss for Epoch 175: 5.3146\n",
      "Epoch 176\n"
     ]
    },
    {
     "name": "stderr",
     "output_type": "stream",
     "text": [
      " 18%|█▊        | 176/1000 [13:56<1:00:58,  4.44s/it]"
     ]
    },
    {
     "name": "stdout",
     "output_type": "stream",
     "text": [
      "Average Loss for Epoch 176: 4.3640\n",
      "Epoch 177\n"
     ]
    },
    {
     "name": "stderr",
     "output_type": "stream",
     "text": [
      " 18%|█▊        | 177/1000 [14:01<1:03:08,  4.60s/it]"
     ]
    },
    {
     "name": "stdout",
     "output_type": "stream",
     "text": [
      "Average Loss for Epoch 177: 4.4291\n",
      "Epoch 178\n"
     ]
    },
    {
     "name": "stderr",
     "output_type": "stream",
     "text": [
      " 18%|█▊        | 178/1000 [14:06<1:02:14,  4.54s/it]"
     ]
    },
    {
     "name": "stdout",
     "output_type": "stream",
     "text": [
      "Average Loss for Epoch 178: 4.7954\n",
      "Epoch 179\n"
     ]
    },
    {
     "name": "stderr",
     "output_type": "stream",
     "text": [
      " 18%|█▊        | 179/1000 [14:10<1:01:10,  4.47s/it]"
     ]
    },
    {
     "name": "stdout",
     "output_type": "stream",
     "text": [
      "Average Loss for Epoch 179: 4.0224\n",
      "Epoch 180\n"
     ]
    },
    {
     "name": "stderr",
     "output_type": "stream",
     "text": [
      " 18%|█▊        | 180/1000 [14:14<1:00:24,  4.42s/it]"
     ]
    },
    {
     "name": "stdout",
     "output_type": "stream",
     "text": [
      "Average Loss for Epoch 180: 4.6135\n",
      "Epoch 181\n"
     ]
    },
    {
     "name": "stderr",
     "output_type": "stream",
     "text": [
      " 18%|█▊        | 181/1000 [14:19<1:01:48,  4.53s/it]"
     ]
    },
    {
     "name": "stdout",
     "output_type": "stream",
     "text": [
      "Average Loss for Epoch 181: 5.2530\n",
      "Epoch 182\n"
     ]
    },
    {
     "name": "stderr",
     "output_type": "stream",
     "text": [
      " 18%|█▊        | 182/1000 [14:23<1:00:38,  4.45s/it]"
     ]
    },
    {
     "name": "stdout",
     "output_type": "stream",
     "text": [
      "Average Loss for Epoch 182: 4.6198\n",
      "Epoch 183\n"
     ]
    },
    {
     "name": "stderr",
     "output_type": "stream",
     "text": [
      " 18%|█▊        | 183/1000 [14:28<1:00:02,  4.41s/it]"
     ]
    },
    {
     "name": "stdout",
     "output_type": "stream",
     "text": [
      "Average Loss for Epoch 183: 4.3914\n",
      "Epoch 184\n"
     ]
    },
    {
     "name": "stderr",
     "output_type": "stream",
     "text": [
      " 18%|█▊        | 184/1000 [14:32<1:00:52,  4.48s/it]"
     ]
    },
    {
     "name": "stdout",
     "output_type": "stream",
     "text": [
      "Average Loss for Epoch 184: 4.7254\n",
      "Epoch 185\n"
     ]
    },
    {
     "name": "stderr",
     "output_type": "stream",
     "text": [
      " 18%|█▊        | 185/1000 [14:37<1:00:18,  4.44s/it]"
     ]
    },
    {
     "name": "stdout",
     "output_type": "stream",
     "text": [
      "Average Loss for Epoch 185: 4.3229\n",
      "Epoch 186\n"
     ]
    },
    {
     "name": "stderr",
     "output_type": "stream",
     "text": [
      " 19%|█▊        | 186/1000 [14:41<59:56,  4.42s/it]  "
     ]
    },
    {
     "name": "stdout",
     "output_type": "stream",
     "text": [
      "Average Loss for Epoch 186: 4.3671\n",
      "Epoch 187\n"
     ]
    },
    {
     "name": "stderr",
     "output_type": "stream",
     "text": [
      " 19%|█▊        | 187/1000 [14:46<1:01:09,  4.51s/it]"
     ]
    },
    {
     "name": "stdout",
     "output_type": "stream",
     "text": [
      "Average Loss for Epoch 187: 4.8930\n",
      "Epoch 188\n"
     ]
    },
    {
     "name": "stderr",
     "output_type": "stream",
     "text": [
      " 19%|█▉        | 188/1000 [14:50<1:00:43,  4.49s/it]"
     ]
    },
    {
     "name": "stdout",
     "output_type": "stream",
     "text": [
      "Average Loss for Epoch 188: 4.2516\n",
      "Epoch 189\n"
     ]
    },
    {
     "name": "stderr",
     "output_type": "stream",
     "text": [
      " 19%|█▉        | 189/1000 [14:57<1:11:22,  5.28s/it]"
     ]
    },
    {
     "name": "stdout",
     "output_type": "stream",
     "text": [
      "Average Loss for Epoch 189: 4.5359\n",
      "Epoch 190\n"
     ]
    },
    {
     "name": "stderr",
     "output_type": "stream",
     "text": [
      " 19%|█▉        | 190/1000 [15:04<1:17:54,  5.77s/it]"
     ]
    },
    {
     "name": "stdout",
     "output_type": "stream",
     "text": [
      "Average Loss for Epoch 190: 4.1183\n",
      "Epoch 191\n"
     ]
    },
    {
     "name": "stderr",
     "output_type": "stream",
     "text": [
      " 19%|█▉        | 191/1000 [15:09<1:13:11,  5.43s/it]"
     ]
    },
    {
     "name": "stdout",
     "output_type": "stream",
     "text": [
      "Average Loss for Epoch 191: 4.9575\n",
      "Epoch 192\n"
     ]
    },
    {
     "name": "stderr",
     "output_type": "stream",
     "text": [
      " 19%|█▉        | 192/1000 [15:14<1:11:58,  5.34s/it]"
     ]
    },
    {
     "name": "stdout",
     "output_type": "stream",
     "text": [
      "Average Loss for Epoch 192: 4.3794\n",
      "Epoch 193\n"
     ]
    },
    {
     "name": "stderr",
     "output_type": "stream",
     "text": [
      " 19%|█▉        | 193/1000 [15:19<1:09:52,  5.20s/it]"
     ]
    },
    {
     "name": "stdout",
     "output_type": "stream",
     "text": [
      "Average Loss for Epoch 193: 4.3619\n",
      "Epoch 194\n"
     ]
    },
    {
     "name": "stderr",
     "output_type": "stream",
     "text": [
      " 19%|█▉        | 194/1000 [15:23<1:06:36,  4.96s/it]"
     ]
    },
    {
     "name": "stdout",
     "output_type": "stream",
     "text": [
      "Average Loss for Epoch 194: 4.3852\n",
      "Epoch 195\n"
     ]
    },
    {
     "name": "stderr",
     "output_type": "stream",
     "text": [
      " 20%|█▉        | 195/1000 [15:28<1:04:23,  4.80s/it]"
     ]
    },
    {
     "name": "stdout",
     "output_type": "stream",
     "text": [
      "Average Loss for Epoch 195: 3.8185\n",
      "Epoch 196\n"
     ]
    },
    {
     "name": "stderr",
     "output_type": "stream",
     "text": [
      " 20%|█▉        | 196/1000 [15:32<1:04:27,  4.81s/it]"
     ]
    },
    {
     "name": "stdout",
     "output_type": "stream",
     "text": [
      "Average Loss for Epoch 196: 3.8277\n",
      "Epoch 197\n"
     ]
    },
    {
     "name": "stderr",
     "output_type": "stream",
     "text": [
      " 20%|█▉        | 197/1000 [15:37<1:02:39,  4.68s/it]"
     ]
    },
    {
     "name": "stdout",
     "output_type": "stream",
     "text": [
      "Average Loss for Epoch 197: 4.2530\n",
      "Epoch 198\n"
     ]
    },
    {
     "name": "stderr",
     "output_type": "stream",
     "text": [
      " 20%|█▉        | 198/1000 [15:41<1:01:55,  4.63s/it]"
     ]
    },
    {
     "name": "stdout",
     "output_type": "stream",
     "text": [
      "Average Loss for Epoch 198: 4.1335\n",
      "Epoch 199\n"
     ]
    },
    {
     "name": "stderr",
     "output_type": "stream",
     "text": [
      " 20%|█▉        | 199/1000 [15:46<1:02:53,  4.71s/it]"
     ]
    },
    {
     "name": "stdout",
     "output_type": "stream",
     "text": [
      "Average Loss for Epoch 199: 3.8290\n",
      "Epoch 200\n"
     ]
    },
    {
     "name": "stderr",
     "output_type": "stream",
     "text": [
      " 20%|██        | 200/1000 [15:51<1:01:41,  4.63s/it]"
     ]
    },
    {
     "name": "stdout",
     "output_type": "stream",
     "text": [
      "Average Loss for Epoch 200: 4.3131\n",
      "Epoch 201\n"
     ]
    },
    {
     "name": "stderr",
     "output_type": "stream",
     "text": [
      " 20%|██        | 201/1000 [15:55<1:00:06,  4.51s/it]"
     ]
    },
    {
     "name": "stdout",
     "output_type": "stream",
     "text": [
      "Average Loss for Epoch 201: 4.0100\n",
      "Epoch 202\n"
     ]
    },
    {
     "name": "stderr",
     "output_type": "stream",
     "text": [
      " 20%|██        | 202/1000 [15:59<59:56,  4.51s/it]  "
     ]
    },
    {
     "name": "stdout",
     "output_type": "stream",
     "text": [
      "Average Loss for Epoch 202: 4.6190\n",
      "Epoch 203\n"
     ]
    },
    {
     "name": "stderr",
     "output_type": "stream",
     "text": [
      " 20%|██        | 203/1000 [16:04<1:01:59,  4.67s/it]"
     ]
    },
    {
     "name": "stdout",
     "output_type": "stream",
     "text": [
      "Average Loss for Epoch 203: 4.3000\n",
      "Epoch 204\n"
     ]
    },
    {
     "name": "stderr",
     "output_type": "stream",
     "text": [
      " 20%|██        | 204/1000 [16:09<1:00:53,  4.59s/it]"
     ]
    },
    {
     "name": "stdout",
     "output_type": "stream",
     "text": [
      "Average Loss for Epoch 204: 3.9866\n",
      "Epoch 205\n"
     ]
    },
    {
     "name": "stderr",
     "output_type": "stream",
     "text": [
      " 20%|██        | 205/1000 [16:13<59:54,  4.52s/it]  "
     ]
    },
    {
     "name": "stdout",
     "output_type": "stream",
     "text": [
      "Average Loss for Epoch 205: 4.0442\n",
      "Epoch 206\n"
     ]
    },
    {
     "name": "stderr",
     "output_type": "stream",
     "text": [
      " 21%|██        | 206/1000 [16:18<1:01:20,  4.64s/it]"
     ]
    },
    {
     "name": "stdout",
     "output_type": "stream",
     "text": [
      "Average Loss for Epoch 206: 3.6974\n",
      "Epoch 207\n"
     ]
    },
    {
     "name": "stderr",
     "output_type": "stream",
     "text": [
      " 21%|██        | 207/1000 [16:23<1:03:01,  4.77s/it]"
     ]
    },
    {
     "name": "stdout",
     "output_type": "stream",
     "text": [
      "Average Loss for Epoch 207: 4.0564\n",
      "Epoch 208\n"
     ]
    },
    {
     "name": "stderr",
     "output_type": "stream",
     "text": [
      " 21%|██        | 208/1000 [16:28<1:01:18,  4.64s/it]"
     ]
    },
    {
     "name": "stdout",
     "output_type": "stream",
     "text": [
      "Average Loss for Epoch 208: 4.3947\n",
      "Epoch 209\n"
     ]
    },
    {
     "name": "stderr",
     "output_type": "stream",
     "text": [
      " 21%|██        | 209/1000 [16:32<1:01:41,  4.68s/it]"
     ]
    },
    {
     "name": "stdout",
     "output_type": "stream",
     "text": [
      "Average Loss for Epoch 209: 4.4777\n",
      "Epoch 210\n"
     ]
    },
    {
     "name": "stderr",
     "output_type": "stream",
     "text": [
      " 21%|██        | 210/1000 [16:37<1:00:59,  4.63s/it]"
     ]
    },
    {
     "name": "stdout",
     "output_type": "stream",
     "text": [
      "Average Loss for Epoch 210: 4.0922\n",
      "Epoch 211\n"
     ]
    },
    {
     "name": "stderr",
     "output_type": "stream",
     "text": [
      " 21%|██        | 211/1000 [16:41<1:00:12,  4.58s/it]"
     ]
    },
    {
     "name": "stdout",
     "output_type": "stream",
     "text": [
      "Average Loss for Epoch 211: 3.7188\n",
      "Epoch 212\n"
     ]
    },
    {
     "name": "stderr",
     "output_type": "stream",
     "text": [
      " 21%|██        | 212/1000 [16:46<1:00:38,  4.62s/it]"
     ]
    },
    {
     "name": "stdout",
     "output_type": "stream",
     "text": [
      "Average Loss for Epoch 212: 4.2694\n",
      "Epoch 213\n"
     ]
    },
    {
     "name": "stderr",
     "output_type": "stream",
     "text": [
      " 21%|██▏       | 213/1000 [16:50<59:34,  4.54s/it]  "
     ]
    },
    {
     "name": "stdout",
     "output_type": "stream",
     "text": [
      "Average Loss for Epoch 213: 5.0267\n",
      "Epoch 214\n"
     ]
    },
    {
     "name": "stderr",
     "output_type": "stream",
     "text": [
      " 21%|██▏       | 214/1000 [16:55<58:46,  4.49s/it]"
     ]
    },
    {
     "name": "stdout",
     "output_type": "stream",
     "text": [
      "Average Loss for Epoch 214: 3.9158\n",
      "Epoch 215\n"
     ]
    },
    {
     "name": "stderr",
     "output_type": "stream",
     "text": [
      " 22%|██▏       | 215/1000 [16:59<59:01,  4.51s/it]"
     ]
    },
    {
     "name": "stdout",
     "output_type": "stream",
     "text": [
      "Average Loss for Epoch 215: 4.2876\n",
      "Epoch 216\n"
     ]
    },
    {
     "name": "stderr",
     "output_type": "stream",
     "text": [
      " 22%|██▏       | 216/1000 [17:04<1:01:11,  4.68s/it]"
     ]
    },
    {
     "name": "stdout",
     "output_type": "stream",
     "text": [
      "Average Loss for Epoch 216: 3.7600\n",
      "Epoch 217\n"
     ]
    },
    {
     "name": "stderr",
     "output_type": "stream",
     "text": [
      " 22%|██▏       | 217/1000 [17:09<59:57,  4.59s/it]  "
     ]
    },
    {
     "name": "stdout",
     "output_type": "stream",
     "text": [
      "Average Loss for Epoch 217: 4.4772\n",
      "Epoch 218\n"
     ]
    },
    {
     "name": "stderr",
     "output_type": "stream",
     "text": [
      " 22%|██▏       | 218/1000 [17:13<59:01,  4.53s/it]"
     ]
    },
    {
     "name": "stdout",
     "output_type": "stream",
     "text": [
      "Average Loss for Epoch 218: 4.3487\n",
      "Epoch 219\n"
     ]
    },
    {
     "name": "stderr",
     "output_type": "stream",
     "text": [
      " 22%|██▏       | 219/1000 [17:18<59:56,  4.61s/it]"
     ]
    },
    {
     "name": "stdout",
     "output_type": "stream",
     "text": [
      "Average Loss for Epoch 219: 4.4067\n",
      "Epoch 220\n"
     ]
    },
    {
     "name": "stderr",
     "output_type": "stream",
     "text": [
      " 22%|██▏       | 220/1000 [17:22<58:52,  4.53s/it]"
     ]
    },
    {
     "name": "stdout",
     "output_type": "stream",
     "text": [
      "Average Loss for Epoch 220: 3.9450\n",
      "Epoch 221\n"
     ]
    },
    {
     "name": "stderr",
     "output_type": "stream",
     "text": [
      " 22%|██▏       | 221/1000 [17:27<58:41,  4.52s/it]"
     ]
    },
    {
     "name": "stdout",
     "output_type": "stream",
     "text": [
      "Average Loss for Epoch 221: 4.1198\n",
      "Epoch 222\n"
     ]
    },
    {
     "name": "stderr",
     "output_type": "stream",
     "text": [
      " 22%|██▏       | 222/1000 [17:31<59:13,  4.57s/it]"
     ]
    },
    {
     "name": "stdout",
     "output_type": "stream",
     "text": [
      "Average Loss for Epoch 222: 4.0973\n",
      "Epoch 223\n"
     ]
    },
    {
     "name": "stderr",
     "output_type": "stream",
     "text": [
      " 22%|██▏       | 223/1000 [17:36<58:28,  4.52s/it]"
     ]
    },
    {
     "name": "stdout",
     "output_type": "stream",
     "text": [
      "Average Loss for Epoch 223: 4.0347\n",
      "Epoch 224\n"
     ]
    },
    {
     "name": "stderr",
     "output_type": "stream",
     "text": [
      " 22%|██▏       | 224/1000 [17:40<57:52,  4.48s/it]"
     ]
    },
    {
     "name": "stdout",
     "output_type": "stream",
     "text": [
      "Average Loss for Epoch 224: 3.7507\n",
      "Epoch 225\n"
     ]
    },
    {
     "name": "stderr",
     "output_type": "stream",
     "text": [
      " 22%|██▎       | 225/1000 [17:45<58:28,  4.53s/it]"
     ]
    },
    {
     "name": "stdout",
     "output_type": "stream",
     "text": [
      "Average Loss for Epoch 225: 4.7534\n",
      "Epoch 226\n"
     ]
    },
    {
     "name": "stderr",
     "output_type": "stream",
     "text": [
      " 23%|██▎       | 226/1000 [17:50<1:00:47,  4.71s/it]"
     ]
    },
    {
     "name": "stdout",
     "output_type": "stream",
     "text": [
      "Average Loss for Epoch 226: 4.7055\n",
      "Epoch 227\n"
     ]
    },
    {
     "name": "stderr",
     "output_type": "stream",
     "text": [
      " 23%|██▎       | 227/1000 [17:54<59:12,  4.60s/it]  "
     ]
    },
    {
     "name": "stdout",
     "output_type": "stream",
     "text": [
      "Average Loss for Epoch 227: 4.6826\n",
      "Epoch 228\n"
     ]
    },
    {
     "name": "stderr",
     "output_type": "stream",
     "text": [
      " 23%|██▎       | 228/1000 [17:59<58:18,  4.53s/it]"
     ]
    },
    {
     "name": "stdout",
     "output_type": "stream",
     "text": [
      "Average Loss for Epoch 228: 3.6689\n",
      "Epoch 229\n"
     ]
    },
    {
     "name": "stderr",
     "output_type": "stream",
     "text": [
      " 23%|██▎       | 229/1000 [18:04<59:35,  4.64s/it]"
     ]
    },
    {
     "name": "stdout",
     "output_type": "stream",
     "text": [
      "Average Loss for Epoch 229: 3.9755\n",
      "Epoch 230\n"
     ]
    },
    {
     "name": "stderr",
     "output_type": "stream",
     "text": [
      " 23%|██▎       | 230/1000 [18:08<58:32,  4.56s/it]"
     ]
    },
    {
     "name": "stdout",
     "output_type": "stream",
     "text": [
      "Average Loss for Epoch 230: 4.4098\n",
      "Epoch 231\n"
     ]
    },
    {
     "name": "stderr",
     "output_type": "stream",
     "text": [
      " 23%|██▎       | 231/1000 [18:12<57:47,  4.51s/it]"
     ]
    },
    {
     "name": "stdout",
     "output_type": "stream",
     "text": [
      "Average Loss for Epoch 231: 3.7551\n",
      "Epoch 232\n"
     ]
    },
    {
     "name": "stderr",
     "output_type": "stream",
     "text": [
      " 23%|██▎       | 232/1000 [18:17<58:23,  4.56s/it]"
     ]
    },
    {
     "name": "stdout",
     "output_type": "stream",
     "text": [
      "Average Loss for Epoch 232: 4.5185\n",
      "Epoch 233\n"
     ]
    },
    {
     "name": "stderr",
     "output_type": "stream",
     "text": [
      " 23%|██▎       | 233/1000 [18:23<1:01:55,  4.84s/it]"
     ]
    },
    {
     "name": "stdout",
     "output_type": "stream",
     "text": [
      "Average Loss for Epoch 233: 4.8566\n",
      "Epoch 234\n"
     ]
    },
    {
     "name": "stderr",
     "output_type": "stream",
     "text": [
      " 23%|██▎       | 234/1000 [18:27<1:01:22,  4.81s/it]"
     ]
    },
    {
     "name": "stdout",
     "output_type": "stream",
     "text": [
      "Average Loss for Epoch 234: 4.1234\n",
      "Epoch 235\n"
     ]
    },
    {
     "name": "stderr",
     "output_type": "stream",
     "text": [
      " 24%|██▎       | 235/1000 [18:32<1:01:25,  4.82s/it]"
     ]
    },
    {
     "name": "stdout",
     "output_type": "stream",
     "text": [
      "Average Loss for Epoch 235: 4.7379\n",
      "Epoch 236\n"
     ]
    },
    {
     "name": "stderr",
     "output_type": "stream",
     "text": [
      " 24%|██▎       | 236/1000 [18:37<59:47,  4.70s/it]  "
     ]
    },
    {
     "name": "stdout",
     "output_type": "stream",
     "text": [
      "Average Loss for Epoch 236: 3.8029\n",
      "Epoch 237\n"
     ]
    },
    {
     "name": "stderr",
     "output_type": "stream",
     "text": [
      " 24%|██▎       | 237/1000 [18:41<59:22,  4.67s/it]"
     ]
    },
    {
     "name": "stdout",
     "output_type": "stream",
     "text": [
      "Average Loss for Epoch 237: 4.0581\n",
      "Epoch 238\n"
     ]
    },
    {
     "name": "stderr",
     "output_type": "stream",
     "text": [
      " 24%|██▍       | 238/1000 [18:46<58:26,  4.60s/it]"
     ]
    },
    {
     "name": "stdout",
     "output_type": "stream",
     "text": [
      "Average Loss for Epoch 238: 3.7519\n",
      "Epoch 239\n"
     ]
    },
    {
     "name": "stderr",
     "output_type": "stream",
     "text": [
      " 24%|██▍       | 239/1000 [18:50<58:41,  4.63s/it]"
     ]
    },
    {
     "name": "stdout",
     "output_type": "stream",
     "text": [
      "Average Loss for Epoch 239: 4.4402\n",
      "Epoch 240\n"
     ]
    },
    {
     "name": "stderr",
     "output_type": "stream",
     "text": [
      " 24%|██▍       | 240/1000 [18:55<57:48,  4.56s/it]"
     ]
    },
    {
     "name": "stdout",
     "output_type": "stream",
     "text": [
      "Average Loss for Epoch 240: 4.2233\n",
      "Epoch 241\n"
     ]
    },
    {
     "name": "stderr",
     "output_type": "stream",
     "text": [
      " 24%|██▍       | 241/1000 [18:59<57:14,  4.52s/it]"
     ]
    },
    {
     "name": "stdout",
     "output_type": "stream",
     "text": [
      "Average Loss for Epoch 241: 4.6464\n",
      "Epoch 242\n"
     ]
    },
    {
     "name": "stderr",
     "output_type": "stream",
     "text": [
      " 24%|██▍       | 242/1000 [19:04<58:04,  4.60s/it]"
     ]
    },
    {
     "name": "stdout",
     "output_type": "stream",
     "text": [
      "Average Loss for Epoch 242: 3.7172\n",
      "Epoch 243\n"
     ]
    },
    {
     "name": "stderr",
     "output_type": "stream",
     "text": [
      " 24%|██▍       | 243/1000 [19:08<57:03,  4.52s/it]"
     ]
    },
    {
     "name": "stdout",
     "output_type": "stream",
     "text": [
      "Average Loss for Epoch 243: 4.4314\n",
      "Epoch 244\n"
     ]
    },
    {
     "name": "stderr",
     "output_type": "stream",
     "text": [
      " 24%|██▍       | 244/1000 [19:13<57:01,  4.53s/it]"
     ]
    },
    {
     "name": "stdout",
     "output_type": "stream",
     "text": [
      "Average Loss for Epoch 244: 5.0699\n",
      "Epoch 245\n"
     ]
    },
    {
     "name": "stderr",
     "output_type": "stream",
     "text": [
      " 24%|██▍       | 245/1000 [19:18<59:54,  4.76s/it]"
     ]
    },
    {
     "name": "stdout",
     "output_type": "stream",
     "text": [
      "Average Loss for Epoch 245: 3.9072\n",
      "Epoch 246\n"
     ]
    },
    {
     "name": "stderr",
     "output_type": "stream",
     "text": [
      " 25%|██▍       | 246/1000 [19:23<1:00:42,  4.83s/it]"
     ]
    },
    {
     "name": "stdout",
     "output_type": "stream",
     "text": [
      "Average Loss for Epoch 246: 3.9129\n",
      "Epoch 247\n"
     ]
    },
    {
     "name": "stderr",
     "output_type": "stream",
     "text": [
      " 25%|██▍       | 247/1000 [19:28<59:31,  4.74s/it]  "
     ]
    },
    {
     "name": "stdout",
     "output_type": "stream",
     "text": [
      "Average Loss for Epoch 247: 3.8416\n",
      "Epoch 248\n"
     ]
    },
    {
     "name": "stderr",
     "output_type": "stream",
     "text": [
      " 25%|██▍       | 248/1000 [19:32<59:30,  4.75s/it]"
     ]
    },
    {
     "name": "stdout",
     "output_type": "stream",
     "text": [
      "Average Loss for Epoch 248: 4.1910\n",
      "Epoch 249\n"
     ]
    },
    {
     "name": "stderr",
     "output_type": "stream",
     "text": [
      " 25%|██▍       | 249/1000 [19:37<58:21,  4.66s/it]"
     ]
    },
    {
     "name": "stdout",
     "output_type": "stream",
     "text": [
      "Average Loss for Epoch 249: 3.9353\n",
      "Epoch 250\n"
     ]
    },
    {
     "name": "stderr",
     "output_type": "stream",
     "text": [
      " 25%|██▌       | 250/1000 [19:41<57:41,  4.62s/it]"
     ]
    },
    {
     "name": "stdout",
     "output_type": "stream",
     "text": [
      "Average Loss for Epoch 250: 4.4743\n",
      "Epoch 251\n"
     ]
    },
    {
     "name": "stderr",
     "output_type": "stream",
     "text": [
      " 25%|██▌       | 251/1000 [19:46<57:14,  4.59s/it]"
     ]
    },
    {
     "name": "stdout",
     "output_type": "stream",
     "text": [
      "Average Loss for Epoch 251: 4.2062\n",
      "Epoch 252\n"
     ]
    },
    {
     "name": "stderr",
     "output_type": "stream",
     "text": [
      " 25%|██▌       | 252/1000 [19:50<57:22,  4.60s/it]"
     ]
    },
    {
     "name": "stdout",
     "output_type": "stream",
     "text": [
      "Average Loss for Epoch 252: 4.5732\n",
      "Epoch 253\n"
     ]
    },
    {
     "name": "stderr",
     "output_type": "stream",
     "text": [
      " 25%|██▌       | 253/1000 [19:55<56:38,  4.55s/it]"
     ]
    },
    {
     "name": "stdout",
     "output_type": "stream",
     "text": [
      "Average Loss for Epoch 253: 3.9879\n",
      "Epoch 254\n"
     ]
    },
    {
     "name": "stderr",
     "output_type": "stream",
     "text": [
      " 25%|██▌       | 254/1000 [19:59<56:11,  4.52s/it]"
     ]
    },
    {
     "name": "stdout",
     "output_type": "stream",
     "text": [
      "Average Loss for Epoch 254: 3.8885\n",
      "Epoch 255\n"
     ]
    },
    {
     "name": "stderr",
     "output_type": "stream",
     "text": [
      " 26%|██▌       | 255/1000 [20:04<58:24,  4.70s/it]"
     ]
    },
    {
     "name": "stdout",
     "output_type": "stream",
     "text": [
      "Average Loss for Epoch 255: 4.1301\n",
      "Epoch 256\n"
     ]
    },
    {
     "name": "stderr",
     "output_type": "stream",
     "text": [
      " 26%|██▌       | 256/1000 [20:09<58:17,  4.70s/it]"
     ]
    },
    {
     "name": "stdout",
     "output_type": "stream",
     "text": [
      "Average Loss for Epoch 256: 4.0665\n",
      "Epoch 257\n"
     ]
    },
    {
     "name": "stderr",
     "output_type": "stream",
     "text": [
      " 26%|██▌       | 257/1000 [20:14<59:36,  4.81s/it]"
     ]
    },
    {
     "name": "stdout",
     "output_type": "stream",
     "text": [
      "Average Loss for Epoch 257: 4.0305\n",
      "Epoch 258\n"
     ]
    },
    {
     "name": "stderr",
     "output_type": "stream",
     "text": [
      " 26%|██▌       | 258/1000 [20:21<1:05:25,  5.29s/it]"
     ]
    },
    {
     "name": "stdout",
     "output_type": "stream",
     "text": [
      "Average Loss for Epoch 258: 3.9138\n",
      "Epoch 259\n"
     ]
    },
    {
     "name": "stderr",
     "output_type": "stream",
     "text": [
      " 26%|██▌       | 259/1000 [20:27<1:07:59,  5.50s/it]"
     ]
    },
    {
     "name": "stdout",
     "output_type": "stream",
     "text": [
      "Average Loss for Epoch 259: 4.2416\n",
      "Epoch 260\n"
     ]
    },
    {
     "name": "stderr",
     "output_type": "stream",
     "text": [
      " 26%|██▌       | 260/1000 [20:32<1:07:39,  5.49s/it]"
     ]
    },
    {
     "name": "stdout",
     "output_type": "stream",
     "text": [
      "Average Loss for Epoch 260: 3.6133\n",
      "Epoch 261\n"
     ]
    },
    {
     "name": "stderr",
     "output_type": "stream",
     "text": [
      " 26%|██▌       | 261/1000 [20:37<1:06:29,  5.40s/it]"
     ]
    },
    {
     "name": "stdout",
     "output_type": "stream",
     "text": [
      "Average Loss for Epoch 261: 3.8116\n",
      "Epoch 262\n"
     ]
    },
    {
     "name": "stderr",
     "output_type": "stream",
     "text": [
      " 26%|██▌       | 262/1000 [20:42<1:02:59,  5.12s/it]"
     ]
    },
    {
     "name": "stdout",
     "output_type": "stream",
     "text": [
      "Average Loss for Epoch 262: 3.6910\n",
      "Epoch 263\n"
     ]
    },
    {
     "name": "stderr",
     "output_type": "stream",
     "text": [
      " 26%|██▋       | 263/1000 [20:47<1:02:45,  5.11s/it]"
     ]
    },
    {
     "name": "stdout",
     "output_type": "stream",
     "text": [
      "Average Loss for Epoch 263: 4.6375\n",
      "Epoch 264\n"
     ]
    },
    {
     "name": "stderr",
     "output_type": "stream",
     "text": [
      " 26%|██▋       | 264/1000 [20:52<1:01:40,  5.03s/it]"
     ]
    },
    {
     "name": "stdout",
     "output_type": "stream",
     "text": [
      "Average Loss for Epoch 264: 4.4256\n",
      "Epoch 265\n"
     ]
    },
    {
     "name": "stderr",
     "output_type": "stream",
     "text": [
      " 26%|██▋       | 265/1000 [20:56<1:00:06,  4.91s/it]"
     ]
    },
    {
     "name": "stdout",
     "output_type": "stream",
     "text": [
      "Average Loss for Epoch 265: 3.5280\n",
      "Epoch 266\n"
     ]
    },
    {
     "name": "stderr",
     "output_type": "stream",
     "text": [
      " 27%|██▋       | 266/1000 [21:01<58:15,  4.76s/it]  "
     ]
    },
    {
     "name": "stdout",
     "output_type": "stream",
     "text": [
      "Average Loss for Epoch 266: 3.8261\n",
      "Epoch 267\n"
     ]
    },
    {
     "name": "stderr",
     "output_type": "stream",
     "text": [
      " 27%|██▋       | 267/1000 [21:06<59:29,  4.87s/it]"
     ]
    },
    {
     "name": "stdout",
     "output_type": "stream",
     "text": [
      "Average Loss for Epoch 267: 4.2623\n",
      "Epoch 268\n"
     ]
    },
    {
     "name": "stderr",
     "output_type": "stream",
     "text": [
      " 27%|██▋       | 268/1000 [21:10<58:05,  4.76s/it]"
     ]
    },
    {
     "name": "stdout",
     "output_type": "stream",
     "text": [
      "Average Loss for Epoch 268: 4.5327\n",
      "Epoch 269\n"
     ]
    },
    {
     "name": "stderr",
     "output_type": "stream",
     "text": [
      " 27%|██▋       | 269/1000 [21:15<56:36,  4.65s/it]"
     ]
    },
    {
     "name": "stdout",
     "output_type": "stream",
     "text": [
      "Average Loss for Epoch 269: 4.1629\n",
      "Epoch 270\n"
     ]
    },
    {
     "name": "stderr",
     "output_type": "stream",
     "text": [
      " 27%|██▋       | 270/1000 [21:20<57:10,  4.70s/it]"
     ]
    },
    {
     "name": "stdout",
     "output_type": "stream",
     "text": [
      "Average Loss for Epoch 270: 3.6060\n",
      "Epoch 271\n"
     ]
    },
    {
     "name": "stderr",
     "output_type": "stream",
     "text": [
      " 27%|██▋       | 271/1000 [21:24<56:56,  4.69s/it]"
     ]
    },
    {
     "name": "stdout",
     "output_type": "stream",
     "text": [
      "Average Loss for Epoch 271: 4.2341\n",
      "Epoch 272\n"
     ]
    },
    {
     "name": "stderr",
     "output_type": "stream",
     "text": [
      " 27%|██▋       | 272/1000 [21:29<56:02,  4.62s/it]"
     ]
    },
    {
     "name": "stdout",
     "output_type": "stream",
     "text": [
      "Average Loss for Epoch 272: 4.2241\n",
      "Epoch 273\n"
     ]
    },
    {
     "name": "stderr",
     "output_type": "stream",
     "text": [
      " 27%|██▋       | 273/1000 [21:34<59:03,  4.87s/it]"
     ]
    },
    {
     "name": "stdout",
     "output_type": "stream",
     "text": [
      "Average Loss for Epoch 273: 3.7747\n",
      "Epoch 274\n"
     ]
    },
    {
     "name": "stderr",
     "output_type": "stream",
     "text": [
      " 27%|██▋       | 274/1000 [21:40<1:03:50,  5.28s/it]"
     ]
    },
    {
     "name": "stdout",
     "output_type": "stream",
     "text": [
      "Average Loss for Epoch 274: 3.5506\n",
      "Epoch 275\n"
     ]
    },
    {
     "name": "stderr",
     "output_type": "stream",
     "text": [
      " 28%|██▊       | 275/1000 [22:09<2:29:41, 12.39s/it]"
     ]
    },
    {
     "name": "stdout",
     "output_type": "stream",
     "text": [
      "Average Loss for Epoch 275: 4.5823\n",
      "Epoch 276\n"
     ]
    },
    {
     "name": "stderr",
     "output_type": "stream",
     "text": [
      " 28%|██▊       | 276/1000 [22:14<2:01:08, 10.04s/it]"
     ]
    },
    {
     "name": "stdout",
     "output_type": "stream",
     "text": [
      "Average Loss for Epoch 276: 3.8075\n",
      "Epoch 277\n"
     ]
    },
    {
     "name": "stderr",
     "output_type": "stream",
     "text": [
      " 28%|██▊       | 277/1000 [22:18<1:40:27,  8.34s/it]"
     ]
    },
    {
     "name": "stdout",
     "output_type": "stream",
     "text": [
      "Average Loss for Epoch 277: 4.2660\n",
      "Epoch 278\n"
     ]
    },
    {
     "name": "stderr",
     "output_type": "stream",
     "text": [
      " 28%|██▊       | 278/1000 [22:23<1:25:58,  7.14s/it]"
     ]
    },
    {
     "name": "stdout",
     "output_type": "stream",
     "text": [
      "Average Loss for Epoch 278: 3.6295\n",
      "Epoch 279\n"
     ]
    },
    {
     "name": "stderr",
     "output_type": "stream",
     "text": [
      " 28%|██▊       | 279/1000 [22:27<1:15:31,  6.29s/it]"
     ]
    },
    {
     "name": "stdout",
     "output_type": "stream",
     "text": [
      "Average Loss for Epoch 279: 4.0053\n",
      "Epoch 280\n"
     ]
    },
    {
     "name": "stderr",
     "output_type": "stream",
     "text": [
      " 28%|██▊       | 280/1000 [22:31<1:08:10,  5.68s/it]"
     ]
    },
    {
     "name": "stdout",
     "output_type": "stream",
     "text": [
      "Average Loss for Epoch 280: 4.0146\n",
      "Epoch 281\n"
     ]
    },
    {
     "name": "stderr",
     "output_type": "stream",
     "text": [
      " 28%|██▊       | 281/1000 [22:35<1:03:08,  5.27s/it]"
     ]
    },
    {
     "name": "stdout",
     "output_type": "stream",
     "text": [
      "Average Loss for Epoch 281: 4.2771\n",
      "Epoch 282\n"
     ]
    },
    {
     "name": "stderr",
     "output_type": "stream",
     "text": [
      " 28%|██▊       | 282/1000 [22:40<59:36,  4.98s/it]  "
     ]
    },
    {
     "name": "stdout",
     "output_type": "stream",
     "text": [
      "Average Loss for Epoch 282: 3.9673\n",
      "Epoch 283\n"
     ]
    },
    {
     "name": "stderr",
     "output_type": "stream",
     "text": [
      " 28%|██▊       | 283/1000 [22:45<59:01,  4.94s/it]"
     ]
    },
    {
     "name": "stdout",
     "output_type": "stream",
     "text": [
      "Average Loss for Epoch 283: 3.9476\n",
      "Epoch 284\n"
     ]
    },
    {
     "name": "stderr",
     "output_type": "stream",
     "text": [
      " 28%|██▊       | 284/1000 [22:49<56:27,  4.73s/it]"
     ]
    },
    {
     "name": "stdout",
     "output_type": "stream",
     "text": [
      "Average Loss for Epoch 284: 3.5747\n",
      "Epoch 285\n"
     ]
    },
    {
     "name": "stderr",
     "output_type": "stream",
     "text": [
      " 28%|██▊       | 285/1000 [22:53<55:03,  4.62s/it]"
     ]
    },
    {
     "name": "stdout",
     "output_type": "stream",
     "text": [
      "Average Loss for Epoch 285: 4.0616\n",
      "Epoch 286\n"
     ]
    },
    {
     "name": "stderr",
     "output_type": "stream",
     "text": [
      " 29%|██▊       | 286/1000 [22:58<53:53,  4.53s/it]"
     ]
    },
    {
     "name": "stdout",
     "output_type": "stream",
     "text": [
      "Average Loss for Epoch 286: 4.3136\n",
      "Epoch 287\n"
     ]
    },
    {
     "name": "stderr",
     "output_type": "stream",
     "text": [
      " 29%|██▊       | 287/1000 [23:02<53:11,  4.48s/it]"
     ]
    },
    {
     "name": "stdout",
     "output_type": "stream",
     "text": [
      "Average Loss for Epoch 287: 3.3648\n",
      "Epoch 288\n"
     ]
    },
    {
     "name": "stderr",
     "output_type": "stream",
     "text": [
      " 29%|██▉       | 288/1000 [23:06<52:50,  4.45s/it]"
     ]
    },
    {
     "name": "stdout",
     "output_type": "stream",
     "text": [
      "Average Loss for Epoch 288: 3.8549\n",
      "Epoch 289\n"
     ]
    },
    {
     "name": "stderr",
     "output_type": "stream",
     "text": [
      " 29%|██▉       | 289/1000 [23:11<52:39,  4.44s/it]"
     ]
    },
    {
     "name": "stdout",
     "output_type": "stream",
     "text": [
      "Average Loss for Epoch 289: 3.8224\n",
      "Epoch 290\n"
     ]
    },
    {
     "name": "stderr",
     "output_type": "stream",
     "text": [
      " 29%|██▉       | 290/1000 [23:15<52:16,  4.42s/it]"
     ]
    },
    {
     "name": "stdout",
     "output_type": "stream",
     "text": [
      "Average Loss for Epoch 290: 3.4509\n",
      "Epoch 291\n"
     ]
    },
    {
     "name": "stderr",
     "output_type": "stream",
     "text": [
      " 29%|██▉       | 291/1000 [23:19<51:42,  4.38s/it]"
     ]
    },
    {
     "name": "stdout",
     "output_type": "stream",
     "text": [
      "Average Loss for Epoch 291: 3.9565\n",
      "Epoch 292\n"
     ]
    },
    {
     "name": "stderr",
     "output_type": "stream",
     "text": [
      " 29%|██▉       | 292/1000 [23:24<51:17,  4.35s/it]"
     ]
    },
    {
     "name": "stdout",
     "output_type": "stream",
     "text": [
      "Average Loss for Epoch 292: 4.0580\n",
      "Epoch 293\n"
     ]
    },
    {
     "name": "stderr",
     "output_type": "stream",
     "text": [
      " 29%|██▉       | 293/1000 [23:28<50:57,  4.32s/it]"
     ]
    },
    {
     "name": "stdout",
     "output_type": "stream",
     "text": [
      "Average Loss for Epoch 293: 3.8171\n",
      "Epoch 294\n"
     ]
    },
    {
     "name": "stderr",
     "output_type": "stream",
     "text": [
      " 29%|██▉       | 294/1000 [23:32<50:51,  4.32s/it]"
     ]
    },
    {
     "name": "stdout",
     "output_type": "stream",
     "text": [
      "Average Loss for Epoch 294: 3.9924\n",
      "Epoch 295\n"
     ]
    },
    {
     "name": "stderr",
     "output_type": "stream",
     "text": [
      " 30%|██▉       | 295/1000 [23:37<50:41,  4.31s/it]"
     ]
    },
    {
     "name": "stdout",
     "output_type": "stream",
     "text": [
      "Average Loss for Epoch 295: 3.4702\n",
      "Epoch 296\n"
     ]
    },
    {
     "name": "stderr",
     "output_type": "stream",
     "text": [
      " 30%|██▉       | 296/1000 [23:41<52:37,  4.49s/it]"
     ]
    },
    {
     "name": "stdout",
     "output_type": "stream",
     "text": [
      "Average Loss for Epoch 296: 4.5735\n",
      "Epoch 297\n"
     ]
    },
    {
     "name": "stderr",
     "output_type": "stream",
     "text": [
      " 30%|██▉       | 297/1000 [23:46<52:15,  4.46s/it]"
     ]
    },
    {
     "name": "stdout",
     "output_type": "stream",
     "text": [
      "Average Loss for Epoch 297: 4.0676\n",
      "Epoch 298\n"
     ]
    },
    {
     "name": "stderr",
     "output_type": "stream",
     "text": [
      " 30%|██▉       | 298/1000 [23:50<51:32,  4.41s/it]"
     ]
    },
    {
     "name": "stdout",
     "output_type": "stream",
     "text": [
      "Average Loss for Epoch 298: 4.1244\n",
      "Epoch 299\n"
     ]
    },
    {
     "name": "stderr",
     "output_type": "stream",
     "text": [
      " 30%|██▉       | 299/1000 [23:54<51:05,  4.37s/it]"
     ]
    },
    {
     "name": "stdout",
     "output_type": "stream",
     "text": [
      "Average Loss for Epoch 299: 3.7589\n",
      "Epoch 300\n"
     ]
    },
    {
     "name": "stderr",
     "output_type": "stream",
     "text": [
      " 30%|███       | 300/1000 [23:59<50:47,  4.35s/it]"
     ]
    },
    {
     "name": "stdout",
     "output_type": "stream",
     "text": [
      "Average Loss for Epoch 300: 4.0501\n",
      "Epoch 301\n"
     ]
    },
    {
     "name": "stderr",
     "output_type": "stream",
     "text": [
      " 30%|███       | 301/1000 [24:03<50:36,  4.34s/it]"
     ]
    },
    {
     "name": "stdout",
     "output_type": "stream",
     "text": [
      "Average Loss for Epoch 301: 3.7096\n",
      "Epoch 302\n"
     ]
    },
    {
     "name": "stderr",
     "output_type": "stream",
     "text": [
      " 30%|███       | 302/1000 [24:07<50:31,  4.34s/it]"
     ]
    },
    {
     "name": "stdout",
     "output_type": "stream",
     "text": [
      "Average Loss for Epoch 302: 3.8334\n",
      "Epoch 303\n"
     ]
    },
    {
     "name": "stderr",
     "output_type": "stream",
     "text": [
      " 30%|███       | 303/1000 [24:12<50:28,  4.35s/it]"
     ]
    },
    {
     "name": "stdout",
     "output_type": "stream",
     "text": [
      "Average Loss for Epoch 303: 3.6140\n",
      "Epoch 304\n"
     ]
    },
    {
     "name": "stderr",
     "output_type": "stream",
     "text": [
      " 30%|███       | 304/1000 [24:16<50:11,  4.33s/it]"
     ]
    },
    {
     "name": "stdout",
     "output_type": "stream",
     "text": [
      "Average Loss for Epoch 304: 4.4123\n",
      "Epoch 305\n"
     ]
    },
    {
     "name": "stderr",
     "output_type": "stream",
     "text": [
      " 30%|███       | 305/1000 [24:20<49:57,  4.31s/it]"
     ]
    },
    {
     "name": "stdout",
     "output_type": "stream",
     "text": [
      "Average Loss for Epoch 305: 3.7538\n",
      "Epoch 306\n"
     ]
    },
    {
     "name": "stderr",
     "output_type": "stream",
     "text": [
      " 31%|███       | 306/1000 [24:25<49:38,  4.29s/it]"
     ]
    },
    {
     "name": "stdout",
     "output_type": "stream",
     "text": [
      "Average Loss for Epoch 306: 3.6079\n",
      "Epoch 307\n"
     ]
    },
    {
     "name": "stderr",
     "output_type": "stream",
     "text": [
      " 31%|███       | 307/1000 [24:29<49:37,  4.30s/it]"
     ]
    },
    {
     "name": "stdout",
     "output_type": "stream",
     "text": [
      "Average Loss for Epoch 307: 3.4594\n",
      "Epoch 308\n"
     ]
    },
    {
     "name": "stderr",
     "output_type": "stream",
     "text": [
      " 31%|███       | 308/1000 [24:33<49:30,  4.29s/it]"
     ]
    },
    {
     "name": "stdout",
     "output_type": "stream",
     "text": [
      "Average Loss for Epoch 308: 3.8586\n",
      "Epoch 309\n"
     ]
    },
    {
     "name": "stderr",
     "output_type": "stream",
     "text": [
      " 31%|███       | 309/1000 [24:38<50:42,  4.40s/it]"
     ]
    },
    {
     "name": "stdout",
     "output_type": "stream",
     "text": [
      "Average Loss for Epoch 309: 4.1657\n",
      "Epoch 310\n"
     ]
    },
    {
     "name": "stderr",
     "output_type": "stream",
     "text": [
      " 31%|███       | 310/1000 [24:42<50:52,  4.42s/it]"
     ]
    },
    {
     "name": "stdout",
     "output_type": "stream",
     "text": [
      "Average Loss for Epoch 310: 3.5883\n",
      "Epoch 311\n"
     ]
    },
    {
     "name": "stderr",
     "output_type": "stream",
     "text": [
      " 31%|███       | 311/1000 [24:47<52:40,  4.59s/it]"
     ]
    },
    {
     "name": "stdout",
     "output_type": "stream",
     "text": [
      "Average Loss for Epoch 311: 3.6746\n",
      "Epoch 312\n"
     ]
    },
    {
     "name": "stderr",
     "output_type": "stream",
     "text": [
      " 31%|███       | 312/1000 [24:52<51:55,  4.53s/it]"
     ]
    },
    {
     "name": "stdout",
     "output_type": "stream",
     "text": [
      "Average Loss for Epoch 312: 3.9212\n",
      "Epoch 313\n"
     ]
    },
    {
     "name": "stderr",
     "output_type": "stream",
     "text": [
      " 31%|███▏      | 313/1000 [24:56<51:10,  4.47s/it]"
     ]
    },
    {
     "name": "stdout",
     "output_type": "stream",
     "text": [
      "Average Loss for Epoch 313: 4.4533\n",
      "Epoch 314\n"
     ]
    },
    {
     "name": "stderr",
     "output_type": "stream",
     "text": [
      " 31%|███▏      | 314/1000 [25:00<50:51,  4.45s/it]"
     ]
    },
    {
     "name": "stdout",
     "output_type": "stream",
     "text": [
      "Average Loss for Epoch 314: 3.5424\n",
      "Epoch 315\n"
     ]
    },
    {
     "name": "stderr",
     "output_type": "stream",
     "text": [
      " 32%|███▏      | 315/1000 [25:05<50:23,  4.41s/it]"
     ]
    },
    {
     "name": "stdout",
     "output_type": "stream",
     "text": [
      "Average Loss for Epoch 315: 3.7359\n",
      "Epoch 316\n"
     ]
    },
    {
     "name": "stderr",
     "output_type": "stream",
     "text": [
      " 32%|███▏      | 316/1000 [25:09<50:06,  4.39s/it]"
     ]
    },
    {
     "name": "stdout",
     "output_type": "stream",
     "text": [
      "Average Loss for Epoch 316: 3.5895\n",
      "Epoch 317\n"
     ]
    },
    {
     "name": "stderr",
     "output_type": "stream",
     "text": [
      " 32%|███▏      | 317/1000 [25:13<49:48,  4.38s/it]"
     ]
    },
    {
     "name": "stdout",
     "output_type": "stream",
     "text": [
      "Average Loss for Epoch 317: 3.8844\n",
      "Epoch 318\n"
     ]
    },
    {
     "name": "stderr",
     "output_type": "stream",
     "text": [
      " 32%|███▏      | 318/1000 [25:18<49:30,  4.36s/it]"
     ]
    },
    {
     "name": "stdout",
     "output_type": "stream",
     "text": [
      "Average Loss for Epoch 318: 3.9110\n",
      "Epoch 319\n"
     ]
    },
    {
     "name": "stderr",
     "output_type": "stream",
     "text": [
      " 32%|███▏      | 319/1000 [25:22<49:16,  4.34s/it]"
     ]
    },
    {
     "name": "stdout",
     "output_type": "stream",
     "text": [
      "Average Loss for Epoch 319: 4.1089\n",
      "Epoch 320\n"
     ]
    },
    {
     "name": "stderr",
     "output_type": "stream",
     "text": [
      " 32%|███▏      | 320/1000 [25:26<49:04,  4.33s/it]"
     ]
    },
    {
     "name": "stdout",
     "output_type": "stream",
     "text": [
      "Average Loss for Epoch 320: 3.3879\n",
      "Epoch 321\n"
     ]
    },
    {
     "name": "stderr",
     "output_type": "stream",
     "text": [
      " 32%|███▏      | 321/1000 [25:31<49:02,  4.33s/it]"
     ]
    },
    {
     "name": "stdout",
     "output_type": "stream",
     "text": [
      "Average Loss for Epoch 321: 4.1203\n",
      "Epoch 322\n"
     ]
    },
    {
     "name": "stderr",
     "output_type": "stream",
     "text": [
      " 32%|███▏      | 322/1000 [25:35<48:58,  4.33s/it]"
     ]
    },
    {
     "name": "stdout",
     "output_type": "stream",
     "text": [
      "Average Loss for Epoch 322: 4.8700\n",
      "Epoch 323\n"
     ]
    },
    {
     "name": "stderr",
     "output_type": "stream",
     "text": [
      " 32%|███▏      | 323/1000 [25:39<49:09,  4.36s/it]"
     ]
    },
    {
     "name": "stdout",
     "output_type": "stream",
     "text": [
      "Average Loss for Epoch 323: 4.8151\n",
      "Epoch 324\n"
     ]
    },
    {
     "name": "stderr",
     "output_type": "stream",
     "text": [
      " 32%|███▏      | 324/1000 [25:44<50:46,  4.51s/it]"
     ]
    },
    {
     "name": "stdout",
     "output_type": "stream",
     "text": [
      "Average Loss for Epoch 324: 3.6183\n",
      "Epoch 325\n"
     ]
    },
    {
     "name": "stderr",
     "output_type": "stream",
     "text": [
      " 32%|███▎      | 325/1000 [25:49<50:19,  4.47s/it]"
     ]
    },
    {
     "name": "stdout",
     "output_type": "stream",
     "text": [
      "Average Loss for Epoch 325: 3.9067\n",
      "Epoch 326\n"
     ]
    },
    {
     "name": "stderr",
     "output_type": "stream",
     "text": [
      " 33%|███▎      | 326/1000 [25:53<49:42,  4.43s/it]"
     ]
    },
    {
     "name": "stdout",
     "output_type": "stream",
     "text": [
      "Average Loss for Epoch 326: 4.2954\n",
      "Epoch 327\n"
     ]
    },
    {
     "name": "stderr",
     "output_type": "stream",
     "text": [
      " 33%|███▎      | 327/1000 [25:57<49:13,  4.39s/it]"
     ]
    },
    {
     "name": "stdout",
     "output_type": "stream",
     "text": [
      "Average Loss for Epoch 327: 3.6949\n",
      "Epoch 328\n"
     ]
    },
    {
     "name": "stderr",
     "output_type": "stream",
     "text": [
      " 33%|███▎      | 328/1000 [26:02<49:32,  4.42s/it]"
     ]
    },
    {
     "name": "stdout",
     "output_type": "stream",
     "text": [
      "Average Loss for Epoch 328: 3.8483\n",
      "Epoch 329\n"
     ]
    },
    {
     "name": "stderr",
     "output_type": "stream",
     "text": [
      " 33%|███▎      | 329/1000 [26:06<49:30,  4.43s/it]"
     ]
    },
    {
     "name": "stdout",
     "output_type": "stream",
     "text": [
      "Average Loss for Epoch 329: 3.7048\n",
      "Epoch 330\n"
     ]
    },
    {
     "name": "stderr",
     "output_type": "stream",
     "text": [
      " 33%|███▎      | 330/1000 [26:11<49:20,  4.42s/it]"
     ]
    },
    {
     "name": "stdout",
     "output_type": "stream",
     "text": [
      "Average Loss for Epoch 330: 3.3835\n",
      "Epoch 331\n"
     ]
    },
    {
     "name": "stderr",
     "output_type": "stream",
     "text": [
      " 33%|███▎      | 331/1000 [26:15<48:54,  4.39s/it]"
     ]
    },
    {
     "name": "stdout",
     "output_type": "stream",
     "text": [
      "Average Loss for Epoch 331: 3.9743\n",
      "Epoch 332\n"
     ]
    },
    {
     "name": "stderr",
     "output_type": "stream",
     "text": [
      " 33%|███▎      | 332/1000 [26:19<48:37,  4.37s/it]"
     ]
    },
    {
     "name": "stdout",
     "output_type": "stream",
     "text": [
      "Average Loss for Epoch 332: 3.9457\n",
      "Epoch 333\n"
     ]
    },
    {
     "name": "stderr",
     "output_type": "stream",
     "text": [
      " 33%|███▎      | 333/1000 [26:24<48:27,  4.36s/it]"
     ]
    },
    {
     "name": "stdout",
     "output_type": "stream",
     "text": [
      "Average Loss for Epoch 333: 3.9519\n",
      "Epoch 334\n"
     ]
    },
    {
     "name": "stderr",
     "output_type": "stream",
     "text": [
      " 33%|███▎      | 334/1000 [26:28<49:13,  4.43s/it]"
     ]
    },
    {
     "name": "stdout",
     "output_type": "stream",
     "text": [
      "Average Loss for Epoch 334: 4.0273\n",
      "Epoch 335\n"
     ]
    },
    {
     "name": "stderr",
     "output_type": "stream",
     "text": [
      " 34%|███▎      | 335/1000 [26:32<48:33,  4.38s/it]"
     ]
    },
    {
     "name": "stdout",
     "output_type": "stream",
     "text": [
      "Average Loss for Epoch 335: 4.1156\n",
      "Epoch 336\n"
     ]
    },
    {
     "name": "stderr",
     "output_type": "stream",
     "text": [
      " 34%|███▎      | 336/1000 [26:37<48:15,  4.36s/it]"
     ]
    },
    {
     "name": "stdout",
     "output_type": "stream",
     "text": [
      "Average Loss for Epoch 336: 3.4193\n",
      "Epoch 337\n"
     ]
    },
    {
     "name": "stderr",
     "output_type": "stream",
     "text": [
      " 34%|███▎      | 337/1000 [26:41<48:13,  4.36s/it]"
     ]
    },
    {
     "name": "stdout",
     "output_type": "stream",
     "text": [
      "Average Loss for Epoch 337: 3.7688\n",
      "Epoch 338\n"
     ]
    },
    {
     "name": "stderr",
     "output_type": "stream",
     "text": [
      " 34%|███▍      | 338/1000 [26:46<48:49,  4.43s/it]"
     ]
    },
    {
     "name": "stdout",
     "output_type": "stream",
     "text": [
      "Average Loss for Epoch 338: 4.2079\n",
      "Epoch 339\n"
     ]
    },
    {
     "name": "stderr",
     "output_type": "stream",
     "text": [
      " 34%|███▍      | 339/1000 [26:50<49:17,  4.47s/it]"
     ]
    },
    {
     "name": "stdout",
     "output_type": "stream",
     "text": [
      "Average Loss for Epoch 339: 3.4007\n",
      "Epoch 340\n"
     ]
    },
    {
     "name": "stderr",
     "output_type": "stream",
     "text": [
      " 34%|███▍      | 340/1000 [26:55<48:42,  4.43s/it]"
     ]
    },
    {
     "name": "stdout",
     "output_type": "stream",
     "text": [
      "Average Loss for Epoch 340: 3.8502\n",
      "Epoch 341\n"
     ]
    },
    {
     "name": "stderr",
     "output_type": "stream",
     "text": [
      " 34%|███▍      | 341/1000 [26:59<48:37,  4.43s/it]"
     ]
    },
    {
     "name": "stdout",
     "output_type": "stream",
     "text": [
      "Average Loss for Epoch 341: 3.0801\n",
      "Epoch 342\n"
     ]
    },
    {
     "name": "stderr",
     "output_type": "stream",
     "text": [
      " 34%|███▍      | 342/1000 [27:03<48:29,  4.42s/it]"
     ]
    },
    {
     "name": "stdout",
     "output_type": "stream",
     "text": [
      "Average Loss for Epoch 342: 4.1755\n",
      "Epoch 343\n"
     ]
    },
    {
     "name": "stderr",
     "output_type": "stream",
     "text": [
      " 34%|███▍      | 343/1000 [27:08<48:17,  4.41s/it]"
     ]
    },
    {
     "name": "stdout",
     "output_type": "stream",
     "text": [
      "Average Loss for Epoch 343: 3.5840\n",
      "Epoch 344\n"
     ]
    },
    {
     "name": "stderr",
     "output_type": "stream",
     "text": [
      " 34%|███▍      | 344/1000 [27:12<47:47,  4.37s/it]"
     ]
    },
    {
     "name": "stdout",
     "output_type": "stream",
     "text": [
      "Average Loss for Epoch 344: 4.1595\n",
      "Epoch 345\n"
     ]
    },
    {
     "name": "stderr",
     "output_type": "stream",
     "text": [
      " 34%|███▍      | 345/1000 [27:16<47:38,  4.36s/it]"
     ]
    },
    {
     "name": "stdout",
     "output_type": "stream",
     "text": [
      "Average Loss for Epoch 345: 3.5999\n",
      "Epoch 346\n"
     ]
    },
    {
     "name": "stderr",
     "output_type": "stream",
     "text": [
      " 35%|███▍      | 346/1000 [27:21<47:25,  4.35s/it]"
     ]
    },
    {
     "name": "stdout",
     "output_type": "stream",
     "text": [
      "Average Loss for Epoch 346: 3.7451\n",
      "Epoch 347\n"
     ]
    },
    {
     "name": "stderr",
     "output_type": "stream",
     "text": [
      " 35%|███▍      | 347/1000 [27:25<47:23,  4.35s/it]"
     ]
    },
    {
     "name": "stdout",
     "output_type": "stream",
     "text": [
      "Average Loss for Epoch 347: 3.9089\n",
      "Epoch 348\n"
     ]
    },
    {
     "name": "stderr",
     "output_type": "stream",
     "text": [
      " 35%|███▍      | 348/1000 [27:29<47:18,  4.35s/it]"
     ]
    },
    {
     "name": "stdout",
     "output_type": "stream",
     "text": [
      "Average Loss for Epoch 348: 3.7136\n",
      "Epoch 349\n"
     ]
    },
    {
     "name": "stderr",
     "output_type": "stream",
     "text": [
      " 35%|███▍      | 349/1000 [27:34<47:18,  4.36s/it]"
     ]
    },
    {
     "name": "stdout",
     "output_type": "stream",
     "text": [
      "Average Loss for Epoch 349: 3.6929\n",
      "Epoch 350\n"
     ]
    },
    {
     "name": "stderr",
     "output_type": "stream",
     "text": [
      " 35%|███▌      | 350/1000 [27:38<47:30,  4.39s/it]"
     ]
    },
    {
     "name": "stdout",
     "output_type": "stream",
     "text": [
      "Average Loss for Epoch 350: 3.5084\n",
      "Epoch 351\n"
     ]
    },
    {
     "name": "stderr",
     "output_type": "stream",
     "text": [
      " 35%|███▌      | 351/1000 [27:43<47:08,  4.36s/it]"
     ]
    },
    {
     "name": "stdout",
     "output_type": "stream",
     "text": [
      "Average Loss for Epoch 351: 3.8855\n",
      "Epoch 352\n"
     ]
    },
    {
     "name": "stderr",
     "output_type": "stream",
     "text": [
      " 35%|███▌      | 352/1000 [27:47<48:37,  4.50s/it]"
     ]
    },
    {
     "name": "stdout",
     "output_type": "stream",
     "text": [
      "Average Loss for Epoch 352: 4.1555\n",
      "Epoch 353\n"
     ]
    },
    {
     "name": "stderr",
     "output_type": "stream",
     "text": [
      " 35%|███▌      | 353/1000 [27:52<48:23,  4.49s/it]"
     ]
    },
    {
     "name": "stdout",
     "output_type": "stream",
     "text": [
      "Average Loss for Epoch 353: 3.5504\n",
      "Epoch 354\n"
     ]
    },
    {
     "name": "stderr",
     "output_type": "stream",
     "text": [
      " 35%|███▌      | 354/1000 [27:56<47:43,  4.43s/it]"
     ]
    },
    {
     "name": "stdout",
     "output_type": "stream",
     "text": [
      "Average Loss for Epoch 354: 4.0628\n",
      "Epoch 355\n"
     ]
    },
    {
     "name": "stderr",
     "output_type": "stream",
     "text": [
      " 36%|███▌      | 355/1000 [28:01<47:44,  4.44s/it]"
     ]
    },
    {
     "name": "stdout",
     "output_type": "stream",
     "text": [
      "Average Loss for Epoch 355: 4.5800\n",
      "Epoch 356\n"
     ]
    },
    {
     "name": "stderr",
     "output_type": "stream",
     "text": [
      " 36%|███▌      | 356/1000 [28:05<47:31,  4.43s/it]"
     ]
    },
    {
     "name": "stdout",
     "output_type": "stream",
     "text": [
      "Average Loss for Epoch 356: 3.7120\n",
      "Epoch 357\n"
     ]
    },
    {
     "name": "stderr",
     "output_type": "stream",
     "text": [
      " 36%|███▌      | 357/1000 [28:09<47:34,  4.44s/it]"
     ]
    },
    {
     "name": "stdout",
     "output_type": "stream",
     "text": [
      "Average Loss for Epoch 357: 3.5496\n",
      "Epoch 358\n"
     ]
    },
    {
     "name": "stderr",
     "output_type": "stream",
     "text": [
      " 36%|███▌      | 358/1000 [28:14<47:20,  4.43s/it]"
     ]
    },
    {
     "name": "stdout",
     "output_type": "stream",
     "text": [
      "Average Loss for Epoch 358: 3.8699\n",
      "Epoch 359\n"
     ]
    },
    {
     "name": "stderr",
     "output_type": "stream",
     "text": [
      " 36%|███▌      | 359/1000 [28:18<47:11,  4.42s/it]"
     ]
    },
    {
     "name": "stdout",
     "output_type": "stream",
     "text": [
      "Average Loss for Epoch 359: 3.6630\n",
      "Epoch 360\n"
     ]
    },
    {
     "name": "stderr",
     "output_type": "stream",
     "text": [
      " 36%|███▌      | 360/1000 [28:23<46:46,  4.39s/it]"
     ]
    },
    {
     "name": "stdout",
     "output_type": "stream",
     "text": [
      "Average Loss for Epoch 360: 4.0531\n",
      "Epoch 361\n"
     ]
    },
    {
     "name": "stderr",
     "output_type": "stream",
     "text": [
      " 36%|███▌      | 361/1000 [28:27<46:25,  4.36s/it]"
     ]
    },
    {
     "name": "stdout",
     "output_type": "stream",
     "text": [
      "Average Loss for Epoch 361: 3.9871\n",
      "Epoch 362\n"
     ]
    },
    {
     "name": "stderr",
     "output_type": "stream",
     "text": [
      " 36%|███▌      | 362/1000 [28:31<46:10,  4.34s/it]"
     ]
    },
    {
     "name": "stdout",
     "output_type": "stream",
     "text": [
      "Average Loss for Epoch 362: 3.8516\n",
      "Epoch 363\n"
     ]
    },
    {
     "name": "stderr",
     "output_type": "stream",
     "text": [
      " 36%|███▋      | 363/1000 [28:36<45:58,  4.33s/it]"
     ]
    },
    {
     "name": "stdout",
     "output_type": "stream",
     "text": [
      "Average Loss for Epoch 363: 3.2747\n",
      "Epoch 364\n"
     ]
    },
    {
     "name": "stderr",
     "output_type": "stream",
     "text": [
      " 36%|███▋      | 364/1000 [28:40<46:15,  4.36s/it]"
     ]
    },
    {
     "name": "stdout",
     "output_type": "stream",
     "text": [
      "Average Loss for Epoch 364: 3.3637\n",
      "Epoch 365\n"
     ]
    },
    {
     "name": "stderr",
     "output_type": "stream",
     "text": [
      " 36%|███▋      | 365/1000 [28:44<46:20,  4.38s/it]"
     ]
    },
    {
     "name": "stdout",
     "output_type": "stream",
     "text": [
      "Average Loss for Epoch 365: 3.5549\n",
      "Epoch 366\n"
     ]
    },
    {
     "name": "stderr",
     "output_type": "stream",
     "text": [
      " 37%|███▋      | 366/1000 [28:49<48:23,  4.58s/it]"
     ]
    },
    {
     "name": "stdout",
     "output_type": "stream",
     "text": [
      "Average Loss for Epoch 366: 3.9208\n",
      "Epoch 367\n"
     ]
    },
    {
     "name": "stderr",
     "output_type": "stream",
     "text": [
      " 37%|███▋      | 367/1000 [28:54<47:26,  4.50s/it]"
     ]
    },
    {
     "name": "stdout",
     "output_type": "stream",
     "text": [
      "Average Loss for Epoch 367: 3.3753\n",
      "Epoch 368\n"
     ]
    },
    {
     "name": "stderr",
     "output_type": "stream",
     "text": [
      " 37%|███▋      | 368/1000 [28:58<47:05,  4.47s/it]"
     ]
    },
    {
     "name": "stdout",
     "output_type": "stream",
     "text": [
      "Average Loss for Epoch 368: 3.3434\n",
      "Epoch 369\n"
     ]
    },
    {
     "name": "stderr",
     "output_type": "stream",
     "text": [
      " 37%|███▋      | 369/1000 [29:03<46:54,  4.46s/it]"
     ]
    },
    {
     "name": "stdout",
     "output_type": "stream",
     "text": [
      "Average Loss for Epoch 369: 3.7280\n",
      "Epoch 370\n"
     ]
    },
    {
     "name": "stderr",
     "output_type": "stream",
     "text": [
      " 37%|███▋      | 370/1000 [29:07<46:32,  4.43s/it]"
     ]
    },
    {
     "name": "stdout",
     "output_type": "stream",
     "text": [
      "Average Loss for Epoch 370: 3.6739\n",
      "Epoch 371\n"
     ]
    },
    {
     "name": "stderr",
     "output_type": "stream",
     "text": [
      " 37%|███▋      | 371/1000 [29:11<46:24,  4.43s/it]"
     ]
    },
    {
     "name": "stdout",
     "output_type": "stream",
     "text": [
      "Average Loss for Epoch 371: 3.7647\n",
      "Epoch 372\n"
     ]
    },
    {
     "name": "stderr",
     "output_type": "stream",
     "text": [
      " 37%|███▋      | 372/1000 [29:16<46:00,  4.40s/it]"
     ]
    },
    {
     "name": "stdout",
     "output_type": "stream",
     "text": [
      "Average Loss for Epoch 372: 3.8146\n",
      "Epoch 373\n"
     ]
    },
    {
     "name": "stderr",
     "output_type": "stream",
     "text": [
      " 37%|███▋      | 373/1000 [29:20<46:17,  4.43s/it]"
     ]
    },
    {
     "name": "stdout",
     "output_type": "stream",
     "text": [
      "Average Loss for Epoch 373: 3.7215\n",
      "Epoch 374\n"
     ]
    },
    {
     "name": "stderr",
     "output_type": "stream",
     "text": [
      " 37%|███▋      | 374/1000 [29:25<46:00,  4.41s/it]"
     ]
    },
    {
     "name": "stdout",
     "output_type": "stream",
     "text": [
      "Average Loss for Epoch 374: 3.3516\n",
      "Epoch 375\n"
     ]
    },
    {
     "name": "stderr",
     "output_type": "stream",
     "text": [
      " 38%|███▊      | 375/1000 [29:29<45:50,  4.40s/it]"
     ]
    },
    {
     "name": "stdout",
     "output_type": "stream",
     "text": [
      "Average Loss for Epoch 375: 3.8972\n",
      "Epoch 376\n"
     ]
    },
    {
     "name": "stderr",
     "output_type": "stream",
     "text": [
      " 38%|███▊      | 376/1000 [29:33<45:29,  4.37s/it]"
     ]
    },
    {
     "name": "stdout",
     "output_type": "stream",
     "text": [
      "Average Loss for Epoch 376: 4.2175\n",
      "Epoch 377\n"
     ]
    },
    {
     "name": "stderr",
     "output_type": "stream",
     "text": [
      " 38%|███▊      | 377/1000 [29:38<45:32,  4.39s/it]"
     ]
    },
    {
     "name": "stdout",
     "output_type": "stream",
     "text": [
      "Average Loss for Epoch 377: 3.2494\n",
      "Epoch 378\n"
     ]
    },
    {
     "name": "stderr",
     "output_type": "stream",
     "text": [
      " 38%|███▊      | 378/1000 [29:42<45:19,  4.37s/it]"
     ]
    },
    {
     "name": "stdout",
     "output_type": "stream",
     "text": [
      "Average Loss for Epoch 378: 3.8155\n",
      "Epoch 379\n"
     ]
    },
    {
     "name": "stderr",
     "output_type": "stream",
     "text": [
      " 38%|███▊      | 379/1000 [29:46<45:06,  4.36s/it]"
     ]
    },
    {
     "name": "stdout",
     "output_type": "stream",
     "text": [
      "Average Loss for Epoch 379: 3.5982\n",
      "Epoch 380\n"
     ]
    },
    {
     "name": "stderr",
     "output_type": "stream",
     "text": [
      " 38%|███▊      | 380/1000 [29:51<46:54,  4.54s/it]"
     ]
    },
    {
     "name": "stdout",
     "output_type": "stream",
     "text": [
      "Average Loss for Epoch 380: 3.7136\n",
      "Epoch 381\n"
     ]
    },
    {
     "name": "stderr",
     "output_type": "stream",
     "text": [
      " 38%|███▊      | 381/1000 [29:56<46:21,  4.49s/it]"
     ]
    },
    {
     "name": "stdout",
     "output_type": "stream",
     "text": [
      "Average Loss for Epoch 381: 3.2117\n",
      "Epoch 382\n"
     ]
    },
    {
     "name": "stderr",
     "output_type": "stream",
     "text": [
      " 38%|███▊      | 382/1000 [30:00<46:02,  4.47s/it]"
     ]
    },
    {
     "name": "stdout",
     "output_type": "stream",
     "text": [
      "Average Loss for Epoch 382: 3.5800\n",
      "Epoch 383\n"
     ]
    },
    {
     "name": "stderr",
     "output_type": "stream",
     "text": [
      " 38%|███▊      | 383/1000 [30:05<45:52,  4.46s/it]"
     ]
    },
    {
     "name": "stdout",
     "output_type": "stream",
     "text": [
      "Average Loss for Epoch 383: 3.7540\n",
      "Epoch 384\n"
     ]
    },
    {
     "name": "stderr",
     "output_type": "stream",
     "text": [
      " 38%|███▊      | 384/1000 [30:09<45:52,  4.47s/it]"
     ]
    },
    {
     "name": "stdout",
     "output_type": "stream",
     "text": [
      "Average Loss for Epoch 384: 3.1914\n",
      "Epoch 385\n"
     ]
    },
    {
     "name": "stderr",
     "output_type": "stream",
     "text": [
      " 38%|███▊      | 385/1000 [30:13<45:37,  4.45s/it]"
     ]
    },
    {
     "name": "stdout",
     "output_type": "stream",
     "text": [
      "Average Loss for Epoch 385: 3.4294\n",
      "Epoch 386\n"
     ]
    },
    {
     "name": "stderr",
     "output_type": "stream",
     "text": [
      " 39%|███▊      | 386/1000 [30:18<45:18,  4.43s/it]"
     ]
    },
    {
     "name": "stdout",
     "output_type": "stream",
     "text": [
      "Average Loss for Epoch 386: 3.4010\n",
      "Epoch 387\n"
     ]
    },
    {
     "name": "stderr",
     "output_type": "stream",
     "text": [
      " 39%|███▊      | 387/1000 [30:22<45:09,  4.42s/it]"
     ]
    },
    {
     "name": "stdout",
     "output_type": "stream",
     "text": [
      "Average Loss for Epoch 387: 3.5300\n",
      "Epoch 388\n"
     ]
    },
    {
     "name": "stderr",
     "output_type": "stream",
     "text": [
      " 39%|███▉      | 388/1000 [30:27<45:13,  4.43s/it]"
     ]
    },
    {
     "name": "stdout",
     "output_type": "stream",
     "text": [
      "Average Loss for Epoch 388: 4.0853\n",
      "Epoch 389\n"
     ]
    },
    {
     "name": "stderr",
     "output_type": "stream",
     "text": [
      " 39%|███▉      | 389/1000 [30:31<46:14,  4.54s/it]"
     ]
    },
    {
     "name": "stdout",
     "output_type": "stream",
     "text": [
      "Average Loss for Epoch 389: 3.4882\n",
      "Epoch 390\n"
     ]
    },
    {
     "name": "stderr",
     "output_type": "stream",
     "text": [
      " 39%|███▉      | 390/1000 [30:36<46:25,  4.57s/it]"
     ]
    },
    {
     "name": "stdout",
     "output_type": "stream",
     "text": [
      "Average Loss for Epoch 390: 4.2451\n",
      "Epoch 391\n"
     ]
    },
    {
     "name": "stderr",
     "output_type": "stream",
     "text": [
      " 39%|███▉      | 391/1000 [30:41<46:36,  4.59s/it]"
     ]
    },
    {
     "name": "stdout",
     "output_type": "stream",
     "text": [
      "Average Loss for Epoch 391: 3.8043\n",
      "Epoch 392\n"
     ]
    },
    {
     "name": "stderr",
     "output_type": "stream",
     "text": [
      " 39%|███▉      | 392/1000 [30:45<46:21,  4.58s/it]"
     ]
    },
    {
     "name": "stdout",
     "output_type": "stream",
     "text": [
      "Average Loss for Epoch 392: 3.5415\n",
      "Epoch 393\n"
     ]
    },
    {
     "name": "stderr",
     "output_type": "stream",
     "text": [
      " 39%|███▉      | 393/1000 [30:50<47:49,  4.73s/it]"
     ]
    },
    {
     "name": "stdout",
     "output_type": "stream",
     "text": [
      "Average Loss for Epoch 393: 4.0932\n",
      "Epoch 394\n"
     ]
    },
    {
     "name": "stderr",
     "output_type": "stream",
     "text": [
      " 39%|███▉      | 394/1000 [30:55<48:05,  4.76s/it]"
     ]
    },
    {
     "name": "stdout",
     "output_type": "stream",
     "text": [
      "Average Loss for Epoch 394: 3.3714\n",
      "Epoch 395\n"
     ]
    },
    {
     "name": "stderr",
     "output_type": "stream",
     "text": [
      " 40%|███▉      | 395/1000 [31:00<47:34,  4.72s/it]"
     ]
    },
    {
     "name": "stdout",
     "output_type": "stream",
     "text": [
      "Average Loss for Epoch 395: 3.8114\n",
      "Epoch 396\n"
     ]
    },
    {
     "name": "stderr",
     "output_type": "stream",
     "text": [
      " 40%|███▉      | 396/1000 [31:04<47:03,  4.67s/it]"
     ]
    },
    {
     "name": "stdout",
     "output_type": "stream",
     "text": [
      "Average Loss for Epoch 396: 3.5170\n",
      "Epoch 397\n"
     ]
    },
    {
     "name": "stderr",
     "output_type": "stream",
     "text": [
      " 40%|███▉      | 397/1000 [31:09<47:00,  4.68s/it]"
     ]
    },
    {
     "name": "stdout",
     "output_type": "stream",
     "text": [
      "Average Loss for Epoch 397: 3.3521\n",
      "Epoch 398\n"
     ]
    },
    {
     "name": "stderr",
     "output_type": "stream",
     "text": [
      " 40%|███▉      | 398/1000 [31:14<46:51,  4.67s/it]"
     ]
    },
    {
     "name": "stdout",
     "output_type": "stream",
     "text": [
      "Average Loss for Epoch 398: 4.0409\n",
      "Epoch 399\n"
     ]
    },
    {
     "name": "stderr",
     "output_type": "stream",
     "text": [
      " 40%|███▉      | 399/1000 [31:18<46:35,  4.65s/it]"
     ]
    },
    {
     "name": "stdout",
     "output_type": "stream",
     "text": [
      "Average Loss for Epoch 399: 3.6579\n",
      "Epoch 400\n"
     ]
    },
    {
     "name": "stderr",
     "output_type": "stream",
     "text": [
      " 40%|████      | 400/1000 [31:23<46:21,  4.64s/it]"
     ]
    },
    {
     "name": "stdout",
     "output_type": "stream",
     "text": [
      "Average Loss for Epoch 400: 3.6923\n",
      "Epoch 401\n"
     ]
    },
    {
     "name": "stderr",
     "output_type": "stream",
     "text": [
      " 40%|████      | 401/1000 [31:28<47:15,  4.73s/it]"
     ]
    },
    {
     "name": "stdout",
     "output_type": "stream",
     "text": [
      "Average Loss for Epoch 401: 3.4551\n",
      "Epoch 402\n"
     ]
    },
    {
     "name": "stderr",
     "output_type": "stream",
     "text": [
      " 40%|████      | 402/1000 [31:33<46:58,  4.71s/it]"
     ]
    },
    {
     "name": "stdout",
     "output_type": "stream",
     "text": [
      "Average Loss for Epoch 402: 3.7216\n",
      "Epoch 403\n"
     ]
    },
    {
     "name": "stderr",
     "output_type": "stream",
     "text": [
      " 40%|████      | 403/1000 [31:37<46:40,  4.69s/it]"
     ]
    },
    {
     "name": "stdout",
     "output_type": "stream",
     "text": [
      "Average Loss for Epoch 403: 3.5727\n",
      "Epoch 404\n"
     ]
    },
    {
     "name": "stderr",
     "output_type": "stream",
     "text": [
      " 40%|████      | 404/1000 [31:42<46:27,  4.68s/it]"
     ]
    },
    {
     "name": "stdout",
     "output_type": "stream",
     "text": [
      "Average Loss for Epoch 404: 3.4296\n",
      "Epoch 405\n"
     ]
    },
    {
     "name": "stderr",
     "output_type": "stream",
     "text": [
      " 40%|████      | 405/1000 [31:46<46:02,  4.64s/it]"
     ]
    },
    {
     "name": "stdout",
     "output_type": "stream",
     "text": [
      "Average Loss for Epoch 405: 3.4404\n",
      "Epoch 406\n"
     ]
    },
    {
     "name": "stderr",
     "output_type": "stream",
     "text": [
      " 41%|████      | 406/1000 [31:52<47:37,  4.81s/it]"
     ]
    },
    {
     "name": "stdout",
     "output_type": "stream",
     "text": [
      "Average Loss for Epoch 406: 3.6161\n",
      "Epoch 407\n"
     ]
    },
    {
     "name": "stderr",
     "output_type": "stream",
     "text": [
      " 41%|████      | 407/1000 [31:56<47:40,  4.82s/it]"
     ]
    },
    {
     "name": "stdout",
     "output_type": "stream",
     "text": [
      "Average Loss for Epoch 407: 3.5315\n",
      "Epoch 408\n"
     ]
    },
    {
     "name": "stderr",
     "output_type": "stream",
     "text": [
      " 41%|████      | 408/1000 [32:01<47:19,  4.80s/it]"
     ]
    },
    {
     "name": "stdout",
     "output_type": "stream",
     "text": [
      "Average Loss for Epoch 408: 3.6090\n",
      "Epoch 409\n"
     ]
    },
    {
     "name": "stderr",
     "output_type": "stream",
     "text": [
      " 41%|████      | 409/1000 [32:06<47:00,  4.77s/it]"
     ]
    },
    {
     "name": "stdout",
     "output_type": "stream",
     "text": [
      "Average Loss for Epoch 409: 4.3002\n",
      "Epoch 410\n"
     ]
    },
    {
     "name": "stderr",
     "output_type": "stream",
     "text": [
      " 41%|████      | 410/1000 [32:11<46:33,  4.74s/it]"
     ]
    },
    {
     "name": "stdout",
     "output_type": "stream",
     "text": [
      "Average Loss for Epoch 410: 3.4804\n",
      "Epoch 411\n"
     ]
    },
    {
     "name": "stderr",
     "output_type": "stream",
     "text": [
      " 41%|████      | 411/1000 [32:15<46:01,  4.69s/it]"
     ]
    },
    {
     "name": "stdout",
     "output_type": "stream",
     "text": [
      "Average Loss for Epoch 411: 3.5966\n",
      "Epoch 412\n"
     ]
    },
    {
     "name": "stderr",
     "output_type": "stream",
     "text": [
      " 41%|████      | 412/1000 [32:20<46:49,  4.78s/it]"
     ]
    },
    {
     "name": "stdout",
     "output_type": "stream",
     "text": [
      "Average Loss for Epoch 412: 3.0150\n",
      "Epoch 413\n"
     ]
    },
    {
     "name": "stderr",
     "output_type": "stream",
     "text": [
      " 41%|████▏     | 413/1000 [32:25<47:40,  4.87s/it]"
     ]
    },
    {
     "name": "stdout",
     "output_type": "stream",
     "text": [
      "Average Loss for Epoch 413: 3.9827\n",
      "Epoch 414\n"
     ]
    },
    {
     "name": "stderr",
     "output_type": "stream",
     "text": [
      " 41%|████▏     | 414/1000 [32:30<47:25,  4.86s/it]"
     ]
    },
    {
     "name": "stdout",
     "output_type": "stream",
     "text": [
      "Average Loss for Epoch 414: 3.5224\n",
      "Epoch 415\n"
     ]
    },
    {
     "name": "stderr",
     "output_type": "stream",
     "text": [
      " 42%|████▏     | 415/1000 [32:35<46:27,  4.76s/it]"
     ]
    },
    {
     "name": "stdout",
     "output_type": "stream",
     "text": [
      "Average Loss for Epoch 415: 3.8920\n",
      "Epoch 416\n"
     ]
    },
    {
     "name": "stderr",
     "output_type": "stream",
     "text": [
      " 42%|████▏     | 416/1000 [32:40<48:29,  4.98s/it]"
     ]
    },
    {
     "name": "stdout",
     "output_type": "stream",
     "text": [
      "Average Loss for Epoch 416: 3.1639\n",
      "Epoch 417\n"
     ]
    },
    {
     "name": "stderr",
     "output_type": "stream",
     "text": [
      " 42%|████▏     | 417/1000 [32:45<47:02,  4.84s/it]"
     ]
    },
    {
     "name": "stdout",
     "output_type": "stream",
     "text": [
      "Average Loss for Epoch 417: 3.7096\n",
      "Epoch 418\n"
     ]
    },
    {
     "name": "stderr",
     "output_type": "stream",
     "text": [
      " 42%|████▏     | 418/1000 [32:49<45:58,  4.74s/it]"
     ]
    },
    {
     "name": "stdout",
     "output_type": "stream",
     "text": [
      "Average Loss for Epoch 418: 4.2037\n",
      "Epoch 419\n"
     ]
    },
    {
     "name": "stderr",
     "output_type": "stream",
     "text": [
      " 42%|████▏     | 419/1000 [32:55<47:56,  4.95s/it]"
     ]
    },
    {
     "name": "stdout",
     "output_type": "stream",
     "text": [
      "Average Loss for Epoch 419: 3.2870\n",
      "Epoch 420\n"
     ]
    },
    {
     "name": "stderr",
     "output_type": "stream",
     "text": [
      " 42%|████▏     | 420/1000 [32:59<47:33,  4.92s/it]"
     ]
    },
    {
     "name": "stdout",
     "output_type": "stream",
     "text": [
      "Average Loss for Epoch 420: 3.4903\n",
      "Epoch 421\n"
     ]
    },
    {
     "name": "stderr",
     "output_type": "stream",
     "text": [
      " 42%|████▏     | 421/1000 [33:04<46:27,  4.81s/it]"
     ]
    },
    {
     "name": "stdout",
     "output_type": "stream",
     "text": [
      "Average Loss for Epoch 421: 3.2403\n",
      "Epoch 422\n"
     ]
    },
    {
     "name": "stderr",
     "output_type": "stream",
     "text": [
      " 42%|████▏     | 422/1000 [33:09<46:55,  4.87s/it]"
     ]
    },
    {
     "name": "stdout",
     "output_type": "stream",
     "text": [
      "Average Loss for Epoch 422: 3.9528\n",
      "Epoch 423\n"
     ]
    },
    {
     "name": "stderr",
     "output_type": "stream",
     "text": [
      " 42%|████▏     | 423/1000 [33:13<45:51,  4.77s/it]"
     ]
    },
    {
     "name": "stdout",
     "output_type": "stream",
     "text": [
      "Average Loss for Epoch 423: 3.7864\n",
      "Epoch 424\n"
     ]
    },
    {
     "name": "stderr",
     "output_type": "stream",
     "text": [
      " 42%|████▏     | 424/1000 [33:18<44:59,  4.69s/it]"
     ]
    },
    {
     "name": "stdout",
     "output_type": "stream",
     "text": [
      "Average Loss for Epoch 424: 3.5570\n",
      "Epoch 425\n"
     ]
    },
    {
     "name": "stderr",
     "output_type": "stream",
     "text": [
      " 42%|████▎     | 425/1000 [33:23<45:16,  4.72s/it]"
     ]
    },
    {
     "name": "stdout",
     "output_type": "stream",
     "text": [
      "Average Loss for Epoch 425: 3.5481\n",
      "Epoch 426\n"
     ]
    },
    {
     "name": "stderr",
     "output_type": "stream",
     "text": [
      " 43%|████▎     | 426/1000 [33:27<44:55,  4.70s/it]"
     ]
    },
    {
     "name": "stdout",
     "output_type": "stream",
     "text": [
      "Average Loss for Epoch 426: 2.9108\n",
      "Epoch 427\n"
     ]
    },
    {
     "name": "stderr",
     "output_type": "stream",
     "text": [
      " 43%|████▎     | 427/1000 [33:32<44:34,  4.67s/it]"
     ]
    },
    {
     "name": "stdout",
     "output_type": "stream",
     "text": [
      "Average Loss for Epoch 427: 3.4774\n",
      "Epoch 428\n"
     ]
    },
    {
     "name": "stderr",
     "output_type": "stream",
     "text": [
      " 43%|████▎     | 428/1000 [33:37<44:41,  4.69s/it]"
     ]
    },
    {
     "name": "stdout",
     "output_type": "stream",
     "text": [
      "Average Loss for Epoch 428: 3.7139\n",
      "Epoch 429\n"
     ]
    },
    {
     "name": "stderr",
     "output_type": "stream",
     "text": [
      " 43%|████▎     | 429/1000 [33:41<43:57,  4.62s/it]"
     ]
    },
    {
     "name": "stdout",
     "output_type": "stream",
     "text": [
      "Average Loss for Epoch 429: 3.4727\n",
      "Epoch 430\n"
     ]
    },
    {
     "name": "stderr",
     "output_type": "stream",
     "text": [
      " 43%|████▎     | 430/1000 [33:46<43:21,  4.56s/it]"
     ]
    },
    {
     "name": "stdout",
     "output_type": "stream",
     "text": [
      "Average Loss for Epoch 430: 3.5953\n",
      "Epoch 431\n"
     ]
    },
    {
     "name": "stderr",
     "output_type": "stream",
     "text": [
      " 43%|████▎     | 431/1000 [33:50<42:48,  4.51s/it]"
     ]
    },
    {
     "name": "stdout",
     "output_type": "stream",
     "text": [
      "Average Loss for Epoch 431: 4.4165\n",
      "Epoch 432\n"
     ]
    },
    {
     "name": "stderr",
     "output_type": "stream",
     "text": [
      " 43%|████▎     | 432/1000 [33:55<43:47,  4.63s/it]"
     ]
    },
    {
     "name": "stdout",
     "output_type": "stream",
     "text": [
      "Average Loss for Epoch 432: 3.5356\n",
      "Epoch 433\n"
     ]
    },
    {
     "name": "stderr",
     "output_type": "stream",
     "text": [
      " 43%|████▎     | 433/1000 [34:00<43:52,  4.64s/it]"
     ]
    },
    {
     "name": "stdout",
     "output_type": "stream",
     "text": [
      "Average Loss for Epoch 433: 2.8755\n",
      "Epoch 434\n"
     ]
    },
    {
     "name": "stderr",
     "output_type": "stream",
     "text": [
      " 43%|████▎     | 434/1000 [34:04<43:37,  4.62s/it]"
     ]
    },
    {
     "name": "stdout",
     "output_type": "stream",
     "text": [
      "Average Loss for Epoch 434: 2.9506\n",
      "Epoch 435\n"
     ]
    },
    {
     "name": "stderr",
     "output_type": "stream",
     "text": [
      " 44%|████▎     | 435/1000 [34:09<44:12,  4.70s/it]"
     ]
    },
    {
     "name": "stdout",
     "output_type": "stream",
     "text": [
      "Average Loss for Epoch 435: 4.0390\n",
      "Epoch 436\n"
     ]
    },
    {
     "name": "stderr",
     "output_type": "stream",
     "text": [
      " 44%|████▎     | 436/1000 [34:14<43:37,  4.64s/it]"
     ]
    },
    {
     "name": "stdout",
     "output_type": "stream",
     "text": [
      "Average Loss for Epoch 436: 3.3581\n",
      "Epoch 437\n"
     ]
    },
    {
     "name": "stderr",
     "output_type": "stream",
     "text": [
      " 44%|████▎     | 437/1000 [34:18<43:10,  4.60s/it]"
     ]
    },
    {
     "name": "stdout",
     "output_type": "stream",
     "text": [
      "Average Loss for Epoch 437: 3.7397\n",
      "Epoch 438\n"
     ]
    },
    {
     "name": "stderr",
     "output_type": "stream",
     "text": [
      " 44%|████▍     | 438/1000 [34:23<43:39,  4.66s/it]"
     ]
    },
    {
     "name": "stdout",
     "output_type": "stream",
     "text": [
      "Average Loss for Epoch 438: 3.8285\n",
      "Epoch 439\n"
     ]
    },
    {
     "name": "stderr",
     "output_type": "stream",
     "text": [
      " 44%|████▍     | 439/1000 [34:27<42:54,  4.59s/it]"
     ]
    },
    {
     "name": "stdout",
     "output_type": "stream",
     "text": [
      "Average Loss for Epoch 439: 3.6638\n",
      "Epoch 440\n"
     ]
    },
    {
     "name": "stderr",
     "output_type": "stream",
     "text": [
      " 44%|████▍     | 440/1000 [34:32<42:28,  4.55s/it]"
     ]
    },
    {
     "name": "stdout",
     "output_type": "stream",
     "text": [
      "Average Loss for Epoch 440: 3.4710\n",
      "Epoch 441\n"
     ]
    },
    {
     "name": "stderr",
     "output_type": "stream",
     "text": [
      " 44%|████▍     | 441/1000 [34:36<42:54,  4.61s/it]"
     ]
    },
    {
     "name": "stdout",
     "output_type": "stream",
     "text": [
      "Average Loss for Epoch 441: 3.4624\n",
      "Epoch 442\n"
     ]
    },
    {
     "name": "stderr",
     "output_type": "stream",
     "text": [
      " 44%|████▍     | 442/1000 [34:41<42:40,  4.59s/it]"
     ]
    },
    {
     "name": "stdout",
     "output_type": "stream",
     "text": [
      "Average Loss for Epoch 442: 3.4556\n",
      "Epoch 443\n"
     ]
    },
    {
     "name": "stderr",
     "output_type": "stream",
     "text": [
      " 44%|████▍     | 443/1000 [34:45<42:13,  4.55s/it]"
     ]
    },
    {
     "name": "stdout",
     "output_type": "stream",
     "text": [
      "Average Loss for Epoch 443: 3.2914\n",
      "Epoch 444\n"
     ]
    },
    {
     "name": "stderr",
     "output_type": "stream",
     "text": [
      " 44%|████▍     | 444/1000 [34:50<42:02,  4.54s/it]"
     ]
    },
    {
     "name": "stdout",
     "output_type": "stream",
     "text": [
      "Average Loss for Epoch 444: 3.6624\n",
      "Epoch 445\n"
     ]
    },
    {
     "name": "stderr",
     "output_type": "stream",
     "text": [
      " 44%|████▍     | 445/1000 [34:55<42:06,  4.55s/it]"
     ]
    },
    {
     "name": "stdout",
     "output_type": "stream",
     "text": [
      "Average Loss for Epoch 445: 3.6808\n",
      "Epoch 446\n"
     ]
    },
    {
     "name": "stderr",
     "output_type": "stream",
     "text": [
      " 45%|████▍     | 446/1000 [34:59<41:42,  4.52s/it]"
     ]
    },
    {
     "name": "stdout",
     "output_type": "stream",
     "text": [
      "Average Loss for Epoch 446: 3.0160\n",
      "Epoch 447\n"
     ]
    },
    {
     "name": "stderr",
     "output_type": "stream",
     "text": [
      " 45%|████▍     | 447/1000 [35:03<41:18,  4.48s/it]"
     ]
    },
    {
     "name": "stdout",
     "output_type": "stream",
     "text": [
      "Average Loss for Epoch 447: 3.4741\n",
      "Epoch 448\n"
     ]
    },
    {
     "name": "stderr",
     "output_type": "stream",
     "text": [
      " 45%|████▍     | 448/1000 [35:08<41:21,  4.50s/it]"
     ]
    },
    {
     "name": "stdout",
     "output_type": "stream",
     "text": [
      "Average Loss for Epoch 448: 2.9888\n",
      "Epoch 449\n"
     ]
    },
    {
     "name": "stderr",
     "output_type": "stream",
     "text": [
      " 45%|████▍     | 449/1000 [35:12<40:49,  4.44s/it]"
     ]
    },
    {
     "name": "stdout",
     "output_type": "stream",
     "text": [
      "Average Loss for Epoch 449: 3.7178\n",
      "Epoch 450\n"
     ]
    },
    {
     "name": "stderr",
     "output_type": "stream",
     "text": [
      " 45%|████▌     | 450/1000 [35:17<40:25,  4.41s/it]"
     ]
    },
    {
     "name": "stdout",
     "output_type": "stream",
     "text": [
      "Average Loss for Epoch 450: 3.0565\n",
      "Epoch 451\n"
     ]
    },
    {
     "name": "stderr",
     "output_type": "stream",
     "text": [
      " 45%|████▌     | 451/1000 [35:21<40:47,  4.46s/it]"
     ]
    },
    {
     "name": "stdout",
     "output_type": "stream",
     "text": [
      "Average Loss for Epoch 451: 3.6377\n",
      "Epoch 452\n"
     ]
    },
    {
     "name": "stderr",
     "output_type": "stream",
     "text": [
      " 45%|████▌     | 452/1000 [35:26<41:14,  4.52s/it]"
     ]
    },
    {
     "name": "stdout",
     "output_type": "stream",
     "text": [
      "Average Loss for Epoch 452: 2.9176\n",
      "Epoch 453\n"
     ]
    },
    {
     "name": "stderr",
     "output_type": "stream",
     "text": [
      " 45%|████▌     | 453/1000 [35:30<40:36,  4.45s/it]"
     ]
    },
    {
     "name": "stdout",
     "output_type": "stream",
     "text": [
      "Average Loss for Epoch 453: 4.1891\n",
      "Epoch 454\n"
     ]
    },
    {
     "name": "stderr",
     "output_type": "stream",
     "text": [
      " 45%|████▌     | 454/1000 [35:34<40:05,  4.41s/it]"
     ]
    },
    {
     "name": "stdout",
     "output_type": "stream",
     "text": [
      "Average Loss for Epoch 454: 3.5272\n",
      "Epoch 455\n"
     ]
    },
    {
     "name": "stderr",
     "output_type": "stream",
     "text": [
      " 46%|████▌     | 455/1000 [35:39<40:31,  4.46s/it]"
     ]
    },
    {
     "name": "stdout",
     "output_type": "stream",
     "text": [
      "Average Loss for Epoch 455: 3.1987\n",
      "Epoch 456\n"
     ]
    },
    {
     "name": "stderr",
     "output_type": "stream",
     "text": [
      " 46%|████▌     | 456/1000 [35:44<41:30,  4.58s/it]"
     ]
    },
    {
     "name": "stdout",
     "output_type": "stream",
     "text": [
      "Average Loss for Epoch 456: 3.2867\n",
      "Epoch 457\n"
     ]
    },
    {
     "name": "stderr",
     "output_type": "stream",
     "text": [
      " 46%|████▌     | 457/1000 [35:48<40:53,  4.52s/it]"
     ]
    },
    {
     "name": "stdout",
     "output_type": "stream",
     "text": [
      "Average Loss for Epoch 457: 4.1573\n",
      "Epoch 458\n"
     ]
    },
    {
     "name": "stderr",
     "output_type": "stream",
     "text": [
      " 46%|████▌     | 458/1000 [35:53<40:51,  4.52s/it]"
     ]
    },
    {
     "name": "stdout",
     "output_type": "stream",
     "text": [
      "Average Loss for Epoch 458: 3.3621\n",
      "Epoch 459\n"
     ]
    },
    {
     "name": "stderr",
     "output_type": "stream",
     "text": [
      " 46%|████▌     | 459/1000 [35:57<40:14,  4.46s/it]"
     ]
    },
    {
     "name": "stdout",
     "output_type": "stream",
     "text": [
      "Average Loss for Epoch 459: 3.6421\n",
      "Epoch 460\n"
     ]
    },
    {
     "name": "stderr",
     "output_type": "stream",
     "text": [
      " 46%|████▌     | 460/1000 [36:01<39:52,  4.43s/it]"
     ]
    },
    {
     "name": "stdout",
     "output_type": "stream",
     "text": [
      "Average Loss for Epoch 460: 3.4490\n",
      "Epoch 461\n"
     ]
    },
    {
     "name": "stderr",
     "output_type": "stream",
     "text": [
      " 46%|████▌     | 461/1000 [36:06<39:14,  4.37s/it]"
     ]
    },
    {
     "name": "stdout",
     "output_type": "stream",
     "text": [
      "Average Loss for Epoch 461: 3.2988\n",
      "Epoch 462\n"
     ]
    },
    {
     "name": "stderr",
     "output_type": "stream",
     "text": [
      " 46%|████▌     | 462/1000 [36:10<40:00,  4.46s/it]"
     ]
    },
    {
     "name": "stdout",
     "output_type": "stream",
     "text": [
      "Average Loss for Epoch 462: 3.5523\n",
      "Epoch 463\n"
     ]
    },
    {
     "name": "stderr",
     "output_type": "stream",
     "text": [
      " 46%|████▋     | 463/1000 [36:15<39:39,  4.43s/it]"
     ]
    },
    {
     "name": "stdout",
     "output_type": "stream",
     "text": [
      "Average Loss for Epoch 463: 3.8176\n",
      "Epoch 464\n"
     ]
    },
    {
     "name": "stderr",
     "output_type": "stream",
     "text": [
      " 46%|████▋     | 464/1000 [36:19<39:36,  4.43s/it]"
     ]
    },
    {
     "name": "stdout",
     "output_type": "stream",
     "text": [
      "Average Loss for Epoch 464: 4.1017\n",
      "Epoch 465\n"
     ]
    },
    {
     "name": "stderr",
     "output_type": "stream",
     "text": [
      " 46%|████▋     | 465/1000 [36:24<40:21,  4.53s/it]"
     ]
    },
    {
     "name": "stdout",
     "output_type": "stream",
     "text": [
      "Average Loss for Epoch 465: 3.2851\n",
      "Epoch 466\n"
     ]
    },
    {
     "name": "stderr",
     "output_type": "stream",
     "text": [
      " 47%|████▋     | 466/1000 [36:28<39:34,  4.45s/it]"
     ]
    },
    {
     "name": "stdout",
     "output_type": "stream",
     "text": [
      "Average Loss for Epoch 466: 3.4448\n",
      "Epoch 467\n"
     ]
    },
    {
     "name": "stderr",
     "output_type": "stream",
     "text": [
      " 47%|████▋     | 467/1000 [36:32<39:00,  4.39s/it]"
     ]
    },
    {
     "name": "stdout",
     "output_type": "stream",
     "text": [
      "Average Loss for Epoch 467: 3.2608\n",
      "Epoch 468\n"
     ]
    },
    {
     "name": "stderr",
     "output_type": "stream",
     "text": [
      " 47%|████▋     | 468/1000 [36:37<39:01,  4.40s/it]"
     ]
    },
    {
     "name": "stdout",
     "output_type": "stream",
     "text": [
      "Average Loss for Epoch 468: 3.1263\n",
      "Epoch 469\n"
     ]
    },
    {
     "name": "stderr",
     "output_type": "stream",
     "text": [
      " 47%|████▋     | 469/1000 [36:41<38:25,  4.34s/it]"
     ]
    },
    {
     "name": "stdout",
     "output_type": "stream",
     "text": [
      "Average Loss for Epoch 469: 2.9944\n",
      "Epoch 470\n"
     ]
    },
    {
     "name": "stderr",
     "output_type": "stream",
     "text": [
      " 47%|████▋     | 470/1000 [36:45<37:57,  4.30s/it]"
     ]
    },
    {
     "name": "stdout",
     "output_type": "stream",
     "text": [
      "Average Loss for Epoch 470: 4.2584\n",
      "Epoch 471\n"
     ]
    },
    {
     "name": "stderr",
     "output_type": "stream",
     "text": [
      " 47%|████▋     | 471/1000 [36:50<38:39,  4.39s/it]"
     ]
    },
    {
     "name": "stdout",
     "output_type": "stream",
     "text": [
      "Average Loss for Epoch 471: 3.7016\n",
      "Epoch 472\n"
     ]
    },
    {
     "name": "stderr",
     "output_type": "stream",
     "text": [
      " 47%|████▋     | 472/1000 [36:54<39:06,  4.44s/it]"
     ]
    },
    {
     "name": "stdout",
     "output_type": "stream",
     "text": [
      "Average Loss for Epoch 472: 3.2410\n",
      "Epoch 473\n"
     ]
    },
    {
     "name": "stderr",
     "output_type": "stream",
     "text": [
      " 47%|████▋     | 473/1000 [36:59<39:17,  4.47s/it]"
     ]
    },
    {
     "name": "stdout",
     "output_type": "stream",
     "text": [
      "Average Loss for Epoch 473: 2.9791\n",
      "Epoch 474\n"
     ]
    },
    {
     "name": "stderr",
     "output_type": "stream",
     "text": [
      " 47%|████▋     | 474/1000 [37:03<38:44,  4.42s/it]"
     ]
    },
    {
     "name": "stdout",
     "output_type": "stream",
     "text": [
      "Average Loss for Epoch 474: 2.7921\n",
      "Epoch 475\n"
     ]
    },
    {
     "name": "stderr",
     "output_type": "stream",
     "text": [
      " 48%|████▊     | 475/1000 [37:08<39:07,  4.47s/it]"
     ]
    },
    {
     "name": "stdout",
     "output_type": "stream",
     "text": [
      "Average Loss for Epoch 475: 3.5048\n",
      "Epoch 476\n"
     ]
    },
    {
     "name": "stderr",
     "output_type": "stream",
     "text": [
      " 48%|████▊     | 476/1000 [37:12<38:32,  4.41s/it]"
     ]
    },
    {
     "name": "stdout",
     "output_type": "stream",
     "text": [
      "Average Loss for Epoch 476: 3.7339\n",
      "Epoch 477\n"
     ]
    },
    {
     "name": "stderr",
     "output_type": "stream",
     "text": [
      " 48%|████▊     | 477/1000 [37:16<38:05,  4.37s/it]"
     ]
    },
    {
     "name": "stdout",
     "output_type": "stream",
     "text": [
      "Average Loss for Epoch 477: 3.5093\n",
      "Epoch 478\n"
     ]
    },
    {
     "name": "stderr",
     "output_type": "stream",
     "text": [
      " 48%|████▊     | 478/1000 [37:21<37:51,  4.35s/it]"
     ]
    },
    {
     "name": "stdout",
     "output_type": "stream",
     "text": [
      "Average Loss for Epoch 478: 3.2909\n",
      "Epoch 479\n"
     ]
    },
    {
     "name": "stderr",
     "output_type": "stream",
     "text": [
      " 48%|████▊     | 479/1000 [37:25<38:42,  4.46s/it]"
     ]
    },
    {
     "name": "stdout",
     "output_type": "stream",
     "text": [
      "Average Loss for Epoch 479: 3.0743\n",
      "Epoch 480\n"
     ]
    },
    {
     "name": "stderr",
     "output_type": "stream",
     "text": [
      " 48%|████▊     | 480/1000 [37:30<38:07,  4.40s/it]"
     ]
    },
    {
     "name": "stdout",
     "output_type": "stream",
     "text": [
      "Average Loss for Epoch 480: 3.2699\n",
      "Epoch 481\n"
     ]
    },
    {
     "name": "stderr",
     "output_type": "stream",
     "text": [
      " 48%|████▊     | 481/1000 [37:34<37:33,  4.34s/it]"
     ]
    },
    {
     "name": "stdout",
     "output_type": "stream",
     "text": [
      "Average Loss for Epoch 481: 3.8262\n",
      "Epoch 482\n"
     ]
    },
    {
     "name": "stderr",
     "output_type": "stream",
     "text": [
      " 48%|████▊     | 482/1000 [37:38<37:54,  4.39s/it]"
     ]
    },
    {
     "name": "stdout",
     "output_type": "stream",
     "text": [
      "Average Loss for Epoch 482: 3.3596\n",
      "Epoch 483\n"
     ]
    },
    {
     "name": "stderr",
     "output_type": "stream",
     "text": [
      " 48%|████▊     | 483/1000 [37:43<37:22,  4.34s/it]"
     ]
    },
    {
     "name": "stdout",
     "output_type": "stream",
     "text": [
      "Average Loss for Epoch 483: 3.7714\n",
      "Epoch 484\n"
     ]
    },
    {
     "name": "stderr",
     "output_type": "stream",
     "text": [
      " 48%|████▊     | 484/1000 [37:47<38:35,  4.49s/it]"
     ]
    },
    {
     "name": "stdout",
     "output_type": "stream",
     "text": [
      "Average Loss for Epoch 484: 3.5180\n",
      "Epoch 485\n"
     ]
    },
    {
     "name": "stderr",
     "output_type": "stream",
     "text": [
      " 48%|████▊     | 485/1000 [37:52<38:37,  4.50s/it]"
     ]
    },
    {
     "name": "stdout",
     "output_type": "stream",
     "text": [
      "Average Loss for Epoch 485: 3.4491\n",
      "Epoch 486\n"
     ]
    },
    {
     "name": "stderr",
     "output_type": "stream",
     "text": [
      " 49%|████▊     | 486/1000 [37:56<37:55,  4.43s/it]"
     ]
    },
    {
     "name": "stdout",
     "output_type": "stream",
     "text": [
      "Average Loss for Epoch 486: 3.3535\n",
      "Epoch 487\n"
     ]
    },
    {
     "name": "stderr",
     "output_type": "stream",
     "text": [
      " 49%|████▊     | 487/1000 [38:00<37:28,  4.38s/it]"
     ]
    },
    {
     "name": "stdout",
     "output_type": "stream",
     "text": [
      "Average Loss for Epoch 487: 3.7754\n",
      "Epoch 488\n"
     ]
    },
    {
     "name": "stderr",
     "output_type": "stream",
     "text": [
      " 49%|████▉     | 488/1000 [38:05<37:11,  4.36s/it]"
     ]
    },
    {
     "name": "stdout",
     "output_type": "stream",
     "text": [
      "Average Loss for Epoch 488: 3.3069\n",
      "Epoch 489\n"
     ]
    },
    {
     "name": "stderr",
     "output_type": "stream",
     "text": [
      " 49%|████▉     | 489/1000 [38:09<37:37,  4.42s/it]"
     ]
    },
    {
     "name": "stdout",
     "output_type": "stream",
     "text": [
      "Average Loss for Epoch 489: 3.7109\n",
      "Epoch 490\n"
     ]
    },
    {
     "name": "stderr",
     "output_type": "stream",
     "text": [
      " 49%|████▉     | 490/1000 [38:14<37:02,  4.36s/it]"
     ]
    },
    {
     "name": "stdout",
     "output_type": "stream",
     "text": [
      "Average Loss for Epoch 490: 3.5757\n",
      "Epoch 491\n"
     ]
    },
    {
     "name": "stderr",
     "output_type": "stream",
     "text": [
      " 49%|████▉     | 491/1000 [38:18<36:39,  4.32s/it]"
     ]
    },
    {
     "name": "stdout",
     "output_type": "stream",
     "text": [
      "Average Loss for Epoch 491: 3.4894\n",
      "Epoch 492\n"
     ]
    },
    {
     "name": "stderr",
     "output_type": "stream",
     "text": [
      " 49%|████▉     | 492/1000 [38:22<36:55,  4.36s/it]"
     ]
    },
    {
     "name": "stdout",
     "output_type": "stream",
     "text": [
      "Average Loss for Epoch 492: 3.2077\n",
      "Epoch 493\n"
     ]
    },
    {
     "name": "stderr",
     "output_type": "stream",
     "text": [
      " 49%|████▉     | 493/1000 [38:26<36:26,  4.31s/it]"
     ]
    },
    {
     "name": "stdout",
     "output_type": "stream",
     "text": [
      "Average Loss for Epoch 493: 2.9560\n",
      "Epoch 494\n"
     ]
    },
    {
     "name": "stderr",
     "output_type": "stream",
     "text": [
      " 49%|████▉     | 494/1000 [38:31<36:16,  4.30s/it]"
     ]
    },
    {
     "name": "stdout",
     "output_type": "stream",
     "text": [
      "Average Loss for Epoch 494: 3.3543\n",
      "Epoch 495\n"
     ]
    },
    {
     "name": "stderr",
     "output_type": "stream",
     "text": [
      " 50%|████▉     | 495/1000 [38:35<35:55,  4.27s/it]"
     ]
    },
    {
     "name": "stdout",
     "output_type": "stream",
     "text": [
      "Average Loss for Epoch 495: 3.9960\n",
      "Epoch 496\n"
     ]
    },
    {
     "name": "stderr",
     "output_type": "stream",
     "text": [
      " 50%|████▉     | 496/1000 [38:39<36:19,  4.32s/it]"
     ]
    },
    {
     "name": "stdout",
     "output_type": "stream",
     "text": [
      "Average Loss for Epoch 496: 3.3338\n",
      "Epoch 497\n"
     ]
    },
    {
     "name": "stderr",
     "output_type": "stream",
     "text": [
      " 50%|████▉     | 497/1000 [38:44<35:59,  4.29s/it]"
     ]
    },
    {
     "name": "stdout",
     "output_type": "stream",
     "text": [
      "Average Loss for Epoch 497: 2.9624\n",
      "Epoch 498\n"
     ]
    },
    {
     "name": "stderr",
     "output_type": "stream",
     "text": [
      " 50%|████▉     | 498/1000 [38:48<35:37,  4.26s/it]"
     ]
    },
    {
     "name": "stdout",
     "output_type": "stream",
     "text": [
      "Average Loss for Epoch 498: 3.2961\n",
      "Epoch 499\n"
     ]
    },
    {
     "name": "stderr",
     "output_type": "stream",
     "text": [
      " 50%|████▉     | 499/1000 [38:53<38:52,  4.66s/it]"
     ]
    },
    {
     "name": "stdout",
     "output_type": "stream",
     "text": [
      "Average Loss for Epoch 499: 3.4819\n",
      "Epoch 500\n"
     ]
    },
    {
     "name": "stderr",
     "output_type": "stream",
     "text": [
      " 50%|█████     | 500/1000 [38:58<37:54,  4.55s/it]"
     ]
    },
    {
     "name": "stdout",
     "output_type": "stream",
     "text": [
      "Average Loss for Epoch 500: 3.1625\n",
      "Epoch 501\n"
     ]
    },
    {
     "name": "stderr",
     "output_type": "stream",
     "text": [
      " 50%|█████     | 501/1000 [39:02<37:18,  4.49s/it]"
     ]
    },
    {
     "name": "stdout",
     "output_type": "stream",
     "text": [
      "Average Loss for Epoch 501: 3.6664\n",
      "Epoch 502\n"
     ]
    },
    {
     "name": "stderr",
     "output_type": "stream",
     "text": [
      " 50%|█████     | 502/1000 [39:06<36:33,  4.40s/it]"
     ]
    },
    {
     "name": "stdout",
     "output_type": "stream",
     "text": [
      "Average Loss for Epoch 502: 4.1925\n",
      "Epoch 503\n"
     ]
    },
    {
     "name": "stderr",
     "output_type": "stream",
     "text": [
      " 50%|█████     | 503/1000 [39:11<36:54,  4.46s/it]"
     ]
    },
    {
     "name": "stdout",
     "output_type": "stream",
     "text": [
      "Average Loss for Epoch 503: 3.1389\n",
      "Epoch 504\n"
     ]
    },
    {
     "name": "stderr",
     "output_type": "stream",
     "text": [
      " 50%|█████     | 504/1000 [39:15<36:19,  4.39s/it]"
     ]
    },
    {
     "name": "stdout",
     "output_type": "stream",
     "text": [
      "Average Loss for Epoch 504: 3.1391\n",
      "Epoch 505\n"
     ]
    },
    {
     "name": "stderr",
     "output_type": "stream",
     "text": [
      " 50%|█████     | 505/1000 [39:19<35:44,  4.33s/it]"
     ]
    },
    {
     "name": "stdout",
     "output_type": "stream",
     "text": [
      "Average Loss for Epoch 505: 3.3254\n",
      "Epoch 506\n"
     ]
    },
    {
     "name": "stderr",
     "output_type": "stream",
     "text": [
      " 51%|█████     | 506/1000 [39:24<36:13,  4.40s/it]"
     ]
    },
    {
     "name": "stdout",
     "output_type": "stream",
     "text": [
      "Average Loss for Epoch 506: 2.9790\n",
      "Epoch 507\n"
     ]
    },
    {
     "name": "stderr",
     "output_type": "stream",
     "text": [
      " 51%|█████     | 507/1000 [39:28<35:41,  4.34s/it]"
     ]
    },
    {
     "name": "stdout",
     "output_type": "stream",
     "text": [
      "Average Loss for Epoch 507: 3.2144\n",
      "Epoch 508\n"
     ]
    },
    {
     "name": "stderr",
     "output_type": "stream",
     "text": [
      " 51%|█████     | 508/1000 [39:32<35:14,  4.30s/it]"
     ]
    },
    {
     "name": "stdout",
     "output_type": "stream",
     "text": [
      "Average Loss for Epoch 508: 2.9722\n",
      "Epoch 509\n"
     ]
    },
    {
     "name": "stderr",
     "output_type": "stream",
     "text": [
      " 51%|█████     | 509/1000 [39:37<35:33,  4.34s/it]"
     ]
    },
    {
     "name": "stdout",
     "output_type": "stream",
     "text": [
      "Average Loss for Epoch 509: 4.0043\n",
      "Epoch 510\n"
     ]
    },
    {
     "name": "stderr",
     "output_type": "stream",
     "text": [
      " 51%|█████     | 510/1000 [39:41<35:24,  4.33s/it]"
     ]
    },
    {
     "name": "stdout",
     "output_type": "stream",
     "text": [
      "Average Loss for Epoch 510: 3.6443\n",
      "Epoch 511\n"
     ]
    },
    {
     "name": "stderr",
     "output_type": "stream",
     "text": [
      " 51%|█████     | 511/1000 [39:45<35:03,  4.30s/it]"
     ]
    },
    {
     "name": "stdout",
     "output_type": "stream",
     "text": [
      "Average Loss for Epoch 511: 3.5763\n",
      "Epoch 512\n"
     ]
    },
    {
     "name": "stderr",
     "output_type": "stream",
     "text": [
      " 51%|█████     | 512/1000 [39:50<36:12,  4.45s/it]"
     ]
    },
    {
     "name": "stdout",
     "output_type": "stream",
     "text": [
      "Average Loss for Epoch 512: 3.2655\n",
      "Epoch 513\n"
     ]
    },
    {
     "name": "stderr",
     "output_type": "stream",
     "text": [
      " 51%|█████▏    | 513/1000 [39:55<36:34,  4.51s/it]"
     ]
    },
    {
     "name": "stdout",
     "output_type": "stream",
     "text": [
      "Average Loss for Epoch 513: 2.7763\n",
      "Epoch 514\n"
     ]
    },
    {
     "name": "stderr",
     "output_type": "stream",
     "text": [
      " 51%|█████▏    | 514/1000 [39:59<36:05,  4.46s/it]"
     ]
    },
    {
     "name": "stdout",
     "output_type": "stream",
     "text": [
      "Average Loss for Epoch 514: 3.0272\n",
      "Epoch 515\n"
     ]
    },
    {
     "name": "stderr",
     "output_type": "stream",
     "text": [
      " 52%|█████▏    | 515/1000 [40:03<35:28,  4.39s/it]"
     ]
    },
    {
     "name": "stdout",
     "output_type": "stream",
     "text": [
      "Average Loss for Epoch 515: 3.4507\n",
      "Epoch 516\n"
     ]
    },
    {
     "name": "stderr",
     "output_type": "stream",
     "text": [
      " 52%|█████▏    | 516/1000 [40:08<35:38,  4.42s/it]"
     ]
    },
    {
     "name": "stdout",
     "output_type": "stream",
     "text": [
      "Average Loss for Epoch 516: 2.7759\n",
      "Epoch 517\n"
     ]
    },
    {
     "name": "stderr",
     "output_type": "stream",
     "text": [
      " 52%|█████▏    | 517/1000 [40:12<35:03,  4.35s/it]"
     ]
    },
    {
     "name": "stdout",
     "output_type": "stream",
     "text": [
      "Average Loss for Epoch 517: 3.8370\n",
      "Epoch 518\n"
     ]
    },
    {
     "name": "stderr",
     "output_type": "stream",
     "text": [
      " 52%|█████▏    | 518/1000 [40:16<34:40,  4.32s/it]"
     ]
    },
    {
     "name": "stdout",
     "output_type": "stream",
     "text": [
      "Average Loss for Epoch 518: 3.5009\n",
      "Epoch 519\n"
     ]
    },
    {
     "name": "stderr",
     "output_type": "stream",
     "text": [
      " 52%|█████▏    | 519/1000 [40:20<34:26,  4.30s/it]"
     ]
    },
    {
     "name": "stdout",
     "output_type": "stream",
     "text": [
      "Average Loss for Epoch 519: 2.8718\n",
      "Epoch 520\n"
     ]
    },
    {
     "name": "stderr",
     "output_type": "stream",
     "text": [
      " 52%|█████▏    | 520/1000 [40:25<34:47,  4.35s/it]"
     ]
    },
    {
     "name": "stdout",
     "output_type": "stream",
     "text": [
      "Average Loss for Epoch 520: 3.5620\n",
      "Epoch 521\n"
     ]
    },
    {
     "name": "stderr",
     "output_type": "stream",
     "text": [
      " 52%|█████▏    | 521/1000 [40:29<34:40,  4.34s/it]"
     ]
    },
    {
     "name": "stdout",
     "output_type": "stream",
     "text": [
      "Average Loss for Epoch 521: 3.6735\n",
      "Epoch 522\n"
     ]
    },
    {
     "name": "stderr",
     "output_type": "stream",
     "text": [
      " 52%|█████▏    | 522/1000 [40:33<34:11,  4.29s/it]"
     ]
    },
    {
     "name": "stdout",
     "output_type": "stream",
     "text": [
      "Average Loss for Epoch 522: 3.3595\n",
      "Epoch 523\n"
     ]
    },
    {
     "name": "stderr",
     "output_type": "stream",
     "text": [
      " 52%|█████▏    | 523/1000 [40:38<34:25,  4.33s/it]"
     ]
    },
    {
     "name": "stdout",
     "output_type": "stream",
     "text": [
      "Average Loss for Epoch 523: 3.1756\n",
      "Epoch 524\n"
     ]
    },
    {
     "name": "stderr",
     "output_type": "stream",
     "text": [
      " 52%|█████▏    | 524/1000 [40:42<34:05,  4.30s/it]"
     ]
    },
    {
     "name": "stdout",
     "output_type": "stream",
     "text": [
      "Average Loss for Epoch 524: 3.1225\n",
      "Epoch 525\n"
     ]
    },
    {
     "name": "stderr",
     "output_type": "stream",
     "text": [
      " 52%|█████▎    | 525/1000 [40:47<34:54,  4.41s/it]"
     ]
    },
    {
     "name": "stdout",
     "output_type": "stream",
     "text": [
      "Average Loss for Epoch 525: 3.1974\n",
      "Epoch 526\n"
     ]
    },
    {
     "name": "stderr",
     "output_type": "stream",
     "text": [
      " 53%|█████▎    | 526/1000 [40:51<34:42,  4.39s/it]"
     ]
    },
    {
     "name": "stdout",
     "output_type": "stream",
     "text": [
      "Average Loss for Epoch 526: 3.6074\n",
      "Epoch 527\n"
     ]
    },
    {
     "name": "stderr",
     "output_type": "stream",
     "text": [
      " 53%|█████▎    | 527/1000 [40:56<34:54,  4.43s/it]"
     ]
    },
    {
     "name": "stdout",
     "output_type": "stream",
     "text": [
      "Average Loss for Epoch 527: 2.7232\n",
      "Epoch 528\n"
     ]
    },
    {
     "name": "stderr",
     "output_type": "stream",
     "text": [
      " 53%|█████▎    | 528/1000 [41:00<34:25,  4.38s/it]"
     ]
    },
    {
     "name": "stdout",
     "output_type": "stream",
     "text": [
      "Average Loss for Epoch 528: 3.2965\n",
      "Epoch 529\n"
     ]
    },
    {
     "name": "stderr",
     "output_type": "stream",
     "text": [
      " 53%|█████▎    | 529/1000 [41:04<33:55,  4.32s/it]"
     ]
    },
    {
     "name": "stdout",
     "output_type": "stream",
     "text": [
      "Average Loss for Epoch 529: 3.3422\n",
      "Epoch 530\n"
     ]
    },
    {
     "name": "stderr",
     "output_type": "stream",
     "text": [
      " 53%|█████▎    | 530/1000 [41:09<34:36,  4.42s/it]"
     ]
    },
    {
     "name": "stdout",
     "output_type": "stream",
     "text": [
      "Average Loss for Epoch 530: 3.0553\n",
      "Epoch 531\n"
     ]
    },
    {
     "name": "stderr",
     "output_type": "stream",
     "text": [
      " 53%|█████▎    | 531/1000 [41:13<34:21,  4.40s/it]"
     ]
    },
    {
     "name": "stdout",
     "output_type": "stream",
     "text": [
      "Average Loss for Epoch 531: 3.6507\n",
      "Epoch 532\n"
     ]
    },
    {
     "name": "stderr",
     "output_type": "stream",
     "text": [
      " 53%|█████▎    | 532/1000 [41:17<33:56,  4.35s/it]"
     ]
    },
    {
     "name": "stdout",
     "output_type": "stream",
     "text": [
      "Average Loss for Epoch 532: 3.4253\n",
      "Epoch 533\n"
     ]
    },
    {
     "name": "stderr",
     "output_type": "stream",
     "text": [
      " 53%|█████▎    | 533/1000 [41:21<33:30,  4.31s/it]"
     ]
    },
    {
     "name": "stdout",
     "output_type": "stream",
     "text": [
      "Average Loss for Epoch 533: 3.4661\n",
      "Epoch 534\n"
     ]
    },
    {
     "name": "stderr",
     "output_type": "stream",
     "text": [
      " 53%|█████▎    | 534/1000 [41:26<33:41,  4.34s/it]"
     ]
    },
    {
     "name": "stdout",
     "output_type": "stream",
     "text": [
      "Average Loss for Epoch 534: 3.0089\n",
      "Epoch 535\n"
     ]
    },
    {
     "name": "stderr",
     "output_type": "stream",
     "text": [
      " 54%|█████▎    | 535/1000 [41:30<33:55,  4.38s/it]"
     ]
    },
    {
     "name": "stdout",
     "output_type": "stream",
     "text": [
      "Average Loss for Epoch 535: 2.9486\n",
      "Epoch 536\n"
     ]
    },
    {
     "name": "stderr",
     "output_type": "stream",
     "text": [
      " 54%|█████▎    | 536/1000 [41:35<35:28,  4.59s/it]"
     ]
    },
    {
     "name": "stdout",
     "output_type": "stream",
     "text": [
      "Average Loss for Epoch 536: 3.0619\n",
      "Epoch 537\n"
     ]
    },
    {
     "name": "stderr",
     "output_type": "stream",
     "text": [
      " 54%|█████▎    | 537/1000 [41:40<35:10,  4.56s/it]"
     ]
    },
    {
     "name": "stdout",
     "output_type": "stream",
     "text": [
      "Average Loss for Epoch 537: 2.9518\n",
      "Epoch 538\n"
     ]
    },
    {
     "name": "stderr",
     "output_type": "stream",
     "text": [
      " 54%|█████▍    | 538/1000 [41:44<34:18,  4.46s/it]"
     ]
    },
    {
     "name": "stdout",
     "output_type": "stream",
     "text": [
      "Average Loss for Epoch 538: 3.1235\n",
      "Epoch 539\n"
     ]
    },
    {
     "name": "stderr",
     "output_type": "stream",
     "text": [
      " 54%|█████▍    | 539/1000 [41:48<33:53,  4.41s/it]"
     ]
    },
    {
     "name": "stdout",
     "output_type": "stream",
     "text": [
      "Average Loss for Epoch 539: 3.4106\n",
      "Epoch 540\n"
     ]
    },
    {
     "name": "stderr",
     "output_type": "stream",
     "text": [
      " 54%|█████▍    | 540/1000 [41:53<33:57,  4.43s/it]"
     ]
    },
    {
     "name": "stdout",
     "output_type": "stream",
     "text": [
      "Average Loss for Epoch 540: 3.7799\n",
      "Epoch 541\n"
     ]
    },
    {
     "name": "stderr",
     "output_type": "stream",
     "text": [
      " 54%|█████▍    | 541/1000 [41:57<33:40,  4.40s/it]"
     ]
    },
    {
     "name": "stdout",
     "output_type": "stream",
     "text": [
      "Average Loss for Epoch 541: 3.3938\n",
      "Epoch 542\n"
     ]
    },
    {
     "name": "stderr",
     "output_type": "stream",
     "text": [
      " 54%|█████▍    | 542/1000 [42:01<33:15,  4.36s/it]"
     ]
    },
    {
     "name": "stdout",
     "output_type": "stream",
     "text": [
      "Average Loss for Epoch 542: 2.7272\n",
      "Epoch 543\n"
     ]
    },
    {
     "name": "stderr",
     "output_type": "stream",
     "text": [
      " 54%|█████▍    | 543/1000 [42:06<33:01,  4.33s/it]"
     ]
    },
    {
     "name": "stdout",
     "output_type": "stream",
     "text": [
      "Average Loss for Epoch 543: 3.3685\n",
      "Epoch 544\n"
     ]
    },
    {
     "name": "stderr",
     "output_type": "stream",
     "text": [
      " 54%|█████▍    | 544/1000 [42:10<33:03,  4.35s/it]"
     ]
    },
    {
     "name": "stdout",
     "output_type": "stream",
     "text": [
      "Average Loss for Epoch 544: 3.2947\n",
      "Epoch 545\n"
     ]
    },
    {
     "name": "stderr",
     "output_type": "stream",
     "text": [
      " 55%|█████▍    | 545/1000 [42:14<32:45,  4.32s/it]"
     ]
    },
    {
     "name": "stdout",
     "output_type": "stream",
     "text": [
      "Average Loss for Epoch 545: 3.1460\n",
      "Epoch 546\n"
     ]
    },
    {
     "name": "stderr",
     "output_type": "stream",
     "text": [
      " 55%|█████▍    | 546/1000 [42:19<32:21,  4.28s/it]"
     ]
    },
    {
     "name": "stdout",
     "output_type": "stream",
     "text": [
      "Average Loss for Epoch 546: 3.8052\n",
      "Epoch 547\n"
     ]
    },
    {
     "name": "stderr",
     "output_type": "stream",
     "text": [
      " 55%|█████▍    | 547/1000 [42:23<32:36,  4.32s/it]"
     ]
    },
    {
     "name": "stdout",
     "output_type": "stream",
     "text": [
      "Average Loss for Epoch 547: 3.2886\n",
      "Epoch 548\n"
     ]
    },
    {
     "name": "stderr",
     "output_type": "stream",
     "text": [
      " 55%|█████▍    | 548/1000 [42:27<32:25,  4.30s/it]"
     ]
    },
    {
     "name": "stdout",
     "output_type": "stream",
     "text": [
      "Average Loss for Epoch 548: 3.7197\n",
      "Epoch 549\n"
     ]
    },
    {
     "name": "stderr",
     "output_type": "stream",
     "text": [
      " 55%|█████▍    | 549/1000 [42:31<32:13,  4.29s/it]"
     ]
    },
    {
     "name": "stdout",
     "output_type": "stream",
     "text": [
      "Average Loss for Epoch 549: 3.2906\n",
      "Epoch 550\n"
     ]
    },
    {
     "name": "stderr",
     "output_type": "stream",
     "text": [
      " 55%|█████▌    | 550/1000 [42:36<31:56,  4.26s/it]"
     ]
    },
    {
     "name": "stdout",
     "output_type": "stream",
     "text": [
      "Average Loss for Epoch 550: 3.4923\n",
      "Epoch 551\n"
     ]
    },
    {
     "name": "stderr",
     "output_type": "stream",
     "text": [
      " 55%|█████▌    | 551/1000 [42:40<32:44,  4.38s/it]"
     ]
    },
    {
     "name": "stdout",
     "output_type": "stream",
     "text": [
      "Average Loss for Epoch 551: 3.4787\n",
      "Epoch 552\n"
     ]
    },
    {
     "name": "stderr",
     "output_type": "stream",
     "text": [
      " 55%|█████▌    | 552/1000 [42:45<32:30,  4.35s/it]"
     ]
    },
    {
     "name": "stdout",
     "output_type": "stream",
     "text": [
      "Average Loss for Epoch 552: 3.2173\n",
      "Epoch 553\n"
     ]
    },
    {
     "name": "stderr",
     "output_type": "stream",
     "text": [
      " 55%|█████▌    | 553/1000 [42:49<33:19,  4.47s/it]"
     ]
    },
    {
     "name": "stdout",
     "output_type": "stream",
     "text": [
      "Average Loss for Epoch 553: 3.6573\n",
      "Epoch 554\n"
     ]
    },
    {
     "name": "stderr",
     "output_type": "stream",
     "text": [
      " 55%|█████▌    | 554/1000 [42:54<33:07,  4.46s/it]"
     ]
    },
    {
     "name": "stdout",
     "output_type": "stream",
     "text": [
      "Average Loss for Epoch 554: 2.7140\n",
      "Epoch 555\n"
     ]
    },
    {
     "name": "stderr",
     "output_type": "stream",
     "text": [
      " 56%|█████▌    | 555/1000 [42:58<32:46,  4.42s/it]"
     ]
    },
    {
     "name": "stdout",
     "output_type": "stream",
     "text": [
      "Average Loss for Epoch 555: 3.0400\n",
      "Epoch 556\n"
     ]
    },
    {
     "name": "stderr",
     "output_type": "stream",
     "text": [
      " 56%|█████▌    | 556/1000 [43:02<32:20,  4.37s/it]"
     ]
    },
    {
     "name": "stdout",
     "output_type": "stream",
     "text": [
      "Average Loss for Epoch 556: 3.8039\n",
      "Epoch 557\n"
     ]
    },
    {
     "name": "stderr",
     "output_type": "stream",
     "text": [
      " 56%|█████▌    | 557/1000 [43:07<31:55,  4.32s/it]"
     ]
    },
    {
     "name": "stdout",
     "output_type": "stream",
     "text": [
      "Average Loss for Epoch 557: 3.0235\n",
      "Epoch 558\n"
     ]
    },
    {
     "name": "stderr",
     "output_type": "stream",
     "text": [
      " 56%|█████▌    | 558/1000 [43:11<32:02,  4.35s/it]"
     ]
    },
    {
     "name": "stdout",
     "output_type": "stream",
     "text": [
      "Average Loss for Epoch 558: 3.4580\n",
      "Epoch 559\n"
     ]
    },
    {
     "name": "stderr",
     "output_type": "stream",
     "text": [
      " 56%|█████▌    | 559/1000 [43:15<31:38,  4.30s/it]"
     ]
    },
    {
     "name": "stdout",
     "output_type": "stream",
     "text": [
      "Average Loss for Epoch 559: 3.5325\n",
      "Epoch 560\n"
     ]
    },
    {
     "name": "stderr",
     "output_type": "stream",
     "text": [
      " 56%|█████▌    | 560/1000 [43:19<31:28,  4.29s/it]"
     ]
    },
    {
     "name": "stdout",
     "output_type": "stream",
     "text": [
      "Average Loss for Epoch 560: 3.8099\n",
      "Epoch 561\n"
     ]
    },
    {
     "name": "stderr",
     "output_type": "stream",
     "text": [
      " 56%|█████▌    | 561/1000 [43:24<31:33,  4.31s/it]"
     ]
    },
    {
     "name": "stdout",
     "output_type": "stream",
     "text": [
      "Average Loss for Epoch 561: 2.9566\n",
      "Epoch 562\n"
     ]
    },
    {
     "name": "stderr",
     "output_type": "stream",
     "text": [
      " 56%|█████▌    | 562/1000 [43:28<31:22,  4.30s/it]"
     ]
    },
    {
     "name": "stdout",
     "output_type": "stream",
     "text": [
      "Average Loss for Epoch 562: 3.4687\n",
      "Epoch 563\n"
     ]
    },
    {
     "name": "stderr",
     "output_type": "stream",
     "text": [
      " 56%|█████▋    | 563/1000 [43:32<31:01,  4.26s/it]"
     ]
    },
    {
     "name": "stdout",
     "output_type": "stream",
     "text": [
      "Average Loss for Epoch 563: 3.5638\n",
      "Epoch 564\n"
     ]
    },
    {
     "name": "stderr",
     "output_type": "stream",
     "text": [
      " 56%|█████▋    | 564/1000 [43:37<32:30,  4.47s/it]"
     ]
    },
    {
     "name": "stdout",
     "output_type": "stream",
     "text": [
      "Average Loss for Epoch 564: 3.2689\n",
      "Epoch 565\n"
     ]
    },
    {
     "name": "stderr",
     "output_type": "stream",
     "text": [
      " 56%|█████▋    | 565/1000 [43:42<32:11,  4.44s/it]"
     ]
    },
    {
     "name": "stdout",
     "output_type": "stream",
     "text": [
      "Average Loss for Epoch 565: 2.9895\n",
      "Epoch 566\n"
     ]
    },
    {
     "name": "stderr",
     "output_type": "stream",
     "text": [
      " 57%|█████▋    | 566/1000 [43:46<31:30,  4.36s/it]"
     ]
    },
    {
     "name": "stdout",
     "output_type": "stream",
     "text": [
      "Average Loss for Epoch 566: 3.1745\n",
      "Epoch 567\n"
     ]
    },
    {
     "name": "stderr",
     "output_type": "stream",
     "text": [
      " 57%|█████▋    | 567/1000 [43:50<31:00,  4.30s/it]"
     ]
    },
    {
     "name": "stdout",
     "output_type": "stream",
     "text": [
      "Average Loss for Epoch 567: 2.8484\n",
      "Epoch 568\n"
     ]
    },
    {
     "name": "stderr",
     "output_type": "stream",
     "text": [
      " 57%|█████▋    | 568/1000 [43:54<31:35,  4.39s/it]"
     ]
    },
    {
     "name": "stdout",
     "output_type": "stream",
     "text": [
      "Average Loss for Epoch 568: 3.1634\n",
      "Epoch 569\n"
     ]
    },
    {
     "name": "stderr",
     "output_type": "stream",
     "text": [
      " 57%|█████▋    | 569/1000 [43:59<31:32,  4.39s/it]"
     ]
    },
    {
     "name": "stdout",
     "output_type": "stream",
     "text": [
      "Average Loss for Epoch 569: 3.0507\n",
      "Epoch 570\n"
     ]
    },
    {
     "name": "stderr",
     "output_type": "stream",
     "text": [
      " 57%|█████▋    | 570/1000 [44:03<31:13,  4.36s/it]"
     ]
    },
    {
     "name": "stdout",
     "output_type": "stream",
     "text": [
      "Average Loss for Epoch 570: 3.2062\n",
      "Epoch 571\n"
     ]
    },
    {
     "name": "stderr",
     "output_type": "stream",
     "text": [
      " 57%|█████▋    | 571/1000 [44:08<31:28,  4.40s/it]"
     ]
    },
    {
     "name": "stdout",
     "output_type": "stream",
     "text": [
      "Average Loss for Epoch 571: 3.0835\n",
      "Epoch 572\n"
     ]
    },
    {
     "name": "stderr",
     "output_type": "stream",
     "text": [
      " 57%|█████▋    | 572/1000 [44:12<30:52,  4.33s/it]"
     ]
    },
    {
     "name": "stdout",
     "output_type": "stream",
     "text": [
      "Average Loss for Epoch 572: 3.3806\n",
      "Epoch 573\n"
     ]
    },
    {
     "name": "stderr",
     "output_type": "stream",
     "text": [
      " 57%|█████▋    | 573/1000 [44:16<30:35,  4.30s/it]"
     ]
    },
    {
     "name": "stdout",
     "output_type": "stream",
     "text": [
      "Average Loss for Epoch 573: 3.0331\n",
      "Epoch 574\n"
     ]
    },
    {
     "name": "stderr",
     "output_type": "stream",
     "text": [
      " 57%|█████▋    | 574/1000 [44:20<30:27,  4.29s/it]"
     ]
    },
    {
     "name": "stdout",
     "output_type": "stream",
     "text": [
      "Average Loss for Epoch 574: 2.8181\n",
      "Epoch 575\n"
     ]
    },
    {
     "name": "stderr",
     "output_type": "stream",
     "text": [
      " 57%|█████▊    | 575/1000 [44:25<30:42,  4.34s/it]"
     ]
    },
    {
     "name": "stdout",
     "output_type": "stream",
     "text": [
      "Average Loss for Epoch 575: 3.6371\n",
      "Epoch 576\n"
     ]
    },
    {
     "name": "stderr",
     "output_type": "stream",
     "text": [
      " 58%|█████▊    | 576/1000 [44:29<30:24,  4.30s/it]"
     ]
    },
    {
     "name": "stdout",
     "output_type": "stream",
     "text": [
      "Average Loss for Epoch 576: 3.3533\n",
      "Epoch 577\n"
     ]
    },
    {
     "name": "stderr",
     "output_type": "stream",
     "text": [
      " 58%|█████▊    | 577/1000 [44:33<30:03,  4.26s/it]"
     ]
    },
    {
     "name": "stdout",
     "output_type": "stream",
     "text": [
      "Average Loss for Epoch 577: 2.8469\n",
      "Epoch 578\n"
     ]
    },
    {
     "name": "stderr",
     "output_type": "stream",
     "text": [
      " 58%|█████▊    | 578/1000 [44:38<30:34,  4.35s/it]"
     ]
    },
    {
     "name": "stdout",
     "output_type": "stream",
     "text": [
      "Average Loss for Epoch 578: 3.1087\n",
      "Epoch 579\n"
     ]
    },
    {
     "name": "stderr",
     "output_type": "stream",
     "text": [
      " 58%|█████▊    | 579/1000 [44:42<30:16,  4.31s/it]"
     ]
    },
    {
     "name": "stdout",
     "output_type": "stream",
     "text": [
      "Average Loss for Epoch 579: 3.8010\n",
      "Epoch 580\n"
     ]
    },
    {
     "name": "stderr",
     "output_type": "stream",
     "text": [
      " 58%|█████▊    | 580/1000 [44:46<30:17,  4.33s/it]"
     ]
    },
    {
     "name": "stdout",
     "output_type": "stream",
     "text": [
      "Average Loss for Epoch 580: 2.8208\n",
      "Epoch 581\n"
     ]
    },
    {
     "name": "stderr",
     "output_type": "stream",
     "text": [
      " 58%|█████▊    | 581/1000 [44:51<30:47,  4.41s/it]"
     ]
    },
    {
     "name": "stdout",
     "output_type": "stream",
     "text": [
      "Average Loss for Epoch 581: 3.3381\n",
      "Epoch 582\n"
     ]
    },
    {
     "name": "stderr",
     "output_type": "stream",
     "text": [
      " 58%|█████▊    | 582/1000 [44:55<30:45,  4.42s/it]"
     ]
    },
    {
     "name": "stdout",
     "output_type": "stream",
     "text": [
      "Average Loss for Epoch 582: 3.0454\n",
      "Epoch 583\n"
     ]
    },
    {
     "name": "stderr",
     "output_type": "stream",
     "text": [
      " 58%|█████▊    | 583/1000 [45:00<30:19,  4.36s/it]"
     ]
    },
    {
     "name": "stdout",
     "output_type": "stream",
     "text": [
      "Average Loss for Epoch 583: 3.8410\n",
      "Epoch 584\n"
     ]
    },
    {
     "name": "stderr",
     "output_type": "stream",
     "text": [
      " 58%|█████▊    | 584/1000 [45:04<30:06,  4.34s/it]"
     ]
    },
    {
     "name": "stdout",
     "output_type": "stream",
     "text": [
      "Average Loss for Epoch 584: 3.0451\n",
      "Epoch 585\n"
     ]
    },
    {
     "name": "stderr",
     "output_type": "stream",
     "text": [
      " 58%|█████▊    | 585/1000 [45:08<30:12,  4.37s/it]"
     ]
    },
    {
     "name": "stdout",
     "output_type": "stream",
     "text": [
      "Average Loss for Epoch 585: 3.1096\n",
      "Epoch 586\n"
     ]
    },
    {
     "name": "stderr",
     "output_type": "stream",
     "text": [
      " 59%|█████▊    | 586/1000 [45:12<29:43,  4.31s/it]"
     ]
    },
    {
     "name": "stdout",
     "output_type": "stream",
     "text": [
      "Average Loss for Epoch 586: 3.1251\n",
      "Epoch 587\n"
     ]
    },
    {
     "name": "stderr",
     "output_type": "stream",
     "text": [
      " 59%|█████▊    | 587/1000 [45:17<29:25,  4.27s/it]"
     ]
    },
    {
     "name": "stdout",
     "output_type": "stream",
     "text": [
      "Average Loss for Epoch 587: 4.1204\n",
      "Epoch 588\n"
     ]
    },
    {
     "name": "stderr",
     "output_type": "stream",
     "text": [
      " 59%|█████▉    | 588/1000 [45:21<29:12,  4.25s/it]"
     ]
    },
    {
     "name": "stdout",
     "output_type": "stream",
     "text": [
      "Average Loss for Epoch 588: 3.0040\n",
      "Epoch 589\n"
     ]
    },
    {
     "name": "stderr",
     "output_type": "stream",
     "text": [
      " 59%|█████▉    | 589/1000 [45:26<30:01,  4.38s/it]"
     ]
    },
    {
     "name": "stdout",
     "output_type": "stream",
     "text": [
      "Average Loss for Epoch 589: 2.9608\n",
      "Epoch 590\n"
     ]
    },
    {
     "name": "stderr",
     "output_type": "stream",
     "text": [
      " 59%|█████▉    | 590/1000 [45:30<29:50,  4.37s/it]"
     ]
    },
    {
     "name": "stdout",
     "output_type": "stream",
     "text": [
      "Average Loss for Epoch 590: 3.5869\n",
      "Epoch 591\n"
     ]
    },
    {
     "name": "stderr",
     "output_type": "stream",
     "text": [
      " 59%|█████▉    | 591/1000 [45:34<29:26,  4.32s/it]"
     ]
    },
    {
     "name": "stdout",
     "output_type": "stream",
     "text": [
      "Average Loss for Epoch 591: 3.7118\n",
      "Epoch 592\n"
     ]
    },
    {
     "name": "stderr",
     "output_type": "stream",
     "text": [
      " 59%|█████▉    | 592/1000 [45:39<29:42,  4.37s/it]"
     ]
    },
    {
     "name": "stdout",
     "output_type": "stream",
     "text": [
      "Average Loss for Epoch 592: 3.2014\n",
      "Epoch 593\n"
     ]
    },
    {
     "name": "stderr",
     "output_type": "stream",
     "text": [
      " 59%|█████▉    | 593/1000 [45:43<30:37,  4.51s/it]"
     ]
    },
    {
     "name": "stdout",
     "output_type": "stream",
     "text": [
      "Average Loss for Epoch 593: 2.9640\n",
      "Epoch 594\n"
     ]
    },
    {
     "name": "stderr",
     "output_type": "stream",
     "text": [
      " 59%|█████▉    | 594/1000 [45:48<29:48,  4.41s/it]"
     ]
    },
    {
     "name": "stdout",
     "output_type": "stream",
     "text": [
      "Average Loss for Epoch 594: 2.4799\n",
      "Epoch 595\n"
     ]
    },
    {
     "name": "stderr",
     "output_type": "stream",
     "text": [
      " 60%|█████▉    | 595/1000 [45:52<29:15,  4.33s/it]"
     ]
    },
    {
     "name": "stdout",
     "output_type": "stream",
     "text": [
      "Average Loss for Epoch 595: 3.5193\n",
      "Epoch 596\n"
     ]
    },
    {
     "name": "stderr",
     "output_type": "stream",
     "text": [
      " 60%|█████▉    | 596/1000 [45:56<29:32,  4.39s/it]"
     ]
    },
    {
     "name": "stdout",
     "output_type": "stream",
     "text": [
      "Average Loss for Epoch 596: 2.6508\n",
      "Epoch 597\n"
     ]
    },
    {
     "name": "stderr",
     "output_type": "stream",
     "text": [
      " 60%|█████▉    | 597/1000 [46:01<29:19,  4.37s/it]"
     ]
    },
    {
     "name": "stdout",
     "output_type": "stream",
     "text": [
      "Average Loss for Epoch 597: 2.7747\n",
      "Epoch 598\n"
     ]
    },
    {
     "name": "stderr",
     "output_type": "stream",
     "text": [
      " 60%|█████▉    | 598/1000 [46:05<28:56,  4.32s/it]"
     ]
    },
    {
     "name": "stdout",
     "output_type": "stream",
     "text": [
      "Average Loss for Epoch 598: 3.3172\n",
      "Epoch 599\n"
     ]
    },
    {
     "name": "stderr",
     "output_type": "stream",
     "text": [
      " 60%|█████▉    | 599/1000 [46:09<29:08,  4.36s/it]"
     ]
    },
    {
     "name": "stdout",
     "output_type": "stream",
     "text": [
      "Average Loss for Epoch 599: 2.9430\n",
      "Epoch 600\n"
     ]
    },
    {
     "name": "stderr",
     "output_type": "stream",
     "text": [
      " 60%|██████    | 600/1000 [46:14<28:53,  4.33s/it]"
     ]
    },
    {
     "name": "stdout",
     "output_type": "stream",
     "text": [
      "Average Loss for Epoch 600: 3.9617\n",
      "Epoch 601\n"
     ]
    },
    {
     "name": "stderr",
     "output_type": "stream",
     "text": [
      " 60%|██████    | 601/1000 [46:18<28:30,  4.29s/it]"
     ]
    },
    {
     "name": "stdout",
     "output_type": "stream",
     "text": [
      "Average Loss for Epoch 601: 3.5592\n",
      "Epoch 602\n"
     ]
    },
    {
     "name": "stderr",
     "output_type": "stream",
     "text": [
      " 60%|██████    | 602/1000 [46:22<28:17,  4.27s/it]"
     ]
    },
    {
     "name": "stdout",
     "output_type": "stream",
     "text": [
      "Average Loss for Epoch 602: 3.1690\n",
      "Epoch 603\n"
     ]
    },
    {
     "name": "stderr",
     "output_type": "stream",
     "text": [
      " 60%|██████    | 603/1000 [46:26<28:33,  4.32s/it]"
     ]
    },
    {
     "name": "stdout",
     "output_type": "stream",
     "text": [
      "Average Loss for Epoch 603: 2.9622\n",
      "Epoch 604\n"
     ]
    },
    {
     "name": "stderr",
     "output_type": "stream",
     "text": [
      " 60%|██████    | 604/1000 [46:31<28:16,  4.28s/it]"
     ]
    },
    {
     "name": "stdout",
     "output_type": "stream",
     "text": [
      "Average Loss for Epoch 604: 3.2824\n",
      "Epoch 605\n"
     ]
    },
    {
     "name": "stderr",
     "output_type": "stream",
     "text": [
      " 60%|██████    | 605/1000 [46:35<28:01,  4.26s/it]"
     ]
    },
    {
     "name": "stdout",
     "output_type": "stream",
     "text": [
      "Average Loss for Epoch 605: 3.1419\n",
      "Epoch 606\n"
     ]
    },
    {
     "name": "stderr",
     "output_type": "stream",
     "text": [
      " 61%|██████    | 606/1000 [46:39<28:04,  4.28s/it]"
     ]
    },
    {
     "name": "stdout",
     "output_type": "stream",
     "text": [
      "Average Loss for Epoch 606: 3.6122\n",
      "Epoch 607\n"
     ]
    },
    {
     "name": "stderr",
     "output_type": "stream",
     "text": [
      " 61%|██████    | 607/1000 [46:43<27:59,  4.27s/it]"
     ]
    },
    {
     "name": "stdout",
     "output_type": "stream",
     "text": [
      "Average Loss for Epoch 607: 3.4965\n",
      "Epoch 608\n"
     ]
    },
    {
     "name": "stderr",
     "output_type": "stream",
     "text": [
      " 61%|██████    | 608/1000 [46:48<28:43,  4.40s/it]"
     ]
    },
    {
     "name": "stdout",
     "output_type": "stream",
     "text": [
      "Average Loss for Epoch 608: 3.2261\n",
      "Epoch 609\n"
     ]
    },
    {
     "name": "stderr",
     "output_type": "stream",
     "text": [
      " 61%|██████    | 609/1000 [46:53<29:50,  4.58s/it]"
     ]
    },
    {
     "name": "stdout",
     "output_type": "stream",
     "text": [
      "Average Loss for Epoch 609: 3.1545\n",
      "Epoch 610\n"
     ]
    },
    {
     "name": "stderr",
     "output_type": "stream",
     "text": [
      " 61%|██████    | 610/1000 [46:57<29:18,  4.51s/it]"
     ]
    },
    {
     "name": "stdout",
     "output_type": "stream",
     "text": [
      "Average Loss for Epoch 610: 2.8492\n",
      "Epoch 611\n"
     ]
    },
    {
     "name": "stderr",
     "output_type": "stream",
     "text": [
      " 61%|██████    | 611/1000 [47:02<28:58,  4.47s/it]"
     ]
    },
    {
     "name": "stdout",
     "output_type": "stream",
     "text": [
      "Average Loss for Epoch 611: 3.4063\n",
      "Epoch 612\n"
     ]
    },
    {
     "name": "stderr",
     "output_type": "stream",
     "text": [
      " 61%|██████    | 612/1000 [47:06<28:25,  4.40s/it]"
     ]
    },
    {
     "name": "stdout",
     "output_type": "stream",
     "text": [
      "Average Loss for Epoch 612: 2.9428\n",
      "Epoch 613\n"
     ]
    },
    {
     "name": "stderr",
     "output_type": "stream",
     "text": [
      " 61%|██████▏   | 613/1000 [47:10<28:33,  4.43s/it]"
     ]
    },
    {
     "name": "stdout",
     "output_type": "stream",
     "text": [
      "Average Loss for Epoch 613: 2.8945\n",
      "Epoch 614\n"
     ]
    },
    {
     "name": "stderr",
     "output_type": "stream",
     "text": [
      " 61%|██████▏   | 614/1000 [47:15<28:07,  4.37s/it]"
     ]
    },
    {
     "name": "stdout",
     "output_type": "stream",
     "text": [
      "Average Loss for Epoch 614: 3.1512\n",
      "Epoch 615\n"
     ]
    },
    {
     "name": "stderr",
     "output_type": "stream",
     "text": [
      " 62%|██████▏   | 615/1000 [47:19<27:51,  4.34s/it]"
     ]
    },
    {
     "name": "stdout",
     "output_type": "stream",
     "text": [
      "Average Loss for Epoch 615: 3.2213\n",
      "Epoch 616\n"
     ]
    },
    {
     "name": "stderr",
     "output_type": "stream",
     "text": [
      " 62%|██████▏   | 616/1000 [47:24<28:17,  4.42s/it]"
     ]
    },
    {
     "name": "stdout",
     "output_type": "stream",
     "text": [
      "Average Loss for Epoch 616: 3.1467\n",
      "Epoch 617\n"
     ]
    },
    {
     "name": "stderr",
     "output_type": "stream",
     "text": [
      " 62%|██████▏   | 617/1000 [47:28<27:55,  4.38s/it]"
     ]
    },
    {
     "name": "stdout",
     "output_type": "stream",
     "text": [
      "Average Loss for Epoch 617: 3.4330\n",
      "Epoch 618\n"
     ]
    },
    {
     "name": "stderr",
     "output_type": "stream",
     "text": [
      " 62%|██████▏   | 618/1000 [47:32<27:52,  4.38s/it]"
     ]
    },
    {
     "name": "stdout",
     "output_type": "stream",
     "text": [
      "Average Loss for Epoch 618: 2.9168\n",
      "Epoch 619\n"
     ]
    },
    {
     "name": "stderr",
     "output_type": "stream",
     "text": [
      " 62%|██████▏   | 619/1000 [47:36<27:24,  4.32s/it]"
     ]
    },
    {
     "name": "stdout",
     "output_type": "stream",
     "text": [
      "Average Loss for Epoch 619: 2.8686\n",
      "Epoch 620\n"
     ]
    },
    {
     "name": "stderr",
     "output_type": "stream",
     "text": [
      " 62%|██████▏   | 620/1000 [47:41<27:40,  4.37s/it]"
     ]
    },
    {
     "name": "stdout",
     "output_type": "stream",
     "text": [
      "Average Loss for Epoch 620: 3.7251\n",
      "Epoch 621\n"
     ]
    },
    {
     "name": "stderr",
     "output_type": "stream",
     "text": [
      " 62%|██████▏   | 621/1000 [47:45<27:21,  4.33s/it]"
     ]
    },
    {
     "name": "stdout",
     "output_type": "stream",
     "text": [
      "Average Loss for Epoch 621: 3.3218\n",
      "Epoch 622\n"
     ]
    },
    {
     "name": "stderr",
     "output_type": "stream",
     "text": [
      " 62%|██████▏   | 622/1000 [47:49<27:05,  4.30s/it]"
     ]
    },
    {
     "name": "stdout",
     "output_type": "stream",
     "text": [
      "Average Loss for Epoch 622: 3.8573\n",
      "Epoch 623\n"
     ]
    },
    {
     "name": "stderr",
     "output_type": "stream",
     "text": [
      " 62%|██████▏   | 623/1000 [47:54<28:25,  4.52s/it]"
     ]
    },
    {
     "name": "stdout",
     "output_type": "stream",
     "text": [
      "Average Loss for Epoch 623: 2.8454\n",
      "Epoch 624\n"
     ]
    },
    {
     "name": "stderr",
     "output_type": "stream",
     "text": [
      " 62%|██████▏   | 624/1000 [47:59<28:46,  4.59s/it]"
     ]
    },
    {
     "name": "stdout",
     "output_type": "stream",
     "text": [
      "Average Loss for Epoch 624: 2.8598\n",
      "Epoch 625\n"
     ]
    },
    {
     "name": "stderr",
     "output_type": "stream",
     "text": [
      " 62%|██████▎   | 625/1000 [48:03<27:58,  4.48s/it]"
     ]
    },
    {
     "name": "stdout",
     "output_type": "stream",
     "text": [
      "Average Loss for Epoch 625: 3.5524\n",
      "Epoch 626\n"
     ]
    },
    {
     "name": "stderr",
     "output_type": "stream",
     "text": [
      " 63%|██████▎   | 626/1000 [48:08<27:49,  4.46s/it]"
     ]
    },
    {
     "name": "stdout",
     "output_type": "stream",
     "text": [
      "Average Loss for Epoch 626: 3.5149\n",
      "Epoch 627\n"
     ]
    },
    {
     "name": "stderr",
     "output_type": "stream",
     "text": [
      " 63%|██████▎   | 627/1000 [48:12<27:21,  4.40s/it]"
     ]
    },
    {
     "name": "stdout",
     "output_type": "stream",
     "text": [
      "Average Loss for Epoch 627: 3.1764\n",
      "Epoch 628\n"
     ]
    },
    {
     "name": "stderr",
     "output_type": "stream",
     "text": [
      " 63%|██████▎   | 628/1000 [48:16<26:52,  4.34s/it]"
     ]
    },
    {
     "name": "stdout",
     "output_type": "stream",
     "text": [
      "Average Loss for Epoch 628: 3.1451\n",
      "Epoch 629\n"
     ]
    },
    {
     "name": "stderr",
     "output_type": "stream",
     "text": [
      " 63%|██████▎   | 629/1000 [48:20<26:33,  4.30s/it]"
     ]
    },
    {
     "name": "stdout",
     "output_type": "stream",
     "text": [
      "Average Loss for Epoch 629: 2.8729\n",
      "Epoch 630\n"
     ]
    },
    {
     "name": "stderr",
     "output_type": "stream",
     "text": [
      " 63%|██████▎   | 630/1000 [48:25<26:54,  4.36s/it]"
     ]
    },
    {
     "name": "stdout",
     "output_type": "stream",
     "text": [
      "Average Loss for Epoch 630: 2.7829\n",
      "Epoch 631\n"
     ]
    },
    {
     "name": "stderr",
     "output_type": "stream",
     "text": [
      " 63%|██████▎   | 631/1000 [48:29<26:38,  4.33s/it]"
     ]
    },
    {
     "name": "stdout",
     "output_type": "stream",
     "text": [
      "Average Loss for Epoch 631: 3.9575\n",
      "Epoch 632\n"
     ]
    },
    {
     "name": "stderr",
     "output_type": "stream",
     "text": [
      " 63%|██████▎   | 632/1000 [48:33<26:17,  4.29s/it]"
     ]
    },
    {
     "name": "stdout",
     "output_type": "stream",
     "text": [
      "Average Loss for Epoch 632: 3.3002\n",
      "Epoch 633\n"
     ]
    },
    {
     "name": "stderr",
     "output_type": "stream",
     "text": [
      " 63%|██████▎   | 633/1000 [48:38<26:35,  4.35s/it]"
     ]
    },
    {
     "name": "stdout",
     "output_type": "stream",
     "text": [
      "Average Loss for Epoch 633: 3.7265\n",
      "Epoch 634\n"
     ]
    },
    {
     "name": "stderr",
     "output_type": "stream",
     "text": [
      " 63%|██████▎   | 634/1000 [48:42<26:35,  4.36s/it]"
     ]
    },
    {
     "name": "stdout",
     "output_type": "stream",
     "text": [
      "Average Loss for Epoch 634: 2.8738\n",
      "Epoch 635\n"
     ]
    },
    {
     "name": "stderr",
     "output_type": "stream",
     "text": [
      " 64%|██████▎   | 635/1000 [48:47<26:45,  4.40s/it]"
     ]
    },
    {
     "name": "stdout",
     "output_type": "stream",
     "text": [
      "Average Loss for Epoch 635: 3.1383\n",
      "Epoch 636\n"
     ]
    },
    {
     "name": "stderr",
     "output_type": "stream",
     "text": [
      " 64%|██████▎   | 636/1000 [48:52<27:34,  4.55s/it]"
     ]
    },
    {
     "name": "stdout",
     "output_type": "stream",
     "text": [
      "Average Loss for Epoch 636: 2.9800\n",
      "Epoch 637\n"
     ]
    },
    {
     "name": "stderr",
     "output_type": "stream",
     "text": [
      " 64%|██████▎   | 637/1000 [48:56<27:35,  4.56s/it]"
     ]
    },
    {
     "name": "stdout",
     "output_type": "stream",
     "text": [
      "Average Loss for Epoch 637: 3.6865\n",
      "Epoch 638\n"
     ]
    },
    {
     "name": "stderr",
     "output_type": "stream",
     "text": [
      " 64%|██████▍   | 638/1000 [49:01<27:08,  4.50s/it]"
     ]
    },
    {
     "name": "stdout",
     "output_type": "stream",
     "text": [
      "Average Loss for Epoch 638: 2.8727\n",
      "Epoch 639\n"
     ]
    },
    {
     "name": "stderr",
     "output_type": "stream",
     "text": [
      " 64%|██████▍   | 639/1000 [49:05<26:47,  4.45s/it]"
     ]
    },
    {
     "name": "stdout",
     "output_type": "stream",
     "text": [
      "Average Loss for Epoch 639: 3.1124\n",
      "Epoch 640\n"
     ]
    },
    {
     "name": "stderr",
     "output_type": "stream",
     "text": [
      " 64%|██████▍   | 640/1000 [49:09<26:49,  4.47s/it]"
     ]
    },
    {
     "name": "stdout",
     "output_type": "stream",
     "text": [
      "Average Loss for Epoch 640: 2.9144\n",
      "Epoch 641\n"
     ]
    },
    {
     "name": "stderr",
     "output_type": "stream",
     "text": [
      " 64%|██████▍   | 641/1000 [49:14<26:20,  4.40s/it]"
     ]
    },
    {
     "name": "stdout",
     "output_type": "stream",
     "text": [
      "Average Loss for Epoch 641: 3.6684\n",
      "Epoch 642\n"
     ]
    },
    {
     "name": "stderr",
     "output_type": "stream",
     "text": [
      " 64%|██████▍   | 642/1000 [49:18<25:57,  4.35s/it]"
     ]
    },
    {
     "name": "stdout",
     "output_type": "stream",
     "text": [
      "Average Loss for Epoch 642: 3.4258\n",
      "Epoch 643\n"
     ]
    },
    {
     "name": "stderr",
     "output_type": "stream",
     "text": [
      " 64%|██████▍   | 643/1000 [49:22<25:41,  4.32s/it]"
     ]
    },
    {
     "name": "stdout",
     "output_type": "stream",
     "text": [
      "Average Loss for Epoch 643: 3.2778\n",
      "Epoch 644\n"
     ]
    },
    {
     "name": "stderr",
     "output_type": "stream",
     "text": [
      " 64%|██████▍   | 644/1000 [49:27<25:49,  4.35s/it]"
     ]
    },
    {
     "name": "stdout",
     "output_type": "stream",
     "text": [
      "Average Loss for Epoch 644: 2.9715\n",
      "Epoch 645\n"
     ]
    },
    {
     "name": "stderr",
     "output_type": "stream",
     "text": [
      " 64%|██████▍   | 645/1000 [49:31<25:30,  4.31s/it]"
     ]
    },
    {
     "name": "stdout",
     "output_type": "stream",
     "text": [
      "Average Loss for Epoch 645: 2.5771\n",
      "Epoch 646\n"
     ]
    },
    {
     "name": "stderr",
     "output_type": "stream",
     "text": [
      " 65%|██████▍   | 646/1000 [49:35<25:22,  4.30s/it]"
     ]
    },
    {
     "name": "stdout",
     "output_type": "stream",
     "text": [
      "Average Loss for Epoch 646: 3.0947\n",
      "Epoch 647\n"
     ]
    },
    {
     "name": "stderr",
     "output_type": "stream",
     "text": [
      " 65%|██████▍   | 647/1000 [49:40<25:36,  4.35s/it]"
     ]
    },
    {
     "name": "stdout",
     "output_type": "stream",
     "text": [
      "Average Loss for Epoch 647: 3.3386\n",
      "Epoch 648\n"
     ]
    },
    {
     "name": "stderr",
     "output_type": "stream",
     "text": [
      " 65%|██████▍   | 648/1000 [49:44<25:18,  4.31s/it]"
     ]
    },
    {
     "name": "stdout",
     "output_type": "stream",
     "text": [
      "Average Loss for Epoch 648: 2.8398\n",
      "Epoch 649\n"
     ]
    },
    {
     "name": "stderr",
     "output_type": "stream",
     "text": [
      " 65%|██████▍   | 649/1000 [49:48<25:51,  4.42s/it]"
     ]
    },
    {
     "name": "stdout",
     "output_type": "stream",
     "text": [
      "Average Loss for Epoch 649: 3.8606\n",
      "Epoch 650\n"
     ]
    },
    {
     "name": "stderr",
     "output_type": "stream",
     "text": [
      " 65%|██████▌   | 650/1000 [49:53<25:59,  4.46s/it]"
     ]
    },
    {
     "name": "stdout",
     "output_type": "stream",
     "text": [
      "Average Loss for Epoch 650: 3.1462\n",
      "Epoch 651\n"
     ]
    },
    {
     "name": "stderr",
     "output_type": "stream",
     "text": [
      " 65%|██████▌   | 651/1000 [49:57<25:44,  4.43s/it]"
     ]
    },
    {
     "name": "stdout",
     "output_type": "stream",
     "text": [
      "Average Loss for Epoch 651: 3.1913\n",
      "Epoch 652\n"
     ]
    },
    {
     "name": "stderr",
     "output_type": "stream",
     "text": [
      " 65%|██████▌   | 652/1000 [50:02<25:30,  4.40s/it]"
     ]
    },
    {
     "name": "stdout",
     "output_type": "stream",
     "text": [
      "Average Loss for Epoch 652: 2.8170\n",
      "Epoch 653\n"
     ]
    },
    {
     "name": "stderr",
     "output_type": "stream",
     "text": [
      " 65%|██████▌   | 653/1000 [50:06<25:05,  4.34s/it]"
     ]
    },
    {
     "name": "stdout",
     "output_type": "stream",
     "text": [
      "Average Loss for Epoch 653: 2.8877\n",
      "Epoch 654\n"
     ]
    },
    {
     "name": "stderr",
     "output_type": "stream",
     "text": [
      " 65%|██████▌   | 654/1000 [50:11<25:59,  4.51s/it]"
     ]
    },
    {
     "name": "stdout",
     "output_type": "stream",
     "text": [
      "Average Loss for Epoch 654: 3.1267\n",
      "Epoch 655\n"
     ]
    },
    {
     "name": "stderr",
     "output_type": "stream",
     "text": [
      " 66%|██████▌   | 655/1000 [50:15<25:31,  4.44s/it]"
     ]
    },
    {
     "name": "stdout",
     "output_type": "stream",
     "text": [
      "Average Loss for Epoch 655: 3.0643\n",
      "Epoch 656\n"
     ]
    },
    {
     "name": "stderr",
     "output_type": "stream",
     "text": [
      " 66%|██████▌   | 656/1000 [50:19<25:11,  4.40s/it]"
     ]
    },
    {
     "name": "stdout",
     "output_type": "stream",
     "text": [
      "Average Loss for Epoch 656: 3.3214\n",
      "Epoch 657\n"
     ]
    },
    {
     "name": "stderr",
     "output_type": "stream",
     "text": [
      " 66%|██████▌   | 657/1000 [50:24<25:14,  4.42s/it]"
     ]
    },
    {
     "name": "stdout",
     "output_type": "stream",
     "text": [
      "Average Loss for Epoch 657: 3.2671\n",
      "Epoch 658\n"
     ]
    },
    {
     "name": "stderr",
     "output_type": "stream",
     "text": [
      " 66%|██████▌   | 658/1000 [50:28<24:54,  4.37s/it]"
     ]
    },
    {
     "name": "stdout",
     "output_type": "stream",
     "text": [
      "Average Loss for Epoch 658: 3.0421\n",
      "Epoch 659\n"
     ]
    },
    {
     "name": "stderr",
     "output_type": "stream",
     "text": [
      " 66%|██████▌   | 659/1000 [50:32<24:29,  4.31s/it]"
     ]
    },
    {
     "name": "stdout",
     "output_type": "stream",
     "text": [
      "Average Loss for Epoch 659: 2.6547\n",
      "Epoch 660\n"
     ]
    },
    {
     "name": "stderr",
     "output_type": "stream",
     "text": [
      " 66%|██████▌   | 660/1000 [50:37<24:16,  4.28s/it]"
     ]
    },
    {
     "name": "stdout",
     "output_type": "stream",
     "text": [
      "Average Loss for Epoch 660: 2.8920\n",
      "Epoch 661\n"
     ]
    },
    {
     "name": "stderr",
     "output_type": "stream",
     "text": [
      " 66%|██████▌   | 661/1000 [50:41<24:32,  4.34s/it]"
     ]
    },
    {
     "name": "stdout",
     "output_type": "stream",
     "text": [
      "Average Loss for Epoch 661: 3.2004\n",
      "Epoch 662\n"
     ]
    },
    {
     "name": "stderr",
     "output_type": "stream",
     "text": [
      " 66%|██████▌   | 662/1000 [50:45<24:08,  4.29s/it]"
     ]
    },
    {
     "name": "stdout",
     "output_type": "stream",
     "text": [
      "Average Loss for Epoch 662: 3.2456\n",
      "Epoch 663\n"
     ]
    },
    {
     "name": "stderr",
     "output_type": "stream",
     "text": [
      " 66%|██████▋   | 663/1000 [50:50<24:31,  4.37s/it]"
     ]
    },
    {
     "name": "stdout",
     "output_type": "stream",
     "text": [
      "Average Loss for Epoch 663: 4.3023\n",
      "Epoch 664\n"
     ]
    },
    {
     "name": "stderr",
     "output_type": "stream",
     "text": [
      " 66%|██████▋   | 664/1000 [50:55<25:17,  4.52s/it]"
     ]
    },
    {
     "name": "stdout",
     "output_type": "stream",
     "text": [
      "Average Loss for Epoch 664: 2.8538\n",
      "Epoch 665\n"
     ]
    },
    {
     "name": "stderr",
     "output_type": "stream",
     "text": [
      " 66%|██████▋   | 665/1000 [50:59<25:02,  4.48s/it]"
     ]
    },
    {
     "name": "stdout",
     "output_type": "stream",
     "text": [
      "Average Loss for Epoch 665: 2.3656\n",
      "Epoch 666\n"
     ]
    },
    {
     "name": "stderr",
     "output_type": "stream",
     "text": [
      " 67%|██████▋   | 666/1000 [51:03<24:32,  4.41s/it]"
     ]
    },
    {
     "name": "stdout",
     "output_type": "stream",
     "text": [
      "Average Loss for Epoch 666: 3.2003\n",
      "Epoch 667\n"
     ]
    },
    {
     "name": "stderr",
     "output_type": "stream",
     "text": [
      " 67%|██████▋   | 667/1000 [51:07<24:11,  4.36s/it]"
     ]
    },
    {
     "name": "stdout",
     "output_type": "stream",
     "text": [
      "Average Loss for Epoch 667: 3.5316\n",
      "Epoch 668\n"
     ]
    },
    {
     "name": "stderr",
     "output_type": "stream",
     "text": [
      " 67%|██████▋   | 668/1000 [51:12<24:18,  4.39s/it]"
     ]
    },
    {
     "name": "stdout",
     "output_type": "stream",
     "text": [
      "Average Loss for Epoch 668: 2.9267\n",
      "Epoch 669\n"
     ]
    },
    {
     "name": "stderr",
     "output_type": "stream",
     "text": [
      " 67%|██████▋   | 669/1000 [51:16<23:56,  4.34s/it]"
     ]
    },
    {
     "name": "stdout",
     "output_type": "stream",
     "text": [
      "Average Loss for Epoch 669: 3.0517\n",
      "Epoch 670\n"
     ]
    },
    {
     "name": "stderr",
     "output_type": "stream",
     "text": [
      " 67%|██████▋   | 670/1000 [51:20<23:48,  4.33s/it]"
     ]
    },
    {
     "name": "stdout",
     "output_type": "stream",
     "text": [
      "Average Loss for Epoch 670: 3.1536\n",
      "Epoch 671\n"
     ]
    },
    {
     "name": "stderr",
     "output_type": "stream",
     "text": [
      " 67%|██████▋   | 671/1000 [51:25<23:57,  4.37s/it]"
     ]
    },
    {
     "name": "stdout",
     "output_type": "stream",
     "text": [
      "Average Loss for Epoch 671: 3.5794\n",
      "Epoch 672\n"
     ]
    },
    {
     "name": "stderr",
     "output_type": "stream",
     "text": [
      " 67%|██████▋   | 672/1000 [51:29<23:35,  4.31s/it]"
     ]
    },
    {
     "name": "stdout",
     "output_type": "stream",
     "text": [
      "Average Loss for Epoch 672: 3.8612\n",
      "Epoch 673\n"
     ]
    },
    {
     "name": "stderr",
     "output_type": "stream",
     "text": [
      " 67%|██████▋   | 673/1000 [51:33<23:17,  4.27s/it]"
     ]
    },
    {
     "name": "stdout",
     "output_type": "stream",
     "text": [
      "Average Loss for Epoch 673: 3.1333\n",
      "Epoch 674\n"
     ]
    },
    {
     "name": "stderr",
     "output_type": "stream",
     "text": [
      " 67%|██████▋   | 674/1000 [51:37<23:04,  4.25s/it]"
     ]
    },
    {
     "name": "stdout",
     "output_type": "stream",
     "text": [
      "Average Loss for Epoch 674: 3.1724\n",
      "Epoch 675\n"
     ]
    },
    {
     "name": "stderr",
     "output_type": "stream",
     "text": [
      " 68%|██████▊   | 675/1000 [51:42<23:19,  4.31s/it]"
     ]
    },
    {
     "name": "stdout",
     "output_type": "stream",
     "text": [
      "Average Loss for Epoch 675: 3.0594\n",
      "Epoch 676\n"
     ]
    },
    {
     "name": "stderr",
     "output_type": "stream",
     "text": [
      " 68%|██████▊   | 676/1000 [51:47<24:03,  4.45s/it]"
     ]
    },
    {
     "name": "stdout",
     "output_type": "stream",
     "text": [
      "Average Loss for Epoch 676: 3.2019\n",
      "Epoch 677\n"
     ]
    },
    {
     "name": "stderr",
     "output_type": "stream",
     "text": [
      " 68%|██████▊   | 677/1000 [51:51<23:36,  4.39s/it]"
     ]
    },
    {
     "name": "stdout",
     "output_type": "stream",
     "text": [
      "Average Loss for Epoch 677: 3.2787\n",
      "Epoch 678\n"
     ]
    },
    {
     "name": "stderr",
     "output_type": "stream",
     "text": [
      " 68%|██████▊   | 678/1000 [51:56<23:50,  4.44s/it]"
     ]
    },
    {
     "name": "stdout",
     "output_type": "stream",
     "text": [
      "Average Loss for Epoch 678: 2.7782\n",
      "Epoch 679\n"
     ]
    },
    {
     "name": "stderr",
     "output_type": "stream",
     "text": [
      " 68%|██████▊   | 679/1000 [52:00<23:35,  4.41s/it]"
     ]
    },
    {
     "name": "stdout",
     "output_type": "stream",
     "text": [
      "Average Loss for Epoch 679: 2.8677\n",
      "Epoch 680\n"
     ]
    },
    {
     "name": "stderr",
     "output_type": "stream",
     "text": [
      " 68%|██████▊   | 680/1000 [52:04<23:12,  4.35s/it]"
     ]
    },
    {
     "name": "stdout",
     "output_type": "stream",
     "text": [
      "Average Loss for Epoch 680: 4.0396\n",
      "Epoch 681\n"
     ]
    },
    {
     "name": "stderr",
     "output_type": "stream",
     "text": [
      " 68%|██████▊   | 681/1000 [52:08<23:08,  4.35s/it]"
     ]
    },
    {
     "name": "stdout",
     "output_type": "stream",
     "text": [
      "Average Loss for Epoch 681: 2.9578\n",
      "Epoch 682\n"
     ]
    },
    {
     "name": "stderr",
     "output_type": "stream",
     "text": [
      " 68%|██████▊   | 682/1000 [52:13<22:58,  4.33s/it]"
     ]
    },
    {
     "name": "stdout",
     "output_type": "stream",
     "text": [
      "Average Loss for Epoch 682: 2.9981\n",
      "Epoch 683\n"
     ]
    },
    {
     "name": "stderr",
     "output_type": "stream",
     "text": [
      " 68%|██████▊   | 683/1000 [52:17<22:42,  4.30s/it]"
     ]
    },
    {
     "name": "stdout",
     "output_type": "stream",
     "text": [
      "Average Loss for Epoch 683: 2.7169\n",
      "Epoch 684\n"
     ]
    },
    {
     "name": "stderr",
     "output_type": "stream",
     "text": [
      " 68%|██████▊   | 684/1000 [52:21<22:28,  4.27s/it]"
     ]
    },
    {
     "name": "stdout",
     "output_type": "stream",
     "text": [
      "Average Loss for Epoch 684: 3.4668\n",
      "Epoch 685\n"
     ]
    },
    {
     "name": "stderr",
     "output_type": "stream",
     "text": [
      " 68%|██████▊   | 685/1000 [52:26<23:15,  4.43s/it]"
     ]
    },
    {
     "name": "stdout",
     "output_type": "stream",
     "text": [
      "Average Loss for Epoch 685: 3.0908\n",
      "Epoch 686\n"
     ]
    },
    {
     "name": "stderr",
     "output_type": "stream",
     "text": [
      " 69%|██████▊   | 686/1000 [52:30<22:54,  4.38s/it]"
     ]
    },
    {
     "name": "stdout",
     "output_type": "stream",
     "text": [
      "Average Loss for Epoch 686: 2.8418\n",
      "Epoch 687\n"
     ]
    },
    {
     "name": "stderr",
     "output_type": "stream",
     "text": [
      " 69%|██████▊   | 687/1000 [52:34<22:31,  4.32s/it]"
     ]
    },
    {
     "name": "stdout",
     "output_type": "stream",
     "text": [
      "Average Loss for Epoch 687: 2.8707\n",
      "Epoch 688\n"
     ]
    },
    {
     "name": "stderr",
     "output_type": "stream",
     "text": [
      " 69%|██████▉   | 688/1000 [52:39<22:43,  4.37s/it]"
     ]
    },
    {
     "name": "stdout",
     "output_type": "stream",
     "text": [
      "Average Loss for Epoch 688: 3.0795\n",
      "Epoch 689\n"
     ]
    },
    {
     "name": "stderr",
     "output_type": "stream",
     "text": [
      " 69%|██████▉   | 689/1000 [52:43<22:24,  4.32s/it]"
     ]
    },
    {
     "name": "stdout",
     "output_type": "stream",
     "text": [
      "Average Loss for Epoch 689: 3.1584\n",
      "Epoch 690\n"
     ]
    },
    {
     "name": "stderr",
     "output_type": "stream",
     "text": [
      " 69%|██████▉   | 690/1000 [52:47<22:11,  4.30s/it]"
     ]
    },
    {
     "name": "stdout",
     "output_type": "stream",
     "text": [
      "Average Loss for Epoch 690: 3.6496\n",
      "Epoch 691\n"
     ]
    },
    {
     "name": "stderr",
     "output_type": "stream",
     "text": [
      " 69%|██████▉   | 691/1000 [52:52<22:00,  4.27s/it]"
     ]
    },
    {
     "name": "stdout",
     "output_type": "stream",
     "text": [
      "Average Loss for Epoch 691: 2.9972\n",
      "Epoch 692\n"
     ]
    },
    {
     "name": "stderr",
     "output_type": "stream",
     "text": [
      " 69%|██████▉   | 692/1000 [52:56<22:19,  4.35s/it]"
     ]
    },
    {
     "name": "stdout",
     "output_type": "stream",
     "text": [
      "Average Loss for Epoch 692: 3.0993\n",
      "Epoch 693\n"
     ]
    },
    {
     "name": "stderr",
     "output_type": "stream",
     "text": [
      " 69%|██████▉   | 693/1000 [53:00<22:09,  4.33s/it]"
     ]
    },
    {
     "name": "stdout",
     "output_type": "stream",
     "text": [
      "Average Loss for Epoch 693: 2.3687\n",
      "Epoch 694\n"
     ]
    },
    {
     "name": "stderr",
     "output_type": "stream",
     "text": [
      " 69%|██████▉   | 694/1000 [53:05<21:59,  4.31s/it]"
     ]
    },
    {
     "name": "stdout",
     "output_type": "stream",
     "text": [
      "Average Loss for Epoch 694: 3.0081\n",
      "Epoch 695\n"
     ]
    },
    {
     "name": "stderr",
     "output_type": "stream",
     "text": [
      " 70%|██████▉   | 695/1000 [53:09<22:08,  4.35s/it]"
     ]
    },
    {
     "name": "stdout",
     "output_type": "stream",
     "text": [
      "Average Loss for Epoch 695: 3.8513\n",
      "Epoch 696\n"
     ]
    },
    {
     "name": "stderr",
     "output_type": "stream",
     "text": [
      " 70%|██████▉   | 696/1000 [53:13<21:53,  4.32s/it]"
     ]
    },
    {
     "name": "stdout",
     "output_type": "stream",
     "text": [
      "Average Loss for Epoch 696: 3.1900\n",
      "Epoch 697\n"
     ]
    },
    {
     "name": "stderr",
     "output_type": "stream",
     "text": [
      " 70%|██████▉   | 697/1000 [53:18<21:46,  4.31s/it]"
     ]
    },
    {
     "name": "stdout",
     "output_type": "stream",
     "text": [
      "Average Loss for Epoch 697: 3.2159\n",
      "Epoch 698\n"
     ]
    },
    {
     "name": "stderr",
     "output_type": "stream",
     "text": [
      " 70%|██████▉   | 698/1000 [53:22<21:58,  4.37s/it]"
     ]
    },
    {
     "name": "stdout",
     "output_type": "stream",
     "text": [
      "Average Loss for Epoch 698: 3.0029\n",
      "Epoch 699\n"
     ]
    },
    {
     "name": "stderr",
     "output_type": "stream",
     "text": [
      " 70%|██████▉   | 699/1000 [53:27<22:20,  4.45s/it]"
     ]
    },
    {
     "name": "stdout",
     "output_type": "stream",
     "text": [
      "Average Loss for Epoch 699: 2.9644\n",
      "Epoch 700\n"
     ]
    },
    {
     "name": "stderr",
     "output_type": "stream",
     "text": [
      " 70%|███████   | 700/1000 [53:31<21:56,  4.39s/it]"
     ]
    },
    {
     "name": "stdout",
     "output_type": "stream",
     "text": [
      "Average Loss for Epoch 700: 3.0574\n",
      "Epoch 701\n"
     ]
    },
    {
     "name": "stderr",
     "output_type": "stream",
     "text": [
      " 70%|███████   | 701/1000 [53:35<21:39,  4.35s/it]"
     ]
    },
    {
     "name": "stdout",
     "output_type": "stream",
     "text": [
      "Average Loss for Epoch 701: 2.4896\n",
      "Epoch 702\n"
     ]
    },
    {
     "name": "stderr",
     "output_type": "stream",
     "text": [
      " 70%|███████   | 702/1000 [53:40<21:43,  4.37s/it]"
     ]
    },
    {
     "name": "stdout",
     "output_type": "stream",
     "text": [
      "Average Loss for Epoch 702: 2.9842\n",
      "Epoch 703\n"
     ]
    },
    {
     "name": "stderr",
     "output_type": "stream",
     "text": [
      " 70%|███████   | 703/1000 [53:44<21:26,  4.33s/it]"
     ]
    },
    {
     "name": "stdout",
     "output_type": "stream",
     "text": [
      "Average Loss for Epoch 703: 3.1216\n",
      "Epoch 704\n"
     ]
    },
    {
     "name": "stderr",
     "output_type": "stream",
     "text": [
      " 70%|███████   | 704/1000 [53:48<21:16,  4.31s/it]"
     ]
    },
    {
     "name": "stdout",
     "output_type": "stream",
     "text": [
      "Average Loss for Epoch 704: 3.0500\n",
      "Epoch 705\n"
     ]
    },
    {
     "name": "stderr",
     "output_type": "stream",
     "text": [
      " 70%|███████   | 705/1000 [53:52<21:03,  4.28s/it]"
     ]
    },
    {
     "name": "stdout",
     "output_type": "stream",
     "text": [
      "Average Loss for Epoch 705: 2.9280\n",
      "Epoch 706\n"
     ]
    },
    {
     "name": "stderr",
     "output_type": "stream",
     "text": [
      " 71%|███████   | 706/1000 [53:57<21:22,  4.36s/it]"
     ]
    },
    {
     "name": "stdout",
     "output_type": "stream",
     "text": [
      "Average Loss for Epoch 706: 2.6912\n",
      "Epoch 707\n"
     ]
    },
    {
     "name": "stderr",
     "output_type": "stream",
     "text": [
      " 71%|███████   | 707/1000 [54:01<21:14,  4.35s/it]"
     ]
    },
    {
     "name": "stdout",
     "output_type": "stream",
     "text": [
      "Average Loss for Epoch 707: 3.4066\n",
      "Epoch 708\n"
     ]
    },
    {
     "name": "stderr",
     "output_type": "stream",
     "text": [
      " 71%|███████   | 708/1000 [54:05<21:01,  4.32s/it]"
     ]
    },
    {
     "name": "stdout",
     "output_type": "stream",
     "text": [
      "Average Loss for Epoch 708: 2.5392\n",
      "Epoch 709\n"
     ]
    },
    {
     "name": "stderr",
     "output_type": "stream",
     "text": [
      " 71%|███████   | 709/1000 [54:10<21:19,  4.40s/it]"
     ]
    },
    {
     "name": "stdout",
     "output_type": "stream",
     "text": [
      "Average Loss for Epoch 709: 3.0791\n",
      "Epoch 710\n"
     ]
    },
    {
     "name": "stderr",
     "output_type": "stream",
     "text": [
      " 71%|███████   | 710/1000 [54:14<21:06,  4.37s/it]"
     ]
    },
    {
     "name": "stdout",
     "output_type": "stream",
     "text": [
      "Average Loss for Epoch 710: 3.7287\n",
      "Epoch 711\n"
     ]
    },
    {
     "name": "stderr",
     "output_type": "stream",
     "text": [
      " 71%|███████   | 711/1000 [54:19<20:54,  4.34s/it]"
     ]
    },
    {
     "name": "stdout",
     "output_type": "stream",
     "text": [
      "Average Loss for Epoch 711: 3.1973\n",
      "Epoch 712\n"
     ]
    },
    {
     "name": "stderr",
     "output_type": "stream",
     "text": [
      " 71%|███████   | 712/1000 [54:23<20:40,  4.31s/it]"
     ]
    },
    {
     "name": "stdout",
     "output_type": "stream",
     "text": [
      "Average Loss for Epoch 712: 3.1812\n",
      "Epoch 713\n"
     ]
    },
    {
     "name": "stderr",
     "output_type": "stream",
     "text": [
      " 71%|███████▏  | 713/1000 [54:27<20:46,  4.34s/it]"
     ]
    },
    {
     "name": "stdout",
     "output_type": "stream",
     "text": [
      "Average Loss for Epoch 713: 3.4117\n",
      "Epoch 714\n"
     ]
    },
    {
     "name": "stderr",
     "output_type": "stream",
     "text": [
      " 71%|███████▏  | 714/1000 [54:32<20:32,  4.31s/it]"
     ]
    },
    {
     "name": "stdout",
     "output_type": "stream",
     "text": [
      "Average Loss for Epoch 714: 3.1374\n",
      "Epoch 715\n"
     ]
    },
    {
     "name": "stderr",
     "output_type": "stream",
     "text": [
      " 72%|███████▏  | 715/1000 [54:36<20:20,  4.28s/it]"
     ]
    },
    {
     "name": "stdout",
     "output_type": "stream",
     "text": [
      "Average Loss for Epoch 715: 2.9431\n",
      "Epoch 716\n"
     ]
    },
    {
     "name": "stderr",
     "output_type": "stream",
     "text": [
      " 72%|███████▏  | 716/1000 [54:40<20:25,  4.32s/it]"
     ]
    },
    {
     "name": "stdout",
     "output_type": "stream",
     "text": [
      "Average Loss for Epoch 716: 3.0169\n",
      "Epoch 717\n"
     ]
    },
    {
     "name": "stderr",
     "output_type": "stream",
     "text": [
      " 72%|███████▏  | 717/1000 [54:44<20:14,  4.29s/it]"
     ]
    },
    {
     "name": "stdout",
     "output_type": "stream",
     "text": [
      "Average Loss for Epoch 717: 2.7427\n",
      "Epoch 718\n"
     ]
    },
    {
     "name": "stderr",
     "output_type": "stream",
     "text": [
      " 72%|███████▏  | 718/1000 [54:49<20:04,  4.27s/it]"
     ]
    },
    {
     "name": "stdout",
     "output_type": "stream",
     "text": [
      "Average Loss for Epoch 718: 3.5342\n",
      "Epoch 719\n"
     ]
    },
    {
     "name": "stderr",
     "output_type": "stream",
     "text": [
      " 72%|███████▏  | 719/1000 [54:53<19:54,  4.25s/it]"
     ]
    },
    {
     "name": "stdout",
     "output_type": "stream",
     "text": [
      "Average Loss for Epoch 719: 2.6873\n",
      "Epoch 720\n"
     ]
    },
    {
     "name": "stderr",
     "output_type": "stream",
     "text": [
      " 72%|███████▏  | 720/1000 [54:57<20:19,  4.35s/it]"
     ]
    },
    {
     "name": "stdout",
     "output_type": "stream",
     "text": [
      "Average Loss for Epoch 720: 3.0561\n",
      "Epoch 721\n"
     ]
    },
    {
     "name": "stderr",
     "output_type": "stream",
     "text": [
      " 72%|███████▏  | 721/1000 [55:02<20:12,  4.35s/it]"
     ]
    },
    {
     "name": "stdout",
     "output_type": "stream",
     "text": [
      "Average Loss for Epoch 721: 2.9381\n",
      "Epoch 722\n"
     ]
    },
    {
     "name": "stderr",
     "output_type": "stream",
     "text": [
      " 72%|███████▏  | 722/1000 [55:06<19:54,  4.30s/it]"
     ]
    },
    {
     "name": "stdout",
     "output_type": "stream",
     "text": [
      "Average Loss for Epoch 722: 2.8309\n",
      "Epoch 723\n"
     ]
    },
    {
     "name": "stderr",
     "output_type": "stream",
     "text": [
      " 72%|███████▏  | 723/1000 [55:10<19:58,  4.33s/it]"
     ]
    },
    {
     "name": "stdout",
     "output_type": "stream",
     "text": [
      "Average Loss for Epoch 723: 2.9358\n",
      "Epoch 724\n"
     ]
    },
    {
     "name": "stderr",
     "output_type": "stream",
     "text": [
      " 72%|███████▏  | 724/1000 [55:15<19:45,  4.29s/it]"
     ]
    },
    {
     "name": "stdout",
     "output_type": "stream",
     "text": [
      "Average Loss for Epoch 724: 3.6767\n",
      "Epoch 725\n"
     ]
    },
    {
     "name": "stderr",
     "output_type": "stream",
     "text": [
      " 72%|███████▎  | 725/1000 [55:19<19:33,  4.27s/it]"
     ]
    },
    {
     "name": "stdout",
     "output_type": "stream",
     "text": [
      "Average Loss for Epoch 725: 3.2481\n",
      "Epoch 726\n"
     ]
    },
    {
     "name": "stderr",
     "output_type": "stream",
     "text": [
      " 73%|███████▎  | 726/1000 [55:23<19:29,  4.27s/it]"
     ]
    },
    {
     "name": "stdout",
     "output_type": "stream",
     "text": [
      "Average Loss for Epoch 726: 3.1772\n",
      "Epoch 727\n"
     ]
    },
    {
     "name": "stderr",
     "output_type": "stream",
     "text": [
      " 73%|███████▎  | 727/1000 [55:27<19:38,  4.32s/it]"
     ]
    },
    {
     "name": "stdout",
     "output_type": "stream",
     "text": [
      "Average Loss for Epoch 727: 2.7178\n",
      "Epoch 728\n"
     ]
    },
    {
     "name": "stderr",
     "output_type": "stream",
     "text": [
      " 73%|███████▎  | 728/1000 [55:32<19:29,  4.30s/it]"
     ]
    },
    {
     "name": "stdout",
     "output_type": "stream",
     "text": [
      "Average Loss for Epoch 728: 3.2509\n",
      "Epoch 729\n"
     ]
    },
    {
     "name": "stderr",
     "output_type": "stream",
     "text": [
      " 73%|███████▎  | 729/1000 [55:36<19:21,  4.28s/it]"
     ]
    },
    {
     "name": "stdout",
     "output_type": "stream",
     "text": [
      "Average Loss for Epoch 729: 2.7883\n",
      "Epoch 730\n"
     ]
    },
    {
     "name": "stderr",
     "output_type": "stream",
     "text": [
      " 73%|███████▎  | 730/1000 [55:41<19:56,  4.43s/it]"
     ]
    },
    {
     "name": "stdout",
     "output_type": "stream",
     "text": [
      "Average Loss for Epoch 730: 2.6656\n",
      "Epoch 731\n"
     ]
    },
    {
     "name": "stderr",
     "output_type": "stream",
     "text": [
      " 73%|███████▎  | 731/1000 [55:45<19:34,  4.37s/it]"
     ]
    },
    {
     "name": "stdout",
     "output_type": "stream",
     "text": [
      "Average Loss for Epoch 731: 2.7882\n",
      "Epoch 732\n"
     ]
    },
    {
     "name": "stderr",
     "output_type": "stream",
     "text": [
      " 73%|███████▎  | 732/1000 [55:49<19:16,  4.31s/it]"
     ]
    },
    {
     "name": "stdout",
     "output_type": "stream",
     "text": [
      "Average Loss for Epoch 732: 3.0338\n",
      "Epoch 733\n"
     ]
    },
    {
     "name": "stderr",
     "output_type": "stream",
     "text": [
      " 73%|███████▎  | 733/1000 [55:54<19:23,  4.36s/it]"
     ]
    },
    {
     "name": "stdout",
     "output_type": "stream",
     "text": [
      "Average Loss for Epoch 733: 3.6861\n",
      "Epoch 734\n"
     ]
    },
    {
     "name": "stderr",
     "output_type": "stream",
     "text": [
      " 73%|███████▎  | 734/1000 [55:58<19:35,  4.42s/it]"
     ]
    },
    {
     "name": "stdout",
     "output_type": "stream",
     "text": [
      "Average Loss for Epoch 734: 2.3964\n",
      "Epoch 735\n"
     ]
    },
    {
     "name": "stderr",
     "output_type": "stream",
     "text": [
      " 74%|███████▎  | 735/1000 [56:02<19:18,  4.37s/it]"
     ]
    },
    {
     "name": "stdout",
     "output_type": "stream",
     "text": [
      "Average Loss for Epoch 735: 3.9292\n",
      "Epoch 736\n"
     ]
    },
    {
     "name": "stderr",
     "output_type": "stream",
     "text": [
      " 74%|███████▎  | 736/1000 [56:07<19:03,  4.33s/it]"
     ]
    },
    {
     "name": "stdout",
     "output_type": "stream",
     "text": [
      "Average Loss for Epoch 736: 2.5156\n",
      "Epoch 737\n"
     ]
    },
    {
     "name": "stderr",
     "output_type": "stream",
     "text": [
      " 74%|███████▎  | 737/1000 [56:11<19:10,  4.38s/it]"
     ]
    },
    {
     "name": "stdout",
     "output_type": "stream",
     "text": [
      "Average Loss for Epoch 737: 2.5691\n",
      "Epoch 738\n"
     ]
    },
    {
     "name": "stderr",
     "output_type": "stream",
     "text": [
      " 74%|███████▍  | 738/1000 [56:15<18:57,  4.34s/it]"
     ]
    },
    {
     "name": "stdout",
     "output_type": "stream",
     "text": [
      "Average Loss for Epoch 738: 3.1991\n",
      "Epoch 739\n"
     ]
    },
    {
     "name": "stderr",
     "output_type": "stream",
     "text": [
      " 74%|███████▍  | 739/1000 [56:20<18:47,  4.32s/it]"
     ]
    },
    {
     "name": "stdout",
     "output_type": "stream",
     "text": [
      "Average Loss for Epoch 739: 3.0934\n",
      "Epoch 740\n"
     ]
    },
    {
     "name": "stderr",
     "output_type": "stream",
     "text": [
      " 74%|███████▍  | 740/1000 [56:24<18:49,  4.35s/it]"
     ]
    },
    {
     "name": "stdout",
     "output_type": "stream",
     "text": [
      "Average Loss for Epoch 740: 2.7725\n",
      "Epoch 741\n"
     ]
    },
    {
     "name": "stderr",
     "output_type": "stream",
     "text": [
      " 74%|███████▍  | 741/1000 [56:29<18:53,  4.38s/it]"
     ]
    },
    {
     "name": "stdout",
     "output_type": "stream",
     "text": [
      "Average Loss for Epoch 741: 2.8132\n",
      "Epoch 742\n"
     ]
    },
    {
     "name": "stderr",
     "output_type": "stream",
     "text": [
      " 74%|███████▍  | 742/1000 [56:33<18:38,  4.34s/it]"
     ]
    },
    {
     "name": "stdout",
     "output_type": "stream",
     "text": [
      "Average Loss for Epoch 742: 3.8668\n",
      "Epoch 743\n"
     ]
    },
    {
     "name": "stderr",
     "output_type": "stream",
     "text": [
      " 74%|███████▍  | 743/1000 [56:37<18:26,  4.30s/it]"
     ]
    },
    {
     "name": "stdout",
     "output_type": "stream",
     "text": [
      "Average Loss for Epoch 743: 3.2454\n",
      "Epoch 744\n"
     ]
    },
    {
     "name": "stderr",
     "output_type": "stream",
     "text": [
      " 74%|███████▍  | 744/1000 [56:41<18:27,  4.32s/it]"
     ]
    },
    {
     "name": "stdout",
     "output_type": "stream",
     "text": [
      "Average Loss for Epoch 744: 2.6248\n",
      "Epoch 745\n"
     ]
    },
    {
     "name": "stderr",
     "output_type": "stream",
     "text": [
      " 74%|███████▍  | 745/1000 [56:46<18:12,  4.28s/it]"
     ]
    },
    {
     "name": "stdout",
     "output_type": "stream",
     "text": [
      "Average Loss for Epoch 745: 2.7275\n",
      "Epoch 746\n"
     ]
    },
    {
     "name": "stderr",
     "output_type": "stream",
     "text": [
      " 75%|███████▍  | 746/1000 [56:50<18:00,  4.25s/it]"
     ]
    },
    {
     "name": "stdout",
     "output_type": "stream",
     "text": [
      "Average Loss for Epoch 746: 2.8665\n",
      "Epoch 747\n"
     ]
    },
    {
     "name": "stderr",
     "output_type": "stream",
     "text": [
      " 75%|███████▍  | 747/1000 [56:54<18:09,  4.31s/it]"
     ]
    },
    {
     "name": "stdout",
     "output_type": "stream",
     "text": [
      "Average Loss for Epoch 747: 2.6709\n",
      "Epoch 748\n"
     ]
    },
    {
     "name": "stderr",
     "output_type": "stream",
     "text": [
      " 75%|███████▍  | 748/1000 [56:59<18:20,  4.37s/it]"
     ]
    },
    {
     "name": "stdout",
     "output_type": "stream",
     "text": [
      "Average Loss for Epoch 748: 2.9237\n",
      "Epoch 749\n"
     ]
    },
    {
     "name": "stderr",
     "output_type": "stream",
     "text": [
      " 75%|███████▍  | 749/1000 [57:03<18:08,  4.34s/it]"
     ]
    },
    {
     "name": "stdout",
     "output_type": "stream",
     "text": [
      "Average Loss for Epoch 749: 3.3696\n",
      "Epoch 750\n"
     ]
    },
    {
     "name": "stderr",
     "output_type": "stream",
     "text": [
      " 75%|███████▌  | 750/1000 [57:07<17:55,  4.30s/it]"
     ]
    },
    {
     "name": "stdout",
     "output_type": "stream",
     "text": [
      "Average Loss for Epoch 750: 3.3696\n",
      "Epoch 751\n"
     ]
    },
    {
     "name": "stderr",
     "output_type": "stream",
     "text": [
      " 75%|███████▌  | 751/1000 [57:12<18:03,  4.35s/it]"
     ]
    },
    {
     "name": "stdout",
     "output_type": "stream",
     "text": [
      "Average Loss for Epoch 751: 3.2562\n",
      "Epoch 752\n"
     ]
    },
    {
     "name": "stderr",
     "output_type": "stream",
     "text": [
      " 75%|███████▌  | 752/1000 [57:16<17:49,  4.31s/it]"
     ]
    },
    {
     "name": "stdout",
     "output_type": "stream",
     "text": [
      "Average Loss for Epoch 752: 3.4159\n",
      "Epoch 753\n"
     ]
    },
    {
     "name": "stderr",
     "output_type": "stream",
     "text": [
      " 75%|███████▌  | 753/1000 [57:20<17:38,  4.29s/it]"
     ]
    },
    {
     "name": "stdout",
     "output_type": "stream",
     "text": [
      "Average Loss for Epoch 753: 2.7921\n",
      "Epoch 754\n"
     ]
    },
    {
     "name": "stderr",
     "output_type": "stream",
     "text": [
      " 75%|███████▌  | 754/1000 [57:25<17:46,  4.33s/it]"
     ]
    },
    {
     "name": "stdout",
     "output_type": "stream",
     "text": [
      "Average Loss for Epoch 754: 2.9401\n",
      "Epoch 755\n"
     ]
    },
    {
     "name": "stderr",
     "output_type": "stream",
     "text": [
      " 76%|███████▌  | 755/1000 [57:29<17:37,  4.32s/it]"
     ]
    },
    {
     "name": "stdout",
     "output_type": "stream",
     "text": [
      "Average Loss for Epoch 755: 3.7654\n",
      "Epoch 756\n"
     ]
    },
    {
     "name": "stderr",
     "output_type": "stream",
     "text": [
      " 76%|███████▌  | 756/1000 [57:33<17:25,  4.29s/it]"
     ]
    },
    {
     "name": "stdout",
     "output_type": "stream",
     "text": [
      "Average Loss for Epoch 756: 3.0650\n",
      "Epoch 757\n"
     ]
    },
    {
     "name": "stderr",
     "output_type": "stream",
     "text": [
      " 76%|███████▌  | 757/1000 [57:37<17:13,  4.25s/it]"
     ]
    },
    {
     "name": "stdout",
     "output_type": "stream",
     "text": [
      "Average Loss for Epoch 757: 3.0406\n",
      "Epoch 758\n"
     ]
    },
    {
     "name": "stderr",
     "output_type": "stream",
     "text": [
      " 76%|███████▌  | 758/1000 [57:42<17:25,  4.32s/it]"
     ]
    },
    {
     "name": "stdout",
     "output_type": "stream",
     "text": [
      "Average Loss for Epoch 758: 2.8531\n",
      "Epoch 759\n"
     ]
    },
    {
     "name": "stderr",
     "output_type": "stream",
     "text": [
      " 76%|███████▌  | 759/1000 [57:46<17:12,  4.28s/it]"
     ]
    },
    {
     "name": "stdout",
     "output_type": "stream",
     "text": [
      "Average Loss for Epoch 759: 2.8672\n",
      "Epoch 760\n"
     ]
    },
    {
     "name": "stderr",
     "output_type": "stream",
     "text": [
      " 76%|███████▌  | 760/1000 [57:50<17:01,  4.26s/it]"
     ]
    },
    {
     "name": "stdout",
     "output_type": "stream",
     "text": [
      "Average Loss for Epoch 760: 3.0756\n",
      "Epoch 761\n"
     ]
    },
    {
     "name": "stderr",
     "output_type": "stream",
     "text": [
      " 76%|███████▌  | 761/1000 [57:55<17:14,  4.33s/it]"
     ]
    },
    {
     "name": "stdout",
     "output_type": "stream",
     "text": [
      "Average Loss for Epoch 761: 3.0573\n",
      "Epoch 762\n"
     ]
    },
    {
     "name": "stderr",
     "output_type": "stream",
     "text": [
      " 76%|███████▌  | 762/1000 [57:59<17:27,  4.40s/it]"
     ]
    },
    {
     "name": "stdout",
     "output_type": "stream",
     "text": [
      "Average Loss for Epoch 762: 2.5243\n",
      "Epoch 763\n"
     ]
    },
    {
     "name": "stderr",
     "output_type": "stream",
     "text": [
      " 76%|███████▋  | 763/1000 [58:03<17:15,  4.37s/it]"
     ]
    },
    {
     "name": "stdout",
     "output_type": "stream",
     "text": [
      "Average Loss for Epoch 763: 3.0246\n",
      "Epoch 764\n"
     ]
    },
    {
     "name": "stderr",
     "output_type": "stream",
     "text": [
      " 76%|███████▋  | 764/1000 [58:08<17:01,  4.33s/it]"
     ]
    },
    {
     "name": "stdout",
     "output_type": "stream",
     "text": [
      "Average Loss for Epoch 764: 2.9295\n",
      "Epoch 765\n"
     ]
    },
    {
     "name": "stderr",
     "output_type": "stream",
     "text": [
      " 76%|███████▋  | 765/1000 [58:12<17:16,  4.41s/it]"
     ]
    },
    {
     "name": "stdout",
     "output_type": "stream",
     "text": [
      "Average Loss for Epoch 765: 2.5136\n",
      "Epoch 766\n"
     ]
    },
    {
     "name": "stderr",
     "output_type": "stream",
     "text": [
      " 77%|███████▋  | 766/1000 [58:16<16:56,  4.34s/it]"
     ]
    },
    {
     "name": "stdout",
     "output_type": "stream",
     "text": [
      "Average Loss for Epoch 766: 2.6537\n",
      "Epoch 767\n"
     ]
    },
    {
     "name": "stderr",
     "output_type": "stream",
     "text": [
      " 77%|███████▋  | 767/1000 [58:21<16:47,  4.33s/it]"
     ]
    },
    {
     "name": "stdout",
     "output_type": "stream",
     "text": [
      "Average Loss for Epoch 767: 3.0703\n",
      "Epoch 768\n"
     ]
    },
    {
     "name": "stderr",
     "output_type": "stream",
     "text": [
      " 77%|███████▋  | 768/1000 [58:25<16:50,  4.36s/it]"
     ]
    },
    {
     "name": "stdout",
     "output_type": "stream",
     "text": [
      "Average Loss for Epoch 768: 2.9731\n",
      "Epoch 769\n"
     ]
    },
    {
     "name": "stderr",
     "output_type": "stream",
     "text": [
      " 77%|███████▋  | 769/1000 [58:30<17:02,  4.42s/it]"
     ]
    },
    {
     "name": "stdout",
     "output_type": "stream",
     "text": [
      "Average Loss for Epoch 769: 2.3123\n",
      "Epoch 770\n"
     ]
    },
    {
     "name": "stderr",
     "output_type": "stream",
     "text": [
      " 77%|███████▋  | 770/1000 [58:34<17:04,  4.45s/it]"
     ]
    },
    {
     "name": "stdout",
     "output_type": "stream",
     "text": [
      "Average Loss for Epoch 770: 3.1390\n",
      "Epoch 771\n"
     ]
    },
    {
     "name": "stderr",
     "output_type": "stream",
     "text": [
      " 77%|███████▋  | 771/1000 [58:38<16:42,  4.38s/it]"
     ]
    },
    {
     "name": "stdout",
     "output_type": "stream",
     "text": [
      "Average Loss for Epoch 771: 3.2922\n",
      "Epoch 772\n"
     ]
    },
    {
     "name": "stderr",
     "output_type": "stream",
     "text": [
      " 77%|███████▋  | 772/1000 [58:43<16:38,  4.38s/it]"
     ]
    },
    {
     "name": "stdout",
     "output_type": "stream",
     "text": [
      "Average Loss for Epoch 772: 2.4875\n",
      "Epoch 773\n"
     ]
    },
    {
     "name": "stderr",
     "output_type": "stream",
     "text": [
      " 77%|███████▋  | 773/1000 [58:47<16:26,  4.35s/it]"
     ]
    },
    {
     "name": "stdout",
     "output_type": "stream",
     "text": [
      "Average Loss for Epoch 773: 3.0759\n",
      "Epoch 774\n"
     ]
    },
    {
     "name": "stderr",
     "output_type": "stream",
     "text": [
      " 77%|███████▋  | 774/1000 [58:52<16:27,  4.37s/it]"
     ]
    },
    {
     "name": "stdout",
     "output_type": "stream",
     "text": [
      "Average Loss for Epoch 774: 3.2422\n",
      "Epoch 775\n"
     ]
    },
    {
     "name": "stderr",
     "output_type": "stream",
     "text": [
      " 78%|███████▊  | 775/1000 [58:56<16:38,  4.44s/it]"
     ]
    },
    {
     "name": "stdout",
     "output_type": "stream",
     "text": [
      "Average Loss for Epoch 775: 3.1348\n",
      "Epoch 776\n"
     ]
    },
    {
     "name": "stderr",
     "output_type": "stream",
     "text": [
      " 78%|███████▊  | 776/1000 [59:01<16:41,  4.47s/it]"
     ]
    },
    {
     "name": "stdout",
     "output_type": "stream",
     "text": [
      "Average Loss for Epoch 776: 2.9080\n",
      "Epoch 777\n"
     ]
    },
    {
     "name": "stderr",
     "output_type": "stream",
     "text": [
      " 78%|███████▊  | 777/1000 [59:05<16:26,  4.43s/it]"
     ]
    },
    {
     "name": "stdout",
     "output_type": "stream",
     "text": [
      "Average Loss for Epoch 777: 2.1653\n",
      "Epoch 778\n"
     ]
    },
    {
     "name": "stderr",
     "output_type": "stream",
     "text": [
      " 78%|███████▊  | 778/1000 [59:10<16:41,  4.51s/it]"
     ]
    },
    {
     "name": "stdout",
     "output_type": "stream",
     "text": [
      "Average Loss for Epoch 778: 2.9721\n",
      "Epoch 779\n"
     ]
    },
    {
     "name": "stderr",
     "output_type": "stream",
     "text": [
      " 78%|███████▊  | 779/1000 [59:14<16:25,  4.46s/it]"
     ]
    },
    {
     "name": "stdout",
     "output_type": "stream",
     "text": [
      "Average Loss for Epoch 779: 3.5994\n",
      "Epoch 780\n"
     ]
    },
    {
     "name": "stderr",
     "output_type": "stream",
     "text": [
      " 78%|███████▊  | 780/1000 [59:18<16:05,  4.39s/it]"
     ]
    },
    {
     "name": "stdout",
     "output_type": "stream",
     "text": [
      "Average Loss for Epoch 780: 2.9692\n",
      "Epoch 781\n"
     ]
    },
    {
     "name": "stderr",
     "output_type": "stream",
     "text": [
      " 78%|███████▊  | 781/1000 [59:22<15:49,  4.34s/it]"
     ]
    },
    {
     "name": "stdout",
     "output_type": "stream",
     "text": [
      "Average Loss for Epoch 781: 2.8542\n",
      "Epoch 782\n"
     ]
    },
    {
     "name": "stderr",
     "output_type": "stream",
     "text": [
      " 78%|███████▊  | 782/1000 [59:27<15:56,  4.39s/it]"
     ]
    },
    {
     "name": "stdout",
     "output_type": "stream",
     "text": [
      "Average Loss for Epoch 782: 2.6101\n",
      "Epoch 783\n"
     ]
    },
    {
     "name": "stderr",
     "output_type": "stream",
     "text": [
      " 78%|███████▊  | 783/1000 [59:31<15:44,  4.35s/it]"
     ]
    },
    {
     "name": "stdout",
     "output_type": "stream",
     "text": [
      "Average Loss for Epoch 783: 3.2331\n",
      "Epoch 784\n"
     ]
    },
    {
     "name": "stderr",
     "output_type": "stream",
     "text": [
      " 78%|███████▊  | 784/1000 [59:36<15:33,  4.32s/it]"
     ]
    },
    {
     "name": "stdout",
     "output_type": "stream",
     "text": [
      "Average Loss for Epoch 784: 2.4798\n",
      "Epoch 785\n"
     ]
    },
    {
     "name": "stderr",
     "output_type": "stream",
     "text": [
      " 78%|███████▊  | 785/1000 [59:40<15:39,  4.37s/it]"
     ]
    },
    {
     "name": "stdout",
     "output_type": "stream",
     "text": [
      "Average Loss for Epoch 785: 2.6986\n",
      "Epoch 786\n"
     ]
    },
    {
     "name": "stderr",
     "output_type": "stream",
     "text": [
      " 79%|███████▊  | 786/1000 [59:44<15:27,  4.33s/it]"
     ]
    },
    {
     "name": "stdout",
     "output_type": "stream",
     "text": [
      "Average Loss for Epoch 786: 2.5238\n",
      "Epoch 787\n"
     ]
    },
    {
     "name": "stderr",
     "output_type": "stream",
     "text": [
      " 79%|███████▊  | 787/1000 [59:49<15:25,  4.34s/it]"
     ]
    },
    {
     "name": "stdout",
     "output_type": "stream",
     "text": [
      "Average Loss for Epoch 787: 3.7274\n",
      "Epoch 788\n"
     ]
    },
    {
     "name": "stderr",
     "output_type": "stream",
     "text": [
      " 79%|███████▉  | 788/1000 [59:53<15:51,  4.49s/it]"
     ]
    },
    {
     "name": "stdout",
     "output_type": "stream",
     "text": [
      "Average Loss for Epoch 788: 2.7731\n",
      "Epoch 789\n"
     ]
    },
    {
     "name": "stderr",
     "output_type": "stream",
     "text": [
      " 79%|███████▉  | 789/1000 [59:58<15:51,  4.51s/it]"
     ]
    },
    {
     "name": "stdout",
     "output_type": "stream",
     "text": [
      "Average Loss for Epoch 789: 2.8937\n",
      "Epoch 790\n"
     ]
    },
    {
     "name": "stderr",
     "output_type": "stream",
     "text": [
      " 79%|███████▉  | 790/1000 [1:00:02<15:39,  4.47s/it]"
     ]
    },
    {
     "name": "stdout",
     "output_type": "stream",
     "text": [
      "Average Loss for Epoch 790: 3.1797\n",
      "Epoch 791\n"
     ]
    },
    {
     "name": "stderr",
     "output_type": "stream",
     "text": [
      " 79%|███████▉  | 791/1000 [1:00:07<15:23,  4.42s/it]"
     ]
    },
    {
     "name": "stdout",
     "output_type": "stream",
     "text": [
      "Average Loss for Epoch 791: 3.0714\n",
      "Epoch 792\n"
     ]
    },
    {
     "name": "stderr",
     "output_type": "stream",
     "text": [
      " 79%|███████▉  | 792/1000 [1:00:11<15:36,  4.50s/it]"
     ]
    },
    {
     "name": "stdout",
     "output_type": "stream",
     "text": [
      "Average Loss for Epoch 792: 3.1334\n",
      "Epoch 793\n"
     ]
    },
    {
     "name": "stderr",
     "output_type": "stream",
     "text": [
      " 79%|███████▉  | 793/1000 [1:00:16<15:17,  4.43s/it]"
     ]
    },
    {
     "name": "stdout",
     "output_type": "stream",
     "text": [
      "Average Loss for Epoch 793: 3.7849\n",
      "Epoch 794\n"
     ]
    },
    {
     "name": "stderr",
     "output_type": "stream",
     "text": [
      " 79%|███████▉  | 794/1000 [1:00:20<15:02,  4.38s/it]"
     ]
    },
    {
     "name": "stdout",
     "output_type": "stream",
     "text": [
      "Average Loss for Epoch 794: 2.6342\n",
      "Epoch 795\n"
     ]
    },
    {
     "name": "stderr",
     "output_type": "stream",
     "text": [
      " 80%|███████▉  | 795/1000 [1:00:24<15:04,  4.41s/it]"
     ]
    },
    {
     "name": "stdout",
     "output_type": "stream",
     "text": [
      "Average Loss for Epoch 795: 2.6251\n",
      "Epoch 796\n"
     ]
    },
    {
     "name": "stderr",
     "output_type": "stream",
     "text": [
      " 80%|███████▉  | 796/1000 [1:00:29<14:58,  4.40s/it]"
     ]
    },
    {
     "name": "stdout",
     "output_type": "stream",
     "text": [
      "Average Loss for Epoch 796: 3.3632\n",
      "Epoch 797\n"
     ]
    },
    {
     "name": "stderr",
     "output_type": "stream",
     "text": [
      " 80%|███████▉  | 797/1000 [1:00:33<14:39,  4.33s/it]"
     ]
    },
    {
     "name": "stdout",
     "output_type": "stream",
     "text": [
      "Average Loss for Epoch 797: 2.9049\n",
      "Epoch 798\n"
     ]
    },
    {
     "name": "stderr",
     "output_type": "stream",
     "text": [
      " 80%|███████▉  | 798/1000 [1:00:37<14:24,  4.28s/it]"
     ]
    },
    {
     "name": "stdout",
     "output_type": "stream",
     "text": [
      "Average Loss for Epoch 798: 3.1887\n",
      "Epoch 799\n"
     ]
    },
    {
     "name": "stderr",
     "output_type": "stream",
     "text": [
      " 80%|███████▉  | 799/1000 [1:00:42<14:28,  4.32s/it]"
     ]
    },
    {
     "name": "stdout",
     "output_type": "stream",
     "text": [
      "Average Loss for Epoch 799: 3.2200\n",
      "Epoch 800\n"
     ]
    },
    {
     "name": "stderr",
     "output_type": "stream",
     "text": [
      " 80%|████████  | 800/1000 [1:00:46<14:55,  4.48s/it]"
     ]
    },
    {
     "name": "stdout",
     "output_type": "stream",
     "text": [
      "Average Loss for Epoch 800: 3.4033\n",
      "Epoch 801\n"
     ]
    },
    {
     "name": "stderr",
     "output_type": "stream",
     "text": [
      " 80%|████████  | 801/1000 [1:00:50<14:27,  4.36s/it]"
     ]
    },
    {
     "name": "stdout",
     "output_type": "stream",
     "text": [
      "Average Loss for Epoch 801: 3.0170\n",
      "Epoch 802\n"
     ]
    },
    {
     "name": "stderr",
     "output_type": "stream",
     "text": [
      " 80%|████████  | 802/1000 [1:00:55<14:25,  4.37s/it]"
     ]
    },
    {
     "name": "stdout",
     "output_type": "stream",
     "text": [
      "Average Loss for Epoch 802: 2.9970\n",
      "Epoch 803\n"
     ]
    },
    {
     "name": "stderr",
     "output_type": "stream",
     "text": [
      " 80%|████████  | 803/1000 [1:00:59<14:20,  4.37s/it]"
     ]
    },
    {
     "name": "stdout",
     "output_type": "stream",
     "text": [
      "Average Loss for Epoch 803: 3.3145\n",
      "Epoch 804\n"
     ]
    },
    {
     "name": "stderr",
     "output_type": "stream",
     "text": [
      " 80%|████████  | 804/1000 [1:01:03<14:04,  4.31s/it]"
     ]
    },
    {
     "name": "stdout",
     "output_type": "stream",
     "text": [
      "Average Loss for Epoch 804: 3.3296\n",
      "Epoch 805\n"
     ]
    },
    {
     "name": "stderr",
     "output_type": "stream",
     "text": [
      " 80%|████████  | 805/1000 [1:01:08<13:53,  4.28s/it]"
     ]
    },
    {
     "name": "stdout",
     "output_type": "stream",
     "text": [
      "Average Loss for Epoch 805: 3.0652\n",
      "Epoch 806\n"
     ]
    },
    {
     "name": "stderr",
     "output_type": "stream",
     "text": [
      " 81%|████████  | 806/1000 [1:01:12<13:58,  4.32s/it]"
     ]
    },
    {
     "name": "stdout",
     "output_type": "stream",
     "text": [
      "Average Loss for Epoch 806: 2.7920\n",
      "Epoch 807\n"
     ]
    },
    {
     "name": "stderr",
     "output_type": "stream",
     "text": [
      " 81%|████████  | 807/1000 [1:01:16<13:46,  4.28s/it]"
     ]
    },
    {
     "name": "stdout",
     "output_type": "stream",
     "text": [
      "Average Loss for Epoch 807: 3.7095\n",
      "Epoch 808\n"
     ]
    },
    {
     "name": "stderr",
     "output_type": "stream",
     "text": [
      " 81%|████████  | 808/1000 [1:01:20<13:37,  4.26s/it]"
     ]
    },
    {
     "name": "stdout",
     "output_type": "stream",
     "text": [
      "Average Loss for Epoch 808: 2.7269\n",
      "Epoch 809\n"
     ]
    },
    {
     "name": "stderr",
     "output_type": "stream",
     "text": [
      " 81%|████████  | 809/1000 [1:01:25<13:36,  4.27s/it]"
     ]
    },
    {
     "name": "stdout",
     "output_type": "stream",
     "text": [
      "Average Loss for Epoch 809: 2.4182\n",
      "Epoch 810\n"
     ]
    },
    {
     "name": "stderr",
     "output_type": "stream",
     "text": [
      " 81%|████████  | 810/1000 [1:01:29<13:29,  4.26s/it]"
     ]
    },
    {
     "name": "stdout",
     "output_type": "stream",
     "text": [
      "Average Loss for Epoch 810: 2.3730\n",
      "Epoch 811\n"
     ]
    },
    {
     "name": "stderr",
     "output_type": "stream",
     "text": [
      " 81%|████████  | 811/1000 [1:01:33<13:18,  4.22s/it]"
     ]
    },
    {
     "name": "stdout",
     "output_type": "stream",
     "text": [
      "Average Loss for Epoch 811: 2.7537\n",
      "Epoch 812\n"
     ]
    },
    {
     "name": "stderr",
     "output_type": "stream",
     "text": [
      " 81%|████████  | 812/1000 [1:01:37<13:13,  4.22s/it]"
     ]
    },
    {
     "name": "stdout",
     "output_type": "stream",
     "text": [
      "Average Loss for Epoch 812: 2.7259\n",
      "Epoch 813\n"
     ]
    },
    {
     "name": "stderr",
     "output_type": "stream",
     "text": [
      " 81%|████████▏ | 813/1000 [1:01:42<13:13,  4.24s/it]"
     ]
    },
    {
     "name": "stdout",
     "output_type": "stream",
     "text": [
      "Average Loss for Epoch 813: 2.4418\n",
      "Epoch 814\n"
     ]
    },
    {
     "name": "stderr",
     "output_type": "stream",
     "text": [
      " 81%|████████▏ | 814/1000 [1:01:46<13:42,  4.42s/it]"
     ]
    },
    {
     "name": "stdout",
     "output_type": "stream",
     "text": [
      "Average Loss for Epoch 814: 3.0671\n",
      "Epoch 815\n"
     ]
    },
    {
     "name": "stderr",
     "output_type": "stream",
     "text": [
      " 82%|████████▏ | 815/1000 [1:01:51<13:25,  4.35s/it]"
     ]
    },
    {
     "name": "stdout",
     "output_type": "stream",
     "text": [
      "Average Loss for Epoch 815: 2.7977\n",
      "Epoch 816\n"
     ]
    },
    {
     "name": "stderr",
     "output_type": "stream",
     "text": [
      " 82%|████████▏ | 816/1000 [1:01:55<13:38,  4.45s/it]"
     ]
    },
    {
     "name": "stdout",
     "output_type": "stream",
     "text": [
      "Average Loss for Epoch 816: 2.7084\n",
      "Epoch 817\n"
     ]
    },
    {
     "name": "stderr",
     "output_type": "stream",
     "text": [
      " 82%|████████▏ | 817/1000 [1:02:00<13:30,  4.43s/it]"
     ]
    },
    {
     "name": "stdout",
     "output_type": "stream",
     "text": [
      "Average Loss for Epoch 817: 3.3447\n",
      "Epoch 818\n"
     ]
    },
    {
     "name": "stderr",
     "output_type": "stream",
     "text": [
      " 82%|████████▏ | 818/1000 [1:02:04<13:14,  4.36s/it]"
     ]
    },
    {
     "name": "stdout",
     "output_type": "stream",
     "text": [
      "Average Loss for Epoch 818: 2.8099\n",
      "Epoch 819\n"
     ]
    },
    {
     "name": "stderr",
     "output_type": "stream",
     "text": [
      " 82%|████████▏ | 819/1000 [1:02:08<13:04,  4.33s/it]"
     ]
    },
    {
     "name": "stdout",
     "output_type": "stream",
     "text": [
      "Average Loss for Epoch 819: 2.9868\n",
      "Epoch 820\n"
     ]
    },
    {
     "name": "stderr",
     "output_type": "stream",
     "text": [
      " 82%|████████▏ | 820/1000 [1:02:13<13:12,  4.40s/it]"
     ]
    },
    {
     "name": "stdout",
     "output_type": "stream",
     "text": [
      "Average Loss for Epoch 820: 3.9324\n",
      "Epoch 821\n"
     ]
    },
    {
     "name": "stderr",
     "output_type": "stream",
     "text": [
      " 82%|████████▏ | 821/1000 [1:02:17<12:59,  4.36s/it]"
     ]
    },
    {
     "name": "stdout",
     "output_type": "stream",
     "text": [
      "Average Loss for Epoch 821: 2.8726\n",
      "Epoch 822\n"
     ]
    },
    {
     "name": "stderr",
     "output_type": "stream",
     "text": [
      " 82%|████████▏ | 822/1000 [1:02:21<12:48,  4.32s/it]"
     ]
    },
    {
     "name": "stdout",
     "output_type": "stream",
     "text": [
      "Average Loss for Epoch 822: 2.8666\n",
      "Epoch 823\n"
     ]
    },
    {
     "name": "stderr",
     "output_type": "stream",
     "text": [
      " 82%|████████▏ | 823/1000 [1:02:26<12:49,  4.35s/it]"
     ]
    },
    {
     "name": "stdout",
     "output_type": "stream",
     "text": [
      "Average Loss for Epoch 823: 2.6126\n",
      "Epoch 824\n"
     ]
    },
    {
     "name": "stderr",
     "output_type": "stream",
     "text": [
      " 82%|████████▏ | 824/1000 [1:02:30<12:36,  4.30s/it]"
     ]
    },
    {
     "name": "stdout",
     "output_type": "stream",
     "text": [
      "Average Loss for Epoch 824: 2.3817\n",
      "Epoch 825\n"
     ]
    },
    {
     "name": "stderr",
     "output_type": "stream",
     "text": [
      " 82%|████████▎ | 825/1000 [1:02:34<12:25,  4.26s/it]"
     ]
    },
    {
     "name": "stdout",
     "output_type": "stream",
     "text": [
      "Average Loss for Epoch 825: 2.4944\n",
      "Epoch 826\n"
     ]
    },
    {
     "name": "stderr",
     "output_type": "stream",
     "text": [
      " 83%|████████▎ | 826/1000 [1:02:38<12:14,  4.22s/it]"
     ]
    },
    {
     "name": "stdout",
     "output_type": "stream",
     "text": [
      "Average Loss for Epoch 826: 2.9455\n",
      "Epoch 827\n"
     ]
    },
    {
     "name": "stderr",
     "output_type": "stream",
     "text": [
      " 83%|████████▎ | 827/1000 [1:02:43<12:20,  4.28s/it]"
     ]
    },
    {
     "name": "stdout",
     "output_type": "stream",
     "text": [
      "Average Loss for Epoch 827: 2.9450\n",
      "Epoch 828\n"
     ]
    },
    {
     "name": "stderr",
     "output_type": "stream",
     "text": [
      " 83%|████████▎ | 828/1000 [1:02:47<12:43,  4.44s/it]"
     ]
    },
    {
     "name": "stdout",
     "output_type": "stream",
     "text": [
      "Average Loss for Epoch 828: 3.4414\n",
      "Epoch 829\n"
     ]
    },
    {
     "name": "stderr",
     "output_type": "stream",
     "text": [
      " 83%|████████▎ | 829/1000 [1:02:51<12:22,  4.34s/it]"
     ]
    },
    {
     "name": "stdout",
     "output_type": "stream",
     "text": [
      "Average Loss for Epoch 829: 2.7728\n",
      "Epoch 830\n"
     ]
    },
    {
     "name": "stderr",
     "output_type": "stream",
     "text": [
      " 83%|████████▎ | 830/1000 [1:02:56<12:25,  4.39s/it]"
     ]
    },
    {
     "name": "stdout",
     "output_type": "stream",
     "text": [
      "Average Loss for Epoch 830: 2.2603\n",
      "Epoch 831\n"
     ]
    },
    {
     "name": "stderr",
     "output_type": "stream",
     "text": [
      " 83%|████████▎ | 831/1000 [1:03:00<12:15,  4.35s/it]"
     ]
    },
    {
     "name": "stdout",
     "output_type": "stream",
     "text": [
      "Average Loss for Epoch 831: 2.9713\n",
      "Epoch 832\n"
     ]
    },
    {
     "name": "stderr",
     "output_type": "stream",
     "text": [
      " 83%|████████▎ | 832/1000 [1:03:04<12:02,  4.30s/it]"
     ]
    },
    {
     "name": "stdout",
     "output_type": "stream",
     "text": [
      "Average Loss for Epoch 832: 3.0160\n",
      "Epoch 833\n"
     ]
    },
    {
     "name": "stderr",
     "output_type": "stream",
     "text": [
      " 83%|████████▎ | 833/1000 [1:03:09<11:52,  4.27s/it]"
     ]
    },
    {
     "name": "stdout",
     "output_type": "stream",
     "text": [
      "Average Loss for Epoch 833: 2.9041\n",
      "Epoch 834\n"
     ]
    },
    {
     "name": "stderr",
     "output_type": "stream",
     "text": [
      " 83%|████████▎ | 834/1000 [1:03:13<12:07,  4.38s/it]"
     ]
    },
    {
     "name": "stdout",
     "output_type": "stream",
     "text": [
      "Average Loss for Epoch 834: 4.0925\n",
      "Epoch 835\n"
     ]
    },
    {
     "name": "stderr",
     "output_type": "stream",
     "text": [
      " 84%|████████▎ | 835/1000 [1:03:17<11:52,  4.32s/it]"
     ]
    },
    {
     "name": "stdout",
     "output_type": "stream",
     "text": [
      "Average Loss for Epoch 835: 2.8025\n",
      "Epoch 836\n"
     ]
    },
    {
     "name": "stderr",
     "output_type": "stream",
     "text": [
      " 84%|████████▎ | 836/1000 [1:03:22<11:43,  4.29s/it]"
     ]
    },
    {
     "name": "stdout",
     "output_type": "stream",
     "text": [
      "Average Loss for Epoch 836: 2.6410\n",
      "Epoch 837\n"
     ]
    },
    {
     "name": "stderr",
     "output_type": "stream",
     "text": [
      " 84%|████████▎ | 837/1000 [1:03:26<11:44,  4.32s/it]"
     ]
    },
    {
     "name": "stdout",
     "output_type": "stream",
     "text": [
      "Average Loss for Epoch 837: 2.7243\n",
      "Epoch 838\n"
     ]
    },
    {
     "name": "stderr",
     "output_type": "stream",
     "text": [
      " 84%|████████▍ | 838/1000 [1:03:30<11:33,  4.28s/it]"
     ]
    },
    {
     "name": "stdout",
     "output_type": "stream",
     "text": [
      "Average Loss for Epoch 838: 3.4261\n",
      "Epoch 839\n"
     ]
    },
    {
     "name": "stderr",
     "output_type": "stream",
     "text": [
      " 84%|████████▍ | 839/1000 [1:03:34<11:23,  4.25s/it]"
     ]
    },
    {
     "name": "stdout",
     "output_type": "stream",
     "text": [
      "Average Loss for Epoch 839: 3.6392\n",
      "Epoch 840\n"
     ]
    },
    {
     "name": "stderr",
     "output_type": "stream",
     "text": [
      " 84%|████████▍ | 840/1000 [1:03:39<11:14,  4.22s/it]"
     ]
    },
    {
     "name": "stdout",
     "output_type": "stream",
     "text": [
      "Average Loss for Epoch 840: 2.8820\n",
      "Epoch 841\n"
     ]
    },
    {
     "name": "stderr",
     "output_type": "stream",
     "text": [
      " 84%|████████▍ | 841/1000 [1:03:43<11:19,  4.28s/it]"
     ]
    },
    {
     "name": "stdout",
     "output_type": "stream",
     "text": [
      "Average Loss for Epoch 841: 2.1166\n",
      "Epoch 842\n"
     ]
    },
    {
     "name": "stderr",
     "output_type": "stream",
     "text": [
      " 84%|████████▍ | 842/1000 [1:03:48<11:41,  4.44s/it]"
     ]
    },
    {
     "name": "stdout",
     "output_type": "stream",
     "text": [
      "Average Loss for Epoch 842: 3.0358\n",
      "Epoch 843\n"
     ]
    },
    {
     "name": "stderr",
     "output_type": "stream",
     "text": [
      " 84%|████████▍ | 843/1000 [1:03:52<11:23,  4.35s/it]"
     ]
    },
    {
     "name": "stdout",
     "output_type": "stream",
     "text": [
      "Average Loss for Epoch 843: 2.5299\n",
      "Epoch 844\n"
     ]
    },
    {
     "name": "stderr",
     "output_type": "stream",
     "text": [
      " 84%|████████▍ | 844/1000 [1:03:56<11:26,  4.40s/it]"
     ]
    },
    {
     "name": "stdout",
     "output_type": "stream",
     "text": [
      "Average Loss for Epoch 844: 2.5149\n",
      "Epoch 845\n"
     ]
    },
    {
     "name": "stderr",
     "output_type": "stream",
     "text": [
      " 84%|████████▍ | 845/1000 [1:04:01<11:16,  4.36s/it]"
     ]
    },
    {
     "name": "stdout",
     "output_type": "stream",
     "text": [
      "Average Loss for Epoch 845: 3.2576\n",
      "Epoch 846\n"
     ]
    },
    {
     "name": "stderr",
     "output_type": "stream",
     "text": [
      " 85%|████████▍ | 846/1000 [1:04:05<11:03,  4.31s/it]"
     ]
    },
    {
     "name": "stdout",
     "output_type": "stream",
     "text": [
      "Average Loss for Epoch 846: 3.0734\n",
      "Epoch 847\n"
     ]
    },
    {
     "name": "stderr",
     "output_type": "stream",
     "text": [
      " 85%|████████▍ | 847/1000 [1:04:09<10:54,  4.28s/it]"
     ]
    },
    {
     "name": "stdout",
     "output_type": "stream",
     "text": [
      "Average Loss for Epoch 847: 3.1965\n",
      "Epoch 848\n"
     ]
    },
    {
     "name": "stderr",
     "output_type": "stream",
     "text": [
      " 85%|████████▍ | 848/1000 [1:04:13<10:55,  4.31s/it]"
     ]
    },
    {
     "name": "stdout",
     "output_type": "stream",
     "text": [
      "Average Loss for Epoch 848: 3.4069\n",
      "Epoch 849\n"
     ]
    },
    {
     "name": "stderr",
     "output_type": "stream",
     "text": [
      " 85%|████████▍ | 849/1000 [1:04:18<10:47,  4.29s/it]"
     ]
    },
    {
     "name": "stdout",
     "output_type": "stream",
     "text": [
      "Average Loss for Epoch 849: 2.7739\n",
      "Epoch 850\n"
     ]
    },
    {
     "name": "stderr",
     "output_type": "stream",
     "text": [
      " 85%|████████▌ | 850/1000 [1:04:22<10:38,  4.25s/it]"
     ]
    },
    {
     "name": "stdout",
     "output_type": "stream",
     "text": [
      "Average Loss for Epoch 850: 2.7669\n",
      "Epoch 851\n"
     ]
    },
    {
     "name": "stderr",
     "output_type": "stream",
     "text": [
      " 85%|████████▌ | 851/1000 [1:04:26<10:45,  4.33s/it]"
     ]
    },
    {
     "name": "stdout",
     "output_type": "stream",
     "text": [
      "Average Loss for Epoch 851: 2.9944\n",
      "Epoch 852\n"
     ]
    },
    {
     "name": "stderr",
     "output_type": "stream",
     "text": [
      " 85%|████████▌ | 852/1000 [1:04:31<10:38,  4.31s/it]"
     ]
    },
    {
     "name": "stdout",
     "output_type": "stream",
     "text": [
      "Average Loss for Epoch 852: 2.5041\n",
      "Epoch 853\n"
     ]
    },
    {
     "name": "stderr",
     "output_type": "stream",
     "text": [
      " 85%|████████▌ | 853/1000 [1:04:35<10:39,  4.35s/it]"
     ]
    },
    {
     "name": "stdout",
     "output_type": "stream",
     "text": [
      "Average Loss for Epoch 853: 2.8701\n",
      "Epoch 854\n"
     ]
    },
    {
     "name": "stderr",
     "output_type": "stream",
     "text": [
      " 85%|████████▌ | 854/1000 [1:04:39<10:31,  4.33s/it]"
     ]
    },
    {
     "name": "stdout",
     "output_type": "stream",
     "text": [
      "Average Loss for Epoch 854: 2.4901\n",
      "Epoch 855\n"
     ]
    },
    {
     "name": "stderr",
     "output_type": "stream",
     "text": [
      " 86%|████████▌ | 855/1000 [1:04:44<10:28,  4.33s/it]"
     ]
    },
    {
     "name": "stdout",
     "output_type": "stream",
     "text": [
      "Average Loss for Epoch 855: 2.7372\n",
      "Epoch 856\n"
     ]
    },
    {
     "name": "stderr",
     "output_type": "stream",
     "text": [
      " 86%|████████▌ | 856/1000 [1:04:49<10:44,  4.48s/it]"
     ]
    },
    {
     "name": "stdout",
     "output_type": "stream",
     "text": [
      "Average Loss for Epoch 856: 2.8674\n",
      "Epoch 857\n"
     ]
    },
    {
     "name": "stderr",
     "output_type": "stream",
     "text": [
      " 86%|████████▌ | 857/1000 [1:04:53<10:30,  4.41s/it]"
     ]
    },
    {
     "name": "stdout",
     "output_type": "stream",
     "text": [
      "Average Loss for Epoch 857: 2.5210\n",
      "Epoch 858\n"
     ]
    },
    {
     "name": "stderr",
     "output_type": "stream",
     "text": [
      " 86%|████████▌ | 858/1000 [1:04:57<10:28,  4.42s/it]"
     ]
    },
    {
     "name": "stdout",
     "output_type": "stream",
     "text": [
      "Average Loss for Epoch 858: 2.8422\n",
      "Epoch 859\n"
     ]
    },
    {
     "name": "stderr",
     "output_type": "stream",
     "text": [
      " 86%|████████▌ | 859/1000 [1:05:02<10:17,  4.38s/it]"
     ]
    },
    {
     "name": "stdout",
     "output_type": "stream",
     "text": [
      "Average Loss for Epoch 859: 2.6542\n",
      "Epoch 860\n"
     ]
    },
    {
     "name": "stderr",
     "output_type": "stream",
     "text": [
      " 86%|████████▌ | 860/1000 [1:05:06<10:14,  4.39s/it]"
     ]
    },
    {
     "name": "stdout",
     "output_type": "stream",
     "text": [
      "Average Loss for Epoch 860: 2.4832\n",
      "Epoch 861\n"
     ]
    },
    {
     "name": "stderr",
     "output_type": "stream",
     "text": [
      " 86%|████████▌ | 861/1000 [1:05:10<10:09,  4.38s/it]"
     ]
    },
    {
     "name": "stdout",
     "output_type": "stream",
     "text": [
      "Average Loss for Epoch 861: 2.8440\n",
      "Epoch 862\n"
     ]
    },
    {
     "name": "stderr",
     "output_type": "stream",
     "text": [
      " 86%|████████▌ | 862/1000 [1:05:15<09:59,  4.34s/it]"
     ]
    },
    {
     "name": "stdout",
     "output_type": "stream",
     "text": [
      "Average Loss for Epoch 862: 2.6634\n",
      "Epoch 863\n"
     ]
    },
    {
     "name": "stderr",
     "output_type": "stream",
     "text": [
      " 86%|████████▋ | 863/1000 [1:05:19<09:48,  4.30s/it]"
     ]
    },
    {
     "name": "stdout",
     "output_type": "stream",
     "text": [
      "Average Loss for Epoch 863: 2.7516\n",
      "Epoch 864\n"
     ]
    },
    {
     "name": "stderr",
     "output_type": "stream",
     "text": [
      " 86%|████████▋ | 864/1000 [1:05:23<09:38,  4.25s/it]"
     ]
    },
    {
     "name": "stdout",
     "output_type": "stream",
     "text": [
      "Average Loss for Epoch 864: 3.1779\n",
      "Epoch 865\n"
     ]
    },
    {
     "name": "stderr",
     "output_type": "stream",
     "text": [
      " 86%|████████▋ | 865/1000 [1:05:27<09:41,  4.31s/it]"
     ]
    },
    {
     "name": "stdout",
     "output_type": "stream",
     "text": [
      "Average Loss for Epoch 865: 2.9634\n",
      "Epoch 866\n"
     ]
    },
    {
     "name": "stderr",
     "output_type": "stream",
     "text": [
      " 87%|████████▋ | 866/1000 [1:05:31<09:31,  4.27s/it]"
     ]
    },
    {
     "name": "stdout",
     "output_type": "stream",
     "text": [
      "Average Loss for Epoch 866: 2.9450\n",
      "Epoch 867\n"
     ]
    },
    {
     "name": "stderr",
     "output_type": "stream",
     "text": [
      " 87%|████████▋ | 867/1000 [1:05:36<09:22,  4.23s/it]"
     ]
    },
    {
     "name": "stdout",
     "output_type": "stream",
     "text": [
      "Average Loss for Epoch 867: 3.2106\n",
      "Epoch 868\n"
     ]
    },
    {
     "name": "stderr",
     "output_type": "stream",
     "text": [
      " 87%|████████▋ | 868/1000 [1:05:40<09:21,  4.26s/it]"
     ]
    },
    {
     "name": "stdout",
     "output_type": "stream",
     "text": [
      "Average Loss for Epoch 868: 2.5701\n",
      "Epoch 869\n"
     ]
    },
    {
     "name": "stderr",
     "output_type": "stream",
     "text": [
      " 87%|████████▋ | 869/1000 [1:05:44<09:14,  4.23s/it]"
     ]
    },
    {
     "name": "stdout",
     "output_type": "stream",
     "text": [
      "Average Loss for Epoch 869: 3.4814\n",
      "Epoch 870\n"
     ]
    },
    {
     "name": "stderr",
     "output_type": "stream",
     "text": [
      " 87%|████████▋ | 870/1000 [1:05:49<09:31,  4.39s/it]"
     ]
    },
    {
     "name": "stdout",
     "output_type": "stream",
     "text": [
      "Average Loss for Epoch 870: 2.8831\n",
      "Epoch 871\n"
     ]
    },
    {
     "name": "stderr",
     "output_type": "stream",
     "text": [
      " 87%|████████▋ | 871/1000 [1:05:53<09:17,  4.33s/it]"
     ]
    },
    {
     "name": "stdout",
     "output_type": "stream",
     "text": [
      "Average Loss for Epoch 871: 2.4507\n",
      "Epoch 872\n"
     ]
    },
    {
     "name": "stderr",
     "output_type": "stream",
     "text": [
      " 87%|████████▋ | 872/1000 [1:05:58<09:37,  4.51s/it]"
     ]
    },
    {
     "name": "stdout",
     "output_type": "stream",
     "text": [
      "Average Loss for Epoch 872: 2.9481\n",
      "Epoch 873\n"
     ]
    },
    {
     "name": "stderr",
     "output_type": "stream",
     "text": [
      " 87%|████████▋ | 873/1000 [1:06:02<09:20,  4.42s/it]"
     ]
    },
    {
     "name": "stdout",
     "output_type": "stream",
     "text": [
      "Average Loss for Epoch 873: 2.5219\n",
      "Epoch 874\n"
     ]
    },
    {
     "name": "stderr",
     "output_type": "stream",
     "text": [
      " 87%|████████▋ | 874/1000 [1:06:07<09:12,  4.39s/it]"
     ]
    },
    {
     "name": "stdout",
     "output_type": "stream",
     "text": [
      "Average Loss for Epoch 874: 2.8315\n",
      "Epoch 875\n"
     ]
    },
    {
     "name": "stderr",
     "output_type": "stream",
     "text": [
      " 88%|████████▊ | 875/1000 [1:06:11<09:13,  4.42s/it]"
     ]
    },
    {
     "name": "stdout",
     "output_type": "stream",
     "text": [
      "Average Loss for Epoch 875: 3.2138\n",
      "Epoch 876\n"
     ]
    },
    {
     "name": "stderr",
     "output_type": "stream",
     "text": [
      " 88%|████████▊ | 876/1000 [1:06:15<08:59,  4.35s/it]"
     ]
    },
    {
     "name": "stdout",
     "output_type": "stream",
     "text": [
      "Average Loss for Epoch 876: 2.3368\n",
      "Epoch 877\n"
     ]
    },
    {
     "name": "stderr",
     "output_type": "stream",
     "text": [
      " 88%|████████▊ | 877/1000 [1:06:20<08:53,  4.34s/it]"
     ]
    },
    {
     "name": "stdout",
     "output_type": "stream",
     "text": [
      "Average Loss for Epoch 877: 2.9461\n",
      "Epoch 878\n"
     ]
    },
    {
     "name": "stderr",
     "output_type": "stream",
     "text": [
      " 88%|████████▊ | 878/1000 [1:06:24<08:48,  4.33s/it]"
     ]
    },
    {
     "name": "stdout",
     "output_type": "stream",
     "text": [
      "Average Loss for Epoch 878: 3.4407\n",
      "Epoch 879\n"
     ]
    },
    {
     "name": "stderr",
     "output_type": "stream",
     "text": [
      " 88%|████████▊ | 879/1000 [1:06:28<08:47,  4.36s/it]"
     ]
    },
    {
     "name": "stdout",
     "output_type": "stream",
     "text": [
      "Average Loss for Epoch 879: 2.4205\n",
      "Epoch 880\n"
     ]
    },
    {
     "name": "stderr",
     "output_type": "stream",
     "text": [
      " 88%|████████▊ | 880/1000 [1:06:32<08:37,  4.31s/it]"
     ]
    },
    {
     "name": "stdout",
     "output_type": "stream",
     "text": [
      "Average Loss for Epoch 880: 2.6742\n",
      "Epoch 881\n"
     ]
    },
    {
     "name": "stderr",
     "output_type": "stream",
     "text": [
      " 88%|████████▊ | 881/1000 [1:06:37<08:27,  4.27s/it]"
     ]
    },
    {
     "name": "stdout",
     "output_type": "stream",
     "text": [
      "Average Loss for Epoch 881: 3.2076\n",
      "Epoch 882\n"
     ]
    },
    {
     "name": "stderr",
     "output_type": "stream",
     "text": [
      " 88%|████████▊ | 882/1000 [1:06:41<08:29,  4.31s/it]"
     ]
    },
    {
     "name": "stdout",
     "output_type": "stream",
     "text": [
      "Average Loss for Epoch 882: 2.8221\n",
      "Epoch 883\n"
     ]
    },
    {
     "name": "stderr",
     "output_type": "stream",
     "text": [
      " 88%|████████▊ | 883/1000 [1:06:46<08:31,  4.38s/it]"
     ]
    },
    {
     "name": "stdout",
     "output_type": "stream",
     "text": [
      "Average Loss for Epoch 883: 3.5230\n",
      "Epoch 884\n"
     ]
    },
    {
     "name": "stderr",
     "output_type": "stream",
     "text": [
      " 88%|████████▊ | 884/1000 [1:06:50<08:33,  4.42s/it]"
     ]
    },
    {
     "name": "stdout",
     "output_type": "stream",
     "text": [
      "Average Loss for Epoch 884: 2.7315\n",
      "Epoch 885\n"
     ]
    },
    {
     "name": "stderr",
     "output_type": "stream",
     "text": [
      " 88%|████████▊ | 885/1000 [1:06:54<08:18,  4.33s/it]"
     ]
    },
    {
     "name": "stdout",
     "output_type": "stream",
     "text": [
      "Average Loss for Epoch 885: 3.3427\n",
      "Epoch 886\n"
     ]
    },
    {
     "name": "stderr",
     "output_type": "stream",
     "text": [
      " 89%|████████▊ | 886/1000 [1:06:59<08:25,  4.43s/it]"
     ]
    },
    {
     "name": "stdout",
     "output_type": "stream",
     "text": [
      "Average Loss for Epoch 886: 3.6756\n",
      "Epoch 887\n"
     ]
    },
    {
     "name": "stderr",
     "output_type": "stream",
     "text": [
      " 89%|████████▊ | 887/1000 [1:07:03<08:18,  4.41s/it]"
     ]
    },
    {
     "name": "stdout",
     "output_type": "stream",
     "text": [
      "Average Loss for Epoch 887: 2.5756\n",
      "Epoch 888\n"
     ]
    },
    {
     "name": "stderr",
     "output_type": "stream",
     "text": [
      " 89%|████████▉ | 888/1000 [1:07:07<08:07,  4.35s/it]"
     ]
    },
    {
     "name": "stdout",
     "output_type": "stream",
     "text": [
      "Average Loss for Epoch 888: 3.7521\n",
      "Epoch 889\n"
     ]
    },
    {
     "name": "stderr",
     "output_type": "stream",
     "text": [
      " 89%|████████▉ | 889/1000 [1:07:12<08:02,  4.35s/it]"
     ]
    },
    {
     "name": "stdout",
     "output_type": "stream",
     "text": [
      "Average Loss for Epoch 889: 2.5096\n",
      "Epoch 890\n"
     ]
    },
    {
     "name": "stderr",
     "output_type": "stream",
     "text": [
      " 89%|████████▉ | 890/1000 [1:07:16<07:53,  4.30s/it]"
     ]
    },
    {
     "name": "stdout",
     "output_type": "stream",
     "text": [
      "Average Loss for Epoch 890: 3.3246\n",
      "Epoch 891\n"
     ]
    },
    {
     "name": "stderr",
     "output_type": "stream",
     "text": [
      " 89%|████████▉ | 891/1000 [1:07:20<07:42,  4.24s/it]"
     ]
    },
    {
     "name": "stdout",
     "output_type": "stream",
     "text": [
      "Average Loss for Epoch 891: 2.6319\n",
      "Epoch 892\n"
     ]
    },
    {
     "name": "stderr",
     "output_type": "stream",
     "text": [
      " 89%|████████▉ | 892/1000 [1:07:24<07:35,  4.22s/it]"
     ]
    },
    {
     "name": "stdout",
     "output_type": "stream",
     "text": [
      "Average Loss for Epoch 892: 2.5645\n",
      "Epoch 893\n"
     ]
    },
    {
     "name": "stderr",
     "output_type": "stream",
     "text": [
      " 89%|████████▉ | 893/1000 [1:07:29<07:38,  4.29s/it]"
     ]
    },
    {
     "name": "stdout",
     "output_type": "stream",
     "text": [
      "Average Loss for Epoch 893: 2.3498\n",
      "Epoch 894\n"
     ]
    },
    {
     "name": "stderr",
     "output_type": "stream",
     "text": [
      " 89%|████████▉ | 894/1000 [1:07:33<07:28,  4.23s/it]"
     ]
    },
    {
     "name": "stdout",
     "output_type": "stream",
     "text": [
      "Average Loss for Epoch 894: 3.2002\n",
      "Epoch 895\n"
     ]
    },
    {
     "name": "stderr",
     "output_type": "stream",
     "text": [
      " 90%|████████▉ | 895/1000 [1:07:37<07:23,  4.22s/it]"
     ]
    },
    {
     "name": "stdout",
     "output_type": "stream",
     "text": [
      "Average Loss for Epoch 895: 2.4042\n",
      "Epoch 896\n"
     ]
    },
    {
     "name": "stderr",
     "output_type": "stream",
     "text": [
      " 90%|████████▉ | 896/1000 [1:07:41<07:23,  4.27s/it]"
     ]
    },
    {
     "name": "stdout",
     "output_type": "stream",
     "text": [
      "Average Loss for Epoch 896: 3.3969\n",
      "Epoch 897\n"
     ]
    },
    {
     "name": "stderr",
     "output_type": "stream",
     "text": [
      " 90%|████████▉ | 897/1000 [1:07:46<07:16,  4.24s/it]"
     ]
    },
    {
     "name": "stdout",
     "output_type": "stream",
     "text": [
      "Average Loss for Epoch 897: 2.5972\n",
      "Epoch 898\n"
     ]
    },
    {
     "name": "stderr",
     "output_type": "stream",
     "text": [
      " 90%|████████▉ | 898/1000 [1:07:50<07:28,  4.40s/it]"
     ]
    },
    {
     "name": "stdout",
     "output_type": "stream",
     "text": [
      "Average Loss for Epoch 898: 3.5199\n",
      "Epoch 899\n"
     ]
    },
    {
     "name": "stderr",
     "output_type": "stream",
     "text": [
      " 90%|████████▉ | 899/1000 [1:07:54<07:14,  4.30s/it]"
     ]
    },
    {
     "name": "stdout",
     "output_type": "stream",
     "text": [
      "Average Loss for Epoch 899: 2.5948\n",
      "Epoch 900\n"
     ]
    },
    {
     "name": "stderr",
     "output_type": "stream",
     "text": [
      " 90%|█████████ | 900/1000 [1:07:59<07:18,  4.39s/it]"
     ]
    },
    {
     "name": "stdout",
     "output_type": "stream",
     "text": [
      "Average Loss for Epoch 900: 2.6213\n",
      "Epoch 901\n"
     ]
    },
    {
     "name": "stderr",
     "output_type": "stream",
     "text": [
      " 90%|█████████ | 901/1000 [1:08:03<07:09,  4.34s/it]"
     ]
    },
    {
     "name": "stdout",
     "output_type": "stream",
     "text": [
      "Average Loss for Epoch 901: 3.1669\n",
      "Epoch 902\n"
     ]
    },
    {
     "name": "stderr",
     "output_type": "stream",
     "text": [
      " 90%|█████████ | 902/1000 [1:08:07<07:01,  4.30s/it]"
     ]
    },
    {
     "name": "stdout",
     "output_type": "stream",
     "text": [
      "Average Loss for Epoch 902: 2.4775\n",
      "Epoch 903\n"
     ]
    },
    {
     "name": "stderr",
     "output_type": "stream",
     "text": [
      " 90%|█████████ | 903/1000 [1:08:12<07:00,  4.34s/it]"
     ]
    },
    {
     "name": "stdout",
     "output_type": "stream",
     "text": [
      "Average Loss for Epoch 903: 3.2286\n",
      "Epoch 904\n"
     ]
    },
    {
     "name": "stderr",
     "output_type": "stream",
     "text": [
      " 90%|█████████ | 904/1000 [1:08:16<06:53,  4.30s/it]"
     ]
    },
    {
     "name": "stdout",
     "output_type": "stream",
     "text": [
      "Average Loss for Epoch 904: 3.2699\n",
      "Epoch 905\n"
     ]
    },
    {
     "name": "stderr",
     "output_type": "stream",
     "text": [
      " 90%|█████████ | 905/1000 [1:08:20<06:44,  4.26s/it]"
     ]
    },
    {
     "name": "stdout",
     "output_type": "stream",
     "text": [
      "Average Loss for Epoch 905: 2.7954\n",
      "Epoch 906\n"
     ]
    },
    {
     "name": "stderr",
     "output_type": "stream",
     "text": [
      " 91%|█████████ | 906/1000 [1:08:24<06:37,  4.23s/it]"
     ]
    },
    {
     "name": "stdout",
     "output_type": "stream",
     "text": [
      "Average Loss for Epoch 906: 2.8098\n",
      "Epoch 907\n"
     ]
    },
    {
     "name": "stderr",
     "output_type": "stream",
     "text": [
      " 91%|█████████ | 907/1000 [1:08:29<06:42,  4.33s/it]"
     ]
    },
    {
     "name": "stdout",
     "output_type": "stream",
     "text": [
      "Average Loss for Epoch 907: 3.1145\n",
      "Epoch 908\n"
     ]
    },
    {
     "name": "stderr",
     "output_type": "stream",
     "text": [
      " 91%|█████████ | 908/1000 [1:08:33<06:33,  4.27s/it]"
     ]
    },
    {
     "name": "stdout",
     "output_type": "stream",
     "text": [
      "Average Loss for Epoch 908: 3.2953\n",
      "Epoch 909\n"
     ]
    },
    {
     "name": "stderr",
     "output_type": "stream",
     "text": [
      " 91%|█████████ | 909/1000 [1:08:37<06:26,  4.25s/it]"
     ]
    },
    {
     "name": "stdout",
     "output_type": "stream",
     "text": [
      "Average Loss for Epoch 909: 2.9313\n",
      "Epoch 910\n"
     ]
    },
    {
     "name": "stderr",
     "output_type": "stream",
     "text": [
      " 91%|█████████ | 910/1000 [1:08:42<06:24,  4.28s/it]"
     ]
    },
    {
     "name": "stdout",
     "output_type": "stream",
     "text": [
      "Average Loss for Epoch 910: 2.4646\n",
      "Epoch 911\n"
     ]
    },
    {
     "name": "stderr",
     "output_type": "stream",
     "text": [
      " 91%|█████████ | 911/1000 [1:08:46<06:17,  4.24s/it]"
     ]
    },
    {
     "name": "stdout",
     "output_type": "stream",
     "text": [
      "Average Loss for Epoch 911: 2.7512\n",
      "Epoch 912\n"
     ]
    },
    {
     "name": "stderr",
     "output_type": "stream",
     "text": [
      " 91%|█████████ | 912/1000 [1:08:51<06:27,  4.40s/it]"
     ]
    },
    {
     "name": "stdout",
     "output_type": "stream",
     "text": [
      "Average Loss for Epoch 912: 2.7499\n",
      "Epoch 913\n"
     ]
    },
    {
     "name": "stderr",
     "output_type": "stream",
     "text": [
      " 91%|█████████▏| 913/1000 [1:08:55<06:16,  4.33s/it]"
     ]
    },
    {
     "name": "stdout",
     "output_type": "stream",
     "text": [
      "Average Loss for Epoch 913: 3.2830\n",
      "Epoch 914\n"
     ]
    },
    {
     "name": "stderr",
     "output_type": "stream",
     "text": [
      " 91%|█████████▏| 914/1000 [1:08:59<06:17,  4.39s/it]"
     ]
    },
    {
     "name": "stdout",
     "output_type": "stream",
     "text": [
      "Average Loss for Epoch 914: 2.6564\n",
      "Epoch 915\n"
     ]
    },
    {
     "name": "stderr",
     "output_type": "stream",
     "text": [
      " 92%|█████████▏| 915/1000 [1:09:04<06:10,  4.35s/it]"
     ]
    },
    {
     "name": "stdout",
     "output_type": "stream",
     "text": [
      "Average Loss for Epoch 915: 3.0989\n",
      "Epoch 916\n"
     ]
    },
    {
     "name": "stderr",
     "output_type": "stream",
     "text": [
      " 92%|█████████▏| 916/1000 [1:09:08<06:00,  4.29s/it]"
     ]
    },
    {
     "name": "stdout",
     "output_type": "stream",
     "text": [
      "Average Loss for Epoch 916: 2.1289\n",
      "Epoch 917\n"
     ]
    },
    {
     "name": "stderr",
     "output_type": "stream",
     "text": [
      " 92%|█████████▏| 917/1000 [1:09:12<05:57,  4.31s/it]"
     ]
    },
    {
     "name": "stdout",
     "output_type": "stream",
     "text": [
      "Average Loss for Epoch 917: 3.5179\n",
      "Epoch 918\n"
     ]
    },
    {
     "name": "stderr",
     "output_type": "stream",
     "text": [
      " 92%|█████████▏| 918/1000 [1:09:16<05:51,  4.29s/it]"
     ]
    },
    {
     "name": "stdout",
     "output_type": "stream",
     "text": [
      "Average Loss for Epoch 918: 2.8472\n",
      "Epoch 919\n"
     ]
    },
    {
     "name": "stderr",
     "output_type": "stream",
     "text": [
      " 92%|█████████▏| 919/1000 [1:09:20<05:43,  4.24s/it]"
     ]
    },
    {
     "name": "stdout",
     "output_type": "stream",
     "text": [
      "Average Loss for Epoch 919: 2.8781\n",
      "Epoch 920\n"
     ]
    },
    {
     "name": "stderr",
     "output_type": "stream",
     "text": [
      " 92%|█████████▏| 920/1000 [1:09:25<05:38,  4.23s/it]"
     ]
    },
    {
     "name": "stdout",
     "output_type": "stream",
     "text": [
      "Average Loss for Epoch 920: 2.3949\n",
      "Epoch 921\n"
     ]
    },
    {
     "name": "stderr",
     "output_type": "stream",
     "text": [
      " 92%|█████████▏| 921/1000 [1:09:29<05:42,  4.33s/it]"
     ]
    },
    {
     "name": "stdout",
     "output_type": "stream",
     "text": [
      "Average Loss for Epoch 921: 2.9745\n",
      "Epoch 922\n"
     ]
    },
    {
     "name": "stderr",
     "output_type": "stream",
     "text": [
      " 92%|█████████▏| 922/1000 [1:09:33<05:33,  4.28s/it]"
     ]
    },
    {
     "name": "stdout",
     "output_type": "stream",
     "text": [
      "Average Loss for Epoch 922: 2.6680\n",
      "Epoch 923\n"
     ]
    },
    {
     "name": "stderr",
     "output_type": "stream",
     "text": [
      " 92%|█████████▏| 923/1000 [1:09:38<05:34,  4.35s/it]"
     ]
    },
    {
     "name": "stdout",
     "output_type": "stream",
     "text": [
      "Average Loss for Epoch 923: 2.2248\n",
      "Epoch 924\n"
     ]
    },
    {
     "name": "stderr",
     "output_type": "stream",
     "text": [
      " 92%|█████████▏| 924/1000 [1:09:43<05:40,  4.49s/it]"
     ]
    },
    {
     "name": "stdout",
     "output_type": "stream",
     "text": [
      "Average Loss for Epoch 924: 2.9427\n",
      "Epoch 925\n"
     ]
    },
    {
     "name": "stderr",
     "output_type": "stream",
     "text": [
      " 92%|█████████▎| 925/1000 [1:09:47<05:32,  4.43s/it]"
     ]
    },
    {
     "name": "stdout",
     "output_type": "stream",
     "text": [
      "Average Loss for Epoch 925: 2.7164\n",
      "Epoch 926\n"
     ]
    },
    {
     "name": "stderr",
     "output_type": "stream",
     "text": [
      " 93%|█████████▎| 926/1000 [1:09:51<05:29,  4.46s/it]"
     ]
    },
    {
     "name": "stdout",
     "output_type": "stream",
     "text": [
      "Average Loss for Epoch 926: 3.2755\n",
      "Epoch 927\n"
     ]
    },
    {
     "name": "stderr",
     "output_type": "stream",
     "text": [
      " 93%|█████████▎| 927/1000 [1:09:56<05:36,  4.61s/it]"
     ]
    },
    {
     "name": "stdout",
     "output_type": "stream",
     "text": [
      "Average Loss for Epoch 927: 2.8205\n",
      "Epoch 928\n"
     ]
    },
    {
     "name": "stderr",
     "output_type": "stream",
     "text": [
      " 93%|█████████▎| 928/1000 [1:10:01<05:28,  4.57s/it]"
     ]
    },
    {
     "name": "stdout",
     "output_type": "stream",
     "text": [
      "Average Loss for Epoch 928: 2.8828\n",
      "Epoch 929\n"
     ]
    },
    {
     "name": "stderr",
     "output_type": "stream",
     "text": [
      " 93%|█████████▎| 929/1000 [1:10:05<05:18,  4.48s/it]"
     ]
    },
    {
     "name": "stdout",
     "output_type": "stream",
     "text": [
      "Average Loss for Epoch 929: 2.6427\n",
      "Epoch 930\n"
     ]
    },
    {
     "name": "stderr",
     "output_type": "stream",
     "text": [
      " 93%|█████████▎| 930/1000 [1:10:09<05:08,  4.40s/it]"
     ]
    },
    {
     "name": "stdout",
     "output_type": "stream",
     "text": [
      "Average Loss for Epoch 930: 2.8039\n",
      "Epoch 931\n"
     ]
    },
    {
     "name": "stderr",
     "output_type": "stream",
     "text": [
      " 93%|█████████▎| 931/1000 [1:10:14<05:05,  4.43s/it]"
     ]
    },
    {
     "name": "stdout",
     "output_type": "stream",
     "text": [
      "Average Loss for Epoch 931: 3.0389\n",
      "Epoch 932\n"
     ]
    },
    {
     "name": "stderr",
     "output_type": "stream",
     "text": [
      " 93%|█████████▎| 932/1000 [1:10:18<04:56,  4.35s/it]"
     ]
    },
    {
     "name": "stdout",
     "output_type": "stream",
     "text": [
      "Average Loss for Epoch 932: 2.4817\n",
      "Epoch 933\n"
     ]
    },
    {
     "name": "stderr",
     "output_type": "stream",
     "text": [
      " 93%|█████████▎| 933/1000 [1:10:22<04:51,  4.35s/it]"
     ]
    },
    {
     "name": "stdout",
     "output_type": "stream",
     "text": [
      "Average Loss for Epoch 933: 2.9303\n",
      "Epoch 934\n"
     ]
    },
    {
     "name": "stderr",
     "output_type": "stream",
     "text": [
      " 93%|█████████▎| 934/1000 [1:10:27<04:49,  4.38s/it]"
     ]
    },
    {
     "name": "stdout",
     "output_type": "stream",
     "text": [
      "Average Loss for Epoch 934: 2.3533\n",
      "Epoch 935\n"
     ]
    },
    {
     "name": "stderr",
     "output_type": "stream",
     "text": [
      " 94%|█████████▎| 935/1000 [1:10:31<04:42,  4.34s/it]"
     ]
    },
    {
     "name": "stdout",
     "output_type": "stream",
     "text": [
      "Average Loss for Epoch 935: 3.4132\n",
      "Epoch 936\n"
     ]
    },
    {
     "name": "stderr",
     "output_type": "stream",
     "text": [
      " 94%|█████████▎| 936/1000 [1:10:35<04:36,  4.33s/it]"
     ]
    },
    {
     "name": "stdout",
     "output_type": "stream",
     "text": [
      "Average Loss for Epoch 936: 2.7067\n",
      "Epoch 937\n"
     ]
    },
    {
     "name": "stderr",
     "output_type": "stream",
     "text": [
      " 94%|█████████▎| 937/1000 [1:10:40<04:31,  4.31s/it]"
     ]
    },
    {
     "name": "stdout",
     "output_type": "stream",
     "text": [
      "Average Loss for Epoch 937: 2.8557\n",
      "Epoch 938\n"
     ]
    },
    {
     "name": "stderr",
     "output_type": "stream",
     "text": [
      " 94%|█████████▍| 938/1000 [1:10:44<04:31,  4.38s/it]"
     ]
    },
    {
     "name": "stdout",
     "output_type": "stream",
     "text": [
      "Average Loss for Epoch 938: 3.0857\n",
      "Epoch 939\n"
     ]
    },
    {
     "name": "stderr",
     "output_type": "stream",
     "text": [
      " 94%|█████████▍| 939/1000 [1:10:49<04:34,  4.50s/it]"
     ]
    },
    {
     "name": "stdout",
     "output_type": "stream",
     "text": [
      "Average Loss for Epoch 939: 3.2344\n",
      "Epoch 940\n"
     ]
    },
    {
     "name": "stderr",
     "output_type": "stream",
     "text": [
      " 94%|█████████▍| 940/1000 [1:10:53<04:27,  4.46s/it]"
     ]
    },
    {
     "name": "stdout",
     "output_type": "stream",
     "text": [
      "Average Loss for Epoch 940: 2.0601\n",
      "Epoch 941\n"
     ]
    },
    {
     "name": "stderr",
     "output_type": "stream",
     "text": [
      " 94%|█████████▍| 941/1000 [1:10:58<04:23,  4.46s/it]"
     ]
    },
    {
     "name": "stdout",
     "output_type": "stream",
     "text": [
      "Average Loss for Epoch 941: 2.6812\n",
      "Epoch 942\n"
     ]
    },
    {
     "name": "stderr",
     "output_type": "stream",
     "text": [
      " 94%|█████████▍| 942/1000 [1:11:02<04:15,  4.40s/it]"
     ]
    },
    {
     "name": "stdout",
     "output_type": "stream",
     "text": [
      "Average Loss for Epoch 942: 3.1228\n",
      "Epoch 943\n"
     ]
    },
    {
     "name": "stderr",
     "output_type": "stream",
     "text": [
      " 94%|█████████▍| 943/1000 [1:11:06<04:08,  4.35s/it]"
     ]
    },
    {
     "name": "stdout",
     "output_type": "stream",
     "text": [
      "Average Loss for Epoch 943: 2.4397\n",
      "Epoch 944\n"
     ]
    },
    {
     "name": "stderr",
     "output_type": "stream",
     "text": [
      " 94%|█████████▍| 944/1000 [1:11:11<04:05,  4.38s/it]"
     ]
    },
    {
     "name": "stdout",
     "output_type": "stream",
     "text": [
      "Average Loss for Epoch 944: 2.3894\n",
      "Epoch 945\n"
     ]
    },
    {
     "name": "stderr",
     "output_type": "stream",
     "text": [
      " 94%|█████████▍| 945/1000 [1:11:15<03:58,  4.34s/it]"
     ]
    },
    {
     "name": "stdout",
     "output_type": "stream",
     "text": [
      "Average Loss for Epoch 945: 2.6710\n",
      "Epoch 946\n"
     ]
    },
    {
     "name": "stderr",
     "output_type": "stream",
     "text": [
      " 95%|█████████▍| 946/1000 [1:11:19<03:53,  4.32s/it]"
     ]
    },
    {
     "name": "stdout",
     "output_type": "stream",
     "text": [
      "Average Loss for Epoch 946: 2.5346\n",
      "Epoch 947\n"
     ]
    },
    {
     "name": "stderr",
     "output_type": "stream",
     "text": [
      " 95%|█████████▍| 947/1000 [1:11:23<03:45,  4.26s/it]"
     ]
    },
    {
     "name": "stdout",
     "output_type": "stream",
     "text": [
      "Average Loss for Epoch 947: 3.1108\n",
      "Epoch 948\n"
     ]
    },
    {
     "name": "stderr",
     "output_type": "stream",
     "text": [
      " 95%|█████████▍| 948/1000 [1:11:28<03:43,  4.31s/it]"
     ]
    },
    {
     "name": "stdout",
     "output_type": "stream",
     "text": [
      "Average Loss for Epoch 948: 2.3849\n",
      "Epoch 949\n"
     ]
    },
    {
     "name": "stderr",
     "output_type": "stream",
     "text": [
      " 95%|█████████▍| 949/1000 [1:11:32<03:38,  4.28s/it]"
     ]
    },
    {
     "name": "stdout",
     "output_type": "stream",
     "text": [
      "Average Loss for Epoch 949: 2.8989\n",
      "Epoch 950\n"
     ]
    },
    {
     "name": "stderr",
     "output_type": "stream",
     "text": [
      " 95%|█████████▌| 950/1000 [1:11:36<03:32,  4.24s/it]"
     ]
    },
    {
     "name": "stdout",
     "output_type": "stream",
     "text": [
      "Average Loss for Epoch 950: 3.1690\n",
      "Epoch 951\n"
     ]
    },
    {
     "name": "stderr",
     "output_type": "stream",
     "text": [
      " 95%|█████████▌| 951/1000 [1:11:41<03:29,  4.28s/it]"
     ]
    },
    {
     "name": "stdout",
     "output_type": "stream",
     "text": [
      "Average Loss for Epoch 951: 3.0164\n",
      "Epoch 952\n"
     ]
    },
    {
     "name": "stderr",
     "output_type": "stream",
     "text": [
      " 95%|█████████▌| 952/1000 [1:11:45<03:23,  4.24s/it]"
     ]
    },
    {
     "name": "stdout",
     "output_type": "stream",
     "text": [
      "Average Loss for Epoch 952: 3.1023\n",
      "Epoch 953\n"
     ]
    },
    {
     "name": "stderr",
     "output_type": "stream",
     "text": [
      " 95%|█████████▌| 953/1000 [1:11:49<03:25,  4.38s/it]"
     ]
    },
    {
     "name": "stdout",
     "output_type": "stream",
     "text": [
      "Average Loss for Epoch 953: 2.4279\n",
      "Epoch 954\n"
     ]
    },
    {
     "name": "stderr",
     "output_type": "stream",
     "text": [
      " 95%|█████████▌| 954/1000 [1:11:54<03:21,  4.38s/it]"
     ]
    },
    {
     "name": "stdout",
     "output_type": "stream",
     "text": [
      "Average Loss for Epoch 954: 2.5220\n",
      "Epoch 955\n"
     ]
    },
    {
     "name": "stderr",
     "output_type": "stream",
     "text": [
      " 96%|█████████▌| 955/1000 [1:11:59<03:22,  4.50s/it]"
     ]
    },
    {
     "name": "stdout",
     "output_type": "stream",
     "text": [
      "Average Loss for Epoch 955: 3.0829\n",
      "Epoch 956\n"
     ]
    },
    {
     "name": "stderr",
     "output_type": "stream",
     "text": [
      " 96%|█████████▌| 956/1000 [1:12:03<03:13,  4.40s/it]"
     ]
    },
    {
     "name": "stdout",
     "output_type": "stream",
     "text": [
      "Average Loss for Epoch 956: 2.4237\n",
      "Epoch 957\n"
     ]
    },
    {
     "name": "stderr",
     "output_type": "stream",
     "text": [
      " 96%|█████████▌| 957/1000 [1:12:07<03:07,  4.35s/it]"
     ]
    },
    {
     "name": "stdout",
     "output_type": "stream",
     "text": [
      "Average Loss for Epoch 957: 2.4562\n",
      "Epoch 958\n"
     ]
    },
    {
     "name": "stderr",
     "output_type": "stream",
     "text": [
      " 96%|█████████▌| 958/1000 [1:12:11<03:02,  4.35s/it]"
     ]
    },
    {
     "name": "stdout",
     "output_type": "stream",
     "text": [
      "Average Loss for Epoch 958: 2.3335\n",
      "Epoch 959\n"
     ]
    },
    {
     "name": "stderr",
     "output_type": "stream",
     "text": [
      " 96%|█████████▌| 959/1000 [1:12:15<02:56,  4.30s/it]"
     ]
    },
    {
     "name": "stdout",
     "output_type": "stream",
     "text": [
      "Average Loss for Epoch 959: 2.5229\n",
      "Epoch 960\n"
     ]
    },
    {
     "name": "stderr",
     "output_type": "stream",
     "text": [
      " 96%|█████████▌| 960/1000 [1:12:20<02:51,  4.28s/it]"
     ]
    },
    {
     "name": "stdout",
     "output_type": "stream",
     "text": [
      "Average Loss for Epoch 960: 2.4072\n",
      "Epoch 961\n"
     ]
    },
    {
     "name": "stderr",
     "output_type": "stream",
     "text": [
      " 96%|█████████▌| 961/1000 [1:12:24<02:45,  4.25s/it]"
     ]
    },
    {
     "name": "stdout",
     "output_type": "stream",
     "text": [
      "Average Loss for Epoch 961: 2.2437\n",
      "Epoch 962\n"
     ]
    },
    {
     "name": "stderr",
     "output_type": "stream",
     "text": [
      " 96%|█████████▌| 962/1000 [1:12:28<02:43,  4.31s/it]"
     ]
    },
    {
     "name": "stdout",
     "output_type": "stream",
     "text": [
      "Average Loss for Epoch 962: 2.7675\n",
      "Epoch 963\n"
     ]
    },
    {
     "name": "stderr",
     "output_type": "stream",
     "text": [
      " 96%|█████████▋| 963/1000 [1:12:33<02:38,  4.27s/it]"
     ]
    },
    {
     "name": "stdout",
     "output_type": "stream",
     "text": [
      "Average Loss for Epoch 963: 2.8339\n",
      "Epoch 964\n"
     ]
    },
    {
     "name": "stderr",
     "output_type": "stream",
     "text": [
      " 96%|█████████▋| 964/1000 [1:12:37<02:33,  4.25s/it]"
     ]
    },
    {
     "name": "stdout",
     "output_type": "stream",
     "text": [
      "Average Loss for Epoch 964: 2.4198\n",
      "Epoch 965\n"
     ]
    },
    {
     "name": "stderr",
     "output_type": "stream",
     "text": [
      " 96%|█████████▋| 965/1000 [1:12:41<02:30,  4.29s/it]"
     ]
    },
    {
     "name": "stdout",
     "output_type": "stream",
     "text": [
      "Average Loss for Epoch 965: 2.6306\n",
      "Epoch 966\n"
     ]
    },
    {
     "name": "stderr",
     "output_type": "stream",
     "text": [
      " 97%|█████████▋| 966/1000 [1:12:45<02:24,  4.26s/it]"
     ]
    },
    {
     "name": "stdout",
     "output_type": "stream",
     "text": [
      "Average Loss for Epoch 966: 3.1142\n",
      "Epoch 967\n"
     ]
    },
    {
     "name": "stderr",
     "output_type": "stream",
     "text": [
      " 97%|█████████▋| 967/1000 [1:12:50<02:20,  4.25s/it]"
     ]
    },
    {
     "name": "stdout",
     "output_type": "stream",
     "text": [
      "Average Loss for Epoch 967: 2.5847\n",
      "Epoch 968\n"
     ]
    },
    {
     "name": "stderr",
     "output_type": "stream",
     "text": [
      " 97%|█████████▋| 968/1000 [1:12:54<02:15,  4.24s/it]"
     ]
    },
    {
     "name": "stdout",
     "output_type": "stream",
     "text": [
      "Average Loss for Epoch 968: 2.5577\n",
      "Epoch 969\n"
     ]
    },
    {
     "name": "stderr",
     "output_type": "stream",
     "text": [
      " 97%|█████████▋| 969/1000 [1:12:58<02:14,  4.33s/it]"
     ]
    },
    {
     "name": "stdout",
     "output_type": "stream",
     "text": [
      "Average Loss for Epoch 969: 2.9413\n",
      "Epoch 970\n"
     ]
    },
    {
     "name": "stderr",
     "output_type": "stream",
     "text": [
      " 97%|█████████▋| 970/1000 [1:13:03<02:15,  4.51s/it]"
     ]
    },
    {
     "name": "stdout",
     "output_type": "stream",
     "text": [
      "Average Loss for Epoch 970: 3.2229\n",
      "Epoch 971\n"
     ]
    },
    {
     "name": "stderr",
     "output_type": "stream",
     "text": [
      " 97%|█████████▋| 971/1000 [1:13:07<02:08,  4.42s/it]"
     ]
    },
    {
     "name": "stdout",
     "output_type": "stream",
     "text": [
      "Average Loss for Epoch 971: 2.4127\n",
      "Epoch 972\n"
     ]
    },
    {
     "name": "stderr",
     "output_type": "stream",
     "text": [
      " 97%|█████████▋| 972/1000 [1:13:12<02:03,  4.42s/it]"
     ]
    },
    {
     "name": "stdout",
     "output_type": "stream",
     "text": [
      "Average Loss for Epoch 972: 2.4278\n",
      "Epoch 973\n"
     ]
    },
    {
     "name": "stderr",
     "output_type": "stream",
     "text": [
      " 97%|█████████▋| 973/1000 [1:13:16<01:58,  4.38s/it]"
     ]
    },
    {
     "name": "stdout",
     "output_type": "stream",
     "text": [
      "Average Loss for Epoch 973: 2.6938\n",
      "Epoch 974\n"
     ]
    },
    {
     "name": "stderr",
     "output_type": "stream",
     "text": [
      " 97%|█████████▋| 974/1000 [1:13:20<01:52,  4.33s/it]"
     ]
    },
    {
     "name": "stdout",
     "output_type": "stream",
     "text": [
      "Average Loss for Epoch 974: 2.4263\n",
      "Epoch 975\n"
     ]
    },
    {
     "name": "stderr",
     "output_type": "stream",
     "text": [
      " 98%|█████████▊| 975/1000 [1:13:25<01:47,  4.32s/it]"
     ]
    },
    {
     "name": "stdout",
     "output_type": "stream",
     "text": [
      "Average Loss for Epoch 975: 2.3629\n",
      "Epoch 976\n"
     ]
    },
    {
     "name": "stderr",
     "output_type": "stream",
     "text": [
      " 98%|█████████▊| 976/1000 [1:13:29<01:43,  4.32s/it]"
     ]
    },
    {
     "name": "stdout",
     "output_type": "stream",
     "text": [
      "Average Loss for Epoch 976: 3.1520\n",
      "Epoch 977\n"
     ]
    },
    {
     "name": "stderr",
     "output_type": "stream",
     "text": [
      " 98%|█████████▊| 977/1000 [1:13:33<01:38,  4.29s/it]"
     ]
    },
    {
     "name": "stdout",
     "output_type": "stream",
     "text": [
      "Average Loss for Epoch 977: 2.5185\n",
      "Epoch 978\n"
     ]
    },
    {
     "name": "stderr",
     "output_type": "stream",
     "text": [
      " 98%|█████████▊| 978/1000 [1:13:37<01:33,  4.26s/it]"
     ]
    },
    {
     "name": "stdout",
     "output_type": "stream",
     "text": [
      "Average Loss for Epoch 978: 2.7672\n",
      "Epoch 979\n"
     ]
    },
    {
     "name": "stderr",
     "output_type": "stream",
     "text": [
      " 98%|█████████▊| 979/1000 [1:13:42<01:31,  4.37s/it]"
     ]
    },
    {
     "name": "stdout",
     "output_type": "stream",
     "text": [
      "Average Loss for Epoch 979: 2.2357\n",
      "Epoch 980\n"
     ]
    },
    {
     "name": "stderr",
     "output_type": "stream",
     "text": [
      " 98%|█████████▊| 980/1000 [1:13:46<01:26,  4.32s/it]"
     ]
    },
    {
     "name": "stdout",
     "output_type": "stream",
     "text": [
      "Average Loss for Epoch 980: 2.8676\n",
      "Epoch 981\n"
     ]
    },
    {
     "name": "stderr",
     "output_type": "stream",
     "text": [
      " 98%|█████████▊| 981/1000 [1:13:50<01:21,  4.28s/it]"
     ]
    },
    {
     "name": "stdout",
     "output_type": "stream",
     "text": [
      "Average Loss for Epoch 981: 3.3689\n",
      "Epoch 982\n"
     ]
    },
    {
     "name": "stderr",
     "output_type": "stream",
     "text": [
      " 98%|█████████▊| 982/1000 [1:13:55<01:16,  4.25s/it]"
     ]
    },
    {
     "name": "stdout",
     "output_type": "stream",
     "text": [
      "Average Loss for Epoch 982: 2.7439\n",
      "Epoch 983\n"
     ]
    },
    {
     "name": "stderr",
     "output_type": "stream",
     "text": [
      " 98%|█████████▊| 983/1000 [1:13:59<01:14,  4.37s/it]"
     ]
    },
    {
     "name": "stdout",
     "output_type": "stream",
     "text": [
      "Average Loss for Epoch 983: 3.0912\n",
      "Epoch 984\n"
     ]
    },
    {
     "name": "stderr",
     "output_type": "stream",
     "text": [
      " 98%|█████████▊| 984/1000 [1:14:03<01:09,  4.32s/it]"
     ]
    },
    {
     "name": "stdout",
     "output_type": "stream",
     "text": [
      "Average Loss for Epoch 984: 2.5800\n",
      "Epoch 985\n"
     ]
    },
    {
     "name": "stderr",
     "output_type": "stream",
     "text": [
      " 98%|█████████▊| 985/1000 [1:14:08<01:04,  4.30s/it]"
     ]
    },
    {
     "name": "stdout",
     "output_type": "stream",
     "text": [
      "Average Loss for Epoch 985: 2.4558\n",
      "Epoch 986\n"
     ]
    },
    {
     "name": "stderr",
     "output_type": "stream",
     "text": [
      " 99%|█████████▊| 986/1000 [1:14:12<01:00,  4.33s/it]"
     ]
    },
    {
     "name": "stdout",
     "output_type": "stream",
     "text": [
      "Average Loss for Epoch 986: 2.9996\n",
      "Epoch 987\n"
     ]
    },
    {
     "name": "stderr",
     "output_type": "stream",
     "text": [
      " 99%|█████████▊| 987/1000 [1:14:16<00:55,  4.28s/it]"
     ]
    },
    {
     "name": "stdout",
     "output_type": "stream",
     "text": [
      "Average Loss for Epoch 987: 2.7749\n",
      "Epoch 988\n"
     ]
    },
    {
     "name": "stderr",
     "output_type": "stream",
     "text": [
      " 99%|█████████▉| 988/1000 [1:14:20<00:51,  4.26s/it]"
     ]
    },
    {
     "name": "stdout",
     "output_type": "stream",
     "text": [
      "Average Loss for Epoch 988: 2.7557\n",
      "Epoch 989\n"
     ]
    },
    {
     "name": "stderr",
     "output_type": "stream",
     "text": [
      " 99%|█████████▉| 989/1000 [1:14:25<00:46,  4.22s/it]"
     ]
    },
    {
     "name": "stdout",
     "output_type": "stream",
     "text": [
      "Average Loss for Epoch 989: 3.2658\n",
      "Epoch 990\n"
     ]
    },
    {
     "name": "stderr",
     "output_type": "stream",
     "text": [
      " 99%|█████████▉| 990/1000 [1:14:29<00:42,  4.27s/it]"
     ]
    },
    {
     "name": "stdout",
     "output_type": "stream",
     "text": [
      "Average Loss for Epoch 990: 2.8087\n",
      "Epoch 991\n"
     ]
    },
    {
     "name": "stderr",
     "output_type": "stream",
     "text": [
      " 99%|█████████▉| 991/1000 [1:14:33<00:38,  4.25s/it]"
     ]
    },
    {
     "name": "stdout",
     "output_type": "stream",
     "text": [
      "Average Loss for Epoch 991: 2.9426\n",
      "Epoch 992\n"
     ]
    },
    {
     "name": "stderr",
     "output_type": "stream",
     "text": [
      " 99%|█████████▉| 992/1000 [1:14:37<00:34,  4.27s/it]"
     ]
    },
    {
     "name": "stdout",
     "output_type": "stream",
     "text": [
      "Average Loss for Epoch 992: 1.8812\n",
      "Epoch 993\n"
     ]
    },
    {
     "name": "stderr",
     "output_type": "stream",
     "text": [
      " 99%|█████████▉| 993/1000 [1:14:42<00:29,  4.28s/it]"
     ]
    },
    {
     "name": "stdout",
     "output_type": "stream",
     "text": [
      "Average Loss for Epoch 993: 3.0915\n",
      "Epoch 994\n"
     ]
    },
    {
     "name": "stderr",
     "output_type": "stream",
     "text": [
      " 99%|█████████▉| 994/1000 [1:14:46<00:25,  4.26s/it]"
     ]
    },
    {
     "name": "stdout",
     "output_type": "stream",
     "text": [
      "Average Loss for Epoch 994: 2.2291\n",
      "Epoch 995\n"
     ]
    },
    {
     "name": "stderr",
     "output_type": "stream",
     "text": [
      "100%|█████████▉| 995/1000 [1:14:50<00:21,  4.23s/it]"
     ]
    },
    {
     "name": "stdout",
     "output_type": "stream",
     "text": [
      "Average Loss for Epoch 995: 3.1422\n",
      "Epoch 996\n"
     ]
    },
    {
     "name": "stderr",
     "output_type": "stream",
     "text": [
      "100%|█████████▉| 996/1000 [1:14:55<00:17,  4.31s/it]"
     ]
    },
    {
     "name": "stdout",
     "output_type": "stream",
     "text": [
      "Average Loss for Epoch 996: 2.5274\n",
      "Epoch 997\n"
     ]
    },
    {
     "name": "stderr",
     "output_type": "stream",
     "text": [
      "100%|█████████▉| 997/1000 [1:14:59<00:13,  4.42s/it]"
     ]
    },
    {
     "name": "stdout",
     "output_type": "stream",
     "text": [
      "Average Loss for Epoch 997: 3.0118\n",
      "Epoch 998\n"
     ]
    },
    {
     "name": "stderr",
     "output_type": "stream",
     "text": [
      "100%|█████████▉| 998/1000 [1:15:04<00:08,  4.39s/it]"
     ]
    },
    {
     "name": "stdout",
     "output_type": "stream",
     "text": [
      "Average Loss for Epoch 998: 3.2798\n",
      "Epoch 999\n"
     ]
    },
    {
     "name": "stderr",
     "output_type": "stream",
     "text": [
      "100%|█████████▉| 999/1000 [1:15:08<00:04,  4.33s/it]"
     ]
    },
    {
     "name": "stdout",
     "output_type": "stream",
     "text": [
      "Average Loss for Epoch 999: 2.5555\n",
      "Epoch 1000\n"
     ]
    },
    {
     "name": "stderr",
     "output_type": "stream",
     "text": [
      "100%|██████████| 1000/1000 [1:15:12<00:00,  4.51s/it]"
     ]
    },
    {
     "name": "stdout",
     "output_type": "stream",
     "text": [
      "Average Loss for Epoch 1000: 3.0665\n"
     ]
    },
    {
     "name": "stderr",
     "output_type": "stream",
     "text": [
      "\n"
     ]
    },
    {
     "data": {
      "text/plain": [
       "<IPython.core.display.HTML object>"
      ],
      "text/html": [
       "Waiting for W&B process to finish... <strong style=\"color:green\">(success).</strong>"
      ]
     },
     "metadata": {},
     "output_type": "display_data"
    },
    {
     "data": {
      "text/plain": [
       "<IPython.core.display.HTML object>"
      ],
      "text/html": [
       "<style>\n",
       "    table.wandb td:nth-child(1) { padding: 0 10px; text-align: left ; width: auto;} td:nth-child(2) {text-align: left ; width: 100%}\n",
       "    .wandb-row { display: flex; flex-direction: row; flex-wrap: wrap; justify-content: flex-start; width: 100% }\n",
       "    .wandb-col { display: flex; flex-direction: column; flex-basis: 100%; flex: 1; padding: 10px; }\n",
       "    </style>\n",
       "<div class=\"wandb-row\"><div class=\"wandb-col\"><h3>Run history:</h3><br/><table class=\"wandb\"><tr><td>Average Loss</td><td>█▅▆▆▅▄▅▅▅▅▄▄▄▃▄▃▄▃▄▃▃▃▄▃▃▃▂▃▃▂▃▃▂▂▃▃▂▂▂▁</td></tr><tr><td>Batch Loss</td><td>▂▅▄▅▁▁▃▂▁▂▁▁▁▂▃▁▁▁▁█▃▁▁▁▁▂▁▂▁▂▄▁▁▃▁▁▁▂▁▁</td></tr><tr><td>Epoch</td><td>▁▁▁▂▂▂▂▂▂▃▃▃▃▃▄▄▄▄▄▄▅▅▅▅▅▅▆▆▆▆▆▇▇▇▇▇▇███</td></tr></table><br/></div><div class=\"wandb-col\"><h3>Run summary:</h3><br/><table class=\"wandb\"><tr><td>Average Loss</td><td>3.06652</td></tr><tr><td>Batch Loss</td><td>19.50455</td></tr><tr><td>Epoch</td><td>1000</td></tr></table><br/></div></div>"
      ]
     },
     "metadata": {},
     "output_type": "display_data"
    },
    {
     "data": {
      "text/plain": [
       "<IPython.core.display.HTML object>"
      ],
      "text/html": [
       " View run <strong style=\"color:#cdcd00\">wild-spaceship-2</strong> at: <a href='https://wandb.ai/woj-jasinski/Metacyc/runs/dio9fwq4' target=\"_blank\">https://wandb.ai/woj-jasinski/Metacyc/runs/dio9fwq4</a><br/> View job at <a href='https://wandb.ai/woj-jasinski/Metacyc/jobs/QXJ0aWZhY3RDb2xsZWN0aW9uOjE3Mzc0NDk3OA==/version_details/v0' target=\"_blank\">https://wandb.ai/woj-jasinski/Metacyc/jobs/QXJ0aWZhY3RDb2xsZWN0aW9uOjE3Mzc0NDk3OA==/version_details/v0</a><br/>Synced 6 W&B file(s), 0 media file(s), 0 artifact file(s) and 0 other file(s)"
      ]
     },
     "metadata": {},
     "output_type": "display_data"
    },
    {
     "data": {
      "text/plain": [
       "<IPython.core.display.HTML object>"
      ],
      "text/html": [
       "Find logs at: <code>./wandb/run-20240512_183659-dio9fwq4/logs</code>"
      ]
     },
     "metadata": {},
     "output_type": "display_data"
    }
   ],
   "execution_count": 14
  }
 ],
 "metadata": {
  "kernelspec": {
   "display_name": "base",
   "language": "python",
   "name": "base"
  },
  "language_info": {
   "codemirror_mode": {
    "name": "ipython",
    "version": 2
   },
   "file_extension": ".py",
   "mimetype": "text/x-python",
   "name": "python",
   "nbconvert_exporter": "python",
   "pygments_lexer": "ipython2",
   "version": "2.7.6"
  }
 },
 "nbformat": 4,
 "nbformat_minor": 5
}
