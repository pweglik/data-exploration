{
 "cells": [
  {
   "cell_type": "code",
   "execution_count": 1,
   "id": "da98f4d3-9814-4f98-b1d0-b7fcc7f1b5d9",
   "metadata": {
    "ExecuteTime": {
     "end_time": "2024-05-12T16:33:45.481532Z",
     "start_time": "2024-05-12T16:33:44.852970Z"
    },
    "jp-MarkdownHeadingCollapsed": true
   },
   "outputs": [],
   "source": [
    "import wandb\n",
    "import numpy as np\n",
    "import matplotlib.pyplot as plt\n",
    "import pandas as pd\n",
    "import random\n",
    "import tqdm\n",
    "\n",
    "import torch\n",
    "from torch.utils.data import Dataset, DataLoader\n",
    "import seaborn as sns"
   ]
  },
  {
   "cell_type": "code",
   "execution_count": 2,
   "id": "44a7a8ef5c0b62d5",
   "metadata": {
    "ExecuteTime": {
     "end_time": "2024-05-12T15:39:40.560719Z",
     "start_time": "2024-05-12T15:39:39.897004Z"
    }
   },
   "outputs": [],
   "source": [
    "pathways_df = pd.read_csv('data/pathways.csv')\n",
    "pathways_df.set_index(\"Object ID\", inplace=True)\n",
    "pathways_df[\"Reaction-List\"] = pathways_df[\"Reaction-List\"].str.split(\" // \")\n",
    "pathways_df[\"Species\"] = pathways_df[\"Species\"].str.split(\" // \")\n",
    "pathways_df[\"In-Pathway\"] = pathways_df[\"In-Pathway\"].str.split(\" // \")\n",
    "pathways_df[\"Super-Pathways\"] = pathways_df[\"Super-Pathways\"].str.split(\" // \")\n",
    "\n",
    "reactions_df = pd.read_csv('data/reactions.csv')\n",
    "reactions_df[\"Left\"] = reactions_df[\"Left\"].str.split(\" // \")\n",
    "reactions_df[\"Right\"] = reactions_df[\"Right\"].str.split(\" // \")\n",
    "reactions_df[\"In-Pathway\"] = reactions_df[\"In-Pathway\"].str.split(\" // \")\n",
    "reactions_df[\"Substrates\"] = reactions_df[\"Substrates\"].str.split(\" // \")\n",
    "reactions_df[\"Enzymatic-Reaction\"] = reactions_df[\"Enzymatic-Reaction\"].str.split(\" // \")\n",
    "reactions_df.set_index(\"Object ID\", inplace=True)\n",
    "\n",
    "compounds_df = pd.read_csv(\"data/compounds.csv\")\n",
    "compounds_df.set_index(\"Object ID\", inplace=True)\n",
    "\n",
    "species = {}\n",
    "for i, row in pathways_df.iterrows():\n",
    "    if type(row[\"Species\"]) == list:\n",
    "        for s in row[\"Species\"]:\n",
    "            if s in species:\n",
    "                species[s].append(i)\n",
    "            else:\n",
    "                species[s] = [i]"
   ]
  },
  {
   "cell_type": "code",
   "execution_count": 4,
   "id": "bd63fb2c485cc07b",
   "metadata": {
    "ExecuteTime": {
     "end_time": "2024-05-12T15:39:42.326926Z",
     "start_time": "2024-05-12T15:39:42.318121Z"
    }
   },
   "outputs": [
    {
     "name": "stdout",
     "output_type": "stream",
     "text": [
      "Organism: ('ORG-6284', 'TAX-575584', 'TAX-119829', 'TAX-1315281')\n",
      "Positive Pathway: ('PWY-7719', 'PWY-3641', 'PWY-7633', 'PWY-7929')\n",
      "Negative Pathway: ('PWY-7757', 'PWY-2541', 'GAMMAHEXCHLORDEG-PWY', 'ASPARTATE-DEG1-PWY')\n"
     ]
    }
   ],
   "source": [
    "class SimpleTripletDataset(Dataset):\n",
    "    def __init__(self):\n",
    "        self.organism_pathways = species\n",
    "        self.organisms = list(species.keys())\n",
    "        self.pathways = set(pathways_df.index)\n",
    "        \n",
    "    def __len__(self):\n",
    "        return len(self.organisms)\n",
    "    \n",
    "    def __getitem__(self, idx):\n",
    "        org = self.organisms[idx]\n",
    "        org_pathways = self.organism_pathways[org]\n",
    "    \n",
    "        pos_pathway = random.choice(org_pathways)\n",
    "        neg_pathway = random.choice(list(self.pathways - set(org_pathways)))\n",
    "        \n",
    "        return org, pos_pathway, neg_pathway\n",
    "        \n",
    "        \n",
    "dataset = SimpleTripletDataset()\n",
    "loader = DataLoader(dataset, batch_size=4, shuffle=True)\n",
    "\n",
    "for org, pos, neg in loader:\n",
    "    print(\"Organism:\", org)\n",
    "    print(\"Positive Pathway:\", pos)\n",
    "    print(\"Negative Pathway:\", neg)\n",
    "    break\n"
   ]
  },
  {
   "cell_type": "code",
   "execution_count": 5,
   "id": "b9fe9155ded3c3e3",
   "metadata": {
    "ExecuteTime": {
     "end_time": "2024-05-12T15:39:45.958792Z",
     "start_time": "2024-05-12T15:39:42.939434Z"
    }
   },
   "outputs": [],
   "source": [
    "def make_pathway_graph(\n",
    "        pathway_id: str,\n",
    "):\n",
    "    try:\n",
    "        pathway = pathways_df.loc[pathway_id]\n",
    "    except KeyError:\n",
    "        return None, [], []\n",
    "    \n",
    "    try:\n",
    "        reactions = reactions_df.loc[pathway[\"Reaction-List\"]]\n",
    "    except KeyError:\n",
    "        return None, [], []\n",
    "    #reactions = reactions_df.loc[pathway[\"Reaction-List\"]]\n",
    "        \n",
    "    edges, compound_v, reaction_v = set(), set(), set()\n",
    "    for i, reaction in reactions.iterrows():\n",
    "        reaction_v.add(i)\n",
    "        for l in reaction[\"Left\"]:\n",
    "            compound_v.add(l)\n",
    "            edges.add((l, i))\n",
    "        for r in reaction[\"Right\"]:\n",
    "            compound_v.add(r)\n",
    "            edges.add((i, r))\n",
    "    \n",
    "    vertices = list(compound_v) + list(reaction_v)\n",
    "    adj_matrix = np.zeros((len(vertices), len(vertices)))\n",
    "    for edge in edges:\n",
    "        adj_matrix[vertices.index(edge[0]), vertices.index(edge[1])] = 1\n",
    "        \n",
    "    return adj_matrix, list(reaction_v), list(compound_v)\n",
    "\n",
    "substrates_count = {}\n",
    "\n",
    "for substrates in reactions_df[\"Substrates\"]:\n",
    "    for substrate in substrates:\n",
    "        if substrate in substrates_count:\n",
    "            substrates_count[substrate] += 1\n",
    "        else:\n",
    "            substrates_count[substrate] = 1\n",
    "            \n",
    "compound_popularity = pd.Series(substrates_count, name=\"Count\").sort_values(ascending=False)\n",
    "\n",
    "def remove_compounds_from_graph(\n",
    "        adj_matrix, reactions, compounds, to_remove\n",
    "):\n",
    "    all_labels = compounds + reactions\n",
    "    indices_to_keep = [i for (i, x) in enumerate(all_labels) if x not in to_remove]\n",
    "    \n",
    "    adj_matrix = adj_matrix[indices_to_keep, :][:, indices_to_keep]\n",
    "    reactions = [r for r in reactions if r not in to_remove]\n",
    "    compounds = [c for c in compounds if c not in to_remove]\n",
    "    \n",
    "    return adj_matrix, reactions, compounds\n",
    "\n",
    "from skfp.fingerprints import AtomPairFingerprint\n",
    "\n",
    "# TOTAL BASELINE \n",
    "def embed_graph(compounds):\n",
    "    compounds = [compounds_df.loc[c, \"SMILES\"] for c in compounds if c in compounds_df.index]\n",
    "    \n",
    "    try:\n",
    "        fp = AtomPairFingerprint(n_jobs=-1)\n",
    "        result = fp.transform(compounds).sum(axis=0)\n",
    "    except Exception as e:\n",
    "        print(e)\n",
    "        return np.zeros(2048)\n",
    "    \n",
    "    return result"
   ]
  },
  {
   "cell_type": "code",
   "execution_count": 6,
   "id": "f09b58966f48de24",
   "metadata": {
    "ExecuteTime": {
     "end_time": "2024-05-12T15:43:02.205809Z",
     "start_time": "2024-05-12T15:39:52.913249Z"
    },
    "scrolled": true
   },
   "outputs": [
    {
     "name": "stderr",
     "output_type": "stream",
     "text": [
      "  0%|                                                                                                                                   | 0/3538 [00:00<?, ?it/s][23:21:43] WARNING: not removing hydrogen atom without neighbors\n",
      "  0%|                                                                                                                         | 1/3538 [00:02<2:40:51,  2.73s/it][23:21:45] WARNING: not removing hydrogen atom without neighbors\n",
      "  0%|                                                                                                                         | 2/3538 [00:04<2:05:01,  2.12s/it][23:21:46] WARNING: not removing hydrogen atom without neighbors\n",
      "  0%|▏                                                                                                                        | 4/3538 [00:07<1:36:35,  1.64s/it][23:21:48] WARNING: not removing hydrogen atom without neighbors\n",
      "[23:21:48] WARNING: not removing hydrogen atom without neighbors\n",
      "[23:21:48] WARNING: not removing hydrogen atom without neighbors\n",
      "[23:21:48] WARNING: not removing hydrogen atom without neighbors\n",
      "  0%|▎                                                                                                                          | 8/3538 [00:07<30:55,  1.90it/s][23:21:48] WARNING: not removing hydrogen atom without neighbors\n",
      "[23:21:48] WARNING: not removing hydrogen atom without neighbors\n",
      "  0%|▍                                                                                                                         | 13/3538 [00:07<14:28,  4.06it/s][23:21:48] WARNING: not removing hydrogen atom without neighbors\n",
      "[23:21:48] WARNING: not removing hydrogen atom without neighbors\n",
      "[23:21:48] WARNING: not removing hydrogen atom without neighbors\n",
      "[23:21:48] WARNING: not removing hydrogen atom without neighbors\n",
      "[23:21:48] WARNING: not removing hydrogen atom without neighbors\n",
      "[23:21:48] WARNING: not removing hydrogen atom without neighbors\n",
      "  1%|▋                                                                                                                         | 19/3538 [00:07<08:01,  7.31it/s][23:21:48] WARNING: not removing hydrogen atom without neighbors\n",
      "[23:21:48] WARNING: not removing hydrogen atom without neighbors\n",
      "[23:21:48] WARNING: not removing hydrogen atom without neighbors\n",
      "  1%|▊                                                                                                                         | 25/3538 [00:07<05:12, 11.24it/s][23:21:48] WARNING: not removing hydrogen atom without neighbors\n",
      "[23:21:48] WARNING: not removing hydrogen atom without neighbors\n",
      "[23:21:48] WARNING: not removing hydrogen atom without neighbors\n",
      "[23:21:48] WARNING: not removing hydrogen atom without neighbors\n",
      "  1%|█                                                                                                                         | 29/3538 [00:07<04:09, 14.07it/s][23:21:49] WARNING: not removing hydrogen atom without neighbors\n",
      "[23:21:49] WARNING: not removing hydrogen atom without neighbors\n",
      "[23:21:49] WARNING: not removing hydrogen atom without neighbors\n",
      "[23:21:49] WARNING: not removing hydrogen atom without neighbors\n",
      "  1%|█▏                                                                                                                        | 33/3538 [00:07<03:27, 16.88it/s][23:21:49] WARNING: not removing hydrogen atom without neighbors\n",
      "[23:21:49] WARNING: not removing hydrogen atom without neighbors\n",
      "[23:21:49] WARNING: not removing hydrogen atom without neighbors\n",
      "[23:21:49] WARNING: not removing hydrogen atom without neighbors\n",
      "[23:21:49] WARNING: not removing hydrogen atom without neighbors\n",
      "  1%|█▎                                                                                                                        | 38/3538 [00:08<02:46, 21.08it/s][23:21:49] WARNING: not removing hydrogen atom without neighbors\n",
      "  1%|█▍                                                                                                                        | 43/3538 [00:08<02:21, 24.74it/s][23:21:49] WARNING: not removing hydrogen atom without neighbors\n",
      "[23:21:49] WARNING: not removing hydrogen atom without neighbors\n"
     ]
    },
    {
     "name": "stdout",
     "output_type": "stream",
     "text": [
      "need at least one array to concatenate\n"
     ]
    },
    {
     "name": "stderr",
     "output_type": "stream",
     "text": [
      "[23:21:49] WARNING: not removing hydrogen atom without neighbors\n",
      "  1%|█▌                                                                                                                        | 47/3538 [00:08<02:30, 23.25it/s][23:21:49] WARNING: not removing hydrogen atom without neighbors\n",
      "[23:21:49] WARNING: not removing hydrogen atom without neighbors\n",
      "[23:21:49] WARNING: not removing hydrogen atom without neighbors\n",
      "[23:21:49] WARNING: not removing hydrogen atom without neighbors\n",
      "[23:21:49] WARNING: not removing hydrogen atom without neighbors\n",
      "  1%|█▊                                                                                                                        | 52/3538 [00:08<02:07, 27.29it/s][23:21:49] WARNING: not removing hydrogen atom without neighbors\n",
      "[23:21:49] WARNING: not removing hydrogen atom without neighbors\n",
      "[23:21:49] WARNING: not removing hydrogen atom without neighbors\n",
      "[23:21:49] WARNING: not removing hydrogen atom without neighbors\n",
      "[23:21:49] WARNING: not removing hydrogen atom without neighbors\n",
      "  2%|█▉                                                                                                                        | 56/3538 [00:08<01:58, 29.39it/s][23:21:49] WARNING: not removing hydrogen atom without neighbors\n",
      "[23:21:49] WARNING: not removing hydrogen atom without neighbors\n",
      "[23:21:49] WARNING: not removing hydrogen atom without neighbors\n",
      "[23:21:49] WARNING: not removing hydrogen atom without neighbors\n",
      "  2%|██                                                                                                                        | 60/3538 [00:08<01:50, 31.50it/s][23:21:49] WARNING: not removing hydrogen atom without neighbors\n",
      "[23:21:49] WARNING: not removing hydrogen atom without neighbors\n",
      "[23:21:49] WARNING: not removing hydrogen atom without neighbors\n",
      "[23:21:49] WARNING: not removing hydrogen atom without neighbors\n",
      "[23:21:49] WARNING: not removing hydrogen atom without neighbors\n",
      "  2%|██▎                                                                                                                       | 66/3538 [00:08<01:31, 37.84it/s][23:21:50] WARNING: not removing hydrogen atom without neighbors\n",
      "[23:21:50] WARNING: not removing hydrogen atom without neighbors\n",
      "[23:21:50] WARNING: not removing hydrogen atom without neighbors\n",
      "[23:21:50] WARNING: not removing hydrogen atom without neighbors\n",
      "  2%|██▍                                                                                                                       | 71/3538 [00:08<01:27, 39.63it/s][23:21:50] WARNING: not removing hydrogen atom without neighbors\n",
      "[23:21:50] WARNING: not removing hydrogen atom without neighbors\n",
      "[23:21:50] WARNING: not removing hydrogen atom without neighbors\n",
      "[23:21:50] WARNING: not removing hydrogen atom without neighbors\n",
      "[23:21:50] WARNING: not removing hydrogen atom without neighbors\n",
      "  2%|██▌                                                                                                                       | 76/3538 [00:09<01:26, 40.07it/s][23:21:50] WARNING: not removing hydrogen atom without neighbors\n",
      "[23:21:50] WARNING: not removing hydrogen atom without neighbors\n",
      "[23:21:50] WARNING: not removing hydrogen atom without neighbors\n",
      "[23:21:50] WARNING: not removing hydrogen atom without neighbors\n",
      "  2%|██▊                                                                                                                       | 81/3538 [00:09<01:23, 41.49it/s][23:21:50] WARNING: not removing hydrogen atom without neighbors\n",
      "[23:21:50] WARNING: not removing hydrogen atom without neighbors\n",
      "[23:21:50] WARNING: not removing hydrogen atom without neighbors\n",
      "[23:21:50] WARNING: not removing hydrogen atom without neighbors\n",
      "[23:21:50] WARNING: not removing hydrogen atom without neighbors\n",
      "  2%|███                                                                                                                       | 87/3538 [00:09<01:16, 45.05it/s][23:21:50] WARNING: not removing hydrogen atom without neighbors\n",
      "[23:21:50] WARNING: not removing hydrogen atom without neighbors\n",
      "[23:21:50] Conflicting single bond directions around double bond at index 18.\n",
      "[23:21:50]   BondStereo set to STEREONONE and single bond directions set to NONE.\n",
      "[23:21:50] WARNING: not removing hydrogen atom without neighbors\n",
      "[23:21:50] Conflicting single bond directions around double bond at index 18.\n",
      "[23:21:50]   BondStereo set to STEREONONE and single bond directions set to NONE.\n"
     ]
    },
    {
     "name": "stdout",
     "output_type": "stream",
     "text": [
      "need at least one array to concatenate\n"
     ]
    },
    {
     "name": "stderr",
     "output_type": "stream",
     "text": [
      "[23:21:50] WARNING: not removing hydrogen atom without neighbors\n",
      "[23:21:50] WARNING: not removing hydrogen atom without neighbors\n",
      "  3%|███▏                                                                                                                      | 92/3538 [00:09<01:23, 41.12it/s][23:21:50] WARNING: not removing hydrogen atom without neighbors\n",
      "[23:21:50] WARNING: not removing hydrogen atom without neighbors\n",
      "[23:21:50] WARNING: not removing hydrogen atom without neighbors\n",
      "[23:21:50] WARNING: not removing hydrogen atom without neighbors\n",
      "  3%|███▎                                                                                                                      | 97/3538 [00:09<01:22, 41.61it/s][23:21:50] WARNING: not removing hydrogen atom without neighbors\n",
      "[23:21:50] WARNING: not removing hydrogen atom without neighbors\n",
      "[23:21:50] WARNING: not removing hydrogen atom without neighbors\n",
      "[23:21:50] Conflicting single bond directions around double bond at index 12.\n",
      "[23:21:50]   BondStereo set to STEREONONE and single bond directions set to NONE.\n",
      "[23:21:50] Conflicting single bond directions around double bond at index 17.\n",
      "[23:21:50]   BondStereo set to STEREONONE and single bond directions set to NONE.\n",
      "[23:21:50] Conflicting single bond directions around double bond at index 12.\n",
      "[23:21:50]   BondStereo set to STEREONONE and single bond directions set to NONE.\n",
      "[23:21:50] Conflicting single bond directions around double bond at index 17.\n",
      "[23:21:50]   BondStereo set to STEREONONE and single bond directions set to NONE.\n",
      "[23:21:50] Conflicting single bond directions around double bond at index 9.\n",
      "[23:21:50]   BondStereo set to STEREONONE and single bond directions set to NONE.\n",
      "[23:21:50] Conflicting single bond directions around double bond at index 14.\n",
      "[23:21:50]   BondStereo set to STEREONONE and single bond directions set to NONE.\n",
      "[23:21:50] Conflicting single bond directions around double bond at index 19.\n",
      "[23:21:50]   BondStereo set to STEREONONE and single bond directions set to NONE.\n",
      "[23:21:50] Conflicting single bond directions around double bond at index 9.\n",
      "[23:21:50]   BondStereo set to STEREONONE and single bond directions set to NONE.\n",
      "[23:21:50] Conflicting single bond directions around double bond at index 14.\n",
      "[23:21:50]   BondStereo set to STEREONONE and single bond directions set to NONE.\n",
      "[23:21:50] Conflicting single bond directions around double bond at index 19.\n",
      "[23:21:50]   BondStereo set to STEREONONE and single bond directions set to NONE.\n",
      "[23:21:50] WARNING: not removing hydrogen atom without neighbors\n",
      "[23:21:50] Conflicting single bond directions around double bond at index 12.\n",
      "[23:21:50]   BondStereo set to STEREONONE and single bond directions set to NONE.\n",
      "[23:21:50] Conflicting single bond directions around double bond at index 17.\n",
      "[23:21:50]   BondStereo set to STEREONONE and single bond directions set to NONE.\n",
      "[23:21:50] Conflicting single bond directions around double bond at index 13.\n",
      "[23:21:50]   BondStereo set to STEREONONE and single bond directions set to NONE.\n",
      "[23:21:50] Conflicting single bond directions around double bond at index 18.\n",
      "[23:21:50]   BondStereo set to STEREONONE and single bond directions set to NONE.\n",
      "[23:21:50] Conflicting single bond directions around double bond at index 23.\n",
      "[23:21:50]   BondStereo set to STEREONONE and single bond directions set to NONE.\n",
      "[23:21:50] WARNING: not removing hydrogen atom without neighbors\n",
      "  3%|███▍                                                                                                                     | 102/3538 [00:09<01:21, 41.93it/s][23:21:50] WARNING: not removing hydrogen atom without neighbors\n",
      "[23:21:50] WARNING: not removing hydrogen atom without neighbors\n",
      "[23:21:50] WARNING: not removing hydrogen atom without neighbors\n",
      "[23:21:50] WARNING: not removing hydrogen atom without neighbors\n",
      "[23:21:50] WARNING: not removing hydrogen atom without neighbors\n",
      "  3%|███▋                                                                                                                     | 107/3538 [00:09<01:19, 43.18it/s][23:21:50] WARNING: not removing hydrogen atom without neighbors\n",
      "[23:21:50] WARNING: not removing hydrogen atom without neighbors\n",
      "[23:21:51] WARNING: not removing hydrogen atom without neighbors\n",
      "[23:21:51] WARNING: not removing hydrogen atom without neighbors\n",
      "[23:21:51] WARNING: not removing hydrogen atom without neighbors\n",
      "  3%|███▊                                                                                                                     | 112/3538 [00:09<01:26, 39.79it/s][23:21:51] WARNING: not removing hydrogen atom without neighbors\n",
      "[23:21:51] WARNING: not removing hydrogen atom without neighbors\n",
      "[23:21:51] WARNING: not removing hydrogen atom without neighbors\n",
      "[23:21:51] WARNING: not removing hydrogen atom without neighbors\n",
      "[23:21:51] WARNING: not removing hydrogen atom without neighbors\n",
      "  3%|████                                                                                                                     | 117/3538 [00:09<01:26, 39.43it/s][23:21:51] WARNING: not removing hydrogen atom without neighbors\n",
      "[23:21:51] WARNING: not removing hydrogen atom without neighbors\n",
      "[23:21:51] WARNING: not removing hydrogen atom without neighbors\n",
      "[23:21:51] WARNING: not removing hydrogen atom without neighbors\n",
      "[23:21:51] WARNING: not removing hydrogen atom without neighbors\n",
      "  3%|████▏                                                                                                                    | 122/3538 [00:10<01:27, 39.13it/s][23:21:51] WARNING: not removing hydrogen atom without neighbors\n",
      "[23:21:51] WARNING: not removing hydrogen atom without neighbors\n",
      "[23:21:51] WARNING: not removing hydrogen atom without neighbors\n",
      "[23:21:51] WARNING: not removing hydrogen atom without neighbors\n",
      "[23:21:51] WARNING: not removing hydrogen atom without neighbors\n",
      "  4%|████▎                                                                                                                    | 127/3538 [00:10<01:21, 41.60it/s][23:21:51] WARNING: not removing hydrogen atom without neighbors\n",
      "[23:21:51] WARNING: not removing hydrogen atom without neighbors\n",
      "[23:21:51] WARNING: not removing hydrogen atom without neighbors\n",
      "[23:21:51] WARNING: not removing hydrogen atom without neighbors\n",
      "[23:21:51] Conflicting single bond directions around double bond at index 2.\n",
      "[23:21:51]   BondStereo set to STEREONONE and single bond directions set to NONE.\n",
      "[23:21:51] WARNING: not removing hydrogen atom without neighbors\n",
      "  4%|████▌                                                                                                                    | 132/3538 [00:10<01:21, 41.81it/s][23:21:51] WARNING: not removing hydrogen atom without neighbors\n",
      "[23:21:51] WARNING: not removing hydrogen atom without neighbors\n",
      "[23:21:51] WARNING: not removing hydrogen atom without neighbors\n",
      "[23:21:51] WARNING: not removing hydrogen atom without neighbors\n",
      "[23:21:51] WARNING: not removing hydrogen atom without neighbors\n",
      "[23:21:51] WARNING: not removing hydrogen atom without neighbors\n",
      "  4%|████▋                                                                                                                    | 138/3538 [00:10<01:18, 43.37it/s][23:21:51] WARNING: not removing hydrogen atom without neighbors\n",
      "[23:21:51] WARNING: not removing hydrogen atom without neighbors\n",
      "[23:21:51] WARNING: not removing hydrogen atom without neighbors\n",
      "[23:21:51] WARNING: not removing hydrogen atom without neighbors\n",
      "[23:21:51] WARNING: not removing hydrogen atom without neighbors\n",
      "  4%|████▉                                                                                                                    | 143/3538 [00:10<01:18, 43.48it/s][23:21:51] WARNING: not removing hydrogen atom without neighbors\n",
      "[23:21:51] WARNING: not removing hydrogen atom without neighbors\n",
      "[23:21:51] WARNING: not removing hydrogen atom without neighbors\n",
      "[23:21:51] WARNING: not removing hydrogen atom without neighbors\n",
      "[23:21:51] WARNING: not removing hydrogen atom without neighbors\n",
      "  4%|█████                                                                                                                    | 148/3538 [00:10<01:15, 44.64it/s][23:21:51] WARNING: not removing hydrogen atom without neighbors\n",
      "[23:21:51] WARNING: not removing hydrogen atom without neighbors\n",
      "[23:21:51] WARNING: not removing hydrogen atom without neighbors\n",
      "[23:21:52] WARNING: not removing hydrogen atom without neighbors\n",
      "[23:21:52] WARNING: not removing hydrogen atom without neighbors\n",
      "  4%|█████▎                                                                                                                   | 154/3538 [00:10<01:11, 47.63it/s][23:21:52] WARNING: not removing hydrogen atom without neighbors\n",
      "[23:21:52] WARNING: not removing hydrogen atom without neighbors\n",
      "[23:21:52] WARNING: not removing hydrogen atom without neighbors\n",
      "[23:21:52] WARNING: not removing hydrogen atom without neighbors\n",
      "[23:21:52] WARNING: not removing hydrogen atom without neighbors\n",
      "[23:21:52] WARNING: not removing hydrogen atom without neighbors\n",
      "  5%|█████▌                                                                                                                   | 162/3538 [00:10<01:02, 54.42it/s][23:21:52] WARNING: not removing hydrogen atom without neighbors\n",
      "[23:21:52] WARNING: not removing hydrogen atom without neighbors\n"
     ]
    },
    {
     "name": "stdout",
     "output_type": "stream",
     "text": [
      "need at least one array to concatenate\n",
      "need at least one array to concatenate\n"
     ]
    },
    {
     "name": "stderr",
     "output_type": "stream",
     "text": [
      "[23:21:52] WARNING: not removing hydrogen atom without neighbors\n",
      "[23:21:52] WARNING: not removing hydrogen atom without neighbors\n",
      "[23:21:52] WARNING: not removing hydrogen atom without neighbors\n",
      "  5%|█████▋                                                                                                                   | 168/3538 [00:11<01:10, 47.93it/s][23:21:52] WARNING: not removing hydrogen atom without neighbors\n",
      "[23:21:52] WARNING: not removing hydrogen atom without neighbors\n",
      "[23:21:52] WARNING: not removing hydrogen atom without neighbors\n",
      "[23:21:52] WARNING: not removing hydrogen atom without neighbors\n",
      "[23:21:52] WARNING: not removing hydrogen atom without neighbors\n",
      "[23:21:52] WARNING: not removing hydrogen atom without neighbors\n",
      "  5%|█████▉                                                                                                                   | 174/3538 [00:11<01:09, 48.55it/s][23:21:52] Conflicting single bond directions around double bond at index 3.\n",
      "[23:21:52]   BondStereo set to STEREONONE and single bond directions set to NONE.\n",
      "[23:21:52] WARNING: not removing hydrogen atom without neighbors\n",
      "[23:21:52] WARNING: not removing hydrogen atom without neighbors\n",
      "[23:21:52] WARNING: not removing hydrogen atom without neighbors\n",
      "[23:21:52] WARNING: not removing hydrogen atom without neighbors\n",
      "[23:21:52] WARNING: not removing hydrogen atom without neighbors\n",
      "  5%|██████                                                                                                                   | 179/3538 [00:11<01:14, 45.28it/s][23:21:52] WARNING: not removing hydrogen atom without neighbors\n",
      "[23:21:52] WARNING: not removing hydrogen atom without neighbors\n",
      "[23:21:52] WARNING: not removing hydrogen atom without neighbors\n",
      "[23:21:52] WARNING: not removing hydrogen atom without neighbors\n",
      "  5%|██████▎                                                                                                                  | 184/3538 [00:11<01:12, 46.27it/s][23:21:52] WARNING: not removing hydrogen atom without neighbors\n",
      "[23:21:52] WARNING: not removing hydrogen atom without neighbors\n",
      "[23:21:52] WARNING: not removing hydrogen atom without neighbors\n",
      "[23:21:52] WARNING: not removing hydrogen atom without neighbors\n",
      "  5%|██████▍                                                                                                                  | 189/3538 [00:11<01:11, 46.93it/s][23:21:52] WARNING: not removing hydrogen atom without neighbors\n",
      "[23:21:52] WARNING: not removing hydrogen atom without neighbors\n",
      "[23:21:52] WARNING: not removing hydrogen atom without neighbors\n",
      "[23:21:52] WARNING: not removing hydrogen atom without neighbors\n",
      "[23:21:52] WARNING: not removing hydrogen atom without neighbors\n",
      "  5%|██████▋                                                                                                                  | 194/3538 [00:11<01:10, 47.64it/s][23:21:52] WARNING: not removing hydrogen atom without neighbors\n",
      "[23:21:52] WARNING: not removing hydrogen atom without neighbors\n",
      "[23:21:52] WARNING: not removing hydrogen atom without neighbors\n",
      "[23:21:52] WARNING: not removing hydrogen atom without neighbors\n",
      "  6%|██████▊                                                                                                                  | 199/3538 [00:11<01:15, 44.49it/s][23:21:53] WARNING: not removing hydrogen atom without neighbors\n",
      "[23:21:53] WARNING: not removing hydrogen atom without neighbors\n",
      "[23:21:53] WARNING: not removing hydrogen atom without neighbors\n",
      "[23:21:53] WARNING: not removing hydrogen atom without neighbors\n",
      "[23:21:53] WARNING: not removing hydrogen atom without neighbors\n",
      "  6%|██████▉                                                                                                                  | 204/3538 [00:11<01:25, 38.95it/s][23:21:53] WARNING: not removing hydrogen atom without neighbors\n",
      "[23:21:53] WARNING: not removing hydrogen atom without neighbors\n",
      "[23:21:53] WARNING: not removing hydrogen atom without neighbors\n",
      "[23:21:53] WARNING: not removing hydrogen atom without neighbors\n",
      "  6%|███████▏                                                                                                                 | 209/3538 [00:12<01:20, 41.54it/s][23:21:53] WARNING: not removing hydrogen atom without neighbors\n",
      "[23:21:53] WARNING: not removing hydrogen atom without neighbors\n",
      "[23:21:53] WARNING: not removing hydrogen atom without neighbors\n",
      "[23:21:53] WARNING: not removing hydrogen atom without neighbors\n",
      "[23:21:53] WARNING: not removing hydrogen atom without neighbors\n",
      "  6%|███████▍                                                                                                                 | 217/3538 [00:12<01:06, 49.88it/s][23:21:53] WARNING: not removing hydrogen atom without neighbors\n",
      "[23:21:53] WARNING: not removing hydrogen atom without neighbors\n",
      "[23:21:53] WARNING: not removing hydrogen atom without neighbors\n"
     ]
    },
    {
     "name": "stdout",
     "output_type": "stream",
     "text": [
      "need at least one array to concatenate\n",
      "need at least one array to concatenate\n"
     ]
    },
    {
     "name": "stderr",
     "output_type": "stream",
     "text": [
      "[23:21:53] Conflicting single bond directions around double bond at index 12.\n",
      "[23:21:53]   BondStereo set to STEREONONE and single bond directions set to NONE.\n",
      "[23:21:53] SMILES Parse Error: syntax error while parsing: CC(/C=C/C=C(C)/C=C/C=C(C)/C(O[R1])=O)=C\\C=C\\C=C(C)\\C=C\\C=C(C)\\C=C\\C=C(C)\\C(O[R2])=O\n",
      "[23:21:53] SMILES Parse Error: [23:21:53] Conflicting single bond directions around double bond at index 7.\n",
      "[23:21:53]   BondStereo set to STEREONONE and single bond directions set to NONE.\n",
      "[23:21:53] Conflicting single bond directions around double bond at index 12.\n",
      "[23:21:53]   BondStereo set to STEREONONE and single bond directions set to NONE.\n",
      "Failed parsing SMILES 'CC(/C=C/C=C(C)/C=C/C=C(C)/C(O[R1])=O)=C\\C=C\\C=C(C)\\C=C\\C=C(C)\\C=C\\C=C(C)\\C(O[R2])=O' for input: 'CC(/C=C/C=C(C)/C=C/C=C(C)/C(O[R1])=O)=C\\C=C\\C=C(C)\\C=C\\C=C(C)\\C=C\\C=C(C)\\C(O[R2])=O'\n",
      "[23:21:53] Conflicting single bond directions around double bond at index 7.\n",
      "[23:21:53]   BondStereo set to STEREONONE and single bond directions set to NONE.\n",
      "[23:21:53] Conflicting single bond directions around double bond at index 12.\n",
      "[23:21:53]   BondStereo set to STEREONONE and single bond directions set to NONE.\n",
      "[23:21:53] WARNING: not removing hydrogen atom without neighbors\n",
      "[23:21:53] Conflicting single bond directions around double bond at index 12.\n",
      "[23:21:53]   BondStereo set to STEREONONE and single bond directions set to NONE.\n"
     ]
    },
    {
     "name": "stdout",
     "output_type": "stream",
     "text": [
      "Python argument types in\n",
      "    FingeprintGenerator64.GetFingerprintAsNumPy(FingeprintGenerator64, NoneType)\n",
      "did not match C++ signature:\n",
      "    GetFingerprintAsNumPy(RDKit::FingerprintGenerator<unsigned long> const* self, RDKit::ROMol mol, boost::python::api::object fromAtoms=[], boost::python::api::object ignoreAtoms=[], int confId=-1, boost::python::api::object customAtomInvariants=[], boost::python::api::object customBondInvariants=[], boost::python::api::object additionalOutput=None)\n"
     ]
    },
    {
     "name": "stderr",
     "output_type": "stream",
     "text": [
      "[23:21:57] WARNING: not removing hydrogen atom without neighbors\n",
      "  6%|███████▋                                                                                                                 | 223/3538 [00:16<13:54,  3.97it/s][23:21:59] WARNING: not removing hydrogen atom without neighbors\n",
      "[23:22:01] WARNING: not removing hydrogen atom without neighbors\n",
      "[23:22:01] WARNING: not removing hydrogen atom without neighbors\n",
      "[23:22:01] WARNING: not removing hydrogen atom without neighbors\n",
      "  6%|███████▊                                                                                                                 | 227/3538 [00:20<21:51,  2.53it/s][23:22:01] WARNING: not removing hydrogen atom without neighbors\n",
      "[23:22:01] WARNING: not removing hydrogen atom without neighbors\n",
      "[23:22:01] WARNING: not removing hydrogen atom without neighbors\n",
      "[23:22:01] WARNING: not removing hydrogen atom without neighbors\n",
      "[23:22:01] WARNING: not removing hydrogen atom without neighbors\n",
      "[23:22:01] WARNING: not removing hydrogen atom without neighbors\n",
      "[23:22:01] WARNING: not removing hydrogen atom without neighbors\n",
      "  7%|████████                                                                                                                 | 234/3538 [00:20<14:17,  3.85it/s][23:22:02] WARNING: not removing hydrogen atom without neighbors\n",
      "[23:22:02] WARNING: not removing hydrogen atom without neighbors\n",
      "[23:22:02] WARNING: not removing hydrogen atom without neighbors\n",
      "[23:22:02] WARNING: not removing hydrogen atom without neighbors\n",
      "  7%|████████▏                                                                                                                | 238/3538 [00:21<12:43,  4.32it/s][23:22:02] WARNING: not removing hydrogen atom without neighbors\n",
      "[23:22:02] WARNING: not removing hydrogen atom without neighbors\n",
      "[23:22:02] WARNING: not removing hydrogen atom without neighbors\n",
      "[23:22:02] WARNING: not removing hydrogen atom without neighbors\n",
      "  7%|████████▎                                                                                                                | 242/3538 [00:21<09:56,  5.52it/s][23:22:02] WARNING: not removing hydrogen atom without neighbors\n",
      "[23:22:02] WARNING: not removing hydrogen atom without neighbors\n",
      "[23:22:02] WARNING: not removing hydrogen atom without neighbors\n",
      "[23:22:02] WARNING: not removing hydrogen atom without neighbors\n",
      "  7%|████████▍                                                                                                                | 247/3538 [00:21<07:15,  7.56it/s][23:22:02] WARNING: not removing hydrogen atom without neighbors\n",
      "[23:22:02] WARNING: not removing hydrogen atom without neighbors\n",
      "[23:22:02] WARNING: not removing hydrogen atom without neighbors\n",
      "  7%|████████▌                                                                                                                | 252/3538 [00:21<05:24, 10.14it/s][23:22:02] WARNING: not removing hydrogen atom without neighbors\n",
      "[23:22:02] WARNING: not removing hydrogen atom without neighbors\n",
      "[23:22:02] WARNING: not removing hydrogen atom without neighbors\n",
      "[23:22:02] WARNING: not removing hydrogen atom without neighbors\n",
      "[23:22:02] WARNING: not removing hydrogen atom without neighbors\n",
      "[23:22:02] WARNING: not removing hydrogen atom without neighbors\n",
      "  7%|████████▊                                                                                                                | 258/3538 [00:21<03:53, 14.03it/s][23:22:02] WARNING: not removing hydrogen atom without neighbors\n",
      "[23:22:02] WARNING: not removing hydrogen atom without neighbors\n",
      "[23:22:02] WARNING: not removing hydrogen atom without neighbors\n",
      "[23:22:02] WARNING: not removing hydrogen atom without neighbors\n",
      "[23:22:02] WARNING: not removing hydrogen atom without neighbors\n",
      "  7%|████████▉                                                                                                                | 263/3538 [00:21<03:07, 17.49it/s][23:22:02] WARNING: not removing hydrogen atom without neighbors\n",
      "[23:22:02] WARNING: not removing hydrogen atom without neighbors\n",
      "[23:22:02] WARNING: not removing hydrogen atom without neighbors\n",
      "[23:22:02] WARNING: not removing hydrogen atom without neighbors\n",
      "[23:22:03] WARNING: not removing hydrogen atom without neighbors\n",
      "  8%|█████████▏                                                                                                               | 268/3538 [00:21<02:37, 20.75it/s][23:22:03] WARNING: not removing hydrogen atom without neighbors\n",
      "[23:22:03] WARNING: not removing hydrogen atom without neighbors\n",
      "[23:22:03] WARNING: not removing hydrogen atom without neighbors\n",
      "  8%|█████████▎                                                                                                               | 273/3538 [00:21<02:12, 24.66it/s][23:22:03] WARNING: not removing hydrogen atom without neighbors\n",
      "[23:22:03] WARNING: not removing hydrogen atom without neighbors\n",
      "[23:22:03] WARNING: not removing hydrogen atom without neighbors\n",
      "[23:22:03] WARNING: not removing hydrogen atom without neighbors\n",
      "[23:22:03] WARNING: not removing hydrogen atom without neighbors\n",
      "  8%|█████████▌                                                                                                               | 278/3538 [00:22<02:00, 27.16it/s][23:22:03] WARNING: not removing hydrogen atom without neighbors\n",
      "[23:22:03] WARNING: not removing hydrogen atom without neighbors\n",
      "[23:22:03] WARNING: not removing hydrogen atom without neighbors\n",
      "[23:22:03] WARNING: not removing hydrogen atom without neighbors\n",
      "[23:22:03] WARNING: not removing hydrogen atom without neighbors\n",
      "  8%|█████████▋                                                                                                               | 283/3538 [00:22<01:47, 30.26it/s][23:22:03] WARNING: not removing hydrogen atom without neighbors\n",
      "[23:22:03] WARNING: not removing hydrogen atom without neighbors\n",
      "[23:22:03] WARNING: not removing hydrogen atom without neighbors\n",
      "[23:22:03] WARNING: not removing hydrogen atom without neighbors\n",
      "[23:22:03] WARNING: not removing hydrogen atom without neighbors\n",
      "  8%|█████████▊                                                                                                               | 288/3538 [00:22<01:35, 33.90it/s][23:22:03] WARNING: not removing hydrogen atom without neighbors\n",
      "[23:22:03] WARNING: not removing hydrogen atom without neighbors\n",
      "[23:22:03] WARNING: not removing hydrogen atom without neighbors\n",
      "[23:22:03] WARNING: not removing hydrogen atom without neighbors\n",
      "[23:22:03] WARNING: not removing hydrogen atom without neighbors\n",
      "  8%|██████████                                                                                                               | 293/3538 [00:22<01:36, 33.51it/s][23:22:03] WARNING: not removing hydrogen atom without neighbors\n",
      "[23:22:03] WARNING: not removing hydrogen atom without neighbors\n",
      "[23:22:03] WARNING: not removing hydrogen atom without neighbors\n",
      "[23:22:03] WARNING: not removing hydrogen atom without neighbors\n",
      "  8%|██████████▏                                                                                                              | 297/3538 [00:22<01:35, 33.85it/s][23:22:03] WARNING: not removing hydrogen atom without neighbors\n",
      "[23:22:03] WARNING: not removing hydrogen atom without neighbors\n",
      "[23:22:03] WARNING: not removing hydrogen atom without neighbors\n",
      "[23:22:03] WARNING: not removing hydrogen atom without neighbors\n",
      "[23:22:03] WARNING: not removing hydrogen atom without neighbors\n",
      "  9%|██████████▎                                                                                                              | 303/3538 [00:22<01:24, 38.12it/s][23:22:03] WARNING: not removing hydrogen atom without neighbors\n",
      "[23:22:03] WARNING: not removing hydrogen atom without neighbors\n",
      "[23:22:03] WARNING: not removing hydrogen atom without neighbors\n",
      "[23:22:03] WARNING: not removing hydrogen atom without neighbors\n",
      "[23:22:03] WARNING: not removing hydrogen atom without neighbors\n",
      "  9%|██████████▌                                                                                                              | 308/3538 [00:22<01:23, 38.68it/s][23:22:04] WARNING: not removing hydrogen atom without neighbors\n",
      "[23:22:04] WARNING: not removing hydrogen atom without neighbors\n",
      "[23:22:04] WARNING: not removing hydrogen atom without neighbors\n",
      "[23:22:04] WARNING: not removing hydrogen atom without neighbors\n",
      "[23:22:04] WARNING: not removing hydrogen atom without neighbors\n",
      "  9%|██████████▋                                                                                                              | 313/3538 [00:22<01:22, 38.90it/s][23:22:04] WARNING: not removing hydrogen atom without neighbors\n",
      "[23:22:04] WARNING: not removing hydrogen atom without neighbors\n",
      "[23:22:04] WARNING: not removing hydrogen atom without neighbors\n",
      "[23:22:04] WARNING: not removing hydrogen atom without neighbors\n",
      "[23:22:04] WARNING: not removing hydrogen atom without neighbors\n",
      "[23:22:04] WARNING: not removing hydrogen atom without neighbors\n",
      "  9%|██████████▉                                                                                                              | 319/3538 [00:23<01:15, 42.54it/s][23:22:04] WARNING: not removing hydrogen atom without neighbors\n",
      "[23:22:04] WARNING: not removing hydrogen atom without neighbors\n",
      "[23:22:04] WARNING: not removing hydrogen atom without neighbors\n",
      "[23:22:04] WARNING: not removing hydrogen atom without neighbors\n",
      "[23:22:04] WARNING: not removing hydrogen atom without neighbors\n",
      "  9%|███████████                                                                                                              | 324/3538 [00:23<01:18, 40.89it/s][23:22:04] WARNING: not removing hydrogen atom without neighbors\n",
      "[23:22:04] WARNING: not removing hydrogen atom without neighbors\n",
      "[23:22:04] WARNING: not removing hydrogen atom without neighbors\n",
      "[23:22:04] WARNING: not removing hydrogen atom without neighbors\n",
      "  9%|███████████▎                                                                                                             | 330/3538 [00:23<01:11, 44.60it/s][23:22:04] WARNING: not removing hydrogen atom without neighbors\n",
      "[23:22:04] WARNING: not removing hydrogen atom without neighbors\n",
      "[23:22:04] WARNING: not removing hydrogen atom without neighbors\n",
      "[23:22:04] WARNING: not removing hydrogen atom without neighbors\n",
      "  9%|███████████▍                                                                                                             | 335/3538 [00:23<01:10, 45.35it/s][23:22:04] WARNING: not removing hydrogen atom without neighbors\n",
      "[23:22:04] WARNING: not removing hydrogen atom without neighbors\n",
      "[23:22:04] WARNING: not removing hydrogen atom without neighbors\n",
      "[23:22:04] WARNING: not removing hydrogen atom without neighbors\n",
      "[23:22:04] WARNING: not removing hydrogen atom without neighbors\n",
      " 10%|███████████▋                                                                                                             | 342/3538 [00:23<01:09, 45.83it/s][23:22:04] WARNING: not removing hydrogen atom without neighbors\n",
      " 10%|███████████▉                                                                                                             | 349/3538 [00:23<01:02, 50.94it/s][23:22:04] WARNING: not removing hydrogen atom without neighbors\n",
      "[23:22:04] WARNING: not removing hydrogen atom without neighbors\n",
      "[23:22:04] WARNING: not removing hydrogen atom without neighbors\n",
      "[23:22:04] WARNING: not removing hydrogen atom without neighbors\n",
      " 10%|████████████▏                                                                                                            | 356/3538 [00:23<00:59, 53.10it/s][23:22:04] WARNING: not removing hydrogen atom without neighbors\n",
      "[23:22:05] WARNING: not removing hydrogen atom without neighbors\n",
      "[23:22:05] WARNING: not removing hydrogen atom without neighbors\n",
      "[23:22:05] SMILES Parse Error: syntax error while parsing: CCC(=O)CC(=O)CC(=O)CC(=O)CC(=O)CC(O)CC(=O)CC(=O)CC(=O)CC(SCCNC(=O)CCNC([C@H](O)C(C)(C)COP(=O)([O-])OC[C@H](N[a\n",
      "[23:22:05] SMILES Parse Error: Failed parsing SMILES 'CCC(=O)CC(=O)CC(=O)CC(=O)CC(=O)CC(O)CC(=O)CC(=O)CC(=O)CC(SCCNC(=O)CCNC([C@H](O)C(C)(C)COP(=O)([O-])OC[C@H](N[a' for input: 'CCC(=O)CC(=O)CC(=O)CC(=O)CC(=O)CC(O)CC(=O)CC(=O)CC(=O)CC(SCCNC(=O)CCNC([C@H](O)C(C)(C)COP(=O)([O-])OC[C@H](N[a'\n",
      "[23:22:05] WARNING: not removing hydrogen atom without neighbors\n",
      "[23:22:05] SMILES Parse Error: syntax error while parsing: CCC(=O)CC(=O)CC(=O)CC(=O)CC(=O)CC(=O)CC(=O)CC(=O)CC(=O)CC(SCCNC(=O)CCNC([C@H](O)C(C)(C)COP(=O)([O-])OC[C@H](N[a\n",
      "[23:22:05] SMILES Parse Error: Failed parsing SMILES 'CCC(=O)CC(=O)CC(=O)CC(=O)CC(=O)CC(=O)CC(=O)CC(=O)CC(=O)CC(SCCNC(=O)CCNC([C@H](O)C(C)(C)COP(=O)([O-])OC[C@H](N[a' for input: 'CCC(=O)CC(=O)CC(=O)CC(=O)CC(=O)CC(=O)CC(=O)CC(=O)CC(=O)CC(SCCNC(=O)CCNC([C@H](O)C(C)(C)COP(=O)([O-])OC[C@H](N[a'\n"
     ]
    },
    {
     "name": "stdout",
     "output_type": "stream",
     "text": [
      "need at least one array to concatenate\n",
      "Python argument types in\n",
      "    FingeprintGenerator64.GetFingerprintAsNumPy(FingeprintGenerator64, NoneType)\n",
      "did not match C++ signature:\n",
      "    GetFingerprintAsNumPy(RDKit::FingerprintGenerator<unsigned long> const* self, RDKit::ROMol mol, boost::python::api::object fromAtoms=[], boost::python::api::object ignoreAtoms=[], int confId=-1, boost::python::api::object customAtomInvariants=[], boost::python::api::object customBondInvariants=[], boost::python::api::object additionalOutput=None)\n"
     ]
    },
    {
     "name": "stderr",
     "output_type": "stream",
     "text": [
      "[23:22:10] WARNING: not removing hydrogen atom without neighbors\n",
      "[23:22:11] WARNING: not removing hydrogen atom without neighbors\n",
      " 10%|████████████▍                                                                                                            | 362/3538 [00:30<17:54,  2.95it/s][23:22:11] WARNING: not removing hydrogen atom without neighbors\n",
      "[23:22:13] WARNING: not removing hydrogen atom without neighbors\n",
      " 10%|████████████▌                                                                                                            | 366/3538 [00:32<18:19,  2.89it/s][23:22:13] WARNING: not removing hydrogen atom without neighbors\n",
      "[23:22:13] WARNING: not removing hydrogen atom without neighbors\n",
      "[23:22:13] WARNING: not removing hydrogen atom without neighbors\n",
      "[23:22:13] WARNING: not removing hydrogen atom without neighbors\n",
      "[23:22:13] WARNING: not removing hydrogen atom without neighbors\n",
      "[23:22:13] WARNING: not removing hydrogen atom without neighbors\n",
      " 11%|████████████▋                                                                                                            | 372/3538 [00:32<12:51,  4.10it/s][23:22:13] WARNING: not removing hydrogen atom without neighbors\n",
      "[23:22:13] WARNING: not removing hydrogen atom without neighbors\n",
      "[23:22:13] WARNING: not removing hydrogen atom without neighbors\n",
      " 11%|████████████▉                                                                                                            | 379/3538 [00:32<08:43,  6.04it/s][23:22:13] WARNING: not removing hydrogen atom without neighbors\n",
      "[23:22:13] WARNING: not removing hydrogen atom without neighbors\n",
      "[23:22:13] WARNING: not removing hydrogen atom without neighbors\n",
      "[23:22:13] WARNING: not removing hydrogen atom without neighbors\n",
      "[23:22:13] WARNING: not removing hydrogen atom without neighbors\n",
      " 11%|█████████████▏                                                                                                           | 385/3538 [00:32<06:25,  8.18it/s][23:22:13] WARNING: not removing hydrogen atom without neighbors\n",
      "[23:22:13] WARNING: not removing hydrogen atom without neighbors\n",
      "[23:22:13] WARNING: not removing hydrogen atom without neighbors\n",
      "[23:22:13] WARNING: not removing hydrogen atom without neighbors\n",
      " 11%|█████████████▎                                                                                                           | 390/3538 [00:32<05:01, 10.45it/s][23:22:13] WARNING: not removing hydrogen atom without neighbors\n",
      "[23:22:13] WARNING: not removing hydrogen atom without neighbors\n",
      "[23:22:13] WARNING: not removing hydrogen atom without neighbors\n",
      "[23:22:13] WARNING: not removing hydrogen atom without neighbors\n",
      "[23:22:13] SMILES Parse Error: syntax error while parsing: CC3(\\C8(/[C@@H](CCC([O-])=O)[C@](C)(C)C4(\\[N+](\\[Co-3]25([N+]7(/[C@]([C@@H]1([C@@H]([C@](CCC(=O)[O-])(C)C(\\N12)=3)CC([O-])=O))(C)[C@@](C)(CC(N)=O)[C@H](CCC(=O)[O-])C(\\C(/C)=C6([C@@](C)(CC(N)=O)[C@@H](C(\\C=4)=[N+]56)CCC([O-])=O))=7)))=8))).[a\n",
      "[23:22:13] SMILES Parse Error: Failed parsing SMILES 'CC3(\\C8(/[C@@H](CCC([O-])=O)[C@](C)(C)C4(\\[N+](\\[Co-3]25([N+]7(/[C@]([C@@H]1([C@@H]([C@](CCC(=O)[O-])(C)C(\\N12)=3)CC([O-])=O))(C)[C@@](C)(CC(N)=O)[C@H](CCC(=O)[O-])C(\\C(/C)=C6([C@@](C)(CC(N)=O)[C@@H](C(\\C=4)=[N+]56)CCC([O-])=O))=7)))=8))).[a' for input: 'CC3(\\C8(/[C@@H](CCC([O-])=O)[C@](C)(C)C4(\\[N+](\\[Co-3]25([N+]7(/[C@]([C@@H]1([C@@H]([C@](CCC(=O)[O-])(C)C(\\N12)=3)CC([O-])=O))(C)[C@@](C)(CC(N)=O)[C@H](CCC(=O)[O-])C(\\C(/C)=C6([C@@](C)(CC(N)=O)[C@@H](C(\\C=4)=[N+]56)CCC([O-])=O))=7)))=8))).[a'\n",
      "[23:22:13] SMILES Parse Error: syntax error while parsing: CC3(\\C8(/[C@@H](CCC([O-])=O)C(C)(C)C4(\\[N+](\\[Co-2]25([N+]7(/[C@]([C@@H]1([C@@H]([C@](CCC(=O)[O-])(C)C(\\N12)=3)CC([O-])=O))(C)[C@@](C)(CC(N)=O)[C@H](CCC(=O)[O-])C(\\C(/C)=C6([C@@](C)(CC(N)=O)[C@@H](C(\\C=4)=[N+]56)CCC([O-])=O))=7)))=8))).[a\n",
      "[23:22:13] SMILES Parse Error: Failed parsing SMILES 'CC3(\\C8(/[C@@H](CCC([O-])=O)C(C)(C)C4(\\[N+](\\[Co-2]25([N+]7(/[C@]([C@@H]1([C@@H]([C@](CCC(=O)[O-])(C)C(\\N12)=3)CC([O-])=O))(C)[C@@](C)(CC(N)=O)[C@H](CCC(=O)[O-])C(\\C(/C)=C6([C@@](C)(CC(N)=O)[C@@H](C(\\C=4)=[N+]56)CCC([O-])=O))=7)))=8))).[a' for input: 'CC3(\\C8(/[C@@H](CCC([O-])=O)C(C)(C)C4(\\[N+](\\[Co-2]25([N+]7(/[C@]([C@@H]1([C@@H]([C@](CCC(=O)[O-])(C)C(\\N12)=3)CC([O-])=O))(C)[C@@](C)(CC(N)=O)[C@H](CCC(=O)[O-])C(\\C(/C)=C6([C@@](C)(CC(N)=O)[C@@H](C(\\C=4)=[N+]56)CCC([O-])=O))=7)))=8))).[a'\n"
     ]
    },
    {
     "name": "stdout",
     "output_type": "stream",
     "text": [
      "need at least one array to concatenate\n",
      "need at least one array to concatenate\n"
     ]
    },
    {
     "name": "stderr",
     "output_type": "stream",
     "text": [
      " 11%|█████████████▌                                                                                                           | 396/3538 [00:34<09:24,  5.56it/s]"
     ]
    },
    {
     "name": "stdout",
     "output_type": "stream",
     "text": [
      "Python argument types in\n",
      "    FingeprintGenerator64.GetFingerprintAsNumPy(FingeprintGenerator64, NoneType)\n",
      "did not match C++ signature:\n",
      "    GetFingerprintAsNumPy(RDKit::FingerprintGenerator<unsigned long> const* self, RDKit::ROMol mol, boost::python::api::object fromAtoms=[], boost::python::api::object ignoreAtoms=[], int confId=-1, boost::python::api::object customAtomInvariants=[], boost::python::api::object customBondInvariants=[], boost::python::api::object additionalOutput=None)\n"
     ]
    },
    {
     "name": "stderr",
     "output_type": "stream",
     "text": [
      "[23:22:18] WARNING: not removing hydrogen atom without neighbors\n",
      "[23:22:19] WARNING: not removing hydrogen atom without neighbors\n",
      "[23:22:19] SMILES Parse Error: syntax error while parsing: C[C@@H](O)CNC(=O)CC[C@]1(C)([C@@H](CC(=O)N)[C@@H]8([C@@]6(C)([C@@](C)(CC(N)=O)[C@H](CCC(N)=O)C7(\\C(/C)=C4([C@@](C)(CC(N)=O)[C@H](CCC(N)=O)C5(\\C=C2(C(C)(C)[C@H](CCC(N)=O)C3(\\C(/C)=C1/N([Co-3]([N+]\\2=3)([N+]4=5)[N+]\\6=7)8)))))))).[a\n",
      "[23:22:19] SMILES Parse Error: Failed parsing SMILES 'C[C@@H](O)CNC(=O)CC[C@]1(C)([C@@H](CC(=O)N)[C@@H]8([C@@]6(C)([C@@](C)(CC(N)=O)[C@H](CCC(N)=O)C7(\\C(/C)=C4([C@@](C)(CC(N)=O)[C@H](CCC(N)=O)C5(\\C=C2(C(C)(C)[C@H](CCC(N)=O)C3(\\C(/C)=C1/N([Co-3]([N+]\\2=3)([N+]4=5)[N+]\\6=7)8)))))))).[a' for input: 'C[C@@H](O)CNC(=O)CC[C@]1(C)([C@@H](CC(=O)N)[C@@H]8([C@@]6(C)([C@@](C)(CC(N)=O)[C@H](CCC(N)=O)C7(\\C(/C)=C4([C@@](C)(CC(N)=O)[C@H](CCC(N)=O)C5(\\C=C2(C(C)(C)[C@H](CCC(N)=O)C3(\\C(/C)=C1/N([Co-3]([N+]\\2=3)([N+]4=5)[N+]\\6=7)8)))))))).[a'\n",
      "[23:22:20] SMILES Parse Error: syntax error while parsing: C[C@@H](O)CNC(=O)CC[C@]1(C)([C@@H](CC(=O)N)[C@@H]8([C@@]6(C)([C@@](C)(CC(N)=O)[C@H](CCC(N)=O)C7(\\C(/C)=C4([C@@](C)(CC(N)=O)[C@H](CCC(N)=O)C5(\\C=C2(C(C)(C)[C@H](CCC(N)=O)C3(\\C(/C)=C1/N([Co-2]([N+]\\2=3)([N+]4=5)[N+]\\6=7)8)))))))).[a\n",
      "[23:22:20] SMILES Parse Error: Failed parsing SMILES 'C[C@@H](O)CNC(=O)CC[C@]1(C)([C@@H](CC(=O)N)[C@@H]8([C@@]6(C)([C@@](C)(CC(N)=O)[C@H](CCC(N)=O)C7(\\C(/C)=C4([C@@](C)(CC(N)=O)[C@H](CCC(N)=O)C5(\\C=C2(C(C)(C)[C@H](CCC(N)=O)C3(\\C(/C)=C1/N([Co-2]([N+]\\2=3)([N+]4=5)[N+]\\6=7)8)))))))).[a' for input: 'C[C@@H](O)CNC(=O)CC[C@]1(C)([C@@H](CC(=O)N)[C@@H]8([C@@]6(C)([C@@](C)(CC(N)=O)[C@H](CCC(N)=O)C7(\\C(/C)=C4([C@@](C)(CC(N)=O)[C@H](CCC(N)=O)C5(\\C=C2(C(C)(C)[C@H](CCC(N)=O)C3(\\C(/C)=C1/N([Co-2]([N+]\\2=3)([N+]4=5)[N+]\\6=7)8)))))))).[a'\n"
     ]
    },
    {
     "name": "stdout",
     "output_type": "stream",
     "text": [
      "Python argument types in\n",
      "    FingeprintGenerator64.GetFingerprintAsNumPy(FingeprintGenerator64, NoneType)\n",
      "did not match C++ signature:\n",
      "    GetFingerprintAsNumPy(RDKit::FingerprintGenerator<unsigned long> const* self, RDKit::ROMol mol, boost::python::api::object fromAtoms=[], boost::python::api::object ignoreAtoms=[], int confId=-1, boost::python::api::object customAtomInvariants=[], boost::python::api::object customBondInvariants=[], boost::python::api::object additionalOutput=None)\n"
     ]
    },
    {
     "name": "stderr",
     "output_type": "stream",
     "text": [
      "[23:22:23] SMILES Parse Error: syntax error while parsing: C[C@@H](O)CNC(=O)CC[C@]1(C)([C@@H](CC(=O)N)[C@@H]8([C@@]6(C)([C@@](C)(CC(N)=O)[C@H](CCC(N)=O)C7(\\C(/C)=C4([C@@](C)(CC(N)=O)[C@H](CCC(N)=O)C5(\\C=C2(C(C)(C)[C@H](CCC(N)=O)C3(\\C(/C)=C1/N([Co-2]([N+]\\2=3)([N+]4=5)[N+]\\6=7)8)))))))).[a\n",
      "[23:22:23] SMILES Parse Error: Failed parsing SMILES 'C[C@@H](O)CNC(=O)CC[C@]1(C)([C@@H](CC(=O)N)[C@@H]8([C@@]6(C)([C@@](C)(CC(N)=O)[C@H](CCC(N)=O)C7(\\C(/C)=C4([C@@](C)(CC(N)=O)[C@H](CCC(N)=O)C5(\\C=C2(C(C)(C)[C@H](CCC(N)=O)C3(\\C(/C)=C1/N([Co-2]([N+]\\2=3)([N+]4=5)[N+]\\6=7)8)))))))).[a' for input: 'C[C@@H](O)CNC(=O)CC[C@]1(C)([C@@H](CC(=O)N)[C@@H]8([C@@]6(C)([C@@](C)(CC(N)=O)[C@H](CCC(N)=O)C7(\\C(/C)=C4([C@@](C)(CC(N)=O)[C@H](CCC(N)=O)C5(\\C=C2(C(C)(C)[C@H](CCC(N)=O)C3(\\C(/C)=C1/N([Co-2]([N+]\\2=3)([N+]4=5)[N+]\\6=7)8)))))))).[a'\n",
      "[23:22:24] SMILES Parse Error: syntax error while parsing: C[C@@H](O)CNC(=O)CC[C@]1(C)([C@@H](CC(=O)N)[C@@H]8([C@@]6(C)([C@@](C)(CC(N)=O)[C@H](CCC(N)=O)C7(\\C(/C)=C4([C@@](C)(CC(N)=O)[C@H](CCC(N)=O)C5(\\C=C2(C(C)(C)[C@H](CCC(N)=O)C3(\\C(/C)=C1/N([Co-3]([N+]\\2=3)([N+]4=5)[N+]\\6=7)8)))))))).[a\n",
      "[23:22:24] SMILES Parse Error: Failed parsing SMILES 'C[C@@H](O)CNC(=O)CC[C@]1(C)([C@@H](CC(=O)N)[C@@H]8([C@@]6(C)([C@@](C)(CC(N)=O)[C@H](CCC(N)=O)C7(\\C(/C)=C4([C@@](C)(CC(N)=O)[C@H](CCC(N)=O)C5(\\C=C2(C(C)(C)[C@H](CCC(N)=O)C3(\\C(/C)=C1/N([Co-3]([N+]\\2=3)([N+]4=5)[N+]\\6=7)8)))))))).[a' for input: 'C[C@@H](O)CNC(=O)CC[C@]1(C)([C@@H](CC(=O)N)[C@@H]8([C@@]6(C)([C@@](C)(CC(N)=O)[C@H](CCC(N)=O)C7(\\C(/C)=C4([C@@](C)(CC(N)=O)[C@H](CCC(N)=O)C5(\\C=C2(C(C)(C)[C@H](CCC(N)=O)C3(\\C(/C)=C1/N([Co-3]([N+]\\2=3)([N+]4=5)[N+]\\6=7)8)))))))).[a'\n",
      "[23:22:24] WARNING: not removing hydrogen atom without neighbors\n"
     ]
    },
    {
     "name": "stdout",
     "output_type": "stream",
     "text": [
      "Python argument types in\n",
      "    FingeprintGenerator64.GetFingerprintAsNumPy(FingeprintGenerator64, NoneType)\n",
      "did not match C++ signature:\n",
      "    GetFingerprintAsNumPy(RDKit::FingerprintGenerator<unsigned long> const* self, RDKit::ROMol mol, boost::python::api::object fromAtoms=[], boost::python::api::object ignoreAtoms=[], int confId=-1, boost::python::api::object customAtomInvariants=[], boost::python::api::object customBondInvariants=[], boost::python::api::object additionalOutput=None)\n"
     ]
    },
    {
     "name": "stderr",
     "output_type": "stream",
     "text": [
      "[23:22:27] WARNING: not removing hydrogen atom without neighbors\n",
      " 11%|█████████████▋                                                                                                           | 400/3538 [00:47<44:25,  1.18it/s][23:22:29] WARNING: not removing hydrogen atom without neighbors\n",
      " 11%|█████████████▋                                                                                                           | 401/3538 [00:48<47:15,  1.11it/s][23:22:30] WARNING: not removing hydrogen atom without neighbors\n",
      "[23:22:30] WARNING: not removing hydrogen atom without neighbors\n",
      "[23:22:30] WARNING: not removing hydrogen atom without neighbors\n",
      "[23:22:30] WARNING: not removing hydrogen atom without neighbors\n",
      "[23:22:30] WARNING: not removing hydrogen atom without neighbors\n",
      "[23:22:30] WARNING: not removing hydrogen atom without neighbors\n",
      "[23:22:30] WARNING: not removing hydrogen atom without neighbors\n",
      " 12%|█████████████▉                                                                                                           | 408/3538 [00:48<27:15,  1.91it/s][23:22:30] WARNING: not removing hydrogen atom without neighbors\n",
      "[23:22:30] WARNING: not removing hydrogen atom without neighbors\n",
      "[23:22:30] WARNING: not removing hydrogen atom without neighbors\n",
      " 12%|██████████████▏                                                                                                          | 414/3538 [00:49<18:08,  2.87it/s][23:22:30] WARNING: not removing hydrogen atom without neighbors\n",
      "[23:22:30] WARNING: not removing hydrogen atom without neighbors\n",
      "[23:22:30] WARNING: not removing hydrogen atom without neighbors\n",
      "[23:22:30] WARNING: not removing hydrogen atom without neighbors\n",
      " 12%|██████████████▍                                                                                                          | 421/3538 [00:49<11:48,  4.40it/s][23:22:30] WARNING: not removing hydrogen atom without neighbors\n",
      "[23:22:30] WARNING: not removing hydrogen atom without neighbors\n",
      "[23:22:30] WARNING: not removing hydrogen atom without neighbors\n",
      "[23:22:30] WARNING: not removing hydrogen atom without neighbors\n",
      " 12%|██████████████▌                                                                                                          | 426/3538 [00:49<08:54,  5.83it/s][23:22:30] WARNING: not removing hydrogen atom without neighbors\n",
      "[23:22:30] WARNING: not removing hydrogen atom without neighbors\n",
      "[23:22:30] WARNING: not removing hydrogen atom without neighbors\n",
      " 12%|██████████████▉                                                                                                          | 435/3538 [00:49<05:27,  9.46it/s][23:22:30] WARNING: not removing hydrogen atom without neighbors\n",
      "[23:22:30] WARNING: not removing hydrogen atom without neighbors\n",
      "[23:22:30] WARNING: not removing hydrogen atom without neighbors\n",
      "[23:22:30] WARNING: not removing hydrogen atom without neighbors\n",
      "[23:22:30] WARNING: not removing hydrogen atom without neighbors\n",
      "[23:22:30] WARNING: not removing hydrogen atom without neighbors\n",
      "[23:22:30] WARNING: not removing hydrogen atom without neighbors\n",
      " 13%|███████████████▏                                                                                                         | 443/3538 [00:49<03:51, 13.38it/s]"
     ]
    },
    {
     "name": "stdout",
     "output_type": "stream",
     "text": [
      "need at least one array to concatenate\n",
      "need at least one array to concatenate\n",
      "need at least one array to concatenate\n",
      "need at least one array to concatenate\n"
     ]
    },
    {
     "name": "stderr",
     "output_type": "stream",
     "text": [
      "[23:22:30] Conflicting single bond directions around double bond at index 12.\n",
      "[23:22:30]   BondStereo set to STEREONONE and single bond directions set to NONE.\n",
      "[23:22:30] Conflicting single bond directions around double bond at index 17.\n",
      "[23:22:30]   BondStereo set to STEREONONE and single bond directions set to NONE.\n",
      "[23:22:30] Conflicting single bond directions around double bond at index 12.\n",
      "[23:22:30]   BondStereo set to STEREONONE and single bond directions set to NONE.\n",
      "[23:22:30] Conflicting single bond directions around double bond at index 17.\n",
      "[23:22:30]   BondStereo set to STEREONONE and single bond directions set to NONE.\n",
      "[23:22:30] WARNING: not removing hydrogen atom without neighbors\n",
      "[23:22:30] WARNING: not removing hydrogen atom without neighbors\n",
      "[23:22:30] WARNING: not removing hydrogen atom without neighbors\n",
      "[23:22:30] SMILES Parse Error: syntax error while parsing: CCCC/C=C/C=C/C=C\\CCCCCCCC(=O)[a\n",
      "[23:22:30] SMILES Parse Error: Failed parsing SMILES 'CCCC/C=C/C=C/C=C\\CCCCCCCC(=O)[a' for input: 'CCCC/C=C/C=C/C=C\\CCCCCCCC(=O)[a'\n",
      "[23:22:30] WARNING: not removing hydrogen atom without neighbors\n",
      " 13%|███████████████▍                                                                                                         | 450/3538 [00:51<07:03,  7.29it/s]"
     ]
    },
    {
     "name": "stdout",
     "output_type": "stream",
     "text": [
      "Python argument types in\n",
      "    FingeprintGenerator64.GetFingerprintAsNumPy(FingeprintGenerator64, NoneType)\n",
      "did not match C++ signature:\n",
      "    GetFingerprintAsNumPy(RDKit::FingerprintGenerator<unsigned long> const* self, RDKit::ROMol mol, boost::python::api::object fromAtoms=[], boost::python::api::object ignoreAtoms=[], int confId=-1, boost::python::api::object customAtomInvariants=[], boost::python::api::object customBondInvariants=[], boost::python::api::object additionalOutput=None)\n"
     ]
    },
    {
     "name": "stderr",
     "output_type": "stream",
     "text": [
      "[23:22:35] WARNING: not removing hydrogen atom without neighbors\n",
      "[23:22:36] WARNING: not removing hydrogen atom without neighbors\n",
      "[23:22:38] WARNING: not removing hydrogen atom without neighbors\n",
      "[23:22:40] WARNING: not removing hydrogen atom without neighbors\n",
      " 13%|███████████████▌                                                                                                         | 455/3538 [00:59<23:46,  2.16it/s][23:22:40] WARNING: not removing hydrogen atom without neighbors\n",
      "[23:22:40] WARNING: not removing hydrogen atom without neighbors\n",
      "[23:22:40] WARNING: not removing hydrogen atom without neighbors\n",
      " 13%|███████████████▋                                                                                                         | 459/3538 [00:59<19:01,  2.70it/s][23:22:40] WARNING: not removing hydrogen atom without neighbors\n",
      "[23:22:40] WARNING: not removing hydrogen atom without neighbors\n",
      "[23:22:40] WARNING: not removing hydrogen atom without neighbors\n",
      "[23:22:40] WARNING: not removing hydrogen atom without neighbors\n",
      "[23:22:40] WARNING: not removing hydrogen atom without neighbors\n",
      "[23:22:40] WARNING: not removing hydrogen atom without neighbors\n",
      " 13%|███████████████▉                                                                                                         | 466/3538 [00:59<12:41,  4.04it/s][23:22:40] WARNING: not removing hydrogen atom without neighbors\n",
      "[23:22:40] WARNING: not removing hydrogen atom without neighbors\n",
      "[23:22:40] WARNING: not removing hydrogen atom without neighbors\n",
      "[23:22:40] WARNING: not removing hydrogen atom without neighbors\n",
      "[23:22:40] WARNING: not removing hydrogen atom without neighbors\n",
      " 13%|████████████████▏                                                                                                        | 475/3538 [00:59<07:58,  6.40it/s]"
     ]
    },
    {
     "name": "stdout",
     "output_type": "stream",
     "text": [
      "need at least one array to concatenate\n",
      "need at least one array to concatenate\n",
      "need at least one array to concatenate\n",
      "need at least one array to concatenate\n"
     ]
    },
    {
     "name": "stderr",
     "output_type": "stream",
     "text": [
      "[23:22:40] WARNING: not removing hydrogen atom without neighbors\n",
      "[23:22:40] WARNING: not removing hydrogen atom without neighbors\n",
      "[23:22:40] WARNING: not removing hydrogen atom without neighbors\n",
      "[23:22:40] WARNING: not removing hydrogen atom without neighbors\n",
      " 14%|████████████████▍                                                                                                        | 481/3538 [00:59<06:09,  8.28it/s][23:22:40] WARNING: not removing hydrogen atom without neighbors\n",
      "[23:22:40] WARNING: not removing hydrogen atom without neighbors\n",
      "[23:22:40] WARNING: not removing hydrogen atom without neighbors\n",
      "[23:22:40] WARNING: not removing hydrogen atom without neighbors\n",
      "[23:22:40] WARNING: not removing hydrogen atom without neighbors\n",
      "[23:22:40] WARNING: not removing hydrogen atom without neighbors\n",
      " 14%|████████████████▋                                                                                                        | 487/3538 [00:59<04:58, 10.24it/s][23:22:41] WARNING: not removing hydrogen atom without neighbors\n",
      "[23:22:41] WARNING: not removing hydrogen atom without neighbors\n",
      "[23:22:41] WARNING: not removing hydrogen atom without neighbors\n",
      "[23:22:41] WARNING: not removing hydrogen atom without neighbors\n",
      " 14%|████████████████▊                                                                                                        | 492/3538 [00:59<04:06, 12.38it/s][23:22:41] WARNING: not removing hydrogen atom without neighbors\n",
      "[23:22:41] WARNING: not removing hydrogen atom without neighbors\n",
      "[23:22:41] WARNING: not removing hydrogen atom without neighbors\n",
      "[23:22:41] WARNING: not removing hydrogen atom without neighbors\n",
      "[23:22:41] WARNING: not removing hydrogen atom without neighbors\n",
      " 14%|████████████████▉                                                                                                        | 497/3538 [01:00<03:22, 15.02it/s][23:22:41] WARNING: not removing hydrogen atom without neighbors\n",
      "[23:22:41] WARNING: not removing hydrogen atom without neighbors\n",
      "[23:22:41] WARNING: not removing hydrogen atom without neighbors\n",
      " 14%|█████████████████▏                                                                                                       | 501/3538 [01:00<02:53, 17.51it/s][23:22:41] WARNING: not removing hydrogen atom without neighbors\n",
      "[23:22:41] WARNING: not removing hydrogen atom without neighbors\n",
      "[23:22:41] WARNING: not removing hydrogen atom without neighbors\n",
      "[23:22:41] WARNING: not removing hydrogen atom without neighbors\n",
      " 14%|█████████████████▎                                                                                                       | 505/3538 [01:00<02:32, 19.88it/s][23:22:41] WARNING: not removing hydrogen atom without neighbors\n",
      "[23:22:41] WARNING: not removing hydrogen atom without neighbors\n",
      "[23:22:41] WARNING: not removing hydrogen atom without neighbors\n",
      "[23:22:41] WARNING: not removing hydrogen atom without neighbors\n",
      " 14%|█████████████████▍                                                                                                       | 509/3538 [01:00<02:13, 22.72it/s][23:22:41] WARNING: not removing hydrogen atom without neighbors\n",
      "[23:22:41] SMILES Parse Error: syntax error while parsing: CCCCC\\C=C/C\\C=C/CCCCCCCCCC(=O)[a\n",
      "[23:22:41] SMILES Parse Error: Failed parsing SMILES 'CCCCC\\C=C/C\\C=C/CCCCCCCCCC(=O)[a' for input: 'CCCCC\\C=C/C\\C=C/CCCCCCCCCC(=O)[a'\n"
     ]
    },
    {
     "name": "stdout",
     "output_type": "stream",
     "text": [
      "need at least one array to concatenate\n",
      "Python argument types in\n",
      "    FingeprintGenerator64.GetFingerprintAsNumPy(FingeprintGenerator64, NoneType)\n",
      "did not match C++ signature:\n",
      "    GetFingerprintAsNumPy(RDKit::FingerprintGenerator<unsigned long> const* self, RDKit::ROMol mol, boost::python::api::object fromAtoms=[], boost::python::api::object ignoreAtoms=[], int confId=-1, boost::python::api::object customAtomInvariants=[], boost::python::api::object customBondInvariants=[], boost::python::api::object additionalOutput=None)\n"
     ]
    },
    {
     "name": "stderr",
     "output_type": "stream",
     "text": [
      "[23:22:46] WARNING: not removing hydrogen atom without neighbors\n",
      "[23:22:48] WARNING: not removing hydrogen atom without neighbors\n",
      " 14%|█████████████████▌                                                                                                       | 513/3538 [01:07<25:26,  1.98it/s][23:22:48] WARNING: not removing hydrogen atom without neighbors\n",
      "[23:22:48] WARNING: not removing hydrogen atom without neighbors\n",
      "[23:22:48] WARNING: not removing hydrogen atom without neighbors\n",
      "[23:22:48] WARNING: not removing hydrogen atom without neighbors\n",
      " 15%|█████████████████▊                                                                                                       | 521/3538 [01:07<14:33,  3.45it/s][23:22:48] WARNING: not removing hydrogen atom without neighbors\n",
      "[23:22:48] WARNING: not removing hydrogen atom without neighbors\n",
      "[23:22:48] WARNING: not removing hydrogen atom without neighbors\n",
      "[23:22:48] WARNING: not removing hydrogen atom without neighbors\n",
      "[23:22:48] WARNING: not removing hydrogen atom without neighbors\n",
      "[23:22:48] WARNING: not removing hydrogen atom without neighbors\n",
      "[23:22:48] WARNING: not removing hydrogen atom without neighbors\n",
      " 15%|██████████████████                                                                                                       | 529/3538 [01:07<09:10,  5.46it/s]"
     ]
    },
    {
     "name": "stdout",
     "output_type": "stream",
     "text": [
      "need at least one array to concatenate\n",
      "need at least one array to concatenate\n",
      "need at least one array to concatenate\n"
     ]
    },
    {
     "name": "stderr",
     "output_type": "stream",
     "text": [
      "[23:22:48] WARNING: not removing hydrogen atom without neighbors\n",
      "[23:22:48] WARNING: not removing hydrogen atom without neighbors\n",
      "[23:22:48] WARNING: not removing hydrogen atom without neighbors\n",
      "[23:22:48] WARNING: not removing hydrogen atom without neighbors\n",
      "[23:22:48] WARNING: not removing hydrogen atom without neighbors\n",
      "[23:22:48] WARNING: not removing hydrogen atom without neighbors\n",
      " 15%|██████████████████▎                                                                                                      | 535/3538 [01:07<06:44,  7.43it/s][23:22:48] WARNING: not removing hydrogen atom without neighbors\n",
      "[23:22:48] WARNING: not removing hydrogen atom without neighbors\n",
      "[23:22:48] WARNING: not removing hydrogen atom without neighbors\n",
      "[23:22:48] WARNING: not removing hydrogen atom without neighbors\n",
      "[23:22:48] WARNING: not removing hydrogen atom without neighbors\n",
      "[23:22:48] WARNING: not removing hydrogen atom without neighbors\n",
      " 15%|██████████████████▌                                                                                                      | 541/3538 [01:07<04:59, 10.01it/s][23:22:48] WARNING: not removing hydrogen atom without neighbors\n",
      "[23:22:48] WARNING: not removing hydrogen atom without neighbors\n",
      "[23:22:49] WARNING: not removing hydrogen atom without neighbors\n",
      "[23:22:49] WARNING: not removing hydrogen atom without neighbors\n",
      "[23:22:49] WARNING: not removing hydrogen atom without neighbors\n",
      "[23:22:49] WARNING: not removing hydrogen atom without neighbors\n",
      "[23:22:49] WARNING: not removing hydrogen atom without neighbors\n",
      " 16%|██████████████████▊                                                                                                      | 549/3538 [01:07<03:25, 14.53it/s][23:22:49] WARNING: not removing hydrogen atom without neighbors\n",
      "[23:22:49] WARNING: not removing hydrogen atom without neighbors\n",
      "[23:22:49] WARNING: not removing hydrogen atom without neighbors\n",
      "[23:22:49] WARNING: not removing hydrogen atom without neighbors\n",
      "[23:22:49] WARNING: not removing hydrogen atom without neighbors\n",
      "[23:22:49] WARNING: not removing hydrogen atom without neighbors\n",
      " 16%|███████████████████                                                                                                      | 556/3538 [01:07<02:36, 19.09it/s]"
     ]
    },
    {
     "name": "stdout",
     "output_type": "stream",
     "text": [
      "need at least one array to concatenate\n",
      "need at least one array to concatenate\n"
     ]
    },
    {
     "name": "stderr",
     "output_type": "stream",
     "text": [
      "[23:22:49] WARNING: not removing hydrogen atom without neighbors\n",
      "[23:22:49] WARNING: not removing hydrogen atom without neighbors\n",
      "[23:22:49] WARNING: not removing hydrogen atom without neighbors\n",
      "[23:22:49] WARNING: not removing hydrogen atom without neighbors\n",
      "[23:22:49] WARNING: not removing hydrogen atom without neighbors\n",
      "[23:22:49] WARNING: not removing hydrogen atom without neighbors\n",
      " 16%|███████████████████▎                                                                                                     | 563/3538 [01:08<02:03, 24.09it/s][23:22:49] WARNING: not removing hydrogen atom without neighbors\n",
      "[23:22:49] WARNING: not removing hydrogen atom without neighbors\n",
      "[23:22:49] WARNING: not removing hydrogen atom without neighbors\n",
      "[23:22:49] WARNING: not removing hydrogen atom without neighbors\n",
      "[23:22:49] WARNING: not removing hydrogen atom without neighbors\n",
      "[23:22:49] Conflicting single bond directions around double bond at index 16.\n",
      "[23:22:49]   BondStereo set to STEREONONE and single bond directions set to NONE.\n",
      "[23:22:49] Conflicting single bond directions around double bond at index 16.\n",
      "[23:22:49]   BondStereo set to STEREONONE and single bond directions set to NONE.\n",
      "[23:22:49] Conflicting single bond directions around double bond at index 17.\n",
      "[23:22:49]   BondStereo set to STEREONONE and single bond directions set to NONE.\n",
      "[23:22:49] WARNING: not removing hydrogen atom without neighbors\n",
      " 16%|███████████████████▍                                                                                                     | 570/3538 [01:08<01:52, 26.31it/s][23:22:49] WARNING: not removing hydrogen atom without neighbors\n",
      "[23:22:49] WARNING: not removing hydrogen atom without neighbors\n",
      "[23:22:49] WARNING: not removing hydrogen atom without neighbors\n",
      "[23:22:49] WARNING: not removing hydrogen atom without neighbors\n",
      "[23:22:49] WARNING: not removing hydrogen atom without neighbors\n",
      "[23:22:49] WARNING: not removing hydrogen atom without neighbors\n",
      " 16%|███████████████████▋                                                                                                     | 576/3538 [01:08<01:41, 29.26it/s][23:22:49] WARNING: not removing hydrogen atom without neighbors\n",
      "[23:22:49] WARNING: not removing hydrogen atom without neighbors\n",
      "[23:22:49] WARNING: not removing hydrogen atom without neighbors\n",
      "[23:22:49] WARNING: not removing hydrogen atom without neighbors\n",
      "[23:22:49] Conflicting single bond directions around double bond at index 17.\n",
      "[23:22:49]   BondStereo set to STEREONONE and single bond directions set to NONE.\n",
      " 16%|███████████████████▊                                                                                                     | 581/3538 [01:08<01:35, 30.91it/s][23:22:49] WARNING: not removing hydrogen atom without neighbors\n",
      "[23:22:49] WARNING: not removing hydrogen atom without neighbors\n",
      "[23:22:49] WARNING: not removing hydrogen atom without neighbors\n",
      "[23:22:49] WARNING: not removing hydrogen atom without neighbors\n",
      " 17%|████████████████████                                                                                                     | 586/3538 [01:08<01:27, 33.81it/s][23:22:49] WARNING: not removing hydrogen atom without neighbors\n",
      "[23:22:49] WARNING: not removing hydrogen atom without neighbors\n",
      "[23:22:49] [23:22:49] Explicit valence for atom # 55 C, 5, is greater than permitted\n",
      "Explicit valence for atom # 55 C, 5, is greater than permitted\n",
      "[23:22:49] Explicit valence for atom # 55 C, 5, is greater than permitted\n"
     ]
    },
    {
     "name": "stdout",
     "output_type": "stream",
     "text": [
      "need at least one array to concatenate\n",
      "Python argument types in\n",
      "    FingeprintGenerator64.GetFingerprintAsNumPy(FingeprintGenerator64, NoneType)\n",
      "did not match C++ signature:\n",
      "    GetFingerprintAsNumPy(RDKit::FingerprintGenerator<unsigned long> const* self, RDKit::ROMol mol, boost::python::api::object fromAtoms=[], boost::python::api::object ignoreAtoms=[], int confId=-1, boost::python::api::object customAtomInvariants=[], boost::python::api::object customBondInvariants=[], boost::python::api::object additionalOutput=None)\n"
     ]
    },
    {
     "name": "stderr",
     "output_type": "stream",
     "text": [
      "[23:22:54] WARNING: not removing hydrogen atom without neighbors\n",
      "[23:22:56] WARNING: not removing hydrogen atom without neighbors\n",
      "[23:22:56] WARNING: not removing hydrogen atom without neighbors\n",
      " 17%|████████████████████▏                                                                                                    | 591/3538 [01:15<18:23,  2.67it/s][23:22:56] WARNING: not removing hydrogen atom without neighbors\n",
      "[23:22:56] Conflicting single bond directions around double bond at index 12.\n",
      "[23:22:56]   BondStereo set to STEREONONE and single bond directions set to NONE.\n",
      "[23:22:56] Conflicting single bond directions around double bond at index 17.\n",
      "[23:22:56]   BondStereo set to STEREONONE and single bond directions set to NONE.\n",
      "[23:22:56] Conflicting single bond directions around double bond at index 12.\n",
      "[23:22:56]   BondStereo set to STEREONONE and single bond directions set to NONE.\n",
      "[23:22:56] Conflicting single bond directions around double bond at index 17.\n",
      "[23:22:56]   BondStereo set to STEREONONE and single bond directions set to NONE.\n",
      "[23:22:56] Conflicting single bond directions around double bond at index 9.\n",
      "[23:22:56]   BondStereo set to STEREONONE and single bond directions set to NONE.\n",
      "[23:22:56] Conflicting single bond directions around double bond at index 14.\n",
      "[23:22:56]   BondStereo set to STEREONONE and single bond directions set to NONE.\n",
      "[23:22:56] Conflicting single bond directions around double bond at index 19.\n",
      "[23:22:56]   BondStereo set to STEREONONE and single bond directions set to NONE.\n",
      "[23:22:56] Conflicting single bond directions around double bond at index 12.\n",
      "[23:22:56]   BondStereo set to STEREONONE and single bond directions set to NONE.\n",
      "[23:22:56] Conflicting single bond directions around double bond at index 17.\n",
      "[23:22:56]   BondStereo set to STEREONONE and single bond directions set to NONE.\n",
      "[23:22:56] Conflicting single bond directions around double bond at index 9.\n",
      "[23:22:56]   BondStereo set to STEREONONE and single bond directions set to NONE.\n",
      "[23:22:56] Conflicting single bond directions around double bond at index 14.\n",
      "[23:22:56]   BondStereo set to STEREONONE and single bond directions set to NONE.\n",
      "[23:22:56] Conflicting single bond directions around double bond at index 19.\n",
      "[23:22:56]   BondStereo set to STEREONONE and single bond directions set to NONE.\n",
      "[23:22:56] Conflicting single bond directions around double bond at index 9.\n",
      "[23:22:56]   BondStereo set to STEREONONE and single bond directions set to NONE.\n",
      "[23:22:56] Conflicting single bond directions around double bond at index 14.\n",
      "[23:22:56]   BondStereo set to STEREONONE and single bond directions set to NONE.\n",
      "[23:22:56] Conflicting single bond directions around double bond at index 19.\n",
      "[23:22:56]   BondStereo set to STEREONONE and single bond directions set to NONE.\n",
      "[23:22:56] WARNING: not removing hydrogen atom without neighbors\n",
      " 17%|████████████████████▎                                                                                                    | 595/3538 [01:15<14:20,  3.42it/s][23:22:56] WARNING: not removing hydrogen atom without neighbors\n",
      "[23:22:56] WARNING: not removing hydrogen atom without neighbors\n",
      "[23:22:56] WARNING: not removing hydrogen atom without neighbors\n",
      " 17%|████████████████████▌                                                                                                    | 600/3538 [01:15<10:21,  4.72it/s][23:22:56] WARNING: not removing hydrogen atom without neighbors\n",
      "[23:22:56] WARNING: not removing hydrogen atom without neighbors\n",
      "[23:22:56] WARNING: not removing hydrogen atom without neighbors\n",
      "[23:22:56] WARNING: not removing hydrogen atom without neighbors\n",
      " 17%|████████████████████▊                                                                                                    | 608/3538 [01:15<06:24,  7.62it/s][23:22:56] WARNING: not removing hydrogen atom without neighbors\n",
      "[23:22:56] WARNING: not removing hydrogen atom without neighbors\n",
      "[23:22:56] WARNING: not removing hydrogen atom without neighbors\n",
      " 17%|████████████████████▉                                                                                                    | 614/3538 [01:15<04:42, 10.33it/s][23:22:56] WARNING: not removing hydrogen atom without neighbors\n",
      "[23:22:56] WARNING: not removing hydrogen atom without neighbors\n"
     ]
    },
    {
     "name": "stdout",
     "output_type": "stream",
     "text": [
      "need at least one array to concatenate\n",
      "need at least one array to concatenate\n",
      "need at least one array to concatenate\n"
     ]
    },
    {
     "name": "stderr",
     "output_type": "stream",
     "text": [
      "[23:22:56] WARNING: not removing hydrogen atom without neighbors\n",
      " 18%|█████████████████████▏                                                                                                   | 620/3538 [01:15<03:34, 13.59it/s][23:22:56] WARNING: not removing hydrogen atom without neighbors\n",
      "[23:22:57] WARNING: not removing hydrogen atom without neighbors\n",
      "[23:22:57] WARNING: not removing hydrogen atom without neighbors\n",
      "[23:22:57] WARNING: not removing hydrogen atom without neighbors\n",
      " 18%|█████████████████████▍                                                                                                   | 626/3538 [01:15<02:45, 17.58it/s][23:22:57] WARNING: not removing hydrogen atom without neighbors\n",
      "[23:22:57] WARNING: not removing hydrogen atom without neighbors\n",
      "[23:22:57] WARNING: not removing hydrogen atom without neighbors\n",
      "[23:22:57] WARNING: not removing hydrogen atom without neighbors\n",
      "[23:22:57] Conflicting single bond directions around double bond at index 12.\n",
      "[23:22:57]   BondStereo set to STEREONONE and single bond directions set to NONE.\n",
      "[23:22:57] Conflicting single bond directions around double bond at index 17.\n",
      "[23:22:57]   BondStereo set to STEREONONE and single bond directions set to NONE.\n",
      "[23:22:57] Conflicting single bond directions around double bond at index 12.\n",
      "[23:22:57]   BondStereo set to STEREONONE and single bond directions set to NONE.\n",
      "[23:22:57] Conflicting single bond directions around double bond at index 17.\n",
      "[23:22:57]   BondStereo set to STEREONONE and single bond directions set to NONE.\n",
      " 18%|█████████████████████▋                                                                                                   | 633/3538 [01:15<02:05, 23.21it/s][23:22:57] WARNING: not removing hydrogen atom without neighbors\n",
      "[23:22:57] SMILES Parse Error: syntax error while parsing: C1([R4])(=C([R3])C(=O)C(/[R3])=C([R1])/C(=O)1)\n",
      "[23:22:57] SMILES Parse Error: Failed parsing SMILES 'C1([R4])(=C([R3])C(=O)C(/[R3])=C([R1])/C(=O)1)' for input: 'C1([R4])(=C([R3])C(=O)C(/[R3])=C([R1])/C(=O)1)'\n",
      "[23:22:57] SMILES Parse Error: syntax error while parsing: C1([R4])(=C([R3])C(=O)C(/[R3])=C([R1])/C(=O)1)\n",
      "[23:22:57] SMILES Parse Error: Failed parsing SMILES 'C1([R4])(=C([R3])C(=O)C(/[R3])=C([R1])/C(=O)1)' for input: 'C1([R4])(=C([R3])C(=O)C(/[R3])=C([R1])/C(=O)1)'\n"
     ]
    },
    {
     "name": "stdout",
     "output_type": "stream",
     "text": [
      "need at least one array to concatenate\n"
     ]
    },
    {
     "name": "stderr",
     "output_type": "stream",
     "text": [
      " 18%|█████████████████████▊                                                                                                   | 639/3538 [01:17<05:55,  8.15it/s]"
     ]
    },
    {
     "name": "stdout",
     "output_type": "stream",
     "text": [
      "Python argument types in\n",
      "    FingeprintGenerator64.GetFingerprintAsNumPy(FingeprintGenerator64, NoneType)\n",
      "did not match C++ signature:\n",
      "    GetFingerprintAsNumPy(RDKit::FingerprintGenerator<unsigned long> const* self, RDKit::ROMol mol, boost::python::api::object fromAtoms=[], boost::python::api::object ignoreAtoms=[], int confId=-1, boost::python::api::object customAtomInvariants=[], boost::python::api::object customBondInvariants=[], boost::python::api::object additionalOutput=None)\n"
     ]
    },
    {
     "name": "stderr",
     "output_type": "stream",
     "text": [
      "[23:23:01] WARNING: not removing hydrogen atom without neighbors\n",
      "[23:23:03] WARNING: not removing hydrogen atom without neighbors\n",
      "[23:23:04] WARNING: not removing hydrogen atom without neighbors\n",
      "[23:23:05] WARNING: not removing hydrogen atom without neighbors\n",
      " 18%|██████████████████████                                                                                                   | 644/3538 [01:25<22:24,  2.15it/s][23:23:06] WARNING: not removing hydrogen atom without neighbors\n",
      "[23:23:06] WARNING: not removing hydrogen atom without neighbors\n",
      "[23:23:06] WARNING: not removing hydrogen atom without neighbors\n",
      "[23:23:06] WARNING: not removing hydrogen atom without neighbors\n",
      "[23:23:06] WARNING: not removing hydrogen atom without neighbors\n",
      "[23:23:06] WARNING: not removing hydrogen atom without neighbors\n",
      " 18%|██████████████████████▏                                                                                                  | 650/3538 [01:25<15:49,  3.04it/s][23:23:06] WARNING: not removing hydrogen atom without neighbors\n",
      "[23:23:06] WARNING: not removing hydrogen atom without neighbors\n",
      "[23:23:06] WARNING: not removing hydrogen atom without neighbors\n",
      "[23:23:06] WARNING: not removing hydrogen atom without neighbors\n",
      " 18%|██████████████████████▎                                                                                                  | 654/3538 [01:25<12:36,  3.81it/s][23:23:06] WARNING: not removing hydrogen atom without neighbors\n",
      "[23:23:06] WARNING: not removing hydrogen atom without neighbors\n",
      "[23:23:06] WARNING: not removing hydrogen atom without neighbors\n",
      "[23:23:06] WARNING: not removing hydrogen atom without neighbors\n",
      "[23:23:06] WARNING: not removing hydrogen atom without neighbors\n",
      " 19%|██████████████████████▌                                                                                                  | 661/3538 [01:25<08:20,  5.75it/s][23:23:06] WARNING: not removing hydrogen atom without neighbors\n",
      "[23:23:06] WARNING: not removing hydrogen atom without neighbors\n",
      "[23:23:06] WARNING: not removing hydrogen atom without neighbors\n",
      "[23:23:06] WARNING: not removing hydrogen atom without neighbors\n",
      " 19%|██████████████████████▊                                                                                                  | 667/3538 [01:25<06:01,  7.94it/s]"
     ]
    },
    {
     "name": "stdout",
     "output_type": "stream",
     "text": [
      "need at least one array to concatenate\n",
      "need at least one array to concatenate\n",
      "need at least one array to concatenate\n"
     ]
    },
    {
     "name": "stderr",
     "output_type": "stream",
     "text": [
      "[23:23:06] SMILES Parse Error: syntax error while parsing: C(OP([O-])(=O)OP([O-])(=O)OC[C@H]8(O[C@H]%10(NC%11(/N=C(N)\\NC(=O)C(/N[C@@H](C9(\\S[Mo]4([a\n",
      "[23:23:06] SMILES Parse Error: Failed parsing SMILES 'C(OP([O-])(=O)OP([O-])(=O)OC[C@H]8(O[C@H]%10(NC%11(/N=C(N)\\NC(=O)C(/N[C@@H](C9(\\S[Mo]4([a' for input: 'C(OP([O-])(=O)OP([O-])(=O)OC[C@H]8(O[C@H]%10(NC%11(/N=C(N)\\NC(=O)C(/N[C@@H](C9(\\S[Mo]4([a'\n"
     ]
    },
    {
     "name": "stdout",
     "output_type": "stream",
     "text": [
      "Python argument types in\n",
      "    FingeprintGenerator64.GetFingerprintAsNumPy(FingeprintGenerator64, NoneType)\n",
      "did not match C++ signature:\n",
      "    GetFingerprintAsNumPy(RDKit::FingerprintGenerator<unsigned long> const* self, RDKit::ROMol mol, boost::python::api::object fromAtoms=[], boost::python::api::object ignoreAtoms=[], int confId=-1, boost::python::api::object customAtomInvariants=[], boost::python::api::object customBondInvariants=[], boost::python::api::object additionalOutput=None)\n"
     ]
    },
    {
     "name": "stderr",
     "output_type": "stream",
     "text": [
      "[23:23:11] WARNING: not removing hydrogen atom without neighbors\n",
      "[23:23:12] WARNING: not removing hydrogen atom without neighbors\n",
      " 19%|██████████████████████▉                                                                                                  | 672/3538 [01:34<27:53,  1.71it/s][23:23:16] WARNING: not removing hydrogen atom without neighbors\n",
      "[23:23:17] WARNING: not removing hydrogen atom without neighbors\n",
      "[23:23:17] Conflicting single bond directions around double bond at index 12.\n",
      "[23:23:17]   BondStereo set to STEREONONE and single bond directions set to NONE.\n",
      "[23:23:17] Conflicting single bond directions around double bond at index 17.\n",
      "[23:23:17]   BondStereo set to STEREONONE and single bond directions set to NONE.\n",
      "[23:23:17] WARNING: not removing hydrogen atom without neighbors\n",
      "[23:23:17] WARNING: not removing hydrogen atom without neighbors\n",
      " 19%|███████████████████████                                                                                                  | 676/3538 [01:36<25:38,  1.86it/s][23:23:17] WARNING: not removing hydrogen atom without neighbors\n",
      "[23:23:17] WARNING: not removing hydrogen atom without neighbors\n",
      "[23:23:17] WARNING: not removing hydrogen atom without neighbors\n",
      " 19%|███████████████████████▎                                                                                                 | 682/3538 [01:36<17:20,  2.75it/s][23:23:17] WARNING: not removing hydrogen atom without neighbors\n",
      "[23:23:17] WARNING: not removing hydrogen atom without neighbors\n",
      "[23:23:17] WARNING: not removing hydrogen atom without neighbors\n",
      "[23:23:17] WARNING: not removing hydrogen atom without neighbors\n",
      " 19%|███████████████████████▍                                                                                                 | 686/3538 [01:36<13:33,  3.51it/s][23:23:17] WARNING: not removing hydrogen atom without neighbors\n",
      "[23:23:17] WARNING: not removing hydrogen atom without neighbors\n",
      "[23:23:17] SMILES Parse Error: syntax error while parsing: CC(C)=CCCC(\\C)=C/CCC(\\C)=C/CCC(/C)=C/CCC(/C)=C/CCC(/C)=C/CCC(/C)=C/CCC(/C)=C/CCC(/C)=C/CCC(/C)=C/CCC(/C)=C/COP(OP(O[C@H]1([C@@H]([C@H]([C@@H]([C@H](O1)C)O)O[C@H]%10(O[C@H](CO)[C@@H](O)[C@H](O[C@H]9(O[C@H](CO)[C@@H](O)[C@H](O[C@@H]2([C@H]([C@H]([C@@H]([C@H](O2)C)NC=O)O)O[C@@H]3([C@H]([C@H]([C@@H]([C@H](O3)C)NC=O)O)O[C@@H]4([C@H]([C@H]([C@@H]([C@H](O4)C)NC=O)O)O[C@@H]5([C@H]([C@H]([C@@H]([C@H](O5)C)NC=O)O)O[C@@H]6([C@H]([C@H]([C@@H]([C@H](O6)C)NC=O)O)O[C@@H]7([C@H]([C@H]([C@@H]([C@H](O7)C)NC=O)O)O[C@@H]8([C@H]([C@H]([C@@H]([C@H](O8)C)NC=O)O)O[R]))))))))[C@H](O)9))[C@H](O)%10))NC(C)=O))([O-])=O)([O-])=O\n",
      "[23:23:17] SMILES Parse Error: Failed parsing SMILES 'CC(C)=CCCC(\\C)=C/CCC(\\C)=C/CCC(/C)=C/CCC(/C)=C/CCC(/C)=C/CCC(/C)=C/CCC(/C)=C/CCC(/C)=C/CCC(/C)=C/CCC(/C)=C/COP(OP(O[C@H]1([C@@H]([C@H]([C@@H]([C@H](O1)C)O)O[C@H]%10(O[C@H](CO)[C@@H](O)[C@H](O[C@H]9(O[C@H](CO)[C@@H](O)[C@H](O[C@@H]2([C@H]([C@H]([C@@H]([C@H](O2)C)NC=O)O)O[C@@H]3([C@H]([C@H]([C@@H]([C@H](O3)C)NC=O)O)O[C@@H]4([C@H]([C@H]([C@@H]([C@H](O4)C)NC=O)O)O[C@@H]5([C@H]([C@H]([C@@H]([C@H](O5)C)NC=O)O)O[C@@H]6([C@H]([C@H]([C@@H]([C@H](O6)C)NC=O)O)O[C@@H]7([C@H]([C@H]([C@@H]([C@H](O7)C)NC=O)O)O[C@@H]8([C@H]([C@H]([C@@H]([C@H](O8)C)NC=O)O)O[R]))))))))[C@H](O)9))[C@H](O)%10))NC(C)=O))([O-])=O)([O-])=O' for input: 'CC(C)=CCCC(\\C)=C/CCC(\\C)=C/CCC(/C)=C/CCC(/C)=C/CCC(/C)=C/CCC(/C)=C/CCC(/C)=C/CCC(/C)=C/CCC(/C)=C/CCC(/C)=C/COP(OP(O[C@H]1([C@@H]([C@H]([C@@H]([C@H](O1)C)O)O[C@H]%10(O[C@H](CO)[C@@H](O)[C@H](O[C@H]9(O[C@H](CO)[C@@H](O)[C@H](O[C@@H]2([C@H]([C@H]([C@@H]([C@H](O2)C)NC=O)O)O[C@@H]3([C@H]([C@H]([C@@H]([C@H](O3)C)NC=O)O)O[C@@H]4([C@H]([C@H]([C@@H]([C@H](O4)C)NC=O)O)O[C@@H]5([C@H]([C@H]([C@@H]([C@H](O5)C)NC=O)O)O[C@@H]6([C@H]([C@H]([C@@H]([C@H](O6)C)NC=O)O)O[C@@H]7([C@H]([C@H]([C@@H]([C@H](O7)C)NC=O)O)O[C@@H]8([C@H]([C@H]([C@@H]([C@H](O8)C)NC=O)O)O[R]))))))))[C@H](O)9))[C@H](O)%10))NC(C)=O))([O-])=O)([O-])=O'\n",
      "[23:23:17] SMILES Parse Error: syntax error while parsing: CCCCCCCCCCCCCCCC(O[C@H](CCCCCCCCCCCCC)CC(=O)N[C@@H]%20([C@H]([C@H](OC[C@H]1(O[C@H](OP([O-])([O-])=O)[C@H](NC(=O)C[C@H](OC(CCCCCCCCCCCCCCC)=O)CCCCCCCCC)[C@@H](NC(=O)C[C@H](O)CCCCCCCCCCCCC)[C@H](O)1))O[C@H](CO[C@@]%19(C(=O)[O-])(O[C@H]([C@H](O)CO)[C@H](O[C@@H]6(O[C@H](CO)[C@@H](O)[C@H](O[C@@H]4(O[C@@H]([C@@H](O[C@@H]2(O[C@@H]([C@@H](O)[C@H](O)[C@@H]([NH3+])2)CO[C@@H]3(O[C@@H]([C@@H](O)[C@H](O)[C@@H]([NH3+])3)CO)))[C@H](O)[C@@H]([NH3+])4)CO[C@@H]5(O[C@@H]([C@@H](O)[C@H](O)[C@@H]([NH3+])5)CO)))[C@@H]6O))[C@H](O[C@]%18(O[C@H]([C@@H](CO)O)[C@H](O)[C@H](O[C@@H]%17(O[C@@H]([C@@H](O[C@H]7([C@@H]([C@H]([C@@H]([C@H](O7)C)O)O[C@H]%16(O[C@H](CO)[C@@H](O)[C@H](O[C@H]%15(O[C@H](CO)[C@@H](O)[C@H](O[C@@H]8([C@H]([C@H]([C@@H]([C@H](O8)C)NC=O)O)O[C@@H]9([C@H]([C@H]([C@@H]([C@H](O9)C)NC=O)O)O[C@@H]%10([C@H]([C@H]([C@@H]([C@H](O%10)C)NC=O)O)O[C@@H]%11([C@H]([C@H]([C@@H]([C@H](O%11)C)NC=O)O)O[C@@H]%12([C@H]([C@H]([C@@H]([C@H](O%12)C)NC=O)O)O[C@@H]%13([C@H]([C@H]([C@@H]([C@H](O%13)C)NC=O)O)O[C@@H]%14([C@H]([C@H]([C@@H]([C@H](O%14)C)NC=O)O)O[R]))))))))[C@H](O)%15))[C@H](O)%16))NC(C)=O))[C@H](O)[C@@H](O)%17)CO))C%18)C(=O)[O-])C%19))[C@H]%20OP([O-])([O-])=O)NC(C[C@H](OC(CCCCCCCCCCCCCCC)=O)CCCCCCCCC)=O))=O\n",
      "[23:23:17] SMILES Parse Error: Failed parsing SMILES 'CCCCCCCCCCCCCCCC(O[C@H](CCCCCCCCCCCCC)CC(=O)N[C@@H]%20([C@H]([C@H](OC[C@H]1(O[C@H](OP([O-])([O-])=O)[C@H](NC(=O)C[C@H](OC(CCCCCCCCCCCCCCC)=O)CCCCCCCCC)[C@@H](NC(=O)C[C@H](O)CCCCCCCCCCCCC)[C@H](O)1))O[C@H](CO[C@@]%19(C(=O)[O-])(O[C@H]([C@H](O)CO)[C@H](O[C@@H]6(O[C@H](CO)[C@@H](O)[C@H](O[C@@H]4(O[C@@H]([C@@H](O[C@@H]2(O[C@@H]([C@@H](O)[C@H](O)[C@@H]([NH3+])2)CO[C@@H]3(O[C@@H]([C@@H](O)[C@H](O)[C@@H]([NH3+])3)CO)))[C@H](O)[C@@H]([NH3+])4)CO[C@@H]5(O[C@@H]([C@@H](O)[C@H](O)[C@@H]([NH3+])5)CO)))[C@@H]6O))[C@H](O[C@]%18(O[C@H]([C@@H](CO)O)[C@H](O)[C@H](O[C@@H]%17(O[C@@H]([C@@H](O[C@H]7([C@@H]([C@H]([C@@H]([C@H](O7)C)O)O[C@H]%16(O[C@H](CO)[C@@H](O)[C@H](O[C@H]%15(O[C@H](CO)[C@@H](O)[C@H](O[C@@H]8([C@H]([C@H]([C@@H]([C@H](O8)C)NC=O)O)O[C@@H]9([C@H]([C@H]([C@@H]([C@H](O9)C)NC=O)O)O[C@@H]%10([C@H]([C@H]([C@@H]([C@H](O%10)C)NC=O)O)O[C@@H]%11([C@H]([C@H]([C@@H]([C@H](O%11)C)NC=O)O)O[C@@H]%12([C@H]([C@H]([C@@H]([C@H](O%12)C)NC=O)O)O[C@@H]%13([C@H]([C@H]([C@@H]([C@H](O%13)C)NC=O)O)O[C@@H]%14([C@H]([C@H]([C@@H]([C@H](O%14)C)NC=O)O)O[R]))))))))[C@H](O)%15))[C@H](O)%16))NC(C)=O))[C@H](O)[C@@H](O)%17)CO))C%18)C(=O)[O-])C%19))[C@H]%20OP([O-])([O-])=O)NC(C[C@H](OC(CCCCCCCCCCCCCCC)=O)CCCCCCCCC)=O))=O' for input: 'CCCCCCCCCCCCCCCC(O[C@H](CCCCCCCCCCCCC)CC(=O)N[C@@H]%20([C@H]([C@H](OC[C@H]1(O[C@H](OP([O-])([O-])=O)[C@H](NC(=O)C[C@H](OC(CCCCCCCCCCCCCCC)=O)CCCCCCCCC)[C@@H](NC(=O)C[C@H](O)CCCCCCCCCCCCC)[C@H](O)1))O[C@H](CO[C@@]%19(C(=O)[O-])(O[C@H]([C@H](O)CO)[C@H](O[C@@H]6(O[C@H](CO)[C@@H](O)[C@H](O[C@@H]4(O[C@@H]([C@@H](O[C@@H]2(O[C@@H]([C@@H](O)[C@H](O)[C@@H]([NH3+])2)CO[C@@H]3(O[C@@H]([C@@H](O)[C@H](O)[C@@H]([NH3+])3)CO)))[C@H](O)[C@@H]([NH3+])4)CO[C@@H]5(O[C@@H]([C@@H](O)[C@H](O)[C@@H]([NH3+])5)CO)))[C@@H]6O))[C@H](O[C@]%18(O[C@H]([C@@H](CO)O)[C@H](O)[C@H](O[C@@H]%17(O[C@@H]([C@@H](O[C@H]7([C@@H]([C@H]([C@@H]([C@H](O7)C)O)O[C@H]%16(O[C@H](CO)[C@@H](O)[C@H](O[C@H]%15(O[C@H](CO)[C@@H](O)[C@H](O[C@@H]8([C@H]([C@H]([C@@H]([C@H](O8)C)NC=O)O)O[C@@H]9([C@H]([C@H]([C@@H]([C@H](O9)C)NC=O)O)O[C@@H]%10([C@H]([C@H]([C@@H]([C@H](O%10)C)NC=O)O)O[C@@H]%11([C@H]([C@H]([C@@H]([C@H](O%11)C)NC=O)O)O[C@@H]%12([C@H]([C@H]([C@@H]([C@H](O%12)C)NC=O)O)O[C@@H]%13([C@H]([C@H]([C@@H]([C@H](O%13)C)NC=O)O)O[C@@H]%14([C@H]([C@H]([C@@H]([C@H](O%14)C)NC=O)O)O[R]))))))))[C@H](O)%15))[C@H](O)%16))NC(C)=O))[C@H](O)[C@@H](O)%17)CO))C%18)C(=O)[O-])C%19))[C@H]%20OP([O-])([O-])=O)NC(C[C@H](OC(CCCCCCCCCCCCCCC)=O)CCCCCCCCC)=O))=O'\n"
     ]
    },
    {
     "name": "stdout",
     "output_type": "stream",
     "text": [
      "Python argument types in\n",
      "    FingeprintGenerator64.GetFingerprintAsNumPy(FingeprintGenerator64, NoneType)\n",
      "did not match C++ signature:\n",
      "    GetFingerprintAsNumPy(RDKit::FingerprintGenerator<unsigned long> const* self, RDKit::ROMol mol, boost::python::api::object fromAtoms=[], boost::python::api::object ignoreAtoms=[], int confId=-1, boost::python::api::object customAtomInvariants=[], boost::python::api::object customBondInvariants=[], boost::python::api::object additionalOutput=None)\n"
     ]
    },
    {
     "name": "stderr",
     "output_type": "stream",
     "text": [
      "[23:23:22] WARNING: not removing hydrogen atom without neighbors\n",
      "[23:23:22] SMILES Parse Error: syntax error while parsing: CC(C)=CCCC(\\C)=C/CCC(\\C)=C/CCC(/C)=C/CCC(/C)=C/CCC(/C)=C/CCC(/C)=C/CCC(/C)=C/CCC(/C)=C/CCC(/C)=C/CCC(/C)=C/COP(OP(O[C@H]1([C@@H]([C@H]([C@@H]([C@H](O1)C)O)O[C@H]%10(O[C@H](CO)[C@@H](O)[C@H](O[C@H]9(O[C@H](CO)[C@@H](O)[C@H](O[C@@H]2([C@H]([C@H]([C@@H]([C@H](O2)C)NC=O)O)O[C@@H]3([C@H]([C@H]([C@@H]([C@H](O3)C)NC=O)O)O[C@@H]4([C@H]([C@H]([C@@H]([C@H](O4)C)NC=O)O)O[C@@H]5([C@H]([C@H]([C@@H]([C@H](O5)C)NC=O)O)O[C@@H]6([C@H]([C@H]([C@@H]([C@H](O6)C)NC=O)O)O[C@@H]7([C@H]([C@H]([C@@H]([C@H](O7)C)NC=O)O)O[C@@H]8([C@H]([C@H]([C@@H]([C@H](O8)C)NC=O)O)O[R]))))))))[C@H](O)9))[C@H](O)%10))NC(C)=O))([O-])=O)([O-])=O\n",
      "[23:23:22] SMILES Parse Error: Failed parsing SMILES 'CC(C)=CCCC(\\C)=C/CCC(\\C)=C/CCC(/C)=C/CCC(/C)=C/CCC(/C)=C/CCC(/C)=C/CCC(/C)=C/CCC(/C)=C/CCC(/C)=C/CCC(/C)=C/COP(OP(O[C@H]1([C@@H]([C@H]([C@@H]([C@H](O1)C)O)O[C@H]%10(O[C@H](CO)[C@@H](O)[C@H](O[C@H]9(O[C@H](CO)[C@@H](O)[C@H](O[C@@H]2([C@H]([C@H]([C@@H]([C@H](O2)C)NC=O)O)O[C@@H]3([C@H]([C@H]([C@@H]([C@H](O3)C)NC=O)O)O[C@@H]4([C@H]([C@H]([C@@H]([C@H](O4)C)NC=O)O)O[C@@H]5([C@H]([C@H]([C@@H]([C@H](O5)C)NC=O)O)O[C@@H]6([C@H]([C@H]([C@@H]([C@H](O6)C)NC=O)O)O[C@@H]7([C@H]([C@H]([C@@H]([C@H](O7)C)NC=O)O)O[C@@H]8([C@H]([C@H]([C@@H]([C@H](O8)C)NC=O)O)O[R]))))))))[C@H](O)9))[C@H](O)%10))NC(C)=O))([O-])=O)([O-])=O' for input: 'CC(C)=CCCC(\\C)=C/CCC(\\C)=C/CCC(/C)=C/CCC(/C)=C/CCC(/C)=C/CCC(/C)=C/CCC(/C)=C/CCC(/C)=C/CCC(/C)=C/CCC(/C)=C/COP(OP(O[C@H]1([C@@H]([C@H]([C@@H]([C@H](O1)C)O)O[C@H]%10(O[C@H](CO)[C@@H](O)[C@H](O[C@H]9(O[C@H](CO)[C@@H](O)[C@H](O[C@@H]2([C@H]([C@H]([C@@H]([C@H](O2)C)NC=O)O)O[C@@H]3([C@H]([C@H]([C@@H]([C@H](O3)C)NC=O)O)O[C@@H]4([C@H]([C@H]([C@@H]([C@H](O4)C)NC=O)O)O[C@@H]5([C@H]([C@H]([C@@H]([C@H](O5)C)NC=O)O)O[C@@H]6([C@H]([C@H]([C@@H]([C@H](O6)C)NC=O)O)O[C@@H]7([C@H]([C@H]([C@@H]([C@H](O7)C)NC=O)O)O[C@@H]8([C@H]([C@H]([C@@H]([C@H](O8)C)NC=O)O)O[R]))))))))[C@H](O)9))[C@H](O)%10))NC(C)=O))([O-])=O)([O-])=O'\n"
     ]
    },
    {
     "name": "stdout",
     "output_type": "stream",
     "text": [
      "Python argument types in\n",
      "    FingeprintGenerator64.GetFingerprintAsNumPy(FingeprintGenerator64, NoneType)\n",
      "did not match C++ signature:\n",
      "    GetFingerprintAsNumPy(RDKit::FingerprintGenerator<unsigned long> const* self, RDKit::ROMol mol, boost::python::api::object fromAtoms=[], boost::python::api::object ignoreAtoms=[], int confId=-1, boost::python::api::object customAtomInvariants=[], boost::python::api::object customBondInvariants=[], boost::python::api::object additionalOutput=None)\n"
     ]
    },
    {
     "name": "stderr",
     "output_type": "stream",
     "text": [
      "[23:23:26] WARNING: not removing hydrogen atom without neighbors\n",
      " 20%|███████████████████████▌                                                                                                 | 690/3538 [01:45<37:05,  1.28it/s][23:23:29] WARNING: not removing hydrogen atom without neighbors\n",
      "[23:23:30] WARNING: not removing hydrogen atom without neighbors\n",
      " 20%|███████████████████████▋                                                                                                 | 693/3538 [01:48<40:20,  1.18it/s][23:23:30] WARNING: not removing hydrogen atom without neighbors\n",
      "[23:23:30] WARNING: not removing hydrogen atom without neighbors\n",
      "[23:23:30] WARNING: not removing hydrogen atom without neighbors\n",
      "[23:23:30] WARNING: not removing hydrogen atom without neighbors\n",
      "[23:23:30] WARNING: not removing hydrogen atom without neighbors\n",
      " 20%|███████████████████████▊                                                                                                 | 698/3538 [01:48<26:58,  1.75it/s][23:23:30] WARNING: not removing hydrogen atom without neighbors\n",
      "[23:23:30] WARNING: not removing hydrogen atom without neighbors\n",
      "[23:23:30] WARNING: not removing hydrogen atom without neighbors\n",
      "[23:23:30] WARNING: not removing hydrogen atom without neighbors\n",
      "[23:23:30] WARNING: not removing hydrogen atom without neighbors\n",
      "[23:23:30] WARNING: not removing hydrogen atom without neighbors\n",
      " 20%|████████████████████████                                                                                                 | 704/3538 [01:49<17:19,  2.73it/s][23:23:30] WARNING: not removing hydrogen atom without neighbors\n",
      "[23:23:30] WARNING: not removing hydrogen atom without neighbors\n",
      "[23:23:30] WARNING: not removing hydrogen atom without neighbors\n",
      " 20%|████████████████████████▎                                                                                                | 711/3538 [01:49<10:59,  4.29it/s][23:23:30] WARNING: not removing hydrogen atom without neighbors\n",
      "[23:23:30] WARNING: not removing hydrogen atom without neighbors\n",
      "[23:23:30] WARNING: not removing hydrogen atom without neighbors\n",
      "[23:23:30] WARNING: not removing hydrogen atom without neighbors\n",
      " 20%|████████████████████████▍                                                                                                | 716/3538 [01:49<08:14,  5.70it/s]"
     ]
    },
    {
     "name": "stdout",
     "output_type": "stream",
     "text": [
      "need at least one array to concatenate\n"
     ]
    },
    {
     "name": "stderr",
     "output_type": "stream",
     "text": [
      "[23:23:30] WARNING: not removing hydrogen atom without neighbors\n",
      "[23:23:30] WARNING: not removing hydrogen atom without neighbors\n",
      "[23:23:30] WARNING: not removing hydrogen atom without neighbors\n",
      " 20%|████████████████████████▋                                                                                                | 721/3538 [01:49<06:10,  7.61it/s][23:23:30] WARNING: not removing hydrogen atom without neighbors\n",
      "[23:23:30] WARNING: not removing hydrogen atom without neighbors\n",
      "[23:23:30] WARNING: not removing hydrogen atom without neighbors\n",
      "[23:23:30] WARNING: not removing hydrogen atom without neighbors\n",
      "[23:23:30] WARNING: not removing hydrogen atom without neighbors\n",
      " 21%|████████████████████████▊                                                                                                | 727/3538 [01:49<04:25, 10.57it/s][23:23:30] WARNING: not removing hydrogen atom without neighbors\n",
      "[23:23:30] WARNING: not removing hydrogen atom without neighbors\n",
      "[23:23:30] WARNING: not removing hydrogen atom without neighbors\n",
      "[23:23:30] WARNING: not removing hydrogen atom without neighbors\n",
      "[23:23:30] WARNING: not removing hydrogen atom without neighbors\n",
      " 21%|█████████████████████████                                                                                                | 734/3538 [01:49<03:07, 14.96it/s][23:23:30] WARNING: not removing hydrogen atom without neighbors\n",
      "[23:23:30] WARNING: not removing hydrogen atom without neighbors\n",
      "[23:23:30] WARNING: not removing hydrogen atom without neighbors\n",
      "[23:23:30] WARNING: not removing hydrogen atom without neighbors\n",
      "[23:23:30] WARNING: not removing hydrogen atom without neighbors\n",
      " 21%|█████████████████████████▎                                                                                               | 740/3538 [01:49<02:24, 19.30it/s][23:23:30] WARNING: not removing hydrogen atom without neighbors\n",
      "[23:23:30] WARNING: not removing hydrogen atom without neighbors\n",
      "[23:23:30] WARNING: not removing hydrogen atom without neighbors\n",
      "[23:23:31] WARNING: not removing hydrogen atom without neighbors\n",
      "[23:23:31] Conflicting single bond directions around double bond at index 12.\n",
      "[23:23:31]   BondStereo set to STEREONONE and single bond directions set to NONE.\n",
      "[23:23:31] Conflicting single bond directions around double bond at index 17.\n",
      "[23:23:31]   BondStereo set to STEREONONE and single bond directions set to NONE.\n",
      " 21%|█████████████████████████▌                                                                                               | 746/3538 [01:49<01:59, 23.32it/s]"
     ]
    },
    {
     "name": "stdout",
     "output_type": "stream",
     "text": [
      "need at least one array to concatenate\n",
      "need at least one array to concatenate\n"
     ]
    },
    {
     "name": "stderr",
     "output_type": "stream",
     "text": [
      "[23:23:31] WARNING: not removing hydrogen atom without neighbors\n",
      "[23:23:31] WARNING: not removing hydrogen atom without neighbors\n",
      "[23:23:31] WARNING: not removing hydrogen atom without neighbors\n",
      "[23:23:31] WARNING: not removing hydrogen atom without neighbors\n",
      "[23:23:31] WARNING: not removing hydrogen atom without neighbors\n",
      " 21%|█████████████████████████▊                                                                                               | 755/3538 [01:49<01:27, 31.69it/s][23:23:31] WARNING: not removing hydrogen atom without neighbors\n",
      "[23:23:31] WARNING: not removing hydrogen atom without neighbors\n",
      "[23:23:31] WARNING: not removing hydrogen atom without neighbors\n",
      "[23:23:31] WARNING: not removing hydrogen atom without neighbors\n",
      "[23:23:31] WARNING: not removing hydrogen atom without neighbors\n",
      "[23:23:31] WARNING: not removing hydrogen atom without neighbors\n",
      "[23:23:31] WARNING: not removing hydrogen atom without neighbors\n",
      " 22%|██████████████████████████                                                                                               | 762/3538 [01:50<01:14, 37.25it/s]"
     ]
    },
    {
     "name": "stdout",
     "output_type": "stream",
     "text": [
      "need at least one array to concatenate\n",
      "need at least one array to concatenate\n"
     ]
    },
    {
     "name": "stderr",
     "output_type": "stream",
     "text": [
      "[23:23:31] WARNING: not removing hydrogen atom without neighbors\n",
      "[23:23:31] WARNING: not removing hydrogen atom without neighbors\n",
      "[23:23:31] WARNING: not removing hydrogen atom without neighbors\n",
      "[23:23:31] WARNING: not removing hydrogen atom without neighbors\n",
      "[23:23:31] WARNING: not removing hydrogen atom without neighbors\n",
      "[23:23:31] WARNING: not removing hydrogen atom without neighbors\n",
      "[23:23:31] WARNING: not removing hydrogen atom without neighbors\n",
      " 22%|██████████████████████████▎                                                                                              | 769/3538 [01:50<01:05, 42.58it/s][23:23:31] WARNING: not removing hydrogen atom without neighbors\n",
      "[23:23:31] WARNING: not removing hydrogen atom without neighbors\n",
      "[23:23:31] WARNING: not removing hydrogen atom without neighbors\n",
      " 22%|██████████████████████████▌                                                                                              | 776/3538 [01:50<00:59, 46.32it/s][23:23:31] WARNING: not removing hydrogen atom without neighbors\n",
      "[23:23:31] WARNING: not removing hydrogen atom without neighbors\n",
      "[23:23:31] WARNING: not removing hydrogen atom without neighbors\n",
      "[23:23:31] WARNING: not removing hydrogen atom without neighbors\n",
      "[23:23:31] WARNING: not removing hydrogen atom without neighbors\n",
      "[23:23:31] WARNING: not removing hydrogen atom without neighbors\n",
      " 22%|██████████████████████████▋                                                                                              | 782/3538 [01:50<01:02, 43.90it/s][23:23:31] WARNING: not removing hydrogen atom without neighbors\n",
      "[23:23:31] WARNING: not removing hydrogen atom without neighbors\n",
      "[23:23:31] WARNING: not removing hydrogen atom without neighbors\n",
      "[23:23:31] WARNING: not removing hydrogen atom without neighbors\n",
      "[23:23:31] WARNING: not removing hydrogen atom without neighbors\n",
      " 22%|██████████████████████████▉                                                                                              | 788/3538 [01:50<01:03, 43.31it/s][23:23:31] WARNING: not removing hydrogen atom without neighbors\n",
      "[23:23:31] WARNING: not removing hydrogen atom without neighbors\n",
      "[23:23:31] WARNING: not removing hydrogen atom without neighbors\n",
      "[23:23:31] WARNING: not removing hydrogen atom without neighbors\n",
      "[23:23:31] SMILES Parse Error: syntax error while parsing: CC(C)(COP(=O)([O-])OC[C@H](N[a\n",
      "[23:23:31] SMILES Parse Error: Failed parsing SMILES 'CC(C)(COP(=O)([O-])OC[C@H](N[a' for input: 'CC(C)(COP(=O)([O-])OC[C@H](N[a'\n"
     ]
    },
    {
     "name": "stdout",
     "output_type": "stream",
     "text": [
      "need at least one array to concatenate\n"
     ]
    },
    {
     "name": "stderr",
     "output_type": "stream",
     "text": [
      " 22%|███████████████████████████▏                                                                                             | 794/3538 [01:52<05:12,  8.78it/s]"
     ]
    },
    {
     "name": "stdout",
     "output_type": "stream",
     "text": [
      "Python argument types in\n",
      "    FingeprintGenerator64.GetFingerprintAsNumPy(FingeprintGenerator64, NoneType)\n",
      "did not match C++ signature:\n",
      "    GetFingerprintAsNumPy(RDKit::FingerprintGenerator<unsigned long> const* self, RDKit::ROMol mol, boost::python::api::object fromAtoms=[], boost::python::api::object ignoreAtoms=[], int confId=-1, boost::python::api::object customAtomInvariants=[], boost::python::api::object customBondInvariants=[], boost::python::api::object additionalOutput=None)\n"
     ]
    },
    {
     "name": "stderr",
     "output_type": "stream",
     "text": [
      "[23:23:36] WARNING: not removing hydrogen atom without neighbors\n",
      "[23:23:38] WARNING: not removing hydrogen atom without neighbors\n",
      "[23:23:39] Conflicting single bond directions around double bond at index 12.\n",
      "[23:23:39]   BondStereo set to STEREONONE and single bond directions set to NONE.\n",
      "[23:23:39] Conflicting single bond directions around double bond at index 17.\n",
      "[23:23:39]   BondStereo set to STEREONONE and single bond directions set to NONE.\n",
      "[23:23:39] Conflicting single bond directions around double bond at index 12.\n",
      "[23:23:39]   BondStereo set to STEREONONE and single bond directions set to NONE.\n",
      "[23:23:39] Conflicting single bond directions around double bond at index 17.\n",
      "[23:23:39]   BondStereo set to STEREONONE and single bond directions set to NONE.\n",
      "[23:23:39] Conflicting single bond directions around double bond at index 12.\n",
      "[23:23:39]   BondStereo set to STEREONONE and single bond directions set to NONE.\n",
      "[23:23:39] Conflicting single bond directions around double bond at index 17.\n",
      "[23:23:39]   BondStereo set to STEREONONE and single bond directions set to NONE.\n",
      "[23:23:41] WARNING: not removing hydrogen atom without neighbors\n",
      " 23%|███████████████████████████▎                                                                                             | 798/3538 [02:00<22:16,  2.05it/s][23:23:42] WARNING: not removing hydrogen atom without neighbors\n",
      "[23:23:42] WARNING: not removing hydrogen atom without neighbors\n",
      " 23%|███████████████████████████▍                                                                                             | 801/3538 [02:01<22:26,  2.03it/s][23:23:42] Explicit valence for atom # 38 C, 5, is greater than permitted\n",
      "[23:23:42] WARNING: not removing hydrogen atom without neighbors\n"
     ]
    },
    {
     "name": "stdout",
     "output_type": "stream",
     "text": [
      "Python argument types in\n",
      "    FingeprintGenerator64.GetFingerprintAsNumPy(FingeprintGenerator64, NoneType)\n",
      "did not match C++ signature:\n",
      "    GetFingerprintAsNumPy(RDKit::FingerprintGenerator<unsigned long> const* self, RDKit::ROMol mol, boost::python::api::object fromAtoms=[], boost::python::api::object ignoreAtoms=[], int confId=-1, boost::python::api::object customAtomInvariants=[], boost::python::api::object customBondInvariants=[], boost::python::api::object additionalOutput=None)\n"
     ]
    },
    {
     "name": "stderr",
     "output_type": "stream",
     "text": [
      "[23:23:47] Explicit valence for atom # 38 C, 5, is greater than permitted\n",
      "[23:23:47] WARNING: not removing hydrogen atom without neighbors\n",
      "[23:23:47] Explicit valence for atom # 9 C, 5, is greater than permitted\n",
      " 23%|███████████████████████████▍                                                                                             | 803/3538 [02:07<38:36,  1.18it/s]"
     ]
    },
    {
     "name": "stdout",
     "output_type": "stream",
     "text": [
      "Python argument types in\n",
      "    FingeprintGenerator64.GetFingerprintAsNumPy(FingeprintGenerator64, NoneType)\n",
      "did not match C++ signature:\n",
      "    GetFingerprintAsNumPy(RDKit::FingerprintGenerator<unsigned long> const* self, RDKit::ROMol mol, boost::python::api::object fromAtoms=[], boost::python::api::object ignoreAtoms=[], int confId=-1, boost::python::api::object customAtomInvariants=[], boost::python::api::object customBondInvariants=[], boost::python::api::object additionalOutput=None)\n"
     ]
    },
    {
     "name": "stderr",
     "output_type": "stream",
     "text": [
      "[23:23:51] WARNING: not removing hydrogen atom without neighbors\n",
      "[23:23:51] Explicit valence for atom # 38 C, 5, is greater than permitted\n"
     ]
    },
    {
     "name": "stdout",
     "output_type": "stream",
     "text": [
      "Python argument types in\n",
      "    FingeprintGenerator64.GetFingerprintAsNumPy(FingeprintGenerator64, NoneType)\n",
      "did not match C++ signature:\n",
      "    GetFingerprintAsNumPy(RDKit::FingerprintGenerator<unsigned long> const* self, RDKit::ROMol mol, boost::python::api::object fromAtoms=[], boost::python::api::object ignoreAtoms=[], int confId=-1, boost::python::api::object customAtomInvariants=[], boost::python::api::object customBondInvariants=[], boost::python::api::object additionalOutput=None)\n"
     ]
    },
    {
     "name": "stderr",
     "output_type": "stream",
     "text": [
      "[23:23:54] Explicit valence for atom # 38 C, 5, is greater than permitted\n",
      "[23:23:54] Conflicting single bond directions around double bond at index 24.\n",
      "[23:23:54]   BondStereo set to STEREONONE and single bond directions set to NONE.\n",
      "[23:23:55] WARNING: not removing hydrogen atom without neighbors\n",
      " 23%|███████████████████████████                                                                                            | 805/3538 [02:14<1:02:21,  1.37s/it]"
     ]
    },
    {
     "name": "stdout",
     "output_type": "stream",
     "text": [
      "Python argument types in\n",
      "    FingeprintGenerator64.GetFingerprintAsNumPy(FingeprintGenerator64, NoneType)\n",
      "did not match C++ signature:\n",
      "    GetFingerprintAsNumPy(RDKit::FingerprintGenerator<unsigned long> const* self, RDKit::ROMol mol, boost::python::api::object fromAtoms=[], boost::python::api::object ignoreAtoms=[], int confId=-1, boost::python::api::object customAtomInvariants=[], boost::python::api::object customBondInvariants=[], boost::python::api::object additionalOutput=None)\n"
     ]
    },
    {
     "name": "stderr",
     "output_type": "stream",
     "text": [
      "[23:23:58] Explicit valence for atom # 38 C, 5, is greater than permitted\n",
      "[23:23:58] WARNING: not removing hydrogen atom without neighbors\n",
      "[23:23:58] Conflicting single bond directions around double bond at index 24.\n",
      "[23:23:58]   BondStereo set to STEREONONE and single bond directions set to NONE.\n",
      " 23%|███████████████████████████                                                                                            | 806/3538 [02:18<1:15:02,  1.65s/it]"
     ]
    },
    {
     "name": "stdout",
     "output_type": "stream",
     "text": [
      "Python argument types in\n",
      "    FingeprintGenerator64.GetFingerprintAsNumPy(FingeprintGenerator64, NoneType)\n",
      "did not match C++ signature:\n",
      "    GetFingerprintAsNumPy(RDKit::FingerprintGenerator<unsigned long> const* self, RDKit::ROMol mol, boost::python::api::object fromAtoms=[], boost::python::api::object ignoreAtoms=[], int confId=-1, boost::python::api::object customAtomInvariants=[], boost::python::api::object customBondInvariants=[], boost::python::api::object additionalOutput=None)\n"
     ]
    },
    {
     "name": "stderr",
     "output_type": "stream",
     "text": [
      "[23:24:02] Explicit valence for atom # 38 C, 5, is greater than permitted\n",
      "[23:24:02] WARNING: not removing hydrogen atom without neighbors\n",
      " 23%|███████████████████████████▏                                                                                           | 807/3538 [02:22<1:28:25,  1.94s/it]"
     ]
    },
    {
     "name": "stdout",
     "output_type": "stream",
     "text": [
      "Python argument types in\n",
      "    FingeprintGenerator64.GetFingerprintAsNumPy(FingeprintGenerator64, NoneType)\n",
      "did not match C++ signature:\n",
      "    GetFingerprintAsNumPy(RDKit::FingerprintGenerator<unsigned long> const* self, RDKit::ROMol mol, boost::python::api::object fromAtoms=[], boost::python::api::object ignoreAtoms=[], int confId=-1, boost::python::api::object customAtomInvariants=[], boost::python::api::object customBondInvariants=[], boost::python::api::object additionalOutput=None)\n"
     ]
    },
    {
     "name": "stderr",
     "output_type": "stream",
     "text": [
      "[23:24:06] Explicit valence for atom # 38 C, 5, is greater than permitted\n",
      "[23:24:06] WARNING: not removing hydrogen atom without neighbors\n",
      " 23%|███████████████████████████▏                                                                                           | 808/3538 [02:26<1:41:33,  2.23s/it]"
     ]
    },
    {
     "name": "stdout",
     "output_type": "stream",
     "text": [
      "Python argument types in\n",
      "    FingeprintGenerator64.GetFingerprintAsNumPy(FingeprintGenerator64, NoneType)\n",
      "did not match C++ signature:\n",
      "    GetFingerprintAsNumPy(RDKit::FingerprintGenerator<unsigned long> const* self, RDKit::ROMol mol, boost::python::api::object fromAtoms=[], boost::python::api::object ignoreAtoms=[], int confId=-1, boost::python::api::object customAtomInvariants=[], boost::python::api::object customBondInvariants=[], boost::python::api::object additionalOutput=None)\n"
     ]
    },
    {
     "name": "stderr",
     "output_type": "stream",
     "text": [
      "[23:24:09] WARNING: not removing hydrogen atom without neighbors\n",
      " 23%|███████████████████████████▏                                                                                           | 809/3538 [02:28<1:44:15,  2.29s/it][23:24:11] Explicit valence for atom # 38 C, 5, is greater than permitted\n",
      "[23:24:11] WARNING: not removing hydrogen atom without neighbors\n",
      " 23%|███████████████████████████▏                                                                                           | 810/3538 [02:31<1:48:57,  2.40s/it]"
     ]
    },
    {
     "name": "stdout",
     "output_type": "stream",
     "text": [
      "Python argument types in\n",
      "    FingeprintGenerator64.GetFingerprintAsNumPy(FingeprintGenerator64, NoneType)\n",
      "did not match C++ signature:\n",
      "    GetFingerprintAsNumPy(RDKit::FingerprintGenerator<unsigned long> const* self, RDKit::ROMol mol, boost::python::api::object fromAtoms=[], boost::python::api::object ignoreAtoms=[], int confId=-1, boost::python::api::object customAtomInvariants=[], boost::python::api::object customBondInvariants=[], boost::python::api::object additionalOutput=None)\n"
     ]
    },
    {
     "name": "stderr",
     "output_type": "stream",
     "text": [
      "[23:24:15] WARNING: not removing hydrogen atom without neighbors\n",
      " 23%|███████████████████████████▎                                                                                           | 811/3538 [02:34<1:54:21,  2.52s/it][23:24:17] WARNING: not removing hydrogen atom without neighbors\n",
      " 23%|███████████████████████████▎                                                                                           | 812/3538 [02:35<1:40:29,  2.21s/it][23:24:18] WARNING: not removing hydrogen atom without neighbors\n",
      " 23%|███████████████████████████▎                                                                                           | 813/3538 [02:37<1:32:57,  2.05s/it][23:24:18] WARNING: not removing hydrogen atom without neighbors\n",
      " 23%|███████████████████████████▍                                                                                           | 814/3538 [02:38<1:27:03,  1.92s/it][23:24:20] WARNING: not removing hydrogen atom without neighbors\n",
      "[23:24:20] WARNING: not removing hydrogen atom without neighbors\n",
      "[23:24:20] WARNING: not removing hydrogen atom without neighbors\n",
      " 23%|███████████████████████████▉                                                                                             | 818/3538 [02:39<34:36,  1.31it/s][23:24:20] WARNING: not removing hydrogen atom without neighbors\n",
      "[23:24:20] WARNING: not removing hydrogen atom without neighbors\n",
      "[23:24:20] WARNING: not removing hydrogen atom without neighbors\n",
      " 23%|████████████████████████████▏                                                                                            | 823/3538 [02:39<17:11,  2.63it/s]"
     ]
    },
    {
     "name": "stdout",
     "output_type": "stream",
     "text": [
      "need at least one array to concatenate\n",
      "need at least one array to concatenate\n",
      "need at least one array to concatenate\n"
     ]
    },
    {
     "name": "stderr",
     "output_type": "stream",
     "text": [
      "[23:24:20] WARNING: not removing hydrogen atom without neighbors\n",
      "[23:24:20] WARNING: not removing hydrogen atom without neighbors\n",
      "[23:24:20] WARNING: not removing hydrogen atom without neighbors\n",
      "[23:24:20] WARNING: not removing hydrogen atom without neighbors\n",
      "[23:24:20] WARNING: not removing hydrogen atom without neighbors\n",
      " 23%|████████████████████████████▎                                                                                            | 829/3538 [02:39<09:26,  4.78it/s][23:24:20] WARNING: not removing hydrogen atom without neighbors\n",
      "[23:24:20] WARNING: not removing hydrogen atom without neighbors\n",
      "[23:24:20] WARNING: not removing hydrogen atom without neighbors\n",
      "[23:24:20] WARNING: not removing hydrogen atom without neighbors\n",
      " 24%|████████████████████████████▌                                                                                            | 836/3538 [02:39<05:33,  8.09it/s][23:24:20] WARNING: not removing hydrogen atom without neighbors\n",
      "[23:24:20] WARNING: not removing hydrogen atom without neighbors\n",
      "[23:24:20] WARNING: not removing hydrogen atom without neighbors\n",
      "[23:24:20] WARNING: not removing hydrogen atom without neighbors\n"
     ]
    },
    {
     "name": "stdout",
     "output_type": "stream",
     "text": [
      "need at least one array to concatenate\n",
      "need at least one array to concatenate\n",
      "need at least one array to concatenate\n",
      "need at least one array to concatenate\n"
     ]
    },
    {
     "name": "stderr",
     "output_type": "stream",
     "text": [
      " 24%|████████████████████████████▉                                                                                            | 845/3538 [02:39<03:19, 13.52it/s][23:24:20] WARNING: not removing hydrogen atom without neighbors\n",
      "[23:24:20] WARNING: not removing hydrogen atom without neighbors\n",
      "[23:24:20] WARNING: not removing hydrogen atom without neighbors\n",
      "[23:24:20] WARNING: not removing hydrogen atom without neighbors\n",
      " 24%|█████████████████████████████                                                                                            | 851/3538 [02:39<02:34, 17.43it/s][23:24:20] WARNING: not removing hydrogen atom without neighbors\n",
      "[23:24:20] WARNING: not removing hydrogen atom without neighbors\n",
      "[23:24:20] WARNING: not removing hydrogen atom without neighbors\n",
      "[23:24:20] WARNING: not removing hydrogen atom without neighbors\n",
      "[23:24:20] WARNING: not removing hydrogen atom without neighbors\n",
      " 24%|█████████████████████████████▎                                                                                           | 857/3538 [02:39<02:03, 21.74it/s][23:24:21] WARNING: not removing hydrogen atom without neighbors\n",
      "[23:24:21] WARNING: not removing hydrogen atom without neighbors\n",
      "[23:24:21] WARNING: not removing hydrogen atom without neighbors\n",
      " 24%|█████████████████████████████▌                                                                                           | 863/3538 [02:39<01:47, 24.94it/s][23:24:21] WARNING: not removing hydrogen atom without neighbors\n",
      "[23:24:21] WARNING: not removing hydrogen atom without neighbors\n",
      "[23:24:21] WARNING: not removing hydrogen atom without neighbors\n",
      "[23:24:21] WARNING: not removing hydrogen atom without neighbors\n",
      "[23:24:21] WARNING: not removing hydrogen atom without neighbors\n",
      " 25%|█████████████████████████████▋                                                                                           | 868/3538 [02:40<01:39, 26.95it/s][23:24:21] WARNING: not removing hydrogen atom without neighbors\n",
      "[23:24:21] WARNING: not removing hydrogen atom without neighbors\n",
      "[23:24:21] WARNING: not removing hydrogen atom without neighbors\n",
      "[23:24:21] WARNING: not removing hydrogen atom without neighbors\n",
      "[23:24:21] WARNING: not removing hydrogen atom without neighbors\n",
      "[23:24:21] Conflicting single bond directions around double bond at index 22.\n",
      "[23:24:21]   BondStereo set to STEREONONE and single bond directions set to NONE.\n",
      " 25%|█████████████████████████████▊                                                                                           | 873/3538 [02:40<01:35, 27.79it/s][23:24:21] WARNING: not removing hydrogen atom without neighbors\n",
      "[23:24:21] WARNING: not removing hydrogen atom without neighbors\n",
      "[23:24:21] WARNING: not removing hydrogen atom without neighbors\n",
      "[23:24:21] WARNING: not removing hydrogen atom without neighbors\n",
      "[23:24:21] WARNING: not removing hydrogen atom without neighbors\n",
      " 25%|██████████████████████████████                                                                                           | 878/3538 [02:40<01:29, 29.59it/s][23:24:21] WARNING: not removing hydrogen atom without neighbors\n",
      "[23:24:21] WARNING: not removing hydrogen atom without neighbors\n",
      "[23:24:21] WARNING: not removing hydrogen atom without neighbors\n",
      "[23:24:21] WARNING: not removing hydrogen atom without neighbors\n",
      " 25%|██████████████████████████████▏                                                                                          | 882/3538 [02:40<01:24, 31.49it/s][23:24:21] WARNING: not removing hydrogen atom without neighbors\n",
      "[23:24:21] WARNING: not removing hydrogen atom without neighbors\n",
      "[23:24:21] WARNING: not removing hydrogen atom without neighbors\n",
      "[23:24:21] WARNING: not removing hydrogen atom without neighbors\n",
      "[23:24:21] WARNING: not removing hydrogen atom without neighbors\n",
      " 25%|██████████████████████████████▎                                                                                          | 887/3538 [02:40<01:15, 35.19it/s][23:24:21] WARNING: not removing hydrogen atom without neighbors\n",
      "[23:24:21] WARNING: not removing hydrogen atom without neighbors\n",
      "[23:24:21] WARNING: not removing hydrogen atom without neighbors\n",
      "[23:24:21] WARNING: not removing hydrogen atom without neighbors\n",
      " 25%|██████████████████████████████▌                                                                                          | 892/3538 [02:40<01:19, 33.41it/s][23:24:21] WARNING: not removing hydrogen atom without neighbors\n",
      "[23:24:22] WARNING: not removing hydrogen atom without neighbors\n",
      "[23:24:22] WARNING: not removing hydrogen atom without neighbors\n"
     ]
    },
    {
     "name": "stdout",
     "output_type": "stream",
     "text": [
      "need at least one array to concatenate\n"
     ]
    },
    {
     "name": "stderr",
     "output_type": "stream",
     "text": [
      "[23:24:22] WARNING: not removing hydrogen atom without neighbors\n",
      "[23:24:22] WARNING: not removing hydrogen atom without neighbors\n",
      "[23:24:22] WARNING: not removing hydrogen atom without neighbors\n",
      " 25%|██████████████████████████████▋                                                                                          | 898/3538 [02:40<01:07, 39.35it/s][23:24:22] WARNING: not removing hydrogen atom without neighbors\n",
      "[23:24:22] WARNING: not removing hydrogen atom without neighbors\n",
      "[23:24:22] WARNING: not removing hydrogen atom without neighbors\n",
      "[23:24:22] WARNING: not removing hydrogen atom without neighbors\n",
      " 26%|██████████████████████████████▉                                                                                          | 903/3538 [02:40<01:10, 37.43it/s][23:24:22] WARNING: not removing hydrogen atom without neighbors\n",
      "[23:24:22] WARNING: not removing hydrogen atom without neighbors\n",
      "[23:24:22] WARNING: not removing hydrogen atom without neighbors\n",
      "[23:24:22] WARNING: not removing hydrogen atom without neighbors\n",
      "[23:24:22] WARNING: not removing hydrogen atom without neighbors\n",
      " 26%|███████████████████████████████                                                                                          | 908/3538 [02:41<01:06, 39.37it/s][23:24:22] WARNING: not removing hydrogen atom without neighbors\n",
      "[23:24:22] WARNING: not removing hydrogen atom without neighbors\n",
      "[23:24:22] WARNING: not removing hydrogen atom without neighbors\n",
      "[23:24:22] WARNING: not removing hydrogen atom without neighbors\n",
      " 26%|███████████████████████████████▏                                                                                         | 913/3538 [02:41<01:04, 40.96it/s][23:24:22] WARNING: not removing hydrogen atom without neighbors\n"
     ]
    },
    {
     "name": "stdout",
     "output_type": "stream",
     "text": [
      "Passed values must be either rdkit.Chem.rdChem.Mol or SMILES\n"
     ]
    },
    {
     "name": "stderr",
     "output_type": "stream",
     "text": [
      "[23:24:26] WARNING: not removing hydrogen atom without neighbors\n"
     ]
    },
    {
     "name": "stdout",
     "output_type": "stream",
     "text": [
      "need at least one array to concatenate\n"
     ]
    },
    {
     "name": "stderr",
     "output_type": "stream",
     "text": [
      "[23:24:28] WARNING: not removing hydrogen atom without neighbors\n",
      "[23:24:29] WARNING: not removing hydrogen atom without neighbors\n",
      " 26%|███████████████████████████████▍                                                                                         | 918/3538 [02:48<20:50,  2.10it/s][23:24:30] WARNING: not removing hydrogen atom without neighbors\n",
      "[23:24:30] WARNING: not removing hydrogen atom without neighbors\n",
      "[23:24:30] WARNING: not removing hydrogen atom without neighbors\n",
      " 26%|███████████████████████████████▌                                                                                         | 922/3538 [02:49<15:49,  2.76it/s][23:24:30] WARNING: not removing hydrogen atom without neighbors\n",
      "[23:24:30] WARNING: not removing hydrogen atom without neighbors\n",
      "[23:24:30] WARNING: not removing hydrogen atom without neighbors\n",
      "[23:24:30] WARNING: not removing hydrogen atom without neighbors\n",
      " 26%|███████████████████████████████▋                                                                                         | 926/3538 [02:49<11:55,  3.65it/s][23:24:30] WARNING: not removing hydrogen atom without neighbors\n",
      "[23:24:30] WARNING: not removing hydrogen atom without neighbors\n",
      "[23:24:30] WARNING: not removing hydrogen atom without neighbors\n",
      "[23:24:30] WARNING: not removing hydrogen atom without neighbors\n",
      "[23:24:30] WARNING: not removing hydrogen atom without neighbors\n",
      " 26%|███████████████████████████████▉                                                                                         | 933/3538 [02:49<07:25,  5.85it/s][23:24:30] WARNING: not removing hydrogen atom without neighbors\n",
      "[23:24:30] WARNING: not removing hydrogen atom without neighbors\n",
      "[23:24:30] WARNING: not removing hydrogen atom without neighbors\n",
      "[23:24:30] WARNING: not removing hydrogen atom without neighbors\n",
      "[23:24:30] WARNING: not removing hydrogen atom without neighbors\n",
      "[23:24:30] WARNING: not removing hydrogen atom without neighbors\n",
      " 27%|████████████████████████████████                                                                                         | 939/3538 [02:49<05:13,  8.29it/s][23:24:30] WARNING: not removing hydrogen atom without neighbors\n",
      "[23:24:30] WARNING: not removing hydrogen atom without neighbors\n",
      "[23:24:30] WARNING: not removing hydrogen atom without neighbors\n",
      " 27%|████████████████████████████████▎                                                                                        | 945/3538 [02:49<03:49, 11.31it/s][23:24:30] WARNING: not removing hydrogen atom without neighbors\n",
      "[23:24:30] WARNING: not removing hydrogen atom without neighbors\n",
      "[23:24:30] WARNING: not removing hydrogen atom without neighbors\n",
      "[23:24:30] WARNING: not removing hydrogen atom without neighbors\n",
      " 27%|████████████████████████████████▍                                                                                        | 950/3538 [02:49<03:03, 14.07it/s][23:24:30] WARNING: not removing hydrogen atom without neighbors\n",
      "[23:24:30] WARNING: not removing hydrogen atom without neighbors\n",
      "[23:24:30] WARNING: not removing hydrogen atom without neighbors\n",
      "[23:24:30] WARNING: not removing hydrogen atom without neighbors\n",
      "[23:24:30] SMILES Parse Error: syntax error while parsing: C(OP(OP(OC[C@H]2(O[C@H]1(NC4(/N=C(N)\\NC(=O)C(/N[C@H]1C3(\\S[Mo-](S[Cu]SC[C@@H](C(=O)[an\n",
      "[23:24:30] SMILES Parse Error: Failed parsing SMILES 'C(OP(OP(OC[C@H]2(O[C@H]1(NC4(/N=C(N)\\NC(=O)C(/N[C@H]1C3(\\S[Mo-](S[Cu]SC[C@@H](C(=O)[an' for input: 'C(OP(OP(OC[C@H]2(O[C@H]1(NC4(/N=C(N)\\NC(=O)C(/N[C@H]1C3(\\S[Mo-](S[Cu]SC[C@@H](C(=O)[an'\n"
     ]
    },
    {
     "name": "stdout",
     "output_type": "stream",
     "text": [
      "Python argument types in\n",
      "    FingeprintGenerator64.GetFingerprintAsNumPy(FingeprintGenerator64, NoneType)\n",
      "did not match C++ signature:\n",
      "    GetFingerprintAsNumPy(RDKit::FingerprintGenerator<unsigned long> const* self, RDKit::ROMol mol, boost::python::api::object fromAtoms=[], boost::python::api::object ignoreAtoms=[], int confId=-1, boost::python::api::object customAtomInvariants=[], boost::python::api::object customBondInvariants=[], boost::python::api::object additionalOutput=None)\n"
     ]
    },
    {
     "name": "stderr",
     "output_type": "stream",
     "text": [
      "[23:24:35] WARNING: not removing hydrogen atom without neighbors\n",
      " 27%|████████████████████████████████▋                                                                                        | 955/3538 [02:54<13:38,  3.16it/s][23:24:36] SMILES Parse Error: syntax error while parsing: C(OP(OP(OC[C@H]2(O[C@H]1(NC4(/N=C(N)\\NC(=O)C(/N[C@H]1C3(\\S[Mo-](=S)(=O)(O[a\n",
      "[23:24:36] SMILES Parse Error: Failed parsing SMILES 'C(OP(OP(OC[C@H]2(O[C@H]1(NC4(/N=C(N)\\NC(=O)C(/N[C@H]1C3(\\S[Mo-](=S)(=O)(O[a' for input: 'C(OP(OP(OC[C@H]2(O[C@H]1(NC4(/N=C(N)\\NC(=O)C(/N[C@H]1C3(\\S[Mo-](=S)(=O)(O[a'\n"
     ]
    },
    {
     "name": "stdout",
     "output_type": "stream",
     "text": [
      "Python argument types in\n",
      "    FingeprintGenerator64.GetFingerprintAsNumPy(FingeprintGenerator64, NoneType)\n",
      "did not match C++ signature:\n",
      "    GetFingerprintAsNumPy(RDKit::FingerprintGenerator<unsigned long> const* self, RDKit::ROMol mol, boost::python::api::object fromAtoms=[], boost::python::api::object ignoreAtoms=[], int confId=-1, boost::python::api::object customAtomInvariants=[], boost::python::api::object customBondInvariants=[], boost::python::api::object additionalOutput=None)\n"
     ]
    },
    {
     "name": "stderr",
     "output_type": "stream",
     "text": [
      "[23:24:40] WARNING: not removing hydrogen atom without neighbors\n",
      " 27%|████████████████████████████████▊                                                                                        | 959/3538 [03:02<31:21,  1.37it/s][23:24:45] WARNING: not removing hydrogen atom without neighbors\n",
      "[23:24:47] WARNING: not removing hydrogen atom without neighbors\n",
      "[23:24:47] WARNING: not removing hydrogen atom without neighbors\n",
      " 27%|████████████████████████████████▉                                                                                        | 962/3538 [03:06<36:04,  1.19it/s][23:24:47] WARNING: not removing hydrogen atom without neighbors\n",
      "[23:24:47] WARNING: not removing hydrogen atom without neighbors\n",
      "[23:24:47] WARNING: not removing hydrogen atom without neighbors\n",
      "[23:24:47] WARNING: not removing hydrogen atom without neighbors\n",
      "[23:24:47] WARNING: not removing hydrogen atom without neighbors\n",
      " 27%|█████████████████████████████████                                                                                        | 968/3538 [03:06<22:53,  1.87it/s][23:24:47] WARNING: not removing hydrogen atom without neighbors\n",
      "[23:24:47] WARNING: not removing hydrogen atom without neighbors\n",
      "[23:24:47] WARNING: not removing hydrogen atom without neighbors\n",
      "[23:24:47] WARNING: not removing hydrogen atom without neighbors\n",
      "[23:24:47] WARNING: not removing hydrogen atom without neighbors\n",
      "[23:24:47] WARNING: not removing hydrogen atom without neighbors\n",
      "[23:24:47] WARNING: not removing hydrogen atom without neighbors\n",
      "[23:24:47] WARNING: not removing hydrogen atom without neighbors\n",
      " 28%|█████████████████████████████████▍                                                                                       | 976/3538 [03:06<13:36,  3.14it/s][23:24:47] WARNING: not removing hydrogen atom without neighbors\n",
      "[23:24:47] WARNING: not removing hydrogen atom without neighbors\n",
      "[23:24:47] WARNING: not removing hydrogen atom without neighbors\n",
      "[23:24:47] WARNING: not removing hydrogen atom without neighbors\n",
      "[23:24:47] WARNING: not removing hydrogen atom without neighbors\n",
      "[23:24:47] WARNING: not removing hydrogen atom without neighbors\n",
      "[23:24:47] WARNING: not removing hydrogen atom without neighbors\n",
      " 28%|█████████████████████████████████▌                                                                                       | 983/3538 [03:06<09:10,  4.64it/s][23:24:47] WARNING: not removing hydrogen atom without neighbors\n",
      "[23:24:47] WARNING: not removing hydrogen atom without neighbors\n",
      "[23:24:47] WARNING: not removing hydrogen atom without neighbors\n",
      "[23:24:47] WARNING: not removing hydrogen atom without neighbors\n",
      "[23:24:47] WARNING: not removing hydrogen atom without neighbors\n",
      "[23:24:47] WARNING: not removing hydrogen atom without neighbors\n",
      "[23:24:47] WARNING: not removing hydrogen atom without neighbors\n",
      " 28%|█████████████████████████████████▊                                                                                       | 990/3538 [03:06<06:20,  6.69it/s][23:24:47] WARNING: not removing hydrogen atom without neighbors\n",
      "[23:24:47] WARNING: not removing hydrogen atom without neighbors\n",
      "[23:24:47] WARNING: not removing hydrogen atom without neighbors\n",
      "[23:24:47] WARNING: not removing hydrogen atom without neighbors\n",
      "[23:24:47] WARNING: not removing hydrogen atom without neighbors\n",
      "[23:24:47] WARNING: not removing hydrogen atom without neighbors\n",
      "[23:24:47] WARNING: not removing hydrogen atom without neighbors\n",
      " 28%|██████████████████████████████████                                                                                       | 997/3538 [03:06<04:30,  9.40it/s][23:24:47] WARNING: not removing hydrogen atom without neighbors\n",
      "[23:24:47] WARNING: not removing hydrogen atom without neighbors\n",
      "[23:24:47] WARNING: not removing hydrogen atom without neighbors\n",
      "[23:24:48] WARNING: not removing hydrogen atom without neighbors\n",
      "[23:24:48] WARNING: not removing hydrogen atom without neighbors\n",
      "[23:24:48] WARNING: not removing hydrogen atom without neighbors\n",
      "[23:24:48] WARNING: not removing hydrogen atom without neighbors\n",
      " 28%|██████████████████████████████████                                                                                      | 1005/3538 [03:06<03:10, 13.28it/s][23:24:48] WARNING: not removing hydrogen atom without neighbors\n",
      "[23:24:48] WARNING: not removing hydrogen atom without neighbors\n",
      "[23:24:48] WARNING: not removing hydrogen atom without neighbors\n",
      "[23:24:48] WARNING: not removing hydrogen atom without neighbors\n",
      "[23:24:48] WARNING: not removing hydrogen atom without neighbors\n",
      "[23:24:48] WARNING: not removing hydrogen atom without neighbors\n",
      " 29%|██████████████████████████████████▎                                                                                     | 1013/3538 [03:06<02:19, 18.13it/s][23:24:48] WARNING: not removing hydrogen atom without neighbors\n",
      "[23:24:48] WARNING: not removing hydrogen atom without neighbors\n",
      "[23:24:48] WARNING: not removing hydrogen atom without neighbors\n",
      "[23:24:48] WARNING: not removing hydrogen atom without neighbors\n",
      "[23:24:48] WARNING: not removing hydrogen atom without neighbors\n",
      " 29%|██████████████████████████████████▌                                                                                     | 1020/3538 [03:07<01:50, 22.86it/s][23:24:48] WARNING: not removing hydrogen atom without neighbors\n",
      "[23:24:48] WARNING: not removing hydrogen atom without neighbors\n",
      "[23:24:48] WARNING: not removing hydrogen atom without neighbors\n",
      "[23:24:48] WARNING: not removing hydrogen atom without neighbors\n",
      "[23:24:48] WARNING: not removing hydrogen atom without neighbors\n",
      "[23:24:48] WARNING: not removing hydrogen atom without neighbors\n",
      "[23:24:48] WARNING: not removing hydrogen atom without neighbors\n",
      " 29%|██████████████████████████████████▊                                                                                     | 1027/3538 [03:07<01:32, 27.11it/s][23:24:48] WARNING: not removing hydrogen atom without neighbors\n",
      "[23:24:48] WARNING: not removing hydrogen atom without neighbors\n",
      "[23:24:48] WARNING: not removing hydrogen atom without neighbors\n",
      "[23:24:48] WARNING: not removing hydrogen atom without neighbors\n",
      "[23:24:48] WARNING: not removing hydrogen atom without neighbors\n",
      "[23:24:48] WARNING: not removing hydrogen atom without neighbors\n",
      " 29%|███████████████████████████████████                                                                                     | 1033/3538 [03:07<01:25, 29.39it/s][23:24:48] WARNING: not removing hydrogen atom without neighbors\n",
      "[23:24:48] WARNING: not removing hydrogen atom without neighbors\n"
     ]
    },
    {
     "name": "stdout",
     "output_type": "stream",
     "text": [
      "Passed values must be either rdkit.Chem.rdChem.Mol or SMILES\n",
      "Passed values must be either rdkit.Chem.rdChem.Mol or SMILES\n"
     ]
    },
    {
     "name": "stderr",
     "output_type": "stream",
     "text": [
      "[23:24:59] WARNING: not removing hydrogen atom without neighbors\n",
      " 29%|███████████████████████████████████▏                                                                                    | 1039/3538 [03:18<22:08,  1.88it/s][23:24:59] WARNING: not removing hydrogen atom without neighbors\n",
      "[23:24:59] WARNING: not removing hydrogen atom without neighbors\n",
      "[23:24:59] SMILES Parse Error: syntax error while parsing: CCC(=O)CC(=O)CC(=O)CC(=O)CC(=O)CC(O)CC(=O)CC(=O)CC(=O)CC(SCCNC(=O)CCNC([C@H](O)C(C)(C)COP(=O)([O-])OC[C@H](N[a\n",
      "[23:24:59] SMILES Parse Error: Failed parsing SMILES 'CCC(=O)CC(=O)CC(=O)CC(=O)CC(=O)CC(O)CC(=O)CC(=O)CC(=O)CC(SCCNC(=O)CCNC([C@H](O)C(C)(C)COP(=O)([O-])OC[C@H](N[a' for input: 'CCC(=O)CC(=O)CC(=O)CC(=O)CC(=O)CC(O)CC(=O)CC(=O)CC(=O)CC(SCCNC(=O)CCNC([C@H](O)C(C)(C)COP(=O)([O-])OC[C@H](N[a'\n",
      "[23:24:59] WARNING: not removing hydrogen atom without neighbors\n",
      "[23:24:59] SMILES Parse Error: syntax error while parsing: CCC(=O)CC(=O)CC(=O)CC(=O)CC(=O)CC(=O)CC(=O)CC(=O)CC(=O)CC(SCCNC(=O)CCNC([C@H](O)C(C)(C)COP(=O)([O-])OC[C@H](N[a\n",
      "[23:24:59] SMILES Parse Error: Failed parsing SMILES 'CCC(=O)CC(=O)CC(=O)CC(=O)CC(=O)CC(=O)CC(=O)CC(=O)CC(=O)CC(SCCNC(=O)CCNC([C@H](O)C(C)(C)COP(=O)([O-])OC[C@H](N[a' for input: 'CCC(=O)CC(=O)CC(=O)CC(=O)CC(=O)CC(=O)CC(=O)CC(=O)CC(=O)CC(SCCNC(=O)CCNC([C@H](O)C(C)(C)COP(=O)([O-])OC[C@H](N[a'\n",
      " 29%|███████████████████████████████████▎                                                                                    | 1042/3538 [03:20<22:00,  1.89it/s]"
     ]
    },
    {
     "name": "stdout",
     "output_type": "stream",
     "text": [
      "Python argument types in\n",
      "    FingeprintGenerator64.GetFingerprintAsNumPy(FingeprintGenerator64, NoneType)\n",
      "did not match C++ signature:\n",
      "    GetFingerprintAsNumPy(RDKit::FingerprintGenerator<unsigned long> const* self, RDKit::ROMol mol, boost::python::api::object fromAtoms=[], boost::python::api::object ignoreAtoms=[], int confId=-1, boost::python::api::object customAtomInvariants=[], boost::python::api::object customBondInvariants=[], boost::python::api::object additionalOutput=None)\n"
     ]
    },
    {
     "name": "stderr",
     "output_type": "stream",
     "text": [
      "[23:25:03] WARNING: not removing hydrogen atom without neighbors\n",
      "[23:25:06] Conflicting single bond directions around double bond at index 18.\n",
      "[23:25:06]   BondStereo set to STEREONONE and single bond directions set to NONE.\n",
      "[23:25:06] Conflicting single bond directions around double bond at index 23.\n",
      "[23:25:06]   BondStereo set to STEREONONE and single bond directions set to NONE.\n",
      "[23:25:06] WARNING: not removing hydrogen atom without neighbors\n",
      "[23:25:06] Conflicting single bond directions around double bond at index 12.\n",
      "[23:25:06]   BondStereo set to STEREONONE and single bond directions set to NONE.\n",
      "[23:25:06] Conflicting single bond directions around double bond at index 17.\n",
      "[23:25:06]   BondStereo set to STEREONONE and single bond directions set to NONE.\n",
      "[23:25:06] Conflicting single bond directions around double bond at index 12.\n",
      "[23:25:06]   BondStereo set to STEREONONE and single bond directions set to NONE.\n",
      "[23:25:06] Conflicting single bond directions around double bond at index 17.\n",
      "[23:25:06]   BondStereo set to STEREONONE and single bond directions set to NONE.\n",
      "[23:25:07] WARNING: not removing hydrogen atom without neighbors\n",
      " 30%|███████████████████████████████████▍                                                                                    | 1046/3538 [03:25<31:12,  1.33it/s][23:25:07] WARNING: not removing hydrogen atom without neighbors\n",
      "[23:25:07] WARNING: not removing hydrogen atom without neighbors\n",
      "[23:25:07] WARNING: not removing hydrogen atom without neighbors\n",
      "[23:25:07] WARNING: not removing hydrogen atom without neighbors\n",
      "[23:25:07] WARNING: not removing hydrogen atom without neighbors\n",
      " 30%|███████████████████████████████████▋                                                                                    | 1052/3538 [03:25<20:53,  1.98it/s][23:25:07] WARNING: not removing hydrogen atom without neighbors\n",
      "[23:25:07] WARNING: not removing hydrogen atom without neighbors\n",
      "[23:25:07] WARNING: not removing hydrogen atom without neighbors\n",
      "[23:25:07] WARNING: not removing hydrogen atom without neighbors\n",
      "[23:25:07] WARNING: not removing hydrogen atom without neighbors\n",
      "[23:25:07] WARNING: not removing hydrogen atom without neighbors\n",
      "[23:25:07] WARNING: not removing hydrogen atom without neighbors\n",
      " 30%|███████████████████████████████████▉                                                                                    | 1060/3538 [03:26<12:54,  3.20it/s][23:25:07] WARNING: not removing hydrogen atom without neighbors\n",
      "[23:25:07] WARNING: not removing hydrogen atom without neighbors\n",
      "[23:25:07] WARNING: not removing hydrogen atom without neighbors\n",
      "[23:25:07] WARNING: not removing hydrogen atom without neighbors\n",
      " 30%|████████████████████████████████████▏                                                                                   | 1066/3538 [03:26<09:18,  4.43it/s][23:25:07] WARNING: not removing hydrogen atom without neighbors\n",
      "[23:25:07] WARNING: not removing hydrogen atom without neighbors\n",
      "[23:25:07] WARNING: not removing hydrogen atom without neighbors\n",
      "[23:25:07] WARNING: not removing hydrogen atom without neighbors\n",
      " 30%|████████████████████████████████████▎                                                                                   | 1071/3538 [03:26<07:06,  5.79it/s][23:25:07] WARNING: not removing hydrogen atom without neighbors\n",
      "[23:25:07] WARNING: not removing hydrogen atom without neighbors\n",
      "[23:25:07] WARNING: not removing hydrogen atom without neighbors\n",
      "[23:25:07] WARNING: not removing hydrogen atom without neighbors\n",
      "[23:25:07] WARNING: not removing hydrogen atom without neighbors\n",
      "[23:25:07] WARNING: not removing hydrogen atom without neighbors\n",
      " 30%|████████████████████████████████████▌                                                                                   | 1078/3538 [03:26<04:52,  8.40it/s][23:25:07] WARNING: not removing hydrogen atom without neighbors\n",
      "[23:25:07] WARNING: not removing hydrogen atom without neighbors\n",
      "[23:25:07] WARNING: not removing hydrogen atom without neighbors\n",
      "[23:25:07] WARNING: not removing hydrogen atom without neighbors\n",
      "[23:25:07] WARNING: not removing hydrogen atom without neighbors\n",
      "[23:25:07] WARNING: not removing hydrogen atom without neighbors\n",
      " 31%|████████████████████████████████████▊                                                                                   | 1084/3538 [03:26<03:39, 11.20it/s][23:25:07] WARNING: not removing hydrogen atom without neighbors\n",
      "[23:25:07] WARNING: not removing hydrogen atom without neighbors\n",
      "[23:25:07] WARNING: not removing hydrogen atom without neighbors\n",
      "[23:25:07] WARNING: not removing hydrogen atom without neighbors\n",
      "[23:25:07] WARNING: not removing hydrogen atom without neighbors\n",
      "[23:25:07] WARNING: not removing hydrogen atom without neighbors\n",
      " 31%|████████████████████████████████████▉                                                                                   | 1090/3538 [03:26<02:47, 14.60it/s][23:25:07] WARNING: not removing hydrogen atom without neighbors\n",
      "[23:25:07] WARNING: not removing hydrogen atom without neighbors\n",
      "[23:25:07] WARNING: not removing hydrogen atom without neighbors\n",
      "[23:25:07] WARNING: not removing hydrogen atom without neighbors\n",
      "[23:25:07] WARNING: not removing hydrogen atom without neighbors\n",
      "[23:25:07] WARNING: not removing hydrogen atom without neighbors\n",
      " 31%|█████████████████████████████████████▏                                                                                  | 1096/3538 [03:26<02:09, 18.79it/s][23:25:08] WARNING: not removing hydrogen atom without neighbors\n",
      "[23:25:08] WARNING: not removing hydrogen atom without neighbors\n",
      "[23:25:08] WARNING: not removing hydrogen atom without neighbors\n",
      "[23:25:08] WARNING: not removing hydrogen atom without neighbors\n",
      "[23:25:08] WARNING: not removing hydrogen atom without neighbors\n",
      "[23:25:08] WARNING: not removing hydrogen atom without neighbors\n",
      " 31%|█████████████████████████████████████▍                                                                                  | 1102/3538 [03:26<01:43, 23.52it/s][23:25:08] WARNING: not removing hydrogen atom without neighbors\n",
      "[23:25:08] WARNING: not removing hydrogen atom without neighbors\n",
      "[23:25:08] WARNING: not removing hydrogen atom without neighbors\n",
      "[23:25:08] WARNING: not removing hydrogen atom without neighbors\n",
      "[23:25:08] WARNING: not removing hydrogen atom without neighbors\n",
      " 31%|█████████████████████████████████████▌                                                                                  | 1108/3538 [03:26<01:26, 27.97it/s][23:25:08] WARNING: not removing hydrogen atom without neighbors\n",
      "[23:25:08] WARNING: not removing hydrogen atom without neighbors\n",
      "[23:25:08] WARNING: not removing hydrogen atom without neighbors\n",
      " 31%|█████████████████████████████████████▊                                                                                  | 1114/3538 [03:27<01:14, 32.35it/s][23:25:08] WARNING: not removing hydrogen atom without neighbors\n",
      "[23:25:08] WARNING: not removing hydrogen atom without neighbors\n",
      "[23:25:08] WARNING: not removing hydrogen atom without neighbors\n",
      " 32%|█████████████████████████████████████▉                                                                                  | 1120/3538 [03:27<01:08, 35.30it/s][23:25:08] WARNING: not removing hydrogen atom without neighbors\n",
      "[23:25:08] WARNING: not removing hydrogen atom without neighbors\n",
      "[23:25:08] WARNING: not removing hydrogen atom without neighbors\n",
      "[23:25:08] WARNING: not removing hydrogen atom without neighbors\n",
      " 32%|██████████████████████████████████████▏                                                                                 | 1126/3538 [03:27<01:04, 37.15it/s][23:25:08] WARNING: not removing hydrogen atom without neighbors\n",
      "[23:25:08] WARNING: not removing hydrogen atom without neighbors\n",
      "[23:25:08] WARNING: not removing hydrogen atom without neighbors\n",
      "[23:25:08] WARNING: not removing hydrogen atom without neighbors\n",
      "[23:25:08] WARNING: not removing hydrogen atom without neighbors\n",
      " 32%|██████████████████████████████████████▎                                                                                 | 1131/3538 [03:27<01:03, 37.78it/s][23:25:08] WARNING: not removing hydrogen atom without neighbors\n",
      "[23:25:08] WARNING: not removing hydrogen atom without neighbors\n",
      "[23:25:08] WARNING: not removing hydrogen atom without neighbors\n",
      "[23:25:08] WARNING: not removing hydrogen atom without neighbors\n",
      "[23:25:08] WARNING: not removing hydrogen atom without neighbors\n",
      " 32%|██████████████████████████████████████▌                                                                                 | 1136/3538 [03:27<01:02, 38.26it/s][23:25:08] WARNING: not removing hydrogen atom without neighbors\n",
      "[23:25:08] WARNING: not removing hydrogen atom without neighbors\n",
      "[23:25:08] WARNING: not removing hydrogen atom without neighbors\n",
      "[23:25:08] WARNING: not removing hydrogen atom without neighbors\n",
      "[23:25:08] WARNING: not removing hydrogen atom without neighbors\n",
      " 32%|██████████████████████████████████████▋                                                                                 | 1141/3538 [03:27<01:02, 38.62it/s][23:25:09] WARNING: not removing hydrogen atom without neighbors\n",
      "[23:25:09] WARNING: not removing hydrogen atom without neighbors\n",
      "[23:25:09] WARNING: not removing hydrogen atom without neighbors\n",
      "[23:25:09] WARNING: not removing hydrogen atom without neighbors\n",
      "[23:25:09] WARNING: not removing hydrogen atom without neighbors\n",
      " 32%|██████████████████████████████████████▊                                                                                 | 1146/3538 [03:27<01:03, 37.70it/s][23:25:09] WARNING: not removing hydrogen atom without neighbors\n",
      "[23:25:09] WARNING: not removing hydrogen atom without neighbors\n",
      "[23:25:09] WARNING: not removing hydrogen atom without neighbors\n",
      "[23:25:09] WARNING: not removing hydrogen atom without neighbors\n",
      "[23:25:09] WARNING: not removing hydrogen atom without neighbors\n",
      " 33%|███████████████████████████████████████                                                                                 | 1151/3538 [03:28<01:02, 38.23it/s][23:25:09] WARNING: not removing hydrogen atom without neighbors\n",
      "[23:25:09] WARNING: not removing hydrogen atom without neighbors\n",
      "[23:25:09] WARNING: not removing hydrogen atom without neighbors\n",
      "[23:25:09] WARNING: not removing hydrogen atom without neighbors\n",
      "[23:25:09] WARNING: not removing hydrogen atom without neighbors\n",
      " 33%|███████████████████████████████████████▏                                                                                | 1156/3538 [03:28<01:01, 38.83it/s][23:25:09] WARNING: not removing hydrogen atom without neighbors\n",
      "[23:25:09] WARNING: not removing hydrogen atom without neighbors\n",
      "[23:25:09] WARNING: not removing hydrogen atom without neighbors\n",
      "[23:25:09] WARNING: not removing hydrogen atom without neighbors\n",
      " 33%|███████████████████████████████████████▍                                                                                | 1161/3538 [03:28<01:02, 37.79it/s][23:25:09] WARNING: not removing hydrogen atom without neighbors\n",
      "[23:25:09] WARNING: not removing hydrogen atom without neighbors\n",
      "[23:25:09] WARNING: not removing hydrogen atom without neighbors\n",
      "[23:25:09] WARNING: not removing hydrogen atom without neighbors\n",
      "[23:25:09] SMILES Parse Error: syntax error while parsing: CC(C)(COP(=O)([O-])OC[C@H](N[a\n",
      "[23:25:09] SMILES Parse Error: Failed parsing SMILES 'CC(C)(COP(=O)([O-])OC[C@H](N[a' for input: 'CC(C)(COP(=O)([O-])OC[C@H](N[a'\n",
      " 33%|███████████████████████████████████████▌                                                                                | 1165/3538 [03:30<05:36,  7.05it/s]"
     ]
    },
    {
     "name": "stdout",
     "output_type": "stream",
     "text": [
      "Python argument types in\n",
      "    FingeprintGenerator64.GetFingerprintAsNumPy(FingeprintGenerator64, NoneType)\n",
      "did not match C++ signature:\n",
      "    GetFingerprintAsNumPy(RDKit::FingerprintGenerator<unsigned long> const* self, RDKit::ROMol mol, boost::python::api::object fromAtoms=[], boost::python::api::object ignoreAtoms=[], int confId=-1, boost::python::api::object customAtomInvariants=[], boost::python::api::object customBondInvariants=[], boost::python::api::object additionalOutput=None)\n"
     ]
    },
    {
     "name": "stderr",
     "output_type": "stream",
     "text": [
      "[23:25:16] WARNING: not removing hydrogen atom without neighbors\n",
      "[23:25:17] SMILES Parse Error: syntax error while parsing: CC(C)=CCCC(\\C)=C/CCC(\\C)=C/CCC(/C)=C/CCC(/C)=C/CCC(/C)=C/CCC(/C)=C/CCC(/C)=C/CCC(/C)=C/CCC(/C)=C/CCC(/C)=C/COP(=O)([O-])OP(=O)([O-])O[C@H]9(O[C@H](CO)[C@@H](O[C@@H]8(O[C@H](C(=O)[O-])[C@@H](O[C@H]7(O[C@H](C)[C@H](NC(C)=O)[C@H](O[C@H]6(O[C@H](CO)[C@@H](O[C@@H]5(O[C@H](C(=O)[O-])[C@@H](O[C@H]4(O[C@H](C)[C@H](NC(C)=O)[C@H](O[C@H]3(O[C@H](CO)[C@@H](O[C@@H]2(O[C@H](C(=O)[O-])[C@@H](O[C@H]1(O[C@H](C)[C@H](NC(C)=O)[C@H](O[R])[C@@H](O)1))[C@H](O)[C@H](NC(C)=O)2))[C@H](O)[C@@H](NC(C)=O)3))[C@@H](O)4))[C@H](O)[C@H](NC(C)=O)5))[C@H](O)[C@@H](NC(C)=O)6))[C@@H](O)7))[C@H](O)[C@H](NC(C)=O)8))[C@H](O)[C@@H](NC(C)=O)9)\n",
      "[23:25:17] SMILES Parse Error: Failed parsing SMILES 'CC(C)=CCCC(\\C)=C/CCC(\\C)=C/CCC(/C)=C/CCC(/C)=C/CCC(/C)=C/CCC(/C)=C/CCC(/C)=C/CCC(/C)=C/CCC(/C)=C/CCC(/C)=C/COP(=O)([O-])OP(=O)([O-])O[C@H]9(O[C@H](CO)[C@@H](O[C@@H]8(O[C@H](C(=O)[O-])[C@@H](O[C@H]7(O[C@H](C)[C@H](NC(C)=O)[C@H](O[C@H]6(O[C@H](CO)[C@@H](O[C@@H]5(O[C@H](C(=O)[O-])[C@@H](O[C@H]4(O[C@H](C)[C@H](NC(C)=O)[C@H](O[C@H]3(O[C@H](CO)[C@@H](O[C@@H]2(O[C@H](C(=O)[O-])[C@@H](O[C@H]1(O[C@H](C)[C@H](NC(C)=O)[C@H](O[R])[C@@H](O)1))[C@H](O)[C@H](NC(C)=O)2))[C@H](O)[C@@H](NC(C)=O)3))[C@@H](O)4))[C@H](O)[C@H](NC(C)=O)5))[C@H](O)[C@@H](NC(C)=O)6))[C@@H](O)7))[C@H](O)[C@H](NC(C)=O)8))[C@H](O)[C@@H](NC(C)=O)9)' for input: 'CC(C)=CCCC(\\C)=C/CCC(\\C)=C/CCC(/C)=C/CCC(/C)=C/CCC(/C)=C/CCC(/C)=C/CCC(/C)=C/CCC(/C)=C/CCC(/C)=C/CCC(/C)=C/COP(=O)([O-])OP(=O)([O-])O[C@H]9(O[C@H](CO)[C@@H](O[C@@H]8(O[C@H](C(=O)[O-])[C@@H](O[C@H]7(O[C@H](C)[C@H](NC(C)=O)[C@H](O[C@H]6(O[C@H](CO)[C@@H](O[C@@H]5(O[C@H](C(=O)[O-])[C@@H](O[C@H]4(O[C@H](C)[C@H](NC(C)=O)[C@H](O[C@H]3(O[C@H](CO)[C@@H](O[C@@H]2(O[C@H](C(=O)[O-])[C@@H](O[C@H]1(O[C@H](C)[C@H](NC(C)=O)[C@H](O[R])[C@@H](O)1))[C@H](O)[C@H](NC(C)=O)2))[C@H](O)[C@@H](NC(C)=O)3))[C@@H](O)4))[C@H](O)[C@H](NC(C)=O)5))[C@H](O)[C@@H](NC(C)=O)6))[C@@H](O)7))[C@H](O)[C@H](NC(C)=O)8))[C@H](O)[C@@H](NC(C)=O)9)'\n",
      " 33%|███████████████████████████████████████▌                                                                                | 1168/3538 [03:37<24:06,  1.64it/s]"
     ]
    },
    {
     "name": "stdout",
     "output_type": "stream",
     "text": [
      "Python argument types in\n",
      "    FingeprintGenerator64.GetFingerprintAsNumPy(FingeprintGenerator64, NoneType)\n",
      "did not match C++ signature:\n",
      "    GetFingerprintAsNumPy(RDKit::FingerprintGenerator<unsigned long> const* self, RDKit::ROMol mol, boost::python::api::object fromAtoms=[], boost::python::api::object ignoreAtoms=[], int confId=-1, boost::python::api::object customAtomInvariants=[], boost::python::api::object customBondInvariants=[], boost::python::api::object additionalOutput=None)\n",
      "need at least one array to concatenate\n",
      "need at least one array to concatenate\n"
     ]
    },
    {
     "name": "stderr",
     "output_type": "stream",
     "text": [
      "[23:25:21] WARNING: not removing hydrogen atom without neighbors\n",
      " 33%|███████████████████████████████████████▋                                                                                | 1171/3538 [03:40<27:49,  1.42it/s][23:25:22] WARNING: not removing hydrogen atom without neighbors\n",
      " 33%|███████████████████████████████████████▊                                                                                | 1173/3538 [03:41<28:41,  1.37it/s][23:25:23] WARNING: not removing hydrogen atom without neighbors\n",
      "[23:25:23] WARNING: not removing hydrogen atom without neighbors\n",
      "[23:25:23] WARNING: not removing hydrogen atom without neighbors\n",
      "[23:25:23] WARNING: not removing hydrogen atom without neighbors\n",
      "[23:25:23] WARNING: not removing hydrogen atom without neighbors\n",
      "[23:25:23] WARNING: not removing hydrogen atom without neighbors\n",
      " 33%|███████████████████████████████████████▉                                                                                | 1179/3538 [03:42<16:23,  2.40it/s][23:25:23] WARNING: not removing hydrogen atom without neighbors\n",
      "[23:25:23] WARNING: not removing hydrogen atom without neighbors\n",
      "[23:25:23] WARNING: not removing hydrogen atom without neighbors\n",
      "[23:25:23] WARNING: not removing hydrogen atom without neighbors\n",
      "[23:25:23] WARNING: not removing hydrogen atom without neighbors\n",
      " 33%|████████████████████████████████████████▏                                                                               | 1184/3538 [03:42<11:04,  3.54it/s][23:25:23] WARNING: not removing hydrogen atom without neighbors\n",
      "[23:25:23] WARNING: not removing hydrogen atom without neighbors\n",
      "[23:25:23] WARNING: not removing hydrogen atom without neighbors\n",
      "[23:25:23] WARNING: not removing hydrogen atom without neighbors\n",
      "[23:25:23] WARNING: not removing hydrogen atom without neighbors\n",
      "[23:25:23] WARNING: not removing hydrogen atom without neighbors\n",
      "[23:25:23] WARNING: not removing hydrogen atom without neighbors\n",
      " 34%|████████████████████████████████████████▍                                                                               | 1191/3538 [03:42<06:48,  5.75it/s][23:25:23] SMILES Parse Error: syntax error while parsing: CC(C)=CCCC(\\C)=C/CCC(\\C)=C/CCC(/C)=C/CCC(/C)=C/CCC(/C)=C/CCC(/C)=C/CCC(/C)=C/CCC(/C)=C/CCC(/C)=C/CCC(/C)=C/COP(=O)([O-])OP([O-])(=O)O[C@@H]1([C@@H]([C@H]([C@H]([C@H](O1)CO)O)O[C@@H]%12(O[C@H](CO)[C@H](O)[C@H](O[C@]%11(C([O-])=O)(C[C@H](O[C@H]%10(O[C@H](CO)[C@H](O[C@H]2([C@@H]([C@H]([C@H]([C@H](O2)CO)O)O[C@@H]9(O[C@H](CO)[C@H](O)[C@H](O[C@]8(C([O-])=O)(C[C@H](O[C@H]7(O[C@H](CO)[C@H](O[C@H]3([C@@H]([C@H]([C@H]([C@H](O3)CO)O)O[C@@H]6(O[C@H](CO)[C@H](O)[C@H](O[C@]5(C([O-])=O)(C[C@H](O[C@H]4(O[C@H](CO)[C@H](O[R])[C@H](O)[C@@H](O)4))[C@@H](NC(C)=O)[C@@H](O5)[C@H](OC(=O)C)[C@H](O)COC(C)=O))[C@@H](O)6))NC(C)=O))[C@H](O)[C@@H](O)7))[C@@H](NC(C)=O)[C@@H](O8)[C@H](OC(=O)C)[C@H](O)COC(C)=O))[C@@H](O)9))NC(C)=O))[C@H](O)[C@@H](O)%10))[C@@H](NC(C)=O)[C@@H](O%11)[C@H](OC(=O)C)[C@H](O)COC(C)=O))[C@@H](O)%12))NC(C)=O)\n",
      "[23:25:23] SMILES Parse Error: Failed parsing SMILES 'CC(C)=CCCC(\\C)=C/CCC(\\C)=C/CCC(/C)=C/CCC(/C)=C/CCC(/C)=C/CCC(/C)=C/CCC(/C)=C/CCC(/C)=C/CCC(/C)=C/CCC(/C)=C/COP(=O)([O-])OP([O-])(=O)O[C@@H]1([C@@H]([C@H]([C@H]([C@H](O1)CO)O)O[C@@H]%12(O[C@H](CO)[C@H](O)[C@H](O[C@]%11(C([O-])=O)(C[C@H](O[C@H]%10(O[C@H](CO)[C@H](O[C@H]2([C@@H]([C@H]([C@H]([C@H](O2)CO)O)O[C@@H]9(O[C@H](CO)[C@H](O)[C@H](O[C@]8(C([O-])=O)(C[C@H](O[C@H]7(O[C@H](CO)[C@H](O[C@H]3([C@@H]([C@H]([C@H]([C@H](O3)CO)O)O[C@@H]6(O[C@H](CO)[C@H](O)[C@H](O[C@]5(C([O-])=O)(C[C@H](O[C@H]4(O[C@H](CO)[C@H](O[R])[C@H](O)[C@@H](O)4))[C@@H](NC(C)=O)[C@@H](O5)[C@H](OC(=O)C)[C@H](O)COC(C)=O))[C@@H](O)6))NC(C)=O))[C@H](O)[C@@H](O)7))[C@@H](NC(C)=O)[C@@H](O8)[C@H](OC(=O)C)[C@H](O)COC(C)=O))[C@@H](O)9))NC(C)=O))[C@H](O)[C@@H](O)%10))[C@@H](NC(C)=O)[C@@H](O%11)[C@H](OC(=O)C)[C@H](O)COC(C)=O))[C@@H](O)%12))NC(C)=O)' for input: 'CC(C)=CCCC(\\C)=C/CCC(\\C)=C/CCC(/C)=C/CCC(/C)=C/CCC(/C)=C/CCC(/C)=C/CCC(/C)=C/CCC(/C)=C/CCC(/C)=C/CCC(/C)=C/COP(=O)([O-])OP([O-])(=O)O[C@@H]1([C@@H]([C@H]([C@H]([C@H](O1)CO)O)O[C@@H]%12(O[C@H](CO)[C@H](O)[C@H](O[C@]%11(C([O-])=O)(C[C@H](O[C@H]%10(O[C@H](CO)[C@H](O[C@H]2([C@@H]([C@H]([C@H]([C@H](O2)CO)O)O[C@@H]9(O[C@H](CO)[C@H](O)[C@H](O[C@]8(C([O-])=O)(C[C@H](O[C@H]7(O[C@H](CO)[C@H](O[C@H]3([C@@H]([C@H]([C@H]([C@H](O3)CO)O)O[C@@H]6(O[C@H](CO)[C@H](O)[C@H](O[C@]5(C([O-])=O)(C[C@H](O[C@H]4(O[C@H](CO)[C@H](O[R])[C@H](O)[C@@H](O)4))[C@@H](NC(C)=O)[C@@H](O5)[C@H](OC(=O)C)[C@H](O)COC(C)=O))[C@@H](O)6))NC(C)=O))[C@H](O)[C@@H](O)7))[C@@H](NC(C)=O)[C@@H](O8)[C@H](OC(=O)C)[C@H](O)COC(C)=O))[C@@H](O)9))NC(C)=O))[C@H](O)[C@@H](O)%10))[C@@H](NC(C)=O)[C@@H](O%11)[C@H](OC(=O)C)[C@H](O)COC(C)=O))[C@@H](O)%12))NC(C)=O)'\n",
      "[23:25:23] WARNING: not removing hydrogen atom without neighbors\n"
     ]
    },
    {
     "name": "stdout",
     "output_type": "stream",
     "text": [
      "Python argument types in\n",
      "    FingeprintGenerator64.GetFingerprintAsNumPy(FingeprintGenerator64, NoneType)\n",
      "did not match C++ signature:\n",
      "    GetFingerprintAsNumPy(RDKit::FingerprintGenerator<unsigned long> const* self, RDKit::ROMol mol, boost::python::api::object fromAtoms=[], boost::python::api::object ignoreAtoms=[], int confId=-1, boost::python::api::object customAtomInvariants=[], boost::python::api::object customBondInvariants=[], boost::python::api::object additionalOutput=None)\n"
     ]
    },
    {
     "name": "stderr",
     "output_type": "stream",
     "text": [
      "[23:25:28] SMILES Parse Error: syntax error while parsing: CC(C)=CCCC(\\C)=C/CCC(\\C)=C/CCC(/C)=C/CCC(/C)=C/CCC(/C)=C/CCC(/C)=C/CCC(/C)=C/CCC(/C)=C/CCC(/C)=C/CCC(/C)=C/COP(=O)([O-])OP(O[C@H]1(O[C@@H]([C@@H]([C@@H]([C@H]1NC(=O)C)O[C@@H]2(O[C@@H]([C@@H]([C@@H]([C@H]2O)O)O[C@H]3(O[C@@H]([C@H]([C@@H]([C@H]3NC(=O)C)O)O[C@@H]%15(O[C@@H](C)[C@H](O)[C@@H](O[C@H]4([C@@H]([C@H]([C@H]([C@H](O4)CO)O[C@H]5(O[C@@H]([C@@H]([C@@H]([C@H]5NC(=O)C)O[C@@H]6(O[C@@H]([C@@H]([C@@H]([C@H]6O)O)O[C@H]7(O[C@@H]([C@H]([C@@H]([C@H]7NC(=O)C)O)O[C@@H]%14(O[C@@H](C)[C@H](O)[C@@H](O[C@H]8([C@@H]([C@H]([C@H]([C@H](O8)CO)O[C@H]9(O[C@@H]([C@@H]([C@@H]([C@H]9NC(=O)C)O[C@@H]%10(O[C@@H]([C@@H]([C@@H]([C@H]%10O)O)O[C@H]%11(O[C@@H]([C@H]([C@@H]([C@H]%11NC(=O)C)O)O[C@@H]%13(O[C@@H](C)[C@H](O)[C@@H](O[C@H]%12([C@@H]([C@H]([C@H]([C@H](O%12)CO)O[R])O)NC(C)=O))[C@@H](O)%13))CO))CO))O)CO))O)NC(C)=O))[C@@H](O)%14))CO))CO))O)CO))O)NC(C)=O))[C@@H](O)%15))CO))CO))O)CO))([O-])=O\n",
      "[23:25:28] SMILES Parse Error: Failed parsing SMILES 'CC(C)=CCCC(\\C)=C/CCC(\\C)=C/CCC(/C)=C/CCC(/C)=C/CCC(/C)=C/CCC(/C)=C/CCC(/C)=C/CCC(/C)=C/CCC(/C)=C/CCC(/C)=C/COP(=O)([O-])OP(O[C@H]1(O[C@@H]([C@@H]([C@@H]([C@H]1NC(=O)C)O[C@@H]2(O[C@@H]([C@@H]([C@@H]([C@H]2O)O)O[C@H]3(O[C@@H]([C@H]([C@@H]([C@H]3NC(=O)C)O)O[C@@H]%15(O[C@@H](C)[C@H](O)[C@@H](O[C@H]4([C@@H]([C@H]([C@H]([C@H](O4)CO)O[C@H]5(O[C@@H]([C@@H]([C@@H]([C@H]5NC(=O)C)O[C@@H]6(O[C@@H]([C@@H]([C@@H]([C@H]6O)O)O[C@H]7(O[C@@H]([C@H]([C@@H]([C@H]7NC(=O)C)O)O[C@@H]%14(O[C@@H](C)[C@H](O)[C@@H](O[C@H]8([C@@H]([C@H]([C@H]([C@H](O8)CO)O[C@H]9(O[C@@H]([C@@H]([C@@H]([C@H]9NC(=O)C)O[C@@H]%10(O[C@@H]([C@@H]([C@@H]([C@H]%10O)O)O[C@H]%11(O[C@@H]([C@H]([C@@H]([C@H]%11NC(=O)C)O)O[C@@H]%13(O[C@@H](C)[C@H](O)[C@@H](O[C@H]%12([C@@H]([C@H]([C@H]([C@H](O%12)CO)O[R])O)NC(C)=O))[C@@H](O)%13))CO))CO))O)CO))O)NC(C)=O))[C@@H](O)%14))CO))CO))O)CO))O)NC(C)=O))[C@@H](O)%15))CO))CO))O)CO))([O-])=O' for input: 'CC(C)=CCCC(\\C)=C/CCC(\\C)=C/CCC(/C)=C/CCC(/C)=C/CCC(/C)=C/CCC(/C)=C/CCC(/C)=C/CCC(/C)=C/CCC(/C)=C/CCC(/C)=C/COP(=O)([O-])OP(O[C@H]1(O[C@@H]([C@@H]([C@@H]([C@H]1NC(=O)C)O[C@@H]2(O[C@@H]([C@@H]([C@@H]([C@H]2O)O)O[C@H]3(O[C@@H]([C@H]([C@@H]([C@H]3NC(=O)C)O)O[C@@H]%15(O[C@@H](C)[C@H](O)[C@@H](O[C@H]4([C@@H]([C@H]([C@H]([C@H](O4)CO)O[C@H]5(O[C@@H]([C@@H]([C@@H]([C@H]5NC(=O)C)O[C@@H]6(O[C@@H]([C@@H]([C@@H]([C@H]6O)O)O[C@H]7(O[C@@H]([C@H]([C@@H]([C@H]7NC(=O)C)O)O[C@@H]%14(O[C@@H](C)[C@H](O)[C@@H](O[C@H]8([C@@H]([C@H]([C@H]([C@H](O8)CO)O[C@H]9(O[C@@H]([C@@H]([C@@H]([C@H]9NC(=O)C)O[C@@H]%10(O[C@@H]([C@@H]([C@@H]([C@H]%10O)O)O[C@H]%11(O[C@@H]([C@H]([C@@H]([C@H]%11NC(=O)C)O)O[C@@H]%13(O[C@@H](C)[C@H](O)[C@@H](O[C@H]%12([C@@H]([C@H]([C@H]([C@H](O%12)CO)O[R])O)NC(C)=O))[C@@H](O)%13))CO))CO))O)CO))O)NC(C)=O))[C@@H](O)%14))CO))CO))O)CO))O)NC(C)=O))[C@@H](O)%15))CO))CO))O)CO))([O-])=O'\n",
      "[23:25:28] WARNING: not removing hydrogen atom without neighbors\n"
     ]
    },
    {
     "name": "stdout",
     "output_type": "stream",
     "text": [
      "Python argument types in\n",
      "    FingeprintGenerator64.GetFingerprintAsNumPy(FingeprintGenerator64, NoneType)\n",
      "did not match C++ signature:\n",
      "    GetFingerprintAsNumPy(RDKit::FingerprintGenerator<unsigned long> const* self, RDKit::ROMol mol, boost::python::api::object fromAtoms=[], boost::python::api::object ignoreAtoms=[], int confId=-1, boost::python::api::object customAtomInvariants=[], boost::python::api::object customBondInvariants=[], boost::python::api::object additionalOutput=None)\n"
     ]
    },
    {
     "name": "stderr",
     "output_type": "stream",
     "text": [
      "[23:25:32] WARNING: not removing hydrogen atom without neighbors\n",
      "[23:25:32] SMILES Parse Error: syntax error while parsing: CC(C)=CCCC(\\C)=C/CCC(\\C)=C/CCC(/C)=C/CCC(/C)=C/CCC(/C)=C/CCC(/C)=C/CCC(/C)=C/CCC(/C)=C/CCC(/C)=C/CCC(/C)=C/COP(=O)([O-])OP([O-])(=O)O[C@@H]1([C@@H]([C@H]([C@@H]([C@H](O1)CO)O)O[C@H]%15(O[C@H](CO)[C@H](O[C@H]%14(O[C@H](CO[C@H]2(O[C@@H](C)[C@@H](O)C[C@H](O)2))[C@@H](O[C@H]3([C@@H]([C@H]([C@@H]([C@H](O3)CO)O)O[C@H]%12(O[C@H](CO)[C@H](O[C@H]%11(O[C@H](CO[C@H]4(O[C@@H](C)[C@@H](O)C[C@H](O)4))[C@@H](O[C@H]5([C@@H]([C@H]([C@@H]([C@H](O5)CO)O)O[C@H]9(O[C@H](CO)[C@H](O[C@H]8(O[C@H](CO[C@H]6(O[C@@H](C)[C@@H](O)C[C@H](O)6))[C@@H](O[R])[C@H](O[C@H]7(O[C@@H](C)[C@@H](O)C[C@H](O)7))[C@@H](O)8))[C@H](O)[C@@H](O)9))NC(C)=O))[C@H](O[C@H]%10(O[C@@H](C)[C@@H](O)C[C@H](O)%10))[C@@H](O)%11))[C@H](O)[C@@H](O)%12))NC(C)=O))[C@H](O[C@H]%13(O[C@@H](C)[C@@H](O)C[C@H](O)%13))[C@@H](O)%14))[C@H](O)[C@@H](O)%15))NC(C)=O)\n",
      "[23:25:32] SMILES Parse Error: Failed parsing SMILES 'CC(C)=CCCC(\\C)=C/CCC(\\C)=C/CCC(/C)=C/CCC(/C)=C/CCC(/C)=C/CCC(/C)=C/CCC(/C)=C/CCC(/C)=C/CCC(/C)=C/CCC(/C)=C/COP(=O)([O-])OP([O-])(=O)O[C@@H]1([C@@H]([C@H]([C@@H]([C@H](O1)CO)O)O[C@H]%15(O[C@H](CO)[C@H](O[C@H]%14(O[C@H](CO[C@H]2(O[C@@H](C)[C@@H](O)C[C@H](O)2))[C@@H](O[C@H]3([C@@H]([C@H]([C@@H]([C@H](O3)CO)O)O[C@H]%12(O[C@H](CO)[C@H](O[C@H]%11(O[C@H](CO[C@H]4(O[C@@H](C)[C@@H](O)C[C@H](O)4))[C@@H](O[C@H]5([C@@H]([C@H]([C@@H]([C@H](O5)CO)O)O[C@H]9(O[C@H](CO)[C@H](O[C@H]8(O[C@H](CO[C@H]6(O[C@@H](C)[C@@H](O)C[C@H](O)6))[C@@H](O[R])[C@H](O[C@H]7(O[C@@H](C)[C@@H](O)C[C@H](O)7))[C@@H](O)8))[C@H](O)[C@@H](O)9))NC(C)=O))[C@H](O[C@H]%10(O[C@@H](C)[C@@H](O)C[C@H](O)%10))[C@@H](O)%11))[C@H](O)[C@@H](O)%12))NC(C)=O))[C@H](O[C@H]%13(O[C@@H](C)[C@@H](O)C[C@H](O)%13))[C@@H](O)%14))[C@H](O)[C@@H](O)%15))NC(C)=O)' for input: 'CC(C)=CCCC(\\C)=C/CCC(\\C)=C/CCC(/C)=C/CCC(/C)=C/CCC(/C)=C/CCC(/C)=C/CCC(/C)=C/CCC(/C)=C/CCC(/C)=C/CCC(/C)=C/COP(=O)([O-])OP([O-])(=O)O[C@@H]1([C@@H]([C@H]([C@@H]([C@H](O1)CO)O)O[C@H]%15(O[C@H](CO)[C@H](O[C@H]%14(O[C@H](CO[C@H]2(O[C@@H](C)[C@@H](O)C[C@H](O)2))[C@@H](O[C@H]3([C@@H]([C@H]([C@@H]([C@H](O3)CO)O)O[C@H]%12(O[C@H](CO)[C@H](O[C@H]%11(O[C@H](CO[C@H]4(O[C@@H](C)[C@@H](O)C[C@H](O)4))[C@@H](O[C@H]5([C@@H]([C@H]([C@@H]([C@H](O5)CO)O)O[C@H]9(O[C@H](CO)[C@H](O[C@H]8(O[C@H](CO[C@H]6(O[C@@H](C)[C@@H](O)C[C@H](O)6))[C@@H](O[R])[C@H](O[C@H]7(O[C@@H](C)[C@@H](O)C[C@H](O)7))[C@@H](O)8))[C@H](O)[C@@H](O)9))NC(C)=O))[C@H](O[C@H]%10(O[C@@H](C)[C@@H](O)C[C@H](O)%10))[C@@H](O)%11))[C@H](O)[C@@H](O)%12))NC(C)=O))[C@H](O[C@H]%13(O[C@@H](C)[C@@H](O)C[C@H](O)%13))[C@@H](O)%14))[C@H](O)[C@@H](O)%15))NC(C)=O)'\n"
     ]
    },
    {
     "name": "stdout",
     "output_type": "stream",
     "text": [
      "Python argument types in\n",
      "    FingeprintGenerator64.GetFingerprintAsNumPy(FingeprintGenerator64, NoneType)\n",
      "did not match C++ signature:\n",
      "    GetFingerprintAsNumPy(RDKit::FingerprintGenerator<unsigned long> const* self, RDKit::ROMol mol, boost::python::api::object fromAtoms=[], boost::python::api::object ignoreAtoms=[], int confId=-1, boost::python::api::object customAtomInvariants=[], boost::python::api::object customBondInvariants=[], boost::python::api::object additionalOutput=None)\n"
     ]
    },
    {
     "name": "stderr",
     "output_type": "stream",
     "text": [
      "[23:25:36] WARNING: not removing hydrogen atom without neighbors\n",
      "[23:25:36] SMILES Parse Error: syntax error while parsing: CC(C)=CCCC(\\C)=C/CCC(\\C)=C/CCC(/C)=C/CCC(/C)=C/CCC(/C)=C/CCC(/C)=C/CCC(/C)=C/CCC(/C)=C/CCC(/C)=C/CCC(/C)=C/COP(=O)([O-])OP(O[C@H]1(O[C@@H]([C@@H]([C@@H]([C@H]1NC(=O)C)O[C@@H]2(O[C@@H]([C@@H]([C@@H]([C@H]2O)O)O[C@H]3(O[C@@H]([C@H]([C@@H]([C@H]3O)O)O[C@@H]%15(O[C@@H](C)[C@H](O)[C@@H](O[C@H]4([C@@H]([C@H]([C@H]([C@H](O4)CO)O[C@H]5(O[C@@H]([C@@H]([C@@H]([C@H]5NC(=O)C)O[C@@H]6(O[C@@H]([C@@H]([C@@H]([C@H]6O)O)O[C@H]7(O[C@@H]([C@H]([C@@H]([C@H]7O)O)O[C@@H]%14(O[C@@H](C)[C@H](O)[C@@H](O[C@H]8([C@@H]([C@H]([C@H]([C@H](O8)CO)O[C@H]9(O[C@@H]([C@@H]([C@@H]([C@H]9NC(=O)C)O[C@@H]%10(O[C@@H]([C@@H]([C@@H]([C@H]%10O)O)O[C@H]%11(O[C@@H]([C@H]([C@@H]([C@H]%11O)O)O[C@@H]%13(O[C@@H](C)[C@H](O)[C@@H](O[C@H]%12([C@@H]([C@H]([C@H]([C@H](O%12)CO)O[R])O)NC(C)=O))[C@@H](O)%13))CO))CO))O)CO))O)NC(C)=O))[C@@H](O)%14))CO))CO))O)CO))O)NC(C)=O))[C@@H](O)%15))CO))CO))O)CO))([O-])=O\n",
      "[23:25:36] SMILES Parse Error: Failed parsing SMILES 'CC(C)=CCCC(\\C)=C/CCC(\\C)=C/CCC(/C)=C/CCC(/C)=C/CCC(/C)=C/CCC(/C)=C/CCC(/C)=C/CCC(/C)=C/CCC(/C)=C/CCC(/C)=C/COP(=O)([O-])OP(O[C@H]1(O[C@@H]([C@@H]([C@@H]([C@H]1NC(=O)C)O[C@@H]2(O[C@@H]([C@@H]([C@@H]([C@H]2O)O)O[C@H]3(O[C@@H]([C@H]([C@@H]([C@H]3O)O)O[C@@H]%15(O[C@@H](C)[C@H](O)[C@@H](O[C@H]4([C@@H]([C@H]([C@H]([C@H](O4)CO)O[C@H]5(O[C@@H]([C@@H]([C@@H]([C@H]5NC(=O)C)O[C@@H]6(O[C@@H]([C@@H]([C@@H]([C@H]6O)O)O[C@H]7(O[C@@H]([C@H]([C@@H]([C@H]7O)O)O[C@@H]%14(O[C@@H](C)[C@H](O)[C@@H](O[C@H]8([C@@H]([C@H]([C@H]([C@H](O8)CO)O[C@H]9(O[C@@H]([C@@H]([C@@H]([C@H]9NC(=O)C)O[C@@H]%10(O[C@@H]([C@@H]([C@@H]([C@H]%10O)O)O[C@H]%11(O[C@@H]([C@H]([C@@H]([C@H]%11O)O)O[C@@H]%13(O[C@@H](C)[C@H](O)[C@@H](O[C@H]%12([C@@H]([C@H]([C@H]([C@H](O%12)CO)O[R])O)NC(C)=O))[C@@H](O)%13))CO))CO))O)CO))O)NC(C)=O))[C@@H](O)%14))CO))CO))O)CO))O)NC(C)=O))[C@@H](O)%15))CO))CO))O)CO))([O-])=O' for input: 'CC(C)=CCCC(\\C)=C/CCC(\\C)=C/CCC(/C)=C/CCC(/C)=C/CCC(/C)=C/CCC(/C)=C/CCC(/C)=C/CCC(/C)=C/CCC(/C)=C/CCC(/C)=C/COP(=O)([O-])OP(O[C@H]1(O[C@@H]([C@@H]([C@@H]([C@H]1NC(=O)C)O[C@@H]2(O[C@@H]([C@@H]([C@@H]([C@H]2O)O)O[C@H]3(O[C@@H]([C@H]([C@@H]([C@H]3O)O)O[C@@H]%15(O[C@@H](C)[C@H](O)[C@@H](O[C@H]4([C@@H]([C@H]([C@H]([C@H](O4)CO)O[C@H]5(O[C@@H]([C@@H]([C@@H]([C@H]5NC(=O)C)O[C@@H]6(O[C@@H]([C@@H]([C@@H]([C@H]6O)O)O[C@H]7(O[C@@H]([C@H]([C@@H]([C@H]7O)O)O[C@@H]%14(O[C@@H](C)[C@H](O)[C@@H](O[C@H]8([C@@H]([C@H]([C@H]([C@H](O8)CO)O[C@H]9(O[C@@H]([C@@H]([C@@H]([C@H]9NC(=O)C)O[C@@H]%10(O[C@@H]([C@@H]([C@@H]([C@H]%10O)O)O[C@H]%11(O[C@@H]([C@H]([C@@H]([C@H]%11O)O)O[C@@H]%13(O[C@@H](C)[C@H](O)[C@@H](O[C@H]%12([C@@H]([C@H]([C@H]([C@H](O%12)CO)O[R])O)NC(C)=O))[C@@H](O)%13))CO))CO))O)CO))O)NC(C)=O))[C@@H](O)%14))CO))CO))O)CO))O)NC(C)=O))[C@@H](O)%15))CO))CO))O)CO))([O-])=O'\n",
      " 34%|████████████████████████████████████████▌                                                                               | 1195/3538 [03:57<41:12,  1.06s/it]"
     ]
    },
    {
     "name": "stdout",
     "output_type": "stream",
     "text": [
      "Python argument types in\n",
      "    FingeprintGenerator64.GetFingerprintAsNumPy(FingeprintGenerator64, NoneType)\n",
      "did not match C++ signature:\n",
      "    GetFingerprintAsNumPy(RDKit::FingerprintGenerator<unsigned long> const* self, RDKit::ROMol mol, boost::python::api::object fromAtoms=[], boost::python::api::object ignoreAtoms=[], int confId=-1, boost::python::api::object customAtomInvariants=[], boost::python::api::object customBondInvariants=[], boost::python::api::object additionalOutput=None)\n"
     ]
    },
    {
     "name": "stderr",
     "output_type": "stream",
     "text": [
      "[23:25:41] WARNING: not removing hydrogen atom without neighbors\n",
      "[23:25:41] SMILES Parse Error: syntax error while parsing: CC(C)=CCCC(/C)=C/CCC(/C)=C/CCC(/C)=C/CCC(/C)=C/CCC(/C)=C/CCC(/C)=C/CCC(/C)=C/CCC(/C)=C/CCC(/C)=C/CCC(/C)=C/COP(=O)([O-])OP(=O)([O-])O[C@@H]1([C@@H]([C@H]([C@@H](O)[C@H](O1)CO)O[C@H]%12(O[C@H](CO)[C@H](O)[C@H](O[C@@H]%11(O[C@H](CO)[C@H](O)[C@H](O)[C@@H](O[C@@H]%10(O[C@@H](C)[C@@H](OC(=O)C)[C@@H](OC(=O)C)[C@H](O[C@@H]2([C@@H]([C@H]([C@@H](O)[C@H](O2)CO)O[C@H]9(O[C@H](CO)[C@H](O)[C@H](O[C@@H]8(O[C@H](CO)[C@H](O)[C@H](O)[C@@H](O[C@@H]7(O[C@@H](C)[C@@H](OC(=O)C)[C@@H](OC(=O)C)[C@H](O[C@@H]3([C@@H]([C@H]([C@@H](O)[C@H](O3)CO)O[C@H]6(O[C@H](CO)[C@H](O)[C@H](O[C@@H]5(O[C@H](CO)[C@H](O)[C@H](O)[C@@H](O[C@@H]4(O[C@@H](C)[C@@H](OC(=O)C)[C@@H](OC(=O)C)[C@H](O[R])4))5))[C@@H](NC(C)=O)6))NC(C)=O))7))8))[C@@H](NC(C)=O)9))NC(C)=O))%10))%11))[C@@H](NC(C)=O)%12))NC(C)=O)\n",
      "[23:25:41] SMILES Parse Error: Failed parsing SMILES 'CC(C)=CCCC(/C)=C/CCC(/C)=C/CCC(/C)=C/CCC(/C)=C/CCC(/C)=C/CCC(/C)=C/CCC(/C)=C/CCC(/C)=C/CCC(/C)=C/CCC(/C)=C/COP(=O)([O-])OP(=O)([O-])O[C@@H]1([C@@H]([C@H]([C@@H](O)[C@H](O1)CO)O[C@H]%12(O[C@H](CO)[C@H](O)[C@H](O[C@@H]%11(O[C@H](CO)[C@H](O)[C@H](O)[C@@H](O[C@@H]%10(O[C@@H](C)[C@@H](OC(=O)C)[C@@H](OC(=O)C)[C@H](O[C@@H]2([C@@H]([C@H]([C@@H](O)[C@H](O2)CO)O[C@H]9(O[C@H](CO)[C@H](O)[C@H](O[C@@H]8(O[C@H](CO)[C@H](O)[C@H](O)[C@@H](O[C@@H]7(O[C@@H](C)[C@@H](OC(=O)C)[C@@H](OC(=O)C)[C@H](O[C@@H]3([C@@H]([C@H]([C@@H](O)[C@H](O3)CO)O[C@H]6(O[C@H](CO)[C@H](O)[C@H](O[C@@H]5(O[C@H](CO)[C@H](O)[C@H](O)[C@@H](O[C@@H]4(O[C@@H](C)[C@@H](OC(=O)C)[C@@H](OC(=O)C)[C@H](O[R])4))5))[C@@H](NC(C)=O)6))NC(C)=O))7))8))[C@@H](NC(C)=O)9))NC(C)=O))%10))%11))[C@@H](NC(C)=O)%12))NC(C)=O)' for input: 'CC(C)=CCCC(/C)=C/CCC(/C)=C/CCC(/C)=C/CCC(/C)=C/CCC(/C)=C/CCC(/C)=C/CCC(/C)=C/CCC(/C)=C/CCC(/C)=C/CCC(/C)=C/COP(=O)([O-])OP(=O)([O-])O[C@@H]1([C@@H]([C@H]([C@@H](O)[C@H](O1)CO)O[C@H]%12(O[C@H](CO)[C@H](O)[C@H](O[C@@H]%11(O[C@H](CO)[C@H](O)[C@H](O)[C@@H](O[C@@H]%10(O[C@@H](C)[C@@H](OC(=O)C)[C@@H](OC(=O)C)[C@H](O[C@@H]2([C@@H]([C@H]([C@@H](O)[C@H](O2)CO)O[C@H]9(O[C@H](CO)[C@H](O)[C@H](O[C@@H]8(O[C@H](CO)[C@H](O)[C@H](O)[C@@H](O[C@@H]7(O[C@@H](C)[C@@H](OC(=O)C)[C@@H](OC(=O)C)[C@H](O[C@@H]3([C@@H]([C@H]([C@@H](O)[C@H](O3)CO)O[C@H]6(O[C@H](CO)[C@H](O)[C@H](O[C@@H]5(O[C@H](CO)[C@H](O)[C@H](O)[C@@H](O[C@@H]4(O[C@@H](C)[C@@H](OC(=O)C)[C@@H](OC(=O)C)[C@H](O[R])4))5))[C@@H](NC(C)=O)6))NC(C)=O))7))8))[C@@H](NC(C)=O)9))NC(C)=O))%10))%11))[C@@H](NC(C)=O)%12))NC(C)=O)'\n",
      " 34%|████████████████████████████████████████▌                                                                               | 1196/3538 [04:01<52:04,  1.33s/it]"
     ]
    },
    {
     "name": "stdout",
     "output_type": "stream",
     "text": [
      "Python argument types in\n",
      "    FingeprintGenerator64.GetFingerprintAsNumPy(FingeprintGenerator64, NoneType)\n",
      "did not match C++ signature:\n",
      "    GetFingerprintAsNumPy(RDKit::FingerprintGenerator<unsigned long> const* self, RDKit::ROMol mol, boost::python::api::object fromAtoms=[], boost::python::api::object ignoreAtoms=[], int confId=-1, boost::python::api::object customAtomInvariants=[], boost::python::api::object customBondInvariants=[], boost::python::api::object additionalOutput=None)\n"
     ]
    },
    {
     "name": "stderr",
     "output_type": "stream",
     "text": [
      "[23:25:45] WARNING: not removing hydrogen atom without neighbors\n",
      "[23:25:45] SMILES Parse Error: syntax error while parsing: CC(C)=CCCC(\\C)=C/CCC(\\C)=C/CCC(/C)=C/CCC(/C)=C/CCC(/C)=C/CCC(/C)=C/CCC(/C)=C/CCC(/C)=C/CCC(/C)=C/CCC(/C)=C/COP(=O)([O-])OP([O-])(=O)O[C@@H]1([C@@H]([C@H]([C@H]([C@H](O1)CO)O)O[C@H]%15(O[C@H](CO)[C@H](O[C@H]2([C@@H]([C@H]([C@H]([C@H](O2)CO)O)O[C@H]3([C@@H]([C@H]([C@H]([C@H](O3)CO[C@H]4([C@@H]([C@H]([C@H]([C@H](O4)CO)O)O[C@H]%13(O[C@H](CO)[C@H](O[C@H]5([C@@H]([C@H]([C@H]([C@H](O5)CO)O)O[C@H]6([C@@H]([C@H]([C@H]([C@H](O6)CO[C@H]7([C@@H]([C@H]([C@H]([C@H](O7)CO)O)O[C@H]%11(O[C@H](CO)[C@H](O[C@H]8([C@@H]([C@H]([C@H]([C@H](O8)CO)O)O[C@H]9([C@@H]([C@H]([C@H]([C@H](O9)CO[R])O)O)O[C@H]%10([C@H]([C@@H]([C@@H]([C@@H](O%10)C)O)O)O)))NC(C)=O))[C@H](O)[C@@H](O)%11))NC(C)=O))O)O)O[C@H]%12([C@H]([C@@H]([C@@H]([C@@H](O%12)C)O)O)O)))NC(C)=O))[C@H](O)[C@@H](O)%13))NC(C)=O))O)O)O[C@H]%14([C@H]([C@@H]([C@@H]([C@@H](O%14)C)O)O)O)))NC(C)=O))[C@H](O)[C@@H](O)%15))NC(C)=O)\n",
      "[23:25:45] SMILES Parse Error: Failed parsing SMILES 'CC(C)=CCCC(\\C)=C/CCC(\\C)=C/CCC(/C)=C/CCC(/C)=C/CCC(/C)=C/CCC(/C)=C/CCC(/C)=C/CCC(/C)=C/CCC(/C)=C/CCC(/C)=C/COP(=O)([O-])OP([O-])(=O)O[C@@H]1([C@@H]([C@H]([C@H]([C@H](O1)CO)O)O[C@H]%15(O[C@H](CO)[C@H](O[C@H]2([C@@H]([C@H]([C@H]([C@H](O2)CO)O)O[C@H]3([C@@H]([C@H]([C@H]([C@H](O3)CO[C@H]4([C@@H]([C@H]([C@H]([C@H](O4)CO)O)O[C@H]%13(O[C@H](CO)[C@H](O[C@H]5([C@@H]([C@H]([C@H]([C@H](O5)CO)O)O[C@H]6([C@@H]([C@H]([C@H]([C@H](O6)CO[C@H]7([C@@H]([C@H]([C@H]([C@H](O7)CO)O)O[C@H]%11(O[C@H](CO)[C@H](O[C@H]8([C@@H]([C@H]([C@H]([C@H](O8)CO)O)O[C@H]9([C@@H]([C@H]([C@H]([C@H](O9)CO[R])O)O)O[C@H]%10([C@H]([C@@H]([C@@H]([C@@H](O%10)C)O)O)O)))NC(C)=O))[C@H](O)[C@@H](O)%11))NC(C)=O))O)O)O[C@H]%12([C@H]([C@@H]([C@@H]([C@@H](O%12)C)O)O)O)))NC(C)=O))[C@H](O)[C@@H](O)%13))NC(C)=O))O)O)O[C@H]%14([C@H]([C@@H]([C@@H]([C@@H](O%14)C)O)O)O)))NC(C)=O))[C@H](O)[C@@H](O)%15))NC(C)=O)' for input: 'CC(C)=CCCC(\\C)=C/CCC(\\C)=C/CCC(/C)=C/CCC(/C)=C/CCC(/C)=C/CCC(/C)=C/CCC(/C)=C/CCC(/C)=C/CCC(/C)=C/CCC(/C)=C/COP(=O)([O-])OP([O-])(=O)O[C@@H]1([C@@H]([C@H]([C@H]([C@H](O1)CO)O)O[C@H]%15(O[C@H](CO)[C@H](O[C@H]2([C@@H]([C@H]([C@H]([C@H](O2)CO)O)O[C@H]3([C@@H]([C@H]([C@H]([C@H](O3)CO[C@H]4([C@@H]([C@H]([C@H]([C@H](O4)CO)O)O[C@H]%13(O[C@H](CO)[C@H](O[C@H]5([C@@H]([C@H]([C@H]([C@H](O5)CO)O)O[C@H]6([C@@H]([C@H]([C@H]([C@H](O6)CO[C@H]7([C@@H]([C@H]([C@H]([C@H](O7)CO)O)O[C@H]%11(O[C@H](CO)[C@H](O[C@H]8([C@@H]([C@H]([C@H]([C@H](O8)CO)O)O[C@H]9([C@@H]([C@H]([C@H]([C@H](O9)CO[R])O)O)O[C@H]%10([C@H]([C@@H]([C@@H]([C@@H](O%10)C)O)O)O)))NC(C)=O))[C@H](O)[C@@H](O)%11))NC(C)=O))O)O)O[C@H]%12([C@H]([C@@H]([C@@H]([C@@H](O%12)C)O)O)O)))NC(C)=O))[C@H](O)[C@@H](O)%13))NC(C)=O))O)O)O[C@H]%14([C@H]([C@@H]([C@@H]([C@@H](O%14)C)O)O)O)))NC(C)=O))[C@H](O)[C@@H](O)%15))NC(C)=O)'\n"
     ]
    },
    {
     "name": "stdout",
     "output_type": "stream",
     "text": [
      "Python argument types in\n",
      "    FingeprintGenerator64.GetFingerprintAsNumPy(FingeprintGenerator64, NoneType)\n",
      "did not match C++ signature:\n",
      "    GetFingerprintAsNumPy(RDKit::FingerprintGenerator<unsigned long> const* self, RDKit::ROMol mol, boost::python::api::object fromAtoms=[], boost::python::api::object ignoreAtoms=[], int confId=-1, boost::python::api::object customAtomInvariants=[], boost::python::api::object customBondInvariants=[], boost::python::api::object additionalOutput=None)\n"
     ]
    },
    {
     "name": "stderr",
     "output_type": "stream",
     "text": [
      "[23:25:49] WARNING: not removing hydrogen atom without neighbors\n",
      "[23:25:49] SMILES Parse Error: syntax error while parsing: CC(C)=CCCC(\\C)=C/CCC(\\C)=C/CCC(/C)=C/CCC(/C)=C/CCC(/C)=C/CCC(/C)=C/CCC(/C)=C/CCC(/C)=C/CCC(/C)=C/CCC(/C)=C/COP(=O)([O-])OP([O-])(=O)O[C@@H]%12([C@@H]([C@H]([C@H](O[C@H]%11(O[C@@H](C)[C@H](O)[C@@H](O[C@H]1([C@@H]([C@H]([C@H]2([C@H](O1)CO[C@@](C)(C(=O)[O-])O2))O[C@H]%10([C@@H]([C@H]([C@H](O[C@H]9(O[C@@H](C)[C@H](O)[C@@H](O[C@H]3([C@@H]([C@H]([C@H]4([C@H](O3)CO[C@@](C)(C(=O)[O-])O4))O[C@H]8([C@@H]([C@H]([C@H](O[C@H]7(O[C@@H](C)[C@H](O)[C@@H](O[C@H]5([C@@H]([C@H]([C@H]6([C@H](O5)CO[C@@](C)(C(=O)[O-])O6))O[R])NC(C)=O))[C@@H](O)7))[C@H](O8)CO)O)NC(C)=O))NC(C)=O))[C@@H](O)9))[C@H](O%10)CO)O)NC(C)=O))NC(C)=O))[C@@H](O)%11))[C@H](O%12)CO)O)NC(C)=O)\n",
      "[23:25:49] SMILES Parse Error: Failed parsing SMILES 'CC(C)=CCCC(\\C)=C/CCC(\\C)=C/CCC(/C)=C/CCC(/C)=C/CCC(/C)=C/CCC(/C)=C/CCC(/C)=C/CCC(/C)=C/CCC(/C)=C/CCC(/C)=C/COP(=O)([O-])OP([O-])(=O)O[C@@H]%12([C@@H]([C@H]([C@H](O[C@H]%11(O[C@@H](C)[C@H](O)[C@@H](O[C@H]1([C@@H]([C@H]([C@H]2([C@H](O1)CO[C@@](C)(C(=O)[O-])O2))O[C@H]%10([C@@H]([C@H]([C@H](O[C@H]9(O[C@@H](C)[C@H](O)[C@@H](O[C@H]3([C@@H]([C@H]([C@H]4([C@H](O3)CO[C@@](C)(C(=O)[O-])O4))O[C@H]8([C@@H]([C@H]([C@H](O[C@H]7(O[C@@H](C)[C@H](O)[C@@H](O[C@H]5([C@@H]([C@H]([C@H]6([C@H](O5)CO[C@@](C)(C(=O)[O-])O6))O[R])NC(C)=O))[C@@H](O)7))[C@H](O8)CO)O)NC(C)=O))NC(C)=O))[C@@H](O)9))[C@H](O%10)CO)O)NC(C)=O))NC(C)=O))[C@@H](O)%11))[C@H](O%12)CO)O)NC(C)=O)' for input: 'CC(C)=CCCC(\\C)=C/CCC(\\C)=C/CCC(/C)=C/CCC(/C)=C/CCC(/C)=C/CCC(/C)=C/CCC(/C)=C/CCC(/C)=C/CCC(/C)=C/CCC(/C)=C/COP(=O)([O-])OP([O-])(=O)O[C@@H]%12([C@@H]([C@H]([C@H](O[C@H]%11(O[C@@H](C)[C@H](O)[C@@H](O[C@H]1([C@@H]([C@H]([C@H]2([C@H](O1)CO[C@@](C)(C(=O)[O-])O2))O[C@H]%10([C@@H]([C@H]([C@H](O[C@H]9(O[C@@H](C)[C@H](O)[C@@H](O[C@H]3([C@@H]([C@H]([C@H]4([C@H](O3)CO[C@@](C)(C(=O)[O-])O4))O[C@H]8([C@@H]([C@H]([C@H](O[C@H]7(O[C@@H](C)[C@H](O)[C@@H](O[C@H]5([C@@H]([C@H]([C@H]6([C@H](O5)CO[C@@](C)(C(=O)[O-])O6))O[R])NC(C)=O))[C@@H](O)7))[C@H](O8)CO)O)NC(C)=O))NC(C)=O))[C@@H](O)9))[C@H](O%10)CO)O)NC(C)=O))NC(C)=O))[C@@H](O)%11))[C@H](O%12)CO)O)NC(C)=O)'\n"
     ]
    },
    {
     "name": "stdout",
     "output_type": "stream",
     "text": [
      "Python argument types in\n",
      "    FingeprintGenerator64.GetFingerprintAsNumPy(FingeprintGenerator64, NoneType)\n",
      "did not match C++ signature:\n",
      "    GetFingerprintAsNumPy(RDKit::FingerprintGenerator<unsigned long> const* self, RDKit::ROMol mol, boost::python::api::object fromAtoms=[], boost::python::api::object ignoreAtoms=[], int confId=-1, boost::python::api::object customAtomInvariants=[], boost::python::api::object customBondInvariants=[], boost::python::api::object additionalOutput=None)\n"
     ]
    },
    {
     "name": "stderr",
     "output_type": "stream",
     "text": [
      "[23:25:53] SMILES Parse Error: syntax error while parsing: CC(C)=CCCC(\\C)=C/CCC(\\C)=C/CCC(/C)=C/CCC(/C)=C/CCC(/C)=C/CCC(/C)=C/CCC(/C)=C/CCC(/C)=C/CCC(/C)=C/CCC(/C)=C/COP(=O)([O-])OP([O-])(=O)O[C@@H]1([C@@H]([C@H]([C@@H]([C@H](O1)CO)O)O[C@@H]9(O[C@@H](C)[C@@H](O)[C@@H](O[C@@H]8(O[C@H](CO)[C@H](O)[C@H](O)[C@@H](O[C@H]2([C@@H]([C@H]([C@@H]([C@H](O2)CO)O)O[C@@H]7(O[C@@H](C)[C@@H](O)[C@@H](O[C@@H]6(O[C@H](CO)[C@H](O)[C@H](O)[C@@H](O[C@H]3([C@@H]([C@H]([C@@H]([C@H](O3)CO)O)O[C@@H]5(O[C@@H](C)[C@@H](O)[C@@H](O[C@@H]4(O[C@H](CO)[C@H](O)[C@H](O)[C@@H](O[R])4))[C@H](NC(=O)C)5))NC(C)=O))6))[C@H](NC(=O)C)7))NC(C)=O))8))[C@H](NC(=O)C)9))NC(C)=O)\n",
      "[23:25:53] SMILES Parse Error: Failed parsing SMILES 'CC(C)=CCCC(\\C)=C/CCC(\\C)=C/CCC(/C)=C/CCC(/C)=C/CCC(/C)=C/CCC(/C)=C/CCC(/C)=C/CCC(/C)=C/CCC(/C)=C/CCC(/C)=C/COP(=O)([O-])OP([O-])(=O)O[C@@H]1([C@@H]([C@H]([C@@H]([C@H](O1)CO)O)O[C@@H]9(O[C@@H](C)[C@@H](O)[C@@H](O[C@@H]8(O[C@H](CO)[C@H](O)[C@H](O)[C@@H](O[C@H]2([C@@H]([C@H]([C@@H]([C@H](O2)CO)O)O[C@@H]7(O[C@@H](C)[C@@H](O)[C@@H](O[C@@H]6(O[C@H](CO)[C@H](O)[C@H](O)[C@@H](O[C@H]3([C@@H]([C@H]([C@@H]([C@H](O3)CO)O)O[C@@H]5(O[C@@H](C)[C@@H](O)[C@@H](O[C@@H]4(O[C@H](CO)[C@H](O)[C@H](O)[C@@H](O[R])4))[C@H](NC(=O)C)5))NC(C)=O))6))[C@H](NC(=O)C)7))NC(C)=O))8))[C@H](NC(=O)C)9))NC(C)=O)' for input: 'CC(C)=CCCC(\\C)=C/CCC(\\C)=C/CCC(/C)=C/CCC(/C)=C/CCC(/C)=C/CCC(/C)=C/CCC(/C)=C/CCC(/C)=C/CCC(/C)=C/CCC(/C)=C/COP(=O)([O-])OP([O-])(=O)O[C@@H]1([C@@H]([C@H]([C@@H]([C@H](O1)CO)O)O[C@@H]9(O[C@@H](C)[C@@H](O)[C@@H](O[C@@H]8(O[C@H](CO)[C@H](O)[C@H](O)[C@@H](O[C@H]2([C@@H]([C@H]([C@@H]([C@H](O2)CO)O)O[C@@H]7(O[C@@H](C)[C@@H](O)[C@@H](O[C@@H]6(O[C@H](CO)[C@H](O)[C@H](O)[C@@H](O[C@H]3([C@@H]([C@H]([C@@H]([C@H](O3)CO)O)O[C@@H]5(O[C@@H](C)[C@@H](O)[C@@H](O[C@@H]4(O[C@H](CO)[C@H](O)[C@H](O)[C@@H](O[R])4))[C@H](NC(=O)C)5))NC(C)=O))6))[C@H](NC(=O)C)7))NC(C)=O))8))[C@H](NC(=O)C)9))NC(C)=O)'\n",
      "[23:25:53] WARNING: not removing hydrogen atom without neighbors\n",
      " 34%|███████████████████████████████████████▉                                                                              | 1199/3538 [04:13<1:18:55,  2.02s/it]"
     ]
    },
    {
     "name": "stdout",
     "output_type": "stream",
     "text": [
      "Python argument types in\n",
      "    FingeprintGenerator64.GetFingerprintAsNumPy(FingeprintGenerator64, NoneType)\n",
      "did not match C++ signature:\n",
      "    GetFingerprintAsNumPy(RDKit::FingerprintGenerator<unsigned long> const* self, RDKit::ROMol mol, boost::python::api::object fromAtoms=[], boost::python::api::object ignoreAtoms=[], int confId=-1, boost::python::api::object customAtomInvariants=[], boost::python::api::object customBondInvariants=[], boost::python::api::object additionalOutput=None)\n"
     ]
    },
    {
     "name": "stderr",
     "output_type": "stream",
     "text": [
      "[23:25:57] WARNING: not removing hydrogen atom without neighbors\n",
      "[23:25:57] SMILES Parse Error: syntax error while parsing: CC(C)=CCCC(\\C)=C/CCC(\\C)=C/CCC(/C)=C/CCC(/C)=C/CCC(/C)=C/CCC(/C)=C/CCC(/C)=C/CCC(/C)=C/CCC(/C)=C/CCC(/C)=C/COP(=O)([O-])OP([O-])(=O)O[C@@H]1([C@@H]([C@H]([C@@H]([C@H](O1)CO)O)O[C@@H]%15(O[C@H](CO)[C@@H](O)[C@H](O)[C@@H](O[C@H]%14(O[C@H](COP(O[C@@H]2([C@@H]([C@H]([C@@H]([C@H](O2)CO)O[C@H]3(O[C@@H](C)[C@H](O)[C@@H](O)[C@@H](O)3))O[C@@H]4([C@@H]([C@H]([C@@H]([C@H](O4)CO)O)O[C@@H]%13(O[C@H](CO)[C@@H](O)[C@H](O)[C@@H](O[C@H]%12(O[C@H](COP(O[C@@H]5([C@@H]([C@H]([C@@H]([C@H](O5)CO)O[C@H]6(O[C@@H](C)[C@H](O)[C@@H](O)[C@@H](O)6))O[C@@H]7([C@@H]([C@H]([C@@H]([C@H](O7)CO)O)O[C@@H]%11(O[C@H](CO)[C@@H](O)[C@H](O)[C@@H](O[C@H]%10(O[C@H](COP(O[C@@H]8([C@@H]([C@H]([C@@H]([C@H](O8)CO)O[C@H]9(O[C@@H](C)[C@H](O)[C@@H](O)[C@@H](O)9))O[R])NC(C)=O))(=O)[O-])[C@@H](O)[C@H](O)[C@@H](O)%10))%11))NC(C)=O))NC(C)=O))(=O)[O-])[C@@H](O)[C@H](O)[C@@H](O)%12))%13))NC(C)=O))NC(C)=O))(=O)[O-])[C@@H](O)[C@H](O)[C@@H](O)%14))%15))NC(C)=O)\n",
      "[23:25:57] SMILES Parse Error: Failed parsing SMILES 'CC(C)=CCCC(\\C)=C/CCC(\\C)=C/CCC(/C)=C/CCC(/C)=C/CCC(/C)=C/CCC(/C)=C/CCC(/C)=C/CCC(/C)=C/CCC(/C)=C/CCC(/C)=C/COP(=O)([O-])OP([O-])(=O)O[C@@H]1([C@@H]([C@H]([C@@H]([C@H](O1)CO)O)O[C@@H]%15(O[C@H](CO)[C@@H](O)[C@H](O)[C@@H](O[C@H]%14(O[C@H](COP(O[C@@H]2([C@@H]([C@H]([C@@H]([C@H](O2)CO)O[C@H]3(O[C@@H](C)[C@H](O)[C@@H](O)[C@@H](O)3))O[C@@H]4([C@@H]([C@H]([C@@H]([C@H](O4)CO)O)O[C@@H]%13(O[C@H](CO)[C@@H](O)[C@H](O)[C@@H](O[C@H]%12(O[C@H](COP(O[C@@H]5([C@@H]([C@H]([C@@H]([C@H](O5)CO)O[C@H]6(O[C@@H](C)[C@H](O)[C@@H](O)[C@@H](O)6))O[C@@H]7([C@@H]([C@H]([C@@H]([C@H](O7)CO)O)O[C@@H]%11(O[C@H](CO)[C@@H](O)[C@H](O)[C@@H](O[C@H]%10(O[C@H](COP(O[C@@H]8([C@@H]([C@H]([C@@H]([C@H](O8)CO)O[C@H]9(O[C@@H](C)[C@H](O)[C@@H](O)[C@@H](O)9))O[R])NC(C)=O))(=O)[O-])[C@@H](O)[C@H](O)[C@@H](O)%10))%11))NC(C)=O))NC(C)=O))(=O)[O-])[C@@H](O)[C@H](O)[C@@H](O)%12))%13))NC(C)=O))NC(C)=O))(=O)[O-])[C@@H](O)[C@H](O)[C@@H](O)%14))%15))NC(C)=O)' for input: 'CC(C)=CCCC(\\C)=C/CCC(\\C)=C/CCC(/C)=C/CCC(/C)=C/CCC(/C)=C/CCC(/C)=C/CCC(/C)=C/CCC(/C)=C/CCC(/C)=C/CCC(/C)=C/COP(=O)([O-])OP([O-])(=O)O[C@@H]1([C@@H]([C@H]([C@@H]([C@H](O1)CO)O)O[C@@H]%15(O[C@H](CO)[C@@H](O)[C@H](O)[C@@H](O[C@H]%14(O[C@H](COP(O[C@@H]2([C@@H]([C@H]([C@@H]([C@H](O2)CO)O[C@H]3(O[C@@H](C)[C@H](O)[C@@H](O)[C@@H](O)3))O[C@@H]4([C@@H]([C@H]([C@@H]([C@H](O4)CO)O)O[C@@H]%13(O[C@H](CO)[C@@H](O)[C@H](O)[C@@H](O[C@H]%12(O[C@H](COP(O[C@@H]5([C@@H]([C@H]([C@@H]([C@H](O5)CO)O[C@H]6(O[C@@H](C)[C@H](O)[C@@H](O)[C@@H](O)6))O[C@@H]7([C@@H]([C@H]([C@@H]([C@H](O7)CO)O)O[C@@H]%11(O[C@H](CO)[C@@H](O)[C@H](O)[C@@H](O[C@H]%10(O[C@H](COP(O[C@@H]8([C@@H]([C@H]([C@@H]([C@H](O8)CO)O[C@H]9(O[C@@H](C)[C@H](O)[C@@H](O)[C@@H](O)9))O[R])NC(C)=O))(=O)[O-])[C@@H](O)[C@H](O)[C@@H](O)%10))%11))NC(C)=O))NC(C)=O))(=O)[O-])[C@@H](O)[C@H](O)[C@@H](O)%12))%13))NC(C)=O))NC(C)=O))(=O)[O-])[C@@H](O)[C@H](O)[C@@H](O)%14))%15))NC(C)=O)'\n",
      " 34%|████████████████████████████████████████                                                                              | 1200/3538 [04:17<1:26:28,  2.22s/it]"
     ]
    },
    {
     "name": "stdout",
     "output_type": "stream",
     "text": [
      "Python argument types in\n",
      "    FingeprintGenerator64.GetFingerprintAsNumPy(FingeprintGenerator64, NoneType)\n",
      "did not match C++ signature:\n",
      "    GetFingerprintAsNumPy(RDKit::FingerprintGenerator<unsigned long> const* self, RDKit::ROMol mol, boost::python::api::object fromAtoms=[], boost::python::api::object ignoreAtoms=[], int confId=-1, boost::python::api::object customAtomInvariants=[], boost::python::api::object customBondInvariants=[], boost::python::api::object additionalOutput=None)\n"
     ]
    },
    {
     "name": "stderr",
     "output_type": "stream",
     "text": [
      "[23:26:01] SMILES Parse Error: syntax error while parsing: CC(C)=CCCC(\\C)=C/CCC(\\C)=C/CCC(/C)=C/CCC(/C)=C/CCC(/C)=C/CCC(/C)=C/CCC(/C)=C/CCC(/C)=C/CCC(/C)=C/CCC(/C)=C/COP(=O)([O-])OP([O-])(=O)O[C@@H]1([C@@H]([C@H]([C@H]([C@H](O1)CO)O)O[C@@H]%12(O[C@H](CO)[C@@H](O[C@H]2([C@H]([C@@H]([C@@H]([C@@H](O2)C)O)O[C@@H]3([C@H]([C@H]([C@@H]([C@H](O3)C)NC(=O)C)O)O[C@@H]4([C@@H]([C@H]([C@H]([C@H](O4)CO)O)O[C@@H]%11(O[C@H](CO)[C@@H](O[C@H]5([C@H]([C@@H]([C@@H]([C@@H](O5)C)O)O[C@@H]6([C@H]([C@H]([C@@H]([C@H](O6)C)NC(=O)C)O)O[C@@H]7([C@@H]([C@H]([C@H]([C@H](O7)CO)O)O[C@@H]%10(O[C@H](CO)[C@@H](O[C@H]8([C@H]([C@@H]([C@@H]([C@@H](O8)C)O)O[C@@H]9([C@H]([C@H]([C@@H]([C@H](O9)C)NC(=O)C)O)O[R]))O))[C@H](O)[C@@H](O)%10))NC(C)=O)))O))[C@H](O)[C@@H](O)%11))NC(C)=O)))O))[C@H](O)[C@@H](O)%12))NC(C)=O)\n",
      "[23:26:01] SMILES Parse Error: Failed parsing SMILES 'CC(C)=CCCC(\\C)=C/CCC(\\C)=C/CCC(/C)=C/CCC(/C)=C/CCC(/C)=C/CCC(/C)=C/CCC(/C)=C/CCC(/C)=C/CCC(/C)=C/CCC(/C)=C/COP(=O)([O-])OP([O-])(=O)O[C@@H]1([C@@H]([C@H]([C@H]([C@H](O1)CO)O)O[C@@H]%12(O[C@H](CO)[C@@H](O[C@H]2([C@H]([C@@H]([C@@H]([C@@H](O2)C)O)O[C@@H]3([C@H]([C@H]([C@@H]([C@H](O3)C)NC(=O)C)O)O[C@@H]4([C@@H]([C@H]([C@H]([C@H](O4)CO)O)O[C@@H]%11(O[C@H](CO)[C@@H](O[C@H]5([C@H]([C@@H]([C@@H]([C@@H](O5)C)O)O[C@@H]6([C@H]([C@H]([C@@H]([C@H](O6)C)NC(=O)C)O)O[C@@H]7([C@@H]([C@H]([C@H]([C@H](O7)CO)O)O[C@@H]%10(O[C@H](CO)[C@@H](O[C@H]8([C@H]([C@@H]([C@@H]([C@@H](O8)C)O)O[C@@H]9([C@H]([C@H]([C@@H]([C@H](O9)C)NC(=O)C)O)O[R]))O))[C@H](O)[C@@H](O)%10))NC(C)=O)))O))[C@H](O)[C@@H](O)%11))NC(C)=O)))O))[C@H](O)[C@@H](O)%12))NC(C)=O)' for input: 'CC(C)=CCCC(\\C)=C/CCC(\\C)=C/CCC(/C)=C/CCC(/C)=C/CCC(/C)=C/CCC(/C)=C/CCC(/C)=C/CCC(/C)=C/CCC(/C)=C/CCC(/C)=C/COP(=O)([O-])OP([O-])(=O)O[C@@H]1([C@@H]([C@H]([C@H]([C@H](O1)CO)O)O[C@@H]%12(O[C@H](CO)[C@@H](O[C@H]2([C@H]([C@@H]([C@@H]([C@@H](O2)C)O)O[C@@H]3([C@H]([C@H]([C@@H]([C@H](O3)C)NC(=O)C)O)O[C@@H]4([C@@H]([C@H]([C@H]([C@H](O4)CO)O)O[C@@H]%11(O[C@H](CO)[C@@H](O[C@H]5([C@H]([C@@H]([C@@H]([C@@H](O5)C)O)O[C@@H]6([C@H]([C@H]([C@@H]([C@H](O6)C)NC(=O)C)O)O[C@@H]7([C@@H]([C@H]([C@H]([C@H](O7)CO)O)O[C@@H]%10(O[C@H](CO)[C@@H](O[C@H]8([C@H]([C@@H]([C@@H]([C@@H](O8)C)O)O[C@@H]9([C@H]([C@H]([C@@H]([C@H](O9)C)NC(=O)C)O)O[R]))O))[C@H](O)[C@@H](O)%10))NC(C)=O)))O))[C@H](O)[C@@H](O)%11))NC(C)=O)))O))[C@H](O)[C@@H](O)%12))NC(C)=O)'\n",
      "[23:26:01] WARNING: not removing hydrogen atom without neighbors\n"
     ]
    },
    {
     "name": "stdout",
     "output_type": "stream",
     "text": [
      "Python argument types in\n",
      "    FingeprintGenerator64.GetFingerprintAsNumPy(FingeprintGenerator64, NoneType)\n",
      "did not match C++ signature:\n",
      "    GetFingerprintAsNumPy(RDKit::FingerprintGenerator<unsigned long> const* self, RDKit::ROMol mol, boost::python::api::object fromAtoms=[], boost::python::api::object ignoreAtoms=[], int confId=-1, boost::python::api::object customAtomInvariants=[], boost::python::api::object customBondInvariants=[], boost::python::api::object additionalOutput=None)\n"
     ]
    },
    {
     "name": "stderr",
     "output_type": "stream",
     "text": [
      "[23:26:05] SMILES Parse Error: syntax error while parsing: CC(C)=CCCC(\\C)=C/CCC(\\C)=C/CCC(/C)=C/CCC(/C)=C/CCC(/C)=C/CCC(/C)=C/CCC(/C)=C/CCC(/C)=C/CCC(/C)=C/CCC(/C)=C/COP(OP(=O)([O-])O[C@@H]1([C@@H]([C@H]([C@H]([C@H](O1)CO)O)O[C@H]%18(O[C@H](CO)[C@@H](O)[C@H](O)[C@H](O[C@H]%17(O[C@H](CO[C@@H]2([C@@H]([C@H]([C@H]([C@H](O2)CO[C@@H]3(O[C@H](CO)[C@@H](O)[C@H](O)[C@@H](O)3))O[C@@H]4(O[C@H](C([O-])=O)[C@@H](O)[C@H](O)[C@@H](O)4))O[C@H]5([C@@H]([C@H]([C@H]([C@H](O5)CO)O)O[C@H]%16(O[C@H](CO)[C@@H](O)[C@H](O)[C@H](O[C@H]%15(O[C@H](CO[C@@H]6([C@@H]([C@H]([C@H]([C@H](O6)CO[C@@H]7(O[C@H](CO)[C@@H](O)[C@H](O)[C@@H](O)7))O[C@@H]8(O[C@H](C([O-])=O)[C@@H](O)[C@H](O)[C@@H](O)8))O[C@H]9([C@@H]([C@H]([C@H]([C@H](O9)CO)O)O[C@H]%14(O[C@H](CO)[C@@H](O)[C@H](O)[C@H](O[C@H]%13(O[C@H](CO[C@@H]%10([C@@H]([C@H]([C@H]([C@H](O%10)CO[C@@H]%11(O[C@H](CO)[C@@H](O)[C@H](O)[C@@H](O)%11))O[C@@H]%12(O[C@H](C([O-])=O)[C@@H](O)[C@H](O)[C@@H](O)%12))O[R])O))[C@@H](O)[C@H](O)[C@H](O)%13))%14))NC(C)=O))O))[C@@H](O)[C@H](O)[C@H](O)%15))%16))NC(C)=O))O))[C@@H](O)[C@H](O)[C@H](O)%17))%18))NC(C)=O))(O)=O\n",
      "[23:26:05] SMILES Parse Error: Failed parsing SMILES 'CC(C)=CCCC(\\C)=C/CCC(\\C)=C/CCC(/C)=C/CCC(/C)=C/CCC(/C)=C/CCC(/C)=C/CCC(/C)=C/CCC(/C)=C/CCC(/C)=C/CCC(/C)=C/COP(OP(=O)([O-])O[C@@H]1([C@@H]([C@H]([C@H]([C@H](O1)CO)O)O[C@H]%18(O[C@H](CO)[C@@H](O)[C@H](O)[C@H](O[C@H]%17(O[C@H](CO[C@@H]2([C@@H]([C@H]([C@H]([C@H](O2)CO[C@@H]3(O[C@H](CO)[C@@H](O)[C@H](O)[C@@H](O)3))O[C@@H]4(O[C@H](C([O-])=O)[C@@H](O)[C@H](O)[C@@H](O)4))O[C@H]5([C@@H]([C@H]([C@H]([C@H](O5)CO)O)O[C@H]%16(O[C@H](CO)[C@@H](O)[C@H](O)[C@H](O[C@H]%15(O[C@H](CO[C@@H]6([C@@H]([C@H]([C@H]([C@H](O6)CO[C@@H]7(O[C@H](CO)[C@@H](O)[C@H](O)[C@@H](O)7))O[C@@H]8(O[C@H](C([O-])=O)[C@@H](O)[C@H](O)[C@@H](O)8))O[C@H]9([C@@H]([C@H]([C@H]([C@H](O9)CO)O)O[C@H]%14(O[C@H](CO)[C@@H](O)[C@H](O)[C@H](O[C@H]%13(O[C@H](CO[C@@H]%10([C@@H]([C@H]([C@H]([C@H](O%10)CO[C@@H]%11(O[C@H](CO)[C@@H](O)[C@H](O)[C@@H](O)%11))O[C@@H]%12(O[C@H](C([O-])=O)[C@@H](O)[C@H](O)[C@@H](O)%12))O[R])O))[C@@H](O)[C@H](O)[C@H](O)%13))%14))NC(C)=O))O))[C@@H](O)[C@H](O)[C@H](O)%15))%16))NC(C)=O))O))[C@@H](O)[C@H](O)[C@H](O)%17))%18))NC(C)=O))(O)=O' for input: 'CC(C)=CCCC(\\C)=C/CCC(\\C)=C/CCC(/C)=C/CCC(/C)=C/CCC(/C)=C/CCC(/C)=C/CCC(/C)=C/CCC(/C)=C/CCC(/C)=C/CCC(/C)=C/COP(OP(=O)([O-])O[C@@H]1([C@@H]([C@H]([C@H]([C@H](O1)CO)O)O[C@H]%18(O[C@H](CO)[C@@H](O)[C@H](O)[C@H](O[C@H]%17(O[C@H](CO[C@@H]2([C@@H]([C@H]([C@H]([C@H](O2)CO[C@@H]3(O[C@H](CO)[C@@H](O)[C@H](O)[C@@H](O)3))O[C@@H]4(O[C@H](C([O-])=O)[C@@H](O)[C@H](O)[C@@H](O)4))O[C@H]5([C@@H]([C@H]([C@H]([C@H](O5)CO)O)O[C@H]%16(O[C@H](CO)[C@@H](O)[C@H](O)[C@H](O[C@H]%15(O[C@H](CO[C@@H]6([C@@H]([C@H]([C@H]([C@H](O6)CO[C@@H]7(O[C@H](CO)[C@@H](O)[C@H](O)[C@@H](O)7))O[C@@H]8(O[C@H](C([O-])=O)[C@@H](O)[C@H](O)[C@@H](O)8))O[C@H]9([C@@H]([C@H]([C@H]([C@H](O9)CO)O)O[C@H]%14(O[C@H](CO)[C@@H](O)[C@H](O)[C@H](O[C@H]%13(O[C@H](CO[C@@H]%10([C@@H]([C@H]([C@H]([C@H](O%10)CO[C@@H]%11(O[C@H](CO)[C@@H](O)[C@H](O)[C@@H](O)%11))O[C@@H]%12(O[C@H](C([O-])=O)[C@@H](O)[C@H](O)[C@@H](O)%12))O[R])O))[C@@H](O)[C@H](O)[C@H](O)%13))%14))NC(C)=O))O))[C@@H](O)[C@H](O)[C@H](O)%15))%16))NC(C)=O))O))[C@@H](O)[C@H](O)[C@H](O)%17))%18))NC(C)=O))(O)=O'\n",
      "[23:26:05] WARNING: not removing hydrogen atom without neighbors\n",
      " 34%|████████████████████████████████████████                                                                              | 1202/3538 [04:25<1:44:10,  2.68s/it]"
     ]
    },
    {
     "name": "stdout",
     "output_type": "stream",
     "text": [
      "Python argument types in\n",
      "    FingeprintGenerator64.GetFingerprintAsNumPy(FingeprintGenerator64, NoneType)\n",
      "did not match C++ signature:\n",
      "    GetFingerprintAsNumPy(RDKit::FingerprintGenerator<unsigned long> const* self, RDKit::ROMol mol, boost::python::api::object fromAtoms=[], boost::python::api::object ignoreAtoms=[], int confId=-1, boost::python::api::object customAtomInvariants=[], boost::python::api::object customBondInvariants=[], boost::python::api::object additionalOutput=None)\n"
     ]
    },
    {
     "name": "stderr",
     "output_type": "stream",
     "text": [
      "[23:26:09] SMILES Parse Error: syntax error while parsing: CC(C)=CCCC(\\C)=C/CCC(\\C)=C/CCC(/C)=C/CCC(/C)=C/CCC(/C)=C/CCC(/C)=C/CCC(/C)=C/CCC(/C)=C/CCC(/C)=C/CCC(/C)=C/COP(=O)([O-])OP([O-])(=O)O[C@@H]1([C@@H]([C@H]([C@@H]([C@H](O1)CO)O)O[C@@H]%12(O[C@@H](C)[C@@H](O)[C@@H](O[C@@H]%11(O[C@@H](C)[C@@H](O)[C@@H](O[C@@H]%10(O[C@@H](C)[C@H](O)[C@@H](O)[C@@H](O[C@H]2([C@@H]([C@H]([C@@H]([C@H](O2)CO)O)O[C@@H]9(O[C@@H](C)[C@@H](O)[C@@H](O[C@@H]8(O[C@@H](C)[C@@H](O)[C@@H](O[C@@H]7(O[C@@H](C)[C@H](O)[C@@H](O)[C@@H](O[C@H]3([C@@H]([C@H]([C@@H]([C@H](O3)CO)O)O[C@@H]6(O[C@@H](C)[C@@H](O)[C@@H](O[C@@H]5(O[C@@H](C)[C@@H](O)[C@@H](O[C@@H]4(O[C@@H](C)[C@H](O)[C@@H](O)[C@@H](O[R])4))[C@H](NC(=O)C)5))[C@H](NC(=O)C)6))NC(C)=O))7))[C@H](NC(=O)C)8))[C@H](NC(=O)C)9))NC(C)=O))%10))[C@H](NC(=O)C)%11))[C@H](NC(=O)C)%12))NC(C)=O)\n",
      "[23:26:09] SMILES Parse Error: Failed parsing SMILES 'CC(C)=CCCC(\\C)=C/CCC(\\C)=C/CCC(/C)=C/CCC(/C)=C/CCC(/C)=C/CCC(/C)=C/CCC(/C)=C/CCC(/C)=C/CCC(/C)=C/CCC(/C)=C/COP(=O)([O-])OP([O-])(=O)O[C@@H]1([C@@H]([C@H]([C@@H]([C@H](O1)CO)O)O[C@@H]%12(O[C@@H](C)[C@@H](O)[C@@H](O[C@@H]%11(O[C@@H](C)[C@@H](O)[C@@H](O[C@@H]%10(O[C@@H](C)[C@H](O)[C@@H](O)[C@@H](O[C@H]2([C@@H]([C@H]([C@@H]([C@H](O2)CO)O)O[C@@H]9(O[C@@H](C)[C@@H](O)[C@@H](O[C@@H]8(O[C@@H](C)[C@@H](O)[C@@H](O[C@@H]7(O[C@@H](C)[C@H](O)[C@@H](O)[C@@H](O[C@H]3([C@@H]([C@H]([C@@H]([C@H](O3)CO)O)O[C@@H]6(O[C@@H](C)[C@@H](O)[C@@H](O[C@@H]5(O[C@@H](C)[C@@H](O)[C@@H](O[C@@H]4(O[C@@H](C)[C@H](O)[C@@H](O)[C@@H](O[R])4))[C@H](NC(=O)C)5))[C@H](NC(=O)C)6))NC(C)=O))7))[C@H](NC(=O)C)8))[C@H](NC(=O)C)9))NC(C)=O))%10))[C@H](NC(=O)C)%11))[C@H](NC(=O)C)%12))NC(C)=O)' for input: 'CC(C)=CCCC(\\C)=C/CCC(\\C)=C/CCC(/C)=C/CCC(/C)=C/CCC(/C)=C/CCC(/C)=C/CCC(/C)=C/CCC(/C)=C/CCC(/C)=C/CCC(/C)=C/COP(=O)([O-])OP([O-])(=O)O[C@@H]1([C@@H]([C@H]([C@@H]([C@H](O1)CO)O)O[C@@H]%12(O[C@@H](C)[C@@H](O)[C@@H](O[C@@H]%11(O[C@@H](C)[C@@H](O)[C@@H](O[C@@H]%10(O[C@@H](C)[C@H](O)[C@@H](O)[C@@H](O[C@H]2([C@@H]([C@H]([C@@H]([C@H](O2)CO)O)O[C@@H]9(O[C@@H](C)[C@@H](O)[C@@H](O[C@@H]8(O[C@@H](C)[C@@H](O)[C@@H](O[C@@H]7(O[C@@H](C)[C@H](O)[C@@H](O)[C@@H](O[C@H]3([C@@H]([C@H]([C@@H]([C@H](O3)CO)O)O[C@@H]6(O[C@@H](C)[C@@H](O)[C@@H](O[C@@H]5(O[C@@H](C)[C@@H](O)[C@@H](O[C@@H]4(O[C@@H](C)[C@H](O)[C@@H](O)[C@@H](O[R])4))[C@H](NC(=O)C)5))[C@H](NC(=O)C)6))NC(C)=O))7))[C@H](NC(=O)C)8))[C@H](NC(=O)C)9))NC(C)=O))%10))[C@H](NC(=O)C)%11))[C@H](NC(=O)C)%12))NC(C)=O)'\n",
      "[23:26:09] WARNING: not removing hydrogen atom without neighbors\n"
     ]
    },
    {
     "name": "stdout",
     "output_type": "stream",
     "text": [
      "Python argument types in\n",
      "    FingeprintGenerator64.GetFingerprintAsNumPy(FingeprintGenerator64, NoneType)\n",
      "did not match C++ signature:\n",
      "    GetFingerprintAsNumPy(RDKit::FingerprintGenerator<unsigned long> const* self, RDKit::ROMol mol, boost::python::api::object fromAtoms=[], boost::python::api::object ignoreAtoms=[], int confId=-1, boost::python::api::object customAtomInvariants=[], boost::python::api::object customBondInvariants=[], boost::python::api::object additionalOutput=None)\n"
     ]
    },
    {
     "name": "stderr",
     "output_type": "stream",
     "text": [
      "[23:26:13] SMILES Parse Error: syntax error while parsing: CC(C)=CCCC(\\C)=C/CCC(\\C)=C/CCC(/C)=C/CCC(/C)=C/CCC(/C)=C/CCC(/C)=C/CCC(/C)=C/CCC(/C)=C/CCC(/C)=C/CCC(/C)=C/COP(=O)([O-])OP([O-])(=O)O[C@@H]1([C@@H]([C@H]([C@H]([C@H](O1)CO)O)O[C@H]%18(O[C@H](CO)[C@@H](O)[C@H](O)[C@H](O[C@H]%17(O[C@H](CO[C@@H]2([C@@H]([C@H]([C@H]([C@H](O2)CO)O[C@@H]4(O[C@H](C([O-])=O)[C@@H](O[C@H]3(O[C@H](CO)[C@@H](O)[C@@H](O)3))[C@H](O)[C@@H](O)4))O[C@H]5([C@@H]([C@H]([C@H]([C@H](O5)CO)O)O[C@H]%16(O[C@H](CO)[C@@H](O)[C@H](O)[C@H](O[C@H]%15(O[C@H](CO[C@@H]6([C@@H]([C@H]([C@H]([C@H](O6)CO)O[C@@H]8(O[C@H](C([O-])=O)[C@@H](O[C@H]7(O[C@H](CO)[C@@H](O)[C@@H](O)7))[C@H](O)[C@@H](O)8))O[C@H]9([C@@H]([C@H]([C@H]([C@H](O9)CO)O)O[C@H]%14(O[C@H](CO)[C@@H](O)[C@H](O)[C@H](O[C@H]%13(O[C@H](CO[C@@H]%10([C@@H]([C@H]([C@H]([C@H](O%10)CO)O[C@@H]%12(O[C@H](C([O-])=O)[C@@H](O[C@H]%11(O[C@H](CO)[C@@H](O)[C@@H](O)%11))[C@H](O)[C@@H](O)%12))O[R])O))[C@@H](O)[C@H](O)[C@H](O)%13))%14))NC(C)=O))O))[C@@H](O)[C@H](O)[C@H](O)%15))%16))NC(C)=O))O))[C@@H](O)[C@H](O)[C@H](O)%17))%18))NC(C)=O)\n",
      "[23:26:13] SMILES Parse Error: Failed parsing SMILES 'CC(C)=CCCC(\\C)=C/CCC(\\C)=C/CCC(/C)=C/CCC(/C)=C/CCC(/C)=C/CCC(/C)=C/CCC(/C)=C/CCC(/C)=C/CCC(/C)=C/CCC(/C)=C/COP(=O)([O-])OP([O-])(=O)O[C@@H]1([C@@H]([C@H]([C@H]([C@H](O1)CO)O)O[C@H]%18(O[C@H](CO)[C@@H](O)[C@H](O)[C@H](O[C@H]%17(O[C@H](CO[C@@H]2([C@@H]([C@H]([C@H]([C@H](O2)CO)O[C@@H]4(O[C@H](C([O-])=O)[C@@H](O[C@H]3(O[C@H](CO)[C@@H](O)[C@@H](O)3))[C@H](O)[C@@H](O)4))O[C@H]5([C@@H]([C@H]([C@H]([C@H](O5)CO)O)O[C@H]%16(O[C@H](CO)[C@@H](O)[C@H](O)[C@H](O[C@H]%15(O[C@H](CO[C@@H]6([C@@H]([C@H]([C@H]([C@H](O6)CO)O[C@@H]8(O[C@H](C([O-])=O)[C@@H](O[C@H]7(O[C@H](CO)[C@@H](O)[C@@H](O)7))[C@H](O)[C@@H](O)8))O[C@H]9([C@@H]([C@H]([C@H]([C@H](O9)CO)O)O[C@H]%14(O[C@H](CO)[C@@H](O)[C@H](O)[C@H](O[C@H]%13(O[C@H](CO[C@@H]%10([C@@H]([C@H]([C@H]([C@H](O%10)CO)O[C@@H]%12(O[C@H](C([O-])=O)[C@@H](O[C@H]%11(O[C@H](CO)[C@@H](O)[C@@H](O)%11))[C@H](O)[C@@H](O)%12))O[R])O))[C@@H](O)[C@H](O)[C@H](O)%13))%14))NC(C)=O))O))[C@@H](O)[C@H](O)[C@H](O)%15))%16))NC(C)=O))O))[C@@H](O)[C@H](O)[C@H](O)%17))%18))NC(C)=O)' for input: 'CC(C)=CCCC(\\C)=C/CCC(\\C)=C/CCC(/C)=C/CCC(/C)=C/CCC(/C)=C/CCC(/C)=C/CCC(/C)=C/CCC(/C)=C/CCC(/C)=C/CCC(/C)=C/COP(=O)([O-])OP([O-])(=O)O[C@@H]1([C@@H]([C@H]([C@H]([C@H](O1)CO)O)O[C@H]%18(O[C@H](CO)[C@@H](O)[C@H](O)[C@H](O[C@H]%17(O[C@H](CO[C@@H]2([C@@H]([C@H]([C@H]([C@H](O2)CO)O[C@@H]4(O[C@H](C([O-])=O)[C@@H](O[C@H]3(O[C@H](CO)[C@@H](O)[C@@H](O)3))[C@H](O)[C@@H](O)4))O[C@H]5([C@@H]([C@H]([C@H]([C@H](O5)CO)O)O[C@H]%16(O[C@H](CO)[C@@H](O)[C@H](O)[C@H](O[C@H]%15(O[C@H](CO[C@@H]6([C@@H]([C@H]([C@H]([C@H](O6)CO)O[C@@H]8(O[C@H](C([O-])=O)[C@@H](O[C@H]7(O[C@H](CO)[C@@H](O)[C@@H](O)7))[C@H](O)[C@@H](O)8))O[C@H]9([C@@H]([C@H]([C@H]([C@H](O9)CO)O)O[C@H]%14(O[C@H](CO)[C@@H](O)[C@H](O)[C@H](O[C@H]%13(O[C@H](CO[C@@H]%10([C@@H]([C@H]([C@H]([C@H](O%10)CO)O[C@@H]%12(O[C@H](C([O-])=O)[C@@H](O[C@H]%11(O[C@H](CO)[C@@H](O)[C@@H](O)%11))[C@H](O)[C@@H](O)%12))O[R])O))[C@@H](O)[C@H](O)[C@H](O)%13))%14))NC(C)=O))O))[C@@H](O)[C@H](O)[C@H](O)%15))%16))NC(C)=O))O))[C@@H](O)[C@H](O)[C@H](O)%17))%18))NC(C)=O)'\n",
      "[23:26:13] WARNING: not removing hydrogen atom without neighbors\n",
      " 34%|████████████████████████████████████████▏                                                                             | 1204/3538 [04:33<1:56:55,  3.01s/it]"
     ]
    },
    {
     "name": "stdout",
     "output_type": "stream",
     "text": [
      "Python argument types in\n",
      "    FingeprintGenerator64.GetFingerprintAsNumPy(FingeprintGenerator64, NoneType)\n",
      "did not match C++ signature:\n",
      "    GetFingerprintAsNumPy(RDKit::FingerprintGenerator<unsigned long> const* self, RDKit::ROMol mol, boost::python::api::object fromAtoms=[], boost::python::api::object ignoreAtoms=[], int confId=-1, boost::python::api::object customAtomInvariants=[], boost::python::api::object customBondInvariants=[], boost::python::api::object additionalOutput=None)\n"
     ]
    },
    {
     "name": "stderr",
     "output_type": "stream",
     "text": [
      "[23:26:17] WARNING: not removing hydrogen atom without neighbors\n",
      "[23:26:17] SMILES Parse Error: syntax error while parsing: CC(C)=CCCC(\\C)=C/CCC(\\C)=C/CCC(/C)=C/CCC(/C)=C/CCC(/C)=C/CCC(/C)=C/CCC(/C)=C/CCC(/C)=C/CCC(/C)=C/CCC(/C)=C/COP(=O)([O-])OP([O-])(=O)O[C@@H]1([C@@H]([C@H]([C@@H]([C@H](O1)CO)O)O[C@H]%15(O[C@H](CO)[C@H](O)[C@H](O)[C@@H](O[C@@H]%14(O[C@@H](C)[C@H](O)[C@@H](O)[C@@H](O[C@@H]%13(O[C@@H](C)[C@H](O)[C@@H](O)[C@@H](O[C@@H]%12(O[C@H](CO)[C@@H](O)[C@H](O[C@H]2([C@@H]([C@H]([C@@H]([C@H](O2)CO)O)O[C@H]%11(O[C@H](CO)[C@H](O)[C@H](O)[C@@H](O[C@@H]%10(O[C@@H](C)[C@H](O)[C@@H](O)[C@@H](O[C@@H]9(O[C@@H](C)[C@H](O)[C@@H](O)[C@@H](O[C@@H]8(O[C@H](CO)[C@@H](O)[C@H](O[C@H]3([C@@H]([C@H]([C@@H]([C@H](O3)CO)O)O[C@H]7(O[C@H](CO)[C@H](O)[C@H](O)[C@@H](O[C@@H]6(O[C@@H](C)[C@H](O)[C@@H](O)[C@@H](O[C@@H]5(O[C@@H](C)[C@H](O)[C@@H](O)[C@@H](O[C@@H]4(O[C@H](CO)[C@@H](O)[C@H](O[R])[C@H](NC(C)=O)4))5))6))7))NC(C)=O))[C@H](NC(C)=O)8))9))%10))%11))NC(C)=O))[C@H](NC(C)=O)%12))%13))%14))%15))NC(C)=O)\n",
      "[23:26:17] SMILES Parse Error: Failed parsing SMILES 'CC(C)=CCCC(\\C)=C/CCC(\\C)=C/CCC(/C)=C/CCC(/C)=C/CCC(/C)=C/CCC(/C)=C/CCC(/C)=C/CCC(/C)=C/CCC(/C)=C/CCC(/C)=C/COP(=O)([O-])OP([O-])(=O)O[C@@H]1([C@@H]([C@H]([C@@H]([C@H](O1)CO)O)O[C@H]%15(O[C@H](CO)[C@H](O)[C@H](O)[C@@H](O[C@@H]%14(O[C@@H](C)[C@H](O)[C@@H](O)[C@@H](O[C@@H]%13(O[C@@H](C)[C@H](O)[C@@H](O)[C@@H](O[C@@H]%12(O[C@H](CO)[C@@H](O)[C@H](O[C@H]2([C@@H]([C@H]([C@@H]([C@H](O2)CO)O)O[C@H]%11(O[C@H](CO)[C@H](O)[C@H](O)[C@@H](O[C@@H]%10(O[C@@H](C)[C@H](O)[C@@H](O)[C@@H](O[C@@H]9(O[C@@H](C)[C@H](O)[C@@H](O)[C@@H](O[C@@H]8(O[C@H](CO)[C@@H](O)[C@H](O[C@H]3([C@@H]([C@H]([C@@H]([C@H](O3)CO)O)O[C@H]7(O[C@H](CO)[C@H](O)[C@H](O)[C@@H](O[C@@H]6(O[C@@H](C)[C@H](O)[C@@H](O)[C@@H](O[C@@H]5(O[C@@H](C)[C@H](O)[C@@H](O)[C@@H](O[C@@H]4(O[C@H](CO)[C@@H](O)[C@H](O[R])[C@H](NC(C)=O)4))5))6))7))NC(C)=O))[C@H](NC(C)=O)8))9))%10))%11))NC(C)=O))[C@H](NC(C)=O)%12))%13))%14))%15))NC(C)=O)' for input: 'CC(C)=CCCC(\\C)=C/CCC(\\C)=C/CCC(/C)=C/CCC(/C)=C/CCC(/C)=C/CCC(/C)=C/CCC(/C)=C/CCC(/C)=C/CCC(/C)=C/CCC(/C)=C/COP(=O)([O-])OP([O-])(=O)O[C@@H]1([C@@H]([C@H]([C@@H]([C@H](O1)CO)O)O[C@H]%15(O[C@H](CO)[C@H](O)[C@H](O)[C@@H](O[C@@H]%14(O[C@@H](C)[C@H](O)[C@@H](O)[C@@H](O[C@@H]%13(O[C@@H](C)[C@H](O)[C@@H](O)[C@@H](O[C@@H]%12(O[C@H](CO)[C@@H](O)[C@H](O[C@H]2([C@@H]([C@H]([C@@H]([C@H](O2)CO)O)O[C@H]%11(O[C@H](CO)[C@H](O)[C@H](O)[C@@H](O[C@@H]%10(O[C@@H](C)[C@H](O)[C@@H](O)[C@@H](O[C@@H]9(O[C@@H](C)[C@H](O)[C@@H](O)[C@@H](O[C@@H]8(O[C@H](CO)[C@@H](O)[C@H](O[C@H]3([C@@H]([C@H]([C@@H]([C@H](O3)CO)O)O[C@H]7(O[C@H](CO)[C@H](O)[C@H](O)[C@@H](O[C@@H]6(O[C@@H](C)[C@H](O)[C@@H](O)[C@@H](O[C@@H]5(O[C@@H](C)[C@H](O)[C@@H](O)[C@@H](O[C@@H]4(O[C@H](CO)[C@@H](O)[C@H](O[R])[C@H](NC(C)=O)4))5))6))7))NC(C)=O))[C@H](NC(C)=O)8))9))%10))%11))NC(C)=O))[C@H](NC(C)=O)%12))%13))%14))%15))NC(C)=O)'\n",
      " 34%|████████████████████████████████████████▏                                                                             | 1205/3538 [04:37<2:01:40,  3.13s/it]"
     ]
    },
    {
     "name": "stdout",
     "output_type": "stream",
     "text": [
      "Python argument types in\n",
      "    FingeprintGenerator64.GetFingerprintAsNumPy(FingeprintGenerator64, NoneType)\n",
      "did not match C++ signature:\n",
      "    GetFingerprintAsNumPy(RDKit::FingerprintGenerator<unsigned long> const* self, RDKit::ROMol mol, boost::python::api::object fromAtoms=[], boost::python::api::object ignoreAtoms=[], int confId=-1, boost::python::api::object customAtomInvariants=[], boost::python::api::object customBondInvariants=[], boost::python::api::object additionalOutput=None)\n"
     ]
    },
    {
     "name": "stderr",
     "output_type": "stream",
     "text": [
      "[23:26:21] SMILES Parse Error: syntax error while parsing: CC(C)=CCCC(\\C)=C/CCC(\\C)=C/CCC(/C)=C/CCC(/C)=C/CCC(/C)=C/CCC(/C)=C/CCC(/C)=C/CCC(/C)=C/CCC(/C)=C/CCC(/C)=C/COP(=O)([O-])OP([O-])(=O)O[C@@H]%15([C@@H]([C@H]([C@H](O[C@H]%14(O[C@@H](C)[C@H](O)[C@@H](O[C@@H]%13(O[C@@H](C)[C@H](O)[C@@H](O)[C@@H](O[C@@H]%12(O[C@@H](C)[C@H](O)[C@@H](O[C@H]%10([C@@H]([C@H]([C@H](O[C@H]9(O[C@@H](C)[C@H](O)[C@@H](O[C@@H]8(O[C@@H](C)[C@H](O)[C@@H](O)[C@@H](O[C@@H]7(O[C@@H](C)[C@H](O)[C@@H](O[C@H]5([C@@H]([C@H]([C@H](O[C@H]4(O[C@@H](C)[C@H](O)[C@@H](O[C@@H]3(O[C@@H](C)[C@H](O)[C@@H](O)[C@@H](O[C@@H]2(O[C@@H](C)[C@H](O)[C@@H](O[R])[C@@H](O[C@H]1(O[C@H](C)[C@H](O)[C@H](NC(=O)C)[C@@H](O)1))2))3))[C@@H](O)4))[C@H](O5)CO)O)NC(C)=O))[C@@H](O[C@H]6(O[C@H](C)[C@H](O)[C@H](NC(=O)C)[C@@H](O)6))7))8))[C@@H](O)9))[C@H](O%10)CO)O)NC(C)=O))[C@@H](O[C@H]%11(O[C@H](C)[C@H](O)[C@H](NC(=O)C)[C@@H](O)%11))%12))%13))[C@@H](O)%14))[C@H](O%15)CO)O)NC(C)=O)\n",
      "[23:26:21] SMILES Parse Error: Failed parsing SMILES 'CC(C)=CCCC(\\C)=C/CCC(\\C)=C/CCC(/C)=C/CCC(/C)=C/CCC(/C)=C/CCC(/C)=C/CCC(/C)=C/CCC(/C)=C/CCC(/C)=C/CCC(/C)=C/COP(=O)([O-])OP([O-])(=O)O[C@@H]%15([C@@H]([C@H]([C@H](O[C@H]%14(O[C@@H](C)[C@H](O)[C@@H](O[C@@H]%13(O[C@@H](C)[C@H](O)[C@@H](O)[C@@H](O[C@@H]%12(O[C@@H](C)[C@H](O)[C@@H](O[C@H]%10([C@@H]([C@H]([C@H](O[C@H]9(O[C@@H](C)[C@H](O)[C@@H](O[C@@H]8(O[C@@H](C)[C@H](O)[C@@H](O)[C@@H](O[C@@H]7(O[C@@H](C)[C@H](O)[C@@H](O[C@H]5([C@@H]([C@H]([C@H](O[C@H]4(O[C@@H](C)[C@H](O)[C@@H](O[C@@H]3(O[C@@H](C)[C@H](O)[C@@H](O)[C@@H](O[C@@H]2(O[C@@H](C)[C@H](O)[C@@H](O[R])[C@@H](O[C@H]1(O[C@H](C)[C@H](O)[C@H](NC(=O)C)[C@@H](O)1))2))3))[C@@H](O)4))[C@H](O5)CO)O)NC(C)=O))[C@@H](O[C@H]6(O[C@H](C)[C@H](O)[C@H](NC(=O)C)[C@@H](O)6))7))8))[C@@H](O)9))[C@H](O%10)CO)O)NC(C)=O))[C@@H](O[C@H]%11(O[C@H](C)[C@H](O)[C@H](NC(=O)C)[C@@H](O)%11))%12))%13))[C@@H](O)%14))[C@H](O%15)CO)O)NC(C)=O)' for input: 'CC(C)=CCCC(\\C)=C/CCC(\\C)=C/CCC(/C)=C/CCC(/C)=C/CCC(/C)=C/CCC(/C)=C/CCC(/C)=C/CCC(/C)=C/CCC(/C)=C/CCC(/C)=C/COP(=O)([O-])OP([O-])(=O)O[C@@H]%15([C@@H]([C@H]([C@H](O[C@H]%14(O[C@@H](C)[C@H](O)[C@@H](O[C@@H]%13(O[C@@H](C)[C@H](O)[C@@H](O)[C@@H](O[C@@H]%12(O[C@@H](C)[C@H](O)[C@@H](O[C@H]%10([C@@H]([C@H]([C@H](O[C@H]9(O[C@@H](C)[C@H](O)[C@@H](O[C@@H]8(O[C@@H](C)[C@H](O)[C@@H](O)[C@@H](O[C@@H]7(O[C@@H](C)[C@H](O)[C@@H](O[C@H]5([C@@H]([C@H]([C@H](O[C@H]4(O[C@@H](C)[C@H](O)[C@@H](O[C@@H]3(O[C@@H](C)[C@H](O)[C@@H](O)[C@@H](O[C@@H]2(O[C@@H](C)[C@H](O)[C@@H](O[R])[C@@H](O[C@H]1(O[C@H](C)[C@H](O)[C@H](NC(=O)C)[C@@H](O)1))2))3))[C@@H](O)4))[C@H](O5)CO)O)NC(C)=O))[C@@H](O[C@H]6(O[C@H](C)[C@H](O)[C@H](NC(=O)C)[C@@H](O)6))7))8))[C@@H](O)9))[C@H](O%10)CO)O)NC(C)=O))[C@@H](O[C@H]%11(O[C@H](C)[C@H](O)[C@H](NC(=O)C)[C@@H](O)%11))%12))%13))[C@@H](O)%14))[C@H](O%15)CO)O)NC(C)=O)'\n",
      "[23:26:21] WARNING: not removing hydrogen atom without neighbors\n",
      " 34%|████████████████████████████████████████▏                                                                             | 1206/3538 [04:41<2:08:21,  3.30s/it]"
     ]
    },
    {
     "name": "stdout",
     "output_type": "stream",
     "text": [
      "Python argument types in\n",
      "    FingeprintGenerator64.GetFingerprintAsNumPy(FingeprintGenerator64, NoneType)\n",
      "did not match C++ signature:\n",
      "    GetFingerprintAsNumPy(RDKit::FingerprintGenerator<unsigned long> const* self, RDKit::ROMol mol, boost::python::api::object fromAtoms=[], boost::python::api::object ignoreAtoms=[], int confId=-1, boost::python::api::object customAtomInvariants=[], boost::python::api::object customBondInvariants=[], boost::python::api::object additionalOutput=None)\n"
     ]
    },
    {
     "name": "stderr",
     "output_type": "stream",
     "text": [
      "[23:26:25] WARNING: not removing hydrogen atom without neighbors\n",
      "[23:26:25] SMILES Parse Error: syntax error while parsing: CC(C)=CCCC(\\C)=C/CCC(\\C)=C/CCC(/C)=C/CCC(/C)=C/CCC(/C)=C/CCC(/C)=C/CCC(/C)=C/CCC(/C)=C/CCC(/C)=C/CCC(/C)=C/COP(=O)([O-])OP(O[C@@H]1([C@@H]([C@H]([C@H]([C@H](O1)CO)O)O[C@@H]%15(O[C@H](CO)[C@@H](O[C@@H]%13(O[C@H](CO)[C@H](O[C@@H]2(O[C@H](CO)[C@H](O)[C@H](O)[C@@H](O)2))[C@H](O[C@H]3([C@@H]([C@H]([C@H]([C@H](O3)CO)O)O[C@@H]%12(O[C@H](CO)[C@@H](O[C@@H]%10(O[C@H](CO)[C@H](O[C@@H]4(O[C@H](CO)[C@H](O)[C@H](O)[C@@H](O)4))[C@H](O[C@H]5([C@@H]([C@H]([C@H]([C@H](O5)CO)O)O[C@@H]9(O[C@H](CO)[C@@H](O[C@@H]7(O[C@H](CO)[C@H](O[C@@H]6(O[C@H](CO)[C@H](O)[C@H](O)[C@@H](O)6))[C@H](O[R])[C@@H](O)7))[C@H](O)[C@@H](O[C@H]8([C@@H]([C@H]([C@@H]([C@H](O8)CO)O)O)NC(C)=O))9))NC=O))[C@@H](O)%10))[C@H](O)[C@@H](O[C@H]%11([C@@H]([C@H]([C@@H]([C@H](O%11)CO)O)O)NC(C)=O))%12))NC=O))[C@@H](O)%13))[C@H](O)[C@@H](O[C@H]%14([C@@H]([C@H]([C@@H]([C@H](O%14)CO)O)O)NC(C)=O))%15))NC(C)=O))([O-])=O\n",
      "[23:26:25] SMILES Parse Error: Failed parsing SMILES 'CC(C)=CCCC(\\C)=C/CCC(\\C)=C/CCC(/C)=C/CCC(/C)=C/CCC(/C)=C/CCC(/C)=C/CCC(/C)=C/CCC(/C)=C/CCC(/C)=C/CCC(/C)=C/COP(=O)([O-])OP(O[C@@H]1([C@@H]([C@H]([C@H]([C@H](O1)CO)O)O[C@@H]%15(O[C@H](CO)[C@@H](O[C@@H]%13(O[C@H](CO)[C@H](O[C@@H]2(O[C@H](CO)[C@H](O)[C@H](O)[C@@H](O)2))[C@H](O[C@H]3([C@@H]([C@H]([C@H]([C@H](O3)CO)O)O[C@@H]%12(O[C@H](CO)[C@@H](O[C@@H]%10(O[C@H](CO)[C@H](O[C@@H]4(O[C@H](CO)[C@H](O)[C@H](O)[C@@H](O)4))[C@H](O[C@H]5([C@@H]([C@H]([C@H]([C@H](O5)CO)O)O[C@@H]9(O[C@H](CO)[C@@H](O[C@@H]7(O[C@H](CO)[C@H](O[C@@H]6(O[C@H](CO)[C@H](O)[C@H](O)[C@@H](O)6))[C@H](O[R])[C@@H](O)7))[C@H](O)[C@@H](O[C@H]8([C@@H]([C@H]([C@@H]([C@H](O8)CO)O)O)NC(C)=O))9))NC=O))[C@@H](O)%10))[C@H](O)[C@@H](O[C@H]%11([C@@H]([C@H]([C@@H]([C@H](O%11)CO)O)O)NC(C)=O))%12))NC=O))[C@@H](O)%13))[C@H](O)[C@@H](O[C@H]%14([C@@H]([C@H]([C@@H]([C@H](O%14)CO)O)O)NC(C)=O))%15))NC(C)=O))([O-])=O' for input: 'CC(C)=CCCC(\\C)=C/CCC(\\C)=C/CCC(/C)=C/CCC(/C)=C/CCC(/C)=C/CCC(/C)=C/CCC(/C)=C/CCC(/C)=C/CCC(/C)=C/CCC(/C)=C/COP(=O)([O-])OP(O[C@@H]1([C@@H]([C@H]([C@H]([C@H](O1)CO)O)O[C@@H]%15(O[C@H](CO)[C@@H](O[C@@H]%13(O[C@H](CO)[C@H](O[C@@H]2(O[C@H](CO)[C@H](O)[C@H](O)[C@@H](O)2))[C@H](O[C@H]3([C@@H]([C@H]([C@H]([C@H](O3)CO)O)O[C@@H]%12(O[C@H](CO)[C@@H](O[C@@H]%10(O[C@H](CO)[C@H](O[C@@H]4(O[C@H](CO)[C@H](O)[C@H](O)[C@@H](O)4))[C@H](O[C@H]5([C@@H]([C@H]([C@H]([C@H](O5)CO)O)O[C@@H]9(O[C@H](CO)[C@@H](O[C@@H]7(O[C@H](CO)[C@H](O[C@@H]6(O[C@H](CO)[C@H](O)[C@H](O)[C@@H](O)6))[C@H](O[R])[C@@H](O)7))[C@H](O)[C@@H](O[C@H]8([C@@H]([C@H]([C@@H]([C@H](O8)CO)O)O)NC(C)=O))9))NC=O))[C@@H](O)%10))[C@H](O)[C@@H](O[C@H]%11([C@@H]([C@H]([C@@H]([C@H](O%11)CO)O)O)NC(C)=O))%12))NC=O))[C@@H](O)%13))[C@H](O)[C@@H](O[C@H]%14([C@@H]([C@H]([C@@H]([C@H](O%14)CO)O)O)NC(C)=O))%15))NC(C)=O))([O-])=O'\n",
      " 34%|████████████████████████████████████████▎                                                                             | 1207/3538 [04:45<2:11:20,  3.38s/it]"
     ]
    },
    {
     "name": "stdout",
     "output_type": "stream",
     "text": [
      "Python argument types in\n",
      "    FingeprintGenerator64.GetFingerprintAsNumPy(FingeprintGenerator64, NoneType)\n",
      "did not match C++ signature:\n",
      "    GetFingerprintAsNumPy(RDKit::FingerprintGenerator<unsigned long> const* self, RDKit::ROMol mol, boost::python::api::object fromAtoms=[], boost::python::api::object ignoreAtoms=[], int confId=-1, boost::python::api::object customAtomInvariants=[], boost::python::api::object customBondInvariants=[], boost::python::api::object additionalOutput=None)\n"
     ]
    },
    {
     "name": "stderr",
     "output_type": "stream",
     "text": [
      "[23:26:29] SMILES Parse Error: syntax error while parsing: CC(C)=CCCC(\\C)=C/CCC(\\C)=C/CCC(/C)=C/CCC(/C)=C/CCC(/C)=C/CCC(/C)=C/CCC(/C)=C/CCC(/C)=C/CCC(/C)=C/CCC(/C)=C/COP(=O)([O-])OP([O-])(=O)O[C@@H]1([C@@H]([C@H]([C@H](O)[C@H](O1)COC(=O)C)O[C@@H]%12(O[C@@H](C)[C@H](O[C@H]%11([C@@H]([C@H]([C@@H](O[C@H]%10(O[C@H](C)[C@@H](NC(C[C@@H](O)C)=O)[C@H](O)[C@@H](O[C@H]2([C@@H]([C@H]([C@H](O)[C@H](O2)COC(=O)C)O[C@@H]9(O[C@@H](C)[C@H](O[C@H]8([C@@H]([C@H]([C@@H](O[C@H]7(O[C@H](C)[C@@H](NC(C[C@@H](O)C)=O)[C@H](O)[C@@H](O[C@H]3([C@@H]([C@H]([C@H](O)[C@H](O3)COC(=O)C)O[C@@H]6(O[C@@H](C)[C@H](O[C@H]5([C@@H]([C@H]([C@@H](O[C@H]4(O[C@H](C)[C@@H](NC(C[C@@H](O)C)=O)[C@H](O)[C@@H](O[R])4))[C@H](O5)CO)O)NC(=O)C))[C@@H](O)[C@@H](O)6))NC(C)=O))7))[C@H](O8)CO)O)NC(=O)C))[C@@H](O)[C@@H](O)9))NC(C)=O))%10))[C@H](O%11)CO)O)NC(=O)C))[C@@H](O)[C@@H](O)%12))NC(C)=O)\n",
      "[23:26:29] SMILES Parse Error: Failed parsing SMILES 'CC(C)=CCCC(\\C)=C/CCC(\\C)=C/CCC(/C)=C/CCC(/C)=C/CCC(/C)=C/CCC(/C)=C/CCC(/C)=C/CCC(/C)=C/CCC(/C)=C/CCC(/C)=C/COP(=O)([O-])OP([O-])(=O)O[C@@H]1([C@@H]([C@H]([C@H](O)[C@H](O1)COC(=O)C)O[C@@H]%12(O[C@@H](C)[C@H](O[C@H]%11([C@@H]([C@H]([C@@H](O[C@H]%10(O[C@H](C)[C@@H](NC(C[C@@H](O)C)=O)[C@H](O)[C@@H](O[C@H]2([C@@H]([C@H]([C@H](O)[C@H](O2)COC(=O)C)O[C@@H]9(O[C@@H](C)[C@H](O[C@H]8([C@@H]([C@H]([C@@H](O[C@H]7(O[C@H](C)[C@@H](NC(C[C@@H](O)C)=O)[C@H](O)[C@@H](O[C@H]3([C@@H]([C@H]([C@H](O)[C@H](O3)COC(=O)C)O[C@@H]6(O[C@@H](C)[C@H](O[C@H]5([C@@H]([C@H]([C@@H](O[C@H]4(O[C@H](C)[C@@H](NC(C[C@@H](O)C)=O)[C@H](O)[C@@H](O[R])4))[C@H](O5)CO)O)NC(=O)C))[C@@H](O)[C@@H](O)6))NC(C)=O))7))[C@H](O8)CO)O)NC(=O)C))[C@@H](O)[C@@H](O)9))NC(C)=O))%10))[C@H](O%11)CO)O)NC(=O)C))[C@@H](O)[C@@H](O)%12))NC(C)=O)' for input: 'CC(C)=CCCC(\\C)=C/CCC(\\C)=C/CCC(/C)=C/CCC(/C)=C/CCC(/C)=C/CCC(/C)=C/CCC(/C)=C/CCC(/C)=C/CCC(/C)=C/CCC(/C)=C/COP(=O)([O-])OP([O-])(=O)O[C@@H]1([C@@H]([C@H]([C@H](O)[C@H](O1)COC(=O)C)O[C@@H]%12(O[C@@H](C)[C@H](O[C@H]%11([C@@H]([C@H]([C@@H](O[C@H]%10(O[C@H](C)[C@@H](NC(C[C@@H](O)C)=O)[C@H](O)[C@@H](O[C@H]2([C@@H]([C@H]([C@H](O)[C@H](O2)COC(=O)C)O[C@@H]9(O[C@@H](C)[C@H](O[C@H]8([C@@H]([C@H]([C@@H](O[C@H]7(O[C@H](C)[C@@H](NC(C[C@@H](O)C)=O)[C@H](O)[C@@H](O[C@H]3([C@@H]([C@H]([C@H](O)[C@H](O3)COC(=O)C)O[C@@H]6(O[C@@H](C)[C@H](O[C@H]5([C@@H]([C@H]([C@@H](O[C@H]4(O[C@H](C)[C@@H](NC(C[C@@H](O)C)=O)[C@H](O)[C@@H](O[R])4))[C@H](O5)CO)O)NC(=O)C))[C@@H](O)[C@@H](O)6))NC(C)=O))7))[C@H](O8)CO)O)NC(=O)C))[C@@H](O)[C@@H](O)9))NC(C)=O))%10))[C@H](O%11)CO)O)NC(=O)C))[C@@H](O)[C@@H](O)%12))NC(C)=O)'\n",
      "[23:26:29] WARNING: not removing hydrogen atom without neighbors\n",
      " 34%|████████████████████████████████████████▎                                                                             | 1208/3538 [04:49<2:19:43,  3.60s/it]"
     ]
    },
    {
     "name": "stdout",
     "output_type": "stream",
     "text": [
      "Python argument types in\n",
      "    FingeprintGenerator64.GetFingerprintAsNumPy(FingeprintGenerator64, NoneType)\n",
      "did not match C++ signature:\n",
      "    GetFingerprintAsNumPy(RDKit::FingerprintGenerator<unsigned long> const* self, RDKit::ROMol mol, boost::python::api::object fromAtoms=[], boost::python::api::object ignoreAtoms=[], int confId=-1, boost::python::api::object customAtomInvariants=[], boost::python::api::object customBondInvariants=[], boost::python::api::object additionalOutput=None)\n"
     ]
    },
    {
     "name": "stderr",
     "output_type": "stream",
     "text": [
      "[23:26:33] SMILES Parse Error: syntax error while parsing: CC(C)=CCCC(\\C)=C/CCC(\\C)=C/CCC(/C)=C/CCC(/C)=C/CCC(/C)=C/CCC(/C)=C/CCC(/C)=C/CCC(/C)=C/CCC(/C)=C/CCC(/C)=C/COP(=O)([O-])OP([O-])(=O)O[C@@H]%12([C@@H]([C@H]([C@H](O[C@H]%11(O[C@@H](C)[C@H](O)[C@@H](O[C@@H]%10(O[C@@H](C)[C@H](O)[C@@H](O)[C@@H](O[C@@H]9(O[C@@H](C)[C@H](O)[C@@H](O[C@H]8([C@@H]([C@H]([C@H](O[C@H]7(O[C@@H](C)[C@H](O)[C@@H](O[C@@H]6(O[C@@H](C)[C@H](O)[C@@H](O)[C@@H](O[C@@H]5(O[C@@H](C)[C@H](O)[C@@H](O[C@H]4([C@@H]([C@H]([C@H](O[C@H]3(O[C@@H](C)[C@H](O)[C@@H](O[C@@H]2(O[C@@H](C)[C@H](O)[C@@H](O)[C@@H](O[C@@H]1(O[C@@H](C)[C@H](O)[C@@H](O[R])[C@@H](O)1))2))[C@@H](O)3))[C@H](O4)CO)O)NC(C)=O))[C@@H](O)5))6))[C@@H](O)7))[C@H](O8)CO)O)NC(C)=O))[C@@H](O)9))%10))[C@@H](O)%11))[C@H](O%12)CO)O)NC(C)=O)\n",
      "[23:26:33] SMILES Parse Error: Failed parsing SMILES 'CC(C)=CCCC(\\C)=C/CCC(\\C)=C/CCC(/C)=C/CCC(/C)=C/CCC(/C)=C/CCC(/C)=C/CCC(/C)=C/CCC(/C)=C/CCC(/C)=C/CCC(/C)=C/COP(=O)([O-])OP([O-])(=O)O[C@@H]%12([C@@H]([C@H]([C@H](O[C@H]%11(O[C@@H](C)[C@H](O)[C@@H](O[C@@H]%10(O[C@@H](C)[C@H](O)[C@@H](O)[C@@H](O[C@@H]9(O[C@@H](C)[C@H](O)[C@@H](O[C@H]8([C@@H]([C@H]([C@H](O[C@H]7(O[C@@H](C)[C@H](O)[C@@H](O[C@@H]6(O[C@@H](C)[C@H](O)[C@@H](O)[C@@H](O[C@@H]5(O[C@@H](C)[C@H](O)[C@@H](O[C@H]4([C@@H]([C@H]([C@H](O[C@H]3(O[C@@H](C)[C@H](O)[C@@H](O[C@@H]2(O[C@@H](C)[C@H](O)[C@@H](O)[C@@H](O[C@@H]1(O[C@@H](C)[C@H](O)[C@@H](O[R])[C@@H](O)1))2))[C@@H](O)3))[C@H](O4)CO)O)NC(C)=O))[C@@H](O)5))6))[C@@H](O)7))[C@H](O8)CO)O)NC(C)=O))[C@@H](O)9))%10))[C@@H](O)%11))[C@H](O%12)CO)O)NC(C)=O)' for input: 'CC(C)=CCCC(\\C)=C/CCC(\\C)=C/CCC(/C)=C/CCC(/C)=C/CCC(/C)=C/CCC(/C)=C/CCC(/C)=C/CCC(/C)=C/CCC(/C)=C/CCC(/C)=C/COP(=O)([O-])OP([O-])(=O)O[C@@H]%12([C@@H]([C@H]([C@H](O[C@H]%11(O[C@@H](C)[C@H](O)[C@@H](O[C@@H]%10(O[C@@H](C)[C@H](O)[C@@H](O)[C@@H](O[C@@H]9(O[C@@H](C)[C@H](O)[C@@H](O[C@H]8([C@@H]([C@H]([C@H](O[C@H]7(O[C@@H](C)[C@H](O)[C@@H](O[C@@H]6(O[C@@H](C)[C@H](O)[C@@H](O)[C@@H](O[C@@H]5(O[C@@H](C)[C@H](O)[C@@H](O[C@H]4([C@@H]([C@H]([C@H](O[C@H]3(O[C@@H](C)[C@H](O)[C@@H](O[C@@H]2(O[C@@H](C)[C@H](O)[C@@H](O)[C@@H](O[C@@H]1(O[C@@H](C)[C@H](O)[C@@H](O[R])[C@@H](O)1))2))[C@@H](O)3))[C@H](O4)CO)O)NC(C)=O))[C@@H](O)5))6))[C@@H](O)7))[C@H](O8)CO)O)NC(C)=O))[C@@H](O)9))%10))[C@@H](O)%11))[C@H](O%12)CO)O)NC(C)=O)'\n",
      "[23:26:33] WARNING: not removing hydrogen atom without neighbors\n",
      " 34%|████████████████████████████████████████▎                                                                             | 1209/3538 [04:53<2:21:50,  3.65s/it]"
     ]
    },
    {
     "name": "stdout",
     "output_type": "stream",
     "text": [
      "Python argument types in\n",
      "    FingeprintGenerator64.GetFingerprintAsNumPy(FingeprintGenerator64, NoneType)\n",
      "did not match C++ signature:\n",
      "    GetFingerprintAsNumPy(RDKit::FingerprintGenerator<unsigned long> const* self, RDKit::ROMol mol, boost::python::api::object fromAtoms=[], boost::python::api::object ignoreAtoms=[], int confId=-1, boost::python::api::object customAtomInvariants=[], boost::python::api::object customBondInvariants=[], boost::python::api::object additionalOutput=None)\n"
     ]
    },
    {
     "name": "stderr",
     "output_type": "stream",
     "text": [
      "[23:26:37] SMILES Parse Error: syntax error while parsing: CC(C)=CCCC(\\C)=C/CCC(\\C)=C/CCC(/C)=C/CCC(/C)=C/CCC(/C)=C/CCC(/C)=C/CCC(/C)=C/CCC(/C)=C/CCC(/C)=C/CCC(/C)=C/COP(=O)([O-])OP([O-])(=O)O[C@@H]1([C@@H]([C@H]([C@H]([C@H](O1)CO)O)O[C@H]%15(O[C@H](CO)[C@@H](O[C@@H]%14(O[C@@H](C)[C@H](O)[C@@H](O)[C@@H](O[C@@H]%13(O[C@@H](C)[C@H](O)[C@@H](O)[C@@H](O[C@H]2([C@@H]([C@H]([C@@H]([C@H](O2)CO)O)O[C@H]3([C@@H]([C@H]([C@H]([C@H](O3)CO)O)O[C@H]%12(O[C@H](CO)[C@@H](O[C@@H]%11(O[C@@H](C)[C@H](O)[C@@H](O)[C@@H](O[C@@H]%10(O[C@@H](C)[C@H](O)[C@@H](O)[C@@H](O[C@H]4([C@@H]([C@H]([C@@H]([C@H](O4)CO)O)O[C@H]5([C@@H]([C@H]([C@H]([C@H](O5)CO)O)O[C@H]9(O[C@H](CO)[C@@H](O[C@@H]8(O[C@@H](C)[C@H](O)[C@@H](O)[C@@H](O[C@@H]7(O[C@@H](C)[C@H](O)[C@@H](O)[C@@H](O[C@H]6([C@@H]([C@H]([C@@H]([C@H](O6)CO)O)O[R])NC(C)=O))7))8))[C@H](O)[C@@H](O)9))NC(C)=O))NC(C)=O))%10))%11))[C@H](O)[C@@H](O)%12))NC(C)=O))NC(C)=O))%13))%14))[C@H](O)[C@@H](O)%15))NC(C)=O)\n",
      "[23:26:37] SMILES Parse Error: Failed parsing SMILES 'CC(C)=CCCC(\\C)=C/CCC(\\C)=C/CCC(/C)=C/CCC(/C)=C/CCC(/C)=C/CCC(/C)=C/CCC(/C)=C/CCC(/C)=C/CCC(/C)=C/CCC(/C)=C/COP(=O)([O-])OP([O-])(=O)O[C@@H]1([C@@H]([C@H]([C@H]([C@H](O1)CO)O)O[C@H]%15(O[C@H](CO)[C@@H](O[C@@H]%14(O[C@@H](C)[C@H](O)[C@@H](O)[C@@H](O[C@@H]%13(O[C@@H](C)[C@H](O)[C@@H](O)[C@@H](O[C@H]2([C@@H]([C@H]([C@@H]([C@H](O2)CO)O)O[C@H]3([C@@H]([C@H]([C@H]([C@H](O3)CO)O)O[C@H]%12(O[C@H](CO)[C@@H](O[C@@H]%11(O[C@@H](C)[C@H](O)[C@@H](O)[C@@H](O[C@@H]%10(O[C@@H](C)[C@H](O)[C@@H](O)[C@@H](O[C@H]4([C@@H]([C@H]([C@@H]([C@H](O4)CO)O)O[C@H]5([C@@H]([C@H]([C@H]([C@H](O5)CO)O)O[C@H]9(O[C@H](CO)[C@@H](O[C@@H]8(O[C@@H](C)[C@H](O)[C@@H](O)[C@@H](O[C@@H]7(O[C@@H](C)[C@H](O)[C@@H](O)[C@@H](O[C@H]6([C@@H]([C@H]([C@@H]([C@H](O6)CO)O)O[R])NC(C)=O))7))8))[C@H](O)[C@@H](O)9))NC(C)=O))NC(C)=O))%10))%11))[C@H](O)[C@@H](O)%12))NC(C)=O))NC(C)=O))%13))%14))[C@H](O)[C@@H](O)%15))NC(C)=O)' for input: 'CC(C)=CCCC(\\C)=C/CCC(\\C)=C/CCC(/C)=C/CCC(/C)=C/CCC(/C)=C/CCC(/C)=C/CCC(/C)=C/CCC(/C)=C/CCC(/C)=C/CCC(/C)=C/COP(=O)([O-])OP([O-])(=O)O[C@@H]1([C@@H]([C@H]([C@H]([C@H](O1)CO)O)O[C@H]%15(O[C@H](CO)[C@@H](O[C@@H]%14(O[C@@H](C)[C@H](O)[C@@H](O)[C@@H](O[C@@H]%13(O[C@@H](C)[C@H](O)[C@@H](O)[C@@H](O[C@H]2([C@@H]([C@H]([C@@H]([C@H](O2)CO)O)O[C@H]3([C@@H]([C@H]([C@H]([C@H](O3)CO)O)O[C@H]%12(O[C@H](CO)[C@@H](O[C@@H]%11(O[C@@H](C)[C@H](O)[C@@H](O)[C@@H](O[C@@H]%10(O[C@@H](C)[C@H](O)[C@@H](O)[C@@H](O[C@H]4([C@@H]([C@H]([C@@H]([C@H](O4)CO)O)O[C@H]5([C@@H]([C@H]([C@H]([C@H](O5)CO)O)O[C@H]9(O[C@H](CO)[C@@H](O[C@@H]8(O[C@@H](C)[C@H](O)[C@@H](O)[C@@H](O[C@@H]7(O[C@@H](C)[C@H](O)[C@@H](O)[C@@H](O[C@H]6([C@@H]([C@H]([C@@H]([C@H](O6)CO)O)O[R])NC(C)=O))7))8))[C@H](O)[C@@H](O)9))NC(C)=O))NC(C)=O))%10))%11))[C@H](O)[C@@H](O)%12))NC(C)=O))NC(C)=O))%13))%14))[C@H](O)[C@@H](O)%15))NC(C)=O)'\n",
      "[23:26:37] WARNING: not removing hydrogen atom without neighbors\n",
      " 34%|████████████████████████████████████████▎                                                                             | 1210/3538 [04:57<2:22:44,  3.68s/it]"
     ]
    },
    {
     "name": "stdout",
     "output_type": "stream",
     "text": [
      "Python argument types in\n",
      "    FingeprintGenerator64.GetFingerprintAsNumPy(FingeprintGenerator64, NoneType)\n",
      "did not match C++ signature:\n",
      "    GetFingerprintAsNumPy(RDKit::FingerprintGenerator<unsigned long> const* self, RDKit::ROMol mol, boost::python::api::object fromAtoms=[], boost::python::api::object ignoreAtoms=[], int confId=-1, boost::python::api::object customAtomInvariants=[], boost::python::api::object customBondInvariants=[], boost::python::api::object additionalOutput=None)\n"
     ]
    },
    {
     "name": "stderr",
     "output_type": "stream",
     "text": [
      "[23:26:40] WARNING: not removing hydrogen atom without neighbors\n",
      "[23:26:41] SMILES Parse Error: syntax error while parsing: CC(C)=CCCC(\\C)=C/CCC(\\C)=C/CCC(/C)=C/CCC(/C)=C/CCC(/C)=C/CCC(/C)=C/CCC(/C)=C/CCC(/C)=C/CCC(/C)=C/CCC(/C)=C/COP(=O)([O-])OP([O-])(=O)O[C@@H]1([C@@H]([C@H]([C@H](O)[C@H](O1)CO)O[C@@H]8(O[C@@H]([C@@H](O)[C@H](O[C@@H]7(O[C@@H](C(C)O)[C@H](O[C@@H]6(O[C@@H]([C@@H](O)[C@H](O[C@@H]5(O[C@@H](C(C)O)[C@H](O[C@@H]4(O[C@@H]([C@@H](O)[C@H](O[C@@H]3(O[C@@H](C(C)O)[C@H](O[R]O[C@H]2(O[C@@H](C(C)O)[C@H](OC)[C@@H](O)2))[C@@H](O)3))[C@H](O)4)CCO))[C@@H](O)5))[C@H](O)6)CCO))[C@@H](O)7))[C@H](O)8)CCO))NC(C)=O)\n",
      "[23:26:41] SMILES Parse Error: Failed parsing SMILES 'CC(C)=CCCC(\\C)=C/CCC(\\C)=C/CCC(/C)=C/CCC(/C)=C/CCC(/C)=C/CCC(/C)=C/CCC(/C)=C/CCC(/C)=C/CCC(/C)=C/CCC(/C)=C/COP(=O)([O-])OP([O-])(=O)O[C@@H]1([C@@H]([C@H]([C@H](O)[C@H](O1)CO)O[C@@H]8(O[C@@H]([C@@H](O)[C@H](O[C@@H]7(O[C@@H](C(C)O)[C@H](O[C@@H]6(O[C@@H]([C@@H](O)[C@H](O[C@@H]5(O[C@@H](C(C)O)[C@H](O[C@@H]4(O[C@@H]([C@@H](O)[C@H](O[C@@H]3(O[C@@H](C(C)O)[C@H](O[R]O[C@H]2(O[C@@H](C(C)O)[C@H](OC)[C@@H](O)2))[C@@H](O)3))[C@H](O)4)CCO))[C@@H](O)5))[C@H](O)6)CCO))[C@@H](O)7))[C@H](O)8)CCO))NC(C)=O)' for input: 'CC(C)=CCCC(\\C)=C/CCC(\\C)=C/CCC(/C)=C/CCC(/C)=C/CCC(/C)=C/CCC(/C)=C/CCC(/C)=C/CCC(/C)=C/CCC(/C)=C/CCC(/C)=C/COP(=O)([O-])OP([O-])(=O)O[C@@H]1([C@@H]([C@H]([C@H](O)[C@H](O1)CO)O[C@@H]8(O[C@@H]([C@@H](O)[C@H](O[C@@H]7(O[C@@H](C(C)O)[C@H](O[C@@H]6(O[C@@H]([C@@H](O)[C@H](O[C@@H]5(O[C@@H](C(C)O)[C@H](O[C@@H]4(O[C@@H]([C@@H](O)[C@H](O[C@@H]3(O[C@@H](C(C)O)[C@H](O[R]O[C@H]2(O[C@@H](C(C)O)[C@H](OC)[C@@H](O)2))[C@@H](O)3))[C@H](O)4)CCO))[C@@H](O)5))[C@H](O)6)CCO))[C@@H](O)7))[C@H](O)8)CCO))NC(C)=O)'\n",
      " 34%|████████████████████████████████████████▍                                                                             | 1211/3538 [05:01<2:33:03,  3.95s/it]"
     ]
    },
    {
     "name": "stdout",
     "output_type": "stream",
     "text": [
      "Python argument types in\n",
      "    FingeprintGenerator64.GetFingerprintAsNumPy(FingeprintGenerator64, NoneType)\n",
      "did not match C++ signature:\n",
      "    GetFingerprintAsNumPy(RDKit::FingerprintGenerator<unsigned long> const* self, RDKit::ROMol mol, boost::python::api::object fromAtoms=[], boost::python::api::object ignoreAtoms=[], int confId=-1, boost::python::api::object customAtomInvariants=[], boost::python::api::object customBondInvariants=[], boost::python::api::object additionalOutput=None)\n"
     ]
    },
    {
     "name": "stderr",
     "output_type": "stream",
     "text": [
      "[23:26:45] WARNING: not removing hydrogen atom without neighbors\n",
      "[23:26:45] SMILES Parse Error: syntax error while parsing: CC(C)=CCCC(\\C)=C/CCC(\\C)=C/CCC(/C)=C/CCC(/C)=C/CCC(/C)=C/CCC(/C)=C/CCC(/C)=C/CCC(/C)=C/CCC(/C)=C/CCC(/C)=C/COP(=O)([O-])OP(O[C@H]1(O[C@@H]([C@@H]([C@@H]([C@H]1NC(=O)C)O[C@H]2(O[C@@H]([C@@H]([C@@H]([C@H]2O)O[C@@H]3(O[C@@H]([C@H]([C@@H]([C@H]3NC(=O)C)O[C@@H]4(O[C@@H]([C@@H]([C@@H]([C@H]4O[C@@H]5(O[C@H]([C@H](C[C@@H]5O)O)C))O)O)CO))O)CO[C@@H]6(O[C@@H]([C@@H]([C@@H]([C@H]6NC(=O)C)O[C@H]7(O[C@@H]([C@@H]([C@@H]([C@H]7O)O[C@@H]8(O[C@@H]([C@H]([C@@H]([C@H]8NC(=O)C)O[C@@H]9(O[C@@H]([C@@H]([C@@H]([C@H]9O[C@@H]%10(O[C@H]([C@H](C[C@@H]%10O)O)C))O)O)CO))O)CO[C@@H]%11(O[C@@H]([C@@H]([C@@H]([C@H]%11NC(=O)C)O[C@H]%12(O[C@@H]([C@@H]([C@@H]([C@H]%12O)O[C@@H]%13(O[C@@H]([C@H]([C@@H]([C@H]%13NC(=O)C)O[C@@H]%14(O[C@@H]([C@@H]([C@@H]([C@H]%14O[C@@H]%15(O[C@H]([C@H](C[C@@H]%15O)O)C))O)O)CO))O)CO))O)CO))O)CO)))O)CO))O)CO)))O)CO))O)CO))([O-])=O.C[R]\n",
      "[23:26:45] SMILES Parse Error: Failed parsing SMILES 'CC(C)=CCCC(\\C)=C/CCC(\\C)=C/CCC(/C)=C/CCC(/C)=C/CCC(/C)=C/CCC(/C)=C/CCC(/C)=C/CCC(/C)=C/CCC(/C)=C/CCC(/C)=C/COP(=O)([O-])OP(O[C@H]1(O[C@@H]([C@@H]([C@@H]([C@H]1NC(=O)C)O[C@H]2(O[C@@H]([C@@H]([C@@H]([C@H]2O)O[C@@H]3(O[C@@H]([C@H]([C@@H]([C@H]3NC(=O)C)O[C@@H]4(O[C@@H]([C@@H]([C@@H]([C@H]4O[C@@H]5(O[C@H]([C@H](C[C@@H]5O)O)C))O)O)CO))O)CO[C@@H]6(O[C@@H]([C@@H]([C@@H]([C@H]6NC(=O)C)O[C@H]7(O[C@@H]([C@@H]([C@@H]([C@H]7O)O[C@@H]8(O[C@@H]([C@H]([C@@H]([C@H]8NC(=O)C)O[C@@H]9(O[C@@H]([C@@H]([C@@H]([C@H]9O[C@@H]%10(O[C@H]([C@H](C[C@@H]%10O)O)C))O)O)CO))O)CO[C@@H]%11(O[C@@H]([C@@H]([C@@H]([C@H]%11NC(=O)C)O[C@H]%12(O[C@@H]([C@@H]([C@@H]([C@H]%12O)O[C@@H]%13(O[C@@H]([C@H]([C@@H]([C@H]%13NC(=O)C)O[C@@H]%14(O[C@@H]([C@@H]([C@@H]([C@H]%14O[C@@H]%15(O[C@H]([C@H](C[C@@H]%15O)O)C))O)O)CO))O)CO))O)CO))O)CO)))O)CO))O)CO)))O)CO))O)CO))([O-])=O.C[R]' for input: 'CC(C)=CCCC(\\C)=C/CCC(\\C)=C/CCC(/C)=C/CCC(/C)=C/CCC(/C)=C/CCC(/C)=C/CCC(/C)=C/CCC(/C)=C/CCC(/C)=C/CCC(/C)=C/COP(=O)([O-])OP(O[C@H]1(O[C@@H]([C@@H]([C@@H]([C@H]1NC(=O)C)O[C@H]2(O[C@@H]([C@@H]([C@@H]([C@H]2O)O[C@@H]3(O[C@@H]([C@H]([C@@H]([C@H]3NC(=O)C)O[C@@H]4(O[C@@H]([C@@H]([C@@H]([C@H]4O[C@@H]5(O[C@H]([C@H](C[C@@H]5O)O)C))O)O)CO))O)CO[C@@H]6(O[C@@H]([C@@H]([C@@H]([C@H]6NC(=O)C)O[C@H]7(O[C@@H]([C@@H]([C@@H]([C@H]7O)O[C@@H]8(O[C@@H]([C@H]([C@@H]([C@H]8NC(=O)C)O[C@@H]9(O[C@@H]([C@@H]([C@@H]([C@H]9O[C@@H]%10(O[C@H]([C@H](C[C@@H]%10O)O)C))O)O)CO))O)CO[C@@H]%11(O[C@@H]([C@@H]([C@@H]([C@H]%11NC(=O)C)O[C@H]%12(O[C@@H]([C@@H]([C@@H]([C@H]%12O)O[C@@H]%13(O[C@@H]([C@H]([C@@H]([C@H]%13NC(=O)C)O[C@@H]%14(O[C@@H]([C@@H]([C@@H]([C@H]%14O[C@@H]%15(O[C@H]([C@H](C[C@@H]%15O)O)C))O)O)CO))O)CO))O)CO))O)CO)))O)CO))O)CO)))O)CO))O)CO))([O-])=O.C[R]'\n",
      " 34%|████████████████████████████████████████▍                                                                             | 1212/3538 [05:05<2:33:25,  3.96s/it]"
     ]
    },
    {
     "name": "stdout",
     "output_type": "stream",
     "text": [
      "Python argument types in\n",
      "    FingeprintGenerator64.GetFingerprintAsNumPy(FingeprintGenerator64, NoneType)\n",
      "did not match C++ signature:\n",
      "    GetFingerprintAsNumPy(RDKit::FingerprintGenerator<unsigned long> const* self, RDKit::ROMol mol, boost::python::api::object fromAtoms=[], boost::python::api::object ignoreAtoms=[], int confId=-1, boost::python::api::object customAtomInvariants=[], boost::python::api::object customBondInvariants=[], boost::python::api::object additionalOutput=None)\n"
     ]
    },
    {
     "name": "stderr",
     "output_type": "stream",
     "text": [
      "[23:26:49] SMILES Parse Error: syntax error while parsing: CC(C)=CCCC(\\C)=C/CCC(\\C)=C/CCC(/C)=C/CCC(/C)=C/CCC(/C)=C/CCC(/C)=C/CCC(/C)=C/CCC(/C)=C/CCC(/C)=C/CCC(/C)=C/COP(=O)([O-])OP([O-])(=O)O[C@@H]1([C@@H]([C@H]([C@@H]([C@H](O1)CO)O)O[C@@H]%12(O[C@H](CO)[C@@H](O)[C@H](O[C@]2(C([O-])=O)(C[C@H](O)[C@@H](NC(C)=O)[C@@H](O2)[C@H](O)[C@H](O[C@H]3([C@@H]([C@H]([C@@H]([C@H](O3)CO)O)O[C@@H]%10(O[C@H](CO)[C@@H](O)[C@H](O[C@]4(C([O-])=O)(C[C@H](O)[C@@H](NC(C)=O)[C@@H](O4)[C@H](O)[C@H](O[C@H]5([C@@H]([C@H]([C@@H]([C@H](O5)CO)O)O[C@@H]8(O[C@H](CO)[C@@H](O)[C@H](O[C@]6(C([O-])=O)(C[C@H](O)[C@@H](NC(C)=O)[C@@H](O6)[C@H](O)[C@H](O[R])CO))[C@@H](O[C@H]7(O[C@H](CO)[C@H](O)[C@H](O)[C@@H](O)7))8))NC(C)=O))CO))[C@@H](O[C@H]9(O[C@H](CO)[C@H](O)[C@H](O)[C@@H](O)9))%10))NC(C)=O))CO))[C@@H](O[C@H]%11(O[C@H](CO)[C@H](O)[C@H](O)[C@@H](O)%11))%12))NC(C)=O)\n",
      "[23:26:49] SMILES Parse Error: Failed parsing SMILES 'CC(C)=CCCC(\\C)=C/CCC(\\C)=C/CCC(/C)=C/CCC(/C)=C/CCC(/C)=C/CCC(/C)=C/CCC(/C)=C/CCC(/C)=C/CCC(/C)=C/CCC(/C)=C/COP(=O)([O-])OP([O-])(=O)O[C@@H]1([C@@H]([C@H]([C@@H]([C@H](O1)CO)O)O[C@@H]%12(O[C@H](CO)[C@@H](O)[C@H](O[C@]2(C([O-])=O)(C[C@H](O)[C@@H](NC(C)=O)[C@@H](O2)[C@H](O)[C@H](O[C@H]3([C@@H]([C@H]([C@@H]([C@H](O3)CO)O)O[C@@H]%10(O[C@H](CO)[C@@H](O)[C@H](O[C@]4(C([O-])=O)(C[C@H](O)[C@@H](NC(C)=O)[C@@H](O4)[C@H](O)[C@H](O[C@H]5([C@@H]([C@H]([C@@H]([C@H](O5)CO)O)O[C@@H]8(O[C@H](CO)[C@@H](O)[C@H](O[C@]6(C([O-])=O)(C[C@H](O)[C@@H](NC(C)=O)[C@@H](O6)[C@H](O)[C@H](O[R])CO))[C@@H](O[C@H]7(O[C@H](CO)[C@H](O)[C@H](O)[C@@H](O)7))8))NC(C)=O))CO))[C@@H](O[C@H]9(O[C@H](CO)[C@H](O)[C@H](O)[C@@H](O)9))%10))NC(C)=O))CO))[C@@H](O[C@H]%11(O[C@H](CO)[C@H](O)[C@H](O)[C@@H](O)%11))%12))NC(C)=O)' for input: 'CC(C)=CCCC(\\C)=C/CCC(\\C)=C/CCC(/C)=C/CCC(/C)=C/CCC(/C)=C/CCC(/C)=C/CCC(/C)=C/CCC(/C)=C/CCC(/C)=C/CCC(/C)=C/COP(=O)([O-])OP([O-])(=O)O[C@@H]1([C@@H]([C@H]([C@@H]([C@H](O1)CO)O)O[C@@H]%12(O[C@H](CO)[C@@H](O)[C@H](O[C@]2(C([O-])=O)(C[C@H](O)[C@@H](NC(C)=O)[C@@H](O2)[C@H](O)[C@H](O[C@H]3([C@@H]([C@H]([C@@H]([C@H](O3)CO)O)O[C@@H]%10(O[C@H](CO)[C@@H](O)[C@H](O[C@]4(C([O-])=O)(C[C@H](O)[C@@H](NC(C)=O)[C@@H](O4)[C@H](O)[C@H](O[C@H]5([C@@H]([C@H]([C@@H]([C@H](O5)CO)O)O[C@@H]8(O[C@H](CO)[C@@H](O)[C@H](O[C@]6(C([O-])=O)(C[C@H](O)[C@@H](NC(C)=O)[C@@H](O6)[C@H](O)[C@H](O[R])CO))[C@@H](O[C@H]7(O[C@H](CO)[C@H](O)[C@H](O)[C@@H](O)7))8))NC(C)=O))CO))[C@@H](O[C@H]9(O[C@H](CO)[C@H](O)[C@H](O)[C@@H](O)9))%10))NC(C)=O))CO))[C@@H](O[C@H]%11(O[C@H](CO)[C@H](O)[C@H](O)[C@@H](O)%11))%12))NC(C)=O)'\n",
      "[23:26:49] WARNING: not removing hydrogen atom without neighbors\n",
      " 34%|████████████████████████████████████████▍                                                                             | 1213/3538 [05:10<2:37:53,  4.07s/it]"
     ]
    },
    {
     "name": "stdout",
     "output_type": "stream",
     "text": [
      "Python argument types in\n",
      "    FingeprintGenerator64.GetFingerprintAsNumPy(FingeprintGenerator64, NoneType)\n",
      "did not match C++ signature:\n",
      "    GetFingerprintAsNumPy(RDKit::FingerprintGenerator<unsigned long> const* self, RDKit::ROMol mol, boost::python::api::object fromAtoms=[], boost::python::api::object ignoreAtoms=[], int confId=-1, boost::python::api::object customAtomInvariants=[], boost::python::api::object customBondInvariants=[], boost::python::api::object additionalOutput=None)\n"
     ]
    },
    {
     "name": "stderr",
     "output_type": "stream",
     "text": [
      "[23:26:54] SMILES Parse Error: syntax error while parsing: CC(C)=CCCC(\\C)=C/CCC(\\C)=C/CCC(/C)=C/CCC(/C)=C/CCC(/C)=C/CCC(/C)=C/CCC(/C)=C/CCC(/C)=C/CCC(/C)=C/CCC(/C)=C/COP(=O)([O-])OP([O-])(=O)O[C@@H]1([C@@H]([C@H]([C@@H]([C@H](O1)CO)O)O[C@@H]%15(O[C@H](CO)[C@H](O[C@H]%14(O[C@@H]([C@@H](O)[C@H](O[C@@H]2(O[C@@H](C)[C@H](O)[C@@H](O)[C@@H](O)2))[C@H](O[C@@H]%13(O[C@H](C)[C@@H](NC(C)=O)[C@H](O[C@@H]3([C@@H]([C@H]([C@@H]([C@H](O3)CO)O)O[C@@H]%12(O[C@H](CO)[C@H](O[C@H]%11(O[C@@H]([C@@H](O)[C@H](O[C@@H]4(O[C@@H](C)[C@H](O)[C@@H](O)[C@@H](O)4))[C@H](O[C@@H]%10(O[C@H](C)[C@@H](NC(C)=O)[C@H](O[C@@H]5([C@@H]([C@H]([C@@H]([C@H](O5)CO)O)O[C@@H]9(O[C@H](CO)[C@H](O[C@H]8(O[C@@H]([C@@H](O)[C@H](O[C@@H]6(O[C@@H](C)[C@H](O)[C@@H](O)[C@@H](O)6))[C@H](O[C@@H]7(O[C@H](C)[C@@H](NC(C)=O)[C@H](O[R])[C@@H](O)7))8)CO))[C@H](O)[C@@H](O)9))NC=O))[C@@H](O)%10))%11)CO))[C@H](O)[C@@H](O)%12))NC=O))[C@@H](O)%13))%14)CO))[C@H](O)[C@@H](O)%15))NC(C)=O)\n",
      "[23:26:54] SMILES Parse Error: Failed parsing SMILES 'CC(C)=CCCC(\\C)=C/CCC(\\C)=C/CCC(/C)=C/CCC(/C)=C/CCC(/C)=C/CCC(/C)=C/CCC(/C)=C/CCC(/C)=C/CCC(/C)=C/CCC(/C)=C/COP(=O)([O-])OP([O-])(=O)O[C@@H]1([C@@H]([C@H]([C@@H]([C@H](O1)CO)O)O[C@@H]%15(O[C@H](CO)[C@H](O[C@H]%14(O[C@@H]([C@@H](O)[C@H](O[C@@H]2(O[C@@H](C)[C@H](O)[C@@H](O)[C@@H](O)2))[C@H](O[C@@H]%13(O[C@H](C)[C@@H](NC(C)=O)[C@H](O[C@@H]3([C@@H]([C@H]([C@@H]([C@H](O3)CO)O)O[C@@H]%12(O[C@H](CO)[C@H](O[C@H]%11(O[C@@H]([C@@H](O)[C@H](O[C@@H]4(O[C@@H](C)[C@H](O)[C@@H](O)[C@@H](O)4))[C@H](O[C@@H]%10(O[C@H](C)[C@@H](NC(C)=O)[C@H](O[C@@H]5([C@@H]([C@H]([C@@H]([C@H](O5)CO)O)O[C@@H]9(O[C@H](CO)[C@H](O[C@H]8(O[C@@H]([C@@H](O)[C@H](O[C@@H]6(O[C@@H](C)[C@H](O)[C@@H](O)[C@@H](O)6))[C@H](O[C@@H]7(O[C@H](C)[C@@H](NC(C)=O)[C@H](O[R])[C@@H](O)7))8)CO))[C@H](O)[C@@H](O)9))NC=O))[C@@H](O)%10))%11)CO))[C@H](O)[C@@H](O)%12))NC=O))[C@@H](O)%13))%14)CO))[C@H](O)[C@@H](O)%15))NC(C)=O)' for input: 'CC(C)=CCCC(\\C)=C/CCC(\\C)=C/CCC(/C)=C/CCC(/C)=C/CCC(/C)=C/CCC(/C)=C/CCC(/C)=C/CCC(/C)=C/CCC(/C)=C/CCC(/C)=C/COP(=O)([O-])OP([O-])(=O)O[C@@H]1([C@@H]([C@H]([C@@H]([C@H](O1)CO)O)O[C@@H]%15(O[C@H](CO)[C@H](O[C@H]%14(O[C@@H]([C@@H](O)[C@H](O[C@@H]2(O[C@@H](C)[C@H](O)[C@@H](O)[C@@H](O)2))[C@H](O[C@@H]%13(O[C@H](C)[C@@H](NC(C)=O)[C@H](O[C@@H]3([C@@H]([C@H]([C@@H]([C@H](O3)CO)O)O[C@@H]%12(O[C@H](CO)[C@H](O[C@H]%11(O[C@@H]([C@@H](O)[C@H](O[C@@H]4(O[C@@H](C)[C@H](O)[C@@H](O)[C@@H](O)4))[C@H](O[C@@H]%10(O[C@H](C)[C@@H](NC(C)=O)[C@H](O[C@@H]5([C@@H]([C@H]([C@@H]([C@H](O5)CO)O)O[C@@H]9(O[C@H](CO)[C@H](O[C@H]8(O[C@@H]([C@@H](O)[C@H](O[C@@H]6(O[C@@H](C)[C@H](O)[C@@H](O)[C@@H](O)6))[C@H](O[C@@H]7(O[C@H](C)[C@@H](NC(C)=O)[C@H](O[R])[C@@H](O)7))8)CO))[C@H](O)[C@@H](O)9))NC=O))[C@@H](O)%10))%11)CO))[C@H](O)[C@@H](O)%12))NC=O))[C@@H](O)%13))%14)CO))[C@H](O)[C@@H](O)%15))NC(C)=O)'\n",
      "[23:26:54] WARNING: not removing hydrogen atom without neighbors\n",
      " 34%|████████████████████████████████████████▍                                                                             | 1214/3538 [05:14<2:40:59,  4.16s/it]"
     ]
    },
    {
     "name": "stdout",
     "output_type": "stream",
     "text": [
      "Python argument types in\n",
      "    FingeprintGenerator64.GetFingerprintAsNumPy(FingeprintGenerator64, NoneType)\n",
      "did not match C++ signature:\n",
      "    GetFingerprintAsNumPy(RDKit::FingerprintGenerator<unsigned long> const* self, RDKit::ROMol mol, boost::python::api::object fromAtoms=[], boost::python::api::object ignoreAtoms=[], int confId=-1, boost::python::api::object customAtomInvariants=[], boost::python::api::object customBondInvariants=[], boost::python::api::object additionalOutput=None)\n"
     ]
    },
    {
     "name": "stderr",
     "output_type": "stream",
     "text": [
      "[23:26:58] SMILES Parse Error: syntax error while parsing: CC(C)=CCCC(\\C)=C/CCC(\\C)=C/CCC(/C)=C/CCC(/C)=C/CCC(/C)=C/CCC(/C)=C/CCC(/C)=C/CCC(/C)=C/CCC(/C)=C/CCC(/C)=C/COP(=O)([O-])OP([O-])(=O)O[C@@H]1([C@@H]([C@H]([C@H]([C@H](O1)CO)O)O[C@@H]%12(O[C@H](CO)[C@H](O[C@@H]%11(O[C@@H](C)[C@H](O)[C@@H](O[C@@H]%10([C@@H]([C@H]([C@H](O[C@@H]2([C@@H]([C@H]([C@H]([C@H](O2)CO)O)O[C@@H]9(O[C@H](CO)[C@H](O[C@@H]8(O[C@@H](C)[C@H](O)[C@@H](O[C@@H]7([C@@H]([C@H]([C@H](O[C@@H]3([C@@H]([C@H]([C@H]([C@H](O3)CO)O)O[C@@H]6(O[C@H](CO)[C@H](O[C@@H]5(O[C@@H](C)[C@H](O)[C@@H](O[C@@H]4([C@@H]([C@H]([C@H](O[R])[C@H](O4)C)NC(C)=O)O))[C@@H](O)5))[C@H](O)[C@@H](O)6))NC(C)=O))[C@H](O7)C)NC(C)=O)O))[C@@H](O)8))[C@H](O)[C@@H](O)9))NC(C)=O))[C@H](O%10)C)NC(C)=O)O))[C@@H](O)%11))[C@H](O)[C@@H](O)%12))NC(C)=O)\n",
      "[23:26:58] SMILES Parse Error: Failed parsing SMILES 'CC(C)=CCCC(\\C)=C/CCC(\\C)=C/CCC(/C)=C/CCC(/C)=C/CCC(/C)=C/CCC(/C)=C/CCC(/C)=C/CCC(/C)=C/CCC(/C)=C/CCC(/C)=C/COP(=O)([O-])OP([O-])(=O)O[C@@H]1([C@@H]([C@H]([C@H]([C@H](O1)CO)O)O[C@@H]%12(O[C@H](CO)[C@H](O[C@@H]%11(O[C@@H](C)[C@H](O)[C@@H](O[C@@H]%10([C@@H]([C@H]([C@H](O[C@@H]2([C@@H]([C@H]([C@H]([C@H](O2)CO)O)O[C@@H]9(O[C@H](CO)[C@H](O[C@@H]8(O[C@@H](C)[C@H](O)[C@@H](O[C@@H]7([C@@H]([C@H]([C@H](O[C@@H]3([C@@H]([C@H]([C@H]([C@H](O3)CO)O)O[C@@H]6(O[C@H](CO)[C@H](O[C@@H]5(O[C@@H](C)[C@H](O)[C@@H](O[C@@H]4([C@@H]([C@H]([C@H](O[R])[C@H](O4)C)NC(C)=O)O))[C@@H](O)5))[C@H](O)[C@@H](O)6))NC(C)=O))[C@H](O7)C)NC(C)=O)O))[C@@H](O)8))[C@H](O)[C@@H](O)9))NC(C)=O))[C@H](O%10)C)NC(C)=O)O))[C@@H](O)%11))[C@H](O)[C@@H](O)%12))NC(C)=O)' for input: 'CC(C)=CCCC(\\C)=C/CCC(\\C)=C/CCC(/C)=C/CCC(/C)=C/CCC(/C)=C/CCC(/C)=C/CCC(/C)=C/CCC(/C)=C/CCC(/C)=C/CCC(/C)=C/COP(=O)([O-])OP([O-])(=O)O[C@@H]1([C@@H]([C@H]([C@H]([C@H](O1)CO)O)O[C@@H]%12(O[C@H](CO)[C@H](O[C@@H]%11(O[C@@H](C)[C@H](O)[C@@H](O[C@@H]%10([C@@H]([C@H]([C@H](O[C@@H]2([C@@H]([C@H]([C@H]([C@H](O2)CO)O)O[C@@H]9(O[C@H](CO)[C@H](O[C@@H]8(O[C@@H](C)[C@H](O)[C@@H](O[C@@H]7([C@@H]([C@H]([C@H](O[C@@H]3([C@@H]([C@H]([C@H]([C@H](O3)CO)O)O[C@@H]6(O[C@H](CO)[C@H](O[C@@H]5(O[C@@H](C)[C@H](O)[C@@H](O[C@@H]4([C@@H]([C@H]([C@H](O[R])[C@H](O4)C)NC(C)=O)O))[C@@H](O)5))[C@H](O)[C@@H](O)6))NC(C)=O))[C@H](O7)C)NC(C)=O)O))[C@@H](O)8))[C@H](O)[C@@H](O)9))NC(C)=O))[C@H](O%10)C)NC(C)=O)O))[C@@H](O)%11))[C@H](O)[C@@H](O)%12))NC(C)=O)'\n",
      "[23:26:58] WARNING: not removing hydrogen atom without neighbors\n",
      " 34%|████████████████████████████████████████▌                                                                             | 1215/3538 [05:18<2:38:02,  4.08s/it]"
     ]
    },
    {
     "name": "stdout",
     "output_type": "stream",
     "text": [
      "Python argument types in\n",
      "    FingeprintGenerator64.GetFingerprintAsNumPy(FingeprintGenerator64, NoneType)\n",
      "did not match C++ signature:\n",
      "    GetFingerprintAsNumPy(RDKit::FingerprintGenerator<unsigned long> const* self, RDKit::ROMol mol, boost::python::api::object fromAtoms=[], boost::python::api::object ignoreAtoms=[], int confId=-1, boost::python::api::object customAtomInvariants=[], boost::python::api::object customBondInvariants=[], boost::python::api::object additionalOutput=None)\n"
     ]
    },
    {
     "name": "stderr",
     "output_type": "stream",
     "text": [
      "[23:27:02] WARNING: not removing hydrogen atom without neighbors\n",
      "[23:27:02] SMILES Parse Error: syntax error while parsing: CC(C)=CCCC(\\C)=C/CCC(\\C)=C/CCC(/C)=C/CCC(/C)=C/CCC(/C)=C/CCC(/C)=C/CCC(/C)=C/CCC(/C)=C/CCC(/C)=C/CCC(/C)=C/COP(=O)([O-])OP([O-])(=O)O[C@@H]1([C@@H]([C@H]([C@H](O)[C@H](O1)CO)O[C@@H]%12(O[C@H](CO)[C@@H](O)[C@H](O)[C@H](O[C@H]%11(O[C@H](CO)[C@@H](O)[C@H](O)[C@H](O[C@H]%10(O[C@H](CO[C@@H]2([C@@H]([C@H]([C@H](O)[C@H](O2)CO)O[C@@H]9(O[C@H](CO)[C@@H](O)[C@H](O)[C@H](O[C@H]8(O[C@H](CO)[C@@H](O)[C@H](O)[C@H](O[C@H]7(O[C@H](CO[C@@H]3([C@@H]([C@H]([C@H](O)[C@H](O3)CO)O[C@@H]6(O[C@H](CO)[C@@H](O)[C@H](O)[C@H](O[C@H]5(O[C@H](CO)[C@@H](O)[C@H](O)[C@H](O[C@H]4(O[C@H](CO[R])[C@@H](O)[C@H](O)[C@H](O)4))5))6))NC(C)=O))[C@@H](O)[C@H](O)[C@H](O)7))8))9))NC(C)=O))[C@@H](O)[C@H](O)[C@H](O)%10))%11))%12))NC(C)=O)\n",
      "[23:27:02] SMILES Parse Error: Failed parsing SMILES 'CC(C)=CCCC(\\C)=C/CCC(\\C)=C/CCC(/C)=C/CCC(/C)=C/CCC(/C)=C/CCC(/C)=C/CCC(/C)=C/CCC(/C)=C/CCC(/C)=C/CCC(/C)=C/COP(=O)([O-])OP([O-])(=O)O[C@@H]1([C@@H]([C@H]([C@H](O)[C@H](O1)CO)O[C@@H]%12(O[C@H](CO)[C@@H](O)[C@H](O)[C@H](O[C@H]%11(O[C@H](CO)[C@@H](O)[C@H](O)[C@H](O[C@H]%10(O[C@H](CO[C@@H]2([C@@H]([C@H]([C@H](O)[C@H](O2)CO)O[C@@H]9(O[C@H](CO)[C@@H](O)[C@H](O)[C@H](O[C@H]8(O[C@H](CO)[C@@H](O)[C@H](O)[C@H](O[C@H]7(O[C@H](CO[C@@H]3([C@@H]([C@H]([C@H](O)[C@H](O3)CO)O[C@@H]6(O[C@H](CO)[C@@H](O)[C@H](O)[C@H](O[C@H]5(O[C@H](CO)[C@@H](O)[C@H](O)[C@H](O[C@H]4(O[C@H](CO[R])[C@@H](O)[C@H](O)[C@H](O)4))5))6))NC(C)=O))[C@@H](O)[C@H](O)[C@H](O)7))8))9))NC(C)=O))[C@@H](O)[C@H](O)[C@H](O)%10))%11))%12))NC(C)=O)' for input: 'CC(C)=CCCC(\\C)=C/CCC(\\C)=C/CCC(/C)=C/CCC(/C)=C/CCC(/C)=C/CCC(/C)=C/CCC(/C)=C/CCC(/C)=C/CCC(/C)=C/CCC(/C)=C/COP(=O)([O-])OP([O-])(=O)O[C@@H]1([C@@H]([C@H]([C@H](O)[C@H](O1)CO)O[C@@H]%12(O[C@H](CO)[C@@H](O)[C@H](O)[C@H](O[C@H]%11(O[C@H](CO)[C@@H](O)[C@H](O)[C@H](O[C@H]%10(O[C@H](CO[C@@H]2([C@@H]([C@H]([C@H](O)[C@H](O2)CO)O[C@@H]9(O[C@H](CO)[C@@H](O)[C@H](O)[C@H](O[C@H]8(O[C@H](CO)[C@@H](O)[C@H](O)[C@H](O[C@H]7(O[C@H](CO[C@@H]3([C@@H]([C@H]([C@H](O)[C@H](O3)CO)O[C@@H]6(O[C@H](CO)[C@@H](O)[C@H](O)[C@H](O[C@H]5(O[C@H](CO)[C@@H](O)[C@H](O)[C@H](O[C@H]4(O[C@H](CO[R])[C@@H](O)[C@H](O)[C@H](O)4))5))6))NC(C)=O))[C@@H](O)[C@H](O)[C@H](O)7))8))9))NC(C)=O))[C@@H](O)[C@H](O)[C@H](O)%10))%11))%12))NC(C)=O)'\n",
      " 34%|████████████████████████████████████████▌                                                                             | 1216/3538 [05:22<2:36:14,  4.04s/it]"
     ]
    },
    {
     "name": "stdout",
     "output_type": "stream",
     "text": [
      "Python argument types in\n",
      "    FingeprintGenerator64.GetFingerprintAsNumPy(FingeprintGenerator64, NoneType)\n",
      "did not match C++ signature:\n",
      "    GetFingerprintAsNumPy(RDKit::FingerprintGenerator<unsigned long> const* self, RDKit::ROMol mol, boost::python::api::object fromAtoms=[], boost::python::api::object ignoreAtoms=[], int confId=-1, boost::python::api::object customAtomInvariants=[], boost::python::api::object customBondInvariants=[], boost::python::api::object additionalOutput=None)\n"
     ]
    },
    {
     "name": "stderr",
     "output_type": "stream",
     "text": [
      "[23:27:06] WARNING: not removing hydrogen atom without neighbors\n",
      "[23:27:06] SMILES Parse Error: syntax error while parsing: CC(C)=CCCC(\\C)=C/CCC(\\C)=C/CCC(/C)=C/CCC(/C)=C/CCC(/C)=C/CCC(/C)=C/CCC(/C)=C/CCC(/C)=C/CCC(/C)=C/CCC(/C)=C/COP(=O)([O-])OP([O-])(=O)O[C@@H]1([C@@H]([C@H]([C@H](O)[C@H](O1)CO)O[C@H]%13(O[C@H](CO)[C@@H](O)[C@H](O[C@H]%12(O[C@H](CO)[C@@H](O)[C@H](O[C@H]%11(O[C@H](CO)[C@@H](O)[C@H](O[C@H]%10(O[C@H](CO)[C@@H](O)[C@H](O)[C@H](O[C@H]9(O[C@H](CO)[C@@H](O)[C@H](O)[C@H](O[C@@H]8(O[C@H](CO)[C@@H](O)[C@H](O[C@H]7(O[C@H](CO)[C@@H](O)[C@H](O)[C@H](O[C@H]6(O[C@H](CO)[C@@H](O)[C@H](O)[C@H](O[C@@H]5(O[C@H](CO)[C@@H](O)[C@H](O[C@H]4(O[C@H](CO)[C@@H](O)[C@H](O)[C@H](O[C@H]3(O[C@H](CO)[C@@H](O)[C@H](O)[C@H](O[C@@H]2(O[C@H](CO)[C@@H](O)[C@H](O[R])[C@H](O)2))3))4))[C@H](O)5))6))7))[C@H](O)8))9))%10))[C@H](O)%11))[C@H](O)%12))[C@H](O)%13))NC(C)=O)\n",
      "[23:27:06] SMILES Parse Error: Failed parsing SMILES 'CC(C)=CCCC(\\C)=C/CCC(\\C)=C/CCC(/C)=C/CCC(/C)=C/CCC(/C)=C/CCC(/C)=C/CCC(/C)=C/CCC(/C)=C/CCC(/C)=C/CCC(/C)=C/COP(=O)([O-])OP([O-])(=O)O[C@@H]1([C@@H]([C@H]([C@H](O)[C@H](O1)CO)O[C@H]%13(O[C@H](CO)[C@@H](O)[C@H](O[C@H]%12(O[C@H](CO)[C@@H](O)[C@H](O[C@H]%11(O[C@H](CO)[C@@H](O)[C@H](O[C@H]%10(O[C@H](CO)[C@@H](O)[C@H](O)[C@H](O[C@H]9(O[C@H](CO)[C@@H](O)[C@H](O)[C@H](O[C@@H]8(O[C@H](CO)[C@@H](O)[C@H](O[C@H]7(O[C@H](CO)[C@@H](O)[C@H](O)[C@H](O[C@H]6(O[C@H](CO)[C@@H](O)[C@H](O)[C@H](O[C@@H]5(O[C@H](CO)[C@@H](O)[C@H](O[C@H]4(O[C@H](CO)[C@@H](O)[C@H](O)[C@H](O[C@H]3(O[C@H](CO)[C@@H](O)[C@H](O)[C@H](O[C@@H]2(O[C@H](CO)[C@@H](O)[C@H](O[R])[C@H](O)2))3))4))[C@H](O)5))6))7))[C@H](O)8))9))%10))[C@H](O)%11))[C@H](O)%12))[C@H](O)%13))NC(C)=O)' for input: 'CC(C)=CCCC(\\C)=C/CCC(\\C)=C/CCC(/C)=C/CCC(/C)=C/CCC(/C)=C/CCC(/C)=C/CCC(/C)=C/CCC(/C)=C/CCC(/C)=C/CCC(/C)=C/COP(=O)([O-])OP([O-])(=O)O[C@@H]1([C@@H]([C@H]([C@H](O)[C@H](O1)CO)O[C@H]%13(O[C@H](CO)[C@@H](O)[C@H](O[C@H]%12(O[C@H](CO)[C@@H](O)[C@H](O[C@H]%11(O[C@H](CO)[C@@H](O)[C@H](O[C@H]%10(O[C@H](CO)[C@@H](O)[C@H](O)[C@H](O[C@H]9(O[C@H](CO)[C@@H](O)[C@H](O)[C@H](O[C@@H]8(O[C@H](CO)[C@@H](O)[C@H](O[C@H]7(O[C@H](CO)[C@@H](O)[C@H](O)[C@H](O[C@H]6(O[C@H](CO)[C@@H](O)[C@H](O)[C@H](O[C@@H]5(O[C@H](CO)[C@@H](O)[C@H](O[C@H]4(O[C@H](CO)[C@@H](O)[C@H](O)[C@H](O[C@H]3(O[C@H](CO)[C@@H](O)[C@H](O)[C@H](O[C@@H]2(O[C@H](CO)[C@@H](O)[C@H](O[R])[C@H](O)2))3))4))[C@H](O)5))6))7))[C@H](O)8))9))%10))[C@H](O)%11))[C@H](O)%12))[C@H](O)%13))NC(C)=O)'\n",
      "[23:27:06] SMILES Parse Error: syntax error while parsing: CC(C)=CCCC(\\C)=C/CCC(\\C)=C/CCC(/C)=C/CCC(/C)=C/CCC(/C)=C/CCC(/C)=C/CCC(/C)=C/CCC(/C)=C/CCC(/C)=C/CCC(/C)=C/COP(=O)([O-])OP([O-])(=O)O[C@@H]1([C@@H]([C@H]([C@H](O)[C@H](O1)CO)O[C@H]%14(O[C@H](CO)[C@@H](O)[C@H](O[C@H]%13(O[C@H](CO)[C@@H](O)[C@H](O[C@H]%12(O[C@H](CO)[C@@H](O)[C@H](O[C@H]%11(O[C@H](CO)[C@@H](O)[C@H](O)[C@H](O[C@H]%10(O[C@H](CO)[C@@H](O)[C@H](O)[C@H](O[C@@H]9(O[C@H](CO)[C@@H](O)[C@H](O[C@H]8(O[C@H](CO)[C@@H](O)[C@H](O)[C@H](O[C@H]7(O[C@H](CO)[C@@H](O)[C@H](O)[C@H](O[C@@H]6(O[C@H](CO)[C@@H](O)[C@H](O[C@H]5(O[C@H](CO)[C@@H](O)[C@H](O)[C@H](O[C@H]4(O[C@H](CO)[C@@H](O)[C@H](O)[C@H](O[C@@H]3(O[C@H](CO)[C@@H](O)[C@H](O[R]O[C@H]2(O[C@H](CO)[C@@H](O)[C@H](OC)[C@H](O)2))[C@H](O)3))4))5))[C@H](O)6))7))8))[C@H](O)9))%10))%11))[C@H](O)%12))[C@H](O)%13))[C@H](O)%14))NC(C)=O)\n",
      "[23:27:06] SMILES Parse Error: Failed parsing SMILES 'CC(C)=CCCC(\\C)=C/CCC(\\C)=C/CCC(/C)=C/CCC(/C)=C/CCC(/C)=C/CCC(/C)=C/CCC(/C)=C/CCC(/C)=C/CCC(/C)=C/CCC(/C)=C/COP(=O)([O-])OP([O-])(=O)O[C@@H]1([C@@H]([C@H]([C@H](O)[C@H](O1)CO)O[C@H]%14(O[C@H](CO)[C@@H](O)[C@H](O[C@H]%13(O[C@H](CO)[C@@H](O)[C@H](O[C@H]%12(O[C@H](CO)[C@@H](O)[C@H](O[C@H]%11(O[C@H](CO)[C@@H](O)[C@H](O)[C@H](O[C@H]%10(O[C@H](CO)[C@@H](O)[C@H](O)[C@H](O[C@@H]9(O[C@H](CO)[C@@H](O)[C@H](O[C@H]8(O[C@H](CO)[C@@H](O)[C@H](O)[C@H](O[C@H]7(O[C@H](CO)[C@@H](O)[C@H](O)[C@H](O[C@@H]6(O[C@H](CO)[C@@H](O)[C@H](O[C@H]5(O[C@H](CO)[C@@H](O)[C@H](O)[C@H](O[C@H]4(O[C@H](CO)[C@@H](O)[C@H](O)[C@H](O[C@@H]3(O[C@H](CO)[C@@H](O)[C@H](O[R]O[C@H]2(O[C@H](CO)[C@@H](O)[C@H](OC)[C@H](O)2))[C@H](O)3))4))5))[C@H](O)6))7))8))[C@H](O)9))%10))%11))[C@H](O)%12))[C@H](O)%13))[C@H](O)%14))NC(C)=O)' for input: 'CC(C)=CCCC(\\C)=C/CCC(\\C)=C/CCC(/C)=C/CCC(/C)=C/CCC(/C)=C/CCC(/C)=C/CCC(/C)=C/CCC(/C)=C/CCC(/C)=C/CCC(/C)=C/COP(=O)([O-])OP([O-])(=O)O[C@@H]1([C@@H]([C@H]([C@H](O)[C@H](O1)CO)O[C@H]%14(O[C@H](CO)[C@@H](O)[C@H](O[C@H]%13(O[C@H](CO)[C@@H](O)[C@H](O[C@H]%12(O[C@H](CO)[C@@H](O)[C@H](O[C@H]%11(O[C@H](CO)[C@@H](O)[C@H](O)[C@H](O[C@H]%10(O[C@H](CO)[C@@H](O)[C@H](O)[C@H](O[C@@H]9(O[C@H](CO)[C@@H](O)[C@H](O[C@H]8(O[C@H](CO)[C@@H](O)[C@H](O)[C@H](O[C@H]7(O[C@H](CO)[C@@H](O)[C@H](O)[C@H](O[C@@H]6(O[C@H](CO)[C@@H](O)[C@H](O[C@H]5(O[C@H](CO)[C@@H](O)[C@H](O)[C@H](O[C@H]4(O[C@H](CO)[C@@H](O)[C@H](O)[C@H](O[C@@H]3(O[C@H](CO)[C@@H](O)[C@H](O[R]O[C@H]2(O[C@H](CO)[C@@H](O)[C@H](OC)[C@H](O)2))[C@H](O)3))4))5))[C@H](O)6))7))8))[C@H](O)9))%10))%11))[C@H](O)%12))[C@H](O)%13))[C@H](O)%14))NC(C)=O)'\n",
      "[23:27:06] SMILES Parse Error: syntax error while parsing: CC(C)=CCCC(\\C)=C/CCC(\\C)=C/CCC(/C)=C/CCC(/C)=C/CCC(/C)=C/CCC(/C)=C/CCC(/C)=C/CCC(/C)=C/CCC(/C)=C/CCC(/C)=C/COP(=O)([O-])OP([O-])(=O)O[C@@H]1([C@@H]([C@H]([C@H](O)[C@H](O1)CO)O[C@H]%14(O[C@H](CO)[C@@H](O)[C@H](O[C@H]%13(O[C@H](CO)[C@@H](O)[C@H](O[C@H]%12(O[C@H](CO)[C@@H](O)[C@H](O[C@H]%11(O[C@H](CO)[C@@H](O)[C@H](O)[C@H](O[C@H]%10(O[C@H](CO)[C@@H](O)[C@H](O)[C@H](O[C@@H]9(O[C@H](CO)[C@@H](O)[C@H](O[C@H]8(O[C@H](CO)[C@@H](O)[C@H](O)[C@H](O[C@H]7(O[C@H](CO)[C@@H](O)[C@H](O)[C@H](O[C@@H]6(O[C@H](CO)[C@@H](O)[C@H](O[C@H]5(O[C@H](CO)[C@@H](O)[C@H](O)[C@H](O[C@H]4(O[C@H](CO)[C@@H](O)[C@H](O)[C@H](O[C@@H]3(O[C@H](CO)[C@@H](O)[C@H](O[R]O[C@H]2(O[C@H](CO)[C@@H](O)[C@H](O)[C@H](O)2))[C@H](O)3))4))5))[C@H](O)6))7))8))[C@H](O)9))%10))%11))[C@H](O)%12))[C@H](O)%13))[C@H](O)%14))NC(C)=O)\n",
      "[23:27:06] SMILES Parse Error: Failed parsing SMILES 'CC(C)=CCCC(\\C)=C/CCC(\\C)=C/CCC(/C)=C/CCC(/C)=C/CCC(/C)=C/CCC(/C)=C/CCC(/C)=C/CCC(/C)=C/CCC(/C)=C/CCC(/C)=C/COP(=O)([O-])OP([O-])(=O)O[C@@H]1([C@@H]([C@H]([C@H](O)[C@H](O1)CO)O[C@H]%14(O[C@H](CO)[C@@H](O)[C@H](O[C@H]%13(O[C@H](CO)[C@@H](O)[C@H](O[C@H]%12(O[C@H](CO)[C@@H](O)[C@H](O[C@H]%11(O[C@H](CO)[C@@H](O)[C@H](O)[C@H](O[C@H]%10(O[C@H](CO)[C@@H](O)[C@H](O)[C@H](O[C@@H]9(O[C@H](CO)[C@@H](O)[C@H](O[C@H]8(O[C@H](CO)[C@@H](O)[C@H](O)[C@H](O[C@H]7(O[C@H](CO)[C@@H](O)[C@H](O)[C@H](O[C@@H]6(O[C@H](CO)[C@@H](O)[C@H](O[C@H]5(O[C@H](CO)[C@@H](O)[C@H](O)[C@H](O[C@H]4(O[C@H](CO)[C@@H](O)[C@H](O)[C@H](O[C@@H]3(O[C@H](CO)[C@@H](O)[C@H](O[R]O[C@H]2(O[C@H](CO)[C@@H](O)[C@H](O)[C@H](O)2))[C@H](O)3))4))5))[C@H](O)6))7))8))[C@H](O)9))%10))%11))[C@H](O)%12))[C@H](O)%13))[C@H](O)%14))NC(C)=O)' for input: 'CC(C)=CCCC(\\C)=C/CCC(\\C)=C/CCC(/C)=C/CCC(/C)=C/CCC(/C)=C/CCC(/C)=C/CCC(/C)=C/CCC(/C)=C/CCC(/C)=C/CCC(/C)=C/COP(=O)([O-])OP([O-])(=O)O[C@@H]1([C@@H]([C@H]([C@H](O)[C@H](O1)CO)O[C@H]%14(O[C@H](CO)[C@@H](O)[C@H](O[C@H]%13(O[C@H](CO)[C@@H](O)[C@H](O[C@H]%12(O[C@H](CO)[C@@H](O)[C@H](O[C@H]%11(O[C@H](CO)[C@@H](O)[C@H](O)[C@H](O[C@H]%10(O[C@H](CO)[C@@H](O)[C@H](O)[C@H](O[C@@H]9(O[C@H](CO)[C@@H](O)[C@H](O[C@H]8(O[C@H](CO)[C@@H](O)[C@H](O)[C@H](O[C@H]7(O[C@H](CO)[C@@H](O)[C@H](O)[C@H](O[C@@H]6(O[C@H](CO)[C@@H](O)[C@H](O[C@H]5(O[C@H](CO)[C@@H](O)[C@H](O)[C@H](O[C@H]4(O[C@H](CO)[C@@H](O)[C@H](O)[C@H](O[C@@H]3(O[C@H](CO)[C@@H](O)[C@H](O[R]O[C@H]2(O[C@H](CO)[C@@H](O)[C@H](O)[C@H](O)2))[C@H](O)3))4))5))[C@H](O)6))7))8))[C@H](O)9))%10))%11))[C@H](O)%12))[C@H](O)%13))[C@H](O)%14))NC(C)=O)'\n",
      " 34%|████████████████████████████████████████▌                                                                             | 1217/3538 [05:27<2:44:43,  4.26s/it]"
     ]
    },
    {
     "name": "stdout",
     "output_type": "stream",
     "text": [
      "Python argument types in\n",
      "    FingeprintGenerator64.GetFingerprintAsNumPy(FingeprintGenerator64, NoneType)\n",
      "did not match C++ signature:\n",
      "    GetFingerprintAsNumPy(RDKit::FingerprintGenerator<unsigned long> const* self, RDKit::ROMol mol, boost::python::api::object fromAtoms=[], boost::python::api::object ignoreAtoms=[], int confId=-1, boost::python::api::object customAtomInvariants=[], boost::python::api::object customBondInvariants=[], boost::python::api::object additionalOutput=None)\n"
     ]
    },
    {
     "name": "stderr",
     "output_type": "stream",
     "text": [
      "[23:27:10] SMILES Parse Error: syntax error while parsing: CC(C)=CCCC(\\C)=C/CCC(\\C)=C/CCC(/C)=C/CCC(/C)=C/CCC(/C)=C/CCC(/C)=C/CCC(/C)=C/CCC(/C)=C/CCC(/C)=C/CCC(/C)=C/COP(=O)([O-])OP([O-])(=O)O[C@@H]1([C@@H]([C@H]([C@@H]([C@H](O1)CO)O)O[C@@H]%15(O[C@H]([C@H](O)CO[C@H]%14([C@@H](NC(=O)C)[C@@H](O[C@@H]2([C@@H]([C@H]([C@H]([C@H](O2)CO)O[C@H]3(O[C@H]([C@H](O)CO)[C@H](O)[C@@H](O)3))O)O[C@H]4([C@@H]([C@H]([C@@H]([C@H](O4)CO)O)O[C@@H]%13(O[C@H]([C@H](O)CO[C@H]%12([C@@H](NC(=O)C)[C@@H](O[C@@H]5([C@@H]([C@H]([C@H]([C@H](O5)CO)O[C@H]6(O[C@H]([C@H](O)CO)[C@H](O)[C@@H](O)6))O)O[C@H]7([C@@H]([C@H]([C@@H]([C@H](O7)CO)O)O[C@@H]%11(O[C@H]([C@H](O)CO[C@H]%10([C@@H](NC(=O)C)[C@@H](O[C@@H]8([C@@H]([C@H]([C@H]([C@H](O8)CO)O[C@H]9(O[C@H]([C@H](O)CO)[C@H](O)[C@@H](O)9))O)O[R]))[C@H](O)[C@@H](CO)O%10))[C@H](O)[C@@H](O)%11))NC(C)=O)))[C@H](O)[C@@H](CO)O%12))[C@H](O)[C@@H](O)%13))NC(C)=O)))[C@H](O)[C@@H](CO)O%14))[C@H](O)[C@@H](O)%15))NC(C)=O)\n",
      "[23:27:10] SMILES Parse Error: Failed parsing SMILES 'CC(C)=CCCC(\\C)=C/CCC(\\C)=C/CCC(/C)=C/CCC(/C)=C/CCC(/C)=C/CCC(/C)=C/CCC(/C)=C/CCC(/C)=C/CCC(/C)=C/CCC(/C)=C/COP(=O)([O-])OP([O-])(=O)O[C@@H]1([C@@H]([C@H]([C@@H]([C@H](O1)CO)O)O[C@@H]%15(O[C@H]([C@H](O)CO[C@H]%14([C@@H](NC(=O)C)[C@@H](O[C@@H]2([C@@H]([C@H]([C@H]([C@H](O2)CO)O[C@H]3(O[C@H]([C@H](O)CO)[C@H](O)[C@@H](O)3))O)O[C@H]4([C@@H]([C@H]([C@@H]([C@H](O4)CO)O)O[C@@H]%13(O[C@H]([C@H](O)CO[C@H]%12([C@@H](NC(=O)C)[C@@H](O[C@@H]5([C@@H]([C@H]([C@H]([C@H](O5)CO)O[C@H]6(O[C@H]([C@H](O)CO)[C@H](O)[C@@H](O)6))O)O[C@H]7([C@@H]([C@H]([C@@H]([C@H](O7)CO)O)O[C@@H]%11(O[C@H]([C@H](O)CO[C@H]%10([C@@H](NC(=O)C)[C@@H](O[C@@H]8([C@@H]([C@H]([C@H]([C@H](O8)CO)O[C@H]9(O[C@H]([C@H](O)CO)[C@H](O)[C@@H](O)9))O)O[R]))[C@H](O)[C@@H](CO)O%10))[C@H](O)[C@@H](O)%11))NC(C)=O)))[C@H](O)[C@@H](CO)O%12))[C@H](O)[C@@H](O)%13))NC(C)=O)))[C@H](O)[C@@H](CO)O%14))[C@H](O)[C@@H](O)%15))NC(C)=O)' for input: 'CC(C)=CCCC(\\C)=C/CCC(\\C)=C/CCC(/C)=C/CCC(/C)=C/CCC(/C)=C/CCC(/C)=C/CCC(/C)=C/CCC(/C)=C/CCC(/C)=C/CCC(/C)=C/COP(=O)([O-])OP([O-])(=O)O[C@@H]1([C@@H]([C@H]([C@@H]([C@H](O1)CO)O)O[C@@H]%15(O[C@H]([C@H](O)CO[C@H]%14([C@@H](NC(=O)C)[C@@H](O[C@@H]2([C@@H]([C@H]([C@H]([C@H](O2)CO)O[C@H]3(O[C@H]([C@H](O)CO)[C@H](O)[C@@H](O)3))O)O[C@H]4([C@@H]([C@H]([C@@H]([C@H](O4)CO)O)O[C@@H]%13(O[C@H]([C@H](O)CO[C@H]%12([C@@H](NC(=O)C)[C@@H](O[C@@H]5([C@@H]([C@H]([C@H]([C@H](O5)CO)O[C@H]6(O[C@H]([C@H](O)CO)[C@H](O)[C@@H](O)6))O)O[C@H]7([C@@H]([C@H]([C@@H]([C@H](O7)CO)O)O[C@@H]%11(O[C@H]([C@H](O)CO[C@H]%10([C@@H](NC(=O)C)[C@@H](O[C@@H]8([C@@H]([C@H]([C@H]([C@H](O8)CO)O[C@H]9(O[C@H]([C@H](O)CO)[C@H](O)[C@@H](O)9))O)O[R]))[C@H](O)[C@@H](CO)O%10))[C@H](O)[C@@H](O)%11))NC(C)=O)))[C@H](O)[C@@H](CO)O%12))[C@H](O)[C@@H](O)%13))NC(C)=O)))[C@H](O)[C@@H](CO)O%14))[C@H](O)[C@@H](O)%15))NC(C)=O)'\n",
      "[23:27:10] WARNING: not removing hydrogen atom without neighbors\n",
      " 34%|████████████████████████████████████████▌                                                                             | 1218/3538 [05:30<2:38:58,  4.11s/it]"
     ]
    },
    {
     "name": "stdout",
     "output_type": "stream",
     "text": [
      "Python argument types in\n",
      "    FingeprintGenerator64.GetFingerprintAsNumPy(FingeprintGenerator64, NoneType)\n",
      "did not match C++ signature:\n",
      "    GetFingerprintAsNumPy(RDKit::FingerprintGenerator<unsigned long> const* self, RDKit::ROMol mol, boost::python::api::object fromAtoms=[], boost::python::api::object ignoreAtoms=[], int confId=-1, boost::python::api::object customAtomInvariants=[], boost::python::api::object customBondInvariants=[], boost::python::api::object additionalOutput=None)\n"
     ]
    },
    {
     "name": "stderr",
     "output_type": "stream",
     "text": [
      "[23:27:15] SMILES Parse Error: syntax error while parsing: CC(C)=CCCC(\\C)=C/CCC(\\C)=C/CCC(/C)=C/CCC(/C)=C/CCC(/C)=C/CCC(/C)=C/CCC(/C)=C/CCC(/C)=C/CCC(/C)=C/CCC(/C)=C/COP(=O)([O-])OP([O-])(=O)O[C@@H]1([C@@H]([C@H]([C@H]([C@H](O1)CO)O)O[C@H]%15(O[C@H](CO)[C@H](O)[C@H](O[C@@H]%14(O[C@H](CO)[C@H](O)[C@H](O[C@H]2(O[C@H](CO)[C@H](O)[C@H](O)[C@@H](O)2))[C@@H](O[C@@H]%13(O[C@@H](C)[C@@H](O[C@H]3([C@@H]([C@H]([C@H]([C@H](O3)CO)O)O[C@H]%12(O[C@H](CO)[C@H](O)[C@H](O[C@@H]%11(O[C@H](CO)[C@H](O)[C@H](O[C@H]4(O[C@H](CO)[C@H](O)[C@H](O)[C@@H](O)4))[C@@H](O[C@@H]%10(O[C@@H](C)[C@@H](O[C@H]5([C@@H]([C@H]([C@H]([C@H](O5)CO)O)O[C@H]9(O[C@H](CO)[C@H](O)[C@H](O[C@@H]8(O[C@H](CO)[C@H](O)[C@H](O[C@H]6(O[C@H](CO)[C@H](O)[C@H](O)[C@@H](O)6))[C@@H](O[C@@H]7(O[C@@H](C)[C@@H](O[R])[C@@H](O)[C@H](O)7))8))[C@@H](NC(=O)C)9))NC(C)=O))[C@@H](O)[C@H](O)%10))%11))[C@@H](NC(=O)C)%12))NC(C)=O))[C@@H](O)[C@H](O)%13))%14))[C@@H](NC(=O)C)%15))NC(C)=O)\n",
      "[23:27:15] SMILES Parse Error: Failed parsing SMILES 'CC(C)=CCCC(\\C)=C/CCC(\\C)=C/CCC(/C)=C/CCC(/C)=C/CCC(/C)=C/CCC(/C)=C/CCC(/C)=C/CCC(/C)=C/CCC(/C)=C/CCC(/C)=C/COP(=O)([O-])OP([O-])(=O)O[C@@H]1([C@@H]([C@H]([C@H]([C@H](O1)CO)O)O[C@H]%15(O[C@H](CO)[C@H](O)[C@H](O[C@@H]%14(O[C@H](CO)[C@H](O)[C@H](O[C@H]2(O[C@H](CO)[C@H](O)[C@H](O)[C@@H](O)2))[C@@H](O[C@@H]%13(O[C@@H](C)[C@@H](O[C@H]3([C@@H]([C@H]([C@H]([C@H](O3)CO)O)O[C@H]%12(O[C@H](CO)[C@H](O)[C@H](O[C@@H]%11(O[C@H](CO)[C@H](O)[C@H](O[C@H]4(O[C@H](CO)[C@H](O)[C@H](O)[C@@H](O)4))[C@@H](O[C@@H]%10(O[C@@H](C)[C@@H](O[C@H]5([C@@H]([C@H]([C@H]([C@H](O5)CO)O)O[C@H]9(O[C@H](CO)[C@H](O)[C@H](O[C@@H]8(O[C@H](CO)[C@H](O)[C@H](O[C@H]6(O[C@H](CO)[C@H](O)[C@H](O)[C@@H](O)6))[C@@H](O[C@@H]7(O[C@@H](C)[C@@H](O[R])[C@@H](O)[C@H](O)7))8))[C@@H](NC(=O)C)9))NC(C)=O))[C@@H](O)[C@H](O)%10))%11))[C@@H](NC(=O)C)%12))NC(C)=O))[C@@H](O)[C@H](O)%13))%14))[C@@H](NC(=O)C)%15))NC(C)=O)' for input: 'CC(C)=CCCC(\\C)=C/CCC(\\C)=C/CCC(/C)=C/CCC(/C)=C/CCC(/C)=C/CCC(/C)=C/CCC(/C)=C/CCC(/C)=C/CCC(/C)=C/CCC(/C)=C/COP(=O)([O-])OP([O-])(=O)O[C@@H]1([C@@H]([C@H]([C@H]([C@H](O1)CO)O)O[C@H]%15(O[C@H](CO)[C@H](O)[C@H](O[C@@H]%14(O[C@H](CO)[C@H](O)[C@H](O[C@H]2(O[C@H](CO)[C@H](O)[C@H](O)[C@@H](O)2))[C@@H](O[C@@H]%13(O[C@@H](C)[C@@H](O[C@H]3([C@@H]([C@H]([C@H]([C@H](O3)CO)O)O[C@H]%12(O[C@H](CO)[C@H](O)[C@H](O[C@@H]%11(O[C@H](CO)[C@H](O)[C@H](O[C@H]4(O[C@H](CO)[C@H](O)[C@H](O)[C@@H](O)4))[C@@H](O[C@@H]%10(O[C@@H](C)[C@@H](O[C@H]5([C@@H]([C@H]([C@H]([C@H](O5)CO)O)O[C@H]9(O[C@H](CO)[C@H](O)[C@H](O[C@@H]8(O[C@H](CO)[C@H](O)[C@H](O[C@H]6(O[C@H](CO)[C@H](O)[C@H](O)[C@@H](O)6))[C@@H](O[C@@H]7(O[C@@H](C)[C@@H](O[R])[C@@H](O)[C@H](O)7))8))[C@@H](NC(=O)C)9))NC(C)=O))[C@@H](O)[C@H](O)%10))%11))[C@@H](NC(=O)C)%12))NC(C)=O))[C@@H](O)[C@H](O)%13))%14))[C@@H](NC(=O)C)%15))NC(C)=O)'\n",
      "[23:27:15] WARNING: not removing hydrogen atom without neighbors\n",
      " 34%|████████████████████████████████████████▋                                                                             | 1219/3538 [05:35<2:43:17,  4.22s/it]"
     ]
    },
    {
     "name": "stdout",
     "output_type": "stream",
     "text": [
      "Python argument types in\n",
      "    FingeprintGenerator64.GetFingerprintAsNumPy(FingeprintGenerator64, NoneType)\n",
      "did not match C++ signature:\n",
      "    GetFingerprintAsNumPy(RDKit::FingerprintGenerator<unsigned long> const* self, RDKit::ROMol mol, boost::python::api::object fromAtoms=[], boost::python::api::object ignoreAtoms=[], int confId=-1, boost::python::api::object customAtomInvariants=[], boost::python::api::object customBondInvariants=[], boost::python::api::object additionalOutput=None)\n"
     ]
    },
    {
     "name": "stderr",
     "output_type": "stream",
     "text": [
      "[23:27:19] SMILES Parse Error: syntax error while parsing: CC(C)=CCCC(\\C)=C/CCC(\\C)=C/CCC(/C)=C/CCC(/C)=C/CCC(/C)=C/CCC(/C)=C/CCC(/C)=C/CCC(/C)=C/CCC(/C)=C/CCC(/C)=C/COP(=O)([O-])OP([O-])(=O)O[C@@H]1([C@@H]([C@H]([C@H](O)[C@H](O1)CO)O[C@H]%15(O[C@H](CO)[C@@H](O)[C@H](O[C@H]%14(O[C@H](CO)[C@@H](O)[C@H](O[C@H]%13(O[C@H](CO)[C@@H](O)[C@H](O[C@H]%12(O[C@H](CO)[C@@H](O)[C@H](O)[C@H](O[C@H]%11(O[C@H](CO)[C@@H](O)[C@H](O)[C@H](O[C@H]%10(O[C@H](CO)[C@@H](O)[C@H](O)[C@H](O[C@H]9(O[C@H](CO)[C@@H](O)[C@H](O[C@H]8(O[C@H](CO)[C@@H](O)[C@H](O[C@H]7(O[C@H](CO)[C@@H](O)[C@H](O)[C@H](O[C@H]6(O[C@H](CO)[C@@H](O)[C@H](O)[C@H](O[C@H]5(O[C@H](CO)[C@@H](O)[C@H](O)[C@H](O[C@H]4(O[C@H](CO)[C@@H](O)[C@H](O[C@H]3(O[C@H](CO)[C@@H](O)[C@H](O[R]O[C@H]2(O[C@H](CO)[C@@H](O)[C@H](O)[C@H](O)2))[C@H](O)3))[C@H](O)4))5))6))7))[C@H](O)8))[C@H](O)9))%10))%11))%12))[C@H](O)%13))[C@H](O)%14))[C@H](O)%15))NC(C)=O)\n",
      "[23:27:19] SMILES Parse Error: Failed parsing SMILES 'CC(C)=CCCC(\\C)=C/CCC(\\C)=C/CCC(/C)=C/CCC(/C)=C/CCC(/C)=C/CCC(/C)=C/CCC(/C)=C/CCC(/C)=C/CCC(/C)=C/CCC(/C)=C/COP(=O)([O-])OP([O-])(=O)O[C@@H]1([C@@H]([C@H]([C@H](O)[C@H](O1)CO)O[C@H]%15(O[C@H](CO)[C@@H](O)[C@H](O[C@H]%14(O[C@H](CO)[C@@H](O)[C@H](O[C@H]%13(O[C@H](CO)[C@@H](O)[C@H](O[C@H]%12(O[C@H](CO)[C@@H](O)[C@H](O)[C@H](O[C@H]%11(O[C@H](CO)[C@@H](O)[C@H](O)[C@H](O[C@H]%10(O[C@H](CO)[C@@H](O)[C@H](O)[C@H](O[C@H]9(O[C@H](CO)[C@@H](O)[C@H](O[C@H]8(O[C@H](CO)[C@@H](O)[C@H](O[C@H]7(O[C@H](CO)[C@@H](O)[C@H](O)[C@H](O[C@H]6(O[C@H](CO)[C@@H](O)[C@H](O)[C@H](O[C@H]5(O[C@H](CO)[C@@H](O)[C@H](O)[C@H](O[C@H]4(O[C@H](CO)[C@@H](O)[C@H](O[C@H]3(O[C@H](CO)[C@@H](O)[C@H](O[R]O[C@H]2(O[C@H](CO)[C@@H](O)[C@H](O)[C@H](O)2))[C@H](O)3))[C@H](O)4))5))6))7))[C@H](O)8))[C@H](O)9))%10))%11))%12))[C@H](O)%13))[C@H](O)%14))[C@H](O)%15))NC(C)=O)' for input: 'CC(C)=CCCC(\\C)=C/CCC(\\C)=C/CCC(/C)=C/CCC(/C)=C/CCC(/C)=C/CCC(/C)=C/CCC(/C)=C/CCC(/C)=C/CCC(/C)=C/CCC(/C)=C/COP(=O)([O-])OP([O-])(=O)O[C@@H]1([C@@H]([C@H]([C@H](O)[C@H](O1)CO)O[C@H]%15(O[C@H](CO)[C@@H](O)[C@H](O[C@H]%14(O[C@H](CO)[C@@H](O)[C@H](O[C@H]%13(O[C@H](CO)[C@@H](O)[C@H](O[C@H]%12(O[C@H](CO)[C@@H](O)[C@H](O)[C@H](O[C@H]%11(O[C@H](CO)[C@@H](O)[C@H](O)[C@H](O[C@H]%10(O[C@H](CO)[C@@H](O)[C@H](O)[C@H](O[C@H]9(O[C@H](CO)[C@@H](O)[C@H](O[C@H]8(O[C@H](CO)[C@@H](O)[C@H](O[C@H]7(O[C@H](CO)[C@@H](O)[C@H](O)[C@H](O[C@H]6(O[C@H](CO)[C@@H](O)[C@H](O)[C@H](O[C@H]5(O[C@H](CO)[C@@H](O)[C@H](O)[C@H](O[C@H]4(O[C@H](CO)[C@@H](O)[C@H](O[C@H]3(O[C@H](CO)[C@@H](O)[C@H](O[R]O[C@H]2(O[C@H](CO)[C@@H](O)[C@H](O)[C@H](O)2))[C@H](O)3))[C@H](O)4))5))6))7))[C@H](O)8))[C@H](O)9))%10))%11))%12))[C@H](O)%13))[C@H](O)%14))[C@H](O)%15))NC(C)=O)'\n",
      "[23:27:19] SMILES Parse Error: syntax error while parsing: CC(C)=CCCC(\\C)=C/CCC(\\C)=C/CCC(/C)=C/CCC(/C)=C/CCC(/C)=C/CCC(/C)=C/CCC(/C)=C/CCC(/C)=C/CCC(/C)=C/CCC(/C)=C/COP(=O)([O-])OP([O-])(=O)O[C@@H]1([C@@H]([C@H]([C@H](O)[C@H](O1)CO)O[C@H]%15(O[C@H](CO)[C@@H](O)[C@H](O[C@H]%14(O[C@H](CO)[C@@H](O)[C@H](O[C@H]%13(O[C@H](CO)[C@@H](O)[C@H](O[C@H]%12(O[C@H](CO)[C@@H](O)[C@H](O)[C@H](O[C@H]%11(O[C@H](CO)[C@@H](O)[C@H](O)[C@H](O[C@H]%10(O[C@H](CO)[C@@H](O)[C@H](O)[C@H](O[C@H]9(O[C@H](CO)[C@@H](O)[C@H](O[C@H]8(O[C@H](CO)[C@@H](O)[C@H](O[C@H]7(O[C@H](CO)[C@@H](O)[C@H](O)[C@H](O[C@H]6(O[C@H](CO)[C@@H](O)[C@H](O)[C@H](O[C@H]5(O[C@H](CO)[C@@H](O)[C@H](O)[C@H](O[C@H]4(O[C@H](CO)[C@@H](O)[C@H](O[C@H]3(O[C@H](CO)[C@@H](O)[C@H](O[R]O[C@H]2(O[C@H](CO)[C@@H](O)[C@H](OP(=O)(OC)[O-])[C@H](O)2))[C@H](O)3))[C@H](O)4))5))6))7))[C@H](O)8))[C@H](O)9))%10))%11))%12))[C@H](O)%13))[C@H](O)%14))[C@H](O)%15))NC(C)=O)\n",
      "[23:27:19] SMILES Parse Error: Failed parsing SMILES 'CC(C)=CCCC(\\C)=C/CCC(\\C)=C/CCC(/C)=C/CCC(/C)=C/CCC(/C)=C/CCC(/C)=C/CCC(/C)=C/CCC(/C)=C/CCC(/C)=C/CCC(/C)=C/COP(=O)([O-])OP([O-])(=O)O[C@@H]1([C@@H]([C@H]([C@H](O)[C@H](O1)CO)O[C@H]%15(O[C@H](CO)[C@@H](O)[C@H](O[C@H]%14(O[C@H](CO)[C@@H](O)[C@H](O[C@H]%13(O[C@H](CO)[C@@H](O)[C@H](O[C@H]%12(O[C@H](CO)[C@@H](O)[C@H](O)[C@H](O[C@H]%11(O[C@H](CO)[C@@H](O)[C@H](O)[C@H](O[C@H]%10(O[C@H](CO)[C@@H](O)[C@H](O)[C@H](O[C@H]9(O[C@H](CO)[C@@H](O)[C@H](O[C@H]8(O[C@H](CO)[C@@H](O)[C@H](O[C@H]7(O[C@H](CO)[C@@H](O)[C@H](O)[C@H](O[C@H]6(O[C@H](CO)[C@@H](O)[C@H](O)[C@H](O[C@H]5(O[C@H](CO)[C@@H](O)[C@H](O)[C@H](O[C@H]4(O[C@H](CO)[C@@H](O)[C@H](O[C@H]3(O[C@H](CO)[C@@H](O)[C@H](O[R]O[C@H]2(O[C@H](CO)[C@@H](O)[C@H](OP(=O)(OC)[O-])[C@H](O)2))[C@H](O)3))[C@H](O)4))5))6))7))[C@H](O)8))[C@H](O)9))%10))%11))%12))[C@H](O)%13))[C@H](O)%14))[C@H](O)%15))NC(C)=O)' for input: 'CC(C)=CCCC(\\C)=C/CCC(\\C)=C/CCC(/C)=C/CCC(/C)=C/CCC(/C)=C/CCC(/C)=C/CCC(/C)=C/CCC(/C)=C/CCC(/C)=C/CCC(/C)=C/COP(=O)([O-])OP([O-])(=O)O[C@@H]1([C@@H]([C@H]([C@H](O)[C@H](O1)CO)O[C@H]%15(O[C@H](CO)[C@@H](O)[C@H](O[C@H]%14(O[C@H](CO)[C@@H](O)[C@H](O[C@H]%13(O[C@H](CO)[C@@H](O)[C@H](O[C@H]%12(O[C@H](CO)[C@@H](O)[C@H](O)[C@H](O[C@H]%11(O[C@H](CO)[C@@H](O)[C@H](O)[C@H](O[C@H]%10(O[C@H](CO)[C@@H](O)[C@H](O)[C@H](O[C@H]9(O[C@H](CO)[C@@H](O)[C@H](O[C@H]8(O[C@H](CO)[C@@H](O)[C@H](O[C@H]7(O[C@H](CO)[C@@H](O)[C@H](O)[C@H](O[C@H]6(O[C@H](CO)[C@@H](O)[C@H](O)[C@H](O[C@H]5(O[C@H](CO)[C@@H](O)[C@H](O)[C@H](O[C@H]4(O[C@H](CO)[C@@H](O)[C@H](O[C@H]3(O[C@H](CO)[C@@H](O)[C@H](O[R]O[C@H]2(O[C@H](CO)[C@@H](O)[C@H](OP(=O)(OC)[O-])[C@H](O)2))[C@H](O)3))[C@H](O)4))5))6))7))[C@H](O)8))[C@H](O)9))%10))%11))%12))[C@H](O)%13))[C@H](O)%14))[C@H](O)%15))NC(C)=O)'\n",
      "[23:27:19] WARNING: not removing hydrogen atom without neighbors\n",
      "[23:27:19] SMILES Parse Error: syntax error while parsing: CC(C)=CCCC(\\C)=C/CCC(\\C)=C/CCC(/C)=C/CCC(/C)=C/CCC(/C)=C/CCC(/C)=C/CCC(/C)=C/CCC(/C)=C/CCC(/C)=C/CCC(/C)=C/COP(=O)([O-])OP([O-])(=O)O[C@@H]1([C@@H]([C@H]([C@H](O)[C@H](O1)CO)O[C@H]%14(O[C@H](CO)[C@@H](O)[C@H](O[C@H]%13(O[C@H](CO)[C@@H](O)[C@H](O[C@H]%12(O[C@H](CO)[C@@H](O)[C@H](O[C@H]%11(O[C@H](CO)[C@@H](O)[C@H](O)[C@H](O[C@H]%10(O[C@H](CO)[C@@H](O)[C@H](O)[C@H](O[C@H]9(O[C@H](CO)[C@@H](O)[C@H](O)[C@H](O[C@H]8(O[C@H](CO)[C@@H](O)[C@H](O[C@H]7(O[C@H](CO)[C@@H](O)[C@H](O[C@H]6(O[C@H](CO)[C@@H](O)[C@H](O)[C@H](O[C@H]5(O[C@H](CO)[C@@H](O)[C@H](O)[C@H](O[C@H]4(O[C@H](CO)[C@@H](O)[C@H](O)[C@H](O[C@H]3(O[C@H](CO)[C@@H](O)[C@H](O[C@H]2(O[C@H](CO)[C@@H](O)[C@H](O[R])[C@H](O)2))[C@H](O)3))4))5))6))[C@H](O)7))[C@H](O)8))9))%10))%11))[C@H](O)%12))[C@H](O)%13))[C@H](O)%14))NC(C)=O)\n",
      "[23:27:19] SMILES Parse Error: Failed parsing SMILES 'CC(C)=CCCC(\\C)=C/CCC(\\C)=C/CCC(/C)=C/CCC(/C)=C/CCC(/C)=C/CCC(/C)=C/CCC(/C)=C/CCC(/C)=C/CCC(/C)=C/CCC(/C)=C/COP(=O)([O-])OP([O-])(=O)O[C@@H]1([C@@H]([C@H]([C@H](O)[C@H](O1)CO)O[C@H]%14(O[C@H](CO)[C@@H](O)[C@H](O[C@H]%13(O[C@H](CO)[C@@H](O)[C@H](O[C@H]%12(O[C@H](CO)[C@@H](O)[C@H](O[C@H]%11(O[C@H](CO)[C@@H](O)[C@H](O)[C@H](O[C@H]%10(O[C@H](CO)[C@@H](O)[C@H](O)[C@H](O[C@H]9(O[C@H](CO)[C@@H](O)[C@H](O)[C@H](O[C@H]8(O[C@H](CO)[C@@H](O)[C@H](O[C@H]7(O[C@H](CO)[C@@H](O)[C@H](O[C@H]6(O[C@H](CO)[C@@H](O)[C@H](O)[C@H](O[C@H]5(O[C@H](CO)[C@@H](O)[C@H](O)[C@H](O[C@H]4(O[C@H](CO)[C@@H](O)[C@H](O)[C@H](O[C@H]3(O[C@H](CO)[C@@H](O)[C@H](O[C@H]2(O[C@H](CO)[C@@H](O)[C@H](O[R])[C@H](O)2))[C@H](O)3))4))5))6))[C@H](O)7))[C@H](O)8))9))%10))%11))[C@H](O)%12))[C@H](O)%13))[C@H](O)%14))NC(C)=O)' for input: 'CC(C)=CCCC(\\C)=C/CCC(\\C)=C/CCC(/C)=C/CCC(/C)=C/CCC(/C)=C/CCC(/C)=C/CCC(/C)=C/CCC(/C)=C/CCC(/C)=C/CCC(/C)=C/COP(=O)([O-])OP([O-])(=O)O[C@@H]1([C@@H]([C@H]([C@H](O)[C@H](O1)CO)O[C@H]%14(O[C@H](CO)[C@@H](O)[C@H](O[C@H]%13(O[C@H](CO)[C@@H](O)[C@H](O[C@H]%12(O[C@H](CO)[C@@H](O)[C@H](O[C@H]%11(O[C@H](CO)[C@@H](O)[C@H](O)[C@H](O[C@H]%10(O[C@H](CO)[C@@H](O)[C@H](O)[C@H](O[C@H]9(O[C@H](CO)[C@@H](O)[C@H](O)[C@H](O[C@H]8(O[C@H](CO)[C@@H](O)[C@H](O[C@H]7(O[C@H](CO)[C@@H](O)[C@H](O[C@H]6(O[C@H](CO)[C@@H](O)[C@H](O)[C@H](O[C@H]5(O[C@H](CO)[C@@H](O)[C@H](O)[C@H](O[C@H]4(O[C@H](CO)[C@@H](O)[C@H](O)[C@H](O[C@H]3(O[C@H](CO)[C@@H](O)[C@H](O[C@H]2(O[C@H](CO)[C@@H](O)[C@H](O[R])[C@H](O)2))[C@H](O)3))4))5))6))[C@H](O)7))[C@H](O)8))9))%10))%11))[C@H](O)%12))[C@H](O)%13))[C@H](O)%14))NC(C)=O)'\n",
      " 34%|████████████████████████████████████████▋                                                                             | 1220/3538 [05:39<2:41:40,  4.18s/it]"
     ]
    },
    {
     "name": "stdout",
     "output_type": "stream",
     "text": [
      "Python argument types in\n",
      "    FingeprintGenerator64.GetFingerprintAsNumPy(FingeprintGenerator64, NoneType)\n",
      "did not match C++ signature:\n",
      "    GetFingerprintAsNumPy(RDKit::FingerprintGenerator<unsigned long> const* self, RDKit::ROMol mol, boost::python::api::object fromAtoms=[], boost::python::api::object ignoreAtoms=[], int confId=-1, boost::python::api::object customAtomInvariants=[], boost::python::api::object customBondInvariants=[], boost::python::api::object additionalOutput=None)\n"
     ]
    },
    {
     "name": "stderr",
     "output_type": "stream",
     "text": [
      "[23:27:23] SMILES Parse Error: syntax error while parsing: CC(C)=CCCC(\\C)=C/CCC(\\C)=C/CCC(/C)=C/CCC(/C)=C/CCC(/C)=C/CCC(/C)=C/CCC(/C)=C/CCC(/C)=C/CCC(/C)=C/CCC(/C)=C/COP(=O)([O-])OP([O-])(=O)O[C@@H]1([C@@H]([C@H]([C@H](O)[C@H](O1)CO)O[C@H]%18(O[C@H](CO)[C@@H](O)[C@H](O[C@H]%17(O[C@H](CO)[C@@H](O)[C@H](O[C@H]%16(O[C@H](CO)[C@@H](O)[C@H](O)[C@H](O[C@H]%15(O[C@H](CO)[C@@H](O)[C@H](O)[C@H](O[C@H]%14(O[C@H](CO)[C@@H](O)[C@H](O[C@H]%13(O[C@H](CO)[C@@H](O)[C@H](O[C@H]%12(O[C@H](CO)[C@@H](O)[C@H](O)[C@H](O[C@H]%11(O[C@H](CO)[C@@H](O)[C@H](O)[C@H](O[C@H]%10(O[C@H](CO)[C@@H](O)[C@H](O[C@H]9(O[C@H](CO)[C@@H](O)[C@H](O[C@H]8(O[C@H](CO)[C@@H](O)[C@H](O)[C@H](O[C@H]7(O[C@H](CO)[C@@H](O)[C@H](O)[C@H](O[C@H]6(O[C@H](CO)[C@@H](O)[C@H](O[C@H]5(O[C@H](CO)[C@@H](O)[C@H](O[C@H]4(O[C@H](CO)[C@@H](O)[C@H](O)[C@H](O[R]O[C@H]3(O[C@H](CO)[C@@H](O)[C@H](O)[C@H](O[C@H]2(O[C@H](CO)[C@@H](O)[C@H](O)[C@H](O)2))3))4))[C@H](O)5))[C@H](O)6))7))8))[C@H](O)9))[C@H](O)%10))%11))%12))[C@H](O)%13))[C@H](O)%14))%15))%16))[C@H](O)%17))[C@H](O)%18))NC(C)=O)\n",
      "[23:27:23] SMILES Parse Error: Failed parsing SMILES 'CC(C)=CCCC(\\C)=C/CCC(\\C)=C/CCC(/C)=C/CCC(/C)=C/CCC(/C)=C/CCC(/C)=C/CCC(/C)=C/CCC(/C)=C/CCC(/C)=C/CCC(/C)=C/COP(=O)([O-])OP([O-])(=O)O[C@@H]1([C@@H]([C@H]([C@H](O)[C@H](O1)CO)O[C@H]%18(O[C@H](CO)[C@@H](O)[C@H](O[C@H]%17(O[C@H](CO)[C@@H](O)[C@H](O[C@H]%16(O[C@H](CO)[C@@H](O)[C@H](O)[C@H](O[C@H]%15(O[C@H](CO)[C@@H](O)[C@H](O)[C@H](O[C@H]%14(O[C@H](CO)[C@@H](O)[C@H](O[C@H]%13(O[C@H](CO)[C@@H](O)[C@H](O[C@H]%12(O[C@H](CO)[C@@H](O)[C@H](O)[C@H](O[C@H]%11(O[C@H](CO)[C@@H](O)[C@H](O)[C@H](O[C@H]%10(O[C@H](CO)[C@@H](O)[C@H](O[C@H]9(O[C@H](CO)[C@@H](O)[C@H](O[C@H]8(O[C@H](CO)[C@@H](O)[C@H](O)[C@H](O[C@H]7(O[C@H](CO)[C@@H](O)[C@H](O)[C@H](O[C@H]6(O[C@H](CO)[C@@H](O)[C@H](O[C@H]5(O[C@H](CO)[C@@H](O)[C@H](O[C@H]4(O[C@H](CO)[C@@H](O)[C@H](O)[C@H](O[R]O[C@H]3(O[C@H](CO)[C@@H](O)[C@H](O)[C@H](O[C@H]2(O[C@H](CO)[C@@H](O)[C@H](O)[C@H](O)2))3))4))[C@H](O)5))[C@H](O)6))7))8))[C@H](O)9))[C@H](O)%10))%11))%12))[C@H](O)%13))[C@H](O)%14))%15))%16))[C@H](O)%17))[C@H](O)%18))NC(C)=O)' for input: 'CC(C)=CCCC(\\C)=C/CCC(\\C)=C/CCC(/C)=C/CCC(/C)=C/CCC(/C)=C/CCC(/C)=C/CCC(/C)=C/CCC(/C)=C/CCC(/C)=C/CCC(/C)=C/COP(=O)([O-])OP([O-])(=O)O[C@@H]1([C@@H]([C@H]([C@H](O)[C@H](O1)CO)O[C@H]%18(O[C@H](CO)[C@@H](O)[C@H](O[C@H]%17(O[C@H](CO)[C@@H](O)[C@H](O[C@H]%16(O[C@H](CO)[C@@H](O)[C@H](O)[C@H](O[C@H]%15(O[C@H](CO)[C@@H](O)[C@H](O)[C@H](O[C@H]%14(O[C@H](CO)[C@@H](O)[C@H](O[C@H]%13(O[C@H](CO)[C@@H](O)[C@H](O[C@H]%12(O[C@H](CO)[C@@H](O)[C@H](O)[C@H](O[C@H]%11(O[C@H](CO)[C@@H](O)[C@H](O)[C@H](O[C@H]%10(O[C@H](CO)[C@@H](O)[C@H](O[C@H]9(O[C@H](CO)[C@@H](O)[C@H](O[C@H]8(O[C@H](CO)[C@@H](O)[C@H](O)[C@H](O[C@H]7(O[C@H](CO)[C@@H](O)[C@H](O)[C@H](O[C@H]6(O[C@H](CO)[C@@H](O)[C@H](O[C@H]5(O[C@H](CO)[C@@H](O)[C@H](O[C@H]4(O[C@H](CO)[C@@H](O)[C@H](O)[C@H](O[R]O[C@H]3(O[C@H](CO)[C@@H](O)[C@H](O)[C@H](O[C@H]2(O[C@H](CO)[C@@H](O)[C@H](O)[C@H](O)2))3))4))[C@H](O)5))[C@H](O)6))7))8))[C@H](O)9))[C@H](O)%10))%11))%12))[C@H](O)%13))[C@H](O)%14))%15))%16))[C@H](O)%17))[C@H](O)%18))NC(C)=O)'\n",
      "[23:27:23] WARNING: not removing hydrogen atom without neighbors\n",
      "[23:27:23] SMILES Parse Error: syntax error while parsing: CC(C)=CCCC(\\C)=C/CCC(\\C)=C/CCC(/C)=C/CCC(/C)=C/CCC(/C)=C/CCC(/C)=C/CCC(/C)=C/CCC(/C)=C/CCC(/C)=C/CCC(/C)=C/COP(=O)([O-])OP([O-])(=O)O[C@@H]1([C@@H]([C@H]([C@H](O)[C@H](O1)CO)O[C@H]%18(O[C@H](CO)[C@@H](O)[C@H](O[C@H]%17(O[C@H](CO)[C@@H](O)[C@H](O[C@H]%16(O[C@H](CO)[C@@H](O)[C@H](O)[C@H](O[C@H]%15(O[C@H](CO)[C@@H](O)[C@H](O)[C@H](O[C@H]%14(O[C@H](CO)[C@@H](O)[C@H](O[C@H]%13(O[C@H](CO)[C@@H](O)[C@H](O[C@H]%12(O[C@H](CO)[C@@H](O)[C@H](O)[C@H](O[C@H]%11(O[C@H](CO)[C@@H](O)[C@H](O)[C@H](O[C@H]%10(O[C@H](CO)[C@@H](O)[C@H](O[C@H]9(O[C@H](CO)[C@@H](O)[C@H](O[C@H]8(O[C@H](CO)[C@@H](O)[C@H](O)[C@H](O[C@H]7(O[C@H](CO)[C@@H](O)[C@H](O)[C@H](O[C@H]6(O[C@H](CO)[C@@H](O)[C@H](O[C@H]5(O[C@H](CO)[C@@H](O)[C@H](O[C@H]4(O[C@H](CO)[C@@H](O)[C@H](O)[C@H](O[R]O[C@H]3(O[C@H](CO)[C@@H](O)[C@H](O)[C@H](O[C@H]2(O[C@H](CO)[C@@H](O)[C@H](OP(=O)(OC)[O-])[C@H](O)2))3))4))[C@H](O)5))[C@H](O)6))7))8))[C@H](O)9))[C@H](O)%10))%11))%12))[C@H](O)%13))[C@H](O)%14))%15))%16))[C@H](O)%17))[C@H](O)%18))NC(C)=O)\n",
      "[23:27:23] SMILES Parse Error: Failed parsing SMILES 'CC(C)=CCCC(\\C)=C/CCC(\\C)=C/CCC(/C)=C/CCC(/C)=C/CCC(/C)=C/CCC(/C)=C/CCC(/C)=C/CCC(/C)=C/CCC(/C)=C/CCC(/C)=C/COP(=O)([O-])OP([O-])(=O)O[C@@H]1([C@@H]([C@H]([C@H](O)[C@H](O1)CO)O[C@H]%18(O[C@H](CO)[C@@H](O)[C@H](O[C@H]%17(O[C@H](CO)[C@@H](O)[C@H](O[C@H]%16(O[C@H](CO)[C@@H](O)[C@H](O)[C@H](O[C@H]%15(O[C@H](CO)[C@@H](O)[C@H](O)[C@H](O[C@H]%14(O[C@H](CO)[C@@H](O)[C@H](O[C@H]%13(O[C@H](CO)[C@@H](O)[C@H](O[C@H]%12(O[C@H](CO)[C@@H](O)[C@H](O)[C@H](O[C@H]%11(O[C@H](CO)[C@@H](O)[C@H](O)[C@H](O[C@H]%10(O[C@H](CO)[C@@H](O)[C@H](O[C@H]9(O[C@H](CO)[C@@H](O)[C@H](O[C@H]8(O[C@H](CO)[C@@H](O)[C@H](O)[C@H](O[C@H]7(O[C@H](CO)[C@@H](O)[C@H](O)[C@H](O[C@H]6(O[C@H](CO)[C@@H](O)[C@H](O[C@H]5(O[C@H](CO)[C@@H](O)[C@H](O[C@H]4(O[C@H](CO)[C@@H](O)[C@H](O)[C@H](O[R]O[C@H]3(O[C@H](CO)[C@@H](O)[C@H](O)[C@H](O[C@H]2(O[C@H](CO)[C@@H](O)[C@H](OP(=O)(OC)[O-])[C@H](O)2))3))4))[C@H](O)5))[C@H](O)6))7))8))[C@H](O)9))[C@H](O)%10))%11))%12))[C@H](O)%13))[C@H](O)%14))%15))%16))[C@H](O)%17))[C@H](O)%18))NC(C)=O)' for input: 'CC(C)=CCCC(\\C)=C/CCC(\\C)=C/CCC(/C)=C/CCC(/C)=C/CCC(/C)=C/CCC(/C)=C/CCC(/C)=C/CCC(/C)=C/CCC(/C)=C/CCC(/C)=C/COP(=O)([O-])OP([O-])(=O)O[C@@H]1([C@@H]([C@H]([C@H](O)[C@H](O1)CO)O[C@H]%18(O[C@H](CO)[C@@H](O)[C@H](O[C@H]%17(O[C@H](CO)[C@@H](O)[C@H](O[C@H]%16(O[C@H](CO)[C@@H](O)[C@H](O)[C@H](O[C@H]%15(O[C@H](CO)[C@@H](O)[C@H](O)[C@H](O[C@H]%14(O[C@H](CO)[C@@H](O)[C@H](O[C@H]%13(O[C@H](CO)[C@@H](O)[C@H](O[C@H]%12(O[C@H](CO)[C@@H](O)[C@H](O)[C@H](O[C@H]%11(O[C@H](CO)[C@@H](O)[C@H](O)[C@H](O[C@H]%10(O[C@H](CO)[C@@H](O)[C@H](O[C@H]9(O[C@H](CO)[C@@H](O)[C@H](O[C@H]8(O[C@H](CO)[C@@H](O)[C@H](O)[C@H](O[C@H]7(O[C@H](CO)[C@@H](O)[C@H](O)[C@H](O[C@H]6(O[C@H](CO)[C@@H](O)[C@H](O[C@H]5(O[C@H](CO)[C@@H](O)[C@H](O[C@H]4(O[C@H](CO)[C@@H](O)[C@H](O)[C@H](O[R]O[C@H]3(O[C@H](CO)[C@@H](O)[C@H](O)[C@H](O[C@H]2(O[C@H](CO)[C@@H](O)[C@H](OP(=O)(OC)[O-])[C@H](O)2))3))4))[C@H](O)5))[C@H](O)6))7))8))[C@H](O)9))[C@H](O)%10))%11))%12))[C@H](O)%13))[C@H](O)%14))%15))%16))[C@H](O)%17))[C@H](O)%18))NC(C)=O)'\n",
      "[23:27:23] SMILES Parse Error: syntax error while parsing: CC(C)=CCCC(\\C)=C/CCC(\\C)=C/CCC(/C)=C/CCC(/C)=C/CCC(/C)=C/CCC(/C)=C/CCC(/C)=C/CCC(/C)=C/CCC(/C)=C/CCC(/C)=C/COP(=O)([O-])OP([O-])(=O)O[C@@H]1([C@@H]([C@H]([C@H](O)[C@H](O1)CO)O[C@H]%18(O[C@H](CO)[C@@H](O)[C@H](O[C@H]%17(O[C@H](CO)[C@@H](O)[C@H](O[C@H]%16(O[C@H](CO)[C@@H](O)[C@H](O)[C@H](O[C@H]%15(O[C@H](CO)[C@@H](O)[C@H](O)[C@H](O[C@H]%14(O[C@H](CO)[C@@H](O)[C@H](O[C@H]%13(O[C@H](CO)[C@@H](O)[C@H](O[C@H]%12(O[C@H](CO)[C@@H](O)[C@H](O)[C@H](O[C@H]%11(O[C@H](CO)[C@@H](O)[C@H](O)[C@H](O[C@H]%10(O[C@H](CO)[C@@H](O)[C@H](O[C@H]9(O[C@H](CO)[C@@H](O)[C@H](O[C@H]8(O[C@H](CO)[C@@H](O)[C@H](O)[C@H](O[C@H]7(O[C@H](CO)[C@@H](O)[C@H](O)[C@H](O[C@H]6(O[C@H](CO)[C@@H](O)[C@H](O[C@H]5(O[C@H](CO)[C@@H](O)[C@H](O[C@H]4(O[C@H](CO)[C@@H](O)[C@H](O)[C@H](O[R]O[C@H]3(O[C@H](CO)[C@@H](O)[C@H](O)[C@H](O[C@H]2(O[C@H](CO)[C@@H](O)[C@H](OP([O-])(=O)[O-])[C@H](O)2))3))4))[C@H](O)5))[C@H](O)6))7))8))[C@H](O)9))[C@H](O)%10))%11))%12))[C@H](O)%13))[C@H](O)%14))%15))%16))[C@H](O)%17))[C@H](O)%18))NC(C)=O)\n",
      "[23:27:23] SMILES Parse Error: Failed parsing SMILES 'CC(C)=CCCC(\\C)=C/CCC(\\C)=C/CCC(/C)=C/CCC(/C)=C/CCC(/C)=C/CCC(/C)=C/CCC(/C)=C/CCC(/C)=C/CCC(/C)=C/CCC(/C)=C/COP(=O)([O-])OP([O-])(=O)O[C@@H]1([C@@H]([C@H]([C@H](O)[C@H](O1)CO)O[C@H]%18(O[C@H](CO)[C@@H](O)[C@H](O[C@H]%17(O[C@H](CO)[C@@H](O)[C@H](O[C@H]%16(O[C@H](CO)[C@@H](O)[C@H](O)[C@H](O[C@H]%15(O[C@H](CO)[C@@H](O)[C@H](O)[C@H](O[C@H]%14(O[C@H](CO)[C@@H](O)[C@H](O[C@H]%13(O[C@H](CO)[C@@H](O)[C@H](O[C@H]%12(O[C@H](CO)[C@@H](O)[C@H](O)[C@H](O[C@H]%11(O[C@H](CO)[C@@H](O)[C@H](O)[C@H](O[C@H]%10(O[C@H](CO)[C@@H](O)[C@H](O[C@H]9(O[C@H](CO)[C@@H](O)[C@H](O[C@H]8(O[C@H](CO)[C@@H](O)[C@H](O)[C@H](O[C@H]7(O[C@H](CO)[C@@H](O)[C@H](O)[C@H](O[C@H]6(O[C@H](CO)[C@@H](O)[C@H](O[C@H]5(O[C@H](CO)[C@@H](O)[C@H](O[C@H]4(O[C@H](CO)[C@@H](O)[C@H](O)[C@H](O[R]O[C@H]3(O[C@H](CO)[C@@H](O)[C@H](O)[C@H](O[C@H]2(O[C@H](CO)[C@@H](O)[C@H](OP([O-])(=O)[O-])[C@H](O)2))3))4))[C@H](O)5))[C@H](O)6))7))8))[C@H](O)9))[C@H](O)%10))%11))%12))[C@H](O)%13))[C@H](O)%14))%15))%16))[C@H](O)%17))[C@H](O)%18))NC(C)=O)' for input: 'CC(C)=CCCC(\\C)=C/CCC(\\C)=C/CCC(/C)=C/CCC(/C)=C/CCC(/C)=C/CCC(/C)=C/CCC(/C)=C/CCC(/C)=C/CCC(/C)=C/CCC(/C)=C/COP(=O)([O-])OP([O-])(=O)O[C@@H]1([C@@H]([C@H]([C@H](O)[C@H](O1)CO)O[C@H]%18(O[C@H](CO)[C@@H](O)[C@H](O[C@H]%17(O[C@H](CO)[C@@H](O)[C@H](O[C@H]%16(O[C@H](CO)[C@@H](O)[C@H](O)[C@H](O[C@H]%15(O[C@H](CO)[C@@H](O)[C@H](O)[C@H](O[C@H]%14(O[C@H](CO)[C@@H](O)[C@H](O[C@H]%13(O[C@H](CO)[C@@H](O)[C@H](O[C@H]%12(O[C@H](CO)[C@@H](O)[C@H](O)[C@H](O[C@H]%11(O[C@H](CO)[C@@H](O)[C@H](O)[C@H](O[C@H]%10(O[C@H](CO)[C@@H](O)[C@H](O[C@H]9(O[C@H](CO)[C@@H](O)[C@H](O[C@H]8(O[C@H](CO)[C@@H](O)[C@H](O)[C@H](O[C@H]7(O[C@H](CO)[C@@H](O)[C@H](O)[C@H](O[C@H]6(O[C@H](CO)[C@@H](O)[C@H](O[C@H]5(O[C@H](CO)[C@@H](O)[C@H](O[C@H]4(O[C@H](CO)[C@@H](O)[C@H](O)[C@H](O[R]O[C@H]3(O[C@H](CO)[C@@H](O)[C@H](O)[C@H](O[C@H]2(O[C@H](CO)[C@@H](O)[C@H](OP([O-])(=O)[O-])[C@H](O)2))3))4))[C@H](O)5))[C@H](O)6))7))8))[C@H](O)9))[C@H](O)%10))%11))%12))[C@H](O)%13))[C@H](O)%14))%15))%16))[C@H](O)%17))[C@H](O)%18))NC(C)=O)'\n",
      " 35%|████████████████████████████████████████▋                                                                             | 1221/3538 [05:43<2:41:12,  4.17s/it]"
     ]
    },
    {
     "name": "stdout",
     "output_type": "stream",
     "text": [
      "Python argument types in\n",
      "    FingeprintGenerator64.GetFingerprintAsNumPy(FingeprintGenerator64, NoneType)\n",
      "did not match C++ signature:\n",
      "    GetFingerprintAsNumPy(RDKit::FingerprintGenerator<unsigned long> const* self, RDKit::ROMol mol, boost::python::api::object fromAtoms=[], boost::python::api::object ignoreAtoms=[], int confId=-1, boost::python::api::object customAtomInvariants=[], boost::python::api::object customBondInvariants=[], boost::python::api::object additionalOutput=None)\n"
     ]
    },
    {
     "name": "stderr",
     "output_type": "stream",
     "text": [
      " 35%|████████████████████████████████████████▊                                                                             | 1222/3538 [05:46<2:23:15,  3.71s/it][23:27:29] WARNING: not removing hydrogen atom without neighbors\n",
      " 35%|████████████████████████████████████████▊                                                                             | 1224/3538 [05:49<1:42:43,  2.66s/it][23:27:30] WARNING: not removing hydrogen atom without neighbors\n",
      " 35%|████████████████████████████████████████▊                                                                             | 1225/3538 [05:51<1:29:43,  2.33s/it][23:27:32] WARNING: not removing hydrogen atom without neighbors\n",
      "[23:27:32] WARNING: not removing hydrogen atom without neighbors\n",
      "[23:27:32] WARNING: not removing hydrogen atom without neighbors\n",
      "[23:27:32] WARNING: not removing hydrogen atom without neighbors\n",
      "[23:27:32] WARNING: not removing hydrogen atom without neighbors\n",
      "[23:27:32] WARNING: not removing hydrogen atom without neighbors\n",
      " 35%|█████████████████████████████████████████▊                                                                              | 1232/3538 [05:51<22:47,  1.69it/s][23:27:32] WARNING: not removing hydrogen atom without neighbors\n",
      "[23:27:32] WARNING: not removing hydrogen atom without neighbors\n",
      "[23:27:32] WARNING: not removing hydrogen atom without neighbors\n",
      "[23:27:32] WARNING: not removing hydrogen atom without neighbors\n",
      "[23:27:32] WARNING: not removing hydrogen atom without neighbors\n",
      " 35%|█████████████████████████████████████████▉                                                                              | 1238/3538 [05:51<12:09,  3.15it/s][23:27:32] WARNING: not removing hydrogen atom without neighbors\n",
      "[23:27:32] WARNING: not removing hydrogen atom without neighbors\n",
      "[23:27:32] WARNING: not removing hydrogen atom without neighbors\n",
      "[23:27:32] WARNING: not removing hydrogen atom without neighbors\n",
      "[23:27:32] WARNING: not removing hydrogen atom without neighbors\n",
      " 35%|██████████████████████████████████████████▏                                                                             | 1243/3538 [05:51<08:01,  4.77it/s]"
     ]
    },
    {
     "name": "stdout",
     "output_type": "stream",
     "text": [
      "need at least one array to concatenate\n"
     ]
    },
    {
     "name": "stderr",
     "output_type": "stream",
     "text": [
      "[23:27:32] WARNING: not removing hydrogen atom without neighbors\n",
      "[23:27:32] WARNING: not removing hydrogen atom without neighbors\n",
      "[23:27:32] WARNING: not removing hydrogen atom without neighbors\n",
      " 35%|██████████████████████████████████████████▎                                                                             | 1249/3538 [05:51<05:12,  7.33it/s][23:27:32] WARNING: not removing hydrogen atom without neighbors\n",
      "[23:27:32] WARNING: not removing hydrogen atom without neighbors\n",
      "[23:27:32] WARNING: not removing hydrogen atom without neighbors\n",
      "[23:27:32] WARNING: not removing hydrogen atom without neighbors\n",
      " 35%|██████████████████████████████████████████▌                                                                             | 1254/3538 [05:51<03:49,  9.95it/s][23:27:32] WARNING: not removing hydrogen atom without neighbors\n",
      "[23:27:32] WARNING: not removing hydrogen atom without neighbors\n",
      "[23:27:32] WARNING: not removing hydrogen atom without neighbors\n",
      "[23:27:32] WARNING: not removing hydrogen atom without neighbors\n",
      "[23:27:32] WARNING: not removing hydrogen atom without neighbors\n",
      "[23:27:32] WARNING: not removing hydrogen atom without neighbors\n",
      " 36%|██████████████████████████████████████████▊                                                                             | 1261/3538 [05:51<02:34, 14.72it/s][23:27:33] WARNING: not removing hydrogen atom without neighbors\n",
      "[23:27:33] WARNING: not removing hydrogen atom without neighbors\n",
      "[23:27:33] WARNING: not removing hydrogen atom without neighbors\n",
      "[23:27:33] WARNING: not removing hydrogen atom without neighbors\n",
      "[23:27:33] WARNING: not removing hydrogen atom without neighbors\n",
      "[23:27:33] WARNING: not removing hydrogen atom without neighbors\n",
      " 36%|██████████████████████████████████████████▉                                                                             | 1267/3538 [05:51<01:58, 19.22it/s][23:27:33] WARNING: not removing hydrogen atom without neighbors\n"
     ]
    },
    {
     "name": "stdout",
     "output_type": "stream",
     "text": [
      "need at least one array to concatenate\n"
     ]
    },
    {
     "name": "stderr",
     "output_type": "stream",
     "text": [
      "[23:27:33] WARNING: not removing hydrogen atom without neighbors\n",
      "[23:27:33] WARNING: not removing hydrogen atom without neighbors\n",
      "[23:27:33] WARNING: not removing hydrogen atom without neighbors\n",
      " 36%|███████████████████████████████████████████▏                                                                            | 1273/3538 [05:52<01:35, 23.64it/s][23:27:33] WARNING: not removing hydrogen atom without neighbors\n",
      "[23:27:33] WARNING: not removing hydrogen atom without neighbors\n",
      "[23:27:33] WARNING: not removing hydrogen atom without neighbors\n",
      " 36%|███████████████████████████████████████████▎                                                                            | 1278/3538 [05:52<01:23, 27.00it/s][23:27:33] WARNING: not removing hydrogen atom without neighbors\n",
      "[23:27:33] WARNING: not removing hydrogen atom without neighbors\n",
      "[23:27:33] WARNING: not removing hydrogen atom without neighbors\n",
      "[23:27:33] WARNING: not removing hydrogen atom without neighbors\n",
      " 36%|███████████████████████████████████████████▌                                                                            | 1283/3538 [05:52<01:21, 27.66it/s][23:27:33] WARNING: not removing hydrogen atom without neighbors\n",
      "[23:27:33] WARNING: not removing hydrogen atom without neighbors\n",
      "[23:27:33] WARNING: not removing hydrogen atom without neighbors\n",
      "[23:27:33] WARNING: not removing hydrogen atom without neighbors\n",
      "[23:27:33] WARNING: not removing hydrogen atom without neighbors\n",
      " 36%|███████████████████████████████████████████▋                                                                            | 1288/3538 [05:52<01:14, 30.26it/s][23:27:33] WARNING: not removing hydrogen atom without neighbors\n",
      "[23:27:33] WARNING: not removing hydrogen atom without neighbors\n",
      "[23:27:33] WARNING: not removing hydrogen atom without neighbors\n",
      "[23:27:33] WARNING: not removing hydrogen atom without neighbors\n",
      " 37%|███████████████████████████████████████████▊                                                                            | 1293/3538 [05:52<01:15, 29.88it/s][23:27:33] WARNING: not removing hydrogen atom without neighbors\n",
      "[23:27:33] Conflicting single bond directions around double bond at index 12.\n",
      "[23:27:33]   BondStereo set to STEREONONE and single bond directions set to NONE.\n",
      "[23:27:33] Conflicting single bond directions around double bond at index 17.\n",
      "[23:27:33]   BondStereo set to STEREONONE and single bond directions set to NONE.\n",
      "[23:27:33] Conflicting single bond directions around double bond at index 12.\n",
      "[23:27:33]   BondStereo set to STEREONONE and single bond directions set to NONE.\n",
      "[23:27:33] Conflicting single bond directions around double bond at index 17.\n",
      "[23:27:33]   BondStereo set to STEREONONE and single bond directions set to NONE.\n",
      "[23:27:33] Conflicting single bond directions around double bond at index 12.\n",
      "[23:27:33]   BondStereo set to STEREONONE and single bond directions set to NONE.\n",
      "[23:27:33] Conflicting single bond directions around double bond at index 17.\n",
      "[23:27:33]   BondStereo set to STEREONONE and single bond directions set to NONE.\n",
      "[23:27:33] WARNING: not removing hydrogen atom without neighbors\n",
      "[23:27:33] WARNING: not removing hydrogen atom without neighbors\n",
      "[23:27:33] WARNING: not removing hydrogen atom without neighbors\n",
      " 37%|████████████████████████████████████████████                                                                            | 1298/3538 [05:52<01:08, 32.61it/s][23:27:33] WARNING: not removing hydrogen atom without neighbors\n",
      "[23:27:33] WARNING: not removing hydrogen atom without neighbors\n",
      "[23:27:34] WARNING: not removing hydrogen atom without neighbors\n",
      "[23:27:34] WARNING: not removing hydrogen atom without neighbors\n",
      " 37%|████████████████████████████████████████████▏                                                                           | 1303/3538 [05:52<01:05, 34.38it/s][23:27:34] WARNING: not removing hydrogen atom without neighbors\n",
      "[23:27:34] WARNING: not removing hydrogen atom without neighbors\n",
      "[23:27:34] WARNING: not removing hydrogen atom without neighbors\n",
      "[23:27:34] WARNING: not removing hydrogen atom without neighbors\n",
      " 37%|████████████████████████████████████████████▎                                                                           | 1307/3538 [05:52<01:04, 34.68it/s][23:27:34] WARNING: not removing hydrogen atom without neighbors\n",
      "[23:27:34] WARNING: not removing hydrogen atom without neighbors\n",
      "[23:27:34] WARNING: not removing hydrogen atom without neighbors\n",
      "[23:27:34] WARNING: not removing hydrogen atom without neighbors\n",
      "[23:27:34] WARNING: not removing hydrogen atom without neighbors\n",
      "[23:27:34] WARNING: not removing hydrogen atom without neighbors\n",
      "[23:27:34] WARNING: not removing hydrogen atom without neighbors\n",
      " 37%|████████████████████████████████████████████▌                                                                           | 1314/3538 [05:53<00:52, 42.03it/s][23:27:34] WARNING: not removing hydrogen atom without neighbors\n",
      "[23:27:34] WARNING: not removing hydrogen atom without neighbors\n",
      "[23:27:34] WARNING: not removing hydrogen atom without neighbors\n",
      "[23:27:34] WARNING: not removing hydrogen atom without neighbors\n",
      "[23:27:34] WARNING: not removing hydrogen atom without neighbors\n",
      "[23:27:34] WARNING: not removing hydrogen atom without neighbors\n",
      " 37%|████████████████████████████████████████████▊                                                                           | 1321/3538 [05:53<00:48, 45.94it/s][23:27:34] WARNING: not removing hydrogen atom without neighbors\n",
      "[23:27:34] WARNING: not removing hydrogen atom without neighbors\n",
      "[23:27:34] WARNING: not removing hydrogen atom without neighbors\n",
      " 37%|████████████████████████████████████████████▉                                                                           | 1326/3538 [05:53<00:47, 46.60it/s][23:27:34] WARNING: not removing hydrogen atom without neighbors\n",
      "[23:27:34] WARNING: not removing hydrogen atom without neighbors\n",
      "[23:27:34] WARNING: not removing hydrogen atom without neighbors\n",
      "[23:27:34] WARNING: not removing hydrogen atom without neighbors\n",
      " 38%|█████████████████████████████████████████████▏                                                                          | 1331/3538 [05:53<00:49, 44.43it/s][23:27:34] WARNING: not removing hydrogen atom without neighbors\n",
      "[23:27:34] WARNING: not removing hydrogen atom without neighbors\n",
      "[23:27:34] WARNING: not removing hydrogen atom without neighbors\n",
      "[23:27:34] WARNING: not removing hydrogen atom without neighbors\n",
      " 38%|█████████████████████████████████████████████▎                                                                          | 1336/3538 [05:53<00:55, 39.64it/s][23:27:34] WARNING: not removing hydrogen atom without neighbors\n",
      "[23:27:34] WARNING: not removing hydrogen atom without neighbors\n",
      "[23:27:34] WARNING: not removing hydrogen atom without neighbors\n",
      "[23:27:34] WARNING: not removing hydrogen atom without neighbors\n",
      " 38%|█████████████████████████████████████████████▍                                                                          | 1341/3538 [05:53<00:55, 39.42it/s][23:27:34] Conflicting single bond directions around double bond at index 1.\n",
      "[23:27:34]   BondStereo set to STEREONONE and single bond directions set to NONE.\n",
      "[23:27:34] WARNING: not removing hydrogen atom without neighbors\n",
      "[23:27:34] Conflicting single bond directions around double bond at index 1.\n",
      "[23:27:34]   BondStereo set to STEREONONE and single bond directions set to NONE.\n",
      "[23:27:34] Conflicting single bond directions around double bond at index 1.\n",
      "[23:27:34]   BondStereo set to STEREONONE and single bond directions set to NONE.\n",
      "[23:27:34] Conflicting single bond directions around double bond at index 1.\n",
      "[23:27:34]   BondStereo set to STEREONONE and single bond directions set to NONE.\n",
      "[23:27:34] Conflicting single bond directions around double bond at index 1.\n",
      "[23:27:34]   BondStereo set to STEREONONE and single bond directions set to NONE.\n",
      "[23:27:34] WARNING: not removing hydrogen atom without neighbors\n",
      "[23:27:35] WARNING: not removing hydrogen atom without neighbors\n",
      "[23:27:35] WARNING: not removing hydrogen atom without neighbors\n",
      " 38%|█████████████████████████████████████████████▋                                                                          | 1347/3538 [05:53<00:49, 43.94it/s][23:27:35] WARNING: not removing hydrogen atom without neighbors\n",
      "[23:27:35] WARNING: not removing hydrogen atom without neighbors\n",
      "[23:27:35] WARNING: not removing hydrogen atom without neighbors\n",
      "[23:27:35] WARNING: not removing hydrogen atom without neighbors\n",
      "[23:27:35] WARNING: not removing hydrogen atom without neighbors\n",
      " 38%|█████████████████████████████████████████████▉                                                                          | 1353/3538 [05:53<00:46, 46.64it/s][23:27:35] WARNING: not removing hydrogen atom without neighbors\n",
      "[23:27:35] WARNING: not removing hydrogen atom without neighbors\n"
     ]
    },
    {
     "name": "stdout",
     "output_type": "stream",
     "text": [
      "need at least one array to concatenate\n",
      "need at least one array to concatenate\n"
     ]
    },
    {
     "name": "stderr",
     "output_type": "stream",
     "text": [
      "[23:27:35] WARNING: not removing hydrogen atom without neighbors\n",
      " 38%|██████████████████████████████████████████████                                                                          | 1358/3538 [05:54<00:49, 44.07it/s][23:27:35] WARNING: not removing hydrogen atom without neighbors\n",
      "[23:27:35] WARNING: not removing hydrogen atom without neighbors\n",
      "[23:27:35] WARNING: not removing hydrogen atom without neighbors\n",
      " 39%|██████████████████████████████████████████████▏                                                                         | 1363/3538 [05:54<00:49, 43.56it/s][23:27:35] WARNING: not removing hydrogen atom without neighbors\n",
      "[23:27:35] WARNING: not removing hydrogen atom without neighbors\n",
      "[23:27:35] WARNING: not removing hydrogen atom without neighbors\n",
      "[23:27:35] WARNING: not removing hydrogen atom without neighbors\n",
      "[23:27:35] WARNING: not removing hydrogen atom without neighbors\n",
      " 39%|██████████████████████████████████████████████▍                                                                         | 1368/3538 [05:54<00:50, 43.12it/s][23:27:35] WARNING: not removing hydrogen atom without neighbors\n",
      "[23:27:35] WARNING: not removing hydrogen atom without neighbors\n",
      "[23:27:35] WARNING: not removing hydrogen atom without neighbors\n"
     ]
    },
    {
     "name": "stdout",
     "output_type": "stream",
     "text": [
      "need at least one array to concatenate\n"
     ]
    },
    {
     "name": "stderr",
     "output_type": "stream",
     "text": [
      "[23:27:35] WARNING: not removing hydrogen atom without neighbors\n",
      "[23:27:35] WARNING: not removing hydrogen atom without neighbors\n",
      "[23:27:35] WARNING: not removing hydrogen atom without neighbors\n",
      " 39%|██████████████████████████████████████████████▌                                                                         | 1374/3538 [05:54<00:46, 46.78it/s][23:27:35] WARNING: not removing hydrogen atom without neighbors\n",
      "[23:27:35] WARNING: not removing hydrogen atom without neighbors\n",
      "[23:27:35] WARNING: not removing hydrogen atom without neighbors\n",
      "[23:27:35] WARNING: not removing hydrogen atom without neighbors\n",
      "[23:27:35] WARNING: not removing hydrogen atom without neighbors\n",
      " 39%|██████████████████████████████████████████████▊                                                                         | 1381/3538 [05:54<00:41, 51.44it/s][23:27:35] WARNING: not removing hydrogen atom without neighbors\n",
      "[23:27:35] WARNING: not removing hydrogen atom without neighbors\n",
      "[23:27:35] WARNING: not removing hydrogen atom without neighbors\n",
      "[23:27:35] WARNING: not removing hydrogen atom without neighbors\n",
      " 39%|███████████████████████████████████████████████                                                                         | 1387/3538 [05:54<00:41, 51.51it/s][23:27:35] WARNING: not removing hydrogen atom without neighbors\n",
      "[23:27:35] WARNING: not removing hydrogen atom without neighbors\n",
      "[23:27:35] WARNING: not removing hydrogen atom without neighbors\n",
      "[23:27:35] WARNING: not removing hydrogen atom without neighbors\n",
      "[23:27:35] WARNING: not removing hydrogen atom without neighbors\n",
      "[23:27:35] WARNING: not removing hydrogen atom without neighbors\n",
      " 39%|███████████████████████████████████████████████▏                                                                        | 1393/3538 [05:54<00:45, 47.54it/s][23:27:36] WARNING: not removing hydrogen atom without neighbors\n",
      "[23:27:36] WARNING: not removing hydrogen atom without neighbors\n",
      "[23:27:36] WARNING: not removing hydrogen atom without neighbors\n",
      "[23:27:36] WARNING: not removing hydrogen atom without neighbors\n",
      " 40%|███████████████████████████████████████████████▍                                                                        | 1398/3538 [05:54<00:45, 47.42it/s][23:27:36] WARNING: not removing hydrogen atom without neighbors\n",
      "[23:27:36] WARNING: not removing hydrogen atom without neighbors\n",
      "[23:27:36] WARNING: not removing hydrogen atom without neighbors\n",
      "[23:27:36] WARNING: not removing hydrogen atom without neighbors\n",
      " 40%|███████████████████████████████████████████████▋                                                                        | 1405/3538 [05:54<00:42, 50.16it/s][23:27:36] WARNING: not removing hydrogen atom without neighbors\n",
      "[23:27:36] WARNING: not removing hydrogen atom without neighbors\n",
      "[23:27:36] WARNING: not removing hydrogen atom without neighbors\n",
      " 40%|███████████████████████████████████████████████▊                                                                        | 1411/3538 [05:55<00:46, 45.64it/s][23:27:36] WARNING: not removing hydrogen atom without neighbors\n",
      " 40%|████████████████████████████████████████████████                                                                        | 1416/3538 [05:55<00:45, 46.69it/s][23:27:36] WARNING: not removing hydrogen atom without neighbors\n",
      "[23:27:36] WARNING: not removing hydrogen atom without neighbors\n",
      "[23:27:36] WARNING: not removing hydrogen atom without neighbors\n",
      "[23:27:36] WARNING: not removing hydrogen atom without neighbors\n",
      "[23:27:36] WARNING: not removing hydrogen atom without neighbors\n",
      " 40%|████████████████████████████████████████████████▏                                                                       | 1421/3538 [05:55<00:47, 44.13it/s][23:27:36] WARNING: not removing hydrogen atom without neighbors\n",
      "[23:27:36] WARNING: not removing hydrogen atom without neighbors\n",
      "[23:27:36] WARNING: not removing hydrogen atom without neighbors\n",
      "[23:27:36] WARNING: not removing hydrogen atom without neighbors\n",
      " 40%|████████████████████████████████████████████████▎                                                                       | 1426/3538 [05:55<00:46, 45.20it/s][23:27:36] WARNING: not removing hydrogen atom without neighbors\n",
      "[23:27:36] WARNING: not removing hydrogen atom without neighbors\n",
      "[23:27:36] WARNING: not removing hydrogen atom without neighbors\n"
     ]
    },
    {
     "name": "stdout",
     "output_type": "stream",
     "text": [
      "need at least one array to concatenate\n"
     ]
    },
    {
     "name": "stderr",
     "output_type": "stream",
     "text": [
      "[23:27:36] WARNING: not removing hydrogen atom without neighbors\n",
      "[23:27:36] WARNING: not removing hydrogen atom without neighbors\n",
      " 40%|████████████████████████████████████████████████▌                                                                       | 1431/3538 [05:55<00:56, 37.33it/s][23:27:36] WARNING: not removing hydrogen atom without neighbors\n",
      "[23:27:36] WARNING: not removing hydrogen atom without neighbors\n",
      "[23:27:37] WARNING: not removing hydrogen atom without neighbors\n",
      "[23:27:37] WARNING: not removing hydrogen atom without neighbors\n",
      " 41%|████████████████████████████████████████████████▋                                                                       | 1435/3538 [05:55<01:02, 33.41it/s][23:27:37] WARNING: not removing hydrogen atom without neighbors\n",
      "[23:27:37] WARNING: not removing hydrogen atom without neighbors\n",
      "[23:27:37] WARNING: not removing hydrogen atom without neighbors\n",
      "[23:27:37] WARNING: not removing hydrogen atom without neighbors\n",
      " 41%|████████████████████████████████████████████████▉                                                                       | 1441/3538 [05:55<00:53, 39.44it/s][23:27:37] WARNING: not removing hydrogen atom without neighbors\n",
      "[23:27:37] WARNING: not removing hydrogen atom without neighbors\n",
      "[23:27:37] WARNING: not removing hydrogen atom without neighbors\n",
      "[23:27:37] WARNING: not removing hydrogen atom without neighbors\n",
      " 41%|█████████████████████████████████████████████████                                                                       | 1447/3538 [05:56<00:48, 43.54it/s][23:27:37] WARNING: not removing hydrogen atom without neighbors\n",
      "[23:27:37] SMILES Parse Error: syntax error while parsing: [R][X]\n",
      "[23:27:37] SMILES Parse Error: Failed parsing SMILES '[R][X]' for input: '[R][X]'\n",
      "[23:27:37] SMILES Parse Error: syntax error while parsing: [XH]\n",
      "[23:27:37] SMILES Parse Error: Failed parsing SMILES '[XH]' for input: '[XH]'\n"
     ]
    },
    {
     "name": "stdout",
     "output_type": "stream",
     "text": [
      "need at least one array to concatenate\n",
      "Python argument types in\n",
      "    FingeprintGenerator64.GetFingerprintAsNumPy(FingeprintGenerator64, NoneType)\n",
      "did not match C++ signature:\n",
      "    GetFingerprintAsNumPy(RDKit::FingerprintGenerator<unsigned long> const* self, RDKit::ROMol mol, boost::python::api::object fromAtoms=[], boost::python::api::object ignoreAtoms=[], int confId=-1, boost::python::api::object customAtomInvariants=[], boost::python::api::object customBondInvariants=[], boost::python::api::object additionalOutput=None)\n"
     ]
    },
    {
     "name": "stderr",
     "output_type": "stream",
     "text": [
      "[23:27:41] SMILES Parse Error: syntax error while parsing: [R][X]\n",
      "[23:27:41] SMILES Parse Error: Failed parsing SMILES '[R][X]' for input: '[R][X]'\n",
      "[23:27:41] WARNING: not removing hydrogen atom without neighbors\n",
      "[23:27:42] SMILES Parse Error: syntax error while parsing: [XH]\n",
      "[23:27:42] SMILES Parse Error: Failed parsing SMILES '[XH]' for input: '[XH]'\n"
     ]
    },
    {
     "name": "stdout",
     "output_type": "stream",
     "text": [
      "Python argument types in\n",
      "    FingeprintGenerator64.GetFingerprintAsNumPy(FingeprintGenerator64, NoneType)\n",
      "did not match C++ signature:\n",
      "    GetFingerprintAsNumPy(RDKit::FingerprintGenerator<unsigned long> const* self, RDKit::ROMol mol, boost::python::api::object fromAtoms=[], boost::python::api::object ignoreAtoms=[], int confId=-1, boost::python::api::object customAtomInvariants=[], boost::python::api::object customBondInvariants=[], boost::python::api::object additionalOutput=None)\n"
     ]
    },
    {
     "name": "stderr",
     "output_type": "stream",
     "text": [
      "[23:27:45] WARNING: not removing hydrogen atom without neighbors\n",
      "[23:27:47] WARNING: not removing hydrogen atom without neighbors\n",
      " 41%|█████████████████████████████████████████████████▎                                                                      | 1453/3538 [06:07<23:21,  1.49it/s][23:27:50] WARNING: not removing hydrogen atom without neighbors\n"
     ]
    },
    {
     "name": "stdout",
     "output_type": "stream",
     "text": [
      "need at least one array to concatenate\n"
     ]
    },
    {
     "name": "stderr",
     "output_type": "stream",
     "text": [
      "[23:27:50] WARNING: not removing hydrogen atom without neighbors\n",
      "[23:27:51] WARNING: not removing hydrogen atom without neighbors\n",
      " 41%|█████████████████████████████████████████████████▍                                                                      | 1457/3538 [06:10<23:37,  1.47it/s][23:27:51] WARNING: not removing hydrogen atom without neighbors\n",
      "[23:27:51] WARNING: not removing hydrogen atom without neighbors\n",
      "[23:27:52] WARNING: not removing hydrogen atom without neighbors\n",
      "[23:27:52] WARNING: not removing hydrogen atom without neighbors\n",
      "[23:27:52] WARNING: not removing hydrogen atom without neighbors\n",
      " 41%|█████████████████████████████████████████████████▋                                                                      | 1465/3538 [06:10<12:54,  2.68it/s][23:27:52] WARNING: not removing hydrogen atom without neighbors\n",
      "[23:27:52] WARNING: not removing hydrogen atom without neighbors\n",
      "[23:27:52] WARNING: not removing hydrogen atom without neighbors\n",
      "[23:27:52] WARNING: not removing hydrogen atom without neighbors\n",
      "[23:27:52] WARNING: not removing hydrogen atom without neighbors\n",
      " 42%|█████████████████████████████████████████████████▉                                                                      | 1471/3538 [06:10<08:49,  3.90it/s]"
     ]
    },
    {
     "name": "stdout",
     "output_type": "stream",
     "text": [
      "need at least one array to concatenate\n"
     ]
    },
    {
     "name": "stderr",
     "output_type": "stream",
     "text": [
      "[23:27:52] WARNING: not removing hydrogen atom without neighbors\n",
      "[23:27:52] WARNING: not removing hydrogen atom without neighbors\n",
      "[23:27:52] WARNING: not removing hydrogen atom without neighbors\n",
      "[23:27:52] WARNING: not removing hydrogen atom without neighbors\n",
      " 42%|██████████████████████████████████████████████████                                                                      | 1477/3538 [06:11<06:10,  5.57it/s][23:27:52] WARNING: not removing hydrogen atom without neighbors\n",
      "[23:27:52] WARNING: not removing hydrogen atom without neighbors\n",
      "[23:27:52] WARNING: not removing hydrogen atom without neighbors\n",
      "[23:27:52] WARNING: not removing hydrogen atom without neighbors\n",
      "[23:27:52] WARNING: not removing hydrogen atom without neighbors\n",
      " 42%|██████████████████████████████████████████████████▎                                                                     | 1484/3538 [06:11<04:11,  8.16it/s][23:27:52] WARNING: not removing hydrogen atom without neighbors\n",
      "[23:27:52] WARNING: not removing hydrogen atom without neighbors\n",
      "[23:27:52] WARNING: not removing hydrogen atom without neighbors\n",
      "[23:27:52] WARNING: not removing hydrogen atom without neighbors\n",
      "[23:27:52] WARNING: not removing hydrogen atom without neighbors\n",
      " 42%|██████████████████████████████████████████████████▌                                                                     | 1491/3538 [06:11<02:58, 11.49it/s][23:27:52] WARNING: not removing hydrogen atom without neighbors\n",
      "[23:27:52] WARNING: not removing hydrogen atom without neighbors\n",
      "[23:27:52] WARNING: not removing hydrogen atom without neighbors\n",
      "[23:27:52] WARNING: not removing hydrogen atom without neighbors\n",
      "[23:27:52] WARNING: not removing hydrogen atom without neighbors\n",
      "[23:27:52] WARNING: not removing hydrogen atom without neighbors\n",
      " 42%|██████████████████████████████████████████████████▊                                                                     | 1497/3538 [06:11<02:20, 14.49it/s][23:27:52] WARNING: not removing hydrogen atom without neighbors\n",
      "[23:27:52] WARNING: not removing hydrogen atom without neighbors\n",
      "[23:27:52] WARNING: not removing hydrogen atom without neighbors\n",
      "[23:27:52] WARNING: not removing hydrogen atom without neighbors\n",
      "[23:27:52] WARNING: not removing hydrogen atom without neighbors\n",
      "[23:27:52] WARNING: not removing hydrogen atom without neighbors\n",
      " 42%|██████████████████████████████████████████████████▉                                                                     | 1503/3538 [06:11<01:51, 18.31it/s][23:27:52] WARNING: not removing hydrogen atom without neighbors\n",
      "[23:27:52] WARNING: not removing hydrogen atom without neighbors\n",
      "[23:27:52] WARNING: not removing hydrogen atom without neighbors\n",
      "[23:27:52] WARNING: not removing hydrogen atom without neighbors\n",
      "[23:27:52] WARNING: not removing hydrogen atom without neighbors\n",
      "[23:27:52] WARNING: not removing hydrogen atom without neighbors\n",
      " 43%|███████████████████████████████████████████████████▏                                                                    | 1509/3538 [06:11<01:31, 22.19it/s][23:27:52] WARNING: not removing hydrogen atom without neighbors\n",
      "[23:27:52] WARNING: not removing hydrogen atom without neighbors\n",
      "[23:27:52] WARNING: not removing hydrogen atom without neighbors\n",
      "[23:27:52] WARNING: not removing hydrogen atom without neighbors\n",
      "[23:27:53] WARNING: not removing hydrogen atom without neighbors\n",
      " 43%|███████████████████████████████████████████████████▎                                                                    | 1514/3538 [06:11<01:21, 24.95it/s][23:27:53] WARNING: not removing hydrogen atom without neighbors\n",
      "[23:27:53] WARNING: not removing hydrogen atom without neighbors\n",
      "[23:27:53] WARNING: not removing hydrogen atom without neighbors\n",
      " 43%|███████████████████████████████████████████████████▌                                                                    | 1519/3538 [06:11<01:13, 27.58it/s][23:27:53] WARNING: not removing hydrogen atom without neighbors\n",
      "[23:27:53] WARNING: not removing hydrogen atom without neighbors\n",
      "[23:27:53] WARNING: not removing hydrogen atom without neighbors\n",
      "[23:27:53] WARNING: not removing hydrogen atom without neighbors\n",
      "[23:27:53] WARNING: not removing hydrogen atom without neighbors\n",
      " 43%|███████████████████████████████████████████████████▋                                                                    | 1525/3538 [06:12<01:02, 32.34it/s][23:27:53] WARNING: not removing hydrogen atom without neighbors\n",
      "[23:27:53] WARNING: not removing hydrogen atom without neighbors\n",
      "[23:27:53] WARNING: not removing hydrogen atom without neighbors\n",
      "[23:27:53] WARNING: not removing hydrogen atom without neighbors\n",
      " 43%|███████████████████████████████████████████████████▉                                                                    | 1530/3538 [06:12<01:15, 26.62it/s][23:27:53] WARNING: not removing hydrogen atom without neighbors\n",
      "[23:27:53] WARNING: not removing hydrogen atom without neighbors\n",
      " 43%|████████████████████████████████████████████████████                                                                    | 1534/3538 [06:12<01:24, 23.75it/s][23:27:53] WARNING: not removing hydrogen atom without neighbors\n",
      "[23:27:53] WARNING: not removing hydrogen atom without neighbors\n",
      "[23:27:53] WARNING: not removing hydrogen atom without neighbors\n",
      "[23:27:53] WARNING: not removing hydrogen atom without neighbors\n",
      "[23:27:53] WARNING: not removing hydrogen atom without neighbors\n",
      " 43%|████████████████████████████████████████████████████▏                                                                   | 1539/3538 [06:12<01:11, 27.96it/s][23:27:53] WARNING: not removing hydrogen atom without neighbors\n",
      "[23:27:53] WARNING: not removing hydrogen atom without neighbors\n",
      "[23:27:53] WARNING: not removing hydrogen atom without neighbors\n",
      "[23:27:53] WARNING: not removing hydrogen atom without neighbors\n",
      "[23:27:53] Conflicting single bond directions around double bond at index 32.\n",
      "[23:27:53]   BondStereo set to STEREONONE and single bond directions set to NONE.\n",
      "[23:27:53] WARNING: not removing hydrogen atom without neighbors\n",
      " 44%|████████████████████████████████████████████████████▎                                                                   | 1544/3538 [06:12<01:02, 31.86it/s][23:27:54] WARNING: not removing hydrogen atom without neighbors\n",
      "[23:27:54] WARNING: not removing hydrogen atom without neighbors\n",
      "[23:27:54] WARNING: not removing hydrogen atom without neighbors\n",
      "[23:27:54] Explicit valence for atom # 4 N, 4, is greater than permitted\n",
      " 44%|████████████████████████████████████████████████████▌                                                                   | 1548/3538 [06:14<05:14,  6.34it/s]"
     ]
    },
    {
     "name": "stdout",
     "output_type": "stream",
     "text": [
      "Python argument types in\n",
      "    FingeprintGenerator64.GetFingerprintAsNumPy(FingeprintGenerator64, NoneType)\n",
      "did not match C++ signature:\n",
      "    GetFingerprintAsNumPy(RDKit::FingerprintGenerator<unsigned long> const* self, RDKit::ROMol mol, boost::python::api::object fromAtoms=[], boost::python::api::object ignoreAtoms=[], int confId=-1, boost::python::api::object customAtomInvariants=[], boost::python::api::object customBondInvariants=[], boost::python::api::object additionalOutput=None)\n"
     ]
    },
    {
     "name": "stderr",
     "output_type": "stream",
     "text": [
      "[23:27:58] WARNING: not removing hydrogen atom without neighbors\n",
      "[23:28:00] WARNING: not removing hydrogen atom without neighbors\n",
      " 44%|████████████████████████████████████████████████████▌                                                                   | 1551/3538 [06:20<18:26,  1.80it/s][23:28:03] WARNING: not removing hydrogen atom without neighbors\n",
      "[23:28:03] WARNING: not removing hydrogen atom without neighbors\n",
      " 44%|████████████████████████████████████████████████████▋                                                                   | 1554/3538 [06:22<17:59,  1.84it/s][23:28:03] WARNING: not removing hydrogen atom without neighbors\n",
      "[23:28:03] WARNING: not removing hydrogen atom without neighbors\n",
      " 44%|████████████████████████████████████████████████████▉                                                                   | 1560/3538 [06:22<10:58,  3.01it/s][23:28:03] WARNING: not removing hydrogen atom without neighbors\n",
      "[23:28:03] WARNING: not removing hydrogen atom without neighbors\n",
      "[23:28:03] WARNING: not removing hydrogen atom without neighbors\n",
      "[23:28:03] WARNING: not removing hydrogen atom without neighbors\n",
      "[23:28:03] WARNING: not removing hydrogen atom without neighbors\n",
      " 44%|█████████████████████████████████████████████████████                                                                   | 1565/3538 [06:22<07:37,  4.31it/s]"
     ]
    },
    {
     "name": "stdout",
     "output_type": "stream",
     "text": [
      "need at least one array to concatenate\n"
     ]
    },
    {
     "name": "stderr",
     "output_type": "stream",
     "text": [
      "[23:28:03] WARNING: not removing hydrogen atom without neighbors\n",
      "[23:28:03] WARNING: not removing hydrogen atom without neighbors\n",
      "[23:28:03] WARNING: not removing hydrogen atom without neighbors\n",
      "[23:28:03] WARNING: not removing hydrogen atom without neighbors\n",
      " 44%|█████████████████████████████████████████████████████▎                                                                  | 1572/3538 [06:22<04:48,  6.81it/s][23:28:04] WARNING: not removing hydrogen atom without neighbors\n",
      "[23:28:04] WARNING: not removing hydrogen atom without neighbors\n",
      "[23:28:04] WARNING: not removing hydrogen atom without neighbors\n",
      "[23:28:04] WARNING: not removing hydrogen atom without neighbors\n",
      " 45%|█████████████████████████████████████████████████████▍                                                                  | 1577/3538 [06:22<03:39,  8.95it/s]"
     ]
    },
    {
     "name": "stdout",
     "output_type": "stream",
     "text": [
      "need at least one array to concatenate\n"
     ]
    },
    {
     "name": "stderr",
     "output_type": "stream",
     "text": [
      "[23:28:04] WARNING: not removing hydrogen atom without neighbors\n",
      "[23:28:04] WARNING: not removing hydrogen atom without neighbors\n",
      "[23:28:04] WARNING: not removing hydrogen atom without neighbors\n",
      "[23:28:04] WARNING: not removing hydrogen atom without neighbors\n",
      "[23:28:04] WARNING: not removing hydrogen atom without neighbors\n",
      "[23:28:04] WARNING: not removing hydrogen atom without neighbors\n",
      "[23:28:04] WARNING: not removing hydrogen atom without neighbors\n",
      "[23:28:04] WARNING: not removing hydrogen atom without neighbors\n",
      "[23:28:04] WARNING: not removing hydrogen atom without neighbors\n",
      "[23:28:04] WARNING: not removing hydrogen atom without neighbors\n",
      "[23:28:04] WARNING: not removing hydrogen atom without neighbors\n",
      " 45%|█████████████████████████████████████████████████████▋                                                                  | 1584/3538 [06:22<02:29, 13.05it/s][23:28:04] WARNING: not removing hydrogen atom without neighbors\n",
      "[23:28:04] WARNING: not removing hydrogen atom without neighbors\n",
      "[23:28:04] WARNING: not removing hydrogen atom without neighbors\n",
      "[23:28:04] WARNING: not removing hydrogen atom without neighbors\n",
      "[23:28:04] WARNING: not removing hydrogen atom without neighbors\n",
      "[23:28:04] WARNING: not removing hydrogen atom without neighbors\n",
      "[23:28:04] WARNING: not removing hydrogen atom without neighbors\n",
      "[23:28:04] WARNING: not removing hydrogen atom without neighbors\n",
      "[23:28:04] WARNING: not removing hydrogen atom without neighbors\n",
      "[23:28:04] WARNING: not removing hydrogen atom without neighbors\n",
      " 45%|█████████████████████████████████████████████████████▉                                                                  | 1590/3538 [06:23<01:53, 17.14it/s][23:28:04] WARNING: not removing hydrogen atom without neighbors\n",
      "[23:28:04] WARNING: not removing hydrogen atom without neighbors\n",
      "[23:28:04] WARNING: not removing hydrogen atom without neighbors\n",
      "[23:28:04] WARNING: not removing hydrogen atom without neighbors\n",
      "[23:28:04] WARNING: not removing hydrogen atom without neighbors\n",
      "[23:28:04] WARNING: not removing hydrogen atom without neighbors\n",
      "[23:28:04] WARNING: not removing hydrogen atom without neighbors\n",
      "[23:28:04] WARNING: not removing hydrogen atom without neighbors\n",
      " 45%|██████████████████████████████████████████████████████▏                                                                 | 1596/3538 [06:23<01:33, 20.69it/s][23:28:04] WARNING: not removing hydrogen atom without neighbors\n",
      "[23:28:04] WARNING: not removing hydrogen atom without neighbors\n",
      "[23:28:04] WARNING: not removing hydrogen atom without neighbors\n",
      "[23:28:04] WARNING: not removing hydrogen atom without neighbors\n",
      "[23:28:04] WARNING: not removing hydrogen atom without neighbors\n",
      " 45%|██████████████████████████████████████████████████████▎                                                                 | 1601/3538 [06:23<01:24, 23.04it/s][23:28:04] WARNING: not removing hydrogen atom without neighbors\n",
      "[23:28:04] WARNING: not removing hydrogen atom without neighbors\n",
      "[23:28:04] WARNING: not removing hydrogen atom without neighbors\n",
      "[23:28:04] WARNING: not removing hydrogen atom without neighbors\n",
      " 45%|██████████████████████████████████████████████████████▍                                                                 | 1606/3538 [06:23<01:11, 27.03it/s][23:28:04] WARNING: not removing hydrogen atom without neighbors\n",
      "[23:28:04] WARNING: not removing hydrogen atom without neighbors\n",
      "[23:28:04] WARNING: not removing hydrogen atom without neighbors\n",
      "[23:28:04] WARNING: not removing hydrogen atom without neighbors\n",
      "[23:28:04] WARNING: not removing hydrogen atom without neighbors\n",
      " 46%|██████████████████████████████████████████████████████▋                                                                 | 1611/3538 [06:23<01:05, 29.46it/s][23:28:04] WARNING: not removing hydrogen atom without neighbors\n",
      "[23:28:04] SMILES Parse Error: syntax error while parsing: CC\\C=C/C\\C=C/C\\C=C/CCCCCCCCCC(=O)[a\n",
      "[23:28:04] SMILES Parse Error: Failed parsing SMILES 'CC\\C=C/C\\C=C/C\\C=C/CCCCCCCCCC(=O)[a' for input: 'CC\\C=C/C\\C=C/C\\C=C/CCCCCCCCCC(=O)[a'\n"
     ]
    },
    {
     "name": "stdout",
     "output_type": "stream",
     "text": [
      "Python argument types in\n",
      "    FingeprintGenerator64.GetFingerprintAsNumPy(FingeprintGenerator64, NoneType)\n",
      "did not match C++ signature:\n",
      "    GetFingerprintAsNumPy(RDKit::FingerprintGenerator<unsigned long> const* self, RDKit::ROMol mol, boost::python::api::object fromAtoms=[], boost::python::api::object ignoreAtoms=[], int confId=-1, boost::python::api::object customAtomInvariants=[], boost::python::api::object customBondInvariants=[], boost::python::api::object additionalOutput=None)\n"
     ]
    },
    {
     "name": "stderr",
     "output_type": "stream",
     "text": [
      "[23:28:09] WARNING: not removing hydrogen atom without neighbors\n",
      "[23:28:11] WARNING: not removing hydrogen atom without neighbors\n",
      "[23:28:11] WARNING: not removing hydrogen atom without neighbors\n",
      "[23:28:11] WARNING: not removing hydrogen atom without neighbors\n",
      " 46%|██████████████████████████████████████████████████████▊                                                                 | 1616/3538 [06:30<13:15,  2.42it/s][23:28:11] WARNING: not removing hydrogen atom without neighbors\n",
      "[23:28:11] WARNING: not removing hydrogen atom without neighbors\n",
      "[23:28:11] WARNING: not removing hydrogen atom without neighbors\n",
      "[23:28:11] WARNING: not removing hydrogen atom without neighbors\n",
      "[23:28:11] WARNING: not removing hydrogen atom without neighbors\n",
      " 46%|███████████████████████████████████████████████████████                                                                 | 1622/3538 [06:30<09:02,  3.53it/s][23:28:11] WARNING: not removing hydrogen atom without neighbors\n",
      "[23:28:11] WARNING: not removing hydrogen atom without neighbors\n",
      "[23:28:11] WARNING: not removing hydrogen atom without neighbors\n",
      "[23:28:11] WARNING: not removing hydrogen atom without neighbors\n",
      "[23:28:11] WARNING: not removing hydrogen atom without neighbors\n",
      " 46%|███████████████████████████████████████████████████████▎                                                                | 1630/3538 [06:30<05:41,  5.59it/s][23:28:11] WARNING: not removing hydrogen atom without neighbors\n",
      "[23:28:11] WARNING: not removing hydrogen atom without neighbors\n",
      "[23:28:11] WARNING: not removing hydrogen atom without neighbors\n",
      "[23:28:11] WARNING: not removing hydrogen atom without neighbors\n",
      "[23:28:11] WARNING: not removing hydrogen atom without neighbors\n",
      "[23:28:11] WARNING: not removing hydrogen atom without neighbors\n",
      "[23:28:11] WARNING: not removing hydrogen atom without neighbors\n",
      " 46%|███████████████████████████████████████████████████████▌                                                                | 1638/3538 [06:30<03:47,  8.34it/s][23:28:11] WARNING: not removing hydrogen atom without neighbors\n",
      "[23:28:11] WARNING: not removing hydrogen atom without neighbors\n",
      "[23:28:11] WARNING: not removing hydrogen atom without neighbors\n",
      "[23:28:11] WARNING: not removing hydrogen atom without neighbors\n",
      "[23:28:12] WARNING: not removing hydrogen atom without neighbors\n",
      "[23:28:12] WARNING: not removing hydrogen atom without neighbors\n",
      "[23:28:12] WARNING: not removing hydrogen atom without neighbors\n",
      " 46%|███████████████████████████████████████████████████████▊                                                                | 1645/3538 [06:30<02:46, 11.39it/s][23:28:12] WARNING: not removing hydrogen atom without neighbors\n",
      "[23:28:12] WARNING: not removing hydrogen atom without neighbors\n",
      "[23:28:12] WARNING: not removing hydrogen atom without neighbors\n",
      "[23:28:12] WARNING: not removing hydrogen atom without neighbors\n",
      " 47%|████████████████████████████████████████████████████████                                                                | 1653/3538 [06:30<01:58, 15.86it/s][23:28:12] WARNING: not removing hydrogen atom without neighbors\n",
      "[23:28:12] WARNING: not removing hydrogen atom without neighbors\n",
      "[23:28:12] WARNING: not removing hydrogen atom without neighbors\n",
      "[23:28:12] WARNING: not removing hydrogen atom without neighbors\n",
      "[23:28:12] WARNING: not removing hydrogen atom without neighbors\n",
      "[23:28:12] WARNING: not removing hydrogen atom without neighbors\n",
      "[23:28:12] WARNING: not removing hydrogen atom without neighbors\n",
      " 47%|████████████████████████████████████████████████████████▎                                                               | 1661/3538 [06:31<01:27, 21.38it/s][23:28:12] WARNING: not removing hydrogen atom without neighbors\n",
      "[23:28:12] WARNING: not removing hydrogen atom without neighbors\n",
      "[23:28:12] WARNING: not removing hydrogen atom without neighbors\n",
      "[23:28:12] WARNING: not removing hydrogen atom without neighbors\n",
      "[23:28:12] Conflicting single bond directions around double bond at index 12.\n",
      "[23:28:12]   BondStereo set to STEREONONE and single bond directions set to NONE.\n",
      "[23:28:12] Conflicting single bond directions around double bond at index 17.\n",
      "[23:28:12]   BondStereo set to STEREONONE and single bond directions set to NONE.\n",
      "[23:28:12] Conflicting single bond directions around double bond at index 12.\n",
      "[23:28:12]   BondStereo set to STEREONONE and single bond directions set to NONE.\n",
      "[23:28:12] Conflicting single bond directions around double bond at index 17.\n",
      "[23:28:12]   BondStereo set to STEREONONE and single bond directions set to NONE.\n",
      "[23:28:12] Conflicting single bond directions around double bond at index 12.\n",
      "[23:28:12]   BondStereo set to STEREONONE and single bond directions set to NONE.\n",
      "[23:28:12] Conflicting single bond directions around double bond at index 17.\n",
      "[23:28:12]   BondStereo set to STEREONONE and single bond directions set to NONE.\n",
      "[23:28:12] WARNING: not removing hydrogen atom without neighbors\n",
      " 47%|████████████████████████████████████████████████████████▌                                                               | 1668/3538 [06:31<01:15, 24.89it/s][23:28:12] WARNING: not removing hydrogen atom without neighbors\n",
      "[23:28:12] WARNING: not removing hydrogen atom without neighbors\n"
     ]
    },
    {
     "name": "stdout",
     "output_type": "stream",
     "text": [
      "need at least one array to concatenate\n"
     ]
    },
    {
     "name": "stderr",
     "output_type": "stream",
     "text": [
      "[23:28:12] WARNING: not removing hydrogen atom without neighbors\n",
      "[23:28:12] WARNING: not removing hydrogen atom without neighbors\n",
      "[23:28:12] WARNING: not removing hydrogen atom without neighbors\n",
      "[23:28:12] WARNING: not removing hydrogen atom without neighbors\n",
      " 47%|████████████████████████████████████████████████████████▊                                                               | 1675/3538 [06:31<01:06, 27.81it/s][23:28:12] WARNING: not removing hydrogen atom without neighbors\n",
      "[23:28:12] WARNING: not removing hydrogen atom without neighbors\n",
      "[23:28:12] WARNING: not removing hydrogen atom without neighbors\n",
      "[23:28:12] WARNING: not removing hydrogen atom without neighbors\n",
      "[23:28:12] WARNING: not removing hydrogen atom without neighbors\n",
      " 48%|█████████████████████████████████████████████████████████                                                               | 1681/3538 [06:31<01:00, 30.89it/s][23:28:12] WARNING: not removing hydrogen atom without neighbors\n",
      "[23:28:12] WARNING: not removing hydrogen atom without neighbors\n",
      "[23:28:12] WARNING: not removing hydrogen atom without neighbors\n",
      "[23:28:12] WARNING: not removing hydrogen atom without neighbors\n",
      "[23:28:12] WARNING: not removing hydrogen atom without neighbors\n",
      "[23:28:12] WARNING: not removing hydrogen atom without neighbors\n",
      " 48%|█████████████████████████████████████████████████████████▏                                                              | 1687/3538 [06:31<00:56, 32.64it/s][23:28:12] WARNING: not removing hydrogen atom without neighbors\n",
      "[23:28:12] WARNING: not removing hydrogen atom without neighbors\n",
      "[23:28:12] WARNING: not removing hydrogen atom without neighbors\n",
      "[23:28:12] WARNING: not removing hydrogen atom without neighbors\n",
      " 48%|█████████████████████████████████████████████████████████▍                                                              | 1692/3538 [06:31<00:53, 34.66it/s][23:28:13] WARNING: not removing hydrogen atom without neighbors\n",
      "[23:28:13] WARNING: not removing hydrogen atom without neighbors\n",
      "[23:28:13] WARNING: not removing hydrogen atom without neighbors\n",
      "[23:28:13] WARNING: not removing hydrogen atom without neighbors\n",
      "[23:28:13] WARNING: not removing hydrogen atom without neighbors\n",
      " 48%|█████████████████████████████████████████████████████████▋                                                              | 1699/3538 [06:31<00:46, 39.90it/s][23:28:13] WARNING: not removing hydrogen atom without neighbors\n",
      "[23:28:13] WARNING: not removing hydrogen atom without neighbors\n"
     ]
    },
    {
     "name": "stdout",
     "output_type": "stream",
     "text": [
      "need at least one array to concatenate\n",
      "need at least one array to concatenate\n",
      "need at least one array to concatenate\n"
     ]
    },
    {
     "name": "stderr",
     "output_type": "stream",
     "text": [
      "[23:28:13] WARNING: not removing hydrogen atom without neighbors\n",
      "[23:28:13] WARNING: not removing hydrogen atom without neighbors\n",
      "[23:28:13] WARNING: not removing hydrogen atom without neighbors\n",
      " 48%|█████████████████████████████████████████████████████████▊                                                              | 1704/3538 [06:32<00:48, 38.07it/s][23:28:13] WARNING: not removing hydrogen atom without neighbors\n",
      "[23:28:13] WARNING: not removing hydrogen atom without neighbors\n",
      "[23:28:13] WARNING: not removing hydrogen atom without neighbors\n",
      " 48%|█████████████████████████████████████████████████████████▉                                                              | 1709/3538 [06:32<00:46, 39.10it/s][23:28:13] WARNING: not removing hydrogen atom without neighbors\n",
      "[23:28:13] WARNING: not removing hydrogen atom without neighbors\n",
      "[23:28:13] WARNING: not removing hydrogen atom without neighbors\n",
      " 48%|██████████████████████████████████████████████████████████▏                                                             | 1715/3538 [06:32<00:41, 43.73it/s][23:28:13] WARNING: not removing hydrogen atom without neighbors\n",
      "[23:28:13] WARNING: not removing hydrogen atom without neighbors\n"
     ]
    },
    {
     "name": "stdout",
     "output_type": "stream",
     "text": [
      "need at least one array to concatenate\n",
      "need at least one array to concatenate\n"
     ]
    },
    {
     "name": "stderr",
     "output_type": "stream",
     "text": [
      "[23:28:13] WARNING: not removing hydrogen atom without neighbors\n",
      " 49%|██████████████████████████████████████████████████████████▍                                                             | 1723/3538 [06:32<00:35, 51.59it/s][23:28:13] WARNING: not removing hydrogen atom without neighbors\n",
      "[23:28:13] WARNING: not removing hydrogen atom without neighbors\n",
      "[23:28:13] WARNING: not removing hydrogen atom without neighbors\n",
      "[23:28:13] WARNING: not removing hydrogen atom without neighbors\n",
      "[23:28:13] WARNING: not removing hydrogen atom without neighbors\n",
      "[23:28:13] WARNING: not removing hydrogen atom without neighbors\n",
      " 49%|██████████████████████████████████████████████████████████▋                                                             | 1730/3538 [06:32<00:35, 50.73it/s][23:28:13] WARNING: not removing hydrogen atom without neighbors\n",
      "[23:28:13] WARNING: not removing hydrogen atom without neighbors\n",
      "[23:28:13] WARNING: not removing hydrogen atom without neighbors\n"
     ]
    },
    {
     "name": "stdout",
     "output_type": "stream",
     "text": [
      "need at least one array to concatenate\n"
     ]
    },
    {
     "name": "stderr",
     "output_type": "stream",
     "text": [
      "[23:28:13] WARNING: not removing hydrogen atom without neighbors\n",
      "[23:28:13] WARNING: not removing hydrogen atom without neighbors\n",
      "[23:28:13] WARNING: not removing hydrogen atom without neighbors\n",
      " 49%|██████████████████████████████████████████████████████████▉                                                             | 1736/3538 [06:32<00:39, 46.07it/s][23:28:13] WARNING: not removing hydrogen atom without neighbors\n",
      "[23:28:13] WARNING: not removing hydrogen atom without neighbors\n",
      "[23:28:13] WARNING: not removing hydrogen atom without neighbors\n",
      " 49%|███████████████████████████████████████████████████████████                                                             | 1742/3538 [06:32<00:36, 48.73it/s][23:28:14] WARNING: not removing hydrogen atom without neighbors\n",
      "[23:28:14] WARNING: not removing hydrogen atom without neighbors\n",
      "[23:28:14] WARNING: not removing hydrogen atom without neighbors\n",
      "[23:28:14] WARNING: not removing hydrogen atom without neighbors\n"
     ]
    },
    {
     "name": "stdout",
     "output_type": "stream",
     "text": [
      "need at least one array to concatenate\n"
     ]
    },
    {
     "name": "stderr",
     "output_type": "stream",
     "text": [
      "[23:28:14] WARNING: not removing hydrogen atom without neighbors\n",
      " 49%|███████████████████████████████████████████████████████████▎                                                            | 1748/3538 [06:32<00:38, 45.93it/s][23:28:14] WARNING: not removing hydrogen atom without neighbors\n",
      "[23:28:14] WARNING: not removing hydrogen atom without neighbors\n",
      "[23:28:14] WARNING: not removing hydrogen atom without neighbors\n",
      "[23:28:14] WARNING: not removing hydrogen atom without neighbors\n",
      "[23:28:14] WARNING: not removing hydrogen atom without neighbors\n",
      " 50%|███████████████████████████████████████████████████████████▍                                                            | 1753/3538 [06:33<00:40, 44.25it/s][23:28:14] WARNING: not removing hydrogen atom without neighbors\n",
      "[23:28:14] WARNING: not removing hydrogen atom without neighbors\n",
      "[23:28:14] WARNING: not removing hydrogen atom without neighbors\n",
      "[23:28:14] WARNING: not removing hydrogen atom without neighbors\n",
      "[23:28:14] WARNING: not removing hydrogen atom without neighbors\n",
      " 50%|███████████████████████████████████████████████████████████▋                                                            | 1758/3538 [06:33<00:44, 39.99it/s][23:28:14] WARNING: not removing hydrogen atom without neighbors\n",
      "[23:28:14] WARNING: not removing hydrogen atom without neighbors\n",
      "[23:28:14] WARNING: not removing hydrogen atom without neighbors\n",
      "[23:28:14] WARNING: not removing hydrogen atom without neighbors\n",
      " 50%|███████████████████████████████████████████████████████████▊                                                            | 1763/3538 [06:33<00:42, 42.15it/s][23:28:14] WARNING: not removing hydrogen atom without neighbors\n",
      "[23:28:14] WARNING: not removing hydrogen atom without neighbors\n",
      "[23:28:14] WARNING: not removing hydrogen atom without neighbors\n",
      " 50%|████████████████████████████████████████████████████████████                                                            | 1770/3538 [06:33<00:38, 46.06it/s][23:28:14] WARNING: not removing hydrogen atom without neighbors\n"
     ]
    },
    {
     "name": "stdout",
     "output_type": "stream",
     "text": [
      "need at least one array to concatenate\n"
     ]
    },
    {
     "name": "stderr",
     "output_type": "stream",
     "text": [
      "[23:28:14] WARNING: not removing hydrogen atom without neighbors\n",
      "[23:28:14] WARNING: not removing hydrogen atom without neighbors\n",
      "[23:28:14] WARNING: not removing hydrogen atom without neighbors\n",
      "[23:28:14] WARNING: not removing hydrogen atom without neighbors\n",
      " 50%|████████████████████████████████████████████████████████████▏                                                           | 1775/3538 [06:33<00:41, 42.39it/s][23:28:14] WARNING: not removing hydrogen atom without neighbors\n",
      "[23:28:14] WARNING: not removing hydrogen atom without neighbors\n",
      "[23:28:14] WARNING: not removing hydrogen atom without neighbors\n",
      "[23:28:14] WARNING: not removing hydrogen atom without neighbors\n",
      "[23:28:14] WARNING: not removing hydrogen atom without neighbors\n",
      " 50%|████████████████████████████████████████████████████████████▎                                                           | 1780/3538 [06:33<00:40, 43.45it/s][23:28:14] WARNING: not removing hydrogen atom without neighbors\n",
      "[23:28:14] WARNING: not removing hydrogen atom without neighbors\n",
      "[23:28:14] WARNING: not removing hydrogen atom without neighbors\n",
      "[23:28:15] WARNING: not removing hydrogen atom without neighbors\n",
      "[23:28:15] WARNING: not removing hydrogen atom without neighbors\n",
      " 51%|████████████████████████████████████████████████████████████▌                                                           | 1787/3538 [06:33<00:35, 49.92it/s][23:28:15] WARNING: not removing hydrogen atom without neighbors\n",
      "[23:28:15] WARNING: not removing hydrogen atom without neighbors\n",
      "[23:28:15] WARNING: not removing hydrogen atom without neighbors\n",
      "[23:28:15] WARNING: not removing hydrogen atom without neighbors\n",
      " 51%|████████████████████████████████████████████████████████████▊                                                           | 1794/3538 [06:33<00:32, 53.13it/s]"
     ]
    },
    {
     "name": "stdout",
     "output_type": "stream",
     "text": [
      "need at least one array to concatenate\n"
     ]
    },
    {
     "name": "stderr",
     "output_type": "stream",
     "text": [
      "[23:28:15] WARNING: not removing hydrogen atom without neighbors\n",
      "[23:28:15] WARNING: not removing hydrogen atom without neighbors\n",
      "[23:28:15] WARNING: not removing hydrogen atom without neighbors\n",
      "[23:28:15] WARNING: not removing hydrogen atom without neighbors\n",
      "[23:28:15] WARNING: not removing hydrogen atom without neighbors\n",
      " 51%|█████████████████████████████████████████████████████████████                                                           | 1800/3538 [06:34<00:33, 52.01it/s][23:28:15] WARNING: not removing hydrogen atom without neighbors\n",
      "[23:28:15] WARNING: not removing hydrogen atom without neighbors\n",
      "[23:28:15] WARNING: not removing hydrogen atom without neighbors\n",
      "[23:28:15] WARNING: not removing hydrogen atom without neighbors\n",
      "[23:28:15] WARNING: not removing hydrogen atom without neighbors\n",
      "[23:28:15] WARNING: not removing hydrogen atom without neighbors\n",
      " 51%|█████████████████████████████████████████████████████████████▎                                                          | 1806/3538 [06:34<00:33, 51.81it/s][23:28:15] WARNING: not removing hydrogen atom without neighbors\n",
      "[23:28:15] WARNING: not removing hydrogen atom without neighbors\n"
     ]
    },
    {
     "name": "stdout",
     "output_type": "stream",
     "text": [
      "need at least one array to concatenate\n"
     ]
    },
    {
     "name": "stderr",
     "output_type": "stream",
     "text": [
      " 51%|█████████████████████████████████████████████████████████████▍                                                          | 1812/3538 [06:34<00:32, 53.35it/s][23:28:15] WARNING: not removing hydrogen atom without neighbors\n",
      "[23:28:15] WARNING: not removing hydrogen atom without neighbors\n",
      "[23:28:15] WARNING: not removing hydrogen atom without neighbors\n",
      "[23:28:15] WARNING: not removing hydrogen atom without neighbors\n",
      "[23:28:15] WARNING: not removing hydrogen atom without neighbors\n",
      "[23:28:15] WARNING: not removing hydrogen atom without neighbors\n",
      " 51%|█████████████████████████████████████████████████████████████▋                                                          | 1818/3538 [06:34<00:31, 54.32it/s][23:28:15] WARNING: not removing hydrogen atom without neighbors\n"
     ]
    },
    {
     "name": "stdout",
     "output_type": "stream",
     "text": [
      "need at least one array to concatenate\n",
      "need at least one array to concatenate\n"
     ]
    },
    {
     "name": "stderr",
     "output_type": "stream",
     "text": [
      "[23:28:15] WARNING: not removing hydrogen atom without neighbors\n",
      "[23:28:15] WARNING: not removing hydrogen atom without neighbors\n",
      "[23:28:15] WARNING: not removing hydrogen atom without neighbors\n",
      " 52%|█████████████████████████████████████████████████████████████▊                                                          | 1824/3538 [06:34<00:31, 54.07it/s][23:28:15] WARNING: not removing hydrogen atom without neighbors\n",
      "[23:28:15] WARNING: not removing hydrogen atom without neighbors\n",
      "[23:28:15] WARNING: not removing hydrogen atom without neighbors\n",
      "[23:28:15] WARNING: not removing hydrogen atom without neighbors\n",
      "[23:28:15] WARNING: not removing hydrogen atom without neighbors\n",
      " 52%|██████████████████████████████████████████████████████████████                                                          | 1830/3538 [06:34<00:33, 51.11it/s][23:28:15] WARNING: not removing hydrogen atom without neighbors\n",
      "[23:28:15] WARNING: not removing hydrogen atom without neighbors\n",
      "[23:28:15] WARNING: not removing hydrogen atom without neighbors\n",
      "[23:28:15] WARNING: not removing hydrogen atom without neighbors\n",
      "[23:28:15] WARNING: not removing hydrogen atom without neighbors\n",
      "[23:28:16] WARNING: not removing hydrogen atom without neighbors\n",
      " 52%|██████████████████████████████████████████████████████████████▎                                                         | 1836/3538 [06:34<00:38, 44.16it/s][23:28:16] WARNING: not removing hydrogen atom without neighbors\n",
      "[23:28:16] WARNING: not removing hydrogen atom without neighbors\n",
      "[23:28:16] WARNING: not removing hydrogen atom without neighbors\n",
      "[23:28:16] WARNING: not removing hydrogen atom without neighbors\n",
      "[23:28:16] WARNING: not removing hydrogen atom without neighbors\n",
      "[23:28:16] WARNING: not removing hydrogen atom without neighbors\n",
      " 52%|██████████████████████████████████████████████████████████████▍                                                         | 1842/3538 [06:34<00:37, 45.65it/s][23:28:16] WARNING: not removing hydrogen atom without neighbors\n",
      "[23:28:16] WARNING: not removing hydrogen atom without neighbors\n",
      "[23:28:16] WARNING: not removing hydrogen atom without neighbors\n",
      "[23:28:16] WARNING: not removing hydrogen atom without neighbors\n",
      "[23:28:16] WARNING: not removing hydrogen atom without neighbors\n",
      " 52%|██████████████████████████████████████████████████████████████▋                                                         | 1847/3538 [06:35<00:37, 45.55it/s][23:28:16] WARNING: not removing hydrogen atom without neighbors\n",
      "[23:28:16] WARNING: not removing hydrogen atom without neighbors\n",
      "[23:28:16] WARNING: not removing hydrogen atom without neighbors\n",
      "[23:28:16] WARNING: not removing hydrogen atom without neighbors\n",
      "[23:28:16] WARNING: not removing hydrogen atom without neighbors\n",
      " 52%|██████████████████████████████████████████████████████████████▊                                                         | 1852/3538 [06:35<00:40, 41.50it/s][23:28:16] WARNING: not removing hydrogen atom without neighbors\n",
      "[23:28:16] WARNING: not removing hydrogen atom without neighbors\n",
      "[23:28:16] WARNING: not removing hydrogen atom without neighbors\n",
      "[23:28:16] WARNING: not removing hydrogen atom without neighbors\n",
      "[23:28:16] WARNING: not removing hydrogen atom without neighbors\n",
      " 52%|██████████████████████████████████████████████████████████████▉                                                         | 1857/3538 [06:35<00:41, 40.66it/s][23:28:16] WARNING: not removing hydrogen atom without neighbors\n",
      "[23:28:16] WARNING: not removing hydrogen atom without neighbors\n",
      "[23:28:16] WARNING: not removing hydrogen atom without neighbors\n",
      "[23:28:16] WARNING: not removing hydrogen atom without neighbors\n",
      "[23:28:16] WARNING: not removing hydrogen atom without neighbors\n",
      " 53%|███████████████████████████████████████████████████████████████▏                                                        | 1862/3538 [06:35<00:40, 41.26it/s][23:28:16] WARNING: not removing hydrogen atom without neighbors\n",
      "[23:28:16] WARNING: not removing hydrogen atom without neighbors\n",
      "[23:28:16] WARNING: not removing hydrogen atom without neighbors\n",
      "[23:28:16] WARNING: not removing hydrogen atom without neighbors\n",
      "[23:28:16] WARNING: not removing hydrogen atom without neighbors\n",
      " 53%|███████████████████████████████████████████████████████████████▎                                                        | 1867/3538 [06:35<00:39, 42.81it/s][23:28:16] WARNING: not removing hydrogen atom without neighbors\n",
      "[23:28:16] WARNING: not removing hydrogen atom without neighbors\n",
      "[23:28:16] WARNING: not removing hydrogen atom without neighbors\n",
      " 53%|███████████████████████████████████████████████████████████████▍                                                        | 1872/3538 [06:35<00:37, 44.53it/s][23:28:16] WARNING: not removing hydrogen atom without neighbors\n",
      "[23:28:16] WARNING: not removing hydrogen atom without neighbors\n",
      "[23:28:16] WARNING: not removing hydrogen atom without neighbors\n",
      "[23:28:16] WARNING: not removing hydrogen atom without neighbors\n",
      " 53%|███████████████████████████████████████████████████████████████▊                                                        | 1880/3538 [06:35<00:30, 53.49it/s][23:28:16] WARNING: not removing hydrogen atom without neighbors\n",
      "[23:28:16] WARNING: not removing hydrogen atom without neighbors\n"
     ]
    },
    {
     "name": "stdout",
     "output_type": "stream",
     "text": [
      "need at least one array to concatenate\n",
      "need at least one array to concatenate\n",
      "need at least one array to concatenate\n",
      "need at least one array to concatenate\n"
     ]
    },
    {
     "name": "stderr",
     "output_type": "stream",
     "text": [
      "[23:28:17] WARNING: not removing hydrogen atom without neighbors\n",
      "[23:28:17] WARNING: not removing hydrogen atom without neighbors\n",
      "[23:28:17] WARNING: not removing hydrogen atom without neighbors\n",
      " 53%|███████████████████████████████████████████████████████████████▉                                                        | 1886/3538 [06:35<00:31, 52.70it/s][23:28:17] WARNING: not removing hydrogen atom without neighbors\n",
      "[23:28:17] WARNING: not removing hydrogen atom without neighbors\n",
      "[23:28:17] WARNING: not removing hydrogen atom without neighbors\n",
      "[23:28:17] WARNING: not removing hydrogen atom without neighbors\n",
      "[23:28:17] WARNING: not removing hydrogen atom without neighbors\n",
      " 53%|████████████████████████████████████████████████████████████████▏                                                       | 1892/3538 [06:35<00:31, 51.97it/s][23:28:17] WARNING: not removing hydrogen atom without neighbors\n",
      "[23:28:17] WARNING: not removing hydrogen atom without neighbors\n",
      "[23:28:17] WARNING: not removing hydrogen atom without neighbors\n",
      "[23:28:17] WARNING: not removing hydrogen atom without neighbors\n",
      "[23:28:17] WARNING: not removing hydrogen atom without neighbors\n",
      "[23:28:17] WARNING: not removing hydrogen atom without neighbors\n",
      " 54%|████████████████████████████████████████████████████████████████▍                                                       | 1898/3538 [06:36<00:31, 52.01it/s][23:28:17] WARNING: not removing hydrogen atom without neighbors\n",
      "[23:28:17] WARNING: not removing hydrogen atom without neighbors\n",
      "[23:28:17] WARNING: not removing hydrogen atom without neighbors\n",
      "[23:28:17] WARNING: not removing hydrogen atom without neighbors\n",
      "[23:28:17] WARNING: not removing hydrogen atom without neighbors\n",
      "[23:28:17] WARNING: not removing hydrogen atom without neighbors\n",
      " 54%|████████████████████████████████████████████████████████████████▌                                                       | 1905/3538 [06:36<00:29, 54.98it/s][23:28:17] WARNING: not removing hydrogen atom without neighbors\n",
      "[23:28:17] WARNING: not removing hydrogen atom without neighbors\n",
      "[23:28:17] WARNING: not removing hydrogen atom without neighbors\n",
      "[23:28:17] WARNING: not removing hydrogen atom without neighbors\n",
      "[23:28:17] WARNING: not removing hydrogen atom without neighbors\n",
      " 54%|████████████████████████████████████████████████████████████████▊                                                       | 1911/3538 [06:36<00:29, 55.63it/s][23:28:17] WARNING: not removing hydrogen atom without neighbors\n",
      "[23:28:17] WARNING: not removing hydrogen atom without neighbors\n",
      "[23:28:17] WARNING: not removing hydrogen atom without neighbors\n",
      "[23:28:17] WARNING: not removing hydrogen atom without neighbors\n",
      "[23:28:17] WARNING: not removing hydrogen atom without neighbors\n",
      " 54%|█████████████████████████████████████████████████████████████████                                                       | 1917/3538 [06:36<00:31, 51.34it/s][23:28:17] WARNING: not removing hydrogen atom without neighbors\n",
      "[23:28:17] WARNING: not removing hydrogen atom without neighbors\n",
      "[23:28:17] WARNING: not removing hydrogen atom without neighbors\n",
      "[23:28:17] WARNING: not removing hydrogen atom without neighbors\n",
      " 54%|█████████████████████████████████████████████████████████████████▎                                                      | 1925/3538 [06:36<00:29, 55.31it/s][23:28:17] WARNING: not removing hydrogen atom without neighbors\n",
      "[23:28:17] WARNING: not removing hydrogen atom without neighbors\n",
      "[23:28:17] WARNING: not removing hydrogen atom without neighbors\n",
      "[23:28:17] WARNING: not removing hydrogen atom without neighbors\n",
      " 55%|█████████████████████████████████████████████████████████████████▌                                                      | 1932/3538 [06:36<00:27, 59.04it/s]"
     ]
    },
    {
     "name": "stdout",
     "output_type": "stream",
     "text": [
      "need at least one array to concatenate\n",
      "need at least one array to concatenate\n",
      "need at least one array to concatenate\n",
      "need at least one array to concatenate\n",
      "need at least one array to concatenate\n"
     ]
    },
    {
     "name": "stderr",
     "output_type": "stream",
     "text": [
      "[23:28:17] WARNING: not removing hydrogen atom without neighbors\n",
      " 55%|█████████████████████████████████████████████████████████████████▋                                                      | 1938/3538 [06:36<00:28, 56.99it/s][23:28:18] WARNING: not removing hydrogen atom without neighbors\n",
      "[23:28:18] WARNING: not removing hydrogen atom without neighbors\n",
      "[23:28:18] WARNING: not removing hydrogen atom without neighbors\n",
      "[23:28:18] WARNING: not removing hydrogen atom without neighbors\n",
      "[23:28:18] WARNING: not removing hydrogen atom without neighbors\n",
      "[23:28:18] WARNING: not removing hydrogen atom without neighbors\n",
      " 55%|█████████████████████████████████████████████████████████████████▉                                                      | 1944/3538 [06:36<00:31, 50.01it/s][23:28:18] WARNING: not removing hydrogen atom without neighbors\n",
      "[23:28:18] WARNING: not removing hydrogen atom without neighbors\n",
      "[23:28:18] WARNING: not removing hydrogen atom without neighbors\n",
      "[23:28:18] WARNING: not removing hydrogen atom without neighbors\n",
      " 55%|██████████████████████████████████████████████████████████████████▏                                                     | 1950/3538 [06:37<00:32, 48.54it/s][23:28:18] WARNING: not removing hydrogen atom without neighbors\n",
      "[23:28:18] WARNING: not removing hydrogen atom without neighbors\n",
      "[23:28:18] WARNING: not removing hydrogen atom without neighbors\n",
      "[23:28:18] WARNING: not removing hydrogen atom without neighbors\n",
      "[23:28:18] Conflicting single bond directions around double bond at index 12.\n",
      "[23:28:18]   BondStereo set to STEREONONE and single bond directions set to NONE.\n",
      "[23:28:18] Conflicting single bond directions around double bond at index 17.\n",
      "[23:28:18]   BondStereo set to STEREONONE and single bond directions set to NONE.\n",
      " 55%|██████████████████████████████████████████████████████████████████▎                                                     | 1956/3538 [06:37<00:31, 50.64it/s][23:28:18] WARNING: not removing hydrogen atom without neighbors\n",
      "[23:28:18] WARNING: not removing hydrogen atom without neighbors\n",
      "[23:28:18] Conflicting single bond directions around double bond at index 12.\n",
      "[23:28:18]   BondStereo set to STEREONONE and single bond directions set to NONE.\n",
      "[23:28:18] Conflicting single bond directions around double bond at index 17.\n",
      "[23:28:18]   BondStereo set to STEREONONE and single bond directions set to NONE.\n",
      "[23:28:18] WARNING: not removing hydrogen atom without neighbors\n",
      "[23:28:18] Conflicting single bond directions around double bond at index 34.\n",
      "[23:28:18]   BondStereo set to STEREONONE and single bond directions set to NONE.\n",
      "[23:28:18] Conflicting single bond directions around double bond at index 39.\n",
      "[23:28:18]   BondStereo set to STEREONONE and single bond directions set to NONE.\n",
      " 55%|██████████████████████████████████████████████████████████████████▌                                                     | 1962/3538 [06:37<00:29, 52.92it/s][23:28:18] SMILES Parse Error: syntax error while parsing: CC(C)(COP(=O)([O-])OC[C@H](N[a\n",
      "[23:28:18] WARNING: not removing hydrogen atom without neighbors\n",
      "[23:28:18] SMILES Parse Error: Failed parsing SMILES 'CC(C)(COP(=O)([O-])OC[C@H](N[a' for input: 'CC(C)(COP(=O)([O-])OC[C@H](N[a'\n"
     ]
    },
    {
     "name": "stdout",
     "output_type": "stream",
     "text": [
      "Python argument types in\n",
      "    FingeprintGenerator64.GetFingerprintAsNumPy(FingeprintGenerator64, NoneType)\n",
      "did not match C++ signature:\n",
      "    GetFingerprintAsNumPy(RDKit::FingerprintGenerator<unsigned long> const* self, RDKit::ROMol mol, boost::python::api::object fromAtoms=[], boost::python::api::object ignoreAtoms=[], int confId=-1, boost::python::api::object customAtomInvariants=[], boost::python::api::object customBondInvariants=[], boost::python::api::object additionalOutput=None)\n"
     ]
    },
    {
     "name": "stderr",
     "output_type": "stream",
     "text": [
      "[23:28:23] WARNING: not removing hydrogen atom without neighbors\n",
      "[23:28:24] WARNING: not removing hydrogen atom without neighbors\n",
      "[23:28:25] WARNING: not removing hydrogen atom without neighbors\n",
      "[23:28:25] WARNING: not removing hydrogen atom without neighbors\n",
      " 56%|██████████████████████████████████████████████████████████████████▋                                                     | 1968/3538 [06:43<09:00,  2.90it/s][23:28:25] WARNING: not removing hydrogen atom without neighbors\n",
      "[23:28:25] WARNING: not removing hydrogen atom without neighbors\n",
      "[23:28:25] WARNING: not removing hydrogen atom without neighbors\n",
      "[23:28:25] WARNING: not removing hydrogen atom without neighbors\n",
      " 56%|██████████████████████████████████████████████████████████████████▉                                                     | 1973/3538 [06:44<06:47,  3.84it/s][23:28:25] WARNING: not removing hydrogen atom without neighbors\n",
      "[23:28:25] WARNING: not removing hydrogen atom without neighbors\n",
      "[23:28:25] WARNING: not removing hydrogen atom without neighbors\n",
      " 56%|███████████████████████████████████████████████████████████████████                                                     | 1978/3538 [06:44<05:06,  5.10it/s][23:28:25] WARNING: not removing hydrogen atom without neighbors\n",
      "[23:28:25] WARNING: not removing hydrogen atom without neighbors\n",
      "[23:28:25] WARNING: not removing hydrogen atom without neighbors\n",
      "[23:28:25] WARNING: not removing hydrogen atom without neighbors\n",
      "[23:28:25] WARNING: not removing hydrogen atom without neighbors\n",
      " 56%|███████████████████████████████████████████████████████████████████▎                                                    | 1984/3538 [06:44<03:37,  7.13it/s][23:28:25] WARNING: not removing hydrogen atom without neighbors\n",
      "[23:28:25] WARNING: not removing hydrogen atom without neighbors\n",
      "[23:28:25] WARNING: not removing hydrogen atom without neighbors\n",
      "[23:28:25] WARNING: not removing hydrogen atom without neighbors\n",
      " 56%|███████████████████████████████████████████████████████████████████▍                                                    | 1989/3538 [06:44<03:01,  8.51it/s][23:28:25] WARNING: not removing hydrogen atom without neighbors\n",
      "[23:28:25] WARNING: not removing hydrogen atom without neighbors\n",
      "[23:28:26] WARNING: not removing hydrogen atom without neighbors\n",
      "[23:28:26] WARNING: not removing hydrogen atom without neighbors\n",
      " 56%|███████████████████████████████████████████████████████████████████▌                                                    | 1993/3538 [06:44<02:48,  9.16it/s][23:28:26] WARNING: not removing hydrogen atom without neighbors\n",
      "[23:28:26] WARNING: not removing hydrogen atom without neighbors\n",
      "[23:28:26] WARNING: not removing hydrogen atom without neighbors\n",
      "[23:28:26] WARNING: not removing hydrogen atom without neighbors\n",
      " 56%|███████████████████████████████████████████████████████████████████▋                                                    | 1997/3538 [06:45<02:16, 11.28it/s][23:28:26] WARNING: not removing hydrogen atom without neighbors\n",
      "[23:28:26] WARNING: not removing hydrogen atom without neighbors\n",
      "[23:28:26] WARNING: not removing hydrogen atom without neighbors\n",
      "[23:28:26] WARNING: not removing hydrogen atom without neighbors\n",
      "[23:28:26] WARNING: not removing hydrogen atom without neighbors\n",
      " 57%|███████████████████████████████████████████████████████████████████▉                                                    | 2002/3538 [06:45<01:43, 14.80it/s][23:28:26] WARNING: not removing hydrogen atom without neighbors\n",
      "[23:28:26] WARNING: not removing hydrogen atom without neighbors\n",
      "[23:28:26] WARNING: not removing hydrogen atom without neighbors\n",
      "[23:28:26] WARNING: not removing hydrogen atom without neighbors\n",
      "[23:28:26] SMILES Parse Error: syntax error while parsing: C(=O)([a\n",
      "[23:28:26] WARNING: not removing hydrogen atom without neighbors\n",
      "[23:28:26] SMILES Parse Error: Failed parsing SMILES 'C(=O)([a' for input: 'C(=O)([a'\n",
      " 57%|████████████████████████████████████████████████████████████████████                                                    | 2007/3538 [06:47<04:15,  5.99it/s]"
     ]
    },
    {
     "name": "stdout",
     "output_type": "stream",
     "text": [
      "Python argument types in\n",
      "    FingeprintGenerator64.GetFingerprintAsNumPy(FingeprintGenerator64, NoneType)\n",
      "did not match C++ signature:\n",
      "    GetFingerprintAsNumPy(RDKit::FingerprintGenerator<unsigned long> const* self, RDKit::ROMol mol, boost::python::api::object fromAtoms=[], boost::python::api::object ignoreAtoms=[], int confId=-1, boost::python::api::object customAtomInvariants=[], boost::python::api::object customBondInvariants=[], boost::python::api::object additionalOutput=None)\n"
     ]
    },
    {
     "name": "stderr",
     "output_type": "stream",
     "text": [
      "[23:28:30] WARNING: not removing hydrogen atom without neighbors\n",
      "[23:28:30] SMILES Parse Error: syntax error while parsing: C(=O)([a\n",
      "[23:28:30] SMILES Parse Error: Failed parsing SMILES 'C(=O)([a' for input: 'C(=O)([a'\n"
     ]
    },
    {
     "name": "stdout",
     "output_type": "stream",
     "text": [
      "Python argument types in\n",
      "    FingeprintGenerator64.GetFingerprintAsNumPy(FingeprintGenerator64, NoneType)\n",
      "did not match C++ signature:\n",
      "    GetFingerprintAsNumPy(RDKit::FingerprintGenerator<unsigned long> const* self, RDKit::ROMol mol, boost::python::api::object fromAtoms=[], boost::python::api::object ignoreAtoms=[], int confId=-1, boost::python::api::object customAtomInvariants=[], boost::python::api::object customBondInvariants=[], boost::python::api::object additionalOutput=None)\n"
     ]
    },
    {
     "name": "stderr",
     "output_type": "stream",
     "text": [
      "[23:28:36] WARNING: not removing hydrogen atom without neighbors\n",
      " 57%|████████████████████████████████████████████████████████████████████▏                                                   | 2010/3538 [06:55<18:55,  1.35it/s][23:28:37] WARNING: not removing hydrogen atom without neighbors\n",
      "[23:28:37] WARNING: not removing hydrogen atom without neighbors\n",
      "[23:28:37] WARNING: not removing hydrogen atom without neighbors\n",
      "[23:28:37] WARNING: not removing hydrogen atom without neighbors\n",
      "[23:28:37] WARNING: not removing hydrogen atom without neighbors\n",
      " 57%|████████████████████████████████████████████████████████████████████▍                                                   | 2017/3538 [06:55<11:15,  2.25it/s][23:28:37] WARNING: not removing hydrogen atom without neighbors\n",
      "[23:28:37] WARNING: not removing hydrogen atom without neighbors\n",
      "[23:28:37] Conflicting single bond directions around double bond at index 12.\n",
      "[23:28:37]   BondStereo set to STEREONONE and single bond directions set to NONE.\n",
      "[23:28:37] Conflicting single bond directions around double bond at index 17.\n",
      "[23:28:37]   BondStereo set to STEREONONE and single bond directions set to NONE.\n",
      "[23:28:37] WARNING: not removing hydrogen atom without neighbors\n",
      "[23:28:37] WARNING: not removing hydrogen atom without neighbors\n",
      "[23:28:37] WARNING: not removing hydrogen atom without neighbors\n",
      "[23:28:37] WARNING: not removing hydrogen atom without neighbors\n",
      " 57%|████████████████████████████████████████████████████████████████████▋                                                   | 2024/3538 [06:56<07:12,  3.50it/s][23:28:37] WARNING: not removing hydrogen atom without neighbors\n",
      "[23:28:37] WARNING: not removing hydrogen atom without neighbors\n",
      "[23:28:37] WARNING: not removing hydrogen atom without neighbors\n",
      "[23:28:37] WARNING: not removing hydrogen atom without neighbors\n",
      "[23:28:37] WARNING: not removing hydrogen atom without neighbors\n",
      "[23:28:37] WARNING: not removing hydrogen atom without neighbors\n",
      " 57%|████████████████████████████████████████████████████████████████████▉                                                   | 2031/3538 [06:56<04:49,  5.21it/s][23:28:37] WARNING: not removing hydrogen atom without neighbors\n",
      "[23:28:37] WARNING: not removing hydrogen atom without neighbors\n",
      "[23:28:37] WARNING: not removing hydrogen atom without neighbors\n",
      "[23:28:37] WARNING: not removing hydrogen atom without neighbors\n",
      "[23:28:37] WARNING: not removing hydrogen atom without neighbors\n",
      "[23:28:37] WARNING: not removing hydrogen atom without neighbors\n",
      " 58%|█████████████████████████████████████████████████████████████████████                                                   | 2038/3538 [06:56<03:20,  7.48it/s][23:28:37] WARNING: not removing hydrogen atom without neighbors\n",
      "[23:28:37] WARNING: not removing hydrogen atom without neighbors\n",
      "[23:28:37] WARNING: not removing hydrogen atom without neighbors\n",
      "[23:28:37] WARNING: not removing hydrogen atom without neighbors\n",
      "[23:28:37] WARNING: not removing hydrogen atom without neighbors\n",
      " 58%|█████████████████████████████████████████████████████████████████████▍                                                  | 2046/3538 [06:56<02:16, 10.90it/s][23:28:37] WARNING: not removing hydrogen atom without neighbors\n",
      "[23:28:37] WARNING: not removing hydrogen atom without neighbors\n",
      "[23:28:37] WARNING: not removing hydrogen atom without neighbors\n",
      "[23:28:37] WARNING: not removing hydrogen atom without neighbors\n",
      "[23:28:37] WARNING: not removing hydrogen atom without neighbors\n",
      " 58%|█████████████████████████████████████████████████████████████████████▌                                                  | 2052/3538 [06:56<01:46, 13.98it/s]"
     ]
    },
    {
     "name": "stdout",
     "output_type": "stream",
     "text": [
      "need at least one array to concatenate\n"
     ]
    },
    {
     "name": "stderr",
     "output_type": "stream",
     "text": [
      "[23:28:37] WARNING: not removing hydrogen atom without neighbors\n",
      "[23:28:37] WARNING: not removing hydrogen atom without neighbors\n",
      "[23:28:37] WARNING: not removing hydrogen atom without neighbors\n",
      "[23:28:37] WARNING: not removing hydrogen atom without neighbors\n",
      "[23:28:37] WARNING: not removing hydrogen atom without neighbors\n",
      "[23:28:37] WARNING: not removing hydrogen atom without neighbors\n",
      " 58%|█████████████████████████████████████████████████████████████████████▊                                                  | 2058/3538 [06:56<01:23, 17.73it/s][23:28:37] WARNING: not removing hydrogen atom without neighbors\n",
      "[23:28:37] WARNING: not removing hydrogen atom without neighbors\n",
      "[23:28:37] WARNING: not removing hydrogen atom without neighbors\n",
      "[23:28:37] WARNING: not removing hydrogen atom without neighbors\n",
      "[23:28:37] WARNING: not removing hydrogen atom without neighbors\n",
      " 58%|██████████████████████████████████████████████████████████████████████                                                  | 2064/3538 [06:56<01:07, 21.69it/s][23:28:38] WARNING: not removing hydrogen atom without neighbors\n",
      "[23:28:38] WARNING: not removing hydrogen atom without neighbors\n",
      "[23:28:38] WARNING: not removing hydrogen atom without neighbors\n",
      "[23:28:38] WARNING: not removing hydrogen atom without neighbors\n",
      "[23:28:38] WARNING: not removing hydrogen atom without neighbors\n",
      "[23:28:38] WARNING: not removing hydrogen atom without neighbors\n",
      " 59%|██████████████████████████████████████████████████████████████████████▏                                                 | 2070/3538 [06:56<00:56, 25.80it/s][23:28:38] WARNING: not removing hydrogen atom without neighbors\n",
      "[23:28:38] WARNING: not removing hydrogen atom without neighbors\n",
      "[23:28:38] WARNING: not removing hydrogen atom without neighbors\n",
      "[23:28:38] WARNING: not removing hydrogen atom without neighbors\n",
      "[23:28:38] WARNING: not removing hydrogen atom without neighbors\n",
      " 59%|██████████████████████████████████████████████████████████████████████▍                                                 | 2076/3538 [06:57<00:48, 30.25it/s][23:28:38] SMILES Parse Error: syntax error while parsing: C1([R4])(=C([R3])C(=O)C(/[R3])=C([R1])/C(=O)1)\n",
      "[23:28:38] WARNING: not removing hydrogen atom without neighbors\n",
      "[23:28:38] SMILES Parse Error: Failed parsing SMILES 'C1([R4])(=C([R3])C(=O)C(/[R3])=C([R1])/C(=O)1)' for input: 'C1([R4])(=C([R3])C(=O)C(/[R3])=C([R1])/C(=O)1)'\n"
     ]
    },
    {
     "name": "stdout",
     "output_type": "stream",
     "text": [
      "Python argument types in\n",
      "    FingeprintGenerator64.GetFingerprintAsNumPy(FingeprintGenerator64, NoneType)\n",
      "did not match C++ signature:\n",
      "    GetFingerprintAsNumPy(RDKit::FingerprintGenerator<unsigned long> const* self, RDKit::ROMol mol, boost::python::api::object fromAtoms=[], boost::python::api::object ignoreAtoms=[], int confId=-1, boost::python::api::object customAtomInvariants=[], boost::python::api::object customBondInvariants=[], boost::python::api::object additionalOutput=None)\n"
     ]
    },
    {
     "name": "stderr",
     "output_type": "stream",
     "text": [
      "[23:28:42] WARNING: not removing hydrogen atom without neighbors\n",
      "[23:28:44] WARNING: not removing hydrogen atom without neighbors\n",
      "[23:28:45] WARNING: not removing hydrogen atom without neighbors\n",
      "[23:28:47] WARNING: not removing hydrogen atom without neighbors\n",
      "[23:28:49] WARNING: not removing hydrogen atom without neighbors\n",
      " 59%|██████████████████████████████████████████████████████████████████████▌                                                 | 2082/3538 [07:08<13:51,  1.75it/s][23:28:49] WARNING: not removing hydrogen atom without neighbors\n",
      "[23:28:49] WARNING: not removing hydrogen atom without neighbors\n",
      "[23:28:49] WARNING: not removing hydrogen atom without neighbors\n",
      "[23:28:49] WARNING: not removing hydrogen atom without neighbors\n",
      "[23:28:49] WARNING: not removing hydrogen atom without neighbors\n",
      " 59%|██████████████████████████████████████████████████████████████████████▉                                                 | 2091/3538 [07:08<08:33,  2.82it/s][23:28:49] WARNING: not removing hydrogen atom without neighbors\n",
      "[23:28:49] WARNING: not removing hydrogen atom without neighbors\n",
      "[23:28:49] WARNING: not removing hydrogen atom without neighbors\n",
      "[23:28:49] WARNING: not removing hydrogen atom without neighbors\n",
      "[23:28:49] WARNING: not removing hydrogen atom without neighbors\n",
      "[23:28:49] WARNING: not removing hydrogen atom without neighbors\n",
      "[23:28:49] WARNING: not removing hydrogen atom without neighbors\n",
      "[23:28:49] WARNING: not removing hydrogen atom without neighbors\n",
      "[23:28:49] WARNING: not removing hydrogen atom without neighbors\n",
      " 59%|███████████████████████████████████████████████████████████████████████▏                                                | 2099/3538 [07:08<05:49,  4.12it/s]"
     ]
    },
    {
     "name": "stdout",
     "output_type": "stream",
     "text": [
      "need at least one array to concatenate\n",
      "need at least one array to concatenate\n"
     ]
    },
    {
     "name": "stderr",
     "output_type": "stream",
     "text": [
      "[23:28:49] WARNING: not removing hydrogen atom without neighbors\n",
      "[23:28:49] WARNING: not removing hydrogen atom without neighbors\n",
      "[23:28:49] WARNING: not removing hydrogen atom without neighbors\n",
      "[23:28:49] WARNING: not removing hydrogen atom without neighbors\n",
      "[23:28:49] WARNING: not removing hydrogen atom without neighbors\n",
      "[23:28:49] WARNING: not removing hydrogen atom without neighbors\n",
      " 60%|███████████████████████████████████████████████████████████████████████▍                                                | 2108/3538 [07:08<03:52,  6.14it/s][23:28:49] WARNING: not removing hydrogen atom without neighbors\n",
      "[23:28:49] WARNING: not removing hydrogen atom without neighbors\n",
      "[23:28:49] WARNING: not removing hydrogen atom without neighbors\n",
      "[23:28:49] WARNING: not removing hydrogen atom without neighbors\n",
      "[23:28:49] WARNING: not removing hydrogen atom without neighbors\n",
      " 60%|███████████████████████████████████████████████████████████████████████▋                                                | 2115/3538 [07:08<02:54,  8.16it/s]"
     ]
    },
    {
     "name": "stdout",
     "output_type": "stream",
     "text": [
      "need at least one array to concatenate\n",
      "need at least one array to concatenate\n"
     ]
    },
    {
     "name": "stderr",
     "output_type": "stream",
     "text": [
      "[23:28:49] WARNING: not removing hydrogen atom without neighbors\n",
      "[23:28:49] WARNING: not removing hydrogen atom without neighbors\n",
      "[23:28:49] WARNING: not removing hydrogen atom without neighbors\n",
      "[23:28:49] WARNING: not removing hydrogen atom without neighbors\n",
      "[23:28:50] WARNING: not removing hydrogen atom without neighbors\n",
      " 60%|███████████████████████████████████████████████████████████████████████▉                                                | 2122/3538 [07:08<02:13, 10.61it/s][23:28:50] WARNING: not removing hydrogen atom without neighbors\n",
      "[23:28:50] WARNING: not removing hydrogen atom without neighbors\n",
      "[23:28:50] WARNING: not removing hydrogen atom without neighbors\n",
      " 60%|████████████████████████████████████████████████████████████████████████▏                                               | 2128/3538 [07:08<01:47, 13.14it/s][23:28:50] WARNING: not removing hydrogen atom without neighbors\n",
      "[23:28:50] WARNING: not removing hydrogen atom without neighbors\n",
      "[23:28:50] WARNING: not removing hydrogen atom without neighbors\n",
      "[23:28:50] WARNING: not removing hydrogen atom without neighbors\n",
      "[23:28:50] WARNING: not removing hydrogen atom without neighbors\n",
      " 60%|████████████████████████████████████████████████████████████████████████▍                                               | 2134/3538 [07:09<01:25, 16.41it/s][23:28:50] WARNING: not removing hydrogen atom without neighbors\n",
      "[23:28:50] WARNING: not removing hydrogen atom without neighbors\n",
      "[23:28:50] WARNING: not removing hydrogen atom without neighbors\n",
      "[23:28:50] WARNING: not removing hydrogen atom without neighbors\n",
      "[23:28:50] WARNING: not removing hydrogen atom without neighbors\n",
      "[23:28:50] WARNING: not removing hydrogen atom without neighbors\n",
      " 61%|████████████████████████████████████████████████████████████████████████▌                                               | 2141/3538 [07:09<01:05, 21.19it/s][23:28:50] WARNING: not removing hydrogen atom without neighbors\n"
     ]
    },
    {
     "name": "stdout",
     "output_type": "stream",
     "text": [
      "need at least one array to concatenate\n"
     ]
    },
    {
     "name": "stderr",
     "output_type": "stream",
     "text": [
      "[23:28:50] WARNING: not removing hydrogen atom without neighbors\n",
      "[23:28:50] WARNING: not removing hydrogen atom without neighbors\n",
      "[23:28:50] WARNING: not removing hydrogen atom without neighbors\n",
      "[23:28:50] WARNING: not removing hydrogen atom without neighbors\n",
      " 61%|████████████████████████████████████████████████████████████████████████▊                                               | 2147/3538 [07:09<00:55, 24.88it/s][23:28:50] WARNING: not removing hydrogen atom without neighbors\n",
      "[23:28:50] WARNING: not removing hydrogen atom without neighbors\n",
      "[23:28:50] WARNING: not removing hydrogen atom without neighbors\n",
      "[23:28:50] WARNING: not removing hydrogen atom without neighbors\n",
      "[23:28:50] WARNING: not removing hydrogen atom without neighbors\n",
      " 61%|█████████████████████████████████████████████████████████████████████████                                               | 2153/3538 [07:09<00:47, 28.96it/s][23:28:50] WARNING: not removing hydrogen atom without neighbors\n",
      "[23:28:50] WARNING: not removing hydrogen atom without neighbors\n",
      "[23:28:50] WARNING: not removing hydrogen atom without neighbors\n",
      "[23:28:50] WARNING: not removing hydrogen atom without neighbors\n",
      "[23:28:50] WARNING: not removing hydrogen atom without neighbors\n",
      "[23:28:50] SMILES Parse Error: syntax error while parsing: CC[C@H](C)[C@@H](C(=O)NCC(=O)NCC(NCC(=O)NCC(NCC(=O)NCC(NCC(=O)NCC(NCC(=O)NCC9(\\O\\C=C(C8(\\S\\C=C(C(=O)NCC(=O)NCC(N[C@@H](CCC(=O)N)C(=O)NCC(=O)NCC(=O)NCC7(\\S\\C=C(C(=O)NCC(=O)NCC6(\\N=C(C(N[C@@H](CO)C(=O)N[C@@H](CC(=O)N)C(NCC5(\\S\\C=C(C4(\\O\\C=C(C(NCC(=O)NCC(N[C@@H](CC(=O)N)C(=O)NCC(NCC3(\\O\\C=C(C(NCC(NCC2(\\O\\C=C(C(NCC(=O)N[C@@H](CO)C(N[C@H](CC1(\\N=C/N\\C=1))C(=O)N[C@H]([C@@H](C)CC)C(=O)[O-])=O)=O)/N=2))=O)=O)/N=3))=O)=O)=O)/N=4))/N=5))=O)=O)/S\\C=6))/N=7))=O)/N=8))/N=9))=O)=O)=O)=O)NC(CNC(=O)[C@@H](NC([C@@H](N[a\n",
      "[23:28:50] SMILES Parse Error: Failed parsing SMILES 'CC[C@H](C)[C@@H](C(=O)NCC(=O)NCC(NCC(=O)NCC(NCC(=O)NCC(NCC(=O)NCC(NCC(=O)NCC9(\\O\\C=C(C8(\\S\\C=C(C(=O)NCC(=O)NCC(N[C@@H](CCC(=O)N)C(=O)NCC(=O)NCC(=O)NCC7(\\S\\C=C(C(=O)NCC(=O)NCC6(\\N=C(C(N[C@@H](CO)C(=O)N[C@@H](CC(=O)N)C(NCC5(\\S\\C=C(C4(\\O\\C=C(C(NCC(=O)NCC(N[C@@H](CC(=O)N)C(=O)NCC(NCC3(\\O\\C=C(C(NCC(NCC2(\\O\\C=C(C(NCC(=O)N[C@@H](CO)C(N[C@H](CC1(\\N=C/N\\C=1))C(=O)N[C@H]([C@@H](C)CC)C(=O)[O-])=O)=O)/N=2))=O)=O)/N=3))=O)=O)=O)/N=4))/N=5))=O)=O)/S\\C=6))/N=7))=O)/N=8))/N=9))=O)=O)=O)=O)NC(CNC(=O)[C@@H](NC([C@@H](N[a' for input: 'CC[C@H](C)[C@@H](C(=O)NCC(=O)NCC(NCC(=O)NCC(NCC(=O)NCC(NCC(=O)NCC(NCC(=O)NCC9(\\O\\C=C(C8(\\S\\C=C(C(=O)NCC(=O)NCC(N[C@@H](CCC(=O)N)C(=O)NCC(=O)NCC(=O)NCC7(\\S\\C=C(C(=O)NCC(=O)NCC6(\\N=C(C(N[C@@H](CO)C(=O)N[C@@H](CC(=O)N)C(NCC5(\\S\\C=C(C4(\\O\\C=C(C(NCC(=O)NCC(N[C@@H](CC(=O)N)C(=O)NCC(NCC3(\\O\\C=C(C(NCC(NCC2(\\O\\C=C(C(NCC(=O)N[C@@H](CO)C(N[C@H](CC1(\\N=C/N\\C=1))C(=O)N[C@H]([C@@H](C)CC)C(=O)[O-])=O)=O)/N=2))=O)=O)/N=3))=O)=O)=O)/N=4))/N=5))=O)=O)/S\\C=6))/N=7))=O)/N=8))/N=9))=O)=O)=O)=O)NC(CNC(=O)[C@@H](NC([C@@H](N[a'\n",
      "[23:28:50] SMILES Parse Error: syntax error while parsing: CC[C@H](C)[C@@H](C(=O)NCC(=O)NCC(NCC(=O)NCC(NCC(=O)NCC(NCC(=O)NCC(NCC(=O)NCC(=O)N[C@@H](CO)C(N[C@@H](CS)C(=O)NCC(=O)NCC(N[C@@H](CCC(=O)N)C(=O)NCC(=O)NCC(=O)NCC(=O)N[C@@H](CS)C(=O)NCC(=O)NCC(=O)N[C@@H](CS)C(N[C@@H](CO)C(=O)N[C@@H](CC(=O)N)C(NCC(N[C@@H](CS)C(=O)N[C@@H](CO)C(NCC(=O)NCC(N[C@@H](CC(=O)N)C(=O)NCC(NCC(=O)N[C@@H](CO)C(=O)NCC(NCC(N[C@@H](CO)C(=O)NCC(=O)N[C@@H](CO)C(N[C@@H](CC1(\\N=C/N\\C=1))C(=O)N[C@@H]([C@@H](C)CC)C(=O)[O-])=O)=O)=O)=O)=O)=O)=O)=O)=O)=O)=O)=O)=O)=O)=O)NC(CNC(=O)[C@@H](NC([C@@H](N[a\n",
      "[23:28:50] SMILES Parse Error: Failed parsing SMILES 'CC[C@H](C)[C@@H](C(=O)NCC(=O)NCC(NCC(=O)NCC(NCC(=O)NCC(NCC(=O)NCC(NCC(=O)NCC(=O)N[C@@H](CO)C(N[C@@H](CS)C(=O)NCC(=O)NCC(N[C@@H](CCC(=O)N)C(=O)NCC(=O)NCC(=O)NCC(=O)N[C@@H](CS)C(=O)NCC(=O)NCC(=O)N[C@@H](CS)C(N[C@@H](CO)C(=O)N[C@@H](CC(=O)N)C(NCC(N[C@@H](CS)C(=O)N[C@@H](CO)C(NCC(=O)NCC(N[C@@H](CC(=O)N)C(=O)NCC(NCC(=O)N[C@@H](CO)C(=O)NCC(NCC(N[C@@H](CO)C(=O)NCC(=O)N[C@@H](CO)C(N[C@@H](CC1(\\N=C/N\\C=1))C(=O)N[C@@H]([C@@H](C)CC)C(=O)[O-])=O)=O)=O)=O)=O)=O)=O)=O)=O)=O)=O)=O)=O)=O)=O)NC(CNC(=O)[C@@H](NC([C@@H](N[a' for input: 'CC[C@H](C)[C@@H](C(=O)NCC(=O)NCC(NCC(=O)NCC(NCC(=O)NCC(NCC(=O)NCC(NCC(=O)NCC(=O)N[C@@H](CO)C(N[C@@H](CS)C(=O)NCC(=O)NCC(N[C@@H](CCC(=O)N)C(=O)NCC(=O)NCC(=O)NCC(=O)N[C@@H](CS)C(=O)NCC(=O)NCC(=O)N[C@@H](CS)C(N[C@@H](CO)C(=O)N[C@@H](CC(=O)N)C(NCC(N[C@@H](CS)C(=O)N[C@@H](CO)C(NCC(=O)NCC(N[C@@H](CC(=O)N)C(=O)NCC(NCC(=O)N[C@@H](CO)C(=O)NCC(NCC(N[C@@H](CO)C(=O)NCC(=O)N[C@@H](CO)C(N[C@@H](CC1(\\N=C/N\\C=1))C(=O)N[C@@H]([C@@H](C)CC)C(=O)[O-])=O)=O)=O)=O)=O)=O)=O)=O)=O)=O)=O)=O)=O)=O)=O)NC(CNC(=O)[C@@H](NC([C@@H](N[a'\n",
      "[23:28:50] WARNING: not removing hydrogen atom without neighbors\n",
      " 61%|█████████████████████████████████████████████████████████████████████████▏                                              | 2159/3538 [07:11<02:43,  8.42it/s]"
     ]
    },
    {
     "name": "stdout",
     "output_type": "stream",
     "text": [
      "Python argument types in\n",
      "    FingeprintGenerator64.GetFingerprintAsNumPy(FingeprintGenerator64, NoneType)\n",
      "did not match C++ signature:\n",
      "    GetFingerprintAsNumPy(RDKit::FingerprintGenerator<unsigned long> const* self, RDKit::ROMol mol, boost::python::api::object fromAtoms=[], boost::python::api::object ignoreAtoms=[], int confId=-1, boost::python::api::object customAtomInvariants=[], boost::python::api::object customBondInvariants=[], boost::python::api::object additionalOutput=None)\n"
     ]
    },
    {
     "name": "stderr",
     "output_type": "stream",
     "text": [
      "[23:28:55] WARNING: not removing hydrogen atom without neighbors\n",
      "[23:28:56] WARNING: not removing hydrogen atom without neighbors\n",
      "[23:28:58] WARNING: not removing hydrogen atom without neighbors\n",
      "[23:29:00] WARNING: not removing hydrogen atom without neighbors\n",
      " 61%|█████████████████████████████████████████████████████████████████████████▎                                              | 2163/3538 [07:19<11:33,  1.98it/s][23:29:00] WARNING: not removing hydrogen atom without neighbors\n",
      "[23:29:00] WARNING: not removing hydrogen atom without neighbors\n",
      "[23:29:00] WARNING: not removing hydrogen atom without neighbors\n",
      " 61%|█████████████████████████████████████████████████████████████████████████▍                                              | 2167/3538 [07:19<08:58,  2.55it/s][23:29:00] WARNING: not removing hydrogen atom without neighbors\n",
      "[23:29:00] WARNING: not removing hydrogen atom without neighbors\n",
      "[23:29:00] WARNING: not removing hydrogen atom without neighbors\n",
      " 61%|█████████████████████████████████████████████████████████████████████████▋                                              | 2172/3538 [07:19<06:26,  3.54it/s][23:29:00] WARNING: not removing hydrogen atom without neighbors\n",
      "[23:29:00] WARNING: not removing hydrogen atom without neighbors\n",
      "[23:29:00] WARNING: not removing hydrogen atom without neighbors\n",
      " 62%|█████████████████████████████████████████████████████████████████████████▊                                              | 2178/3538 [07:19<04:22,  5.17it/s]"
     ]
    },
    {
     "name": "stdout",
     "output_type": "stream",
     "text": [
      "need at least one array to concatenate\n"
     ]
    },
    {
     "name": "stderr",
     "output_type": "stream",
     "text": [
      "[23:29:00] WARNING: not removing hydrogen atom without neighbors\n",
      "[23:29:00] WARNING: not removing hydrogen atom without neighbors\n",
      "[23:29:00] WARNING: not removing hydrogen atom without neighbors\n",
      " 62%|██████████████████████████████████████████████████████████████████████████                                              | 2183/3538 [07:19<03:17,  6.85it/s][23:29:00] WARNING: not removing hydrogen atom without neighbors\n",
      "[23:29:00] SMILES Parse Error: syntax error while parsing: CC(=O)N[C@@H]3([C@H](C[C@@](C([O-])=O)(O[C@@H]2([C@@H](O)[C@H](O[C@@H]1([C@@H](NC(C)=O)[C@H](O[C@H](CO)[C@H](O)1)OC([R])[C@@H](C(=O)[a\n",
      "[23:29:00] WARNING: not removing hydrogen atom without neighbors\n",
      "[23:29:00] SMILES Parse Error: Failed parsing SMILES 'CC(=O)N[C@@H]3([C@H](C[C@@](C([O-])=O)(O[C@@H]2([C@@H](O)[C@H](O[C@@H]1([C@@H](NC(C)=O)[C@H](O[C@H](CO)[C@H](O)1)OC([R])[C@@H](C(=O)[a' for input: 'CC(=O)N[C@@H]3([C@H](C[C@@](C([O-])=O)(O[C@@H]2([C@@H](O)[C@H](O[C@@H]1([C@@H](NC(C)=O)[C@H](O[C@H](CO)[C@H](O)1)OC([R])[C@@H](C(=O)[a'\n"
     ]
    },
    {
     "name": "stdout",
     "output_type": "stream",
     "text": [
      "need at least one array to concatenate\n",
      "Python argument types in\n",
      "    FingeprintGenerator64.GetFingerprintAsNumPy(FingeprintGenerator64, NoneType)\n",
      "did not match C++ signature:\n",
      "    GetFingerprintAsNumPy(RDKit::FingerprintGenerator<unsigned long> const* self, RDKit::ROMol mol, boost::python::api::object fromAtoms=[], boost::python::api::object ignoreAtoms=[], int confId=-1, boost::python::api::object customAtomInvariants=[], boost::python::api::object customBondInvariants=[], boost::python::api::object additionalOutput=None)\n"
     ]
    },
    {
     "name": "stderr",
     "output_type": "stream",
     "text": [
      "[23:29:04] WARNING: not removing hydrogen atom without neighbors\n",
      "[23:29:06] WARNING: not removing hydrogen atom without neighbors\n",
      " 62%|██████████████████████████████████████████████████████████████████████████▏                                             | 2188/3538 [07:26<11:07,  2.02it/s][23:29:08] WARNING: not removing hydrogen atom without neighbors\n",
      "[23:29:09] WARNING: not removing hydrogen atom without neighbors\n",
      " 62%|██████████████████████████████████████████████████████████████████████████▎                                             | 2191/3538 [07:27<11:16,  1.99it/s][23:29:09] WARNING: not removing hydrogen atom without neighbors\n",
      "[23:29:09] WARNING: not removing hydrogen atom without neighbors\n",
      "[23:29:09] WARNING: not removing hydrogen atom without neighbors\n",
      "[23:29:09] WARNING: not removing hydrogen atom without neighbors\n",
      "[23:29:09] SMILES Parse Error: syntax error while parsing: CCCCCCCCCCCCCCCCCCCCCCCCC(C(OC[C@@H]1([C@@H](O)[C@H](O)[C@H](O[a\n",
      "[23:29:09] SMILES Parse Error: Failed parsing SMILES 'CCCCCCCCCCCCCCCCCCCCCCCCC(C(OC[C@@H]1([C@@H](O)[C@H](O)[C@H](O[a' for input: 'CCCCCCCCCCCCCCCCCCCCCCCCC(C(OC[C@@H]1([C@@H](O)[C@H](O)[C@H](O[a'\n",
      "[23:29:09] SMILES Parse Error: syntax error while parsing: CCCCCCCCCCCCCCCCCCCCCCCCCCC(C(OC[C@@H]1([C@@H](O)[C@H](O)[C@H](O[a\n",
      "[23:29:09] SMILES Parse Error: Failed parsing SMILES 'CCCCCCCCCCCCCCCCCCCCCCCCCCC(C(OC[C@@H]1([C@@H](O)[C@H](O)[C@H](O[a' for input: 'CCCCCCCCCCCCCCCCCCCCCCCCCCC(C(OC[C@@H]1([C@@H](O)[C@H](O)[C@H](O[a'\n",
      "[23:29:09] SMILES Parse Error: syntax error while parsing: CCCCCCCCCCCCCCCCCCCCCCCCCCC(C(=O)OC[C@@H]1([C@@H](O)[C@H](O)[C@H](O[a\n",
      "[23:29:09] SMILES Parse Error: Failed parsing SMILES 'CCCCCCCCCCCCCCCCCCCCCCCCCCC(C(=O)OC[C@@H]1([C@@H](O)[C@H](O)[C@H](O[a' for input: 'CCCCCCCCCCCCCCCCCCCCCCCCCCC(C(=O)OC[C@@H]1([C@@H](O)[C@H](O)[C@H](O[a'\n",
      "[23:29:09] SMILES Parse Error: syntax error while parsing: C(OC(=O)C(CCCCCCCCCCCCCCCCCCCCCCCC)[C@H](O)CCCCCCCCCCCCCCCCCC1(C(CCCCCCCCCCCCCCCCC(OC)C(C)CCCCCCCCCCCCCCCCCC)C1))[C@@H]2([C@@H](O)[C@H](O)[C@H](O[a\n",
      "[23:29:09] SMILES Parse Error: Failed parsing SMILES 'C(OC(=O)C(CCCCCCCCCCCCCCCCCCCCCCCC)[C@H](O)CCCCCCCCCCCCCCCCCC1(C(CCCCCCCCCCCCCCCCC(OC)C(C)CCCCCCCCCCCCCCCCCC)C1))[C@@H]2([C@@H](O)[C@H](O)[C@H](O[a' for input: 'C(OC(=O)C(CCCCCCCCCCCCCCCCCCCCCCCC)[C@H](O)CCCCCCCCCCCCCCCCCC1(C(CCCCCCCCCCCCCCCCC(OC)C(C)CCCCCCCCCCCCCCCCCC)C1))[C@@H]2([C@@H](O)[C@H](O)[C@H](O[a'\n",
      " 62%|██████████████████████████████████████████████████████████████████████████▍                                             | 2195/3538 [07:29<11:29,  1.95it/s]"
     ]
    },
    {
     "name": "stdout",
     "output_type": "stream",
     "text": [
      "Python argument types in\n",
      "    FingeprintGenerator64.GetFingerprintAsNumPy(FingeprintGenerator64, NoneType)\n",
      "did not match C++ signature:\n",
      "    GetFingerprintAsNumPy(RDKit::FingerprintGenerator<unsigned long> const* self, RDKit::ROMol mol, boost::python::api::object fromAtoms=[], boost::python::api::object ignoreAtoms=[], int confId=-1, boost::python::api::object customAtomInvariants=[], boost::python::api::object customBondInvariants=[], boost::python::api::object additionalOutput=None)\n"
     ]
    },
    {
     "name": "stderr",
     "output_type": "stream",
     "text": [
      "[23:29:14] WARNING: not removing hydrogen atom without neighbors\n"
     ]
    },
    {
     "name": "stdout",
     "output_type": "stream",
     "text": [
      "Passed values must be either rdkit.Chem.rdChem.Mol or SMILES\n"
     ]
    },
    {
     "name": "stderr",
     "output_type": "stream",
     "text": [
      "[23:29:18] WARNING: not removing hydrogen atom without neighbors\n",
      " 62%|██████████████████████████████████████████████████████████████████████████▌                                             | 2197/3538 [07:37<24:06,  1.08s/it][23:29:20] WARNING: not removing hydrogen atom without neighbors\n",
      "[23:29:22] WARNING: not removing hydrogen atom without neighbors\n",
      " 62%|██████████████████████████████████████████████████████████████████████████▌                                             | 2199/3538 [07:41<26:31,  1.19s/it]"
     ]
    },
    {
     "name": "stdout",
     "output_type": "stream",
     "text": [
      "need at least one array to concatenate\n"
     ]
    },
    {
     "name": "stderr",
     "output_type": "stream",
     "text": [
      " 62%|██████████████████████████████████████████████████████████████████████████▋                                             | 2201/3538 [07:42<23:45,  1.07s/it][23:29:23] WARNING: not removing hydrogen atom without neighbors\n",
      "[23:29:23] WARNING: not removing hydrogen atom without neighbors\n",
      "[23:29:23] WARNING: not removing hydrogen atom without neighbors\n",
      "[23:29:23] WARNING: not removing hydrogen atom without neighbors\n",
      "[23:29:23] Conflicting single bond directions around double bond at index 12.\n",
      "[23:29:23]   BondStereo set to STEREONONE and single bond directions set to NONE.\n",
      "[23:29:23] Conflicting single bond directions around double bond at index 17.\n",
      "[23:29:23]   BondStereo set to STEREONONE and single bond directions set to NONE.\n",
      "[23:29:23] Conflicting single bond directions around double bond at index 12.\n",
      "[23:29:23]   BondStereo set to STEREONONE and single bond directions set to NONE.\n",
      "[23:29:23] Conflicting single bond directions around double bond at index 17.\n",
      "[23:29:23]   BondStereo set to STEREONONE and single bond directions set to NONE.\n",
      "[23:29:23] WARNING: not removing hydrogen atom without neighbors\n",
      " 62%|██████████████████████████████████████████████████████████████████████████▊                                             | 2206/3538 [07:42<13:39,  1.62it/s][23:29:23] WARNING: not removing hydrogen atom without neighbors\n",
      "[23:29:23] WARNING: not removing hydrogen atom without neighbors\n",
      "[23:29:23] WARNING: not removing hydrogen atom without neighbors\n",
      "[23:29:23] WARNING: not removing hydrogen atom without neighbors\n",
      "[23:29:23] WARNING: not removing hydrogen atom without neighbors\n",
      " 63%|███████████████████████████████████████████████████████████████████████████                                             | 2213/3538 [07:42<07:26,  2.97it/s][23:29:23] WARNING: not removing hydrogen atom without neighbors\n",
      "[23:29:23] WARNING: not removing hydrogen atom without neighbors\n",
      "[23:29:23] WARNING: not removing hydrogen atom without neighbors\n",
      "[23:29:23] WARNING: not removing hydrogen atom without neighbors\n",
      " 63%|███████████████████████████████████████████████████████████████████████████▎                                            | 2219/3538 [07:42<04:51,  4.52it/s][23:29:24] WARNING: not removing hydrogen atom without neighbors\n"
     ]
    },
    {
     "name": "stdout",
     "output_type": "stream",
     "text": [
      "need at least one array to concatenate\n"
     ]
    },
    {
     "name": "stderr",
     "output_type": "stream",
     "text": [
      "[23:29:24] WARNING: not removing hydrogen atom without neighbors\n",
      "[23:29:24] WARNING: not removing hydrogen atom without neighbors\n",
      "[23:29:24] WARNING: not removing hydrogen atom without neighbors\n",
      "[23:29:24] WARNING: not removing hydrogen atom without neighbors\n",
      " 63%|███████████████████████████████████████████████████████████████████████████▍                                            | 2224/3538 [07:42<03:31,  6.23it/s][23:29:24] WARNING: not removing hydrogen atom without neighbors\n",
      "[23:29:24] WARNING: not removing hydrogen atom without neighbors\n",
      "[23:29:24] WARNING: not removing hydrogen atom without neighbors\n",
      "[23:29:24] WARNING: not removing hydrogen atom without neighbors\n",
      " 63%|███████████████████████████████████████████████████████████████████████████▌                                            | 2229/3538 [07:42<02:35,  8.43it/s][23:29:24] WARNING: not removing hydrogen atom without neighbors\n",
      "[23:29:24] WARNING: not removing hydrogen atom without neighbors\n",
      "[23:29:24] WARNING: not removing hydrogen atom without neighbors\n",
      "[23:29:24] WARNING: not removing hydrogen atom without neighbors\n",
      "[23:29:24] WARNING: not removing hydrogen atom without neighbors\n",
      " 63%|███████████████████████████████████████████████████████████████████████████▊                                            | 2234/3538 [07:43<01:57, 11.09it/s][23:29:24] WARNING: not removing hydrogen atom without neighbors\n"
     ]
    },
    {
     "name": "stdout",
     "output_type": "stream",
     "text": [
      "need at least one array to concatenate\n"
     ]
    },
    {
     "name": "stderr",
     "output_type": "stream",
     "text": [
      "[23:29:24] WARNING: not removing hydrogen atom without neighbors\n",
      "[23:29:24] WARNING: not removing hydrogen atom without neighbors\n",
      "[23:29:24] WARNING: not removing hydrogen atom without neighbors\n",
      "[23:29:24] WARNING: not removing hydrogen atom without neighbors\n",
      "[23:29:24] WARNING: not removing hydrogen atom without neighbors\n",
      " 63%|███████████████████████████████████████████████████████████████████████████▉                                            | 2240/3538 [07:43<01:25, 15.21it/s][23:29:24] WARNING: not removing hydrogen atom without neighbors\n",
      "[23:29:24] WARNING: not removing hydrogen atom without neighbors\n",
      "[23:29:24] WARNING: not removing hydrogen atom without neighbors\n",
      "[23:29:24] WARNING: not removing hydrogen atom without neighbors\n",
      "[23:29:24] WARNING: not removing hydrogen atom without neighbors\n",
      "[23:29:24] WARNING: not removing hydrogen atom without neighbors\n",
      "[23:29:24] WARNING: not removing hydrogen atom without neighbors\n",
      " 64%|████████████████████████████████████████████████████████████████████████████▏                                           | 2247/3538 [07:43<01:01, 21.05it/s][23:29:24] WARNING: not removing hydrogen atom without neighbors\n",
      "[23:29:24] WARNING: not removing hydrogen atom without neighbors\n",
      "[23:29:24] WARNING: not removing hydrogen atom without neighbors\n",
      "[23:29:24] WARNING: not removing hydrogen atom without neighbors\n",
      "[23:29:24] WARNING: not removing hydrogen atom without neighbors\n",
      "[23:29:24] WARNING: not removing hydrogen atom without neighbors\n",
      "[23:29:24] WARNING: not removing hydrogen atom without neighbors\n",
      " 64%|████████████████████████████████████████████████████████████████████████████▍                                           | 2254/3538 [07:43<00:47, 27.30it/s][23:29:24] WARNING: not removing hydrogen atom without neighbors\n",
      "[23:29:24] WARNING: not removing hydrogen atom without neighbors\n",
      "[23:29:24] WARNING: not removing hydrogen atom without neighbors\n",
      "[23:29:24] WARNING: not removing hydrogen atom without neighbors\n",
      " 64%|████████████████████████████████████████████████████████████████████████████▋                                           | 2260/3538 [07:43<00:42, 30.30it/s][23:29:24] WARNING: not removing hydrogen atom without neighbors\n",
      "[23:29:24] WARNING: not removing hydrogen atom without neighbors\n",
      "[23:29:24] WARNING: not removing hydrogen atom without neighbors\n"
     ]
    },
    {
     "name": "stdout",
     "output_type": "stream",
     "text": [
      "need at least one array to concatenate\n"
     ]
    },
    {
     "name": "stderr",
     "output_type": "stream",
     "text": [
      "[23:29:24] WARNING: not removing hydrogen atom without neighbors\n",
      "[23:29:24] WARNING: not removing hydrogen atom without neighbors\n",
      " 64%|████████████████████████████████████████████████████████████████████████████▊                                           | 2266/3538 [07:43<00:38, 33.46it/s][23:29:24] WARNING: not removing hydrogen atom without neighbors\n",
      "[23:29:24] WARNING: not removing hydrogen atom without neighbors\n",
      "[23:29:25] WARNING: not removing hydrogen atom without neighbors\n",
      " 64%|█████████████████████████████████████████████████████████████████████████████                                           | 2271/3538 [07:43<00:35, 35.23it/s][23:29:25] Conflicting single bond directions around double bond at index 12.\n",
      "[23:29:25]   BondStereo set to STEREONONE and single bond directions set to NONE.\n",
      "[23:29:25] Conflicting single bond directions around double bond at index 17.\n",
      "[23:29:25]   BondStereo set to STEREONONE and single bond directions set to NONE.\n",
      "[23:29:25] Conflicting single bond directions around double bond at index 7.\n",
      "[23:29:25]   BondStereo set to STEREONONE and single bond directions set to NONE.\n",
      "[23:29:25] Conflicting single bond directions around double bond at index 12.\n",
      "[23:29:25]   BondStereo set to STEREONONE and single bond directions set to NONE.\n",
      "[23:29:25] Conflicting single bond directions around double bond at index 17.\n",
      "[23:29:25]   BondStereo set to STEREONONE and single bond directions set to NONE.\n",
      "[23:29:25] WARNING: not removing hydrogen atom without neighbors\n",
      "[23:29:25] Conflicting single bond directions around double bond at index 12.\n",
      "[23:29:25]   BondStereo set to STEREONONE and single bond directions set to NONE.\n",
      "[23:29:25] Conflicting single bond directions around double bond at index 17.\n",
      "[23:29:25]   BondStereo set to STEREONONE and single bond directions set to NONE.\n",
      "[23:29:25] Conflicting single bond directions around double bond at index 12.\n",
      "[23:29:25]   BondStereo set to STEREONONE and single bond directions set to NONE.\n",
      "[23:29:25] Conflicting single bond directions around double bond at index 17.\n",
      "[23:29:25]   BondStereo set to STEREONONE and single bond directions set to NONE.\n",
      "[23:29:25] Conflicting single bond directions around double bond at index 7.\n",
      "[23:29:25]   BondStereo set to STEREONONE and single bond directions set to NONE.\n",
      "[23:29:25] Conflicting single bond directions around double bond at index 12.\n",
      "[23:29:25]   BondStereo set to STEREONONE and single bond directions set to NONE.\n",
      "[23:29:25] Conflicting single bond directions around double bond at index 17.\n",
      "[23:29:25]   BondStereo set to STEREONONE and single bond directions set to NONE.\n",
      "[23:29:25] Conflicting single bond directions around double bond at index 12.\n",
      "[23:29:25]   BondStereo set to STEREONONE and single bond directions set to NONE.\n",
      "[23:29:25] Conflicting single bond directions around double bond at index 17.\n",
      "[23:29:25]   BondStereo set to STEREONONE and single bond directions set to NONE.\n",
      "[23:29:25] Conflicting single bond directions around double bond at index 17.\n",
      "[23:29:25]   BondStereo set to STEREONONE and single bond directions set to NONE.\n",
      "[23:29:25] Conflicting single bond directions around double bond at index 17.\n",
      "[23:29:25]   BondStereo set to STEREONONE and single bond directions set to NONE.\n",
      "[23:29:25] WARNING: not removing hydrogen atom without neighbors\n",
      "[23:29:25] WARNING: not removing hydrogen atom without neighbors\n",
      "[23:29:25] WARNING: not removing hydrogen atom without neighbors\n",
      " 64%|█████████████████████████████████████████████████████████████████████████████▏                                          | 2276/3538 [07:43<00:34, 36.21it/s][23:29:25] WARNING: not removing hydrogen atom without neighbors\n",
      "[23:29:25] WARNING: not removing hydrogen atom without neighbors\n",
      "[23:29:25] WARNING: not removing hydrogen atom without neighbors\n",
      "[23:29:25] WARNING: not removing hydrogen atom without neighbors\n",
      "[23:29:25] Conflicting single bond directions around double bond at index 8.\n",
      "[23:29:25]   BondStereo set to STEREONONE and single bond directions set to NONE.\n",
      "[23:29:25] WARNING: not removing hydrogen atom without neighbors\n",
      " 64%|█████████████████████████████████████████████████████████████████████████████▎                                          | 2281/3538 [07:44<00:35, 34.93it/s][23:29:25] WARNING: not removing hydrogen atom without neighbors\n",
      "[23:29:25] WARNING: not removing hydrogen atom without neighbors\n",
      "[23:29:25] WARNING: not removing hydrogen atom without neighbors\n",
      "[23:29:25] WARNING: not removing hydrogen atom without neighbors\n",
      "[23:29:25] WARNING: not removing hydrogen atom without neighbors\n",
      " 65%|█████████████████████████████████████████████████████████████████████████████▌                                          | 2286/3538 [07:44<00:35, 35.27it/s][23:29:25] WARNING: not removing hydrogen atom without neighbors\n",
      "[23:29:25] WARNING: not removing hydrogen atom without neighbors\n",
      "[23:29:25] WARNING: not removing hydrogen atom without neighbors\n",
      "[23:29:25] WARNING: not removing hydrogen atom without neighbors\n",
      "[23:29:25] WARNING: not removing hydrogen atom without neighbors\n",
      "[23:29:25] WARNING: not removing hydrogen atom without neighbors\n",
      "[23:29:25] WARNING: not removing hydrogen atom without neighbors\n",
      " 65%|█████████████████████████████████████████████████████████████████████████████▊                                          | 2293/3538 [07:44<00:29, 42.34it/s][23:29:25] WARNING: not removing hydrogen atom without neighbors\n",
      "[23:29:25] WARNING: not removing hydrogen atom without neighbors\n",
      "[23:29:25] WARNING: not removing hydrogen atom without neighbors\n",
      "[23:29:25] WARNING: not removing hydrogen atom without neighbors\n",
      "[23:29:25] WARNING: not removing hydrogen atom without neighbors\n",
      " 65%|██████████████████████████████████████████████████████████████████████████████                                          | 2300/3538 [07:44<00:25, 47.87it/s][23:29:25] WARNING: not removing hydrogen atom without neighbors\n",
      "[23:29:25] WARNING: not removing hydrogen atom without neighbors\n",
      "[23:29:25] WARNING: not removing hydrogen atom without neighbors\n",
      "[23:29:25] WARNING: not removing hydrogen atom without neighbors\n",
      "[23:29:25] WARNING: not removing hydrogen atom without neighbors\n",
      "[23:29:25] WARNING: not removing hydrogen atom without neighbors\n",
      " 65%|██████████████████████████████████████████████████████████████████████████████▏                                         | 2307/3538 [07:44<00:23, 52.21it/s][23:29:25] WARNING: not removing hydrogen atom without neighbors\n",
      "[23:29:25] WARNING: not removing hydrogen atom without neighbors\n",
      "[23:29:25] WARNING: not removing hydrogen atom without neighbors\n",
      "[23:29:25] WARNING: not removing hydrogen atom without neighbors\n"
     ]
    },
    {
     "name": "stdout",
     "output_type": "stream",
     "text": [
      "need at least one array to concatenate\n"
     ]
    },
    {
     "name": "stderr",
     "output_type": "stream",
     "text": [
      "[23:29:25] WARNING: not removing hydrogen atom without neighbors\n",
      "[23:29:25] WARNING: not removing hydrogen atom without neighbors\n",
      "[23:29:25] WARNING: not removing hydrogen atom without neighbors\n",
      " 65%|██████████████████████████████████████████████████████████████████████████████▍                                         | 2313/3538 [07:44<00:24, 49.73it/s][23:29:26] WARNING: not removing hydrogen atom without neighbors\n",
      "[23:29:26] WARNING: not removing hydrogen atom without neighbors\n",
      "[23:29:26] WARNING: not removing hydrogen atom without neighbors\n",
      " 66%|██████████████████████████████████████████████████████████████████████████████▋                                         | 2319/3538 [07:44<00:25, 47.92it/s][23:29:26] WARNING: not removing hydrogen atom without neighbors\n",
      "[23:29:26] WARNING: not removing hydrogen atom without neighbors\n",
      "[23:29:26] WARNING: not removing hydrogen atom without neighbors\n",
      "[23:29:26] WARNING: not removing hydrogen atom without neighbors\n",
      "[23:29:26] WARNING: not removing hydrogen atom without neighbors\n",
      " 66%|██████████████████████████████████████████████████████████████████████████████▊                                         | 2324/3538 [07:44<00:26, 46.32it/s][23:29:26] WARNING: not removing hydrogen atom without neighbors\n",
      "[23:29:26] WARNING: not removing hydrogen atom without neighbors\n",
      "[23:29:26] WARNING: not removing hydrogen atom without neighbors\n",
      "[23:29:26] WARNING: not removing hydrogen atom without neighbors\n",
      " 66%|██████████████████████████████████████████████████████████████████████████████▉                                         | 2329/3538 [07:45<00:26, 45.33it/s][23:29:26] WARNING: not removing hydrogen atom without neighbors\n",
      "[23:29:26] WARNING: not removing hydrogen atom without neighbors\n",
      "[23:29:26] WARNING: not removing hydrogen atom without neighbors\n",
      "[23:29:26] Conflicting single bond directions around double bond at index 12.\n",
      "[23:29:26]   BondStereo set to STEREONONE and single bond directions set to NONE.\n",
      "[23:29:26] Conflicting single bond directions around double bond at index 17.\n",
      "[23:29:26]   BondStereo set to STEREONONE and single bond directions set to NONE.\n",
      "[23:29:26] Conflicting single bond directions around double bond at index 12.\n",
      "[23:29:26]   BondStereo set to STEREONONE and single bond directions set to NONE.\n",
      "[23:29:26] Conflicting single bond directions around double bond at index 17.\n",
      "[23:29:26]   BondStereo set to STEREONONE and single bond directions set to NONE.\n",
      "[23:29:26] WARNING: not removing hydrogen atom without neighbors\n",
      "[23:29:26] Conflicting single bond directions around double bond at index 12.\n",
      "[23:29:26]   BondStereo set to STEREONONE and single bond directions set to NONE.\n",
      "[23:29:26] Conflicting single bond directions around double bond at index 17.\n",
      "[23:29:26]   BondStereo set to STEREONONE and single bond directions set to NONE.\n",
      " 66%|███████████████████████████████████████████████████████████████████████████████▏                                        | 2335/3538 [07:45<00:26, 46.15it/s]"
     ]
    },
    {
     "name": "stdout",
     "output_type": "stream",
     "text": [
      "need at least one array to concatenate\n"
     ]
    },
    {
     "name": "stderr",
     "output_type": "stream",
     "text": [
      "[23:29:26] WARNING: not removing hydrogen atom without neighbors\n",
      "[23:29:26] WARNING: not removing hydrogen atom without neighbors\n",
      "[23:29:26] WARNING: not removing hydrogen atom without neighbors\n",
      "[23:29:26] WARNING: not removing hydrogen atom without neighbors\n",
      "[23:29:26] WARNING: not removing hydrogen atom without neighbors\n",
      " 66%|███████████████████████████████████████████████████████████████████████████████▎                                        | 2340/3538 [07:45<00:28, 42.48it/s][23:29:26] WARNING: not removing hydrogen atom without neighbors\n",
      "[23:29:26] WARNING: not removing hydrogen atom without neighbors\n",
      "[23:29:26] WARNING: not removing hydrogen atom without neighbors\n",
      "[23:29:26] WARNING: not removing hydrogen atom without neighbors\n",
      "[23:29:26] WARNING: not removing hydrogen atom without neighbors\n",
      "[23:29:26] WARNING: not removing hydrogen atom without neighbors\n",
      " 66%|███████████████████████████████████████████████████████████████████████████████▌                                        | 2347/3538 [07:45<00:24, 47.77it/s][23:29:26] WARNING: not removing hydrogen atom without neighbors\n",
      "[23:29:26] SMILES Parse Error: syntax error while parsing: C1([R4])(=C([R3])C(=O)C(/[R3])=C([R1])/C(=O)1)\n",
      "[23:29:26] SMILES Parse Error: Failed parsing SMILES 'C1([R4])(=C([R3])C(=O)C(/[R3])=C([R1])/C(=O)1)' for input: 'C1([R4])(=C([R3])C(=O)C(/[R3])=C([R1])/C(=O)1)'\n",
      "[23:29:26] WARNING: not removing hydrogen atom without neighbors\n",
      "[23:29:26] SMILES Parse Error: syntax error while parsing: C1([R4])(=C([R3])C(=O)C(/[R3])=C([R1])/C(=O)1)\n",
      "[23:29:26] SMILES Parse Error: Failed parsing SMILES 'C1([R4])(=C([R3])C(=O)C(/[R3])=C([R1])/C(=O)1)' for input: 'C1([R4])(=C([R3])C(=O)C(/[R3])=C([R1])/C(=O)1)'\n",
      "[23:29:26] SMILES Parse Error: syntax error while parsing: C1([R4])(=C([R3])C(=O)C(/[R3])=C([R1])/C(=O)1)\n",
      "[23:29:26] SMILES Parse Error: Failed parsing SMILES 'C1([R4])(=C([R3])C(=O)C(/[R3])=C([R1])/C(=O)1)' for input: 'C1([R4])(=C([R3])C(=O)C(/[R3])=C([R1])/C(=O)1)'\n"
     ]
    },
    {
     "name": "stdout",
     "output_type": "stream",
     "text": [
      "Python argument types in\n",
      "    FingeprintGenerator64.GetFingerprintAsNumPy(FingeprintGenerator64, NoneType)\n",
      "did not match C++ signature:\n",
      "    GetFingerprintAsNumPy(RDKit::FingerprintGenerator<unsigned long> const* self, RDKit::ROMol mol, boost::python::api::object fromAtoms=[], boost::python::api::object ignoreAtoms=[], int confId=-1, boost::python::api::object customAtomInvariants=[], boost::python::api::object customBondInvariants=[], boost::python::api::object additionalOutput=None)\n"
     ]
    },
    {
     "name": "stderr",
     "output_type": "stream",
     "text": [
      "[23:29:31] SMILES Parse Error: syntax error while parsing: C1(N([a\n",
      "[23:29:31] SMILES Parse Error: Failed parsing SMILES 'C1(N([a' for input: 'C1(N([a'\n",
      "[23:29:31] WARNING: not removing hydrogen atom without neighbors\n",
      "[23:29:31] SMILES Parse Error: syntax error while parsing: CC[C@H](C)[C@H](NC(=O)[C@@H](NC(=O)CNC(=O)[C@@H](NC(=O)[C@@H](NC(=O)CNC(=O)[C@@H](NC(=O)[C@@H](NC(=O)[C@@H](NC(=O)[C@@H](NC([C@@H](NC(=O)[C@@H]1(CCCN([a\n",
      "[23:29:31] SMILES Parse Error: Failed parsing SMILES 'CC[C@H](C)[C@H](NC(=O)[C@@H](NC(=O)CNC(=O)[C@@H](NC(=O)[C@@H](NC(=O)CNC(=O)[C@@H](NC(=O)[C@@H](NC(=O)[C@@H](NC(=O)[C@@H](NC([C@@H](NC(=O)[C@@H]1(CCCN([a' for input: 'CC[C@H](C)[C@H](NC(=O)[C@@H](NC(=O)CNC(=O)[C@@H](NC(=O)[C@@H](NC(=O)CNC(=O)[C@@H](NC(=O)[C@@H](NC(=O)[C@@H](NC(=O)[C@@H](NC([C@@H](NC(=O)[C@@H]1(CCCN([a'\n",
      "[23:29:31] SMILES Parse Error: syntax error while parsing: CC[C@H](C)[C@H](NC(=O)[C@@H](N(C)C([C@@H](NC(=O)[C@@H]1(CCCN([a\n",
      "[23:29:31] SMILES Parse Error: Failed parsing SMILES 'CC[C@H](C)[C@H](NC(=O)[C@@H](N(C)C([C@@H](NC(=O)[C@@H]1(CCCN([a' for input: 'CC[C@H](C)[C@H](NC(=O)[C@@H](N(C)C([C@@H](NC(=O)[C@@H]1(CCCN([a'\n",
      " 66%|███████████████████████████████████████████████████████████████████████████████▊                                        | 2352/3538 [07:51<06:19,  3.12it/s]"
     ]
    },
    {
     "name": "stdout",
     "output_type": "stream",
     "text": [
      "Python argument types in\n",
      "    FingeprintGenerator64.GetFingerprintAsNumPy(FingeprintGenerator64, NoneType)\n",
      "did not match C++ signature:\n",
      "    GetFingerprintAsNumPy(RDKit::FingerprintGenerator<unsigned long> const* self, RDKit::ROMol mol, boost::python::api::object fromAtoms=[], boost::python::api::object ignoreAtoms=[], int confId=-1, boost::python::api::object customAtomInvariants=[], boost::python::api::object customBondInvariants=[], boost::python::api::object additionalOutput=None)\n"
     ]
    },
    {
     "name": "stderr",
     "output_type": "stream",
     "text": [
      "[23:29:36] WARNING: not removing hydrogen atom without neighbors\n",
      "[23:29:38] WARNING: not removing hydrogen atom without neighbors\n",
      "[23:29:38] WARNING: not removing hydrogen atom without neighbors\n",
      " 67%|███████████████████████████████████████████████████████████████████████████████▉                                        | 2356/3538 [07:58<13:37,  1.45it/s][23:29:40] WARNING: not removing hydrogen atom without neighbors\n",
      "[23:29:40] WARNING: not removing hydrogen atom without neighbors\n",
      "[23:29:40] WARNING: not removing hydrogen atom without neighbors\n",
      "[23:29:40] WARNING: not removing hydrogen atom without neighbors\n",
      " 67%|████████████████████████████████████████████████████████████████████████████████                                        | 2362/3538 [07:59<09:10,  2.14it/s][23:29:40] WARNING: not removing hydrogen atom without neighbors\n",
      "[23:29:40] WARNING: not removing hydrogen atom without neighbors\n",
      "[23:29:40] WARNING: not removing hydrogen atom without neighbors\n",
      "[23:29:40] WARNING: not removing hydrogen atom without neighbors\n",
      "[23:29:40] WARNING: not removing hydrogen atom without neighbors\n",
      "[23:29:40] WARNING: not removing hydrogen atom without neighbors\n",
      " 67%|████████████████████████████████████████████████████████████████████████████████▎                                       | 2369/3538 [07:59<05:59,  3.25it/s][23:29:40] WARNING: not removing hydrogen atom without neighbors\n",
      "[23:29:40] WARNING: not removing hydrogen atom without neighbors\n",
      "[23:29:40] WARNING: not removing hydrogen atom without neighbors\n",
      "[23:29:40] WARNING: not removing hydrogen atom without neighbors\n",
      "[23:29:40] WARNING: not removing hydrogen atom without neighbors\n",
      " 67%|████████████████████████████████████████████████████████████████████████████████▌                                       | 2376/3538 [07:59<04:03,  4.78it/s][23:29:40] WARNING: not removing hydrogen atom without neighbors\n",
      "[23:29:40] WARNING: not removing hydrogen atom without neighbors\n",
      "[23:29:40] WARNING: not removing hydrogen atom without neighbors\n"
     ]
    },
    {
     "name": "stdout",
     "output_type": "stream",
     "text": [
      "need at least one array to concatenate\n",
      "need at least one array to concatenate\n",
      "need at least one array to concatenate\n"
     ]
    },
    {
     "name": "stderr",
     "output_type": "stream",
     "text": [
      "[23:29:40] WARNING: not removing hydrogen atom without neighbors\n",
      "[23:29:40] WARNING: not removing hydrogen atom without neighbors\n",
      " 67%|████████████████████████████████████████████████████████████████████████████████▊                                       | 2381/3538 [07:59<03:09,  6.10it/s][23:29:40] WARNING: not removing hydrogen atom without neighbors\n",
      "[23:29:40] WARNING: not removing hydrogen atom without neighbors\n",
      "[23:29:40] WARNING: not removing hydrogen atom without neighbors\n",
      "[23:29:40] WARNING: not removing hydrogen atom without neighbors\n",
      "[23:29:40] WARNING: not removing hydrogen atom without neighbors\n",
      " 67%|████████████████████████████████████████████████████████████████████████████████▉                                       | 2386/3538 [07:59<02:26,  7.87it/s][23:29:40] WARNING: not removing hydrogen atom without neighbors\n",
      "[23:29:40] WARNING: not removing hydrogen atom without neighbors\n",
      "[23:29:40] WARNING: not removing hydrogen atom without neighbors\n",
      "[23:29:40] WARNING: not removing hydrogen atom without neighbors\n",
      "[23:29:40] WARNING: not removing hydrogen atom without neighbors\n",
      " 68%|█████████████████████████████████████████████████████████████████████████████████                                       | 2391/3538 [07:59<01:53, 10.07it/s][23:29:40] WARNING: not removing hydrogen atom without neighbors\n",
      "[23:29:40] WARNING: not removing hydrogen atom without neighbors\n",
      "[23:29:40] WARNING: not removing hydrogen atom without neighbors\n",
      " 68%|█████████████████████████████████████████████████████████████████████████████████▏                                      | 2395/3538 [07:59<01:33, 12.27it/s][23:29:41] WARNING: not removing hydrogen atom without neighbors\n",
      "[23:29:41] WARNING: not removing hydrogen atom without neighbors\n",
      "[23:29:41] WARNING: not removing hydrogen atom without neighbors\n",
      " 68%|█████████████████████████████████████████████████████████████████████████████████▎                                      | 2399/3538 [07:59<01:18, 14.42it/s][23:29:41] SMILES Parse Error: syntax error while parsing: CC[C@H](C)[C@H](NC(=O)[C@@H](NC(=O)[C@@H](NC(=O)[C@@H](NC(=O)[C@H](C(C)C)NC(=O)[C@H]([R1])N[a\n",
      "[23:29:41] SMILES Parse Error: Failed parsing SMILES 'CC[C@H](C)[C@H](NC(=O)[C@@H](NC(=O)[C@@H](NC(=O)[C@@H](NC(=O)[C@H](C(C)C)NC(=O)[C@H]([R1])N[a' for input: 'CC[C@H](C)[C@H](NC(=O)[C@@H](NC(=O)[C@@H](NC(=O)[C@@H](NC(=O)[C@H](C(C)C)NC(=O)[C@H]([R1])N[a'\n",
      "[23:29:41] SMILES Parse Error: syntax error while parsing: CC[C@H](C)[C@H](NC(=O)[C@H]2(\\N=C([C@@H](NC([C@H]1(\\N=C([C@H](C(C)C)[NH3+])/O[C@H](C)1))=O)C)/SC2))C5(\\O[C@H](C)[C@@H](C(=O)N[C@@H](CC3(\\C=C/C=C\\C=3))C4(\\SC[C@H](\\N=4)C(=O)N[C@@H]([R2])C(=O)[a\n",
      "[23:29:41] WARNING: not removing hydrogen atom without neighbors\n",
      "[23:29:41] SMILES Parse Error: Failed parsing SMILES 'CC[C@H](C)[C@H](NC(=O)[C@H]2(\\N=C([C@@H](NC([C@H]1(\\N=C([C@H](C(C)C)[NH3+])/O[C@H](C)1))=O)C)/SC2))C5(\\O[C@H](C)[C@@H](C(=O)N[C@@H](CC3(\\C=C/C=C\\C=3))C4(\\SC[C@H](\\N=4)C(=O)N[C@@H]([R2])C(=O)[a' for input: 'CC[C@H](C)[C@H](NC(=O)[C@H]2(\\N=C([C@@H](NC([C@H]1(\\N=C([C@H](C(C)C)[NH3+])/O[C@H](C)1))=O)C)/SC2))C5(\\O[C@H](C)[C@@H](C(=O)N[C@@H](CC3(\\C=C/C=C\\C=3))C4(\\SC[C@H](\\N=4)C(=O)N[C@@H]([R2])C(=O)[a'\n",
      "[23:29:41] SMILES Parse Error: syntax error while parsing: CC[C@H](C)[C@H](NC(=O)[C@H]2(\\N=C([C@@H](NC(=O)[C@H]1(\\N=C([C@H]([C@@H](C)CC)NC(=O)[C@H]([R1])N[a\n",
      "[23:29:41] SMILES Parse Error: Failed parsing SMILES 'CC[C@H](C)[C@H](NC(=O)[C@H]2(\\N=C([C@@H](NC(=O)[C@H]1(\\N=C([C@H]([C@@H](C)CC)NC(=O)[C@H]([R1])N[a' for input: 'CC[C@H](C)[C@H](NC(=O)[C@H]2(\\N=C([C@@H](NC(=O)[C@H]1(\\N=C([C@H]([C@@H](C)CC)NC(=O)[C@H]([R1])N[a'\n",
      "[23:29:41] SMILES Parse Error: syntax error while parsing: CC[C@H](C)[C@H](NC(=O)[C@H]2(\\N=C([C@@H](NC([C@H]1(\\N=C([C@H](C(C)C)NC(=O)[C@H]([R1])N[a\n",
      "[23:29:41] SMILES Parse Error: Failed parsing SMILES 'CC[C@H](C)[C@H](NC(=O)[C@H]2(\\N=C([C@@H](NC([C@H]1(\\N=C([C@H](C(C)C)NC(=O)[C@H]([R1])N[a' for input: 'CC[C@H](C)[C@H](NC(=O)[C@H]2(\\N=C([C@@H](NC([C@H]1(\\N=C([C@H](C(C)C)NC(=O)[C@H]([R1])N[a'\n",
      "[23:29:41] SMILES Parse Error: syntax error while parsing: CC[C@H](C)[C@H](NC(=O)[C@H]([R1])N[a\n",
      "[23:29:41] SMILES Parse Error: Failed parsing SMILES 'CC[C@H](C)[C@H](NC(=O)[C@H]([R1])N[a' for input: 'CC[C@H](C)[C@H](NC(=O)[C@H]([R1])N[a'\n",
      "[23:29:41] SMILES Parse Error: syntax error while parsing: CC[C@H](C)[C@@H](C1(\\O[C@@H]([C@H](\\N=1)C(=O)N[C@@H](C(C)C)C2(\\SC[C@H](\\N=2)C(=O)N[C@@H]([C@@H](C)CC)C4(\\OC[C@@H](C(=O)N[C@@H](C(C)C)C3(\\SC[C@H](\\N=3)C(=O)N[C@@H]([R])C(=O)[a\n",
      "[23:29:41] SMILES Parse Error: Failed parsing SMILES 'CC[C@H](C)[C@@H](C1(\\O[C@@H]([C@H](\\N=1)C(=O)N[C@@H](C(C)C)C2(\\SC[C@H](\\N=2)C(=O)N[C@@H]([C@@H](C)CC)C4(\\OC[C@@H](C(=O)N[C@@H](C(C)C)C3(\\SC[C@H](\\N=3)C(=O)N[C@@H]([R])C(=O)[a' for input: 'CC[C@H](C)[C@@H](C1(\\O[C@@H]([C@H](\\N=1)C(=O)N[C@@H](C(C)C)C2(\\SC[C@H](\\N=2)C(=O)N[C@@H]([C@@H](C)CC)C4(\\OC[C@@H](C(=O)N[C@@H](C(C)C)C3(\\SC[C@H](\\N=3)C(=O)N[C@@H]([R])C(=O)[a'\n"
     ]
    },
    {
     "name": "stdout",
     "output_type": "stream",
     "text": [
      "Python argument types in\n",
      "    FingeprintGenerator64.GetFingerprintAsNumPy(FingeprintGenerator64, NoneType)\n",
      "did not match C++ signature:\n",
      "    GetFingerprintAsNumPy(RDKit::FingerprintGenerator<unsigned long> const* self, RDKit::ROMol mol, boost::python::api::object fromAtoms=[], boost::python::api::object ignoreAtoms=[], int confId=-1, boost::python::api::object customAtomInvariants=[], boost::python::api::object customBondInvariants=[], boost::python::api::object additionalOutput=None)\n"
     ]
    },
    {
     "name": "stderr",
     "output_type": "stream",
     "text": [
      "[23:29:46] WARNING: not removing hydrogen atom without neighbors\n",
      "[23:29:47] WARNING: not removing hydrogen atom without neighbors\n",
      "[23:29:48] WARNING: not removing hydrogen atom without neighbors\n",
      " 68%|█████████████████████████████████████████████████████████████████████████████████▌                                      | 2403/3538 [08:07<11:07,  1.70it/s][23:29:49] WARNING: not removing hydrogen atom without neighbors\n",
      "[23:29:49] WARNING: not removing hydrogen atom without neighbors\n",
      "[23:29:49] WARNING: not removing hydrogen atom without neighbors\n",
      "[23:29:49] WARNING: not removing hydrogen atom without neighbors\n",
      " 68%|█████████████████████████████████████████████████████████████████████████████████▋                                      | 2408/3538 [08:08<07:38,  2.47it/s][23:29:49] WARNING: not removing hydrogen atom without neighbors\n",
      "[23:29:49] WARNING: not removing hydrogen atom without neighbors\n",
      "[23:29:49] WARNING: not removing hydrogen atom without neighbors\n",
      "[23:29:49] WARNING: not removing hydrogen atom without neighbors\n",
      " 68%|█████████████████████████████████████████████████████████████████████████████████▊                                      | 2412/3538 [08:08<05:42,  3.29it/s][23:29:49] WARNING: not removing hydrogen atom without neighbors\n",
      "[23:29:49] WARNING: not removing hydrogen atom without neighbors\n",
      " 68%|██████████████████████████████████████████████████████████████████████████████████                                      | 2418/3538 [08:08<03:42,  5.03it/s][23:29:49] WARNING: not removing hydrogen atom without neighbors\n",
      "[23:29:49] WARNING: not removing hydrogen atom without neighbors\n",
      "[23:29:49] WARNING: not removing hydrogen atom without neighbors\n",
      " 69%|██████████████████████████████████████████████████████████████████████████████████▏                                     | 2424/3538 [08:08<02:31,  7.33it/s][23:29:49] WARNING: not removing hydrogen atom without neighbors\n"
     ]
    },
    {
     "name": "stdout",
     "output_type": "stream",
     "text": [
      "need at least one array to concatenate\n",
      "need at least one array to concatenate\n",
      "need at least one array to concatenate\n",
      "need at least one array to concatenate\n",
      "need at least one array to concatenate\n",
      "need at least one array to concatenate\n"
     ]
    },
    {
     "name": "stderr",
     "output_type": "stream",
     "text": [
      "[23:29:49] WARNING: not removing hydrogen atom without neighbors\n",
      "[23:29:49] WARNING: not removing hydrogen atom without neighbors\n",
      " 69%|██████████████████████████████████████████████████████████████████████████████████▍                                     | 2431/3538 [08:08<01:43, 10.68it/s][23:29:49] WARNING: not removing hydrogen atom without neighbors\n",
      "[23:29:49] SMILES Parse Error: syntax error while parsing: CC(C)=CCCC(\\C)=C/CCC(\\C)=C/CCC(/C)=C/CCC(/C)=C/CCC(/C)=C/CCC(/C)=C/CCC(/C)=C/CCC(/C)=C/CCC(/C)=C/CCC(/C)=C/COP(OP(O[C@H]2(O[C@H](CO)[C@@H](O[C@@H]1(O[C@H](CO)[C@@H](O[R])[C@H](O)[C@@H](NC(=O)C)1))[C@H](O[C@@H](C(=O)N[C@@H](C)C(N[C@H](CCC(=O)N[C@@H](CCC[C@H](C(=O)[O-])[NH3+])C([O-])=O)C(=O)[O-])=O)C)[C@@H](NC(=O)C)2))([O-])=O)(=O)[O-]\n",
      "[23:29:49] SMILES Parse Error: Failed parsing SMILES 'CC(C)=CCCC(\\C)=C/CCC(\\C)=C/CCC(/C)=C/CCC(/C)=C/CCC(/C)=C/CCC(/C)=C/CCC(/C)=C/CCC(/C)=C/CCC(/C)=C/CCC(/C)=C/COP(OP(O[C@H]2(O[C@H](CO)[C@@H](O[C@@H]1(O[C@H](CO)[C@@H](O[R])[C@H](O)[C@@H](NC(=O)C)1))[C@H](O[C@@H](C(=O)N[C@@H](C)C(N[C@H](CCC(=O)N[C@@H](CCC[C@H](C(=O)[O-])[NH3+])C([O-])=O)C(=O)[O-])=O)C)[C@@H](NC(=O)C)2))([O-])=O)(=O)[O-]' for input: 'CC(C)=CCCC(\\C)=C/CCC(\\C)=C/CCC(/C)=C/CCC(/C)=C/CCC(/C)=C/CCC(/C)=C/CCC(/C)=C/CCC(/C)=C/CCC(/C)=C/CCC(/C)=C/COP(OP(O[C@H]2(O[C@H](CO)[C@@H](O[C@@H]1(O[C@H](CO)[C@@H](O[R])[C@H](O)[C@@H](NC(=O)C)1))[C@H](O[C@@H](C(=O)N[C@@H](C)C(N[C@H](CCC(=O)N[C@@H](CCC[C@H](C(=O)[O-])[NH3+])C([O-])=O)C(=O)[O-])=O)C)[C@@H](NC(=O)C)2))([O-])=O)(=O)[O-]'\n",
      "[23:29:49] SMILES Parse Error: syntax error while parsing: C[C@H](NC([C@H](O[C@@H]2([C@@H](NC(=O)C)C3(OCC([C@@H](O[C@@H]1(O[C@H](CO)[C@@H](O[R])[C@H](O)[C@@H](NC(=O)C)1))2)O3)))C)=O)C(N[C@H](CCC(=O)N[C@@H](CCC[C@H](C(=O)[O-])[NH3+])C(=O)NCC(=O)[O-])C(=O)[O-])=O\n",
      "[23:29:49] SMILES Parse Error: Failed parsing SMILES 'C[C@H](NC([C@H](O[C@@H]2([C@@H](NC(=O)C)C3(OCC([C@@H](O[C@@H]1(O[C@H](CO)[C@@H](O[R])[C@H](O)[C@@H](NC(=O)C)1))2)O3)))C)=O)C(N[C@H](CCC(=O)N[C@@H](CCC[C@H](C(=O)[O-])[NH3+])C(=O)NCC(=O)[O-])C(=O)[O-])=O' for input: 'C[C@H](NC([C@H](O[C@@H]2([C@@H](NC(=O)C)C3(OCC([C@@H](O[C@@H]1(O[C@H](CO)[C@@H](O[R])[C@H](O)[C@@H](NC(=O)C)1))2)O3)))C)=O)C(N[C@H](CCC(=O)N[C@@H](CCC[C@H](C(=O)[O-])[NH3+])C(=O)NCC(=O)[O-])C(=O)[O-])=O'\n",
      "[23:29:49] WARNING: not removing hydrogen atom without neighbors\n",
      "[23:29:49] SMILES Parse Error: syntax error while parsing: C[C@H](NC([C@H](O[C@@H]2([C@@H](NC(=O)C)C3(OCC([C@@H](O[C@@H]1(O[C@H](CO)[C@@H](O[R])[C@H](O)[C@@H](NC(=O)C)1))2)O3)))C)=O)C(N[C@H](CCC(=O)N[C@@H](CCC[C@H](C(=O)[O-])[NH3+])C(N[C@H](C)C(=O)[O-])=O)C(=O)[O-])=O\n",
      "[23:29:49] SMILES Parse Error: Failed parsing SMILES 'C[C@H](NC([C@H](O[C@@H]2([C@@H](NC(=O)C)C3(OCC([C@@H](O[C@@H]1(O[C@H](CO)[C@@H](O[R])[C@H](O)[C@@H](NC(=O)C)1))2)O3)))C)=O)C(N[C@H](CCC(=O)N[C@@H](CCC[C@H](C(=O)[O-])[NH3+])C(N[C@H](C)C(=O)[O-])=O)C(=O)[O-])=O' for input: 'C[C@H](NC([C@H](O[C@@H]2([C@@H](NC(=O)C)C3(OCC([C@@H](O[C@@H]1(O[C@H](CO)[C@@H](O[R])[C@H](O)[C@@H](NC(=O)C)1))2)O3)))C)=O)C(N[C@H](CCC(=O)N[C@@H](CCC[C@H](C(=O)[O-])[NH3+])C(N[C@H](C)C(=O)[O-])=O)C(=O)[O-])=O'\n",
      "[23:29:49] SMILES Parse Error: syntax error while parsing: CC(C)=CCCC(\\C)=C/CCC(\\C)=C/CCC(/C)=C/CCC(/C)=C/CCC(/C)=C/CCC(/C)=C/CCC(/C)=C/CCC(/C)=C/CCC(/C)=C/CCC(/C)=C/COP(OP(O[C@H]2(O[C@H](CO)[C@@H](O[C@@H]1(O[C@H](CO)[C@@H](O[R])[C@H](O)[C@@H](NC(=O)C)1))[C@H](O[C@@H](C(=O)N[C@@H](C)C(N[C@H](CCC(=O)N[C@@H](CCC[C@H](C(=O)[O-])[NH3+])C(NCC(=O)[O-])=O)C(=O)[O-])=O)C)[C@@H](NC(=O)C)2))([O-])=O)(=O)[O-]\n",
      "[23:29:49] SMILES Parse Error: Failed parsing SMILES 'CC(C)=CCCC(\\C)=C/CCC(\\C)=C/CCC(/C)=C/CCC(/C)=C/CCC(/C)=C/CCC(/C)=C/CCC(/C)=C/CCC(/C)=C/CCC(/C)=C/CCC(/C)=C/COP(OP(O[C@H]2(O[C@H](CO)[C@@H](O[C@@H]1(O[C@H](CO)[C@@H](O[R])[C@H](O)[C@@H](NC(=O)C)1))[C@H](O[C@@H](C(=O)N[C@@H](C)C(N[C@H](CCC(=O)N[C@@H](CCC[C@H](C(=O)[O-])[NH3+])C(NCC(=O)[O-])=O)C(=O)[O-])=O)C)[C@@H](NC(=O)C)2))([O-])=O)(=O)[O-]' for input: 'CC(C)=CCCC(\\C)=C/CCC(\\C)=C/CCC(/C)=C/CCC(/C)=C/CCC(/C)=C/CCC(/C)=C/CCC(/C)=C/CCC(/C)=C/CCC(/C)=C/CCC(/C)=C/COP(OP(O[C@H]2(O[C@H](CO)[C@@H](O[C@@H]1(O[C@H](CO)[C@@H](O[R])[C@H](O)[C@@H](NC(=O)C)1))[C@H](O[C@@H](C(=O)N[C@@H](C)C(N[C@H](CCC(=O)N[C@@H](CCC[C@H](C(=O)[O-])[NH3+])C(NCC(=O)[O-])=O)C(=O)[O-])=O)C)[C@@H](NC(=O)C)2))([O-])=O)(=O)[O-]'\n",
      "[23:29:49] SMILES Parse Error: syntax error while parsing: C[C@H](NC([C@H](O[C@@H]2([C@@H](NC(=O)C)[C@H](O[R3])O[C@H](CO)[C@@H](O[C@@H]1(O[C@H](CO)[C@@H](O[R2])[C@H](O)[C@@H](NC(=O)C)1))2))C)=O)C(N[C@H](CCC(=O)N[C@@H](CCC[C@@H](NC(=O)[C@H](CCC[C@H](C(=O)[O-])[NH3+])NC(=O)CC[C@@H](NC(=O)[C@@H](NC([C@H](O[C@@H]4([C@@H](NC(=O)C)C5(OCC([C@@H](O[C@@H]3(O[C@H](CO)[C@@H](O[R1])[C@H](O)[C@@H](NC(=O)C)3))4)O5)))C)=O)C)C(=O)[O-])C(=O)[O-])C(N[C@H](C)C(=O)[O-])=O)C(=O)[O-])=O\n",
      "[23:29:49] SMILES Parse Error: Failed parsing SMILES 'C[C@H](NC([C@H](O[C@@H]2([C@@H](NC(=O)C)[C@H](O[R3])O[C@H](CO)[C@@H](O[C@@H]1(O[C@H](CO)[C@@H](O[R2])[C@H](O)[C@@H](NC(=O)C)1))2))C)=O)C(N[C@H](CCC(=O)N[C@@H](CCC[C@@H](NC(=O)[C@H](CCC[C@H](C(=O)[O-])[NH3+])NC(=O)CC[C@@H](NC(=O)[C@@H](NC([C@H](O[C@@H]4([C@@H](NC(=O)C)C5(OCC([C@@H](O[C@@H]3(O[C@H](CO)[C@@H](O[R1])[C@H](O)[C@@H](NC(=O)C)3))4)O5)))C)=O)C)C(=O)[O-])C(=O)[O-])C(N[C@H](C)C(=O)[O-])=O)C(=O)[O-])=O' for input: 'C[C@H](NC([C@H](O[C@@H]2([C@@H](NC(=O)C)[C@H](O[R3])O[C@H](CO)[C@@H](O[C@@H]1(O[C@H](CO)[C@@H](O[R2])[C@H](O)[C@@H](NC(=O)C)1))2))C)=O)C(N[C@H](CCC(=O)N[C@@H](CCC[C@@H](NC(=O)[C@H](CCC[C@H](C(=O)[O-])[NH3+])NC(=O)CC[C@@H](NC(=O)[C@@H](NC([C@H](O[C@@H]4([C@@H](NC(=O)C)C5(OCC([C@@H](O[C@@H]3(O[C@H](CO)[C@@H](O[R1])[C@H](O)[C@@H](NC(=O)C)3))4)O5)))C)=O)C)C(=O)[O-])C(=O)[O-])C(N[C@H](C)C(=O)[O-])=O)C(=O)[O-])=O'\n",
      "[23:29:49] SMILES Parse Error: syntax error while parsing: C[C@H](NC([C@H](O[C@@H]2([C@@H](NC(=O)C)[C@H](O[R3])O[C@H](CO)[C@@H](O[C@@H]1(O[C@H](CO)[C@@H](O[R2])[C@H](O)[C@@H](NC(=O)C)1))2))C)=O)C(N[C@H](CCC(=O)N[C@@H](CCC[C@H](C(=O)[O-])[NH3+])C(N[C@H](C)C(=O)N[C@H](CCC[C@@H](C(N[C@H](C)C(=O)[O-])=O)NC(=O)CC[C@@H](NC(=O)[C@@H](NC([C@H](O[C@@H]5([C@H](C3(OCC(O3)[C@@H](O[C@@H]4(O[C@H](CO)[C@@H](O[R1])[C@H](O)[C@@H](NC(=O)C)4))5))NC(=O)C))C)=O)C)C(=O)[O-])C(=O)[O-])=O)C(=O)[O-])=O\n",
      "[23:29:49] SMILES Parse Error: Failed parsing SMILES 'C[C@H](NC([C@H](O[C@@H]2([C@@H](NC(=O)C)[C@H](O[R3])O[C@H](CO)[C@@H](O[C@@H]1(O[C@H](CO)[C@@H](O[R2])[C@H](O)[C@@H](NC(=O)C)1))2))C)=O)C(N[C@H](CCC(=O)N[C@@H](CCC[C@H](C(=O)[O-])[NH3+])C(N[C@H](C)C(=O)N[C@H](CCC[C@@H](C(N[C@H](C)C(=O)[O-])=O)NC(=O)CC[C@@H](NC(=O)[C@@H](NC([C@H](O[C@@H]5([C@H](C3(OCC(O3)[C@@H](O[C@@H]4(O[C@H](CO)[C@@H](O[R1])[C@H](O)[C@@H](NC(=O)C)4))5))NC(=O)C))C)=O)C)C(=O)[O-])C(=O)[O-])=O)C(=O)[O-])=O' for input: 'C[C@H](NC([C@H](O[C@@H]2([C@@H](NC(=O)C)[C@H](O[R3])O[C@H](CO)[C@@H](O[C@@H]1(O[C@H](CO)[C@@H](O[R2])[C@H](O)[C@@H](NC(=O)C)1))2))C)=O)C(N[C@H](CCC(=O)N[C@@H](CCC[C@H](C(=O)[O-])[NH3+])C(N[C@H](C)C(=O)N[C@H](CCC[C@@H](C(N[C@H](C)C(=O)[O-])=O)NC(=O)CC[C@@H](NC(=O)[C@@H](NC([C@H](O[C@@H]5([C@H](C3(OCC(O3)[C@@H](O[C@@H]4(O[C@H](CO)[C@@H](O[R1])[C@H](O)[C@@H](NC(=O)C)4))5))NC(=O)C))C)=O)C)C(=O)[O-])C(=O)[O-])=O)C(=O)[O-])=O'\n",
      "[23:29:49] SMILES Parse Error: syntax error while parsing: C[C@H](NC([C@H](O[C@@H]2([C@@H](NC(=O)C)C3(OCC([C@@H](O[C@@H]1(O[C@H](CO)[C@@H](O[R])[C@H](O)[C@@H](NC(=O)C)1))2)O3)))C)=O)C(N[C@H](CCC(=O)N[C@@H](CCC[C@H](C(=O)[O-])[NH3+])C(=O)[O-])C(=O)[O-])=O\n",
      "[23:29:49] SMILES Parse Error: Failed parsing SMILES 'C[C@H](NC([C@H](O[C@@H]2([C@@H](NC(=O)C)C3(OCC([C@@H](O[C@@H]1(O[C@H](CO)[C@@H](O[R])[C@H](O)[C@@H](NC(=O)C)1))2)O3)))C)=O)C(N[C@H](CCC(=O)N[C@@H](CCC[C@H](C(=O)[O-])[NH3+])C(=O)[O-])C(=O)[O-])=O' for input: 'C[C@H](NC([C@H](O[C@@H]2([C@@H](NC(=O)C)C3(OCC([C@@H](O[C@@H]1(O[C@H](CO)[C@@H](O[R])[C@H](O)[C@@H](NC(=O)C)1))2)O3)))C)=O)C(N[C@H](CCC(=O)N[C@@H](CCC[C@H](C(=O)[O-])[NH3+])C(=O)[O-])C(=O)[O-])=O'\n",
      "[23:29:49] SMILES Parse Error: syntax error while parsing: CC(C)=CCCC(\\C)=C/CCC(\\C)=C/CCC(/C)=C/CCC(/C)=C/CCC(/C)=C/CCC(/C)=C/CCC(/C)=C/CCC(/C)=C/CCC(/C)=C/CCC(/C)=C/COP(=O)(OP(O[C@H]4(O[C@H](CO)[C@@H](O[C@@H]1(O[C@H](CO)[C@@H](O[R1])[C@H](O)[C@@H](NC(=O)C)1))[C@H](O[C@@H](C(=O)N[C@@H](C)C(N[C@H](CCC(=O)N[C@@H](CCC[C@H](C(=O)[O-])[NH3+])C(N[C@H](CCC[C@@H](C(N[C@H](C)C(=O)[O-])=O)NC(=O)CC[C@@H](NC(=O)[C@@H](NC([C@H](O[C@@H]3([C@@H](NC(=O)C)[C@H](O[R3])O[C@H](CO)[C@@H](O[C@@H]2(O[C@H](CO)[C@@H](O[R2])[C@H](O)[C@@H](NC(=O)C)2))3))C)=O)C)C(=O)[O-])C(=O)[O-])=O)C(=O)[O-])=O)C)[C@@H](NC(=O)C)4))([O-])=O)[O-]\n",
      "[23:29:49] SMILES Parse Error: Failed parsing SMILES 'CC(C)=CCCC(\\C)=C/CCC(\\C)=C/CCC(/C)=C/CCC(/C)=C/CCC(/C)=C/CCC(/C)=C/CCC(/C)=C/CCC(/C)=C/CCC(/C)=C/CCC(/C)=C/COP(=O)(OP(O[C@H]4(O[C@H](CO)[C@@H](O[C@@H]1(O[C@H](CO)[C@@H](O[R1])[C@H](O)[C@@H](NC(=O)C)1))[C@H](O[C@@H](C(=O)N[C@@H](C)C(N[C@H](CCC(=O)N[C@@H](CCC[C@H](C(=O)[O-])[NH3+])C(N[C@H](CCC[C@@H](C(N[C@H](C)C(=O)[O-])=O)NC(=O)CC[C@@H](NC(=O)[C@@H](NC([C@H](O[C@@H]3([C@@H](NC(=O)C)[C@H](O[R3])O[C@H](CO)[C@@H](O[C@@H]2(O[C@H](CO)[C@@H](O[R2])[C@H](O)[C@@H](NC(=O)C)2))3))C)=O)C)C(=O)[O-])C(=O)[O-])=O)C(=O)[O-])=O)C)[C@@H](NC(=O)C)4))([O-])=O)[O-]' for input: 'CC(C)=CCCC(\\C)=C/CCC(\\C)=C/CCC(/C)=C/CCC(/C)=C/CCC(/C)=C/CCC(/C)=C/CCC(/C)=C/CCC(/C)=C/CCC(/C)=C/CCC(/C)=C/COP(=O)(OP(O[C@H]4(O[C@H](CO)[C@@H](O[C@@H]1(O[C@H](CO)[C@@H](O[R1])[C@H](O)[C@@H](NC(=O)C)1))[C@H](O[C@@H](C(=O)N[C@@H](C)C(N[C@H](CCC(=O)N[C@@H](CCC[C@H](C(=O)[O-])[NH3+])C(N[C@H](CCC[C@@H](C(N[C@H](C)C(=O)[O-])=O)NC(=O)CC[C@@H](NC(=O)[C@@H](NC([C@H](O[C@@H]3([C@@H](NC(=O)C)[C@H](O[R3])O[C@H](CO)[C@@H](O[C@@H]2(O[C@H](CO)[C@@H](O[R2])[C@H](O)[C@@H](NC(=O)C)2))3))C)=O)C)C(=O)[O-])C(=O)[O-])=O)C(=O)[O-])=O)C)[C@@H](NC(=O)C)4))([O-])=O)[O-]'\n",
      "[23:29:49] SMILES Parse Error: syntax error while parsing: CC(C)=CCCC(\\C)=C/CCC(\\C)=C/CCC(/C)=C/CCC(/C)=C/CCC(/C)=C/CCC(/C)=C/CCC(/C)=C/CCC(/C)=C/CCC(/C)=C/CCC(/C)=C/COP(OP(O[C@H]4(O[C@H](CO)[C@@H](O[C@@H]1(O[C@H](CO)[C@@H](O[R1])[C@H](O)[C@@H](NC(=O)C)1))[C@H](O[C@@H](C(=O)N[C@@H](C)C(N[C@H](CCC(=O)N[C@@H](CCC[C@@H](NC(=O)[C@@H](C)NC(=O)[C@H](CCC[C@H](C(=O)[O-])[NH3+])NC(=O)CC[C@@H](NC(=O)[C@@H](NC([C@H](O[C@@H]3([C@@H](NC(=O)C)[C@H](O[R3])O[C@H](CO)[C@@H](O[C@@H]2(O[C@H](CO)[C@@H](O[R2])[C@H](O)[C@@H](NC(=O)C)2))3))C)=O)C)C(=O)[O-])C(=O)[O-])C(N[C@H](C)C(=O)[O-])=O)C(=O)[O-])=O)C)[C@@H](NC(=O)C)4))([O-])=O)(=O)[O-]\n",
      "[23:29:49] SMILES Parse Error: syntax error while parsing: C[C@H](C(=O)N[C@H](C)C(=O)[O-])NC(=O)[C@H](CCC[C@H](C(=O)[O-])[NH3+])NC(=O)CC[C@@H](NC(=O)[C@@H](NC([C@H](O[C@@H]2([C@@H](NC(=O)C)C3(OCC([C@@H](O[C@@H]1(O[C@H](CO)[C@@H](O[R])[C@H](O)[C@@H](NC(=O)C)1))2)O3)))C)=O)C)C(=O)[O-]\n",
      "[23:29:49] SMILES Parse Error: Failed parsing SMILES 'CC(C)=CCCC(\\C)=C/CCC(\\C)=C/CCC(/C)=C/CCC(/C)=C/CCC(/C)=C/CCC(/C)=C/CCC(/C)=C/CCC(/C)=C/CCC(/C)=C/CCC(/C)=C/COP(OP(O[C@H]4(O[C@H](CO)[C@@H](O[C@@H]1(O[C@H](CO)[C@@H](O[R1])[C@H](O)[C@@H](NC(=O)C)1))[C@H](O[C@@H](C(=O)N[C@@H](C)C(N[C@H](CCC(=O)N[C@@H](CCC[C@@H](NC(=O)[C@@H](C)NC(=O)[C@H](CCC[C@H](C(=O)[O-])[NH3+])NC(=O)CC[C@@H](NC(=O)[C@@H](NC([C@H](O[C@@H]3([C@@H](NC(=O)C)[C@H](O[R3])O[C@H](CO)[C@@H](O[C@@H]2(O[C@H](CO)[C@@H](O[R2])[C@H](O)[C@@H](NC(=O)C)2))3))C)=O)C)C(=O)[O-])C(=O)[O-])C(N[C@H](C)C(=O)[O-])=O)C(=O)[O-])=O)C)[C@@H](NC(=O)C)4))([O-])=O)(=O)[O-]' for input: 'CC(C)=CCCC(\\C)=C/CCC(\\C)=C/CCC(/C)=C/CCC(/C)=C/CCC(/C)=C/CCC(/C)=C/CCC(/C)=C/CCC(/C)=C/CCC(/C)=C/CCC(/C)=C/COP(OP(O[C@H]4(O[C@H](CO)[C@@H](O[C@@H]1(O[C@H](CO)[C@@H](O[R1])[C@H](O)[C@@H](NC(=O)C)1))[C@H](O[C@@H](C(=O)N[C@@H](C)C(N[C@H](CCC(=O)N[C@@H](CCC[C@@H](NC(=O)[C@@H](C)NC(=O)[C@H](CCC[C@H](C(=O)[O-])[NH3+])NC(=O)CC[C@@H](NC(=O)[C@@H](NC([C@H](O[C@@H]3([C@@H](NC(=O)C)[C@H](O[R3])O[C@H](CO)[C@@H](O[C@@H]2(O[C@H](CO)[C@@H](O[R2])[C@H](O)[C@@H](NC(=O)C)2))3))C)=O)C)C(=O)[O-])C(=O)[O-])C(N[C@H](C)C(=O)[O-])=O)C(=O)[O-])=O)C)[C@@H](NC(=O)C)4))([O-])=O)(=O)[O-]'\n",
      "[23:29:49] SMILES Parse Error: Failed parsing SMILES 'C[C@H](C(=O)N[C@H](C)C(=O)[O-])NC(=O)[C@H](CCC[C@H](C(=O)[O-])[NH3+])NC(=O)CC[C@@H](NC(=O)[C@@H](NC([C@H](O[C@@H]2([C@@H](NC(=O)C)C3(OCC([C@@H](O[C@@H]1(O[C@H](CO)[C@@H](O[R])[C@H](O)[C@@H](NC(=O)C)1))2)O3)))C)=O)C)C(=O)[O-]' for input: 'C[C@H](C(=O)N[C@H](C)C(=O)[O-])NC(=O)[C@H](CCC[C@H](C(=O)[O-])[NH3+])NC(=O)CC[C@@H](NC(=O)[C@@H](NC([C@H](O[C@@H]2([C@@H](NC(=O)C)C3(OCC([C@@H](O[C@@H]1(O[C@H](CO)[C@@H](O[R])[C@H](O)[C@@H](NC(=O)C)1))2)O3)))C)=O)C)C(=O)[O-]'\n"
     ]
    },
    {
     "name": "stdout",
     "output_type": "stream",
     "text": [
      "Python argument types in\n",
      "    FingeprintGenerator64.GetFingerprintAsNumPy(FingeprintGenerator64, NoneType)\n",
      "did not match C++ signature:\n",
      "    GetFingerprintAsNumPy(RDKit::FingerprintGenerator<unsigned long> const* self, RDKit::ROMol mol, boost::python::api::object fromAtoms=[], boost::python::api::object ignoreAtoms=[], int confId=-1, boost::python::api::object customAtomInvariants=[], boost::python::api::object customBondInvariants=[], boost::python::api::object additionalOutput=None)\n"
     ]
    },
    {
     "name": "stderr",
     "output_type": "stream",
     "text": [
      "[23:29:54] WARNING: not removing hydrogen atom without neighbors\n",
      "[23:29:54] WARNING: not removing hydrogen atom without neighbors\n",
      "[23:29:56] WARNING: not removing hydrogen atom without neighbors\n",
      " 69%|██████████████████████████████████████████████████████████████████████████████████▌                                     | 2436/3538 [08:15<07:43,  2.38it/s][23:29:56] WARNING: not removing hydrogen atom without neighbors\n",
      "[23:29:56] WARNING: not removing hydrogen atom without neighbors\n",
      "[23:29:56] WARNING: not removing hydrogen atom without neighbors\n",
      " 69%|██████████████████████████████████████████████████████████████████████████████████▉                                     | 2444/3538 [08:15<04:49,  3.78it/s][23:29:56] WARNING: not removing hydrogen atom without neighbors\n",
      "[23:29:56] WARNING: not removing hydrogen atom without neighbors\n",
      "[23:29:56] WARNING: not removing hydrogen atom without neighbors\n",
      "[23:29:56] WARNING: not removing hydrogen atom without neighbors\n"
     ]
    },
    {
     "name": "stdout",
     "output_type": "stream",
     "text": [
      "need at least one array to concatenate\n",
      "need at least one array to concatenate\n"
     ]
    },
    {
     "name": "stderr",
     "output_type": "stream",
     "text": [
      "[23:29:56] WARNING: not removing hydrogen atom without neighbors\n",
      " 69%|███████████████████████████████████████████████████████████████████████████████████                                     | 2449/3538 [08:15<03:42,  4.89it/s][23:29:56] WARNING: not removing hydrogen atom without neighbors\n",
      "[23:29:56] WARNING: not removing hydrogen atom without neighbors\n",
      "[23:29:56] WARNING: not removing hydrogen atom without neighbors\n",
      "[23:29:56] WARNING: not removing hydrogen atom without neighbors\n",
      "[23:29:56] WARNING: not removing hydrogen atom without neighbors\n",
      " 69%|███████████████████████████████████████████████████████████████████████████████████▏                                    | 2454/3538 [08:15<02:49,  6.40it/s][23:29:56] WARNING: not removing hydrogen atom without neighbors\n",
      "[23:29:56] WARNING: not removing hydrogen atom without neighbors\n",
      "[23:29:56] WARNING: not removing hydrogen atom without neighbors\n",
      "[23:29:56] WARNING: not removing hydrogen atom without neighbors\n",
      "[23:29:56] WARNING: not removing hydrogen atom without neighbors\n",
      " 70%|███████████████████████████████████████████████████████████████████████████████████▍                                    | 2460/3538 [08:15<02:01,  8.87it/s][23:29:56] WARNING: not removing hydrogen atom without neighbors\n",
      "[23:29:56] WARNING: not removing hydrogen atom without neighbors\n",
      "[23:29:56] WARNING: not removing hydrogen atom without neighbors\n",
      "[23:29:56] WARNING: not removing hydrogen atom without neighbors\n",
      " 70%|███████████████████████████████████████████████████████████████████████████████████▌                                    | 2465/3538 [08:15<01:35, 11.23it/s][23:29:56] WARNING: not removing hydrogen atom without neighbors\n",
      "[23:29:56] WARNING: not removing hydrogen atom without neighbors\n",
      "[23:29:56] WARNING: not removing hydrogen atom without neighbors\n",
      "[23:29:56] WARNING: not removing hydrogen atom without neighbors\n",
      " 70%|███████████████████████████████████████████████████████████████████████████████████▊                                    | 2470/3538 [08:15<01:16, 13.92it/s][23:29:56] WARNING: not removing hydrogen atom without neighbors\n",
      "[23:29:57] WARNING: not removing hydrogen atom without neighbors\n",
      "[23:29:57] WARNING: not removing hydrogen atom without neighbors\n",
      "[23:29:57] WARNING: not removing hydrogen atom without neighbors\n",
      "[23:29:57] WARNING: not removing hydrogen atom without neighbors\n",
      " 70%|███████████████████████████████████████████████████████████████████████████████████▉                                    | 2475/3538 [08:15<01:00, 17.48it/s][23:29:57] WARNING: not removing hydrogen atom without neighbors\n",
      "[23:29:57] WARNING: not removing hydrogen atom without neighbors\n",
      "[23:29:57] WARNING: not removing hydrogen atom without neighbors\n",
      "[23:29:57] WARNING: not removing hydrogen atom without neighbors\n",
      " 70%|████████████████████████████████████████████████████████████████████████████████████▏                                   | 2483/3538 [08:15<00:42, 24.86it/s][23:29:57] WARNING: not removing hydrogen atom without neighbors\n",
      "[23:29:57] WARNING: not removing hydrogen atom without neighbors\n",
      "[23:29:57] WARNING: not removing hydrogen atom without neighbors\n",
      "[23:29:57] WARNING: not removing hydrogen atom without neighbors\n",
      "[23:29:57] WARNING: not removing hydrogen atom without neighbors\n",
      " 70%|████████████████████████████████████████████████████████████████████████████████████▍                                   | 2490/3538 [08:16<00:36, 29.11it/s]"
     ]
    },
    {
     "name": "stdout",
     "output_type": "stream",
     "text": [
      "need at least one array to concatenate\n",
      "need at least one array to concatenate\n"
     ]
    },
    {
     "name": "stderr",
     "output_type": "stream",
     "text": [
      "[23:29:57] WARNING: not removing hydrogen atom without neighbors\n",
      "[23:29:57] WARNING: not removing hydrogen atom without neighbors\n",
      "[23:29:57] WARNING: not removing hydrogen atom without neighbors\n",
      "[23:29:57] WARNING: not removing hydrogen atom without neighbors\n",
      "[23:29:57] WARNING: not removing hydrogen atom without neighbors\n",
      " 71%|████████████████████████████████████████████████████████████████████████████████████▌                                   | 2495/3538 [08:16<00:32, 31.64it/s][23:29:57] WARNING: not removing hydrogen atom without neighbors\n",
      "[23:29:57] WARNING: not removing hydrogen atom without neighbors\n",
      "[23:29:57] WARNING: not removing hydrogen atom without neighbors\n",
      "[23:29:57] WARNING: not removing hydrogen atom without neighbors\n",
      "[23:29:57] WARNING: not removing hydrogen atom without neighbors\n",
      " 71%|████████████████████████████████████████████████████████████████████████████████████▊                                   | 2500/3538 [08:16<00:30, 34.38it/s][23:29:57] WARNING: not removing hydrogen atom without neighbors\n",
      "[23:29:57] WARNING: not removing hydrogen atom without neighbors\n",
      "[23:29:57] WARNING: not removing hydrogen atom without neighbors\n",
      "[23:29:57] WARNING: not removing hydrogen atom without neighbors\n",
      " 71%|████████████████████████████████████████████████████████████████████████████████████▉                                   | 2505/3538 [08:16<00:27, 37.58it/s][23:29:57] WARNING: not removing hydrogen atom without neighbors\n",
      "[23:29:57] WARNING: not removing hydrogen atom without neighbors\n",
      "[23:29:57] WARNING: not removing hydrogen atom without neighbors\n",
      "[23:29:57] WARNING: not removing hydrogen atom without neighbors\n",
      "[23:29:57] WARNING: not removing hydrogen atom without neighbors\n",
      " 71%|█████████████████████████████████████████████████████████████████████████████████████▏                                  | 2510/3538 [08:16<00:26, 39.54it/s][23:29:57] WARNING: not removing hydrogen atom without neighbors\n",
      "[23:29:57] WARNING: not removing hydrogen atom without neighbors\n",
      "[23:29:57] WARNING: not removing hydrogen atom without neighbors\n"
     ]
    },
    {
     "name": "stdout",
     "output_type": "stream",
     "text": [
      "need at least one array to concatenate\n"
     ]
    },
    {
     "name": "stderr",
     "output_type": "stream",
     "text": [
      " 71%|█████████████████████████████████████████████████████████████████████████████████████▎                                  | 2515/3538 [08:16<00:24, 41.09it/s][23:29:57] WARNING: not removing hydrogen atom without neighbors\n",
      "[23:29:57] WARNING: not removing hydrogen atom without neighbors\n",
      "[23:29:57] WARNING: not removing hydrogen atom without neighbors\n",
      "[23:29:58] WARNING: not removing hydrogen atom without neighbors\n",
      " 71%|█████████████████████████████████████████████████████████████████████████████████████▌                                  | 2521/3538 [08:16<00:25, 40.18it/s][23:29:58] WARNING: not removing hydrogen atom without neighbors\n",
      "[23:29:58] WARNING: not removing hydrogen atom without neighbors\n",
      "[23:29:58] WARNING: not removing hydrogen atom without neighbors\n",
      "[23:29:58] WARNING: not removing hydrogen atom without neighbors\n",
      "[23:29:58] WARNING: not removing hydrogen atom without neighbors\n",
      " 71%|█████████████████████████████████████████████████████████████████████████████████████▋                                  | 2526/3538 [08:16<00:24, 40.79it/s][23:29:58] WARNING: not removing hydrogen atom without neighbors\n",
      "[23:29:58] WARNING: not removing hydrogen atom without neighbors\n",
      "[23:29:58] WARNING: not removing hydrogen atom without neighbors\n",
      "[23:29:58] WARNING: not removing hydrogen atom without neighbors\n",
      "[23:29:58] WARNING: not removing hydrogen atom without neighbors\n",
      " 72%|█████████████████████████████████████████████████████████████████████████████████████▊                                  | 2531/3538 [08:17<00:24, 41.11it/s][23:29:58] WARNING: not removing hydrogen atom without neighbors\n",
      "[23:29:58] WARNING: not removing hydrogen atom without neighbors\n",
      "[23:29:58] WARNING: not removing hydrogen atom without neighbors\n",
      "[23:29:58] WARNING: not removing hydrogen atom without neighbors\n",
      "[23:29:58] WARNING: not removing hydrogen atom without neighbors\n",
      " 72%|██████████████████████████████████████████████████████████████████████████████████████                                  | 2537/3538 [08:17<00:22, 44.43it/s][23:29:58] WARNING: not removing hydrogen atom without neighbors\n"
     ]
    },
    {
     "name": "stdout",
     "output_type": "stream",
     "text": [
      "need at least one array to concatenate\n"
     ]
    },
    {
     "name": "stderr",
     "output_type": "stream",
     "text": [
      "[23:29:58] WARNING: not removing hydrogen atom without neighbors\n",
      "[23:29:58] WARNING: not removing hydrogen atom without neighbors\n",
      "[23:29:58] WARNING: not removing hydrogen atom without neighbors\n",
      " 72%|██████████████████████████████████████████████████████████████████████████████████████▏                                 | 2542/3538 [08:17<00:25, 39.63it/s][23:29:58] WARNING: not removing hydrogen atom without neighbors\n",
      "[23:29:58] WARNING: not removing hydrogen atom without neighbors\n",
      "[23:29:58] WARNING: not removing hydrogen atom without neighbors\n",
      "[23:29:58] SMILES Parse Error: syntax error while parsing: CC(C)=CCCC(\\C)=C/CCC(\\C)=C/CCC(/C)=C/CCC(/C)=C/CCC(/C)=C/CCC(/C)=C/CCC(/C)=C/CCC(/C)=C/CCC(/C)=C/CCC(/C)=C/COP(OP(O[C@H]2(O[C@H](CO)[C@@H](O[C@@H]1(O[C@H](CO)[C@@H](O)[C@H](O)[C@@H](NC(=O)C)1))[C@H](O[C@@H](C(=O)N[C@@H](C)C(N[C@H](CCC(=O)N[C@@H](CCC[C@H](C([O-])=O)NC(=O)CC[C@H](C(=O)[O-])NC(=O)CCC(C(=O)[O-])[R])C(N[C@H](C)C(=O)N[C@H](C)C(=O)[O-])=O)C(=O)N)=O)C)[C@@H](NC(=O)C)2))([O-])=O)(=O)[O-]\n",
      "[23:29:58] SMILES Parse Error: Failed parsing SMILES 'CC(C)=CCCC(\\C)=C/CCC(\\C)=C/CCC(/C)=C/CCC(/C)=C/CCC(/C)=C/CCC(/C)=C/CCC(/C)=C/CCC(/C)=C/CCC(/C)=C/CCC(/C)=C/COP(OP(O[C@H]2(O[C@H](CO)[C@@H](O[C@@H]1(O[C@H](CO)[C@@H](O)[C@H](O)[C@@H](NC(=O)C)1))[C@H](O[C@@H](C(=O)N[C@@H](C)C(N[C@H](CCC(=O)N[C@@H](CCC[C@H](C([O-])=O)NC(=O)CC[C@H](C(=O)[O-])NC(=O)CCC(C(=O)[O-])[R])C(N[C@H](C)C(=O)N[C@H](C)C(=O)[O-])=O)C(=O)N)=O)C)[C@@H](NC(=O)C)2))([O-])=O)(=O)[O-]' for input: 'CC(C)=CCCC(\\C)=C/CCC(\\C)=C/CCC(/C)=C/CCC(/C)=C/CCC(/C)=C/CCC(/C)=C/CCC(/C)=C/CCC(/C)=C/CCC(/C)=C/CCC(/C)=C/COP(OP(O[C@H]2(O[C@H](CO)[C@@H](O[C@@H]1(O[C@H](CO)[C@@H](O)[C@H](O)[C@@H](NC(=O)C)1))[C@H](O[C@@H](C(=O)N[C@@H](C)C(N[C@H](CCC(=O)N[C@@H](CCC[C@H](C([O-])=O)NC(=O)CC[C@H](C(=O)[O-])NC(=O)CCC(C(=O)[O-])[R])C(N[C@H](C)C(=O)N[C@H](C)C(=O)[O-])=O)C(=O)N)=O)C)[C@@H](NC(=O)C)2))([O-])=O)(=O)[O-]'\n",
      "[23:29:58] WARNING: not removing hydrogen atom without neighbors\n",
      " 72%|██████████████████████████████████████████████████████████████████████████████████████▍                                 | 2547/3538 [08:19<02:09,  7.68it/s]"
     ]
    },
    {
     "name": "stdout",
     "output_type": "stream",
     "text": [
      "Python argument types in\n",
      "    FingeprintGenerator64.GetFingerprintAsNumPy(FingeprintGenerator64, NoneType)\n",
      "did not match C++ signature:\n",
      "    GetFingerprintAsNumPy(RDKit::FingerprintGenerator<unsigned long> const* self, RDKit::ROMol mol, boost::python::api::object fromAtoms=[], boost::python::api::object ignoreAtoms=[], int confId=-1, boost::python::api::object customAtomInvariants=[], boost::python::api::object customBondInvariants=[], boost::python::api::object additionalOutput=None)\n"
     ]
    },
    {
     "name": "stderr",
     "output_type": "stream",
     "text": [
      "[23:30:03] WARNING: not removing hydrogen atom without neighbors\n",
      "[23:30:04] WARNING: not removing hydrogen atom without neighbors\n",
      "[23:30:05] WARNING: not removing hydrogen atom without neighbors\n",
      " 72%|██████████████████████████████████████████████████████████████████████████████████████▍                                 | 2550/3538 [08:25<08:08,  2.02it/s][23:30:06] WARNING: not removing hydrogen atom without neighbors\n",
      "[23:30:06] WARNING: not removing hydrogen atom without neighbors\n",
      "[23:30:06] WARNING: not removing hydrogen atom without neighbors\n",
      "[23:30:06] SMILES Parse Error: syntax error while parsing: C(O[R1])COC(=O)C2(\\C=C/C(/C(=O)OCCOC(=O)C1(\\C=C/C(/C(O[R2])=O)=C\\C=1))=C\\C=2)\n",
      "[23:30:06] SMILES Parse Error: Failed parsing SMILES 'C(O[R1])COC(=O)C2(\\C=C/C(/C(=O)OCCOC(=O)C1(\\C=C/C(/C(O[R2])=O)=C\\C=1))=C\\C=2)' for input: 'C(O[R1])COC(=O)C2(\\C=C/C(/C(=O)OCCOC(=O)C1(\\C=C/C(/C(O[R2])=O)=C\\C=1))=C\\C=2)'\n",
      " 72%|██████████████████████████████████████████████████████████████████████████████████████▋                                 | 2554/3538 [08:27<07:59,  2.05it/s]"
     ]
    },
    {
     "name": "stdout",
     "output_type": "stream",
     "text": [
      "Python argument types in\n",
      "    FingeprintGenerator64.GetFingerprintAsNumPy(FingeprintGenerator64, NoneType)\n",
      "did not match C++ signature:\n",
      "    GetFingerprintAsNumPy(RDKit::FingerprintGenerator<unsigned long> const* self, RDKit::ROMol mol, boost::python::api::object fromAtoms=[], boost::python::api::object ignoreAtoms=[], int confId=-1, boost::python::api::object customAtomInvariants=[], boost::python::api::object customBondInvariants=[], boost::python::api::object additionalOutput=None)\n"
     ]
    },
    {
     "name": "stderr",
     "output_type": "stream",
     "text": [
      "[23:30:12] WARNING: not removing hydrogen atom without neighbors\n",
      " 72%|██████████████████████████████████████████████████████████████████████████████████████▊                                 | 2558/3538 [08:32<12:15,  1.33it/s]"
     ]
    },
    {
     "name": "stdout",
     "output_type": "stream",
     "text": [
      "need at least one array to concatenate\n"
     ]
    },
    {
     "name": "stderr",
     "output_type": "stream",
     "text": [
      "[23:30:15] WARNING: not removing hydrogen atom without neighbors\n",
      " 72%|██████████████████████████████████████████████████████████████████████████████████████▊                                 | 2559/3538 [08:34<14:23,  1.13it/s][23:30:17] WARNING: not removing hydrogen atom without neighbors\n",
      " 72%|██████████████████████████████████████████████████████████████████████████████████████▊                                 | 2560/3538 [08:36<15:43,  1.04it/s][23:30:17] WARNING: not removing hydrogen atom without neighbors\n",
      "[23:30:17] WARNING: not removing hydrogen atom without neighbors\n",
      "[23:30:17] WARNING: not removing hydrogen atom without neighbors\n",
      "[23:30:17] WARNING: not removing hydrogen atom without neighbors\n",
      " 72%|██████████████████████████████████████████████████████████████████████████████████████▉                                 | 2564/3538 [08:36<08:45,  1.85it/s][23:30:17] WARNING: not removing hydrogen atom without neighbors\n",
      "[23:30:17] WARNING: not removing hydrogen atom without neighbors\n",
      "[23:30:17] WARNING: not removing hydrogen atom without neighbors\n",
      " 73%|███████████████████████████████████████████████████████████████████████████████████████▏                                | 2569/3538 [08:36<04:58,  3.25it/s][23:30:17] WARNING: not removing hydrogen atom without neighbors\n",
      "[23:30:17] SMILES Parse Error: syntax error while parsing: CCCCCCCCCCCCCCCC(O[C@H](CCCCCCCCCCCC(C)C)CC(N[C@H]%24([C@@H](O[C@H](CO[C@@]%23(C(=O)[O-])(O[C@H]([C@H](O)CO)[C@H](OP(=O)(OC[C@@H](O[C@H]%20(O[C@H](CO)[C@@H](O)[C@H](O[C@H]%19(O[C@H](COP(OCC[NH3+])([O-])=O)[C@@H](O)[C@H](O[C@H]%18(O[C@H](COP(OCC[NH3+])([O-])=O)[C@@H](O)[C@H](O[C@H]%17(O[C@H](CO)[C@@H](O)[C@H](O[C@H]%16(O[C@H](CO)[C@@H](O)[C@H](O[C@H]%15(O[C@H](CO)[C@@H](O)[C@H](O[C@H]%14(O[C@H](CO)[C@@H](O)[C@H](O[C@H]%13(O[C@H](CO)[C@@H](O)[C@H](O[C@@H]1([C@@H]([C@H]([C@H]([C@H](O1)CO)O)O[C@H]2([C@H]([C@H]([C@@H]([C@H](O2)C)O[C@@H]3([C@@H]([C@H]([C@@H]([C@H](O3)CO[C@@H]4([C@@H]([C@H]([C@H]([C@H](O4)CO)O)O[C@H]5([C@@H]([C@H]([C@H]([C@H](O5)CO)O)O[C@H]6([C@H]([C@H]([C@@H]([C@H](O6)C)O[C@@H]7([C@@H]([C@H]([C@@H]([C@H](O7)CO[C@@H]8([C@@H]([C@H]([C@H]([C@H](O8)CO)O)O[C@H]9([C@@H]([C@H]([C@H]([C@H](O9)CO)O)O[C@H]%10([C@H]([C@H]([C@@H]([C@H](O%10)C)O[C@@H]%11([C@@H]([C@H]([C@@H]([C@H](O%11)CO[C@@H]%12([C@@H]([C@H]([C@H]([C@H](O%12)CO)O)O[R])O))O)O)O))O)O))O))O))O)O)O))O)O))O))O))O)O)O))O)O))O))[C@H](O)%13))[C@H](O)%14))[C@H](O)%15))[C@H](O)%16))[C@H](O)%17))[C@H](O)%18))[C@H](O)%19))[C@H](O)%20))CO[C@@H]%21([C@H]([NH3+])[C@H](O)[C@H](O)[C@@H](CO)O%21))[O-])[C@H](O[C@]%22(O[C@H]([C@@H](CO)O)[C@H](O)[C@H](O)C%22)C(=O)[O-])C%23))[C@H]([C@@H]%24OC(C[C@H](O)CCCCCCCCCC(C)C)=O)OP(=O)([O-])[O-])OC[C@@H]%25([C@@H](O)[C@H](OC(=O)C[C@H](O)CCCCCCCCCCCCC)[C@@H](NC(=O)C[C@H](O)CCCCCCCCCCCC(C)C)[C@@H](OP([O-])([O-])=O)O%25)))=O)=O\n",
      "[23:30:17] SMILES Parse Error: Failed parsing SMILES 'CCCCCCCCCCCCCCCC(O[C@H](CCCCCCCCCCCC(C)C)CC(N[C@H]%24([C@@H](O[C@H](CO[C@@]%23(C(=O)[O-])(O[C@H]([C@H](O)CO)[C@H](OP(=O)(OC[C@@H](O[C@H]%20(O[C@H](CO)[C@@H](O)[C@H](O[C@H]%19(O[C@H](COP(OCC[NH3+])([O-])=O)[C@@H](O)[C@H](O[C@H]%18(O[C@H](COP(OCC[NH3+])([O-])=O)[C@@H](O)[C@H](O[C@H]%17(O[C@H](CO)[C@@H](O)[C@H](O[C@H]%16(O[C@H](CO)[C@@H](O)[C@H](O[C@H]%15(O[C@H](CO)[C@@H](O)[C@H](O[C@H]%14(O[C@H](CO)[C@@H](O)[C@H](O[C@H]%13(O[C@H](CO)[C@@H](O)[C@H](O[C@@H]1([C@@H]([C@H]([C@H]([C@H](O1)CO)O)O[C@H]2([C@H]([C@H]([C@@H]([C@H](O2)C)O[C@@H]3([C@@H]([C@H]([C@@H]([C@H](O3)CO[C@@H]4([C@@H]([C@H]([C@H]([C@H](O4)CO)O)O[C@H]5([C@@H]([C@H]([C@H]([C@H](O5)CO)O)O[C@H]6([C@H]([C@H]([C@@H]([C@H](O6)C)O[C@@H]7([C@@H]([C@H]([C@@H]([C@H](O7)CO[C@@H]8([C@@H]([C@H]([C@H]([C@H](O8)CO)O)O[C@H]9([C@@H]([C@H]([C@H]([C@H](O9)CO)O)O[C@H]%10([C@H]([C@H]([C@@H]([C@H](O%10)C)O[C@@H]%11([C@@H]([C@H]([C@@H]([C@H](O%11)CO[C@@H]%12([C@@H]([C@H]([C@H]([C@H](O%12)CO)O)O[R])O))O)O)O))O)O))O))O))O)O)O))O)O))O))O))O)O)O))O)O))O))[C@H](O)%13))[C@H](O)%14))[C@H](O)%15))[C@H](O)%16))[C@H](O)%17))[C@H](O)%18))[C@H](O)%19))[C@H](O)%20))CO[C@@H]%21([C@H]([NH3+])[C@H](O)[C@H](O)[C@@H](CO)O%21))[O-])[C@H](O[C@]%22(O[C@H]([C@@H](CO)O)[C@H](O)[C@H](O)C%22)C(=O)[O-])C%23))[C@H]([C@@H]%24OC(C[C@H](O)CCCCCCCCCC(C)C)=O)OP(=O)([O-])[O-])OC[C@@H]%25([C@@H](O)[C@H](OC(=O)C[C@H](O)CCCCCCCCCCCCC)[C@@H](NC(=O)C[C@H](O)CCCCCCCCCCCC(C)C)[C@@H](OP([O-])([O-])=O)O%25)))=O)=O' for input: 'CCCCCCCCCCCCCCCC(O[C@H](CCCCCCCCCCCC(C)C)CC(N[C@H]%24([C@@H](O[C@H](CO[C@@]%23(C(=O)[O-])(O[C@H]([C@H](O)CO)[C@H](OP(=O)(OC[C@@H](O[C@H]%20(O[C@H](CO)[C@@H](O)[C@H](O[C@H]%19(O[C@H](COP(OCC[NH3+])([O-])=O)[C@@H](O)[C@H](O[C@H]%18(O[C@H](COP(OCC[NH3+])([O-])=O)[C@@H](O)[C@H](O[C@H]%17(O[C@H](CO)[C@@H](O)[C@H](O[C@H]%16(O[C@H](CO)[C@@H](O)[C@H](O[C@H]%15(O[C@H](CO)[C@@H](O)[C@H](O[C@H]%14(O[C@H](CO)[C@@H](O)[C@H](O[C@H]%13(O[C@H](CO)[C@@H](O)[C@H](O[C@@H]1([C@@H]([C@H]([C@H]([C@H](O1)CO)O)O[C@H]2([C@H]([C@H]([C@@H]([C@H](O2)C)O[C@@H]3([C@@H]([C@H]([C@@H]([C@H](O3)CO[C@@H]4([C@@H]([C@H]([C@H]([C@H](O4)CO)O)O[C@H]5([C@@H]([C@H]([C@H]([C@H](O5)CO)O)O[C@H]6([C@H]([C@H]([C@@H]([C@H](O6)C)O[C@@H]7([C@@H]([C@H]([C@@H]([C@H](O7)CO[C@@H]8([C@@H]([C@H]([C@H]([C@H](O8)CO)O)O[C@H]9([C@@H]([C@H]([C@H]([C@H](O9)CO)O)O[C@H]%10([C@H]([C@H]([C@@H]([C@H](O%10)C)O[C@@H]%11([C@@H]([C@H]([C@@H]([C@H](O%11)CO[C@@H]%12([C@@H]([C@H]([C@H]([C@H](O%12)CO)O)O[R])O))O)O)O))O)O))O))O))O)O)O))O)O))O))O))O)O)O))O)O))O))[C@H](O)%13))[C@H](O)%14))[C@H](O)%15))[C@H](O)%16))[C@H](O)%17))[C@H](O)%18))[C@H](O)%19))[C@H](O)%20))CO[C@@H]%21([C@H]([NH3+])[C@H](O)[C@H](O)[C@@H](CO)O%21))[O-])[C@H](O[C@]%22(O[C@H]([C@@H](CO)O)[C@H](O)[C@H](O)C%22)C(=O)[O-])C%23))[C@H]([C@@H]%24OC(C[C@H](O)CCCCCCCCCC(C)C)=O)OP(=O)([O-])[O-])OC[C@@H]%25([C@@H](O)[C@H](OC(=O)C[C@H](O)CCCCCCCCCCCCC)[C@@H](NC(=O)C[C@H](O)CCCCCCCCCCCC(C)C)[C@@H](OP([O-])([O-])=O)O%25)))=O)=O'\n",
      "[23:30:17] SMILES Parse Error: syntax error while parsing: CC(C)=CCCC(\\C)=C/CCC(\\C)=C/CCC(/C)=C/CCC(/C)=C/CCC(/C)=C/CCC(/C)=C/CCC(/C)=C/CCC(/C)=C/CCC(/C)=C/CCC(/C)=C/COP(=O)([O-])OP(O[C@@H]1([C@@H]([C@H]([C@H]([C@H](O1)CO)O)O[C@H]2([C@@H]([C@@H]([C@H]([C@@H](O2)C)O[C@@H]3([C@@H]([C@H]([C@@H]([C@H](O3)CO[C@@H]4([C@@H]([C@H]([C@H]([C@H](O4)CO)O)O[C@H]5([C@@H]([C@H]([C@H]([C@H](O5)CO)O)O[C@H]6([C@@H]([C@@H]([C@H]([C@@H](O6)C)O[C@@H]7([C@@H]([C@H]([C@@H]([C@H](O7)CO[C@@H]8([C@@H]([C@H]([C@H]([C@H](O8)CO)O)O[C@H]9([C@@H]([C@H]([C@H]([C@H](O9)CO)O)O[C@H]%10([C@@H]([C@@H]([C@H]([C@@H](O%10)C)O[C@@H]%11([C@@H]([C@H]([C@@H]([C@H](O%11)CO[C@@H]%12([C@@H]([C@H]([C@H]([C@H](O%12)CO)O)O[R])O))O)O)O))O)O))O))O))O)O)O))O)O))O))O))O)O)O))O)O))O))([O-])=O\n",
      "[23:30:17] SMILES Parse Error: Failed parsing SMILES 'CC(C)=CCCC(\\C)=C/CCC(\\C)=C/CCC(/C)=C/CCC(/C)=C/CCC(/C)=C/CCC(/C)=C/CCC(/C)=C/CCC(/C)=C/CCC(/C)=C/CCC(/C)=C/COP(=O)([O-])OP(O[C@@H]1([C@@H]([C@H]([C@H]([C@H](O1)CO)O)O[C@H]2([C@@H]([C@@H]([C@H]([C@@H](O2)C)O[C@@H]3([C@@H]([C@H]([C@@H]([C@H](O3)CO[C@@H]4([C@@H]([C@H]([C@H]([C@H](O4)CO)O)O[C@H]5([C@@H]([C@H]([C@H]([C@H](O5)CO)O)O[C@H]6([C@@H]([C@@H]([C@H]([C@@H](O6)C)O[C@@H]7([C@@H]([C@H]([C@@H]([C@H](O7)CO[C@@H]8([C@@H]([C@H]([C@H]([C@H](O8)CO)O)O[C@H]9([C@@H]([C@H]([C@H]([C@H](O9)CO)O)O[C@H]%10([C@@H]([C@@H]([C@H]([C@@H](O%10)C)O[C@@H]%11([C@@H]([C@H]([C@@H]([C@H](O%11)CO[C@@H]%12([C@@H]([C@H]([C@H]([C@H](O%12)CO)O)O[R])O))O)O)O))O)O))O))O))O)O)O))O)O))O))O))O)O)O))O)O))O))([O-])=O' for input: 'CC(C)=CCCC(\\C)=C/CCC(\\C)=C/CCC(/C)=C/CCC(/C)=C/CCC(/C)=C/CCC(/C)=C/CCC(/C)=C/CCC(/C)=C/CCC(/C)=C/CCC(/C)=C/COP(=O)([O-])OP(O[C@@H]1([C@@H]([C@H]([C@H]([C@H](O1)CO)O)O[C@H]2([C@@H]([C@@H]([C@H]([C@@H](O2)C)O[C@@H]3([C@@H]([C@H]([C@@H]([C@H](O3)CO[C@@H]4([C@@H]([C@H]([C@H]([C@H](O4)CO)O)O[C@H]5([C@@H]([C@H]([C@H]([C@H](O5)CO)O)O[C@H]6([C@@H]([C@@H]([C@H]([C@@H](O6)C)O[C@@H]7([C@@H]([C@H]([C@@H]([C@H](O7)CO[C@@H]8([C@@H]([C@H]([C@H]([C@H](O8)CO)O)O[C@H]9([C@@H]([C@H]([C@H]([C@H](O9)CO)O)O[C@H]%10([C@@H]([C@@H]([C@H]([C@@H](O%10)C)O[C@@H]%11([C@@H]([C@H]([C@@H]([C@H](O%11)CO[C@@H]%12([C@@H]([C@H]([C@H]([C@H](O%12)CO)O)O[R])O))O)O)O))O)O))O))O))O)O)O))O)O))O))O))O)O)O))O)O))O))([O-])=O'\n"
     ]
    },
    {
     "name": "stdout",
     "output_type": "stream",
     "text": [
      "Python argument types in\n",
      "    FingeprintGenerator64.GetFingerprintAsNumPy(FingeprintGenerator64, NoneType)\n",
      "did not match C++ signature:\n",
      "    GetFingerprintAsNumPy(RDKit::FingerprintGenerator<unsigned long> const* self, RDKit::ROMol mol, boost::python::api::object fromAtoms=[], boost::python::api::object ignoreAtoms=[], int confId=-1, boost::python::api::object customAtomInvariants=[], boost::python::api::object customBondInvariants=[], boost::python::api::object additionalOutput=None)\n"
     ]
    },
    {
     "name": "stderr",
     "output_type": "stream",
     "text": [
      "[23:30:22] WARNING: not removing hydrogen atom without neighbors\n",
      "[23:30:22] SMILES Parse Error: syntax error while parsing: CC(C)=CCCC(\\C)=C/CCC(\\C)=C/CCC(/C)=C/CCC(/C)=C/CCC(/C)=C/CCC(/C)=C/CCC(/C)=C/CCC(/C)=C/CCC(/C)=C/CCC(/C)=C/COP(=O)([O-])OP(O[C@@H]1([C@@H]([C@H]([C@H]([C@H](O1)CO)O)O[C@H]2([C@@H]([C@@H]([C@H]([C@@H](O2)C)O[C@@H]3([C@@H]([C@H]([C@@H]([C@H](O3)CO[C@@H]4([C@@H]([C@H]([C@H]([C@H](O4)CO)O)O[C@H]5([C@@H]([C@H]([C@H]([C@H](O5)CO)O)O[C@H]6([C@@H]([C@@H]([C@H]([C@@H](O6)C)O[C@@H]7([C@@H]([C@H]([C@@H]([C@H](O7)CO[C@@H]8([C@@H]([C@H]([C@H]([C@H](O8)CO)O)O[C@H]9([C@@H]([C@H]([C@H]([C@H](O9)CO)O)O[C@H]%10([C@@H]([C@@H]([C@H]([C@@H](O%10)C)O[C@@H]%11([C@@H]([C@H]([C@@H]([C@H](O%11)CO[C@@H]%12([C@@H]([C@H]([C@H]([C@H](O%12)CO)O)O[R])O))O)O)O))O)O))O))O))O)O)O))O)O))O))O))O)O)O))O)O))O))([O-])=O\n",
      "[23:30:22] SMILES Parse Error: Failed parsing SMILES 'CC(C)=CCCC(\\C)=C/CCC(\\C)=C/CCC(/C)=C/CCC(/C)=C/CCC(/C)=C/CCC(/C)=C/CCC(/C)=C/CCC(/C)=C/CCC(/C)=C/CCC(/C)=C/COP(=O)([O-])OP(O[C@@H]1([C@@H]([C@H]([C@H]([C@H](O1)CO)O)O[C@H]2([C@@H]([C@@H]([C@H]([C@@H](O2)C)O[C@@H]3([C@@H]([C@H]([C@@H]([C@H](O3)CO[C@@H]4([C@@H]([C@H]([C@H]([C@H](O4)CO)O)O[C@H]5([C@@H]([C@H]([C@H]([C@H](O5)CO)O)O[C@H]6([C@@H]([C@@H]([C@H]([C@@H](O6)C)O[C@@H]7([C@@H]([C@H]([C@@H]([C@H](O7)CO[C@@H]8([C@@H]([C@H]([C@H]([C@H](O8)CO)O)O[C@H]9([C@@H]([C@H]([C@H]([C@H](O9)CO)O)O[C@H]%10([C@@H]([C@@H]([C@H]([C@@H](O%10)C)O[C@@H]%11([C@@H]([C@H]([C@@H]([C@H](O%11)CO[C@@H]%12([C@@H]([C@H]([C@H]([C@H](O%12)CO)O)O[R])O))O)O)O))O)O))O))O))O)O)O))O)O))O))O))O)O)O))O)O))O))([O-])=O' for input: 'CC(C)=CCCC(\\C)=C/CCC(\\C)=C/CCC(/C)=C/CCC(/C)=C/CCC(/C)=C/CCC(/C)=C/CCC(/C)=C/CCC(/C)=C/CCC(/C)=C/CCC(/C)=C/COP(=O)([O-])OP(O[C@@H]1([C@@H]([C@H]([C@H]([C@H](O1)CO)O)O[C@H]2([C@@H]([C@@H]([C@H]([C@@H](O2)C)O[C@@H]3([C@@H]([C@H]([C@@H]([C@H](O3)CO[C@@H]4([C@@H]([C@H]([C@H]([C@H](O4)CO)O)O[C@H]5([C@@H]([C@H]([C@H]([C@H](O5)CO)O)O[C@H]6([C@@H]([C@@H]([C@H]([C@@H](O6)C)O[C@@H]7([C@@H]([C@H]([C@@H]([C@H](O7)CO[C@@H]8([C@@H]([C@H]([C@H]([C@H](O8)CO)O)O[C@H]9([C@@H]([C@H]([C@H]([C@H](O9)CO)O)O[C@H]%10([C@@H]([C@@H]([C@H]([C@@H](O%10)C)O[C@@H]%11([C@@H]([C@H]([C@@H]([C@H](O%11)CO[C@@H]%12([C@@H]([C@H]([C@H]([C@H](O%12)CO)O)O[R])O))O)O)O))O)O))O))O))O)O)O))O)O))O))O))O)O)O))O)O))O))([O-])=O'\n"
     ]
    },
    {
     "name": "stdout",
     "output_type": "stream",
     "text": [
      "Python argument types in\n",
      "    FingeprintGenerator64.GetFingerprintAsNumPy(FingeprintGenerator64, NoneType)\n",
      "did not match C++ signature:\n",
      "    GetFingerprintAsNumPy(RDKit::FingerprintGenerator<unsigned long> const* self, RDKit::ROMol mol, boost::python::api::object fromAtoms=[], boost::python::api::object ignoreAtoms=[], int confId=-1, boost::python::api::object customAtomInvariants=[], boost::python::api::object customBondInvariants=[], boost::python::api::object additionalOutput=None)\n"
     ]
    },
    {
     "name": "stderr",
     "output_type": "stream",
     "text": [
      "[23:30:26] WARNING: not removing hydrogen atom without neighbors\n",
      " 73%|███████████████████████████████████████████████████████████████████████████████████████▏                                | 2572/3538 [08:45<16:43,  1.04s/it][23:32:00] WARNING: not removing hydrogen atom without neighbors\n",
      " 80%|███████████████████████████████████████████████████████████████████████████████████████████████▊                        | 2825/3538 [10:19<37:35,  3.16s/it][23:32:02] WARNING: not removing hydrogen atom without neighbors\n",
      " 80%|███████████████████████████████████████████████████████████████████████████████████████████████▉                        | 2827/3538 [10:23<29:28,  2.49s/it][23:32:05] WARNING: not removing hydrogen atom without neighbors\n",
      " 80%|███████████████████████████████████████████████████████████████████████████████████████████████▉                        | 2828/3538 [10:24<27:05,  2.29s/it][23:32:06] WARNING: not removing hydrogen atom without neighbors\n",
      "[23:32:06] WARNING: not removing hydrogen atom without neighbors\n",
      "[23:32:06] WARNING: not removing hydrogen atom without neighbors\n",
      " 80%|████████████████████████████████████████████████████████████████████████████████████████████████                        | 2833/3538 [10:24<09:27,  1.24it/s][23:32:06] WARNING: not removing hydrogen atom without neighbors\n",
      "[23:32:06] Conflicting single bond directions around double bond at index 12.\n",
      "[23:32:06]   BondStereo set to STEREONONE and single bond directions set to NONE.[23:32:06] \n",
      "WARNING: not removing hydrogen atom without neighbors\n",
      "[23:32:06] Conflicting single bond directions around double bond at index 17.\n",
      "[23:32:06]   BondStereo set to STEREONONE and single bond directions set to NONE.\n",
      "[23:32:06] Conflicting single bond directions around double bond at index 12.\n",
      "[23:32:06]   BondStereo set to STEREONONE and single bond directions set to NONE.\n",
      "[23:32:06] Conflicting single bond directions around double bond at index 17.\n",
      "[23:32:06]   BondStereo set to STEREONONE and single bond directions set to NONE.\n",
      "[23:32:06] Conflicting single bond directions around double bond at index 18.\n",
      "[23:32:06]   BondStereo set to STEREONONE and single bond directions set to NONE.\n",
      "[23:32:06] Conflicting single bond directions around double bond at index 23.\n",
      "[23:32:06]   BondStereo set to STEREONONE and single bond directions set to NONE.\n",
      "[23:32:06] WARNING: not removing hydrogen atom without neighbors\n",
      "[23:32:06] WARNING: not removing hydrogen atom without neighbors\n",
      " 80%|████████████████████████████████████████████████████████████████████████████████████████████████▏                       | 2837/3538 [10:25<05:32,  2.11it/s][23:32:06] WARNING: not removing hydrogen atom without neighbors\n",
      "[23:32:06] WARNING: not removing hydrogen atom without neighbors\n",
      "[23:32:06] WARNING: not removing hydrogen atom without neighbors\n",
      "[23:32:06] WARNING: not removing hydrogen atom without neighbors\n",
      " 80%|████████████████████████████████████████████████████████████████████████████████████████████████▎                       | 2841/3538 [10:25<03:33,  3.27it/s][23:32:06] WARNING: not removing hydrogen atom without neighbors\n",
      "[23:32:06] WARNING: not removing hydrogen atom without neighbors\n",
      "[23:32:06] WARNING: not removing hydrogen atom without neighbors\n",
      "[23:32:06] WARNING: not removing hydrogen atom without neighbors\n",
      "[23:32:06] WARNING: not removing hydrogen atom without neighbors\n",
      " 80%|████████████████████████████████████████████████████████████████████████████████████████████████▌                       | 2846/3538 [10:25<02:12,  5.23it/s][23:32:06] WARNING: not removing hydrogen atom without neighbors\n",
      "[23:32:06] WARNING: not removing hydrogen atom without neighbors\n",
      "[23:32:06] WARNING: not removing hydrogen atom without neighbors\n",
      " 81%|████████████████████████████████████████████████████████████████████████████████████████████████▋                       | 2852/3538 [10:25<01:22,  8.27it/s][23:32:06] WARNING: not removing hydrogen atom without neighbors\n",
      "[23:32:06] WARNING: not removing hydrogen atom without neighbors\n",
      "[23:32:06] WARNING: not removing hydrogen atom without neighbors\n",
      " 81%|████████████████████████████████████████████████████████████████████████████████████████████████▊                       | 2856/3538 [10:25<01:04, 10.63it/s][23:32:06] SMILES Parse Error: syntax error while parsing: CC(C)=CCCC(\\C)=C/CCC(\\C)=C/CCC(/C)=C/CCC(/C)=C/CCC(/C)=C/CCC(/C)=C/CCC(/C)=C/CCC(/C)=C/CCC(/C)=C/CCC(/C)=C/COP(=O)([O-])OP([O-])(=O)O[C@@H]1([C@@H]([C@H]([C@H]([C@H](O1)CO)O)O[C@H]%15(O[C@H](CO)[C@@H](O)[C@H](O)[C@H](O[C@H]%14(O[C@H](CO[C@@H]2([C@@H]([C@H]([C@H]([C@H](O2)CO)O[C@@H]3(O[C@H](C([O-])=O)[C@@H](O)[C@H](O)[C@@H](O)3))O[C@H]4([C@@H]([C@H]([C@H]([C@H](O4)CO)O)O[C@H]%13(O[C@H](CO)[C@@H](O)[C@H](O)[C@H](O[C@H]%12(O[C@H](CO[C@@H]5([C@@H]([C@H]([C@H]([C@H](O5)CO)O[C@@H]6(O[C@H](C([O-])=O)[C@@H](O)[C@H](O)[C@@H](O)6))O[C@@H]7([C@@H]([C@H]([C@H]([C@H](O7)CO)O)O[C@@H]%11(O[C@H](CO)[C@@H](O)[C@H](O)[C@H](O[C@H]%10(O[C@H](CO[C@@H]8([C@@H]([C@H]([C@H]([C@H](O8)CO)O[C@@H]9(O[C@H](C([O-])=O)[C@@H](O)[C@H](O)[C@@H](O)9))O[R])O))[C@@H](O)[C@H](O)[C@H](O)%10))%11))NC(C)=O))O))[C@@H](O)[C@H](O)[C@H](O)%12))%13))NC(C)=O))O))[C@@H](O)[C@H](O)[C@H](O)%14))%15))NC(C)=O)\n",
      "[23:32:06] WARNING: not removing hydrogen atom without neighbors\n",
      "[23:32:06] SMILES Parse Error: Failed parsing SMILES 'CC(C)=CCCC(\\C)=C/CCC(\\C)=C/CCC(/C)=C/CCC(/C)=C/CCC(/C)=C/CCC(/C)=C/CCC(/C)=C/CCC(/C)=C/CCC(/C)=C/CCC(/C)=C/COP(=O)([O-])OP([O-])(=O)O[C@@H]1([C@@H]([C@H]([C@H]([C@H](O1)CO)O)O[C@H]%15(O[C@H](CO)[C@@H](O)[C@H](O)[C@H](O[C@H]%14(O[C@H](CO[C@@H]2([C@@H]([C@H]([C@H]([C@H](O2)CO)O[C@@H]3(O[C@H](C([O-])=O)[C@@H](O)[C@H](O)[C@@H](O)3))O[C@H]4([C@@H]([C@H]([C@H]([C@H](O4)CO)O)O[C@H]%13(O[C@H](CO)[C@@H](O)[C@H](O)[C@H](O[C@H]%12(O[C@H](CO[C@@H]5([C@@H]([C@H]([C@H]([C@H](O5)CO)O[C@@H]6(O[C@H](C([O-])=O)[C@@H](O)[C@H](O)[C@@H](O)6))O[C@@H]7([C@@H]([C@H]([C@H]([C@H](O7)CO)O)O[C@@H]%11(O[C@H](CO)[C@@H](O)[C@H](O)[C@H](O[C@H]%10(O[C@H](CO[C@@H]8([C@@H]([C@H]([C@H]([C@H](O8)CO)O[C@@H]9(O[C@H](C([O-])=O)[C@@H](O)[C@H](O)[C@@H](O)9))O[R])O))[C@@H](O)[C@H](O)[C@H](O)%10))%11))NC(C)=O))O))[C@@H](O)[C@H](O)[C@H](O)%12))%13))NC(C)=O))O))[C@@H](O)[C@H](O)[C@H](O)%14))%15))NC(C)=O)' for input: 'CC(C)=CCCC(\\C)=C/CCC(\\C)=C/CCC(/C)=C/CCC(/C)=C/CCC(/C)=C/CCC(/C)=C/CCC(/C)=C/CCC(/C)=C/CCC(/C)=C/CCC(/C)=C/COP(=O)([O-])OP([O-])(=O)O[C@@H]1([C@@H]([C@H]([C@H]([C@H](O1)CO)O)O[C@H]%15(O[C@H](CO)[C@@H](O)[C@H](O)[C@H](O[C@H]%14(O[C@H](CO[C@@H]2([C@@H]([C@H]([C@H]([C@H](O2)CO)O[C@@H]3(O[C@H](C([O-])=O)[C@@H](O)[C@H](O)[C@@H](O)3))O[C@H]4([C@@H]([C@H]([C@H]([C@H](O4)CO)O)O[C@H]%13(O[C@H](CO)[C@@H](O)[C@H](O)[C@H](O[C@H]%12(O[C@H](CO[C@@H]5([C@@H]([C@H]([C@H]([C@H](O5)CO)O[C@@H]6(O[C@H](C([O-])=O)[C@@H](O)[C@H](O)[C@@H](O)6))O[C@@H]7([C@@H]([C@H]([C@H]([C@H](O7)CO)O)O[C@@H]%11(O[C@H](CO)[C@@H](O)[C@H](O)[C@H](O[C@H]%10(O[C@H](CO[C@@H]8([C@@H]([C@H]([C@H]([C@H](O8)CO)O[C@@H]9(O[C@H](C([O-])=O)[C@@H](O)[C@H](O)[C@@H](O)9))O[R])O))[C@@H](O)[C@H](O)[C@H](O)%10))%11))NC(C)=O))O))[C@@H](O)[C@H](O)[C@H](O)%12))%13))NC(C)=O))O))[C@@H](O)[C@H](O)[C@H](O)%14))%15))NC(C)=O)'\n"
     ]
    },
    {
     "name": "stdout",
     "output_type": "stream",
     "text": [
      "Python argument types in\n",
      "    FingeprintGenerator64.GetFingerprintAsNumPy(FingeprintGenerator64, NoneType)\n",
      "did not match C++ signature:\n",
      "    GetFingerprintAsNumPy(RDKit::FingerprintGenerator<unsigned long> const* self, RDKit::ROMol mol, boost::python::api::object fromAtoms=[], boost::python::api::object ignoreAtoms=[], int confId=-1, boost::python::api::object customAtomInvariants=[], boost::python::api::object customBondInvariants=[], boost::python::api::object additionalOutput=None)\n"
     ]
    },
    {
     "name": "stderr",
     "output_type": "stream",
     "text": [
      "[23:32:12] WARNING: not removing hydrogen atom without neighbors\n",
      " 81%|█████████████████████████████████████████████████████████████████████████████████████████████████                       | 2860/3538 [10:31<05:40,  1.99it/s][23:32:14] Conflicting single bond directions around double bond at index 15.\n",
      "[23:32:14]   BondStereo set to STEREONONE and single bond directions set to NONE.\n",
      "[23:32:16] WARNING: not removing hydrogen atom without neighbors\n",
      " 81%|█████████████████████████████████████████████████████████████████████████████████████████████████                       | 2863/3538 [10:35<07:23,  1.52it/s][23:32:16] WARNING: not removing hydrogen atom without neighbors\n",
      "[23:32:16] WARNING: not removing hydrogen atom without neighbors\n",
      "[23:32:16] WARNING: not removing hydrogen atom without neighbors\n",
      "[23:32:16] WARNING: not removing hydrogen atom without neighbors\n",
      "[23:32:16] WARNING: not removing hydrogen atom without neighbors\n",
      " 81%|█████████████████████████████████████████████████████████████████████████████████████████████████▎                      | 2868/3538 [10:35<04:48,  2.32it/s][23:32:16] WARNING: not removing hydrogen atom without neighbors\n",
      "[23:32:16] WARNING: not removing hydrogen atom without neighbors\n",
      "[23:32:16] WARNING: not removing hydrogen atom without neighbors\n",
      "[23:32:16] WARNING: not removing hydrogen atom without neighbors\n",
      "[23:32:16] WARNING: not removing hydrogen atom without neighbors\n",
      "[23:32:16] WARNING: not removing hydrogen atom without neighbors\n",
      " 81%|█████████████████████████████████████████████████████████████████████████████████████████████████▍                      | 2874/3538 [10:35<03:01,  3.65it/s][23:32:16] WARNING: not removing hydrogen atom without neighbors\n",
      "[23:32:16] WARNING: not removing hydrogen atom without neighbors\n",
      "[23:32:16] WARNING: not removing hydrogen atom without neighbors\n",
      "[23:32:16] WARNING: not removing hydrogen atom without neighbors\n",
      "[23:32:16] Conflicting single bond directions around double bond at index 24.\n",
      "[23:32:16]   BondStereo set to STEREONONE and single bond directions set to NONE.\n",
      "[23:32:16] WARNING: not removing hydrogen atom without neighbors\n",
      "[23:32:16] Conflicting single bond directions around double bond at index 16.\n",
      "[23:32:16]   BondStereo set to STEREONONE and single bond directions set to NONE.\n",
      "[23:32:16] Conflicting single bond directions around double bond at index 19.\n",
      "[23:32:16]   BondStereo set to STEREONONE and single bond directions set to NONE.\n",
      "[23:32:16] Conflicting single bond directions around double bond at index 22.\n",
      "[23:32:16]   BondStereo set to STEREONONE and single bond directions set to NONE.\n",
      "[23:32:16] Conflicting single bond directions around double bond at index 17.\n",
      "[23:32:16]   BondStereo set to STEREONONE and single bond directions set to NONE.\n",
      "[23:32:16] Conflicting single bond directions around double bond at index 20.\n",
      "[23:32:16]   BondStereo set to STEREONONE and single bond directions set to NONE.\n",
      "[23:32:16] Conflicting single bond directions around double bond at index 23.\n",
      "[23:32:16]   BondStereo set to STEREONONE and single bond directions set to NONE.\n",
      " 81%|█████████████████████████████████████████████████████████████████████████████████████████████████▋                      | 2879/3538 [10:35<02:09,  5.10it/s][23:32:16] WARNING: not removing hydrogen atom without neighbors\n",
      "[23:32:16] WARNING: not removing hydrogen atom without neighbors\n",
      "[23:32:16] WARNING: not removing hydrogen atom without neighbors\n",
      "[23:32:16] WARNING: not removing hydrogen atom without neighbors\n",
      "[23:32:16] WARNING: not removing hydrogen atom without neighbors\n",
      " 82%|█████████████████████████████████████████████████████████████████████████████████████████████████▊                      | 2884/3538 [10:35<01:32,  7.03it/s][23:32:16] WARNING: not removing hydrogen atom without neighbors\n",
      "[23:32:16] WARNING: not removing hydrogen atom without neighbors\n",
      "[23:32:16] WARNING: not removing hydrogen atom without neighbors\n",
      "[23:32:16] Conflicting single bond directions around double bond at index 12.\n",
      "[23:32:16]   BondStereo set to STEREONONE and single bond directions set to NONE.\n",
      "[23:32:16] Conflicting single bond directions around double bond at index 17.\n",
      "[23:32:16]   BondStereo set to STEREONONE and single bond directions set to NONE.\n",
      "[23:32:16] Conflicting single bond directions around double bond at index 12.\n",
      "[23:32:16]   BondStereo set to STEREONONE and single bond directions set to NONE.\n",
      "[23:32:16] Conflicting single bond directions around double bond at index 17.\n",
      "[23:32:16]   BondStereo set to STEREONONE and single bond directions set to NONE.\n",
      "[23:32:16] WARNING: not removing hydrogen atom without neighbors\n",
      "[23:32:16] Conflicting single bond directions around double bond at index 12.\n",
      "[23:32:16]   BondStereo set to STEREONONE and single bond directions set to NONE.\n",
      "[23:32:16] Conflicting single bond directions around double bond at index 17.\n",
      "[23:32:16]   BondStereo set to STEREONONE and single bond directions set to NONE.\n",
      "[23:32:16] Conflicting single bond directions around double bond at index 17.\n",
      "[23:32:16]   BondStereo set to STEREONONE and single bond directions set to NONE.\n",
      "[23:32:16] Conflicting single bond directions around double bond at index 12.\n",
      "[23:32:16]   BondStereo set to STEREONONE and single bond directions set to NONE.\n",
      "[23:32:16] Conflicting single bond directions around double bond at index 17.\n",
      "[23:32:16]   BondStereo set to STEREONONE and single bond directions set to NONE.\n",
      "[23:32:16] Conflicting single bond directions around double bond at index 17.\n",
      "[23:32:16]   BondStereo set to STEREONONE and single bond directions set to NONE.\n",
      " 82%|█████████████████████████████████████████████████████████████████████████████████████████████████▉                      | 2889/3538 [10:35<01:08,  9.47it/s][23:32:16] WARNING: not removing hydrogen atom without neighbors\n",
      "[23:32:16] WARNING: not removing hydrogen atom without neighbors\n",
      "[23:32:16] WARNING: not removing hydrogen atom without neighbors\n",
      "[23:32:16] WARNING: not removing hydrogen atom without neighbors\n",
      " 82%|██████████████████████████████████████████████████████████████████████████████████████████████████▏                     | 2894/3538 [10:35<00:51, 12.49it/s][23:32:17] WARNING: not removing hydrogen atom without neighbors\n",
      "[23:32:17] WARNING: not removing hydrogen atom without neighbors\n",
      "[23:32:17] Conflicting single bond directions around double bond at index 12.\n",
      "[23:32:17]   BondStereo set to STEREONONE and single bond directions set to NONE.\n",
      "[23:32:17] Conflicting single bond directions around double bond at index 17.\n",
      "[23:32:17]   BondStereo set to STEREONONE and single bond directions set to NONE.\n",
      "[23:32:17] Conflicting single bond directions around double bond at index 12.\n",
      "[23:32:17]   BondStereo set to STEREONONE and single bond directions set to NONE.\n",
      "[23:32:17] Conflicting single bond directions around double bond at index 17.\n",
      "[23:32:17]   BondStereo set to STEREONONE and single bond directions set to NONE.\n",
      "[23:32:17] WARNING: not removing hydrogen atom without neighbors\n",
      "[23:32:17] Conflicting single bond directions around double bond at index 12.\n",
      "[23:32:17]   BondStereo set to STEREONONE and single bond directions set to NONE.\n",
      "[23:32:17] Conflicting single bond directions around double bond at index 17.\n",
      "[23:32:17]   BondStereo set to STEREONONE and single bond directions set to NONE.\n",
      "[23:32:17] Conflicting single bond directions around double bond at index 12.\n",
      "[23:32:17]   BondStereo set to STEREONONE and single bond directions set to NONE.\n",
      "[23:32:17] Conflicting single bond directions around double bond at index 17.\n",
      "[23:32:17]   BondStereo set to STEREONONE and single bond directions set to NONE.\n",
      "[23:32:17] Conflicting single bond directions around double bond at index 12.\n",
      "[23:32:17]   BondStereo set to STEREONONE and single bond directions set to NONE.\n",
      "[23:32:17] Conflicting single bond directions around double bond at index 17.\n",
      "[23:32:17]   BondStereo set to STEREONONE and single bond directions set to NONE.\n",
      "[23:32:17] WARNING: not removing hydrogen atom without neighbors\n"
     ]
    },
    {
     "name": "stdout",
     "output_type": "stream",
     "text": [
      "need at least one array to concatenate\n"
     ]
    },
    {
     "name": "stderr",
     "output_type": "stream",
     "text": [
      "[23:32:17] WARNING: not removing hydrogen atom without neighbors\n",
      " 82%|██████████████████████████████████████████████████████████████████████████████████████████████████▎                     | 2899/3538 [10:35<00:42, 15.08it/s][23:32:17] WARNING: not removing hydrogen atom without neighbors\n",
      "[23:32:17] WARNING: not removing hydrogen atom without neighbors\n",
      "[23:32:17] WARNING: not removing hydrogen atom without neighbors\n",
      "[23:32:17] WARNING: not removing hydrogen atom without neighbors\n",
      " 82%|██████████████████████████████████████████████████████████████████████████████████████████████████▍                     | 2903/3538 [10:36<00:36, 17.51it/s][23:32:17] WARNING: not removing hydrogen atom without neighbors\n",
      "[23:32:17] WARNING: not removing hydrogen atom without neighbors\n",
      "[23:32:17] WARNING: not removing hydrogen atom without neighbors\n",
      "[23:32:17] Conflicting single bond directions around double bond at index 7.\n",
      "[23:32:17]   BondStereo set to STEREONONE and single bond directions set to NONE.\n",
      "[23:32:17] Conflicting single bond directions around double bond at index 12.\n",
      "[23:32:17]   BondStereo set to STEREONONE and single bond directions set to NONE.\n",
      "[23:32:17] WARNING: not removing hydrogen atom without neighbors\n",
      "[23:32:17] Conflicting single bond directions around double bond at index 36.\n",
      "[23:32:17]   BondStereo set to STEREONONE and single bond directions set to NONE.\n",
      "[23:32:17] Conflicting single bond directions around double bond at index 41.\n",
      "[23:32:17]   BondStereo set to STEREONONE and single bond directions set to NONE.\n",
      "[23:32:17] Conflicting single bond directions around double bond at index 12.\n",
      "[23:32:17]   BondStereo set to STEREONONE and single bond directions set to NONE.\n",
      "[23:32:17] Conflicting single bond directions around double bond at index 12.\n",
      "[23:32:17]   BondStereo set to STEREONONE and single bond directions set to NONE.\n",
      "[23:32:17] Conflicting single bond directions around double bond at index 12.\n",
      "[23:32:17]   BondStereo set to STEREONONE and single bond directions set to NONE.\n",
      "[23:32:17] Conflicting single bond directions around double bond at index 12.\n",
      "[23:32:17]   BondStereo set to STEREONONE and single bond directions set to NONE.\n",
      "[23:32:17] Conflicting single bond directions around double bond at index 12.\n",
      "[23:32:17]   BondStereo set to STEREONONE and single bond directions set to NONE.\n",
      "[23:32:17] WARNING: not removing hydrogen atom without neighbors\n",
      " 82%|██████████████████████████████████████████████████████████████████████████████████████████████████▋                     | 2908/3538 [10:36<00:29, 21.33it/s][23:32:17] WARNING: not removing hydrogen atom without neighbors\n",
      " 82%|██████████████████████████████████████████████████████████████████████████████████████████████████▊                     | 2914/3538 [10:36<00:23, 27.10it/s][23:32:17] WARNING: not removing hydrogen atom without neighbors\n",
      "[23:32:17] WARNING: not removing hydrogen atom without neighbors\n",
      "[23:32:17] WARNING: not removing hydrogen atom without neighbors\n",
      "[23:32:17] WARNING: not removing hydrogen atom without neighbors\n",
      "[23:32:17] WARNING: not removing hydrogen atom without neighbors\n",
      " 83%|███████████████████████████████████████████████████████████████████████████████████████████████████                     | 2919/3538 [10:36<00:20, 30.34it/s][23:32:17] WARNING: not removing hydrogen atom without neighbors\n",
      "[23:32:17] WARNING: not removing hydrogen atom without neighbors\n",
      "[23:32:17] WARNING: not removing hydrogen atom without neighbors\n",
      "[23:32:17] WARNING: not removing hydrogen atom without neighbors\n",
      "[23:32:17] WARNING: not removing hydrogen atom without neighbors\n",
      " 83%|███████████████████████████████████████████████████████████████████████████████████████████████████▏                    | 2924/3538 [10:36<00:18, 33.88it/s][23:32:17] WARNING: not removing hydrogen atom without neighbors\n",
      "[23:32:17] WARNING: not removing hydrogen atom without neighbors\n",
      "[23:32:17] WARNING: not removing hydrogen atom without neighbors\n",
      "[23:32:17] WARNING: not removing hydrogen atom without neighbors\n",
      " 83%|███████████████████████████████████████████████████████████████████████████████████████████████████▎                    | 2929/3538 [10:36<00:17, 34.83it/s][23:32:17] WARNING: not removing hydrogen atom without neighbors\n",
      "[23:32:17] WARNING: not removing hydrogen atom without neighbors\n",
      "[23:32:17] SMILES Parse Error: syntax error while parsing: C\\C=C(C)/CC\\C=C(C)/CC\\C=C(C)/CC\\C=C(C)/CC\\C=C(C)/CC\\C=C(C)/CC\\C=C(C)/CC\\C=C(C)/CC/C=C(C)/CC/C=C(C)/CC/C=C(C)/COP(=O)([O-])OP(=O)([O-])O[C@H]%18(O[C@H](CO)[C@@H](O[C@H]%17(O[C@@H](C)[C@H](O)[C@@H](O[C@@H]%16(O[C@@H](C)[C@H](O)[C@@H](O[C@@H]%15(O[C@@H](C)[C@H](O)[C@@H](O[C@@H]%12(O[C@H](CO)[C@@H](O[C@H]%11(O[C@@H](C)[C@H](O)[C@@H](O[C@@H]%10(O[C@@H](C)[C@H](O)[C@@H](O[C@@H]9(O[C@@H](C)[C@H](O)[C@@H](O[C@@H]6(O[C@H](CO)[C@@H](O[C@H]5(O[C@@H](C)[C@H](O)[C@@H](O[C@@H]4(O[C@@H](C)[C@H](O)[C@@H](O[C@@H]3(O[C@@H](C)[C@H](O)[C@@H](O[R])[C@@H](O[C@H]2(O[C@H](CO[C@H]1(O[C@H](C([O-])=O)[C@@H](O)[C@H](O)[C@@H](O)1))[C@@H](O)[C@H](O)[C@@H](O)2))3))[C@@H](O)4))[C@@H](O)5))[C@H](O)[C@@H](O)6))[C@@H](O[C@H]8(O[C@H](CO[C@H]7(O[C@H](C([O-])=O)[C@@H](O)[C@H](O)[C@@H](O)7))[C@@H](O)[C@H](O)[C@@H](O)8))9))[C@@H](O)%10))[C@@H](O)%11))[C@H](O)[C@@H](O)%12))[C@@H](O[C@H]%14(O[C@H](CO[C@H]%13(O[C@H](C([O-])=O)[C@@H](O)[C@H](O)[C@@H](O)%13))[C@@H](O)[C@H](O)[C@@H](O)%14))%15))[C@@H](O)%16))[C@@H](O)%17))[C@H](O)[C@@H](O)%18)\n",
      "[23:32:17] SMILES Parse Error: Failed parsing SMILES 'C\\C=C(C)/CC\\C=C(C)/CC\\C=C(C)/CC\\C=C(C)/CC\\C=C(C)/CC\\C=C(C)/CC\\C=C(C)/CC\\C=C(C)/CC/C=C(C)/CC/C=C(C)/CC/C=C(C)/COP(=O)([O-])OP(=O)([O-])O[C@H]%18(O[C@H](CO)[C@@H](O[C@H]%17(O[C@@H](C)[C@H](O)[C@@H](O[C@@H]%16(O[C@@H](C)[C@H](O)[C@@H](O[C@@H]%15(O[C@@H](C)[C@H](O)[C@@H](O[C@@H]%12(O[C@H](CO)[C@@H](O[C@H]%11(O[C@@H](C)[C@H](O)[C@@H](O[C@@H]%10(O[C@@H](C)[C@H](O)[C@@H](O[C@@H]9(O[C@@H](C)[C@H](O)[C@@H](O[C@@H]6(O[C@H](CO)[C@@H](O[C@H]5(O[C@@H](C)[C@H](O)[C@@H](O[C@@H]4(O[C@@H](C)[C@H](O)[C@@H](O[C@@H]3(O[C@@H](C)[C@H](O)[C@@H](O[R])[C@@H](O[C@H]2(O[C@H](CO[C@H]1(O[C@H](C([O-])=O)[C@@H](O)[C@H](O)[C@@H](O)1))[C@@H](O)[C@H](O)[C@@H](O)2))3))[C@@H](O)4))[C@@H](O)5))[C@H](O)[C@@H](O)6))[C@@H](O[C@H]8(O[C@H](CO[C@H]7(O[C@H](C([O-])=O)[C@@H](O)[C@H](O)[C@@H](O)7))[C@@H](O)[C@H](O)[C@@H](O)8))9))[C@@H](O)%10))[C@@H](O)%11))[C@H](O)[C@@H](O)%12))[C@@H](O[C@H]%14(O[C@H](CO[C@H]%13(O[C@H](C([O-])=O)[C@@H](O)[C@H](O)[C@@H](O)%13))[C@@H](O)[C@H](O)[C@@H](O)%14))%15))[C@@H](O)%16))[C@@H](O)%17))[C@H](O)[C@@H](O)%18)' for input: 'C\\C=C(C)/CC\\C=C(C)/CC\\C=C(C)/CC\\C=C(C)/CC\\C=C(C)/CC\\C=C(C)/CC\\C=C(C)/CC\\C=C(C)/CC/C=C(C)/CC/C=C(C)/CC/C=C(C)/COP(=O)([O-])OP(=O)([O-])O[C@H]%18(O[C@H](CO)[C@@H](O[C@H]%17(O[C@@H](C)[C@H](O)[C@@H](O[C@@H]%16(O[C@@H](C)[C@H](O)[C@@H](O[C@@H]%15(O[C@@H](C)[C@H](O)[C@@H](O[C@@H]%12(O[C@H](CO)[C@@H](O[C@H]%11(O[C@@H](C)[C@H](O)[C@@H](O[C@@H]%10(O[C@@H](C)[C@H](O)[C@@H](O[C@@H]9(O[C@@H](C)[C@H](O)[C@@H](O[C@@H]6(O[C@H](CO)[C@@H](O[C@H]5(O[C@@H](C)[C@H](O)[C@@H](O[C@@H]4(O[C@@H](C)[C@H](O)[C@@H](O[C@@H]3(O[C@@H](C)[C@H](O)[C@@H](O[R])[C@@H](O[C@H]2(O[C@H](CO[C@H]1(O[C@H](C([O-])=O)[C@@H](O)[C@H](O)[C@@H](O)1))[C@@H](O)[C@H](O)[C@@H](O)2))3))[C@@H](O)4))[C@@H](O)5))[C@H](O)[C@@H](O)6))[C@@H](O[C@H]8(O[C@H](CO[C@H]7(O[C@H](C([O-])=O)[C@@H](O)[C@H](O)[C@@H](O)7))[C@@H](O)[C@H](O)[C@@H](O)8))9))[C@@H](O)%10))[C@@H](O)%11))[C@H](O)[C@@H](O)%12))[C@@H](O[C@H]%14(O[C@H](CO[C@H]%13(O[C@H](C([O-])=O)[C@@H](O)[C@H](O)[C@@H](O)%13))[C@@H](O)[C@H](O)[C@@H](O)%14))%15))[C@@H](O)%16))[C@@H](O)%17))[C@H](O)[C@@H](O)%18)'\n"
     ]
    },
    {
     "name": "stdout",
     "output_type": "stream",
     "text": [
      "Python argument types in\n",
      "    FingeprintGenerator64.GetFingerprintAsNumPy(FingeprintGenerator64, NoneType)\n",
      "did not match C++ signature:\n",
      "    GetFingerprintAsNumPy(RDKit::FingerprintGenerator<unsigned long> const* self, RDKit::ROMol mol, boost::python::api::object fromAtoms=[], boost::python::api::object ignoreAtoms=[], int confId=-1, boost::python::api::object customAtomInvariants=[], boost::python::api::object customBondInvariants=[], boost::python::api::object additionalOutput=None)\n"
     ]
    },
    {
     "name": "stderr",
     "output_type": "stream",
     "text": [
      "[23:32:22] SMILES Parse Error: syntax error while parsing: CC(C)=CCCC(\\C)=C/CCC(\\C)=C/CCC(/C)=C/CCC(/C)=C/CCC(/C)=C/CCC(/C)=C/CCC(/C)=C/CCC(/C)=C/CCC(/C)=C/CCC(/C)=C/COP(=O)([O-])OP([O-])(=O)O[C@@H]1([C@@H]([C@H]([C@H]([C@H](O1)CO)O)O[C@@H]2([C@H]([C@@H]([C@H](O)[C@@H](O2)C)O[C@@H]%15(O[C@H](CO)[C@@H](O)[C@H](O[C@H]%14(O[C@H](CO)[C@H](O[C@@H]3([C@@H]([C@H]([C@H]([C@H](O3)CO)O)O[C@@H]4([C@H]([C@@H]([C@H](O)[C@@H](O4)C)O[C@@H]%12(O[C@H](CO)[C@@H](O)[C@H](O[C@H]%11(O[C@H](CO)[C@H](O[C@@H]5([C@@H]([C@H]([C@H]([C@H](O5)CO)O)O[C@@H]6([C@H]([C@@H]([C@H](O)[C@@H](O6)C)O[C@@H]9(O[C@H](CO)[C@@H](O)[C@H](O[C@H]8(O[C@H](CO)[C@H](O[R])[C@@H]7(O[C@@](O[C@H]78)(C([O-])=O)C)))[C@H](NC(C)=O)9))NC(C)=O))NC(C)=O))[C@@H]%10(O[C@@](O[C@H]%10%11)(C([O-])=O)C)))[C@H](NC(C)=O)%12))NC(C)=O))NC(C)=O))[C@@H]%13(O[C@@](O[C@H]%13%14)(C([O-])=O)C)))[C@H](NC(C)=O)%15))NC(C)=O))NC(C)=O)\n",
      "[23:32:22] SMILES Parse Error: Failed parsing SMILES 'CC(C)=CCCC(\\C)=C/CCC(\\C)=C/CCC(/C)=C/CCC(/C)=C/CCC(/C)=C/CCC(/C)=C/CCC(/C)=C/CCC(/C)=C/CCC(/C)=C/CCC(/C)=C/COP(=O)([O-])OP([O-])(=O)O[C@@H]1([C@@H]([C@H]([C@H]([C@H](O1)CO)O)O[C@@H]2([C@H]([C@@H]([C@H](O)[C@@H](O2)C)O[C@@H]%15(O[C@H](CO)[C@@H](O)[C@H](O[C@H]%14(O[C@H](CO)[C@H](O[C@@H]3([C@@H]([C@H]([C@H]([C@H](O3)CO)O)O[C@@H]4([C@H]([C@@H]([C@H](O)[C@@H](O4)C)O[C@@H]%12(O[C@H](CO)[C@@H](O)[C@H](O[C@H]%11(O[C@H](CO)[C@H](O[C@@H]5([C@@H]([C@H]([C@H]([C@H](O5)CO)O)O[C@@H]6([C@H]([C@@H]([C@H](O)[C@@H](O6)C)O[C@@H]9(O[C@H](CO)[C@@H](O)[C@H](O[C@H]8(O[C@H](CO)[C@H](O[R])[C@@H]7(O[C@@](O[C@H]78)(C([O-])=O)C)))[C@H](NC(C)=O)9))NC(C)=O))NC(C)=O))[C@@H]%10(O[C@@](O[C@H]%10%11)(C([O-])=O)C)))[C@H](NC(C)=O)%12))NC(C)=O))NC(C)=O))[C@@H]%13(O[C@@](O[C@H]%13%14)(C([O-])=O)C)))[C@H](NC(C)=O)%15))NC(C)=O))NC(C)=O)' for input: 'CC(C)=CCCC(\\C)=C/CCC(\\C)=C/CCC(/C)=C/CCC(/C)=C/CCC(/C)=C/CCC(/C)=C/CCC(/C)=C/CCC(/C)=C/CCC(/C)=C/CCC(/C)=C/COP(=O)([O-])OP([O-])(=O)O[C@@H]1([C@@H]([C@H]([C@H]([C@H](O1)CO)O)O[C@@H]2([C@H]([C@@H]([C@H](O)[C@@H](O2)C)O[C@@H]%15(O[C@H](CO)[C@@H](O)[C@H](O[C@H]%14(O[C@H](CO)[C@H](O[C@@H]3([C@@H]([C@H]([C@H]([C@H](O3)CO)O)O[C@@H]4([C@H]([C@@H]([C@H](O)[C@@H](O4)C)O[C@@H]%12(O[C@H](CO)[C@@H](O)[C@H](O[C@H]%11(O[C@H](CO)[C@H](O[C@@H]5([C@@H]([C@H]([C@H]([C@H](O5)CO)O)O[C@@H]6([C@H]([C@@H]([C@H](O)[C@@H](O6)C)O[C@@H]9(O[C@H](CO)[C@@H](O)[C@H](O[C@H]8(O[C@H](CO)[C@H](O[R])[C@@H]7(O[C@@](O[C@H]78)(C([O-])=O)C)))[C@H](NC(C)=O)9))NC(C)=O))NC(C)=O))[C@@H]%10(O[C@@](O[C@H]%10%11)(C([O-])=O)C)))[C@H](NC(C)=O)%12))NC(C)=O))NC(C)=O))[C@@H]%13(O[C@@](O[C@H]%13%14)(C([O-])=O)C)))[C@H](NC(C)=O)%15))NC(C)=O))NC(C)=O)'\n",
      "[23:32:22] WARNING: not removing hydrogen atom without neighbors\n"
     ]
    },
    {
     "name": "stdout",
     "output_type": "stream",
     "text": [
      "Python argument types in\n",
      "    FingeprintGenerator64.GetFingerprintAsNumPy(FingeprintGenerator64, NoneType)\n",
      "did not match C++ signature:\n",
      "    GetFingerprintAsNumPy(RDKit::FingerprintGenerator<unsigned long> const* self, RDKit::ROMol mol, boost::python::api::object fromAtoms=[], boost::python::api::object ignoreAtoms=[], int confId=-1, boost::python::api::object customAtomInvariants=[], boost::python::api::object customBondInvariants=[], boost::python::api::object additionalOutput=None)\n"
     ]
    },
    {
     "name": "stderr",
     "output_type": "stream",
     "text": [
      "[23:32:27] WARNING: not removing hydrogen atom without neighbors\n",
      "[23:32:27] WARNING: not removing hydrogen atom without neighbors\n",
      " 83%|███████████████████████████████████████████████████████████████████████████████████████████████████▌                    | 2934/3538 [10:46<06:04,  1.66it/s][23:32:27] WARNING: not removing hydrogen atom without neighbors\n",
      "[23:32:27] Conflicting single bond directions around double bond at index 17.\n",
      "[23:32:27]   BondStereo set to STEREONONE and single bond directions set to NONE.\n",
      "[23:32:27] WARNING: not removing hydrogen atom without neighbors\n",
      "[23:32:27] WARNING: not removing hydrogen atom without neighbors\n",
      "[23:32:27] WARNING: not removing hydrogen atom without neighbors\n",
      "[23:32:27] WARNING: not removing hydrogen atom without neighbors\n",
      "[23:32:27] WARNING: not removing hydrogen atom without neighbors\n",
      " 83%|███████████████████████████████████████████████████████████████████████████████████████████████████▋                    | 2940/3538 [10:46<04:02,  2.46it/s][23:32:27] WARNING: not removing hydrogen atom without neighbors\n",
      "[23:32:27] WARNING: not removing hydrogen atom without neighbors\n",
      "[23:32:27] WARNING: not removing hydrogen atom without neighbors\n",
      "[23:32:27] WARNING: not removing hydrogen atom without neighbors\n",
      "[23:32:27] WARNING: not removing hydrogen atom without neighbors\n",
      "[23:32:27] WARNING: not removing hydrogen atom without neighbors\n",
      "[23:32:27] WARNING: not removing hydrogen atom without neighbors\n",
      "[23:32:27] SMILES Parse Error: syntax error while parsing: C\\C=C(C)/CC\\C=C(C)/CC\\C=C(C)/CC\\C=C(C)/CC\\C=C(C)/CC\\C=C(C)/CC\\C=C(C)/CC\\C=C(C)/CC/C=C(C)/CC/C=C(C)/CC/C=C(C)/COP(=O)([O-])OP(=O)([O-])O[C@H]%27(O[C@H](CO)[C@H](O)[C@H](O[C@@H]%26(O[C@H](CO)[C@@H](O[C@@H]%25(O[C@H](COC(=O)C)[C@@H](O[C@@H]%24(O[C@H](CO[C@@H]5(O[C@H](CO[C@@H]4(O[C@H](CO)[C@@H](O)[C@H](O[C@@H]3(O[C@H](COC(=O)CCC(=O)[O-])[C@@H](O)[C@H](O[C@@H]2(O[C@@H]1(CO[C@](O[C@H]1[C@H](O)[C@@H](O)2)(C([O-])=O)C)))[C@@H](O)3))[C@@H](O)4))[C@@H](O)[C@H](O)[C@@H](O)5))[C@@H](O[C@@H]%23(O[C@H](CO)[C@H](O)[C@H](O[C@@H]%22(O[C@H](CO)[C@@H](O[C@@H]%21(O[C@H](COC(=O)C)[C@@H](O[C@@H]%20(O[C@H](CO[C@@H]%10(O[C@H](CO[C@@H]9(O[C@H](CO)[C@@H](O)[C@H](O[C@@H]8(O[C@H](COC(=O)CCC(=O)[O-])[C@@H](O)[C@H](O[C@@H]7(O[C@@H]6(CO[C@](O[C@H]6[C@H](O)[C@@H](O)7)(C([O-])=O)C)))[C@@H](O)8))[C@@H](O)9))[C@@H](O)[C@H](O)[C@@H](O)%10))[C@@H](O[C@@H]%19(O[C@H](CO)[C@H](O)[C@H](O[C@@H]%18(O[C@H](CO)[C@@H](O[C@@H]%17(O[C@H](COC(=O)C)[C@@H](O[C@@H]%16(O[C@H](CO[C@@H]%15(O[C@H](CO[C@@H]%14(O[C@H](CO)[C@@H](O)[C@H](O[C@@H]%13(O[C@H](COC(=O)CCC(=O)[O-])[C@@H](O)[C@H](O[C@@H]%12(O[C@@H]%11(CO[C@](O[C@H]%11[C@H](O)[C@@H](O)%12)(C([O-])=O)C)))[C@@H](O)%13))[C@@H](O)%14))[C@@H](O)[C@H](O)[C@@H](O)%15))[C@@H](O)[C@H](O)[C@@H](O)%16))[C@H](O)[C@@H](O)%17))[C@H](O)[C@@H](O)%18))[C@@H](O)%19))[C@H](O)[C@@H](O)%20))[C@H](O)[C@@H](O)%21))[C@H](O)[C@@H](O)%22))[C@@H](O)%23))[C@H](O)[C@@H](O)%24))[C@H](O)[C@@H](O)%25))[C@H](O)[C@@H](O)%26))[C@@H](O)%27).C[R]\n",
      "[23:32:27] SMILES Parse Error: Failed parsing SMILES 'C\\C=C(C)/CC\\C=C(C)/CC\\C=C(C)/CC\\C=C(C)/CC\\C=C(C)/CC\\C=C(C)/CC\\C=C(C)/CC\\C=C(C)/CC/C=C(C)/CC/C=C(C)/CC/C=C(C)/COP(=O)([O-])OP(=O)([O-])O[C@H]%27(O[C@H](CO)[C@H](O)[C@H](O[C@@H]%26(O[C@H](CO)[C@@H](O[C@@H]%25(O[C@H](COC(=O)C)[C@@H](O[C@@H]%24(O[C@H](CO[C@@H]5(O[C@H](CO[C@@H]4(O[C@H](CO)[C@@H](O)[C@H](O[C@@H]3(O[C@H](COC(=O)CCC(=O)[O-])[C@@H](O)[C@H](O[C@@H]2(O[C@@H]1(CO[C@](O[C@H]1[C@H](O)[C@@H](O)2)(C([O-])=O)C)))[C@@H](O)3))[C@@H](O)4))[C@@H](O)[C@H](O)[C@@H](O)5))[C@@H](O[C@@H]%23(O[C@H](CO)[C@H](O)[C@H](O[C@@H]%22(O[C@H](CO)[C@@H](O[C@@H]%21(O[C@H](COC(=O)C)[C@@H](O[C@@H]%20(O[C@H](CO[C@@H]%10(O[C@H](CO[C@@H]9(O[C@H](CO)[C@@H](O)[C@H](O[C@@H]8(O[C@H](COC(=O)CCC(=O)[O-])[C@@H](O)[C@H](O[C@@H]7(O[C@@H]6(CO[C@](O[C@H]6[C@H](O)[C@@H](O)7)(C([O-])=O)C)))[C@@H](O)8))[C@@H](O)9))[C@@H](O)[C@H](O)[C@@H](O)%10))[C@@H](O[C@@H]%19(O[C@H](CO)[C@H](O)[C@H](O[C@@H]%18(O[C@H](CO)[C@@H](O[C@@H]%17(O[C@H](COC(=O)C)[C@@H](O[C@@H]%16(O[C@H](CO[C@@H]%15(O[C@H](CO[C@@H]%14(O[C@H](CO)[C@@H](O)[C@H](O[C@@H]%13(O[C@H](COC(=O)CCC(=O)[O-])[C@@H](O)[C@H](O[C@@H]%12(O[C@@H]%11(CO[C@](O[C@H]%11[C@H](O)[C@@H](O)%12)(C([O-])=O)C)))[C@@H](O)%13))[C@@H](O)%14))[C@@H](O)[C@H](O)[C@@H](O)%15))[C@@H](O)[C@H](O)[C@@H](O)%16))[C@H](O)[C@@H](O)%17))[C@H](O)[C@@H](O)%18))[C@@H](O)%19))[C@H](O)[C@@H](O)%20))[C@H](O)[C@@H](O)%21))[C@H](O)[C@@H](O)%22))[C@@H](O)%23))[C@H](O)[C@@H](O)%24))[C@H](O)[C@@H](O)%25))[C@H](O)[C@@H](O)%26))[C@@H](O)%27).C[R]' for input: 'C\\C=C(C)/CC\\C=C(C)/CC\\C=C(C)/CC\\C=C(C)/CC\\C=C(C)/CC\\C=C(C)/CC\\C=C(C)/CC\\C=C(C)/CC/C=C(C)/CC/C=C(C)/CC/C=C(C)/COP(=O)([O-])OP(=O)([O-])O[C@H]%27(O[C@H](CO)[C@H](O)[C@H](O[C@@H]%26(O[C@H](CO)[C@@H](O[C@@H]%25(O[C@H](COC(=O)C)[C@@H](O[C@@H]%24(O[C@H](CO[C@@H]5(O[C@H](CO[C@@H]4(O[C@H](CO)[C@@H](O)[C@H](O[C@@H]3(O[C@H](COC(=O)CCC(=O)[O-])[C@@H](O)[C@H](O[C@@H]2(O[C@@H]1(CO[C@](O[C@H]1[C@H](O)[C@@H](O)2)(C([O-])=O)C)))[C@@H](O)3))[C@@H](O)4))[C@@H](O)[C@H](O)[C@@H](O)5))[C@@H](O[C@@H]%23(O[C@H](CO)[C@H](O)[C@H](O[C@@H]%22(O[C@H](CO)[C@@H](O[C@@H]%21(O[C@H](COC(=O)C)[C@@H](O[C@@H]%20(O[C@H](CO[C@@H]%10(O[C@H](CO[C@@H]9(O[C@H](CO)[C@@H](O)[C@H](O[C@@H]8(O[C@H](COC(=O)CCC(=O)[O-])[C@@H](O)[C@H](O[C@@H]7(O[C@@H]6(CO[C@](O[C@H]6[C@H](O)[C@@H](O)7)(C([O-])=O)C)))[C@@H](O)8))[C@@H](O)9))[C@@H](O)[C@H](O)[C@@H](O)%10))[C@@H](O[C@@H]%19(O[C@H](CO)[C@H](O)[C@H](O[C@@H]%18(O[C@H](CO)[C@@H](O[C@@H]%17(O[C@H](COC(=O)C)[C@@H](O[C@@H]%16(O[C@H](CO[C@@H]%15(O[C@H](CO[C@@H]%14(O[C@H](CO)[C@@H](O)[C@H](O[C@@H]%13(O[C@H](COC(=O)CCC(=O)[O-])[C@@H](O)[C@H](O[C@@H]%12(O[C@@H]%11(CO[C@](O[C@H]%11[C@H](O)[C@@H](O)%12)(C([O-])=O)C)))[C@@H](O)%13))[C@@H](O)%14))[C@@H](O)[C@H](O)[C@@H](O)%15))[C@@H](O)[C@H](O)[C@@H](O)%16))[C@H](O)[C@@H](O)%17))[C@H](O)[C@@H](O)%18))[C@@H](O)%19))[C@H](O)[C@@H](O)%20))[C@H](O)[C@@H](O)%21))[C@H](O)[C@@H](O)%22))[C@@H](O)%23))[C@H](O)[C@@H](O)%24))[C@H](O)[C@@H](O)%25))[C@H](O)[C@@H](O)%26))[C@@H](O)%27).C[R]'\n",
      " 83%|███████████████████████████████████████████████████████████████████████████████████████████████████▉                    | 2947/3538 [10:48<03:30,  2.81it/s]"
     ]
    },
    {
     "name": "stdout",
     "output_type": "stream",
     "text": [
      "Python argument types in\n",
      "    FingeprintGenerator64.GetFingerprintAsNumPy(FingeprintGenerator64, NoneType)\n",
      "did not match C++ signature:\n",
      "    GetFingerprintAsNumPy(RDKit::FingerprintGenerator<unsigned long> const* self, RDKit::ROMol mol, boost::python::api::object fromAtoms=[], boost::python::api::object ignoreAtoms=[], int confId=-1, boost::python::api::object customAtomInvariants=[], boost::python::api::object customBondInvariants=[], boost::python::api::object additionalOutput=None)\n",
      "need at least one array to concatenate\n"
     ]
    },
    {
     "name": "stderr",
     "output_type": "stream",
     "text": [
      "[23:32:32] WARNING: not removing hydrogen atom without neighbors\n",
      "[23:32:33] WARNING: not removing hydrogen atom without neighbors\n",
      " 83%|████████████████████████████████████████████████████████████████████████████████████████████████████                    | 2950/3538 [10:52<05:17,  1.85it/s][23:32:35] WARNING: not removing hydrogen atom without neighbors\n",
      "[23:32:35] WARNING: not removing hydrogen atom without neighbors\n",
      " 83%|████████████████████████████████████████████████████████████████████████████████████████████████████                    | 2952/3538 [10:54<05:46,  1.69it/s][23:32:35] WARNING: not removing hydrogen atom without neighbors\n",
      "[23:32:35] WARNING: not removing hydrogen atom without neighbors\n",
      "[23:32:35] WARNING: not removing hydrogen atom without neighbors\n",
      "[23:32:35] WARNING: not removing hydrogen atom without neighbors\n",
      "[23:32:35] WARNING: not removing hydrogen atom without neighbors\n",
      "[23:32:35] WARNING: not removing hydrogen atom without neighbors\n",
      " 84%|████████████████████████████████████████████████████████████████████████████████████████████████████▎                   | 2958/3538 [10:54<03:35,  2.69it/s][23:32:35] WARNING: not removing hydrogen atom without neighbors\n",
      "[23:32:35] WARNING: not removing hydrogen atom without neighbors\n",
      "[23:32:35] WARNING: not removing hydrogen atom without neighbors\n",
      "[23:32:35] WARNING: not removing hydrogen atom without neighbors\n",
      "[23:32:35] WARNING: not removing hydrogen atom without neighbors\n",
      "[23:32:35] WARNING: not removing hydrogen atom without neighbors\n",
      " 84%|████████████████████████████████████████████████████████████████████████████████████████████████████▌                   | 2965/3538 [10:54<02:12,  4.32it/s][23:32:35] WARNING: not removing hydrogen atom without neighbors\n",
      "[23:32:35] WARNING: not removing hydrogen atom without neighbors\n",
      "[23:32:35] WARNING: not removing hydrogen atom without neighbors\n",
      "[23:32:35] WARNING: not removing hydrogen atom without neighbors\n",
      "[23:32:35] WARNING: not removing hydrogen atom without neighbors\n",
      " 84%|████████████████████████████████████████████████████████████████████████████████████████████████████▊                   | 2972/3538 [10:54<01:27,  6.50it/s][23:32:35] WARNING: not removing hydrogen atom without neighbors\n",
      "[23:32:35] WARNING: not removing hydrogen atom without neighbors\n",
      "[23:32:35] WARNING: not removing hydrogen atom without neighbors\n",
      "[23:32:35] WARNING: not removing hydrogen atom without neighbors\n",
      "[23:32:35] WARNING: not removing hydrogen atom without neighbors\n",
      " 84%|████████████████████████████████████████████████████████████████████████████████████████████████████▉                   | 2977/3538 [10:54<01:06,  8.46it/s][23:32:36] WARNING: not removing hydrogen atom without neighbors\n",
      "[23:32:36] WARNING: not removing hydrogen atom without neighbors\n",
      "[23:32:36] WARNING: not removing hydrogen atom without neighbors\n",
      "[23:32:36] WARNING: not removing hydrogen atom without neighbors\n",
      "[23:32:36] WARNING: not removing hydrogen atom without neighbors\n",
      " 84%|█████████████████████████████████████████████████████████████████████████████████████████████████████▏                  | 2983/3538 [10:54<00:48, 11.55it/s][23:32:36] WARNING: not removing hydrogen atom without neighbors\n",
      "[23:32:36] WARNING: not removing hydrogen atom without neighbors\n",
      "[23:32:36] WARNING: not removing hydrogen atom without neighbors\n",
      "[23:32:36] WARNING: not removing hydrogen atom without neighbors\n",
      "[23:32:36] WARNING: not removing hydrogen atom without neighbors\n",
      "[23:32:36] WARNING: not removing hydrogen atom without neighbors\n",
      "[23:32:36] WARNING: not removing hydrogen atom without neighbors\n",
      "[23:32:36] WARNING: not removing hydrogen atom without neighbors\n",
      " 85%|█████████████████████████████████████████████████████████████████████████████████████████████████████▍                  | 2990/3538 [10:54<00:34, 16.07it/s][23:32:36] WARNING: not removing hydrogen atom without neighbors\n",
      "[23:32:36] WARNING: not removing hydrogen atom without neighbors\n",
      "[23:32:36] WARNING: not removing hydrogen atom without neighbors\n",
      " 86%|███████████████████████████████████████████████████████████████████████████████████████████████████████▏                | 3042/3538 [10:55<00:07, 70.56it/s]"
     ]
    },
    {
     "name": "stdout",
     "output_type": "stream",
     "text": [
      "need at least one array to concatenate\n",
      "need at least one array to concatenate\n",
      "need at least one array to concatenate\n",
      "need at least one array to concatenate\n",
      "need at least one array to concatenate\n",
      "need at least one array to concatenate\n",
      "need at least one array to concatenate\n",
      "need at least one array to concatenate\n",
      "need at least one array to concatenate\n",
      "need at least one array to concatenate\n",
      "need at least one array to concatenate\n",
      "need at least one array to concatenate\n",
      "need at least one array to concatenate\n",
      "need at least one array to concatenate\n",
      "need at least one array to concatenate\n",
      "need at least one array to concatenate\n",
      "need at least one array to concatenate\n",
      "need at least one array to concatenate\n",
      "need at least one array to concatenate\n",
      "need at least one array to concatenate\n",
      "need at least one array to concatenate\n",
      "need at least one array to concatenate\n",
      "need at least one array to concatenate\n",
      "need at least one array to concatenate\n",
      "need at least one array to concatenate\n",
      "need at least one array to concatenate\n",
      "need at least one array to concatenate\n",
      "need at least one array to concatenate\n",
      "need at least one array to concatenate\n",
      "need at least one array to concatenate\n",
      "need at least one array to concatenate\n",
      "need at least one array to concatenate\n",
      "need at least one array to concatenate\n",
      "need at least one array to concatenate\n",
      "need at least one array to concatenate\n",
      "need at least one array to concatenate\n",
      "need at least one array to concatenate\n",
      "need at least one array to concatenate\n",
      "need at least one array to concatenate\n",
      "need at least one array to concatenate\n",
      "need at least one array to concatenate\n",
      "need at least one array to concatenate\n",
      "need at least one array to concatenate\n",
      "need at least one array to concatenate\n",
      "need at least one array to concatenate\n",
      "need at least one array to concatenate\n",
      "need at least one array to concatenate\n",
      "need at least one array to concatenate\n",
      "need at least one array to concatenate\n",
      "need at least one array to concatenate\n",
      "need at least one array to concatenate\n",
      "need at least one array to concatenate\n",
      "need at least one array to concatenate\n",
      "need at least one array to concatenate\n",
      "need at least one array to concatenate\n",
      "need at least one array to concatenate\n",
      "need at least one array to concatenate\n",
      "need at least one array to concatenate\n",
      "need at least one array to concatenate\n",
      "need at least one array to concatenate\n",
      "need at least one array to concatenate\n",
      "need at least one array to concatenate\n",
      "need at least one array to concatenate\n"
     ]
    },
    {
     "name": "stderr",
     "output_type": "stream",
     "text": [
      " 88%|████████████████████████████████████████████████████████████████████████████████████████████████████████▌              | 3108/3538 [10:55<00:02, 149.08it/s]"
     ]
    },
    {
     "name": "stdout",
     "output_type": "stream",
     "text": [
      "need at least one array to concatenate\n",
      "need at least one array to concatenate\n",
      "need at least one array to concatenate\n",
      "need at least one array to concatenate\n",
      "need at least one array to concatenate\n",
      "need at least one array to concatenate\n",
      "need at least one array to concatenate\n",
      "need at least one array to concatenate\n",
      "need at least one array to concatenate\n",
      "need at least one array to concatenate\n",
      "need at least one array to concatenate\n",
      "need at least one array to concatenate\n",
      "need at least one array to concatenate\n",
      "need at least one array to concatenate\n",
      "need at least one array to concatenate\n",
      "need at least one array to concatenate\n",
      "need at least one array to concatenate\n",
      "need at least one array to concatenate\n",
      "need at least one array to concatenate\n",
      "need at least one array to concatenate\n",
      "need at least one array to concatenate\n",
      "need at least one array to concatenate\n",
      "need at least one array to concatenate\n",
      "need at least one array to concatenate\n",
      "need at least one array to concatenate\n",
      "need at least one array to concatenate\n",
      "need at least one array to concatenate\n",
      "need at least one array to concatenate\n",
      "need at least one array to concatenate\n",
      "need at least one array to concatenate\n",
      "need at least one array to concatenate\n",
      "need at least one array to concatenate\n",
      "need at least one array to concatenate\n",
      "need at least one array to concatenate\n",
      "need at least one array to concatenate\n",
      "need at least one array to concatenate\n",
      "need at least one array to concatenate\n",
      "need at least one array to concatenate\n",
      "need at least one array to concatenate\n",
      "need at least one array to concatenate\n",
      "need at least one array to concatenate\n",
      "need at least one array to concatenate\n",
      "need at least one array to concatenate\n",
      "need at least one array to concatenate\n",
      "need at least one array to concatenate\n",
      "need at least one array to concatenate\n",
      "need at least one array to concatenate\n",
      "need at least one array to concatenate\n",
      "need at least one array to concatenate\n",
      "need at least one array to concatenate\n",
      "need at least one array to concatenate\n",
      "need at least one array to concatenate\n",
      "need at least one array to concatenate\n",
      "need at least one array to concatenate\n",
      "need at least one array to concatenate\n",
      "need at least one array to concatenate\n",
      "need at least one array to concatenate\n",
      "need at least one array to concatenate\n",
      "need at least one array to concatenate\n",
      "need at least one array to concatenate\n",
      "need at least one array to concatenate\n",
      "need at least one array to concatenate\n",
      "need at least one array to concatenate\n",
      "need at least one array to concatenate\n",
      "need at least one array to concatenate\n",
      "need at least one array to concatenate\n",
      "need at least one array to concatenate\n"
     ]
    },
    {
     "name": "stderr",
     "output_type": "stream",
     "text": [
      " 90%|██████████████████████████████████████████████████████████████████████████████████████████████████████████▊            | 3177/3538 [10:55<00:01, 222.56it/s]"
     ]
    },
    {
     "name": "stdout",
     "output_type": "stream",
     "text": [
      "need at least one array to concatenate\n",
      "need at least one array to concatenate\n",
      "need at least one array to concatenate\n",
      "need at least one array to concatenate\n",
      "need at least one array to concatenate\n",
      "need at least one array to concatenate\n",
      "need at least one array to concatenate\n",
      "need at least one array to concatenate\n",
      "need at least one array to concatenate\n",
      "need at least one array to concatenate\n",
      "need at least one array to concatenate\n",
      "need at least one array to concatenate\n",
      "need at least one array to concatenate\n",
      "need at least one array to concatenate\n",
      "need at least one array to concatenate\n",
      "need at least one array to concatenate\n",
      "need at least one array to concatenate\n",
      "need at least one array to concatenate\n",
      "need at least one array to concatenate\n",
      "need at least one array to concatenate\n",
      "need at least one array to concatenate\n",
      "need at least one array to concatenate\n",
      "need at least one array to concatenate\n",
      "need at least one array to concatenate\n",
      "need at least one array to concatenate\n",
      "need at least one array to concatenate\n",
      "need at least one array to concatenate\n",
      "need at least one array to concatenate\n",
      "need at least one array to concatenate\n",
      "need at least one array to concatenate\n",
      "need at least one array to concatenate\n",
      "need at least one array to concatenate\n",
      "need at least one array to concatenate\n",
      "need at least one array to concatenate\n",
      "need at least one array to concatenate\n",
      "need at least one array to concatenate\n",
      "need at least one array to concatenate\n",
      "need at least one array to concatenate\n",
      "need at least one array to concatenate\n",
      "need at least one array to concatenate\n",
      "need at least one array to concatenate\n",
      "need at least one array to concatenate\n",
      "need at least one array to concatenate\n",
      "need at least one array to concatenate\n",
      "need at least one array to concatenate\n",
      "need at least one array to concatenate\n",
      "need at least one array to concatenate\n",
      "need at least one array to concatenate\n",
      "need at least one array to concatenate\n",
      "need at least one array to concatenate\n",
      "need at least one array to concatenate\n",
      "need at least one array to concatenate\n",
      "need at least one array to concatenate\n",
      "need at least one array to concatenate\n",
      "need at least one array to concatenate\n",
      "need at least one array to concatenate\n",
      "need at least one array to concatenate\n",
      "need at least one array to concatenate\n",
      "need at least one array to concatenate\n",
      "need at least one array to concatenate\n",
      "need at least one array to concatenate\n",
      "need at least one array to concatenate\n",
      "need at least one array to concatenate\n",
      "need at least one array to concatenate\n",
      "need at least one array to concatenate\n",
      "need at least one array to concatenate\n",
      "need at least one array to concatenate\n",
      "need at least one array to concatenate\n",
      "need at least one array to concatenate\n"
     ]
    },
    {
     "name": "stderr",
     "output_type": "stream",
     "text": [
      " 91%|███████████████████████████████████████████████████████████████████████████████████████████████████████████▉           | 3210/3538 [10:55<00:01, 248.37it/s][23:32:37] WARNING: not removing hydrogen atom without neighbors\n",
      " 92%|█████████████████████████████████████████████████████████████████████████████████████████████████████████████          | 3242/3538 [10:55<00:01, 253.11it/s]"
     ]
    },
    {
     "name": "stdout",
     "output_type": "stream",
     "text": [
      "need at least one array to concatenate\n",
      "need at least one array to concatenate\n",
      "need at least one array to concatenate\n",
      "need at least one array to concatenate\n",
      "need at least one array to concatenate\n",
      "need at least one array to concatenate\n",
      "need at least one array to concatenate\n",
      "need at least one array to concatenate\n",
      "need at least one array to concatenate\n",
      "need at least one array to concatenate\n",
      "need at least one array to concatenate\n",
      "need at least one array to concatenate\n",
      "need at least one array to concatenate\n",
      "need at least one array to concatenate\n",
      "need at least one array to concatenate\n",
      "need at least one array to concatenate\n",
      "need at least one array to concatenate\n",
      "need at least one array to concatenate\n",
      "need at least one array to concatenate\n",
      "need at least one array to concatenate\n",
      "need at least one array to concatenate\n",
      "need at least one array to concatenate\n",
      "need at least one array to concatenate\n",
      "need at least one array to concatenate\n",
      "need at least one array to concatenate\n",
      "need at least one array to concatenate\n",
      "need at least one array to concatenate\n",
      "need at least one array to concatenate\n",
      "need at least one array to concatenate\n",
      "need at least one array to concatenate\n",
      "need at least one array to concatenate\n",
      "need at least one array to concatenate\n",
      "need at least one array to concatenate\n",
      "need at least one array to concatenate\n",
      "need at least one array to concatenate\n",
      "need at least one array to concatenate\n",
      "need at least one array to concatenate\n",
      "need at least one array to concatenate\n",
      "need at least one array to concatenate\n",
      "need at least one array to concatenate\n",
      "need at least one array to concatenate\n",
      "need at least one array to concatenate\n",
      "need at least one array to concatenate\n",
      "need at least one array to concatenate\n",
      "need at least one array to concatenate\n",
      "need at least one array to concatenate\n",
      "need at least one array to concatenate\n",
      "need at least one array to concatenate\n",
      "need at least one array to concatenate\n",
      "need at least one array to concatenate\n"
     ]
    },
    {
     "name": "stderr",
     "output_type": "stream",
     "text": [
      "[23:32:37] WARNING: not removing hydrogen atom without neighbors\n",
      "[23:32:37] WARNING: not removing hydrogen atom without neighbors\n",
      "[23:32:37] WARNING: not removing hydrogen atom without neighbors\n",
      "[23:32:37] WARNING: not removing hydrogen atom without neighbors\n",
      "[23:32:37] WARNING: not removing hydrogen atom without neighbors\n",
      "[23:32:37] WARNING: not removing hydrogen atom without neighbors\n",
      "[23:32:37] WARNING: not removing hydrogen atom without neighbors\n",
      "[23:32:37] WARNING: not removing hydrogen atom without neighbors\n",
      "[23:32:37] WARNING: not removing hydrogen atom without neighbors\n",
      "[23:32:37] WARNING: not removing hydrogen atom without neighbors\n",
      "[23:32:37] WARNING: not removing hydrogen atom without neighbors\n",
      "[23:32:37] WARNING: not removing hydrogen atom without neighbors\n",
      "[23:32:37] WARNING: not removing hydrogen atom without neighbors\n",
      "[23:32:37] WARNING: not removing hydrogen atom without neighbors\n"
     ]
    },
    {
     "name": "stdout",
     "output_type": "stream",
     "text": [
      "need at least one array to concatenate\n"
     ]
    },
    {
     "name": "stderr",
     "output_type": "stream",
     "text": [
      "[23:32:37] WARNING: not removing hydrogen atom without neighbors\n",
      "[23:32:37] WARNING: not removing hydrogen atom without neighbors\n",
      "[23:32:37] WARNING: not removing hydrogen atom without neighbors\n",
      "[23:32:37] WARNING: not removing hydrogen atom without neighbors\n",
      "[23:32:37] WARNING: not removing hydrogen atom without neighbors\n",
      "[23:32:37] WARNING: not removing hydrogen atom without neighbors\n",
      "[23:32:37] WARNING: not removing hydrogen atom without neighbors\n",
      "[23:32:37] WARNING: not removing hydrogen atom without neighbors\n",
      " 92%|██████████████████████████████████████████████████████████████████████████████████████████████████████████████         | 3272/3538 [10:56<00:02, 105.74it/s][23:32:37] WARNING: not removing hydrogen atom without neighbors\n",
      "[23:32:37] WARNING: not removing hydrogen atom without neighbors\n",
      "[23:32:37] WARNING: not removing hydrogen atom without neighbors\n",
      "[23:32:37] WARNING: not removing hydrogen atom without neighbors\n",
      "[23:32:37] WARNING: not removing hydrogen atom without neighbors\n",
      "[23:32:37] WARNING: not removing hydrogen atom without neighbors\n"
     ]
    },
    {
     "name": "stdout",
     "output_type": "stream",
     "text": [
      "need at least one array to concatenate\n"
     ]
    },
    {
     "name": "stderr",
     "output_type": "stream",
     "text": [
      "[23:32:37] WARNING: not removing hydrogen atom without neighbors\n",
      "[23:32:37] WARNING: not removing hydrogen atom without neighbors\n",
      "[23:32:37] WARNING: not removing hydrogen atom without neighbors\n",
      "[23:32:38] WARNING: not removing hydrogen atom without neighbors\n",
      "[23:32:38] WARNING: not removing hydrogen atom without neighbors\n",
      "[23:32:38] WARNING: not removing hydrogen atom without neighbors\n",
      "[23:32:38] WARNING: not removing hydrogen atom without neighbors\n",
      "[23:32:38] WARNING: not removing hydrogen atom without neighbors\n",
      "[23:32:38] WARNING: not removing hydrogen atom without neighbors\n",
      "[23:32:38] WARNING: not removing hydrogen atom without neighbors\n",
      "[23:32:38] WARNING: not removing hydrogen atom without neighbors\n",
      "[23:32:38] WARNING: not removing hydrogen atom without neighbors\n",
      " 93%|███████████████████████████████████████████████████████████████████████████████████████████████████████████████▋        | 3294/3538 [10:56<00:03, 80.89it/s][23:32:38] WARNING: not removing hydrogen atom without neighbors\n",
      "[23:32:38] WARNING: not removing hydrogen atom without neighbors\n",
      "[23:32:38] WARNING: not removing hydrogen atom without neighbors\n",
      "[23:32:38] WARNING: not removing hydrogen atom without neighbors\n",
      "[23:32:38] WARNING: not removing hydrogen atom without neighbors\n",
      "[23:32:38] Conflicting single bond directions around double bond at index 17.\n",
      "[23:32:38] [23:32:38]   BondStereo set to STEREONONE and single bond directions set to NONE.WARNING: not removing hydrogen atom without neighbors\n",
      "\n",
      "[23:32:38] Conflicting single bond directions around double bond at index 17.\n",
      "[23:32:38]   BondStereo set to STEREONONE and single bond directions set to NONE.\n",
      "[23:32:38] Conflicting single bond directions around double bond at index 17.\n",
      "[23:32:38]   BondStereo set to STEREONONE and single bond directions set to NONE.\n",
      "[23:32:38] Conflicting single bond directions around double bond at index 17.\n",
      "[23:32:38]   BondStereo set to STEREONONE and single bond directions set to NONE.\n",
      "[23:32:38] WARNING: not removing hydrogen atom without neighbors\n",
      "[23:32:38] WARNING: not removing hydrogen atom without neighbors\n",
      "[23:32:38] WARNING: not removing hydrogen atom without neighbors\n",
      "[23:32:38] WARNING: not removing hydrogen atom without neighbors\n",
      "[23:32:38] WARNING: not removing hydrogen atom without neighbors\n",
      "[23:32:38] WARNING: not removing hydrogen atom without neighbors\n",
      "[23:32:38] WARNING: not removing hydrogen atom without neighbors\n",
      " 94%|████████████████████████████████████████████████████████████████████████████████████████████████████████████████▎       | 3311/3538 [10:57<00:03, 74.66it/s][23:32:38] WARNING: not removing hydrogen atom without neighbors\n",
      "[23:32:38] WARNING: not removing hydrogen atom without neighbors\n",
      "[23:32:38] WARNING: not removing hydrogen atom without neighbors\n"
     ]
    },
    {
     "name": "stdout",
     "output_type": "stream",
     "text": [
      "need at least one array to concatenate\n",
      "need at least one array to concatenate\n",
      "need at least one array to concatenate\n"
     ]
    },
    {
     "name": "stderr",
     "output_type": "stream",
     "text": [
      "[23:32:38] WARNING: not removing hydrogen atom without neighbors\n",
      "[23:32:38] WARNING: not removing hydrogen atom without neighbors\n",
      "[23:32:38] WARNING: not removing hydrogen atom without neighbors\n",
      "[23:32:38] WARNING: not removing hydrogen atom without neighbors\n",
      "[23:32:38] WARNING: not removing hydrogen atom without neighbors\n",
      "[23:32:38] WARNING: not removing hydrogen atom without neighbors\n",
      "[23:32:38] WARNING: not removing hydrogen atom without neighbors\n",
      "[23:32:38] WARNING: not removing hydrogen atom without neighbors\n",
      "[23:32:38] WARNING: not removing hydrogen atom without neighbors\n",
      "[23:32:38] WARNING: not removing hydrogen atom without neighbors\n",
      " 94%|████████████████████████████████████████████████████████████████████████████████████████████████████████████████▊       | 3325/3538 [10:57<00:03, 67.66it/s][23:32:38] WARNING: not removing hydrogen atom without neighbors\n",
      "[23:32:38] WARNING: not removing hydrogen atom without neighbors\n",
      "[23:32:38] WARNING: not removing hydrogen atom without neighbors\n",
      "[23:32:38] WARNING: not removing hydrogen atom without neighbors\n",
      "[23:32:38] WARNING: not removing hydrogen atom without neighbors\n",
      "[23:32:38] WARNING: not removing hydrogen atom without neighbors\n",
      "[23:32:38] WARNING: not removing hydrogen atom without neighbors\n",
      "[23:32:38] WARNING: not removing hydrogen atom without neighbors\n",
      "[23:32:38] WARNING: not removing hydrogen atom without neighbors\n",
      "[23:32:38] WARNING: not removing hydrogen atom without neighbors\n",
      "[23:32:38] WARNING: not removing hydrogen atom without neighbors\n",
      " 94%|█████████████████████████████████████████████████████████████████████████████████████████████████████████████████▏      | 3336/3538 [10:57<00:03, 66.46it/s][23:32:38] WARNING: not removing hydrogen atom without neighbors\n",
      "[23:32:39] WARNING: not removing hydrogen atom without neighbors\n",
      "[23:32:39] WARNING: not removing hydrogen atom without neighbors\n",
      "[23:32:39] WARNING: not removing hydrogen atom without neighbors\n",
      "[23:32:39] WARNING: not removing hydrogen atom without neighbors\n",
      "[23:32:39] WARNING: not removing hydrogen atom without neighbors\n",
      "[23:32:39] WARNING: not removing hydrogen atom without neighbors\n",
      " 95%|█████████████████████████████████████████████████████████████████████████████████████████████████████████████████▍      | 3346/3538 [10:57<00:02, 64.37it/s][23:32:39] WARNING: not removing hydrogen atom without neighbors\n",
      "[23:32:39] WARNING: not removing hydrogen atom without neighbors\n",
      "[23:32:39] WARNING: not removing hydrogen atom without neighbors\n"
     ]
    },
    {
     "name": "stdout",
     "output_type": "stream",
     "text": [
      "need at least one array to concatenate\n",
      "need at least one array to concatenate\n",
      "need at least one array to concatenate\n",
      "need at least one array to concatenate\n",
      "need at least one array to concatenate\n"
     ]
    },
    {
     "name": "stderr",
     "output_type": "stream",
     "text": [
      "[23:32:39] WARNING: not removing hydrogen atom without neighbors\n",
      "[23:32:39] WARNING: not removing hydrogen atom without neighbors\n",
      "[23:32:39] WARNING: not removing hydrogen atom without neighbors\n",
      " 95%|█████████████████████████████████████████████████████████████████████████████████████████████████████████████████▊      | 3355/3538 [10:58<00:02, 62.69it/s][23:32:39] WARNING: not removing hydrogen atom without neighbors\n",
      "[23:32:39] WARNING: not removing hydrogen atom without neighbors\n",
      "[23:32:39] WARNING: not removing hydrogen atom without neighbors\n",
      "[23:32:39] Conflicting single bond directions around double bond at index 12.\n",
      "[23:32:39]   BondStereo set to STEREONONE and single bond directions set to NONE.\n",
      "[23:32:39] Conflicting single bond directions around double bond at index 17.\n",
      "[23:32:39]   BondStereo set to STEREONONE and single bond directions set to NONE.\n",
      "[23:32:39] Conflicting single bond directions around double bond at index 12.\n",
      "[23:32:39]   BondStereo set to STEREONONE and single bond directions set to NONE.\n",
      "[23:32:39] Conflicting single bond directions around double bond at index 17.\n",
      "[23:32:39]   BondStereo set to STEREONONE and single bond directions set to NONE.\n",
      "[23:32:39] Conflicting single bond directions around double bond at index 17.\n",
      "[23:32:39]   BondStereo set to STEREONONE and single bond directions set to NONE.\n",
      "[23:32:39] Conflicting single bond directions around double bond at index 12.\n",
      "[23:32:39]   BondStereo set to STEREONONE and single bond directions set to NONE.\n",
      "[23:32:39] Conflicting single bond directions around double bond at index 17.\n",
      "[23:32:39]   BondStereo set to STEREONONE and single bond directions set to NONE.\n",
      "[23:32:39] Conflicting single bond directions around double bond at index 17.\n",
      "[23:32:39]   BondStereo set to STEREONONE and single bond directions set to NONE.\n",
      "[23:32:39] Conflicting single bond directions around double bond at index 17.\n",
      "[23:32:39]   BondStereo set to STEREONONE and single bond directions set to NONE.\n",
      "[23:32:39] WARNING: not removing hydrogen atom without neighbors\n",
      "[23:32:39] WARNING: not removing hydrogen atom without neighbors\n",
      "[23:32:39] WARNING: not removing hydrogen atom without neighbors\n",
      " 95%|██████████████████████████████████████████████████████████████████████████████████████████████████████████████████      | 3363/3538 [10:58<00:03, 57.39it/s][23:32:39] WARNING: not removing hydrogen atom without neighbors\n",
      "[23:32:39] WARNING: not removing hydrogen atom without neighbors\n",
      "[23:32:39] WARNING: not removing hydrogen atom without neighbors\n"
     ]
    },
    {
     "name": "stdout",
     "output_type": "stream",
     "text": [
      "need at least one array to concatenate\n"
     ]
    },
    {
     "name": "stderr",
     "output_type": "stream",
     "text": [
      "[23:32:39] WARNING: not removing hydrogen atom without neighbors\n",
      "[23:32:39] WARNING: not removing hydrogen atom without neighbors\n",
      " 95%|██████████████████████████████████████████████████████████████████████████████████████████████████████████████████▎     | 3370/3538 [10:58<00:02, 57.73it/s][23:32:39] WARNING: not removing hydrogen atom without neighbors\n",
      "[23:32:39] WARNING: not removing hydrogen atom without neighbors\n",
      "[23:32:39] WARNING: not removing hydrogen atom without neighbors\n",
      "[23:32:39] WARNING: not removing hydrogen atom without neighbors\n",
      " 95%|██████████████████████████████████████████████████████████████████████████████████████████████████████████████████▌     | 3377/3538 [10:58<00:02, 57.35it/s][23:32:39] WARNING: not removing hydrogen atom without neighbors\n",
      "[23:32:39] WARNING: not removing hydrogen atom without neighbors\n",
      "[23:32:39] WARNING: not removing hydrogen atom without neighbors\n",
      "[23:32:39] WARNING: not removing hydrogen atom without neighbors\n",
      "[23:32:39] WARNING: not removing hydrogen atom without neighbors\n",
      " 96%|██████████████████████████████████████████████████████████████████████████████████████████████████████████████████▊     | 3384/3538 [10:58<00:02, 54.38it/s][23:32:39] WARNING: not removing hydrogen atom without neighbors\n",
      "[23:32:40] WARNING: not removing hydrogen atom without neighbors\n",
      " 96%|██████████████████████████████████████████████████████████████████████████████████████████████████████████████████▉     | 3390/3538 [10:58<00:02, 52.46it/s][23:32:40] WARNING: not removing hydrogen atom without neighbors\n",
      "[23:32:40] WARNING: not removing hydrogen atom without neighbors\n",
      "[23:32:40] WARNING: not removing hydrogen atom without neighbors\n",
      "[23:32:40] WARNING: not removing hydrogen atom without neighbors\n",
      "[23:32:40] WARNING: not removing hydrogen atom without neighbors\n",
      "[23:32:40] WARNING: not removing hydrogen atom without neighbors\n",
      " 96%|███████████████████████████████████████████████████████████████████████████████████████████████████████████████████▏    | 3396/3538 [10:58<00:02, 49.43it/s][23:32:40] WARNING: not removing hydrogen atom without neighbors\n",
      "[23:32:40] WARNING: not removing hydrogen atom without neighbors\n",
      "[23:32:40] WARNING: not removing hydrogen atom without neighbors\n",
      "[23:32:40] WARNING: not removing hydrogen atom without neighbors\n",
      "[23:32:40] WARNING: not removing hydrogen atom without neighbors\n",
      "[23:32:40] WARNING: not removing hydrogen atom without neighbors\n",
      " 96%|███████████████████████████████████████████████████████████████████████████████████████████████████████████████████▍    | 3402/3538 [10:59<00:03, 44.00it/s][23:32:40] WARNING: not removing hydrogen atom without neighbors\n",
      "[23:32:40] WARNING: not removing hydrogen atom without neighbors\n",
      "[23:32:40] Conflicting single bond directions around double bond at index 11.\n",
      "[23:32:40]   BondStereo set to STEREONONE and single bond directions set to NONE.\n",
      "[23:32:40] WARNING: not removing hydrogen atom without neighbors\n",
      "[23:32:40] WARNING: not removing hydrogen atom without neighbors\n",
      "[23:32:40] WARNING: not removing hydrogen atom without neighbors\n",
      " 96%|███████████████████████████████████████████████████████████████████████████████████████████████████████████████████▌    | 3407/3538 [10:59<00:03, 40.36it/s][23:32:40] WARNING: not removing hydrogen atom without neighbors\n",
      "[23:32:40] WARNING: not removing hydrogen atom without neighbors\n",
      "[23:32:40] WARNING: not removing hydrogen atom without neighbors\n",
      "[23:32:40] WARNING: not removing hydrogen atom without neighbors\n",
      "[23:32:40] WARNING: not removing hydrogen atom without neighbors\n",
      " 96%|███████████████████████████████████████████████████████████████████████████████████████████████████████████████████▋    | 3412/3538 [10:59<00:03, 38.12it/s][23:32:40] WARNING: not removing hydrogen atom without neighbors\n",
      "[23:32:40] WARNING: not removing hydrogen atom without neighbors\n",
      "[23:32:40] WARNING: not removing hydrogen atom without neighbors\n",
      "[23:32:40] WARNING: not removing hydrogen atom without neighbors\n",
      " 97%|███████████████████████████████████████████████████████████████████████████████████████████████████████████████████▊    | 3416/3538 [10:59<00:03, 36.71it/s][23:32:40] WARNING: not removing hydrogen atom without neighbors\n",
      "[23:32:40] WARNING: not removing hydrogen atom without neighbors\n",
      "[23:32:40] WARNING: not removing hydrogen atom without neighbors\n",
      " 97%|████████████████████████████████████████████████████████████████████████████████████████████████████████████████████    | 3423/3538 [10:59<00:02, 43.36it/s][23:32:40] WARNING: not removing hydrogen atom without neighbors\n",
      "[23:32:40] WARNING: not removing hydrogen atom without neighbors\n",
      "[23:32:40] WARNING: not removing hydrogen atom without neighbors\n",
      "[23:32:40] WARNING: not removing hydrogen atom without neighbors\n",
      "[23:32:40] WARNING: not removing hydrogen atom without neighbors\n",
      "[23:32:40] WARNING: not removing hydrogen atom without neighbors\n",
      " 97%|████████████████████████████████████████████████████████████████████████████████████████████████████████████████████▎   | 3431/3538 [10:59<00:02, 50.78it/s]"
     ]
    },
    {
     "name": "stdout",
     "output_type": "stream",
     "text": [
      "need at least one array to concatenate\n",
      "need at least one array to concatenate\n"
     ]
    },
    {
     "name": "stderr",
     "output_type": "stream",
     "text": [
      "[23:32:41] WARNING: not removing hydrogen atom without neighbors\n",
      "[23:32:41] WARNING: not removing hydrogen atom without neighbors\n",
      "[23:32:41] WARNING: not removing hydrogen atom without neighbors\n",
      "[23:32:41] WARNING: not removing hydrogen atom without neighbors\n",
      "[23:32:41] WARNING: not removing hydrogen atom without neighbors\n",
      "[23:32:41] WARNING: not removing hydrogen atom without neighbors\n",
      " 97%|████████████████████████████████████████████████████████████████████████████████████████████████████████████████████▌   | 3438/3538 [10:59<00:01, 54.42it/s][23:32:41] WARNING: not removing hydrogen atom without neighbors\n",
      "[23:32:41] WARNING: not removing hydrogen atom without neighbors\n",
      "[23:32:41] WARNING: not removing hydrogen atom without neighbors\n",
      "[23:32:41] WARNING: not removing hydrogen atom without neighbors\n",
      "[23:32:41] WARNING: not removing hydrogen atom without neighbors\n",
      " 97%|████████████████████████████████████████████████████████████████████████████████████████████████████████████████████▊   | 3444/3538 [11:00<00:01, 49.83it/s][23:32:41] WARNING: not removing hydrogen atom without neighbors\n",
      "[23:32:41] WARNING: not removing hydrogen atom without neighbors\n",
      "[23:32:41] WARNING: not removing hydrogen atom without neighbors\n",
      "[23:32:41] WARNING: not removing hydrogen atom without neighbors\n",
      "[23:32:41] WARNING: not removing hydrogen atom without neighbors\n",
      " 98%|█████████████████████████████████████████████████████████████████████████████████████████████████████████████████████   | 3450/3538 [11:00<00:02, 43.00it/s][23:32:41] WARNING: not removing hydrogen atom without neighbors\n"
     ]
    },
    {
     "name": "stdout",
     "output_type": "stream",
     "text": [
      "need at least one array to concatenate\n"
     ]
    },
    {
     "name": "stderr",
     "output_type": "stream",
     "text": [
      "[23:32:41] WARNING: not removing hydrogen atom without neighbors\n",
      "[23:32:41] WARNING: not removing hydrogen atom without neighbors\n",
      " 98%|█████████████████████████████████████████████████████████████████████████████████████████████████████████████████████▏  | 3455/3538 [11:00<00:02, 38.13it/s][23:32:41] WARNING: not removing hydrogen atom without neighbors\n",
      "[23:32:41] WARNING: not removing hydrogen atom without neighbors\n",
      "[23:32:41] WARNING: not removing hydrogen atom without neighbors\n",
      "[23:32:41] WARNING: not removing hydrogen atom without neighbors\n",
      "[23:32:41] WARNING: not removing hydrogen atom without neighbors\n",
      " 98%|█████████████████████████████████████████████████████████████████████████████████████████████████████████████████████▎  | 3460/3538 [11:00<00:02, 38.83it/s][23:32:41] WARNING: not removing hydrogen atom without neighbors\n",
      "[23:32:41] WARNING: not removing hydrogen atom without neighbors\n",
      "[23:32:41] WARNING: not removing hydrogen atom without neighbors\n",
      "[23:32:41] WARNING: not removing hydrogen atom without neighbors\n",
      " 98%|█████████████████████████████████████████████████████████████████████████████████████████████████████████████████████▌  | 3465/3538 [11:00<00:01, 41.32it/s][23:32:41] WARNING: not removing hydrogen atom without neighbors\n",
      "[23:32:41] WARNING: not removing hydrogen atom without neighbors\n",
      "[23:32:41] WARNING: not removing hydrogen atom without neighbors\n",
      "[23:32:41] WARNING: not removing hydrogen atom without neighbors\n",
      "[23:32:41] WARNING: not removing hydrogen atom without neighbors\n",
      " 98%|█████████████████████████████████████████████████████████████████████████████████████████████████████████████████████▋  | 3471/3538 [11:00<00:01, 44.95it/s][23:32:41] WARNING: not removing hydrogen atom without neighbors\n",
      "[23:32:42] WARNING: not removing hydrogen atom without neighbors\n"
     ]
    },
    {
     "name": "stdout",
     "output_type": "stream",
     "text": [
      "need at least one array to concatenate\n"
     ]
    },
    {
     "name": "stderr",
     "output_type": "stream",
     "text": [
      "[23:32:42] WARNING: not removing hydrogen atom without neighbors\n",
      "[23:32:42] WARNING: not removing hydrogen atom without neighbors\n",
      "[23:32:42] WARNING: not removing hydrogen atom without neighbors\n",
      " 98%|█████████████████████████████████████████████████████████████████████████████████████████████████████████████████████▉  | 3476/3538 [11:00<00:01, 39.33it/s][23:32:42] WARNING: not removing hydrogen atom without neighbors\n",
      "[23:32:42] WARNING: not removing hydrogen atom without neighbors\n",
      "[23:32:42] WARNING: not removing hydrogen atom without neighbors\n",
      "[23:32:42] WARNING: not removing hydrogen atom without neighbors\n",
      "[23:32:42] WARNING: not removing hydrogen atom without neighbors\n",
      "[23:32:42] WARNING: not removing hydrogen atom without neighbors\n",
      " 98%|██████████████████████████████████████████████████████████████████████████████████████████████████████████████████████▏ | 3483/3538 [11:01<00:01, 45.31it/s][23:32:42] WARNING: not removing hydrogen atom without neighbors\n",
      "[23:32:42] WARNING: not removing hydrogen atom without neighbors\n",
      "[23:32:42] WARNING: not removing hydrogen atom without neighbors\n",
      "[23:32:42] WARNING: not removing hydrogen atom without neighbors\n",
      " 99%|██████████████████████████████████████████████████████████████████████████████████████████████████████████████████████▎ | 3488/3538 [11:01<00:01, 45.20it/s][23:32:42] WARNING: not removing hydrogen atom without neighbors\n",
      "[23:32:42] WARNING: not removing hydrogen atom without neighbors\n",
      "[23:32:42] WARNING: not removing hydrogen atom without neighbors\n",
      "[23:32:42] WARNING: not removing hydrogen atom without neighbors\n",
      " 99%|██████████████████████████████████████████████████████████████████████████████████████████████████████████████████████▍ | 3493/3538 [11:01<00:01, 42.46it/s][23:32:42] WARNING: not removing hydrogen atom without neighbors\n"
     ]
    },
    {
     "name": "stdout",
     "output_type": "stream",
     "text": [
      "need at least one array to concatenate\n"
     ]
    },
    {
     "name": "stderr",
     "output_type": "stream",
     "text": [
      "[23:32:42] WARNING: not removing hydrogen atom without neighbors\n",
      "[23:32:42] WARNING: not removing hydrogen atom without neighbors\n",
      "[23:32:42] WARNING: not removing hydrogen atom without neighbors\n",
      "[23:32:42] WARNING: not removing hydrogen atom without neighbors\n",
      " 99%|██████████████████████████████████████████████████████████████████████████████████████████████████████████████████████▋ | 3498/3538 [11:01<00:01, 39.00it/s][23:32:42] WARNING: not removing hydrogen atom without neighbors\n"
     ]
    },
    {
     "name": "stdout",
     "output_type": "stream",
     "text": [
      "Passed values must be either rdkit.Chem.rdChem.Mol or SMILES\n"
     ]
    },
    {
     "name": "stderr",
     "output_type": "stream",
     "text": [
      "[23:32:47] WARNING: not removing hydrogen atom without neighbors\n",
      "[23:32:48] WARNING: not removing hydrogen atom without neighbors\n",
      "[23:32:49] SMILES Parse Error: syntax error while parsing: C1([R4])(=C([R3])C(=O)C(/[R3])=C([R1])/C(=O)1)\n",
      "[23:32:49] SMILES Parse Error: Failed parsing SMILES 'C1([R4])(=C([R3])C(=O)C(/[R3])=C([R1])/C(=O)1)' for input: 'C1([R4])(=C([R3])C(=O)C(/[R3])=C([R1])/C(=O)1)'\n",
      "[23:32:49] SMILES Parse Error: syntax error while parsing: C1([R4])(=C([R3])C(=O)C(/[R3])=C([R1])/C(=O)1)\n",
      "[23:32:49] SMILES Parse Error: Failed parsing SMILES 'C1([R4])(=C([R3])C(=O)C(/[R3])=C([R1])/C(=O)1)' for input: '[23:32:49] C1([R4])(=C([R3])C(=O)C(/[R3])=C([R1])/C(=O)1)'SMILES Parse Error: \n",
      "syntax error while parsing: C1([R4])(=C([R3])C(=O)C(/[R3])=C([R1])/C(=O)1)\n",
      "[23:32:49] SMILES Parse Error: Failed parsing SMILES 'C1([R4])(=C([R3])C(=O)C(/[R3])=C([R1])/C(=O)1)' for input: 'C1([R4])(=C([R3])C(=O)C(/[R3])=C([R1])/C(=O)1)'\n",
      "[23:32:49] SMILES Parse Error: syntax error while parsing: C1([R4])(=C([R3])C(=O)C(/[R3])=C([R1])/C(=O)1)\n",
      "[23:32:49] SMILES Parse Error: syntax error while parsing: C1([R4])(=C([R3])C(=O)C(/[R3])=C([R1])/C(=O)1)\n",
      "[23:32:49] SMILES Parse Error: Failed parsing SMILES 'C1([R4])(=C([R3])C(=O)C(/[R3])=C([R1])/C(=O)1)' for input: 'C1([R4])(=C([R3])C(=O)C(/[R3])=C([R1])/C(=O)1)'\n",
      "[23:32:49] SMILES Parse Error: syntax error while parsing: C1([R4])(=C([R3])C(=O)C(/[R3])=C([R1])/C(=O)1)\n",
      "[23:32:49] SMILES Parse Error: Failed parsing SMILES 'C1([R4])(=C([R3])C(=O)C(/[R3])=C([R1])/C(=O)1)' for input: 'C1([R4])(=C([R3])C(=O)C(/[R3])=C([R1])/C(=O)1)'\n",
      "[23:32:49] SMILES Parse Error: Failed parsing SMILES 'C1([R4])(=C([R3])C(=O)C(/[R3])=C([R1])/C(=O)1)' for input: 'C1([R4])(=C([R3])C(=O)C(/[R3])=C([R1])/C(=O)1)'\n",
      "[23:32:49] SMILES Parse Error: syntax error while parsing: C1([R4])(=C([R3])C(=O)C(/[R3])=C([R1])/C(=O)1)\n",
      "[23:32:49] SMILES Parse Error: Failed parsing SMILES 'C1([R4])(=C([R3])C(=O)C(/[R3])=C([R1])/C(=O)1)' for input: 'C1([R4])(=C([R3])C(=O)C(/[R3])=C([R1])/C(=O)1)'\n"
     ]
    },
    {
     "name": "stdout",
     "output_type": "stream",
     "text": [
      "Python argument types in\n",
      "    FingeprintGenerator64.GetFingerprintAsNumPy(FingeprintGenerator64, NoneType)\n",
      "did not match C++ signature:\n",
      "    GetFingerprintAsNumPy(RDKit::FingerprintGenerator<unsigned long> const* self, RDKit::ROMol mol, boost::python::api::object fromAtoms=[], boost::python::api::object ignoreAtoms=[], int confId=-1, boost::python::api::object customAtomInvariants=[], boost::python::api::object customBondInvariants=[], boost::python::api::object additionalOutput=None)\n"
     ]
    },
    {
     "name": "stderr",
     "output_type": "stream",
     "text": [
      "[23:32:53] WARNING: not removing hydrogen atom without neighbors\n",
      "[23:32:53] SMILES Parse Error: syntax error while parsing: C1([R4])(=C([R3])C(=O)C(/[R3])=C([R1])/C(=O)1)\n",
      "[23:32:53] SMILES Parse Error: Failed parsing SMILES 'C1([R4])(=C([R3])C(=O)C(/[R3])=C([R1])/C(=O)1)' for input: 'C1([R4])(=C([R3])C(=O)C(/[R3])=C([R1])/C(=O)1)'\n",
      " 99%|██████████████████████████████████████████████████████████████████████████████████████████████████████████████████████▊ | 3503/3538 [11:13<00:25,  1.39it/s]"
     ]
    },
    {
     "name": "stdout",
     "output_type": "stream",
     "text": [
      "Python argument types in\n",
      "    FingeprintGenerator64.GetFingerprintAsNumPy(FingeprintGenerator64, NoneType)\n",
      "did not match C++ signature:\n",
      "    GetFingerprintAsNumPy(RDKit::FingerprintGenerator<unsigned long> const* self, RDKit::ROMol mol, boost::python::api::object fromAtoms=[], boost::python::api::object ignoreAtoms=[], int confId=-1, boost::python::api::object customAtomInvariants=[], boost::python::api::object customBondInvariants=[], boost::python::api::object additionalOutput=None)\n"
     ]
    },
    {
     "name": "stderr",
     "output_type": "stream",
     "text": [
      "[23:32:57] WARNING: not removing hydrogen atom without neighbors\n",
      " 99%|██████████████████████████████████████████████████████████████████████████████████████████████████████████████████████▊ | 3504/3538 [11:16<00:29,  1.15it/s][23:33:00] WARNING: not removing hydrogen atom without neighbors\n",
      " 99%|██████████████████████████████████████████████████████████████████████████████████████████████████████████████████████▉ | 3507/3538 [11:19<00:28,  1.09it/s][23:33:00] WARNING: not removing hydrogen atom without neighbors\n",
      "[23:33:00] WARNING: not removing hydrogen atom without neighbors\n",
      "[23:33:00] WARNING: not removing hydrogen atom without neighbors\n",
      "[23:33:00] WARNING: not removing hydrogen atom without neighbors\n",
      "[23:33:00] WARNING: not removing hydrogen atom without neighbors\n",
      " 99%|███████████████████████████████████████████████████████████████████████████████████████████████████████████████████████▏| 3515/3538 [11:19<00:11,  2.07it/s][23:33:00] WARNING: not removing hydrogen atom without neighbors\n",
      "[23:33:00] WARNING: not removing hydrogen atom without neighbors\n",
      "[23:33:00] WARNING: not removing hydrogen atom without neighbors\n",
      "[23:33:00] WARNING: not removing hydrogen atom without neighbors\n",
      "[23:33:00] WARNING: not removing hydrogen atom without neighbors\n",
      "100%|███████████████████████████████████████████████████████████████████████████████████████████████████████████████████████▍| 3522/3538 [11:19<00:04,  3.26it/s]"
     ]
    },
    {
     "name": "stdout",
     "output_type": "stream",
     "text": [
      "need at least one array to concatenate\n",
      "need at least one array to concatenate\n"
     ]
    },
    {
     "name": "stderr",
     "output_type": "stream",
     "text": [
      "[23:33:00] WARNING: not removing hydrogen atom without neighbors\n",
      "[23:33:01] WARNING: not removing hydrogen atom without neighbors\n",
      "[23:33:01] WARNING: not removing hydrogen atom without neighbors\n",
      "[23:33:01] WARNING: not removing hydrogen atom without neighbors\n",
      "100%|███████████████████████████████████████████████████████████████████████████████████████████████████████████████████████▋| 3529/3538 [11:19<00:01,  4.86it/s][23:33:01] WARNING: not removing hydrogen atom without neighbors\n",
      "[23:33:01] WARNING: not removing hydrogen atom without neighbors\n",
      "[23:33:01] WARNING: not removing hydrogen atom without neighbors\n",
      "[23:33:01] WARNING: not removing hydrogen atom without neighbors\n",
      "[23:33:01] WARNING: not removing hydrogen atom without neighbors\n",
      "100%|███████████████████████████████████████████████████████████████████████████████████████████████████████████████████████▊| 3534/3538 [11:19<00:00,  6.37it/s][23:33:01] WARNING: not removing hydrogen atom without neighbors\n",
      "[23:33:01] SMILES Parse Error: syntax error while parsing: C[C@@H](C(SCCNC(=O)CCNC([C@H](O)C(C)(C)COP(=O)([O-])OC[C@H](N[a\n",
      "[23:33:01] SMILES Parse Error: Failed parsing SMILES 'C[C@@H](C(SCCNC(=O)CCNC([C@H](O)C(C)(C)COP(=O)([O-])OC[C@H](N[a' for input: 'C[C@@H](C(SCCNC(=O)CCNC([C@H](O)C(C)(C)COP(=O)([O-])OC[C@H](N[a'\n",
      "[23:33:01] WARNING: not removing hydrogen atom without neighbors\n",
      "[23:33:01] SMILES Parse Error: syntax error while parsing: C([R])C(=O)N[C@H](C(N[C@@H]([C@@H](O)C[C@H](O)[C@H]([NH3+])[C@H](O)[C@@H](O)C(=O)N[C@H](C(=O)N)CNC(N)=O)CO)=O)CC(=O)N\n",
      "[23:33:01] SMILES Parse Error: Failed parsing SMILES 'C([R])C(=O)N[C@H](C(N[C@@H]([C@@H](O)C[C@H](O)[C@H]([NH3+])[C@H](O)[C@@H](O)C(=O)N[C@H](C(=O)N)CNC(N)=O)CO)=O)CC(=O)N' for input: 'C([R])C(=O)N[C@H](C(N[C@@H]([C@@H](O)C[C@H](O)[C@H]([NH3+])[C@H](O)[C@@H](O)C(=O)N[C@H](C(=O)N)CNC(N)=O)CO)=O)CC(=O)N'\n"
     ]
    },
    {
     "name": "stdout",
     "output_type": "stream",
     "text": [
      "Python argument types in\n",
      "    FingeprintGenerator64.GetFingerprintAsNumPy(FingeprintGenerator64, NoneType)\n",
      "did not match C++ signature:\n",
      "    GetFingerprintAsNumPy(RDKit::FingerprintGenerator<unsigned long> const* self, RDKit::ROMol mol, boost::python::api::object fromAtoms=[], boost::python::api::object ignoreAtoms=[], int confId=-1, boost::python::api::object customAtomInvariants=[], boost::python::api::object customBondInvariants=[], boost::python::api::object additionalOutput=None)\n"
     ]
    },
    {
     "name": "stderr",
     "output_type": "stream",
     "text": [
      "[23:33:05] WARNING: not removing hydrogen atom without neighbors\n",
      "100%|████████████████████████████████████████████████████████████████████████████████████████████████████████████████████████| 3538/3538 [11:26<00:00,  5.15it/s]\n"
     ]
    }
   ],
   "source": [
    "cached_base_embeddings = {}\n",
    "\n",
    "for pwy in tqdm.tqdm(pathways_df.index):\n",
    "    graph = make_pathway_graph(pwy)\n",
    "    if graph is None:\n",
    "        continue\n",
    "    adj_matrix, reactions, compounds = graph\n",
    "    embedding = embed_graph(compounds)\n",
    "    cached_base_embeddings[pwy] = torch.tensor(embedding.astype(np.float32))"
   ]
  },
  {
   "cell_type": "code",
   "execution_count": 8,
   "id": "53734b564be9a3c1",
   "metadata": {
    "ExecuteTime": {
     "end_time": "2024-05-12T15:49:57.487582Z",
     "start_time": "2024-05-12T15:49:57.470881Z"
    }
   },
   "outputs": [],
   "source": [
    "class SimplePathwayEncoder(torch.nn.Module):\n",
    "    def __init__(self, embedding_dim=128):\n",
    "        super(SimplePathwayEncoder, self).__init__()\n",
    "        self.fc1 = torch.nn.Linear(2048, embedding_dim)\n",
    "        #self.fc2 = torch.nn.Linear(512, embedding_dim)\n",
    "        #self.act = torch.nn.SiLU()\n",
    "            \n",
    "    def forward(self, pathways):\n",
    "        embeddings = []\n",
    "        for p in pathways:\n",
    "            if p in cached_base_embeddings:\n",
    "                embeddings.append(cached_base_embeddings[p])\n",
    "                continue\n",
    "            graph = make_pathway_graph(p)\n",
    "            adj_matrix, reactions, compounds = graph\n",
    "            embedding = embed_graph(compounds)\n",
    "            embeddings.append(torch.tensor(embedding.astype(np.float32)))\n",
    "        x = torch.stack(embeddings)\n",
    "        x = self.fc1(x)\n",
    "        #x = self.act(x)\n",
    "        #x = self.fc2(x)\n",
    "        return x"
   ]
  },
  {
   "cell_type": "code",
   "execution_count": 23,
   "id": "cf046927-717c-4d37-b3eb-355f8f74737f",
   "metadata": {},
   "outputs": [],
   "source": [
    "def save_organism_embeddings_to_csv(embedding, species_list, file_path):\n",
    "    embeddings_array = embedding.weight.detach().numpy()\n",
    "    embeddings_df = pd.DataFrame(embeddings_array, index=species_list).T\n",
    "    embeddings_df.to_csv(file_path, index=False)"
   ]
  },
  {
   "cell_type": "code",
   "execution_count": null,
   "id": "3e1b55182b50949",
   "metadata": {
    "ExecuteTime": {
     "end_time": "2024-05-12T17:52:23.884302Z",
     "start_time": "2024-05-12T16:36:58.903640Z"
    }
   },
   "outputs": [
    {
     "data": {
      "text/html": [
       "Finishing last run (ID:1xu0thj4) before initializing another..."
      ],
      "text/plain": [
       "<IPython.core.display.HTML object>"
      ]
     },
     "metadata": {},
     "output_type": "display_data"
    },
    {
     "name": "stderr",
     "output_type": "stream",
     "text": [
      "wandb: WARNING Source type is set to 'repo' but some required information is missing from the environment. A job will not be created from this run. See https://docs.wandb.ai/guides/launch/create-job\n"
     ]
    },
    {
     "data": {
      "application/vnd.jupyter.widget-view+json": {
       "model_id": "",
       "version_major": 2,
       "version_minor": 0
      },
      "text/plain": [
       "VBox(children=(Label(value='0.004 MB of 0.004 MB uploaded\\r'), FloatProgress(value=1.0, max=1.0)))"
      ]
     },
     "metadata": {},
     "output_type": "display_data"
    },
    {
     "data": {
      "text/html": [
       "<style>\n",
       "    table.wandb td:nth-child(1) { padding: 0 10px; text-align: left ; width: auto;} td:nth-child(2) {text-align: left ; width: 100%}\n",
       "    .wandb-row { display: flex; flex-direction: row; flex-wrap: wrap; justify-content: flex-start; width: 100% }\n",
       "    .wandb-col { display: flex; flex-direction: column; flex-basis: 100%; flex: 1; padding: 10px; }\n",
       "    </style>\n",
       "<div class=\"wandb-row\"><div class=\"wandb-col\"><h3>Run history:</h3><br/><table class=\"wandb\"><tr><td>Average Loss</td><td>█▇▄▂▂▂▃▁</td></tr><tr><td>Epoch</td><td>▁▂▃▄▅▆▇█</td></tr></table><br/></div><div class=\"wandb-col\"><h3>Run summary:</h3><br/><table class=\"wandb\"><tr><td>Average Loss</td><td>2.43395</td></tr><tr><td>Epoch</td><td>8</td></tr></table><br/></div></div>"
      ],
      "text/plain": [
       "<IPython.core.display.HTML object>"
      ]
     },
     "metadata": {},
     "output_type": "display_data"
    },
    {
     "data": {
      "text/html": [
       " View run <strong style=\"color:#cdcd00\">easy-blaze-15</strong> at: <a href='https://wandb.ai/woj-jasinski/Metacyc/runs/1xu0thj4' target=\"_blank\">https://wandb.ai/woj-jasinski/Metacyc/runs/1xu0thj4</a><br/>Synced 6 W&B file(s), 0 media file(s), 0 artifact file(s) and 0 other file(s)"
      ],
      "text/plain": [
       "<IPython.core.display.HTML object>"
      ]
     },
     "metadata": {},
     "output_type": "display_data"
    },
    {
     "data": {
      "text/html": [
       "Find logs at: <code>./wandb/run-20240609_235257-1xu0thj4/logs</code>"
      ],
      "text/plain": [
       "<IPython.core.display.HTML object>"
      ]
     },
     "metadata": {},
     "output_type": "display_data"
    },
    {
     "data": {
      "text/html": [
       "Successfully finished last run (ID:1xu0thj4). Initializing new run:<br/>"
      ],
      "text/plain": [
       "<IPython.core.display.HTML object>"
      ]
     },
     "metadata": {},
     "output_type": "display_data"
    },
    {
     "data": {
      "application/vnd.jupyter.widget-view+json": {
       "model_id": "cb387492d8a9471b94eef533c7871cf2",
       "version_major": 2,
       "version_minor": 0
      },
      "text/plain": [
       "VBox(children=(Label(value='Waiting for wandb.init()...\\r'), FloatProgress(value=0.011112977978256014, max=1.0…"
      ]
     },
     "metadata": {},
     "output_type": "display_data"
    },
    {
     "data": {
      "text/html": [
       "wandb version 0.17.1 is available!  To upgrade, please run:\n",
       " $ pip install wandb --upgrade"
      ],
      "text/plain": [
       "<IPython.core.display.HTML object>"
      ]
     },
     "metadata": {},
     "output_type": "display_data"
    },
    {
     "data": {
      "text/html": [
       "Tracking run with wandb version 0.16.1"
      ],
      "text/plain": [
       "<IPython.core.display.HTML object>"
      ]
     },
     "metadata": {},
     "output_type": "display_data"
    },
    {
     "data": {
      "text/html": [
       "Run data is saved locally in <code>/root/wojtek/random/meta/agh-data-exploration-project/projekt/wandb/run-20240609_235335-bertbudr</code>"
      ],
      "text/plain": [
       "<IPython.core.display.HTML object>"
      ]
     },
     "metadata": {},
     "output_type": "display_data"
    },
    {
     "data": {
      "text/html": [
       "Syncing run <strong><a href='https://wandb.ai/woj-jasinski/Metacyc/runs/bertbudr' target=\"_blank\">iconic-glade-16</a></strong> to <a href='https://wandb.ai/woj-jasinski/Metacyc' target=\"_blank\">Weights & Biases</a> (<a href='https://wandb.me/run' target=\"_blank\">docs</a>)<br/>"
      ],
      "text/plain": [
       "<IPython.core.display.HTML object>"
      ]
     },
     "metadata": {},
     "output_type": "display_data"
    },
    {
     "data": {
      "text/html": [
       " View project at <a href='https://wandb.ai/woj-jasinski/Metacyc' target=\"_blank\">https://wandb.ai/woj-jasinski/Metacyc</a>"
      ],
      "text/plain": [
       "<IPython.core.display.HTML object>"
      ]
     },
     "metadata": {},
     "output_type": "display_data"
    },
    {
     "data": {
      "text/html": [
       " View run at <a href='https://wandb.ai/woj-jasinski/Metacyc/runs/bertbudr' target=\"_blank\">https://wandb.ai/woj-jasinski/Metacyc/runs/bertbudr</a>"
      ],
      "text/plain": [
       "<IPython.core.display.HTML object>"
      ]
     },
     "metadata": {},
     "output_type": "display_data"
    },
    {
     "name": "stderr",
     "output_type": "stream",
     "text": [
      " 11%|████████████▊                                                                                                        | 2199/20000 [58:35<7:48:57,  1.58s/it]"
     ]
    }
   ],
   "source": [
    "wandb.init(project='Metacyc', config={\n",
    "    \"learning_rate\": 0.001,\n",
    "    \"epochs\": 20000,\n",
    "    \"batch_size\": 32,\n",
    "    \"embedding_dim\": 256\n",
    "})\n",
    "\n",
    "config = wandb.config\n",
    "\n",
    "dataset = SimpleTripletDataset()\n",
    "dataloader = DataLoader(dataset, batch_size=config.batch_size, shuffle=True)\n",
    "species_list = list(species.keys())\n",
    "\n",
    "organism_embedding = torch.nn.Embedding(len(species_list), config.embedding_dim)\n",
    "pathway_encoder = SimplePathwayEncoder(config.embedding_dim)\n",
    "optimizer = torch.optim.Adam(\n",
    "    list(organism_embedding.parameters()) + list(pathway_encoder.parameters()), \n",
    "    lr=config.learning_rate\n",
    ")\n",
    "\n",
    "criterion = torch.nn.TripletMarginLoss(margin=1.0, p=2)\n",
    "\n",
    "\n",
    "for epoch in tqdm.tqdm(range(config.epochs)):\n",
    "    total_loss = 0\n",
    "    num_batches = 0\n",
    "    #print(f\"Epoch {epoch+1}\")\n",
    "\n",
    "    for organisms, pos_pathways, neg_pathways in dataloader:\n",
    "        optimizer.zero_grad()\n",
    "\n",
    "        organism_idx = torch.tensor([species_list.index(o) for o in organisms])\n",
    "        org_vectors = organism_embedding(organism_idx)\n",
    "        \n",
    "        pos_path_vectors = pathway_encoder(pos_pathways)\n",
    "        neg_path_vectors = pathway_encoder(neg_pathways)\n",
    "        \n",
    "        loss = criterion(org_vectors, pos_path_vectors, neg_path_vectors)\n",
    "        loss.backward()\n",
    "        optimizer.step()\n",
    "\n",
    "        total_loss += loss.item()\n",
    "        num_batches += 1\n",
    "\n",
    "        # Optionally log batch-level metrics\n",
    "        #wandb.log({\"Batch Loss\": loss.item()})\n",
    "\n",
    "    average_loss = total_loss / num_batches\n",
    "    #print(f\"Average Loss for Epoch {epoch+1}: {average_loss:.4f}\")\n",
    "\n",
    "    if epoch % 1000 == 0:\n",
    "        save_organism_embeddings_to_csv(\n",
    "            organism_embedding,\n",
    "            species_list,\n",
    "            f\"contrastive_embeddings_{epoch}.csv\"\n",
    "        )\n",
    "        # Log epoch-level metrics\n",
    "    wandb.log({\"Epoch\": epoch + 1, \"Average Loss\": average_loss})\n",
    "\n",
    "wandb.finish()"
   ]
  },
  {
   "cell_type": "code",
   "execution_count": null,
   "id": "a71c1515-b9e1-433c-9d17-6af4b07938ce",
   "metadata": {},
   "outputs": [],
   "source": []
  }
 ],
 "metadata": {
  "kernelspec": {
   "display_name": "Python 3 (ipykernel)",
   "language": "python",
   "name": "python3"
  },
  "language_info": {
   "codemirror_mode": {
    "name": "ipython",
    "version": 3
   },
   "file_extension": ".py",
   "mimetype": "text/x-python",
   "name": "python",
   "nbconvert_exporter": "python",
   "pygments_lexer": "ipython3",
   "version": "3.10.13"
  }
 },
 "nbformat": 4,
 "nbformat_minor": 5
}
