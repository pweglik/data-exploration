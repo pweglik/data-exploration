{
 "cells": [
  {
   "metadata": {
    "ExecuteTime": {
     "end_time": "2024-05-13T12:13:50.485121Z",
     "start_time": "2024-05-13T12:11:23.325696Z"
    }
   },
   "cell_type": "code",
   "source": [
    "from ete3 import NCBITaxa\n",
    "\n",
    "ncbi = NCBITaxa()\n",
    "\n",
    "# Fetching tree for Corynebacterium glutamicum\n",
    "tree = ncbi.get_lineage(1718)\n",
    "names = ncbi.get_taxid_translator(tree)\n",
    "for taxid in tree:\n",
    "    print(f\"{taxid} {names[taxid]}\")\n"
   ],
   "id": "dce648cd637d37d4",
   "outputs": [
    {
     "name": "stderr",
     "output_type": "stream",
     "text": [
      "NCBI database not present yet (first time used?)\n",
      "Downloading taxdump.tar.gz from NCBI FTP site (via HTTP)...\n",
      "Done. Parsing...\n"
     ]
    },
    {
     "name": "stdout",
     "output_type": "stream",
     "text": [
      "Loading node names...\n",
      "2583665 names loaded.\n",
      "328405 synonyms loaded.\n",
      "Loading nodes...\n",
      "2583665 nodes loaded.\n",
      "Linking nodes...\n",
      "Tree is loaded.\n",
      "Updating database: /Users/woj/.etetoolkit/taxa.sqlite ...\n",
      " 2583000 generating entries... "
     ]
    },
    {
     "name": "stderr",
     "output_type": "stream",
     "text": [
      "Inserting synonyms:      30000 "
     ]
    },
    {
     "name": "stdout",
     "output_type": "stream",
     "text": [
      "\n",
      "Uploading to /Users/woj/.etetoolkit/taxa.sqlite\n",
      "\n"
     ]
    },
    {
     "name": "stderr",
     "output_type": "stream",
     "text": [
      "Inserting taxids:       30000    "
     ]
    },
    {
     "name": "stdout",
     "output_type": "stream",
     "text": [
      "\n",
      "\n"
     ]
    },
    {
     "name": "stderr",
     "output_type": "stream",
     "text": [
      "Inserting taxids:       2580000    "
     ]
    },
    {
     "name": "stdout",
     "output_type": "stream",
     "text": [
      "\n",
      "1 root\n",
      "131567 cellular organisms\n",
      "2 Bacteria\n",
      "1783272 Terrabacteria group\n",
      "201174 Actinomycetota\n",
      "1760 Actinomycetes\n",
      "85007 Mycobacteriales\n",
      "1653 Corynebacteriaceae\n",
      "1716 Corynebacterium\n",
      "1718 Corynebacterium glutamicum\n"
     ]
    }
   ],
   "execution_count": 1
  },
  {
   "metadata": {},
   "cell_type": "code",
   "outputs": [],
   "execution_count": null,
   "source": "",
   "id": "88d4383fa773753a"
  }
 ],
 "metadata": {
  "kernelspec": {
   "display_name": "Python 3",
   "language": "python",
   "name": "python3"
  },
  "language_info": {
   "codemirror_mode": {
    "name": "ipython",
    "version": 2
   },
   "file_extension": ".py",
   "mimetype": "text/x-python",
   "name": "python",
   "nbconvert_exporter": "python",
   "pygments_lexer": "ipython2",
   "version": "2.7.6"
  }
 },
 "nbformat": 4,
 "nbformat_minor": 5
}
