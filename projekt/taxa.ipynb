{
 "cells": [
  {
   "cell_type": "code",
   "execution_count": 2,
   "id": "c1547e23-78a3-4e05-b7d1-515de04a3bb8",
   "metadata": {},
   "outputs": [],
   "source": [
    "import pandas as pd"
   ]
  },
  {
   "cell_type": "code",
   "execution_count": 9,
   "id": "e8bcf3c9-20d1-4778-b1e3-69d71b754131",
   "metadata": {},
   "outputs": [],
   "source": [
    "df = pd.read_csv(\"contrastive_embeddings_5000.csv\")\n",
    "orgs = pd.read_csv(\"org_subset.csv\")\n",
    "df = df[orgs.metacyc_id]\n",
    "df.to_csv(\"contrastive_embeddings.csv\", index=False)"
   ]
  },
  {
   "cell_type": "code",
   "execution_count": null,
   "id": "e01ba497-6cbf-4376-bb1d-faed747c4585",
   "metadata": {},
   "outputs": [],
   "source": []
  }
 ],
 "metadata": {
  "kernelspec": {
   "display_name": "Python 3 (ipykernel)",
   "language": "python",
   "name": "python3"
  },
  "language_info": {
   "codemirror_mode": {
    "name": "ipython",
    "version": 3
   },
   "file_extension": ".py",
   "mimetype": "text/x-python",
   "name": "python",
   "nbconvert_exporter": "python",
   "pygments_lexer": "ipython3",
   "version": "3.10.13"
  }
 },
 "nbformat": 4,
 "nbformat_minor": 5
}
