{
 "cells": [
  {
   "cell_type": "markdown",
   "metadata": {},
   "source": [
    "## EDA New York Times"
   ]
  },
  {
   "cell_type": "code",
   "execution_count": 50,
   "metadata": {},
   "outputs": [
    {
     "data": {
      "text/plain": [
       "(102, 4424)"
      ]
     },
     "execution_count": 50,
     "metadata": {},
     "output_type": "execute_result"
    }
   ],
   "source": [
    "import pandas as pd\n",
    "df = pd.read_csv('./nyt-frame.csv', header = 0)\n",
    "data = df.iloc[:,9:]\n",
    "array = data.values\n",
    "array.shape"
   ]
  },
  {
   "cell_type": "code",
   "execution_count": 51,
   "metadata": {},
   "outputs": [
    {
     "data": {
      "text/html": [
       "<div>\n",
       "<style scoped>\n",
       "    .dataframe tbody tr th:only-of-type {\n",
       "        vertical-align: middle;\n",
       "    }\n",
       "\n",
       "    .dataframe tbody tr th {\n",
       "        vertical-align: top;\n",
       "    }\n",
       "\n",
       "    .dataframe thead th {\n",
       "        text-align: right;\n",
       "    }\n",
       "</style>\n",
       "<table border=\"1\" class=\"dataframe\">\n",
       "  <thead>\n",
       "    <tr style=\"text-align: right;\">\n",
       "      <th></th>\n",
       "      <th>Unnamed: 0</th>\n",
       "      <th>class.labels</th>\n",
       "      <th>X.</th>\n",
       "      <th>X.d</th>\n",
       "      <th>X.nd</th>\n",
       "      <th>X.s</th>\n",
       "      <th>X.th</th>\n",
       "      <th>X.this</th>\n",
       "      <th>a</th>\n",
       "      <th>abandoned</th>\n",
       "      <th>...</th>\n",
       "      <th>yorkers</th>\n",
       "      <th>yorks</th>\n",
       "      <th>you</th>\n",
       "      <th>young</th>\n",
       "      <th>younger</th>\n",
       "      <th>your</th>\n",
       "      <th>youre</th>\n",
       "      <th>youth</th>\n",
       "      <th>youthful</th>\n",
       "      <th>yu</th>\n",
       "    </tr>\n",
       "  </thead>\n",
       "  <tbody>\n",
       "    <tr>\n",
       "      <th>0</th>\n",
       "      <td>1</td>\n",
       "      <td>art</td>\n",
       "      <td>0.008707</td>\n",
       "      <td>0.0</td>\n",
       "      <td>0.0</td>\n",
       "      <td>0.0</td>\n",
       "      <td>0.009251</td>\n",
       "      <td>0.0</td>\n",
       "      <td>0.007564</td>\n",
       "      <td>0.0</td>\n",
       "      <td>...</td>\n",
       "      <td>0.0</td>\n",
       "      <td>0.0</td>\n",
       "      <td>0.0</td>\n",
       "      <td>0.0</td>\n",
       "      <td>0.0</td>\n",
       "      <td>0.0</td>\n",
       "      <td>0.0</td>\n",
       "      <td>0.0</td>\n",
       "      <td>0.0</td>\n",
       "      <td>0.0</td>\n",
       "    </tr>\n",
       "    <tr>\n",
       "      <th>1</th>\n",
       "      <td>2</td>\n",
       "      <td>art</td>\n",
       "      <td>0.005848</td>\n",
       "      <td>0.0</td>\n",
       "      <td>0.0</td>\n",
       "      <td>0.0</td>\n",
       "      <td>0.000000</td>\n",
       "      <td>0.0</td>\n",
       "      <td>0.001418</td>\n",
       "      <td>0.0</td>\n",
       "      <td>...</td>\n",
       "      <td>0.0</td>\n",
       "      <td>0.0</td>\n",
       "      <td>0.0</td>\n",
       "      <td>0.0</td>\n",
       "      <td>0.0</td>\n",
       "      <td>0.0</td>\n",
       "      <td>0.0</td>\n",
       "      <td>0.0</td>\n",
       "      <td>0.0</td>\n",
       "      <td>0.0</td>\n",
       "    </tr>\n",
       "  </tbody>\n",
       "</table>\n",
       "<p>2 rows × 4433 columns</p>\n",
       "</div>"
      ],
      "text/plain": [
       "   Unnamed: 0 class.labels        X.  X.d  X.nd  X.s      X.th  X.this  \\\n",
       "0           1          art  0.008707  0.0   0.0  0.0  0.009251     0.0   \n",
       "1           2          art  0.005848  0.0   0.0  0.0  0.000000     0.0   \n",
       "\n",
       "          a  abandoned  ...  yorkers  yorks  you  young  younger  your  youre  \\\n",
       "0  0.007564        0.0  ...      0.0    0.0  0.0    0.0      0.0   0.0    0.0   \n",
       "1  0.001418        0.0  ...      0.0    0.0  0.0    0.0      0.0   0.0    0.0   \n",
       "\n",
       "   youth  youthful   yu  \n",
       "0    0.0       0.0  0.0  \n",
       "1    0.0       0.0  0.0  \n",
       "\n",
       "[2 rows x 4433 columns]"
      ]
     },
     "execution_count": 51,
     "metadata": {},
     "output_type": "execute_result"
    }
   ],
   "source": [
    "df.head(2)"
   ]
  },
  {
   "cell_type": "code",
   "execution_count": 52,
   "metadata": {},
   "outputs": [
    {
     "data": {
      "text/plain": [
       "0        art\n",
       "1        art\n",
       "2        art\n",
       "3        art\n",
       "4        art\n",
       "       ...  \n",
       "97     music\n",
       "98     music\n",
       "99     music\n",
       "100    music\n",
       "101    music\n",
       "Name: class.labels, Length: 102, dtype: object"
      ]
     },
     "execution_count": 52,
     "metadata": {},
     "output_type": "execute_result"
    }
   ],
   "source": [
    "labels = df.iloc[:, 1]\n",
    "labels"
   ]
  },
  {
   "cell_type": "code",
   "execution_count": 53,
   "metadata": {},
   "outputs": [
    {
     "name": "stdout",
     "output_type": "stream",
     "text": [
      "['quite' 'choruses' 'ride' 'snakes' 'fragmentation' 'playing' 'succeeded'\n",
      " 'architects' 'need' 'provider' 'destruction' 'orchestras' 'response'\n",
      " 'rude' 'recorded' 'next.' 'complex' 'box' 'interesting' 'diana']\n"
     ]
    }
   ],
   "source": [
    "import numpy as np\n",
    "header = list(df.columns.values[9:])\n",
    "sample_word = np.random.choice(header, 20, replace=False)\n",
    "print(sample_word)"
   ]
  },
  {
   "cell_type": "code",
   "execution_count": 54,
   "metadata": {},
   "outputs": [],
   "source": [
    "from sklearn.decomposition import PCA\n",
    "pca = PCA()\n",
    "X_pca = pca.fit_transform(array)"
   ]
  },
  {
   "cell_type": "code",
   "execution_count": 55,
   "metadata": {},
   "outputs": [
    {
     "data": {
      "text/plain": [
       "(102, 4424)"
      ]
     },
     "execution_count": 55,
     "metadata": {},
     "output_type": "execute_result"
    }
   ],
   "source": [
    "pca.components_.shape"
   ]
  },
  {
   "cell_type": "code",
   "execution_count": 60,
   "metadata": {},
   "outputs": [
    {
     "data": {
      "text/plain": [
       "[('she', 0.2612739189053151),\n",
       " ('her', 0.24529311441720594),\n",
       " ('ms', 0.20211292705699688),\n",
       " ('i', 0.15028278883843335),\n",
       " ('said', 0.1336055676362531),\n",
       " ('mother', 0.10687219119361728),\n",
       " ('cooper', 0.1030093920502289),\n",
       " ('my', 0.0943252121195823),\n",
       " ('painting', 0.08788709841748941),\n",
       " ('process', 0.07119630147343918),\n",
       " ('paintings', 0.06988483529500196),\n",
       " ('im', 0.06857385461154218),\n",
       " ('mrs', 0.06562096808145743),\n",
       " ('he', 0.06531001248089248),\n",
       " ('me', 0.06379278250161463)]"
      ]
     },
     "execution_count": 60,
     "metadata": {},
     "output_type": "execute_result"
    }
   ],
   "source": [
    "word_with_first_component = zip(header, pca.components_[0])\n",
    "word_with_first_component = sorted(word_with_first_component, key=lambda x: x[1], reverse=True)\n",
    "\n",
    "word_with_first_component[:15]"
   ]
  },
  {
   "cell_type": "code",
   "execution_count": 61,
   "metadata": {},
   "outputs": [
    {
     "data": {
      "text/plain": [
       "[('symphony', -0.044930776254680505),\n",
       " ('jersey', -0.04603235412282297),\n",
       " ('y', -0.047911748359542726),\n",
       " ('east', -0.047940868937490964),\n",
       " ('festival', -0.04812333139017824),\n",
       " ('players', -0.04881882614499726),\n",
       " ('program', -0.049001383290293736),\n",
       " ('m', -0.0490254522708059),\n",
       " ('theaters', -0.051177961569890386),\n",
       " ('opera', -0.05555364096730111),\n",
       " ('composers', -0.05859060967058648),\n",
       " ('orchestra', -0.06926899826753334),\n",
       " ('theater', -0.07404600988801406),\n",
       " ('trio', -0.08780731643381659),\n",
       " ('music', -0.11211617341838426)]"
      ]
     },
     "execution_count": 61,
     "metadata": {},
     "output_type": "execute_result"
    }
   ],
   "source": [
    "word_with_first_component[-15:]"
   ]
  },
  {
   "cell_type": "code",
   "execution_count": 62,
   "metadata": {},
   "outputs": [
    {
     "data": {
      "text/plain": [
       "[('her', 0.22078475821587362),\n",
       " ('she', 0.21307376342525308),\n",
       " ('theater', 0.16239059851001328),\n",
       " ('opera', 0.12992637535456897),\n",
       " ('ms', 0.12447032686713282),\n",
       " ('i', 0.08120155281056664),\n",
       " ('hour', 0.0807586538130769),\n",
       " ('sang', 0.07465343667556083),\n",
       " ('production', 0.07415772534187763),\n",
       " ('festival', 0.07300940791699406),\n",
       " ('music', 0.07234461523901513),\n",
       " ('musical', 0.0707081787303945),\n",
       " ('songs', 0.06923167953630319),\n",
       " ('orchestra', 0.06760285785600785),\n",
       " ('vocal', 0.06758794058200336)]"
      ]
     },
     "execution_count": 62,
     "metadata": {},
     "output_type": "execute_result"
    }
   ],
   "source": [
    "word_with_second_component = zip(header, pca.components_[1])\n",
    "word_with_second_component = sorted(word_with_second_component, key=lambda x: x[1], reverse=True)\n",
    "\n",
    "word_with_second_component[:15]"
   ]
  },
  {
   "cell_type": "code",
   "execution_count": 63,
   "metadata": {},
   "outputs": [
    {
     "data": {
      "text/plain": [
       "[('service', -0.04666421975711614),\n",
       " ('white', -0.04966737533217018),\n",
       " ('painted', -0.05013831346292888),\n",
       " ('sculptures', -0.05147913929381105),\n",
       " ('gallery', -0.0551592888306786),\n",
       " ('sculpture', -0.06035313871840532),\n",
       " ('paintings', -0.06564345120814782),\n",
       " ('tax', -0.07226860058901599),\n",
       " ('painting', -0.07401963974238186),\n",
       " ('museums', -0.07539497668344274),\n",
       " ('donations', -0.07765780277980347),\n",
       " ('artists', -0.09263497758879531),\n",
       " ('images', -0.09522680440744577),\n",
       " ('museum', -0.12089946277617654),\n",
       " ('art', -0.15431673143840383)]"
      ]
     },
     "execution_count": 63,
     "metadata": {},
     "output_type": "execute_result"
    }
   ],
   "source": [
    "word_with_second_component[-15:]\n"
   ]
  },
  {
   "cell_type": "markdown",
   "metadata": {},
   "source": [
    "COMMENT:\n",
    "Pierwszy komponent zdaje się nie nieść dużo informacji o tematyce artykuł\n",
    "Ewidentnie widzimy, że dla drugiego komponentu pozytywnie skorelowane są z nim słowa związane z muzyką, a negatywnie słowa związane ze sztuką."
   ]
  },
  {
   "cell_type": "code",
   "execution_count": 67,
   "metadata": {},
   "outputs": [],
   "source": [
    "reds = labels == 'art'\n",
    "blues = labels == 'music'"
   ]
  },
  {
   "cell_type": "code",
   "execution_count": 68,
   "metadata": {},
   "outputs": [
    {
     "data": {
      "image/png": "[encoded data removed]",
      "text/plain": [
       "<Figure size 640x480 with 1 Axes>"
      ]
     },
     "metadata": {},
     "output_type": "display_data"
    }
   ],
   "source": [
    "import matplotlib.pyplot as plt\n",
    "plt.figure()\n",
    "plt.scatter(X_pca[np.array(reds), 0], X_pca[np.array(reds), 1], c=\"red\")\n",
    "plt.scatter(X_pca[np.array(blues), 0], X_pca[np.array(blues), 1], c=\"blue\")\n",
    "plt.title(\"Projection by PCA\")\n",
    "plt.xlabel(\"1st component\")\n",
    "plt.ylabel(\"2nd component\")\n",
    "plt.show()"
   ]
  },
  {
   "cell_type": "code",
   "execution_count": 72,
   "metadata": {},
   "outputs": [
    {
     "data": {
      "image/png": "[encoded data removed]",
      "text/plain": [
       "<Figure size 640x480 with 1 Axes>"
      ]
     },
     "metadata": {},
     "output_type": "display_data"
    },
    {
     "name": "stdout",
     "output_type": "stream",
     "text": [
      "0.1577347802900349\n"
     ]
    }
   ],
   "source": [
    "variance_ratio = pca.explained_variance_ratio_\n",
    "plt.plot(variance_ratio, 'ro')\n",
    "plt.show()\n",
    "print(sum(variance_ratio[0:10]))"
   ]
  },
  {
   "cell_type": "markdown",
   "metadata": {},
   "source": [
    "COMMENT:\n",
    "Widzimy, że cechy wyjaśniają mniej więcej tyle samo, PCA nie jest tutaj więc niesamowicie efektywne w np. wyborze cech nieistotnych, moglibyśmy odrzucić zaledwie 1 cechę jako nieistotną. Pierwsze 10 cech wyjaśnia 15% wariancji co oznacza, że jest ona rozłożona po wielu cechach."
   ]
  },
  {
   "cell_type": "markdown",
   "metadata": {},
   "source": [
    "## EDA Cars"
   ]
  },
  {
   "cell_type": "code",
   "execution_count": 75,
   "metadata": {},
   "outputs": [
    {
     "data": {
      "text/plain": [
       "(387, 11)"
      ]
     },
     "execution_count": 75,
     "metadata": {},
     "output_type": "execute_result"
    }
   ],
   "source": [
    "df = pd.read_csv('./04cars-data.csv', header = 0)\n",
    "data = df.iloc[:,-11:]\n",
    "array = data.values\n",
    "array.shape"
   ]
  },
  {
   "cell_type": "code",
   "execution_count": 88,
   "metadata": {},
   "outputs": [
    {
     "data": {
      "text/plain": [
       "Index(['Retail Price', 'Dealer Cost', 'Engine Size (l)', 'Cyl', 'HP',\n",
       "       'City MPG', 'Hwy MPG', 'Weight', 'Wheel Base', 'Len', 'Width'],\n",
       "      dtype='object')"
      ]
     },
     "execution_count": 88,
     "metadata": {},
     "output_type": "execute_result"
    }
   ],
   "source": [
    "features_names = df.columns[-11:]\n",
    "features_names"
   ]
  },
  {
   "cell_type": "code",
   "execution_count": 80,
   "metadata": {},
   "outputs": [
    {
     "data": {
      "text/plain": [
       "(-4.131062417209885e-17, 1.0)"
      ]
     },
     "execution_count": 80,
     "metadata": {},
     "output_type": "execute_result"
    }
   ],
   "source": [
    "from sklearn.discriminant_analysis import StandardScaler\n",
    "\n",
    "scaler = StandardScaler()\n",
    "normal_array = scaler.fit_transform(array)\n",
    "np.mean(normal_array[:, 0]), np.std(normal_array[:, 0])"
   ]
  },
  {
   "cell_type": "code",
   "execution_count": 81,
   "metadata": {},
   "outputs": [],
   "source": [
    "pca = PCA()\n",
    "X_pca = pca.fit_transform(normal_array)"
   ]
  },
  {
   "cell_type": "code",
   "execution_count": 83,
   "metadata": {},
   "outputs": [
    {
     "data": {
      "image/png": "[encoded data removed]",
      "text/plain": [
       "<Figure size 640x480 with 1 Axes>"
      ]
     },
     "metadata": {},
     "output_type": "display_data"
    }
   ],
   "source": [
    "variance_ratio = pca.explained_variance_ratio_\n",
    "plt.plot(variance_ratio, 'ro')\n",
    "plt.show()"
   ]
  },
  {
   "cell_type": "code",
   "execution_count": 105,
   "metadata": {},
   "outputs": [
    {
     "data": {
      "image/png": "[encoded data removed]",
      "text/plain": [
       "<Figure size 640x480 with 1 Axes>"
      ]
     },
     "metadata": {},
     "output_type": "display_data"
    }
   ],
   "source": [
    "cumsum_variance_ratio = np.cumsum(pca.explained_variance_ratio_)\n",
    "plt.plot(range(1, 12),cumsum_variance_ratio)\n",
    "plt.ylim(0, 1)\n",
    "plt.grid()\n",
    "plt.xticks(range(1, 12))\n",
    "plt.yticks(np.linspace(0, 1, 11))\n",
    "plt.show()"
   ]
  },
  {
   "cell_type": "markdown",
   "metadata": {},
   "source": [
    "COMMENT:\n",
    "Widzimy, że już kilka pierwszych principal components wyjaśnia większość wariancji"
   ]
  },
  {
   "cell_type": "code",
   "execution_count": 84,
   "metadata": {},
   "outputs": [
    {
     "data": {
      "text/plain": [
       "(11, 11)"
      ]
     },
     "execution_count": 84,
     "metadata": {},
     "output_type": "execute_result"
    }
   ],
   "source": [
    "pca.components_.shape"
   ]
  },
  {
   "cell_type": "code",
   "execution_count": 90,
   "metadata": {},
   "outputs": [
    {
     "data": {
      "text/plain": [
       "[('Retail Price', -0.2637504434440343),\n",
       " ('Dealer Cost', -0.2623186387530949),\n",
       " ('Engine Size (l)', -0.3470804920252009),\n",
       " ('Cyl', -0.33418875762863715),\n",
       " ('HP', -0.3186022584840293),\n",
       " ('City MPG', 0.3104817267323128),\n",
       " ('Hwy MPG', 0.30658863858044433),\n",
       " ('Weight', -0.336329366940488),\n",
       " ('Wheel Base', -0.2662100335710544),\n",
       " ('Len', -0.2567901876706823),\n",
       " ('Width', -0.29605459141706114)]"
      ]
     },
     "execution_count": 90,
     "metadata": {},
     "output_type": "execute_result"
    }
   ],
   "source": [
    "first_component = list(zip(features_names, pca.components_[0]))\n",
    "first_component"
   ]
  },
  {
   "cell_type": "code",
   "execution_count": 91,
   "metadata": {},
   "outputs": [
    {
     "data": {
      "text/plain": [
       "[('Retail Price', 0.46850869750253876),\n",
       " ('Dealer Cost', 0.47014658513822577),\n",
       " ('Engine Size (l)', -0.015347186463713367),\n",
       " ('Cyl', 0.07803201087501883),\n",
       " ('HP', 0.29221347613918247),\n",
       " ('City MPG', -0.003365935761659622),\n",
       " ('Hwy MPG', -0.010964460145349025),\n",
       " ('Weight', -0.16746357154787023),\n",
       " ('Wheel Base', -0.4181771069592044),\n",
       " ('Len', -0.4084113806687549),\n",
       " ('Width', -0.31289135016250724)]"
      ]
     },
     "execution_count": 91,
     "metadata": {},
     "output_type": "execute_result"
    }
   ],
   "source": [
    "second_component = list(zip(features_names, pca.components_[1]))\n",
    "second_component"
   ]
  },
  {
   "cell_type": "markdown",
   "metadata": {},
   "source": [
    "W pierwszym komponencie nie widzimy cech bliskich zeru, oznacza to, że jest on jakąś kombinacją wszystkich cech.\n",
    "W drugim komponencie Engine Size jest bliski zeru, co oznacza, że ten komponent nie "
   ]
  },
  {
   "cell_type": "code",
   "execution_count": null,
   "metadata": {},
   "outputs": [],
   "source": []
  },
  {
   "cell_type": "code",
   "execution_count": null,
   "metadata": {},
   "outputs": [],
   "source": []
  },
  {
   "cell_type": "code",
   "execution_count": null,
   "metadata": {},
   "outputs": [],
   "source": []
  }
 ],
 "metadata": {
  "kernelspec": {
   "display_name": "base",
   "language": "python",
   "name": "python3"
  },
  "language_info": {
   "codemirror_mode": {
    "name": "ipython",
    "version": 3
   },
   "file_extension": ".py",
   "mimetype": "text/x-python",
   "name": "python",
   "nbconvert_exporter": "python",
   "pygments_lexer": "ipython3",
   "version": "3.10.9"
  }
 },
 "nbformat": 4,
 "nbformat_minor": 2
}
